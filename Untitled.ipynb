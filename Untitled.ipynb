{
 "cells": [
  {
   "cell_type": "code",
   "execution_count": 1,
   "metadata": {},
   "outputs": [],
   "source": [
    "from sage.manifolds.utilities import ExpressionNice as EN\n",
    "\n",
    "def formal_diff(f, x):\n",
    "    tempX = SR.temp_var()\n",
    "    return f.subs({x: tempX}).diff(tempX).subs({tempX: x})"
   ]
  },
  {
   "cell_type": "code",
   "execution_count": 2,
   "metadata": {},
   "outputs": [
    {
     "data": {
      "text/html": [
       "<html>\\[\\newcommand{\\Bold}[1]{\\mathbf{#1}}2 \\, \\cos\\left({\\theta}\\right) g_{2}\\left(r, {\\theta}\\right) + 2 \\, \\cos\\left({\\theta}\\right) \\frac{\\partial\\,g_{2}}{\\partial r} - r + 2 \\, g_{0}\\left(r, {\\theta}\\right) + 2 \\, \\frac{\\partial\\,g_{0}}{\\partial r} - 1\\]</html>"
      ],
      "text/latex": [
       "$$\\newcommand{\\Bold}[1]{\\mathbf{#1}}2 \\, \\cos\\left({\\theta}\\right) g_{2}\\left(r, {\\theta}\\right) + 2 \\, \\cos\\left({\\theta}\\right) \\frac{\\partial\\,g_{2}}{\\partial r} - r + 2 \\, g_{0}\\left(r, {\\theta}\\right) + 2 \\, \\frac{\\partial\\,g_{0}}{\\partial r} - 1$$"
      ],
      "text/plain": [
       "2*cos(th)*g2(r, th) + 2*cos(th)*d(g2)/dr - r + 2*g0(r, th) + 2*d(g0)/dr - 1"
      ]
     },
     "metadata": {},
     "output_type": "display_data"
    }
   ],
   "source": [
    "r = var('r')\n",
    "th = var('th', latex_name=\"\\\\theta\")\n",
    "\n",
    "g = function('g')(r,th)\n",
    "g0 = function('g0')(r,th)\n",
    "g2 = function('g2')(r,th)\n",
    "\n",
    "h = function('h',latex_name=\"\\\\Phi\")(g^2)\n",
    "h = 2*g - r\n",
    "\n",
    "f = h + formal_diff(h, r)\n",
    "G(r,th) = g0 + cos(th)*g2\n",
    "\n",
    "f = f.substitute_function(function('g'), G)\n",
    "show(EN(f))"
   ]
  },
  {
   "cell_type": "code",
   "execution_count": null,
   "metadata": {},
   "outputs": [],
   "source": []
  }
 ],
 "metadata": {
  "kernelspec": {
   "display_name": "SageMath 9.4",
   "language": "sage",
   "name": "sagemath-9.4"
  },
  "language_info": {
   "codemirror_mode": {
    "name": "ipython",
    "version": 3
   },
   "file_extension": ".py",
   "mimetype": "text/x-python",
   "name": "python",
   "nbconvert_exporter": "python",
   "pygments_lexer": "ipython3",
   "version": "3.9.5"
  }
 },
 "nbformat": 4,
 "nbformat_minor": 4
}
