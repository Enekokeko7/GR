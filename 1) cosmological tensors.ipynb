{
 "cells": [
  {
   "cell_type": "code",
   "execution_count": 5,
   "metadata": {},
   "outputs": [],
   "source": [
    "version() #SageMath version\n",
    "%display latex #To display LaTeX expressions in some output"
   ]
  },
  {
   "cell_type": "code",
   "execution_count": 6,
   "metadata": {},
   "outputs": [],
   "source": [
    "import numpy as np\n",
    "import matplotlib.pyplot as plt"
   ]
  },
  {
   "cell_type": "markdown",
   "metadata": {},
   "source": [
    "# Mi código:"
   ]
  },
  {
   "cell_type": "code",
   "execution_count": 7,
   "metadata": {},
   "outputs": [],
   "source": [
    "def cosmotensors(gdd):\n",
    "    \n",
    "    guu = 1/gdd\n",
    "    \n",
    "    chris = [[[0 for k in range(0,4)] for j in range(0,4)] for i in range(0,4)]\n",
    "    for i in range(0,4):\n",
    "        for j in range(0,4):\n",
    "            for k in range(0,4):\n",
    "                chris[i][j][k] = 0.5*sum(guu[i,dd]*(derivative(gdd[dd,j],coords[k])\n",
    "                                                  + derivative(gdd[dd,k],coords[j])\n",
    "                                                  - derivative(gdd[j,k],coords[dd])) for dd in range(0,4))\n",
    "                \n",
    "    riem = [[[[0 for l in range(0,4)] for k in range(0,4)] for j in range(0,4)] for i in range(0,4)]\n",
    "    for i in range(0,4):\n",
    "        for j in range(0,4):\n",
    "            for k in range(0,4):\n",
    "                for l in range(0,4):\n",
    "                    riem[i][j][k][l] = (derivative(chris[i][j][l],coords[k])\n",
    "                                      - derivative(chris[i][j][k],coords[l])\n",
    "                                      + sum(chris[i][k][dd]*chris[dd][l][j]\n",
    "                                          - chris[i][l][dd]*chris[dd][k][j] for dd in range(0,4)))\n",
    "                    \n",
    "    ricci = matrix(SR, 4, 4)\n",
    "    for i in range(0,4):\n",
    "        for k in range(0,4):\n",
    "            ricci[i,k] = sum(riem[dd][i][dd][k] for dd in range(0,4))\n",
    "            \n",
    "    curv = sum(sum(ricci[i,j]*guu[i,j] for i in range(0,4)) for j in range(0,4))\n",
    "    \n",
    "    eins = matrix(SR, 4, 4)\n",
    "    eins = ricci - 0.5*gdd*curv\n",
    "            \n",
    "    return {'inverse_metric': LatexExpr(guu),\n",
    "            'christoffel': simplify(chris),\n",
    "            'riemann': simplify(riem),\n",
    "            'ricci': simplify(ricci),\n",
    "            'curvature': simplify(curv),\n",
    "            'einstein': simplify(eins)}"
   ]
  },
  {
   "cell_type": "code",
   "execution_count": 8,
   "metadata": {},
   "outputs": [],
   "source": [
    "t, r, th, phi = var('t, r, th, phi')\n",
    "coords = (t, r, th, phi)"
   ]
  },
  {
   "cell_type": "code",
   "execution_count": 5,
   "metadata": {
    "scrolled": true
   },
   "outputs": [
    {
     "name": "stdout",
     "output_type": "stream",
     "text": [
      "[-0.5*(diff(lambda_(r), r) - diff(nu(r), r))*e^(-lambda_(r) + nu(r))*diff(nu(r), r) + 0.25*e^(-lambda_(r) + nu(r))*diff(lambda_(r), r)*diff(nu(r), r) - 0.25*e^(-lambda_(r) + nu(r))*diff(nu(r), r)^2 + 0.5*((0.25*diff(lambda_(r), r)*diff(nu(r), r) - 0.25*diff(nu(r), r)^2 + 1.0*diff(lambda_(r), r)/r - 0.5*diff(nu(r), r, r))*e^(-lambda_(r)) - (-0.5*(diff(lambda_(r), r) - diff(nu(r), r))*e^(-lambda_(r) + nu(r))*diff(nu(r), r) + 0.25*e^(-lambda_(r) + nu(r))*diff(lambda_(r), r)*diff(nu(r), r) - 0.25*e^(-lambda_(r) + nu(r))*diff(nu(r), r)^2 + 0.5*e^(-lambda_(r) + nu(r))*diff(nu(r), r, r) + 1.0*e^(-lambda_(r) + nu(r))*diff(nu(r), r)/r)*e^(-nu(r)) + (0.5*r*e^(-lambda_(r))*diff(lambda_(r), r) - 0.5*r*e^(-lambda_(r))*diff(nu(r), r) - 1.0*e^(-lambda_(r)) + 1.0)/r^2 + (0.5*r*e^(-lambda_(r))*sin(th)^2*diff(lambda_(r), r) - 0.5*r*e^(-lambda_(r))*sin(th)^2*diff(nu(r), r) - 1.0*e^(-lambda_(r))*sin(th)^2 + 1.0*sin(th)^2)/(r^2*sin(th)^2))*e^nu(r) + 0.5*e^(-lambda_(r) + nu(r))*diff(nu(r), r, r) + 1.0*e^(-lambda_(r) + nu(r))*diff(nu(r), r)/r                                                                                                                                                                                                                                                                                                                                                                                                                                                                                                                                                                                                                                                                                                                                                                                                                                                                                                                                                                                                                                                                          0                                                                                                                                                                                                                                                                                                                                                                                                                                                                                                                                                                                                                                                                                                                                                                                                                                                                                                                                                                                                                                                                          0                                                                                                                                                                                                                                                                                                                                                                                                                                                                                                                                                                                                                                                                                                                                                                                                                                                                                                                                                                                                                                                                          0]\n",
      "[                                                                                                                                                                                                                                                                                                                                                                                                                                                                                                                                                                                                                                                                                                                                                                                                                                                                                                                                                                                                                                                                         0                                                                                                                                                                           -0.5*((0.25*diff(lambda_(r), r)*diff(nu(r), r) - 0.25*diff(nu(r), r)^2 + 1.0*diff(lambda_(r), r)/r - 0.5*diff(nu(r), r, r))*e^(-lambda_(r)) - (-0.5*(diff(lambda_(r), r) - diff(nu(r), r))*e^(-lambda_(r) + nu(r))*diff(nu(r), r) + 0.25*e^(-lambda_(r) + nu(r))*diff(lambda_(r), r)*diff(nu(r), r) - 0.25*e^(-lambda_(r) + nu(r))*diff(nu(r), r)^2 + 0.5*e^(-lambda_(r) + nu(r))*diff(nu(r), r, r) + 1.0*e^(-lambda_(r) + nu(r))*diff(nu(r), r)/r)*e^(-nu(r)) + (0.5*r*e^(-lambda_(r))*diff(lambda_(r), r) - 0.5*r*e^(-lambda_(r))*diff(nu(r), r) - 1.0*e^(-lambda_(r)) + 1.0)/r^2 + (0.5*r*e^(-lambda_(r))*sin(th)^2*diff(lambda_(r), r) - 0.5*r*e^(-lambda_(r))*sin(th)^2*diff(nu(r), r) - 1.0*e^(-lambda_(r))*sin(th)^2 + 1.0*sin(th)^2)/(r^2*sin(th)^2))*e^lambda_(r) + 0.25*diff(lambda_(r), r)*diff(nu(r), r) - 0.25*diff(nu(r), r)^2 + 1.0*diff(lambda_(r), r)/r - 0.5*diff(nu(r), r, r)                                                                                                                                                                                                                                                                                                                                                                                                                                                                                                                                                                                                                                                                                                                                                                                                                                                                                                                                                                                                                                                                          0                                                                                                                                                                                                                                                                                                                                                                                                                                                                                                                                                                                                                                                                                                                                                                                                                                                                                                                                                                                                                                                                          0]\n",
      "[                                                                                                                                                                                                                                                                                                                                                                                                                                                                                                                                                                                                                                                                                                                                                                                                                                                                                                                                                                                                                                                                         0                                                                                                                                                                                                                                                                                                                                                                                                                                                                                                                                                                                                                                                                                                                                                                                                                                                                                                                                                                                                                                                                          0                                                                                                                                                                                           -0.5*((0.25*diff(lambda_(r), r)*diff(nu(r), r) - 0.25*diff(nu(r), r)^2 + 1.0*diff(lambda_(r), r)/r - 0.5*diff(nu(r), r, r))*e^(-lambda_(r)) - (-0.5*(diff(lambda_(r), r) - diff(nu(r), r))*e^(-lambda_(r) + nu(r))*diff(nu(r), r) + 0.25*e^(-lambda_(r) + nu(r))*diff(lambda_(r), r)*diff(nu(r), r) - 0.25*e^(-lambda_(r) + nu(r))*diff(nu(r), r)^2 + 0.5*e^(-lambda_(r) + nu(r))*diff(nu(r), r, r) + 1.0*e^(-lambda_(r) + nu(r))*diff(nu(r), r)/r)*e^(-nu(r)) + (0.5*r*e^(-lambda_(r))*diff(lambda_(r), r) - 0.5*r*e^(-lambda_(r))*diff(nu(r), r) - 1.0*e^(-lambda_(r)) + 1.0)/r^2 + (0.5*r*e^(-lambda_(r))*sin(th)^2*diff(lambda_(r), r) - 0.5*r*e^(-lambda_(r))*sin(th)^2*diff(nu(r), r) - 1.0*e^(-lambda_(r))*sin(th)^2 + 1.0*sin(th)^2)/(r^2*sin(th)^2))*r^2 + 0.5*r*e^(-lambda_(r))*diff(lambda_(r), r) - 0.5*r*e^(-lambda_(r))*diff(nu(r), r) - 1.0*e^(-lambda_(r)) + 1.0                                                                                                                                                                                                                                                                                                                                                                                                                                                                                                                                                                                                                                                                                                                                                                                                                                                                                                                                                                                                                                                                          0]\n",
      "[                                                                                                                                                                                                                                                                                                                                                                                                                                                                                                                                                                                                                                                                                                                                                                                                                                                                                                                                                                                                                                                                         0                                                                                                                                                                                                                                                                                                                                                                                                                                                                                                                                                                                                                                                                                                                                                                                                                                                                                                                                                                                                                                                                          0                                                                                                                                                                                                                                                                                                                                                                                                                                                                                                                                                                                                                                                                                                                                                                                                                                                                                                                                                                                                                                                                          0                                                                                                                                         -0.5*((0.25*diff(lambda_(r), r)*diff(nu(r), r) - 0.25*diff(nu(r), r)^2 + 1.0*diff(lambda_(r), r)/r - 0.5*diff(nu(r), r, r))*e^(-lambda_(r)) - (-0.5*(diff(lambda_(r), r) - diff(nu(r), r))*e^(-lambda_(r) + nu(r))*diff(nu(r), r) + 0.25*e^(-lambda_(r) + nu(r))*diff(lambda_(r), r)*diff(nu(r), r) - 0.25*e^(-lambda_(r) + nu(r))*diff(nu(r), r)^2 + 0.5*e^(-lambda_(r) + nu(r))*diff(nu(r), r, r) + 1.0*e^(-lambda_(r) + nu(r))*diff(nu(r), r)/r)*e^(-nu(r)) + (0.5*r*e^(-lambda_(r))*diff(lambda_(r), r) - 0.5*r*e^(-lambda_(r))*diff(nu(r), r) - 1.0*e^(-lambda_(r)) + 1.0)/r^2 + (0.5*r*e^(-lambda_(r))*sin(th)^2*diff(lambda_(r), r) - 0.5*r*e^(-lambda_(r))*sin(th)^2*diff(nu(r), r) - 1.0*e^(-lambda_(r))*sin(th)^2 + 1.0*sin(th)^2)/(r^2*sin(th)^2))*r^2*sin(th)^2 + 0.5*r*e^(-lambda_(r))*sin(th)^2*diff(lambda_(r), r) - 0.5*r*e^(-lambda_(r))*sin(th)^2*diff(nu(r), r) - 1.0*e^(-lambda_(r))*sin(th)^2 + 1.0*sin(th)^2]\n"
     ]
    }
   ],
   "source": [
    "# Metrica Hartle-Thorne\n",
    "gdd = matrix(SR, 4, 4)\n",
    "\n",
    "nu = function('nu')\n",
    "lamb_ = function('lambda_')\n",
    "\n",
    "gdd[0,0] = -exp(nu(r))\n",
    "gdd[1,1] = exp(lambda_(r))\n",
    "gdd[2,2] = r^2\n",
    "gdd[3,3] = r^2 *sin(th)^2\n",
    "\n",
    "einste = cosmotensors(gdd)[\"einstein\"]\n",
    "print(LatexExpr(einste))"
   ]
  },
  {
   "cell_type": "markdown",
   "metadata": {},
   "source": [
    "# Código interno:"
   ]
  },
  {
   "cell_type": "code",
   "execution_count": 20,
   "metadata": {},
   "outputs": [
    {
     "data": {
      "text/html": [
       "<html>\\[\\newcommand{\\Bold}[1]{\\mathbf{#1}}g = -e^{\\nu\\left(r\\right)} \\mathrm{d} t\\otimes \\mathrm{d} t + e^{\\lambda\\left(r\\right)} \\mathrm{d} r\\otimes \\mathrm{d} r + r^{2} \\mathrm{d} {\\theta}\\otimes \\mathrm{d} {\\theta} + r^{2} \\sin\\left({\\theta}\\right)^{2} \\mathrm{d} {\\phi}\\otimes \\mathrm{d} {\\phi}\\]</html>"
      ],
      "text/latex": [
       "$$\\newcommand{\\Bold}[1]{\\mathbf{#1}}g = -e^{\\nu\\left(r\\right)} \\mathrm{d} t\\otimes \\mathrm{d} t + e^{\\lambda\\left(r\\right)} \\mathrm{d} r\\otimes \\mathrm{d} r + r^{2} \\mathrm{d} {\\theta}\\otimes \\mathrm{d} {\\theta} + r^{2} \\sin\\left({\\theta}\\right)^{2} \\mathrm{d} {\\phi}\\otimes \\mathrm{d} {\\phi}$$"
      ],
      "text/plain": [
       "g = -e^nu(r) dt⊗dt + e^lambda_(r) dr⊗dr + r^2 dth⊗dth + r^2*sin(th)^2 dph⊗dph"
      ]
     },
     "execution_count": 20,
     "metadata": {},
     "output_type": "execute_result"
    }
   ],
   "source": [
    "n = 3 #space dimensions\n",
    "M = Manifold(1+n, 'M', structure='Lorentzian')\n",
    "\n",
    "X.<t,r,th,ph> = M.chart(r\"t r:(0,+oo) th:(0,pi):\\theta ph:(0,2*pi):\\phi\")\n",
    "\n",
    "g = M.metric()\n",
    "\n",
    "nu = function('nu')\n",
    "lamb = function('lambda_')\n",
    "\n",
    "g[0,0] = -exp(nu(r))\n",
    "g[1,1] = exp(lamb(r))\n",
    "g[2,2] = r^2\n",
    "g[3,3] = r^2 *sin(th)^2\n",
    "\n",
    "ginv = g.inverse()\n",
    "\n",
    "g.display()"
   ]
  },
  {
   "cell_type": "code",
   "execution_count": 34,
   "metadata": {},
   "outputs": [
    {
     "data": {
      "text/html": [
       "<html>\\[\\newcommand{\\Bold}[1]{\\mathbf{#1}}\\begin{array}{lcl} \\Gamma_{ \\phantom{\\, t} \\, t \\, r }^{ \\, t \\phantom{\\, t} \\phantom{\\, r} } & = & \\frac{1}{2} \\, \\frac{\\partial\\,\\nu}{\\partial r} \\\\ \\Gamma_{ \\phantom{\\, r} \\, t \\, t }^{ \\, r \\phantom{\\, t} \\phantom{\\, t} } & = & \\frac{1}{2} \\, e^{\\left(-\\lambda\\left(r\\right) + \\nu\\left(r\\right)\\right)} \\frac{\\partial\\,\\nu}{\\partial r} \\\\ \\Gamma_{ \\phantom{\\, r} \\, r \\, r }^{ \\, r \\phantom{\\, r} \\phantom{\\, r} } & = & \\frac{1}{2} \\, \\frac{\\partial\\,\\lambda}{\\partial r} \\\\ \\Gamma_{ \\phantom{\\, r} \\, {\\theta} \\, {\\theta} }^{ \\, r \\phantom{\\, {\\theta}} \\phantom{\\, {\\theta}} } & = & -r e^{\\left(-\\lambda\\left(r\\right)\\right)} \\\\ \\Gamma_{ \\phantom{\\, r} \\, {\\phi} \\, {\\phi} }^{ \\, r \\phantom{\\, {\\phi}} \\phantom{\\, {\\phi}} } & = & -r e^{\\left(-\\lambda\\left(r\\right)\\right)} \\sin\\left({\\theta}\\right)^{2} \\\\ \\Gamma_{ \\phantom{\\, {\\theta}} \\, r \\, {\\theta} }^{ \\, {\\theta} \\phantom{\\, r} \\phantom{\\, {\\theta}} } & = & \\frac{1}{r} \\\\ \\Gamma_{ \\phantom{\\, {\\theta}} \\, {\\phi} \\, {\\phi} }^{ \\, {\\theta} \\phantom{\\, {\\phi}} \\phantom{\\, {\\phi}} } & = & -\\cos\\left({\\theta}\\right) \\sin\\left({\\theta}\\right) \\\\ \\Gamma_{ \\phantom{\\, {\\phi}} \\, r \\, {\\phi} }^{ \\, {\\phi} \\phantom{\\, r} \\phantom{\\, {\\phi}} } & = & \\frac{1}{r} \\\\ \\Gamma_{ \\phantom{\\, {\\phi}} \\, {\\theta} \\, {\\phi} }^{ \\, {\\phi} \\phantom{\\, {\\theta}} \\phantom{\\, {\\phi}} } & = & \\frac{\\cos\\left({\\theta}\\right)}{\\sin\\left({\\theta}\\right)} \\end{array}\\]</html>"
      ],
      "text/latex": [
       "$$\\newcommand{\\Bold}[1]{\\mathbf{#1}}\\begin{array}{lcl} \\Gamma_{ \\phantom{\\, t} \\, t \\, r }^{ \\, t \\phantom{\\, t} \\phantom{\\, r} } & = & \\frac{1}{2} \\, \\frac{\\partial\\,\\nu}{\\partial r} \\\\ \\Gamma_{ \\phantom{\\, r} \\, t \\, t }^{ \\, r \\phantom{\\, t} \\phantom{\\, t} } & = & \\frac{1}{2} \\, e^{\\left(-\\lambda\\left(r\\right) + \\nu\\left(r\\right)\\right)} \\frac{\\partial\\,\\nu}{\\partial r} \\\\ \\Gamma_{ \\phantom{\\, r} \\, r \\, r }^{ \\, r \\phantom{\\, r} \\phantom{\\, r} } & = & \\frac{1}{2} \\, \\frac{\\partial\\,\\lambda}{\\partial r} \\\\ \\Gamma_{ \\phantom{\\, r} \\, {\\theta} \\, {\\theta} }^{ \\, r \\phantom{\\, {\\theta}} \\phantom{\\, {\\theta}} } & = & -r e^{\\left(-\\lambda\\left(r\\right)\\right)} \\\\ \\Gamma_{ \\phantom{\\, r} \\, {\\phi} \\, {\\phi} }^{ \\, r \\phantom{\\, {\\phi}} \\phantom{\\, {\\phi}} } & = & -r e^{\\left(-\\lambda\\left(r\\right)\\right)} \\sin\\left({\\theta}\\right)^{2} \\\\ \\Gamma_{ \\phantom{\\, {\\theta}} \\, r \\, {\\theta} }^{ \\, {\\theta} \\phantom{\\, r} \\phantom{\\, {\\theta}} } & = & \\frac{1}{r} \\\\ \\Gamma_{ \\phantom{\\, {\\theta}} \\, {\\phi} \\, {\\phi} }^{ \\, {\\theta} \\phantom{\\, {\\phi}} \\phantom{\\, {\\phi}} } & = & -\\cos\\left({\\theta}\\right) \\sin\\left({\\theta}\\right) \\\\ \\Gamma_{ \\phantom{\\, {\\phi}} \\, r \\, {\\phi} }^{ \\, {\\phi} \\phantom{\\, r} \\phantom{\\, {\\phi}} } & = & \\frac{1}{r} \\\\ \\Gamma_{ \\phantom{\\, {\\phi}} \\, {\\theta} \\, {\\phi} }^{ \\, {\\phi} \\phantom{\\, {\\theta}} \\phantom{\\, {\\phi}} } & = & \\frac{\\cos\\left({\\theta}\\right)}{\\sin\\left({\\theta}\\right)} \\end{array}$$"
      ],
      "text/plain": [
       "Gam^t_t,r = 1/2*d(nu)/dr \n",
       "Gam^r_t,t = 1/2*e^(-lambda_(r) + nu(r))*d(nu)/dr \n",
       "Gam^r_r,r = 1/2*d(lambda_)/dr \n",
       "Gam^r_th,th = -r*e^(-lambda_(r)) \n",
       "Gam^r_ph,ph = -r*e^(-lambda_(r))*sin(th)^2 \n",
       "Gam^th_r,th = 1/r \n",
       "Gam^th_ph,ph = -cos(th)*sin(th) \n",
       "Gam^ph_r,ph = 1/r \n",
       "Gam^ph_th,ph = cos(th)/sin(th) "
      ]
     },
     "execution_count": 34,
     "metadata": {},
     "output_type": "execute_result"
    }
   ],
   "source": [
    "g.christoffel_symbols_display()"
   ]
  },
  {
   "cell_type": "code",
   "execution_count": 15,
   "metadata": {},
   "outputs": [
    {
     "data": {
      "text/html": [
       "<html>\\[\\newcommand{\\Bold}[1]{\\mathbf{#1}}\\begin{array}{lcl} \\mathrm{Riem}\\left(g\\right)_{ \\phantom{\\, t} \\, r \\, t \\, r }^{ \\, t \\phantom{\\, r} \\phantom{\\, t} \\phantom{\\, r} } & = & \\frac{1}{4} \\, \\frac{\\partial\\,\\lambda}{\\partial r} \\frac{\\partial\\,\\nu}{\\partial r} - \\frac{1}{4} \\, \\frac{\\partial\\,\\nu}{\\partial r}^{2} - \\frac{1}{2} \\, \\frac{\\partial^2\\,\\nu}{\\partial r ^ 2} \\\\ \\mathrm{Riem}\\left(g\\right)_{ \\phantom{\\, t} \\, {\\theta} \\, t \\, {\\theta} }^{ \\, t \\phantom{\\, {\\theta}} \\phantom{\\, t} \\phantom{\\, {\\theta}} } & = & -\\frac{1}{2} \\, r e^{\\left(-\\lambda\\left(r\\right)\\right)} \\frac{\\partial\\,\\nu}{\\partial r} \\\\ \\mathrm{Riem}\\left(g\\right)_{ \\phantom{\\, t} \\, {\\phi} \\, t \\, {\\phi} }^{ \\, t \\phantom{\\, {\\phi}} \\phantom{\\, t} \\phantom{\\, {\\phi}} } & = & -\\frac{1}{2} \\, r e^{\\left(-\\lambda\\left(r\\right)\\right)} \\sin\\left({\\theta}\\right)^{2} \\frac{\\partial\\,\\nu}{\\partial r} \\\\ \\mathrm{Riem}\\left(g\\right)_{ \\phantom{\\, r} \\, t \\, t \\, r }^{ \\, r \\phantom{\\, t} \\phantom{\\, t} \\phantom{\\, r} } & = & \\frac{1}{4} \\, {\\left(e^{\\nu\\left(r\\right)} \\frac{\\partial\\,\\lambda}{\\partial r} \\frac{\\partial\\,\\nu}{\\partial r} - e^{\\nu\\left(r\\right)} \\frac{\\partial\\,\\nu}{\\partial r}^{2} - 2 \\, e^{\\nu\\left(r\\right)} \\frac{\\partial^2\\,\\nu}{\\partial r ^ 2}\\right)} e^{\\left(-\\lambda\\left(r\\right)\\right)} \\\\ \\mathrm{Riem}\\left(g\\right)_{ \\phantom{\\, r} \\, {\\theta} \\, r \\, {\\theta} }^{ \\, r \\phantom{\\, {\\theta}} \\phantom{\\, r} \\phantom{\\, {\\theta}} } & = & \\frac{1}{2} \\, r e^{\\left(-\\lambda\\left(r\\right)\\right)} \\frac{\\partial\\,\\lambda}{\\partial r} \\\\ \\mathrm{Riem}\\left(g\\right)_{ \\phantom{\\, r} \\, {\\phi} \\, r \\, {\\phi} }^{ \\, r \\phantom{\\, {\\phi}} \\phantom{\\, r} \\phantom{\\, {\\phi}} } & = & \\frac{1}{2} \\, r e^{\\left(-\\lambda\\left(r\\right)\\right)} \\sin\\left({\\theta}\\right)^{2} \\frac{\\partial\\,\\lambda}{\\partial r} \\\\ \\mathrm{Riem}\\left(g\\right)_{ \\phantom{\\, {\\theta}} \\, t \\, t \\, {\\theta} }^{ \\, {\\theta} \\phantom{\\, t} \\phantom{\\, t} \\phantom{\\, {\\theta}} } & = & -\\frac{e^{\\left(-\\lambda\\left(r\\right) + \\nu\\left(r\\right)\\right)} \\frac{\\partial\\,\\nu}{\\partial r}}{2 \\, r} \\\\ \\mathrm{Riem}\\left(g\\right)_{ \\phantom{\\, {\\theta}} \\, r \\, r \\, {\\theta} }^{ \\, {\\theta} \\phantom{\\, r} \\phantom{\\, r} \\phantom{\\, {\\theta}} } & = & -\\frac{\\frac{\\partial\\,\\lambda}{\\partial r}}{2 \\, r} \\\\ \\mathrm{Riem}\\left(g\\right)_{ \\phantom{\\, {\\theta}} \\, {\\phi} \\, {\\theta} \\, {\\phi} }^{ \\, {\\theta} \\phantom{\\, {\\phi}} \\phantom{\\, {\\theta}} \\phantom{\\, {\\phi}} } & = & {\\left(e^{\\lambda\\left(r\\right)} - 1\\right)} e^{\\left(-\\lambda\\left(r\\right)\\right)} \\sin\\left({\\theta}\\right)^{2} \\\\ \\mathrm{Riem}\\left(g\\right)_{ \\phantom{\\, {\\phi}} \\, t \\, t \\, {\\phi} }^{ \\, {\\phi} \\phantom{\\, t} \\phantom{\\, t} \\phantom{\\, {\\phi}} } & = & -\\frac{e^{\\left(-\\lambda\\left(r\\right) + \\nu\\left(r\\right)\\right)} \\frac{\\partial\\,\\nu}{\\partial r}}{2 \\, r} \\\\ \\mathrm{Riem}\\left(g\\right)_{ \\phantom{\\, {\\phi}} \\, r \\, r \\, {\\phi} }^{ \\, {\\phi} \\phantom{\\, r} \\phantom{\\, r} \\phantom{\\, {\\phi}} } & = & -\\frac{\\frac{\\partial\\,\\lambda}{\\partial r}}{2 \\, r} \\\\ \\mathrm{Riem}\\left(g\\right)_{ \\phantom{\\, {\\phi}} \\, {\\theta} \\, {\\theta} \\, {\\phi} }^{ \\, {\\phi} \\phantom{\\, {\\theta}} \\phantom{\\, {\\theta}} \\phantom{\\, {\\phi}} } & = & -{\\left(e^{\\lambda\\left(r\\right)} - 1\\right)} e^{\\left(-\\lambda\\left(r\\right)\\right)} \\end{array}\\]</html>"
      ],
      "text/latex": [
       "$$\\newcommand{\\Bold}[1]{\\mathbf{#1}}\\begin{array}{lcl} \\mathrm{Riem}\\left(g\\right)_{ \\phantom{\\, t} \\, r \\, t \\, r }^{ \\, t \\phantom{\\, r} \\phantom{\\, t} \\phantom{\\, r} } & = & \\frac{1}{4} \\, \\frac{\\partial\\,\\lambda}{\\partial r} \\frac{\\partial\\,\\nu}{\\partial r} - \\frac{1}{4} \\, \\frac{\\partial\\,\\nu}{\\partial r}^{2} - \\frac{1}{2} \\, \\frac{\\partial^2\\,\\nu}{\\partial r ^ 2} \\\\ \\mathrm{Riem}\\left(g\\right)_{ \\phantom{\\, t} \\, {\\theta} \\, t \\, {\\theta} }^{ \\, t \\phantom{\\, {\\theta}} \\phantom{\\, t} \\phantom{\\, {\\theta}} } & = & -\\frac{1}{2} \\, r e^{\\left(-\\lambda\\left(r\\right)\\right)} \\frac{\\partial\\,\\nu}{\\partial r} \\\\ \\mathrm{Riem}\\left(g\\right)_{ \\phantom{\\, t} \\, {\\phi} \\, t \\, {\\phi} }^{ \\, t \\phantom{\\, {\\phi}} \\phantom{\\, t} \\phantom{\\, {\\phi}} } & = & -\\frac{1}{2} \\, r e^{\\left(-\\lambda\\left(r\\right)\\right)} \\sin\\left({\\theta}\\right)^{2} \\frac{\\partial\\,\\nu}{\\partial r} \\\\ \\mathrm{Riem}\\left(g\\right)_{ \\phantom{\\, r} \\, t \\, t \\, r }^{ \\, r \\phantom{\\, t} \\phantom{\\, t} \\phantom{\\, r} } & = & \\frac{1}{4} \\, {\\left(e^{\\nu\\left(r\\right)} \\frac{\\partial\\,\\lambda}{\\partial r} \\frac{\\partial\\,\\nu}{\\partial r} - e^{\\nu\\left(r\\right)} \\frac{\\partial\\,\\nu}{\\partial r}^{2} - 2 \\, e^{\\nu\\left(r\\right)} \\frac{\\partial^2\\,\\nu}{\\partial r ^ 2}\\right)} e^{\\left(-\\lambda\\left(r\\right)\\right)} \\\\ \\mathrm{Riem}\\left(g\\right)_{ \\phantom{\\, r} \\, {\\theta} \\, r \\, {\\theta} }^{ \\, r \\phantom{\\, {\\theta}} \\phantom{\\, r} \\phantom{\\, {\\theta}} } & = & \\frac{1}{2} \\, r e^{\\left(-\\lambda\\left(r\\right)\\right)} \\frac{\\partial\\,\\lambda}{\\partial r} \\\\ \\mathrm{Riem}\\left(g\\right)_{ \\phantom{\\, r} \\, {\\phi} \\, r \\, {\\phi} }^{ \\, r \\phantom{\\, {\\phi}} \\phantom{\\, r} \\phantom{\\, {\\phi}} } & = & \\frac{1}{2} \\, r e^{\\left(-\\lambda\\left(r\\right)\\right)} \\sin\\left({\\theta}\\right)^{2} \\frac{\\partial\\,\\lambda}{\\partial r} \\\\ \\mathrm{Riem}\\left(g\\right)_{ \\phantom{\\, {\\theta}} \\, t \\, t \\, {\\theta} }^{ \\, {\\theta} \\phantom{\\, t} \\phantom{\\, t} \\phantom{\\, {\\theta}} } & = & -\\frac{e^{\\left(-\\lambda\\left(r\\right) + \\nu\\left(r\\right)\\right)} \\frac{\\partial\\,\\nu}{\\partial r}}{2 \\, r} \\\\ \\mathrm{Riem}\\left(g\\right)_{ \\phantom{\\, {\\theta}} \\, r \\, r \\, {\\theta} }^{ \\, {\\theta} \\phantom{\\, r} \\phantom{\\, r} \\phantom{\\, {\\theta}} } & = & -\\frac{\\frac{\\partial\\,\\lambda}{\\partial r}}{2 \\, r} \\\\ \\mathrm{Riem}\\left(g\\right)_{ \\phantom{\\, {\\theta}} \\, {\\phi} \\, {\\theta} \\, {\\phi} }^{ \\, {\\theta} \\phantom{\\, {\\phi}} \\phantom{\\, {\\theta}} \\phantom{\\, {\\phi}} } & = & {\\left(e^{\\lambda\\left(r\\right)} - 1\\right)} e^{\\left(-\\lambda\\left(r\\right)\\right)} \\sin\\left({\\theta}\\right)^{2} \\\\ \\mathrm{Riem}\\left(g\\right)_{ \\phantom{\\, {\\phi}} \\, t \\, t \\, {\\phi} }^{ \\, {\\phi} \\phantom{\\, t} \\phantom{\\, t} \\phantom{\\, {\\phi}} } & = & -\\frac{e^{\\left(-\\lambda\\left(r\\right) + \\nu\\left(r\\right)\\right)} \\frac{\\partial\\,\\nu}{\\partial r}}{2 \\, r} \\\\ \\mathrm{Riem}\\left(g\\right)_{ \\phantom{\\, {\\phi}} \\, r \\, r \\, {\\phi} }^{ \\, {\\phi} \\phantom{\\, r} \\phantom{\\, r} \\phantom{\\, {\\phi}} } & = & -\\frac{\\frac{\\partial\\,\\lambda}{\\partial r}}{2 \\, r} \\\\ \\mathrm{Riem}\\left(g\\right)_{ \\phantom{\\, {\\phi}} \\, {\\theta} \\, {\\theta} \\, {\\phi} }^{ \\, {\\phi} \\phantom{\\, {\\theta}} \\phantom{\\, {\\theta}} \\phantom{\\, {\\phi}} } & = & -{\\left(e^{\\lambda\\left(r\\right)} - 1\\right)} e^{\\left(-\\lambda\\left(r\\right)\\right)} \\end{array}$$"
      ],
      "text/plain": [
       "Riem(g)^t_r,t,r = 1/4*d(lambda_)/dr*d(nu)/dr - 1/4*d(nu)/dr^2 - 1/2*d^2(nu)/dr^2 \n",
       "Riem(g)^t_th,t,th = -1/2*r*e^(-lambda_(r))*d(nu)/dr \n",
       "Riem(g)^t_ph,t,ph = -1/2*r*e^(-lambda_(r))*sin(th)^2*d(nu)/dr \n",
       "Riem(g)^r_t,t,r = 1/4*(e^nu(r)*d(lambda_)/dr*d(nu)/dr - e^nu(r)*d(nu)/dr^2 - 2*e^nu(r)*d^2(nu)/dr^2)*e^(-lambda_(r)) \n",
       "Riem(g)^r_th,r,th = 1/2*r*e^(-lambda_(r))*d(lambda_)/dr \n",
       "Riem(g)^r_ph,r,ph = 1/2*r*e^(-lambda_(r))*sin(th)^2*d(lambda_)/dr \n",
       "Riem(g)^th_t,t,th = -1/2*e^(-lambda_(r) + nu(r))*d(nu)/dr/r \n",
       "Riem(g)^th_r,r,th = -1/2*d(lambda_)/dr/r \n",
       "Riem(g)^th_ph,th,ph = (e^lambda_(r) - 1)*e^(-lambda_(r))*sin(th)^2 \n",
       "Riem(g)^ph_t,t,ph = -1/2*e^(-lambda_(r) + nu(r))*d(nu)/dr/r \n",
       "Riem(g)^ph_r,r,ph = -1/2*d(lambda_)/dr/r \n",
       "Riem(g)^ph_th,th,ph = -(e^lambda_(r) - 1)*e^(-lambda_(r)) "
      ]
     },
     "execution_count": 15,
     "metadata": {},
     "output_type": "execute_result"
    }
   ],
   "source": [
    "Riem = g.riemann()\n",
    "Riem.display_comp(only_nonredundant=True)"
   ]
  },
  {
   "cell_type": "code",
   "execution_count": 16,
   "metadata": {
    "scrolled": true
   },
   "outputs": [
    {
     "data": {
      "text/html": [
       "<html>\\[\\newcommand{\\Bold}[1]{\\mathbf{#1}}\\mathrm{Ric}\\left(g\\right) = \\frac{{\\left(r e^{\\nu\\left(r\\right)} \\left(\\frac{\\partial\\,\\nu}{\\partial r}\\right)^{2} + 2 \\, r e^{\\nu\\left(r\\right)} \\frac{\\partial^2\\,\\nu}{\\partial r ^ 2} - {\\left(r e^{\\nu\\left(r\\right)} \\frac{\\partial\\,\\lambda}{\\partial r} - 4 \\, e^{\\nu\\left(r\\right)}\\right)} \\frac{\\partial\\,\\nu}{\\partial r}\\right)} e^{\\left(-\\lambda\\left(r\\right)\\right)}}{4 \\, r} \\mathrm{d} t\\otimes \\mathrm{d} t + \\left( \\frac{r \\frac{\\partial\\,\\lambda}{\\partial r} \\frac{\\partial\\,\\nu}{\\partial r} - r \\frac{\\partial\\,\\nu}{\\partial r}^{2} - 2 \\, r \\frac{\\partial^2\\,\\nu}{\\partial r ^ 2} + 4 \\, \\frac{\\partial\\,\\lambda}{\\partial r}}{4 \\, r} \\right) \\mathrm{d} r\\otimes \\mathrm{d} r + \\frac{1}{2} \\, {\\left(r \\frac{\\partial\\,\\lambda}{\\partial r} - r \\frac{\\partial\\,\\nu}{\\partial r} + 2 \\, e^{\\lambda\\left(r\\right)} - 2\\right)} e^{\\left(-\\lambda\\left(r\\right)\\right)} \\mathrm{d} {\\theta}\\otimes \\mathrm{d} {\\theta} + \\frac{1}{2} \\, {\\left(r \\frac{\\partial\\,\\lambda}{\\partial r} - r \\frac{\\partial\\,\\nu}{\\partial r} + 2 \\, e^{\\lambda\\left(r\\right)} - 2\\right)} e^{\\left(-\\lambda\\left(r\\right)\\right)} \\sin\\left({\\theta}\\right)^{2} \\mathrm{d} {\\phi}\\otimes \\mathrm{d} {\\phi}\\]</html>"
      ],
      "text/latex": [
       "$$\\newcommand{\\Bold}[1]{\\mathbf{#1}}\\mathrm{Ric}\\left(g\\right) = \\frac{{\\left(r e^{\\nu\\left(r\\right)} \\left(\\frac{\\partial\\,\\nu}{\\partial r}\\right)^{2} + 2 \\, r e^{\\nu\\left(r\\right)} \\frac{\\partial^2\\,\\nu}{\\partial r ^ 2} - {\\left(r e^{\\nu\\left(r\\right)} \\frac{\\partial\\,\\lambda}{\\partial r} - 4 \\, e^{\\nu\\left(r\\right)}\\right)} \\frac{\\partial\\,\\nu}{\\partial r}\\right)} e^{\\left(-\\lambda\\left(r\\right)\\right)}}{4 \\, r} \\mathrm{d} t\\otimes \\mathrm{d} t + \\left( \\frac{r \\frac{\\partial\\,\\lambda}{\\partial r} \\frac{\\partial\\,\\nu}{\\partial r} - r \\frac{\\partial\\,\\nu}{\\partial r}^{2} - 2 \\, r \\frac{\\partial^2\\,\\nu}{\\partial r ^ 2} + 4 \\, \\frac{\\partial\\,\\lambda}{\\partial r}}{4 \\, r} \\right) \\mathrm{d} r\\otimes \\mathrm{d} r + \\frac{1}{2} \\, {\\left(r \\frac{\\partial\\,\\lambda}{\\partial r} - r \\frac{\\partial\\,\\nu}{\\partial r} + 2 \\, e^{\\lambda\\left(r\\right)} - 2\\right)} e^{\\left(-\\lambda\\left(r\\right)\\right)} \\mathrm{d} {\\theta}\\otimes \\mathrm{d} {\\theta} + \\frac{1}{2} \\, {\\left(r \\frac{\\partial\\,\\lambda}{\\partial r} - r \\frac{\\partial\\,\\nu}{\\partial r} + 2 \\, e^{\\lambda\\left(r\\right)} - 2\\right)} e^{\\left(-\\lambda\\left(r\\right)\\right)} \\sin\\left({\\theta}\\right)^{2} \\mathrm{d} {\\phi}\\otimes \\mathrm{d} {\\phi}$$"
      ],
      "text/plain": [
       "Ric(g) = 1/4*(r*e^nu(r)*(d(nu)/dr)^2 + 2*r*e^nu(r)*d^2(nu)/dr^2 - (r*e^nu(r)*d(lambda_)/dr - 4*e^nu(r))*d(nu)/dr)*e^(-lambda_(r))/r dt⊗dt + 1/4*(r*d(lambda_)/dr*d(nu)/dr - r*d(nu)/dr^2 - 2*r*d^2(nu)/dr^2 + 4*d(lambda_)/dr)/r dr⊗dr + 1/2*(r*d(lambda_)/dr - r*d(nu)/dr + 2*e^lambda_(r) - 2)*e^(-lambda_(r)) dth⊗dth + 1/2*(r*d(lambda_)/dr - r*d(nu)/dr + 2*e^lambda_(r) - 2)*e^(-lambda_(r))*sin(th)^2 dph⊗dph"
      ]
     },
     "execution_count": 16,
     "metadata": {},
     "output_type": "execute_result"
    }
   ],
   "source": [
    "Ric = g.ricci()\n",
    "Ric.display()"
   ]
  },
  {
   "cell_type": "code",
   "execution_count": 17,
   "metadata": {},
   "outputs": [
    {
     "data": {
      "text/html": [
       "<html>\\[\\newcommand{\\Bold}[1]{\\mathbf{#1}}\\mbox{Scalar field on the 4-dimensional Lorentzian manifold M}\\]</html>"
      ],
      "text/latex": [
       "$$\\newcommand{\\Bold}[1]{\\mathbf{#1}}\\mbox{Scalar field on the 4-dimensional Lorentzian manifold M}$$"
      ],
      "text/plain": [
       "Scalar field on the 4-dimensional Lorentzian manifold M"
      ]
     },
     "execution_count": 17,
     "metadata": {},
     "output_type": "execute_result"
    }
   ],
   "source": [
    "ScalarCurvature = ginv['^{ab}']*Ric['_ab']; ScalarCurvature"
   ]
  },
  {
   "cell_type": "code",
   "execution_count": 18,
   "metadata": {},
   "outputs": [
    {
     "data": {
      "text/html": [
       "<html>\\[\\newcommand{\\Bold}[1]{\\mathbf{#1}}\\left(\\begin{array}{rrrr}\n",
       "\\frac{{\\left(r e^{\\nu\\left(r\\right)} \\frac{\\partial\\,\\lambda}{\\partial r} + {\\left(e^{\\lambda\\left(r\\right)} - 1\\right)} e^{\\nu\\left(r\\right)}\\right)} e^{\\left(-\\lambda\\left(r\\right)\\right)}}{r^{2}} & 0 & 0 & 0 \\\\\n",
       "0 & \\frac{r \\frac{\\partial\\,\\nu}{\\partial r} - e^{\\lambda\\left(r\\right)} + 1}{r^{2}} & 0 & 0 \\\\\n",
       "0 & 0 & \\frac{1}{4} \\, {\\left(r^{2} \\left(\\frac{\\partial\\,\\nu}{\\partial r}\\right)^{2} + 2 \\, r^{2} \\frac{\\partial^2\\,\\nu}{\\partial r ^ 2} - 2 \\, r \\frac{\\partial\\,\\lambda}{\\partial r} - {\\left(r^{2} \\frac{\\partial\\,\\lambda}{\\partial r} - 2 \\, r\\right)} \\frac{\\partial\\,\\nu}{\\partial r}\\right)} e^{\\left(-\\lambda\\left(r\\right)\\right)} & 0 \\\\\n",
       "0 & 0 & 0 & \\frac{1}{4} \\, {\\left(r^{2} \\left(\\frac{\\partial\\,\\nu}{\\partial r}\\right)^{2} + 2 \\, r^{2} \\frac{\\partial^2\\,\\nu}{\\partial r ^ 2} - 2 \\, r \\frac{\\partial\\,\\lambda}{\\partial r} - {\\left(r^{2} \\frac{\\partial\\,\\lambda}{\\partial r} - 2 \\, r\\right)} \\frac{\\partial\\,\\nu}{\\partial r}\\right)} e^{\\left(-\\lambda\\left(r\\right)\\right)} \\sin\\left({\\theta}\\right)^{2}\n",
       "\\end{array}\\right)\\]</html>"
      ],
      "text/latex": [
       "$$\\newcommand{\\Bold}[1]{\\mathbf{#1}}\\left(\\begin{array}{rrrr}\n",
       "\\frac{{\\left(r e^{\\nu\\left(r\\right)} \\frac{\\partial\\,\\lambda}{\\partial r} + {\\left(e^{\\lambda\\left(r\\right)} - 1\\right)} e^{\\nu\\left(r\\right)}\\right)} e^{\\left(-\\lambda\\left(r\\right)\\right)}}{r^{2}} & 0 & 0 & 0 \\\\\n",
       "0 & \\frac{r \\frac{\\partial\\,\\nu}{\\partial r} - e^{\\lambda\\left(r\\right)} + 1}{r^{2}} & 0 & 0 \\\\\n",
       "0 & 0 & \\frac{1}{4} \\, {\\left(r^{2} \\left(\\frac{\\partial\\,\\nu}{\\partial r}\\right)^{2} + 2 \\, r^{2} \\frac{\\partial^2\\,\\nu}{\\partial r ^ 2} - 2 \\, r \\frac{\\partial\\,\\lambda}{\\partial r} - {\\left(r^{2} \\frac{\\partial\\,\\lambda}{\\partial r} - 2 \\, r\\right)} \\frac{\\partial\\,\\nu}{\\partial r}\\right)} e^{\\left(-\\lambda\\left(r\\right)\\right)} & 0 \\\\\n",
       "0 & 0 & 0 & \\frac{1}{4} \\, {\\left(r^{2} \\left(\\frac{\\partial\\,\\nu}{\\partial r}\\right)^{2} + 2 \\, r^{2} \\frac{\\partial^2\\,\\nu}{\\partial r ^ 2} - 2 \\, r \\frac{\\partial\\,\\lambda}{\\partial r} - {\\left(r^{2} \\frac{\\partial\\,\\lambda}{\\partial r} - 2 \\, r\\right)} \\frac{\\partial\\,\\nu}{\\partial r}\\right)} e^{\\left(-\\lambda\\left(r\\right)\\right)} \\sin\\left({\\theta}\\right)^{2}\n",
       "\\end{array}\\right)$$"
      ],
      "text/plain": [
       "[                                                    (r*e^nu(r)*d(lambda_)/dr + (e^lambda_(r) - 1)*e^nu(r))*e^(-lambda_(r))/r^2                                                                                                                              0                                                                                                                              0                                                                                                                              0]\n",
       "[                                                                                                                             0                                                                                            (r*d(nu)/dr - e^lambda_(r) + 1)/r^2                                                                                                                              0                                                                                                                              0]\n",
       "[                                                                                                                             0                                                                                                                              0           1/4*(r^2*(d(nu)/dr)^2 + 2*r^2*d^2(nu)/dr^2 - 2*r*d(lambda_)/dr - (r^2*d(lambda_)/dr - 2*r)*d(nu)/dr)*e^(-lambda_(r))                                                                                                                              0]\n",
       "[                                                                                                                             0                                                                                                                              0                                                                                                                              0 1/4*(r^2*(d(nu)/dr)^2 + 2*r^2*d^2(nu)/dr^2 - 2*r*d(lambda_)/dr - (r^2*d(lambda_)/dr - 2*r)*d(nu)/dr)*e^(-lambda_(r))*sin(th)^2]"
      ]
     },
     "execution_count": 18,
     "metadata": {},
     "output_type": "execute_result"
    }
   ],
   "source": [
    "EinsteinTensor = Ric-g*ScalarCurvature/2\n",
    "EinsteinTensor[:]"
   ]
  },
  {
   "cell_type": "code",
   "execution_count": 40,
   "metadata": {},
   "outputs": [
    {
     "data": {
      "text/html": [
       "<html>\\[\\newcommand{\\Bold}[1]{\\mathbf{#1}}\\verb|3.1415926535897932384626433832795028842|\\]</html>"
      ],
      "text/latex": [
       "$$\\newcommand{\\Bold}[1]{\\mathbf{#1}}\\verb|3.1415926535897932384626433832795028842|$$"
      ],
      "text/plain": [
       "3.1415926535897932384626433832795028842"
      ]
     },
     "execution_count": 40,
     "metadata": {},
     "output_type": "execute_result"
    }
   ],
   "source": [
    "gp(pi)"
   ]
  },
  {
   "cell_type": "code",
   "execution_count": 2,
   "metadata": {},
   "outputs": [],
   "source": [
    "n = 3\n",
    "M = Manifold(1+n, 'M', structure='Lorentzian')\n",
    "X.<t,r,th,ph> = M.chart(r\"t r:(0,+oo) th:(0,pi):\\theta ph:(0,2*pi):\\phi\")\n",
    "coords = (t, r, th, ph)\n",
    "\n",
    "ue = M.vector_field(name=\"ue\")"
   ]
  },
  {
   "cell_type": "code",
   "execution_count": 3,
   "metadata": {},
   "outputs": [],
   "source": [
    "uue = M.vector_field(\"ue\")"
   ]
  },
  {
   "cell_type": "code",
   "execution_count": 4,
   "metadata": {},
   "outputs": [
    {
     "name": "stdout",
     "output_type": "stream",
     "text": [
      "Vector field ue on the 4-dimensional Lorentzian manifold M\n"
     ]
    }
   ],
   "source": [
    "print(uue)"
   ]
  },
  {
   "cell_type": "code",
   "execution_count": null,
   "metadata": {},
   "outputs": [],
   "source": []
  }
 ],
 "metadata": {
  "kernelspec": {
   "display_name": "SageMath 9.4",
   "language": "sage",
   "name": "sagemath-9.4"
  },
  "language_info": {
   "codemirror_mode": {
    "name": "ipython",
    "version": 3
   },
   "file_extension": ".py",
   "mimetype": "text/x-python",
   "name": "python",
   "nbconvert_exporter": "python",
   "pygments_lexer": "ipython3",
   "version": "3.9.5"
  }
 },
 "nbformat": 4,
 "nbformat_minor": 4
}
