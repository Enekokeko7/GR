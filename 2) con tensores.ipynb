{
 "cells": [
  {
   "cell_type": "code",
   "execution_count": 1,
   "metadata": {},
   "outputs": [],
   "source": [
    "%display latex"
   ]
  },
  {
   "cell_type": "code",
   "execution_count": 2,
   "metadata": {},
   "outputs": [],
   "source": [
    "import numpy as np\n",
    "import matplotlib.pyplot as plt\n",
    "import time\n",
    "import os"
   ]
  },
  {
   "cell_type": "code",
   "execution_count": 3,
   "metadata": {},
   "outputs": [],
   "source": [
    "#Define space-time manifold and coordinates\n",
    "\n",
    "n = 3\n",
    "M = Manifold(1+n, 'M', structure='Lorentzian')\n",
    "X.<t,r,th,ph> = M.chart(r\"t r:(0,+oo) th:(0,pi):\\theta ph:(0,2*pi):\\phi\")"
   ]
  },
  {
   "cell_type": "code",
   "execution_count": 4,
   "metadata": {},
   "outputs": [],
   "source": [
    "eps = var('eps', latex_name='\\\\varepsilon')\n",
    "\n",
    "h = function('h')(r,th)\n",
    "k = function('k')(r,th)\n",
    "m = function('m')(r,th)\n",
    "omega = function('omega', latex_name=\"\\\\omega\")(r,th)\n",
    "\n",
    "nu = function('nu', latex_name='\\\\nu')(r)\n",
    "lamb = function('lamb', latex_name='\\\\lambda')(r)\n",
    "\n",
    "Omegae = function('Omegaevalue', latex_name = \"\\\\Omega_e\")(eps)\n",
    "Ne = function('Ne', latex_name = \"N_e\")(r,eps)"
   ]
  },
  {
   "cell_type": "code",
   "execution_count": 5,
   "metadata": {},
   "outputs": [],
   "source": [
    "gdd = M.tensor_field(0,2, name='gdd')\n",
    "gdd[0,0] = -exp(nu)\n",
    "gdd[1,1] = exp(lamb)\n",
    "gdd[2,2] = r^2\n",
    "gdd[3,3] = r^2*sin(th)^2\n",
    "\n",
    "K1 = M.tensor_field(0,2, name='K1')\n",
    "K1[0,3] = omega*r^2*sin(th)^2\n",
    "K1[3,0] = omega*r^2*sin(th)^2\n",
    "\n",
    "K2 = M.tensor_field(0,2, name='K2')\n",
    "K2[0,0] = -4*exp(nu)*h + 2*r^2*sin(th)^2*omega^2\n",
    "K2[1,1] = 4*exp(lamb)*m\n",
    "K2[2,2] = 4*k*r^2\n",
    "K2[3,3] = 4*k*r^2*sin(th)^2\n",
    "\n",
    "gedd = M.metric()\n",
    "for i in range(0,n+1):\n",
    "    for j in range(0,n+1):\n",
    "        gedd[i,j] = gdd[i,j] + eps*K1[i,j] + 1/2*eps^2*K2[i,j]\n",
    "\n",
    "geuu = gedd.inverse()\n",
    "ricci = gedd.ricci()\n",
    "s_curv = geuu['^{ab}']*ricci['_ab']\n",
    "eins = ricci - gdd*s_curv/2                                                                             #G_\\mu\\nu e\n",
    "\n",
    "deins = M.tensor_field(0,2,'deins')\n",
    "ddeins = M.tensor_field(0,2,'ddeins')\n",
    "for i in range(0,n+1):\n",
    "    for j in range(0,n+1):\n",
    "        deins[i,j] = diff(eins[i,j].expr(),eps)\n",
    "        ddeins[i,j] = diff(eins[i,j].expr(),eps,eps)"
   ]
  },
  {
   "cell_type": "code",
   "execution_count": 6,
   "metadata": {},
   "outputs": [
    {
     "data": {
      "text/html": [
       "<html>\\[\\newcommand{\\Bold}[1]{\\mathbf{#1}}g_{\\varepsilon}\\rvert_{\\varepsilon=0} =  \\left(\\begin{array}{rrrr}\n",
       "-e^{\\nu\\left(r\\right)} & 0 & 0 & 0 \\\\\n",
       "0 & e^{\\lambda\\left(r\\right)} & 0 & 0 \\\\\n",
       "0 & 0 & r^{2} & 0 \\\\\n",
       "0 & 0 & 0 & r^{2} \\sin\\left({\\theta}\\right)^{2}\n",
       "\\end{array}\\right)\\]</html>"
      ],
      "text/latex": [
       "$$\\newcommand{\\Bold}[1]{\\mathbf{#1}}g_{\\varepsilon}\\rvert_{\\varepsilon=0} =  \\left(\\begin{array}{rrrr}\n",
       "-e^{\\nu\\left(r\\right)} & 0 & 0 & 0 \\\\\n",
       "0 & e^{\\lambda\\left(r\\right)} & 0 & 0 \\\\\n",
       "0 & 0 & r^{2} & 0 \\\\\n",
       "0 & 0 & 0 & r^{2} \\sin\\left({\\theta}\\right)^{2}\n",
       "\\end{array}\\right)$$"
      ],
      "text/plain": [
       "g_{\\varepsilon}\\rvert_{\\varepsilon=0} =  [     -e^nu(r)             0             0             0]\n",
       "[            0     e^lamb(r)             0             0]\n",
       "[            0             0           r^2             0]\n",
       "[            0             0             0 r^2*sin(th)^2]"
      ]
     },
     "metadata": {},
     "output_type": "display_data"
    },
    {
     "data": {
      "text/html": [
       "<html>\\[\\newcommand{\\Bold}[1]{\\mathbf{#1}}K_1 =  \\left(\\begin{array}{rrrr}\n",
       "0 & 0 & 0 & r^{2} \\omega\\left(r, {\\theta}\\right) \\sin\\left({\\theta}\\right)^{2} \\\\\n",
       "0 & 0 & 0 & 0 \\\\\n",
       "0 & 0 & 0 & 0 \\\\\n",
       "r^{2} \\omega\\left(r, {\\theta}\\right) \\sin\\left({\\theta}\\right)^{2} & 0 & 0 & 0\n",
       "\\end{array}\\right)\\]</html>"
      ],
      "text/latex": [
       "$$\\newcommand{\\Bold}[1]{\\mathbf{#1}}K_1 =  \\left(\\begin{array}{rrrr}\n",
       "0 & 0 & 0 & r^{2} \\omega\\left(r, {\\theta}\\right) \\sin\\left({\\theta}\\right)^{2} \\\\\n",
       "0 & 0 & 0 & 0 \\\\\n",
       "0 & 0 & 0 & 0 \\\\\n",
       "r^{2} \\omega\\left(r, {\\theta}\\right) \\sin\\left({\\theta}\\right)^{2} & 0 & 0 & 0\n",
       "\\end{array}\\right)$$"
      ],
      "text/plain": [
       "K_1 =  [                         0                          0                          0 r^2*omega(r, th)*sin(th)^2]\n",
       "[                         0                          0                          0                          0]\n",
       "[                         0                          0                          0                          0]\n",
       "[r^2*omega(r, th)*sin(th)^2                          0                          0                          0]"
      ]
     },
     "metadata": {},
     "output_type": "display_data"
    },
    {
     "data": {
      "text/html": [
       "<html>\\[\\newcommand{\\Bold}[1]{\\mathbf{#1}}K_2 =  \\left(\\begin{array}{rrrr}\n",
       "2 \\, r^{2} \\omega\\left(r, {\\theta}\\right)^{2} \\sin\\left({\\theta}\\right)^{2} - 4 \\, e^{\\nu\\left(r\\right)} h\\left(r, {\\theta}\\right) & 0 & 0 & 0 \\\\\n",
       "0 & 4 \\, e^{\\lambda\\left(r\\right)} m\\left(r, {\\theta}\\right) & 0 & 0 \\\\\n",
       "0 & 0 & 4 \\, r^{2} k\\left(r, {\\theta}\\right) & 0 \\\\\n",
       "0 & 0 & 0 & 4 \\, r^{2} k\\left(r, {\\theta}\\right) \\sin\\left({\\theta}\\right)^{2}\n",
       "\\end{array}\\right)\\]</html>"
      ],
      "text/latex": [
       "$$\\newcommand{\\Bold}[1]{\\mathbf{#1}}K_2 =  \\left(\\begin{array}{rrrr}\n",
       "2 \\, r^{2} \\omega\\left(r, {\\theta}\\right)^{2} \\sin\\left({\\theta}\\right)^{2} - 4 \\, e^{\\nu\\left(r\\right)} h\\left(r, {\\theta}\\right) & 0 & 0 & 0 \\\\\n",
       "0 & 4 \\, e^{\\lambda\\left(r\\right)} m\\left(r, {\\theta}\\right) & 0 & 0 \\\\\n",
       "0 & 0 & 4 \\, r^{2} k\\left(r, {\\theta}\\right) & 0 \\\\\n",
       "0 & 0 & 0 & 4 \\, r^{2} k\\left(r, {\\theta}\\right) \\sin\\left({\\theta}\\right)^{2}\n",
       "\\end{array}\\right)$$"
      ],
      "text/plain": [
       "K_2 =  [2*r^2*omega(r, th)^2*sin(th)^2 - 4*e^nu(r)*h(r, th)                                                   0                                                   0                                                   0]\n",
       "[                                                  0                                4*e^lamb(r)*m(r, th)                                                   0                                                   0]\n",
       "[                                                  0                                                   0                                      4*r^2*k(r, th)                                                   0]\n",
       "[                                                  0                                                   0                                                   0                            4*r^2*k(r, th)*sin(th)^2]"
      ]
     },
     "metadata": {},
     "output_type": "display_data"
    },
    {
     "data": {
      "text/html": [
       "<html>\\[\\newcommand{\\Bold}[1]{\\mathbf{#1}}g_{\\varepsilon} =  \\left(\\begin{array}{rrrr}\n",
       "{\\varepsilon}^{2} r^{2} \\omega\\left(r, {\\theta}\\right)^{2} \\sin\\left({\\theta}\\right)^{2} - 2 \\, {\\varepsilon}^{2} e^{\\nu\\left(r\\right)} h\\left(r, {\\theta}\\right) - e^{\\nu\\left(r\\right)} & 0 & 0 & {\\varepsilon} r^{2} \\omega\\left(r, {\\theta}\\right) \\sin\\left({\\theta}\\right)^{2} \\\\\n",
       "0 & 2 \\, {\\varepsilon}^{2} e^{\\lambda\\left(r\\right)} m\\left(r, {\\theta}\\right) + e^{\\lambda\\left(r\\right)} & 0 & 0 \\\\\n",
       "0 & 0 & 2 \\, {\\varepsilon}^{2} r^{2} k\\left(r, {\\theta}\\right) + r^{2} & 0 \\\\\n",
       "{\\varepsilon} r^{2} \\omega\\left(r, {\\theta}\\right) \\sin\\left({\\theta}\\right)^{2} & 0 & 0 & {\\left(2 \\, {\\varepsilon}^{2} r^{2} k\\left(r, {\\theta}\\right) + r^{2}\\right)} \\sin\\left({\\theta}\\right)^{2}\n",
       "\\end{array}\\right)\\]</html>"
      ],
      "text/latex": [
       "$$\\newcommand{\\Bold}[1]{\\mathbf{#1}}g_{\\varepsilon} =  \\left(\\begin{array}{rrrr}\n",
       "{\\varepsilon}^{2} r^{2} \\omega\\left(r, {\\theta}\\right)^{2} \\sin\\left({\\theta}\\right)^{2} - 2 \\, {\\varepsilon}^{2} e^{\\nu\\left(r\\right)} h\\left(r, {\\theta}\\right) - e^{\\nu\\left(r\\right)} & 0 & 0 & {\\varepsilon} r^{2} \\omega\\left(r, {\\theta}\\right) \\sin\\left({\\theta}\\right)^{2} \\\\\n",
       "0 & 2 \\, {\\varepsilon}^{2} e^{\\lambda\\left(r\\right)} m\\left(r, {\\theta}\\right) + e^{\\lambda\\left(r\\right)} & 0 & 0 \\\\\n",
       "0 & 0 & 2 \\, {\\varepsilon}^{2} r^{2} k\\left(r, {\\theta}\\right) + r^{2} & 0 \\\\\n",
       "{\\varepsilon} r^{2} \\omega\\left(r, {\\theta}\\right) \\sin\\left({\\theta}\\right)^{2} & 0 & 0 & {\\left(2 \\, {\\varepsilon}^{2} r^{2} k\\left(r, {\\theta}\\right) + r^{2}\\right)} \\sin\\left({\\theta}\\right)^{2}\n",
       "\\end{array}\\right)$$"
      ],
      "text/plain": [
       "g_{\\varepsilon} =  [eps^2*r^2*omega(r, th)^2*sin(th)^2 - 2*eps^2*e^nu(r)*h(r, th) - e^nu(r)                                                                       0                                                                       0                                          eps*r^2*omega(r, th)*sin(th)^2]\n",
       "[                                                                      0                                  2*eps^2*e^lamb(r)*m(r, th) + e^lamb(r)                                                                       0                                                                       0]\n",
       "[                                                                      0                                                                       0                                              2*eps^2*r^2*k(r, th) + r^2                                                                       0]\n",
       "[                                         eps*r^2*omega(r, th)*sin(th)^2                                                                       0                                                                       0                                  (2*eps^2*r^2*k(r, th) + r^2)*sin(th)^2]"
      ]
     },
     "metadata": {},
     "output_type": "display_data"
    }
   ],
   "source": [
    "show(LatexExpr(\"g_{\\\\varepsilon}\\\\rvert_{\\\\varepsilon=0} = \"), gdd[:])\n",
    "show(LatexExpr(\"K_1 = \"), K1[:])\n",
    "show(LatexExpr(\"K_2 = \"), K2[:])\n",
    "show(LatexExpr(\"g_{\\\\varepsilon} = \"), gedd[:])"
   ]
  },
  {
   "cell_type": "code",
   "execution_count": 7,
   "metadata": {},
   "outputs": [],
   "source": [
    "#4-velocities of the fluid for any epsilon\n",
    "\n",
    "ue = M.vector_field(name=\"ue\")\n",
    "ue[0] = Ne; ue[1] = 0; ue[2] = 0; ue[3] = Ne*Omegae\n",
    "\n",
    "u = M.vector_field(name=\"u\")\n",
    "u[0] = exp(-nu/2); u[1] =  0; u[2] =  0; u[3] =  0\n",
    "\n",
    "Nevalue = solve(u[0].expr()==ue[0].expr(), Ne)[0].rhs()                                                    #Eq 4.20\n",
    "Omegaevalue = solve(u[3].expr()==ue[3].expr(), Omegae)[0].rhs()                                            #Eq 4.20"
   ]
  },
  {
   "cell_type": "code",
   "execution_count": 8,
   "metadata": {},
   "outputs": [
    {
     "data": {
      "text/html": [
       "<html>\\[\\newcommand{\\Bold}[1]{\\mathbf{#1}}N_{\\varepsilon}\\rvert_{\\varepsilon=0} =  e^{\\left(-\\frac{1}{2} \\, \\nu\\left(r\\right)\\right)}\\]</html>"
      ],
      "text/latex": [
       "$$\\newcommand{\\Bold}[1]{\\mathbf{#1}}N_{\\varepsilon}\\rvert_{\\varepsilon=0} =  e^{\\left(-\\frac{1}{2} \\, \\nu\\left(r\\right)\\right)}$$"
      ],
      "text/plain": [
       "N_{\\varepsilon}\\rvert_{\\varepsilon=0} =  e^(-1/2*nu(r))"
      ]
     },
     "metadata": {},
     "output_type": "display_data"
    },
    {
     "data": {
      "text/html": [
       "<html>\\[\\newcommand{\\Bold}[1]{\\mathbf{#1}}\\Omega_{\\varepsilon}\\rvert_{\\varepsilon=0} =  0\\]</html>"
      ],
      "text/latex": [
       "$$\\newcommand{\\Bold}[1]{\\mathbf{#1}}\\Omega_{\\varepsilon}\\rvert_{\\varepsilon=0} =  0$$"
      ],
      "text/plain": [
       "\\Omega_{\\varepsilon}\\rvert_{\\varepsilon=0} =  0"
      ]
     },
     "metadata": {},
     "output_type": "display_data"
    }
   ],
   "source": [
    "show(LatexExpr(\"N_{\\\\varepsilon}\\\\rvert_{\\\\varepsilon=0} = \"), Nevalue)\n",
    "show(LatexExpr(\"\\\\Omega_{\\\\varepsilon}\\\\rvert_{\\\\varepsilon=0} = \"), Omegaevalue)"
   ]
  },
  {
   "cell_type": "code",
   "execution_count": 9,
   "metadata": {},
   "outputs": [],
   "source": [
    "u1 = M.vector_field(name=\"u1\",latex_name=\"u^{(1)}\")\n",
    "u2 = M.vector_field(name=\"u2\",latex_name=\"u^{(2)}\")\n",
    "\n",
    "u10 = function('u10',latex_name=\"u^{(1)0}\")(r)\n",
    "u20 = function('u20',latex_name=\"u^{(2)0}\")(r)\n",
    "\n",
    "Omega1 = function('Omega1', latex_name=\"\\\\Omega^{(1)}\")(eps)\n",
    "Omega2 = function('Omega2', latex_name=\"\\\\Omega^{(2)}\")(eps)\n",
    "\n",
    "s0 = eps == 0\n",
    "s1 = Ne.subs(eps==0) == Nevalue\n",
    "s2 = Omegae.subs(eps==0) == Omegaevalue\n",
    "s3 = diff(Ne,eps).subs(eps==0) == u10\n",
    "s4 = diff(Omegae,eps).subs(eps==0) == Omega1\n",
    "s5 = diff(Ne,eps,eps).subs(eps==0) == u20\n",
    "s6 = diff(Omegae,eps,eps).subs(eps==0) == Omega2\n",
    "\n",
    "sustituciones = (s0,s1,s2,s3,s4,s5,s6)\n",
    "\n",
    "for i in range(0,n+1):\n",
    "    u1[i] = diff(ue[i].expr(),eps).subs(sustituciones)\n",
    "    u2[i] = diff(ue[i].expr(),eps,eps).subs(sustituciones)\n",
    "\n",
    "Ue = ue.down(gedd)\n",
    "geUeue = Ue['_a']*ue['^a']\n",
    "dgeUeue = diff(geUeue.expr(), eps).subs(sustituciones) == 0\n",
    "u10value = solve(dgeUeue, u10)[0].rhs()\n",
    "s7 = u10 == u10value\n",
    "u1.apply_map(lambda cmp: cmp.subs(u10==u10value))                                                          #Eq 4.21\n",
    "\n",
    "ddgeUeue = diff(geUeue.expr(), eps, eps).subs(sustituciones) == 0\n",
    "u20value = solve(ddgeUeue, u20)[0].rhs()\n",
    "s8 = u20 == u20value\n",
    "u2.apply_map(lambda cmp: cmp.subs(u20==u20value).subs(u10==u10value))                                      #Eq 4.22"
   ]
  },
  {
   "cell_type": "code",
   "execution_count": 10,
   "metadata": {},
   "outputs": [
    {
     "data": {
      "text/html": [
       "<html>\\[\\newcommand{\\Bold}[1]{\\mathbf{#1}}u^{(1)} = \\Omega^{(1)}\\left({\\varepsilon}\\right) e^{\\left(-\\frac{1}{2} \\, \\nu\\left(r\\right)\\right)} \\frac{\\partial}{\\partial {\\phi} }\\]</html>"
      ],
      "text/latex": [
       "$$\\newcommand{\\Bold}[1]{\\mathbf{#1}}u^{(1)} = \\Omega^{(1)}\\left({\\varepsilon}\\right) e^{\\left(-\\frac{1}{2} \\, \\nu\\left(r\\right)\\right)} \\frac{\\partial}{\\partial {\\phi} }$$"
      ],
      "text/plain": [
       "u1 = Omega1(eps)*e^(-1/2*nu(r)) ∂/∂ph"
      ]
     },
     "metadata": {},
     "output_type": "display_data"
    },
    {
     "data": {
      "text/html": [
       "<html>\\[\\newcommand{\\Bold}[1]{\\mathbf{#1}}u^{(2)} = {\\left({\\left(r^{2} \\Omega^{(1)}\\left({\\varepsilon}\\right)^{2} + 2 \\, r^{2} \\Omega^{(1)}\\left({\\varepsilon}\\right) \\omega\\left(r, {\\theta}\\right) + r^{2} \\omega\\left(r, {\\theta}\\right)^{2}\\right)} \\sin\\left({\\theta}\\right)^{2} - 2 \\, e^{\\nu\\left(r\\right)} h\\left(r, {\\theta}\\right)\\right)} e^{\\left(-\\frac{3}{2} \\, \\nu\\left(r\\right)\\right)} \\frac{\\partial}{\\partial t } + \\Omega^{(2)}\\left({\\varepsilon}\\right) e^{\\left(-\\frac{1}{2} \\, \\nu\\left(r\\right)\\right)} \\frac{\\partial}{\\partial {\\phi} }\\]</html>"
      ],
      "text/latex": [
       "$$\\newcommand{\\Bold}[1]{\\mathbf{#1}}u^{(2)} = {\\left({\\left(r^{2} \\Omega^{(1)}\\left({\\varepsilon}\\right)^{2} + 2 \\, r^{2} \\Omega^{(1)}\\left({\\varepsilon}\\right) \\omega\\left(r, {\\theta}\\right) + r^{2} \\omega\\left(r, {\\theta}\\right)^{2}\\right)} \\sin\\left({\\theta}\\right)^{2} - 2 \\, e^{\\nu\\left(r\\right)} h\\left(r, {\\theta}\\right)\\right)} e^{\\left(-\\frac{3}{2} \\, \\nu\\left(r\\right)\\right)} \\frac{\\partial}{\\partial t } + \\Omega^{(2)}\\left({\\varepsilon}\\right) e^{\\left(-\\frac{1}{2} \\, \\nu\\left(r\\right)\\right)} \\frac{\\partial}{\\partial {\\phi} }$$"
      ],
      "text/plain": [
       "u2 = ((r^2*Omega1(eps)^2 + 2*r^2*Omega1(eps)*omega(r, th) + r^2*omega(r, th)^2)*sin(th)^2 - 2*e^nu(r)*h(r, th))*e^(-3/2*nu(r)) ∂/∂t + Omega2(eps)*e^(-1/2*nu(r)) ∂/∂ph"
      ]
     },
     "metadata": {},
     "output_type": "display_data"
    }
   ],
   "source": [
    "show(u1.display())\n",
    "show(u2.display())"
   ]
  },
  {
   "cell_type": "code",
   "execution_count": 11,
   "metadata": {},
   "outputs": [],
   "source": [
    "deins.apply_map(lambda cmp: cmp.subs(sustituciones))                                             #d/de(G_\\mu\\nu)|e=0\n",
    "ddeins.apply_map(lambda cmp: cmp.subs(sustituciones))                                        #d^2/de^2(G_\\mu\\nu)|e=0"
   ]
  },
  {
   "cell_type": "code",
   "execution_count": 12,
   "metadata": {},
   "outputs": [],
   "source": [
    "Ee = function('Ee', latex_name=\"E_{\\\\varepsilon}\")(r,eps)\n",
    "Pe = function('Pe', latex_name=\"P_{\\\\varepsilon}\")(r,eps)\n",
    "\n",
    "eins0 = M.tensor_field(0,2, 'eins0', latex_name='G_0')\n",
    "Tedd = M.tensor_field(0,2,name='Tedd',latex_name=\"Tdd_{\\\\varepsilon}\")\n",
    "Tdd = M.tensor_field(0,2, 'Tdd')\n",
    "for i in range(0,n+1):\n",
    "    for j in range(0,n+1):\n",
    "        eins0[i,j] = eins[i,j]\n",
    "        Tedd[i,j] = (Ee + Pe)*Ue[i]*Ue[j] + Pe*gedd[i,j]                                                 #T_\\mu\\nu e\n",
    "        Tdd[i,j] = Tedd[i,j]\n",
    "\n",
    "eins0.apply_map(lambda cmp: cmp.subs(sustituciones))                                                       #G_\\mu\\nu\n",
    "Tdd.apply_map(lambda cmp: cmp.subs(sustituciones))                                                         #T_\\mu\\nu"
   ]
  },
  {
   "cell_type": "code",
   "execution_count": 13,
   "metadata": {},
   "outputs": [
    {
     "data": {
      "text/html": [
       "<html>\\[\\newcommand{\\Bold}[1]{\\mathbf{#1}}T_{\\varepsilon}\\rvert_{\\varepsilon=0} =  \\left(\\begin{array}{rrrr}\n",
       "E_{\\varepsilon}\\left(r, 0\\right) e^{\\nu\\left(r\\right)} & 0 & 0 & 0 \\\\\n",
       "0 & P_{\\varepsilon}\\left(r, 0\\right) e^{\\lambda\\left(r\\right)} & 0 & 0 \\\\\n",
       "0 & 0 & r^{2} P_{\\varepsilon}\\left(r, 0\\right) & 0 \\\\\n",
       "0 & 0 & 0 & r^{2} P_{\\varepsilon}\\left(r, 0\\right) \\sin\\left({\\theta}\\right)^{2}\n",
       "\\end{array}\\right)\\]</html>"
      ],
      "text/latex": [
       "$$\\newcommand{\\Bold}[1]{\\mathbf{#1}}T_{\\varepsilon}\\rvert_{\\varepsilon=0} =  \\left(\\begin{array}{rrrr}\n",
       "E_{\\varepsilon}\\left(r, 0\\right) e^{\\nu\\left(r\\right)} & 0 & 0 & 0 \\\\\n",
       "0 & P_{\\varepsilon}\\left(r, 0\\right) e^{\\lambda\\left(r\\right)} & 0 & 0 \\\\\n",
       "0 & 0 & r^{2} P_{\\varepsilon}\\left(r, 0\\right) & 0 \\\\\n",
       "0 & 0 & 0 & r^{2} P_{\\varepsilon}\\left(r, 0\\right) \\sin\\left({\\theta}\\right)^{2}\n",
       "\\end{array}\\right)$$"
      ],
      "text/plain": [
       "T_{\\varepsilon}\\rvert_{\\varepsilon=0} =  [      Ee(r, 0)*e^nu(r)                      0                      0                      0]\n",
       "[                     0     Pe(r, 0)*e^lamb(r)                      0                      0]\n",
       "[                     0                      0           r^2*Pe(r, 0)                      0]\n",
       "[                     0                      0                      0 r^2*Pe(r, 0)*sin(th)^2]"
      ]
     },
     "metadata": {},
     "output_type": "display_data"
    }
   ],
   "source": [
    "show(LatexExpr(\"T_{\\\\varepsilon}\\\\rvert_{\\\\varepsilon=0} = \"), Tdd[:])"
   ]
  },
  {
   "cell_type": "code",
   "execution_count": 14,
   "metadata": {},
   "outputs": [
    {
     "data": {
      "text/html": [
       "<html>\\[\\newcommand{\\Bold}[1]{\\mathbf{#1}}\\frac{{\\left(r e^{\\left(3 \\, \\nu\\left(r\\right)\\right)} \\frac{\\partial}{\\partial r}\\lambda\\left(r\\right) + {\\left(e^{\\lambda\\left(r\\right)} - 1\\right)} e^{\\left(3 \\, \\nu\\left(r\\right)\\right)}\\right)} e^{\\left(-\\lambda\\left(r\\right) - 2 \\, \\nu\\left(r\\right)\\right)}}{r^{2}}\\]</html>"
      ],
      "text/latex": [
       "$$\\newcommand{\\Bold}[1]{\\mathbf{#1}}\\frac{{\\left(r e^{\\left(3 \\, \\nu\\left(r\\right)\\right)} \\frac{\\partial}{\\partial r}\\lambda\\left(r\\right) + {\\left(e^{\\lambda\\left(r\\right)} - 1\\right)} e^{\\left(3 \\, \\nu\\left(r\\right)\\right)}\\right)} e^{\\left(-\\lambda\\left(r\\right) - 2 \\, \\nu\\left(r\\right)\\right)}}{r^{2}}$$"
      ],
      "text/plain": [
       "(r*e^(3*nu(r))*diff(lamb(r), r) + (e^lamb(r) - 1)*e^(3*nu(r)))*e^(-lamb(r) - 2*nu(r))/r^2"
      ]
     },
     "execution_count": 14,
     "metadata": {},
     "output_type": "execute_result"
    }
   ],
   "source": [
    "eins0[0,0].expr()"
   ]
  },
  {
   "cell_type": "code",
   "execution_count": 41,
   "metadata": {},
   "outputs": [],
   "source": [
    "kappa = 8*pi\n",
    "E = function('E')(r,th)\n",
    "P = function('P')(r)\n",
    "\n",
    "s9 = Ee.subs(eps==0) == E\n",
    "s10 = Pe.subs(eps==0) == P\n",
    "sustituciones = (s1,s2,s3,s4,s5,s6,s7,s8,s9,s10)\n",
    "Tdd.apply_map(lambda cmp: cmp.subs(sustituciones))\n",
    "E_tt = solve(eins0[0,0].expr()==kappa*Tdd[0,0].expr(),E)[0].rhs()                                            #Eq 3.7\n",
    "\n",
    "P_rr = solve(eins0[1,1].expr()==kappa*Tdd[1,1].expr(),P)[0].rhs()                                            #Eq 3.8\n",
    "P_thth = solve(eins0[2,2].expr()==kappa*Tdd[2,2].expr(),P)[0].rhs()\n",
    "P_phph = solve(eins0[3,3].expr()==kappa*Tdd[3,3].expr(),P)[0].rhs()\n",
    "ddnu = solve(P_rr == P_thth, diff(nu,r,r))[0].rhs()                                                          #Eq 3.9"
   ]
  },
  {
   "cell_type": "code",
   "execution_count": 42,
   "metadata": {},
   "outputs": [
    {
     "data": {
      "text/html": [
       "<html>\\[\\newcommand{\\Bold}[1]{\\mathbf{#1}}E =  \\frac{{\\left(r \\frac{\\partial}{\\partial r}\\lambda\\left(r\\right) + e^{\\lambda\\left(r\\right)} - 1\\right)} e^{\\left(-\\lambda\\left(r\\right)\\right)}}{8 \\, \\pi r^{2}}\\]</html>"
      ],
      "text/latex": [
       "$$\\newcommand{\\Bold}[1]{\\mathbf{#1}}E =  \\frac{{\\left(r \\frac{\\partial}{\\partial r}\\lambda\\left(r\\right) + e^{\\lambda\\left(r\\right)} - 1\\right)} e^{\\left(-\\lambda\\left(r\\right)\\right)}}{8 \\, \\pi r^{2}}$$"
      ],
      "text/plain": [
       "E =  1/8*(r*diff(lamb(r), r) + e^lamb(r) - 1)*e^(-lamb(r))/(pi*r^2)"
      ]
     },
     "metadata": {},
     "output_type": "display_data"
    },
    {
     "data": {
      "text/html": [
       "<html>\\[\\newcommand{\\Bold}[1]{\\mathbf{#1}}P_{rr} =  \\frac{{\\left(r \\frac{\\partial}{\\partial r}\\nu\\left(r\\right) - e^{\\lambda\\left(r\\right)} + 1\\right)} e^{\\left(-\\lambda\\left(r\\right)\\right)}}{8 \\, \\pi r^{2}}\\]</html>"
      ],
      "text/latex": [
       "$$\\newcommand{\\Bold}[1]{\\mathbf{#1}}P_{rr} =  \\frac{{\\left(r \\frac{\\partial}{\\partial r}\\nu\\left(r\\right) - e^{\\lambda\\left(r\\right)} + 1\\right)} e^{\\left(-\\lambda\\left(r\\right)\\right)}}{8 \\, \\pi r^{2}}$$"
      ],
      "text/plain": [
       "P_{rr} =  1/8*(r*diff(nu(r), r) - e^lamb(r) + 1)*e^(-lamb(r))/(pi*r^2)"
      ]
     },
     "metadata": {},
     "output_type": "display_data"
    },
    {
     "data": {
      "text/html": [
       "<html>\\[\\newcommand{\\Bold}[1]{\\mathbf{#1}}\\nu'' =  -\\frac{r^{2} \\frac{\\partial}{\\partial r}\\nu\\left(r\\right)^{2} - 2 \\, r \\frac{\\partial}{\\partial r}\\lambda\\left(r\\right) - {\\left(r^{2} \\frac{\\partial}{\\partial r}\\lambda\\left(r\\right) + 2 \\, r\\right)} \\frac{\\partial}{\\partial r}\\nu\\left(r\\right) + 4 \\, e^{\\lambda\\left(r\\right)} - 4}{2 \\, r^{2}}\\]</html>"
      ],
      "text/latex": [
       "$$\\newcommand{\\Bold}[1]{\\mathbf{#1}}\\nu'' =  -\\frac{r^{2} \\frac{\\partial}{\\partial r}\\nu\\left(r\\right)^{2} - 2 \\, r \\frac{\\partial}{\\partial r}\\lambda\\left(r\\right) - {\\left(r^{2} \\frac{\\partial}{\\partial r}\\lambda\\left(r\\right) + 2 \\, r\\right)} \\frac{\\partial}{\\partial r}\\nu\\left(r\\right) + 4 \\, e^{\\lambda\\left(r\\right)} - 4}{2 \\, r^{2}}$$"
      ],
      "text/plain": [
       "\\nu'' =  -1/2*(r^2*diff(nu(r), r)^2 - 2*r*diff(lamb(r), r) - (r^2*diff(lamb(r), r) + 2*r)*diff(nu(r), r) + 4*e^lamb(r) - 4)/r^2"
      ]
     },
     "metadata": {},
     "output_type": "display_data"
    }
   ],
   "source": [
    "show(LatexExpr(\"E = \"), E_tt)\n",
    "show(LatexExpr(\"P_{rr} = \"), P_rr)\n",
    "show(LatexExpr(\"\\\\nu'' = \"), ddnu)"
   ]
  },
  {
   "cell_type": "code",
   "execution_count": 43,
   "metadata": {},
   "outputs": [],
   "source": [
    "dlamb = solve(E==E_tt,diff(lamb,r))[0].rhs()                                                                 #Eq 3.10\n",
    "dnu = solve(P==P_rr,diff(nu,r))[0].rhs()                                                                     #Eq 3.11"
   ]
  },
  {
   "cell_type": "code",
   "execution_count": 44,
   "metadata": {},
   "outputs": [
    {
     "data": {
      "text/html": [
       "<html>\\[\\newcommand{\\Bold}[1]{\\mathbf{#1}}\\lambda' =  \\frac{8 \\, \\pi r^{2} E\\left(r, {\\theta}\\right) e^{\\lambda\\left(r\\right)} - e^{\\lambda\\left(r\\right)} + 1}{r}\\]</html>"
      ],
      "text/latex": [
       "$$\\newcommand{\\Bold}[1]{\\mathbf{#1}}\\lambda' =  \\frac{8 \\, \\pi r^{2} E\\left(r, {\\theta}\\right) e^{\\lambda\\left(r\\right)} - e^{\\lambda\\left(r\\right)} + 1}{r}$$"
      ],
      "text/plain": [
       "\\lambda' =  (8*pi*r^2*E(r, th)*e^lamb(r) - e^lamb(r) + 1)/r"
      ]
     },
     "metadata": {},
     "output_type": "display_data"
    },
    {
     "data": {
      "text/html": [
       "<html>\\[\\newcommand{\\Bold}[1]{\\mathbf{#1}}\\nu' =  \\frac{8 \\, \\pi r^{2} P\\left(r\\right) e^{\\lambda\\left(r\\right)} + e^{\\lambda\\left(r\\right)} - 1}{r}\\]</html>"
      ],
      "text/latex": [
       "$$\\newcommand{\\Bold}[1]{\\mathbf{#1}}\\nu' =  \\frac{8 \\, \\pi r^{2} P\\left(r\\right) e^{\\lambda\\left(r\\right)} + e^{\\lambda\\left(r\\right)} - 1}{r}$$"
      ],
      "text/plain": [
       "\\nu' =  (8*pi*r^2*P(r)*e^lamb(r) + e^lamb(r) - 1)/r"
      ]
     },
     "metadata": {},
     "output_type": "display_data"
    }
   ],
   "source": [
    "show(LatexExpr(\"\\\\lambda' = \"), dlamb)\n",
    "show(LatexExpr(\"\\\\nu' = \"), dnu)"
   ]
  },
  {
   "cell_type": "code",
   "execution_count": 45,
   "metadata": {},
   "outputs": [],
   "source": [
    "h0 = function('h0', latex_name=\"h_0\")(r,th)\n",
    "k0 = function('k0', latex_name=\"k_0\")(r,th)\n",
    "m0 = function('m0', latex_name=\"m_0\")(r,th)\n",
    "\n",
    "h2 = function('h2', latex_name=\"h_2\")(r,th)\n",
    "k2 = function('k2', latex_name=\"k_2\")(r,th)\n",
    "m2 = function('m2', latex_name=\"m_2\")(r,th)"
   ]
  },
  {
   "cell_type": "code",
   "execution_count": 46,
   "metadata": {},
   "outputs": [],
   "source": [
    "E1 = function('E1', latex_name='E^{(1)}')(r,th)\n",
    "E2 = function('E2', latex_name='E^{(2)}')(r,th)\n",
    "P1 = function('P1', latex_name='P^{(1)}')(r,th)\n",
    "P2 = function('P2', latex_name='P^{(2)}')(r,th)\n",
    "\n",
    "s11 = diff(Ee,eps).subs(eps==0) == E1\n",
    "s12 = diff(Ee,eps,eps).subs(eps==0) == E2\n",
    "s13 = diff(Pe,eps).subs(eps==0) == P1\n",
    "s14 = diff(Pe,eps,eps).subs(eps==0) == P2\n",
    "\n",
    "sustituciones = (s0,s1,s2,s3,s4,s5,s6,s7,s8,s9,s10,s11,s12,s13,s14)"
   ]
  },
  {
   "cell_type": "code",
   "execution_count": 47,
   "metadata": {},
   "outputs": [],
   "source": [
    "dTdd = M.tensor_field(0,2,'dTdd')\n",
    "ddTdd = M.tensor_field(0,2,'ddTdd')\n",
    "for i in range(0,n+1):\n",
    "    for j in range(0,n+1):\n",
    "        dTdd[i,j] = diff(Tedd[i,j].expr(),eps)\n",
    "        ddTdd[i,j] = diff(Tedd[i,j].expr(),eps,eps)\n",
    "dTdd.apply_map(lambda cmp: cmp.subs(sustituciones))                                              #d/de(T_\\mu\\nu)|e=0\n",
    "ddTdd.apply_map(lambda cmp: cmp.subs(sustituciones))                                         #d^2/de^2(T_\\mu\\nu)|e=0"
   ]
  },
  {
   "cell_type": "code",
   "execution_count": 48,
   "metadata": {
    "scrolled": true
   },
   "outputs": [
    {
     "data": {
      "text/html": [
       "<html>\\[\\newcommand{\\Bold}[1]{\\mathbf{#1}}0  =  8 \\, \\pi {\\left(2 \\, {\\varepsilon}^{2} e^{\\lambda\\left(r\\right)} m\\left(r, {\\theta}\\right) \\frac{\\partial\\,P_{\\varepsilon}}{\\partial {\\varepsilon}} + 4 \\, {\\varepsilon} P_{\\varepsilon}\\left(r, {\\varepsilon}\\right) e^{\\lambda\\left(r\\right)} m\\left(r, {\\theta}\\right) + e^{\\lambda\\left(r\\right)} \\frac{\\partial\\,P_{\\varepsilon}}{\\partial {\\varepsilon}}\\right)}\\]</html>"
      ],
      "text/latex": [
       "$$\\newcommand{\\Bold}[1]{\\mathbf{#1}}0  =  8 \\, \\pi {\\left(2 \\, {\\varepsilon}^{2} e^{\\lambda\\left(r\\right)} m\\left(r, {\\theta}\\right) \\frac{\\partial\\,P_{\\varepsilon}}{\\partial {\\varepsilon}} + 4 \\, {\\varepsilon} P_{\\varepsilon}\\left(r, {\\varepsilon}\\right) e^{\\lambda\\left(r\\right)} m\\left(r, {\\theta}\\right) + e^{\\lambda\\left(r\\right)} \\frac{\\partial\\,P_{\\varepsilon}}{\\partial {\\varepsilon}}\\right)}$$"
      ],
      "text/plain": [
       "0  =  8*pi*(2*eps^2*e^lamb(r)*m(r, th)*d(Pe)/deps + 4*eps*Pe(r, eps)*e^lamb(r)*m(r, th) + e^lamb(r)*d(Pe)/deps)"
      ]
     },
     "metadata": {},
     "output_type": "display_data"
    },
    {
     "data": {
      "text/html": [
       "<html>\\[\\newcommand{\\Bold}[1]{\\mathbf{#1}}0  =  8 \\, \\pi {\\left(2 \\, {\\varepsilon}^{2} r^{2} k\\left(r, {\\theta}\\right) \\frac{\\partial\\,P_{\\varepsilon}}{\\partial {\\varepsilon}} + 4 \\, {\\varepsilon} r^{2} P_{\\varepsilon}\\left(r, {\\varepsilon}\\right) k\\left(r, {\\theta}\\right) + r^{2} \\frac{\\partial\\,P_{\\varepsilon}}{\\partial {\\varepsilon}}\\right)}\\]</html>"
      ],
      "text/latex": [
       "$$\\newcommand{\\Bold}[1]{\\mathbf{#1}}0  =  8 \\, \\pi {\\left(2 \\, {\\varepsilon}^{2} r^{2} k\\left(r, {\\theta}\\right) \\frac{\\partial\\,P_{\\varepsilon}}{\\partial {\\varepsilon}} + 4 \\, {\\varepsilon} r^{2} P_{\\varepsilon}\\left(r, {\\varepsilon}\\right) k\\left(r, {\\theta}\\right) + r^{2} \\frac{\\partial\\,P_{\\varepsilon}}{\\partial {\\varepsilon}}\\right)}$$"
      ],
      "text/plain": [
       "0  =  8*pi*(2*eps^2*r^2*k(r, th)*d(Pe)/deps + 4*eps*r^2*Pe(r, eps)*k(r, th) + r^2*d(Pe)/deps)"
      ]
     },
     "metadata": {},
     "output_type": "display_data"
    },
    {
     "data": {
      "text/html": [
       "<html>\\[\\newcommand{\\Bold}[1]{\\mathbf{#1}}0  =  \\frac{1}{32} \\, \\pi {\\left({\\left(\\pi - 40 \\, \\pi {\\rm LP}_{2}\\left({\\theta}\\right)\\right)}^{4} {\\left(r^{4} N_e\\left(r, {\\varepsilon}\\right)^{2} \\Omega_e\\left({\\varepsilon}\\right)^{2} \\frac{\\partial\\,E_{\\varepsilon}}{\\partial {\\varepsilon}} + 2 \\, r^{4} E_{\\varepsilon}\\left(r, {\\varepsilon}\\right) N_e\\left(r, {\\varepsilon}\\right) \\Omega_e\\left({\\varepsilon}\\right)^{2} \\frac{\\partial\\,N_e}{\\partial {\\varepsilon}} + 2 \\, r^{4} N_e\\left(r, {\\varepsilon}\\right) \\Omega_e\\left({\\varepsilon}\\right)^{2} P_{\\varepsilon}\\left(r, {\\varepsilon}\\right) \\frac{\\partial\\,N_e}{\\partial {\\varepsilon}} + 2 \\, r^{4} E_{\\varepsilon}\\left(r, {\\varepsilon}\\right) N_e\\left(r, {\\varepsilon}\\right)^{2} \\Omega_e\\left({\\varepsilon}\\right) \\frac{\\partial\\,\\Omega_e}{\\partial {\\varepsilon}} + 2 \\, r^{4} N_e\\left(r, {\\varepsilon}\\right)^{2} \\Omega_e\\left({\\varepsilon}\\right) P_{\\varepsilon}\\left(r, {\\varepsilon}\\right) \\frac{\\partial\\,\\Omega_e}{\\partial {\\varepsilon}} + r^{4} N_e\\left(r, {\\varepsilon}\\right)^{2} \\Omega_e\\left({\\varepsilon}\\right)^{2} \\frac{\\partial\\,P_{\\varepsilon}}{\\partial {\\varepsilon}} + 4 \\, {\\left({\\varepsilon}^{4} r^{4} N_e\\left(r, {\\varepsilon}\\right)^{2} \\Omega_e\\left({\\varepsilon}\\right)^{2} \\frac{\\partial\\,E_{\\varepsilon}}{\\partial {\\varepsilon}} + 2 \\, {\\varepsilon}^{4} r^{4} E_{\\varepsilon}\\left(r, {\\varepsilon}\\right) N_e\\left(r, {\\varepsilon}\\right) \\Omega_e\\left({\\varepsilon}\\right)^{2} \\frac{\\partial\\,N_e}{\\partial {\\varepsilon}} + 2 \\, {\\varepsilon}^{4} r^{4} N_e\\left(r, {\\varepsilon}\\right) \\Omega_e\\left({\\varepsilon}\\right)^{2} P_{\\varepsilon}\\left(r, {\\varepsilon}\\right) \\frac{\\partial\\,N_e}{\\partial {\\varepsilon}} + 2 \\, {\\varepsilon}^{4} r^{4} E_{\\varepsilon}\\left(r, {\\varepsilon}\\right) N_e\\left(r, {\\varepsilon}\\right)^{2} \\Omega_e\\left({\\varepsilon}\\right) \\frac{\\partial\\,\\Omega_e}{\\partial {\\varepsilon}} + 2 \\, {\\varepsilon}^{4} r^{4} N_e\\left(r, {\\varepsilon}\\right)^{2} \\Omega_e\\left({\\varepsilon}\\right) P_{\\varepsilon}\\left(r, {\\varepsilon}\\right) \\frac{\\partial\\,\\Omega_e}{\\partial {\\varepsilon}} + {\\varepsilon}^{4} r^{4} N_e\\left(r, {\\varepsilon}\\right)^{2} \\Omega_e\\left({\\varepsilon}\\right)^{2} \\frac{\\partial\\,P_{\\varepsilon}}{\\partial {\\varepsilon}} + 4 \\, {\\varepsilon}^{3} r^{4} E_{\\varepsilon}\\left(r, {\\varepsilon}\\right) N_e\\left(r, {\\varepsilon}\\right)^{2} \\Omega_e\\left({\\varepsilon}\\right)^{2} + 4 \\, {\\varepsilon}^{3} r^{4} N_e\\left(r, {\\varepsilon}\\right)^{2} \\Omega_e\\left({\\varepsilon}\\right)^{2} P_{\\varepsilon}\\left(r, {\\varepsilon}\\right)\\right)} k\\left(r, {\\theta}\\right)^{2} + {\\left({\\varepsilon}^{2} r^{4} N_e\\left(r, {\\varepsilon}\\right)^{2} \\frac{\\partial\\,E_{\\varepsilon}}{\\partial {\\varepsilon}} + 2 \\, {\\varepsilon}^{2} r^{4} E_{\\varepsilon}\\left(r, {\\varepsilon}\\right) N_e\\left(r, {\\varepsilon}\\right) \\frac{\\partial\\,N_e}{\\partial {\\varepsilon}} + 2 \\, {\\varepsilon}^{2} r^{4} N_e\\left(r, {\\varepsilon}\\right) P_{\\varepsilon}\\left(r, {\\varepsilon}\\right) \\frac{\\partial\\,N_e}{\\partial {\\varepsilon}} + {\\varepsilon}^{2} r^{4} N_e\\left(r, {\\varepsilon}\\right)^{2} \\frac{\\partial\\,P_{\\varepsilon}}{\\partial {\\varepsilon}} + 2 \\, {\\varepsilon} r^{4} E_{\\varepsilon}\\left(r, {\\varepsilon}\\right) N_e\\left(r, {\\varepsilon}\\right)^{2} + 2 \\, {\\varepsilon} r^{4} N_e\\left(r, {\\varepsilon}\\right)^{2} P_{\\varepsilon}\\left(r, {\\varepsilon}\\right)\\right)} \\omega\\left(r, {\\theta}\\right)^{2} + 4 \\, {\\left({\\varepsilon}^{2} r^{4} N_e\\left(r, {\\varepsilon}\\right)^{2} \\Omega_e\\left({\\varepsilon}\\right)^{2} \\frac{\\partial\\,E_{\\varepsilon}}{\\partial {\\varepsilon}} + 2 \\, {\\varepsilon}^{2} r^{4} E_{\\varepsilon}\\left(r, {\\varepsilon}\\right) N_e\\left(r, {\\varepsilon}\\right) \\Omega_e\\left({\\varepsilon}\\right)^{2} \\frac{\\partial\\,N_e}{\\partial {\\varepsilon}} + 2 \\, {\\varepsilon}^{2} r^{4} N_e\\left(r, {\\varepsilon}\\right) \\Omega_e\\left({\\varepsilon}\\right)^{2} P_{\\varepsilon}\\left(r, {\\varepsilon}\\right) \\frac{\\partial\\,N_e}{\\partial {\\varepsilon}} + 2 \\, {\\varepsilon}^{2} r^{4} E_{\\varepsilon}\\left(r, {\\varepsilon}\\right) N_e\\left(r, {\\varepsilon}\\right)^{2} \\Omega_e\\left({\\varepsilon}\\right) \\frac{\\partial\\,\\Omega_e}{\\partial {\\varepsilon}} + 2 \\, {\\varepsilon}^{2} r^{4} N_e\\left(r, {\\varepsilon}\\right)^{2} \\Omega_e\\left({\\varepsilon}\\right) P_{\\varepsilon}\\left(r, {\\varepsilon}\\right) \\frac{\\partial\\,\\Omega_e}{\\partial {\\varepsilon}} + {\\varepsilon}^{2} r^{4} N_e\\left(r, {\\varepsilon}\\right)^{2} \\Omega_e\\left({\\varepsilon}\\right)^{2} \\frac{\\partial\\,P_{\\varepsilon}}{\\partial {\\varepsilon}} + 2 \\, {\\varepsilon} r^{4} E_{\\varepsilon}\\left(r, {\\varepsilon}\\right) N_e\\left(r, {\\varepsilon}\\right)^{2} \\Omega_e\\left({\\varepsilon}\\right)^{2} + 2 \\, {\\varepsilon} r^{4} N_e\\left(r, {\\varepsilon}\\right)^{2} \\Omega_e\\left({\\varepsilon}\\right)^{2} P_{\\varepsilon}\\left(r, {\\varepsilon}\\right)\\right)} k\\left(r, {\\theta}\\right) + 2 \\, {\\left({\\varepsilon} r^{4} N_e\\left(r, {\\varepsilon}\\right)^{2} \\Omega_e\\left({\\varepsilon}\\right) \\frac{\\partial\\,E_{\\varepsilon}}{\\partial {\\varepsilon}} + 2 \\, {\\varepsilon} r^{4} E_{\\varepsilon}\\left(r, {\\varepsilon}\\right) N_e\\left(r, {\\varepsilon}\\right) \\Omega_e\\left({\\varepsilon}\\right) \\frac{\\partial\\,N_e}{\\partial {\\varepsilon}} + 2 \\, {\\varepsilon} r^{4} N_e\\left(r, {\\varepsilon}\\right) \\Omega_e\\left({\\varepsilon}\\right) P_{\\varepsilon}\\left(r, {\\varepsilon}\\right) \\frac{\\partial\\,N_e}{\\partial {\\varepsilon}} + {\\varepsilon} r^{4} E_{\\varepsilon}\\left(r, {\\varepsilon}\\right) N_e\\left(r, {\\varepsilon}\\right)^{2} \\frac{\\partial\\,\\Omega_e}{\\partial {\\varepsilon}} + {\\varepsilon} r^{4} N_e\\left(r, {\\varepsilon}\\right)^{2} P_{\\varepsilon}\\left(r, {\\varepsilon}\\right) \\frac{\\partial\\,\\Omega_e}{\\partial {\\varepsilon}} + {\\varepsilon} r^{4} N_e\\left(r, {\\varepsilon}\\right)^{2} \\Omega_e\\left({\\varepsilon}\\right) \\frac{\\partial\\,P_{\\varepsilon}}{\\partial {\\varepsilon}} + r^{4} E_{\\varepsilon}\\left(r, {\\varepsilon}\\right) N_e\\left(r, {\\varepsilon}\\right)^{2} \\Omega_e\\left({\\varepsilon}\\right) + r^{4} N_e\\left(r, {\\varepsilon}\\right)^{2} \\Omega_e\\left({\\varepsilon}\\right) P_{\\varepsilon}\\left(r, {\\varepsilon}\\right) + 2 \\, {\\left({\\varepsilon}^{3} r^{4} N_e\\left(r, {\\varepsilon}\\right)^{2} \\Omega_e\\left({\\varepsilon}\\right) \\frac{\\partial\\,E_{\\varepsilon}}{\\partial {\\varepsilon}} + 2 \\, {\\varepsilon}^{3} r^{4} E_{\\varepsilon}\\left(r, {\\varepsilon}\\right) N_e\\left(r, {\\varepsilon}\\right) \\Omega_e\\left({\\varepsilon}\\right) \\frac{\\partial\\,N_e}{\\partial {\\varepsilon}} + 2 \\, {\\varepsilon}^{3} r^{4} N_e\\left(r, {\\varepsilon}\\right) \\Omega_e\\left({\\varepsilon}\\right) P_{\\varepsilon}\\left(r, {\\varepsilon}\\right) \\frac{\\partial\\,N_e}{\\partial {\\varepsilon}} + {\\varepsilon}^{3} r^{4} E_{\\varepsilon}\\left(r, {\\varepsilon}\\right) N_e\\left(r, {\\varepsilon}\\right)^{2} \\frac{\\partial\\,\\Omega_e}{\\partial {\\varepsilon}} + {\\varepsilon}^{3} r^{4} N_e\\left(r, {\\varepsilon}\\right)^{2} P_{\\varepsilon}\\left(r, {\\varepsilon}\\right) \\frac{\\partial\\,\\Omega_e}{\\partial {\\varepsilon}} + {\\varepsilon}^{3} r^{4} N_e\\left(r, {\\varepsilon}\\right)^{2} \\Omega_e\\left({\\varepsilon}\\right) \\frac{\\partial\\,P_{\\varepsilon}}{\\partial {\\varepsilon}} + 3 \\, {\\varepsilon}^{2} r^{4} E_{\\varepsilon}\\left(r, {\\varepsilon}\\right) N_e\\left(r, {\\varepsilon}\\right)^{2} \\Omega_e\\left({\\varepsilon}\\right) + 3 \\, {\\varepsilon}^{2} r^{4} N_e\\left(r, {\\varepsilon}\\right)^{2} \\Omega_e\\left({\\varepsilon}\\right) P_{\\varepsilon}\\left(r, {\\varepsilon}\\right)\\right)} k\\left(r, {\\theta}\\right)\\right)} \\omega\\left(r, {\\theta}\\right)\\right)} + 16 \\, {\\left(\\pi - 40 \\, \\pi {\\rm LP}_{2}\\left({\\theta}\\right)\\right)}^{2} {\\left(2 \\, {\\varepsilon}^{2} r^{2} k\\left(r, {\\theta}\\right) \\frac{\\partial\\,P_{\\varepsilon}}{\\partial {\\varepsilon}} + 4 \\, {\\varepsilon} r^{2} P_{\\varepsilon}\\left(r, {\\varepsilon}\\right) k\\left(r, {\\theta}\\right) + r^{2} \\frac{\\partial\\,P_{\\varepsilon}}{\\partial {\\varepsilon}}\\right)}\\right)}\\]</html>"
      ],
      "text/latex": [
       "$$\\newcommand{\\Bold}[1]{\\mathbf{#1}}0  =  \\frac{1}{32} \\, \\pi {\\left({\\left(\\pi - 40 \\, \\pi {\\rm LP}_{2}\\left({\\theta}\\right)\\right)}^{4} {\\left(r^{4} N_e\\left(r, {\\varepsilon}\\right)^{2} \\Omega_e\\left({\\varepsilon}\\right)^{2} \\frac{\\partial\\,E_{\\varepsilon}}{\\partial {\\varepsilon}} + 2 \\, r^{4} E_{\\varepsilon}\\left(r, {\\varepsilon}\\right) N_e\\left(r, {\\varepsilon}\\right) \\Omega_e\\left({\\varepsilon}\\right)^{2} \\frac{\\partial\\,N_e}{\\partial {\\varepsilon}} + 2 \\, r^{4} N_e\\left(r, {\\varepsilon}\\right) \\Omega_e\\left({\\varepsilon}\\right)^{2} P_{\\varepsilon}\\left(r, {\\varepsilon}\\right) \\frac{\\partial\\,N_e}{\\partial {\\varepsilon}} + 2 \\, r^{4} E_{\\varepsilon}\\left(r, {\\varepsilon}\\right) N_e\\left(r, {\\varepsilon}\\right)^{2} \\Omega_e\\left({\\varepsilon}\\right) \\frac{\\partial\\,\\Omega_e}{\\partial {\\varepsilon}} + 2 \\, r^{4} N_e\\left(r, {\\varepsilon}\\right)^{2} \\Omega_e\\left({\\varepsilon}\\right) P_{\\varepsilon}\\left(r, {\\varepsilon}\\right) \\frac{\\partial\\,\\Omega_e}{\\partial {\\varepsilon}} + r^{4} N_e\\left(r, {\\varepsilon}\\right)^{2} \\Omega_e\\left({\\varepsilon}\\right)^{2} \\frac{\\partial\\,P_{\\varepsilon}}{\\partial {\\varepsilon}} + 4 \\, {\\left({\\varepsilon}^{4} r^{4} N_e\\left(r, {\\varepsilon}\\right)^{2} \\Omega_e\\left({\\varepsilon}\\right)^{2} \\frac{\\partial\\,E_{\\varepsilon}}{\\partial {\\varepsilon}} + 2 \\, {\\varepsilon}^{4} r^{4} E_{\\varepsilon}\\left(r, {\\varepsilon}\\right) N_e\\left(r, {\\varepsilon}\\right) \\Omega_e\\left({\\varepsilon}\\right)^{2} \\frac{\\partial\\,N_e}{\\partial {\\varepsilon}} + 2 \\, {\\varepsilon}^{4} r^{4} N_e\\left(r, {\\varepsilon}\\right) \\Omega_e\\left({\\varepsilon}\\right)^{2} P_{\\varepsilon}\\left(r, {\\varepsilon}\\right) \\frac{\\partial\\,N_e}{\\partial {\\varepsilon}} + 2 \\, {\\varepsilon}^{4} r^{4} E_{\\varepsilon}\\left(r, {\\varepsilon}\\right) N_e\\left(r, {\\varepsilon}\\right)^{2} \\Omega_e\\left({\\varepsilon}\\right) \\frac{\\partial\\,\\Omega_e}{\\partial {\\varepsilon}} + 2 \\, {\\varepsilon}^{4} r^{4} N_e\\left(r, {\\varepsilon}\\right)^{2} \\Omega_e\\left({\\varepsilon}\\right) P_{\\varepsilon}\\left(r, {\\varepsilon}\\right) \\frac{\\partial\\,\\Omega_e}{\\partial {\\varepsilon}} + {\\varepsilon}^{4} r^{4} N_e\\left(r, {\\varepsilon}\\right)^{2} \\Omega_e\\left({\\varepsilon}\\right)^{2} \\frac{\\partial\\,P_{\\varepsilon}}{\\partial {\\varepsilon}} + 4 \\, {\\varepsilon}^{3} r^{4} E_{\\varepsilon}\\left(r, {\\varepsilon}\\right) N_e\\left(r, {\\varepsilon}\\right)^{2} \\Omega_e\\left({\\varepsilon}\\right)^{2} + 4 \\, {\\varepsilon}^{3} r^{4} N_e\\left(r, {\\varepsilon}\\right)^{2} \\Omega_e\\left({\\varepsilon}\\right)^{2} P_{\\varepsilon}\\left(r, {\\varepsilon}\\right)\\right)} k\\left(r, {\\theta}\\right)^{2} + {\\left({\\varepsilon}^{2} r^{4} N_e\\left(r, {\\varepsilon}\\right)^{2} \\frac{\\partial\\,E_{\\varepsilon}}{\\partial {\\varepsilon}} + 2 \\, {\\varepsilon}^{2} r^{4} E_{\\varepsilon}\\left(r, {\\varepsilon}\\right) N_e\\left(r, {\\varepsilon}\\right) \\frac{\\partial\\,N_e}{\\partial {\\varepsilon}} + 2 \\, {\\varepsilon}^{2} r^{4} N_e\\left(r, {\\varepsilon}\\right) P_{\\varepsilon}\\left(r, {\\varepsilon}\\right) \\frac{\\partial\\,N_e}{\\partial {\\varepsilon}} + {\\varepsilon}^{2} r^{4} N_e\\left(r, {\\varepsilon}\\right)^{2} \\frac{\\partial\\,P_{\\varepsilon}}{\\partial {\\varepsilon}} + 2 \\, {\\varepsilon} r^{4} E_{\\varepsilon}\\left(r, {\\varepsilon}\\right) N_e\\left(r, {\\varepsilon}\\right)^{2} + 2 \\, {\\varepsilon} r^{4} N_e\\left(r, {\\varepsilon}\\right)^{2} P_{\\varepsilon}\\left(r, {\\varepsilon}\\right)\\right)} \\omega\\left(r, {\\theta}\\right)^{2} + 4 \\, {\\left({\\varepsilon}^{2} r^{4} N_e\\left(r, {\\varepsilon}\\right)^{2} \\Omega_e\\left({\\varepsilon}\\right)^{2} \\frac{\\partial\\,E_{\\varepsilon}}{\\partial {\\varepsilon}} + 2 \\, {\\varepsilon}^{2} r^{4} E_{\\varepsilon}\\left(r, {\\varepsilon}\\right) N_e\\left(r, {\\varepsilon}\\right) \\Omega_e\\left({\\varepsilon}\\right)^{2} \\frac{\\partial\\,N_e}{\\partial {\\varepsilon}} + 2 \\, {\\varepsilon}^{2} r^{4} N_e\\left(r, {\\varepsilon}\\right) \\Omega_e\\left({\\varepsilon}\\right)^{2} P_{\\varepsilon}\\left(r, {\\varepsilon}\\right) \\frac{\\partial\\,N_e}{\\partial {\\varepsilon}} + 2 \\, {\\varepsilon}^{2} r^{4} E_{\\varepsilon}\\left(r, {\\varepsilon}\\right) N_e\\left(r, {\\varepsilon}\\right)^{2} \\Omega_e\\left({\\varepsilon}\\right) \\frac{\\partial\\,\\Omega_e}{\\partial {\\varepsilon}} + 2 \\, {\\varepsilon}^{2} r^{4} N_e\\left(r, {\\varepsilon}\\right)^{2} \\Omega_e\\left({\\varepsilon}\\right) P_{\\varepsilon}\\left(r, {\\varepsilon}\\right) \\frac{\\partial\\,\\Omega_e}{\\partial {\\varepsilon}} + {\\varepsilon}^{2} r^{4} N_e\\left(r, {\\varepsilon}\\right)^{2} \\Omega_e\\left({\\varepsilon}\\right)^{2} \\frac{\\partial\\,P_{\\varepsilon}}{\\partial {\\varepsilon}} + 2 \\, {\\varepsilon} r^{4} E_{\\varepsilon}\\left(r, {\\varepsilon}\\right) N_e\\left(r, {\\varepsilon}\\right)^{2} \\Omega_e\\left({\\varepsilon}\\right)^{2} + 2 \\, {\\varepsilon} r^{4} N_e\\left(r, {\\varepsilon}\\right)^{2} \\Omega_e\\left({\\varepsilon}\\right)^{2} P_{\\varepsilon}\\left(r, {\\varepsilon}\\right)\\right)} k\\left(r, {\\theta}\\right) + 2 \\, {\\left({\\varepsilon} r^{4} N_e\\left(r, {\\varepsilon}\\right)^{2} \\Omega_e\\left({\\varepsilon}\\right) \\frac{\\partial\\,E_{\\varepsilon}}{\\partial {\\varepsilon}} + 2 \\, {\\varepsilon} r^{4} E_{\\varepsilon}\\left(r, {\\varepsilon}\\right) N_e\\left(r, {\\varepsilon}\\right) \\Omega_e\\left({\\varepsilon}\\right) \\frac{\\partial\\,N_e}{\\partial {\\varepsilon}} + 2 \\, {\\varepsilon} r^{4} N_e\\left(r, {\\varepsilon}\\right) \\Omega_e\\left({\\varepsilon}\\right) P_{\\varepsilon}\\left(r, {\\varepsilon}\\right) \\frac{\\partial\\,N_e}{\\partial {\\varepsilon}} + {\\varepsilon} r^{4} E_{\\varepsilon}\\left(r, {\\varepsilon}\\right) N_e\\left(r, {\\varepsilon}\\right)^{2} \\frac{\\partial\\,\\Omega_e}{\\partial {\\varepsilon}} + {\\varepsilon} r^{4} N_e\\left(r, {\\varepsilon}\\right)^{2} P_{\\varepsilon}\\left(r, {\\varepsilon}\\right) \\frac{\\partial\\,\\Omega_e}{\\partial {\\varepsilon}} + {\\varepsilon} r^{4} N_e\\left(r, {\\varepsilon}\\right)^{2} \\Omega_e\\left({\\varepsilon}\\right) \\frac{\\partial\\,P_{\\varepsilon}}{\\partial {\\varepsilon}} + r^{4} E_{\\varepsilon}\\left(r, {\\varepsilon}\\right) N_e\\left(r, {\\varepsilon}\\right)^{2} \\Omega_e\\left({\\varepsilon}\\right) + r^{4} N_e\\left(r, {\\varepsilon}\\right)^{2} \\Omega_e\\left({\\varepsilon}\\right) P_{\\varepsilon}\\left(r, {\\varepsilon}\\right) + 2 \\, {\\left({\\varepsilon}^{3} r^{4} N_e\\left(r, {\\varepsilon}\\right)^{2} \\Omega_e\\left({\\varepsilon}\\right) \\frac{\\partial\\,E_{\\varepsilon}}{\\partial {\\varepsilon}} + 2 \\, {\\varepsilon}^{3} r^{4} E_{\\varepsilon}\\left(r, {\\varepsilon}\\right) N_e\\left(r, {\\varepsilon}\\right) \\Omega_e\\left({\\varepsilon}\\right) \\frac{\\partial\\,N_e}{\\partial {\\varepsilon}} + 2 \\, {\\varepsilon}^{3} r^{4} N_e\\left(r, {\\varepsilon}\\right) \\Omega_e\\left({\\varepsilon}\\right) P_{\\varepsilon}\\left(r, {\\varepsilon}\\right) \\frac{\\partial\\,N_e}{\\partial {\\varepsilon}} + {\\varepsilon}^{3} r^{4} E_{\\varepsilon}\\left(r, {\\varepsilon}\\right) N_e\\left(r, {\\varepsilon}\\right)^{2} \\frac{\\partial\\,\\Omega_e}{\\partial {\\varepsilon}} + {\\varepsilon}^{3} r^{4} N_e\\left(r, {\\varepsilon}\\right)^{2} P_{\\varepsilon}\\left(r, {\\varepsilon}\\right) \\frac{\\partial\\,\\Omega_e}{\\partial {\\varepsilon}} + {\\varepsilon}^{3} r^{4} N_e\\left(r, {\\varepsilon}\\right)^{2} \\Omega_e\\left({\\varepsilon}\\right) \\frac{\\partial\\,P_{\\varepsilon}}{\\partial {\\varepsilon}} + 3 \\, {\\varepsilon}^{2} r^{4} E_{\\varepsilon}\\left(r, {\\varepsilon}\\right) N_e\\left(r, {\\varepsilon}\\right)^{2} \\Omega_e\\left({\\varepsilon}\\right) + 3 \\, {\\varepsilon}^{2} r^{4} N_e\\left(r, {\\varepsilon}\\right)^{2} \\Omega_e\\left({\\varepsilon}\\right) P_{\\varepsilon}\\left(r, {\\varepsilon}\\right)\\right)} k\\left(r, {\\theta}\\right)\\right)} \\omega\\left(r, {\\theta}\\right)\\right)} + 16 \\, {\\left(\\pi - 40 \\, \\pi {\\rm LP}_{2}\\left({\\theta}\\right)\\right)}^{2} {\\left(2 \\, {\\varepsilon}^{2} r^{2} k\\left(r, {\\theta}\\right) \\frac{\\partial\\,P_{\\varepsilon}}{\\partial {\\varepsilon}} + 4 \\, {\\varepsilon} r^{2} P_{\\varepsilon}\\left(r, {\\varepsilon}\\right) k\\left(r, {\\theta}\\right) + r^{2} \\frac{\\partial\\,P_{\\varepsilon}}{\\partial {\\varepsilon}}\\right)}\\right)}$$"
      ],
      "text/plain": [
       "0  =  1/32*pi*((pi - 40*pi*LP2(th))^4*(r^4*Ne(r, eps)^2*Omegaevalue(eps)^2*d(Ee)/deps + 2*r^4*Ee(r, eps)*Ne(r, eps)*Omegaevalue(eps)^2*d(Ne)/deps + 2*r^4*Ne(r, eps)*Omegaevalue(eps)^2*Pe(r, eps)*d(Ne)/deps + 2*r^4*Ee(r, eps)*Ne(r, eps)^2*Omegaevalue(eps)*d(Omegaevalue)/deps + 2*r^4*Ne(r, eps)^2*Omegaevalue(eps)*Pe(r, eps)*d(Omegaevalue)/deps + r^4*Ne(r, eps)^2*Omegaevalue(eps)^2*d(Pe)/deps + 4*(eps^4*r^4*Ne(r, eps)^2*Omegaevalue(eps)^2*d(Ee)/deps + 2*eps^4*r^4*Ee(r, eps)*Ne(r, eps)*Omegaevalue(eps)^2*d(Ne)/deps + 2*eps^4*r^4*Ne(r, eps)*Omegaevalue(eps)^2*Pe(r, eps)*d(Ne)/deps + 2*eps^4*r^4*Ee(r, eps)*Ne(r, eps)^2*Omegaevalue(eps)*d(Omegaevalue)/deps + 2*eps^4*r^4*Ne(r, eps)^2*Omegaevalue(eps)*Pe(r, eps)*d(Omegaevalue)/deps + eps^4*r^4*Ne(r, eps)^2*Omegaevalue(eps)^2*d(Pe)/deps + 4*eps^3*r^4*Ee(r, eps)*Ne(r, eps)^2*Omegaevalue(eps)^2 + 4*eps^3*r^4*Ne(r, eps)^2*Omegaevalue(eps)^2*Pe(r, eps))*k(r, th)^2 + (eps^2*r^4*Ne(r, eps)^2*d(Ee)/deps + 2*eps^2*r^4*Ee(r, eps)*Ne(r, eps)*d(Ne)/deps + 2*eps^2*r^4*Ne(r, eps)*Pe(r, eps)*d(Ne)/deps + eps^2*r^4*Ne(r, eps)^2*d(Pe)/deps + 2*eps*r^4*Ee(r, eps)*Ne(r, eps)^2 + 2*eps*r^4*Ne(r, eps)^2*Pe(r, eps))*omega(r, th)^2 + 4*(eps^2*r^4*Ne(r, eps)^2*Omegaevalue(eps)^2*d(Ee)/deps + 2*eps^2*r^4*Ee(r, eps)*Ne(r, eps)*Omegaevalue(eps)^2*d(Ne)/deps + 2*eps^2*r^4*Ne(r, eps)*Omegaevalue(eps)^2*Pe(r, eps)*d(Ne)/deps + 2*eps^2*r^4*Ee(r, eps)*Ne(r, eps)^2*Omegaevalue(eps)*d(Omegaevalue)/deps + 2*eps^2*r^4*Ne(r, eps)^2*Omegaevalue(eps)*Pe(r, eps)*d(Omegaevalue)/deps + eps^2*r^4*Ne(r, eps)^2*Omegaevalue(eps)^2*d(Pe)/deps + 2*eps*r^4*Ee(r, eps)*Ne(r, eps)^2*Omegaevalue(eps)^2 + 2*eps*r^4*Ne(r, eps)^2*Omegaevalue(eps)^2*Pe(r, eps))*k(r, th) + 2*(eps*r^4*Ne(r, eps)^2*Omegaevalue(eps)*d(Ee)/deps + 2*eps*r^4*Ee(r, eps)*Ne(r, eps)*Omegaevalue(eps)*d(Ne)/deps + 2*eps*r^4*Ne(r, eps)*Omegaevalue(eps)*Pe(r, eps)*d(Ne)/deps + eps*r^4*Ee(r, eps)*Ne(r, eps)^2*d(Omegaevalue)/deps + eps*r^4*Ne(r, eps)^2*Pe(r, eps)*d(Omegaevalue)/deps + eps*r^4*Ne(r, eps)^2*Omegaevalue(eps)*d(Pe)/deps + r^4*Ee(r, eps)*Ne(r, eps)^2*Omegaevalue(eps) + r^4*Ne(r, eps)^2*Omegaevalue(eps)*Pe(r, eps) + 2*(eps^3*r^4*Ne(r, eps)^2*Omegaevalue(eps)*d(Ee)/deps + 2*eps^3*r^4*Ee(r, eps)*Ne(r, eps)*Omegaevalue(eps)*d(Ne)/deps + 2*eps^3*r^4*Ne(r, eps)*Omegaevalue(eps)*Pe(r, eps)*d(Ne)/deps + eps^3*r^4*Ee(r, eps)*Ne(r, eps)^2*d(Omegaevalue)/deps + eps^3*r^4*Ne(r, eps)^2*Pe(r, eps)*d(Omegaevalue)/deps + eps^3*r^4*Ne(r, eps)^2*Omegaevalue(eps)*d(Pe)/deps + 3*eps^2*r^4*Ee(r, eps)*Ne(r, eps)^2*Omegaevalue(eps) + 3*eps^2*r^4*Ne(r, eps)^2*Omegaevalue(eps)*Pe(r, eps))*k(r, th))*omega(r, th)) + 16*(pi - 40*pi*LP2(th))^2*(2*eps^2*r^2*k(r, th)*d(Pe)/deps + 4*eps*r^2*Pe(r, eps)*k(r, th) + r^2*d(Pe)/deps))"
      ]
     },
     "metadata": {},
     "output_type": "display_data"
    },
    {
     "ename": "IndexError",
     "evalue": "list index out of range",
     "output_type": "error",
     "traceback": [
      "\u001b[0;31m---------------------------------------------------------------------------\u001b[0m",
      "\u001b[0;31mIndexError\u001b[0m                                Traceback (most recent call last)",
      "\u001b[0;32m<ipython-input-48-28cfdcaa59d4>\u001b[0m in \u001b[0;36m<module>\u001b[0;34m\u001b[0m\n\u001b[1;32m      5\u001b[0m \u001b[0mshow\u001b[0m\u001b[0;34m(\u001b[0m\u001b[0mdeins\u001b[0m\u001b[0;34m[\u001b[0m\u001b[0mInteger\u001b[0m\u001b[0;34m(\u001b[0m\u001b[0;36m3\u001b[0m\u001b[0;34m)\u001b[0m\u001b[0;34m,\u001b[0m\u001b[0mInteger\u001b[0m\u001b[0;34m(\u001b[0m\u001b[0;36m3\u001b[0m\u001b[0;34m)\u001b[0m\u001b[0;34m]\u001b[0m\u001b[0;34m,\u001b[0m\u001b[0mLatexExpr\u001b[0m\u001b[0;34m(\u001b[0m\u001b[0;34m\" = \"\u001b[0m\u001b[0;34m)\u001b[0m\u001b[0;34m,\u001b[0m \u001b[0mkappa\u001b[0m\u001b[0;34m*\u001b[0m\u001b[0mdTdd\u001b[0m\u001b[0;34m[\u001b[0m\u001b[0mInteger\u001b[0m\u001b[0;34m(\u001b[0m\u001b[0;36m3\u001b[0m\u001b[0;34m)\u001b[0m\u001b[0;34m,\u001b[0m\u001b[0mInteger\u001b[0m\u001b[0;34m(\u001b[0m\u001b[0;36m3\u001b[0m\u001b[0;34m)\u001b[0m\u001b[0;34m]\u001b[0m\u001b[0;34m)\u001b[0m\u001b[0;34m\u001b[0m\u001b[0;34m\u001b[0m\u001b[0m\n\u001b[1;32m      6\u001b[0m \u001b[0;34m\u001b[0m\u001b[0m\n\u001b[0;32m----> 7\u001b[0;31m \u001b[0mP1value\u001b[0m \u001b[0;34m=\u001b[0m \u001b[0msolve\u001b[0m\u001b[0;34m(\u001b[0m\u001b[0mdeins\u001b[0m\u001b[0;34m[\u001b[0m\u001b[0mInteger\u001b[0m\u001b[0;34m(\u001b[0m\u001b[0;36m1\u001b[0m\u001b[0;34m)\u001b[0m\u001b[0;34m,\u001b[0m\u001b[0mInteger\u001b[0m\u001b[0;34m(\u001b[0m\u001b[0;36m1\u001b[0m\u001b[0;34m)\u001b[0m\u001b[0;34m]\u001b[0m\u001b[0;34m.\u001b[0m\u001b[0mexpr\u001b[0m\u001b[0;34m(\u001b[0m\u001b[0;34m)\u001b[0m \u001b[0;34m==\u001b[0m \u001b[0mkappa\u001b[0m\u001b[0;34m*\u001b[0m\u001b[0mdTdd\u001b[0m\u001b[0;34m[\u001b[0m\u001b[0mInteger\u001b[0m\u001b[0;34m(\u001b[0m\u001b[0;36m1\u001b[0m\u001b[0;34m)\u001b[0m\u001b[0;34m,\u001b[0m\u001b[0mInteger\u001b[0m\u001b[0;34m(\u001b[0m\u001b[0;36m1\u001b[0m\u001b[0;34m)\u001b[0m\u001b[0;34m]\u001b[0m\u001b[0;34m.\u001b[0m\u001b[0mexpr\u001b[0m\u001b[0;34m(\u001b[0m\u001b[0;34m)\u001b[0m\u001b[0;34m,\u001b[0m\u001b[0mP1\u001b[0m\u001b[0;34m)\u001b[0m\u001b[0;34m[\u001b[0m\u001b[0mInteger\u001b[0m\u001b[0;34m(\u001b[0m\u001b[0;36m0\u001b[0m\u001b[0;34m)\u001b[0m\u001b[0;34m]\u001b[0m\u001b[0;34m.\u001b[0m\u001b[0mrhs\u001b[0m\u001b[0;34m(\u001b[0m\u001b[0;34m)\u001b[0m\u001b[0;34m\u001b[0m\u001b[0;34m\u001b[0m\u001b[0m\n\u001b[0m\u001b[1;32m      8\u001b[0m \u001b[0;34m\u001b[0m\u001b[0m\n\u001b[1;32m      9\u001b[0m \u001b[0mshow\u001b[0m\u001b[0;34m(\u001b[0m\u001b[0mLatexExpr\u001b[0m\u001b[0;34m(\u001b[0m\u001b[0;34m\"\\\\text{De aquí sacamos }P^{1}(r)\\\\rightarrow\\\\text{$P^1(r)$ = }\"\u001b[0m\u001b[0;34m)\u001b[0m\u001b[0;34m,\u001b[0m \u001b[0mP1value\u001b[0m\u001b[0;34m)\u001b[0m\u001b[0;34m\u001b[0m\u001b[0;34m\u001b[0m\u001b[0m\n",
      "\u001b[0;32m/var/tmp/sage-9.4-current/local/lib/python3.9/site-packages/sage/structure/sequence.py\u001b[0m in \u001b[0;36m__getitem__\u001b[0;34m(self, n)\u001b[0m\n\u001b[1;32m    518\u001b[0m                             cr = self.__cr)\n\u001b[1;32m    519\u001b[0m         \u001b[0;32melse\u001b[0m\u001b[0;34m:\u001b[0m\u001b[0;34m\u001b[0m\u001b[0;34m\u001b[0m\u001b[0m\n\u001b[0;32m--> 520\u001b[0;31m             \u001b[0;32mreturn\u001b[0m \u001b[0mlist\u001b[0m\u001b[0;34m.\u001b[0m\u001b[0m__getitem__\u001b[0m\u001b[0;34m(\u001b[0m\u001b[0mself\u001b[0m\u001b[0;34m,\u001b[0m\u001b[0mn\u001b[0m\u001b[0;34m)\u001b[0m\u001b[0;34m\u001b[0m\u001b[0;34m\u001b[0m\u001b[0m\n\u001b[0m\u001b[1;32m    521\u001b[0m \u001b[0;34m\u001b[0m\u001b[0m\n\u001b[1;32m    522\u001b[0m     \u001b[0;31m# We have to define the *slice functions as long as Sage uses Python 2.*\u001b[0m\u001b[0;34m\u001b[0m\u001b[0;34m\u001b[0m\u001b[0;34m\u001b[0m\u001b[0m\n",
      "\u001b[0;31mIndexError\u001b[0m: list index out of range"
     ]
    }
   ],
   "source": [
    "# Calculamos ahora la primera derivada de la ecuación\n",
    "\n",
    "show(deins[1,1],LatexExpr(\" = \"), kappa*dTdd[1,1])\n",
    "show(deins[2,2],LatexExpr(\" = \"), kappa*dTdd[2,2])\n",
    "show(deins[3,3],LatexExpr(\" = \"), kappa*dTdd[3,3])\n",
    "\n",
    "P1value = solve(deins[1,1].expr() == kappa*dTdd[1,1].expr(),P1)[0].rhs()\n",
    "\n",
    "show(LatexExpr(\"\\\\text{De aquí sacamos }P^{1}(r)\\\\rightarrow\\\\text{$P^1(r)$ = }\"), P1value)"
   ]
  },
  {
   "cell_type": "code",
   "execution_count": null,
   "metadata": {
    "scrolled": false
   },
   "outputs": [],
   "source": [
    "show(deins[0,0],LatexExpr(\" = \"), kappa*dTdd[0,0])\n",
    "\n",
    "E1value = solve(deins[0,0].expr() == kappa*dTdd[0,0].expr(),E1)[0].rhs()\n",
    "E1value = E1value.subs(sustituciones)\n",
    "show(LatexExpr(\"\\\\text{De aquí sacamos }E^{(1)}(r)\\\\rightarrow\\\\text{$E^{(1)}(r)$ = }\"), E1value)"
   ]
  },
  {
   "cell_type": "code",
   "execution_count": null,
   "metadata": {},
   "outputs": [],
   "source": [
    "# DEMOSTRAR QUE ESTO ES LA ECUACIÓN 48 DE 2015\n",
    "show(deins[0,3].expr() == kappa*dTdd[0,3].expr())                                                           #Eq 48"
   ]
  },
  {
   "cell_type": "code",
   "execution_count": null,
   "metadata": {},
   "outputs": [],
   "source": [
    "# Para la segunda derivada tenemos\n",
    "\n",
    "show(ddeins[0,0].expr(),LatexExpr(\" = \"), kappa*ddTdd[0,0].expr())"
   ]
  },
  {
   "cell_type": "code",
   "execution_count": null,
   "metadata": {},
   "outputs": [],
   "source": [
    "show(ddeins[1,1],LatexExpr(\" = \"), kappa*ddTdd[1,1])"
   ]
  },
  {
   "cell_type": "code",
   "execution_count": null,
   "metadata": {},
   "outputs": [],
   "source": [
    "show(ddeins[2,2],LatexExpr(\" = \"), kappa*ddTdd[2,2])"
   ]
  },
  {
   "cell_type": "code",
   "execution_count": null,
   "metadata": {},
   "outputs": [],
   "source": [
    "show(ddeins[3,3],LatexExpr(\" = \"), kappa*ddTdd[3,3])"
   ]
  },
  {
   "cell_type": "code",
   "execution_count": null,
   "metadata": {},
   "outputs": [],
   "source": [
    "show(ddeins[0,3],LatexExpr(\" = \"), kappa*ddTdd[0,3])"
   ]
  },
  {
   "cell_type": "code",
   "execution_count": null,
   "metadata": {},
   "outputs": [],
   "source": [
    "show(ddeins[1,2],LatexExpr(\" = \"), kappa*ddTdd[1,2])"
   ]
  },
  {
   "cell_type": "code",
   "execution_count": null,
   "metadata": {},
   "outputs": [],
   "source": [
    "# Aplicamos barotropic EoS\n",
    "# Utilizando (6.11) de Reina con P1=0 y E1=0\n",
    "E2*diff(P,r) - P2*diff(E,r) == 0"
   ]
  },
  {
   "cell_type": "code",
   "execution_count": null,
   "metadata": {},
   "outputs": [],
   "source": [
    "prueba1 = M.tensor_field(0,2,'prueba1')\n",
    "prueba2 = M.tensor_field(0,2,'prueba2')\n",
    "for i in range(0,n+1):\n",
    "    for j in range(0,n+1):\n",
    "        prueba1[i,j] = ddeins[i,j]\n",
    "        prueba2[i,j] = ddTdd[i,j]"
   ]
  },
  {
   "cell_type": "code",
   "execution_count": null,
   "metadata": {},
   "outputs": [],
   "source": [
    "LP1 = function('LP1')(th)\n",
    "LP2 = function('LP2')(th)\n",
    "s0 = sin(th)^4 == (30*LP1^2-3)/35+1-2*LP1^2\n",
    "s1 = sin(th)^2 == (2-2*LP2)/3\n",
    "s2 = cos(th) == LP1\n",
    "s3 = LP1^2 == (2*LP2+1)/3\n",
    "s4 = sin(th)*cos(th) == 3*pi/16*LP1\n",
    "s5 = sin(th) == pi/4-10*pi*LP2\n",
    "su = (s0,s1,s2,s3,s4,s5)\n",
    "prueba1.apply_map(lambda cmp: cmp.subs(su))\n",
    "prueba2.apply_map(lambda cmp: cmp.subs(su))"
   ]
  },
  {
   "cell_type": "code",
   "execution_count": null,
   "metadata": {},
   "outputs": [],
   "source": [
    "fm(r) = m0 + m2*LP2\n",
    "fk(r) = k0 + k2*LP2\n",
    "fh(r) = h0 + h2*LP2\n",
    "\n",
    "prueba1.apply_map(lambda cmp: cmp.substitute_function(function('h'), fh))\n",
    "prueba1.apply_map(lambda cmp: cmp.substitute_function(function('m'), fm))\n",
    "prueba1.apply_map(lambda cmp: cmp.substitute_function(function('k'), fk))\n",
    "\n",
    "prueba2.apply_map(lambda cmp: cmp.substitute_function(function('h'), fh))\n",
    "prueba2.apply_map(lambda cmp: cmp.substitute_function(function('m'), fm))\n",
    "prueba2.apply_map(lambda cmp: cmp.substitute_function(function('k'), fk))"
   ]
  },
  {
   "cell_type": "code",
   "execution_count": null,
   "metadata": {},
   "outputs": [],
   "source": [
    "E02 = function('E02', latex_name='E_{0}^{(2)}')(r,th)\n",
    "E12 = function('E12', latex_name='E_{1}^{(2)}')(r,th)\n",
    "E22 = function('E22', latex_name='E_{2}^{(2)}')(r,th)\n",
    "\n",
    "P02 = function('P02', latex_name='P_{0}^{(2)}')(r,th)\n",
    "P12 = function('P12', latex_name='P_{1}^{(2)}')(r,th)\n",
    "P22 = function('P22', latex_name='P_{2}^{(2)}')(r,th)"
   ]
  },
  {
   "cell_type": "code",
   "execution_count": null,
   "metadata": {},
   "outputs": [],
   "source": [
    "fE2(r,th) = E02 + E12*LP1 + E22*LP2\n",
    "fP2(r,th) = P02 + P12*LP1 + P22*LP2\n",
    "\n",
    "prueba1.apply_map(lambda cmp: cmp.subs(LP1==0))\n",
    "prueba1.apply_map(lambda cmp: cmp.subs(LP2==0))\n",
    "\n",
    "prueba2.apply_map(lambda cmp: cmp.subs(LP1==0))\n",
    "prueba2.apply_map(lambda cmp: cmp.subs(LP2==0))\n",
    "\n",
    "prueba1.apply_map(lambda cmp: cmp.subs(E1==E1value))\n",
    "prueba1.apply_map(lambda cmp: cmp.subs(P1==P1value))\n",
    "prueba2.apply_map(lambda cmp: cmp.subs(E1==E1value))\n",
    "prueba2.apply_map(lambda cmp: cmp.subs(P1==P1value))\n",
    "\n",
    "prueba2.apply_map(lambda cmp: cmp.substitute_function(function('E2'), fE2))\n",
    "prueba2.apply_map(lambda cmp: cmp.substitute_function(function('P2'), fP2))\n",
    "\n",
    "prueba2.apply_map(lambda cmp: cmp.subs(u20==u20value))\n",
    "prueba2.apply_map(lambda cmp: cmp.subs(u10==u10value))"
   ]
  },
  {
   "cell_type": "code",
   "execution_count": null,
   "metadata": {},
   "outputs": [],
   "source": [
    "prueba2[0,0].expr()"
   ]
  },
  {
   "cell_type": "code",
   "execution_count": null,
   "metadata": {},
   "outputs": [],
   "source": []
  },
  {
   "cell_type": "code",
   "execution_count": null,
   "metadata": {},
   "outputs": [],
   "source": []
  },
  {
   "cell_type": "code",
   "execution_count": null,
   "metadata": {},
   "outputs": [],
   "source": []
  },
  {
   "cell_type": "code",
   "execution_count": null,
   "metadata": {},
   "outputs": [],
   "source": []
  },
  {
   "cell_type": "code",
   "execution_count": null,
   "metadata": {},
   "outputs": [],
   "source": []
  },
  {
   "cell_type": "code",
   "execution_count": null,
   "metadata": {},
   "outputs": [],
   "source": []
  },
  {
   "cell_type": "code",
   "execution_count": 38,
   "metadata": {},
   "outputs": [
    {
     "data": {
      "text/html": [
       "<html>\\[\\newcommand{\\Bold}[1]{\\mathbf{#1}}-\\frac{1}{8} \\, \\pi^{2} {\\left({\\left(2 \\, r^{2} E\\left(r, {\\theta}\\right) + r^{2} P\\left(r\\right)\\right)} \\omega\\left(r, {\\theta}\\right)^{2} + 2 \\, {\\left(r^{2} E\\left(r, {\\theta}\\right) \\Omega^{(1)}\\left({\\varepsilon}\\right) + r^{2} \\Omega^{(1)}\\left({\\varepsilon}\\right) P\\left(r\\right)\\right)} \\omega\\left(r, {\\theta}\\right)\\right)} + 2 \\, {\\left({\\left(r^{2} \\Omega^{(1)}\\left({\\varepsilon}\\right)^{2} + 2 \\, r^{2} \\Omega^{(1)}\\left({\\varepsilon}\\right) \\omega\\left(r, {\\theta}\\right) + r^{2} \\omega\\left(r, {\\theta}\\right)^{2}\\right)} \\sin\\left({\\theta}\\right)^{2} - 2 \\, e^{\\nu\\left(r\\right)} h\\left(r, {\\theta}\\right)\\right)} E\\left(r, {\\theta}\\right) + 2 \\, {\\left({\\left(r^{2} \\Omega^{(1)}\\left({\\varepsilon}\\right)^{2} + 2 \\, r^{2} \\Omega^{(1)}\\left({\\varepsilon}\\right) \\omega\\left(r, {\\theta}\\right) + r^{2} \\omega\\left(r, {\\theta}\\right)^{2}\\right)} \\sin\\left({\\theta}\\right)^{2} - 2 \\, e^{\\nu\\left(r\\right)} h\\left(r, {\\theta}\\right)\\right)} P\\left(r\\right) + E^{(2)}\\left(r, {\\theta}\\right) e^{\\nu\\left(r\\right)} + 4 \\, {\\left(2 \\, E\\left(r, {\\theta}\\right) e^{\\nu\\left(r\\right)} + P\\left(r\\right) e^{\\nu\\left(r\\right)}\\right)} h_0\\left(r, {\\theta}\\right)\\]</html>"
      ],
      "text/latex": [
       "$$\\newcommand{\\Bold}[1]{\\mathbf{#1}}-\\frac{1}{8} \\, \\pi^{2} {\\left({\\left(2 \\, r^{2} E\\left(r, {\\theta}\\right) + r^{2} P\\left(r\\right)\\right)} \\omega\\left(r, {\\theta}\\right)^{2} + 2 \\, {\\left(r^{2} E\\left(r, {\\theta}\\right) \\Omega^{(1)}\\left({\\varepsilon}\\right) + r^{2} \\Omega^{(1)}\\left({\\varepsilon}\\right) P\\left(r\\right)\\right)} \\omega\\left(r, {\\theta}\\right)\\right)} + 2 \\, {\\left({\\left(r^{2} \\Omega^{(1)}\\left({\\varepsilon}\\right)^{2} + 2 \\, r^{2} \\Omega^{(1)}\\left({\\varepsilon}\\right) \\omega\\left(r, {\\theta}\\right) + r^{2} \\omega\\left(r, {\\theta}\\right)^{2}\\right)} \\sin\\left({\\theta}\\right)^{2} - 2 \\, e^{\\nu\\left(r\\right)} h\\left(r, {\\theta}\\right)\\right)} E\\left(r, {\\theta}\\right) + 2 \\, {\\left({\\left(r^{2} \\Omega^{(1)}\\left({\\varepsilon}\\right)^{2} + 2 \\, r^{2} \\Omega^{(1)}\\left({\\varepsilon}\\right) \\omega\\left(r, {\\theta}\\right) + r^{2} \\omega\\left(r, {\\theta}\\right)^{2}\\right)} \\sin\\left({\\theta}\\right)^{2} - 2 \\, e^{\\nu\\left(r\\right)} h\\left(r, {\\theta}\\right)\\right)} P\\left(r\\right) + E^{(2)}\\left(r, {\\theta}\\right) e^{\\nu\\left(r\\right)} + 4 \\, {\\left(2 \\, E\\left(r, {\\theta}\\right) e^{\\nu\\left(r\\right)} + P\\left(r\\right) e^{\\nu\\left(r\\right)}\\right)} h_0\\left(r, {\\theta}\\right)$$"
      ],
      "text/plain": [
       "-1/8*pi^2*((2*r^2*E(r, th) + r^2*P(r))*omega(r, th)^2 + 2*(r^2*E(r, th)*Omega1(eps) + r^2*Omega1(eps)*P(r))*omega(r, th)) + 2*((r^2*Omega1(eps)^2 + 2*r^2*Omega1(eps)*omega(r, th) + r^2*omega(r, th)^2)*sin(th)^2 - 2*e^nu(r)*h(r, th))*E(r, th) + 2*((r^2*Omega1(eps)^2 + 2*r^2*Omega1(eps)*omega(r, th) + r^2*omega(r, th)^2)*sin(th)^2 - 2*e^nu(r)*h(r, th))*P(r) + E2(r, th)*e^nu(r) + 4*(2*E(r, th)*e^nu(r) + P(r)*e^nu(r))*h0(r, th)"
      ]
     },
     "execution_count": 38,
     "metadata": {},
     "output_type": "execute_result"
    }
   ],
   "source": [
    "prueba2[0,0].expr()"
   ]
  },
  {
   "cell_type": "code",
   "execution_count": 39,
   "metadata": {},
   "outputs": [
    {
     "data": {
      "text/html": [
       "<html>\\[\\newcommand{\\Bold}[1]{\\mathbf{#1}}-\\frac{1}{8} \\, \\pi^{2} {\\left({\\left(2 \\, r^{2} E\\left(r, {\\theta}\\right) + r^{2} P\\left(r\\right)\\right)} \\omega\\left(r, {\\theta}\\right)^{2} + 2 \\, {\\left(r^{2} E\\left(r, {\\theta}\\right) \\Omega^{(1)}\\left({\\varepsilon}\\right) + r^{2} \\Omega^{(1)}\\left({\\varepsilon}\\right) P\\left(r\\right)\\right)} \\omega\\left(r, {\\theta}\\right)\\right)} + 2 \\, {\\left({\\left(r^{2} \\Omega^{(1)}\\left({\\varepsilon}\\right)^{2} + 2 \\, r^{2} \\Omega^{(1)}\\left({\\varepsilon}\\right) \\omega\\left(r, {\\theta}\\right) + r^{2} \\omega\\left(r, {\\theta}\\right)^{2}\\right)} \\sin\\left({\\theta}\\right)^{2} - 2 \\, e^{\\nu\\left(r\\right)} h\\left(r, {\\theta}\\right)\\right)} E\\left(r, {\\theta}\\right) + 2 \\, {\\left({\\left(r^{2} \\Omega^{(1)}\\left({\\varepsilon}\\right)^{2} + 2 \\, r^{2} \\Omega^{(1)}\\left({\\varepsilon}\\right) \\omega\\left(r, {\\theta}\\right) + r^{2} \\omega\\left(r, {\\theta}\\right)^{2}\\right)} \\sin\\left({\\theta}\\right)^{2} - 2 \\, e^{\\nu\\left(r\\right)} h\\left(r, {\\theta}\\right)\\right)} P\\left(r\\right) + E^{(2)}\\left(r, {\\theta}\\right) e^{\\nu\\left(r\\right)} + 4 \\, {\\left(2 \\, E\\left(r, {\\theta}\\right) e^{\\nu\\left(r\\right)} + P\\left(r\\right) e^{\\nu\\left(r\\right)}\\right)} h_0\\left(r, {\\theta}\\right)\\]</html>"
      ],
      "text/latex": [
       "$$\\newcommand{\\Bold}[1]{\\mathbf{#1}}-\\frac{1}{8} \\, \\pi^{2} {\\left({\\left(2 \\, r^{2} E\\left(r, {\\theta}\\right) + r^{2} P\\left(r\\right)\\right)} \\omega\\left(r, {\\theta}\\right)^{2} + 2 \\, {\\left(r^{2} E\\left(r, {\\theta}\\right) \\Omega^{(1)}\\left({\\varepsilon}\\right) + r^{2} \\Omega^{(1)}\\left({\\varepsilon}\\right) P\\left(r\\right)\\right)} \\omega\\left(r, {\\theta}\\right)\\right)} + 2 \\, {\\left({\\left(r^{2} \\Omega^{(1)}\\left({\\varepsilon}\\right)^{2} + 2 \\, r^{2} \\Omega^{(1)}\\left({\\varepsilon}\\right) \\omega\\left(r, {\\theta}\\right) + r^{2} \\omega\\left(r, {\\theta}\\right)^{2}\\right)} \\sin\\left({\\theta}\\right)^{2} - 2 \\, e^{\\nu\\left(r\\right)} h\\left(r, {\\theta}\\right)\\right)} E\\left(r, {\\theta}\\right) + 2 \\, {\\left({\\left(r^{2} \\Omega^{(1)}\\left({\\varepsilon}\\right)^{2} + 2 \\, r^{2} \\Omega^{(1)}\\left({\\varepsilon}\\right) \\omega\\left(r, {\\theta}\\right) + r^{2} \\omega\\left(r, {\\theta}\\right)^{2}\\right)} \\sin\\left({\\theta}\\right)^{2} - 2 \\, e^{\\nu\\left(r\\right)} h\\left(r, {\\theta}\\right)\\right)} P\\left(r\\right) + E^{(2)}\\left(r, {\\theta}\\right) e^{\\nu\\left(r\\right)} + 4 \\, {\\left(2 \\, E\\left(r, {\\theta}\\right) e^{\\nu\\left(r\\right)} + P\\left(r\\right) e^{\\nu\\left(r\\right)}\\right)} h_0\\left(r, {\\theta}\\right)$$"
      ],
      "text/plain": [
       "-1/8*pi^2*((2*r^2*E(r, th) + r^2*P(r))*omega(r, th)^2 + 2*(r^2*E(r, th)*Omega1(eps) + r^2*Omega1(eps)*P(r))*omega(r, th)) + 2*((r^2*Omega1(eps)^2 + 2*r^2*Omega1(eps)*omega(r, th) + r^2*omega(r, th)^2)*sin(th)^2 - 2*e^nu(r)*h(r, th))*E(r, th) + 2*((r^2*Omega1(eps)^2 + 2*r^2*Omega1(eps)*omega(r, th) + r^2*omega(r, th)^2)*sin(th)^2 - 2*e^nu(r)*h(r, th))*P(r) + E2(r, th)*e^nu(r) + 4*(2*E(r, th)*e^nu(r) + P(r)*e^nu(r))*h0(r, th)"
      ]
     },
     "execution_count": 39,
     "metadata": {},
     "output_type": "execute_result"
    }
   ],
   "source": [
    "prueba2[0,0].expr()"
   ]
  },
  {
   "cell_type": "code",
   "execution_count": 40,
   "metadata": {},
   "outputs": [
    {
     "ename": "IndexError",
     "evalue": "list index out of range",
     "output_type": "error",
     "traceback": [
      "\u001b[0;31m---------------------------------------------------------------------------\u001b[0m",
      "\u001b[0;31mIndexError\u001b[0m                                Traceback (most recent call last)",
      "\u001b[0;32m<ipython-input-40-1f9ee34bf470>\u001b[0m in \u001b[0;36m<module>\u001b[0;34m\u001b[0m\n\u001b[0;32m----> 1\u001b[0;31m \u001b[0mE1value\u001b[0m \u001b[0;34m=\u001b[0m \u001b[0msolve\u001b[0m\u001b[0;34m(\u001b[0m\u001b[0mprueba1\u001b[0m\u001b[0;34m[\u001b[0m\u001b[0mInteger\u001b[0m\u001b[0;34m(\u001b[0m\u001b[0;36m0\u001b[0m\u001b[0;34m)\u001b[0m\u001b[0;34m,\u001b[0m\u001b[0mInteger\u001b[0m\u001b[0;34m(\u001b[0m\u001b[0;36m0\u001b[0m\u001b[0;34m)\u001b[0m\u001b[0;34m]\u001b[0m\u001b[0;34m.\u001b[0m\u001b[0mexpr\u001b[0m\u001b[0;34m(\u001b[0m\u001b[0;34m)\u001b[0m \u001b[0;34m==\u001b[0m \u001b[0mkappa\u001b[0m\u001b[0;34m*\u001b[0m\u001b[0mprueba2\u001b[0m\u001b[0;34m[\u001b[0m\u001b[0mInteger\u001b[0m\u001b[0;34m(\u001b[0m\u001b[0;36m0\u001b[0m\u001b[0;34m)\u001b[0m\u001b[0;34m,\u001b[0m\u001b[0mInteger\u001b[0m\u001b[0;34m(\u001b[0m\u001b[0;36m0\u001b[0m\u001b[0;34m)\u001b[0m\u001b[0;34m]\u001b[0m\u001b[0;34m.\u001b[0m\u001b[0mexpr\u001b[0m\u001b[0;34m(\u001b[0m\u001b[0;34m)\u001b[0m\u001b[0;34m,\u001b[0m\u001b[0mE1\u001b[0m\u001b[0;34m)\u001b[0m\u001b[0;34m[\u001b[0m\u001b[0mInteger\u001b[0m\u001b[0;34m(\u001b[0m\u001b[0;36m0\u001b[0m\u001b[0;34m)\u001b[0m\u001b[0;34m]\u001b[0m\u001b[0;34m.\u001b[0m\u001b[0mrhs\u001b[0m\u001b[0;34m(\u001b[0m\u001b[0;34m)\u001b[0m\u001b[0;34m\u001b[0m\u001b[0;34m\u001b[0m\u001b[0m\n\u001b[0m",
      "\u001b[0;32m/var/tmp/sage-9.4-current/local/lib/python3.9/site-packages/sage/structure/sequence.py\u001b[0m in \u001b[0;36m__getitem__\u001b[0;34m(self, n)\u001b[0m\n\u001b[1;32m    518\u001b[0m                             cr = self.__cr)\n\u001b[1;32m    519\u001b[0m         \u001b[0;32melse\u001b[0m\u001b[0;34m:\u001b[0m\u001b[0;34m\u001b[0m\u001b[0;34m\u001b[0m\u001b[0m\n\u001b[0;32m--> 520\u001b[0;31m             \u001b[0;32mreturn\u001b[0m \u001b[0mlist\u001b[0m\u001b[0;34m.\u001b[0m\u001b[0m__getitem__\u001b[0m\u001b[0;34m(\u001b[0m\u001b[0mself\u001b[0m\u001b[0;34m,\u001b[0m\u001b[0mn\u001b[0m\u001b[0;34m)\u001b[0m\u001b[0;34m\u001b[0m\u001b[0;34m\u001b[0m\u001b[0m\n\u001b[0m\u001b[1;32m    521\u001b[0m \u001b[0;34m\u001b[0m\u001b[0m\n\u001b[1;32m    522\u001b[0m     \u001b[0;31m# We have to define the *slice functions as long as Sage uses Python 2.*\u001b[0m\u001b[0;34m\u001b[0m\u001b[0;34m\u001b[0m\u001b[0;34m\u001b[0m\u001b[0m\n",
      "\u001b[0;31mIndexError\u001b[0m: list index out of range"
     ]
    }
   ],
   "source": [
    "E1value = solve(prueba1[0,0].expr() == kappa*prueba2[0,0].expr(),E1)[0].rhs()"
   ]
  },
  {
   "cell_type": "code",
   "execution_count": null,
   "metadata": {},
   "outputs": [],
   "source": []
  },
  {
   "cell_type": "code",
   "execution_count": null,
   "metadata": {},
   "outputs": [],
   "source": []
  },
  {
   "cell_type": "code",
   "execution_count": null,
   "metadata": {},
   "outputs": [],
   "source": []
  },
  {
   "cell_type": "code",
   "execution_count": null,
   "metadata": {},
   "outputs": [],
   "source": []
  },
  {
   "cell_type": "code",
   "execution_count": null,
   "metadata": {},
   "outputs": [],
   "source": []
  },
  {
   "cell_type": "code",
   "execution_count": null,
   "metadata": {},
   "outputs": [],
   "source": [
    "E02 = solve(prueba1[0,0].expr() == kappa*prueba2[0,0].expr(),E02);E02"
   ]
  },
  {
   "cell_type": "code",
   "execution_count": null,
   "metadata": {},
   "outputs": [],
   "source": [
    "prueba1[0,0]"
   ]
  },
  {
   "cell_type": "code",
   "execution_count": null,
   "metadata": {},
   "outputs": [],
   "source": [
    "legendre_P(2,cos(th))"
   ]
  },
  {
   "cell_type": "code",
   "execution_count": null,
   "metadata": {},
   "outputs": [],
   "source": [
    "eq1 = LP2==legendre_P(2,cos(th))\n",
    "solve(eq1,cos(th)^2)[0].rhs()"
   ]
  },
  {
   "cell_type": "code",
   "execution_count": null,
   "metadata": {},
   "outputs": [],
   "source": [
    "eq1 = LP2==legendre_P(2,cos(th))\n",
    "solve(eq1,sin(th))[0].rhs()"
   ]
  },
  {
   "cell_type": "code",
   "execution_count": null,
   "metadata": {},
   "outputs": [],
   "source": []
  },
  {
   "cell_type": "code",
   "execution_count": null,
   "metadata": {},
   "outputs": [],
   "source": []
  },
  {
   "cell_type": "code",
   "execution_count": null,
   "metadata": {},
   "outputs": [],
   "source": []
  },
  {
   "cell_type": "code",
   "execution_count": null,
   "metadata": {},
   "outputs": [],
   "source": []
  },
  {
   "cell_type": "code",
   "execution_count": null,
   "metadata": {},
   "outputs": [],
   "source": [
    "fm(r) = m0 + m2*(3*cos(th)^2-1)/2\n",
    "fk(r) = k0 + k2*(3*cos(th)^2-1)/2\n",
    "fh(r) = h0 + h2*(3*cos(th)^2-1)/2\n",
    "\n",
    "ddeins.apply_map(lambda cmp: cmp.substitute_function(function('h'), fh))\n",
    "ddeins.apply_map(lambda cmp: cmp.substitute_function(function('m'), fm))\n",
    "ddeins.apply_map(lambda cmp: cmp.substitute_function(function('k'), fk))"
   ]
  },
  {
   "cell_type": "code",
   "execution_count": null,
   "metadata": {},
   "outputs": [],
   "source": []
  }
 ],
 "metadata": {
  "kernelspec": {
   "display_name": "SageMath 9.4",
   "language": "sage",
   "name": "sagemath-9.4"
  },
  "language_info": {
   "codemirror_mode": {
    "name": "ipython",
    "version": 3
   },
   "file_extension": ".py",
   "mimetype": "text/x-python",
   "name": "python",
   "nbconvert_exporter": "python",
   "pygments_lexer": "ipython3",
   "version": "3.9.5"
  }
 },
 "nbformat": 4,
 "nbformat_minor": 4
}
