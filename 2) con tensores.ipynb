{
 "cells": [
  {
   "cell_type": "code",
   "execution_count": 1,
   "metadata": {},
   "outputs": [],
   "source": [
    "%display latex"
   ]
  },
  {
   "cell_type": "code",
   "execution_count": 2,
   "metadata": {},
   "outputs": [],
   "source": [
    "import numpy as np\n",
    "import matplotlib.pyplot as plt\n",
    "import time\n",
    "import os"
   ]
  },
  {
   "cell_type": "code",
   "execution_count": 3,
   "metadata": {},
   "outputs": [],
   "source": [
    "#Define space-time manifold and coordinates\n",
    "\n",
    "n = 3\n",
    "M = Manifold(1+n, 'M', structure='Lorentzian')\n",
    "X.<t,r,th,ph> = M.chart(r\"t r:(0,+oo) th:(0,pi):\\theta ph:(0,2*pi):\\phi\")"
   ]
  },
  {
   "cell_type": "code",
   "execution_count": 4,
   "metadata": {},
   "outputs": [],
   "source": [
    "eps = var('eps', latex_name='\\\\varepsilon')\n",
    "\n",
    "h = function('h')(r,th)\n",
    "k = function('k')(r,th)\n",
    "m = function('m')(r,th)\n",
    "omega = function('omega', latex_name=\"\\\\omega\")(r,th)\n",
    "\n",
    "nu = function('nu', latex_name='\\\\nu')(r)\n",
    "lamb = function('lamb', latex_name='\\\\lambda')(r)\n",
    "\n",
    "Omegae = function('Omegaevalue', latex_name = \"\\\\Omega_e\")(eps)\n",
    "Ne = function('Ne', latex_name = \"N_e\")(r,eps)"
   ]
  },
  {
   "cell_type": "code",
   "execution_count": null,
   "metadata": {},
   "outputs": [],
   "source": [
    "gdd = M.tensor_field(0,2, name='gdd')\n",
    "gdd[0,0] = -exp(nu)\n",
    "gdd[1,1] = exp(lamb)\n",
    "gdd[2,2] = r^2\n",
    "gdd[3,3] = r^2*sin(th)^2\n",
    "\n",
    "K1 = M.tensor_field(0,2, name='K1')\n",
    "K1[0,3] = omega*r^2*sin(th)^2\n",
    "K1[3,0] = omega*r^2*sin(th)^2\n",
    "\n",
    "K2 = M.tensor_field(0,2, name='K2')\n",
    "K2[0,0] = -4*exp(nu)*h + 2*r^2*sin(th)^2*omega^2\n",
    "K2[1,1] = 4*exp(lamb)*m\n",
    "K2[2,2] = 4*k*r^2\n",
    "K2[3,3] = 4*k*r^2*sin(th)^2\n",
    "\n",
    "gedd = M.metric()\n",
    "for i in range(0,n+1):\n",
    "    for j in range(0,n+1):\n",
    "        gedd[i,j] = gdd[i,j] + eps*K1[i,j] + 1/2*eps^2*K2[i,j]\n",
    "\n",
    "geuu = gedd.inverse()\n",
    "ricci = gedd.ricci()\n",
    "s_curv = geuu['^{ab}']*ricci['_ab']\n",
    "eins = ricci - gdd*s_curv/2                                                                             #G_\\mu\\nu e\n",
    "\n",
    "deins = M.tensor_field(0,2,'deins')\n",
    "ddeins = M.tensor_field(0,2,'ddeins')\n",
    "for i in range(0,n+1):\n",
    "    for j in range(0,n+1):\n",
    "        deins[i,j] = diff(eins[i,j].expr(),eps)\n",
    "        ddeins[i,j] = diff(eins[i,j].expr(),eps,eps)"
   ]
  },
  {
   "cell_type": "code",
   "execution_count": null,
   "metadata": {},
   "outputs": [],
   "source": [
    "show(LatexExpr(\"g_{\\\\varepsilon}\\\\rvert_{\\\\varepsilon=0} = \"), gdd[:])\n",
    "show(LatexExpr(\"K_1 = \"), K1[:])\n",
    "show(LatexExpr(\"K_2 = \"), K2[:])\n",
    "show(LatexExpr(\"g_{\\\\varepsilon} = \"), gedd[:])"
   ]
  },
  {
   "cell_type": "code",
   "execution_count": null,
   "metadata": {},
   "outputs": [],
   "source": [
    "#4-velocities of the fluid for any epsilon\n",
    "\n",
    "ue = M.vector_field(name=\"ue\")\n",
    "ue[0] = Ne; ue[1] = 0; ue[2] = 0; ue[3] = Ne*Omegae\n",
    "\n",
    "u = M.vector_field(name=\"u\")\n",
    "u[0] = exp(-nu/2); u[1] =  0; u[2] =  0; u[3] =  0\n",
    "\n",
    "Nevalue = solve(u[0].expr()==ue[0].expr(), Ne)[0].rhs()                                                    #Eq 4.20\n",
    "Omegaevalue = solve(u[3].expr()==ue[3].expr(), Omegae)[0].rhs()                                            #Eq 4.20"
   ]
  },
  {
   "cell_type": "code",
   "execution_count": null,
   "metadata": {},
   "outputs": [],
   "source": [
    "show(LatexExpr(\"N_{\\\\varepsilon}\\\\rvert_{\\\\varepsilon=0} = \"), Nevalue)\n",
    "show(LatexExpr(\"\\\\Omega_{\\\\varepsilon}\\\\rvert_{\\\\varepsilon=0} = \"), Omegaevalue)"
   ]
  },
  {
   "cell_type": "code",
   "execution_count": null,
   "metadata": {},
   "outputs": [],
   "source": [
    "u1 = M.vector_field(name=\"u1\",latex_name=\"u^{(1)}\")\n",
    "u2 = M.vector_field(name=\"u2\",latex_name=\"u^{(2)}\")\n",
    "\n",
    "u10 = function('u10',latex_name=\"u^{(1)0}\")(r)\n",
    "u20 = function('u20',latex_name=\"u^{(2)0}\")(r)\n",
    "\n",
    "Omega1 = function('Omega1', latex_name=\"\\\\Omega^{(1)}\")(eps)\n",
    "Omega2 = function('Omega2', latex_name=\"\\\\Omega^{(2)}\")(eps)\n",
    "\n",
    "s0 = eps == 0\n",
    "s1 = Ne.subs(eps==0) == Nevalue\n",
    "s2 = Omegae.subs(eps==0) == Omegaevalue\n",
    "s3 = diff(Ne,eps).subs(eps==0) == u10\n",
    "s4 = diff(Omegae,eps).subs(eps==0) == Omega1\n",
    "s5 = diff(Ne,eps,eps).subs(eps==0) == u20\n",
    "s6 = diff(Omegae,eps,eps).subs(eps==0) == Omega2\n",
    "\n",
    "sustituciones = (s0,s1,s2,s3,s4,s5,s6)\n",
    "\n",
    "for i in range(0,n+1):\n",
    "    u1[i] = diff(ue[i].expr(),eps).subs(sustituciones)\n",
    "    u2[i] = diff(ue[i].expr(),eps,eps).subs(sustituciones)\n",
    "\n",
    "Ue = ue.down(gedd)\n",
    "geUeue = Ue['_a']*ue['^a']\n",
    "dgeUeue = diff(geUeue.expr(), eps).subs(sustituciones) == 0\n",
    "u10value = solve(dgeUeue, u10)[0].rhs()\n",
    "s7 = u10 == u10value\n",
    "u1.apply_map(lambda cmp: cmp.subs(u10==u10value))                                                          #Eq 4.21\n",
    "\n",
    "ddgeUeue = diff(geUeue.expr(), eps, eps).subs(sustituciones) == 0\n",
    "u20value = solve(ddgeUeue, u20)[0].rhs()\n",
    "s8 = u20 == u20value\n",
    "u2.apply_map(lambda cmp: cmp.subs(u20==u20value).subs(u10==u10value))                                      #Eq 4.22"
   ]
  },
  {
   "cell_type": "code",
   "execution_count": null,
   "metadata": {},
   "outputs": [],
   "source": [
    "show(u1.display())\n",
    "show(u2.display())"
   ]
  },
  {
   "cell_type": "code",
   "execution_count": null,
   "metadata": {},
   "outputs": [],
   "source": [
    "deins.apply_map(lambda cmp: cmp.subs(sustituciones))                                             #d/de(G_\\mu\\nu)|e=0\n",
    "ddeins.apply_map(lambda cmp: cmp.subs(sustituciones))                                        #d^2/de^2(G_\\mu\\nu)|e=0"
   ]
  },
  {
   "cell_type": "code",
   "execution_count": null,
   "metadata": {},
   "outputs": [],
   "source": [
    "Ee = function('Ee', latex_name=\"E_{\\\\varepsilon}\")(r,eps)\n",
    "Pe = function('Pe', latex_name=\"P_{\\\\varepsilon}\")(r,eps)\n",
    "\n",
    "eins0 = M.tensor_field(0,2, 'eins0', latex_name='G_0')\n",
    "Tedd = M.tensor_field(0,2,name='Tedd',latex_name=\"Tdd_{\\\\varepsilon}\")\n",
    "Tdd = M.tensor_field(0,2, 'Tdd')\n",
    "for i in range(0,n+1):\n",
    "    for j in range(0,n+1):\n",
    "        eins0[i,j] = eins[i,j]\n",
    "        Tedd[i,j] = (Ee + Pe)*Ue[i]*Ue[j] + Pe*gedd[i,j]                                                 #T_\\mu\\nu e\n",
    "        Tdd[i,j] = Tedd[i,j]\n",
    "\n",
    "eins0.apply_map(lambda cmp: cmp.subs(sustituciones))                                                       #G_\\mu\\nu\n",
    "Tdd.apply_map(lambda cmp: cmp.subs(sustituciones))                                                         #T_\\mu\\nu"
   ]
  },
  {
   "cell_type": "code",
   "execution_count": null,
   "metadata": {},
   "outputs": [],
   "source": [
    "show(LatexExpr(\"T_{\\\\varepsilon}\\\\rvert_{\\\\varepsilon=0} = \"), Tdd[:])"
   ]
  },
  {
   "cell_type": "code",
   "execution_count": null,
   "metadata": {},
   "outputs": [],
   "source": [
    "kappa = 8*pi\n",
    "E = function('E')(r)\n",
    "P = function('P')(r)\n",
    "\n",
    "s9 = Ee.subs(eps==0) == E\n",
    "s10 = Pe.subs(eps==0) == P\n",
    "sustituciones = (s1,s2,s3,s4,s5,s6,s7,s8,s9,s10)\n",
    "Tdd.apply_map(lambda cmp: cmp.subs(sustituciones))\n",
    "E_tt = solve(eins0[0,0].expr()==kappa*Tdd[0,0].expr(),E)[0].rhs()                                            #Eq 3.7\n",
    "P_rr = solve(eins0[1,1].expr()==kappa*Tdd[1,1].expr(),P)[0].rhs()                                            #Eq 3.8\n",
    "P_thth = solve(eins0[2,2].expr()==kappa*Tdd[2,2].expr(),P)[0].rhs()\n",
    "P_phph = solve(eins0[3,3].expr()==kappa*Tdd[3,3].expr(),P)[0].rhs()\n",
    "ddnu = solve(P_rr == P_thth, diff(nu,r,r))[0].rhs()                                                          #Eq 3.9"
   ]
  },
  {
   "cell_type": "code",
   "execution_count": null,
   "metadata": {},
   "outputs": [],
   "source": [
    "show(LatexExpr(\"E = \"), E_tt)\n",
    "show(LatexExpr(\"P_{rr} = \"), P_rr)\n",
    "show(LatexExpr(\"\\\\nu'' = \"), ddnu)"
   ]
  },
  {
   "cell_type": "code",
   "execution_count": null,
   "metadata": {},
   "outputs": [],
   "source": [
    "dlamb = solve(E==E_tt,diff(lamb,r))[0].rhs()                                                                 #Eq 3.10\n",
    "dnu = solve(P==P_rr,diff(nu,r))[0].rhs()                                                                     #Eq 3.11"
   ]
  },
  {
   "cell_type": "code",
   "execution_count": null,
   "metadata": {},
   "outputs": [],
   "source": [
    "show(LatexExpr(\"\\\\lambda' = \"), dlamb)\n",
    "show(LatexExpr(\"\\\\nu' = \"), dnu)"
   ]
  },
  {
   "cell_type": "code",
   "execution_count": null,
   "metadata": {},
   "outputs": [],
   "source": [
    "h0 = function('h0', latex_name=\"h_0\")(r,th)\n",
    "k0 = function('k0', latex_name=\"k_0\")(r,th)\n",
    "m0 = function('m0', latex_name=\"m_0\")(r,th)\n",
    "\n",
    "h2 = function('h2', latex_name=\"h_2\")(r,th)\n",
    "k2 = function('k2', latex_name=\"k_2\")(r,th)\n",
    "m2 = function('m2', latex_name=\"m_2\")(r,th)"
   ]
  },
  {
   "cell_type": "code",
   "execution_count": null,
   "metadata": {},
   "outputs": [],
   "source": [
    "E1 = function('E1', latex_name='E^{(1)}')(r)\n",
    "E2 = function('E2', latex_name='E^{(2)}')(r)\n",
    "P1 = function('P1', latex_name='P^{(1)}')(r)\n",
    "P2 = function('P2', latex_name='P^{(2)}')(r)\n",
    "\n",
    "s11 = diff(Ee,eps).subs(eps==0) == E1\n",
    "s12 = diff(Ee,eps,eps).subs(eps==0) == E2\n",
    "s13 = diff(Pe,eps).subs(eps==0) == P1\n",
    "s14 = diff(Pe,eps,eps).subs(eps==0) == P2\n",
    "\n",
    "sustituciones = (s0,s1,s2,s3,s4,s5,s6,s7,s8,s9,s10,s11,s12,s13,s14)"
   ]
  },
  {
   "cell_type": "code",
   "execution_count": null,
   "metadata": {},
   "outputs": [],
   "source": [
    "dTdd = M.tensor_field(0,2,'dTdd')\n",
    "ddTdd = M.tensor_field(0,2,'ddTdd')\n",
    "for i in range(0,n+1):\n",
    "    for j in range(0,n+1):\n",
    "        dTdd[i,j] = diff(Tedd[i,j].expr(),eps)\n",
    "        ddTdd[i,j] = diff(Tedd[i,j].expr(),eps,eps)\n",
    "dTdd.apply_map(lambda cmp: cmp.subs(sustituciones))                                              #d/de(T_\\mu\\nu)|e=0\n",
    "ddTdd.apply_map(lambda cmp: cmp.subs(sustituciones))                                         #d^2/de^2(T_\\mu\\nu)|e=0"
   ]
  },
  {
   "cell_type": "code",
   "execution_count": null,
   "metadata": {
    "scrolled": true
   },
   "outputs": [],
   "source": [
    "# Calculamos ahora la primera derivada de la ecuación\n",
    "\n",
    "show(deins[1,1],LatexExpr(\" = \"), kappa*dTdd[1,1])\n",
    "show(deins[2,2],LatexExpr(\" = \"), kappa*dTdd[2,2])\n",
    "show(deins[3,3],LatexExpr(\" = \"), kappa*dTdd[3,3])\n",
    "\n",
    "P1value = solve(deins[1,1].expr() == kappa*dTdd[1,1].expr(),P1)[0].rhs()\n",
    "\n",
    "show(LatexExpr(\"\\\\text{De aquí sacamos }P^{1}(r)\\\\rightarrow\\\\text{$P^1(r)$ = }\"), P1value)"
   ]
  },
  {
   "cell_type": "code",
   "execution_count": null,
   "metadata": {
    "scrolled": true
   },
   "outputs": [],
   "source": [
    "show(deins[0,0],LatexExpr(\" = \"), kappa*dTdd[0,0])\n",
    "\n",
    "E1value = solve(deins[0,0].expr() == kappa*dTdd[0,0].expr(),E1)[0].rhs()\n",
    "E1value = E1.subs(sustituciones)\n",
    "show(LatexExpr(\"\\\\text{De aquí sacamos }E^{1}(r)\\\\rightarrow\\\\text{$E^1(r)$ = }\"), E1value)"
   ]
  },
  {
   "cell_type": "code",
   "execution_count": null,
   "metadata": {
    "scrolled": true
   },
   "outputs": [],
   "source": [
    "# DEMOSTRAR QUE ESTO ES LA ECUACIÓN 48 DE 2015\n",
    "show(deins[0,3].expr() == kappa*dTdd[0,3].expr())                                                           #Eq 48"
   ]
  },
  {
   "cell_type": "code",
   "execution_count": null,
   "metadata": {},
   "outputs": [],
   "source": [
    "# Para la segunda derivada tenemos\n",
    "\n",
    "show(ddeins[0,0].expr(),LatexExpr(\" = \"), kappa*ddTdd[0,0].expr())"
   ]
  },
  {
   "cell_type": "code",
   "execution_count": null,
   "metadata": {},
   "outputs": [],
   "source": [
    "show(ddeins[1,1],LatexExpr(\" = \"), kappa*ddTdd[1,1])"
   ]
  },
  {
   "cell_type": "code",
   "execution_count": null,
   "metadata": {},
   "outputs": [],
   "source": [
    "show(ddeins[2,2],LatexExpr(\" = \"), kappa*ddTdd[2,2])"
   ]
  },
  {
   "cell_type": "code",
   "execution_count": null,
   "metadata": {},
   "outputs": [],
   "source": [
    "show(ddeins[3,3],LatexExpr(\" = \"), kappa*ddTdd[3,3])"
   ]
  },
  {
   "cell_type": "code",
   "execution_count": null,
   "metadata": {},
   "outputs": [],
   "source": [
    "show(ddeins[0,3],LatexExpr(\" = \"), kappa*ddTdd[0,3])"
   ]
  },
  {
   "cell_type": "code",
   "execution_count": null,
   "metadata": {},
   "outputs": [],
   "source": [
    "show(ddeins[1,2],LatexExpr(\" = \"), kappa*ddTdd[1,2])"
   ]
  },
  {
   "cell_type": "code",
   "execution_count": null,
   "metadata": {},
   "outputs": [],
   "source": [
    "# Aplicamos barotropic EoS\n",
    "# Utilizando (6.11) de Reina con P1=0 y E1=0\n",
    "E2*diff(P,r) - P2*diff(E,r) == 0"
   ]
  },
  {
   "cell_type": "code",
   "execution_count": null,
   "metadata": {},
   "outputs": [],
   "source": [
    "prueba1 = M.tensor_field(0,2,'prueba1')\n",
    "prueba2 = M.tensor_field(0,2,'prueba2')\n",
    "for i in range(0,n+1):\n",
    "    for j in range(0,n+1):\n",
    "        prueba1[i,j] = ddeins[i,j]\n",
    "        prueba2[i,j] = ddTdd[i,j]"
   ]
  },
  {
   "cell_type": "code",
   "execution_count": null,
   "metadata": {},
   "outputs": [],
   "source": [
    "LP1 = function('LP1')(th)\n",
    "LP2 = function('LP2')(th)\n",
    "LP4 = function('LP4')(th)\n",
    "s0 = sin(th)^4 == (8*LP4+30*LP1^2-3)/35+1-2*LP1^2\n",
    "s1 = sin(th)^2 == (2-2*LP2)/3\n",
    "s2 = cos(th) == LP1\n",
    "s3 = LP1^2 == (2*LP2+1)/3\n",
    "s4 = sin(th)*cos(th) == 3*pi/16*LP1\n",
    "s5 = sin(th) == pi/4-10*pi*LP2\n",
    "su = (s0,s1,s2,s3,s4,s5)\n",
    "prueba1.apply_map(lambda cmp: cmp.subs(su))\n",
    "prueba2.apply_map(lambda cmp: cmp.subs(su))"
   ]
  },
  {
   "cell_type": "code",
   "execution_count": null,
   "metadata": {},
   "outputs": [],
   "source": [
    "fm(r) = m0 + m2*LP2\n",
    "fk(r) = k0 + k2*LP2\n",
    "fh(r) = h0 + h2*LP2\n",
    "\n",
    "prueba1.apply_map(lambda cmp: cmp.substitute_function(function('h'), fh))\n",
    "prueba1.apply_map(lambda cmp: cmp.substitute_function(function('m'), fm))\n",
    "prueba1.apply_map(lambda cmp: cmp.substitute_function(function('k'), fk))\n",
    "\n",
    "prueba2.apply_map(lambda cmp: cmp.substitute_function(function('h'), fh))\n",
    "prueba2.apply_map(lambda cmp: cmp.substitute_function(function('m'), fm))\n",
    "prueba2.apply_map(lambda cmp: cmp.substitute_function(function('k'), fk))"
   ]
  },
  {
   "cell_type": "code",
   "execution_count": null,
   "metadata": {},
   "outputs": [],
   "source": [
    "E02 = function('E02', latex_name='E_{0}^{(2)}')(r)\n",
    "E12 = function('E12', latex_name='E_{1}^{(2)}')(r)\n",
    "E22 = function('E22', latex_name='E_{2}^{(2)}')(r)\n",
    "\n",
    "P02 = function('P02', latex_name='P_{0}^{(2)}')(r)\n",
    "P12 = function('P12', latex_name='P_{1}^{(2)}')(r)\n",
    "P22 = function('P22', latex_name='P_{2}^{(2)}')(r)"
   ]
  },
  {
   "cell_type": "code",
   "execution_count": null,
   "metadata": {},
   "outputs": [],
   "source": [
    "E1"
   ]
  },
  {
   "cell_type": "code",
   "execution_count": 55,
   "metadata": {},
   "outputs": [],
   "source": [
    "fE2(r) = E02 + E12*LP1 + E22*LP2\n",
    "fP2(r) = P02 + P12*LP1 + P22*LP2\n",
    "\n",
    "prueba2.apply_map(lambda cmp: cmp.substitute_function(function('E2'), fE2))\n",
    "prueba2.apply_map(lambda cmp: cmp.substitute_function(function('P2'), fP2))"
   ]
  },
  {
   "cell_type": "code",
   "execution_count": 75,
   "metadata": {},
   "outputs": [
    {
     "ename": "AttributeError",
     "evalue": "'NoneType' object has no attribute 'apply_map'",
     "output_type": "error",
     "traceback": [
      "\u001b[0;31m---------------------------------------------------------------------------\u001b[0m",
      "\u001b[0;31mAttributeError\u001b[0m                            Traceback (most recent call last)",
      "\u001b[0;32m<ipython-input-75-4d7f52226b7c>\u001b[0m in \u001b[0;36m<module>\u001b[0;34m\u001b[0m\n\u001b[1;32m      3\u001b[0m \u001b[0mprueba1\u001b[0m\u001b[0;34m.\u001b[0m\u001b[0mapply_map\u001b[0m\u001b[0;34m(\u001b[0m\u001b[0;32mlambda\u001b[0m \u001b[0mcmp\u001b[0m\u001b[0;34m:\u001b[0m \u001b[0mcmp\u001b[0m\u001b[0;34m.\u001b[0m\u001b[0msubs\u001b[0m\u001b[0;34m(\u001b[0m\u001b[0mLP4\u001b[0m\u001b[0;34m==\u001b[0m\u001b[0mInteger\u001b[0m\u001b[0;34m(\u001b[0m\u001b[0;36m0\u001b[0m\u001b[0;34m)\u001b[0m\u001b[0;34m)\u001b[0m\u001b[0;34m)\u001b[0m\u001b[0;34m\u001b[0m\u001b[0;34m\u001b[0m\u001b[0m\n\u001b[1;32m      4\u001b[0m \u001b[0;34m\u001b[0m\u001b[0m\n\u001b[0;32m----> 5\u001b[0;31m \u001b[0mprueba2\u001b[0m\u001b[0;34m.\u001b[0m\u001b[0mapply_map\u001b[0m\u001b[0;34m(\u001b[0m\u001b[0;32mlambda\u001b[0m \u001b[0mcmp\u001b[0m\u001b[0;34m:\u001b[0m \u001b[0mcmp\u001b[0m\u001b[0;34m.\u001b[0m\u001b[0msubs\u001b[0m\u001b[0;34m(\u001b[0m\u001b[0mLP1\u001b[0m\u001b[0;34m==\u001b[0m\u001b[0mInteger\u001b[0m\u001b[0;34m(\u001b[0m\u001b[0;36m0\u001b[0m\u001b[0;34m)\u001b[0m\u001b[0;34m)\u001b[0m\u001b[0;34m)\u001b[0m\u001b[0;34m\u001b[0m\u001b[0;34m\u001b[0m\u001b[0m\n\u001b[0m\u001b[1;32m      6\u001b[0m \u001b[0mprueba2\u001b[0m\u001b[0;34m.\u001b[0m\u001b[0mapply_map\u001b[0m\u001b[0;34m(\u001b[0m\u001b[0;32mlambda\u001b[0m \u001b[0mcmp\u001b[0m\u001b[0;34m:\u001b[0m \u001b[0mcmp\u001b[0m\u001b[0;34m.\u001b[0m\u001b[0msubs\u001b[0m\u001b[0;34m(\u001b[0m\u001b[0mLP2\u001b[0m\u001b[0;34m==\u001b[0m\u001b[0mInteger\u001b[0m\u001b[0;34m(\u001b[0m\u001b[0;36m0\u001b[0m\u001b[0;34m)\u001b[0m\u001b[0;34m)\u001b[0m\u001b[0;34m)\u001b[0m\u001b[0;34m\u001b[0m\u001b[0;34m\u001b[0m\u001b[0m\n\u001b[1;32m      7\u001b[0m \u001b[0mprueba2\u001b[0m\u001b[0;34m.\u001b[0m\u001b[0mapply_map\u001b[0m\u001b[0;34m(\u001b[0m\u001b[0;32mlambda\u001b[0m \u001b[0mcmp\u001b[0m\u001b[0;34m:\u001b[0m \u001b[0mcmp\u001b[0m\u001b[0;34m.\u001b[0m\u001b[0msubs\u001b[0m\u001b[0;34m(\u001b[0m\u001b[0mLP4\u001b[0m\u001b[0;34m==\u001b[0m\u001b[0mInteger\u001b[0m\u001b[0;34m(\u001b[0m\u001b[0;36m0\u001b[0m\u001b[0;34m)\u001b[0m\u001b[0;34m)\u001b[0m\u001b[0;34m)\u001b[0m\u001b[0;34m\u001b[0m\u001b[0;34m\u001b[0m\u001b[0m\n",
      "\u001b[0;31mAttributeError\u001b[0m: 'NoneType' object has no attribute 'apply_map'"
     ]
    }
   ],
   "source": [
    "prueba1.apply_map(lambda cmp: cmp.subs(LP1==0))\n",
    "prueba1.apply_map(lambda cmp: cmp.subs(LP2==0))\n",
    "prueba1.apply_map(lambda cmp: cmp.subs(LP4==0))\n",
    "\n",
    "prueba2.apply_map(lambda cmp: cmp.subs(LP1==0))\n",
    "prueba2.apply_map(lambda cmp: cmp.subs(LP2==0))\n",
    "prueba2.apply_map(lambda cmp: cmp.subs(LP4==0))\n",
    "\n",
    "prueba1.apply_map(lambda cmp: cmp.subs(E1==0))\n",
    "prueba2.apply_map(lambda cmp: cmp.subs(E1==0))"
   ]
  },
  {
   "cell_type": "code",
   "execution_count": 74,
   "metadata": {},
   "outputs": [
    {
     "ename": "TypeError",
     "evalue": "'NoneType' object is not subscriptable",
     "output_type": "error",
     "traceback": [
      "\u001b[0;31m---------------------------------------------------------------------------\u001b[0m",
      "\u001b[0;31mTypeError\u001b[0m                                 Traceback (most recent call last)",
      "\u001b[0;32m<ipython-input-74-cb6f4c57432d>\u001b[0m in \u001b[0;36m<module>\u001b[0;34m\u001b[0m\n\u001b[0;32m----> 1\u001b[0;31m \u001b[0mprueba2\u001b[0m\u001b[0;34m[\u001b[0m\u001b[0mInteger\u001b[0m\u001b[0;34m(\u001b[0m\u001b[0;36m0\u001b[0m\u001b[0;34m)\u001b[0m\u001b[0;34m,\u001b[0m\u001b[0mInteger\u001b[0m\u001b[0;34m(\u001b[0m\u001b[0;36m0\u001b[0m\u001b[0;34m)\u001b[0m\u001b[0;34m]\u001b[0m\u001b[0;34m.\u001b[0m\u001b[0mexpr\u001b[0m\u001b[0;34m(\u001b[0m\u001b[0;34m)\u001b[0m\u001b[0;34m\u001b[0m\u001b[0;34m\u001b[0m\u001b[0m\n\u001b[0m",
      "\u001b[0;31mTypeError\u001b[0m: 'NoneType' object is not subscriptable"
     ]
    }
   ],
   "source": [
    "prueba2[0,0].expr()"
   ]
  },
  {
   "cell_type": "code",
   "execution_count": 66,
   "metadata": {},
   "outputs": [
    {
     "data": {
      "text/html": [
       "<html>\\[\\newcommand{\\Bold}[1]{\\mathbf{#1}}\\left[\\right]\\]</html>"
      ],
      "text/latex": [
       "$$\\newcommand{\\Bold}[1]{\\mathbf{#1}}\\left[\\right]$$"
      ],
      "text/plain": [
       "[]"
      ]
     },
     "execution_count": 66,
     "metadata": {},
     "output_type": "execute_result"
    }
   ],
   "source": [
    "E02 = solve(prueba1[0,0].expr() == kappa*prueba2[0,0].expr(),E02);E02"
   ]
  },
  {
   "cell_type": "code",
   "execution_count": 52,
   "metadata": {},
   "outputs": [
    {
     "data": {
      "text/html": [
       "<html>\\[\\newcommand{\\Bold}[1]{\\mathbf{#1}}\\frac{{\\left(\\pi^{3} {\\left(2 \\, r^{3} e^{\\left(2 \\, \\nu\\left(r\\right)\\right)} \\omega\\left(r, {\\theta}\\right)^{2} \\frac{\\partial\\,\\lambda}{\\partial r} - 2 \\, r^{3} e^{\\left(2 \\, \\nu\\left(r\\right)\\right)} \\omega\\left(r, {\\theta}\\right)^{2} \\frac{\\partial\\,\\nu}{\\partial r} - r^{4} e^{\\left(2 \\, \\nu\\left(r\\right)\\right)} \\left(\\frac{\\partial\\,\\omega}{\\partial r}\\right)^{2} - 4 \\, r^{4} e^{\\left(2 \\, \\nu\\left(r\\right)\\right)} \\omega\\left(r, {\\theta}\\right) \\frac{\\partial^2\\,\\omega}{\\partial r ^ 2} - r^{2} e^{\\left(\\lambda\\left(r\\right) + 2 \\, \\nu\\left(r\\right)\\right)} \\left(\\frac{\\partial\\,\\omega}{\\partial {\\theta}}\\right)^{2} - 4 \\, r^{2} e^{\\left(\\lambda\\left(r\\right) + 2 \\, \\nu\\left(r\\right)\\right)} \\omega\\left(r, {\\theta}\\right) \\frac{\\partial^2\\,\\omega}{\\partial {\\theta} ^ 2} + 4 \\, {\\left(r^{2} e^{\\lambda\\left(r\\right)} - r^{2}\\right)} e^{\\left(2 \\, \\nu\\left(r\\right)\\right)} \\omega\\left(r, {\\theta}\\right)^{2} + 2 \\, {\\left(r^{4} e^{\\left(2 \\, \\nu\\left(r\\right)\\right)} \\omega\\left(r, {\\theta}\\right) \\frac{\\partial\\,\\lambda}{\\partial r} + r^{4} e^{\\left(2 \\, \\nu\\left(r\\right)\\right)} \\omega\\left(r, {\\theta}\\right) \\frac{\\partial\\,\\nu}{\\partial r} - 8 \\, r^{3} e^{\\left(2 \\, \\nu\\left(r\\right)\\right)} \\omega\\left(r, {\\theta}\\right)\\right)} \\frac{\\partial\\,\\omega}{\\partial r}\\right)} + 32 \\, \\pi {\\left(r^{2} e^{\\left(3 \\, \\nu\\left(r\\right)\\right)} h_0\\left(r, {\\theta}\\right) \\frac{\\partial\\,\\nu}{\\partial r}^{2} + 2 \\, r^{2} e^{\\left(3 \\, \\nu\\left(r\\right)\\right)} h_0\\left(r, {\\theta}\\right) \\frac{\\partial^2\\,\\nu}{\\partial r ^ 2} - 4 \\, r^{2} e^{\\left(3 \\, \\nu\\left(r\\right)\\right)} \\frac{\\partial^2\\,k_0}{\\partial r ^ 2} + 8 \\, {\\left(e^{\\lambda\\left(r\\right)} - 1\\right)} e^{\\left(3 \\, \\nu\\left(r\\right)\\right)} h_0\\left(r, {\\theta}\\right) + 4 \\, {\\left(3 \\, e^{\\lambda\\left(r\\right)} - 4\\right)} e^{\\left(3 \\, \\nu\\left(r\\right)\\right)} k_0\\left(r, {\\theta}\\right) + 4 \\, {\\left(2 \\, e^{\\lambda\\left(r\\right)} - 1\\right)} e^{\\left(3 \\, \\nu\\left(r\\right)\\right)} m_0\\left(r, {\\theta}\\right) + 4 \\, r e^{\\left(3 \\, \\nu\\left(r\\right)\\right)} \\frac{\\partial\\,m_0}{\\partial r} - 2 \\, {\\left(k_2\\left(r, {\\theta}\\right) \\frac{\\partial^2\\,\\mathit{LP}_{2}}{\\partial {\\theta} ^ 2} + 2 \\, \\frac{\\partial\\,\\mathit{LP}_{2}}{\\partial {\\theta}} \\frac{\\partial\\,k_2}{\\partial {\\theta}} + \\frac{\\partial^2\\,k_0}{\\partial {\\theta} ^ 2}\\right)} e^{\\left(\\lambda\\left(r\\right) + 3 \\, \\nu\\left(r\\right)\\right)} - 2 \\, {\\left(m_2\\left(r, {\\theta}\\right) \\frac{\\partial^2\\,\\mathit{LP}_{2}}{\\partial {\\theta} ^ 2} + 2 \\, \\frac{\\partial\\,\\mathit{LP}_{2}}{\\partial {\\theta}} \\frac{\\partial\\,m_2}{\\partial {\\theta}} + \\frac{\\partial^2\\,m_0}{\\partial {\\theta} ^ 2}\\right)} e^{\\left(\\lambda\\left(r\\right) + 3 \\, \\nu\\left(r\\right)\\right)} + 2 \\, {\\left(r^{2} e^{\\left(3 \\, \\nu\\left(r\\right)\\right)} \\frac{\\partial\\,\\lambda}{\\partial r} - 6 \\, r e^{\\left(3 \\, \\nu\\left(r\\right)\\right)}\\right)} \\frac{\\partial\\,k_0}{\\partial r} + 4 \\, {\\left(2 \\, r e^{\\left(3 \\, \\nu\\left(r\\right)\\right)} h_0\\left(r, {\\theta}\\right) + 4 \\, r e^{\\left(3 \\, \\nu\\left(r\\right)\\right)} k_0\\left(r, {\\theta}\\right) + r e^{\\left(3 \\, \\nu\\left(r\\right)\\right)} m_0\\left(r, {\\theta}\\right)\\right)} \\frac{\\partial\\,\\lambda}{\\partial r} - {\\left(r^{2} e^{\\left(3 \\, \\nu\\left(r\\right)\\right)} h_0\\left(r, {\\theta}\\right) \\frac{\\partial\\,\\lambda}{\\partial r} - 4 \\, r e^{\\left(3 \\, \\nu\\left(r\\right)\\right)} h_0\\left(r, {\\theta}\\right)\\right)} \\frac{\\partial\\,\\nu}{\\partial r}\\right)}\\right)} e^{\\left(-\\lambda\\left(r\\right) - 2 \\, \\nu\\left(r\\right)\\right)}}{32 \\, \\pi r^{2}} - \\frac{8 \\, {\\left(r^{2} e^{\\left(\\lambda\\left(r\\right) + 2 \\, \\nu\\left(r\\right)\\right)} h_0\\left(r, {\\theta}\\right) + 2 \\, r^{2} e^{\\left(\\lambda\\left(r\\right) + 2 \\, \\nu\\left(r\\right)\\right)} k_0\\left(r, {\\theta}\\right) + r^{2} e^{\\left(\\lambda\\left(r\\right) + 2 \\, \\nu\\left(r\\right)\\right)} m_0\\left(r, {\\theta}\\right)\\right)} {\\left(r e^{\\left(3 \\, \\nu\\left(r\\right)\\right)} \\frac{\\partial\\,\\lambda}{\\partial r} + {\\left(e^{\\lambda\\left(r\\right)} - 1\\right)} e^{\\left(3 \\, \\nu\\left(r\\right)\\right)}\\right)} e^{\\left(-2 \\, \\lambda\\left(r\\right) - 4 \\, \\nu\\left(r\\right)\\right)}}{r^{4}}\\]</html>"
      ],
      "text/latex": [
       "$$\\newcommand{\\Bold}[1]{\\mathbf{#1}}\\frac{{\\left(\\pi^{3} {\\left(2 \\, r^{3} e^{\\left(2 \\, \\nu\\left(r\\right)\\right)} \\omega\\left(r, {\\theta}\\right)^{2} \\frac{\\partial\\,\\lambda}{\\partial r} - 2 \\, r^{3} e^{\\left(2 \\, \\nu\\left(r\\right)\\right)} \\omega\\left(r, {\\theta}\\right)^{2} \\frac{\\partial\\,\\nu}{\\partial r} - r^{4} e^{\\left(2 \\, \\nu\\left(r\\right)\\right)} \\left(\\frac{\\partial\\,\\omega}{\\partial r}\\right)^{2} - 4 \\, r^{4} e^{\\left(2 \\, \\nu\\left(r\\right)\\right)} \\omega\\left(r, {\\theta}\\right) \\frac{\\partial^2\\,\\omega}{\\partial r ^ 2} - r^{2} e^{\\left(\\lambda\\left(r\\right) + 2 \\, \\nu\\left(r\\right)\\right)} \\left(\\frac{\\partial\\,\\omega}{\\partial {\\theta}}\\right)^{2} - 4 \\, r^{2} e^{\\left(\\lambda\\left(r\\right) + 2 \\, \\nu\\left(r\\right)\\right)} \\omega\\left(r, {\\theta}\\right) \\frac{\\partial^2\\,\\omega}{\\partial {\\theta} ^ 2} + 4 \\, {\\left(r^{2} e^{\\lambda\\left(r\\right)} - r^{2}\\right)} e^{\\left(2 \\, \\nu\\left(r\\right)\\right)} \\omega\\left(r, {\\theta}\\right)^{2} + 2 \\, {\\left(r^{4} e^{\\left(2 \\, \\nu\\left(r\\right)\\right)} \\omega\\left(r, {\\theta}\\right) \\frac{\\partial\\,\\lambda}{\\partial r} + r^{4} e^{\\left(2 \\, \\nu\\left(r\\right)\\right)} \\omega\\left(r, {\\theta}\\right) \\frac{\\partial\\,\\nu}{\\partial r} - 8 \\, r^{3} e^{\\left(2 \\, \\nu\\left(r\\right)\\right)} \\omega\\left(r, {\\theta}\\right)\\right)} \\frac{\\partial\\,\\omega}{\\partial r}\\right)} + 32 \\, \\pi {\\left(r^{2} e^{\\left(3 \\, \\nu\\left(r\\right)\\right)} h_0\\left(r, {\\theta}\\right) \\frac{\\partial\\,\\nu}{\\partial r}^{2} + 2 \\, r^{2} e^{\\left(3 \\, \\nu\\left(r\\right)\\right)} h_0\\left(r, {\\theta}\\right) \\frac{\\partial^2\\,\\nu}{\\partial r ^ 2} - 4 \\, r^{2} e^{\\left(3 \\, \\nu\\left(r\\right)\\right)} \\frac{\\partial^2\\,k_0}{\\partial r ^ 2} + 8 \\, {\\left(e^{\\lambda\\left(r\\right)} - 1\\right)} e^{\\left(3 \\, \\nu\\left(r\\right)\\right)} h_0\\left(r, {\\theta}\\right) + 4 \\, {\\left(3 \\, e^{\\lambda\\left(r\\right)} - 4\\right)} e^{\\left(3 \\, \\nu\\left(r\\right)\\right)} k_0\\left(r, {\\theta}\\right) + 4 \\, {\\left(2 \\, e^{\\lambda\\left(r\\right)} - 1\\right)} e^{\\left(3 \\, \\nu\\left(r\\right)\\right)} m_0\\left(r, {\\theta}\\right) + 4 \\, r e^{\\left(3 \\, \\nu\\left(r\\right)\\right)} \\frac{\\partial\\,m_0}{\\partial r} - 2 \\, {\\left(k_2\\left(r, {\\theta}\\right) \\frac{\\partial^2\\,\\mathit{LP}_{2}}{\\partial {\\theta} ^ 2} + 2 \\, \\frac{\\partial\\,\\mathit{LP}_{2}}{\\partial {\\theta}} \\frac{\\partial\\,k_2}{\\partial {\\theta}} + \\frac{\\partial^2\\,k_0}{\\partial {\\theta} ^ 2}\\right)} e^{\\left(\\lambda\\left(r\\right) + 3 \\, \\nu\\left(r\\right)\\right)} - 2 \\, {\\left(m_2\\left(r, {\\theta}\\right) \\frac{\\partial^2\\,\\mathit{LP}_{2}}{\\partial {\\theta} ^ 2} + 2 \\, \\frac{\\partial\\,\\mathit{LP}_{2}}{\\partial {\\theta}} \\frac{\\partial\\,m_2}{\\partial {\\theta}} + \\frac{\\partial^2\\,m_0}{\\partial {\\theta} ^ 2}\\right)} e^{\\left(\\lambda\\left(r\\right) + 3 \\, \\nu\\left(r\\right)\\right)} + 2 \\, {\\left(r^{2} e^{\\left(3 \\, \\nu\\left(r\\right)\\right)} \\frac{\\partial\\,\\lambda}{\\partial r} - 6 \\, r e^{\\left(3 \\, \\nu\\left(r\\right)\\right)}\\right)} \\frac{\\partial\\,k_0}{\\partial r} + 4 \\, {\\left(2 \\, r e^{\\left(3 \\, \\nu\\left(r\\right)\\right)} h_0\\left(r, {\\theta}\\right) + 4 \\, r e^{\\left(3 \\, \\nu\\left(r\\right)\\right)} k_0\\left(r, {\\theta}\\right) + r e^{\\left(3 \\, \\nu\\left(r\\right)\\right)} m_0\\left(r, {\\theta}\\right)\\right)} \\frac{\\partial\\,\\lambda}{\\partial r} - {\\left(r^{2} e^{\\left(3 \\, \\nu\\left(r\\right)\\right)} h_0\\left(r, {\\theta}\\right) \\frac{\\partial\\,\\lambda}{\\partial r} - 4 \\, r e^{\\left(3 \\, \\nu\\left(r\\right)\\right)} h_0\\left(r, {\\theta}\\right)\\right)} \\frac{\\partial\\,\\nu}{\\partial r}\\right)}\\right)} e^{\\left(-\\lambda\\left(r\\right) - 2 \\, \\nu\\left(r\\right)\\right)}}{32 \\, \\pi r^{2}} - \\frac{8 \\, {\\left(r^{2} e^{\\left(\\lambda\\left(r\\right) + 2 \\, \\nu\\left(r\\right)\\right)} h_0\\left(r, {\\theta}\\right) + 2 \\, r^{2} e^{\\left(\\lambda\\left(r\\right) + 2 \\, \\nu\\left(r\\right)\\right)} k_0\\left(r, {\\theta}\\right) + r^{2} e^{\\left(\\lambda\\left(r\\right) + 2 \\, \\nu\\left(r\\right)\\right)} m_0\\left(r, {\\theta}\\right)\\right)} {\\left(r e^{\\left(3 \\, \\nu\\left(r\\right)\\right)} \\frac{\\partial\\,\\lambda}{\\partial r} + {\\left(e^{\\lambda\\left(r\\right)} - 1\\right)} e^{\\left(3 \\, \\nu\\left(r\\right)\\right)}\\right)} e^{\\left(-2 \\, \\lambda\\left(r\\right) - 4 \\, \\nu\\left(r\\right)\\right)}}{r^{4}}$$"
      ],
      "text/plain": [
       "1/32*(pi^3*(2*r^3*e^(2*nu(r))*omega(r, th)^2*d(lamb)/dr - 2*r^3*e^(2*nu(r))*omega(r, th)^2*d(nu)/dr - r^4*e^(2*nu(r))*(d(omega)/dr)^2 - 4*r^4*e^(2*nu(r))*omega(r, th)*d^2(omega)/dr^2 - r^2*e^(lamb(r) + 2*nu(r))*(d(omega)/dth)^2 - 4*r^2*e^(lamb(r) + 2*nu(r))*omega(r, th)*d^2(omega)/dth^2 + 4*(r^2*e^lamb(r) - r^2)*e^(2*nu(r))*omega(r, th)^2 + 2*(r^4*e^(2*nu(r))*omega(r, th)*d(lamb)/dr + r^4*e^(2*nu(r))*omega(r, th)*d(nu)/dr - 8*r^3*e^(2*nu(r))*omega(r, th))*d(omega)/dr) + 32*pi*(r^2*e^(3*nu(r))*h0(r, th)*d(nu)/dr^2 + 2*r^2*e^(3*nu(r))*h0(r, th)*d^2(nu)/dr^2 - 4*r^2*e^(3*nu(r))*d^2(k0)/dr^2 + 8*(e^lamb(r) - 1)*e^(3*nu(r))*h0(r, th) + 4*(3*e^lamb(r) - 4)*e^(3*nu(r))*k0(r, th) + 4*(2*e^lamb(r) - 1)*e^(3*nu(r))*m0(r, th) + 4*r*e^(3*nu(r))*d(m0)/dr - 2*(k2(r, th)*d^2(LP2)/dth^2 + 2*d(LP2)/dth*d(k2)/dth + d^2(k0)/dth^2)*e^(lamb(r) + 3*nu(r)) - 2*(m2(r, th)*d^2(LP2)/dth^2 + 2*d(LP2)/dth*d(m2)/dth + d^2(m0)/dth^2)*e^(lamb(r) + 3*nu(r)) + 2*(r^2*e^(3*nu(r))*d(lamb)/dr - 6*r*e^(3*nu(r)))*d(k0)/dr + 4*(2*r*e^(3*nu(r))*h0(r, th) + 4*r*e^(3*nu(r))*k0(r, th) + r*e^(3*nu(r))*m0(r, th))*d(lamb)/dr - (r^2*e^(3*nu(r))*h0(r, th)*d(lamb)/dr - 4*r*e^(3*nu(r))*h0(r, th))*d(nu)/dr))*e^(-lamb(r) - 2*nu(r))/(pi*r^2) - 8*(r^2*e^(lamb(r) + 2*nu(r))*h0(r, th) + 2*r^2*e^(lamb(r) + 2*nu(r))*k0(r, th) + r^2*e^(lamb(r) + 2*nu(r))*m0(r, th))*(r*e^(3*nu(r))*d(lamb)/dr + (e^lamb(r) - 1)*e^(3*nu(r)))*e^(-2*lamb(r) - 4*nu(r))/r^4"
      ]
     },
     "execution_count": 52,
     "metadata": {},
     "output_type": "execute_result"
    }
   ],
   "source": [
    "prueba1[0,0]"
   ]
  },
  {
   "cell_type": "code",
   "execution_count": 107,
   "metadata": {},
   "outputs": [
    {
     "data": {
      "text/html": [
       "<html>\\[\\newcommand{\\Bold}[1]{\\mathbf{#1}}\\frac{3}{2} \\, \\cos\\left({\\theta}\\right)^{2} - \\frac{1}{2}\\]</html>"
      ],
      "text/latex": [
       "$$\\newcommand{\\Bold}[1]{\\mathbf{#1}}\\frac{3}{2} \\, \\cos\\left({\\theta}\\right)^{2} - \\frac{1}{2}$$"
      ],
      "text/plain": [
       "3/2*cos(th)^2 - 1/2"
      ]
     },
     "execution_count": 107,
     "metadata": {},
     "output_type": "execute_result"
    }
   ],
   "source": [
    "legendre_P(2,cos(th))"
   ]
  },
  {
   "cell_type": "code",
   "execution_count": 108,
   "metadata": {},
   "outputs": [
    {
     "data": {
      "text/html": [
       "<html>\\[\\newcommand{\\Bold}[1]{\\mathbf{#1}}\\frac{2}{3} \\, {\\rm LP}_{2}\\left({\\theta}\\right) + \\frac{1}{3}\\]</html>"
      ],
      "text/latex": [
       "$$\\newcommand{\\Bold}[1]{\\mathbf{#1}}\\frac{2}{3} \\, {\\rm LP}_{2}\\left({\\theta}\\right) + \\frac{1}{3}$$"
      ],
      "text/plain": [
       "2/3*LP2(th) + 1/3"
      ]
     },
     "execution_count": 108,
     "metadata": {},
     "output_type": "execute_result"
    }
   ],
   "source": [
    "eq1 = LP2==legendre_P(2,cos(th))\n",
    "solve(eq1,cos(th)^2)[0].rhs()"
   ]
  },
  {
   "cell_type": "code",
   "execution_count": 109,
   "metadata": {},
   "outputs": [
    {
     "ename": "IndexError",
     "evalue": "list index out of range",
     "output_type": "error",
     "traceback": [
      "\u001b[0;31m---------------------------------------------------------------------------\u001b[0m",
      "\u001b[0;31mIndexError\u001b[0m                                Traceback (most recent call last)",
      "\u001b[0;32m<ipython-input-109-d37f2d859fd9>\u001b[0m in \u001b[0;36m<module>\u001b[0;34m\u001b[0m\n\u001b[1;32m      1\u001b[0m \u001b[0meq1\u001b[0m \u001b[0;34m=\u001b[0m \u001b[0mLP2\u001b[0m\u001b[0;34m==\u001b[0m\u001b[0mlegendre_P\u001b[0m\u001b[0;34m(\u001b[0m\u001b[0mInteger\u001b[0m\u001b[0;34m(\u001b[0m\u001b[0;36m2\u001b[0m\u001b[0;34m)\u001b[0m\u001b[0;34m,\u001b[0m\u001b[0mcos\u001b[0m\u001b[0;34m(\u001b[0m\u001b[0mth\u001b[0m\u001b[0;34m)\u001b[0m\u001b[0;34m)\u001b[0m\u001b[0;34m\u001b[0m\u001b[0;34m\u001b[0m\u001b[0m\n\u001b[0;32m----> 2\u001b[0;31m \u001b[0msolve\u001b[0m\u001b[0;34m(\u001b[0m\u001b[0meq1\u001b[0m\u001b[0;34m,\u001b[0m\u001b[0msin\u001b[0m\u001b[0;34m(\u001b[0m\u001b[0mth\u001b[0m\u001b[0;34m)\u001b[0m\u001b[0;34m)\u001b[0m\u001b[0;34m[\u001b[0m\u001b[0mInteger\u001b[0m\u001b[0;34m(\u001b[0m\u001b[0;36m0\u001b[0m\u001b[0;34m)\u001b[0m\u001b[0;34m]\u001b[0m\u001b[0;34m.\u001b[0m\u001b[0mrhs\u001b[0m\u001b[0;34m(\u001b[0m\u001b[0;34m)\u001b[0m\u001b[0;34m\u001b[0m\u001b[0;34m\u001b[0m\u001b[0m\n\u001b[0m",
      "\u001b[0;32m/var/tmp/sage-9.4-current/local/lib/python3.9/site-packages/sage/structure/sequence.py\u001b[0m in \u001b[0;36m__getitem__\u001b[0;34m(self, n)\u001b[0m\n\u001b[1;32m    518\u001b[0m                             cr = self.__cr)\n\u001b[1;32m    519\u001b[0m         \u001b[0;32melse\u001b[0m\u001b[0;34m:\u001b[0m\u001b[0;34m\u001b[0m\u001b[0;34m\u001b[0m\u001b[0m\n\u001b[0;32m--> 520\u001b[0;31m             \u001b[0;32mreturn\u001b[0m \u001b[0mlist\u001b[0m\u001b[0;34m.\u001b[0m\u001b[0m__getitem__\u001b[0m\u001b[0;34m(\u001b[0m\u001b[0mself\u001b[0m\u001b[0;34m,\u001b[0m\u001b[0mn\u001b[0m\u001b[0;34m)\u001b[0m\u001b[0;34m\u001b[0m\u001b[0;34m\u001b[0m\u001b[0m\n\u001b[0m\u001b[1;32m    521\u001b[0m \u001b[0;34m\u001b[0m\u001b[0m\n\u001b[1;32m    522\u001b[0m     \u001b[0;31m# We have to define the *slice functions as long as Sage uses Python 2.*\u001b[0m\u001b[0;34m\u001b[0m\u001b[0;34m\u001b[0m\u001b[0;34m\u001b[0m\u001b[0m\n",
      "\u001b[0;31mIndexError\u001b[0m: list index out of range"
     ]
    }
   ],
   "source": [
    "eq1 = LP2==legendre_P(2,cos(th))\n",
    "solve(eq1,sin(th))[0].rhs()"
   ]
  },
  {
   "cell_type": "code",
   "execution_count": null,
   "metadata": {},
   "outputs": [],
   "source": []
  },
  {
   "cell_type": "code",
   "execution_count": null,
   "metadata": {},
   "outputs": [],
   "source": []
  },
  {
   "cell_type": "code",
   "execution_count": null,
   "metadata": {},
   "outputs": [],
   "source": []
  },
  {
   "cell_type": "code",
   "execution_count": null,
   "metadata": {},
   "outputs": [],
   "source": []
  },
  {
   "cell_type": "code",
   "execution_count": null,
   "metadata": {},
   "outputs": [],
   "source": [
    "fm(r) = m0 + m2*(3*cos(th)^2-1)/2\n",
    "fk(r) = k0 + k2*(3*cos(th)^2-1)/2\n",
    "fh(r) = h0 + h2*(3*cos(th)^2-1)/2\n",
    "\n",
    "ddeins.apply_map(lambda cmp: cmp.substitute_function(function('h'), fh))\n",
    "ddeins.apply_map(lambda cmp: cmp.substitute_function(function('m'), fm))\n",
    "ddeins.apply_map(lambda cmp: cmp.substitute_function(function('k'), fk))"
   ]
  },
  {
   "cell_type": "code",
   "execution_count": null,
   "metadata": {},
   "outputs": [],
   "source": []
  }
 ],
 "metadata": {
  "kernelspec": {
   "display_name": "SageMath 9.4",
   "language": "sage",
   "name": "sagemath-9.4"
  },
  "language_info": {
   "codemirror_mode": {
    "name": "ipython",
    "version": 3
   },
   "file_extension": ".py",
   "mimetype": "text/x-python",
   "name": "python",
   "nbconvert_exporter": "python",
   "pygments_lexer": "ipython3",
   "version": "3.9.5"
  }
 },
 "nbformat": 4,
 "nbformat_minor": 4
}
