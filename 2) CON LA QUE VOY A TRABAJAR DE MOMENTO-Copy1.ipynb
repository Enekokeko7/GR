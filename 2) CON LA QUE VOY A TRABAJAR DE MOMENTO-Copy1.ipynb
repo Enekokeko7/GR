{
 "cells": [
  {
   "cell_type": "code",
   "execution_count": 1,
   "metadata": {},
   "outputs": [],
   "source": [
    "import numpy as np\n",
    "import matplotlib.pyplot as plt\n",
    "import time\n",
    "import os"
   ]
  },
  {
   "cell_type": "code",
   "execution_count": 2,
   "metadata": {},
   "outputs": [],
   "source": [
    "#Define spache-time manifold and coordinates\n",
    "\n",
    "n = 3\n",
    "M = Manifold(1+n, 'M', structure='Lorentzian')\n",
    "X.<t,r,th,ph> = M.chart(r\"t r:(0,+oo) th:(0,pi):\\theta ph:(0,2*pi):\\phi\")\n",
    "coords = (t, r, th, ph)"
   ]
  },
  {
   "cell_type": "code",
   "execution_count": 3,
   "metadata": {},
   "outputs": [],
   "source": [
    "eps = var('eps')\n",
    "\n",
    "h = function('h')(r,th)\n",
    "k = function('k')(r,th)\n",
    "m = function('m')(r,th)\n",
    "omega = function('omega')(r,th)\n",
    "\n",
    "nu = function('nu')(r)\n",
    "lamb = function('lamb')(r)\n",
    "\n",
    "Omegae = function('Omegaevalue')(eps)\n",
    "Ne = function('Ne')(r,eps)"
   ]
  },
  {
   "cell_type": "code",
   "execution_count": 4,
   "metadata": {},
   "outputs": [],
   "source": [
    "def cosmotensors(gedd):\n",
    "    \n",
    "    geuu = gedd.inverse()\n",
    "\n",
    "    chris =  M.tensor_field(1,2,'chris')\n",
    "    for i in range(0,4):\n",
    "        for j in range(0,4):\n",
    "            for k in range(0,4):\n",
    "                chris[i,j,k] = 0.5*sum(geuu[i,dd]*(diff(gdd[dd,j],coords[k])\n",
    "                                                  + diff(gdd[dd,k],coords[j])\n",
    "                                                  - diff(gdd[j,k],coords[dd])) for dd in range(0,4))\n",
    "\n",
    "    riem =  M.tensor_field(1,3,'riem')\n",
    "    for i in range(0,4):\n",
    "        for j in range(0,4):\n",
    "            for k in range(0,4):\n",
    "                for l in range(0,4):\n",
    "                    riem[i,j,k,l] = (diff(chris[i,j,l],coords[k])\n",
    "                                      - diff(chris[i,j,k],coords[l])\n",
    "                                      + sum(chris[i,k,dd]*chris[dd,l,j]\n",
    "                                          - chris[i,l,dd]*chris[dd,k,j] for dd in range(0,4)))\n",
    "\n",
    "    ricci = M.tensor_field(0,2,'ricci')\n",
    "    for i in range(0,4):\n",
    "        for k in range(0,4):\n",
    "            ricci[i,k] = sum(riem[dd,i,dd,k] for dd in range(0,4))\n",
    "\n",
    "    s_curv = geuu['^{ab}']*ricci['_ab']\n",
    "    \n",
    "    eins = M.tensor_field(0,2,'eins')\n",
    "    eins = ricci - gdd*s_curv/2   \n",
    "    \n",
    "    return {'inverse_metric': geuu,\n",
    "            'christoffel': chris,\n",
    "            'riemann': riem,\n",
    "            'ricci': ricci,\n",
    "            'curvature': s_curv,\n",
    "            'einstein': eins}"
   ]
  },
  {
   "cell_type": "code",
   "execution_count": 5,
   "metadata": {},
   "outputs": [
    {
     "name": "stdout",
     "output_type": "stream",
     "text": [
      "Tengo métrica\n",
      "Tengo chris\n",
      "Tengo riemann\n",
      "Tengo ricci\n",
      "Tengo eins\n",
      "Tengo tó\n"
     ]
    }
   ],
   "source": [
    "gdd = M.tensor_field(0,2,'gdd')\n",
    "gdd[0,0] = -exp(nu)\n",
    "gdd[1,1] = exp(lamb)\n",
    "gdd[2,2] = r^2\n",
    "gdd[3,3] = r^2*sin(th)^2\n",
    "\n",
    "K1 = M.tensor_field(0,2,'K1')\n",
    "K1[0,3] = omega*r^2*sin(th)^2\n",
    "K1[3,0] = omega*r^2*sin(th)^2\n",
    "\n",
    "K2 = M.tensor_field(0,2,'K2')\n",
    "K2[0,0] = -4*exp(nu)*h + 2*r^2*sin(th)^2*omega^2\n",
    "K2[1,1] = 4*exp(lamb)*m\n",
    "K2[2,2] = 4*k*r^2\n",
    "K2[3,3] = 4*k*r^2*sin(th)^2\n",
    "\n",
    "gedd = M.metric()\n",
    "for i in range(0,n+1):\n",
    "    for j in range(0,n+1):\n",
    "        gedd[i,j] = gdd[i,j] + eps*K1[i,j] + 1/2*eps^2*K2[i,j]\n",
    "\n",
    "tensors = cosmotensors(gedd)\n",
    "geuu = tensors['inverse_metric']\n",
    "ricci = tensors['ricci']\n",
    "s_curv = tensors['curvature']\n",
    "eins = tensors['einstein']                                                                             #G_\\mu\\nu e\n",
    "\n",
    "deins = M.tensor_field(0,2,'deins')\n",
    "ddeins = M.tensor_field(0,2,'ddeins')\n",
    "for i in range(0,n+1):\n",
    "    for j in range(0,n+1):\n",
    "        deins[i,j] = diff(eins[i,j].expr(),eps)\n",
    "        ddeins[i,j] = diff(eins[i,j].expr(),eps,eps)"
   ]
  },
  {
   "cell_type": "code",
   "execution_count": 6,
   "metadata": {},
   "outputs": [
    {
     "data": {
      "text/html": [
       "<html>\\[\\newcommand{\\Bold}[1]{\\mathbf{#1}}\\verb|ge0|\\phantom{\\verb!x!}\\verb|=| \\left(\\begin{array}{rrrr}\n",
       "-e^{\\nu\\left(r\\right)} & 0 & 0 & 0 \\\\\n",
       "0 & e^{\\left({\\rm lamb}\\left(r\\right)\\right)} & 0 & 0 \\\\\n",
       "0 & 0 & r^{2} & 0 \\\\\n",
       "0 & 0 & 0 & r^{2} \\sin\\left({\\theta}\\right)^{2}\n",
       "\\end{array}\\right)\\]</html>"
      ],
      "text/latex": [
       "$$\\newcommand{\\Bold}[1]{\\mathbf{#1}}\\verb|ge0|\\phantom{\\verb!x!}\\verb|=| \\left(\\begin{array}{rrrr}\n",
       "-e^{\\nu\\left(r\\right)} & 0 & 0 & 0 \\\\\n",
       "0 & e^{\\left({\\rm lamb}\\left(r\\right)\\right)} & 0 & 0 \\\\\n",
       "0 & 0 & r^{2} & 0 \\\\\n",
       "0 & 0 & 0 & r^{2} \\sin\\left({\\theta}\\right)^{2}\n",
       "\\end{array}\\right)$$"
      ],
      "text/plain": [
       "'ge0 = ' [     -e^nu(r)             0             0             0]\n",
       "[            0     e^lamb(r)             0             0]\n",
       "[            0             0           r^2             0]\n",
       "[            0             0             0 r^2*sin(th)^2]"
      ]
     },
     "metadata": {},
     "output_type": "display_data"
    },
    {
     "data": {
      "text/html": [
       "<html>\\[\\newcommand{\\Bold}[1]{\\mathbf{#1}}\\verb|K1|\\phantom{\\verb!x!}\\verb|=| \\left(\\begin{array}{rrrr}\n",
       "0 & 0 & 0 & r^{2} \\omega\\left(r, {\\theta}\\right) \\sin\\left({\\theta}\\right)^{2} \\\\\n",
       "0 & 0 & 0 & 0 \\\\\n",
       "0 & 0 & 0 & 0 \\\\\n",
       "r^{2} \\omega\\left(r, {\\theta}\\right) \\sin\\left({\\theta}\\right)^{2} & 0 & 0 & 0\n",
       "\\end{array}\\right)\\]</html>"
      ],
      "text/latex": [
       "$$\\newcommand{\\Bold}[1]{\\mathbf{#1}}\\verb|K1|\\phantom{\\verb!x!}\\verb|=| \\left(\\begin{array}{rrrr}\n",
       "0 & 0 & 0 & r^{2} \\omega\\left(r, {\\theta}\\right) \\sin\\left({\\theta}\\right)^{2} \\\\\n",
       "0 & 0 & 0 & 0 \\\\\n",
       "0 & 0 & 0 & 0 \\\\\n",
       "r^{2} \\omega\\left(r, {\\theta}\\right) \\sin\\left({\\theta}\\right)^{2} & 0 & 0 & 0\n",
       "\\end{array}\\right)$$"
      ],
      "text/plain": [
       "'K1 = ' [                         0                          0                          0 r^2*omega(r, th)*sin(th)^2]\n",
       "[                         0                          0                          0                          0]\n",
       "[                         0                          0                          0                          0]\n",
       "[r^2*omega(r, th)*sin(th)^2                          0                          0                          0]"
      ]
     },
     "metadata": {},
     "output_type": "display_data"
    },
    {
     "data": {
      "text/html": [
       "<html>\\[\\newcommand{\\Bold}[1]{\\mathbf{#1}}\\verb|K2|\\phantom{\\verb!x!}\\verb|=| \\left(\\begin{array}{rrrr}\n",
       "2 \\, r^{2} \\omega\\left(r, {\\theta}\\right)^{2} \\sin\\left({\\theta}\\right)^{2} - 4 \\, e^{\\nu\\left(r\\right)} h\\left(r, {\\theta}\\right) & 0 & 0 & 0 \\\\\n",
       "0 & 4 \\, e^{\\left({\\rm lamb}\\left(r\\right)\\right)} m\\left(r, {\\theta}\\right) & 0 & 0 \\\\\n",
       "0 & 0 & 4 \\, r^{2} k\\left(r, {\\theta}\\right) & 0 \\\\\n",
       "0 & 0 & 0 & 4 \\, r^{2} k\\left(r, {\\theta}\\right) \\sin\\left({\\theta}\\right)^{2}\n",
       "\\end{array}\\right)\\]</html>"
      ],
      "text/latex": [
       "$$\\newcommand{\\Bold}[1]{\\mathbf{#1}}\\verb|K2|\\phantom{\\verb!x!}\\verb|=| \\left(\\begin{array}{rrrr}\n",
       "2 \\, r^{2} \\omega\\left(r, {\\theta}\\right)^{2} \\sin\\left({\\theta}\\right)^{2} - 4 \\, e^{\\nu\\left(r\\right)} h\\left(r, {\\theta}\\right) & 0 & 0 & 0 \\\\\n",
       "0 & 4 \\, e^{\\left({\\rm lamb}\\left(r\\right)\\right)} m\\left(r, {\\theta}\\right) & 0 & 0 \\\\\n",
       "0 & 0 & 4 \\, r^{2} k\\left(r, {\\theta}\\right) & 0 \\\\\n",
       "0 & 0 & 0 & 4 \\, r^{2} k\\left(r, {\\theta}\\right) \\sin\\left({\\theta}\\right)^{2}\n",
       "\\end{array}\\right)$$"
      ],
      "text/plain": [
       "'K2 = ' [2*r^2*omega(r, th)^2*sin(th)^2 - 4*e^nu(r)*h(r, th)                                                   0                                                   0                                                   0]\n",
       "[                                                  0                                4*e^lamb(r)*m(r, th)                                                   0                                                   0]\n",
       "[                                                  0                                                   0                                      4*r^2*k(r, th)                                                   0]\n",
       "[                                                  0                                                   0                                                   0                            4*r^2*k(r, th)*sin(th)^2]"
      ]
     },
     "metadata": {},
     "output_type": "display_data"
    },
    {
     "data": {
      "text/html": [
       "<html>\\[\\newcommand{\\Bold}[1]{\\mathbf{#1}}\\verb|ge|\\phantom{\\verb!x!}\\verb|=| \\left(\\begin{array}{rrrr}\n",
       "\\mathit{eps}^{2} r^{2} \\omega\\left(r, {\\theta}\\right)^{2} \\sin\\left({\\theta}\\right)^{2} - 2 \\, \\mathit{eps}^{2} e^{\\nu\\left(r\\right)} h\\left(r, {\\theta}\\right) - e^{\\nu\\left(r\\right)} & 0 & 0 & \\mathit{eps} r^{2} \\omega\\left(r, {\\theta}\\right) \\sin\\left({\\theta}\\right)^{2} \\\\\n",
       "0 & 2 \\, \\mathit{eps}^{2} e^{\\left({\\rm lamb}\\left(r\\right)\\right)} m\\left(r, {\\theta}\\right) + e^{\\left({\\rm lamb}\\left(r\\right)\\right)} & 0 & 0 \\\\\n",
       "0 & 0 & 2 \\, \\mathit{eps}^{2} r^{2} k\\left(r, {\\theta}\\right) + r^{2} & 0 \\\\\n",
       "\\mathit{eps} r^{2} \\omega\\left(r, {\\theta}\\right) \\sin\\left({\\theta}\\right)^{2} & 0 & 0 & {\\left(2 \\, \\mathit{eps}^{2} r^{2} k\\left(r, {\\theta}\\right) + r^{2}\\right)} \\sin\\left({\\theta}\\right)^{2}\n",
       "\\end{array}\\right)\\]</html>"
      ],
      "text/latex": [
       "$$\\newcommand{\\Bold}[1]{\\mathbf{#1}}\\verb|ge|\\phantom{\\verb!x!}\\verb|=| \\left(\\begin{array}{rrrr}\n",
       "\\mathit{eps}^{2} r^{2} \\omega\\left(r, {\\theta}\\right)^{2} \\sin\\left({\\theta}\\right)^{2} - 2 \\, \\mathit{eps}^{2} e^{\\nu\\left(r\\right)} h\\left(r, {\\theta}\\right) - e^{\\nu\\left(r\\right)} & 0 & 0 & \\mathit{eps} r^{2} \\omega\\left(r, {\\theta}\\right) \\sin\\left({\\theta}\\right)^{2} \\\\\n",
       "0 & 2 \\, \\mathit{eps}^{2} e^{\\left({\\rm lamb}\\left(r\\right)\\right)} m\\left(r, {\\theta}\\right) + e^{\\left({\\rm lamb}\\left(r\\right)\\right)} & 0 & 0 \\\\\n",
       "0 & 0 & 2 \\, \\mathit{eps}^{2} r^{2} k\\left(r, {\\theta}\\right) + r^{2} & 0 \\\\\n",
       "\\mathit{eps} r^{2} \\omega\\left(r, {\\theta}\\right) \\sin\\left({\\theta}\\right)^{2} & 0 & 0 & {\\left(2 \\, \\mathit{eps}^{2} r^{2} k\\left(r, {\\theta}\\right) + r^{2}\\right)} \\sin\\left({\\theta}\\right)^{2}\n",
       "\\end{array}\\right)$$"
      ],
      "text/plain": [
       "'ge = ' [eps^2*r^2*omega(r, th)^2*sin(th)^2 - 2*eps^2*e^nu(r)*h(r, th) - e^nu(r)                                                                       0                                                                       0                                          eps*r^2*omega(r, th)*sin(th)^2]\n",
       "[                                                                      0                                  2*eps^2*e^lamb(r)*m(r, th) + e^lamb(r)                                                                       0                                                                       0]\n",
       "[                                                                      0                                                                       0                                              2*eps^2*r^2*k(r, th) + r^2                                                                       0]\n",
       "[                                         eps*r^2*omega(r, th)*sin(th)^2                                                                       0                                                                       0                                  (2*eps^2*r^2*k(r, th) + r^2)*sin(th)^2]"
      ]
     },
     "metadata": {},
     "output_type": "display_data"
    }
   ],
   "source": [
    "show(\"ge0 = \", gdd[:])\n",
    "show(\"K1 = \", K1[:])\n",
    "show(\"K2 = \", K2[:])\n",
    "show(\"ge = \", gedd[:])"
   ]
  },
  {
   "cell_type": "code",
   "execution_count": 7,
   "metadata": {},
   "outputs": [],
   "source": [
    "#4-velocities of the fluid for any epsilon\n",
    "\n",
    "ue = M.vector_field(\"ue\")\n",
    "ue[0] = Ne; ue[1] = 0; ue[2] = 0; ue[3] = Ne*Omegae\n",
    "\n",
    "u = M.vector_field(\"u\")\n",
    "u[0] = exp(-nu/2); u[1] =  0; u[2] =  0; u[3] =  0\n",
    "\n",
    "Nevalue = solve(u[0].expr()==ue[0].expr(), Ne)[0].rhs()                                                    #Eq 4.20\n",
    "Omegaevalue = solve(u[3].expr()==ue[3].expr(), Omegae)[0].rhs()                                            #Eq 4.20"
   ]
  },
  {
   "cell_type": "code",
   "execution_count": 10,
   "metadata": {},
   "outputs": [
    {
     "data": {
      "text/html": [
       "<html>\\[\\newcommand{\\Bold}[1]{\\mathbf{#1}}\\verb|Ne0|\\phantom{\\verb!x!}\\verb|=| e^{\\left(-\\frac{1}{2} \\, \\nu\\left(r\\right)\\right)}\\]</html>"
      ],
      "text/latex": [
       "$$\\newcommand{\\Bold}[1]{\\mathbf{#1}}\\verb|Ne0|\\phantom{\\verb!x!}\\verb|=| e^{\\left(-\\frac{1}{2} \\, \\nu\\left(r\\right)\\right)}$$"
      ],
      "text/plain": [
       "'Ne0 = ' e^(-1/2*nu(r))"
      ]
     },
     "metadata": {},
     "output_type": "display_data"
    },
    {
     "data": {
      "text/html": [
       "<html>\\[\\newcommand{\\Bold}[1]{\\mathbf{#1}}\\verb|Omegae0|\\phantom{\\verb!x!}\\verb|=| 0\\]</html>"
      ],
      "text/latex": [
       "$$\\newcommand{\\Bold}[1]{\\mathbf{#1}}\\verb|Omegae0|\\phantom{\\verb!x!}\\verb|=| 0$$"
      ],
      "text/plain": [
       "'Omegae0 = ' 0"
      ]
     },
     "metadata": {},
     "output_type": "display_data"
    }
   ],
   "source": [
    "show(\"Ne0 = \", Nevalue)\n",
    "show(\"Omegae0 = \", Omegaevalue)"
   ]
  },
  {
   "cell_type": "code",
   "execution_count": 9,
   "metadata": {},
   "outputs": [],
   "source": [
    "u1 = M.vector_field(\"u1\")\n",
    "u2 = M.vector_field(\"u2\")\n",
    "\n",
    "u10 = function('u10')(r)\n",
    "u20 = function('u20')(r)\n",
    "\n",
    "Omega1 = function('Omega1')(eps)\n",
    "Omega2 = function('Omega2')(eps)\n",
    "\n",
    "s0 = eps == 0\n",
    "s1 = Ne.subs(eps==0) == Nevalue\n",
    "s2 = Omegae.subs(eps==0) == Omegaevalue\n",
    "s3 = diff(Ne,eps).subs(eps==0) == u10\n",
    "s4 = diff(Omegae,eps).subs(eps==0) == Omega1\n",
    "s5 = diff(Ne,eps,eps).subs(eps==0) == u20\n",
    "s6 = diff(Omegae,eps,eps).subs(eps==0) == Omega2\n",
    "\n",
    "sustituciones = (s0,s1,s2,s3,s4,s5,s6)\n",
    "\n",
    "for i in range(0,n+1):\n",
    "    u1[i] = diff(ue[i].expr(),eps).subs(sustituciones)\n",
    "    u2[i] = diff(ue[i].expr(),eps,eps).subs(sustituciones)\n",
    "\n",
    "Ue = ue.down(gedd)\n",
    "geUeue = Ue['_a']*ue['^a']\n",
    "dgeUeue = diff(geUeue.expr(), eps).subs(sustituciones) == 0\n",
    "u10value = solve(dgeUeue, u10)[0].rhs()\n",
    "s7 = u10 == u10value\n",
    "u1.apply_map(lambda cmp: cmp.subs(u10==u10value))                                                          #Eq 4.21\n",
    "\n",
    "ddgeUeue = diff(geUeue.expr(), eps, eps).subs(sustituciones) == 0\n",
    "u20value = solve(ddgeUeue, u20)[0].rhs()\n",
    "s8 = u20 == u20value\n",
    "u2.apply_map(lambda cmp: cmp.subs(u20==u20value).subs(u10==u10value))                                      #Eq 4.22"
   ]
  },
  {
   "cell_type": "code",
   "execution_count": 11,
   "metadata": {},
   "outputs": [
    {
     "data": {
      "text/html": [
       "<html>\\[\\newcommand{\\Bold}[1]{\\mathbf{#1}}u1 = \\Omega_{1}\\left(\\mathit{eps}\\right) e^{\\left(-\\frac{1}{2} \\, \\nu\\left(r\\right)\\right)} \\frac{\\partial}{\\partial {\\phi} }\\]</html>"
      ],
      "text/latex": [
       "$$\\newcommand{\\Bold}[1]{\\mathbf{#1}}u1 = \\Omega_{1}\\left(\\mathit{eps}\\right) e^{\\left(-\\frac{1}{2} \\, \\nu\\left(r\\right)\\right)} \\frac{\\partial}{\\partial {\\phi} }$$"
      ],
      "text/plain": [
       "u1 = Omega1(eps)*e^(-1/2*nu(r)) ∂/∂ph"
      ]
     },
     "metadata": {},
     "output_type": "display_data"
    },
    {
     "data": {
      "text/html": [
       "<html>\\[\\newcommand{\\Bold}[1]{\\mathbf{#1}}u2 = {\\left({\\left(r^{2} \\Omega_{1}\\left(\\mathit{eps}\\right)^{2} + 2 \\, r^{2} \\Omega_{1}\\left(\\mathit{eps}\\right) \\omega\\left(r, {\\theta}\\right) + r^{2} \\omega\\left(r, {\\theta}\\right)^{2}\\right)} \\sin\\left({\\theta}\\right)^{2} - 2 \\, e^{\\nu\\left(r\\right)} h\\left(r, {\\theta}\\right)\\right)} e^{\\left(-\\frac{3}{2} \\, \\nu\\left(r\\right)\\right)} \\frac{\\partial}{\\partial t } + \\Omega_{2}\\left(\\mathit{eps}\\right) e^{\\left(-\\frac{1}{2} \\, \\nu\\left(r\\right)\\right)} \\frac{\\partial}{\\partial {\\phi} }\\]</html>"
      ],
      "text/latex": [
       "$$\\newcommand{\\Bold}[1]{\\mathbf{#1}}u2 = {\\left({\\left(r^{2} \\Omega_{1}\\left(\\mathit{eps}\\right)^{2} + 2 \\, r^{2} \\Omega_{1}\\left(\\mathit{eps}\\right) \\omega\\left(r, {\\theta}\\right) + r^{2} \\omega\\left(r, {\\theta}\\right)^{2}\\right)} \\sin\\left({\\theta}\\right)^{2} - 2 \\, e^{\\nu\\left(r\\right)} h\\left(r, {\\theta}\\right)\\right)} e^{\\left(-\\frac{3}{2} \\, \\nu\\left(r\\right)\\right)} \\frac{\\partial}{\\partial t } + \\Omega_{2}\\left(\\mathit{eps}\\right) e^{\\left(-\\frac{1}{2} \\, \\nu\\left(r\\right)\\right)} \\frac{\\partial}{\\partial {\\phi} }$$"
      ],
      "text/plain": [
       "u2 = ((r^2*Omega1(eps)^2 + 2*r^2*Omega1(eps)*omega(r, th) + r^2*omega(r, th)^2)*sin(th)^2 - 2*e^nu(r)*h(r, th))*e^(-3/2*nu(r)) ∂/∂t + Omega2(eps)*e^(-1/2*nu(r)) ∂/∂ph"
      ]
     },
     "metadata": {},
     "output_type": "display_data"
    }
   ],
   "source": [
    "show(u1.display())\n",
    "show(u2.display())"
   ]
  },
  {
   "cell_type": "code",
   "execution_count": 12,
   "metadata": {},
   "outputs": [],
   "source": [
    "deins.apply_map(lambda cmp: cmp.subs(sustituciones))                                             #d/de(G_\\mu\\nu)|e=0\n",
    "ddeins.apply_map(lambda cmp: cmp.subs(sustituciones))                                        #d^2/de^2(G_\\mu\\nu)|e=0"
   ]
  },
  {
   "cell_type": "code",
   "execution_count": 13,
   "metadata": {},
   "outputs": [],
   "source": [
    "Ee = function('Ee')(r,eps)\n",
    "Pe = function('Pe')(r,eps)\n",
    "\n",
    "eins0 = M.tensor_field(0,2, 'eins0')\n",
    "Tedd = M.tensor_field(0,2, 'Tedd')\n",
    "Tdd = M.tensor_field(0,2, 'Tdd')\n",
    "for i in range(0,n+1):\n",
    "    for j in range(0,n+1):\n",
    "        eins0[i,j] = eins[i,j]\n",
    "        Tedd[i,j] = (Ee + Pe)*Ue[i]*Ue[j] + Pe*gedd[i,j]                                                 #T_\\mu\\nu e\n",
    "        Tdd[i,j] = Tedd[i,j]\n",
    "\n",
    "eins0.apply_map(lambda cmp: cmp.subs(sustituciones))                                                       #G_\\mu\\nu\n",
    "Tdd.apply_map(lambda cmp: cmp.subs(sustituciones))                                                         #T_\\mu\\nu"
   ]
  },
  {
   "cell_type": "code",
   "execution_count": 25,
   "metadata": {},
   "outputs": [
    {
     "data": {
      "text/html": [
       "<html>\\[\\newcommand{\\Bold}[1]{\\mathbf{#1}}\\verb|Te0|\\phantom{\\verb!x!}\\verb|=| \\left(\\begin{array}{rrrr}\n",
       "E\\left(r\\right) e^{\\nu\\left(r\\right)} & 0 & 0 & 0 \\\\\n",
       "0 & P\\left(r\\right) e^{\\left({\\rm lamb}\\left(r\\right)\\right)} & 0 & 0 \\\\\n",
       "0 & 0 & r^{2} P\\left(r\\right) & 0 \\\\\n",
       "0 & 0 & 0 & r^{2} P\\left(r\\right) \\sin\\left({\\theta}\\right)^{2}\n",
       "\\end{array}\\right)\\]</html>"
      ],
      "text/latex": [
       "$$\\newcommand{\\Bold}[1]{\\mathbf{#1}}\\verb|Te0|\\phantom{\\verb!x!}\\verb|=| \\left(\\begin{array}{rrrr}\n",
       "E\\left(r\\right) e^{\\nu\\left(r\\right)} & 0 & 0 & 0 \\\\\n",
       "0 & P\\left(r\\right) e^{\\left({\\rm lamb}\\left(r\\right)\\right)} & 0 & 0 \\\\\n",
       "0 & 0 & r^{2} P\\left(r\\right) & 0 \\\\\n",
       "0 & 0 & 0 & r^{2} P\\left(r\\right) \\sin\\left({\\theta}\\right)^{2}\n",
       "\\end{array}\\right)$$"
      ],
      "text/plain": [
       "'Te0 =' [      E(r)*e^nu(r)                  0                  0                  0]\n",
       "[                 0     P(r)*e^lamb(r)                  0                  0]\n",
       "[                 0                  0           r^2*P(r)                  0]\n",
       "[                 0                  0                  0 r^2*P(r)*sin(th)^2]"
      ]
     },
     "metadata": {},
     "output_type": "display_data"
    }
   ],
   "source": [
    "show(\"Te0 =\", Tdd[:])"
   ]
  },
  {
   "cell_type": "code",
   "execution_count": 15,
   "metadata": {},
   "outputs": [],
   "source": [
    "kappa = 8*pi\n",
    "E = function('E')(r)\n",
    "P = function('P')(r)\n",
    "\n",
    "s9 = Ee.subs(eps==0) == E\n",
    "s10 = Pe.subs(eps==0) == P\n",
    "sustituciones = (s1,s2,s3,s4,s5,s6,s7,s8,s9,s10)\n",
    "Tdd.apply_map(lambda cmp: cmp.subs(sustituciones))\n",
    "E_tt = solve(eins0[0,0].expr()==kappa*Tdd[0,0].expr(),E)[0].rhs()                                            #Eq 3.7\n",
    "P_rr = solve(eins0[1,1].expr()==kappa*Tdd[1,1].expr(),P)[0].rhs()                                            #Eq 3.8\n",
    "P_thth = solve(eins0[2,2].expr()==kappa*Tdd[2,2].expr(),P)[0].rhs()\n",
    "P_phph = solve(eins0[3,3].expr()==kappa*Tdd[3,3].expr(),P)[0].rhs()\n",
    "ddnu = solve(P_rr == P_thth, diff(nu,r,r))[0].rhs()                                                          #Eq 3.9"
   ]
  },
  {
   "cell_type": "code",
   "execution_count": 19,
   "metadata": {},
   "outputs": [
    {
     "data": {
      "text/html": [
       "<html>\\[\\newcommand{\\Bold}[1]{\\mathbf{#1}}\\verb|E|\\phantom{\\verb!x!}\\verb|=| \\frac{{\\left(r \\frac{\\partial}{\\partial r}{\\rm lamb}\\left(r\\right) + e^{\\left({\\rm lamb}\\left(r\\right)\\right)} - 1\\right)} e^{\\left(-{\\rm lamb}\\left(r\\right)\\right)}}{8 \\, \\pi r^{2}}\\]</html>"
      ],
      "text/latex": [
       "$$\\newcommand{\\Bold}[1]{\\mathbf{#1}}\\verb|E|\\phantom{\\verb!x!}\\verb|=| \\frac{{\\left(r \\frac{\\partial}{\\partial r}{\\rm lamb}\\left(r\\right) + e^{\\left({\\rm lamb}\\left(r\\right)\\right)} - 1\\right)} e^{\\left(-{\\rm lamb}\\left(r\\right)\\right)}}{8 \\, \\pi r^{2}}$$"
      ],
      "text/plain": [
       "'E = ' 1/8*(r*diff(lamb(r), r) + e^lamb(r) - 1)*e^(-lamb(r))/(pi*r^2)"
      ]
     },
     "metadata": {},
     "output_type": "display_data"
    },
    {
     "data": {
      "text/html": [
       "<html>\\[\\newcommand{\\Bold}[1]{\\mathbf{#1}}\\verb|Prr|\\phantom{\\verb!x!}\\verb|=| \\frac{{\\left(r \\frac{\\partial}{\\partial r}\\nu\\left(r\\right) - e^{\\left({\\rm lamb}\\left(r\\right)\\right)} + 1\\right)} e^{\\left(-{\\rm lamb}\\left(r\\right)\\right)}}{8 \\, \\pi r^{2}}\\]</html>"
      ],
      "text/latex": [
       "$$\\newcommand{\\Bold}[1]{\\mathbf{#1}}\\verb|Prr|\\phantom{\\verb!x!}\\verb|=| \\frac{{\\left(r \\frac{\\partial}{\\partial r}\\nu\\left(r\\right) - e^{\\left({\\rm lamb}\\left(r\\right)\\right)} + 1\\right)} e^{\\left(-{\\rm lamb}\\left(r\\right)\\right)}}{8 \\, \\pi r^{2}}$$"
      ],
      "text/plain": [
       "'Prr = ' 1/8*(r*diff(nu(r), r) - e^lamb(r) + 1)*e^(-lamb(r))/(pi*r^2)"
      ]
     },
     "metadata": {},
     "output_type": "display_data"
    },
    {
     "data": {
      "text/html": [
       "<html>\\[\\newcommand{\\Bold}[1]{\\mathbf{#1}}\\verb|ddnu|\\phantom{\\verb!x!}\\verb|=| -\\frac{r^{2} \\frac{\\partial}{\\partial r}\\nu\\left(r\\right)^{2} - 2 \\, r \\frac{\\partial}{\\partial r}{\\rm lamb}\\left(r\\right) - {\\left(r^{2} \\frac{\\partial}{\\partial r}{\\rm lamb}\\left(r\\right) + 2 \\, r\\right)} \\frac{\\partial}{\\partial r}\\nu\\left(r\\right) + 4 \\, e^{\\left({\\rm lamb}\\left(r\\right)\\right)} - 4}{2 \\, r^{2}}\\]</html>"
      ],
      "text/latex": [
       "$$\\newcommand{\\Bold}[1]{\\mathbf{#1}}\\verb|ddnu|\\phantom{\\verb!x!}\\verb|=| -\\frac{r^{2} \\frac{\\partial}{\\partial r}\\nu\\left(r\\right)^{2} - 2 \\, r \\frac{\\partial}{\\partial r}{\\rm lamb}\\left(r\\right) - {\\left(r^{2} \\frac{\\partial}{\\partial r}{\\rm lamb}\\left(r\\right) + 2 \\, r\\right)} \\frac{\\partial}{\\partial r}\\nu\\left(r\\right) + 4 \\, e^{\\left({\\rm lamb}\\left(r\\right)\\right)} - 4}{2 \\, r^{2}}$$"
      ],
      "text/plain": [
       "'ddnu =' -1/2*(r^2*diff(nu(r), r)^2 - 2*r*diff(lamb(r), r) - (r^2*diff(lamb(r), r) + 2*r)*diff(nu(r), r) + 4*e^lamb(r) - 4)/r^2"
      ]
     },
     "metadata": {},
     "output_type": "display_data"
    }
   ],
   "source": [
    "show(\"E = \", E_tt)\n",
    "show(\"Prr = \", P_rr)\n",
    "show(\"ddnu =\", ddnu)"
   ]
  },
  {
   "cell_type": "code",
   "execution_count": 18,
   "metadata": {},
   "outputs": [],
   "source": [
    "dlamb = solve(E==E_tt,diff(lamb,r))[0].rhs()                                                                 #Eq 3.10\n",
    "dnu = solve(P==P_rr,diff(nu,r))[0].rhs()                                                                     #Eq 3.11"
   ]
  },
  {
   "cell_type": "code",
   "execution_count": 20,
   "metadata": {},
   "outputs": [
    {
     "data": {
      "text/html": [
       "<html>\\[\\newcommand{\\Bold}[1]{\\mathbf{#1}}dlamb =  \\frac{8 \\, \\pi r^{2} E\\left(r\\right) e^{\\left({\\rm lamb}\\left(r\\right)\\right)} - e^{\\left({\\rm lamb}\\left(r\\right)\\right)} + 1}{r}\\]</html>"
      ],
      "text/latex": [
       "$$\\newcommand{\\Bold}[1]{\\mathbf{#1}}dlamb =  \\frac{8 \\, \\pi r^{2} E\\left(r\\right) e^{\\left({\\rm lamb}\\left(r\\right)\\right)} - e^{\\left({\\rm lamb}\\left(r\\right)\\right)} + 1}{r}$$"
      ],
      "text/plain": [
       "dlamb =  (8*pi*r^2*E(r)*e^lamb(r) - e^lamb(r) + 1)/r"
      ]
     },
     "metadata": {},
     "output_type": "display_data"
    },
    {
     "data": {
      "text/html": [
       "<html>\\[\\newcommand{\\Bold}[1]{\\mathbf{#1}}dnu =  \\frac{8 \\, \\pi r^{2} P\\left(r\\right) e^{\\left({\\rm lamb}\\left(r\\right)\\right)} + e^{\\left({\\rm lamb}\\left(r\\right)\\right)} - 1}{r}\\]</html>"
      ],
      "text/latex": [
       "$$\\newcommand{\\Bold}[1]{\\mathbf{#1}}dnu =  \\frac{8 \\, \\pi r^{2} P\\left(r\\right) e^{\\left({\\rm lamb}\\left(r\\right)\\right)} + e^{\\left({\\rm lamb}\\left(r\\right)\\right)} - 1}{r}$$"
      ],
      "text/plain": [
       "dnu =  (8*pi*r^2*P(r)*e^lamb(r) + e^lamb(r) - 1)/r"
      ]
     },
     "metadata": {},
     "output_type": "display_data"
    }
   ],
   "source": [
    "show(LatexExpr(\"dlamb = \"), dlamb)\n",
    "show(LatexExpr(\"dnu = \"), dnu)"
   ]
  },
  {
   "cell_type": "code",
   "execution_count": 21,
   "metadata": {},
   "outputs": [],
   "source": [
    "h0 = function('h0')(r,th)\n",
    "k0 = function('k0')(r,th)\n",
    "m0 = function('m0')(r,th)\n",
    "\n",
    "h2 = function('h2')(r,th)\n",
    "k2 = function('k2')(r,th)\n",
    "m2 = function('m2')(r,th)\n",
    "\n",
    "m = m0 + m2*(3*cos(th)^2-1)/2\n",
    "k = k0 + k2*(3*cos(th)^2-1)/2\n",
    "h = h0 + h2*(3*cos(th)^2-1)/2"
   ]
  },
  {
   "cell_type": "code",
   "execution_count": 29,
   "metadata": {},
   "outputs": [],
   "source": [
    "E1 = function('E1')(r)\n",
    "E2 = function('E2')(r)\n",
    "P1 = function('P1')(r)\n",
    "P2 = function('P2')(r)\n",
    "\n",
    "s11 = diff(Ee,eps).subs(eps==0) == E1\n",
    "s12 = diff(Ee,eps,eps).subs(eps==0) == E2\n",
    "s13 = diff(Pe,eps).subs(eps==0) == P1\n",
    "s14 = diff(Pe,eps,eps).subs(eps==0) == P2\n",
    "\n",
    "s15 = m == m0 + m2*(3*cos(th)^2-1)/2\n",
    "s16 = k == k0 + k2*(3*cos(th)^2-1)/2\n",
    "s17 = h == h0 + h2*(3*cos(th)^2-1)/2\n",
    "\n",
    "sustituciones = (s0,s1,s2,s3,s4,s5,s6,s7,s8,s9,s10,s11,s12,s13,s14,s15,s16,s17)"
   ]
  },
  {
   "cell_type": "code",
   "execution_count": 30,
   "metadata": {},
   "outputs": [],
   "source": [
    "dTdd = M.tensor_field(0,2,'dTdd')\n",
    "ddTdd = M.tensor_field(0,2,'ddTdd')\n",
    "for i in range(0,n+1):\n",
    "    for j in range(0,n+1):\n",
    "        dTdd[i,j] = diff(Tedd[i,j].expr(),eps)\n",
    "        ddTdd[i,j] = diff(Tedd[i,j].expr(),eps,eps)\n",
    "dTdd.apply_map(lambda cmp: cmp.subs(sustituciones))                                              #d/de(T_\\mu\\nu)|e=0\n",
    "ddTdd.apply_map(lambda cmp: cmp.subs(sustituciones))                                         #d^2/de^2(T_\\mu\\nu)|e=0"
   ]
  },
  {
   "cell_type": "code",
   "execution_count": 31,
   "metadata": {},
   "outputs": [
    {
     "data": {
      "text/html": [
       "<html>\\[\\newcommand{\\Bold}[1]{\\mathbf{#1}}0 \\phantom{\\verb!x!}\\verb|=| 8 \\, \\pi P_{1}\\left(r\\right) e^{\\left({\\rm lamb}\\left(r\\right)\\right)}\\]</html>"
      ],
      "text/latex": [
       "$$\\newcommand{\\Bold}[1]{\\mathbf{#1}}0 \\phantom{\\verb!x!}\\verb|=| 8 \\, \\pi P_{1}\\left(r\\right) e^{\\left({\\rm lamb}\\left(r\\right)\\right)}$$"
      ],
      "text/plain": [
       "0 ' = ' 8*pi*P1(r)*e^lamb(r)"
      ]
     },
     "metadata": {},
     "output_type": "display_data"
    },
    {
     "data": {
      "text/html": [
       "<html>\\[\\newcommand{\\Bold}[1]{\\mathbf{#1}}0 \\phantom{\\verb!x!}\\verb|=| 8 \\, \\pi r^{2} P_{1}\\left(r\\right)\\]</html>"
      ],
      "text/latex": [
       "$$\\newcommand{\\Bold}[1]{\\mathbf{#1}}0 \\phantom{\\verb!x!}\\verb|=| 8 \\, \\pi r^{2} P_{1}\\left(r\\right)$$"
      ],
      "text/plain": [
       "0 ' = ' 8*pi*r^2*P1(r)"
      ]
     },
     "metadata": {},
     "output_type": "display_data"
    },
    {
     "data": {
      "text/html": [
       "<html>\\[\\newcommand{\\Bold}[1]{\\mathbf{#1}}0 \\phantom{\\verb!x!}\\verb|=| 8 \\, \\pi r^{2} P_{1}\\left(r\\right) \\sin\\left({\\theta}\\right)^{2}\\]</html>"
      ],
      "text/latex": [
       "$$\\newcommand{\\Bold}[1]{\\mathbf{#1}}0 \\phantom{\\verb!x!}\\verb|=| 8 \\, \\pi r^{2} P_{1}\\left(r\\right) \\sin\\left({\\theta}\\right)^{2}$$"
      ],
      "text/plain": [
       "0 ' = ' 8*pi*r^2*P1(r)*sin(th)^2"
      ]
     },
     "metadata": {},
     "output_type": "display_data"
    },
    {
     "data": {
      "text/html": [
       "<html>\\[\\newcommand{\\Bold}[1]{\\mathbf{#1}}\\verb|De|\\phantom{\\verb!x!}\\verb|aquí|\\phantom{\\verb!x!}\\verb|sacamos|\\phantom{\\verb!x!}\\verb|P1|\\phantom{\\verb!x!}\\verb|->|\\phantom{\\verb!x!}\\verb|P1(r)|\\phantom{\\verb!x!}\\verb|=| 0\\]</html>"
      ],
      "text/latex": [
       "$$\\newcommand{\\Bold}[1]{\\mathbf{#1}}\\verb|De|\\phantom{\\verb!x!}\\verb|aquí|\\phantom{\\verb!x!}\\verb|sacamos|\\phantom{\\verb!x!}\\verb|P1|\\phantom{\\verb!x!}\\verb|->|\\phantom{\\verb!x!}\\verb|P1(r)|\\phantom{\\verb!x!}\\verb|=| 0$$"
      ],
      "text/plain": [
       "'De aquí sacamos P1 -> P1(r) = ' 0"
      ]
     },
     "metadata": {},
     "output_type": "display_data"
    }
   ],
   "source": [
    "# Calculamos ahora la primera derivada de la ecuación\n",
    "\n",
    "show(deins[1,1],\" = \", kappa*dTdd[1,1])\n",
    "show(deins[2,2],\" = \", kappa*dTdd[2,2])\n",
    "show(deins[3,3],\" = \", kappa*dTdd[3,3])\n",
    "\n",
    "P1 = solve(deins[1,1].expr() == kappa*dTdd[1,1].expr(),P1)[0].rhs()\n",
    "\n",
    "show(\"De aquí sacamos P1 -> P1(r) = \", P1)"
   ]
  },
  {
   "cell_type": "code",
   "execution_count": 32,
   "metadata": {
    "scrolled": true
   },
   "outputs": [
    {
     "data": {
      "text/html": [
       "<html>\\[\\newcommand{\\Bold}[1]{\\mathbf{#1}}0 \\phantom{\\verb!x!}\\verb|=| 8 \\, \\pi {\\left(2 \\, E\\left(r\\right) e^{\\left(\\frac{3}{2} \\, \\nu\\left(r\\right)\\right)} u_{10}\\left(r\\right) + 2 \\, P\\left(r\\right) e^{\\left(\\frac{3}{2} \\, \\nu\\left(r\\right)\\right)} u_{10}\\left(r\\right) + E_{1}\\left(r\\right) e^{\\nu\\left(r\\right)}\\right)}\\]</html>"
      ],
      "text/latex": [
       "$$\\newcommand{\\Bold}[1]{\\mathbf{#1}}0 \\phantom{\\verb!x!}\\verb|=| 8 \\, \\pi {\\left(2 \\, E\\left(r\\right) e^{\\left(\\frac{3}{2} \\, \\nu\\left(r\\right)\\right)} u_{10}\\left(r\\right) + 2 \\, P\\left(r\\right) e^{\\left(\\frac{3}{2} \\, \\nu\\left(r\\right)\\right)} u_{10}\\left(r\\right) + E_{1}\\left(r\\right) e^{\\nu\\left(r\\right)}\\right)}$$"
      ],
      "text/plain": [
       "0 ' = ' 8*pi*(2*E(r)*e^(3/2*nu(r))*u10(r) + 2*P(r)*e^(3/2*nu(r))*u10(r) + E1(r)*e^nu(r))"
      ]
     },
     "metadata": {},
     "output_type": "display_data"
    },
    {
     "data": {
      "text/html": [
       "<html>\\[\\newcommand{\\Bold}[1]{\\mathbf{#1}}\\verb|De|\\phantom{\\verb!x!}\\verb|aquí|\\phantom{\\verb!x!}\\verb|sacamos|\\phantom{\\verb!x!}\\verb|E1|\\phantom{\\verb!x!}\\verb|->|\\phantom{\\verb!x!}\\verb|E1(r)|\\phantom{\\verb!x!}\\verb|=| 0\\]</html>"
      ],
      "text/latex": [
       "$$\\newcommand{\\Bold}[1]{\\mathbf{#1}}\\verb|De|\\phantom{\\verb!x!}\\verb|aquí|\\phantom{\\verb!x!}\\verb|sacamos|\\phantom{\\verb!x!}\\verb|E1|\\phantom{\\verb!x!}\\verb|->|\\phantom{\\verb!x!}\\verb|E1(r)|\\phantom{\\verb!x!}\\verb|=| 0$$"
      ],
      "text/plain": [
       "'De aquí sacamos E1 -> E1(r) = ' 0"
      ]
     },
     "metadata": {},
     "output_type": "display_data"
    }
   ],
   "source": [
    "show(deins[0,0],\" = \", kappa*dTdd[0,0])\n",
    "\n",
    "E1 = solve(deins[0,0].expr() == kappa*dTdd[0,0].expr(),E1)[0].rhs()\n",
    "E1 = E1.subs(sustituciones)\n",
    "show(\"De aquí sacamos E1 -> E1(r) = \", E1)"
   ]
  },
  {
   "cell_type": "code",
   "execution_count": 33,
   "metadata": {},
   "outputs": [
    {
     "data": {
      "text/html": [
       "<html>\\[\\newcommand{\\Bold}[1]{\\mathbf{#1}}-1.0 \\, r e^{\\left(-{\\rm lamb}\\left(r\\right)\\right)} \\omega\\left(r, {\\theta}\\right) \\sin\\left({\\theta}\\right)^{2} \\frac{\\partial}{\\partial r}\\nu\\left(r\\right) = -8 \\, \\pi {\\left(r^{2} E\\left(r\\right) \\Omega_{1}\\left(\\mathit{eps}\\right) + r^{2} \\Omega_{1}\\left(\\mathit{eps}\\right) P\\left(r\\right) + r^{2} E\\left(r\\right) \\omega\\left(r, {\\theta}\\right)\\right)} \\sin\\left({\\theta}\\right)^{2}\\]</html>"
      ],
      "text/latex": [
       "$$\\newcommand{\\Bold}[1]{\\mathbf{#1}}-1.0 \\, r e^{\\left(-{\\rm lamb}\\left(r\\right)\\right)} \\omega\\left(r, {\\theta}\\right) \\sin\\left({\\theta}\\right)^{2} \\frac{\\partial}{\\partial r}\\nu\\left(r\\right) = -8 \\, \\pi {\\left(r^{2} E\\left(r\\right) \\Omega_{1}\\left(\\mathit{eps}\\right) + r^{2} \\Omega_{1}\\left(\\mathit{eps}\\right) P\\left(r\\right) + r^{2} E\\left(r\\right) \\omega\\left(r, {\\theta}\\right)\\right)} \\sin\\left({\\theta}\\right)^{2}$$"
      ],
      "text/plain": [
       "-1.0*r*e^(-lamb(r))*omega(r, th)*sin(th)^2*diff(nu(r), r) == -8*pi*(r^2*E(r)*Omega1(eps) + r^2*Omega1(eps)*P(r) + r^2*E(r)*omega(r, th))*sin(th)^2"
      ]
     },
     "metadata": {},
     "output_type": "display_data"
    }
   ],
   "source": [
    "show(deins[0,3].expr() == kappa*dTdd[0,3].expr())                                                           #Eq 48"
   ]
  },
  {
   "cell_type": "code",
   "execution_count": 34,
   "metadata": {
    "collapsed": true
   },
   "outputs": [
    {
     "data": {
      "text/html": [
       "<html>\\[\\newcommand{\\Bold}[1]{\\mathbf{#1}}-\\frac{2 \\, {\\left(r^{2} e^{\\left({\\rm lamb}\\left(r\\right) + 2 \\, \\nu\\left(r\\right)\\right)} h\\left(r, {\\theta}\\right) + 2 \\, r^{2} e^{\\left({\\rm lamb}\\left(r\\right) + 2 \\, \\nu\\left(r\\right)\\right)} k\\left(r, {\\theta}\\right) + r^{2} e^{\\left({\\rm lamb}\\left(r\\right) + 2 \\, \\nu\\left(r\\right)\\right)} m\\left(r, {\\theta}\\right)\\right)} {\\left(4.0 \\, r e^{\\left(3 \\, \\nu\\left(r\\right)\\right)} \\frac{\\partial}{\\partial r}{\\rm lamb}\\left(r\\right) + 4 \\, {\\left(e^{\\left({\\rm lamb}\\left(r\\right)\\right)} - 1\\right)} e^{\\left(3 \\, \\nu\\left(r\\right)\\right)}\\right)} e^{\\left(-2 \\, {\\rm lamb}\\left(r\\right) - 4 \\, \\nu\\left(r\\right)\\right)}}{r^{4}} + \\frac{{\\left(8 \\, r^{2} \\cos\\left({\\theta}\\right) e^{\\left({\\rm lamb}\\left(r\\right) + 2 \\, \\nu\\left(r\\right)\\right)} \\omega\\left(r, {\\theta}\\right) \\sin\\left({\\theta}\\right)^{2} \\frac{\\partial}{\\partial {\\theta}}\\omega\\left(r, {\\theta}\\right) - {\\left(4.0 \\, r^{3} e^{\\left(2 \\, \\nu\\left(r\\right)\\right)} \\omega\\left(r, {\\theta}\\right)^{2} \\frac{\\partial}{\\partial r}{\\rm lamb}\\left(r\\right) + 8.0 \\, r^{3} e^{\\left(2 \\, \\nu\\left(r\\right)\\right)} \\omega\\left(r, {\\theta}\\right)^{2} \\frac{\\partial}{\\partial r}\\nu\\left(r\\right) - 8.0 \\, r^{3} e^{\\left(2 \\, \\nu\\left(r\\right)\\right)} \\omega\\left(r, {\\theta}\\right) \\frac{\\partial}{\\partial r}\\omega\\left(r, {\\theta}\\right) + {\\left(16 \\, r^{2} e^{\\left({\\rm lamb}\\left(r\\right)\\right)} - 16.0 \\, r^{2}\\right)} e^{\\left(2 \\, \\nu\\left(r\\right)\\right)} \\omega\\left(r, {\\theta}\\right)^{2}\\right)} \\sin\\left({\\theta}\\right)^{3} + 16 \\, \\cos\\left({\\theta}\\right) e^{\\left({\\rm lamb}\\left(r\\right) + 3 \\, \\nu\\left(r\\right)\\right)} \\frac{\\partial}{\\partial {\\theta}}k\\left(r, {\\theta}\\right) + {\\left(8.0 \\, r^{2} e^{\\left(3 \\, \\nu\\left(r\\right)\\right)} h\\left(r, {\\theta}\\right) \\frac{\\partial}{\\partial r}\\nu\\left(r\\right)^{2} + 8 \\, r^{2} e^{\\left({\\rm lamb}\\left(r\\right) + 2 \\, \\nu\\left(r\\right)\\right)} \\omega\\left(r, {\\theta}\\right)^{2} + 4.0 \\, r^{2} e^{\\left(3 \\, \\nu\\left(r\\right)\\right)} \\frac{\\partial}{\\partial r}h\\left(r, {\\theta}\\right) \\frac{\\partial}{\\partial r}\\nu\\left(r\\right) + 8.0 \\, r^{2} e^{\\left(3 \\, \\nu\\left(r\\right)\\right)} h\\left(r, {\\theta}\\right) \\frac{\\partial^{2}}{(\\partial r)^{2}}\\nu\\left(r\\right) + 32 \\, {\\left(e^{\\left({\\rm lamb}\\left(r\\right)\\right)} - 1\\right)} e^{\\left(3 \\, \\nu\\left(r\\right)\\right)} h\\left(r, {\\theta}\\right) + {\\left(32 \\, e^{\\left({\\rm lamb}\\left(r\\right)\\right)} - 32.0\\right)} e^{\\left(3 \\, \\nu\\left(r\\right)\\right)} k\\left(r, {\\theta}\\right) + 16 \\, {\\left(2 \\, e^{\\left({\\rm lamb}\\left(r\\right)\\right)} - 1\\right)} e^{\\left(3 \\, \\nu\\left(r\\right)\\right)} m\\left(r, {\\theta}\\right) + 16.0 \\, r e^{\\left(3 \\, \\nu\\left(r\\right)\\right)} \\frac{\\partial}{\\partial r}k\\left(r, {\\theta}\\right) - {\\left(-32.0 \\, r e^{\\left(3 \\, \\nu\\left(r\\right)\\right)} h\\left(r, {\\theta}\\right) - 48.0 \\, r e^{\\left(3 \\, \\nu\\left(r\\right)\\right)} k\\left(r, {\\theta}\\right) - 16.0 \\, r e^{\\left(3 \\, \\nu\\left(r\\right)\\right)} m\\left(r, {\\theta}\\right)\\right)} \\frac{\\partial}{\\partial r}{\\rm lamb}\\left(r\\right) - {\\left(4.0 \\, r^{2} e^{\\left(3 \\, \\nu\\left(r\\right)\\right)} \\frac{\\partial}{\\partial r}\\nu\\left(r\\right) - 16.0 \\, r e^{\\left(3 \\, \\nu\\left(r\\right)\\right)}\\right)} \\frac{\\partial}{\\partial r}m\\left(r, {\\theta}\\right) - {\\left(-16.0 \\, r e^{\\left(3 \\, \\nu\\left(r\\right)\\right)} h\\left(r, {\\theta}\\right) + {\\left(4.0 \\, r^{2} e^{\\left(3 \\, \\nu\\left(r\\right)\\right)} h\\left(r, {\\theta}\\right) + 4.0 \\, r^{2} e^{\\left(3 \\, \\nu\\left(r\\right)\\right)} m\\left(r, {\\theta}\\right)\\right)} \\frac{\\partial}{\\partial r}{\\rm lamb}\\left(r\\right)\\right)} \\frac{\\partial}{\\partial r}\\nu\\left(r\\right)\\right)} \\sin\\left({\\theta}\\right)\\right)} e^{\\left(-{\\rm lamb}\\left(r\\right) - 2 \\, \\nu\\left(r\\right)\\right)}}{4 \\, r^{2} \\sin\\left({\\theta}\\right)} \\phantom{\\verb!x!}\\verb|=| 8 \\, \\pi {\\left(2 \\, E\\left(r\\right) e^{\\left(2 \\, \\nu\\left(r\\right)\\right)} u_{10}\\left(r\\right)^{2} + 2 \\, P\\left(r\\right) e^{\\left(2 \\, \\nu\\left(r\\right)\\right)} u_{10}\\left(r\\right)^{2} - 2 \\, {\\left({\\left(2 \\, r^{2} E\\left(r\\right) + r^{2} P\\left(r\\right)\\right)} \\omega\\left(r, {\\theta}\\right)^{2} + 2 \\, {\\left(r^{2} E\\left(r\\right) \\Omega_{1}\\left(\\mathit{eps}\\right) + r^{2} \\Omega_{1}\\left(\\mathit{eps}\\right) P\\left(r\\right)\\right)} \\omega\\left(r, {\\theta}\\right)\\right)} \\sin\\left({\\theta}\\right)^{2} + 4 \\, E_{1}\\left(r\\right) e^{\\left(\\frac{3}{2} \\, \\nu\\left(r\\right)\\right)} u_{10}\\left(r\\right) + 4 \\, P_{1}\\left(r\\right) e^{\\left(\\frac{3}{2} \\, \\nu\\left(r\\right)\\right)} u_{10}\\left(r\\right) + 2 \\, E\\left(r\\right) e^{\\left(\\frac{3}{2} \\, \\nu\\left(r\\right)\\right)} u_{20}\\left(r\\right) + 2 \\, P\\left(r\\right) e^{\\left(\\frac{3}{2} \\, \\nu\\left(r\\right)\\right)} u_{20}\\left(r\\right) + E_{2}\\left(r\\right) e^{\\nu\\left(r\\right)} + 4 \\, {\\left(2 \\, E\\left(r\\right) e^{\\nu\\left(r\\right)} + P\\left(r\\right) e^{\\nu\\left(r\\right)}\\right)} h\\left(r, {\\theta}\\right)\\right)}\\]</html>"
      ],
      "text/latex": [
       "$$\\newcommand{\\Bold}[1]{\\mathbf{#1}}-\\frac{2 \\, {\\left(r^{2} e^{\\left({\\rm lamb}\\left(r\\right) + 2 \\, \\nu\\left(r\\right)\\right)} h\\left(r, {\\theta}\\right) + 2 \\, r^{2} e^{\\left({\\rm lamb}\\left(r\\right) + 2 \\, \\nu\\left(r\\right)\\right)} k\\left(r, {\\theta}\\right) + r^{2} e^{\\left({\\rm lamb}\\left(r\\right) + 2 \\, \\nu\\left(r\\right)\\right)} m\\left(r, {\\theta}\\right)\\right)} {\\left(4.0 \\, r e^{\\left(3 \\, \\nu\\left(r\\right)\\right)} \\frac{\\partial}{\\partial r}{\\rm lamb}\\left(r\\right) + 4 \\, {\\left(e^{\\left({\\rm lamb}\\left(r\\right)\\right)} - 1\\right)} e^{\\left(3 \\, \\nu\\left(r\\right)\\right)}\\right)} e^{\\left(-2 \\, {\\rm lamb}\\left(r\\right) - 4 \\, \\nu\\left(r\\right)\\right)}}{r^{4}} + \\frac{{\\left(8 \\, r^{2} \\cos\\left({\\theta}\\right) e^{\\left({\\rm lamb}\\left(r\\right) + 2 \\, \\nu\\left(r\\right)\\right)} \\omega\\left(r, {\\theta}\\right) \\sin\\left({\\theta}\\right)^{2} \\frac{\\partial}{\\partial {\\theta}}\\omega\\left(r, {\\theta}\\right) - {\\left(4.0 \\, r^{3} e^{\\left(2 \\, \\nu\\left(r\\right)\\right)} \\omega\\left(r, {\\theta}\\right)^{2} \\frac{\\partial}{\\partial r}{\\rm lamb}\\left(r\\right) + 8.0 \\, r^{3} e^{\\left(2 \\, \\nu\\left(r\\right)\\right)} \\omega\\left(r, {\\theta}\\right)^{2} \\frac{\\partial}{\\partial r}\\nu\\left(r\\right) - 8.0 \\, r^{3} e^{\\left(2 \\, \\nu\\left(r\\right)\\right)} \\omega\\left(r, {\\theta}\\right) \\frac{\\partial}{\\partial r}\\omega\\left(r, {\\theta}\\right) + {\\left(16 \\, r^{2} e^{\\left({\\rm lamb}\\left(r\\right)\\right)} - 16.0 \\, r^{2}\\right)} e^{\\left(2 \\, \\nu\\left(r\\right)\\right)} \\omega\\left(r, {\\theta}\\right)^{2}\\right)} \\sin\\left({\\theta}\\right)^{3} + 16 \\, \\cos\\left({\\theta}\\right) e^{\\left({\\rm lamb}\\left(r\\right) + 3 \\, \\nu\\left(r\\right)\\right)} \\frac{\\partial}{\\partial {\\theta}}k\\left(r, {\\theta}\\right) + {\\left(8.0 \\, r^{2} e^{\\left(3 \\, \\nu\\left(r\\right)\\right)} h\\left(r, {\\theta}\\right) \\frac{\\partial}{\\partial r}\\nu\\left(r\\right)^{2} + 8 \\, r^{2} e^{\\left({\\rm lamb}\\left(r\\right) + 2 \\, \\nu\\left(r\\right)\\right)} \\omega\\left(r, {\\theta}\\right)^{2} + 4.0 \\, r^{2} e^{\\left(3 \\, \\nu\\left(r\\right)\\right)} \\frac{\\partial}{\\partial r}h\\left(r, {\\theta}\\right) \\frac{\\partial}{\\partial r}\\nu\\left(r\\right) + 8.0 \\, r^{2} e^{\\left(3 \\, \\nu\\left(r\\right)\\right)} h\\left(r, {\\theta}\\right) \\frac{\\partial^{2}}{(\\partial r)^{2}}\\nu\\left(r\\right) + 32 \\, {\\left(e^{\\left({\\rm lamb}\\left(r\\right)\\right)} - 1\\right)} e^{\\left(3 \\, \\nu\\left(r\\right)\\right)} h\\left(r, {\\theta}\\right) + {\\left(32 \\, e^{\\left({\\rm lamb}\\left(r\\right)\\right)} - 32.0\\right)} e^{\\left(3 \\, \\nu\\left(r\\right)\\right)} k\\left(r, {\\theta}\\right) + 16 \\, {\\left(2 \\, e^{\\left({\\rm lamb}\\left(r\\right)\\right)} - 1\\right)} e^{\\left(3 \\, \\nu\\left(r\\right)\\right)} m\\left(r, {\\theta}\\right) + 16.0 \\, r e^{\\left(3 \\, \\nu\\left(r\\right)\\right)} \\frac{\\partial}{\\partial r}k\\left(r, {\\theta}\\right) - {\\left(-32.0 \\, r e^{\\left(3 \\, \\nu\\left(r\\right)\\right)} h\\left(r, {\\theta}\\right) - 48.0 \\, r e^{\\left(3 \\, \\nu\\left(r\\right)\\right)} k\\left(r, {\\theta}\\right) - 16.0 \\, r e^{\\left(3 \\, \\nu\\left(r\\right)\\right)} m\\left(r, {\\theta}\\right)\\right)} \\frac{\\partial}{\\partial r}{\\rm lamb}\\left(r\\right) - {\\left(4.0 \\, r^{2} e^{\\left(3 \\, \\nu\\left(r\\right)\\right)} \\frac{\\partial}{\\partial r}\\nu\\left(r\\right) - 16.0 \\, r e^{\\left(3 \\, \\nu\\left(r\\right)\\right)}\\right)} \\frac{\\partial}{\\partial r}m\\left(r, {\\theta}\\right) - {\\left(-16.0 \\, r e^{\\left(3 \\, \\nu\\left(r\\right)\\right)} h\\left(r, {\\theta}\\right) + {\\left(4.0 \\, r^{2} e^{\\left(3 \\, \\nu\\left(r\\right)\\right)} h\\left(r, {\\theta}\\right) + 4.0 \\, r^{2} e^{\\left(3 \\, \\nu\\left(r\\right)\\right)} m\\left(r, {\\theta}\\right)\\right)} \\frac{\\partial}{\\partial r}{\\rm lamb}\\left(r\\right)\\right)} \\frac{\\partial}{\\partial r}\\nu\\left(r\\right)\\right)} \\sin\\left({\\theta}\\right)\\right)} e^{\\left(-{\\rm lamb}\\left(r\\right) - 2 \\, \\nu\\left(r\\right)\\right)}}{4 \\, r^{2} \\sin\\left({\\theta}\\right)} \\phantom{\\verb!x!}\\verb|=| 8 \\, \\pi {\\left(2 \\, E\\left(r\\right) e^{\\left(2 \\, \\nu\\left(r\\right)\\right)} u_{10}\\left(r\\right)^{2} + 2 \\, P\\left(r\\right) e^{\\left(2 \\, \\nu\\left(r\\right)\\right)} u_{10}\\left(r\\right)^{2} - 2 \\, {\\left({\\left(2 \\, r^{2} E\\left(r\\right) + r^{2} P\\left(r\\right)\\right)} \\omega\\left(r, {\\theta}\\right)^{2} + 2 \\, {\\left(r^{2} E\\left(r\\right) \\Omega_{1}\\left(\\mathit{eps}\\right) + r^{2} \\Omega_{1}\\left(\\mathit{eps}\\right) P\\left(r\\right)\\right)} \\omega\\left(r, {\\theta}\\right)\\right)} \\sin\\left({\\theta}\\right)^{2} + 4 \\, E_{1}\\left(r\\right) e^{\\left(\\frac{3}{2} \\, \\nu\\left(r\\right)\\right)} u_{10}\\left(r\\right) + 4 \\, P_{1}\\left(r\\right) e^{\\left(\\frac{3}{2} \\, \\nu\\left(r\\right)\\right)} u_{10}\\left(r\\right) + 2 \\, E\\left(r\\right) e^{\\left(\\frac{3}{2} \\, \\nu\\left(r\\right)\\right)} u_{20}\\left(r\\right) + 2 \\, P\\left(r\\right) e^{\\left(\\frac{3}{2} \\, \\nu\\left(r\\right)\\right)} u_{20}\\left(r\\right) + E_{2}\\left(r\\right) e^{\\nu\\left(r\\right)} + 4 \\, {\\left(2 \\, E\\left(r\\right) e^{\\nu\\left(r\\right)} + P\\left(r\\right) e^{\\nu\\left(r\\right)}\\right)} h\\left(r, {\\theta}\\right)\\right)}$$"
      ],
      "text/plain": [
       "-2*(r^2*e^(lamb(r) + 2*nu(r))*h(r, th) + 2*r^2*e^(lamb(r) + 2*nu(r))*k(r, th) + r^2*e^(lamb(r) + 2*nu(r))*m(r, th))*(4.0*r*e^(3*nu(r))*diff(lamb(r), r) + 4*(e^lamb(r) - 1)*e^(3*nu(r)))*e^(-2*lamb(r) - 4*nu(r))/r^4 + 1/4*(8*r^2*cos(th)*e^(lamb(r) + 2*nu(r))*omega(r, th)*sin(th)^2*diff(omega(r, th), th) - (4.0*r^3*e^(2*nu(r))*omega(r, th)^2*diff(lamb(r), r) + 8.0*r^3*e^(2*nu(r))*omega(r, th)^2*diff(nu(r), r) - 8.0*r^3*e^(2*nu(r))*omega(r, th)*diff(omega(r, th), r) + (16*r^2*e^lamb(r) - 16.0*r^2)*e^(2*nu(r))*omega(r, th)^2)*sin(th)^3 + 16*cos(th)*e^(lamb(r) + 3*nu(r))*diff(k(r, th), th) + (8.0*r^2*e^(3*nu(r))*h(r, th)*diff(nu(r), r)^2 + 8*r^2*e^(lamb(r) + 2*nu(r))*omega(r, th)^2 + 4.0*r^2*e^(3*nu(r))*diff(h(r, th), r)*diff(nu(r), r) + 8.0*r^2*e^(3*nu(r))*h(r, th)*diff(nu(r), r, r) + 32*(e^lamb(r) - 1)*e^(3*nu(r))*h(r, th) + (32*e^lamb(r) - 32.0)*e^(3*nu(r))*k(r, th) + 16*(2*e^lamb(r) - 1)*e^(3*nu(r))*m(r, th) + 16.0*r*e^(3*nu(r))*diff(k(r, th), r) - (-32.0*r*e^(3*nu(r))*h(r, th) - 48.0*r*e^(3*nu(r))*k(r, th) - 16.0*r*e^(3*nu(r))*m(r, th))*diff(lamb(r), r) - (4.0*r^2*e^(3*nu(r))*diff(nu(r), r) - 16.0*r*e^(3*nu(r)))*diff(m(r, th), r) - (-16.0*r*e^(3*nu(r))*h(r, th) + (4.0*r^2*e^(3*nu(r))*h(r, th) + 4.0*r^2*e^(3*nu(r))*m(r, th))*diff(lamb(r), r))*diff(nu(r), r))*sin(th))*e^(-lamb(r) - 2*nu(r))/(r^2*sin(th)) ' = ' 8*pi*(2*E(r)*e^(2*nu(r))*u10(r)^2 + 2*P(r)*e^(2*nu(r))*u10(r)^2 - 2*((2*r^2*E(r) + r^2*P(r))*omega(r, th)^2 + 2*(r^2*E(r)*Omega1(eps) + r^2*Omega1(eps)*P(r))*omega(r, th))*sin(th)^2 + 4*E1(r)*e^(3/2*nu(r))*u10(r) + 4*P1(r)*e^(3/2*nu(r))*u10(r) + 2*E(r)*e^(3/2*nu(r))*u20(r) + 2*P(r)*e^(3/2*nu(r))*u20(r) + E2(r)*e^nu(r) + 4*(2*E(r)*e^nu(r) + P(r)*e^nu(r))*h(r, th))"
      ]
     },
     "metadata": {},
     "output_type": "display_data"
    }
   ],
   "source": [
    "# Para la segunda derivada tenemos\n",
    "\n",
    "show(ddeins[0,0].expr(),\" = \", kappa*ddTdd[0,0].expr())"
   ]
  },
  {
   "cell_type": "code",
   "execution_count": 35,
   "metadata": {
    "collapsed": true
   },
   "outputs": [
    {
     "data": {
      "text/html": [
       "<html>\\[\\newcommand{\\Bold}[1]{\\mathbf{#1}}\\frac{2 \\, {\\left(r^{2} e^{\\left(2 \\, \\nu\\left(r\\right)\\right)} h\\left(r, {\\theta}\\right) + 2 \\, r^{2} e^{\\left(2 \\, \\nu\\left(r\\right)\\right)} k\\left(r, {\\theta}\\right) + r^{2} e^{\\left(2 \\, \\nu\\left(r\\right)\\right)} m\\left(r, {\\theta}\\right)\\right)} {\\left(-4.0 \\, r e^{\\left(2 \\, \\nu\\left(r\\right)\\right)} \\frac{\\partial\\,\\nu}{\\partial r} + 4 \\, {\\left(e^{\\left({\\rm lamb}\\left(r\\right)\\right)} - 1\\right)} e^{\\left(2 \\, \\nu\\left(r\\right)\\right)}\\right)} e^{\\left(-4 \\, \\nu\\left(r\\right)\\right)}}{r^{4}} - \\frac{{\\left(8 \\, r^{2} \\cos\\left({\\theta}\\right) e^{\\left({\\rm lamb}\\left(r\\right) + \\nu\\left(r\\right)\\right)} \\omega\\left(r, {\\theta}\\right) \\sin\\left({\\theta}\\right)^{2} \\frac{\\partial\\,\\omega}{\\partial {\\theta}} + {\\left(-4.0 \\, r^{3} e^{\\nu\\left(r\\right)} \\omega\\left(r, {\\theta}\\right)^{2} \\frac{\\partial\\,\\nu}{\\partial r} - 8.0 \\, r^{3} e^{\\nu\\left(r\\right)} \\omega\\left(r, {\\theta}\\right) \\frac{\\partial\\,\\omega}{\\partial r} - {\\left(16 \\, r^{2} e^{\\left({\\rm lamb}\\left(r\\right)\\right)} + 8.0 \\, r^{2}\\right)} e^{\\nu\\left(r\\right)} \\omega\\left(r, {\\theta}\\right)^{2}\\right)} \\sin\\left({\\theta}\\right)^{3} + 16 \\, \\cos\\left({\\theta}\\right) e^{\\left({\\rm lamb}\\left(r\\right) + 2 \\, \\nu\\left(r\\right)\\right)} \\frac{\\partial\\,k}{\\partial {\\theta}} + {\\left(8 \\, r^{2} e^{\\left({\\rm lamb}\\left(r\\right) + \\nu\\left(r\\right)\\right)} \\omega\\left(r, {\\theta}\\right)^{2} - 4.0 \\, r^{2} e^{\\left(2 \\, \\nu\\left(r\\right)\\right)} \\frac{\\partial\\,h}{\\partial r} \\frac{\\partial\\,\\nu}{\\partial r} + 8.0 \\, r^{2} e^{\\left(2 \\, \\nu\\left(r\\right)\\right)} m\\left(r, {\\theta}\\right) \\frac{\\partial^2\\,\\nu}{\\partial r ^ 2} + 32 \\, {\\left(e^{\\left({\\rm lamb}\\left(r\\right)\\right)} - 1\\right)} e^{\\left(2 \\, \\nu\\left(r\\right)\\right)} h\\left(r, {\\theta}\\right) + {\\left(32 \\, e^{\\left({\\rm lamb}\\left(r\\right)\\right)} - 64.0\\right)} e^{\\left(2 \\, \\nu\\left(r\\right)\\right)} k\\left(r, {\\theta}\\right) + 16 \\, {\\left(2 \\, e^{\\left({\\rm lamb}\\left(r\\right)\\right)} - 1\\right)} e^{\\left(2 \\, \\nu\\left(r\\right)\\right)} m\\left(r, {\\theta}\\right) - 16.0 \\, r e^{\\left(2 \\, \\nu\\left(r\\right)\\right)} \\frac{\\partial\\,k}{\\partial r} + {\\left(-4.0 \\, r^{2} e^{\\left(2 \\, \\nu\\left(r\\right)\\right)} h\\left(r, {\\theta}\\right) + 4.0 \\, r^{2} e^{\\left(2 \\, \\nu\\left(r\\right)\\right)} m\\left(r, {\\theta}\\right)\\right)} \\frac{\\partial\\,\\nu}{\\partial r}^{2} + {\\left(4.0 \\, r^{2} e^{\\left(2 \\, \\nu\\left(r\\right)\\right)} \\frac{\\partial\\,\\nu}{\\partial r} + 16.0 \\, r e^{\\left(2 \\, \\nu\\left(r\\right)\\right)}\\right)} \\frac{\\partial\\,m}{\\partial r} + {\\left(-16.0 \\, r e^{\\left(2 \\, \\nu\\left(r\\right)\\right)} h\\left(r, {\\theta}\\right) - 48.0 \\, r e^{\\left(2 \\, \\nu\\left(r\\right)\\right)} k\\left(r, {\\theta}\\right) - 16.0 \\, r e^{\\left(2 \\, \\nu\\left(r\\right)\\right)} m\\left(r, {\\theta}\\right)\\right)} \\frac{\\partial\\,\\nu}{\\partial r}\\right)} \\sin\\left({\\theta}\\right)\\right)} e^{\\left(-2 \\, \\nu\\left(r\\right)\\right)}}{4 \\, r^{2} \\sin\\left({\\theta}\\right)} \\phantom{\\verb!x!}\\verb|=| 8 \\, \\pi {\\left(4 \\, P\\left(r\\right) e^{\\left({\\rm lamb}\\left(r\\right)\\right)} m\\left(r, {\\theta}\\right) + P_{2}\\left(r\\right) e^{\\left({\\rm lamb}\\left(r\\right)\\right)}\\right)}\\]</html>"
      ],
      "text/latex": [
       "$$\\newcommand{\\Bold}[1]{\\mathbf{#1}}\\frac{2 \\, {\\left(r^{2} e^{\\left(2 \\, \\nu\\left(r\\right)\\right)} h\\left(r, {\\theta}\\right) + 2 \\, r^{2} e^{\\left(2 \\, \\nu\\left(r\\right)\\right)} k\\left(r, {\\theta}\\right) + r^{2} e^{\\left(2 \\, \\nu\\left(r\\right)\\right)} m\\left(r, {\\theta}\\right)\\right)} {\\left(-4.0 \\, r e^{\\left(2 \\, \\nu\\left(r\\right)\\right)} \\frac{\\partial\\,\\nu}{\\partial r} + 4 \\, {\\left(e^{\\left({\\rm lamb}\\left(r\\right)\\right)} - 1\\right)} e^{\\left(2 \\, \\nu\\left(r\\right)\\right)}\\right)} e^{\\left(-4 \\, \\nu\\left(r\\right)\\right)}}{r^{4}} - \\frac{{\\left(8 \\, r^{2} \\cos\\left({\\theta}\\right) e^{\\left({\\rm lamb}\\left(r\\right) + \\nu\\left(r\\right)\\right)} \\omega\\left(r, {\\theta}\\right) \\sin\\left({\\theta}\\right)^{2} \\frac{\\partial\\,\\omega}{\\partial {\\theta}} + {\\left(-4.0 \\, r^{3} e^{\\nu\\left(r\\right)} \\omega\\left(r, {\\theta}\\right)^{2} \\frac{\\partial\\,\\nu}{\\partial r} - 8.0 \\, r^{3} e^{\\nu\\left(r\\right)} \\omega\\left(r, {\\theta}\\right) \\frac{\\partial\\,\\omega}{\\partial r} - {\\left(16 \\, r^{2} e^{\\left({\\rm lamb}\\left(r\\right)\\right)} + 8.0 \\, r^{2}\\right)} e^{\\nu\\left(r\\right)} \\omega\\left(r, {\\theta}\\right)^{2}\\right)} \\sin\\left({\\theta}\\right)^{3} + 16 \\, \\cos\\left({\\theta}\\right) e^{\\left({\\rm lamb}\\left(r\\right) + 2 \\, \\nu\\left(r\\right)\\right)} \\frac{\\partial\\,k}{\\partial {\\theta}} + {\\left(8 \\, r^{2} e^{\\left({\\rm lamb}\\left(r\\right) + \\nu\\left(r\\right)\\right)} \\omega\\left(r, {\\theta}\\right)^{2} - 4.0 \\, r^{2} e^{\\left(2 \\, \\nu\\left(r\\right)\\right)} \\frac{\\partial\\,h}{\\partial r} \\frac{\\partial\\,\\nu}{\\partial r} + 8.0 \\, r^{2} e^{\\left(2 \\, \\nu\\left(r\\right)\\right)} m\\left(r, {\\theta}\\right) \\frac{\\partial^2\\,\\nu}{\\partial r ^ 2} + 32 \\, {\\left(e^{\\left({\\rm lamb}\\left(r\\right)\\right)} - 1\\right)} e^{\\left(2 \\, \\nu\\left(r\\right)\\right)} h\\left(r, {\\theta}\\right) + {\\left(32 \\, e^{\\left({\\rm lamb}\\left(r\\right)\\right)} - 64.0\\right)} e^{\\left(2 \\, \\nu\\left(r\\right)\\right)} k\\left(r, {\\theta}\\right) + 16 \\, {\\left(2 \\, e^{\\left({\\rm lamb}\\left(r\\right)\\right)} - 1\\right)} e^{\\left(2 \\, \\nu\\left(r\\right)\\right)} m\\left(r, {\\theta}\\right) - 16.0 \\, r e^{\\left(2 \\, \\nu\\left(r\\right)\\right)} \\frac{\\partial\\,k}{\\partial r} + {\\left(-4.0 \\, r^{2} e^{\\left(2 \\, \\nu\\left(r\\right)\\right)} h\\left(r, {\\theta}\\right) + 4.0 \\, r^{2} e^{\\left(2 \\, \\nu\\left(r\\right)\\right)} m\\left(r, {\\theta}\\right)\\right)} \\frac{\\partial\\,\\nu}{\\partial r}^{2} + {\\left(4.0 \\, r^{2} e^{\\left(2 \\, \\nu\\left(r\\right)\\right)} \\frac{\\partial\\,\\nu}{\\partial r} + 16.0 \\, r e^{\\left(2 \\, \\nu\\left(r\\right)\\right)}\\right)} \\frac{\\partial\\,m}{\\partial r} + {\\left(-16.0 \\, r e^{\\left(2 \\, \\nu\\left(r\\right)\\right)} h\\left(r, {\\theta}\\right) - 48.0 \\, r e^{\\left(2 \\, \\nu\\left(r\\right)\\right)} k\\left(r, {\\theta}\\right) - 16.0 \\, r e^{\\left(2 \\, \\nu\\left(r\\right)\\right)} m\\left(r, {\\theta}\\right)\\right)} \\frac{\\partial\\,\\nu}{\\partial r}\\right)} \\sin\\left({\\theta}\\right)\\right)} e^{\\left(-2 \\, \\nu\\left(r\\right)\\right)}}{4 \\, r^{2} \\sin\\left({\\theta}\\right)} \\phantom{\\verb!x!}\\verb|=| 8 \\, \\pi {\\left(4 \\, P\\left(r\\right) e^{\\left({\\rm lamb}\\left(r\\right)\\right)} m\\left(r, {\\theta}\\right) + P_{2}\\left(r\\right) e^{\\left({\\rm lamb}\\left(r\\right)\\right)}\\right)}$$"
      ],
      "text/plain": [
       "2*(r^2*e^(2*nu(r))*h(r, th) + 2*r^2*e^(2*nu(r))*k(r, th) + r^2*e^(2*nu(r))*m(r, th))*(-4.0*r*e^(2*nu(r))*d(nu)/dr + 4*(e^lamb(r) - 1)*e^(2*nu(r)))*e^(-4*nu(r))/r^4 - 1/4*(8*r^2*cos(th)*e^(lamb(r) + nu(r))*omega(r, th)*sin(th)^2*d(omega)/dth + (-4.0*r^3*e^nu(r)*omega(r, th)^2*d(nu)/dr - 8.0*r^3*e^nu(r)*omega(r, th)*d(omega)/dr - (16*r^2*e^lamb(r) + 8.0*r^2)*e^nu(r)*omega(r, th)^2)*sin(th)^3 + 16*cos(th)*e^(lamb(r) + 2*nu(r))*d(k)/dth + (8*r^2*e^(lamb(r) + nu(r))*omega(r, th)^2 - 4.0*r^2*e^(2*nu(r))*d(h)/dr*d(nu)/dr + 8.0*r^2*e^(2*nu(r))*m(r, th)*d^2(nu)/dr^2 + 32*(e^lamb(r) - 1)*e^(2*nu(r))*h(r, th) + (32*e^lamb(r) - 64.0)*e^(2*nu(r))*k(r, th) + 16*(2*e^lamb(r) - 1)*e^(2*nu(r))*m(r, th) - 16.0*r*e^(2*nu(r))*d(k)/dr + (-4.0*r^2*e^(2*nu(r))*h(r, th) + 4.0*r^2*e^(2*nu(r))*m(r, th))*d(nu)/dr^2 + (4.0*r^2*e^(2*nu(r))*d(nu)/dr + 16.0*r*e^(2*nu(r)))*d(m)/dr + (-16.0*r*e^(2*nu(r))*h(r, th) - 48.0*r*e^(2*nu(r))*k(r, th) - 16.0*r*e^(2*nu(r))*m(r, th))*d(nu)/dr)*sin(th))*e^(-2*nu(r))/(r^2*sin(th)) ' = ' 8*pi*(4*P(r)*e^lamb(r)*m(r, th) + P2(r)*e^lamb(r))"
      ]
     },
     "metadata": {},
     "output_type": "display_data"
    }
   ],
   "source": [
    "show(ddeins[1,1],\" = \", kappa*ddTdd[1,1])"
   ]
  },
  {
   "cell_type": "code",
   "execution_count": 36,
   "metadata": {
    "collapsed": true
   },
   "outputs": [
    {
     "data": {
      "text/html": [
       "<html>\\[\\newcommand{\\Bold}[1]{\\mathbf{#1}}-2 \\, {\\left(1.0 \\, r^{2} e^{\\left(2 \\, \\nu\\left(r\\right)\\right)} \\left(\\frac{\\partial\\,\\nu}{\\partial r}\\right)^{2} + 2.0 \\, r^{2} e^{\\left(2 \\, \\nu\\left(r\\right)\\right)} \\frac{\\partial^2\\,\\nu}{\\partial r ^ 2} - 2.0 \\, r e^{\\left(2 \\, \\nu\\left(r\\right)\\right)} \\frac{\\partial\\,\\mathit{lamb}}{\\partial r} + {\\left(-1.0 \\, r^{2} e^{\\left(2 \\, \\nu\\left(r\\right)\\right)} \\frac{\\partial\\,\\mathit{lamb}}{\\partial r} + 2.0 \\, r e^{\\left(2 \\, \\nu\\left(r\\right)\\right)}\\right)} \\frac{\\partial\\,\\nu}{\\partial r}\\right)} {\\left(e^{\\left({\\rm lamb}\\left(r\\right) + 2 \\, \\nu\\left(r\\right)\\right)} h\\left(r, {\\theta}\\right) + 2 \\, e^{\\left({\\rm lamb}\\left(r\\right) + 2 \\, \\nu\\left(r\\right)\\right)} k\\left(r, {\\theta}\\right) + e^{\\left({\\rm lamb}\\left(r\\right) + 2 \\, \\nu\\left(r\\right)\\right)} m\\left(r, {\\theta}\\right)\\right)} e^{\\left(-2 \\, {\\rm lamb}\\left(r\\right) - 4 \\, \\nu\\left(r\\right)\\right)} + \\frac{{\\left(8 \\, r^{2} \\cos\\left({\\theta}\\right) e^{\\left({\\rm lamb}\\left(r\\right) + \\nu\\left(r\\right)\\right)} \\omega\\left(r, {\\theta}\\right) \\sin\\left({\\theta}\\right)^{3} \\frac{\\partial\\,\\omega}{\\partial {\\theta}} + {\\left(4.0 \\, r^{3} e^{\\nu\\left(r\\right)} \\omega\\left(r, {\\theta}\\right)^{2} \\frac{\\partial\\,\\mathit{lamb}}{\\partial r} + 4.0 \\, r^{3} e^{\\nu\\left(r\\right)} \\omega\\left(r, {\\theta}\\right)^{2} \\frac{\\partial\\,\\nu}{\\partial r} - 8.0 \\, r^{3} e^{\\nu\\left(r\\right)} \\omega\\left(r, {\\theta}\\right) \\frac{\\partial\\,\\omega}{\\partial r} - {\\left(16 \\, r^{2} e^{\\left({\\rm lamb}\\left(r\\right)\\right)} + 8.0 \\, r^{2}\\right)} e^{\\nu\\left(r\\right)} \\omega\\left(r, {\\theta}\\right)^{2}\\right)} \\sin\\left({\\theta}\\right)^{4} + {\\left(16 \\, r^{2} e^{\\left({\\rm lamb}\\left(r\\right) + \\nu\\left(r\\right)\\right)} \\omega\\left(r, {\\theta}\\right)^{2} - 4.0 \\, r^{2} e^{\\left(2 \\, \\nu\\left(r\\right)\\right)} \\frac{\\partial\\,h}{\\partial r} \\frac{\\partial\\,\\nu}{\\partial r} - 4.0 \\, r^{2} e^{\\left(2 \\, \\nu\\left(r\\right)\\right)} \\frac{\\partial\\,m}{\\partial r} \\frac{\\partial\\,\\nu}{\\partial r} - 16.0 \\, r e^{\\left(2 \\, \\nu\\left(r\\right)\\right)} \\frac{\\partial\\,k}{\\partial r} + {\\left(4.0 \\, r^{2} e^{\\left(2 \\, \\nu\\left(r\\right)\\right)} h\\left(r, {\\theta}\\right) + 16.0 \\, r^{2} e^{\\left(2 \\, \\nu\\left(r\\right)\\right)} k\\left(r, {\\theta}\\right) + 4.0 \\, r^{2} e^{\\left(2 \\, \\nu\\left(r\\right)\\right)} m\\left(r, {\\theta}\\right)\\right)} \\left(\\frac{\\partial\\,\\nu}{\\partial r}\\right)^{2} - 32.0 \\, e^{\\left(2 \\, \\nu\\left(r\\right)\\right)} k\\left(r, {\\theta}\\right) + {\\left(-16.0 \\, r e^{\\left(2 \\, \\nu\\left(r\\right)\\right)} h\\left(r, {\\theta}\\right) - 16.0 \\, r e^{\\left(2 \\, \\nu\\left(r\\right)\\right)} k\\left(r, {\\theta}\\right)\\right)} \\frac{\\partial\\,\\mathit{lamb}}{\\partial r} + {\\left(8.0 \\, r e^{\\left(2 \\, \\nu\\left(r\\right)\\right)} h\\left(r, {\\theta}\\right) + 16.0 \\, r e^{\\left(2 \\, \\nu\\left(r\\right)\\right)} k\\left(r, {\\theta}\\right) + 8.0 \\, r e^{\\left(2 \\, \\nu\\left(r\\right)\\right)} m\\left(r, {\\theta}\\right) + {\\left(-4.0 \\, r^{2} e^{\\left(2 \\, \\nu\\left(r\\right)\\right)} h\\left(r, {\\theta}\\right) - 16.0 \\, r^{2} e^{\\left(2 \\, \\nu\\left(r\\right)\\right)} k\\left(r, {\\theta}\\right) - 4.0 \\, r^{2} e^{\\left(2 \\, \\nu\\left(r\\right)\\right)} m\\left(r, {\\theta}\\right)\\right)} \\frac{\\partial\\,\\mathit{lamb}}{\\partial r}\\right)} \\frac{\\partial\\,\\nu}{\\partial r} + {\\left(8.0 \\, r^{2} e^{\\left(2 \\, \\nu\\left(r\\right)\\right)} h\\left(r, {\\theta}\\right) + 32.0 \\, r^{2} e^{\\left(2 \\, \\nu\\left(r\\right)\\right)} k\\left(r, {\\theta}\\right) + 8.0 \\, r^{2} e^{\\left(2 \\, \\nu\\left(r\\right)\\right)} m\\left(r, {\\theta}\\right)\\right)} \\frac{\\partial^2\\,\\nu}{\\partial r ^ 2}\\right)} \\sin\\left({\\theta}\\right)^{2} + 16 \\, e^{\\left({\\rm lamb}\\left(r\\right) + 2 \\, \\nu\\left(r\\right)\\right)} k\\left(r, {\\theta}\\right)\\right)} e^{\\left(-{\\rm lamb}\\left(r\\right) - 2 \\, \\nu\\left(r\\right)\\right)}}{4 \\, \\sin\\left({\\theta}\\right)^{2}} \\phantom{\\verb!x!}\\verb|=| 8 \\, \\pi {\\left(4 \\, r^{2} P\\left(r\\right) k\\left(r, {\\theta}\\right) + r^{2} P_{2}\\left(r\\right)\\right)}\\]</html>"
      ],
      "text/latex": [
       "$$\\newcommand{\\Bold}[1]{\\mathbf{#1}}-2 \\, {\\left(1.0 \\, r^{2} e^{\\left(2 \\, \\nu\\left(r\\right)\\right)} \\left(\\frac{\\partial\\,\\nu}{\\partial r}\\right)^{2} + 2.0 \\, r^{2} e^{\\left(2 \\, \\nu\\left(r\\right)\\right)} \\frac{\\partial^2\\,\\nu}{\\partial r ^ 2} - 2.0 \\, r e^{\\left(2 \\, \\nu\\left(r\\right)\\right)} \\frac{\\partial\\,\\mathit{lamb}}{\\partial r} + {\\left(-1.0 \\, r^{2} e^{\\left(2 \\, \\nu\\left(r\\right)\\right)} \\frac{\\partial\\,\\mathit{lamb}}{\\partial r} + 2.0 \\, r e^{\\left(2 \\, \\nu\\left(r\\right)\\right)}\\right)} \\frac{\\partial\\,\\nu}{\\partial r}\\right)} {\\left(e^{\\left({\\rm lamb}\\left(r\\right) + 2 \\, \\nu\\left(r\\right)\\right)} h\\left(r, {\\theta}\\right) + 2 \\, e^{\\left({\\rm lamb}\\left(r\\right) + 2 \\, \\nu\\left(r\\right)\\right)} k\\left(r, {\\theta}\\right) + e^{\\left({\\rm lamb}\\left(r\\right) + 2 \\, \\nu\\left(r\\right)\\right)} m\\left(r, {\\theta}\\right)\\right)} e^{\\left(-2 \\, {\\rm lamb}\\left(r\\right) - 4 \\, \\nu\\left(r\\right)\\right)} + \\frac{{\\left(8 \\, r^{2} \\cos\\left({\\theta}\\right) e^{\\left({\\rm lamb}\\left(r\\right) + \\nu\\left(r\\right)\\right)} \\omega\\left(r, {\\theta}\\right) \\sin\\left({\\theta}\\right)^{3} \\frac{\\partial\\,\\omega}{\\partial {\\theta}} + {\\left(4.0 \\, r^{3} e^{\\nu\\left(r\\right)} \\omega\\left(r, {\\theta}\\right)^{2} \\frac{\\partial\\,\\mathit{lamb}}{\\partial r} + 4.0 \\, r^{3} e^{\\nu\\left(r\\right)} \\omega\\left(r, {\\theta}\\right)^{2} \\frac{\\partial\\,\\nu}{\\partial r} - 8.0 \\, r^{3} e^{\\nu\\left(r\\right)} \\omega\\left(r, {\\theta}\\right) \\frac{\\partial\\,\\omega}{\\partial r} - {\\left(16 \\, r^{2} e^{\\left({\\rm lamb}\\left(r\\right)\\right)} + 8.0 \\, r^{2}\\right)} e^{\\nu\\left(r\\right)} \\omega\\left(r, {\\theta}\\right)^{2}\\right)} \\sin\\left({\\theta}\\right)^{4} + {\\left(16 \\, r^{2} e^{\\left({\\rm lamb}\\left(r\\right) + \\nu\\left(r\\right)\\right)} \\omega\\left(r, {\\theta}\\right)^{2} - 4.0 \\, r^{2} e^{\\left(2 \\, \\nu\\left(r\\right)\\right)} \\frac{\\partial\\,h}{\\partial r} \\frac{\\partial\\,\\nu}{\\partial r} - 4.0 \\, r^{2} e^{\\left(2 \\, \\nu\\left(r\\right)\\right)} \\frac{\\partial\\,m}{\\partial r} \\frac{\\partial\\,\\nu}{\\partial r} - 16.0 \\, r e^{\\left(2 \\, \\nu\\left(r\\right)\\right)} \\frac{\\partial\\,k}{\\partial r} + {\\left(4.0 \\, r^{2} e^{\\left(2 \\, \\nu\\left(r\\right)\\right)} h\\left(r, {\\theta}\\right) + 16.0 \\, r^{2} e^{\\left(2 \\, \\nu\\left(r\\right)\\right)} k\\left(r, {\\theta}\\right) + 4.0 \\, r^{2} e^{\\left(2 \\, \\nu\\left(r\\right)\\right)} m\\left(r, {\\theta}\\right)\\right)} \\left(\\frac{\\partial\\,\\nu}{\\partial r}\\right)^{2} - 32.0 \\, e^{\\left(2 \\, \\nu\\left(r\\right)\\right)} k\\left(r, {\\theta}\\right) + {\\left(-16.0 \\, r e^{\\left(2 \\, \\nu\\left(r\\right)\\right)} h\\left(r, {\\theta}\\right) - 16.0 \\, r e^{\\left(2 \\, \\nu\\left(r\\right)\\right)} k\\left(r, {\\theta}\\right)\\right)} \\frac{\\partial\\,\\mathit{lamb}}{\\partial r} + {\\left(8.0 \\, r e^{\\left(2 \\, \\nu\\left(r\\right)\\right)} h\\left(r, {\\theta}\\right) + 16.0 \\, r e^{\\left(2 \\, \\nu\\left(r\\right)\\right)} k\\left(r, {\\theta}\\right) + 8.0 \\, r e^{\\left(2 \\, \\nu\\left(r\\right)\\right)} m\\left(r, {\\theta}\\right) + {\\left(-4.0 \\, r^{2} e^{\\left(2 \\, \\nu\\left(r\\right)\\right)} h\\left(r, {\\theta}\\right) - 16.0 \\, r^{2} e^{\\left(2 \\, \\nu\\left(r\\right)\\right)} k\\left(r, {\\theta}\\right) - 4.0 \\, r^{2} e^{\\left(2 \\, \\nu\\left(r\\right)\\right)} m\\left(r, {\\theta}\\right)\\right)} \\frac{\\partial\\,\\mathit{lamb}}{\\partial r}\\right)} \\frac{\\partial\\,\\nu}{\\partial r} + {\\left(8.0 \\, r^{2} e^{\\left(2 \\, \\nu\\left(r\\right)\\right)} h\\left(r, {\\theta}\\right) + 32.0 \\, r^{2} e^{\\left(2 \\, \\nu\\left(r\\right)\\right)} k\\left(r, {\\theta}\\right) + 8.0 \\, r^{2} e^{\\left(2 \\, \\nu\\left(r\\right)\\right)} m\\left(r, {\\theta}\\right)\\right)} \\frac{\\partial^2\\,\\nu}{\\partial r ^ 2}\\right)} \\sin\\left({\\theta}\\right)^{2} + 16 \\, e^{\\left({\\rm lamb}\\left(r\\right) + 2 \\, \\nu\\left(r\\right)\\right)} k\\left(r, {\\theta}\\right)\\right)} e^{\\left(-{\\rm lamb}\\left(r\\right) - 2 \\, \\nu\\left(r\\right)\\right)}}{4 \\, \\sin\\left({\\theta}\\right)^{2}} \\phantom{\\verb!x!}\\verb|=| 8 \\, \\pi {\\left(4 \\, r^{2} P\\left(r\\right) k\\left(r, {\\theta}\\right) + r^{2} P_{2}\\left(r\\right)\\right)}$$"
      ],
      "text/plain": [
       "-2*(1.0*r^2*e^(2*nu(r))*(d(nu)/dr)^2 + 2.0*r^2*e^(2*nu(r))*d^2(nu)/dr^2 - 2.0*r*e^(2*nu(r))*d(lamb)/dr + (-1.0*r^2*e^(2*nu(r))*d(lamb)/dr + 2.0*r*e^(2*nu(r)))*d(nu)/dr)*(e^(lamb(r) + 2*nu(r))*h(r, th) + 2*e^(lamb(r) + 2*nu(r))*k(r, th) + e^(lamb(r) + 2*nu(r))*m(r, th))*e^(-2*lamb(r) - 4*nu(r)) + 1/4*(8*r^2*cos(th)*e^(lamb(r) + nu(r))*omega(r, th)*sin(th)^3*d(omega)/dth + (4.0*r^3*e^nu(r)*omega(r, th)^2*d(lamb)/dr + 4.0*r^3*e^nu(r)*omega(r, th)^2*d(nu)/dr - 8.0*r^3*e^nu(r)*omega(r, th)*d(omega)/dr - (16*r^2*e^lamb(r) + 8.0*r^2)*e^nu(r)*omega(r, th)^2)*sin(th)^4 + (16*r^2*e^(lamb(r) + nu(r))*omega(r, th)^2 - 4.0*r^2*e^(2*nu(r))*d(h)/dr*d(nu)/dr - 4.0*r^2*e^(2*nu(r))*d(m)/dr*d(nu)/dr - 16.0*r*e^(2*nu(r))*d(k)/dr + (4.0*r^2*e^(2*nu(r))*h(r, th) + 16.0*r^2*e^(2*nu(r))*k(r, th) + 4.0*r^2*e^(2*nu(r))*m(r, th))*(d(nu)/dr)^2 - 32.0*e^(2*nu(r))*k(r, th) + (-16.0*r*e^(2*nu(r))*h(r, th) - 16.0*r*e^(2*nu(r))*k(r, th))*d(lamb)/dr + (8.0*r*e^(2*nu(r))*h(r, th) + 16.0*r*e^(2*nu(r))*k(r, th) + 8.0*r*e^(2*nu(r))*m(r, th) + (-4.0*r^2*e^(2*nu(r))*h(r, th) - 16.0*r^2*e^(2*nu(r))*k(r, th) - 4.0*r^2*e^(2*nu(r))*m(r, th))*d(lamb)/dr)*d(nu)/dr + (8.0*r^2*e^(2*nu(r))*h(r, th) + 32.0*r^2*e^(2*nu(r))*k(r, th) + 8.0*r^2*e^(2*nu(r))*m(r, th))*d^2(nu)/dr^2)*sin(th)^2 + 16*e^(lamb(r) + 2*nu(r))*k(r, th))*e^(-lamb(r) - 2*nu(r))/sin(th)^2 ' = ' 8*pi*(4*r^2*P(r)*k(r, th) + r^2*P2(r))"
      ]
     },
     "metadata": {},
     "output_type": "display_data"
    }
   ],
   "source": [
    "show(ddeins[2,2],\" = \", kappa*ddTdd[2,2])"
   ]
  },
  {
   "cell_type": "code",
   "execution_count": 37,
   "metadata": {
    "collapsed": true
   },
   "outputs": [
    {
     "data": {
      "text/html": [
       "<html>\\[\\newcommand{\\Bold}[1]{\\mathbf{#1}}-2 \\, {\\left(1.0 \\, r^{2} e^{\\left(2 \\, \\nu\\left(r\\right)\\right)} \\left(\\frac{\\partial\\,\\nu}{\\partial r}\\right)^{2} + 2.0 \\, r^{2} e^{\\left(2 \\, \\nu\\left(r\\right)\\right)} \\frac{\\partial^2\\,\\nu}{\\partial r ^ 2} - 2.0 \\, r e^{\\left(2 \\, \\nu\\left(r\\right)\\right)} \\frac{\\partial\\,\\mathit{lamb}}{\\partial r} + {\\left(-1.0 \\, r^{2} e^{\\left(2 \\, \\nu\\left(r\\right)\\right)} \\frac{\\partial\\,\\mathit{lamb}}{\\partial r} + 2.0 \\, r e^{\\left(2 \\, \\nu\\left(r\\right)\\right)}\\right)} \\frac{\\partial\\,\\nu}{\\partial r}\\right)} {\\left(e^{\\left({\\rm lamb}\\left(r\\right) + 2 \\, \\nu\\left(r\\right)\\right)} h\\left(r, {\\theta}\\right) + 2 \\, e^{\\left({\\rm lamb}\\left(r\\right) + 2 \\, \\nu\\left(r\\right)\\right)} k\\left(r, {\\theta}\\right) + e^{\\left({\\rm lamb}\\left(r\\right) + 2 \\, \\nu\\left(r\\right)\\right)} m\\left(r, {\\theta}\\right)\\right)} e^{\\left(-2 \\, {\\rm lamb}\\left(r\\right) - 4 \\, \\nu\\left(r\\right)\\right)} \\sin\\left({\\theta}\\right)^{2} - \\frac{1}{4} \\, {\\left(8 \\, r^{2} \\cos\\left({\\theta}\\right) e^{\\left({\\rm lamb}\\left(r\\right) + \\nu\\left(r\\right)\\right)} \\omega\\left(r, {\\theta}\\right) \\sin\\left({\\theta}\\right)^{3} \\frac{\\partial\\,\\omega}{\\partial {\\theta}} + {\\left(-4.0 \\, r^{3} e^{\\nu\\left(r\\right)} \\omega\\left(r, {\\theta}\\right)^{2} \\frac{\\partial\\,\\mathit{lamb}}{\\partial r} - 4.0 \\, r^{3} e^{\\nu\\left(r\\right)} \\omega\\left(r, {\\theta}\\right)^{2} \\frac{\\partial\\,\\nu}{\\partial r} + 8.0 \\, r^{3} e^{\\nu\\left(r\\right)} \\omega\\left(r, {\\theta}\\right) \\frac{\\partial\\,\\omega}{\\partial r} - {\\left(24 \\, r^{2} e^{\\left({\\rm lamb}\\left(r\\right)\\right)} - 24.0 \\, r^{2}\\right)} e^{\\nu\\left(r\\right)} \\omega\\left(r, {\\theta}\\right)^{2}\\right)} \\sin\\left({\\theta}\\right)^{4} + {\\left(16 \\, r^{2} e^{\\left({\\rm lamb}\\left(r\\right) + \\nu\\left(r\\right)\\right)} \\omega\\left(r, {\\theta}\\right)^{2} + 4.0 \\, r^{2} e^{\\left(2 \\, \\nu\\left(r\\right)\\right)} \\frac{\\partial\\,h}{\\partial r} \\frac{\\partial\\,\\nu}{\\partial r} + 4.0 \\, r^{2} e^{\\left(2 \\, \\nu\\left(r\\right)\\right)} \\frac{\\partial\\,m}{\\partial r} \\frac{\\partial\\,\\nu}{\\partial r} - {\\left(32 \\, e^{\\left({\\rm lamb}\\left(r\\right)\\right)} - 32.0\\right)} e^{\\left(2 \\, \\nu\\left(r\\right)\\right)} k\\left(r, {\\theta}\\right) + 16.0 \\, r e^{\\left(2 \\, \\nu\\left(r\\right)\\right)} \\frac{\\partial\\,k}{\\partial r} - {\\left(4.0 \\, r^{2} e^{\\left(2 \\, \\nu\\left(r\\right)\\right)} h\\left(r, {\\theta}\\right) + 16.0 \\, r^{2} e^{\\left(2 \\, \\nu\\left(r\\right)\\right)} k\\left(r, {\\theta}\\right) + 4.0 \\, r^{2} e^{\\left(2 \\, \\nu\\left(r\\right)\\right)} m\\left(r, {\\theta}\\right)\\right)} \\left(\\frac{\\partial\\,\\nu}{\\partial r}\\right)^{2} - {\\left(-16.0 \\, r e^{\\left(2 \\, \\nu\\left(r\\right)\\right)} h\\left(r, {\\theta}\\right) - 16.0 \\, r e^{\\left(2 \\, \\nu\\left(r\\right)\\right)} k\\left(r, {\\theta}\\right)\\right)} \\frac{\\partial\\,\\mathit{lamb}}{\\partial r} - {\\left(8.0 \\, r e^{\\left(2 \\, \\nu\\left(r\\right)\\right)} h\\left(r, {\\theta}\\right) + 16.0 \\, r e^{\\left(2 \\, \\nu\\left(r\\right)\\right)} k\\left(r, {\\theta}\\right) + 8.0 \\, r e^{\\left(2 \\, \\nu\\left(r\\right)\\right)} m\\left(r, {\\theta}\\right) + {\\left(-4.0 \\, r^{2} e^{\\left(2 \\, \\nu\\left(r\\right)\\right)} h\\left(r, {\\theta}\\right) - 16.0 \\, r^{2} e^{\\left(2 \\, \\nu\\left(r\\right)\\right)} k\\left(r, {\\theta}\\right) - 4.0 \\, r^{2} e^{\\left(2 \\, \\nu\\left(r\\right)\\right)} m\\left(r, {\\theta}\\right)\\right)} \\frac{\\partial\\,\\mathit{lamb}}{\\partial r}\\right)} \\frac{\\partial\\,\\nu}{\\partial r} - {\\left(8.0 \\, r^{2} e^{\\left(2 \\, \\nu\\left(r\\right)\\right)} h\\left(r, {\\theta}\\right) + 32.0 \\, r^{2} e^{\\left(2 \\, \\nu\\left(r\\right)\\right)} k\\left(r, {\\theta}\\right) + 8.0 \\, r^{2} e^{\\left(2 \\, \\nu\\left(r\\right)\\right)} m\\left(r, {\\theta}\\right)\\right)} \\frac{\\partial^2\\,\\nu}{\\partial r ^ 2}\\right)} \\sin\\left({\\theta}\\right)^{2} + 16 \\, e^{\\left({\\rm lamb}\\left(r\\right) + 2 \\, \\nu\\left(r\\right)\\right)} k\\left(r, {\\theta}\\right)\\right)} e^{\\left(-{\\rm lamb}\\left(r\\right) - 2 \\, \\nu\\left(r\\right)\\right)} \\phantom{\\verb!x!}\\verb|=| 8 \\, \\pi {\\left(2 \\, {\\left(r^{4} E\\left(r\\right) \\Omega_{1}\\left(\\mathit{eps}\\right)^{2} e^{\\left(-\\nu\\left(r\\right)\\right)} + r^{4} \\Omega_{1}\\left(\\mathit{eps}\\right)^{2} P\\left(r\\right) e^{\\left(-\\nu\\left(r\\right)\\right)} + {\\left(r^{4} E\\left(r\\right) e^{\\left(-\\nu\\left(r\\right)\\right)} + r^{4} P\\left(r\\right) e^{\\left(-\\nu\\left(r\\right)\\right)}\\right)} \\omega\\left(r, {\\theta}\\right)^{2} + 2 \\, {\\left(r^{4} E\\left(r\\right) \\Omega_{1}\\left(\\mathit{eps}\\right) e^{\\left(-\\nu\\left(r\\right)\\right)} + r^{4} \\Omega_{1}\\left(\\mathit{eps}\\right) P\\left(r\\right) e^{\\left(-\\nu\\left(r\\right)\\right)}\\right)} \\omega\\left(r, {\\theta}\\right)\\right)} \\sin\\left({\\theta}\\right)^{4} + {\\left(4 \\, r^{2} P\\left(r\\right) k\\left(r, {\\theta}\\right) + r^{2} P_{2}\\left(r\\right)\\right)} \\sin\\left({\\theta}\\right)^{2}\\right)}\\]</html>"
      ],
      "text/latex": [
       "$$\\newcommand{\\Bold}[1]{\\mathbf{#1}}-2 \\, {\\left(1.0 \\, r^{2} e^{\\left(2 \\, \\nu\\left(r\\right)\\right)} \\left(\\frac{\\partial\\,\\nu}{\\partial r}\\right)^{2} + 2.0 \\, r^{2} e^{\\left(2 \\, \\nu\\left(r\\right)\\right)} \\frac{\\partial^2\\,\\nu}{\\partial r ^ 2} - 2.0 \\, r e^{\\left(2 \\, \\nu\\left(r\\right)\\right)} \\frac{\\partial\\,\\mathit{lamb}}{\\partial r} + {\\left(-1.0 \\, r^{2} e^{\\left(2 \\, \\nu\\left(r\\right)\\right)} \\frac{\\partial\\,\\mathit{lamb}}{\\partial r} + 2.0 \\, r e^{\\left(2 \\, \\nu\\left(r\\right)\\right)}\\right)} \\frac{\\partial\\,\\nu}{\\partial r}\\right)} {\\left(e^{\\left({\\rm lamb}\\left(r\\right) + 2 \\, \\nu\\left(r\\right)\\right)} h\\left(r, {\\theta}\\right) + 2 \\, e^{\\left({\\rm lamb}\\left(r\\right) + 2 \\, \\nu\\left(r\\right)\\right)} k\\left(r, {\\theta}\\right) + e^{\\left({\\rm lamb}\\left(r\\right) + 2 \\, \\nu\\left(r\\right)\\right)} m\\left(r, {\\theta}\\right)\\right)} e^{\\left(-2 \\, {\\rm lamb}\\left(r\\right) - 4 \\, \\nu\\left(r\\right)\\right)} \\sin\\left({\\theta}\\right)^{2} - \\frac{1}{4} \\, {\\left(8 \\, r^{2} \\cos\\left({\\theta}\\right) e^{\\left({\\rm lamb}\\left(r\\right) + \\nu\\left(r\\right)\\right)} \\omega\\left(r, {\\theta}\\right) \\sin\\left({\\theta}\\right)^{3} \\frac{\\partial\\,\\omega}{\\partial {\\theta}} + {\\left(-4.0 \\, r^{3} e^{\\nu\\left(r\\right)} \\omega\\left(r, {\\theta}\\right)^{2} \\frac{\\partial\\,\\mathit{lamb}}{\\partial r} - 4.0 \\, r^{3} e^{\\nu\\left(r\\right)} \\omega\\left(r, {\\theta}\\right)^{2} \\frac{\\partial\\,\\nu}{\\partial r} + 8.0 \\, r^{3} e^{\\nu\\left(r\\right)} \\omega\\left(r, {\\theta}\\right) \\frac{\\partial\\,\\omega}{\\partial r} - {\\left(24 \\, r^{2} e^{\\left({\\rm lamb}\\left(r\\right)\\right)} - 24.0 \\, r^{2}\\right)} e^{\\nu\\left(r\\right)} \\omega\\left(r, {\\theta}\\right)^{2}\\right)} \\sin\\left({\\theta}\\right)^{4} + {\\left(16 \\, r^{2} e^{\\left({\\rm lamb}\\left(r\\right) + \\nu\\left(r\\right)\\right)} \\omega\\left(r, {\\theta}\\right)^{2} + 4.0 \\, r^{2} e^{\\left(2 \\, \\nu\\left(r\\right)\\right)} \\frac{\\partial\\,h}{\\partial r} \\frac{\\partial\\,\\nu}{\\partial r} + 4.0 \\, r^{2} e^{\\left(2 \\, \\nu\\left(r\\right)\\right)} \\frac{\\partial\\,m}{\\partial r} \\frac{\\partial\\,\\nu}{\\partial r} - {\\left(32 \\, e^{\\left({\\rm lamb}\\left(r\\right)\\right)} - 32.0\\right)} e^{\\left(2 \\, \\nu\\left(r\\right)\\right)} k\\left(r, {\\theta}\\right) + 16.0 \\, r e^{\\left(2 \\, \\nu\\left(r\\right)\\right)} \\frac{\\partial\\,k}{\\partial r} - {\\left(4.0 \\, r^{2} e^{\\left(2 \\, \\nu\\left(r\\right)\\right)} h\\left(r, {\\theta}\\right) + 16.0 \\, r^{2} e^{\\left(2 \\, \\nu\\left(r\\right)\\right)} k\\left(r, {\\theta}\\right) + 4.0 \\, r^{2} e^{\\left(2 \\, \\nu\\left(r\\right)\\right)} m\\left(r, {\\theta}\\right)\\right)} \\left(\\frac{\\partial\\,\\nu}{\\partial r}\\right)^{2} - {\\left(-16.0 \\, r e^{\\left(2 \\, \\nu\\left(r\\right)\\right)} h\\left(r, {\\theta}\\right) - 16.0 \\, r e^{\\left(2 \\, \\nu\\left(r\\right)\\right)} k\\left(r, {\\theta}\\right)\\right)} \\frac{\\partial\\,\\mathit{lamb}}{\\partial r} - {\\left(8.0 \\, r e^{\\left(2 \\, \\nu\\left(r\\right)\\right)} h\\left(r, {\\theta}\\right) + 16.0 \\, r e^{\\left(2 \\, \\nu\\left(r\\right)\\right)} k\\left(r, {\\theta}\\right) + 8.0 \\, r e^{\\left(2 \\, \\nu\\left(r\\right)\\right)} m\\left(r, {\\theta}\\right) + {\\left(-4.0 \\, r^{2} e^{\\left(2 \\, \\nu\\left(r\\right)\\right)} h\\left(r, {\\theta}\\right) - 16.0 \\, r^{2} e^{\\left(2 \\, \\nu\\left(r\\right)\\right)} k\\left(r, {\\theta}\\right) - 4.0 \\, r^{2} e^{\\left(2 \\, \\nu\\left(r\\right)\\right)} m\\left(r, {\\theta}\\right)\\right)} \\frac{\\partial\\,\\mathit{lamb}}{\\partial r}\\right)} \\frac{\\partial\\,\\nu}{\\partial r} - {\\left(8.0 \\, r^{2} e^{\\left(2 \\, \\nu\\left(r\\right)\\right)} h\\left(r, {\\theta}\\right) + 32.0 \\, r^{2} e^{\\left(2 \\, \\nu\\left(r\\right)\\right)} k\\left(r, {\\theta}\\right) + 8.0 \\, r^{2} e^{\\left(2 \\, \\nu\\left(r\\right)\\right)} m\\left(r, {\\theta}\\right)\\right)} \\frac{\\partial^2\\,\\nu}{\\partial r ^ 2}\\right)} \\sin\\left({\\theta}\\right)^{2} + 16 \\, e^{\\left({\\rm lamb}\\left(r\\right) + 2 \\, \\nu\\left(r\\right)\\right)} k\\left(r, {\\theta}\\right)\\right)} e^{\\left(-{\\rm lamb}\\left(r\\right) - 2 \\, \\nu\\left(r\\right)\\right)} \\phantom{\\verb!x!}\\verb|=| 8 \\, \\pi {\\left(2 \\, {\\left(r^{4} E\\left(r\\right) \\Omega_{1}\\left(\\mathit{eps}\\right)^{2} e^{\\left(-\\nu\\left(r\\right)\\right)} + r^{4} \\Omega_{1}\\left(\\mathit{eps}\\right)^{2} P\\left(r\\right) e^{\\left(-\\nu\\left(r\\right)\\right)} + {\\left(r^{4} E\\left(r\\right) e^{\\left(-\\nu\\left(r\\right)\\right)} + r^{4} P\\left(r\\right) e^{\\left(-\\nu\\left(r\\right)\\right)}\\right)} \\omega\\left(r, {\\theta}\\right)^{2} + 2 \\, {\\left(r^{4} E\\left(r\\right) \\Omega_{1}\\left(\\mathit{eps}\\right) e^{\\left(-\\nu\\left(r\\right)\\right)} + r^{4} \\Omega_{1}\\left(\\mathit{eps}\\right) P\\left(r\\right) e^{\\left(-\\nu\\left(r\\right)\\right)}\\right)} \\omega\\left(r, {\\theta}\\right)\\right)} \\sin\\left({\\theta}\\right)^{4} + {\\left(4 \\, r^{2} P\\left(r\\right) k\\left(r, {\\theta}\\right) + r^{2} P_{2}\\left(r\\right)\\right)} \\sin\\left({\\theta}\\right)^{2}\\right)}$$"
      ],
      "text/plain": [
       "-2*(1.0*r^2*e^(2*nu(r))*(d(nu)/dr)^2 + 2.0*r^2*e^(2*nu(r))*d^2(nu)/dr^2 - 2.0*r*e^(2*nu(r))*d(lamb)/dr + (-1.0*r^2*e^(2*nu(r))*d(lamb)/dr + 2.0*r*e^(2*nu(r)))*d(nu)/dr)*(e^(lamb(r) + 2*nu(r))*h(r, th) + 2*e^(lamb(r) + 2*nu(r))*k(r, th) + e^(lamb(r) + 2*nu(r))*m(r, th))*e^(-2*lamb(r) - 4*nu(r))*sin(th)^2 - 1/4*(8*r^2*cos(th)*e^(lamb(r) + nu(r))*omega(r, th)*sin(th)^3*d(omega)/dth + (-4.0*r^3*e^nu(r)*omega(r, th)^2*d(lamb)/dr - 4.0*r^3*e^nu(r)*omega(r, th)^2*d(nu)/dr + 8.0*r^3*e^nu(r)*omega(r, th)*d(omega)/dr - (24*r^2*e^lamb(r) - 24.0*r^2)*e^nu(r)*omega(r, th)^2)*sin(th)^4 + (16*r^2*e^(lamb(r) + nu(r))*omega(r, th)^2 + 4.0*r^2*e^(2*nu(r))*d(h)/dr*d(nu)/dr + 4.0*r^2*e^(2*nu(r))*d(m)/dr*d(nu)/dr - (32*e^lamb(r) - 32.0)*e^(2*nu(r))*k(r, th) + 16.0*r*e^(2*nu(r))*d(k)/dr - (4.0*r^2*e^(2*nu(r))*h(r, th) + 16.0*r^2*e^(2*nu(r))*k(r, th) + 4.0*r^2*e^(2*nu(r))*m(r, th))*(d(nu)/dr)^2 - (-16.0*r*e^(2*nu(r))*h(r, th) - 16.0*r*e^(2*nu(r))*k(r, th))*d(lamb)/dr - (8.0*r*e^(2*nu(r))*h(r, th) + 16.0*r*e^(2*nu(r))*k(r, th) + 8.0*r*e^(2*nu(r))*m(r, th) + (-4.0*r^2*e^(2*nu(r))*h(r, th) - 16.0*r^2*e^(2*nu(r))*k(r, th) - 4.0*r^2*e^(2*nu(r))*m(r, th))*d(lamb)/dr)*d(nu)/dr - (8.0*r^2*e^(2*nu(r))*h(r, th) + 32.0*r^2*e^(2*nu(r))*k(r, th) + 8.0*r^2*e^(2*nu(r))*m(r, th))*d^2(nu)/dr^2)*sin(th)^2 + 16*e^(lamb(r) + 2*nu(r))*k(r, th))*e^(-lamb(r) - 2*nu(r)) ' = ' 8*pi*(2*(r^4*E(r)*Omega1(eps)^2*e^(-nu(r)) + r^4*Omega1(eps)^2*P(r)*e^(-nu(r)) + (r^4*E(r)*e^(-nu(r)) + r^4*P(r)*e^(-nu(r)))*omega(r, th)^2 + 2*(r^4*E(r)*Omega1(eps)*e^(-nu(r)) + r^4*Omega1(eps)*P(r)*e^(-nu(r)))*omega(r, th))*sin(th)^4 + (4*r^2*P(r)*k(r, th) + r^2*P2(r))*sin(th)^2)"
      ]
     },
     "metadata": {},
     "output_type": "display_data"
    }
   ],
   "source": [
    "show(ddeins[3,3],\" = \", kappa*ddTdd[3,3])"
   ]
  },
  {
   "cell_type": "code",
   "execution_count": 38,
   "metadata": {
    "collapsed": true
   },
   "outputs": [
    {
     "data": {
      "text/html": [
       "<html>\\[\\newcommand{\\Bold}[1]{\\mathbf{#1}}0 \\phantom{\\verb!x!}\\verb|=| -8 \\, \\pi {\\left(4 \\, r^{2} E\\left(r\\right) \\Omega_{1}\\left(\\mathit{eps}\\right) e^{\\left(\\frac{1}{2} \\, \\nu\\left(r\\right)\\right)} u_{10}\\left(r\\right) + 4 \\, r^{2} \\Omega_{1}\\left(\\mathit{eps}\\right) P\\left(r\\right) e^{\\left(\\frac{1}{2} \\, \\nu\\left(r\\right)\\right)} u_{10}\\left(r\\right) + 2 \\, r^{2} E_{1}\\left(r\\right) \\Omega_{1}\\left(\\mathit{eps}\\right) + r^{2} E\\left(r\\right) \\Omega_{2}\\left(\\mathit{eps}\\right) + r^{2} \\Omega_{2}\\left(\\mathit{eps}\\right) P\\left(r\\right) + 2 \\, r^{2} \\Omega_{1}\\left(\\mathit{eps}\\right) P_{1}\\left(r\\right) + 2 \\, {\\left(2 \\, r^{2} E\\left(r\\right) e^{\\left(\\frac{1}{2} \\, \\nu\\left(r\\right)\\right)} u_{10}\\left(r\\right) + 2 \\, r^{2} P\\left(r\\right) e^{\\left(\\frac{1}{2} \\, \\nu\\left(r\\right)\\right)} u_{10}\\left(r\\right) + r^{2} E_{1}\\left(r\\right)\\right)} \\omega\\left(r, {\\theta}\\right)\\right)} \\sin\\left({\\theta}\\right)^{2}\\]</html>"
      ],
      "text/latex": [
       "$$\\newcommand{\\Bold}[1]{\\mathbf{#1}}0 \\phantom{\\verb!x!}\\verb|=| -8 \\, \\pi {\\left(4 \\, r^{2} E\\left(r\\right) \\Omega_{1}\\left(\\mathit{eps}\\right) e^{\\left(\\frac{1}{2} \\, \\nu\\left(r\\right)\\right)} u_{10}\\left(r\\right) + 4 \\, r^{2} \\Omega_{1}\\left(\\mathit{eps}\\right) P\\left(r\\right) e^{\\left(\\frac{1}{2} \\, \\nu\\left(r\\right)\\right)} u_{10}\\left(r\\right) + 2 \\, r^{2} E_{1}\\left(r\\right) \\Omega_{1}\\left(\\mathit{eps}\\right) + r^{2} E\\left(r\\right) \\Omega_{2}\\left(\\mathit{eps}\\right) + r^{2} \\Omega_{2}\\left(\\mathit{eps}\\right) P\\left(r\\right) + 2 \\, r^{2} \\Omega_{1}\\left(\\mathit{eps}\\right) P_{1}\\left(r\\right) + 2 \\, {\\left(2 \\, r^{2} E\\left(r\\right) e^{\\left(\\frac{1}{2} \\, \\nu\\left(r\\right)\\right)} u_{10}\\left(r\\right) + 2 \\, r^{2} P\\left(r\\right) e^{\\left(\\frac{1}{2} \\, \\nu\\left(r\\right)\\right)} u_{10}\\left(r\\right) + r^{2} E_{1}\\left(r\\right)\\right)} \\omega\\left(r, {\\theta}\\right)\\right)} \\sin\\left({\\theta}\\right)^{2}$$"
      ],
      "text/plain": [
       "0 ' = ' -8*pi*(4*r^2*E(r)*Omega1(eps)*e^(1/2*nu(r))*u10(r) + 4*r^2*Omega1(eps)*P(r)*e^(1/2*nu(r))*u10(r) + 2*r^2*E1(r)*Omega1(eps) + r^2*E(r)*Omega2(eps) + r^2*Omega2(eps)*P(r) + 2*r^2*Omega1(eps)*P1(r) + 2*(2*r^2*E(r)*e^(1/2*nu(r))*u10(r) + 2*r^2*P(r)*e^(1/2*nu(r))*u10(r) + r^2*E1(r))*omega(r, th))*sin(th)^2"
      ]
     },
     "metadata": {},
     "output_type": "display_data"
    }
   ],
   "source": [
    "show(ddeins[0,3],\" = \", kappa*ddTdd[0,3])"
   ]
  },
  {
   "cell_type": "code",
   "execution_count": 39,
   "metadata": {
    "collapsed": true
   },
   "outputs": [
    {
     "data": {
      "text/html": [
       "<html>\\[\\newcommand{\\Bold}[1]{\\mathbf{#1}}\\frac{{\\left(4.0 \\, r^{2} e^{\\nu\\left(r\\right)} \\omega\\left(r, {\\theta}\\right) \\sin\\left({\\theta}\\right)^{2} \\frac{\\partial\\,\\omega}{\\partial {\\theta}} + 2.0 \\, r e^{\\left(2 \\, \\nu\\left(r\\right)\\right)} \\frac{\\partial\\,\\mathit{lamb}}{\\partial r} \\frac{\\partial\\,m}{\\partial {\\theta}} + 2.0 \\, r e^{\\left(2 \\, \\nu\\left(r\\right)\\right)} \\frac{\\partial\\,h}{\\partial {\\theta}} \\frac{\\partial\\,\\nu}{\\partial r} + {\\left(1.0 \\, r^{3} e^{\\nu\\left(r\\right)} \\omega\\left(r, {\\theta}\\right)^{2} \\frac{\\partial\\,\\nu}{\\partial r} + 6.0 \\, r^{2} e^{\\nu\\left(r\\right)} \\omega\\left(r, {\\theta}\\right)^{2}\\right)} \\cos\\left({\\theta}\\right) \\sin\\left({\\theta}\\right) + 4.0 \\, e^{\\left(2 \\, \\nu\\left(r\\right)\\right)} \\frac{\\partial\\,k}{\\partial {\\theta}}\\right)} e^{\\left(-2 \\, \\nu\\left(r\\right)\\right)}}{r} \\phantom{\\verb!x!}\\verb|=| 0\\]</html>"
      ],
      "text/latex": [
       "$$\\newcommand{\\Bold}[1]{\\mathbf{#1}}\\frac{{\\left(4.0 \\, r^{2} e^{\\nu\\left(r\\right)} \\omega\\left(r, {\\theta}\\right) \\sin\\left({\\theta}\\right)^{2} \\frac{\\partial\\,\\omega}{\\partial {\\theta}} + 2.0 \\, r e^{\\left(2 \\, \\nu\\left(r\\right)\\right)} \\frac{\\partial\\,\\mathit{lamb}}{\\partial r} \\frac{\\partial\\,m}{\\partial {\\theta}} + 2.0 \\, r e^{\\left(2 \\, \\nu\\left(r\\right)\\right)} \\frac{\\partial\\,h}{\\partial {\\theta}} \\frac{\\partial\\,\\nu}{\\partial r} + {\\left(1.0 \\, r^{3} e^{\\nu\\left(r\\right)} \\omega\\left(r, {\\theta}\\right)^{2} \\frac{\\partial\\,\\nu}{\\partial r} + 6.0 \\, r^{2} e^{\\nu\\left(r\\right)} \\omega\\left(r, {\\theta}\\right)^{2}\\right)} \\cos\\left({\\theta}\\right) \\sin\\left({\\theta}\\right) + 4.0 \\, e^{\\left(2 \\, \\nu\\left(r\\right)\\right)} \\frac{\\partial\\,k}{\\partial {\\theta}}\\right)} e^{\\left(-2 \\, \\nu\\left(r\\right)\\right)}}{r} \\phantom{\\verb!x!}\\verb|=| 0$$"
      ],
      "text/plain": [
       "(4.0*r^2*e^nu(r)*omega(r, th)*sin(th)^2*d(omega)/dth + 2.0*r*e^(2*nu(r))*d(lamb)/dr*d(m)/dth + 2.0*r*e^(2*nu(r))*d(h)/dth*d(nu)/dr + (1.0*r^3*e^nu(r)*omega(r, th)^2*d(nu)/dr + 6.0*r^2*e^nu(r)*omega(r, th)^2)*cos(th)*sin(th) + 4.0*e^(2*nu(r))*d(k)/dth)*e^(-2*nu(r))/r ' = ' 0"
      ]
     },
     "metadata": {},
     "output_type": "display_data"
    }
   ],
   "source": [
    "show(ddeins[1,2],\" = \", kappa*ddTdd[1,2])"
   ]
  },
  {
   "cell_type": "code",
   "execution_count": 40,
   "metadata": {},
   "outputs": [
    {
     "data": {
      "text/plain": [
       "-P2(r)*diff(E(r), r) + E2(r)*diff(P(r), r) == 0"
      ]
     },
     "execution_count": 40,
     "metadata": {},
     "output_type": "execute_result"
    }
   ],
   "source": [
    "# Aplicamos barotropic EoS\n",
    "# Utilizando (6.11) de Reina con P1=0 y E1=0\n",
    "E2*diff(P,r) - P2*diff(E,r) == 0"
   ]
  },
  {
   "cell_type": "code",
   "execution_count": 41,
   "metadata": {},
   "outputs": [
    {
     "data": {
      "text/plain": [
       "1/2*(3*cos(th)^2 - 1)*h2(r, th) + h0(r, th)"
      ]
     },
     "execution_count": 41,
     "metadata": {},
     "output_type": "execute_result"
    }
   ],
   "source": [
    "h"
   ]
  },
  {
   "cell_type": "code",
   "execution_count": 42,
   "metadata": {},
   "outputs": [
    {
     "data": {
      "text/plain": [
       "-2*(r^2*e^(lamb(r) + 2*nu(r))*h(r, th) + 2*r^2*e^(lamb(r) + 2*nu(r))*k(r, th) + r^2*e^(lamb(r) + 2*nu(r))*m(r, th))*(4.0*r*e^(3*nu(r))*d(lamb)/dr + 4*(e^lamb(r) - 1)*e^(3*nu(r)))*e^(-2*lamb(r) - 4*nu(r))/r^4 + 1/4*(8*r^2*cos(th)*e^(lamb(r) + 2*nu(r))*omega(r, th)*sin(th)^2*d(omega)/dth - (4.0*r^3*e^(2*nu(r))*omega(r, th)^2*d(lamb)/dr + 8.0*r^3*e^(2*nu(r))*omega(r, th)^2*d(nu)/dr - 8.0*r^3*e^(2*nu(r))*omega(r, th)*d(omega)/dr + (16*r^2*e^lamb(r) - 16.0*r^2)*e^(2*nu(r))*omega(r, th)^2)*sin(th)^3 + 16*cos(th)*e^(lamb(r) + 3*nu(r))*d(k)/dth + (8.0*r^2*e^(3*nu(r))*h(r, th)*d(nu)/dr^2 + 8*r^2*e^(lamb(r) + 2*nu(r))*omega(r, th)^2 + 4.0*r^2*e^(3*nu(r))*d(h)/dr*d(nu)/dr + 8.0*r^2*e^(3*nu(r))*h(r, th)*d^2(nu)/dr^2 + 32*(e^lamb(r) - 1)*e^(3*nu(r))*h(r, th) + (32*e^lamb(r) - 32.0)*e^(3*nu(r))*k(r, th) + 16*(2*e^lamb(r) - 1)*e^(3*nu(r))*m(r, th) + 16.0*r*e^(3*nu(r))*d(k)/dr - (-32.0*r*e^(3*nu(r))*h(r, th) - 48.0*r*e^(3*nu(r))*k(r, th) - 16.0*r*e^(3*nu(r))*m(r, th))*d(lamb)/dr - (4.0*r^2*e^(3*nu(r))*d(nu)/dr - 16.0*r*e^(3*nu(r)))*d(m)/dr - (-16.0*r*e^(3*nu(r))*h(r, th) + (4.0*r^2*e^(3*nu(r))*h(r, th) + 4.0*r^2*e^(3*nu(r))*m(r, th))*d(lamb)/dr)*d(nu)/dr)*sin(th))*e^(-lamb(r) - 2*nu(r))/(r^2*sin(th))"
      ]
     },
     "execution_count": 42,
     "metadata": {},
     "output_type": "execute_result"
    }
   ],
   "source": [
    "ddeins[0,0]"
   ]
  },
  {
   "cell_type": "code",
   "execution_count": 48,
   "metadata": {},
   "outputs": [],
   "source": [
    "h0 = function('h0')(r,th)\n",
    "k0 = function('k0')(r,th)\n",
    "m0 = function('m0')(r,th)\n",
    "\n",
    "h2 = function('h2')(r,th)\n",
    "k2 = function('k2')(r,th)\n",
    "m2 = function('m2')(r,th)\n",
    "\n",
    "m = m0 + m2*(3*cos(th)^2-1)/2\n",
    "k = k0 + k2*(3*cos(th)^2-1)/2\n",
    "h = h0 + h2*(3*cos(th)^2-1)/2"
   ]
  },
  {
   "cell_type": "code",
   "execution_count": 54,
   "metadata": {},
   "outputs": [],
   "source": [
    "ddeins.apply_map(lambda cmp: cmp.subs(h==h0+h2*(3*cos(th)^2-1)/2))\n",
    "ddeins.apply_map(lambda cmp: cmp.subs(k==k0+k2*(3*cos(th)^2-1)/2))\n",
    "ddeins.apply_map(lambda cmp: cmp.subs(m==m0+m2*(3*cos(th)^2-1)/2))"
   ]
  },
  {
   "cell_type": "code",
   "execution_count": 57,
   "metadata": {},
   "outputs": [
    {
     "data": {
      "text/plain": [
       "-2*(r^2*e^(lamb(r) + 2*nu(r))*h(r, th) + 2*r^2*e^(lamb(r) + 2*nu(r))*k(r, th) + r^2*e^(lamb(r) + 2*nu(r))*m(r, th))*(4.0*r*e^(3*nu(r))*d(lamb)/dr + 4*(e^lamb(r) - 1)*e^(3*nu(r)))*e^(-2*lamb(r) - 4*nu(r))/r^4 + 1/4*(8*r^2*cos(th)*e^(lamb(r) + 2*nu(r))*omega(r, th)*sin(th)^2*d(omega)/dth - (4.0*r^3*e^(2*nu(r))*omega(r, th)^2*d(lamb)/dr + 8.0*r^3*e^(2*nu(r))*omega(r, th)^2*d(nu)/dr - 8.0*r^3*e^(2*nu(r))*omega(r, th)*d(omega)/dr + (16*r^2*e^lamb(r) - 16.0*r^2)*e^(2*nu(r))*omega(r, th)^2)*sin(th)^3 + 16*cos(th)*e^(lamb(r) + 3*nu(r))*d(k)/dth + (8.0*r^2*e^(3*nu(r))*h(r, th)*d(nu)/dr^2 + 8*r^2*e^(lamb(r) + 2*nu(r))*omega(r, th)^2 + 4.0*r^2*e^(3*nu(r))*d(h)/dr*d(nu)/dr + 8.0*r^2*e^(3*nu(r))*h(r, th)*d^2(nu)/dr^2 + 32*(e^lamb(r) - 1)*e^(3*nu(r))*h(r, th) + (32*e^lamb(r) - 32.0)*e^(3*nu(r))*k(r, th) + 16*(2*e^lamb(r) - 1)*e^(3*nu(r))*m(r, th) + 16.0*r*e^(3*nu(r))*d(k)/dr - (-32.0*r*e^(3*nu(r))*h(r, th) - 48.0*r*e^(3*nu(r))*k(r, th) - 16.0*r*e^(3*nu(r))*m(r, th))*d(lamb)/dr - (4.0*r^2*e^(3*nu(r))*d(nu)/dr - 16.0*r*e^(3*nu(r)))*d(m)/dr - (-16.0*r*e^(3*nu(r))*h(r, th) + (4.0*r^2*e^(3*nu(r))*h(r, th) + 4.0*r^2*e^(3*nu(r))*m(r, th))*d(lamb)/dr)*d(nu)/dr)*sin(th))*e^(-lamb(r) - 2*nu(r))/(r^2*sin(th))"
      ]
     },
     "execution_count": 57,
     "metadata": {},
     "output_type": "execute_result"
    }
   ],
   "source": [
    "ddeins[0,0]"
   ]
  },
  {
   "cell_type": "code",
   "execution_count": null,
   "metadata": {},
   "outputs": [],
   "source": []
  },
  {
   "cell_type": "code",
   "execution_count": null,
   "metadata": {},
   "outputs": [],
   "source": []
  }
 ],
 "metadata": {
  "kernelspec": {
   "display_name": "SageMath 9.4",
   "language": "sage",
   "name": "sagemath-9.4"
  },
  "language_info": {
   "codemirror_mode": {
    "name": "ipython",
    "version": 3
   },
   "file_extension": ".py",
   "mimetype": "text/x-python",
   "name": "python",
   "nbconvert_exporter": "python",
   "pygments_lexer": "ipython3",
   "version": "3.9.5"
  }
 },
 "nbformat": 4,
 "nbformat_minor": 4
}
