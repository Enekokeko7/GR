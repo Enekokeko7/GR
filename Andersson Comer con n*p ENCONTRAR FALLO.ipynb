{
 "cells": [
  {
   "cell_type": "code",
   "execution_count": 1,
   "metadata": {},
   "outputs": [],
   "source": [
    "import os\n",
    "from sage.manifolds.utilities import ExpressionNice as EN"
   ]
  },
  {
   "cell_type": "code",
   "execution_count": 2,
   "metadata": {},
   "outputs": [],
   "source": [
    "def formal_diff(f, x):\n",
    "    if f!=0:\n",
    "        tempX = SR.temp_var()\n",
    "        return f.subs({x: tempX}).diff(tempX).subs({tempX: x})\n",
    "    if f==0:\n",
    "        return 0"
   ]
  },
  {
   "cell_type": "code",
   "execution_count": 3,
   "metadata": {},
   "outputs": [],
   "source": [
    "#Definimos variables y funciones\n",
    "var('eps', latex_name = '\\\\varepsilon')\n",
    "var('t')\n",
    "var('r')\n",
    "var('th', latex_name = '\\\\theta')\n",
    "var('ph', latex_name = '\\\\varphi')\n",
    "coords = (t,r,th,ph)\n",
    "\n",
    "h = function('h')(r,th)\n",
    "k = function('k')(r,th)\n",
    "v = function('v')(r,th)\n",
    "omega = function('omega', latex_name='\\\\omega')(r)\n",
    "\n",
    "nu = function('nu', latex_name='\\\\nu')(r)\n",
    "lamb = function('lamb', latex_name='\\\\lambda')(r)\n",
    "\n",
    "Ne = e^(nu/2)*(1+1/2*eps^2*h)\n",
    "Ve = e^(lamb)*(1+eps^2*v)\n",
    "Ke = r^2*(1+eps^2*k)\n",
    "Nphie = eps*omega"
   ]
  },
  {
   "cell_type": "markdown",
   "metadata": {},
   "source": [
    "# <center> Tensor de Einstein </center>"
   ]
  },
  {
   "cell_type": "code",
   "execution_count": 4,
   "metadata": {},
   "outputs": [],
   "source": [
    "gdd = matrix(SR, 4, 4)\n",
    "\n",
    "gdd[0,0] = -exp(nu)\n",
    "gdd[1,1] = exp(lamb)\n",
    "gdd[2,2] = r^2\n",
    "gdd[3,3] = r^2*sin(th)^2\n",
    "\n",
    "guu = 1/gdd\n",
    "\n",
    "K1 = matrix(SR, 4, 4)\n",
    "K1[0,3] = -omega*r^2*sin(th)^2\n",
    "K1[3,0] = -omega*r^2*sin(th)^2\n",
    "\n",
    "K2 = matrix(SR, 4, 4)\n",
    "K2[0,0] = -4*exp(nu)*h + 2*r^2*sin(th)^2*omega^2\n",
    "K2[1,1] = 4*exp(lamb)*v\n",
    "K2[2,2] = 4*k*r^2\n",
    "K2[3,3] = 4*k*r^2*sin(th)^2\n",
    "\n",
    "gedd = matrix(SR, 4, 4)\n",
    "for ii in range(4):\n",
    "    for jj in range(4):\n",
    "        gedd[ii,jj] = gdd[ii,jj] + eps*K1[ii,jj] + 1/2*eps^2*K2[ii,jj]\n",
    "        \n",
    "geuu = 1/gedd\n",
    "#geuu = geuu0.subs(eps==0) + eps*geuu0"
   ]
  },
  {
   "cell_type": "markdown",
   "metadata": {},
   "source": [
    "# <center> Tensor de energía-momento </center>"
   ]
  },
  {
   "cell_type": "markdown",
   "metadata": {},
   "source": [
    "## <center> Campo $u$ de los neutrones </center>"
   ]
  },
  {
   "cell_type": "code",
   "execution_count": 5,
   "metadata": {},
   "outputs": [],
   "source": [
    "Omegane = function('Omegane', latex_name='\\\\Omega_{n\\\\varepsilon}')(eps)\n",
    "\n",
    "Nne_paper = 1/sqrt(Ne^2-sin(th)^2*Ke*(Nphie-eps*Omegane)^2)\n",
    "ueu = [Nne_paper,0,0,eps*Nne_paper*Omegane]\n",
    "\n",
    "ued = [0,0,0,0]\n",
    "for ii in range(4):\n",
    "    for jj in range(4):\n",
    "        ued[ii] += ueu[jj]*gedd[ii,jj]"
   ]
  },
  {
   "cell_type": "markdown",
   "metadata": {},
   "source": [
    "## <center> Campo $v$ de los protones </center>"
   ]
  },
  {
   "cell_type": "code",
   "execution_count": 6,
   "metadata": {},
   "outputs": [],
   "source": [
    "Omegape = function('Omegape', latex_name='\\\\Omega_{p\\\\varepsilon}')(eps)\n",
    "\n",
    "Npe_paper = 1/sqrt(Ne^2-sin(th)^2*Ke*(Nphie-eps*Omegape)^2)\n",
    "veu = [Npe_paper,0,0,eps*Npe_paper*Omegape]\n",
    "\n",
    "ved = [0,0,0,0]\n",
    "for ii in range(4):\n",
    "    for jj in range(4):\n",
    "        ved[ii] += veu[jj]*gedd[ii,jj]"
   ]
  },
  {
   "cell_type": "markdown",
   "metadata": {},
   "source": [
    "## <center> Ecuación de Einstein </center>"
   ]
  },
  {
   "cell_type": "code",
   "execution_count": 7,
   "metadata": {},
   "outputs": [],
   "source": [
    "n = function('n')(r,th,eps)\n",
    "p = function('p')(r,th,eps)\n",
    "x = function('x')(r,th,eps)\n",
    "\n",
    "Lambdae = function('Lambdae', latex_name='\\\\Lambda_{\\\\varepsilon}')(n, p, x)\n",
    "\n",
    "neu = [n*ii for ii in ueu]\n",
    "peu = [p*ii for ii in veu]\n",
    "\n",
    "ned = [n*ii for ii in ued]\n",
    "ped = [p*ii for ii in ved]\n",
    "\n",
    "A = -formal_diff(Lambdae, x)\n",
    "B = -2*formal_diff(Lambdae, n)\n",
    "C = -2*formal_diff(Lambdae, p)\n",
    "\n",
    "mued1 = [B*ii for ii in ned]\n",
    "mued2 = [A*jj for jj in ped]\n",
    "chied1 = [C*ii for ii in ped]\n",
    "chied2 = [A*jj for jj in ned]\n",
    "\n",
    "mued = [0,0,0,0]\n",
    "chied = [0,0,0,0]\n",
    "for ii in range(4):\n",
    "    mued[ii] = mued1[ii] + mued2[ii]\n",
    "    chied[ii] = chied1[ii] + chied2[ii]\n",
    "\n",
    "Psie = Lambdae - sum([ii*jj for (ii,jj) in zip(neu, mued)]) - sum([kk*ll for (kk,ll) in zip(peu, chied)])"
   ]
  },
  {
   "cell_type": "code",
   "execution_count": 8,
   "metadata": {},
   "outputs": [],
   "source": [
    "dirac = diagonal_matrix([1,1,1,1])\n",
    "Teud = matrix(SR, 4, 4)\n",
    "for ii in range(4):\n",
    "    for jj in range(4):\n",
    "        Teud[ii,jj] = Psie*dirac[ii,jj] + peu[ii]*chied[jj] + neu[ii]*mued[jj]\n",
    "\n",
    "Te, dTe = matrix(SR, 4, 4), matrix(SR, 4, 4)\n",
    "for ii in range(4):\n",
    "    for jj in range(4):\n",
    "        for kk in range(4):\n",
    "            Te[ii,jj] += Teud[kk,jj]*gedd[kk,ii]\n",
    "\n",
    "        dTe[ii,jj] = formal_diff(Te[ii,jj],eps)"
   ]
  },
  {
   "cell_type": "code",
   "execution_count": 13,
   "metadata": {},
   "outputs": [
    {
     "data": {
      "text/html": [
       "<html>\\[\\newcommand{\\Bold}[1]{\\mathbf{#1}}{\\left(2 \\, r^{2} \\Omega_{n\\varepsilon}\\left(0\\right) n\\left(r, {\\theta}, 0\\right)^{2} \\frac{\\partial\\,\\Lambda_{\\varepsilon}}{\\partial \\left( n\\left(r, {\\theta}, 0\\right) \\right)} + 2 \\, r^{2} \\Omega_{p\\varepsilon}\\left(0\\right) p\\left(r, {\\theta}, 0\\right)^{2} \\frac{\\partial\\,\\Lambda_{\\varepsilon}}{\\partial \\left( p\\left(r, {\\theta}, 0\\right) \\right)} + r^{2} {\\left(\\Omega_{n\\varepsilon}\\left(0\\right) + \\Omega_{p\\varepsilon}\\left(0\\right)\\right)} n\\left(r, {\\theta}, 0\\right) p\\left(r, {\\theta}, 0\\right) \\frac{\\partial\\,\\Lambda_{\\varepsilon}}{\\partial \\left( x\\left(r, {\\theta}, 0\\right) \\right)} - r^{2} \\Lambda_{\\varepsilon}\\left(n\\left(r, {\\theta}, 0\\right), p\\left(r, {\\theta}, 0\\right), x\\left(r, {\\theta}, 0\\right)\\right) \\omega\\left(r\\right)\\right)} \\sin\\left({\\theta}\\right)^{2}\\]</html>"
      ],
      "text/latex": [
       "$$\\newcommand{\\Bold}[1]{\\mathbf{#1}}{\\left(2 \\, r^{2} \\Omega_{n\\varepsilon}\\left(0\\right) n\\left(r, {\\theta}, 0\\right)^{2} \\frac{\\partial\\,\\Lambda_{\\varepsilon}}{\\partial \\left( n\\left(r, {\\theta}, 0\\right) \\right)} + 2 \\, r^{2} \\Omega_{p\\varepsilon}\\left(0\\right) p\\left(r, {\\theta}, 0\\right)^{2} \\frac{\\partial\\,\\Lambda_{\\varepsilon}}{\\partial \\left( p\\left(r, {\\theta}, 0\\right) \\right)} + r^{2} {\\left(\\Omega_{n\\varepsilon}\\left(0\\right) + \\Omega_{p\\varepsilon}\\left(0\\right)\\right)} n\\left(r, {\\theta}, 0\\right) p\\left(r, {\\theta}, 0\\right) \\frac{\\partial\\,\\Lambda_{\\varepsilon}}{\\partial \\left( x\\left(r, {\\theta}, 0\\right) \\right)} - r^{2} \\Lambda_{\\varepsilon}\\left(n\\left(r, {\\theta}, 0\\right), p\\left(r, {\\theta}, 0\\right), x\\left(r, {\\theta}, 0\\right)\\right) \\omega\\left(r\\right)\\right)} \\sin\\left({\\theta}\\right)^{2}$$"
      ],
      "text/plain": [
       "(2*r^2*Omegane(0)*n(r, th, 0)^2*d(Lambdae)/d(n(r, th, 0)) + 2*r^2*Omegape(0)*p(r, th, 0)^2*d(Lambdae)/d(p(r, th, 0)) + r^2*(Omegane(0) + Omegape(0))*n(r, th, 0)*p(r, th, 0)*d(Lambdae)/d(x(r, th, 0)) - r^2*Lambdae(n(r, th, 0), p(r, th, 0), x(r, th, 0))*omega(r))*sin(th)^2"
      ]
     },
     "metadata": {},
     "output_type": "display_data"
    }
   ],
   "source": [
    "show(EN(dTe[0,3].subs(eps==0).simplify_full()))"
   ]
  },
  {
   "cell_type": "code",
   "execution_count": null,
   "metadata": {},
   "outputs": [],
   "source": []
  }
 ],
 "metadata": {
  "kernelspec": {
   "display_name": "SageMath 9.4",
   "language": "sage",
   "name": "sagemath-9.4"
  },
  "language_info": {
   "codemirror_mode": {
    "name": "ipython",
    "version": 3
   },
   "file_extension": ".py",
   "mimetype": "text/x-python",
   "name": "python",
   "nbconvert_exporter": "python",
   "pygments_lexer": "ipython3",
   "version": "3.9.5"
  }
 },
 "nbformat": 4,
 "nbformat_minor": 4
}
