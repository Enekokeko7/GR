{
 "cells": [
  {
   "cell_type": "code",
   "execution_count": 1,
   "metadata": {},
   "outputs": [],
   "source": [
    "var('eps', latex_name = '\\\\varepsilon')\n",
    "var('t')\n",
    "var('r')\n",
    "var('th', latex_name = '\\\\theta')\n",
    "var('ph', latex_name = '\\\\varphi')\n",
    "coords = (t,r,th,ph)\n",
    "\n",
    "h = function('h')(r,th)\n",
    "k = function('k')(r,th)\n",
    "m = function('m')(r,th)\n",
    "\n",
    "omega = function('omega', latex_name='\\\\omega')(r)\n",
    "\n",
    "nu = function('nu', latex_name='\\\\nu')(r)\n",
    "lamb = function('lamb', latex_name='\\\\lambda')(r)"
   ]
  },
  {
   "cell_type": "markdown",
   "metadata": {},
   "source": [
    "# <center> Tensor de Einstein </center>"
   ]
  },
  {
   "cell_type": "code",
   "execution_count": 2,
   "metadata": {},
   "outputs": [],
   "source": [
    "gdd = matrix(SR, 4, 4)\n",
    "\n",
    "gdd[0,0] = -exp(nu)\n",
    "gdd[1,1] = exp(lamb)\n",
    "gdd[2,2] = r^2\n",
    "gdd[3,3] = r^2*sin(th)^2\n",
    "\n",
    "guu = 1/gdd\n",
    "\n",
    "K1 = matrix(SR, 4, 4)\n",
    "K1[0,3] = -omega*r^2*sin(th)^2\n",
    "K1[3,0] = -omega*r^2*sin(th)^2\n",
    "\n",
    "K2 = matrix(SR, 4, 4)\n",
    "K2[0,0] = -4*exp(nu)*h + 2*r^2*sin(th)^2*omega^2\n",
    "K2[1,1] = 4*exp(lamb)*m\n",
    "K2[2,2] = 4*k*r^2\n",
    "K2[3,3] = 4*k*r^2*sin(th)^2"
   ]
  },
  {
   "cell_type": "code",
   "execution_count": 3,
   "metadata": {},
   "outputs": [],
   "source": [
    "gedd = matrix(SR, 4, 4)\n",
    "for ii in range(0,4):\n",
    "    for jj in range(0,4):\n",
    "        gedd[ii,jj] = gdd[ii,jj] + eps*K1[ii,jj] + 1/2*eps^2*K2[ii,jj]\n",
    "        \n",
    "geuu = 1/gedd\n",
    "    \n",
    "chris = [[[0 for kk in range(0,4)] for jj in range(0,4)] for ii in range(0,4)]\n",
    "for ii in range(0,4):\n",
    "    for jj in range(0,4):\n",
    "        for kk in range(0,4):\n",
    "            chris[ii][jj][kk] = 0.5*sum(geuu[ii,dd]*(diff(gedd[dd,jj],coords[kk])\n",
    "                                                   + diff(gedd[dd,kk],coords[jj])\n",
    "                                                   - diff(gedd[jj,kk],coords[dd])) for dd in range(0,4))\n",
    "\n",
    "riem = [[[[0 for ll in range(0,4)] for kk in range(0,4)] for jj in range(0,4)] for ii in range(0,4)]\n",
    "for ii in range(0,4):\n",
    "    for jj in range(0,4):\n",
    "        for kk in range(0,4):\n",
    "            for ll in range(0,4):\n",
    "                riem[ii][jj][kk][ll] = (diff(chris[ii][jj][ll],coords[kk])\n",
    "                                      - diff(chris[ii][jj][kk],coords[ll])\n",
    "                                      + sum(chris[ii][kk][dd]*chris[dd][ll][jj]\n",
    "                                      - chris[ii][ll][dd]*chris[dd][kk][jj] for dd in range(0,4)))\n",
    "\n",
    "ricci = matrix(SR, 4, 4)\n",
    "for ii in range(0,4):\n",
    "    for kk in range(0,4):\n",
    "        ricci[ii,kk] = sum(riem[dd][ii][dd][kk] for dd in range(0,4))\n",
    "\n",
    "s_curv = sum(sum(ricci[ii,jj]*geuu[ii,jj] for ii in range(0,4)) for jj in range(0,4))\n",
    "\n",
    "Ge = matrix(SR, 4, 4)\n",
    "Ge = ricci - 0.5*gedd*s_curv\n",
    "\n",
    "dGe = matrix(SR, 4, 4)\n",
    "ddGe = matrix(SR, 4, 4)\n",
    "for ii in range(0,4):\n",
    "    for jj in range(0,4):\n",
    "        dGe[ii,jj] = diff(Ge[ii,jj],eps)\n",
    "        ddGe[ii,jj] = diff(Ge[ii,jj],eps,eps)"
   ]
  },
  {
   "cell_type": "markdown",
   "metadata": {},
   "source": [
    "# <center> Tensor de energía-momento </center>"
   ]
  },
  {
   "cell_type": "code",
   "execution_count": 4,
   "metadata": {},
   "outputs": [
    {
     "data": {
      "text/html": [
       "<html>\\[\\newcommand{\\Bold}[1]{\\mathbf{#1}}u^{(1)} =  \\left[0, 0, 0, {\\Omega^{(1)}} e^{\\left(-\\frac{1}{2} \\, \\nu\\left(r\\right)\\right)}\\right] \\rightarrow \\mathrm{True}\\]</html>"
      ],
      "text/latex": [
       "$$\\newcommand{\\Bold}[1]{\\mathbf{#1}}u^{(1)} =  \\left[0, 0, 0, {\\Omega^{(1)}} e^{\\left(-\\frac{1}{2} \\, \\nu\\left(r\\right)\\right)}\\right] \\rightarrow \\mathrm{True}$$"
      ],
      "text/plain": [
       "u^{(1)} =  [0, 0, 0, Omega1*e^(-1/2*nu(r))] \\rightarrow True"
      ]
     },
     "metadata": {},
     "output_type": "display_data"
    },
    {
     "data": {
      "text/html": [
       "<html>\\[\\newcommand{\\Bold}[1]{\\mathbf{#1}}u^{(2)} =  \\left[{\\left({\\left({\\Omega^{(1)}}^{2} r^{2} - 2 \\, {\\Omega^{(1)}} r^{2} \\omega\\left(r\\right) + r^{2} \\omega\\left(r\\right)^{2}\\right)} \\sin\\left({\\theta}\\right)^{2} - 2 \\, e^{\\nu\\left(r\\right)} h\\left(r, {\\theta}\\right)\\right)} e^{\\left(-\\frac{3}{2} \\, \\nu\\left(r\\right)\\right)}, 0, 0, 0\\right] \\rightarrow \\mathrm{True}\\]</html>"
      ],
      "text/latex": [
       "$$\\newcommand{\\Bold}[1]{\\mathbf{#1}}u^{(2)} =  \\left[{\\left({\\left({\\Omega^{(1)}}^{2} r^{2} - 2 \\, {\\Omega^{(1)}} r^{2} \\omega\\left(r\\right) + r^{2} \\omega\\left(r\\right)^{2}\\right)} \\sin\\left({\\theta}\\right)^{2} - 2 \\, e^{\\nu\\left(r\\right)} h\\left(r, {\\theta}\\right)\\right)} e^{\\left(-\\frac{3}{2} \\, \\nu\\left(r\\right)\\right)}, 0, 0, 0\\right] \\rightarrow \\mathrm{True}$$"
      ],
      "text/plain": [
       "u^{(2)} =  [((Omega1^2*r^2 - 2*Omega1*r^2*omega(r) + r^2*omega(r)^2)*sin(th)^2 - 2*e^nu(r)*h(r, th))*e^(-3/2*nu(r)),\n",
       " 0,\n",
       " 0,\n",
       " 0] \\rightarrow True"
      ]
     },
     "metadata": {},
     "output_type": "display_data"
    }
   ],
   "source": [
    "Omegae = function('Omegae', latex_name='\\\\Omega_{\\\\varepsilon}')(eps)\n",
    "Ne = function('Ne', latex_name='N_e')(r,th,eps)\n",
    "\n",
    "ue = [0,0,0,0]\n",
    "u = [0,0,0,0]\n",
    "\n",
    "ue[0] = Ne;         ue[1] = 0;   ue[2] = 0;   ue[3] = Ne*Omegae\n",
    "u[0] = exp(-nu/2);  u[1] =  0;   u[2] = 0;    u[3] =  0\n",
    "\n",
    "Ne_value = solve(u[0]==ue[0], Ne)[0].rhs()\n",
    "Omegae_value = solve(u[3]==ue[3], Omegae)[0].rhs()\n",
    "\n",
    "u1 = [0,0,0,0]\n",
    "u2 = [0,0,0,0]\n",
    "\n",
    "u10 = function('u10',latex_name=\"u^{(1)0}\")(r,th)\n",
    "u20 = function('u20',latex_name=\"u^{(2)0}\")(r,th)\n",
    "\n",
    "var('Omega1', latex_name=\"\\\\Omega^{(1)}\")\n",
    "\n",
    "sus_func = [eps == 0,\n",
    "            Ne.subs(eps==0) == Ne_value,\n",
    "            Omegae.subs(eps==0) == Omegae_value,\n",
    "            diff(Ne,eps,eps).subs(eps==0) == u20,\n",
    "            diff(Omegae,eps,eps).subs(eps==0) == 0, #En nuestro gauge Omega2=0\n",
    "            diff(Ne,eps).subs(eps==0) == u10,\n",
    "            diff(Omegae,eps).subs(eps==0) == Omega1]\n",
    "\n",
    "for ii in range(0,4):\n",
    "    u1[ii] = diff(ue[ii],eps)\n",
    "    u2[ii] = diff(ue[ii],eps,eps)\n",
    "\n",
    "Ue = [0,0,0,0]\n",
    "for ii in range(0,4):\n",
    "    for jj in range(0,4):\n",
    "        Ue[ii] += ue[jj]*gedd[jj,ii]\n",
    "\n",
    "geUeue = 0\n",
    "for ii in range(0,4):\n",
    "    geUeue += Ue[ii]*ue[ii]\n",
    "\n",
    "ddgeUeue = diff(geUeue, eps, eps).subs(sus_func) == 0\n",
    "u20_value = solve(ddgeUeue, u20)[0].rhs()\n",
    "\n",
    "dgeUeue = diff(geUeue, eps).subs(sus_func) == 0\n",
    "u10_value = solve(dgeUeue, u10)[0].rhs()\n",
    "\n",
    "sus_func.extend([u20 == u20_value,\n",
    "                 u10 == u10_value])\n",
    "\n",
    "for ii in range(0,4):\n",
    "    for jj in range(0,len(sus_func)):\n",
    "        u1[ii] = u1[ii].subs(sus_func[jj])\n",
    "        u2[ii] = u2[ii].subs(sus_func[jj])\n",
    "\n",
    "u1_paper = [0,0,0,0]\n",
    "u1_paper[0] = 1/2*e^(-3*nu/2)*K1[0,0]\n",
    "u1_paper[3] = e^(-nu/2)*Omega1\n",
    "\n",
    "u2_paper = [0,0,0,0]\n",
    "u2_paper[0] = e^(-3*nu/2)*(1/2*K2[0,0]+3/4*e^(-nu)*K1[0,0]+2*Omega1*K1[0,3]+Omega1^2*r^2*sin(th)^2)\n",
    "u2_paper[3] = e^(-nu/2)*(e^(-nu)*K1[0,0]*Omega1)  \n",
    "\n",
    "u1_check = [ii-jj for (ii,jj) in zip(u1, u1_paper)]\n",
    "u2_check = [ii-jj for (ii,jj) in zip(u2, u2_paper)]\n",
    "\n",
    "show(LatexExpr(\"u^{(1)} = \"), u1, LatexExpr(\"\\\\rightarrow\"), u1_check==[0,0,0,0])\n",
    "show(LatexExpr(\"u^{(2)} = \"), u2, LatexExpr(\"\\\\rightarrow\"), u2_check==[0,0,0,0])"
   ]
  },
  {
   "cell_type": "code",
   "execution_count": 5,
   "metadata": {},
   "outputs": [],
   "source": [
    "Ee = function('Ee', latex_name='E_{\\\\varepsilon}')(r,th,eps)\n",
    "Pe = function('Pe', latex_name='P_{\\\\varepsilon}')(r,th,eps)\n",
    "\n",
    "Te = matrix(SR, 4, 4)\n",
    "dTe = matrix(SR, 4, 4)\n",
    "ddTe = matrix(SR, 4, 4)\n",
    "for ii in range(0,4):\n",
    "    for jj in range(0,4):\n",
    "        Te[ii,jj] = (Ee+Pe)*Ue[ii]*Ue[jj]+Pe*gedd[ii,jj]\n",
    "        dTe[ii,jj] = diff(Te[ii,jj],eps)\n",
    "        ddTe[ii,jj] = diff(Te[ii,jj],eps,eps)"
   ]
  },
  {
   "cell_type": "code",
   "execution_count": 6,
   "metadata": {},
   "outputs": [],
   "source": [
    "kappa = 8*pi\n",
    "E = function('E')(r)\n",
    "P = function('P')(r)\n",
    "\n",
    "sus_func.extend([Ee.subs(eps==0) == E,\n",
    "                 Pe.subs(eps==0) == P])\n",
    "\n",
    "G = copy(Ge)\n",
    "T = copy(Te)\n",
    "for ii in range(0,len(sus_func)):\n",
    "    G = G.subs(sus_func[ii])\n",
    "    T = T.subs(sus_func[ii])"
   ]
  },
  {
   "cell_type": "code",
   "execution_count": 7,
   "metadata": {},
   "outputs": [
    {
     "data": {
      "text/html": [
       "<html>\\[\\newcommand{\\Bold}[1]{\\mathbf{#1}}T_{\\varepsilon}\\lvert_0 = \\left(\\begin{array}{rrrr}\n",
       "{\\left(E\\left(r\\right) + P\\left(r\\right)\\right)} e^{\\nu\\left(r\\right)} - P\\left(r\\right) e^{\\nu\\left(r\\right)} & 0 & 0 & 0 \\\\\n",
       "0 & P\\left(r\\right) e^{\\lambda\\left(r\\right)} & 0 & 0 \\\\\n",
       "0 & 0 & r^{2} P\\left(r\\right) & 0 \\\\\n",
       "0 & 0 & 0 & r^{2} P\\left(r\\right) \\sin\\left({\\theta}\\right)^{2}\n",
       "\\end{array}\\right)\\]</html>"
      ],
      "text/latex": [
       "$$\\newcommand{\\Bold}[1]{\\mathbf{#1}}T_{\\varepsilon}\\lvert_0 = \\left(\\begin{array}{rrrr}\n",
       "{\\left(E\\left(r\\right) + P\\left(r\\right)\\right)} e^{\\nu\\left(r\\right)} - P\\left(r\\right) e^{\\nu\\left(r\\right)} & 0 & 0 & 0 \\\\\n",
       "0 & P\\left(r\\right) e^{\\lambda\\left(r\\right)} & 0 & 0 \\\\\n",
       "0 & 0 & r^{2} P\\left(r\\right) & 0 \\\\\n",
       "0 & 0 & 0 & r^{2} P\\left(r\\right) \\sin\\left({\\theta}\\right)^{2}\n",
       "\\end{array}\\right)$$"
      ],
      "text/plain": [
       "T_{\\varepsilon}\\lvert_0 = [(E(r) + P(r))*e^nu(r) - P(r)*e^nu(r)                                    0                                    0                                    0]\n",
       "[                                   0                       P(r)*e^lamb(r)                                    0                                    0]\n",
       "[                                   0                                    0                             r^2*P(r)                                    0]\n",
       "[                                   0                                    0                                    0                   r^2*P(r)*sin(th)^2]"
      ]
     },
     "metadata": {},
     "output_type": "display_data"
    }
   ],
   "source": [
    "show(LatexExpr(\"T_{\\\\varepsilon}\\lvert_0 =\"), T)"
   ]
  },
  {
   "cell_type": "markdown",
   "metadata": {},
   "source": [
    "# <center> $G_{\\mu\\nu} = \\kappa T_{\\mu\\nu}$ </center>"
   ]
  },
  {
   "cell_type": "code",
   "execution_count": 8,
   "metadata": {},
   "outputs": [
    {
     "data": {
      "text/html": [
       "<html>\\[\\newcommand{\\Bold}[1]{\\mathbf{#1}}E =  \\frac{r e^{\\left(-\\lambda\\left(r\\right)\\right)} \\frac{\\partial}{\\partial r}\\lambda\\left(r\\right) - e^{\\left(-\\lambda\\left(r\\right)\\right)} + 1}{8 \\, \\pi r^{2}} \\rightarrow \\mathrm{True}\\]</html>"
      ],
      "text/latex": [
       "$$\\newcommand{\\Bold}[1]{\\mathbf{#1}}E =  \\frac{r e^{\\left(-\\lambda\\left(r\\right)\\right)} \\frac{\\partial}{\\partial r}\\lambda\\left(r\\right) - e^{\\left(-\\lambda\\left(r\\right)\\right)} + 1}{8 \\, \\pi r^{2}} \\rightarrow \\mathrm{True}$$"
      ],
      "text/plain": [
       "E =  1/8*(r*e^(-lamb(r))*diff(lamb(r), r) - e^(-lamb(r)) + 1)/(pi*r^2) \\rightarrow True"
      ]
     },
     "metadata": {},
     "output_type": "display_data"
    },
    {
     "data": {
      "text/html": [
       "<html>\\[\\newcommand{\\Bold}[1]{\\mathbf{#1}}P =  \\frac{r e^{\\left(-\\lambda\\left(r\\right)\\right)} \\frac{\\partial}{\\partial r}\\nu\\left(r\\right) + e^{\\left(-\\lambda\\left(r\\right)\\right)} - 1}{8 \\, \\pi r^{2}} \\rightarrow \\mathrm{True}\\]</html>"
      ],
      "text/latex": [
       "$$\\newcommand{\\Bold}[1]{\\mathbf{#1}}P =  \\frac{r e^{\\left(-\\lambda\\left(r\\right)\\right)} \\frac{\\partial}{\\partial r}\\nu\\left(r\\right) + e^{\\left(-\\lambda\\left(r\\right)\\right)} - 1}{8 \\, \\pi r^{2}} \\rightarrow \\mathrm{True}$$"
      ],
      "text/plain": [
       "P =  1/8*(r*e^(-lamb(r))*diff(nu(r), r) + e^(-lamb(r)) - 1)/(pi*r^2) \\rightarrow True"
      ]
     },
     "metadata": {},
     "output_type": "display_data"
    },
    {
     "data": {
      "text/html": [
       "<html>\\[\\newcommand{\\Bold}[1]{\\mathbf{#1}}\\nu'' = -\\frac{r^{2} \\frac{\\partial}{\\partial r}\\nu\\left(r\\right)^{2} - 2 \\, r \\frac{\\partial}{\\partial r}\\lambda\\left(r\\right) - {\\left(r^{2} \\frac{\\partial}{\\partial r}\\lambda\\left(r\\right) + 2 \\, r\\right)} \\frac{\\partial}{\\partial r}\\nu\\left(r\\right) + 4 \\, e^{\\lambda\\left(r\\right)} - 4}{2 \\, r^{2}} \\rightarrow \\mathrm{True}\\]</html>"
      ],
      "text/latex": [
       "$$\\newcommand{\\Bold}[1]{\\mathbf{#1}}\\nu'' = -\\frac{r^{2} \\frac{\\partial}{\\partial r}\\nu\\left(r\\right)^{2} - 2 \\, r \\frac{\\partial}{\\partial r}\\lambda\\left(r\\right) - {\\left(r^{2} \\frac{\\partial}{\\partial r}\\lambda\\left(r\\right) + 2 \\, r\\right)} \\frac{\\partial}{\\partial r}\\nu\\left(r\\right) + 4 \\, e^{\\lambda\\left(r\\right)} - 4}{2 \\, r^{2}} \\rightarrow \\mathrm{True}$$"
      ],
      "text/plain": [
       "\\nu'' = -1/2*(r^2*diff(nu(r), r)^2 - 2*r*diff(lamb(r), r) - (r^2*diff(lamb(r), r) + 2*r)*diff(nu(r), r) + 4*e^lamb(r) - 4)/r^2 \\rightarrow True"
      ]
     },
     "metadata": {},
     "output_type": "display_data"
    }
   ],
   "source": [
    "E_value_00 = solve(G[0,0] == kappa*T[0,0], E)[0].rhs()\n",
    "P_value_11 = solve(G[1,1] == kappa*T[1,1], P)[0].rhs()\n",
    "P_value_22 = solve(G[2,2] == kappa*T[2,2], P)[0].rhs()\n",
    "P_value_33 = solve(G[3,3] == kappa*T[3,3], P)[0].rhs()\n",
    "ddnu_value = solve(P_value_11 == P_value_22, diff(nu,r,r))[0].rhs()\n",
    "\n",
    "sus_func.extend([diff(nu,r,r) == ddnu_value])\n",
    "\n",
    "dE_value_00 = diff(E_value_00,r)\n",
    "dP_value_11 = diff(P_value_11,r)\n",
    "for ii in range(0,len(sus_func)):\n",
    "    dE_value_00 = dE_value_00.subs(sus_func[ii])\n",
    "    dP_value_11 = dP_value_11.subs(sus_func[ii])\n",
    "\n",
    "sus_func.extend([E == E_value_00,\n",
    "                 diff(E,r) == dE_value_00,\n",
    "                 P == P_value_11,\n",
    "                 diff(P,r) == dP_value_11])\n",
    "\n",
    "E_paper = diff(lamb,r) - 1/r*(1-e^(lamb)) - r*e^(lamb)*8*pi*E == 0\n",
    "E_paper = solve(E_paper, E)[0].rhs()\n",
    "E_check = E_value_00 - E_paper\n",
    "\n",
    "P_paper = diff(nu,r) - 1/r*(-1+e^(lamb)) - r*e^(lamb)*8*pi*P == 0\n",
    "P_paper = solve(P_paper, P)[0].rhs()\n",
    "P_check = P_value_11 - P_paper\n",
    "\n",
    "ddnu_paper = 2*r*diff(nu,r,r) + diff(nu,r)*(r*diff(nu,r)-2)-diff(lamb,r)*(2+r*diff(nu,r))+4/r*(e^(lamb)-1) == 0\n",
    "ddnu_paper = solve(ddnu_paper, diff(nu,r,r))[0].rhs()\n",
    "ddnu_check = ddnu_value - ddnu_paper\n",
    "\n",
    "show(LatexExpr(\"E = \"), E_value_00, LatexExpr(\"\\\\rightarrow\"), bool(E_check==0))\n",
    "show(LatexExpr(\"P = \"), P_value_11, LatexExpr(\"\\\\rightarrow\"), bool(P_check==0))\n",
    "show(LatexExpr(\"\\\\nu'' =\"), ddnu_value, LatexExpr(\"\\\\rightarrow\"), bool(ddnu_check==0))"
   ]
  },
  {
   "cell_type": "markdown",
   "metadata": {},
   "source": [
    "# <center> $G^{\\prime}_{\\mu\\nu} = \\kappa T^{\\prime}_{\\mu\\nu}$ </center>"
   ]
  },
  {
   "cell_type": "code",
   "execution_count": 9,
   "metadata": {},
   "outputs": [],
   "source": [
    "j = e^(-(lamb+nu)/2)\n",
    "M = r*(1-e^(-lamb))/2\n",
    "\n",
    "E1 = function('E1', latex_name='E^{(1)}')(r,th)\n",
    "P1 = function('P1', latex_name='P^{(1)}')(r,th)\n",
    "\n",
    "sus_func.extend([diff(Ee,eps).subs(eps==0) == E1,\n",
    "                 diff(Pe,eps).subs(eps==0) == P1])\n",
    "\n",
    "dG = copy(dGe)\n",
    "dT = copy(dTe)\n",
    "for ii in range(0,len(sus_func)):\n",
    "    dG = dG.subs(sus_func[ii])\n",
    "    dT = dT.subs(sus_func[ii])"
   ]
  },
  {
   "cell_type": "code",
   "execution_count": 10,
   "metadata": {},
   "outputs": [
    {
     "data": {
      "text/html": [
       "<html>\\[\\newcommand{\\Bold}[1]{\\mathbf{#1}}E^{(1)} =  0 \\rightarrow \\mathrm{True}\\]</html>"
      ],
      "text/latex": [
       "$$\\newcommand{\\Bold}[1]{\\mathbf{#1}}E^{(1)} =  0 \\rightarrow \\mathrm{True}$$"
      ],
      "text/plain": [
       "E^{(1)} =  0 \\rightarrow True"
      ]
     },
     "metadata": {},
     "output_type": "display_data"
    }
   ],
   "source": [
    "dEq_00 = dG[0,0] - kappa*dT[0,0] == 0\n",
    "\n",
    "for ii in range(0,len(sus_func)):\n",
    "    dEq_00 = dEq_00.subs(sus_func[ii])\n",
    "\n",
    "E1_value = solve(dEq_00,E1)[0].rhs().simplify_full()\n",
    "sus_func.extend([E1==E1_value])\n",
    "\n",
    "E1_paper = 0\n",
    "E1_check = E1_value - E1_paper\n",
    "\n",
    "show(LatexExpr(\"E^{(1)} = \"), E1_value, LatexExpr(\"\\\\rightarrow\"), bool(E1_check==0))"
   ]
  },
  {
   "cell_type": "code",
   "execution_count": 11,
   "metadata": {
    "scrolled": true
   },
   "outputs": [
    {
     "data": {
      "text/html": [
       "<html>\\[\\newcommand{\\Bold}[1]{\\mathbf{#1}}P^{(1)} =  0 \\rightarrow \\mathrm{True}\\]</html>"
      ],
      "text/latex": [
       "$$\\newcommand{\\Bold}[1]{\\mathbf{#1}}P^{(1)} =  0 \\rightarrow \\mathrm{True}$$"
      ],
      "text/plain": [
       "P^{(1)} =  0 \\rightarrow True"
      ]
     },
     "metadata": {},
     "output_type": "display_data"
    }
   ],
   "source": [
    "dEq_11 = dG[1,1] - kappa*dT[1,1] == 0\n",
    "dEq_22 = dG[2,2] - kappa*dT[2,2] == 0\n",
    "dEq_33 = dG[3,3] - kappa*dT[3,3] == 0\n",
    "\n",
    "P1_value = solve(dEq_11,P1)[0].rhs().simplify_full()\n",
    "sus_func.extend([P1==P1_value])\n",
    "\n",
    "P1_paper = 0\n",
    "P1_check = P1_value - P1_paper\n",
    "\n",
    "show(LatexExpr(\"P^{(1)} = \"), P1_value, LatexExpr(\"\\\\rightarrow\"), bool(P1_check==0))"
   ]
  },
  {
   "cell_type": "code",
   "execution_count": 12,
   "metadata": {},
   "outputs": [
    {
     "data": {
      "text/html": [
       "<html>\\[\\newcommand{\\Bold}[1]{\\mathbf{#1}}\\omega'' =  -\\frac{4 \\, {\\left({\\Omega^{(1)}} - \\omega\\left(r\\right)\\right)} \\frac{\\partial}{\\partial r}\\lambda\\left(r\\right) + 4 \\, {\\left({\\Omega^{(1)}} - \\omega\\left(r\\right)\\right)} \\frac{\\partial}{\\partial r}\\nu\\left(r\\right) - {\\left(r \\frac{\\partial}{\\partial r}\\lambda\\left(r\\right) + r \\frac{\\partial}{\\partial r}\\nu\\left(r\\right) - 8\\right)} \\frac{\\partial}{\\partial r}\\omega\\left(r\\right)}{2 \\, r} \\rightarrow \\mathrm{True}\\]</html>"
      ],
      "text/latex": [
       "$$\\newcommand{\\Bold}[1]{\\mathbf{#1}}\\omega'' =  -\\frac{4 \\, {\\left({\\Omega^{(1)}} - \\omega\\left(r\\right)\\right)} \\frac{\\partial}{\\partial r}\\lambda\\left(r\\right) + 4 \\, {\\left({\\Omega^{(1)}} - \\omega\\left(r\\right)\\right)} \\frac{\\partial}{\\partial r}\\nu\\left(r\\right) - {\\left(r \\frac{\\partial}{\\partial r}\\lambda\\left(r\\right) + r \\frac{\\partial}{\\partial r}\\nu\\left(r\\right) - 8\\right)} \\frac{\\partial}{\\partial r}\\omega\\left(r\\right)}{2 \\, r} \\rightarrow \\mathrm{True}$$"
      ],
      "text/plain": [
       "\\omega'' =  -1/2*(4*(Omega1 - omega(r))*diff(lamb(r), r) + 4*(Omega1 - omega(r))*diff(nu(r), r) - (r*diff(lamb(r), r) + r*diff(nu(r), r) - 8)*diff(omega(r), r))/r \\rightarrow True"
      ]
     },
     "metadata": {},
     "output_type": "display_data"
    }
   ],
   "source": [
    "dEq_03 = dG[0,3] - kappa*dT[0,3] == 0\n",
    "\n",
    "for ii in range(0,len(sus_func)):\n",
    "    dEq_03 = dEq_03.subs(sus_func[ii])\n",
    "\n",
    "ddomega_value = solve(dEq_03, diff(omega,r,r))[0].rhs().simplify_full()\n",
    "sus_func.extend([diff(omega,r,r) == ddomega_value])\n",
    "\n",
    "dEq_03_paper = diff(r^4*j*diff(omega,r),r)\\\n",
    "              + (r^2*j*e^(lamb)/sin(th)^3)*diff(sin(th)^3*diff(omega,th),th)\\\n",
    "              + 4*r^3*diff(j,r)*(omega-Omega1) == 0\n",
    "\n",
    "ddomega_paper = solve(dEq_03_paper, diff(omega,r,r))[0].rhs()\n",
    "ddomega_check = ddomega_value - ddomega_paper\n",
    "show(LatexExpr(\"\\\\omega'' = \"), ddomega_value, LatexExpr(\"\\\\rightarrow\"), bool(ddomega_check==0))"
   ]
  },
  {
   "cell_type": "markdown",
   "metadata": {},
   "source": [
    "# <center> $G^{\\prime\\prime}_{\\mu\\nu} = \\kappa T^{\\prime\\prime}_{\\mu\\nu}$ </center>"
   ]
  },
  {
   "cell_type": "code",
   "execution_count": 13,
   "metadata": {},
   "outputs": [],
   "source": [
    "E2 = function('E2', latex_name='E^{(2)}')(r,th)\n",
    "P2 = function('P2', latex_name='P^{(2)}')(r,th)\n",
    "\n",
    "sus_func.extend([diff(Ee,eps,eps).subs(eps==0) == E2,\n",
    "                 diff(Pe,eps,eps).subs(eps==0) == P2])\n",
    "\n",
    "ddG = copy(ddGe)\n",
    "ddT = copy(ddTe)\n",
    "for ii in range(0,len(sus_func)):\n",
    "    ddG = ddG.subs(sus_func[ii])\n",
    "    ddT = ddT.subs(sus_func[ii])"
   ]
  },
  {
   "cell_type": "markdown",
   "metadata": {},
   "source": [
    "## <center> Descomposición en $P_l(\\cos(\\theta))$ </center>"
   ]
  },
  {
   "cell_type": "code",
   "execution_count": 14,
   "metadata": {},
   "outputs": [],
   "source": [
    "h0 = function('h0', latex_name='h_0')(r)\n",
    "m0 = function('m0', latex_name='m_0')(r)\n",
    "\n",
    "h2 = function('h2', latex_name='h_2')(r)\n",
    "k2 = function('k2', latex_name='k_2')(r)\n",
    "m2 = function('m2', latex_name='m_2')(r)\n",
    "\n",
    "E20 = function('E20', latex_name='E_{0}^{(2)}')(r)\n",
    "P20 = function('P20', latex_name='P_{0}^{(2)}')(r)\n",
    "\n",
    "E22 = function('E22', latex_name='E_{2}^{(2)}')(r)\n",
    "P22 = function('P22', latex_name='P_{2}^{(2)}')(r)\n",
    "\n",
    "LP1 = function('LP1', latex_name='LP_1')(th)\n",
    "LP2 = function('LP2', latex_name='LP_2')(th)\n",
    "\n",
    "lp2 = (3*cos(th)^2-1)/2"
   ]
  },
  {
   "cell_type": "code",
   "execution_count": 15,
   "metadata": {},
   "outputs": [],
   "source": [
    "sus_descomp = [m==m0+m2*lp2,\n",
    "               diff(m,r)==diff(m0+m2*lp2,r),\n",
    "               diff(m,r,r)==diff(m0+m2*lp2,r,r),\n",
    "               diff(m,th)==diff(m0+m2*lp2,th),\n",
    "               diff(m,th,th)==diff(m0+m2*lp2,th,th),\n",
    "               diff(m,th,r)==diff(m0+m2*lp2,th,r),\n",
    "               diff(m,r,th)==diff(m0+m2*lp2,r,th),\n",
    "               k==k2*lp2,\n",
    "               diff(k,r)==diff(k2*lp2,r),\n",
    "               diff(k,r,r)==diff(k2*lp2,r,r),\n",
    "               diff(k,th)==diff(k2*lp2,th),\n",
    "               diff(k,th,th)==diff(k2*lp2,th,th),\n",
    "               diff(k,th,r)==diff(k2*lp2,th,r),\n",
    "               diff(k,r,th)==diff(k2*lp2,r,th),\n",
    "               h==h0+h2*lp2,\n",
    "               diff(h,r)==diff(h0+h2*lp2,r),\n",
    "               diff(h,r,r)==diff(h0+h2*lp2,r,r),\n",
    "               diff(h,th)==diff(h0+h2*lp2,th),\n",
    "               diff(h,th,th)==diff(h0+h2*lp2,th,th),\n",
    "               diff(h,th,r)==diff(h0+h2*lp2,th,r),\n",
    "               diff(h,r,th)==diff(h0+h2*lp2,r,th),\n",
    "               E2==E20+E22*lp2,\n",
    "               diff(E2,r)==diff(E20+E22*lp2,r),\n",
    "               diff(E2,r,r)==diff(E20+E22*lp2,r,r),\n",
    "               diff(E2,th)==diff(E20+E22*lp2,th),\n",
    "               diff(E2,th,th)==diff(E20+E22*lp2,th,th),\n",
    "               diff(E2,th,r)==diff(E20+E22*lp2,th,r),\n",
    "               diff(E2,r,th)==diff(E20+E22*lp2,r,th),\n",
    "               P2==P20+P22*lp2,\n",
    "               diff(P2,r)==diff(P20+P22*lp2,r),\n",
    "               diff(P2,r,r)==diff(P20+P22*lp2,r,r),\n",
    "               diff(P2,th)==diff(P20+P22*lp2,th),\n",
    "               diff(P2,th,th)==diff(P20+P22*lp2,th,th),\n",
    "               diff(P2,th,r)==diff(P20+P22*lp2,th,r),\n",
    "               diff(P2,r,th)==diff(P20+P22*lp2,r,th)]\n",
    "\n",
    "for ii in range(0,len(sus_descomp)):\n",
    "    ddG = ddG.subs(sus_descomp[ii])\n",
    "    ddT = ddT.subs(sus_descomp[ii])\n",
    "\n",
    "ddG = ddG.simplify_full()\n",
    "ddT = ddT.simplify_full()"
   ]
  },
  {
   "cell_type": "code",
   "execution_count": 16,
   "metadata": {},
   "outputs": [],
   "source": [
    "sus_legendre = [sin(th)^2 == (2/3)*(1-LP2),\n",
    "                cos(th)^2 == (2*LP2+1)/3,\n",
    "                cos(th) == LP1]"
   ]
  },
  {
   "cell_type": "markdown",
   "metadata": {},
   "source": [
    "### <center> $\\boxed{l=0}$ </center>"
   ]
  },
  {
   "cell_type": "markdown",
   "metadata": {},
   "source": [
    "### <center> $G^{\\prime\\prime}_{00} = \\kappa T^{\\prime\\prime}_{00}$ </center>"
   ]
  },
  {
   "cell_type": "code",
   "execution_count": 17,
   "metadata": {
    "scrolled": false
   },
   "outputs": [
    {
     "data": {
      "text/html": [
       "<html>\\[\\newcommand{\\Bold}[1]{\\mathbf{#1}}E^{(2)}_0 \\rightarrow \\mathrm{True}\\]</html>"
      ],
      "text/latex": [
       "$$\\newcommand{\\Bold}[1]{\\mathbf{#1}}E^{(2)}_0 \\rightarrow \\mathrm{True}$$"
      ],
      "text/plain": [
       "E^{(2)}_0 \\rightarrow True"
      ]
     },
     "metadata": {},
     "output_type": "display_data"
    }
   ],
   "source": [
    "ddEq_00 = ddG[0,0] - kappa*ddT[0,0] == 0\n",
    "E20_value_00 = solve(ddEq_00,E20)[0].rhs().simplify_full()\n",
    "\n",
    "for ii in range(0,len(sus_legendre)):\n",
    "    E20_value_00 = E20_value_00.subs(sus_legendre[ii])\n",
    "\n",
    "E20_value_00 = E20_value_00.subs(LP1==0).subs(LP2==0).simplify_full()\n",
    "\n",
    "ddG = ddG.subs(E20==E20_value_00)\n",
    "ddT = ddT.subs(E20==E20_value_00)\n",
    "sus_func.extend([E20==E20_value_00])\n",
    "    \n",
    "E20_paper = (4/r^2*diff(r*e^(-lamb)*m0,r)\\\n",
    "             +8/3*r*j*diff(j,r)*(omega-Omega1)^2\\\n",
    "             -1/3*j^2*r^2*diff(omega,r)^2)/(8*pi)\n",
    "\n",
    "E20_check = E20_value_00 - E20_paper\n",
    "\n",
    "show(LatexExpr(\"E^{(2)}_0 \\\\rightarrow\"), bool(E20_check==0))"
   ]
  },
  {
   "cell_type": "markdown",
   "metadata": {},
   "source": [
    "### <center> $G^{\\prime\\prime}_{11} = \\kappa T^{\\prime\\prime}_{11}$ </center>"
   ]
  },
  {
   "cell_type": "code",
   "execution_count": 18,
   "metadata": {},
   "outputs": [
    {
     "data": {
      "text/html": [
       "<html>\\[\\newcommand{\\Bold}[1]{\\mathbf{#1}}P^{(2)}_0 \\rightarrow \\mathrm{True}\\]</html>"
      ],
      "text/latex": [
       "$$\\newcommand{\\Bold}[1]{\\mathbf{#1}}P^{(2)}_0 \\rightarrow \\mathrm{True}$$"
      ],
      "text/plain": [
       "P^{(2)}_0 \\rightarrow True"
      ]
     },
     "metadata": {},
     "output_type": "display_data"
    }
   ],
   "source": [
    "ddEq_11 = ddG[1,1] - kappa*ddT[1,1] == 0\n",
    "P20_value = solve(ddEq_11,P20)[0].rhs().simplify_full()\n",
    "\n",
    "for ii in range(0,len(sus_legendre)):\n",
    "    P20_value = P20_value.subs(sus_legendre[ii])\n",
    "    \n",
    "P20_value = P20_value.subs(LP1==0).subs(LP2==0).simplify_full()\n",
    "dP20_value = diff(P20_value,r)\n",
    "for ii in range(0,len(sus_func)):\n",
    "    dP20_value = dP20_value.subs(sus_func[ii])\n",
    "    \n",
    "ddG = ddG.subs(diff(P20,r)==dP20_value).subs(P20==P20_value)\n",
    "ddT = ddT.subs(diff(P20,r)==dP20_value).subs(P20==P20_value)\n",
    "sus_func.extend([diff(P20,r)==dP20_value,\n",
    "                 P20==P20_value])\n",
    "\n",
    "P20_paper = (4/r^2*(r*e^(-lamb)*diff(h0,r)-m0*(8*pi*r^2*P+1))\\\n",
    "             +1/3*r^2*j^2*diff(omega,r)^2)/(8*pi)\n",
    "\n",
    "for ii in range(0,len(sus_func)):\n",
    "    P20_paper = P20_paper.subs(sus_func[ii])\n",
    "\n",
    "P20_check = P20_value - P20_paper\n",
    "\n",
    "show(LatexExpr(\"P^{(2)}_0 \\\\rightarrow\"), bool(P20_check==0))"
   ]
  },
  {
   "cell_type": "markdown",
   "metadata": {},
   "source": [
    "### <center> $G^{\\prime\\prime}_{22} = \\kappa T^{\\prime\\prime}_{22}$    y    $G^{\\prime\\prime}_{33} = \\kappa T^{\\prime\\prime}_{33}$ </center>"
   ]
  },
  {
   "cell_type": "code",
   "execution_count": 19,
   "metadata": {},
   "outputs": [
    {
     "data": {
      "text/html": [
       "<html>\\[\\newcommand{\\Bold}[1]{\\mathbf{#1}}m_2 \\rightarrow \\mathrm{True}\\]</html>"
      ],
      "text/latex": [
       "$$\\newcommand{\\Bold}[1]{\\mathbf{#1}}m_2 \\rightarrow \\mathrm{True}$$"
      ],
      "text/plain": [
       "m_2 \\rightarrow True"
      ]
     },
     "metadata": {},
     "output_type": "display_data"
    }
   ],
   "source": [
    "ddEq_22 = ddG[2,2] - kappa*ddT[2,2] == 0\n",
    "ddh0_value_22 = solve(ddEq_22,diff(h0,r,r))[0].rhs().simplify_full()\n",
    "\n",
    "ddEq_33 = ddG[3,3] - kappa*ddT[3,3] == 0\n",
    "ddh0_value_33 = solve(ddEq_33,diff(h0,r,r))[0].rhs().simplify_full()\n",
    "\n",
    "for ii in range(0,len(sus_legendre)):\n",
    "    ddh0_value_22 = ddh0_value_22.subs(sus_legendre[ii])\n",
    "    ddh0_value_33 = ddh0_value_33.subs(sus_legendre[ii])\n",
    "\n",
    "ddh0_value_22 = ddh0_value_22.subs(LP1==0).subs(LP2==0).simplify_full()\n",
    "ddh0_value_33 = ddh0_value_33.subs(LP1==0).subs(LP2==0).simplify_full()\n",
    "\n",
    "ddG = ddG.subs(diff(h0,r,r)==ddh0_value_22)\n",
    "ddT = ddT.subs(diff(h0,r,r)==ddh0_value_22)\n",
    "sus_func.extend([diff(h0,r,r)==ddh0_value_22])\n",
    "\n",
    "m2h2 = ddh0_value_22 - ddh0_value_33 == 0\n",
    "m2_value = solve(m2h2,m2)[0].rhs().simplify_full()\n",
    "\n",
    "m2_paper = 1/6*r^4*j^2*diff(omega,r)^2\\\n",
    "          -1/3*r^3*diff(j^2,r)*(omega-Omega1)^2\\\n",
    "          -h2\n",
    "\n",
    "dm2_value = diff(m2_value,r)\n",
    "ddm2_value = diff(m2_value,r,r)\n",
    "for ii in range(0,len(sus_func)):\n",
    "    dm2_value = dm2_value.subs(sus_func[ii])\n",
    "    ddm2_value = ddm2_value.subs(sus_func[ii])\n",
    "    m2_paper = m2_paper.subs(sus_func[ii])\n",
    "\n",
    "ddG = ddG.subs(diff(m2,r,r)==ddm2_value).subs(diff(m2,r)==dm2_value).subs(m2==m2_value)\n",
    "ddT = ddT.subs(diff(m2,r,r)==ddm2_value).subs(diff(m2,r)==dm2_value).subs(m2==m2_value)\n",
    "sus_func.extend([diff(m2,r,r)==ddm2_value,\n",
    "                 diff(m2,r)==dm2_value,\n",
    "                 m2==m2_value])\n",
    "\n",
    "m2_check = m2_value - m2_paper\n",
    "\n",
    "show(LatexExpr(\"m_2 \\\\rightarrow\"), bool(m2_check==0))"
   ]
  },
  {
   "cell_type": "markdown",
   "metadata": {},
   "source": [
    "### <center> Barotropic equation of state </center>"
   ]
  },
  {
   "cell_type": "code",
   "execution_count": 20,
   "metadata": {
    "scrolled": true
   },
   "outputs": [
    {
     "data": {
      "text/html": [
       "<html>\\[\\newcommand{\\Bold}[1]{\\mathbf{#1}}m_{0}' \\rightarrow \\mathrm{True}\\]</html>"
      ],
      "text/latex": [
       "$$\\newcommand{\\Bold}[1]{\\mathbf{#1}}m_{0}' \\rightarrow \\mathrm{True}$$"
      ],
      "text/plain": [
       "m_{0}' \\rightarrow True"
      ]
     },
     "metadata": {},
     "output_type": "display_data"
    }
   ],
   "source": [
    "EOS = E2*diff(P,r) - P2*diff(E,r) == 0\n",
    "\n",
    "for ii in range(0,len(sus_descomp)):\n",
    "    EOS = EOS.subs(sus_descomp[ii])\n",
    "EOS = EOS.simplify_full()\n",
    "\n",
    "for ii in range(0,len(sus_legendre)):\n",
    "    EOS = EOS.subs(sus_legendre[ii])\n",
    "\n",
    "EOS = EOS.subs(LP1==0).subs(LP2==0)\n",
    "\n",
    "PT0 = P20/(2*(E+P))\n",
    "\n",
    "E20_value_EOS = solve(EOS, E20)[0].rhs()\n",
    "\n",
    "dm0_value = E20_value_EOS - E20_value_00 == 0\n",
    "dm0_value = solve(dm0_value, diff(m0,r))[0].rhs()\n",
    "\n",
    "dm0_paper = - diff(r*e^(-lamb)*m0,r)\\\n",
    "            + 4*pi*r^2*diff(E,r)/diff(P,r)*(E+P)*PT0\\\n",
    "            + 1/12*j^2*r^4*diff(omega,r)^2\\\n",
    "            - 2/3*r^3*j*diff(j,r)*(omega-Omega1)^2  == 0\n",
    "\n",
    "dm0_paper = solve(dm0_paper, diff(m0,r))[0].rhs()\n",
    "\n",
    "ddm0_value = diff(dm0_value,r)\n",
    "for ii in range(0,len(sus_func)):\n",
    "    dm0_value = dm0_value.subs(sus_func[ii])\n",
    "    ddm0_value = ddm0_value.subs(sus_func[ii])\n",
    "    dm0_paper = dm0_paper.subs(sus_func[ii])\n",
    "    \n",
    "ddG = ddG.subs(diff(m0,r,r)==diff(dm0_value,r)).subs(diff(m0,r)==dm0_value)\n",
    "ddT = ddT.subs(diff(m0,r,r)==diff(dm0_value,r)).subs(diff(m0,r)==dm0_value)\n",
    "sus_func.extend([diff(m0,r,r)==diff(dm0_value,r),\n",
    "                 diff(m0,r)==dm0_value])\n",
    "\n",
    "dm0_check = dm0_value - dm0_paper\n",
    "show(LatexExpr(\"m_{0}' \\\\rightarrow\"), bool(dm0_check==0))"
   ]
  },
  {
   "cell_type": "markdown",
   "metadata": {},
   "source": [
    "### <center> Ecuación 62 </center>"
   ]
  },
  {
   "cell_type": "code",
   "execution_count": 21,
   "metadata": {},
   "outputs": [
    {
     "data": {
      "text/html": [
       "<html>\\[\\newcommand{\\Bold}[1]{\\mathbf{#1}}\\text{Ecuación (62) }\\rightarrow \\mathrm{True}\\]</html>"
      ],
      "text/latex": [
       "$$\\newcommand{\\Bold}[1]{\\mathbf{#1}}\\text{Ecuación (62) }\\rightarrow \\mathrm{True}$$"
      ],
      "text/plain": [
       "\\text{Ecuación (62) }\\rightarrow True"
      ]
     },
     "metadata": {},
     "output_type": "display_data"
    }
   ],
   "source": [
    "eq_62 = diff(PT0, r)\\\n",
    "        + 4*pi*(E+P)*r^2*PT0/(r-2*M)\\\n",
    "        + (r*e^(-lamb)*m0)*r^2/(r-2*M)^2*(8*pi*P+1/r^2)\\\n",
    "        - r^4*j^2/(12*(r-2*M))*diff(omega,r)^2\\\n",
    "        - 1/3*diff((r^3*j^2*(omega-Omega1)^2)/(r-2*M),r)\n",
    "\n",
    "for ii in range(0,len(sus_func)):\n",
    "    eq_62 = eq_62.subs(sus_func[ii])\n",
    "\n",
    "show(LatexExpr(\"\\\\text{Ecuación (62) }\\\\rightarrow\"), bool(eq_62==0))"
   ]
  },
  {
   "cell_type": "markdown",
   "metadata": {},
   "source": [
    "### <center> Ecuación 64 </center>"
   ]
  },
  {
   "cell_type": "code",
   "execution_count": 22,
   "metadata": {},
   "outputs": [
    {
     "data": {
      "text/html": [
       "<html>\\[\\newcommand{\\Bold}[1]{\\mathbf{#1}}\\text{Ecuación (64) }\\rightarrow \\mathrm{True}\\]</html>"
      ],
      "text/latex": [
       "$$\\newcommand{\\Bold}[1]{\\mathbf{#1}}\\text{Ecuación (64) }\\rightarrow \\mathrm{True}$$"
      ],
      "text/plain": [
       "\\text{Ecuación (64) }\\rightarrow True"
      ]
     },
     "metadata": {},
     "output_type": "display_data"
    }
   ],
   "source": [
    "eq_64 = PT0+h0-1/3*r^2*e^(-nu)*(omega-Omega1)^2\n",
    "deq_64 = diff(eq_64, r)\n",
    "for ii in range(0,len(sus_func)):\n",
    "    deq_64 = deq_64.subs(sus_func[ii])\n",
    "\n",
    "show(LatexExpr(\"\\\\text{Ecuación (64) }\\\\rightarrow\"), bool(deq_64==0))"
   ]
  },
  {
   "cell_type": "markdown",
   "metadata": {},
   "source": [
    "### <center> $\\boxed{l=2}$ </center>"
   ]
  },
  {
   "cell_type": "markdown",
   "metadata": {},
   "source": [
    "### <center> $G^{\\prime\\prime}_{22} = \\kappa T^{\\prime\\prime}_{22}$    y    $G^{\\prime\\prime}_{33} = \\kappa T^{\\prime\\prime}_{33}$ </center>"
   ]
  },
  {
   "cell_type": "code",
   "execution_count": 23,
   "metadata": {},
   "outputs": [
    {
     "data": {
      "text/html": [
       "<html>\\[\\newcommand{\\Bold}[1]{\\mathbf{#1}}P^{(2)}_2\\lvert_{\\theta\\theta}=P^{(2)}_2\\lvert_{\\phi\\phi}\\rightarrow \\mathrm{True}\\]</html>"
      ],
      "text/latex": [
       "$$\\newcommand{\\Bold}[1]{\\mathbf{#1}}P^{(2)}_2\\lvert_{\\theta\\theta}=P^{(2)}_2\\lvert_{\\phi\\phi}\\rightarrow \\mathrm{True}$$"
      ],
      "text/plain": [
       "P^{(2)}_2\\lvert_{\\theta\\theta}=P^{(2)}_2\\lvert_{\\phi\\phi}\\rightarrow True"
      ]
     },
     "metadata": {},
     "output_type": "display_data"
    }
   ],
   "source": [
    "ddEq_22 = (ddG[2,2]-kappa*ddT[2,2] == 0).simplify_full()\n",
    "ddEq_33 = ((ddG[3,3]-kappa*ddT[3,3] == 0)/sin(th)^2).simplify_full()\n",
    "\n",
    "for ii in range(0,len(sus_legendre)):\n",
    "    ddEq_22 = ddEq_22.subs(sus_legendre[ii])\n",
    "    ddEq_33 = ddEq_33.subs(sus_legendre[ii])\n",
    "\n",
    "ddEq_22 = (ddEq_22.subs(LP1==0) - ddEq_22.subs(LP1==0).subs(LP2==0))/LP2\n",
    "P22_value_22 = solve(ddEq_22, P22)[0].rhs().simplify_full()\n",
    "\n",
    "ddEq_33 = (ddEq_33.subs(LP1==0) - ddEq_33.subs(LP1==0).subs(LP2==0))/LP2\n",
    "P22_value_33 = solve(ddEq_33, P22)[0].rhs().simplify_full()\n",
    "\n",
    "for ii in range(0,len(sus_func)):\n",
    "    P22_value_22 = P22_value_22.subs(sus_func[ii])\n",
    "    P22_value_33 = P22_value_33.subs(sus_func[ii])\n",
    "    \n",
    "P22_value_22 = P22_value_22.simplify_full()\n",
    "P22_value_33 = P22_value_33.simplify_full()\n",
    "\n",
    "P22_check_22_33 = P22_value_22 - P22_value_33\n",
    "\n",
    "show(LatexExpr(\"P^{(2)}_2\\lvert_{\\\\theta\\\\theta}=P^{(2)}_2\\lvert_{\\\\phi\\\\phi}\\\\rightarrow\"), bool(P22_check_22_33==0))"
   ]
  },
  {
   "cell_type": "markdown",
   "metadata": {},
   "source": [
    "### <center> $G^{\\prime\\prime}_{00} = \\kappa T^{\\prime\\prime}_{00}$ </center>"
   ]
  },
  {
   "cell_type": "code",
   "execution_count": 24,
   "metadata": {
    "scrolled": true
   },
   "outputs": [],
   "source": [
    "ddEq_00 = (ddG[0,0] - kappa*ddT[0,0] == 0).simplify_full()\n",
    "\n",
    "for ii in range(0,len(sus_legendre)):\n",
    "    ddEq_00 = ddEq_00.subs(sus_legendre[ii])\n",
    "\n",
    "ddEq_00 = ddEq_00.simplify_full()\n",
    "ddEq_00 = (ddEq_00.subs(LP1==0) - ddEq_00.subs(LP1==0).subs(LP2==0))/LP2\n",
    "\n",
    "E22_value_00 = solve(ddEq_00,E22)[0].rhs()\n",
    "for ii in range(0,len(sus_func)):\n",
    "    E22_value_00 = E22_value_00.subs(sus_func[ii])\n",
    "E22_value_00 = E22_value_00.simplify_full()\n",
    "\n",
    "ddE22_value_00 = diff(E22_value_00,r,r)\n",
    "dE22_value_00 = diff(E22_value_00,r)\n",
    "for ii in range(0,len(sus_func)):\n",
    "    ddE22_value_00 = ddE22_value_00.subs(sus_func[ii])\n",
    "    dE22_value_00 = dE22_value_00.subs(sus_func[ii])\n",
    "\n",
    "ddG = ddG.subs(diff(E22,r,r)==ddE22_value_00).subs(diff(E22,r)==dE22_value_00).subs(E22==E22_value_00)\n",
    "ddT = ddT.subs(diff(E22,r,r)==ddE22_value_00).subs(diff(E22,r)==dE22_value_00).subs(E22==E22_value_00)\n",
    "sus_func.extend([diff(E22,r,r)==ddE22_value_00,\n",
    "                 diff(E22,r)==dE22_value_00,\n",
    "                 E22==E22_value_00])"
   ]
  },
  {
   "cell_type": "markdown",
   "metadata": {},
   "source": [
    "### <center> $G^{\\prime\\prime}_{11} = \\kappa T^{\\prime\\prime}_{11}$ </center>"
   ]
  },
  {
   "cell_type": "code",
   "execution_count": 25,
   "metadata": {},
   "outputs": [],
   "source": [
    "ddEq_11 = (ddG[1,1] - kappa*ddT[1,1] == 0).simplify_full()\n",
    "\n",
    "for ii in range(0,len(sus_legendre)):\n",
    "    ddEq_11 = ddEq_11.subs(sus_legendre[ii])\n",
    "\n",
    "ddEq_11 = (ddEq_11.subs(LP1==0) - ddEq_11.subs(LP1==0).subs(LP2==0))/LP2\n",
    "\n",
    "P22_value_11 = solve(ddEq_11,P22)[0].rhs()\n",
    "for ii in range(0,len(sus_func)):\n",
    "    P22_value_11 = P22_value_11.subs(sus_func[ii])\n",
    "P22_value_11 = P22_value_11.simplify_full()\n",
    "\n",
    "ddP22_value_11 = diff(P22_value_11,r,r)\n",
    "dP22_value_11 = diff(P22_value_11,r)\n",
    "for ii in range(0,len(sus_func)):\n",
    "    ddP22_value_11 = ddP22_value_11.subs(sus_func[ii])\n",
    "    dP22_value_11 = dP22_value_11.subs(sus_func[ii])\n",
    "\n",
    "ddG = ddG.subs(diff(P22,r,r)==ddP22_value_11).subs(diff(P22,r)==dP22_value_11).subs(P22==P22_value_11)\n",
    "ddT = ddT.subs(diff(P22,r,r)==ddP22_value_11).subs(diff(P22,r)==dP22_value_11).subs(P22==P22_value_11)\n",
    "sus_func.extend([diff(P22,r,r)==ddP22_value_11,\n",
    "                 diff(P22,r)==dP22_value_11,\n",
    "                 P22==P22_value_11])"
   ]
  },
  {
   "cell_type": "markdown",
   "metadata": {},
   "source": [
    "### <center> $G^{\\prime\\prime}_{12} = \\kappa T^{\\prime\\prime}_{12}$ </center>"
   ]
  },
  {
   "cell_type": "code",
   "execution_count": 26,
   "metadata": {
    "scrolled": true
   },
   "outputs": [
    {
     "data": {
      "text/html": [
       "<html>\\[\\newcommand{\\Bold}[1]{\\mathbf{#1}}k_2' \\rightarrow \\mathrm{True}\\]</html>"
      ],
      "text/latex": [
       "$$\\newcommand{\\Bold}[1]{\\mathbf{#1}}k_2' \\rightarrow \\mathrm{True}$$"
      ],
      "text/plain": [
       "k_2' \\rightarrow True"
      ]
     },
     "metadata": {},
     "output_type": "display_data"
    }
   ],
   "source": [
    "ddEq_12 = ddG[1,2]-kappa*ddT[1,2] == 0\n",
    "\n",
    "dk2_value = solve(ddEq_12, diff(k2,r))[0].rhs().simplify_full()\n",
    "\n",
    "dk2_paper = -h2*diff(nu,r)-diff(h2,r)\\\n",
    "            +(1/r+diff(nu,r)/2)*(-2/3*r^3*j*diff(j,r)*(omega-Omega1)^2\\\n",
    "                                 +1/6*j^2*r^4*diff(omega,r)^2)\n",
    "\n",
    "for ii in range(0,len(sus_func)):\n",
    "    dk2_value = dk2_value.subs(sus_func[ii])\n",
    "    dk2_paper = dk2_paper.subs(sus_func[ii])\n",
    "\n",
    "dk2_value = dk2_value.simplify_full()\n",
    "ddk2_value = diff(dk2_value,r)\n",
    "for ii in range(0,len(sus_func)):\n",
    "    ddk2_value = ddk2_value.subs(sus_func[ii])\n",
    "\n",
    "ddG = ddG.subs(diff(k2,r,r)==ddk2_value).subs(diff(k2,r)==dk2_value)\n",
    "ddT = ddT.subs(diff(k2,r,r)==ddk2_value).subs(diff(k2,r)==dk2_value)\n",
    "sus_func.extend([diff(k2,r,r)==ddk2_value,\n",
    "                 diff(k2,r)==dk2_value])\n",
    "\n",
    "dk2_check = (dk2_value - dk2_paper).simplify_full()\n",
    "\n",
    "show(LatexExpr(\"k_2' \\\\rightarrow\"), bool(dk2_check==0))"
   ]
  },
  {
   "cell_type": "markdown",
   "metadata": {},
   "source": [
    "### <center> $G^{\\prime\\prime}_{22} = \\kappa T^{\\prime\\prime}_{22}$ </center>"
   ]
  },
  {
   "cell_type": "code",
   "execution_count": 27,
   "metadata": {
    "scrolled": true
   },
   "outputs": [
    {
     "data": {
      "text/html": [
       "<html>\\[\\newcommand{\\Bold}[1]{\\mathbf{#1}}h_{2}' \\rightarrow \\mathrm{True}\\]</html>"
      ],
      "text/latex": [
       "$$\\newcommand{\\Bold}[1]{\\mathbf{#1}}h_{2}' \\rightarrow \\mathrm{True}$$"
      ],
      "text/plain": [
       "h_{2}' \\rightarrow True"
      ]
     },
     "metadata": {},
     "output_type": "display_data"
    }
   ],
   "source": [
    "ddEq_22_00 = (ddG[2,2] - kappa*ddT[2,2] == 0).simplify_full()\n",
    "\n",
    "for ii in range(0,len(sus_legendre)):\n",
    "    ddEq_22_00 = ddEq_22_00.subs(sus_legendre[ii])\n",
    "\n",
    "ddEq_22_00 = (ddEq_22_00.subs(LP1==0) - ddEq_22_00.subs(LP1==0).subs(LP2==0))/LP2\n",
    "dh2_value = solve(ddEq_22_00, diff(h2,r))[0].rhs().simplify_full()\n",
    "\n",
    "ddh2_value = diff(dh2_value,r)\n",
    "for ii in range(0,len(sus_func)):\n",
    "    ddh2_value = ddh2_value.subs(sus_func[ii])\n",
    "ddh2_value = ddh2_value.simplify_full()\n",
    "\n",
    "ddG = ddG.subs(diff(h2,r,r)==ddh2_value).subs(diff(h2,r)==dh2_value)\n",
    "ddT = ddT.subs(diff(h2,r,r)==ddh2_value).subs(diff(h2,r)==dh2_value)\n",
    "sus_func.extend([diff(h2,r,r)==ddh2_value,\n",
    "                 diff(h2,r)==dh2_value])\n",
    "\n",
    "dh2_paper = (-diff(nu,r)+r/((r-2*M)*diff(nu,r))*(8*pi*(E+P)-4*M/r^3))*h2\\\n",
    "            -4*(h2+k2)/(r*diff(nu,r)*(r-2*M))\\\n",
    "            +1/6*(1/2*r*diff(nu,r)-1/((r-2*M)*diff(nu,r)))*r^3*j^2*diff(omega,r)^2\\\n",
    "            -1/3*(1/2*r*diff(nu,r)+1/((r-2*M)*diff(nu,r)))*r^2*diff(j^2,r)*(omega-Omega1)^2\n",
    "\n",
    "for ii in range(0,len(sus_func)):\n",
    "    dh2_paper = dh2_paper.subs(sus_func[ii])\n",
    "\n",
    "dh2_value = dh2_value.simplify_full()\n",
    "dh2_check = dh2_value - dh2_paper\n",
    "\n",
    "show(LatexExpr(\"h_{2}' \\\\rightarrow\"), bool(dh2_check==0))"
   ]
  },
  {
   "cell_type": "code",
   "execution_count": 28,
   "metadata": {},
   "outputs": [
    {
     "data": {
      "text/html": [
       "<html>\\[\\newcommand{\\Bold}[1]{\\mathbf{#1}}\\frac{{\\left(2 \\, {\\left({\\Omega^{(1)}}^{2} r^{5} - 2 \\, {\\Omega^{(1)}} r^{5} \\omega\\left(r\\right) + r^{5} \\omega\\left(r\\right)^{2}\\right)} \\frac{\\partial}{\\partial r}\\nu\\left(r\\right)^{3} - 24 \\, {\\left(3 \\, e^{\\left(2 \\, \\lambda\\left(r\\right)\\right)} - e^{\\lambda\\left(r\\right)}\\right)} e^{\\nu\\left(r\\right)} h_2\\left(r\\right) - 2 \\, {\\left(6 \\, r^{2} e^{\\left(\\lambda\\left(r\\right) + \\nu\\left(r\\right)\\right)} h_2\\left(r\\right) - {\\left({\\Omega^{(1)}}^{2} r^{5} - 2 \\, {\\Omega^{(1)}} r^{5} \\omega\\left(r\\right) + r^{5} \\omega\\left(r\\right)^{2}\\right)} \\frac{\\partial}{\\partial r}\\lambda\\left(r\\right)\\right)} \\frac{\\partial}{\\partial r}\\nu\\left(r\\right)^{2} + {\\left(r^{6} \\frac{\\partial}{\\partial r}\\nu\\left(r\\right)^{2} - 2 \\, r^{4} e^{\\lambda\\left(r\\right)}\\right)} \\frac{\\partial}{\\partial r}\\omega\\left(r\\right)^{2} - 48 \\, e^{\\left(2 \\, \\lambda\\left(r\\right) + \\nu\\left(r\\right)\\right)} k_2\\left(r\\right) + 4 \\, {\\left({\\Omega^{(1)}}^{2} r^{3} e^{\\lambda\\left(r\\right)} - 2 \\, {\\Omega^{(1)}} r^{3} e^{\\lambda\\left(r\\right)} \\omega\\left(r\\right) + r^{3} e^{\\lambda\\left(r\\right)} \\omega\\left(r\\right)^{2} + 3 \\, r e^{\\left(\\lambda\\left(r\\right) + \\nu\\left(r\\right)\\right)} h_2\\left(r\\right)\\right)} \\frac{\\partial}{\\partial r}\\lambda\\left(r\\right) + 4 \\, {\\left({\\Omega^{(1)}}^{2} r^{3} e^{\\lambda\\left(r\\right)} - 2 \\, {\\Omega^{(1)}} r^{3} e^{\\lambda\\left(r\\right)} \\omega\\left(r\\right) + r^{3} e^{\\lambda\\left(r\\right)} \\omega\\left(r\\right)^{2} + 3 \\, r e^{\\left(\\lambda\\left(r\\right) + \\nu\\left(r\\right)\\right)} h_2\\left(r\\right)\\right)} \\frac{\\partial}{\\partial r}\\nu\\left(r\\right)\\right)} e^{\\left(-\\lambda\\left(r\\right) - \\nu\\left(r\\right)\\right)}}{12 \\, r^{2} \\frac{\\partial}{\\partial r}\\nu\\left(r\\right)}\\]</html>"
      ],
      "text/latex": [
       "$$\\newcommand{\\Bold}[1]{\\mathbf{#1}}\\frac{{\\left(2 \\, {\\left({\\Omega^{(1)}}^{2} r^{5} - 2 \\, {\\Omega^{(1)}} r^{5} \\omega\\left(r\\right) + r^{5} \\omega\\left(r\\right)^{2}\\right)} \\frac{\\partial}{\\partial r}\\nu\\left(r\\right)^{3} - 24 \\, {\\left(3 \\, e^{\\left(2 \\, \\lambda\\left(r\\right)\\right)} - e^{\\lambda\\left(r\\right)}\\right)} e^{\\nu\\left(r\\right)} h_2\\left(r\\right) - 2 \\, {\\left(6 \\, r^{2} e^{\\left(\\lambda\\left(r\\right) + \\nu\\left(r\\right)\\right)} h_2\\left(r\\right) - {\\left({\\Omega^{(1)}}^{2} r^{5} - 2 \\, {\\Omega^{(1)}} r^{5} \\omega\\left(r\\right) + r^{5} \\omega\\left(r\\right)^{2}\\right)} \\frac{\\partial}{\\partial r}\\lambda\\left(r\\right)\\right)} \\frac{\\partial}{\\partial r}\\nu\\left(r\\right)^{2} + {\\left(r^{6} \\frac{\\partial}{\\partial r}\\nu\\left(r\\right)^{2} - 2 \\, r^{4} e^{\\lambda\\left(r\\right)}\\right)} \\frac{\\partial}{\\partial r}\\omega\\left(r\\right)^{2} - 48 \\, e^{\\left(2 \\, \\lambda\\left(r\\right) + \\nu\\left(r\\right)\\right)} k_2\\left(r\\right) + 4 \\, {\\left({\\Omega^{(1)}}^{2} r^{3} e^{\\lambda\\left(r\\right)} - 2 \\, {\\Omega^{(1)}} r^{3} e^{\\lambda\\left(r\\right)} \\omega\\left(r\\right) + r^{3} e^{\\lambda\\left(r\\right)} \\omega\\left(r\\right)^{2} + 3 \\, r e^{\\left(\\lambda\\left(r\\right) + \\nu\\left(r\\right)\\right)} h_2\\left(r\\right)\\right)} \\frac{\\partial}{\\partial r}\\lambda\\left(r\\right) + 4 \\, {\\left({\\Omega^{(1)}}^{2} r^{3} e^{\\lambda\\left(r\\right)} - 2 \\, {\\Omega^{(1)}} r^{3} e^{\\lambda\\left(r\\right)} \\omega\\left(r\\right) + r^{3} e^{\\lambda\\left(r\\right)} \\omega\\left(r\\right)^{2} + 3 \\, r e^{\\left(\\lambda\\left(r\\right) + \\nu\\left(r\\right)\\right)} h_2\\left(r\\right)\\right)} \\frac{\\partial}{\\partial r}\\nu\\left(r\\right)\\right)} e^{\\left(-\\lambda\\left(r\\right) - \\nu\\left(r\\right)\\right)}}{12 \\, r^{2} \\frac{\\partial}{\\partial r}\\nu\\left(r\\right)}$$"
      ],
      "text/plain": [
       "1/12*(2*(Omega1^2*r^5 - 2*Omega1*r^5*omega(r) + r^5*omega(r)^2)*diff(nu(r), r)^3 - 24*(3*e^(2*lamb(r)) - e^lamb(r))*e^nu(r)*h2(r) - 2*(6*r^2*e^(lamb(r) + nu(r))*h2(r) - (Omega1^2*r^5 - 2*Omega1*r^5*omega(r) + r^5*omega(r)^2)*diff(lamb(r), r))*diff(nu(r), r)^2 + (r^6*diff(nu(r), r)^2 - 2*r^4*e^lamb(r))*diff(omega(r), r)^2 - 48*e^(2*lamb(r) + nu(r))*k2(r) + 4*(Omega1^2*r^3*e^lamb(r) - 2*Omega1*r^3*e^lamb(r)*omega(r) + r^3*e^lamb(r)*omega(r)^2 + 3*r*e^(lamb(r) + nu(r))*h2(r))*diff(lamb(r), r) + 4*(Omega1^2*r^3*e^lamb(r) - 2*Omega1*r^3*e^lamb(r)*omega(r) + r^3*e^lamb(r)*omega(r)^2 + 3*r*e^(lamb(r) + nu(r))*h2(r))*diff(nu(r), r))*e^(-lamb(r) - nu(r))/(r^2*diff(nu(r), r))"
      ]
     },
     "metadata": {},
     "output_type": "display_data"
    }
   ],
   "source": [
    "show(dh2_value)"
   ]
  },
  {
   "cell_type": "markdown",
   "metadata": {},
   "source": [
    "### <center> Ecuación 70 </center>"
   ]
  },
  {
   "cell_type": "code",
   "execution_count": 29,
   "metadata": {},
   "outputs": [
    {
     "data": {
      "text/html": [
       "<html>\\[\\newcommand{\\Bold}[1]{\\mathbf{#1}}\\text{Ecuación (70) }\\rightarrow \\mathrm{True}\\]</html>"
      ],
      "text/latex": [
       "$$\\newcommand{\\Bold}[1]{\\mathbf{#1}}\\text{Ecuación (70) }\\rightarrow \\mathrm{True}$$"
      ],
      "text/plain": [
       "\\text{Ecuación (70) }\\rightarrow True"
      ]
     },
     "metadata": {},
     "output_type": "display_data"
    }
   ],
   "source": [
    "E22_check = E22_value_00 - 4/3*diff(E,r)/diff(nu,r)*(3*h2+e^(-nu)*r^2*(omega-Omega1)^2)\n",
    "for ii in range(0,len(sus_func)):\n",
    "    E22_check = E22_check.subs(sus_func[ii])\n",
    "E22_check = E22_check.simplify_full()\n",
    "\n",
    "show(LatexExpr(\"\\\\text{Ecuación (70) }\\\\rightarrow\"), bool(E22_check==0))"
   ]
  },
  {
   "cell_type": "markdown",
   "metadata": {},
   "source": [
    "### <center> Ecuación 71 </center>"
   ]
  },
  {
   "cell_type": "code",
   "execution_count": 30,
   "metadata": {},
   "outputs": [
    {
     "data": {
      "text/html": [
       "<html>\\[\\newcommand{\\Bold}[1]{\\mathbf{#1}}\\text{Ecuación (71) }\\rightarrow \\mathrm{True}\\]</html>"
      ],
      "text/latex": [
       "$$\\newcommand{\\Bold}[1]{\\mathbf{#1}}\\text{Ecuación (71) }\\rightarrow \\mathrm{True}$$"
      ],
      "text/plain": [
       "\\text{Ecuación (71) }\\rightarrow True"
      ]
     },
     "metadata": {},
     "output_type": "display_data"
    }
   ],
   "source": [
    "P22_check = P22_value_11 + 2/3*(E+P)*(3*h2+e^(-nu)*r^2*(omega-Omega1)^2)\n",
    "for ii in range(0,len(sus_func)):\n",
    "    P22_check = P22_check.subs(sus_func[ii])\n",
    "P22_check = P22_check.simplify_full()\n",
    "\n",
    "show(LatexExpr(\"\\\\text{Ecuación (71) }\\\\rightarrow\"), bool(P22_check==0))"
   ]
  },
  {
   "cell_type": "markdown",
   "metadata": {},
   "source": [
    "### <center> Ecuación 73 </center>"
   ]
  },
  {
   "cell_type": "code",
   "execution_count": 31,
   "metadata": {},
   "outputs": [
    {
     "data": {
      "text/html": [
       "<html>\\[\\newcommand{\\Bold}[1]{\\mathbf{#1}}\\text{Ecuación (73) }\\rightarrow \\mathrm{True}\\]</html>"
      ],
      "text/latex": [
       "$$\\newcommand{\\Bold}[1]{\\mathbf{#1}}\\text{Ecuación (73) }\\rightarrow \\mathrm{True}$$"
      ],
      "text/plain": [
       "\\text{Ecuación (73) }\\rightarrow True"
      ]
     },
     "metadata": {},
     "output_type": "display_data"
    }
   ],
   "source": [
    "PT2 = P22/(2*(E+P))\n",
    "\n",
    "eq_73 = PT2+h2+1/3*e^(-nu)*r^2*(omega-Omega1)^2\n",
    "for ii in range(0,len(sus_func)):\n",
    "    eq_73 = eq_73.subs(sus_func[ii])\n",
    "\n",
    "show(LatexExpr(\"\\\\text{Ecuación (73) }\\\\rightarrow\"), bool(eq_73==0))"
   ]
  },
  {
   "cell_type": "markdown",
   "metadata": {},
   "source": [
    "## <center> Matching </center>"
   ]
  },
  {
   "cell_type": "code",
   "execution_count": 67,
   "metadata": {},
   "outputs": [],
   "source": [
    "var('a')\n",
    "\n",
    "var('H0', latex_name=\"H_0\")\n",
    "\n",
    "var('s_k', latex_name=\"[k]\")\n",
    "var('s_h', latex_name=\"[h]\")\n",
    "var('s_m', latex_name=\"[m]\")\n",
    "var('s_dk', latex_name=\"[k^{\\\\prime}]\")\n",
    "var('s_dh', latex_name=\"[h^{\\\\prime}]\")\n",
    "var('s_dm', latex_name=\"[m^{\\\\prime}]\")\n",
    "\n",
    "\n",
    "var('s_h0', latex_name=\"[h_{0}]\")\n",
    "var('h0_n', latex_name=\"h_{0}^{-}\")\n",
    "\n",
    "var('s_m0', latex_name=\"[m_{0}]\")\n",
    "var('m0_n', latex_name=\"m_{0}^{-}\")\n",
    "\n",
    "var('s_dh0', latex_name=\"[h_{0}^{\\\\prime}]\")\n",
    "var('dh0_n', latex_name=\"h_{0}^{\\\\prime}^{-}\")\n",
    "\n",
    "var('s_dm0', latex_name=\"[m_{0}^{\\\\prime}]\")\n",
    "var('dm0_n', latex_name=\"m_{0}^{\\\\prime}^{-}\")\n",
    "\n",
    "\n",
    "var('s_k2', latex_name=\"[k_{2}]\")\n",
    "var('k2_a', latex_name=\"k_2(a)\")\n",
    "\n",
    "var('s_h2', latex_name=\"[h_{2}]\")\n",
    "var('h2_a', latex_name=\"h_2(a)\")\n",
    "\n",
    "var('s_m2', latex_name=\"[m_{2}]\")\n",
    "var('m2_n', latex_name=\"m_{2}^{-}\")\n",
    "\n",
    "var('s_dk2', latex_name=\"[k_{2}^{\\\\prime}]\")\n",
    "var('dk2_n', latex_name=\"k_{2}^{\\\\prime}^{-}\")\n",
    "\n",
    "var('s_dh2', latex_name=\"[h_{2}^{\\\\prime}]\")\n",
    "var('dh2_n', latex_name=\"h_{2}^{\\\\prime}^{-}\")\n",
    "\n",
    "var('s_dm2', latex_name=\"[m_{2}^{\\\\prime}]\")\n",
    "var('dm2_n', latex_name=\"m_{2}^{\\\\prime}^{-}\")\n",
    "\n",
    "\n",
    "var('nu_a', latex_name=\"\\\\nu(a)\")\n",
    "\n",
    "var('dnu_a', latex_name=\"\\\\nu^{\\\\prime}(a)\")\n",
    "\n",
    "var('s_dlamb', latex_name=\"[\\\\lambda^{\\\\prime}]\")\n",
    "var('dlamb_n', latex_name=\"\\\\lambda^{\\\\prime}_{-}(a)\")\n",
    "\n",
    "var('s_ddnu', latex_name=\"[\\\\nu^{\\\\prime\\\\prime}]\")\n",
    "var('ddnu_n', latex_name=\"\\\\nu^{\\\\prime\\\\prime}_{-}(a)\")\n",
    "\n",
    "var('s_E', latex_name=\"[E]\")\n",
    "var('E_n', latex_name=\"E_{-}\")\n",
    "\n",
    "\n",
    "var('Q2', latex_name=\"\\\\hat{Q}_2\")\n",
    "var('Q20_a', latex_name=\"Q_{2(0)}(a)\")\n",
    "var('Q22_a', latex_name=\"Q_{2(2)})(a)\")\n",
    "\n",
    "var('domega_a', latex_name=\"\\\\omega^{\\\\prime}(a)\")\n",
    "var('omega_a', latex_name=\"\\\\omega(a)\")\n",
    "\n",
    "var('J')\n",
    "\n",
    "M_a = a*(1-e^(nu_a))/2"
   ]
  },
  {
   "cell_type": "code",
   "execution_count": 68,
   "metadata": {},
   "outputs": [],
   "source": [
    "eq_s_k = s_k == 0\n",
    "eq_s_h = s_h == 1/2*H0 + 1/2*a*dnu_a*s_k\n",
    "eq_s_m = s_m == a*s_dk + 1/4*e^(nu_a/2)*s_dlamb*Q2 + 1/2*(a*dlamb_n+2)*s_k\n",
    "eq_s_dh = s_dh == 1/2*a*dnu_a*s_dk + 1/4*e^(nu_a/2)*s_ddnu*Q2 + 1/2*(a*ddnu_n+dnu_a)*s_k\n",
    "\n",
    "sus_s_descomp = [s_m==s_m0+s_m2*LP2,\n",
    "                 s_dm==s_dm0+s_dm2*LP2,\n",
    "                 s_k==s_k2*LP2,\n",
    "                 s_dk==s_dk2*LP2,\n",
    "                 s_h==s_h0+s_h2*LP2,\n",
    "                 s_dh==s_dh0+s_dh2*LP2,\n",
    "                 Q2==Q20_a+Q22_a*LP2]\n",
    "\n",
    "for ii in range(0,len(sus_s_descomp)):\n",
    "    eq_s_k = eq_s_k.subs(sus_s_descomp[ii])\n",
    "    eq_s_h = eq_s_h.subs(sus_s_descomp[ii])\n",
    "    eq_s_m = eq_s_m.subs(sus_s_descomp[ii])\n",
    "    eq_s_dh = eq_s_dh.subs(sus_s_descomp[ii])"
   ]
  },
  {
   "cell_type": "code",
   "execution_count": 69,
   "metadata": {},
   "outputs": [],
   "source": [
    "sus_s_p = [M==M_a,\n",
    "           lamb==-nu_a,\n",
    "           diff(nu,r,r)==s_ddnu+ddnu_n,\n",
    "           diff(nu,r)==dnu_a,\n",
    "           nu==nu_a,\n",
    "           diff(lamb,r)==s_dlamb+dlamb_n,\n",
    "           diff(h2,r)==s_dh2+dh2_n,\n",
    "           diff(omega,r)==domega_a,\n",
    "           omega==omega_a,\n",
    "           E==s_E+E_n,\n",
    "           P==0,\n",
    "           Q20==Q20_a,\n",
    "           Q22==Q22_a]\n",
    "\n",
    "sus_s_n = [M==M_a,\n",
    "           lamb==-nu_a,\n",
    "           diff(nu,r,r)==ddnu_n,\n",
    "           diff(nu,r)==dnu_a,\n",
    "           nu==nu_a,\n",
    "           diff(lamb,r)==dlamb_n,\n",
    "           diff(h2,r)==dh2_n,\n",
    "           diff(omega,r)==domega_a,\n",
    "           omega==omega_a,\n",
    "           E==E_n,\n",
    "           P==0,\n",
    "           Q20==Q20_a,\n",
    "           Q22==Q22_a]\n",
    "\n",
    "sus_s = [s_ddnu==(1+a*dnu_a/2)*e^(-nu_a)*8*pi*s_E,\n",
    "         s_dlamb==8*pi*a*e^(-nu_a)*s_E]\n",
    "\n",
    "sus_s_func = [dnu_a==e^(-nu_a)*2*M_a/a^2,\n",
    "              omega_a==2*J/a^3,\n",
    "              r==a]"
   ]
  },
  {
   "cell_type": "markdown",
   "metadata": {},
   "source": [
    "## <center>$\\boxed{l=0}$</center>"
   ]
  },
  {
   "cell_type": "markdown",
   "metadata": {},
   "source": [
    "## <center>[$h_0$]</center>"
   ]
  },
  {
   "cell_type": "markdown",
   "metadata": {},
   "source": [
    "Usando saltos"
   ]
  },
  {
   "cell_type": "code",
   "execution_count": 70,
   "metadata": {},
   "outputs": [
    {
     "data": {
      "text/html": [
       "<html>\\[\\newcommand{\\Bold}[1]{\\mathbf{#1}}[h_{0}]\\rightarrow \\mathrm{True}\\]</html>"
      ],
      "text/latex": [
       "$$\\newcommand{\\Bold}[1]{\\mathbf{#1}}[h_{0}]\\rightarrow \\mathrm{True}$$"
      ],
      "text/plain": [
       "[h_{0}]\\rightarrow True"
      ]
     },
     "metadata": {},
     "output_type": "display_data"
    }
   ],
   "source": [
    "s_h0_value = solve(eq_s_h, s_h0)[0].rhs()\n",
    "s_h0_value = s_h0_value.subs(LP2==0)\n",
    "\n",
    "s_h0_paper = H0/2\n",
    "s_h0_check = s_h0_value - s_h0_paper\n",
    "\n",
    "for ii in range(0,len(sus_s_func)):\n",
    "    s_h0_value = s_h0_value.subs(sus_s_func[ii])\n",
    "    s_h0_check = s_h0_check.subs(sus_s_func[ii])\n",
    "    \n",
    "s_h0_value = s_h0_value.simplify_full()\n",
    "\n",
    "show(LatexExpr(\"[h_{0}]\\\\rightarrow\"),bool(s_h0_check==0))\n",
    "\n",
    "sus_s_p.extend([h0==s_h0+h0_n])\n",
    "sus_s_n.extend([h0==h0_n])\n",
    "sus_s.extend([s_h0==s_h0_value])"
   ]
  },
  {
   "cell_type": "markdown",
   "metadata": {},
   "source": [
    "## <center>[$m_0$]</center>"
   ]
  },
  {
   "cell_type": "markdown",
   "metadata": {},
   "source": [
    "Usando saltos"
   ]
  },
  {
   "cell_type": "code",
   "execution_count": 71,
   "metadata": {},
   "outputs": [
    {
     "data": {
      "text/html": [
       "<html>\\[\\newcommand{\\Bold}[1]{\\mathbf{#1}}[m_{0}]\\rightarrow \\mathrm{True}\\]</html>"
      ],
      "text/latex": [
       "$$\\newcommand{\\Bold}[1]{\\mathbf{#1}}[m_{0}]\\rightarrow \\mathrm{True}$$"
      ],
      "text/plain": [
       "[m_{0}]\\rightarrow True"
      ]
     },
     "metadata": {},
     "output_type": "display_data"
    }
   ],
   "source": [
    "s_m0_value = solve(eq_s_m, s_m0)[0].rhs()\n",
    "s_m0_value = s_m0_value.subs(LP2==0)\n",
    "\n",
    "s_m0_paper = 2*pi*s_E*e^(-nu_a/2)*a*Q20_a\n",
    "s_m0_check = s_m0_value - s_m0_paper\n",
    "\n",
    "for ii in range(0,len(sus_s)):\n",
    "    s_m0_value = s_m0_value.subs(sus_s[ii])\n",
    "    s_m0_check = s_m0_check.subs(sus_s[ii])\n",
    "    \n",
    "for ii in range(0,len(sus_s_func)):\n",
    "    s_m0_value = s_m0_value.subs(sus_s_func[ii])\n",
    "    s_m0_check = s_m0_check.subs(sus_s_func[ii])\n",
    "\n",
    "s_m0_value = s_m0_value.simplify_full()\n",
    "\n",
    "show(LatexExpr(\"[m_{0}]\\\\rightarrow\"),bool(s_m0_check==0))\n",
    "\n",
    "sus_s_p.extend([m0==s_m0+m0_n])\n",
    "sus_s_n.extend([m0==m0_n])\n",
    "sus_s.extend([s_m0==s_m0_value])"
   ]
  },
  {
   "cell_type": "code",
   "execution_count": 72,
   "metadata": {},
   "outputs": [],
   "source": [
    "#PT0_a = PT0.subs(r==a)\n",
    "#\n",
    "#s_m0_paper = - 4*pi*a^3/M*s_E*PT0_a\n",
    "#s_m0_check = s_m0_value - s_m0_paper\n",
    "#\n",
    "#for ii in range(0,len(sus_s_func)):\n",
    "#    s_m0_value = s_m0_value.subs(sus_s_func[ii])\n",
    "#    s_m0_paper = s_m0_paper.subs(sus_s_func[ii])\n",
    "#    s_m0_check = s_m0_check.subs(sus_s_func[ii])\n",
    "#    \n",
    "#s_m0_value = s_m0_value.simplify_full()\n",
    "#s_m0_paper = s_m0_paper.simplify_full()\n",
    "#\n",
    "#show(s_m0_value)\n",
    "#show(s_m0_paper)\n",
    "#show(LatexExpr(\"[m_{0}]\\\\rightarrow\"),bool(s_m0_check==0))"
   ]
  },
  {
   "cell_type": "markdown",
   "metadata": {},
   "source": [
    "## <center>[$h'_0$]</center>"
   ]
  },
  {
   "cell_type": "markdown",
   "metadata": {},
   "source": [
    "Usando saltos"
   ]
  },
  {
   "cell_type": "code",
   "execution_count": 73,
   "metadata": {},
   "outputs": [
    {
     "data": {
      "text/html": [
       "<html>\\[\\newcommand{\\Bold}[1]{\\mathbf{#1}}[h'_{0}]\\rightarrow \\mathrm{True}\\]</html>"
      ],
      "text/latex": [
       "$$\\newcommand{\\Bold}[1]{\\mathbf{#1}}[h'_{0}]\\rightarrow \\mathrm{True}$$"
      ],
      "text/plain": [
       "[h'_{0}]\\rightarrow True"
      ]
     },
     "metadata": {},
     "output_type": "display_data"
    }
   ],
   "source": [
    "s_dh0_value = solve(eq_s_dh, s_dh0)[0].rhs()\n",
    "s_dh0_value = s_dh0_value.subs(LP2==0)\n",
    "\n",
    "s_dh0_paper = (a-M_a)/(a*(a-2*M_a))*s_m0\n",
    "s_dh0_check = s_dh0_value - s_dh0_paper\n",
    "\n",
    "for ii in range(len(sus_s)):\n",
    "    s_dh0_value = s_dh0_value.subs(sus_s[ii])\n",
    "    s_dh0_check = s_dh0_check.subs(sus_s[ii])\n",
    "    \n",
    "for ii in range(len(sus_s_func)):\n",
    "    s_dh0_value = s_dh0_value.subs(sus_s_func[ii])\n",
    "    s_dh0_check = s_dh0_check.subs(sus_s_func[ii])\n",
    "\n",
    "s_dh0_value = s_dh0_value.simplify_full()\n",
    "\n",
    "show(LatexExpr(\"[h'_{0}]\\\\rightarrow\"),bool(s_dh0_check==0))\n",
    "\n",
    "sus_s_p.extend([diff(h0,r)==s_dh0+dh0_n])\n",
    "sus_s_n.extend([diff(h0,r)==dh0_n])\n",
    "sus_s.extend([s_dh0==s_dh0_value])"
   ]
  },
  {
   "cell_type": "markdown",
   "metadata": {},
   "source": [
    "## <center>$\\boxed{l=2}$</center>"
   ]
  },
  {
   "cell_type": "markdown",
   "metadata": {},
   "source": [
    "## <center> $[k_2]$"
   ]
  },
  {
   "cell_type": "code",
   "execution_count": 74,
   "metadata": {},
   "outputs": [
    {
     "data": {
      "text/html": [
       "<html>\\[\\newcommand{\\Bold}[1]{\\mathbf{#1}}[k_{2}]\\rightarrow \\mathrm{True}\\]</html>"
      ],
      "text/latex": [
       "$$\\newcommand{\\Bold}[1]{\\mathbf{#1}}[k_{2}]\\rightarrow \\mathrm{True}$$"
      ],
      "text/plain": [
       "[k_{2}]\\rightarrow True"
      ]
     },
     "metadata": {},
     "output_type": "display_data"
    }
   ],
   "source": [
    "s_k2_value = solve(eq_s_k, s_k2)[0].rhs()\n",
    "s_k2_check = s_k2_value - 0\n",
    "\n",
    "for ii in range(len(sus_s)):\n",
    "    s_k2_value = s_k2_value.subs(sus_s[ii])\n",
    "\n",
    "for ii in range(len(sus_s_func)):\n",
    "    s_k2_value = s_k2_value.subs(sus_s_func[ii])\n",
    "\n",
    "show(LatexExpr(\"[k_{2}]\\\\rightarrow\"), bool(s_k2_check==0))\n",
    "\n",
    "sus_s_p.extend([k2==k2_a])\n",
    "sus_s_n.extend([k2==k2_a])\n",
    "sus_s.extend([s_k2==s_k2_value])"
   ]
  },
  {
   "cell_type": "markdown",
   "metadata": {},
   "source": [
    "## <center> $[h_2]$"
   ]
  },
  {
   "cell_type": "code",
   "execution_count": 75,
   "metadata": {},
   "outputs": [
    {
     "data": {
      "text/html": [
       "<html>\\[\\newcommand{\\Bold}[1]{\\mathbf{#1}}[h_{2}]\\rightarrow \\mathrm{True}\\]</html>"
      ],
      "text/latex": [
       "$$\\newcommand{\\Bold}[1]{\\mathbf{#1}}[h_{2}]\\rightarrow \\mathrm{True}$$"
      ],
      "text/plain": [
       "[h_{2}]\\rightarrow True"
      ]
     },
     "metadata": {},
     "output_type": "display_data"
    }
   ],
   "source": [
    "eq_s_h = eq_s_h - eq_s_h.subs(LP2==0)\n",
    "\n",
    "s_h2_value = solve(eq_s_h, s_h2)[0].rhs()\n",
    "\n",
    "s_h2_paper = 0\n",
    "s_h2_check = s_h2_value - s_h2_paper\n",
    "\n",
    "for ii in range(0,len(sus_s)):\n",
    "    s_h2_value = s_h2_value.subs(sus_s[ii])\n",
    "    s_h2_check = s_h2_check.subs(sus_s[ii])\n",
    "    \n",
    "for ii in range(0,len(sus_s_func)):\n",
    "    s_h2_value = s_h2_value.subs(sus_s_func[ii])\n",
    "    s_h2_check = s_h2_check.subs(sus_s_func[ii])\n",
    "\n",
    "show(LatexExpr(\"[h_{2}]\\\\rightarrow\"),bool(s_h2_check==0))\n",
    "\n",
    "sus_s_p.extend([h2==h2_a])\n",
    "sus_s_n.extend([h2==h2_a])\n",
    "sus_s.extend([s_h2==s_h2_value])"
   ]
  },
  {
   "cell_type": "markdown",
   "metadata": {},
   "source": [
    "## <center> $[h'_2]$"
   ]
  },
  {
   "cell_type": "code",
   "execution_count": 79,
   "metadata": {
    "scrolled": true
   },
   "outputs": [
    {
     "data": {
      "text/html": [
       "<html>\\[\\newcommand{\\Bold}[1]{\\mathbf{#1}}[h_{2}^{\\prime}]\\rightarrow \\mathrm{True}\\]</html>"
      ],
      "text/latex": [
       "$$\\newcommand{\\Bold}[1]{\\mathbf{#1}}[h_{2}^{\\prime}]\\rightarrow \\mathrm{True}$$"
      ],
      "text/plain": [
       "[h_{2}^{\\prime}]\\rightarrow True"
      ]
     },
     "metadata": {},
     "output_type": "display_data"
    }
   ],
   "source": [
    "dh2_p_value = dh2_value\n",
    "dh2_n_value = dh2_value\n",
    "\n",
    "for ii in range(len(sus_s_p)):\n",
    "    dh2_p_value = dh2_p_value.subs(sus_s_p[ii])\n",
    "    dh2_n_value = dh2_n_value.subs(sus_s_n[ii])\n",
    "\n",
    "s_dh2_value_68 = dh2_p_value - dh2_n_value\n",
    "\n",
    "for ii in range(len(sus_s)):\n",
    "    s_dh2_value_68 = s_dh2_value_68.subs(sus_s[ii])\n",
    "\n",
    "for ii in range(len(sus_s_func)):\n",
    "    s_dh2_value_68 = s_dh2_value_68.subs(sus_s_func[ii])\n",
    "\n",
    "s_dh2_paper = 4*pi*s_E*a^2/M_a*h2_a\\\n",
    "              +4/3*pi*s_E*a^2/M_a*e^(-2*nu_a)*((a-M_a)^2+M_a^2)*(2*J/a^3-Omega1)^2\n",
    "\n",
    "s_dh2_check = s_dh2_value_68 - s_dh2_paper\n",
    "for ii in range(len(sus_s)):\n",
    "    s_dh2_check = s_dh2_check.subs(sus_s[ii])\n",
    "for ii in range(len(sus_s_func)):\n",
    "    s_dh2_check = s_dh2_check.subs(sus_s_func[ii])\n",
    "\n",
    "show(LatexExpr(\"[h_{2}^{\\\\prime}]\\\\rightarrow\"),bool(s_dh2_check==0))"
   ]
  },
  {
   "cell_type": "code",
   "execution_count": 76,
   "metadata": {},
   "outputs": [
    {
     "data": {
      "text/html": [
       "<html>\\[\\newcommand{\\Bold}[1]{\\mathbf{#1}}-\\pi {\\left({\\left(e^{{\\nu(a)}} - 1\\right)} e^{\\left(-{\\nu(a)}\\right)} - 2\\right)} {Q_{2(2)})(a)} {[E]} e^{\\left(-\\frac{1}{2} \\, {\\nu(a)}\\right)} - \\frac{1}{2} \\, {[k_{2}^{\\prime}]} {\\left(e^{{\\nu(a)}} - 1\\right)} e^{\\left(-{\\nu(a)}\\right)}\\]</html>"
      ],
      "text/latex": [
       "$$\\newcommand{\\Bold}[1]{\\mathbf{#1}}-\\pi {\\left({\\left(e^{{\\nu(a)}} - 1\\right)} e^{\\left(-{\\nu(a)}\\right)} - 2\\right)} {Q_{2(2)})(a)} {[E]} e^{\\left(-\\frac{1}{2} \\, {\\nu(a)}\\right)} - \\frac{1}{2} \\, {[k_{2}^{\\prime}]} {\\left(e^{{\\nu(a)}} - 1\\right)} e^{\\left(-{\\nu(a)}\\right)}$$"
      ],
      "text/plain": [
       "-pi*((e^nu_a - 1)*e^(-nu_a) - 2)*Q22_a*s_E*e^(-1/2*nu_a) - 1/2*s_dk2*(e^nu_a - 1)*e^(-nu_a)"
      ]
     },
     "metadata": {},
     "output_type": "display_data"
    }
   ],
   "source": [
    "eq_s_dh = eq_s_dh - eq_s_dh.subs(LP2==0)\n",
    "s_dh2_value = solve(eq_s_dh, s_dh2)[0].rhs()\n",
    "\n",
    "for ii in range(0,len(sus_s)):\n",
    "    s_dh2_value = s_dh2_value.subs(sus_s[ii])\n",
    "\n",
    "for ii in range(0,len(sus_s_func)):\n",
    "    s_dh2_value = s_dh2_value.subs(sus_s_func[ii])\n",
    "\n",
    "show(s_dh2_value)"
   ]
  },
  {
   "cell_type": "markdown",
   "metadata": {},
   "source": [
    "Despejo [k2']"
   ]
  },
  {
   "cell_type": "code",
   "execution_count": 87,
   "metadata": {},
   "outputs": [
    {
     "data": {
      "text/html": [
       "<html>\\[\\newcommand{\\Bold}[1]{\\mathbf{#1}}\\frac{8 \\, {\\left(2 \\, \\pi {\\Omega^{(1)}} a^{6} \\omega\\left(a\\right) - \\pi a^{6} \\omega\\left(a\\right)^{2} - 4 \\, \\pi J {\\Omega^{(1)}} a^{3} + 4 \\, \\pi J^{2} - {\\left(\\pi {\\Omega^{(1)}}^{2} a^{6} - 2 \\, \\pi {\\Omega^{(1)}} a^{6} \\omega\\left(a\\right) + \\pi a^{6} \\omega\\left(a\\right)^{2} - 3 \\, \\pi a^{4} {h_2(a)} + 6 \\, \\pi a^{4} h_2\\left(a\\right)\\right)} e^{\\left(2 \\, {\\nu(a)}\\right)} + {\\left(\\pi {\\Omega^{(1)}}^{2} a^{6} - 4 \\, \\pi J {\\Omega^{(1)}} a^{3} + 3 \\, \\pi a^{4} {h_2(a)} + 4 \\, \\pi J^{2}\\right)} e^{{\\nu(a)}}\\right)} {[E]} + 3 \\, {\\left(a^{3} e^{\\left(3 \\, {\\nu(a)}\\right)} - 2 \\, a^{3} e^{\\left(2 \\, {\\nu(a)}\\right)} + a^{3} e^{{\\nu(a)}}\\right)} {[k_{2}']}}{6 \\, {\\left(a^{3} e^{\\left(3 \\, {\\nu(a)}\\right)} - a^{3} e^{\\left(2 \\, {\\nu(a)}\\right)}\\right)}}\\]</html>"
      ],
      "text/latex": [
       "$$\\newcommand{\\Bold}[1]{\\mathbf{#1}}\\frac{8 \\, {\\left(2 \\, \\pi {\\Omega^{(1)}} a^{6} \\omega\\left(a\\right) - \\pi a^{6} \\omega\\left(a\\right)^{2} - 4 \\, \\pi J {\\Omega^{(1)}} a^{3} + 4 \\, \\pi J^{2} - {\\left(\\pi {\\Omega^{(1)}}^{2} a^{6} - 2 \\, \\pi {\\Omega^{(1)}} a^{6} \\omega\\left(a\\right) + \\pi a^{6} \\omega\\left(a\\right)^{2} - 3 \\, \\pi a^{4} {h_2(a)} + 6 \\, \\pi a^{4} h_2\\left(a\\right)\\right)} e^{\\left(2 \\, {\\nu(a)}\\right)} + {\\left(\\pi {\\Omega^{(1)}}^{2} a^{6} - 4 \\, \\pi J {\\Omega^{(1)}} a^{3} + 3 \\, \\pi a^{4} {h_2(a)} + 4 \\, \\pi J^{2}\\right)} e^{{\\nu(a)}}\\right)} {[E]} + 3 \\, {\\left(a^{3} e^{\\left(3 \\, {\\nu(a)}\\right)} - 2 \\, a^{3} e^{\\left(2 \\, {\\nu(a)}\\right)} + a^{3} e^{{\\nu(a)}}\\right)} {[k_{2}']}}{6 \\, {\\left(a^{3} e^{\\left(3 \\, {\\nu(a)}\\right)} - a^{3} e^{\\left(2 \\, {\\nu(a)}\\right)}\\right)}}$$"
      ],
      "text/plain": [
       "1/6*(8*(2*pi*Omega1*a^6*omega(a) - pi*a^6*omega(a)^2 - 4*pi*J*Omega1*a^3 + 4*pi*J^2 - (pi*Omega1^2*a^6 - 2*pi*Omega1*a^6*omega(a) + pi*a^6*omega(a)^2 - 3*pi*a^4*h2_a + 6*pi*a^4*h2(a))*e^(2*nu_a) + (pi*Omega1^2*a^6 - 4*pi*J*Omega1*a^3 + 3*pi*a^4*h2_a + 4*pi*J^2)*e^nu_a)*s_E + 3*(a^3*e^(3*nu_a) - 2*a^3*e^(2*nu_a) + a^3*e^nu_a)*s_dk2)/(a^3*e^(3*nu_a) - a^3*e^(2*nu_a))"
      ]
     },
     "metadata": {},
     "output_type": "display_data"
    }
   ],
   "source": [
    "eq_dk2 = s_dh2_value_68 - s_dh2_value\n",
    "\n",
    "for ii in range(len(sus_s_func)):\n",
    "    eq_dk2 = eq_dk2.subs(sus_s_func[ii])\n",
    "\n",
    "eq_dk2 = eq_dk2.subs([k2_p==s_k2+k2_n])\n",
    "show(eq_dk2.simplify_full())"
   ]
  },
  {
   "cell_type": "markdown",
   "metadata": {},
   "source": [
    "Comparo [k2'] con paper"
   ]
  },
  {
   "cell_type": "code",
   "execution_count": null,
   "metadata": {},
   "outputs": [],
   "source": []
  },
  {
   "cell_type": "code",
   "execution_count": null,
   "metadata": {},
   "outputs": [],
   "source": []
  },
  {
   "cell_type": "code",
   "execution_count": null,
   "metadata": {},
   "outputs": [],
   "source": []
  },
  {
   "cell_type": "code",
   "execution_count": null,
   "metadata": {},
   "outputs": [],
   "source": []
  },
  {
   "cell_type": "code",
   "execution_count": 280,
   "metadata": {},
   "outputs": [],
   "source": []
  },
  {
   "cell_type": "code",
   "execution_count": 257,
   "metadata": {},
   "outputs": [
    {
     "data": {
      "text/html": [
       "<html>\\[\\newcommand{\\Bold}[1]{\\mathbf{#1}}\\frac{{\\left(2 \\, {\\left(\\pi {\\hat{Q}_{2(0)}} e^{{\\nu(a)}} + \\pi {\\hat{Q}_{2(0)}}\\right)} {[E]} + {\\left(2 \\, {\\left(\\pi {\\hat{Q}_{2(2)}} e^{{\\nu(a)}} + \\pi {\\hat{Q}_{2(2)}}\\right)} {[E]} - {[k_{2}']} {\\left(e^{\\left(\\frac{3}{2} \\, {\\nu(a)}\\right)} - e^{\\left(\\frac{1}{2} \\, {\\nu(a)}\\right)}\\right)}\\right)} LP_2\\left({\\theta}\\right) - 2 \\, {[h_{0}']} e^{\\left(\\frac{3}{2} \\, {\\nu(a)}\\right)}\\right)} e^{\\left(-\\frac{3}{2} \\, {\\nu(a)}\\right)}}{2 \\, LP_2\\left({\\theta}\\right)}\\]</html>"
      ],
      "text/latex": [
       "$$\\newcommand{\\Bold}[1]{\\mathbf{#1}}\\frac{{\\left(2 \\, {\\left(\\pi {\\hat{Q}_{2(0)}} e^{{\\nu(a)}} + \\pi {\\hat{Q}_{2(0)}}\\right)} {[E]} + {\\left(2 \\, {\\left(\\pi {\\hat{Q}_{2(2)}} e^{{\\nu(a)}} + \\pi {\\hat{Q}_{2(2)}}\\right)} {[E]} - {[k_{2}']} {\\left(e^{\\left(\\frac{3}{2} \\, {\\nu(a)}\\right)} - e^{\\left(\\frac{1}{2} \\, {\\nu(a)}\\right)}\\right)}\\right)} LP_2\\left({\\theta}\\right) - 2 \\, {[h_{0}']} e^{\\left(\\frac{3}{2} \\, {\\nu(a)}\\right)}\\right)} e^{\\left(-\\frac{3}{2} \\, {\\nu(a)}\\right)}}{2 \\, LP_2\\left({\\theta}\\right)}$$"
      ],
      "text/plain": [
       "1/2*(2*(pi*Q20*e^nu_a + pi*Q20)*s_E + (2*(pi*Q22*e^nu_a + pi*Q22)*s_E - s_dk2*(e^(3/2*nu_a) - e^(1/2*nu_a)))*LP2(th) - 2*s_dh0*e^(3/2*nu_a))*e^(-3/2*nu_a)/LP2(th)"
      ]
     },
     "metadata": {},
     "output_type": "display_data"
    },
    {
     "data": {
      "text/html": [
       "<html>\\[\\newcommand{\\Bold}[1]{\\mathbf{#1}}-\\frac{2 \\, \\pi {\\left(r^{2} {\\left(e^{\\left(-\\lambda\\left(r\\right)\\right)} - 1\\right)}^{2} + {\\left(r {\\left(e^{\\left(-\\lambda\\left(r\\right)\\right)} - 1\\right)} + 2 \\, a\\right)}^{2}\\right)} {\\left({\\Omega^{(1)}} - \\frac{2 \\, J}{a^{3}}\\right)}^{2} a^{2} {[E]} e^{\\left(-2 \\, {\\nu(a)}\\right)}}{3 \\, r {\\left(e^{\\left(-\\lambda\\left(r\\right)\\right)} - 1\\right)}} - \\frac{8 \\, \\pi a^{2} {h_2(a)} {[E]}}{r {\\left(e^{\\left(-\\lambda\\left(r\\right)\\right)} - 1\\right)}}\\]</html>"
      ],
      "text/latex": [
       "$$\\newcommand{\\Bold}[1]{\\mathbf{#1}}-\\frac{2 \\, \\pi {\\left(r^{2} {\\left(e^{\\left(-\\lambda\\left(r\\right)\\right)} - 1\\right)}^{2} + {\\left(r {\\left(e^{\\left(-\\lambda\\left(r\\right)\\right)} - 1\\right)} + 2 \\, a\\right)}^{2}\\right)} {\\left({\\Omega^{(1)}} - \\frac{2 \\, J}{a^{3}}\\right)}^{2} a^{2} {[E]} e^{\\left(-2 \\, {\\nu(a)}\\right)}}{3 \\, r {\\left(e^{\\left(-\\lambda\\left(r\\right)\\right)} - 1\\right)}} - \\frac{8 \\, \\pi a^{2} {h_2(a)} {[E]}}{r {\\left(e^{\\left(-\\lambda\\left(r\\right)\\right)} - 1\\right)}}$$"
      ],
      "text/plain": [
       "-2/3*pi*(r^2*(e^(-lamb(r)) - 1)^2 + (r*(e^(-lamb(r)) - 1) + 2*a)^2)*(Omega1 - 2*J/a^3)^2*a^2*s_E*e^(-2*nu_a)/(r*(e^(-lamb(r)) - 1)) - 8*pi*a^2*h2_a*s_E/(r*(e^(-lamb(r)) - 1))"
      ]
     },
     "metadata": {},
     "output_type": "display_data"
    },
    {
     "data": {
      "text/html": [
       "<html>\\[\\newcommand{\\Bold}[1]{\\mathbf{#1}}[h'_{2}]\\rightarrow \\mathrm{False}\\]</html>"
      ],
      "text/latex": [
       "$$\\newcommand{\\Bold}[1]{\\mathbf{#1}}[h'_{2}]\\rightarrow \\mathrm{False}$$"
      ],
      "text/plain": [
       "[h'_{2}]\\rightarrow False"
      ]
     },
     "metadata": {},
     "output_type": "display_data"
    }
   ],
   "source": [
    "\n",
    "\n",
    "s_dh2_paper = 4*pi*s_E*a^2/M*h2_a\\\n",
    "              +4/3*pi*s_E*a^2/M*e^(-2*nu_a)*((a-M)^2+M^2)*(2*J/a^3-Omega1)^2\n",
    "\n",
    "s_dh2_check = s_dh2_value - s_dh2_paper\n",
    "\n",
    "\n",
    "\n",
    "\n",
    "for ii in range(0,len(sus_s_func)):\n",
    "    s_dh2_value = s_dh2_value.subs(sus_s_func[ii])\n",
    "    s_dh2_check = s_dh2_check.subs(sus_s_func[ii])\n",
    "\n",
    "s_dh2_value = s_dh2_value.simplify_full()\n",
    "show(s_dh2_value)\n",
    "show(s_dh2_paper)\n",
    "#sus_func.extend([s_dh2==s_dh2_value])\n",
    "\n",
    "show(LatexExpr(\"[h'_{2}]\\\\rightarrow\"),bool(s_dh2_check==0))"
   ]
  },
  {
   "cell_type": "code",
   "execution_count": 234,
   "metadata": {},
   "outputs": [],
   "source": []
  },
  {
   "cell_type": "code",
   "execution_count": 235,
   "metadata": {},
   "outputs": [],
   "source": []
  },
  {
   "cell_type": "code",
   "execution_count": 248,
   "metadata": {},
   "outputs": [
    {
     "data": {
      "text/html": [
       "<html>\\[\\newcommand{\\Bold}[1]{\\mathbf{#1}}\\frac{{\\left(2 \\, {\\left({\\Omega^{(1)}}^{2} r^{5} - 2 \\, {\\Omega^{(1)}} r^{5} \\omega\\left(r\\right) + r^{5} \\omega\\left(r\\right)^{2}\\right)} \\frac{\\partial}{\\partial r}\\nu\\left(r\\right)^{3} - 24 \\, {\\left(3 \\, e^{\\left(2 \\, \\lambda\\left(r\\right)\\right)} - e^{\\lambda\\left(r\\right)}\\right)} e^{\\nu\\left(r\\right)} h_2\\left(r\\right) - 2 \\, {\\left(6 \\, r^{2} e^{\\left(\\lambda\\left(r\\right) + \\nu\\left(r\\right)\\right)} h_2\\left(r\\right) - {\\left({\\Omega^{(1)}}^{2} r^{5} - 2 \\, {\\Omega^{(1)}} r^{5} \\omega\\left(r\\right) + r^{5} \\omega\\left(r\\right)^{2}\\right)} \\frac{\\partial}{\\partial r}\\lambda\\left(r\\right)\\right)} \\frac{\\partial}{\\partial r}\\nu\\left(r\\right)^{2} + {\\left(r^{6} \\frac{\\partial}{\\partial r}\\nu\\left(r\\right)^{2} - 2 \\, r^{4} e^{\\lambda\\left(r\\right)}\\right)} \\frac{\\partial}{\\partial r}\\omega\\left(r\\right)^{2} - 48 \\, e^{\\left(2 \\, \\lambda\\left(r\\right) + \\nu\\left(r\\right)\\right)} k_2\\left(r\\right) + 4 \\, {\\left({\\Omega^{(1)}}^{2} r^{3} e^{\\lambda\\left(r\\right)} - 2 \\, {\\Omega^{(1)}} r^{3} e^{\\lambda\\left(r\\right)} \\omega\\left(r\\right) + r^{3} e^{\\lambda\\left(r\\right)} \\omega\\left(r\\right)^{2} + 3 \\, r e^{\\left(\\lambda\\left(r\\right) + \\nu\\left(r\\right)\\right)} h_2\\left(r\\right)\\right)} \\frac{\\partial}{\\partial r}\\lambda\\left(r\\right) + 4 \\, {\\left({\\Omega^{(1)}}^{2} r^{3} e^{\\lambda\\left(r\\right)} - 2 \\, {\\Omega^{(1)}} r^{3} e^{\\lambda\\left(r\\right)} \\omega\\left(r\\right) + r^{3} e^{\\lambda\\left(r\\right)} \\omega\\left(r\\right)^{2} + 3 \\, r e^{\\left(\\lambda\\left(r\\right) + \\nu\\left(r\\right)\\right)} h_2\\left(r\\right)\\right)} \\frac{\\partial}{\\partial r}\\nu\\left(r\\right)\\right)} e^{\\left(-\\lambda\\left(r\\right) - \\nu\\left(r\\right)\\right)}}{12 \\, r^{2} \\frac{\\partial}{\\partial r}\\nu\\left(r\\right)}\\]</html>"
      ],
      "text/latex": [
       "$$\\newcommand{\\Bold}[1]{\\mathbf{#1}}\\frac{{\\left(2 \\, {\\left({\\Omega^{(1)}}^{2} r^{5} - 2 \\, {\\Omega^{(1)}} r^{5} \\omega\\left(r\\right) + r^{5} \\omega\\left(r\\right)^{2}\\right)} \\frac{\\partial}{\\partial r}\\nu\\left(r\\right)^{3} - 24 \\, {\\left(3 \\, e^{\\left(2 \\, \\lambda\\left(r\\right)\\right)} - e^{\\lambda\\left(r\\right)}\\right)} e^{\\nu\\left(r\\right)} h_2\\left(r\\right) - 2 \\, {\\left(6 \\, r^{2} e^{\\left(\\lambda\\left(r\\right) + \\nu\\left(r\\right)\\right)} h_2\\left(r\\right) - {\\left({\\Omega^{(1)}}^{2} r^{5} - 2 \\, {\\Omega^{(1)}} r^{5} \\omega\\left(r\\right) + r^{5} \\omega\\left(r\\right)^{2}\\right)} \\frac{\\partial}{\\partial r}\\lambda\\left(r\\right)\\right)} \\frac{\\partial}{\\partial r}\\nu\\left(r\\right)^{2} + {\\left(r^{6} \\frac{\\partial}{\\partial r}\\nu\\left(r\\right)^{2} - 2 \\, r^{4} e^{\\lambda\\left(r\\right)}\\right)} \\frac{\\partial}{\\partial r}\\omega\\left(r\\right)^{2} - 48 \\, e^{\\left(2 \\, \\lambda\\left(r\\right) + \\nu\\left(r\\right)\\right)} k_2\\left(r\\right) + 4 \\, {\\left({\\Omega^{(1)}}^{2} r^{3} e^{\\lambda\\left(r\\right)} - 2 \\, {\\Omega^{(1)}} r^{3} e^{\\lambda\\left(r\\right)} \\omega\\left(r\\right) + r^{3} e^{\\lambda\\left(r\\right)} \\omega\\left(r\\right)^{2} + 3 \\, r e^{\\left(\\lambda\\left(r\\right) + \\nu\\left(r\\right)\\right)} h_2\\left(r\\right)\\right)} \\frac{\\partial}{\\partial r}\\lambda\\left(r\\right) + 4 \\, {\\left({\\Omega^{(1)}}^{2} r^{3} e^{\\lambda\\left(r\\right)} - 2 \\, {\\Omega^{(1)}} r^{3} e^{\\lambda\\left(r\\right)} \\omega\\left(r\\right) + r^{3} e^{\\lambda\\left(r\\right)} \\omega\\left(r\\right)^{2} + 3 \\, r e^{\\left(\\lambda\\left(r\\right) + \\nu\\left(r\\right)\\right)} h_2\\left(r\\right)\\right)} \\frac{\\partial}{\\partial r}\\nu\\left(r\\right)\\right)} e^{\\left(-\\lambda\\left(r\\right) - \\nu\\left(r\\right)\\right)}}{12 \\, r^{2} \\frac{\\partial}{\\partial r}\\nu\\left(r\\right)}$$"
      ],
      "text/plain": [
       "1/12*(2*(Omega1^2*r^5 - 2*Omega1*r^5*omega(r) + r^5*omega(r)^2)*diff(nu(r), r)^3 - 24*(3*e^(2*lamb(r)) - e^lamb(r))*e^nu(r)*h2(r) - 2*(6*r^2*e^(lamb(r) + nu(r))*h2(r) - (Omega1^2*r^5 - 2*Omega1*r^5*omega(r) + r^5*omega(r)^2)*diff(lamb(r), r))*diff(nu(r), r)^2 + (r^6*diff(nu(r), r)^2 - 2*r^4*e^lamb(r))*diff(omega(r), r)^2 - 48*e^(2*lamb(r) + nu(r))*k2(r) + 4*(Omega1^2*r^3*e^lamb(r) - 2*Omega1*r^3*e^lamb(r)*omega(r) + r^3*e^lamb(r)*omega(r)^2 + 3*r*e^(lamb(r) + nu(r))*h2(r))*diff(lamb(r), r) + 4*(Omega1^2*r^3*e^lamb(r) - 2*Omega1*r^3*e^lamb(r)*omega(r) + r^3*e^lamb(r)*omega(r)^2 + 3*r*e^(lamb(r) + nu(r))*h2(r))*diff(nu(r), r))*e^(-lamb(r) - nu(r))/(r^2*diff(nu(r), r))"
      ]
     },
     "metadata": {},
     "output_type": "display_data"
    }
   ],
   "source": []
  },
  {
   "cell_type": "code",
   "execution_count": 236,
   "metadata": {},
   "outputs": [
    {
     "data": {
      "text/html": [
       "<html>\\[\\newcommand{\\Bold}[1]{\\mathbf{#1}}\\frac{{\\left(8 \\, {\\left(\\pi {\\Omega^{(1)}}^{2} a^{6} + 3 \\, \\pi a^{4} {h_2(a)} e^{\\left(2 \\, {\\nu(a)}\\right)} - 4 \\, \\pi J {\\Omega^{(1)}} a^{3} + 4 \\, \\pi J^{2} + {\\left(\\pi {\\Omega^{(1)}}^{2} a^{6} - 4 \\, \\pi J {\\Omega^{(1)}} a^{3} + 3 \\, \\pi a^{4} {h_2(a)} + 4 \\, \\pi J^{2}\\right)} e^{{\\nu(a)}}\\right)} {[E]} - 3 \\, {\\left(a^{4} {\\nu(a)'} e^{\\left(3 \\, {\\nu(a)}\\right)} - a^{4} {\\nu(a)'} e^{\\left(2 \\, {\\nu(a)}\\right)}\\right)} {[k_{2}']}\\right)} e^{\\left(-3 \\, {\\nu(a)}\\right)}}{6 \\, a^{4} {\\nu(a)'}}\\]</html>"
      ],
      "text/latex": [
       "$$\\newcommand{\\Bold}[1]{\\mathbf{#1}}\\frac{{\\left(8 \\, {\\left(\\pi {\\Omega^{(1)}}^{2} a^{6} + 3 \\, \\pi a^{4} {h_2(a)} e^{\\left(2 \\, {\\nu(a)}\\right)} - 4 \\, \\pi J {\\Omega^{(1)}} a^{3} + 4 \\, \\pi J^{2} + {\\left(\\pi {\\Omega^{(1)}}^{2} a^{6} - 4 \\, \\pi J {\\Omega^{(1)}} a^{3} + 3 \\, \\pi a^{4} {h_2(a)} + 4 \\, \\pi J^{2}\\right)} e^{{\\nu(a)}}\\right)} {[E]} - 3 \\, {\\left(a^{4} {\\nu(a)'} e^{\\left(3 \\, {\\nu(a)}\\right)} - a^{4} {\\nu(a)'} e^{\\left(2 \\, {\\nu(a)}\\right)}\\right)} {[k_{2}']}\\right)} e^{\\left(-3 \\, {\\nu(a)}\\right)}}{6 \\, a^{4} {\\nu(a)'}}$$"
      ],
      "text/plain": [
       "1/6*(8*(pi*Omega1^2*a^6 + 3*pi*a^4*h2_a*e^(2*nu_a) - 4*pi*J*Omega1*a^3 + 4*pi*J^2 + (pi*Omega1^2*a^6 - 4*pi*J*Omega1*a^3 + 3*pi*a^4*h2_a + 4*pi*J^2)*e^nu_a)*s_E - 3*(a^4*dnu_a*e^(3*nu_a) - a^4*dnu_a*e^(2*nu_a))*s_dk2)*e^(-3*nu_a)/(a^4*dnu_a)"
      ]
     },
     "metadata": {},
     "output_type": "display_data"
    },
    {
     "data": {
      "text/html": [
       "<html>\\[\\newcommand{\\Bold}[1]{\\mathbf{#1}}-\\frac{2 \\, \\pi {\\left(r^{2} {\\left(e^{\\left(-\\lambda\\left(r\\right)\\right)} - 1\\right)}^{2} + {\\left(r {\\left(e^{\\left(-\\lambda\\left(r\\right)\\right)} - 1\\right)} + 2 \\, a\\right)}^{2}\\right)} {\\left({\\Omega^{(1)}} - \\frac{2 \\, J}{a^{3}}\\right)}^{2} a^{2} {[E]} e^{\\left(-2 \\, {\\nu(a)}\\right)}}{3 \\, r {\\left(e^{\\left(-\\lambda\\left(r\\right)\\right)} - 1\\right)}} - \\frac{8 \\, \\pi a^{2} {h_2(a)} {[E]}}{r {\\left(e^{\\left(-\\lambda\\left(r\\right)\\right)} - 1\\right)}}\\]</html>"
      ],
      "text/latex": [
       "$$\\newcommand{\\Bold}[1]{\\mathbf{#1}}-\\frac{2 \\, \\pi {\\left(r^{2} {\\left(e^{\\left(-\\lambda\\left(r\\right)\\right)} - 1\\right)}^{2} + {\\left(r {\\left(e^{\\left(-\\lambda\\left(r\\right)\\right)} - 1\\right)} + 2 \\, a\\right)}^{2}\\right)} {\\left({\\Omega^{(1)}} - \\frac{2 \\, J}{a^{3}}\\right)}^{2} a^{2} {[E]} e^{\\left(-2 \\, {\\nu(a)}\\right)}}{3 \\, r {\\left(e^{\\left(-\\lambda\\left(r\\right)\\right)} - 1\\right)}} - \\frac{8 \\, \\pi a^{2} {h_2(a)} {[E]}}{r {\\left(e^{\\left(-\\lambda\\left(r\\right)\\right)} - 1\\right)}}$$"
      ],
      "text/plain": [
       "-2/3*pi*(r^2*(e^(-lamb(r)) - 1)^2 + (r*(e^(-lamb(r)) - 1) + 2*a)^2)*(Omega1 - 2*J/a^3)^2*a^2*s_E*e^(-2*nu_a)/(r*(e^(-lamb(r)) - 1)) - 8*pi*a^2*h2_a*s_E/(r*(e^(-lamb(r)) - 1))"
      ]
     },
     "metadata": {},
     "output_type": "display_data"
    },
    {
     "data": {
      "text/html": [
       "<html>\\[\\newcommand{\\Bold}[1]{\\mathbf{#1}}[h'_{2}]\\rightarrow \\mathrm{False}\\]</html>"
      ],
      "text/latex": [
       "$$\\newcommand{\\Bold}[1]{\\mathbf{#1}}[h'_{2}]\\rightarrow \\mathrm{False}$$"
      ],
      "text/plain": [
       "[h'_{2}]\\rightarrow False"
      ]
     },
     "metadata": {},
     "output_type": "display_data"
    }
   ],
   "source": [
    "eq_s_dh = eq_s_dh - eq_s_dh.subs(LP2==0)\n",
    "\n",
    "s_dh2_value = solve(eq_s_dh, s_dh2)[0].rhs()\n",
    "s_dh2_paper = 4*pi*s_E*a^2/M*h2_a\\\n",
    "              +4/3*pi*s_E*a^2/M*e^(-2*nu_a)*((a-M)^2+M^2)*(2*J/a^3-Omega1)^2\n",
    "\n",
    "\n",
    "s_dh2_check = s_dh2_value - s_dh2_paper\n",
    "\n",
    "\n",
    "for ii in range(0,len(sus_s_func)):\n",
    "    s_dh2_value = s_dh2_value.subs(sus_s_func[ii])\n",
    "    s_dh2_check = s_dh2_check.subs(sus_s_func[ii])\n",
    "\n",
    "s_dh2_value = s_dh2_value.simplify_full()\n",
    "show(s_dh2_value)\n",
    "show(s_dh2_paper)\n",
    "#sus_func.extend([s_dh2==s_dh2_value])\n",
    "\n",
    "show(LatexExpr(\"[h'_{2}]\\\\rightarrow\"),bool(s_dh2_check==0))"
   ]
  },
  {
   "cell_type": "markdown",
   "metadata": {},
   "source": [
    "## <center> $[k'_2]$"
   ]
  },
  {
   "cell_type": "code",
   "execution_count": 176,
   "metadata": {},
   "outputs": [
    {
     "ename": "NameError",
     "evalue": "name 'h2_p' is not defined",
     "output_type": "error",
     "traceback": [
      "\u001b[0;31m---------------------------------------------------------------------------\u001b[0m",
      "\u001b[0;31mNameError\u001b[0m                                 Traceback (most recent call last)",
      "\u001b[0;32m<ipython-input-176-d5fc216156ee>\u001b[0m in \u001b[0;36m<module>\u001b[0;34m\u001b[0m\n\u001b[1;32m      3\u001b[0m \u001b[0;34m\u001b[0m\u001b[0m\n\u001b[1;32m      4\u001b[0m \u001b[0;32mfor\u001b[0m \u001b[0mii\u001b[0m \u001b[0;32min\u001b[0m \u001b[0mrange\u001b[0m\u001b[0;34m(\u001b[0m\u001b[0mlen\u001b[0m\u001b[0;34m(\u001b[0m\u001b[0msus_s_p\u001b[0m\u001b[0;34m)\u001b[0m\u001b[0;34m)\u001b[0m\u001b[0;34m:\u001b[0m\u001b[0;34m\u001b[0m\u001b[0;34m\u001b[0m\u001b[0m\n\u001b[0;32m----> 5\u001b[0;31m     \u001b[0mh2_p\u001b[0m \u001b[0;34m=\u001b[0m \u001b[0mh2_p\u001b[0m\u001b[0;34m.\u001b[0m\u001b[0msubs\u001b[0m\u001b[0;34m(\u001b[0m\u001b[0msus_s_p\u001b[0m\u001b[0;34m[\u001b[0m\u001b[0mii\u001b[0m\u001b[0;34m]\u001b[0m\u001b[0;34m)\u001b[0m\u001b[0;34m\u001b[0m\u001b[0;34m\u001b[0m\u001b[0m\n\u001b[0m\u001b[1;32m      6\u001b[0m     \u001b[0mh2_n\u001b[0m \u001b[0;34m=\u001b[0m \u001b[0mh2_n\u001b[0m\u001b[0;34m.\u001b[0m\u001b[0msubs\u001b[0m\u001b[0;34m(\u001b[0m\u001b[0msus_s_n\u001b[0m\u001b[0;34m[\u001b[0m\u001b[0mii\u001b[0m\u001b[0;34m]\u001b[0m\u001b[0;34m)\u001b[0m\u001b[0;34m\u001b[0m\u001b[0;34m\u001b[0m\u001b[0m\n\u001b[1;32m      7\u001b[0m \u001b[0;34m\u001b[0m\u001b[0m\n",
      "\u001b[0;31mNameError\u001b[0m: name 'h2_p' is not defined"
     ]
    }
   ],
   "source": []
  },
  {
   "cell_type": "code",
   "execution_count": null,
   "metadata": {},
   "outputs": [],
   "source": [
    "dk2_value_p = dk2_value\n",
    "dk2_value_n = dk2_value\n",
    "\n",
    "for ii in range(len(sus_s_p)):\n",
    "    dk2_value_p = dk2_value_p.subs(sus_s_p[ii])\n",
    "    dk2_value_n = dk2_value_n.subs(sus_s_n[ii])\n",
    "\n",
    "s_dk2_value = (dk2_value_p - dk2_value_n).simplify_full()\n",
    "s_dk2_paper = -4*pi*s_E*a^2/M*h2_a\\\n",
    "              -4/3*pi*s_E*a^3/M*e^(-nu_a)*(a-2*M)*(2*J/a^3-Omega_inf)^2\n",
    "\n",
    "s_dk2_check = s_dk2_value - s_dk2_paper\n",
    "\n",
    "show(s_dk2_paper)\n",
    "show(s_dk2_value)\n",
    "for ii in range(0,len(sus_s_func)):\n",
    "    s_dk2_check = s_dk2_check.subs(sus_s_func[ii])\n",
    "\n",
    "\n",
    "show(LatexExpr(\"[k'_{2}]\\\\rightarrow\"),bool(s_dk2_check==0))"
   ]
  },
  {
   "cell_type": "code",
   "execution_count": 136,
   "metadata": {},
   "outputs": [
    {
     "ename": "NameError",
     "evalue": "name 'eq_s_dk' is not defined",
     "output_type": "error",
     "traceback": [
      "\u001b[0;31m---------------------------------------------------------------------------\u001b[0m",
      "\u001b[0;31mNameError\u001b[0m                                 Traceback (most recent call last)",
      "\u001b[0;32m<ipython-input-136-0e13bff891b4>\u001b[0m in \u001b[0;36m<module>\u001b[0;34m\u001b[0m\n\u001b[0;32m----> 1\u001b[0;31m \u001b[0meq_s_dk\u001b[0m \u001b[0;34m=\u001b[0m \u001b[0meq_s_dk\u001b[0m \u001b[0;34m-\u001b[0m \u001b[0meq_s_dk\u001b[0m\u001b[0;34m.\u001b[0m\u001b[0msubs\u001b[0m\u001b[0;34m(\u001b[0m\u001b[0mLP2\u001b[0m\u001b[0;34m==\u001b[0m\u001b[0mInteger\u001b[0m\u001b[0;34m(\u001b[0m\u001b[0;36m0\u001b[0m\u001b[0;34m)\u001b[0m\u001b[0;34m)\u001b[0m\u001b[0;34m\u001b[0m\u001b[0;34m\u001b[0m\u001b[0m\n\u001b[0m\u001b[1;32m      2\u001b[0m \u001b[0;34m\u001b[0m\u001b[0m\n\u001b[1;32m      3\u001b[0m \u001b[0ms_dk2_value\u001b[0m \u001b[0;34m=\u001b[0m \u001b[0msolve\u001b[0m\u001b[0;34m(\u001b[0m\u001b[0meq_s_dk\u001b[0m\u001b[0;34m,\u001b[0m \u001b[0ms_dk2\u001b[0m\u001b[0;34m)\u001b[0m\u001b[0;34m[\u001b[0m\u001b[0mInteger\u001b[0m\u001b[0;34m(\u001b[0m\u001b[0;36m0\u001b[0m\u001b[0;34m)\u001b[0m\u001b[0;34m]\u001b[0m\u001b[0;34m.\u001b[0m\u001b[0mrhs\u001b[0m\u001b[0;34m(\u001b[0m\u001b[0;34m)\u001b[0m\u001b[0;34m\u001b[0m\u001b[0;34m\u001b[0m\u001b[0m\n\u001b[1;32m      4\u001b[0m \u001b[0;34m\u001b[0m\u001b[0m\n\u001b[1;32m      5\u001b[0m \u001b[0ms_dk2_paper\u001b[0m \u001b[0;34m=\u001b[0m \u001b[0;34m-\u001b[0m\u001b[0mInteger\u001b[0m\u001b[0;34m(\u001b[0m\u001b[0;36m4\u001b[0m\u001b[0;34m)\u001b[0m\u001b[0;34m*\u001b[0m\u001b[0mpi\u001b[0m\u001b[0;34m*\u001b[0m\u001b[0ms_E\u001b[0m\u001b[0;34m*\u001b[0m\u001b[0ma\u001b[0m\u001b[0;34m**\u001b[0m\u001b[0mInteger\u001b[0m\u001b[0;34m(\u001b[0m\u001b[0;36m2\u001b[0m\u001b[0;34m)\u001b[0m\u001b[0;34m/\u001b[0m\u001b[0mM\u001b[0m\u001b[0;34m*\u001b[0m\u001b[0mh2_a\u001b[0m              \u001b[0;34m-\u001b[0m\u001b[0mInteger\u001b[0m\u001b[0;34m(\u001b[0m\u001b[0;36m4\u001b[0m\u001b[0;34m)\u001b[0m\u001b[0;34m/\u001b[0m\u001b[0mInteger\u001b[0m\u001b[0;34m(\u001b[0m\u001b[0;36m3\u001b[0m\u001b[0;34m)\u001b[0m\u001b[0;34m*\u001b[0m\u001b[0mpi\u001b[0m\u001b[0;34m*\u001b[0m\u001b[0ms_E\u001b[0m\u001b[0;34m*\u001b[0m\u001b[0ma\u001b[0m\u001b[0;34m**\u001b[0m\u001b[0mInteger\u001b[0m\u001b[0;34m(\u001b[0m\u001b[0;36m3\u001b[0m\u001b[0;34m)\u001b[0m\u001b[0;34m/\u001b[0m\u001b[0mM\u001b[0m\u001b[0;34m*\u001b[0m\u001b[0me\u001b[0m\u001b[0;34m**\u001b[0m\u001b[0;34m(\u001b[0m\u001b[0;34m-\u001b[0m\u001b[0mnu_a\u001b[0m\u001b[0;34m)\u001b[0m\u001b[0;34m*\u001b[0m\u001b[0;34m(\u001b[0m\u001b[0ma\u001b[0m\u001b[0;34m-\u001b[0m\u001b[0mInteger\u001b[0m\u001b[0;34m(\u001b[0m\u001b[0;36m2\u001b[0m\u001b[0;34m)\u001b[0m\u001b[0;34m*\u001b[0m\u001b[0mM\u001b[0m\u001b[0;34m)\u001b[0m\u001b[0;34m*\u001b[0m\u001b[0;34m(\u001b[0m\u001b[0mInteger\u001b[0m\u001b[0;34m(\u001b[0m\u001b[0;36m2\u001b[0m\u001b[0;34m)\u001b[0m\u001b[0;34m*\u001b[0m\u001b[0mJ\u001b[0m\u001b[0;34m/\u001b[0m\u001b[0ma\u001b[0m\u001b[0;34m**\u001b[0m\u001b[0mInteger\u001b[0m\u001b[0;34m(\u001b[0m\u001b[0;36m3\u001b[0m\u001b[0;34m)\u001b[0m\u001b[0;34m-\u001b[0m\u001b[0mOmega_inf\u001b[0m\u001b[0;34m)\u001b[0m\u001b[0;34m**\u001b[0m\u001b[0mInteger\u001b[0m\u001b[0;34m(\u001b[0m\u001b[0;36m2\u001b[0m\u001b[0;34m)\u001b[0m\u001b[0;34m\u001b[0m\u001b[0;34m\u001b[0m\u001b[0m\n",
      "\u001b[0;31mNameError\u001b[0m: name 'eq_s_dk' is not defined"
     ]
    }
   ],
   "source": [
    "eq_s_dk = eq_s_dk - eq_s_dk.subs(LP2==0)\n",
    "\n",
    "s_dk2_value = solve(eq_s_dk, s_dk2)[0].rhs()\n",
    "\n",
    "s_dk2_paper = -4*pi*s_E*a^2/M*h2_a\\\n",
    "              -4/3*pi*s_E*a^3/M*e^(-nu_a)*(a-2*M)*(2*J/a^3-Omega_inf)^2\n",
    "\n",
    "s_dk2_check = s_dk2_value - s_dk2_paper\n",
    "\n",
    "for ii in range(0,len(sus_s_func)):\n",
    "    s_dk2_value = s_dk2_value.subs(sus_s_func[ii])\n",
    "    s_dk2_check = s_dk2_check.subs(sus_s_func[ii])\n",
    "\n",
    "s_dk2_value = s_dk2_value.simplify_full()\n",
    "show(s_dk2_value)\n",
    "show(s_dk2_paper)\n",
    "\n",
    "show(LatexExpr(\"[h'_{2}]\\\\rightarrow\"),bool(s_dk2_check==0))"
   ]
  },
  {
   "cell_type": "markdown",
   "metadata": {},
   "source": [
    "## <center> $[m_2]$"
   ]
  },
  {
   "cell_type": "code",
   "execution_count": 138,
   "metadata": {},
   "outputs": [
    {
     "data": {
      "text/html": [
       "<html>\\[\\newcommand{\\Bold}[1]{\\mathbf{#1}}{\\left(2 \\, \\pi {\\hat{Q}_{2(2)}} a {[E]} + a {[k_{2}']} e^{\\left(\\frac{1}{2} \\, \\nu\\left(a\\right)\\right)}\\right)} e^{\\left(-\\frac{1}{2} \\, \\nu\\left(a\\right)\\right)}\\]</html>"
      ],
      "text/latex": [
       "$$\\newcommand{\\Bold}[1]{\\mathbf{#1}}{\\left(2 \\, \\pi {\\hat{Q}_{2(2)}} a {[E]} + a {[k_{2}']} e^{\\left(\\frac{1}{2} \\, \\nu\\left(a\\right)\\right)}\\right)} e^{\\left(-\\frac{1}{2} \\, \\nu\\left(a\\right)\\right)}$$"
      ],
      "text/plain": [
       "(2*pi*Q22*a*s_E + a*s_dk2*e^(1/2*nu(a)))*e^(-1/2*nu(a))"
      ]
     },
     "metadata": {},
     "output_type": "display_data"
    },
    {
     "data": {
      "text/html": [
       "<html>\\[\\newcommand{\\Bold}[1]{\\mathbf{#1}}\\frac{8}{3} \\, \\pi {\\left({\\Omega_{\\infty}} - \\frac{2 \\, J}{a^{3}}\\right)}^{2} a^{4} {[E]} e^{\\left(-\\nu\\left(a\\right)\\right)}\\]</html>"
      ],
      "text/latex": [
       "$$\\newcommand{\\Bold}[1]{\\mathbf{#1}}\\frac{8}{3} \\, \\pi {\\left({\\Omega_{\\infty}} - \\frac{2 \\, J}{a^{3}}\\right)}^{2} a^{4} {[E]} e^{\\left(-\\nu\\left(a\\right)\\right)}$$"
      ],
      "text/plain": [
       "8/3*pi*(Omega_inf - 2*J/a^3)^2*a^4*s_E*e^(-nu(a))"
      ]
     },
     "metadata": {},
     "output_type": "display_data"
    },
    {
     "data": {
      "text/html": [
       "<html>\\[\\newcommand{\\Bold}[1]{\\mathbf{#1}}[h'_{2}]\\rightarrow \\mathrm{False}\\]</html>"
      ],
      "text/latex": [
       "$$\\newcommand{\\Bold}[1]{\\mathbf{#1}}[h'_{2}]\\rightarrow \\mathrm{False}$$"
      ],
      "text/plain": [
       "[h'_{2}]\\rightarrow False"
      ]
     },
     "metadata": {},
     "output_type": "display_data"
    }
   ],
   "source": [
    "eq_s_m = eq_s_m - eq_s_m.subs(LP2==0)\n",
    "\n",
    "s_m_value = solve(eq_s_m, s_m2)[0].rhs()\n",
    "\n",
    "s_m_paper = 8/3*pi*a^4*s_E*e^(-nu_a)*(2*J/a^3-Omega_inf)^2\n",
    "\n",
    "s_m_check = s_m_value - s_m_paper\n",
    "\n",
    "for ii in range(0,len(sus_s_func)):\n",
    "    s_m_value = s_m_value.subs(sus_s_func[ii])\n",
    "    s_m_check = s_m_check.subs(sus_s_func[ii])\n",
    "\n",
    "s_m_value = s_m_value.simplify_full()\n",
    "show(s_m_value)\n",
    "show(s_m_paper)\n",
    "\n",
    "show(LatexExpr(\"[h'_{2}]\\\\rightarrow\"),bool(s_m_check==0))"
   ]
  },
  {
   "cell_type": "code",
   "execution_count": null,
   "metadata": {},
   "outputs": [],
   "source": []
  },
  {
   "cell_type": "code",
   "execution_count": null,
   "metadata": {},
   "outputs": [],
   "source": []
  },
  {
   "cell_type": "code",
   "execution_count": null,
   "metadata": {},
   "outputs": [],
   "source": [
    "## <center> $[k_2]$"
   ]
  }
 ],
 "metadata": {
  "kernelspec": {
   "display_name": "SageMath 9.4",
   "language": "sage",
   "name": "sagemath-9.4"
  },
  "language_info": {
   "codemirror_mode": {
    "name": "ipython",
    "version": 3
   },
   "file_extension": ".py",
   "mimetype": "text/x-python",
   "name": "python",
   "nbconvert_exporter": "python",
   "pygments_lexer": "ipython3",
   "version": "3.9.5"
  }
 },
 "nbformat": 4,
 "nbformat_minor": 4
}
