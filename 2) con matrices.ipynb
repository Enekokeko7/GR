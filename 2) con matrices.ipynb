{
 "cells": [
  {
   "cell_type": "code",
   "execution_count": 1,
   "metadata": {},
   "outputs": [],
   "source": [
    "%display latex\n",
    "\n",
    "import numpy as np\n",
    "import matplotlib.pyplot as plt\n",
    "import time\n",
    "import os"
   ]
  },
  {
   "cell_type": "code",
   "execution_count": 2,
   "metadata": {},
   "outputs": [],
   "source": [
    "eps = var('eps', latex_name = '\\\\varepsilon')\n",
    "t = var('t')\n",
    "r = var('r')\n",
    "th = var('th', latex_name = '\\\\theta')\n",
    "ph = var('ph', latex_name = '\\\\varphi')\n",
    "\n",
    "coords = (t,r,th,ph)\n",
    "\n",
    "h = function('h')(r,th)\n",
    "k = function('k')(r,th)\n",
    "m = function('m')(r,th)\n",
    "omega = function('omega', latex_name='\\\\omega')(r,th)\n",
    "\n",
    "nu = function('nu', latex_name='\\\\nu')(r)\n",
    "lamb = function('lamb', latex_name='\\\\lambda')(r)\n",
    "\n",
    "Omegae = function('Omegaevalue')(eps)\n",
    "Ne = function('Ne', latex_name='N_e')(r,eps)"
   ]
  },
  {
   "cell_type": "code",
   "execution_count": 3,
   "metadata": {},
   "outputs": [],
   "source": [
    "def cosmotensors(gedd):\n",
    "    \n",
    "    geuu = 1/gedd\n",
    "    \n",
    "    chris = [[[0 for k in range(0,4)] for j in range(0,4)] for i in range(0,4)]\n",
    "    for i in range(0,4):\n",
    "        for j in range(0,4):\n",
    "            for k in range(0,4):\n",
    "                chris[i][j][k] = 0.5*sum(geuu[i,dd]*(diff(gedd[dd,j],coords[k])\n",
    "                                                   + diff(gedd[dd,k],coords[j])\n",
    "                                                   - diff(gedd[j,k],coords[dd])) for dd in range(0,4))\n",
    "                \n",
    "    riem = [[[[0 for l in range(0,4)] for k in range(0,4)] for j in range(0,4)] for i in range(0,4)]\n",
    "    for i in range(0,4):\n",
    "        for j in range(0,4):\n",
    "            for k in range(0,4):\n",
    "                for l in range(0,4):\n",
    "                    riem[i][j][k][l] = (diff(chris[i][j][l],coords[k])\n",
    "                                      - diff(chris[i][j][k],coords[l])\n",
    "                                      + sum(chris[i][k][dd]*chris[dd][l][j]\n",
    "                                          - chris[i][l][dd]*chris[dd][k][j] for dd in range(0,4)))\n",
    "                    \n",
    "    ricci = matrix(SR, 4, 4)\n",
    "    for i in range(0,4):\n",
    "        for k in range(0,4):\n",
    "            ricci[i,k] = sum(riem[dd][i][dd][k] for dd in range(0,4))\n",
    "\n",
    "    s_curv = sum(sum(ricci[i,j]*geuu[i,j] for i in range(0,4)) for j in range(0,4))\n",
    "    \n",
    "    Ge = matrix(SR, 4, 4)\n",
    "    Ge = ricci - 0.5*gedd*s_curv\n",
    "    \n",
    "    dGe = matrix(SR, 4, 4)\n",
    "    ddGe = matrix(SR, 4, 4)\n",
    "    for i in range(0,4):\n",
    "        for j in range(0,4):\n",
    "            dGe[i,j] = diff(Ge[i,j],eps)\n",
    "            ddGe[i,j] = diff(dGe[i,j],eps)\n",
    "    \n",
    "    return {'inverse_metric': geuu,\n",
    "            'einstein': Ge,\n",
    "            'd_einstein': dGe,\n",
    "            'dd_einstein': ddGe}"
   ]
  },
  {
   "cell_type": "code",
   "execution_count": null,
   "metadata": {},
   "outputs": [],
   "source": [
    "gdd = matrix(SR, 4, 4)\n",
    "\n",
    "gdd[0,0] = -exp(nu)\n",
    "gdd[1,1] = exp(lamb)\n",
    "gdd[2,2] = r^2\n",
    "gdd[3,3] = r^2*sin(th)^2\n",
    "\n",
    "guu = 1/gdd\n",
    "\n",
    "K1 = matrix(SR, 4, 4)\n",
    "K1[0,3] = -omega*r^2*sin(th)^2\n",
    "K1[3,0] = -omega*r^2*sin(th)^2\n",
    "\n",
    "K2 = matrix(SR, 4, 4)\n",
    "K2[0,0] = -4*exp(nu)*h + 2*r^2*sin(th)^2*omega^2\n",
    "K2[1,1] = 4*exp(lamb)*m\n",
    "K2[2,2] = 4*k*r^2\n",
    "K2[3,3] = 4*k*r^2*sin(th)^2\n",
    "\n",
    "gedd = matrix(SR, 4, 4)\n",
    "for i in range(0,4):\n",
    "    for j in range(i,4):\n",
    "        gedd[i,j] = gdd[i,j] + eps*K1[i,j] + 1/2*eps^2*K2[i,j]\n",
    "        gedd[j,i] = gedd[i,j]\n",
    "\n",
    "tensors = cosmotensors(gedd)\n",
    "\n",
    "geuu = tensors['inverse_metric']\n",
    "Ge = tensors['einstein']\n",
    "dGe = tensors['d_einstein']\n",
    "ddGe = tensors['dd_einstein']"
   ]
  },
  {
   "cell_type": "code",
   "execution_count": null,
   "metadata": {},
   "outputs": [],
   "source": [
    "show(\"ge0 = \", gdd[:])\n",
    "show(\"K1 = \", K1[:])\n",
    "show(\"K2 = \", K2[:])\n",
    "show(\"ge = \", gedd[:])"
   ]
  },
  {
   "cell_type": "code",
   "execution_count": null,
   "metadata": {},
   "outputs": [],
   "source": [
    "#4-velocities of the fluid for any epsilon\n",
    "\n",
    "ue = [0,0,0,0]\n",
    "u = [0,0,0,0]\n",
    "\n",
    "ue[0] = Ne;         ue[1] = 0;   ue[2] = 0;   ue[3] = Ne*Omegae\n",
    "u[0] = exp(-nu/2);  u[1] =  0;   u[2] = 0;    u[3] =  0\n",
    "\n",
    "Nevalue = solve(u[0]==ue[0], Ne)[0].rhs()                                                             #Eq 4.20\n",
    "Omegaevalue = solve(u[3]==ue[3], Omegae)[0].rhs()                                                     #Eq 4.20"
   ]
  },
  {
   "cell_type": "code",
   "execution_count": null,
   "metadata": {},
   "outputs": [],
   "source": [
    "show(LatexExpr(\"N_{\\\\varepsilon}\\lvert_0 = \"), Nevalue)\n",
    "show(LatexExpr(\"\\\\Omega_{\\\\varepsilon}\\lvert_0 = \"), Omegaevalue)"
   ]
  },
  {
   "cell_type": "code",
   "execution_count": null,
   "metadata": {},
   "outputs": [],
   "source": [
    "u1 = [0,0,0,0]\n",
    "u2 = [0,0,0,0]\n",
    "\n",
    "u10 = function('u10',latex_name=\"u^{(1)0}\")(r)\n",
    "u20 = function('u20',latex_name=\"u^{(2)0}\")(r)\n",
    "\n",
    "Omega1 = var('Omega1', latex_name=\"\\\\Omega^{(1)}\")\n",
    "Omega2 = var('Omega2', latex_name=\"\\\\Omega^{(2)}\")\n",
    "\n",
    "s0 = eps == 0\n",
    "\n",
    "s1 = Ne.subs(eps==0) == Nevalue\n",
    "s2 = Omegae.subs(eps==0) == Omegaevalue\n",
    "\n",
    "s3 = diff(Ne,eps,eps).subs(eps==0) == u20\n",
    "s4 = diff(Omegae,eps,eps).subs(eps==0) == Omega2\n",
    "\n",
    "s5 = diff(Ne,eps).subs(eps==0) == u10\n",
    "s6 = diff(Omegae,eps).subs(eps==0) == Omega1\n",
    "\n",
    "sustituciones = [s0,s1,s2,s3,s4,s5,s6]\n",
    "\n",
    "for i in range(0,4):\n",
    "    u1[i] = diff(ue[i],eps)\n",
    "    u2[i] = diff(ue[i],eps,eps)\n",
    "\n",
    "Ue = [0,0,0,0]\n",
    "for i in range(0,4):\n",
    "    for j in range(0,4):\n",
    "        Ue[i] += ue[j]*gedd[j,i]\n",
    "\n",
    "geUeue = 0\n",
    "for i in range(0,4):\n",
    "    geUeue += Ue[i]*ue[i]\n",
    "\n",
    "ddgeUeue = diff(geUeue, eps, eps).subs(sustituciones) == 0\n",
    "u20value = solve(ddgeUeue, u20)[0].rhs()\n",
    "s7 = u20 == u20value\n",
    "\n",
    "dgeUeue = diff(geUeue, eps).subs(sustituciones) == 0\n",
    "u10value = solve(dgeUeue, u10)[0].rhs()\n",
    "s8 = u10 == u10value\n",
    "\n",
    "sustituciones.extend([s7,s8])\n",
    "for i in range(0,4):\n",
    "    for k in range(0,len(sustituciones)):\n",
    "        u1[i] = u1[i].subs(sustituciones[k])\n",
    "        u2[i] = u2[i].subs(sustituciones[k])"
   ]
  },
  {
   "cell_type": "code",
   "execution_count": null,
   "metadata": {},
   "outputs": [],
   "source": [
    "show(LatexExpr(\"u^{(1)} = \"), u1)                                                                         #Eq 4.21\n",
    "show(LatexExpr(\"u^{(2)} = \"), u2)                                                                         #Eq 4.22"
   ]
  },
  {
   "cell_type": "code",
   "execution_count": null,
   "metadata": {},
   "outputs": [],
   "source": [
    "# CHECK\n",
    "u1_paper = [0,0,0,0]\n",
    "u1_paper[0] = 1/2*e^(-3*nu/2)*K1[0,0]\n",
    "u1_paper[3] = e^(-nu/2)*Omega1\n",
    "\n",
    "u2_paper = [0,0,0,0]\n",
    "u2_paper[0] = e^(-3*nu/2)*(1/2*K2[0,0]+3/4*e^(-nu)*K1[0,0]+2*Omega1*K1[0,3]+Omega1^2*r^2*sin(th)^2)\n",
    "u2_paper[3] = e^(-nu/2)*(e^(-nu)*K1[0,0]*Omega1+Omega2)  \n",
    "\n",
    "u1_sum = 0\n",
    "u2_sum = 0\n",
    "for i in range(0,4):\n",
    "    u1_sum += u1[0] - u1_paper[0]\n",
    "    u2_sum += u2[0] - u2_paper[0]\n",
    "\n",
    "u1_sum = u1_sum.simplify_full()\n",
    "u2_sum = u2_sum.simplify_full()\n",
    "\n",
    "show(u1_sum)\n",
    "show(u2_sum)"
   ]
  },
  {
   "cell_type": "code",
   "execution_count": null,
   "metadata": {},
   "outputs": [],
   "source": [
    "G = copy(Ge)\n",
    "for k in range(0,len(sustituciones)):\n",
    "    G = G.subs(sustituciones[k])"
   ]
  },
  {
   "cell_type": "code",
   "execution_count": null,
   "metadata": {},
   "outputs": [],
   "source": [
    "Ee = function('Ee', latex_name='E_{\\\\varepsilon}')(r,th,eps)\n",
    "Pe = function('Pe', latex_name='P_{\\\\varepsilon}')(r,th,eps)\n",
    "\n",
    "Te = matrix(SR, 4, 4)\n",
    "dTe = matrix(SR, 4, 4)\n",
    "ddTe = matrix(SR, 4, 4)\n",
    "for i in range(0,4):\n",
    "    for j in range(0,4):\n",
    "        Te[i,j] = (Ee+Pe)*Ue[i]*Ue[j]+Pe*gedd[i,j]\n",
    "        dTe[i,j] = diff(Te[i,j],eps)\n",
    "        ddTe[i,j] = diff(Te[i,j],eps,eps)\n",
    "\n",
    "T = copy(Te)\n",
    "for k in range(0,len(sustituciones)):\n",
    "    T = T.subs(sustituciones[k])"
   ]
  },
  {
   "cell_type": "code",
   "execution_count": null,
   "metadata": {},
   "outputs": [],
   "source": [
    "show(LatexExpr(\"T_{\\\\varepsilon}\\lvert_0 =\"), T)"
   ]
  },
  {
   "cell_type": "code",
   "execution_count": null,
   "metadata": {},
   "outputs": [],
   "source": [
    "kappa = 8*pi\n",
    "E = function('E')(r,th)\n",
    "P = function('P')(r,th)\n",
    "\n",
    "s9 = Ee.subs(eps==0) == E\n",
    "s10 = Pe.subs(eps==0) == P\n",
    "sustituciones.extend([s9,s10])\n",
    "\n",
    "T = T.subs(s9).subs(s10)\n",
    "        \n",
    "Evalue = solve(G[0,0]==kappa*T[0,0],E)[0].rhs()                                                          #Eq 3.7\n",
    "Pvalue = solve(G[1,1]==kappa*T[1,1],P)[0].rhs()                                                          #Eq 3.8\n",
    "Pvalue2 = solve(G[2,2]==kappa*T[2,2],P)[0].rhs()\n",
    "Pvalue3 = solve(G[3,3]==kappa*T[3,3],P)[0].rhs()\n",
    "ddnu = solve(Pvalue == Pvalue2, diff(nu,r,r))[0].rhs()                                                          #Eq 3.9"
   ]
  },
  {
   "cell_type": "code",
   "execution_count": null,
   "metadata": {},
   "outputs": [],
   "source": [
    "show(LatexExpr(\"E = \"), Evalue)\n",
    "show(LatexExpr(\"P_{rr} = \"), Pvalue)\n",
    "show(LatexExpr(\"\\\\nu'' =\"), ddnu)\n",
    "\n",
    "s11 = E == Evalue\n",
    "s12 = P == Pvalue\n",
    "s13 = diff(nu,r,r) == ddnu\n",
    "sustituciones.extend([s11,s12,s13])"
   ]
  },
  {
   "cell_type": "code",
   "execution_count": null,
   "metadata": {},
   "outputs": [],
   "source": [
    "dlamb = solve(E-Evalue==0,diff(lamb,r))[0].rhs()                                                              #Eq 3.10\n",
    "dnu = solve(P-Pvalue==0,diff(nu,r))[0].rhs()                                                                  #Eq 3.11"
   ]
  },
  {
   "cell_type": "code",
   "execution_count": null,
   "metadata": {},
   "outputs": [],
   "source": [
    "show(LatexExpr(\"\\\\lambda' = \"), dlamb)\n",
    "show(LatexExpr(\"\\\\nu' = \"), dnu)"
   ]
  },
  {
   "cell_type": "code",
   "execution_count": null,
   "metadata": {},
   "outputs": [],
   "source": [
    "h0 = function('h0', latex_name='h_0')(r,th)\n",
    "k0 = function('k0', latex_name='k_0')(r,th)\n",
    "m0 = function('m0', latex_name='m_0')(r,th)\n",
    "\n",
    "h1 = function('h1', latex_name='h_1')(r,th)\n",
    "k1 = function('k1', latex_name='k_1')(r,th)\n",
    "m1 = function('m1', latex_name='m_1')(r,th)\n",
    "\n",
    "h2 = function('h2', latex_name='h_2')(r,th)\n",
    "k2 = function('k2', latex_name='k_2')(r,th)\n",
    "m2 = function('m2', latex_name='m_2')(r,th)\n",
    "\n",
    "LP1 = function('LP1', latex_name='LP_1')(th)\n",
    "LP2 = function('LP2', latex_name='LP_2')(th)\n",
    "\n",
    "E1 = function('E1', latex_name='E^{(1)}')(r,th)\n",
    "E2 = function('E2', latex_name='E^{(2)}')(r,th)\n",
    "P1 = function('P1', latex_name='P^{(1)}')(r,th)\n",
    "P2 = function('P2', latex_name='P^{(2)}')(r,th)\n",
    "\n",
    "E02 = function('E02', latex_name='E_{0}^{(2)}')(r,th)\n",
    "E12 = function('E12', latex_name='E_{1}^{(2)}')(r,th)\n",
    "E22 = function('E22', latex_name='E_{2}^{(2)}')(r,th)\n",
    "\n",
    "P02 = function('P02', latex_name='P_{0}^{(2)}')(r,th)\n",
    "P12 = function('P12', latex_name='P_{1}^{(2)}')(r,th)\n",
    "P22 = function('P22', latex_name='P_{2}^{(2)}')(r,th)"
   ]
  },
  {
   "cell_type": "markdown",
   "metadata": {},
   "source": [
    "## Primera derivada"
   ]
  },
  {
   "cell_type": "code",
   "execution_count": null,
   "metadata": {},
   "outputs": [],
   "source": [
    "s14 = diff(Ee,eps).subs(eps==0) == E1\n",
    "s15 = diff(Ee,eps,eps).subs(eps==0) == E2\n",
    "s16 = diff(Pe,eps).subs(eps==0) == P1\n",
    "s17 = diff(Pe,eps,eps).subs(eps==0) == P2\n",
    "\n",
    "sustituciones.extend([s14,s15,s16,s17])"
   ]
  },
  {
   "cell_type": "code",
   "execution_count": null,
   "metadata": {},
   "outputs": [],
   "source": [
    "dG = copy(dGe)\n",
    "dT = copy(dTe)\n",
    "for k in range(0,len(sustituciones)):\n",
    "    dG = dG.subs(sustituciones[k])\n",
    "    dT = dT.subs(sustituciones[k])"
   ]
  },
  {
   "cell_type": "code",
   "execution_count": null,
   "metadata": {
    "scrolled": true
   },
   "outputs": [],
   "source": [
    "dEq11 = dG[1,1] - kappa*dT[1,1] == 0\n",
    "dEq11 = dEq11.simplify_full()\n",
    "\n",
    "dEq22 = dG[2,2] - kappa*dT[2,2] == 0\n",
    "dEq22 = dEq22.simplify_full()\n",
    "\n",
    "dEq33 = dG[3,3] - kappa*dT[3,3] == 0\n",
    "dEq33 = dEq33.simplify_full()\n",
    "\n",
    "show(dEq11)\n",
    "show(dEq22)\n",
    "show(dEq33)\n",
    "\n",
    "P1value = solve(dEq11,P1)[0].rhs()\n",
    "sustituciones.extend([P1==P1value])\n",
    "\n",
    "show(LatexExpr(\"\\\\text{De aquí sacamos }P_1(r) \\\\rightarrow P_1(r) = \"), P1value)"
   ]
  },
  {
   "cell_type": "code",
   "execution_count": null,
   "metadata": {},
   "outputs": [],
   "source": [
    "dEq00 = dG[0,0] - kappa*dT[0,0] == 0\n",
    "dEq00 = dEq00.simplify_full()\n",
    "show(dEq00)\n",
    "\n",
    "for k in range(0,len(sustituciones)):\n",
    "    dEq00 = dEq00.subs(sustituciones[k])\n",
    "\n",
    "E1value = solve(dEq00,E1)[0].rhs()\n",
    "sustituciones.extend([E1==E1value])\n",
    "\n",
    "show(LatexExpr(\"\\\\text{De aquí sacamos }E_1(r,\\\\theta) \\\\rightarrow E_1(r,\\\\theta) = \"), E1value)"
   ]
  },
  {
   "cell_type": "code",
   "execution_count": null,
   "metadata": {},
   "outputs": [],
   "source": [
    "#DEMOSTRAR QUE ESTO ES LA ECUACIÓN 48\n",
    "dEq03 = dG[0,3] - kappa*dT[0,3]\n",
    "\n",
    "for k in range(0,len(sustituciones)):\n",
    "    dEq03 = dEq03.subs(sustituciones[k])\n",
    "    \n",
    "dEq03 = dEq03.simplify_full()\n",
    "dEq03                                                                                                       #Eq 48"
   ]
  },
  {
   "cell_type": "code",
   "execution_count": null,
   "metadata": {},
   "outputs": [],
   "source": [
    "# CHECK\n",
    "jj = e^(-(lamb+nu)/2)\n",
    "dEq03_paper = diff(r^4*jj*diff(omega,r),r)+\\\n",
    "              (r^2*jj*e^(lamb)/sin(th)^3)*diff(sin(th)^3*diff(omega,th),th)+\\\n",
    "              4*r^3*diff(jj,r)*(omega-Omega1)\n",
    "\n",
    "dEq03_paper = dEq03_paper*sin(th)^2/(2*r^2*e^(lamb/2-nu/2))\n",
    "\n",
    "dEq03_check = dEq03_paper - dEq03\n",
    "\n",
    "dEq03_check.simplify_full()"
   ]
  },
  {
   "cell_type": "markdown",
   "metadata": {},
   "source": [
    "## Segunda derivada"
   ]
  },
  {
   "cell_type": "code",
   "execution_count": null,
   "metadata": {},
   "outputs": [],
   "source": [
    "ddG = copy(ddGe)\n",
    "ddT = copy(ddTe)\n",
    "for k in range(0,len(sustituciones)):\n",
    "    ddG = ddG.subs(sustituciones[k])\n",
    "    ddT = ddT.subs(sustituciones[k])"
   ]
  },
  {
   "cell_type": "code",
   "execution_count": null,
   "metadata": {},
   "outputs": [],
   "source": [
    "# Aplicamos barotropic EoS\n",
    "# Utilizando (6.11) de Reina con P1=0 y E1=0\n",
    "#CAMBIAR E2 POR E^(2) Y APLICARLO EN ALGÚN MOMENTO\n",
    "E2*diff(P,r) - P2*diff(E,r) == 0"
   ]
  },
  {
   "cell_type": "markdown",
   "metadata": {},
   "source": [
    "### Descomposición en polinomios de Legendre"
   ]
  },
  {
   "cell_type": "code",
   "execution_count": null,
   "metadata": {},
   "outputs": [],
   "source": [
    "sustituciones = [m==m0+m1*LP1+m2*LP2,\n",
    "                 h==h0+h1*LP1+h2*LP2,\n",
    "                 k==k0+k1*LP1+k2*LP2,\n",
    "                 E2==E02+E12*LP1+E22*LP2,\n",
    "                 P2==P02+P12*LP1+P22*LP2]\n",
    "\n",
    "for k in range(0,len(sustituciones)):\n",
    "    ddG = ddG.subs(sustituciones[k])\n",
    "    ddT = ddT.subs(sustituciones[k])\n",
    "\n",
    "show(ddT[0,0].simplify_full())"
   ]
  },
  {
   "cell_type": "code",
   "execution_count": null,
   "metadata": {},
   "outputs": [],
   "source": [
    "s1 = sin(th)^2 == (2-2*LP2)/3\n",
    "s2 = 1/sin(th)^2 == 3/(2-2*LP2)\n",
    "s3 = cos(th) == LP1\n",
    "s4 = cos(th)^2 == (2*LP2+1)/3\n",
    "s5 = LP1^2 == (2*LP2+1)/3\n",
    "s6 = diff(LP1, th, th) == -LP1\n",
    "s7 = diff(LP2, th) == -3*LP1*sin(th)\n",
    "s8 = diff(LP2, th, th) == 1-4*LP2\n",
    "\n",
    "sustituciones = [s1,s2,s3,s4,s5,s6,s7,s8]"
   ]
  },
  {
   "cell_type": "code",
   "execution_count": null,
   "metadata": {},
   "outputs": [],
   "source": [
    "for k in range(0,len(sustituciones)):\n",
    "    ddG = ddG.subs(sustituciones[k])\n",
    "    ddT = ddT.subs(sustituciones[k])"
   ]
  },
  {
   "cell_type": "code",
   "execution_count": null,
   "metadata": {},
   "outputs": [],
   "source": [
    "ddG = ddG.subs(LP1==0).subs(LP2==0)\n",
    "ddT = ddT.subs(LP1==0).subs(LP2==0)"
   ]
  },
  {
   "cell_type": "code",
   "execution_count": null,
   "metadata": {},
   "outputs": [],
   "source": [
    "ddEq00 = ddG[0,0] - kappa*ddT[0,0] == 0\n",
    "E02value = solve(ddEq00, E02)[0].rhs()\n",
    "\n",
    "E02value_paper = ((4/r^2)*diff(r*e^(-lamb)*m0,r)\\\n",
    "                  +8/3*r*jj*diff(jj,r)*(omega-Omega1)^2\\\n",
    "                  -1/3*jj^2*r^2*diff(omega,r)^2)/(8*pi)\n",
    "\n",
    "for k in range(0,len(sustituciones)):\n",
    "    E02value_paper = E02value_paper.subs(sustituciones[k])\n",
    "\n",
    "E02value_check = (E02value - E02value_paper)\n",
    "E02value_check = E02value_check.simplify_full()\n",
    "E02value_check"
   ]
  },
  {
   "cell_type": "code",
   "execution_count": null,
   "metadata": {},
   "outputs": [],
   "source": [
    "ddEq11 = ddG[1,1] - kappa*ddT[1,1] == 0\n",
    "P02value = solve(ddEq11, P02)[0].rhs()\n",
    "\n",
    "P02value_paper = ((4/r^2)*(e^(-lamb)*r*diff(h0,r)\\\n",
    "                  -m0*(8*pi*r^2*P+1))\\\n",
    "                  +1/3*r^2*jj^2*diff(omega,r)^2)/(8*pi)\n",
    "\n",
    "P02value_check = (P02value - P02value_paper)\n",
    "P02value_check = P02value_check.simplify_full()\n",
    "P02value_check"
   ]
  },
  {
   "cell_type": "code",
   "execution_count": null,
   "metadata": {},
   "outputs": [],
   "source": [
    "ddEq03 = ddG[0,3] - kappa*ddT[0,3] == 0\n",
    "ddEq03 = ddEq03*(3/(16*pi*r^2*Omega2))\n",
    "ddEq03 = ddEq03.simplify_full()\n",
    "\n",
    "ddEq12 = ddG[1,2] - kappa*ddT[1,2] == 0\n",
    "ddEq12 = ddEq12*(r*e^(nu))\n",
    "ddEq12 = ddEq12.simplify_full()"
   ]
  },
  {
   "cell_type": "code",
   "execution_count": null,
   "metadata": {},
   "outputs": [],
   "source": []
  },
  {
   "cell_type": "code",
   "execution_count": null,
   "metadata": {},
   "outputs": [],
   "source": []
  },
  {
   "cell_type": "code",
   "execution_count": null,
   "metadata": {},
   "outputs": [],
   "source": []
  },
  {
   "cell_type": "code",
   "execution_count": null,
   "metadata": {},
   "outputs": [],
   "source": []
  },
  {
   "cell_type": "code",
   "execution_count": null,
   "metadata": {},
   "outputs": [],
   "source": []
  }
 ],
 "metadata": {
  "kernelspec": {
   "display_name": "SageMath 9.4",
   "language": "sage",
   "name": "sagemath-9.4"
  },
  "language_info": {
   "codemirror_mode": {
    "name": "ipython",
    "version": 3
   },
   "file_extension": ".py",
   "mimetype": "text/x-python",
   "name": "python",
   "nbconvert_exporter": "python",
   "pygments_lexer": "ipython3",
   "version": "3.9.5"
  }
 },
 "nbformat": 4,
 "nbformat_minor": 4
}
