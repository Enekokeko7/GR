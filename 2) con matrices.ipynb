{
 "cells": [
  {
   "cell_type": "code",
   "execution_count": 1,
   "metadata": {},
   "outputs": [],
   "source": [
    "%display latex"
   ]
  },
  {
   "cell_type": "code",
   "execution_count": 2,
   "metadata": {},
   "outputs": [],
   "source": [
    "import numpy as np\n",
    "import matplotlib.pyplot as plt\n",
    "import time\n",
    "import os"
   ]
  },
  {
   "cell_type": "code",
   "execution_count": 3,
   "metadata": {},
   "outputs": [],
   "source": [
    "eps = var('eps', latex_name = '\\\\varepsilon')\n",
    "t = var('t')\n",
    "r = var('r')\n",
    "th = var('th', latex_name = '\\\\theta')\n",
    "ph = var('ph', latex_name = '\\\\varphi')\n",
    "\n",
    "coords = (t,r,th,ph)\n",
    "\n",
    "h = function('h')(r,th)\n",
    "k = function('k')(r,th)\n",
    "m = function('m')(r,th)\n",
    "omega = function('omega', latex_name='\\\\omega')(r,th)\n",
    "\n",
    "nu = function('nu', latex_name='\\\\nu')(r)\n",
    "lamb = function('lamb', latex_name='\\\\lambda')(r)\n",
    "\n",
    "Omegae = function('Omegaevalue')(eps)\n",
    "Ne = function('Ne', latex_name='N_e')(r,eps)"
   ]
  },
  {
   "cell_type": "code",
   "execution_count": 4,
   "metadata": {},
   "outputs": [],
   "source": [
    "def cosmotensors(gedd):\n",
    "    \n",
    "    geuu = 1/gedd\n",
    "    \n",
    "    chris = [[[0 for k in range(0,4)] for j in range(0,4)] for i in range(0,4)]\n",
    "    for i in range(0,4):\n",
    "        for j in range(0,4):\n",
    "            for k in range(0,4):\n",
    "                chris[i][j][k] = 0.5*sum(geuu[i,dd]*(diff(gedd[dd,j],coords[k])\n",
    "                                                   + diff(gedd[dd,k],coords[j])\n",
    "                                                   - diff(gedd[j,k],coords[dd])) for dd in range(0,4))\n",
    "                \n",
    "    riem = [[[[0 for l in range(0,4)] for k in range(0,4)] for j in range(0,4)] for i in range(0,4)]\n",
    "    for i in range(0,4):\n",
    "        for j in range(0,4):\n",
    "            for k in range(0,4):\n",
    "                for l in range(0,4):\n",
    "                    riem[i][j][k][l] = (diff(chris[i][j][l],coords[k])\n",
    "                                      - diff(chris[i][j][k],coords[l])\n",
    "                                      + sum(chris[i][k][dd]*chris[dd][l][j]\n",
    "                                          - chris[i][l][dd]*chris[dd][k][j] for dd in range(0,4)))\n",
    "                    \n",
    "    ricci = matrix(SR, 4, 4)\n",
    "    for i in range(0,4):\n",
    "        for k in range(0,4):\n",
    "            ricci[i,k] = sum(riem[dd][i][dd][k] for dd in range(0,4))\n",
    "\n",
    "    s_curv = sum(sum(ricci[i,j]*geuu[i,j] for i in range(0,4)) for j in range(0,4))\n",
    "    \n",
    "    Ge = matrix(SR, 4, 4)\n",
    "    Ge = ricci - 0.5*gedd*s_curv\n",
    "    \n",
    "    dGe = matrix(SR, 4, 4)\n",
    "    ddGe = matrix(SR, 4, 4)\n",
    "    for i in range(0,4):\n",
    "        for j in range(0,4):\n",
    "            dGe[i,j] = diff(Ge[i,j],eps)\n",
    "            ddGe[i,j] = diff(dGe[i,j],eps)\n",
    "    \n",
    "    return {'inverse_metric': geuu,\n",
    "            'einstein': Ge,\n",
    "            'd_einstein': dGe,\n",
    "            'dd_einstein': ddGe}"
   ]
  },
  {
   "cell_type": "code",
   "execution_count": 5,
   "metadata": {},
   "outputs": [],
   "source": [
    "gdd = matrix(SR, 4, 4)\n",
    "\n",
    "gdd[0,0] = -exp(nu)\n",
    "gdd[1,1] = exp(lamb)\n",
    "gdd[2,2] = r^2\n",
    "gdd[3,3] = r^2*sin(th)^2\n",
    "\n",
    "guu = 1/gdd\n",
    "\n",
    "K1 = matrix(SR, 4, 4)\n",
    "K1[0,3] = -omega*r^2*sin(th)^2\n",
    "K1[3,0] = -omega*r^2*sin(th)^2\n",
    "\n",
    "K2 = matrix(SR, 4, 4)\n",
    "K2[0,0] = -4*exp(nu)*h + 2*r^2*sin(th)^2*omega^2\n",
    "K2[1,1] = 4*exp(lamb)*m\n",
    "K2[2,2] = 4*k*r^2\n",
    "K2[3,3] = 4*k*r^2*sin(th)^2\n",
    "\n",
    "gedd = matrix(SR, 4, 4)\n",
    "for i in range(0,4):\n",
    "    for j in range(i,4):\n",
    "        gedd[i,j] = gdd[i,j] + eps*K1[i,j] + 1/2*eps^2*K2[i,j]\n",
    "        gedd[j,i] = gedd[i,j]\n",
    "\n",
    "tensors = cosmotensors(gedd)\n",
    "\n",
    "geuu = tensors['inverse_metric']\n",
    "Ge = tensors['einstein']\n",
    "dGe = tensors['d_einstein']\n",
    "ddGe = tensors['dd_einstein']"
   ]
  },
  {
   "cell_type": "code",
   "execution_count": 6,
   "metadata": {},
   "outputs": [
    {
     "data": {
      "text/html": [
       "<html>\\[\\newcommand{\\Bold}[1]{\\mathbf{#1}}\\verb|ge0|\\phantom{\\verb!x!}\\verb|=| \\left(\\begin{array}{rrrr}\n",
       "-e^{\\nu\\left(r\\right)} & 0 & 0 & 0 \\\\\n",
       "0 & e^{\\lambda\\left(r\\right)} & 0 & 0 \\\\\n",
       "0 & 0 & r^{2} & 0 \\\\\n",
       "0 & 0 & 0 & r^{2} \\sin\\left({\\theta}\\right)^{2}\n",
       "\\end{array}\\right)\\]</html>"
      ],
      "text/latex": [
       "$$\\newcommand{\\Bold}[1]{\\mathbf{#1}}\\verb|ge0|\\phantom{\\verb!x!}\\verb|=| \\left(\\begin{array}{rrrr}\n",
       "-e^{\\nu\\left(r\\right)} & 0 & 0 & 0 \\\\\n",
       "0 & e^{\\lambda\\left(r\\right)} & 0 & 0 \\\\\n",
       "0 & 0 & r^{2} & 0 \\\\\n",
       "0 & 0 & 0 & r^{2} \\sin\\left({\\theta}\\right)^{2}\n",
       "\\end{array}\\right)$$"
      ],
      "text/plain": [
       "'ge0 = ' [     -e^nu(r)             0             0             0]\n",
       "[            0     e^lamb(r)             0             0]\n",
       "[            0             0           r^2             0]\n",
       "[            0             0             0 r^2*sin(th)^2]"
      ]
     },
     "metadata": {},
     "output_type": "display_data"
    },
    {
     "data": {
      "text/html": [
       "<html>\\[\\newcommand{\\Bold}[1]{\\mathbf{#1}}\\verb|K1|\\phantom{\\verb!x!}\\verb|=| \\left(\\begin{array}{rrrr}\n",
       "0 & 0 & 0 & -r^{2} \\omega\\left(r, {\\theta}\\right) \\sin\\left({\\theta}\\right)^{2} \\\\\n",
       "0 & 0 & 0 & 0 \\\\\n",
       "0 & 0 & 0 & 0 \\\\\n",
       "-r^{2} \\omega\\left(r, {\\theta}\\right) \\sin\\left({\\theta}\\right)^{2} & 0 & 0 & 0\n",
       "\\end{array}\\right)\\]</html>"
      ],
      "text/latex": [
       "$$\\newcommand{\\Bold}[1]{\\mathbf{#1}}\\verb|K1|\\phantom{\\verb!x!}\\verb|=| \\left(\\begin{array}{rrrr}\n",
       "0 & 0 & 0 & -r^{2} \\omega\\left(r, {\\theta}\\right) \\sin\\left({\\theta}\\right)^{2} \\\\\n",
       "0 & 0 & 0 & 0 \\\\\n",
       "0 & 0 & 0 & 0 \\\\\n",
       "-r^{2} \\omega\\left(r, {\\theta}\\right) \\sin\\left({\\theta}\\right)^{2} & 0 & 0 & 0\n",
       "\\end{array}\\right)$$"
      ],
      "text/plain": [
       "'K1 = ' [                          0                           0                           0 -r^2*omega(r, th)*sin(th)^2]\n",
       "[                          0                           0                           0                           0]\n",
       "[                          0                           0                           0                           0]\n",
       "[-r^2*omega(r, th)*sin(th)^2                           0                           0                           0]"
      ]
     },
     "metadata": {},
     "output_type": "display_data"
    },
    {
     "data": {
      "text/html": [
       "<html>\\[\\newcommand{\\Bold}[1]{\\mathbf{#1}}\\verb|K2|\\phantom{\\verb!x!}\\verb|=| \\left(\\begin{array}{rrrr}\n",
       "2 \\, r^{2} \\omega\\left(r, {\\theta}\\right)^{2} \\sin\\left({\\theta}\\right)^{2} - 4 \\, e^{\\nu\\left(r\\right)} h\\left(r, {\\theta}\\right) & 0 & 0 & 0 \\\\\n",
       "0 & 4 \\, e^{\\lambda\\left(r\\right)} m\\left(r, {\\theta}\\right) & 0 & 0 \\\\\n",
       "0 & 0 & 4 \\, r^{2} k\\left(r, {\\theta}\\right) & 0 \\\\\n",
       "0 & 0 & 0 & 4 \\, r^{2} k\\left(r, {\\theta}\\right) \\sin\\left({\\theta}\\right)^{2}\n",
       "\\end{array}\\right)\\]</html>"
      ],
      "text/latex": [
       "$$\\newcommand{\\Bold}[1]{\\mathbf{#1}}\\verb|K2|\\phantom{\\verb!x!}\\verb|=| \\left(\\begin{array}{rrrr}\n",
       "2 \\, r^{2} \\omega\\left(r, {\\theta}\\right)^{2} \\sin\\left({\\theta}\\right)^{2} - 4 \\, e^{\\nu\\left(r\\right)} h\\left(r, {\\theta}\\right) & 0 & 0 & 0 \\\\\n",
       "0 & 4 \\, e^{\\lambda\\left(r\\right)} m\\left(r, {\\theta}\\right) & 0 & 0 \\\\\n",
       "0 & 0 & 4 \\, r^{2} k\\left(r, {\\theta}\\right) & 0 \\\\\n",
       "0 & 0 & 0 & 4 \\, r^{2} k\\left(r, {\\theta}\\right) \\sin\\left({\\theta}\\right)^{2}\n",
       "\\end{array}\\right)$$"
      ],
      "text/plain": [
       "'K2 = ' [2*r^2*omega(r, th)^2*sin(th)^2 - 4*e^nu(r)*h(r, th)                                                   0                                                   0                                                   0]\n",
       "[                                                  0                                4*e^lamb(r)*m(r, th)                                                   0                                                   0]\n",
       "[                                                  0                                                   0                                      4*r^2*k(r, th)                                                   0]\n",
       "[                                                  0                                                   0                                                   0                            4*r^2*k(r, th)*sin(th)^2]"
      ]
     },
     "metadata": {},
     "output_type": "display_data"
    },
    {
     "data": {
      "text/html": [
       "<html>\\[\\newcommand{\\Bold}[1]{\\mathbf{#1}}\\verb|ge|\\phantom{\\verb!x!}\\verb|=| \\left(\\begin{array}{rrrr}\n",
       "{\\left(r^{2} \\omega\\left(r, {\\theta}\\right)^{2} \\sin\\left({\\theta}\\right)^{2} - 2 \\, e^{\\nu\\left(r\\right)} h\\left(r, {\\theta}\\right)\\right)} {\\varepsilon}^{2} - e^{\\nu\\left(r\\right)} & 0 & 0 & -{\\varepsilon} r^{2} \\omega\\left(r, {\\theta}\\right) \\sin\\left({\\theta}\\right)^{2} \\\\\n",
       "0 & 2 \\, {\\varepsilon}^{2} e^{\\lambda\\left(r\\right)} m\\left(r, {\\theta}\\right) + e^{\\lambda\\left(r\\right)} & 0 & 0 \\\\\n",
       "0 & 0 & 2 \\, {\\varepsilon}^{2} r^{2} k\\left(r, {\\theta}\\right) + r^{2} & 0 \\\\\n",
       "-{\\varepsilon} r^{2} \\omega\\left(r, {\\theta}\\right) \\sin\\left({\\theta}\\right)^{2} & 0 & 0 & 2 \\, {\\varepsilon}^{2} r^{2} k\\left(r, {\\theta}\\right) \\sin\\left({\\theta}\\right)^{2} + r^{2} \\sin\\left({\\theta}\\right)^{2}\n",
       "\\end{array}\\right)\\]</html>"
      ],
      "text/latex": [
       "$$\\newcommand{\\Bold}[1]{\\mathbf{#1}}\\verb|ge|\\phantom{\\verb!x!}\\verb|=| \\left(\\begin{array}{rrrr}\n",
       "{\\left(r^{2} \\omega\\left(r, {\\theta}\\right)^{2} \\sin\\left({\\theta}\\right)^{2} - 2 \\, e^{\\nu\\left(r\\right)} h\\left(r, {\\theta}\\right)\\right)} {\\varepsilon}^{2} - e^{\\nu\\left(r\\right)} & 0 & 0 & -{\\varepsilon} r^{2} \\omega\\left(r, {\\theta}\\right) \\sin\\left({\\theta}\\right)^{2} \\\\\n",
       "0 & 2 \\, {\\varepsilon}^{2} e^{\\lambda\\left(r\\right)} m\\left(r, {\\theta}\\right) + e^{\\lambda\\left(r\\right)} & 0 & 0 \\\\\n",
       "0 & 0 & 2 \\, {\\varepsilon}^{2} r^{2} k\\left(r, {\\theta}\\right) + r^{2} & 0 \\\\\n",
       "-{\\varepsilon} r^{2} \\omega\\left(r, {\\theta}\\right) \\sin\\left({\\theta}\\right)^{2} & 0 & 0 & 2 \\, {\\varepsilon}^{2} r^{2} k\\left(r, {\\theta}\\right) \\sin\\left({\\theta}\\right)^{2} + r^{2} \\sin\\left({\\theta}\\right)^{2}\n",
       "\\end{array}\\right)$$"
      ],
      "text/plain": [
       "'ge = ' [(r^2*omega(r, th)^2*sin(th)^2 - 2*e^nu(r)*h(r, th))*eps^2 - e^nu(r)                                                                   0                                                                   0                                     -eps*r^2*omega(r, th)*sin(th)^2]\n",
       "[                                                                  0                              2*eps^2*e^lamb(r)*m(r, th) + e^lamb(r)                                                                   0                                                                   0]\n",
       "[                                                                  0                                                                   0                                          2*eps^2*r^2*k(r, th) + r^2                                                                   0]\n",
       "[                                    -eps*r^2*omega(r, th)*sin(th)^2                                                                   0                                                                   0                      2*eps^2*r^2*k(r, th)*sin(th)^2 + r^2*sin(th)^2]"
      ]
     },
     "metadata": {},
     "output_type": "display_data"
    }
   ],
   "source": [
    "show(\"ge0 = \", gdd[:])\n",
    "show(\"K1 = \", K1[:])\n",
    "show(\"K2 = \", K2[:])\n",
    "show(\"ge = \", gedd[:])"
   ]
  },
  {
   "cell_type": "code",
   "execution_count": 7,
   "metadata": {},
   "outputs": [],
   "source": [
    "#4-velocities of the fluid for any epsilon\n",
    "\n",
    "ue = [0,0,0,0]\n",
    "u = [0,0,0,0]\n",
    "\n",
    "ue[0] = Ne;         ue[1] = 0;   ue[2] = 0;   ue[3] = Ne*Omegae\n",
    "u[0] = exp(-nu/2);  u[1] =  0;   u[2] = 0;    u[3] =  0\n",
    "\n",
    "Nevalue = solve(u[0]==ue[0], Ne)[0].rhs()                                                             #Eq 4.20\n",
    "Omegaevalue = solve(u[3]==ue[3], Omegae)[0].rhs()                                                     #Eq 4.20"
   ]
  },
  {
   "cell_type": "code",
   "execution_count": 8,
   "metadata": {},
   "outputs": [
    {
     "data": {
      "text/html": [
       "<html>\\[\\newcommand{\\Bold}[1]{\\mathbf{#1}}N_{\\varepsilon}\\lvert_0 =  e^{\\left(-\\frac{1}{2} \\, \\nu\\left(r\\right)\\right)}\\]</html>"
      ],
      "text/latex": [
       "$$\\newcommand{\\Bold}[1]{\\mathbf{#1}}N_{\\varepsilon}\\lvert_0 =  e^{\\left(-\\frac{1}{2} \\, \\nu\\left(r\\right)\\right)}$$"
      ],
      "text/plain": [
       "N_{\\varepsilon}\\lvert_0 =  e^(-1/2*nu(r))"
      ]
     },
     "metadata": {},
     "output_type": "display_data"
    },
    {
     "data": {
      "text/html": [
       "<html>\\[\\newcommand{\\Bold}[1]{\\mathbf{#1}}\\Omega_{\\varepsilon}\\lvert_0 =  0\\]</html>"
      ],
      "text/latex": [
       "$$\\newcommand{\\Bold}[1]{\\mathbf{#1}}\\Omega_{\\varepsilon}\\lvert_0 =  0$$"
      ],
      "text/plain": [
       "\\Omega_{\\varepsilon}\\lvert_0 =  0"
      ]
     },
     "metadata": {},
     "output_type": "display_data"
    }
   ],
   "source": [
    "show(LatexExpr(\"N_{\\\\varepsilon}\\lvert_0 = \"), Nevalue)\n",
    "show(LatexExpr(\"\\\\Omega_{\\\\varepsilon}\\lvert_0 = \"), Omegaevalue)"
   ]
  },
  {
   "cell_type": "code",
   "execution_count": 9,
   "metadata": {},
   "outputs": [],
   "source": [
    "u1 = [0,0,0,0]\n",
    "u2 = [0,0,0,0]\n",
    "\n",
    "u10 = function('u10',latex_name=\"u^{(1)0}\")(r)\n",
    "u20 = function('u20',latex_name=\"u^{(2)0}\")(r)\n",
    "\n",
    "Omega1 = var('Omega1', latex_name=\"\\\\Omega^{(1)}\")\n",
    "Omega2 = var('Omega2', latex_name=\"\\\\Omega^{(2)}\")\n",
    "\n",
    "s0 = eps == 0\n",
    "\n",
    "s1 = Ne.subs(eps==0) == Nevalue\n",
    "s2 = Omegae.subs(eps==0) == Omegaevalue\n",
    "\n",
    "s3 = diff(Ne,eps,eps).subs(eps==0) == u20\n",
    "s4 = diff(Omegae,eps,eps).subs(eps==0) == Omega2\n",
    "\n",
    "s5 = diff(Ne,eps).subs(eps==0) == u10\n",
    "s6 = diff(Omegae,eps).subs(eps==0) == Omega1\n",
    "\n",
    "sustituciones = [s0,s1,s2,s3,s4,s5,s6]\n",
    "\n",
    "for i in range(0,4):\n",
    "    u1[i] = diff(ue[i],eps)\n",
    "    u2[i] = diff(ue[i],eps,eps)\n",
    "\n",
    "Ue = [0,0,0,0]\n",
    "for i in range(0,4):\n",
    "    for j in range(0,4):\n",
    "        Ue[i] += ue[j]*gedd[j,i]\n",
    "\n",
    "geUeue = 0\n",
    "for i in range(0,4):\n",
    "    geUeue += Ue[i]*ue[i]\n",
    "\n",
    "ddgeUeue = diff(geUeue, eps, eps).subs(sustituciones) == 0\n",
    "u20value = solve(ddgeUeue, u20)[0].rhs()\n",
    "s7 = u20 == u20value\n",
    "\n",
    "dgeUeue = diff(geUeue, eps).subs(sustituciones) == 0\n",
    "u10value = solve(dgeUeue, u10)[0].rhs()\n",
    "s8 = u10 == u10value\n",
    "\n",
    "sustituciones.extend([s7,s8])\n",
    "for i in range(0,4):\n",
    "    for k in range(0,len(sustituciones)):\n",
    "        u1[i] = u1[i].subs(sustituciones[k])\n",
    "        u2[i] = u2[i].subs(sustituciones[k])"
   ]
  },
  {
   "cell_type": "code",
   "execution_count": 10,
   "metadata": {},
   "outputs": [
    {
     "data": {
      "text/html": [
       "<html>\\[\\newcommand{\\Bold}[1]{\\mathbf{#1}}u^{(1)} =  \\left[0, 0, 0, {\\Omega^{(1)}} e^{\\left(-\\frac{1}{2} \\, \\nu\\left(r\\right)\\right)}\\right]\\]</html>"
      ],
      "text/latex": [
       "$$\\newcommand{\\Bold}[1]{\\mathbf{#1}}u^{(1)} =  \\left[0, 0, 0, {\\Omega^{(1)}} e^{\\left(-\\frac{1}{2} \\, \\nu\\left(r\\right)\\right)}\\right]$$"
      ],
      "text/plain": [
       "u^{(1)} =  [0, 0, 0, Omega1*e^(-1/2*nu(r))]"
      ]
     },
     "metadata": {},
     "output_type": "display_data"
    },
    {
     "data": {
      "text/html": [
       "<html>\\[\\newcommand{\\Bold}[1]{\\mathbf{#1}}u^{(2)} =  \\left[{\\left({\\left({\\Omega^{(1)}}^{2} r^{2} - 2 \\, {\\Omega^{(1)}} r^{2} \\omega\\left(r, {\\theta}\\right) + r^{2} \\omega\\left(r, {\\theta}\\right)^{2}\\right)} \\sin\\left({\\theta}\\right)^{2} - 2 \\, e^{\\nu\\left(r\\right)} h\\left(r, {\\theta}\\right)\\right)} e^{\\left(-\\frac{3}{2} \\, \\nu\\left(r\\right)\\right)}, 0, 0, {\\Omega^{(2)}} e^{\\left(-\\frac{1}{2} \\, \\nu\\left(r\\right)\\right)}\\right]\\]</html>"
      ],
      "text/latex": [
       "$$\\newcommand{\\Bold}[1]{\\mathbf{#1}}u^{(2)} =  \\left[{\\left({\\left({\\Omega^{(1)}}^{2} r^{2} - 2 \\, {\\Omega^{(1)}} r^{2} \\omega\\left(r, {\\theta}\\right) + r^{2} \\omega\\left(r, {\\theta}\\right)^{2}\\right)} \\sin\\left({\\theta}\\right)^{2} - 2 \\, e^{\\nu\\left(r\\right)} h\\left(r, {\\theta}\\right)\\right)} e^{\\left(-\\frac{3}{2} \\, \\nu\\left(r\\right)\\right)}, 0, 0, {\\Omega^{(2)}} e^{\\left(-\\frac{1}{2} \\, \\nu\\left(r\\right)\\right)}\\right]$$"
      ],
      "text/plain": [
       "u^{(2)} =  [((Omega1^2*r^2 - 2*Omega1*r^2*omega(r, th) + r^2*omega(r, th)^2)*sin(th)^2 - 2*e^nu(r)*h(r, th))*e^(-3/2*nu(r)),\n",
       " 0,\n",
       " 0,\n",
       " Omega2*e^(-1/2*nu(r))]"
      ]
     },
     "metadata": {},
     "output_type": "display_data"
    }
   ],
   "source": [
    "show(LatexExpr(\"u^{(1)} = \"), u1)                                                                         #Eq 4.21\n",
    "show(LatexExpr(\"u^{(2)} = \"), u2)                                                                         #Eq 4.22"
   ]
  },
  {
   "cell_type": "code",
   "execution_count": 11,
   "metadata": {},
   "outputs": [
    {
     "data": {
      "text/html": [
       "<html>\\[\\newcommand{\\Bold}[1]{\\mathbf{#1}}0\\]</html>"
      ],
      "text/latex": [
       "$$\\newcommand{\\Bold}[1]{\\mathbf{#1}}0$$"
      ],
      "text/plain": [
       "0"
      ]
     },
     "metadata": {},
     "output_type": "display_data"
    },
    {
     "data": {
      "text/html": [
       "<html>\\[\\newcommand{\\Bold}[1]{\\mathbf{#1}}0\\]</html>"
      ],
      "text/latex": [
       "$$\\newcommand{\\Bold}[1]{\\mathbf{#1}}0$$"
      ],
      "text/plain": [
       "0"
      ]
     },
     "metadata": {},
     "output_type": "display_data"
    }
   ],
   "source": [
    "# CHECK\n",
    "u1_paper = [0,0,0,0]\n",
    "u1_paper[0] = 1/2*e^(-3*nu/2)*K1[0,0]\n",
    "u1_paper[3] = e^(-nu/2)*Omega1\n",
    "\n",
    "u2_paper = [0,0,0,0]\n",
    "u2_paper[0] = e^(-3*nu/2)*(1/2*K2[0,0]+3/4*e^(-nu)*K1[0,0]+2*Omega1*K1[0,3]+Omega1^2*r^2*sin(th)^2)\n",
    "u2_paper[3] = e^(-nu/2)*(e^(-nu)*K1[0,0]*Omega1+Omega2)  \n",
    "\n",
    "u1_sum = 0\n",
    "u2_sum = 0\n",
    "for i in range(0,4):\n",
    "    u1_sum += u1[0] - u1_paper[0]\n",
    "    u2_sum += u2[0] - u2_paper[0]\n",
    "\n",
    "u1_sum = u1_sum.simplify_full()\n",
    "u2_sum = u2_sum.simplify_full()\n",
    "\n",
    "show(u1_sum)\n",
    "show(u2_sum)"
   ]
  },
  {
   "cell_type": "code",
   "execution_count": 12,
   "metadata": {},
   "outputs": [],
   "source": [
    "G = copy(Ge)\n",
    "for i in range(0,4):\n",
    "    for j in range(i,4):\n",
    "        for k in range(0,len(sustituciones)):\n",
    "            G[i,j] = G[i,j].subs(sustituciones[k])\n",
    "        G[j,i] = G[i,j]"
   ]
  },
  {
   "cell_type": "code",
   "execution_count": 13,
   "metadata": {},
   "outputs": [],
   "source": [
    "Ee = function('Ee', latex_name='E_{\\\\varepsilon}')(r,th,eps)\n",
    "Pe = function('Pe', latex_name='P_{\\\\varepsilon}')(r,th,eps)\n",
    "\n",
    "Te = matrix(SR, 4, 4)\n",
    "dTe = matrix(SR, 4, 4)\n",
    "ddTe = matrix(SR, 4, 4)\n",
    "for i in range(0,4):\n",
    "    for j in range(i,4):\n",
    "        Te[i,j] = (Ee+Pe)*Ue[i]*Ue[j]+Pe*gedd[i,j]\n",
    "        dTe[i,j] = diff(Te,eps)\n",
    "        ddTe[i,j] = diff(Te,eps,eps)\n",
    "        Te[j,i] = Te[i,j]\n",
    "        dTe[j,i] = dTe[i,j]\n",
    "        ddTe[j,i] = ddTe[i,j]\n",
    "    \n",
    "T = copy(Te)\n",
    "for i in range(0,4):\n",
    "    for j in range(i,4):\n",
    "        for k in range(0,len(sustituciones)):\n",
    "            T[i,j] = T[i,j].subs(sustituciones[k])\n",
    "        T[j,i] = T[i,j]"
   ]
  },
  {
   "cell_type": "code",
   "execution_count": 14,
   "metadata": {},
   "outputs": [
    {
     "data": {
      "text/html": [
       "<html>\\[\\newcommand{\\Bold}[1]{\\mathbf{#1}}T_{\\varepsilon}\\lvert_0 = \\left(\\begin{array}{rrrr}\n",
       "{\\left(E_{\\varepsilon}\\left(r, {\\theta}, 0\\right) + P_{\\varepsilon}\\left(r, {\\theta}, 0\\right)\\right)} e^{\\nu\\left(r\\right)} - P_{\\varepsilon}\\left(r, {\\theta}, 0\\right) e^{\\nu\\left(r\\right)} & 0 & 0 & 0 \\\\\n",
       "0 & P_{\\varepsilon}\\left(r, {\\theta}, 0\\right) e^{\\lambda\\left(r\\right)} & 0 & 0 \\\\\n",
       "0 & 0 & r^{2} P_{\\varepsilon}\\left(r, {\\theta}, 0\\right) & 0 \\\\\n",
       "0 & 0 & 0 & r^{2} P_{\\varepsilon}\\left(r, {\\theta}, 0\\right) \\sin\\left({\\theta}\\right)^{2}\n",
       "\\end{array}\\right)\\]</html>"
      ],
      "text/latex": [
       "$$\\newcommand{\\Bold}[1]{\\mathbf{#1}}T_{\\varepsilon}\\lvert_0 = \\left(\\begin{array}{rrrr}\n",
       "{\\left(E_{\\varepsilon}\\left(r, {\\theta}, 0\\right) + P_{\\varepsilon}\\left(r, {\\theta}, 0\\right)\\right)} e^{\\nu\\left(r\\right)} - P_{\\varepsilon}\\left(r, {\\theta}, 0\\right) e^{\\nu\\left(r\\right)} & 0 & 0 & 0 \\\\\n",
       "0 & P_{\\varepsilon}\\left(r, {\\theta}, 0\\right) e^{\\lambda\\left(r\\right)} & 0 & 0 \\\\\n",
       "0 & 0 & r^{2} P_{\\varepsilon}\\left(r, {\\theta}, 0\\right) & 0 \\\\\n",
       "0 & 0 & 0 & r^{2} P_{\\varepsilon}\\left(r, {\\theta}, 0\\right) \\sin\\left({\\theta}\\right)^{2}\n",
       "\\end{array}\\right)$$"
      ],
      "text/plain": [
       "T_{\\varepsilon}\\lvert_0 = [(Ee(r, th, 0) + Pe(r, th, 0))*e^nu(r) - Pe(r, th, 0)*e^nu(r)                                                            0                                                            0                                                            0]\n",
       "[                                                           0                                       Pe(r, th, 0)*e^lamb(r)                                                            0                                                            0]\n",
       "[                                                           0                                                            0                                             r^2*Pe(r, th, 0)                                                            0]\n",
       "[                                                           0                                                            0                                                            0                                   r^2*Pe(r, th, 0)*sin(th)^2]"
      ]
     },
     "metadata": {},
     "output_type": "display_data"
    }
   ],
   "source": [
    "show(LatexExpr(\"T_{\\\\varepsilon}\\lvert_0 =\"), T)"
   ]
  },
  {
   "cell_type": "code",
   "execution_count": 15,
   "metadata": {},
   "outputs": [],
   "source": [
    "kappa = 8*pi\n",
    "E = function('E')(r,th)\n",
    "P = function('P')(r,th)\n",
    "\n",
    "s9 = Ee.subs(eps==0) == E\n",
    "s10 = Pe.subs(eps==0) == P\n",
    "sustituciones.extend([s9,s10])\n",
    "\n",
    "for i in range(0,4):\n",
    "    for j in range(i,4):\n",
    "        T[i,j] = T[i,j].subs(s9).subs(s10)\n",
    "        T[j,i] = T[i,j]\n",
    "        \n",
    "Evalue = solve(G[0,0]==kappa*T[0,0],E)[0].rhs()                                                          #Eq 3.7\n",
    "Pvalue = solve(G[1,1]==kappa*T[1,1],P)[0].rhs()                                                          #Eq 3.8\n",
    "Pvalue2 = solve(G[2,2]==kappa*T[2,2],P)[0].rhs()\n",
    "Pvalue3 = solve(G[3,3]==kappa*T[3,3],P)[0].rhs()\n",
    "ddnu = solve(Pvalue == Pvalue2, diff(nu,r,r))[0].rhs()                                                          #Eq 3.9"
   ]
  },
  {
   "cell_type": "code",
   "execution_count": 16,
   "metadata": {},
   "outputs": [
    {
     "data": {
      "text/html": [
       "<html>\\[\\newcommand{\\Bold}[1]{\\mathbf{#1}}E =  \\frac{r e^{\\left(-\\lambda\\left(r\\right)\\right)} \\frac{\\partial}{\\partial r}\\lambda\\left(r\\right) - e^{\\left(-\\lambda\\left(r\\right)\\right)} + 1}{8 \\, \\pi r^{2}}\\]</html>"
      ],
      "text/latex": [
       "$$\\newcommand{\\Bold}[1]{\\mathbf{#1}}E =  \\frac{r e^{\\left(-\\lambda\\left(r\\right)\\right)} \\frac{\\partial}{\\partial r}\\lambda\\left(r\\right) - e^{\\left(-\\lambda\\left(r\\right)\\right)} + 1}{8 \\, \\pi r^{2}}$$"
      ],
      "text/plain": [
       "E =  1/8*(r*e^(-lamb(r))*diff(lamb(r), r) - e^(-lamb(r)) + 1)/(pi*r^2)"
      ]
     },
     "metadata": {},
     "output_type": "display_data"
    },
    {
     "data": {
      "text/html": [
       "<html>\\[\\newcommand{\\Bold}[1]{\\mathbf{#1}}P_{rr} =  \\frac{r e^{\\left(-\\lambda\\left(r\\right)\\right)} \\frac{\\partial}{\\partial r}\\nu\\left(r\\right) + e^{\\left(-\\lambda\\left(r\\right)\\right)} - 1}{8 \\, \\pi r^{2}}\\]</html>"
      ],
      "text/latex": [
       "$$\\newcommand{\\Bold}[1]{\\mathbf{#1}}P_{rr} =  \\frac{r e^{\\left(-\\lambda\\left(r\\right)\\right)} \\frac{\\partial}{\\partial r}\\nu\\left(r\\right) + e^{\\left(-\\lambda\\left(r\\right)\\right)} - 1}{8 \\, \\pi r^{2}}$$"
      ],
      "text/plain": [
       "P_{rr} =  1/8*(r*e^(-lamb(r))*diff(nu(r), r) + e^(-lamb(r)) - 1)/(pi*r^2)"
      ]
     },
     "metadata": {},
     "output_type": "display_data"
    },
    {
     "data": {
      "text/html": [
       "<html>\\[\\newcommand{\\Bold}[1]{\\mathbf{#1}}\\nu'' = -\\frac{r^{2} \\frac{\\partial}{\\partial r}\\nu\\left(r\\right)^{2} - 2 \\, r \\frac{\\partial}{\\partial r}\\lambda\\left(r\\right) - {\\left(r^{2} \\frac{\\partial}{\\partial r}\\lambda\\left(r\\right) + 2 \\, r\\right)} \\frac{\\partial}{\\partial r}\\nu\\left(r\\right) + 4 \\, e^{\\lambda\\left(r\\right)} - 4}{2 \\, r^{2}}\\]</html>"
      ],
      "text/latex": [
       "$$\\newcommand{\\Bold}[1]{\\mathbf{#1}}\\nu'' = -\\frac{r^{2} \\frac{\\partial}{\\partial r}\\nu\\left(r\\right)^{2} - 2 \\, r \\frac{\\partial}{\\partial r}\\lambda\\left(r\\right) - {\\left(r^{2} \\frac{\\partial}{\\partial r}\\lambda\\left(r\\right) + 2 \\, r\\right)} \\frac{\\partial}{\\partial r}\\nu\\left(r\\right) + 4 \\, e^{\\lambda\\left(r\\right)} - 4}{2 \\, r^{2}}$$"
      ],
      "text/plain": [
       "\\nu'' = -1/2*(r^2*diff(nu(r), r)^2 - 2*r*diff(lamb(r), r) - (r^2*diff(lamb(r), r) + 2*r)*diff(nu(r), r) + 4*e^lamb(r) - 4)/r^2"
      ]
     },
     "metadata": {},
     "output_type": "display_data"
    }
   ],
   "source": [
    "show(LatexExpr(\"E = \"), Evalue)\n",
    "show(LatexExpr(\"P_{rr} = \"), Pvalue)\n",
    "show(LatexExpr(\"\\\\nu'' =\"), ddnu)\n",
    "\n",
    "s11 = E == Evalue\n",
    "s12 = P == Pvalue\n",
    "s13 = diff(nu,r,r) == ddnu\n",
    "sustituciones.extend([s11,s12,s13])"
   ]
  },
  {
   "cell_type": "code",
   "execution_count": 17,
   "metadata": {},
   "outputs": [],
   "source": [
    "dlamb = solve(E-Evalue==0,diff(lamb,r))[0].rhs()                                                              #Eq 3.10\n",
    "dnu = solve(P-Pvalue==0,diff(nu,r))[0].rhs()                                                                  #Eq 3.11"
   ]
  },
  {
   "cell_type": "code",
   "execution_count": 18,
   "metadata": {},
   "outputs": [
    {
     "data": {
      "text/html": [
       "<html>\\[\\newcommand{\\Bold}[1]{\\mathbf{#1}}\\lambda' =  \\frac{8 \\, \\pi r^{2} E\\left(r, {\\theta}\\right) e^{\\lambda\\left(r\\right)} - e^{\\lambda\\left(r\\right)} + 1}{r}\\]</html>"
      ],
      "text/latex": [
       "$$\\newcommand{\\Bold}[1]{\\mathbf{#1}}\\lambda' =  \\frac{8 \\, \\pi r^{2} E\\left(r, {\\theta}\\right) e^{\\lambda\\left(r\\right)} - e^{\\lambda\\left(r\\right)} + 1}{r}$$"
      ],
      "text/plain": [
       "\\lambda' =  (8*pi*r^2*E(r, th)*e^lamb(r) - e^lamb(r) + 1)/r"
      ]
     },
     "metadata": {},
     "output_type": "display_data"
    },
    {
     "data": {
      "text/html": [
       "<html>\\[\\newcommand{\\Bold}[1]{\\mathbf{#1}}\\nu' =  \\frac{8 \\, \\pi r^{2} P\\left(r, {\\theta}\\right) e^{\\lambda\\left(r\\right)} + e^{\\lambda\\left(r\\right)} - 1}{r}\\]</html>"
      ],
      "text/latex": [
       "$$\\newcommand{\\Bold}[1]{\\mathbf{#1}}\\nu' =  \\frac{8 \\, \\pi r^{2} P\\left(r, {\\theta}\\right) e^{\\lambda\\left(r\\right)} + e^{\\lambda\\left(r\\right)} - 1}{r}$$"
      ],
      "text/plain": [
       "\\nu' =  (8*pi*r^2*P(r, th)*e^lamb(r) + e^lamb(r) - 1)/r"
      ]
     },
     "metadata": {},
     "output_type": "display_data"
    }
   ],
   "source": [
    "show(LatexExpr(\"\\\\lambda' = \"), dlamb)\n",
    "show(LatexExpr(\"\\\\nu' = \"), dnu)"
   ]
  },
  {
   "cell_type": "code",
   "execution_count": 19,
   "metadata": {},
   "outputs": [],
   "source": [
    "h0 = function('h0', latex_name='h_0')(r,th)\n",
    "k0 = function('k0', latex_name='k_0')(r,th)\n",
    "m0 = function('m0', latex_name='m_0')(r,th)\n",
    "\n",
    "h1 = function('h1', latex_name='h_1')(r,th)\n",
    "k1 = function('k1', latex_name='k_1')(r,th)\n",
    "m1 = function('m1', latex_name='m_1')(r,th)\n",
    "\n",
    "h2 = function('h2', latex_name='h_2')(r,th)\n",
    "k2 = function('k2', latex_name='k_2')(r,th)\n",
    "m2 = function('m2', latex_name='m_2')(r,th)\n",
    "\n",
    "LP1 = function('LP1', latex_name='LP_1')(th)\n",
    "LP2 = function('LP2', latex_name='LP_2')(th)\n",
    "\n",
    "E1 = function('E1', latex_name='E_1')(r,th)\n",
    "E2 = function('E2', latex_name='E_2')(r,th)\n",
    "P1 = function('P1', latex_name='P_1')(r,th)\n",
    "P2 = function('P2', latex_name='P_2')(r,th)\n",
    "\n",
    "E02 = function('E02', latex_name='E_{0}^{(2)}')(r,th)\n",
    "E12 = function('E12', latex_name='E_{1}^{(2)}')(r,th)\n",
    "E22 = function('E22', latex_name='E_{2}^{(2)}')(r,th)\n",
    "\n",
    "P02 = function('P02', latex_name='P_{0}^{(2)}')(r,th)\n",
    "P12 = function('P12', latex_name='P_{1}^{(2)}')(r,th)\n",
    "P22 = function('P22', latex_name='P_{2}^{(2)}')(r,th)"
   ]
  },
  {
   "cell_type": "markdown",
   "metadata": {},
   "source": [
    "## Primera derivada"
   ]
  },
  {
   "cell_type": "code",
   "execution_count": 20,
   "metadata": {},
   "outputs": [],
   "source": [
    "s14 = diff(Ee,eps).subs(eps==0) == E1\n",
    "s15 = diff(Ee,eps,eps).subs(eps==0) == E2\n",
    "s16 = diff(Pe,eps).subs(eps==0) == P1\n",
    "s17 = diff(Pe,eps,eps).subs(eps==0) == P2\n",
    "\n",
    "sustituciones.extend([s14,s15,s16,s17])"
   ]
  },
  {
   "cell_type": "code",
   "execution_count": null,
   "metadata": {},
   "outputs": [
    {
     "name": "stdout",
     "output_type": "stream",
     "text": [
      "0\n"
     ]
    }
   ],
   "source": [
    "dG = matrix(SR, 4, 4)\n",
    "dT = matrix(SR, 4, 4)\n",
    "\n",
    "for i in range(0,4):\n",
    "    for j in range(0,4):\n",
    "        dG[i,j] = dGe[i,j]\n",
    "        dT[i,j] = dTe[i,j]\n",
    "        \n",
    "for i in range(0,4):\n",
    "    print(i)\n",
    "    for j in range(i,4):\n",
    "        pri\n",
    "        for k in range(0,9):\n",
    "            print(k)\n",
    "            dG[i,j] = dG[i,j].subs(sustituciones[k])\n",
    "            dT[i,j] = dT[i,j].subs(sustituciones[k])\n",
    "        dG[j,i] = dG[i,j]\n",
    "        dT[j,i] = dT[i,j]"
   ]
  },
  {
   "cell_type": "code",
   "execution_count": null,
   "metadata": {
    "scrolled": true
   },
   "outputs": [],
   "source": [
    "print(\"a ver que si\")\n",
    "dEq11 = dG[1,1] - kappa*dT[1,1] == 0\n",
    "#dEq11 = dEq11.simplify_full()\n",
    "print(\"si\")\n",
    "dEq22 = dG[2,2] - kappa*dT[2,2] == 0\n",
    "#dEq22 = dEq22.simplify_full()\n",
    "print(\"no\")\n",
    "dEq33 = dG[3,3] - kappa*dT[3,3] == 0\n",
    "#dEq33 = dEq33.simplify_full()\n",
    "print(\"si\")\n",
    "show(dEq11)\n",
    "show(dEq22)\n",
    "show(dEq33)\n",
    "\n",
    "P1value = solve(dEq11,P1)[0].rhs()\n",
    "print(\"xd\")\n",
    "sustituciones.extend([P1==P1value])\n",
    "print(\"xd\")\n",
    "show(LatexExpr(\"\\\\text{De aquí sacamos }P_1(r) \\\\rightarrow P_1(r) = \"), P1value)"
   ]
  },
  {
   "cell_type": "code",
   "execution_count": null,
   "metadata": {},
   "outputs": [],
   "source": [
    "print(Pe)"
   ]
  },
  {
   "cell_type": "code",
   "execution_count": null,
   "metadata": {},
   "outputs": [],
   "source": [
    "dEq00 = dG[0,0] - kappa*dT[0,0] == 0\n",
    "dEq00 = dEq00.simplify_full()\n",
    "show(dEq00)\n",
    "\n",
    "for k in range(0,len(sustituciones)):\n",
    "    dEq00 = dEq00.subs(sustituciones[k])\n",
    "\n",
    "E1value = solve(dEq00,E1)[0].rhs()\n",
    "sustituciones.extend([E1==E1value])\n",
    "\n",
    "show(LatexExpr(\"\\\\text{De aquí sacamos }E_1(r,\\\\theta) \\\\rightarrow E_1(r,\\\\theta) = \"), E1value)"
   ]
  },
  {
   "cell_type": "code",
   "execution_count": null,
   "metadata": {},
   "outputs": [],
   "source": [
    "#DEMOSTRAR QUE ESTO ES LA ECUACIÓN 48\n",
    "dEq03 = dG[0,3] - kappa*dT[0,3]\n",
    "\n",
    "for k in range(0,len(sustituciones)):\n",
    "    dEq03 = dEq03.subs(sustituciones[k])\n",
    "dEq03 = dEq03.simplify_full()\n",
    "dEq03                                                                                                       #Eq 48"
   ]
  },
  {
   "cell_type": "code",
   "execution_count": null,
   "metadata": {},
   "outputs": [],
   "source": [
    "# CHECK\n",
    "jj = e^(-(lamb+nu)/2)\n",
    "dEq03_paper = diff(r^4*jj*diff(omega,r),r)+\\\n",
    "              (r^2*jj*e^(lamb)/sin(th)^3)*diff(sin(th)^3*diff(omega,th),th)+\\\n",
    "              4*r^3*diff(jj,r)*(omega-Omega1)\n",
    "\n",
    "dEq03_paper = dEq03_paper*sin(th)^2/(2*r^2*e^(lamb/2-nu/2))\n",
    "\n",
    "dEq03_check = dEq03_paper - dEq03\n",
    "\n",
    "dEq03_check.simplify_full()"
   ]
  },
  {
   "cell_type": "markdown",
   "metadata": {},
   "source": [
    "## Segunda derivada"
   ]
  },
  {
   "cell_type": "code",
   "execution_count": null,
   "metadata": {},
   "outputs": [],
   "source": [
    "ddG = copy(ddGe)\n",
    "ddT = copy(ddTe)\n",
    "for i in range(0,4):\n",
    "    for j in range(i,4):\n",
    "        for k in range(0,len(sustituciones)):\n",
    "            ddG[i,j] = ddG[i,j].subs(sustituciones[k])\n",
    "            ddT[i,j] = ddT[i,j].subs(sustituciones[k])\n",
    "        ddG[j,i] = ddG[i,j]\n",
    "        ddT[j,i] = ddT[i,j]"
   ]
  },
  {
   "cell_type": "code",
   "execution_count": null,
   "metadata": {},
   "outputs": [],
   "source": [
    "ddEq00 = ddG[0,0] - kappa*ddT[0,0] == 0\n",
    "ddEq00 = ddEq00*(r^2*sin(th)^4)\n",
    "ddEq00 = ddEq00.simplify_full()\n",
    "ddEq00"
   ]
  },
  {
   "cell_type": "code",
   "execution_count": null,
   "metadata": {},
   "outputs": [],
   "source": [
    "ddEq03 = ddG[0,3] - kappa*ddT[0,3] == 0\n",
    "ddEq03 = ddEq03*(3/(16*pi*r^2*Omega2))\n",
    "ddEq03 = ddEq03.simplify_full()\n",
    "ddEq03"
   ]
  },
  {
   "cell_type": "code",
   "execution_count": null,
   "metadata": {},
   "outputs": [],
   "source": [
    "ddEq12 = ddG[1,2] - kappa*ddT[1,2] == 0\n",
    "ddEq12 = ddEq12*(r*e^(nu))\n",
    "ddEq12 = ddEq12.simplify_full()\n",
    "ddEq12"
   ]
  },
  {
   "cell_type": "code",
   "execution_count": null,
   "metadata": {},
   "outputs": [],
   "source": [
    "# Aplicamos barotropic EoS\n",
    "# Utilizando (6.11) de Reina con P1=0 y E1=0\n",
    "#CAMBIAR E2 POR E^(2) Y APLICARLO EN ALGÚN MOMENTO\n",
    "E2*diff(P,r) - P2*diff(E,r) == 0"
   ]
  },
  {
   "cell_type": "markdown",
   "metadata": {},
   "source": [
    "### Descomposición en polinomios de Legendre"
   ]
  },
  {
   "cell_type": "code",
   "execution_count": null,
   "metadata": {},
   "outputs": [],
   "source": [
    "sustituciones = [m==m0+m1*LP1+m2*LP2,\n",
    "                 h==h0+h1*LP1+h2*LP2,\n",
    "                 k==k0+k1*LP1+k2*LP2,\n",
    "                 E2==E02+E12*LP1+E22*LP2,\n",
    "                 P2==P02+P12*LP1+P22*LP2]\n",
    "\n",
    "for i in range(0,4):\n",
    "    for j in range(i,4):\n",
    "        for k in range(0,len(sustituciones)):\n",
    "            ddG[i,j] = ddG[i,j].subs(sustituciones[k])\n",
    "            ddT[i,j] = ddT[i,j].subs(sustituciones[k])\n",
    "        ddG[j,i] = ddG[i,j]\n",
    "        ddT[j,i] = ddT[i,j]"
   ]
  },
  {
   "cell_type": "code",
   "execution_count": null,
   "metadata": {},
   "outputs": [],
   "source": [
    "s1 = sin(th)^2 == (2-2*LP2)/3\n",
    "s2 = 1/sin(th)^2 == 3/(2-2*LP2)\n",
    "s3 = cos(th) == LP1\n",
    "s4 = cos(th)^2 == (2*LP2+1)/3\n",
    "s5 = LP1^2 == (2*LP2+1)/3\n",
    "s6 = diff(LP1, th, th) == -LP1\n",
    "s7 = diff(LP2, th) == -3*LP1*sin(th)\n",
    "s8 = diff(LP2, th, th) == 1-4*LP2\n",
    "\n",
    "sustituciones = [s1,s2,s3,s4,s5,s6,s7,s8]"
   ]
  },
  {
   "cell_type": "code",
   "execution_count": null,
   "metadata": {},
   "outputs": [],
   "source": [
    "ddTdd[0,0]"
   ]
  },
  {
   "cell_type": "code",
   "execution_count": null,
   "metadata": {},
   "outputs": [],
   "source": [
    "for i in range(0,4):\n",
    "    for j in range(0,4):\n",
    "        ddeins[i,j] = ddeins[i,j].subs(sustituciones,sustituciones2)\n",
    "        ddTdd[i,j] = ddTdd[i,j].subs(sustituciones,sustituciones2)"
   ]
  },
  {
   "cell_type": "code",
   "execution_count": null,
   "metadata": {},
   "outputs": [],
   "source": [
    "ddTdd[0,0]"
   ]
  },
  {
   "cell_type": "code",
   "execution_count": null,
   "metadata": {},
   "outputs": [],
   "source": [
    "for i in range(0,4):\n",
    "    for j in range(0,4):\n",
    "        ddeins[i,j] = ddeins[i,j].subs(LP1==0,LP2==0)\n",
    "        ddTdd[i,j] = ddTdd[i,j].subs(LP1==0,LP2==0)"
   ]
  },
  {
   "cell_type": "code",
   "execution_count": null,
   "metadata": {},
   "outputs": [],
   "source": [
    "ddeins[0,0].simplify_full()"
   ]
  },
  {
   "cell_type": "code",
   "execution_count": null,
   "metadata": {},
   "outputs": [],
   "source": [
    "ddEq00 = ddeins[0,0] - kappa*ddTdd[0,0] == 0\n",
    "E02value = solve(ddEq00, E02)[0].rhs()\n",
    "\n",
    "E02value_paper = ((4/r^2)*diff(r*e^(-lamb)*m0,r)\\\n",
    "                  +8/3*r*jj*diff(jj,r)*(omega-Omega1)^2\\\n",
    "                  -1/3*jj^2*r^2*diff(omega,r)^2)/(8*pi)\n",
    "\n",
    "E02value_check = (E02value - E02value_paper)*288*pi*𝑟^2*sin(th)^4\n",
    "E02value_check = E02value_check.simplify_full()\n",
    "E02value_check"
   ]
  },
  {
   "cell_type": "code",
   "execution_count": null,
   "metadata": {},
   "outputs": [],
   "source": [
    "#O sea pasar todos los theta a LP y todas las derivadas respecto a theta modificarlas\n",
    "#Y luego sacar las ecuaciones"
   ]
  },
  {
   "cell_type": "code",
   "execution_count": null,
   "metadata": {},
   "outputs": [],
   "source": [
    "## l=0"
   ]
  },
  {
   "cell_type": "code",
   "execution_count": null,
   "metadata": {},
   "outputs": [],
   "source": [
    "## l=1"
   ]
  },
  {
   "cell_type": "code",
   "execution_count": null,
   "metadata": {},
   "outputs": [],
   "source": [
    "## l=2"
   ]
  },
  {
   "cell_type": "code",
   "execution_count": null,
   "metadata": {},
   "outputs": [],
   "source": []
  },
  {
   "cell_type": "code",
   "execution_count": null,
   "metadata": {},
   "outputs": [],
   "source": []
  },
  {
   "cell_type": "code",
   "execution_count": null,
   "metadata": {},
   "outputs": [],
   "source": []
  },
  {
   "cell_type": "code",
   "execution_count": null,
   "metadata": {},
   "outputs": [],
   "source": []
  },
  {
   "cell_type": "code",
   "execution_count": null,
   "metadata": {},
   "outputs": [],
   "source": []
  }
 ],
 "metadata": {
  "kernelspec": {
   "display_name": "SageMath 9.4",
   "language": "sage",
   "name": "sagemath-9.4"
  },
  "language_info": {
   "codemirror_mode": {
    "name": "ipython",
    "version": 3
   },
   "file_extension": ".py",
   "mimetype": "text/x-python",
   "name": "python",
   "nbconvert_exporter": "python",
   "pygments_lexer": "ipython3",
   "version": "3.9.5"
  }
 },
 "nbformat": 4,
 "nbformat_minor": 4
}
