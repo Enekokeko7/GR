{
 "cells": [
  {
   "cell_type": "code",
   "execution_count": 1,
   "metadata": {},
   "outputs": [],
   "source": [
    "%display latex\n",
    "\n",
    "eps = var('eps', latex_name = '\\\\varepsilon')\n",
    "t = var('t')\n",
    "r = var('r')\n",
    "th = var('th', latex_name = '\\\\theta')\n",
    "ph = var('ph', latex_name = '\\\\varphi')\n",
    "\n",
    "coords = (t,r,th,ph)\n",
    "\n",
    "h = function('h')(r,th)\n",
    "k = function('k')(r,th)\n",
    "m = function('m')(r,th)\n",
    "omega = function('omega', latex_name='\\\\omega')(r)\n",
    "\n",
    "nu = function('nu', latex_name='\\\\nu')(r)\n",
    "lamb = function('lamb', latex_name='\\\\lambda')(r)\n",
    "\n",
    "Omegae = function('Omegaevalue')(eps)\n",
    "Ne = function('Ne', latex_name='N_e')(r,th,eps)"
   ]
  },
  {
   "cell_type": "code",
   "execution_count": 2,
   "metadata": {},
   "outputs": [],
   "source": [
    "def cosmotensors(gedd):\n",
    "    \n",
    "    geuu = 1/gedd\n",
    "    \n",
    "    chris = [[[0 for kk in range(0,4)] for j in range(0,4)] for i in range(0,4)]\n",
    "    for i in range(0,4):\n",
    "        for j in range(0,4):\n",
    "            for kk in range(0,4):\n",
    "                chris[i][j][kk] = 0.5*sum(geuu[i,dd]*(diff(gedd[dd,j],coords[kk])\n",
    "                                                   + diff(gedd[dd,kk],coords[j])\n",
    "                                                   - diff(gedd[j,kk],coords[dd])) for dd in range(0,4))\n",
    "                \n",
    "    riem = [[[[0 for l in range(0,4)] for kk in range(0,4)] for j in range(0,4)] for i in range(0,4)]\n",
    "    for i in range(0,4):\n",
    "        for j in range(0,4):\n",
    "            for kk in range(0,4):\n",
    "                for l in range(0,4):\n",
    "                    riem[i][j][kk][l] = (diff(chris[i][j][l],coords[kk])\n",
    "                                      - diff(chris[i][j][kk],coords[l])\n",
    "                                      + sum(chris[i][kk][dd]*chris[dd][l][j]\n",
    "                                          - chris[i][l][dd]*chris[dd][kk][j] for dd in range(0,4)))\n",
    "                    \n",
    "    ricci = matrix(SR, 4, 4)\n",
    "    for i in range(0,4):\n",
    "        for kk in range(0,4):\n",
    "            ricci[i,kk] = sum(riem[dd][i][dd][kk] for dd in range(0,4))\n",
    "\n",
    "    s_curv = sum(sum(ricci[i,j]*geuu[i,j] for i in range(0,4)) for j in range(0,4))\n",
    "    \n",
    "    Ge = matrix(SR, 4, 4)\n",
    "    Ge = ricci - 0.5*gedd*s_curv\n",
    "    \n",
    "    dGe = matrix(SR, 4, 4)\n",
    "    ddGe = matrix(SR, 4, 4)\n",
    "    for i in range(0,4):\n",
    "        for j in range(0,4):\n",
    "            dGe[i,j] = diff(Ge[i,j],eps)\n",
    "            ddGe[i,j] = diff(Ge[i,j],eps,eps)\n",
    "    \n",
    "    return {'inverse_metric': geuu,\n",
    "            'einstein': Ge,\n",
    "            'd_einstein': dGe,\n",
    "            'dd_einstein': ddGe}"
   ]
  },
  {
   "cell_type": "code",
   "execution_count": 3,
   "metadata": {},
   "outputs": [],
   "source": [
    "gdd = matrix(SR, 4, 4)\n",
    "\n",
    "gdd[0,0] = -exp(nu)\n",
    "gdd[1,1] = exp(lamb)\n",
    "gdd[2,2] = r^2\n",
    "gdd[3,3] = r^2*sin(th)^2\n",
    "\n",
    "guu = 1/gdd\n",
    "\n",
    "K1 = matrix(SR, 4, 4)\n",
    "K1[0,3] = -omega*r^2*sin(th)^2\n",
    "K1[3,0] = -omega*r^2*sin(th)^2\n",
    "\n",
    "K2 = matrix(SR, 4, 4)\n",
    "K2[0,0] = -4*exp(nu)*h + 2*r^2*sin(th)^2*omega^2\n",
    "K2[1,1] = 4*exp(lamb)*m\n",
    "K2[2,2] = 4*k*r^2\n",
    "K2[3,3] = 4*k*r^2*sin(th)^2\n",
    "\n",
    "gedd = matrix(SR, 4, 4)\n",
    "for i in range(0,4):\n",
    "    for j in range(i,4):\n",
    "        gedd[i,j] = gdd[i,j] + eps*K1[i,j] + 1/2*eps^2*K2[i,j]\n",
    "        gedd[j,i] = gedd[i,j]\n",
    "\n",
    "tensors = cosmotensors(gedd)\n",
    "\n",
    "geuu = tensors['inverse_metric']\n",
    "Ge = tensors['einstein']\n",
    "dGe = tensors['d_einstein']\n",
    "ddGe = tensors['dd_einstein']"
   ]
  },
  {
   "cell_type": "code",
   "execution_count": 4,
   "metadata": {
    "scrolled": false
   },
   "outputs": [
    {
     "data": {
      "text/html": [
       "<html>\\[\\newcommand{\\Bold}[1]{\\mathbf{#1}}\\verb|ge0|\\phantom{\\verb!x!}\\verb|=| \\left(\\begin{array}{rrrr}\n",
       "-e^{\\nu\\left(r\\right)} & 0 & 0 & 0 \\\\\n",
       "0 & e^{\\lambda\\left(r\\right)} & 0 & 0 \\\\\n",
       "0 & 0 & r^{2} & 0 \\\\\n",
       "0 & 0 & 0 & r^{2} \\sin\\left({\\theta}\\right)^{2}\n",
       "\\end{array}\\right)\\]</html>"
      ],
      "text/latex": [
       "$$\\newcommand{\\Bold}[1]{\\mathbf{#1}}\\verb|ge0|\\phantom{\\verb!x!}\\verb|=| \\left(\\begin{array}{rrrr}\n",
       "-e^{\\nu\\left(r\\right)} & 0 & 0 & 0 \\\\\n",
       "0 & e^{\\lambda\\left(r\\right)} & 0 & 0 \\\\\n",
       "0 & 0 & r^{2} & 0 \\\\\n",
       "0 & 0 & 0 & r^{2} \\sin\\left({\\theta}\\right)^{2}\n",
       "\\end{array}\\right)$$"
      ],
      "text/plain": [
       "'ge0 = ' [     -e^nu(r)             0             0             0]\n",
       "[            0     e^lamb(r)             0             0]\n",
       "[            0             0           r^2             0]\n",
       "[            0             0             0 r^2*sin(th)^2]"
      ]
     },
     "metadata": {},
     "output_type": "display_data"
    },
    {
     "data": {
      "text/html": [
       "<html>\\[\\newcommand{\\Bold}[1]{\\mathbf{#1}}\\verb|K1|\\phantom{\\verb!x!}\\verb|=| \\left(\\begin{array}{rrrr}\n",
       "0 & 0 & 0 & -r^{2} \\omega\\left(r\\right) \\sin\\left({\\theta}\\right)^{2} \\\\\n",
       "0 & 0 & 0 & 0 \\\\\n",
       "0 & 0 & 0 & 0 \\\\\n",
       "-r^{2} \\omega\\left(r\\right) \\sin\\left({\\theta}\\right)^{2} & 0 & 0 & 0\n",
       "\\end{array}\\right)\\]</html>"
      ],
      "text/latex": [
       "$$\\newcommand{\\Bold}[1]{\\mathbf{#1}}\\verb|K1|\\phantom{\\verb!x!}\\verb|=| \\left(\\begin{array}{rrrr}\n",
       "0 & 0 & 0 & -r^{2} \\omega\\left(r\\right) \\sin\\left({\\theta}\\right)^{2} \\\\\n",
       "0 & 0 & 0 & 0 \\\\\n",
       "0 & 0 & 0 & 0 \\\\\n",
       "-r^{2} \\omega\\left(r\\right) \\sin\\left({\\theta}\\right)^{2} & 0 & 0 & 0\n",
       "\\end{array}\\right)$$"
      ],
      "text/plain": [
       "'K1 = ' [                      0                       0                       0 -r^2*omega(r)*sin(th)^2]\n",
       "[                      0                       0                       0                       0]\n",
       "[                      0                       0                       0                       0]\n",
       "[-r^2*omega(r)*sin(th)^2                       0                       0                       0]"
      ]
     },
     "metadata": {},
     "output_type": "display_data"
    },
    {
     "data": {
      "text/html": [
       "<html>\\[\\newcommand{\\Bold}[1]{\\mathbf{#1}}\\verb|K2|\\phantom{\\verb!x!}\\verb|=| \\left(\\begin{array}{rrrr}\n",
       "2 \\, r^{2} \\omega\\left(r\\right)^{2} \\sin\\left({\\theta}\\right)^{2} - 4 \\, e^{\\nu\\left(r\\right)} h\\left(r, {\\theta}\\right) & 0 & 0 & 0 \\\\\n",
       "0 & 4 \\, e^{\\lambda\\left(r\\right)} m\\left(r, {\\theta}\\right) & 0 & 0 \\\\\n",
       "0 & 0 & 4 \\, r^{2} k\\left(r, {\\theta}\\right) & 0 \\\\\n",
       "0 & 0 & 0 & 4 \\, r^{2} k\\left(r, {\\theta}\\right) \\sin\\left({\\theta}\\right)^{2}\n",
       "\\end{array}\\right)\\]</html>"
      ],
      "text/latex": [
       "$$\\newcommand{\\Bold}[1]{\\mathbf{#1}}\\verb|K2|\\phantom{\\verb!x!}\\verb|=| \\left(\\begin{array}{rrrr}\n",
       "2 \\, r^{2} \\omega\\left(r\\right)^{2} \\sin\\left({\\theta}\\right)^{2} - 4 \\, e^{\\nu\\left(r\\right)} h\\left(r, {\\theta}\\right) & 0 & 0 & 0 \\\\\n",
       "0 & 4 \\, e^{\\lambda\\left(r\\right)} m\\left(r, {\\theta}\\right) & 0 & 0 \\\\\n",
       "0 & 0 & 4 \\, r^{2} k\\left(r, {\\theta}\\right) & 0 \\\\\n",
       "0 & 0 & 0 & 4 \\, r^{2} k\\left(r, {\\theta}\\right) \\sin\\left({\\theta}\\right)^{2}\n",
       "\\end{array}\\right)$$"
      ],
      "text/plain": [
       "'K2 = ' [2*r^2*omega(r)^2*sin(th)^2 - 4*e^nu(r)*h(r, th)                                               0                                               0                                               0]\n",
       "[                                              0                            4*e^lamb(r)*m(r, th)                                               0                                               0]\n",
       "[                                              0                                               0                                  4*r^2*k(r, th)                                               0]\n",
       "[                                              0                                               0                                               0                        4*r^2*k(r, th)*sin(th)^2]"
      ]
     },
     "metadata": {},
     "output_type": "display_data"
    },
    {
     "data": {
      "text/html": [
       "<html>\\[\\newcommand{\\Bold}[1]{\\mathbf{#1}}\\verb|ge|\\phantom{\\verb!x!}\\verb|=| \\left(\\begin{array}{rrrr}\n",
       "{\\left(r^{2} \\omega\\left(r\\right)^{2} \\sin\\left({\\theta}\\right)^{2} - 2 \\, e^{\\nu\\left(r\\right)} h\\left(r, {\\theta}\\right)\\right)} {\\varepsilon}^{2} - e^{\\nu\\left(r\\right)} & 0 & 0 & -{\\varepsilon} r^{2} \\omega\\left(r\\right) \\sin\\left({\\theta}\\right)^{2} \\\\\n",
       "0 & 2 \\, {\\varepsilon}^{2} e^{\\lambda\\left(r\\right)} m\\left(r, {\\theta}\\right) + e^{\\lambda\\left(r\\right)} & 0 & 0 \\\\\n",
       "0 & 0 & 2 \\, {\\varepsilon}^{2} r^{2} k\\left(r, {\\theta}\\right) + r^{2} & 0 \\\\\n",
       "-{\\varepsilon} r^{2} \\omega\\left(r\\right) \\sin\\left({\\theta}\\right)^{2} & 0 & 0 & 2 \\, {\\varepsilon}^{2} r^{2} k\\left(r, {\\theta}\\right) \\sin\\left({\\theta}\\right)^{2} + r^{2} \\sin\\left({\\theta}\\right)^{2}\n",
       "\\end{array}\\right)\\]</html>"
      ],
      "text/latex": [
       "$$\\newcommand{\\Bold}[1]{\\mathbf{#1}}\\verb|ge|\\phantom{\\verb!x!}\\verb|=| \\left(\\begin{array}{rrrr}\n",
       "{\\left(r^{2} \\omega\\left(r\\right)^{2} \\sin\\left({\\theta}\\right)^{2} - 2 \\, e^{\\nu\\left(r\\right)} h\\left(r, {\\theta}\\right)\\right)} {\\varepsilon}^{2} - e^{\\nu\\left(r\\right)} & 0 & 0 & -{\\varepsilon} r^{2} \\omega\\left(r\\right) \\sin\\left({\\theta}\\right)^{2} \\\\\n",
       "0 & 2 \\, {\\varepsilon}^{2} e^{\\lambda\\left(r\\right)} m\\left(r, {\\theta}\\right) + e^{\\lambda\\left(r\\right)} & 0 & 0 \\\\\n",
       "0 & 0 & 2 \\, {\\varepsilon}^{2} r^{2} k\\left(r, {\\theta}\\right) + r^{2} & 0 \\\\\n",
       "-{\\varepsilon} r^{2} \\omega\\left(r\\right) \\sin\\left({\\theta}\\right)^{2} & 0 & 0 & 2 \\, {\\varepsilon}^{2} r^{2} k\\left(r, {\\theta}\\right) \\sin\\left({\\theta}\\right)^{2} + r^{2} \\sin\\left({\\theta}\\right)^{2}\n",
       "\\end{array}\\right)$$"
      ],
      "text/plain": [
       "'ge = ' [(r^2*omega(r)^2*sin(th)^2 - 2*e^nu(r)*h(r, th))*eps^2 - e^nu(r)                                                               0                                                               0                                     -eps*r^2*omega(r)*sin(th)^2]\n",
       "[                                                              0                          2*eps^2*e^lamb(r)*m(r, th) + e^lamb(r)                                                               0                                                               0]\n",
       "[                                                              0                                                               0                                      2*eps^2*r^2*k(r, th) + r^2                                                               0]\n",
       "[                                    -eps*r^2*omega(r)*sin(th)^2                                                               0                                                               0                  2*eps^2*r^2*k(r, th)*sin(th)^2 + r^2*sin(th)^2]"
      ]
     },
     "metadata": {},
     "output_type": "display_data"
    }
   ],
   "source": [
    "show(\"ge0 = \", gdd[:])\n",
    "show(\"K1 = \", K1[:])\n",
    "show(\"K2 = \", K2[:])\n",
    "show(\"ge = \", gedd[:])"
   ]
  },
  {
   "cell_type": "code",
   "execution_count": 5,
   "metadata": {},
   "outputs": [],
   "source": [
    "#4-velocities of the fluid for any epsilon\n",
    "\n",
    "ue = [0,0,0,0]\n",
    "u = [0,0,0,0]\n",
    "\n",
    "ue[0] = Ne;         ue[1] = 0;   ue[2] = 0;   ue[3] = Ne*Omegae\n",
    "u[0] = exp(-nu/2);  u[1] =  0;   u[2] = 0;    u[3] =  0\n",
    "\n",
    "Nevalue = solve(u[0]==ue[0], Ne)[0].rhs()                                                             #Eq 4.20\n",
    "Omegaevalue = solve(u[3]==ue[3], Omegae)[0].rhs()                                                     #Eq 4.20"
   ]
  },
  {
   "cell_type": "code",
   "execution_count": 6,
   "metadata": {},
   "outputs": [
    {
     "data": {
      "text/html": [
       "<html>\\[\\newcommand{\\Bold}[1]{\\mathbf{#1}}N_{\\varepsilon}\\lvert_0 =  e^{\\left(-\\frac{1}{2} \\, \\nu\\left(r\\right)\\right)}\\]</html>"
      ],
      "text/latex": [
       "$$\\newcommand{\\Bold}[1]{\\mathbf{#1}}N_{\\varepsilon}\\lvert_0 =  e^{\\left(-\\frac{1}{2} \\, \\nu\\left(r\\right)\\right)}$$"
      ],
      "text/plain": [
       "N_{\\varepsilon}\\lvert_0 =  e^(-1/2*nu(r))"
      ]
     },
     "metadata": {},
     "output_type": "display_data"
    },
    {
     "data": {
      "text/html": [
       "<html>\\[\\newcommand{\\Bold}[1]{\\mathbf{#1}}\\Omega_{\\varepsilon}\\lvert_0 =  0\\]</html>"
      ],
      "text/latex": [
       "$$\\newcommand{\\Bold}[1]{\\mathbf{#1}}\\Omega_{\\varepsilon}\\lvert_0 =  0$$"
      ],
      "text/plain": [
       "\\Omega_{\\varepsilon}\\lvert_0 =  0"
      ]
     },
     "metadata": {},
     "output_type": "display_data"
    }
   ],
   "source": [
    "show(LatexExpr(\"N_{\\\\varepsilon}\\lvert_0 = \"), Nevalue)\n",
    "show(LatexExpr(\"\\\\Omega_{\\\\varepsilon}\\lvert_0 = \"), Omegaevalue)"
   ]
  },
  {
   "cell_type": "code",
   "execution_count": 7,
   "metadata": {},
   "outputs": [],
   "source": [
    "u1 = [0,0,0,0]\n",
    "u2 = [0,0,0,0]\n",
    "\n",
    "u10 = function('u10',latex_name=\"u^{(1)0}\")(r,th)\n",
    "u20 = function('u20',latex_name=\"u^{(2)0}\")(r,th)\n",
    "\n",
    "Omega1 = var('Omega1', latex_name=\"\\\\Omega^{(1)}\")\n",
    "Omega2 = var('Omega2', latex_name=\"\\\\Omega^{(2)}\")\n",
    "\n",
    "s0 = eps == 0\n",
    "\n",
    "s1 = Ne.subs(eps==0) == Nevalue\n",
    "s2 = Omegae.subs(eps==0) == Omegaevalue\n",
    "\n",
    "s3 = diff(Ne,eps,eps).subs(eps==0) == u20\n",
    "s4 = diff(Omegae,eps,eps).subs(eps==0) == Omega2\n",
    "\n",
    "s5 = diff(Ne,eps).subs(eps==0) == u10\n",
    "s6 = diff(Omegae,eps).subs(eps==0) == Omega1\n",
    "\n",
    "sus_func = [s0,s1,s2,s3,s4,s5,s6]\n",
    "\n",
    "for i in range(0,4):\n",
    "    u1[i] = diff(ue[i],eps)\n",
    "    u2[i] = diff(ue[i],eps,eps)\n",
    "\n",
    "Ue = [0,0,0,0]\n",
    "for i in range(0,4):\n",
    "    for j in range(0,4):\n",
    "        Ue[i] += ue[j]*gedd[j,i]\n",
    "\n",
    "geUeue = 0\n",
    "for i in range(0,4):\n",
    "    geUeue += Ue[i]*ue[i]\n",
    "\n",
    "ddgeUeue = diff(geUeue, eps, eps).subs(sus_func) == 0\n",
    "u20value = solve(ddgeUeue, u20)[0].rhs()\n",
    "s7 = u20 == u20value\n",
    "\n",
    "dgeUeue = diff(geUeue, eps).subs(sus_func) == 0\n",
    "u10value = solve(dgeUeue, u10)[0].rhs()\n",
    "s8 = u10 == u10value\n",
    "\n",
    "sus_func.extend([s7,s8])\n",
    "for i in range(0,4):\n",
    "    for kk in range(0,len(sus_func)):\n",
    "        u1[i] = u1[i].subs(sus_func[kk])\n",
    "        u2[i] = u2[i].subs(sus_func[kk])"
   ]
  },
  {
   "cell_type": "code",
   "execution_count": 8,
   "metadata": {},
   "outputs": [
    {
     "data": {
      "text/html": [
       "<html>\\[\\newcommand{\\Bold}[1]{\\mathbf{#1}}u^{(1)} =  \\left[0, 0, 0, {\\Omega^{(1)}} e^{\\left(-\\frac{1}{2} \\, \\nu\\left(r\\right)\\right)}\\right]\\]</html>"
      ],
      "text/latex": [
       "$$\\newcommand{\\Bold}[1]{\\mathbf{#1}}u^{(1)} =  \\left[0, 0, 0, {\\Omega^{(1)}} e^{\\left(-\\frac{1}{2} \\, \\nu\\left(r\\right)\\right)}\\right]$$"
      ],
      "text/plain": [
       "u^{(1)} =  [0, 0, 0, Omega1*e^(-1/2*nu(r))]"
      ]
     },
     "metadata": {},
     "output_type": "display_data"
    },
    {
     "data": {
      "text/html": [
       "<html>\\[\\newcommand{\\Bold}[1]{\\mathbf{#1}}u^{(2)} =  \\left[{\\left({\\left({\\Omega^{(1)}}^{2} r^{2} - 2 \\, {\\Omega^{(1)}} r^{2} \\omega\\left(r\\right) + r^{2} \\omega\\left(r\\right)^{2}\\right)} \\sin\\left({\\theta}\\right)^{2} - 2 \\, e^{\\nu\\left(r\\right)} h\\left(r, {\\theta}\\right)\\right)} e^{\\left(-\\frac{3}{2} \\, \\nu\\left(r\\right)\\right)}, 0, 0, {\\Omega^{(2)}} e^{\\left(-\\frac{1}{2} \\, \\nu\\left(r\\right)\\right)}\\right]\\]</html>"
      ],
      "text/latex": [
       "$$\\newcommand{\\Bold}[1]{\\mathbf{#1}}u^{(2)} =  \\left[{\\left({\\left({\\Omega^{(1)}}^{2} r^{2} - 2 \\, {\\Omega^{(1)}} r^{2} \\omega\\left(r\\right) + r^{2} \\omega\\left(r\\right)^{2}\\right)} \\sin\\left({\\theta}\\right)^{2} - 2 \\, e^{\\nu\\left(r\\right)} h\\left(r, {\\theta}\\right)\\right)} e^{\\left(-\\frac{3}{2} \\, \\nu\\left(r\\right)\\right)}, 0, 0, {\\Omega^{(2)}} e^{\\left(-\\frac{1}{2} \\, \\nu\\left(r\\right)\\right)}\\right]$$"
      ],
      "text/plain": [
       "u^{(2)} =  [((Omega1^2*r^2 - 2*Omega1*r^2*omega(r) + r^2*omega(r)^2)*sin(th)^2 - 2*e^nu(r)*h(r, th))*e^(-3/2*nu(r)),\n",
       " 0,\n",
       " 0,\n",
       " Omega2*e^(-1/2*nu(r))]"
      ]
     },
     "metadata": {},
     "output_type": "display_data"
    }
   ],
   "source": [
    "show(LatexExpr(\"u^{(1)} = \"), u1)                                                                         #Eq 4.21\n",
    "show(LatexExpr(\"u^{(2)} = \"), u2)                                                                         #Eq 4.22"
   ]
  },
  {
   "cell_type": "code",
   "execution_count": 9,
   "metadata": {},
   "outputs": [
    {
     "data": {
      "text/html": [
       "<html>\\[\\newcommand{\\Bold}[1]{\\mathbf{#1}}0\\]</html>"
      ],
      "text/latex": [
       "$$\\newcommand{\\Bold}[1]{\\mathbf{#1}}0$$"
      ],
      "text/plain": [
       "0"
      ]
     },
     "metadata": {},
     "output_type": "display_data"
    },
    {
     "data": {
      "text/html": [
       "<html>\\[\\newcommand{\\Bold}[1]{\\mathbf{#1}}0\\]</html>"
      ],
      "text/latex": [
       "$$\\newcommand{\\Bold}[1]{\\mathbf{#1}}0$$"
      ],
      "text/plain": [
       "0"
      ]
     },
     "metadata": {},
     "output_type": "display_data"
    }
   ],
   "source": [
    "# CHECK\n",
    "u1_paper = [0,0,0,0]\n",
    "u1_paper[0] = 1/2*e^(-3*nu/2)*K1[0,0]\n",
    "u1_paper[3] = e^(-nu/2)*Omega1\n",
    "\n",
    "u2_paper = [0,0,0,0]\n",
    "u2_paper[0] = e^(-3*nu/2)*(1/2*K2[0,0]+3/4*e^(-nu)*K1[0,0]+2*Omega1*K1[0,3]+Omega1^2*r^2*sin(th)^2)\n",
    "u2_paper[3] = e^(-nu/2)*(e^(-nu)*K1[0,0]*Omega1+Omega2)  \n",
    "\n",
    "u1_sum = 0\n",
    "u2_sum = 0\n",
    "for i in range(0,4):\n",
    "    u1_sum += u1[0] - u1_paper[0]\n",
    "    u2_sum += u2[0] - u2_paper[0]\n",
    "\n",
    "u1_sum = u1_sum.simplify_full()\n",
    "u2_sum = u2_sum.simplify_full()\n",
    "\n",
    "show(u1_sum)\n",
    "show(u2_sum)"
   ]
  },
  {
   "cell_type": "code",
   "execution_count": 10,
   "metadata": {},
   "outputs": [],
   "source": [
    "G = copy(Ge)\n",
    "for kk in range(0,len(sus_func)):\n",
    "    G = G.subs(sus_func[kk])"
   ]
  },
  {
   "cell_type": "code",
   "execution_count": 11,
   "metadata": {},
   "outputs": [],
   "source": [
    "Ee = function('Ee', latex_name='E_{\\\\varepsilon}')(r,th,eps)\n",
    "Pe = function('Pe', latex_name='P_{\\\\varepsilon}')(r,th,eps)\n",
    "\n",
    "Te = matrix(SR, 4, 4)\n",
    "dTe = matrix(SR, 4, 4)\n",
    "ddTe = matrix(SR, 4, 4)\n",
    "for i in range(0,4):\n",
    "    for j in range(0,4):\n",
    "        Te[i,j] = (Ee+Pe)*Ue[i]*Ue[j]+Pe*gedd[i,j]\n",
    "        dTe[i,j] = diff(Te[i,j],eps)\n",
    "        ddTe[i,j] = diff(Te[i,j],eps,eps)\n",
    "\n",
    "T = copy(Te)\n",
    "for kk in range(0,len(sus_func)):\n",
    "    T = T.subs(sus_func[kk])"
   ]
  },
  {
   "cell_type": "code",
   "execution_count": 12,
   "metadata": {},
   "outputs": [
    {
     "data": {
      "text/html": [
       "<html>\\[\\newcommand{\\Bold}[1]{\\mathbf{#1}}T_{\\varepsilon}\\lvert_0 = \\left(\\begin{array}{rrrr}\n",
       "{\\left(E_{\\varepsilon}\\left(r, {\\theta}, 0\\right) + P_{\\varepsilon}\\left(r, {\\theta}, 0\\right)\\right)} e^{\\nu\\left(r\\right)} - P_{\\varepsilon}\\left(r, {\\theta}, 0\\right) e^{\\nu\\left(r\\right)} & 0 & 0 & 0 \\\\\n",
       "0 & P_{\\varepsilon}\\left(r, {\\theta}, 0\\right) e^{\\lambda\\left(r\\right)} & 0 & 0 \\\\\n",
       "0 & 0 & r^{2} P_{\\varepsilon}\\left(r, {\\theta}, 0\\right) & 0 \\\\\n",
       "0 & 0 & 0 & r^{2} P_{\\varepsilon}\\left(r, {\\theta}, 0\\right) \\sin\\left({\\theta}\\right)^{2}\n",
       "\\end{array}\\right)\\]</html>"
      ],
      "text/latex": [
       "$$\\newcommand{\\Bold}[1]{\\mathbf{#1}}T_{\\varepsilon}\\lvert_0 = \\left(\\begin{array}{rrrr}\n",
       "{\\left(E_{\\varepsilon}\\left(r, {\\theta}, 0\\right) + P_{\\varepsilon}\\left(r, {\\theta}, 0\\right)\\right)} e^{\\nu\\left(r\\right)} - P_{\\varepsilon}\\left(r, {\\theta}, 0\\right) e^{\\nu\\left(r\\right)} & 0 & 0 & 0 \\\\\n",
       "0 & P_{\\varepsilon}\\left(r, {\\theta}, 0\\right) e^{\\lambda\\left(r\\right)} & 0 & 0 \\\\\n",
       "0 & 0 & r^{2} P_{\\varepsilon}\\left(r, {\\theta}, 0\\right) & 0 \\\\\n",
       "0 & 0 & 0 & r^{2} P_{\\varepsilon}\\left(r, {\\theta}, 0\\right) \\sin\\left({\\theta}\\right)^{2}\n",
       "\\end{array}\\right)$$"
      ],
      "text/plain": [
       "T_{\\varepsilon}\\lvert_0 = [(Ee(r, th, 0) + Pe(r, th, 0))*e^nu(r) - Pe(r, th, 0)*e^nu(r)                                                            0                                                            0                                                            0]\n",
       "[                                                           0                                       Pe(r, th, 0)*e^lamb(r)                                                            0                                                            0]\n",
       "[                                                           0                                                            0                                             r^2*Pe(r, th, 0)                                                            0]\n",
       "[                                                           0                                                            0                                                            0                                   r^2*Pe(r, th, 0)*sin(th)^2]"
      ]
     },
     "metadata": {},
     "output_type": "display_data"
    }
   ],
   "source": [
    "show(LatexExpr(\"T_{\\\\varepsilon}\\lvert_0 =\"), T)"
   ]
  },
  {
   "cell_type": "code",
   "execution_count": 13,
   "metadata": {},
   "outputs": [],
   "source": [
    "kappa = 8*pi\n",
    "E = function('E')(r,th)\n",
    "P = function('P')(r,th)\n",
    "\n",
    "s9 = Ee.subs(eps==0) == E\n",
    "s10 = Pe.subs(eps==0) == P\n",
    "sus_func.extend([s9,s10])\n",
    "\n",
    "T = T.subs(s9).subs(s10)\n",
    "        \n",
    "Evalue = solve(G[0,0]==kappa*T[0,0],E)[0].rhs()                                                          #Eq 3.7\n",
    "Pvalue = solve(G[1,1]==kappa*T[1,1],P)[0].rhs()                                                          #Eq 3.8\n",
    "Pvalue2 = solve(G[2,2]==kappa*T[2,2],P)[0].rhs()\n",
    "Pvalue3 = solve(G[3,3]==kappa*T[3,3],P)[0].rhs()\n",
    "ddnu = solve(Pvalue == Pvalue2, diff(nu,r,r))[0].rhs()                                                          #Eq 3.9"
   ]
  },
  {
   "cell_type": "code",
   "execution_count": 14,
   "metadata": {},
   "outputs": [
    {
     "data": {
      "text/html": [
       "<html>\\[\\newcommand{\\Bold}[1]{\\mathbf{#1}}E =  \\frac{r e^{\\left(-\\lambda\\left(r\\right)\\right)} \\frac{\\partial}{\\partial r}\\lambda\\left(r\\right) - e^{\\left(-\\lambda\\left(r\\right)\\right)} + 1}{8 \\, \\pi r^{2}}\\]</html>"
      ],
      "text/latex": [
       "$$\\newcommand{\\Bold}[1]{\\mathbf{#1}}E =  \\frac{r e^{\\left(-\\lambda\\left(r\\right)\\right)} \\frac{\\partial}{\\partial r}\\lambda\\left(r\\right) - e^{\\left(-\\lambda\\left(r\\right)\\right)} + 1}{8 \\, \\pi r^{2}}$$"
      ],
      "text/plain": [
       "E =  1/8*(r*e^(-lamb(r))*diff(lamb(r), r) - e^(-lamb(r)) + 1)/(pi*r^2)"
      ]
     },
     "metadata": {},
     "output_type": "display_data"
    },
    {
     "data": {
      "text/html": [
       "<html>\\[\\newcommand{\\Bold}[1]{\\mathbf{#1}}P_{rr} =  \\frac{r e^{\\left(-\\lambda\\left(r\\right)\\right)} \\frac{\\partial}{\\partial r}\\nu\\left(r\\right) + e^{\\left(-\\lambda\\left(r\\right)\\right)} - 1}{8 \\, \\pi r^{2}}\\]</html>"
      ],
      "text/latex": [
       "$$\\newcommand{\\Bold}[1]{\\mathbf{#1}}P_{rr} =  \\frac{r e^{\\left(-\\lambda\\left(r\\right)\\right)} \\frac{\\partial}{\\partial r}\\nu\\left(r\\right) + e^{\\left(-\\lambda\\left(r\\right)\\right)} - 1}{8 \\, \\pi r^{2}}$$"
      ],
      "text/plain": [
       "P_{rr} =  1/8*(r*e^(-lamb(r))*diff(nu(r), r) + e^(-lamb(r)) - 1)/(pi*r^2)"
      ]
     },
     "metadata": {},
     "output_type": "display_data"
    },
    {
     "data": {
      "text/html": [
       "<html>\\[\\newcommand{\\Bold}[1]{\\mathbf{#1}}\\nu'' = -\\frac{r^{2} \\frac{\\partial}{\\partial r}\\nu\\left(r\\right)^{2} - 2 \\, r \\frac{\\partial}{\\partial r}\\lambda\\left(r\\right) - {\\left(r^{2} \\frac{\\partial}{\\partial r}\\lambda\\left(r\\right) + 2 \\, r\\right)} \\frac{\\partial}{\\partial r}\\nu\\left(r\\right) + 4 \\, e^{\\lambda\\left(r\\right)} - 4}{2 \\, r^{2}}\\]</html>"
      ],
      "text/latex": [
       "$$\\newcommand{\\Bold}[1]{\\mathbf{#1}}\\nu'' = -\\frac{r^{2} \\frac{\\partial}{\\partial r}\\nu\\left(r\\right)^{2} - 2 \\, r \\frac{\\partial}{\\partial r}\\lambda\\left(r\\right) - {\\left(r^{2} \\frac{\\partial}{\\partial r}\\lambda\\left(r\\right) + 2 \\, r\\right)} \\frac{\\partial}{\\partial r}\\nu\\left(r\\right) + 4 \\, e^{\\lambda\\left(r\\right)} - 4}{2 \\, r^{2}}$$"
      ],
      "text/plain": [
       "\\nu'' = -1/2*(r^2*diff(nu(r), r)^2 - 2*r*diff(lamb(r), r) - (r^2*diff(lamb(r), r) + 2*r)*diff(nu(r), r) + 4*e^lamb(r) - 4)/r^2"
      ]
     },
     "metadata": {},
     "output_type": "display_data"
    }
   ],
   "source": [
    "show(LatexExpr(\"E = \"), Evalue)\n",
    "show(LatexExpr(\"P_{rr} = \"), Pvalue)\n",
    "show(LatexExpr(\"\\\\nu'' =\"), ddnu)\n",
    "\n",
    "s11 = E == Evalue\n",
    "s12 = P == Pvalue\n",
    "s13 = diff(nu,r,r) == ddnu\n",
    "sus_func.extend([s11,s12,s13])\n",
    "sus_func.extend([diff(E,r)==diff(Evalue,r),diff(P,r)==diff(Pvalue,r)])"
   ]
  },
  {
   "cell_type": "code",
   "execution_count": 15,
   "metadata": {},
   "outputs": [
    {
     "data": {
      "text/html": [
       "<html>\\[\\newcommand{\\Bold}[1]{\\mathbf{#1}}0\\]</html>"
      ],
      "text/latex": [
       "$$\\newcommand{\\Bold}[1]{\\mathbf{#1}}0$$"
      ],
      "text/plain": [
       "0"
      ]
     },
     "metadata": {},
     "output_type": "display_data"
    },
    {
     "data": {
      "text/html": [
       "<html>\\[\\newcommand{\\Bold}[1]{\\mathbf{#1}}0\\]</html>"
      ],
      "text/latex": [
       "$$\\newcommand{\\Bold}[1]{\\mathbf{#1}}0$$"
      ],
      "text/plain": [
       "0"
      ]
     },
     "metadata": {},
     "output_type": "display_data"
    },
    {
     "data": {
      "text/html": [
       "<html>\\[\\newcommand{\\Bold}[1]{\\mathbf{#1}}0\\]</html>"
      ],
      "text/latex": [
       "$$\\newcommand{\\Bold}[1]{\\mathbf{#1}}0$$"
      ],
      "text/plain": [
       "0"
      ]
     },
     "metadata": {},
     "output_type": "display_data"
    }
   ],
   "source": [
    "Evalue_paper = diff(lamb,r) - 1/r*(1-e^(lamb)) - r*e^(lamb)*8*pi*E == 0\n",
    "Evalue_paper = solve(Evalue_paper, E)[0].rhs()\n",
    "\n",
    "Evalue_check = Evalue - Evalue_paper\n",
    "show(Evalue_check.simplify_full())\n",
    "\n",
    "Pvalue_paper = diff(nu,r) - 1/r*(-1+e^(lamb)) - r*e^(lamb)*8*pi*P == 0\n",
    "Pvalue_paper = solve(Pvalue_paper, P)[0].rhs()\n",
    "\n",
    "Pvalue_check = Pvalue - Pvalue_paper\n",
    "show(Pvalue_check.simplify_full())\n",
    "\n",
    "ddnu_paper = 2*r*diff(nu,r,r) + diff(nu,r)*(r*diff(nu,r)-2)-diff(lamb,r)*(2+r*diff(nu,r))+4/r*(e^(lamb)-1) == 0\n",
    "ddnu_paper = solve(ddnu_paper, diff(nu,r,r))[0].rhs()\n",
    "\n",
    "ddnu_check = ddnu - ddnu_paper\n",
    "show(ddnu_check.simplify_full())"
   ]
  },
  {
   "cell_type": "markdown",
   "metadata": {},
   "source": [
    "## Primera derivada"
   ]
  },
  {
   "cell_type": "code",
   "execution_count": 16,
   "metadata": {},
   "outputs": [],
   "source": [
    "E1 = function('E1', latex_name='E^{(1)}')(r,th)\n",
    "P1 = function('P1', latex_name='P^{(1)}')(r,th)"
   ]
  },
  {
   "cell_type": "code",
   "execution_count": 17,
   "metadata": {},
   "outputs": [],
   "source": [
    "s14 = diff(Ee,eps).subs(eps==0) == E1\n",
    "s15 = diff(Pe,eps).subs(eps==0) == P1\n",
    "\n",
    "sus_func.extend([s14,s15])"
   ]
  },
  {
   "cell_type": "code",
   "execution_count": 18,
   "metadata": {},
   "outputs": [],
   "source": [
    "dG = copy(dGe)\n",
    "dT = copy(dTe)\n",
    "for kk in range(0,len(sus_func)):\n",
    "    dG = dG.subs(sus_func[kk])\n",
    "    dT = dT.subs(sus_func[kk])"
   ]
  },
  {
   "cell_type": "code",
   "execution_count": 19,
   "metadata": {
    "scrolled": true
   },
   "outputs": [
    {
     "data": {
      "text/html": [
       "<html>\\[\\newcommand{\\Bold}[1]{\\mathbf{#1}}-8 \\, \\pi P^{(1)}\\left(r, {\\theta}\\right) e^{\\lambda\\left(r\\right)} = 0\\]</html>"
      ],
      "text/latex": [
       "$$\\newcommand{\\Bold}[1]{\\mathbf{#1}}-8 \\, \\pi P^{(1)}\\left(r, {\\theta}\\right) e^{\\lambda\\left(r\\right)} = 0$$"
      ],
      "text/plain": [
       "-8*pi*P1(r, th)*e^lamb(r) == 0"
      ]
     },
     "metadata": {},
     "output_type": "display_data"
    },
    {
     "data": {
      "text/html": [
       "<html>\\[\\newcommand{\\Bold}[1]{\\mathbf{#1}}-8 \\, \\pi r^{2} P^{(1)}\\left(r, {\\theta}\\right) = 0\\]</html>"
      ],
      "text/latex": [
       "$$\\newcommand{\\Bold}[1]{\\mathbf{#1}}-8 \\, \\pi r^{2} P^{(1)}\\left(r, {\\theta}\\right) = 0$$"
      ],
      "text/plain": [
       "-8*pi*r^2*P1(r, th) == 0"
      ]
     },
     "metadata": {},
     "output_type": "display_data"
    },
    {
     "data": {
      "text/html": [
       "<html>\\[\\newcommand{\\Bold}[1]{\\mathbf{#1}}-8 \\, \\pi r^{2} P^{(1)}\\left(r, {\\theta}\\right) \\sin\\left({\\theta}\\right)^{2} = 0\\]</html>"
      ],
      "text/latex": [
       "$$\\newcommand{\\Bold}[1]{\\mathbf{#1}}-8 \\, \\pi r^{2} P^{(1)}\\left(r, {\\theta}\\right) \\sin\\left({\\theta}\\right)^{2} = 0$$"
      ],
      "text/plain": [
       "-8*pi*r^2*P1(r, th)*sin(th)^2 == 0"
      ]
     },
     "metadata": {},
     "output_type": "display_data"
    },
    {
     "data": {
      "text/html": [
       "<html>\\[\\newcommand{\\Bold}[1]{\\mathbf{#1}}\\text{De aquí sacamos }P_1(r) \\rightarrow P_1(r) =  0\\]</html>"
      ],
      "text/latex": [
       "$$\\newcommand{\\Bold}[1]{\\mathbf{#1}}\\text{De aquí sacamos }P_1(r) \\rightarrow P_1(r) =  0$$"
      ],
      "text/plain": [
       "\\text{De aquí sacamos }P_1(r) \\rightarrow P_1(r) =  0"
      ]
     },
     "metadata": {},
     "output_type": "display_data"
    }
   ],
   "source": [
    "dEq11 = dG[1,1] - kappa*dT[1,1] == 0\n",
    "dEq11 = dEq11.simplify_full()\n",
    "\n",
    "dEq22 = dG[2,2] - kappa*dT[2,2] == 0\n",
    "dEq22 = dEq22.simplify_full()\n",
    "\n",
    "dEq33 = dG[3,3] - kappa*dT[3,3] == 0\n",
    "dEq33 = dEq33.simplify_full()\n",
    "\n",
    "show(dEq11)\n",
    "show(dEq22)\n",
    "show(dEq33)\n",
    "\n",
    "P1value = solve(dEq11,P1)[0].rhs()\n",
    "sus_func.extend([P1==P1value])\n",
    "\n",
    "show(LatexExpr(\"\\\\text{De aquí sacamos }P_1(r) \\\\rightarrow P_1(r) = \"), P1value)"
   ]
  },
  {
   "cell_type": "code",
   "execution_count": 20,
   "metadata": {},
   "outputs": [
    {
     "data": {
      "text/html": [
       "<html>\\[\\newcommand{\\Bold}[1]{\\mathbf{#1}}-8 \\, \\pi E^{(1)}\\left(r, {\\theta}\\right) e^{\\nu\\left(r\\right)} = 0\\]</html>"
      ],
      "text/latex": [
       "$$\\newcommand{\\Bold}[1]{\\mathbf{#1}}-8 \\, \\pi E^{(1)}\\left(r, {\\theta}\\right) e^{\\nu\\left(r\\right)} = 0$$"
      ],
      "text/plain": [
       "-8*pi*E1(r, th)*e^nu(r) == 0"
      ]
     },
     "metadata": {},
     "output_type": "display_data"
    },
    {
     "data": {
      "text/html": [
       "<html>\\[\\newcommand{\\Bold}[1]{\\mathbf{#1}}\\text{De aquí sacamos }E_1(r,\\theta) \\rightarrow E_1(r,\\theta) =  0\\]</html>"
      ],
      "text/latex": [
       "$$\\newcommand{\\Bold}[1]{\\mathbf{#1}}\\text{De aquí sacamos }E_1(r,\\theta) \\rightarrow E_1(r,\\theta) =  0$$"
      ],
      "text/plain": [
       "\\text{De aquí sacamos }E_1(r,\\theta) \\rightarrow E_1(r,\\theta) =  0"
      ]
     },
     "metadata": {},
     "output_type": "display_data"
    }
   ],
   "source": [
    "dEq00 = dG[0,0] - kappa*dT[0,0] == 0\n",
    "dEq00 = dEq00.simplify_full()\n",
    "show(dEq00)\n",
    "\n",
    "for kk in range(0,len(sus_func)):\n",
    "    dEq00 = dEq00.subs(sus_func[kk])\n",
    "\n",
    "E1value = solve(dEq00,E1)[0].rhs()\n",
    "sus_func.extend([E1==E1value])\n",
    "\n",
    "show(LatexExpr(\"\\\\text{De aquí sacamos }E_1(r,\\\\theta) \\\\rightarrow E_1(r,\\\\theta) = \"), E1value)"
   ]
  },
  {
   "cell_type": "code",
   "execution_count": 21,
   "metadata": {},
   "outputs": [],
   "source": [
    "dEq03 = dG[0,3] - kappa*dT[0,3]\n",
    "\n",
    "for kk in range(0,len(sus_func)):\n",
    "    dEq03 = dEq03.subs(sus_func[kk])\n",
    "    \n",
    "dEq03 = dEq03.simplify_full()\n",
    "\n",
    "ddomega = solve(dEq03, diff(omega,r,r))[0].rhs()\n",
    "ddomega = ddomega.simplify_full()\n",
    "sus_func.extend([diff(omega,r,r)==ddomega])"
   ]
  },
  {
   "cell_type": "code",
   "execution_count": 22,
   "metadata": {},
   "outputs": [
    {
     "data": {
      "text/html": [
       "<html>\\[\\newcommand{\\Bold}[1]{\\mathbf{#1}}0\\]</html>"
      ],
      "text/latex": [
       "$$\\newcommand{\\Bold}[1]{\\mathbf{#1}}0$$"
      ],
      "text/plain": [
       "0"
      ]
     },
     "execution_count": 22,
     "metadata": {},
     "output_type": "execute_result"
    }
   ],
   "source": [
    "# CHECK EQUATION 48\n",
    "jj = e^(-(lamb+nu)/2)\n",
    "dEq03_paper = diff(r^4*jj*diff(omega,r),r)+\\\n",
    "              (r^2*jj*e^(lamb)/sin(th)^3)*diff(sin(th)^3*diff(omega,th),th)+\\\n",
    "              4*r^3*diff(jj,r)*(omega-Omega1)\n",
    "\n",
    "dEq03_paper = dEq03_paper*sin(th)^2/(2*r^2*e^(lamb/2-nu/2))\n",
    "\n",
    "dEq03_check = dEq03_paper - dEq03\n",
    "\n",
    "dEq03_check.simplify_full()"
   ]
  },
  {
   "cell_type": "markdown",
   "metadata": {},
   "source": [
    "## Segunda derivada"
   ]
  },
  {
   "cell_type": "code",
   "execution_count": 23,
   "metadata": {},
   "outputs": [],
   "source": [
    "E2 = function('E2', latex_name='E^{(2)}')(r,th)\n",
    "P2 = function('P2', latex_name='P^{(2)}')(r,th)"
   ]
  },
  {
   "cell_type": "code",
   "execution_count": 24,
   "metadata": {},
   "outputs": [],
   "source": [
    "s16 = diff(Ee,eps,eps).subs(eps==0) == E2\n",
    "s17 = diff(Pe,eps,eps).subs(eps==0) == P2\n",
    "\n",
    "sus_func.extend([s16,s17])"
   ]
  },
  {
   "cell_type": "code",
   "execution_count": 25,
   "metadata": {},
   "outputs": [],
   "source": [
    "ddG = copy(ddGe)\n",
    "ddT = copy(ddTe)\n",
    "for kk in range(0,len(sus_func)):\n",
    "    ddG = ddG.subs(sus_func[kk])\n",
    "    ddT = ddT.subs(sus_func[kk])"
   ]
  },
  {
   "cell_type": "markdown",
   "metadata": {},
   "source": [
    "### Descomposición en polinomios de Legendre"
   ]
  },
  {
   "cell_type": "code",
   "execution_count": 26,
   "metadata": {},
   "outputs": [],
   "source": [
    "h0 = function('h0', latex_name='h_0')(r)\n",
    "k0 = function('k0', latex_name='k_0')(r)\n",
    "m0 = function('m0', latex_name='m_0')(r)\n",
    "\n",
    "h2 = function('h2', latex_name='h_2')(r)\n",
    "k2 = function('k2', latex_name='k_2')(r)\n",
    "m2 = function('m2', latex_name='m_2')(r)\n",
    "\n",
    "E20 = function('E20', latex_name='E_{0}^{(2)}')(r)\n",
    "P20 = function('P20', latex_name='P_{0}^{(2)}')(r)\n",
    "\n",
    "E22 = function('E22', latex_name='E_{2}^{(2)}')(r)\n",
    "P22 = function('P22', latex_name='P_{2}^{(2)}')(r)\n",
    "\n",
    "LP1 = function('LP1', latex_name='LP_1')(th)\n",
    "LP2 = function('LP2', latex_name='LP_2')(th)\n",
    "\n",
    "lp2 = (3*cos(th)^2-1)/2"
   ]
  },
  {
   "cell_type": "code",
   "execution_count": 27,
   "metadata": {},
   "outputs": [],
   "source": [
    "sus_descomp = [m==m0+m2*lp2,\n",
    "               diff(m,r)==diff(m0+m2*lp2,r),\n",
    "               diff(m,r,r)==diff(m0+m2*lp2,r,r),\n",
    "               diff(m,th)==diff(m0+m2*lp2,th),\n",
    "               diff(m,th,th)==diff(m0+m2*lp2,th,th),\n",
    "               diff(m,th,r)==diff(m0+m2*lp2,th,r),\n",
    "               diff(m,r,th)==diff(m0+m2*lp2,r,th),\n",
    "               k==k2*lp2,\n",
    "               diff(k,r)==diff(k2*lp2,r),\n",
    "               diff(k,r,r)==diff(k2*lp2,r,r),\n",
    "               diff(k,th)==diff(k2*lp2,th),\n",
    "               diff(k,th,th)==diff(k2*lp2,th,th),\n",
    "               diff(k,th,r)==diff(k2*lp2,th,r),\n",
    "               diff(k,r,th)==diff(k2*lp2,r,th),\n",
    "               h==h0+h2*lp2,\n",
    "               diff(h,r)==diff(h0+h2*lp2,r),\n",
    "               diff(h,r,r)==diff(h0+h2*lp2,r,r),\n",
    "               diff(h,th)==diff(h0+h2*lp2,th),\n",
    "               diff(h,th,th)==diff(h0+h2*lp2,th,th),\n",
    "               diff(h,th,r)==diff(h0+h2*lp2,th,r),\n",
    "               diff(h,r,th)==diff(h0+h2*lp2,r,th),\n",
    "               E2==E20+E22*lp2,\n",
    "               diff(E2,r)==diff(E20+E22*lp2,r),\n",
    "               diff(E2,r,r)==diff(E20+E22*lp2,r,r),\n",
    "               diff(E2,th)==diff(E20+E22*lp2,th),\n",
    "               diff(E2,th,th)==diff(E20+E22*lp2,th,th),\n",
    "               diff(E2,th,r)==diff(E20+E22*lp2,th,r),\n",
    "               diff(E2,r,th)==diff(E20+E22*lp2,r,th),\n",
    "               P2==P20+P22*lp2,\n",
    "               diff(P2,r)==diff(P20+P22*lp2,r),\n",
    "               diff(P2,r,r)==diff(P20+P22*lp2,r,r),\n",
    "               diff(P2,th)==diff(P20+P22*lp2,th),\n",
    "               diff(P2,th,th)==diff(P20+P22*lp2,th,th),\n",
    "               diff(P2,th,r)==diff(P20+P22*lp2,th,r),\n",
    "               diff(P2,r,th)==diff(P20+P22*lp2,r,th)]\n",
    "\n",
    "for kk in range(0,len(sus_descomp)):\n",
    "    ddG = ddG.subs(sus_descomp[kk])\n",
    "    ddT = ddT.subs(sus_descomp[kk])\n",
    "\n",
    "ddG = ddG.simplify_full()\n",
    "ddT = ddT.simplify_full()"
   ]
  },
  {
   "cell_type": "markdown",
   "metadata": {},
   "source": [
    "# l=0"
   ]
  },
  {
   "cell_type": "code",
   "execution_count": 28,
   "metadata": {},
   "outputs": [],
   "source": [
    "s1 = sin(th)^2 == (2/3)*(1-LP2)\n",
    "s2 = cos(th)^2 == (2*LP2+1)/3\n",
    "s3 = cos(th) == LP1\n",
    "\n",
    "sus_legendre = [s1,s2,s3]"
   ]
  },
  {
   "cell_type": "code",
   "execution_count": 29,
   "metadata": {
    "scrolled": true
   },
   "outputs": [
    {
     "data": {
      "text/html": [
       "<html>\\[\\newcommand{\\Bold}[1]{\\mathbf{#1}}\\Omega^{(2)} =  0\\]</html>"
      ],
      "text/latex": [
       "$$\\newcommand{\\Bold}[1]{\\mathbf{#1}}\\Omega^{(2)} =  0$$"
      ],
      "text/plain": [
       "\\Omega^{(2)} =  0"
      ]
     },
     "metadata": {},
     "output_type": "display_data"
    }
   ],
   "source": [
    "ddEq03 = ddG[0,3] - kappa*ddT[0,3] == 0\n",
    "ddEq03 = ddEq03.simplify_full()\n",
    "\n",
    "for kk in range(0,len(sus_legendre)):\n",
    "    ddEq03 = ddEq03.subs(sus_legendre[kk])\n",
    "ddEq03 = ddEq03.subs(LP1==0).subs(LP2==0)\n",
    "\n",
    "Omega2value = solve(ddEq03,Omega2)[0].rhs()\n",
    "show(LatexExpr(\"\\\\Omega^{(2)} = \"), Omega2value)\n",
    "\n",
    "ddG = ddG.subs(Omega2==Omega2value)\n",
    "ddT = ddT.subs(Omega2==Omega2value)\n",
    "sus_func.extend([Omega2==Omega2value])"
   ]
  },
  {
   "cell_type": "code",
   "execution_count": 31,
   "metadata": {
    "scrolled": false
   },
   "outputs": [
    {
     "data": {
      "text/html": [
       "<html>\\[\\newcommand{\\Bold}[1]{\\mathbf{#1}}0\\]</html>"
      ],
      "text/latex": [
       "$$\\newcommand{\\Bold}[1]{\\mathbf{#1}}0$$"
      ],
      "text/plain": [
       "0"
      ]
     },
     "metadata": {},
     "output_type": "display_data"
    }
   ],
   "source": [
    "ddEq00 = ddG[0,0] - kappa*ddT[0,0] == 0\n",
    "ddEq00 = ddEq00.simplify_full()\n",
    "E20value = solve(ddEq00,E20)[0].rhs()\n",
    "\n",
    "for kk in range(0,len(sus_legendre)):\n",
    "    E20value = E20value.subs(sus_legendre[kk])\n",
    "\n",
    "E20value = E20value.subs(LP1==0).subs(LP2==0)\n",
    "E20value = E20value.simplify_full()\n",
    "\n",
    "ddG = ddG.subs(E20==E20value)\n",
    "ddT = ddT.subs(E20==E20value)\n",
    "sus_func.extend([E20==E20value])\n",
    "    \n",
    "E20value_paper = (4/r^2*diff(r*e^(-lamb)*m0,r)\\\n",
    "                  +8/3*r*jj*diff(jj,r)*(omega-Omega1)^2\\\n",
    "                  -1/3*jj^2*r^2*diff(omega,r)^2)/(8*pi)\n",
    "\n",
    "E20value_paper = E20value_paper.subs(Omega2==Omega2value)\n",
    "\n",
    "E20value_check = E20value - E20value_paper\n",
    "E20value_check = E20value_check.simplify_full()\n",
    "\n",
    "show(E20value_check)"
   ]
  },
  {
   "cell_type": "code",
   "execution_count": 32,
   "metadata": {},
   "outputs": [
    {
     "data": {
      "text/html": [
       "<html>\\[\\newcommand{\\Bold}[1]{\\mathbf{#1}}0\\]</html>"
      ],
      "text/latex": [
       "$$\\newcommand{\\Bold}[1]{\\mathbf{#1}}0$$"
      ],
      "text/plain": [
       "0"
      ]
     },
     "metadata": {},
     "output_type": "display_data"
    }
   ],
   "source": [
    "ddEq11 = ddG[1,1] - kappa*ddT[1,1] == 0\n",
    "ddEq11 = ddEq11.simplify_full()\n",
    "P20value = solve(ddEq11,P20)[0].rhs()\n",
    "P20value = P20value.simplify_full()\n",
    "\n",
    "for kk in range(0,len(sus_legendre)):\n",
    "    P20value = P20value.subs(sus_legendre[kk])\n",
    "    \n",
    "P20value = P20value.subs(LP1==0).subs(LP2==0)\n",
    "P20value = P20value.simplify_full()\n",
    "\n",
    "ddG = ddG.subs(P20==P20value)\n",
    "ddT = ddT.subs(P20==P20value)\n",
    "sus_func.extend([P20==P20value])\n",
    "\n",
    "P20value_paper = (4/r^2*(r*e^(-lamb)*diff(h0,r)-m0*(8*pi*r^2*P+1))\\\n",
    "                  +1/3*r^2*jj^2*diff(omega,r)^2)/(8*pi)\n",
    "\n",
    "for kk in range(0,len(sus_func)):\n",
    "    P20value_paper = P20value_paper.subs(sus_func[kk])\n",
    "P20value_paper = P20value_paper.simplify_full()\n",
    "\n",
    "P20value_check = P20value - P20value_paper\n",
    "P20value_check = P20value_check.simplify_full()\n",
    "\n",
    "show(P20value_check)"
   ]
  },
  {
   "cell_type": "code",
   "execution_count": 33,
   "metadata": {},
   "outputs": [
    {
     "data": {
      "text/html": [
       "<html>\\[\\newcommand{\\Bold}[1]{\\mathbf{#1}}0\\]</html>"
      ],
      "text/latex": [
       "$$\\newcommand{\\Bold}[1]{\\mathbf{#1}}0$$"
      ],
      "text/plain": [
       "0"
      ]
     },
     "execution_count": 33,
     "metadata": {},
     "output_type": "execute_result"
    }
   ],
   "source": [
    "ddEq22 = ddG[2,2] - kappa*ddT[2,2] == 0\n",
    "ddEq22 = ddEq22.simplify_full()\n",
    "ddh0 = solve(ddEq22,diff(h0,r,r))[0].rhs()\n",
    "ddh0 = ddh0.simplify_full()\n",
    "\n",
    "for kk in range(0,len(sus_legendre)):\n",
    "    ddh0 = ddh0.subs(sus_legendre[kk])\n",
    "    \n",
    "ddh0 = ddh0.subs(LP1==0).subs(LP2==0)\n",
    "ddh0 = ddh0.simplify_full()\n",
    "\n",
    "ddEq33 = ddG[3,3] - kappa*ddT[3,3] == 0\n",
    "ddEq33 = ddEq33.simplify_full()\n",
    "ddh0_33 = solve(ddEq33,diff(h0,r,r))[0].rhs()\n",
    "ddh0_33 = ddh0_33.simplify_full()\n",
    "\n",
    "for kk in range(0,len(sus_legendre)):\n",
    "    ddh0_33 = ddh0_33.subs(sus_legendre[kk])\n",
    "    \n",
    "ddh0_33 = ddh0_33.subs(LP1==0).subs(LP2==0)\n",
    "ddh0_33 = ddh0_33.simplify_full()\n",
    "\n",
    "ddG = ddG.subs(diff(h0,r,r)==ddh0)\n",
    "ddT = ddT.subs(diff(h0,r,r)==ddh0)\n",
    "sus_func.extend([diff(h0,r,r)==ddh0])\n",
    "\n",
    "m2h2 = ddh0 - ddh0_33 == 0\n",
    "m2value = solve(m2h2,m2)[0].rhs()\n",
    "m2value = m2value.simplify_full()\n",
    "\n",
    "m2value_paper = 1/6*r^4*jj^2*diff(omega,r)^2\\\n",
    "                -1/3*r^3*diff(jj^2,r)*(omega-Omega1)^2\\\n",
    "                -h2\n",
    "\n",
    "for kk in range(0,len(sus_func)):\n",
    "    m2value_paper = m2value_paper.subs(sus_func[kk])\n",
    "\n",
    "ddG = ddG.subs(m2==m2value)\n",
    "ddT = ddT.subs(m2==m2value)\n",
    "sus_func.extend([m2==m2value])\n",
    "\n",
    "m2value_check = m2value - m2value_paper\n",
    "m2value_check = m2value_check.simplify_full()\n",
    "\n",
    "m2value_check"
   ]
  },
  {
   "cell_type": "code",
   "execution_count": 34,
   "metadata": {},
   "outputs": [
    {
     "data": {
      "text/html": [
       "<html>\\[\\newcommand{\\Bold}[1]{\\mathbf{#1}}\\frac{{\\left(3 \\, r^{4} \\frac{\\partial}{\\partial r}\\omega\\left(r\\right)^{2} + 6 \\, r e^{\\nu\\left(r\\right)} \\frac{\\partial}{\\partial r}h_0\\left(r\\right) + 6 \\, r e^{\\nu\\left(r\\right)} \\frac{\\partial}{\\partial r}m_0\\left(r\\right) - 12 \\, e^{\\left(\\lambda\\left(r\\right) + \\nu\\left(r\\right)\\right)} m_0\\left(r\\right) + {\\left(2 \\, {\\Omega^{(1)}}^{2} r^{3} - 4 \\, {\\Omega^{(1)}} r^{3} \\omega\\left(r\\right) + 2 \\, r^{3} \\omega\\left(r\\right)^{2} + 3 \\, r^{2} e^{\\nu\\left(r\\right)} \\frac{\\partial}{\\partial r}h_0\\left(r\\right)\\right)} \\frac{\\partial}{\\partial r}\\lambda\\left(r\\right) + {\\left(2 \\, {\\Omega^{(1)}}^{2} r^{3} - 4 \\, {\\Omega^{(1)}} r^{3} \\omega\\left(r\\right) + 2 \\, r^{3} \\omega\\left(r\\right)^{2} - 6 \\, r^{2} e^{\\nu\\left(r\\right)} \\frac{\\partial}{\\partial r}h_0\\left(r\\right) + 3 \\, r^{2} e^{\\nu\\left(r\\right)} \\frac{\\partial}{\\partial r}m_0\\left(r\\right)\\right)} \\frac{\\partial}{\\partial r}\\nu\\left(r\\right)\\right)} e^{\\left(-\\nu\\left(r\\right)\\right)}}{6 \\, r^{2}}\\]</html>"
      ],
      "text/latex": [
       "$$\\newcommand{\\Bold}[1]{\\mathbf{#1}}\\frac{{\\left(3 \\, r^{4} \\frac{\\partial}{\\partial r}\\omega\\left(r\\right)^{2} + 6 \\, r e^{\\nu\\left(r\\right)} \\frac{\\partial}{\\partial r}h_0\\left(r\\right) + 6 \\, r e^{\\nu\\left(r\\right)} \\frac{\\partial}{\\partial r}m_0\\left(r\\right) - 12 \\, e^{\\left(\\lambda\\left(r\\right) + \\nu\\left(r\\right)\\right)} m_0\\left(r\\right) + {\\left(2 \\, {\\Omega^{(1)}}^{2} r^{3} - 4 \\, {\\Omega^{(1)}} r^{3} \\omega\\left(r\\right) + 2 \\, r^{3} \\omega\\left(r\\right)^{2} + 3 \\, r^{2} e^{\\nu\\left(r\\right)} \\frac{\\partial}{\\partial r}h_0\\left(r\\right)\\right)} \\frac{\\partial}{\\partial r}\\lambda\\left(r\\right) + {\\left(2 \\, {\\Omega^{(1)}}^{2} r^{3} - 4 \\, {\\Omega^{(1)}} r^{3} \\omega\\left(r\\right) + 2 \\, r^{3} \\omega\\left(r\\right)^{2} - 6 \\, r^{2} e^{\\nu\\left(r\\right)} \\frac{\\partial}{\\partial r}h_0\\left(r\\right) + 3 \\, r^{2} e^{\\nu\\left(r\\right)} \\frac{\\partial}{\\partial r}m_0\\left(r\\right)\\right)} \\frac{\\partial}{\\partial r}\\nu\\left(r\\right)\\right)} e^{\\left(-\\nu\\left(r\\right)\\right)}}{6 \\, r^{2}}$$"
      ],
      "text/plain": [
       "1/6*(3*r^4*diff(omega(r), r)^2 + 6*r*e^nu(r)*diff(h0(r), r) + 6*r*e^nu(r)*diff(m0(r), r) - 12*e^(lamb(r) + nu(r))*m0(r) + (2*Omega1^2*r^3 - 4*Omega1*r^3*omega(r) + 2*r^3*omega(r)^2 + 3*r^2*e^nu(r)*diff(h0(r), r))*diff(lamb(r), r) + (2*Omega1^2*r^3 - 4*Omega1*r^3*omega(r) + 2*r^3*omega(r)^2 - 6*r^2*e^nu(r)*diff(h0(r), r) + 3*r^2*e^nu(r)*diff(m0(r), r))*diff(nu(r), r))*e^(-nu(r))/r^2"
      ]
     },
     "metadata": {},
     "output_type": "display_data"
    },
    {
     "data": {
      "text/html": [
       "<html>\\[\\newcommand{\\Bold}[1]{\\mathbf{#1}}\\frac{24 \\, r^{2} e^{\\nu\\left(r\\right)} \\frac{\\partial}{\\partial r}\\lambda\\left(r\\right) \\frac{\\partial}{\\partial r}m_0\\left(r\\right) - 4 \\, {\\left({\\Omega^{(1)}}^{2} r^{5} - 2 \\, {\\Omega^{(1)}} r^{5} \\omega\\left(r\\right) + r^{5} \\omega\\left(r\\right)^{2}\\right)} \\frac{\\partial}{\\partial r}\\nu\\left(r\\right)^{3} + 48 \\, {\\left(e^{\\lambda\\left(r\\right)} - 1\\right)} e^{\\nu\\left(r\\right)} m_0\\left(r\\right) - 48 \\, {\\left(r e^{\\lambda\\left(r\\right)} - r\\right)} e^{\\nu\\left(r\\right)} \\frac{\\partial}{\\partial r}h_0\\left(r\\right) + 4 \\, {\\left(2 \\, {\\Omega^{(1)}}^{2} r^{4} - 4 \\, {\\Omega^{(1)}} r^{4} \\omega\\left(r\\right) + 2 \\, r^{4} \\omega\\left(r\\right)^{2} - 3 \\, r^{3} e^{\\nu\\left(r\\right)} \\frac{\\partial}{\\partial r}h_0\\left(r\\right) + 6 \\, r^{2} e^{\\nu\\left(r\\right)} m_0\\left(r\\right)\\right)} \\frac{\\partial}{\\partial r}\\lambda\\left(r\\right)^{2} + 4 \\, {\\left(2 \\, {\\Omega^{(1)}}^{2} r^{4} - 4 \\, {\\Omega^{(1)}} r^{4} \\omega\\left(r\\right) + 2 \\, r^{4} \\omega\\left(r\\right)^{2} - 6 \\, r^{3} e^{\\nu\\left(r\\right)} \\frac{\\partial}{\\partial r}h_0\\left(r\\right) + 6 \\, r^{3} e^{\\nu\\left(r\\right)} \\frac{\\partial}{\\partial r}m_0\\left(r\\right) + 3 \\, r^{2} e^{\\nu\\left(r\\right)} m_0\\left(r\\right) - {\\left(2 \\, {\\Omega^{(1)}}^{2} r^{5} - 4 \\, {\\Omega^{(1)}} r^{5} \\omega\\left(r\\right) + 2 \\, r^{5} \\omega\\left(r\\right)^{2} + 3 \\, r^{3} e^{\\nu\\left(r\\right)} m_0\\left(r\\right)\\right)} \\frac{\\partial}{\\partial r}\\lambda\\left(r\\right)\\right)} \\frac{\\partial}{\\partial r}\\nu\\left(r\\right)^{2} - {\\left(2 \\, r^{6} \\frac{\\partial}{\\partial r}\\lambda\\left(r\\right)^{2} + r^{6} \\frac{\\partial}{\\partial r}\\nu\\left(r\\right)^{2} - 2 \\, r^{6} \\frac{\\partial^{2}}{(\\partial r)^{2}}\\lambda\\left(r\\right) - 12 \\, r^{5} \\frac{\\partial}{\\partial r}\\lambda\\left(r\\right) + 4 \\, r^{4} e^{\\lambda\\left(r\\right)} - 4 \\, r^{4} + {\\left(r^{6} \\frac{\\partial}{\\partial r}\\lambda\\left(r\\right) - 12 \\, r^{5}\\right)} \\frac{\\partial}{\\partial r}\\nu\\left(r\\right)\\right)} \\frac{\\partial}{\\partial r}\\omega\\left(r\\right)^{2} + 24 \\, {\\left(r^{2} e^{\\nu\\left(r\\right)} \\frac{\\partial}{\\partial r}h_0\\left(r\\right) - 2 \\, r e^{\\left(\\lambda\\left(r\\right) + \\nu\\left(r\\right)\\right)} m_0\\left(r\\right)\\right)} \\frac{\\partial}{\\partial r}\\lambda\\left(r\\right) + 24 \\, {\\left(r^{3} e^{\\nu\\left(r\\right)} \\frac{\\partial}{\\partial r}h_0\\left(r\\right) - r^{2} e^{\\nu\\left(r\\right)} m_0\\left(r\\right)\\right)} \\frac{\\partial^{2}}{(\\partial r)^{2}}\\lambda\\left(r\\right) - 4 \\, {\\left(6 \\, r^{3} e^{\\nu\\left(r\\right)} m_0\\left(r\\right) \\frac{\\partial^{2}}{(\\partial r)^{2}}\\lambda\\left(r\\right) - 6 \\, r^{2} e^{\\nu\\left(r\\right)} \\frac{\\partial}{\\partial r}h_0\\left(r\\right) + 12 \\, r e^{\\nu\\left(r\\right)} m_0\\left(r\\right) + {\\left({\\Omega^{(1)}}^{2} r^{5} - 2 \\, {\\Omega^{(1)}} r^{5} \\omega\\left(r\\right) + r^{5} \\omega\\left(r\\right)^{2} - 3 \\, r^{3} e^{\\nu\\left(r\\right)} m_0\\left(r\\right)\\right)} \\frac{\\partial}{\\partial r}\\lambda\\left(r\\right)^{2} - {\\left(4 \\, {\\Omega^{(1)}}^{2} r^{4} - 8 \\, {\\Omega^{(1)}} r^{4} \\omega\\left(r\\right) + 4 \\, r^{4} \\omega\\left(r\\right)^{2} - 3 \\, r^{3} e^{\\nu\\left(r\\right)} \\frac{\\partial}{\\partial r}h_0\\left(r\\right) + 3 \\, r^{2} e^{\\nu\\left(r\\right)} m_0\\left(r\\right)\\right)} \\frac{\\partial}{\\partial r}\\lambda\\left(r\\right) - 6 \\, {\\left(r^{3} e^{\\nu\\left(r\\right)} \\frac{\\partial}{\\partial r}\\lambda\\left(r\\right) + r^{2} e^{\\nu\\left(r\\right)}\\right)} \\frac{\\partial}{\\partial r}m_0\\left(r\\right)\\right)} \\frac{\\partial}{\\partial r}\\nu\\left(r\\right)}{24 \\, {\\left(r^{3} e^{\\nu\\left(r\\right)} \\frac{\\partial}{\\partial r}\\lambda\\left(r\\right) + r^{3} e^{\\nu\\left(r\\right)} \\frac{\\partial}{\\partial r}\\nu\\left(r\\right)\\right)}}\\]</html>"
      ],
      "text/latex": [
       "$$\\newcommand{\\Bold}[1]{\\mathbf{#1}}\\frac{24 \\, r^{2} e^{\\nu\\left(r\\right)} \\frac{\\partial}{\\partial r}\\lambda\\left(r\\right) \\frac{\\partial}{\\partial r}m_0\\left(r\\right) - 4 \\, {\\left({\\Omega^{(1)}}^{2} r^{5} - 2 \\, {\\Omega^{(1)}} r^{5} \\omega\\left(r\\right) + r^{5} \\omega\\left(r\\right)^{2}\\right)} \\frac{\\partial}{\\partial r}\\nu\\left(r\\right)^{3} + 48 \\, {\\left(e^{\\lambda\\left(r\\right)} - 1\\right)} e^{\\nu\\left(r\\right)} m_0\\left(r\\right) - 48 \\, {\\left(r e^{\\lambda\\left(r\\right)} - r\\right)} e^{\\nu\\left(r\\right)} \\frac{\\partial}{\\partial r}h_0\\left(r\\right) + 4 \\, {\\left(2 \\, {\\Omega^{(1)}}^{2} r^{4} - 4 \\, {\\Omega^{(1)}} r^{4} \\omega\\left(r\\right) + 2 \\, r^{4} \\omega\\left(r\\right)^{2} - 3 \\, r^{3} e^{\\nu\\left(r\\right)} \\frac{\\partial}{\\partial r}h_0\\left(r\\right) + 6 \\, r^{2} e^{\\nu\\left(r\\right)} m_0\\left(r\\right)\\right)} \\frac{\\partial}{\\partial r}\\lambda\\left(r\\right)^{2} + 4 \\, {\\left(2 \\, {\\Omega^{(1)}}^{2} r^{4} - 4 \\, {\\Omega^{(1)}} r^{4} \\omega\\left(r\\right) + 2 \\, r^{4} \\omega\\left(r\\right)^{2} - 6 \\, r^{3} e^{\\nu\\left(r\\right)} \\frac{\\partial}{\\partial r}h_0\\left(r\\right) + 6 \\, r^{3} e^{\\nu\\left(r\\right)} \\frac{\\partial}{\\partial r}m_0\\left(r\\right) + 3 \\, r^{2} e^{\\nu\\left(r\\right)} m_0\\left(r\\right) - {\\left(2 \\, {\\Omega^{(1)}}^{2} r^{5} - 4 \\, {\\Omega^{(1)}} r^{5} \\omega\\left(r\\right) + 2 \\, r^{5} \\omega\\left(r\\right)^{2} + 3 \\, r^{3} e^{\\nu\\left(r\\right)} m_0\\left(r\\right)\\right)} \\frac{\\partial}{\\partial r}\\lambda\\left(r\\right)\\right)} \\frac{\\partial}{\\partial r}\\nu\\left(r\\right)^{2} - {\\left(2 \\, r^{6} \\frac{\\partial}{\\partial r}\\lambda\\left(r\\right)^{2} + r^{6} \\frac{\\partial}{\\partial r}\\nu\\left(r\\right)^{2} - 2 \\, r^{6} \\frac{\\partial^{2}}{(\\partial r)^{2}}\\lambda\\left(r\\right) - 12 \\, r^{5} \\frac{\\partial}{\\partial r}\\lambda\\left(r\\right) + 4 \\, r^{4} e^{\\lambda\\left(r\\right)} - 4 \\, r^{4} + {\\left(r^{6} \\frac{\\partial}{\\partial r}\\lambda\\left(r\\right) - 12 \\, r^{5}\\right)} \\frac{\\partial}{\\partial r}\\nu\\left(r\\right)\\right)} \\frac{\\partial}{\\partial r}\\omega\\left(r\\right)^{2} + 24 \\, {\\left(r^{2} e^{\\nu\\left(r\\right)} \\frac{\\partial}{\\partial r}h_0\\left(r\\right) - 2 \\, r e^{\\left(\\lambda\\left(r\\right) + \\nu\\left(r\\right)\\right)} m_0\\left(r\\right)\\right)} \\frac{\\partial}{\\partial r}\\lambda\\left(r\\right) + 24 \\, {\\left(r^{3} e^{\\nu\\left(r\\right)} \\frac{\\partial}{\\partial r}h_0\\left(r\\right) - r^{2} e^{\\nu\\left(r\\right)} m_0\\left(r\\right)\\right)} \\frac{\\partial^{2}}{(\\partial r)^{2}}\\lambda\\left(r\\right) - 4 \\, {\\left(6 \\, r^{3} e^{\\nu\\left(r\\right)} m_0\\left(r\\right) \\frac{\\partial^{2}}{(\\partial r)^{2}}\\lambda\\left(r\\right) - 6 \\, r^{2} e^{\\nu\\left(r\\right)} \\frac{\\partial}{\\partial r}h_0\\left(r\\right) + 12 \\, r e^{\\nu\\left(r\\right)} m_0\\left(r\\right) + {\\left({\\Omega^{(1)}}^{2} r^{5} - 2 \\, {\\Omega^{(1)}} r^{5} \\omega\\left(r\\right) + r^{5} \\omega\\left(r\\right)^{2} - 3 \\, r^{3} e^{\\nu\\left(r\\right)} m_0\\left(r\\right)\\right)} \\frac{\\partial}{\\partial r}\\lambda\\left(r\\right)^{2} - {\\left(4 \\, {\\Omega^{(1)}}^{2} r^{4} - 8 \\, {\\Omega^{(1)}} r^{4} \\omega\\left(r\\right) + 4 \\, r^{4} \\omega\\left(r\\right)^{2} - 3 \\, r^{3} e^{\\nu\\left(r\\right)} \\frac{\\partial}{\\partial r}h_0\\left(r\\right) + 3 \\, r^{2} e^{\\nu\\left(r\\right)} m_0\\left(r\\right)\\right)} \\frac{\\partial}{\\partial r}\\lambda\\left(r\\right) - 6 \\, {\\left(r^{3} e^{\\nu\\left(r\\right)} \\frac{\\partial}{\\partial r}\\lambda\\left(r\\right) + r^{2} e^{\\nu\\left(r\\right)}\\right)} \\frac{\\partial}{\\partial r}m_0\\left(r\\right)\\right)} \\frac{\\partial}{\\partial r}\\nu\\left(r\\right)}{24 \\, {\\left(r^{3} e^{\\nu\\left(r\\right)} \\frac{\\partial}{\\partial r}\\lambda\\left(r\\right) + r^{3} e^{\\nu\\left(r\\right)} \\frac{\\partial}{\\partial r}\\nu\\left(r\\right)\\right)}}$$"
      ],
      "text/plain": [
       "1/24*(24*r^2*e^nu(r)*diff(lamb(r), r)*diff(m0(r), r) - 4*(Omega1^2*r^5 - 2*Omega1*r^5*omega(r) + r^5*omega(r)^2)*diff(nu(r), r)^3 + 48*(e^lamb(r) - 1)*e^nu(r)*m0(r) - 48*(r*e^lamb(r) - r)*e^nu(r)*diff(h0(r), r) + 4*(2*Omega1^2*r^4 - 4*Omega1*r^4*omega(r) + 2*r^4*omega(r)^2 - 3*r^3*e^nu(r)*diff(h0(r), r) + 6*r^2*e^nu(r)*m0(r))*diff(lamb(r), r)^2 + 4*(2*Omega1^2*r^4 - 4*Omega1*r^4*omega(r) + 2*r^4*omega(r)^2 - 6*r^3*e^nu(r)*diff(h0(r), r) + 6*r^3*e^nu(r)*diff(m0(r), r) + 3*r^2*e^nu(r)*m0(r) - (2*Omega1^2*r^5 - 4*Omega1*r^5*omega(r) + 2*r^5*omega(r)^2 + 3*r^3*e^nu(r)*m0(r))*diff(lamb(r), r))*diff(nu(r), r)^2 - (2*r^6*diff(lamb(r), r)^2 + r^6*diff(nu(r), r)^2 - 2*r^6*diff(lamb(r), r, r) - 12*r^5*diff(lamb(r), r) + 4*r^4*e^lamb(r) - 4*r^4 + (r^6*diff(lamb(r), r) - 12*r^5)*diff(nu(r), r))*diff(omega(r), r)^2 + 24*(r^2*e^nu(r)*diff(h0(r), r) - 2*r*e^(lamb(r) + nu(r))*m0(r))*diff(lamb(r), r) + 24*(r^3*e^nu(r)*diff(h0(r), r) - r^2*e^nu(r)*m0(r))*diff(lamb(r), r, r) - 4*(6*r^3*e^nu(r)*m0(r)*diff(lamb(r), r, r) - 6*r^2*e^nu(r)*diff(h0(r), r) + 12*r*e^nu(r)*m0(r) + (Omega1^2*r^5 - 2*Omega1*r^5*omega(r) + r^5*omega(r)^2 - 3*r^3*e^nu(r)*m0(r))*diff(lamb(r), r)^2 - (4*Omega1^2*r^4 - 8*Omega1*r^4*omega(r) + 4*r^4*omega(r)^2 - 3*r^3*e^nu(r)*diff(h0(r), r) + 3*r^2*e^nu(r)*m0(r))*diff(lamb(r), r) - 6*(r^3*e^nu(r)*diff(lamb(r), r) + r^2*e^nu(r))*diff(m0(r), r))*diff(nu(r), r))/(r^3*e^nu(r)*diff(lamb(r), r) + r^3*e^nu(r)*diff(nu(r), r))"
      ]
     },
     "metadata": {},
     "output_type": "display_data"
    }
   ],
   "source": [
    "gamma = var('gamma')\n",
    "Pt0 = P20/(2*(E+P))\n",
    "\n",
    "eq_64 = Pt0 + h0 - 1/3*r^2*e^(-nu)*(omega-Omega1)^2 - gamma == 0\n",
    "for kk in range(0,len(sus_func)):\n",
    "    eq_64 = eq_64.subs(sus_func[kk])\n",
    "\n",
    "deq_64 = diff(eq_64,r).simplify_full()\n",
    "ddh0_64 = solve(deq_64, diff(h0,r,r))[0].rhs()\n",
    "ddh0_64 = ddh0_64.simplify_full()\n",
    "\n",
    "for kk in range(0,len(sus_func)):\n",
    "    ddh0_64 = ddh0_64.subs(sus_func[kk])\n",
    "    ddh0 = ddh0.subs(sus_func[kk])\n",
    "    \n",
    "ddh0_64 = ddh0_64.simplify_full()\n",
    "ddh0 = ddh0.simplify_full()\n",
    "\n",
    "ddh0_check = ddh0 - ddh0_64\n",
    "ddh0_check = ddh0_check.simplify_full()\n",
    "\n",
    "show(ddh0)\n",
    "show(ddh0_64)"
   ]
  },
  {
   "cell_type": "code",
   "execution_count": 35,
   "metadata": {},
   "outputs": [],
   "source": [
    "#Baro = E2*diff(P,r) - P2*diff(E,r) == 0\n",
    "#for kk in range(0,len(sus_func)):\n",
    "#    Baro = Baro.subs(sus_func[kk])\n",
    "#    \n",
    "#Baro"
   ]
  },
  {
   "cell_type": "markdown",
   "metadata": {},
   "source": [
    "# l=2"
   ]
  },
  {
   "cell_type": "code",
   "execution_count": 36,
   "metadata": {},
   "outputs": [
    {
     "data": {
      "text/html": [
       "<html>\\[\\newcommand{\\Bold}[1]{\\mathbf{#1}}-\\frac{{\\left(12 \\, r^{2} e^{\\left(\\lambda\\left(r\\right) + \\nu\\left(r\\right)\\right)} \\frac{\\partial^{2}}{(\\partial r)^{2}}k_2\\left(r\\right) + 12 \\, {\\left(3 \\, e^{\\left(2 \\, \\lambda\\left(r\\right)\\right)} + e^{\\lambda\\left(r\\right)}\\right)} e^{\\nu\\left(r\\right)} h_2\\left(r\\right) + 36 \\, r e^{\\left(\\lambda\\left(r\\right) + \\nu\\left(r\\right)\\right)} \\frac{\\partial}{\\partial r}k_2\\left(r\\right) + 4 \\, {\\left({\\Omega^{(1)}}^{2} r^{4} - 2 \\, {\\Omega^{(1)}} r^{4} \\omega\\left(r\\right) + r^{4} \\omega\\left(r\\right)^{2}\\right)} \\frac{\\partial}{\\partial r}\\lambda\\left(r\\right)^{2} - 12 \\, r e^{\\left(\\lambda\\left(r\\right) + \\nu\\left(r\\right)\\right)} \\frac{\\partial}{\\partial r}m_2\\left(r\\right) + {\\left(2 \\, r^{5} \\frac{\\partial}{\\partial r}\\lambda\\left(r\\right) - 7 \\, r^{4} e^{\\lambda\\left(r\\right)} - 2 \\, r^{4}\\right)} \\frac{\\partial}{\\partial r}\\omega\\left(r\\right)^{2} - 24 \\, e^{\\left(2 \\, \\lambda\\left(r\\right) + \\nu\\left(r\\right)\\right)} k_2\\left(r\\right) - 2 \\, {\\left(8 \\, {\\Omega^{(1)}}^{2} r^{3} e^{\\lambda\\left(r\\right)} + 2 \\, {\\Omega^{(1)}}^{2} r^{3} + 3 \\, r^{2} e^{\\left(\\lambda\\left(r\\right) + \\nu\\left(r\\right)\\right)} \\frac{\\partial}{\\partial r}k_2\\left(r\\right) + 6 \\, r e^{\\left(\\lambda\\left(r\\right) + \\nu\\left(r\\right)\\right)} h_2\\left(r\\right) + 2 \\, {\\left(4 \\, r^{3} e^{\\lambda\\left(r\\right)} + r^{3}\\right)} \\omega\\left(r\\right)^{2} - 4 \\, {\\left(4 \\, {\\Omega^{(1)}} r^{3} e^{\\lambda\\left(r\\right)} + {\\Omega^{(1)}} r^{3}\\right)} \\omega\\left(r\\right)\\right)} \\frac{\\partial}{\\partial r}\\lambda\\left(r\\right) - 4 \\, {\\left(4 \\, {\\Omega^{(1)}}^{2} r^{3} e^{\\lambda\\left(r\\right)} + {\\Omega^{(1)}}^{2} r^{3} + {\\left(4 \\, r^{3} e^{\\lambda\\left(r\\right)} + r^{3}\\right)} \\omega\\left(r\\right)^{2} - 2 \\, {\\left(4 \\, {\\Omega^{(1)}} r^{3} e^{\\lambda\\left(r\\right)} + {\\Omega^{(1)}} r^{3}\\right)} \\omega\\left(r\\right) - {\\left({\\Omega^{(1)}}^{2} r^{4} - 2 \\, {\\Omega^{(1)}} r^{4} \\omega\\left(r\\right) + r^{4} \\omega\\left(r\\right)^{2}\\right)} \\frac{\\partial}{\\partial r}\\lambda\\left(r\\right)\\right)} \\frac{\\partial}{\\partial r}\\nu\\left(r\\right)\\right)} e^{\\left(-2 \\, \\lambda\\left(r\\right) - \\nu\\left(r\\right)\\right)}}{24 \\, \\pi r^{2}}\\]</html>"
      ],
      "text/latex": [
       "$$\\newcommand{\\Bold}[1]{\\mathbf{#1}}-\\frac{{\\left(12 \\, r^{2} e^{\\left(\\lambda\\left(r\\right) + \\nu\\left(r\\right)\\right)} \\frac{\\partial^{2}}{(\\partial r)^{2}}k_2\\left(r\\right) + 12 \\, {\\left(3 \\, e^{\\left(2 \\, \\lambda\\left(r\\right)\\right)} + e^{\\lambda\\left(r\\right)}\\right)} e^{\\nu\\left(r\\right)} h_2\\left(r\\right) + 36 \\, r e^{\\left(\\lambda\\left(r\\right) + \\nu\\left(r\\right)\\right)} \\frac{\\partial}{\\partial r}k_2\\left(r\\right) + 4 \\, {\\left({\\Omega^{(1)}}^{2} r^{4} - 2 \\, {\\Omega^{(1)}} r^{4} \\omega\\left(r\\right) + r^{4} \\omega\\left(r\\right)^{2}\\right)} \\frac{\\partial}{\\partial r}\\lambda\\left(r\\right)^{2} - 12 \\, r e^{\\left(\\lambda\\left(r\\right) + \\nu\\left(r\\right)\\right)} \\frac{\\partial}{\\partial r}m_2\\left(r\\right) + {\\left(2 \\, r^{5} \\frac{\\partial}{\\partial r}\\lambda\\left(r\\right) - 7 \\, r^{4} e^{\\lambda\\left(r\\right)} - 2 \\, r^{4}\\right)} \\frac{\\partial}{\\partial r}\\omega\\left(r\\right)^{2} - 24 \\, e^{\\left(2 \\, \\lambda\\left(r\\right) + \\nu\\left(r\\right)\\right)} k_2\\left(r\\right) - 2 \\, {\\left(8 \\, {\\Omega^{(1)}}^{2} r^{3} e^{\\lambda\\left(r\\right)} + 2 \\, {\\Omega^{(1)}}^{2} r^{3} + 3 \\, r^{2} e^{\\left(\\lambda\\left(r\\right) + \\nu\\left(r\\right)\\right)} \\frac{\\partial}{\\partial r}k_2\\left(r\\right) + 6 \\, r e^{\\left(\\lambda\\left(r\\right) + \\nu\\left(r\\right)\\right)} h_2\\left(r\\right) + 2 \\, {\\left(4 \\, r^{3} e^{\\lambda\\left(r\\right)} + r^{3}\\right)} \\omega\\left(r\\right)^{2} - 4 \\, {\\left(4 \\, {\\Omega^{(1)}} r^{3} e^{\\lambda\\left(r\\right)} + {\\Omega^{(1)}} r^{3}\\right)} \\omega\\left(r\\right)\\right)} \\frac{\\partial}{\\partial r}\\lambda\\left(r\\right) - 4 \\, {\\left(4 \\, {\\Omega^{(1)}}^{2} r^{3} e^{\\lambda\\left(r\\right)} + {\\Omega^{(1)}}^{2} r^{3} + {\\left(4 \\, r^{3} e^{\\lambda\\left(r\\right)} + r^{3}\\right)} \\omega\\left(r\\right)^{2} - 2 \\, {\\left(4 \\, {\\Omega^{(1)}} r^{3} e^{\\lambda\\left(r\\right)} + {\\Omega^{(1)}} r^{3}\\right)} \\omega\\left(r\\right) - {\\left({\\Omega^{(1)}}^{2} r^{4} - 2 \\, {\\Omega^{(1)}} r^{4} \\omega\\left(r\\right) + r^{4} \\omega\\left(r\\right)^{2}\\right)} \\frac{\\partial}{\\partial r}\\lambda\\left(r\\right)\\right)} \\frac{\\partial}{\\partial r}\\nu\\left(r\\right)\\right)} e^{\\left(-2 \\, \\lambda\\left(r\\right) - \\nu\\left(r\\right)\\right)}}{24 \\, \\pi r^{2}}$$"
      ],
      "text/plain": [
       "-1/24*(12*r^2*e^(lamb(r) + nu(r))*diff(k2(r), r, r) + 12*(3*e^(2*lamb(r)) + e^lamb(r))*e^nu(r)*h2(r) + 36*r*e^(lamb(r) + nu(r))*diff(k2(r), r) + 4*(Omega1^2*r^4 - 2*Omega1*r^4*omega(r) + r^4*omega(r)^2)*diff(lamb(r), r)^2 - 12*r*e^(lamb(r) + nu(r))*diff(m2(r), r) + (2*r^5*diff(lamb(r), r) - 7*r^4*e^lamb(r) - 2*r^4)*diff(omega(r), r)^2 - 24*e^(2*lamb(r) + nu(r))*k2(r) - 2*(8*Omega1^2*r^3*e^lamb(r) + 2*Omega1^2*r^3 + 3*r^2*e^(lamb(r) + nu(r))*diff(k2(r), r) + 6*r*e^(lamb(r) + nu(r))*h2(r) + 2*(4*r^3*e^lamb(r) + r^3)*omega(r)^2 - 4*(4*Omega1*r^3*e^lamb(r) + Omega1*r^3)*omega(r))*diff(lamb(r), r) - 4*(4*Omega1^2*r^3*e^lamb(r) + Omega1^2*r^3 + (4*r^3*e^lamb(r) + r^3)*omega(r)^2 - 2*(4*Omega1*r^3*e^lamb(r) + Omega1*r^3)*omega(r) - (Omega1^2*r^4 - 2*Omega1*r^4*omega(r) + r^4*omega(r)^2)*diff(lamb(r), r))*diff(nu(r), r))*e^(-2*lamb(r) - nu(r))/(pi*r^2)"
      ]
     },
     "metadata": {},
     "output_type": "display_data"
    }
   ],
   "source": [
    "# SACAR DIRECTAMENTE E22\n",
    "\n",
    "ddEq00 = ddG[0,0] - kappa*ddT[0,0] == 0\n",
    "ddEq00 = ddEq00.simplify_full()\n",
    "\n",
    "for kk in range(0,len(sus_legendre)):\n",
    "    ddEq00 = ddEq00.subs(sus_legendre[kk])\n",
    "\n",
    "ddEq00 = ddEq00.subs(LP1==0) - ddEq00.subs(LP1==0).subs(LP2==0)\n",
    "ddEq00 = ddEq00/LP2\n",
    "ddEq00 = ddEq00.simplify_full()\n",
    "\n",
    "E22value = solve(ddEq00,E22)[0].rhs()\n",
    "for kk in range(0,len(sus_func)):\n",
    "    E22value = E22value.subs(sus_func[kk])\n",
    "\n",
    "E22value = E22value.simplify_full()\n",
    "show(E22value)\n",
    "# METERLO EN DDG, DDT Y EN SUS_FUNC\n",
    "\n",
    "#E22value_paper = 4*diff(E,r)/3/diff(nu,r)*(3*h2+e^(-nu)*r^2*(omega-Omega1)^2)\n",
    "#for kk in range(0,len(sus_func)):\n",
    "#    E22value_paper = E22value_paper.subs(sus_func[kk])\n",
    "#\n",
    "#E22value_check = E22value - E22value_paper\n",
    "#E22value_check = E22value_check.simplify_full()\n",
    "#\n",
    "#show(E22value_paper)"
   ]
  },
  {
   "cell_type": "code",
   "execution_count": 37,
   "metadata": {},
   "outputs": [
    {
     "data": {
      "text/html": [
       "<html>\\[\\newcommand{\\Bold}[1]{\\mathbf{#1}}-\\frac{{\\left(12 \\, {\\left(3 \\, e^{\\left(2 \\, \\lambda\\left(r\\right)\\right)} - e^{\\lambda\\left(r\\right)}\\right)} e^{\\nu\\left(r\\right)} h_2\\left(r\\right) - 12 \\, r e^{\\left(\\lambda\\left(r\\right) + \\nu\\left(r\\right)\\right)} \\frac{\\partial}{\\partial r}h_2\\left(r\\right) - 12 \\, r e^{\\left(\\lambda\\left(r\\right) + \\nu\\left(r\\right)\\right)} \\frac{\\partial}{\\partial r}k_2\\left(r\\right) + 4 \\, {\\left({\\Omega^{(1)}}^{2} r^{4} - 2 \\, {\\Omega^{(1)}} r^{4} \\omega\\left(r\\right) + r^{4} \\omega\\left(r\\right)^{2}\\right)} \\frac{\\partial}{\\partial r}\\nu\\left(r\\right)^{2} + {\\left(2 \\, r^{5} \\frac{\\partial}{\\partial r}\\nu\\left(r\\right) + r^{4} e^{\\lambda\\left(r\\right)} + 2 \\, r^{4}\\right)} \\frac{\\partial}{\\partial r}\\omega\\left(r\\right)^{2} + 24 \\, e^{\\left(2 \\, \\lambda\\left(r\\right) + \\nu\\left(r\\right)\\right)} k_2\\left(r\\right) + 4 \\, {\\left({\\Omega^{(1)}}^{2} r^{3} - 2 \\, {\\Omega^{(1)}} r^{3} \\omega\\left(r\\right) + r^{3} \\omega\\left(r\\right)^{2}\\right)} \\frac{\\partial}{\\partial r}\\lambda\\left(r\\right) + 2 \\, {\\left(2 \\, {\\Omega^{(1)}}^{2} r^{3} - 4 \\, {\\Omega^{(1)}} r^{3} \\omega\\left(r\\right) + 2 \\, r^{3} \\omega\\left(r\\right)^{2} - 3 \\, r^{2} e^{\\left(\\lambda\\left(r\\right) + \\nu\\left(r\\right)\\right)} \\frac{\\partial}{\\partial r}k_2\\left(r\\right) - 6 \\, r e^{\\left(\\lambda\\left(r\\right) + \\nu\\left(r\\right)\\right)} h_2\\left(r\\right) + 2 \\, {\\left({\\Omega^{(1)}}^{2} r^{4} - 2 \\, {\\Omega^{(1)}} r^{4} \\omega\\left(r\\right) + r^{4} \\omega\\left(r\\right)^{2}\\right)} \\frac{\\partial}{\\partial r}\\lambda\\left(r\\right)\\right)} \\frac{\\partial}{\\partial r}\\nu\\left(r\\right)\\right)} e^{\\left(-2 \\, \\lambda\\left(r\\right) - \\nu\\left(r\\right)\\right)}}{24 \\, \\pi r^{2}}\\]</html>"
      ],
      "text/latex": [
       "$$\\newcommand{\\Bold}[1]{\\mathbf{#1}}-\\frac{{\\left(12 \\, {\\left(3 \\, e^{\\left(2 \\, \\lambda\\left(r\\right)\\right)} - e^{\\lambda\\left(r\\right)}\\right)} e^{\\nu\\left(r\\right)} h_2\\left(r\\right) - 12 \\, r e^{\\left(\\lambda\\left(r\\right) + \\nu\\left(r\\right)\\right)} \\frac{\\partial}{\\partial r}h_2\\left(r\\right) - 12 \\, r e^{\\left(\\lambda\\left(r\\right) + \\nu\\left(r\\right)\\right)} \\frac{\\partial}{\\partial r}k_2\\left(r\\right) + 4 \\, {\\left({\\Omega^{(1)}}^{2} r^{4} - 2 \\, {\\Omega^{(1)}} r^{4} \\omega\\left(r\\right) + r^{4} \\omega\\left(r\\right)^{2}\\right)} \\frac{\\partial}{\\partial r}\\nu\\left(r\\right)^{2} + {\\left(2 \\, r^{5} \\frac{\\partial}{\\partial r}\\nu\\left(r\\right) + r^{4} e^{\\lambda\\left(r\\right)} + 2 \\, r^{4}\\right)} \\frac{\\partial}{\\partial r}\\omega\\left(r\\right)^{2} + 24 \\, e^{\\left(2 \\, \\lambda\\left(r\\right) + \\nu\\left(r\\right)\\right)} k_2\\left(r\\right) + 4 \\, {\\left({\\Omega^{(1)}}^{2} r^{3} - 2 \\, {\\Omega^{(1)}} r^{3} \\omega\\left(r\\right) + r^{3} \\omega\\left(r\\right)^{2}\\right)} \\frac{\\partial}{\\partial r}\\lambda\\left(r\\right) + 2 \\, {\\left(2 \\, {\\Omega^{(1)}}^{2} r^{3} - 4 \\, {\\Omega^{(1)}} r^{3} \\omega\\left(r\\right) + 2 \\, r^{3} \\omega\\left(r\\right)^{2} - 3 \\, r^{2} e^{\\left(\\lambda\\left(r\\right) + \\nu\\left(r\\right)\\right)} \\frac{\\partial}{\\partial r}k_2\\left(r\\right) - 6 \\, r e^{\\left(\\lambda\\left(r\\right) + \\nu\\left(r\\right)\\right)} h_2\\left(r\\right) + 2 \\, {\\left({\\Omega^{(1)}}^{2} r^{4} - 2 \\, {\\Omega^{(1)}} r^{4} \\omega\\left(r\\right) + r^{4} \\omega\\left(r\\right)^{2}\\right)} \\frac{\\partial}{\\partial r}\\lambda\\left(r\\right)\\right)} \\frac{\\partial}{\\partial r}\\nu\\left(r\\right)\\right)} e^{\\left(-2 \\, \\lambda\\left(r\\right) - \\nu\\left(r\\right)\\right)}}{24 \\, \\pi r^{2}}$$"
      ],
      "text/plain": [
       "-1/24*(12*(3*e^(2*lamb(r)) - e^lamb(r))*e^nu(r)*h2(r) - 12*r*e^(lamb(r) + nu(r))*diff(h2(r), r) - 12*r*e^(lamb(r) + nu(r))*diff(k2(r), r) + 4*(Omega1^2*r^4 - 2*Omega1*r^4*omega(r) + r^4*omega(r)^2)*diff(nu(r), r)^2 + (2*r^5*diff(nu(r), r) + r^4*e^lamb(r) + 2*r^4)*diff(omega(r), r)^2 + 24*e^(2*lamb(r) + nu(r))*k2(r) + 4*(Omega1^2*r^3 - 2*Omega1*r^3*omega(r) + r^3*omega(r)^2)*diff(lamb(r), r) + 2*(2*Omega1^2*r^3 - 4*Omega1*r^3*omega(r) + 2*r^3*omega(r)^2 - 3*r^2*e^(lamb(r) + nu(r))*diff(k2(r), r) - 6*r*e^(lamb(r) + nu(r))*h2(r) + 2*(Omega1^2*r^4 - 2*Omega1*r^4*omega(r) + r^4*omega(r)^2)*diff(lamb(r), r))*diff(nu(r), r))*e^(-2*lamb(r) - nu(r))/(pi*r^2)"
      ]
     },
     "metadata": {},
     "output_type": "display_data"
    }
   ],
   "source": [
    "ddEq11 = ddG[1,1] - kappa*ddT[1,1] == 0\n",
    "ddEq11 = ddEq11.simplify_full()\n",
    "\n",
    "for kk in range(0,len(sus_legendre)):\n",
    "    ddEq11 = ddEq11.subs(sus_legendre[kk])\n",
    "\n",
    "ddEq11 = ddEq11.subs(LP1==0) - ddEq11.subs(LP1==0).subs(LP2==0)\n",
    "ddEq11 = ddEq11/LP2\n",
    "ddEq11 = ddEq11.simplify_full()\n",
    "\n",
    "P22value = solve(ddEq11,P22)[0].rhs()\n",
    "for kk in range(0,len(sus_func)):\n",
    "    P22value = P22value.subs(sus_func[kk])\n",
    "    \n",
    "P22value = P22value.simplify_full()\n",
    "show(P22value)\n",
    "# METERLO EN DDG, DDT Y EN SUS_FUNC\n",
    "\n",
    "\n",
    "#M = r/2*(1-e^(-lamb))\n",
    "#\n",
    "#dh2_paper = (-diff(nu,r)+r/((r-2*M)*diff(nu,r))*(8*pi*(E+P)-4*M/r^3))*h2\\\n",
    "#            -4*(h2+k2)/(r*diff(nu,r)*(r-2*M))\\\n",
    "#            +1/6*(1/2*r*diff(nu,r)-1/((r-2*M)*diff(nu,r)))*r^3*jj^2*diff(omega,r)^2\\\n",
    "#            -1/3*(1/2*r*diff(nu,r)+1/((r-2*M)*diff(nu,r)))*r^2*diff(jj^2,r)*(omega-Omega1)^2\n",
    "#\n",
    "#for kk in range(0,len(sus_func)):\n",
    "#    dh2 = dh2.subs(sus_func[kk])\n",
    "#    dh2_paper = dh2_paper.subs(sus_func[kk])\n",
    "#\n",
    "#dh2_check = dh2 - dh2_paper\n",
    "#dh2_check = dh2_check.simplify_full()\n",
    "#\n",
    "#show(dh2_check)"
   ]
  },
  {
   "cell_type": "code",
   "execution_count": 38,
   "metadata": {},
   "outputs": [
    {
     "data": {
      "text/html": [
       "<html>\\[\\newcommand{\\Bold}[1]{\\mathbf{#1}}0\\]</html>"
      ],
      "text/latex": [
       "$$\\newcommand{\\Bold}[1]{\\mathbf{#1}}0$$"
      ],
      "text/plain": [
       "0"
      ]
     },
     "metadata": {},
     "output_type": "display_data"
    }
   ],
   "source": [
    "ddEq12 = ddG[1,2]-kappa*ddT[1,2] == 0\n",
    "ddEq12 = ddEq12.simplify_full()\n",
    "h2value = solve(ddEq12, h2)[0].rhs()\n",
    "h2value = h2value.simplify_full()\n",
    "\n",
    "h2value_paper = (-diff(h2,r)-diff(k2,r)+(1/r+diff(nu,r)/2)*(-2/3*r^3*jj*diff(jj,r)*(omega-Omega1)^2+1/6*jj^2*r^4*diff(omega,r)^2))/diff(nu,r)\n",
    "\n",
    "for kk in range(0,len(sus_func)):\n",
    "    h2value = h2value.subs(sus_func[kk])\n",
    "    h2value_paper = h2value_paper.subs(sus_func[kk])\n",
    "    \n",
    "h2value = h2value.simplify_full()\n",
    "h2value_paper = h2value_paper.simplify_full()\n",
    "h2value_check = h2value - h2value_paper\n",
    "h2value_check = h2value_check.simplify_full()\n",
    "show(h2value_check)"
   ]
  },
  {
   "cell_type": "code",
   "execution_count": 39,
   "metadata": {},
   "outputs": [
    {
     "data": {
      "text/html": [
       "<html>\\[\\newcommand{\\Bold}[1]{\\mathbf{#1}}-\\frac{1}{6} \\, {\\left(48 \\, \\pi r^{2} P_{2}^{(2)}\\left(r\\right) e^{\\left(2 \\, \\lambda\\left(r\\right) + \\nu\\left(r\\right)\\right)} - 12 \\, r^{2} e^{\\left(\\lambda\\left(r\\right) + \\nu\\left(r\\right)\\right)} \\frac{\\partial^{2}}{(\\partial r)^{2}}h_2\\left(r\\right) - 12 \\, r^{2} e^{\\left(\\lambda\\left(r\\right) + \\nu\\left(r\\right)\\right)} \\frac{\\partial^{2}}{(\\partial r)^{2}}k_2\\left(r\\right) + 24 \\, {\\left(e^{\\left(2 \\, \\lambda\\left(r\\right)\\right)} - e^{\\lambda\\left(r\\right)}\\right)} e^{\\nu\\left(r\\right)} h_2\\left(r\\right) - 3 \\, {\\left(24 \\, \\pi r^{2} P_{2}^{(2)}\\left(r\\right) e^{\\left(2 \\, \\lambda\\left(r\\right) + \\nu\\left(r\\right)\\right)} - 6 \\, r^{2} e^{\\left(\\lambda\\left(r\\right) + \\nu\\left(r\\right)\\right)} \\frac{\\partial^{2}}{(\\partial r)^{2}}h_2\\left(r\\right) - 6 \\, r^{2} e^{\\left(\\lambda\\left(r\\right) + \\nu\\left(r\\right)\\right)} \\frac{\\partial^{2}}{(\\partial r)^{2}}k_2\\left(r\\right) + 12 \\, {\\left(e^{\\left(2 \\, \\lambda\\left(r\\right)\\right)} - e^{\\lambda\\left(r\\right)}\\right)} e^{\\nu\\left(r\\right)} h_2\\left(r\\right) - 6 \\, r e^{\\left(\\lambda\\left(r\\right) + \\nu\\left(r\\right)\\right)} \\frac{\\partial}{\\partial r}h_2\\left(r\\right) - 12 \\, r e^{\\left(\\lambda\\left(r\\right) + \\nu\\left(r\\right)\\right)} \\frac{\\partial}{\\partial r}k_2\\left(r\\right) + 6 \\, r e^{\\left(\\lambda\\left(r\\right) + \\nu\\left(r\\right)\\right)} \\frac{\\partial}{\\partial r}m_2\\left(r\\right) + 4 \\, {\\left({\\Omega^{(1)}}^{2} r^{4} - 2 \\, {\\Omega^{(1)}} r^{4} \\omega\\left(r\\right) + r^{4} \\omega\\left(r\\right)^{2}\\right)} \\frac{\\partial}{\\partial r}\\nu\\left(r\\right)^{2} + {\\left(2 \\, r^{5} \\frac{\\partial}{\\partial r}\\nu\\left(r\\right) - r^{4} e^{\\lambda\\left(r\\right)} + 2 \\, r^{4}\\right)} \\frac{\\partial}{\\partial r}\\omega\\left(r\\right)^{2} + {\\left(4 \\, {\\Omega^{(1)}}^{2} r^{3} - 8 \\, {\\Omega^{(1)}} r^{3} \\omega\\left(r\\right) + 4 \\, r^{3} \\omega\\left(r\\right)^{2} + 3 \\, r^{2} e^{\\left(\\lambda\\left(r\\right) + \\nu\\left(r\\right)\\right)} \\frac{\\partial}{\\partial r}h_2\\left(r\\right) + 3 \\, r^{2} e^{\\left(\\lambda\\left(r\\right) + \\nu\\left(r\\right)\\right)} \\frac{\\partial}{\\partial r}k_2\\left(r\\right)\\right)} \\frac{\\partial}{\\partial r}\\lambda\\left(r\\right) + {\\left(4 \\, {\\Omega^{(1)}}^{2} r^{3} - 8 \\, {\\Omega^{(1)}} r^{3} \\omega\\left(r\\right) + 4 \\, r^{3} \\omega\\left(r\\right)^{2} - 6 \\, r^{2} e^{\\left(\\lambda\\left(r\\right) + \\nu\\left(r\\right)\\right)} \\frac{\\partial}{\\partial r}h_2\\left(r\\right) - 3 \\, r^{2} e^{\\left(\\lambda\\left(r\\right) + \\nu\\left(r\\right)\\right)} \\frac{\\partial}{\\partial r}k_2\\left(r\\right) + 3 \\, r^{2} e^{\\left(\\lambda\\left(r\\right) + \\nu\\left(r\\right)\\right)} \\frac{\\partial}{\\partial r}m_2\\left(r\\right) - 12 \\, r e^{\\left(\\lambda\\left(r\\right) + \\nu\\left(r\\right)\\right)} h_2\\left(r\\right) + 4 \\, {\\left({\\Omega^{(1)}}^{2} r^{4} - 2 \\, {\\Omega^{(1)}} r^{4} \\omega\\left(r\\right) + r^{4} \\omega\\left(r\\right)^{2}\\right)} \\frac{\\partial}{\\partial r}\\lambda\\left(r\\right)\\right)} \\frac{\\partial}{\\partial r}\\nu\\left(r\\right)\\right)} \\sin\\left({\\theta}\\right)^{2} - 12 \\, r e^{\\left(\\lambda\\left(r\\right) + \\nu\\left(r\\right)\\right)} \\frac{\\partial}{\\partial r}h_2\\left(r\\right) - 24 \\, r e^{\\left(\\lambda\\left(r\\right) + \\nu\\left(r\\right)\\right)} \\frac{\\partial}{\\partial r}k_2\\left(r\\right) + 12 \\, r e^{\\left(\\lambda\\left(r\\right) + \\nu\\left(r\\right)\\right)} \\frac{\\partial}{\\partial r}m_2\\left(r\\right) + 8 \\, {\\left({\\Omega^{(1)}}^{2} r^{4} - 2 \\, {\\Omega^{(1)}} r^{4} \\omega\\left(r\\right) + r^{4} \\omega\\left(r\\right)^{2}\\right)} \\frac{\\partial}{\\partial r}\\nu\\left(r\\right)^{2} + 2 \\, {\\left(2 \\, r^{5} \\frac{\\partial}{\\partial r}\\nu\\left(r\\right) - r^{4} e^{\\lambda\\left(r\\right)} + 2 \\, r^{4}\\right)} \\frac{\\partial}{\\partial r}\\omega\\left(r\\right)^{2} + 2 \\, {\\left(4 \\, {\\Omega^{(1)}}^{2} r^{3} - 8 \\, {\\Omega^{(1)}} r^{3} \\omega\\left(r\\right) + 4 \\, r^{3} \\omega\\left(r\\right)^{2} + 3 \\, r^{2} e^{\\left(\\lambda\\left(r\\right) + \\nu\\left(r\\right)\\right)} \\frac{\\partial}{\\partial r}h_2\\left(r\\right) + 3 \\, r^{2} e^{\\left(\\lambda\\left(r\\right) + \\nu\\left(r\\right)\\right)} \\frac{\\partial}{\\partial r}k_2\\left(r\\right)\\right)} \\frac{\\partial}{\\partial r}\\lambda\\left(r\\right) + 2 \\, {\\left(4 \\, {\\Omega^{(1)}}^{2} r^{3} - 8 \\, {\\Omega^{(1)}} r^{3} \\omega\\left(r\\right) + 4 \\, r^{3} \\omega\\left(r\\right)^{2} - 6 \\, r^{2} e^{\\left(\\lambda\\left(r\\right) + \\nu\\left(r\\right)\\right)} \\frac{\\partial}{\\partial r}h_2\\left(r\\right) - 3 \\, r^{2} e^{\\left(\\lambda\\left(r\\right) + \\nu\\left(r\\right)\\right)} \\frac{\\partial}{\\partial r}k_2\\left(r\\right) + 3 \\, r^{2} e^{\\left(\\lambda\\left(r\\right) + \\nu\\left(r\\right)\\right)} \\frac{\\partial}{\\partial r}m_2\\left(r\\right) - 12 \\, r e^{\\left(\\lambda\\left(r\\right) + \\nu\\left(r\\right)\\right)} h_2\\left(r\\right) + 4 \\, {\\left({\\Omega^{(1)}}^{2} r^{4} - 2 \\, {\\Omega^{(1)}} r^{4} \\omega\\left(r\\right) + r^{4} \\omega\\left(r\\right)^{2}\\right)} \\frac{\\partial}{\\partial r}\\lambda\\left(r\\right)\\right)} \\frac{\\partial}{\\partial r}\\nu\\left(r\\right)\\right)} e^{\\left(-2 \\, \\lambda\\left(r\\right) - \\nu\\left(r\\right)\\right)} = 0\\]</html>"
      ],
      "text/latex": [
       "$$\\newcommand{\\Bold}[1]{\\mathbf{#1}}-\\frac{1}{6} \\, {\\left(48 \\, \\pi r^{2} P_{2}^{(2)}\\left(r\\right) e^{\\left(2 \\, \\lambda\\left(r\\right) + \\nu\\left(r\\right)\\right)} - 12 \\, r^{2} e^{\\left(\\lambda\\left(r\\right) + \\nu\\left(r\\right)\\right)} \\frac{\\partial^{2}}{(\\partial r)^{2}}h_2\\left(r\\right) - 12 \\, r^{2} e^{\\left(\\lambda\\left(r\\right) + \\nu\\left(r\\right)\\right)} \\frac{\\partial^{2}}{(\\partial r)^{2}}k_2\\left(r\\right) + 24 \\, {\\left(e^{\\left(2 \\, \\lambda\\left(r\\right)\\right)} - e^{\\lambda\\left(r\\right)}\\right)} e^{\\nu\\left(r\\right)} h_2\\left(r\\right) - 3 \\, {\\left(24 \\, \\pi r^{2} P_{2}^{(2)}\\left(r\\right) e^{\\left(2 \\, \\lambda\\left(r\\right) + \\nu\\left(r\\right)\\right)} - 6 \\, r^{2} e^{\\left(\\lambda\\left(r\\right) + \\nu\\left(r\\right)\\right)} \\frac{\\partial^{2}}{(\\partial r)^{2}}h_2\\left(r\\right) - 6 \\, r^{2} e^{\\left(\\lambda\\left(r\\right) + \\nu\\left(r\\right)\\right)} \\frac{\\partial^{2}}{(\\partial r)^{2}}k_2\\left(r\\right) + 12 \\, {\\left(e^{\\left(2 \\, \\lambda\\left(r\\right)\\right)} - e^{\\lambda\\left(r\\right)}\\right)} e^{\\nu\\left(r\\right)} h_2\\left(r\\right) - 6 \\, r e^{\\left(\\lambda\\left(r\\right) + \\nu\\left(r\\right)\\right)} \\frac{\\partial}{\\partial r}h_2\\left(r\\right) - 12 \\, r e^{\\left(\\lambda\\left(r\\right) + \\nu\\left(r\\right)\\right)} \\frac{\\partial}{\\partial r}k_2\\left(r\\right) + 6 \\, r e^{\\left(\\lambda\\left(r\\right) + \\nu\\left(r\\right)\\right)} \\frac{\\partial}{\\partial r}m_2\\left(r\\right) + 4 \\, {\\left({\\Omega^{(1)}}^{2} r^{4} - 2 \\, {\\Omega^{(1)}} r^{4} \\omega\\left(r\\right) + r^{4} \\omega\\left(r\\right)^{2}\\right)} \\frac{\\partial}{\\partial r}\\nu\\left(r\\right)^{2} + {\\left(2 \\, r^{5} \\frac{\\partial}{\\partial r}\\nu\\left(r\\right) - r^{4} e^{\\lambda\\left(r\\right)} + 2 \\, r^{4}\\right)} \\frac{\\partial}{\\partial r}\\omega\\left(r\\right)^{2} + {\\left(4 \\, {\\Omega^{(1)}}^{2} r^{3} - 8 \\, {\\Omega^{(1)}} r^{3} \\omega\\left(r\\right) + 4 \\, r^{3} \\omega\\left(r\\right)^{2} + 3 \\, r^{2} e^{\\left(\\lambda\\left(r\\right) + \\nu\\left(r\\right)\\right)} \\frac{\\partial}{\\partial r}h_2\\left(r\\right) + 3 \\, r^{2} e^{\\left(\\lambda\\left(r\\right) + \\nu\\left(r\\right)\\right)} \\frac{\\partial}{\\partial r}k_2\\left(r\\right)\\right)} \\frac{\\partial}{\\partial r}\\lambda\\left(r\\right) + {\\left(4 \\, {\\Omega^{(1)}}^{2} r^{3} - 8 \\, {\\Omega^{(1)}} r^{3} \\omega\\left(r\\right) + 4 \\, r^{3} \\omega\\left(r\\right)^{2} - 6 \\, r^{2} e^{\\left(\\lambda\\left(r\\right) + \\nu\\left(r\\right)\\right)} \\frac{\\partial}{\\partial r}h_2\\left(r\\right) - 3 \\, r^{2} e^{\\left(\\lambda\\left(r\\right) + \\nu\\left(r\\right)\\right)} \\frac{\\partial}{\\partial r}k_2\\left(r\\right) + 3 \\, r^{2} e^{\\left(\\lambda\\left(r\\right) + \\nu\\left(r\\right)\\right)} \\frac{\\partial}{\\partial r}m_2\\left(r\\right) - 12 \\, r e^{\\left(\\lambda\\left(r\\right) + \\nu\\left(r\\right)\\right)} h_2\\left(r\\right) + 4 \\, {\\left({\\Omega^{(1)}}^{2} r^{4} - 2 \\, {\\Omega^{(1)}} r^{4} \\omega\\left(r\\right) + r^{4} \\omega\\left(r\\right)^{2}\\right)} \\frac{\\partial}{\\partial r}\\lambda\\left(r\\right)\\right)} \\frac{\\partial}{\\partial r}\\nu\\left(r\\right)\\right)} \\sin\\left({\\theta}\\right)^{2} - 12 \\, r e^{\\left(\\lambda\\left(r\\right) + \\nu\\left(r\\right)\\right)} \\frac{\\partial}{\\partial r}h_2\\left(r\\right) - 24 \\, r e^{\\left(\\lambda\\left(r\\right) + \\nu\\left(r\\right)\\right)} \\frac{\\partial}{\\partial r}k_2\\left(r\\right) + 12 \\, r e^{\\left(\\lambda\\left(r\\right) + \\nu\\left(r\\right)\\right)} \\frac{\\partial}{\\partial r}m_2\\left(r\\right) + 8 \\, {\\left({\\Omega^{(1)}}^{2} r^{4} - 2 \\, {\\Omega^{(1)}} r^{4} \\omega\\left(r\\right) + r^{4} \\omega\\left(r\\right)^{2}\\right)} \\frac{\\partial}{\\partial r}\\nu\\left(r\\right)^{2} + 2 \\, {\\left(2 \\, r^{5} \\frac{\\partial}{\\partial r}\\nu\\left(r\\right) - r^{4} e^{\\lambda\\left(r\\right)} + 2 \\, r^{4}\\right)} \\frac{\\partial}{\\partial r}\\omega\\left(r\\right)^{2} + 2 \\, {\\left(4 \\, {\\Omega^{(1)}}^{2} r^{3} - 8 \\, {\\Omega^{(1)}} r^{3} \\omega\\left(r\\right) + 4 \\, r^{3} \\omega\\left(r\\right)^{2} + 3 \\, r^{2} e^{\\left(\\lambda\\left(r\\right) + \\nu\\left(r\\right)\\right)} \\frac{\\partial}{\\partial r}h_2\\left(r\\right) + 3 \\, r^{2} e^{\\left(\\lambda\\left(r\\right) + \\nu\\left(r\\right)\\right)} \\frac{\\partial}{\\partial r}k_2\\left(r\\right)\\right)} \\frac{\\partial}{\\partial r}\\lambda\\left(r\\right) + 2 \\, {\\left(4 \\, {\\Omega^{(1)}}^{2} r^{3} - 8 \\, {\\Omega^{(1)}} r^{3} \\omega\\left(r\\right) + 4 \\, r^{3} \\omega\\left(r\\right)^{2} - 6 \\, r^{2} e^{\\left(\\lambda\\left(r\\right) + \\nu\\left(r\\right)\\right)} \\frac{\\partial}{\\partial r}h_2\\left(r\\right) - 3 \\, r^{2} e^{\\left(\\lambda\\left(r\\right) + \\nu\\left(r\\right)\\right)} \\frac{\\partial}{\\partial r}k_2\\left(r\\right) + 3 \\, r^{2} e^{\\left(\\lambda\\left(r\\right) + \\nu\\left(r\\right)\\right)} \\frac{\\partial}{\\partial r}m_2\\left(r\\right) - 12 \\, r e^{\\left(\\lambda\\left(r\\right) + \\nu\\left(r\\right)\\right)} h_2\\left(r\\right) + 4 \\, {\\left({\\Omega^{(1)}}^{2} r^{4} - 2 \\, {\\Omega^{(1)}} r^{4} \\omega\\left(r\\right) + r^{4} \\omega\\left(r\\right)^{2}\\right)} \\frac{\\partial}{\\partial r}\\lambda\\left(r\\right)\\right)} \\frac{\\partial}{\\partial r}\\nu\\left(r\\right)\\right)} e^{\\left(-2 \\, \\lambda\\left(r\\right) - \\nu\\left(r\\right)\\right)} = 0$$"
      ],
      "text/plain": [
       "-1/6*(48*pi*r^2*P22(r)*e^(2*lamb(r) + nu(r)) - 12*r^2*e^(lamb(r) + nu(r))*diff(h2(r), r, r) - 12*r^2*e^(lamb(r) + nu(r))*diff(k2(r), r, r) + 24*(e^(2*lamb(r)) - e^lamb(r))*e^nu(r)*h2(r) - 3*(24*pi*r^2*P22(r)*e^(2*lamb(r) + nu(r)) - 6*r^2*e^(lamb(r) + nu(r))*diff(h2(r), r, r) - 6*r^2*e^(lamb(r) + nu(r))*diff(k2(r), r, r) + 12*(e^(2*lamb(r)) - e^lamb(r))*e^nu(r)*h2(r) - 6*r*e^(lamb(r) + nu(r))*diff(h2(r), r) - 12*r*e^(lamb(r) + nu(r))*diff(k2(r), r) + 6*r*e^(lamb(r) + nu(r))*diff(m2(r), r) + 4*(Omega1^2*r^4 - 2*Omega1*r^4*omega(r) + r^4*omega(r)^2)*diff(nu(r), r)^2 + (2*r^5*diff(nu(r), r) - r^4*e^lamb(r) + 2*r^4)*diff(omega(r), r)^2 + (4*Omega1^2*r^3 - 8*Omega1*r^3*omega(r) + 4*r^3*omega(r)^2 + 3*r^2*e^(lamb(r) + nu(r))*diff(h2(r), r) + 3*r^2*e^(lamb(r) + nu(r))*diff(k2(r), r))*diff(lamb(r), r) + (4*Omega1^2*r^3 - 8*Omega1*r^3*omega(r) + 4*r^3*omega(r)^2 - 6*r^2*e^(lamb(r) + nu(r))*diff(h2(r), r) - 3*r^2*e^(lamb(r) + nu(r))*diff(k2(r), r) + 3*r^2*e^(lamb(r) + nu(r))*diff(m2(r), r) - 12*r*e^(lamb(r) + nu(r))*h2(r) + 4*(Omega1^2*r^4 - 2*Omega1*r^4*omega(r) + r^4*omega(r)^2)*diff(lamb(r), r))*diff(nu(r), r))*sin(th)^2 - 12*r*e^(lamb(r) + nu(r))*diff(h2(r), r) - 24*r*e^(lamb(r) + nu(r))*diff(k2(r), r) + 12*r*e^(lamb(r) + nu(r))*diff(m2(r), r) + 8*(Omega1^2*r^4 - 2*Omega1*r^4*omega(r) + r^4*omega(r)^2)*diff(nu(r), r)^2 + 2*(2*r^5*diff(nu(r), r) - r^4*e^lamb(r) + 2*r^4)*diff(omega(r), r)^2 + 2*(4*Omega1^2*r^3 - 8*Omega1*r^3*omega(r) + 4*r^3*omega(r)^2 + 3*r^2*e^(lamb(r) + nu(r))*diff(h2(r), r) + 3*r^2*e^(lamb(r) + nu(r))*diff(k2(r), r))*diff(lamb(r), r) + 2*(4*Omega1^2*r^3 - 8*Omega1*r^3*omega(r) + 4*r^3*omega(r)^2 - 6*r^2*e^(lamb(r) + nu(r))*diff(h2(r), r) - 3*r^2*e^(lamb(r) + nu(r))*diff(k2(r), r) + 3*r^2*e^(lamb(r) + nu(r))*diff(m2(r), r) - 12*r*e^(lamb(r) + nu(r))*h2(r) + 4*(Omega1^2*r^4 - 2*Omega1*r^4*omega(r) + r^4*omega(r)^2)*diff(lamb(r), r))*diff(nu(r), r))*e^(-2*lamb(r) - nu(r)) == 0"
      ]
     },
     "execution_count": 39,
     "metadata": {},
     "output_type": "execute_result"
    }
   ],
   "source": [
    "ddEq00 = ddG[2,2] - kappa*ddT[2,2] == 0\n",
    "ddEq00 = ddEq00.simplify_full(); ddEq00"
   ]
  },
  {
   "cell_type": "code",
   "execution_count": 40,
   "metadata": {},
   "outputs": [
    {
     "data": {
      "text/html": [
       "<html>\\[\\newcommand{\\Bold}[1]{\\mathbf{#1}}\\frac{1}{6} \\, {\\left(3 \\, {\\left(24 \\, \\pi r^{2} P_{2}^{(2)}\\left(r\\right) e^{\\left(2 \\, \\lambda\\left(r\\right) + \\nu\\left(r\\right)\\right)} - 6 \\, r^{2} e^{\\left(\\lambda\\left(r\\right) + \\nu\\left(r\\right)\\right)} \\frac{\\partial^{2}}{(\\partial r)^{2}}h_2\\left(r\\right) - 6 \\, r^{2} e^{\\left(\\lambda\\left(r\\right) + \\nu\\left(r\\right)\\right)} \\frac{\\partial^{2}}{(\\partial r)^{2}}k_2\\left(r\\right) + 12 \\, {\\left(e^{\\left(2 \\, \\lambda\\left(r\\right)\\right)} - e^{\\lambda\\left(r\\right)}\\right)} e^{\\nu\\left(r\\right)} h_2\\left(r\\right) - 6 \\, r e^{\\left(\\lambda\\left(r\\right) + \\nu\\left(r\\right)\\right)} \\frac{\\partial}{\\partial r}h_2\\left(r\\right) - 12 \\, r e^{\\left(\\lambda\\left(r\\right) + \\nu\\left(r\\right)\\right)} \\frac{\\partial}{\\partial r}k_2\\left(r\\right) + 6 \\, r e^{\\left(\\lambda\\left(r\\right) + \\nu\\left(r\\right)\\right)} \\frac{\\partial}{\\partial r}m_2\\left(r\\right) + 4 \\, {\\left({\\Omega^{(1)}}^{2} r^{4} - 2 \\, {\\Omega^{(1)}} r^{4} \\omega\\left(r\\right) + r^{4} \\omega\\left(r\\right)^{2}\\right)} \\frac{\\partial}{\\partial r}\\nu\\left(r\\right)^{2} + {\\left(2 \\, r^{5} \\frac{\\partial}{\\partial r}\\nu\\left(r\\right) - r^{4} e^{\\lambda\\left(r\\right)} + 2 \\, r^{4}\\right)} \\frac{\\partial}{\\partial r}\\omega\\left(r\\right)^{2} + {\\left(4 \\, {\\Omega^{(1)}}^{2} r^{3} - 8 \\, {\\Omega^{(1)}} r^{3} \\omega\\left(r\\right) + 4 \\, r^{3} \\omega\\left(r\\right)^{2} + 3 \\, r^{2} e^{\\left(\\lambda\\left(r\\right) + \\nu\\left(r\\right)\\right)} \\frac{\\partial}{\\partial r}h_2\\left(r\\right) + 3 \\, r^{2} e^{\\left(\\lambda\\left(r\\right) + \\nu\\left(r\\right)\\right)} \\frac{\\partial}{\\partial r}k_2\\left(r\\right)\\right)} \\frac{\\partial}{\\partial r}\\lambda\\left(r\\right) + {\\left(4 \\, {\\Omega^{(1)}}^{2} r^{3} - 8 \\, {\\Omega^{(1)}} r^{3} \\omega\\left(r\\right) + 4 \\, r^{3} \\omega\\left(r\\right)^{2} - 6 \\, r^{2} e^{\\left(\\lambda\\left(r\\right) + \\nu\\left(r\\right)\\right)} \\frac{\\partial}{\\partial r}h_2\\left(r\\right) - 3 \\, r^{2} e^{\\left(\\lambda\\left(r\\right) + \\nu\\left(r\\right)\\right)} \\frac{\\partial}{\\partial r}k_2\\left(r\\right) + 3 \\, r^{2} e^{\\left(\\lambda\\left(r\\right) + \\nu\\left(r\\right)\\right)} \\frac{\\partial}{\\partial r}m_2\\left(r\\right) - 12 \\, r e^{\\left(\\lambda\\left(r\\right) + \\nu\\left(r\\right)\\right)} h_2\\left(r\\right) + 4 \\, {\\left({\\Omega^{(1)}}^{2} r^{4} - 2 \\, {\\Omega^{(1)}} r^{4} \\omega\\left(r\\right) + r^{4} \\omega\\left(r\\right)^{2}\\right)} \\frac{\\partial}{\\partial r}\\lambda\\left(r\\right)\\right)} \\frac{\\partial}{\\partial r}\\nu\\left(r\\right)\\right)} \\cos\\left({\\theta}\\right)^{4} + 24 \\, \\pi r^{2} P_{2}^{(2)}\\left(r\\right) e^{\\left(2 \\, \\lambda\\left(r\\right) + \\nu\\left(r\\right)\\right)} - 6 \\, r^{2} e^{\\left(\\lambda\\left(r\\right) + \\nu\\left(r\\right)\\right)} \\frac{\\partial^{2}}{(\\partial r)^{2}}h_2\\left(r\\right) - 6 \\, r^{2} e^{\\left(\\lambda\\left(r\\right) + \\nu\\left(r\\right)\\right)} \\frac{\\partial^{2}}{(\\partial r)^{2}}k_2\\left(r\\right) - 4 \\, {\\left(24 \\, \\pi r^{2} P_{2}^{(2)}\\left(r\\right) e^{\\left(2 \\, \\lambda\\left(r\\right) + \\nu\\left(r\\right)\\right)} - 6 \\, r^{2} e^{\\left(\\lambda\\left(r\\right) + \\nu\\left(r\\right)\\right)} \\frac{\\partial^{2}}{(\\partial r)^{2}}h_2\\left(r\\right) - 6 \\, r^{2} e^{\\left(\\lambda\\left(r\\right) + \\nu\\left(r\\right)\\right)} \\frac{\\partial^{2}}{(\\partial r)^{2}}k_2\\left(r\\right) + 12 \\, {\\left(e^{\\left(2 \\, \\lambda\\left(r\\right)\\right)} - e^{\\lambda\\left(r\\right)}\\right)} e^{\\nu\\left(r\\right)} h_2\\left(r\\right) - 6 \\, r e^{\\left(\\lambda\\left(r\\right) + \\nu\\left(r\\right)\\right)} \\frac{\\partial}{\\partial r}h_2\\left(r\\right) - 12 \\, r e^{\\left(\\lambda\\left(r\\right) + \\nu\\left(r\\right)\\right)} \\frac{\\partial}{\\partial r}k_2\\left(r\\right) + 6 \\, r e^{\\left(\\lambda\\left(r\\right) + \\nu\\left(r\\right)\\right)} \\frac{\\partial}{\\partial r}m_2\\left(r\\right) + 4 \\, {\\left({\\Omega^{(1)}}^{2} r^{4} - 2 \\, {\\Omega^{(1)}} r^{4} \\omega\\left(r\\right) + r^{4} \\omega\\left(r\\right)^{2}\\right)} \\frac{\\partial}{\\partial r}\\nu\\left(r\\right)^{2} + {\\left(2 \\, r^{5} \\frac{\\partial}{\\partial r}\\nu\\left(r\\right) - r^{4} e^{\\lambda\\left(r\\right)} + 2 \\, r^{4}\\right)} \\frac{\\partial}{\\partial r}\\omega\\left(r\\right)^{2} + {\\left(4 \\, {\\Omega^{(1)}}^{2} r^{3} - 8 \\, {\\Omega^{(1)}} r^{3} \\omega\\left(r\\right) + 4 \\, r^{3} \\omega\\left(r\\right)^{2} + 3 \\, r^{2} e^{\\left(\\lambda\\left(r\\right) + \\nu\\left(r\\right)\\right)} \\frac{\\partial}{\\partial r}h_2\\left(r\\right) + 3 \\, r^{2} e^{\\left(\\lambda\\left(r\\right) + \\nu\\left(r\\right)\\right)} \\frac{\\partial}{\\partial r}k_2\\left(r\\right)\\right)} \\frac{\\partial}{\\partial r}\\lambda\\left(r\\right) + {\\left(4 \\, {\\Omega^{(1)}}^{2} r^{3} - 8 \\, {\\Omega^{(1)}} r^{3} \\omega\\left(r\\right) + 4 \\, r^{3} \\omega\\left(r\\right)^{2} - 6 \\, r^{2} e^{\\left(\\lambda\\left(r\\right) + \\nu\\left(r\\right)\\right)} \\frac{\\partial}{\\partial r}h_2\\left(r\\right) - 3 \\, r^{2} e^{\\left(\\lambda\\left(r\\right) + \\nu\\left(r\\right)\\right)} \\frac{\\partial}{\\partial r}k_2\\left(r\\right) + 3 \\, r^{2} e^{\\left(\\lambda\\left(r\\right) + \\nu\\left(r\\right)\\right)} \\frac{\\partial}{\\partial r}m_2\\left(r\\right) - 12 \\, r e^{\\left(\\lambda\\left(r\\right) + \\nu\\left(r\\right)\\right)} h_2\\left(r\\right) + 4 \\, {\\left({\\Omega^{(1)}}^{2} r^{4} - 2 \\, {\\Omega^{(1)}} r^{4} \\omega\\left(r\\right) + r^{4} \\omega\\left(r\\right)^{2}\\right)} \\frac{\\partial}{\\partial r}\\lambda\\left(r\\right)\\right)} \\frac{\\partial}{\\partial r}\\nu\\left(r\\right)\\right)} \\cos\\left({\\theta}\\right)^{2} + 12 \\, {\\left(e^{\\left(2 \\, \\lambda\\left(r\\right)\\right)} - e^{\\lambda\\left(r\\right)}\\right)} e^{\\nu\\left(r\\right)} h_2\\left(r\\right) - 6 \\, r e^{\\left(\\lambda\\left(r\\right) + \\nu\\left(r\\right)\\right)} \\frac{\\partial}{\\partial r}h_2\\left(r\\right) - 12 \\, r e^{\\left(\\lambda\\left(r\\right) + \\nu\\left(r\\right)\\right)} \\frac{\\partial}{\\partial r}k_2\\left(r\\right) + 6 \\, r e^{\\left(\\lambda\\left(r\\right) + \\nu\\left(r\\right)\\right)} \\frac{\\partial}{\\partial r}m_2\\left(r\\right) + 4 \\, {\\left({\\Omega^{(1)}}^{2} r^{4} - 2 \\, {\\Omega^{(1)}} r^{4} \\omega\\left(r\\right) + r^{4} \\omega\\left(r\\right)^{2}\\right)} \\frac{\\partial}{\\partial r}\\nu\\left(r\\right)^{2} + {\\left(2 \\, r^{5} \\frac{\\partial}{\\partial r}\\nu\\left(r\\right) - r^{4} e^{\\lambda\\left(r\\right)} + 2 \\, r^{4}\\right)} \\frac{\\partial}{\\partial r}\\omega\\left(r\\right)^{2} + {\\left(4 \\, {\\Omega^{(1)}}^{2} r^{3} - 8 \\, {\\Omega^{(1)}} r^{3} \\omega\\left(r\\right) + 4 \\, r^{3} \\omega\\left(r\\right)^{2} + 3 \\, r^{2} e^{\\left(\\lambda\\left(r\\right) + \\nu\\left(r\\right)\\right)} \\frac{\\partial}{\\partial r}h_2\\left(r\\right) + 3 \\, r^{2} e^{\\left(\\lambda\\left(r\\right) + \\nu\\left(r\\right)\\right)} \\frac{\\partial}{\\partial r}k_2\\left(r\\right)\\right)} \\frac{\\partial}{\\partial r}\\lambda\\left(r\\right) + {\\left(4 \\, {\\Omega^{(1)}}^{2} r^{3} - 8 \\, {\\Omega^{(1)}} r^{3} \\omega\\left(r\\right) + 4 \\, r^{3} \\omega\\left(r\\right)^{2} - 6 \\, r^{2} e^{\\left(\\lambda\\left(r\\right) + \\nu\\left(r\\right)\\right)} \\frac{\\partial}{\\partial r}h_2\\left(r\\right) - 3 \\, r^{2} e^{\\left(\\lambda\\left(r\\right) + \\nu\\left(r\\right)\\right)} \\frac{\\partial}{\\partial r}k_2\\left(r\\right) + 3 \\, r^{2} e^{\\left(\\lambda\\left(r\\right) + \\nu\\left(r\\right)\\right)} \\frac{\\partial}{\\partial r}m_2\\left(r\\right) - 12 \\, r e^{\\left(\\lambda\\left(r\\right) + \\nu\\left(r\\right)\\right)} h_2\\left(r\\right) + 4 \\, {\\left({\\Omega^{(1)}}^{2} r^{4} - 2 \\, {\\Omega^{(1)}} r^{4} \\omega\\left(r\\right) + r^{4} \\omega\\left(r\\right)^{2}\\right)} \\frac{\\partial}{\\partial r}\\lambda\\left(r\\right)\\right)} \\frac{\\partial}{\\partial r}\\nu\\left(r\\right)\\right)} e^{\\left(-2 \\, \\lambda\\left(r\\right) - \\nu\\left(r\\right)\\right)} = 0\\]</html>"
      ],
      "text/latex": [
       "$$\\newcommand{\\Bold}[1]{\\mathbf{#1}}\\frac{1}{6} \\, {\\left(3 \\, {\\left(24 \\, \\pi r^{2} P_{2}^{(2)}\\left(r\\right) e^{\\left(2 \\, \\lambda\\left(r\\right) + \\nu\\left(r\\right)\\right)} - 6 \\, r^{2} e^{\\left(\\lambda\\left(r\\right) + \\nu\\left(r\\right)\\right)} \\frac{\\partial^{2}}{(\\partial r)^{2}}h_2\\left(r\\right) - 6 \\, r^{2} e^{\\left(\\lambda\\left(r\\right) + \\nu\\left(r\\right)\\right)} \\frac{\\partial^{2}}{(\\partial r)^{2}}k_2\\left(r\\right) + 12 \\, {\\left(e^{\\left(2 \\, \\lambda\\left(r\\right)\\right)} - e^{\\lambda\\left(r\\right)}\\right)} e^{\\nu\\left(r\\right)} h_2\\left(r\\right) - 6 \\, r e^{\\left(\\lambda\\left(r\\right) + \\nu\\left(r\\right)\\right)} \\frac{\\partial}{\\partial r}h_2\\left(r\\right) - 12 \\, r e^{\\left(\\lambda\\left(r\\right) + \\nu\\left(r\\right)\\right)} \\frac{\\partial}{\\partial r}k_2\\left(r\\right) + 6 \\, r e^{\\left(\\lambda\\left(r\\right) + \\nu\\left(r\\right)\\right)} \\frac{\\partial}{\\partial r}m_2\\left(r\\right) + 4 \\, {\\left({\\Omega^{(1)}}^{2} r^{4} - 2 \\, {\\Omega^{(1)}} r^{4} \\omega\\left(r\\right) + r^{4} \\omega\\left(r\\right)^{2}\\right)} \\frac{\\partial}{\\partial r}\\nu\\left(r\\right)^{2} + {\\left(2 \\, r^{5} \\frac{\\partial}{\\partial r}\\nu\\left(r\\right) - r^{4} e^{\\lambda\\left(r\\right)} + 2 \\, r^{4}\\right)} \\frac{\\partial}{\\partial r}\\omega\\left(r\\right)^{2} + {\\left(4 \\, {\\Omega^{(1)}}^{2} r^{3} - 8 \\, {\\Omega^{(1)}} r^{3} \\omega\\left(r\\right) + 4 \\, r^{3} \\omega\\left(r\\right)^{2} + 3 \\, r^{2} e^{\\left(\\lambda\\left(r\\right) + \\nu\\left(r\\right)\\right)} \\frac{\\partial}{\\partial r}h_2\\left(r\\right) + 3 \\, r^{2} e^{\\left(\\lambda\\left(r\\right) + \\nu\\left(r\\right)\\right)} \\frac{\\partial}{\\partial r}k_2\\left(r\\right)\\right)} \\frac{\\partial}{\\partial r}\\lambda\\left(r\\right) + {\\left(4 \\, {\\Omega^{(1)}}^{2} r^{3} - 8 \\, {\\Omega^{(1)}} r^{3} \\omega\\left(r\\right) + 4 \\, r^{3} \\omega\\left(r\\right)^{2} - 6 \\, r^{2} e^{\\left(\\lambda\\left(r\\right) + \\nu\\left(r\\right)\\right)} \\frac{\\partial}{\\partial r}h_2\\left(r\\right) - 3 \\, r^{2} e^{\\left(\\lambda\\left(r\\right) + \\nu\\left(r\\right)\\right)} \\frac{\\partial}{\\partial r}k_2\\left(r\\right) + 3 \\, r^{2} e^{\\left(\\lambda\\left(r\\right) + \\nu\\left(r\\right)\\right)} \\frac{\\partial}{\\partial r}m_2\\left(r\\right) - 12 \\, r e^{\\left(\\lambda\\left(r\\right) + \\nu\\left(r\\right)\\right)} h_2\\left(r\\right) + 4 \\, {\\left({\\Omega^{(1)}}^{2} r^{4} - 2 \\, {\\Omega^{(1)}} r^{4} \\omega\\left(r\\right) + r^{4} \\omega\\left(r\\right)^{2}\\right)} \\frac{\\partial}{\\partial r}\\lambda\\left(r\\right)\\right)} \\frac{\\partial}{\\partial r}\\nu\\left(r\\right)\\right)} \\cos\\left({\\theta}\\right)^{4} + 24 \\, \\pi r^{2} P_{2}^{(2)}\\left(r\\right) e^{\\left(2 \\, \\lambda\\left(r\\right) + \\nu\\left(r\\right)\\right)} - 6 \\, r^{2} e^{\\left(\\lambda\\left(r\\right) + \\nu\\left(r\\right)\\right)} \\frac{\\partial^{2}}{(\\partial r)^{2}}h_2\\left(r\\right) - 6 \\, r^{2} e^{\\left(\\lambda\\left(r\\right) + \\nu\\left(r\\right)\\right)} \\frac{\\partial^{2}}{(\\partial r)^{2}}k_2\\left(r\\right) - 4 \\, {\\left(24 \\, \\pi r^{2} P_{2}^{(2)}\\left(r\\right) e^{\\left(2 \\, \\lambda\\left(r\\right) + \\nu\\left(r\\right)\\right)} - 6 \\, r^{2} e^{\\left(\\lambda\\left(r\\right) + \\nu\\left(r\\right)\\right)} \\frac{\\partial^{2}}{(\\partial r)^{2}}h_2\\left(r\\right) - 6 \\, r^{2} e^{\\left(\\lambda\\left(r\\right) + \\nu\\left(r\\right)\\right)} \\frac{\\partial^{2}}{(\\partial r)^{2}}k_2\\left(r\\right) + 12 \\, {\\left(e^{\\left(2 \\, \\lambda\\left(r\\right)\\right)} - e^{\\lambda\\left(r\\right)}\\right)} e^{\\nu\\left(r\\right)} h_2\\left(r\\right) - 6 \\, r e^{\\left(\\lambda\\left(r\\right) + \\nu\\left(r\\right)\\right)} \\frac{\\partial}{\\partial r}h_2\\left(r\\right) - 12 \\, r e^{\\left(\\lambda\\left(r\\right) + \\nu\\left(r\\right)\\right)} \\frac{\\partial}{\\partial r}k_2\\left(r\\right) + 6 \\, r e^{\\left(\\lambda\\left(r\\right) + \\nu\\left(r\\right)\\right)} \\frac{\\partial}{\\partial r}m_2\\left(r\\right) + 4 \\, {\\left({\\Omega^{(1)}}^{2} r^{4} - 2 \\, {\\Omega^{(1)}} r^{4} \\omega\\left(r\\right) + r^{4} \\omega\\left(r\\right)^{2}\\right)} \\frac{\\partial}{\\partial r}\\nu\\left(r\\right)^{2} + {\\left(2 \\, r^{5} \\frac{\\partial}{\\partial r}\\nu\\left(r\\right) - r^{4} e^{\\lambda\\left(r\\right)} + 2 \\, r^{4}\\right)} \\frac{\\partial}{\\partial r}\\omega\\left(r\\right)^{2} + {\\left(4 \\, {\\Omega^{(1)}}^{2} r^{3} - 8 \\, {\\Omega^{(1)}} r^{3} \\omega\\left(r\\right) + 4 \\, r^{3} \\omega\\left(r\\right)^{2} + 3 \\, r^{2} e^{\\left(\\lambda\\left(r\\right) + \\nu\\left(r\\right)\\right)} \\frac{\\partial}{\\partial r}h_2\\left(r\\right) + 3 \\, r^{2} e^{\\left(\\lambda\\left(r\\right) + \\nu\\left(r\\right)\\right)} \\frac{\\partial}{\\partial r}k_2\\left(r\\right)\\right)} \\frac{\\partial}{\\partial r}\\lambda\\left(r\\right) + {\\left(4 \\, {\\Omega^{(1)}}^{2} r^{3} - 8 \\, {\\Omega^{(1)}} r^{3} \\omega\\left(r\\right) + 4 \\, r^{3} \\omega\\left(r\\right)^{2} - 6 \\, r^{2} e^{\\left(\\lambda\\left(r\\right) + \\nu\\left(r\\right)\\right)} \\frac{\\partial}{\\partial r}h_2\\left(r\\right) - 3 \\, r^{2} e^{\\left(\\lambda\\left(r\\right) + \\nu\\left(r\\right)\\right)} \\frac{\\partial}{\\partial r}k_2\\left(r\\right) + 3 \\, r^{2} e^{\\left(\\lambda\\left(r\\right) + \\nu\\left(r\\right)\\right)} \\frac{\\partial}{\\partial r}m_2\\left(r\\right) - 12 \\, r e^{\\left(\\lambda\\left(r\\right) + \\nu\\left(r\\right)\\right)} h_2\\left(r\\right) + 4 \\, {\\left({\\Omega^{(1)}}^{2} r^{4} - 2 \\, {\\Omega^{(1)}} r^{4} \\omega\\left(r\\right) + r^{4} \\omega\\left(r\\right)^{2}\\right)} \\frac{\\partial}{\\partial r}\\lambda\\left(r\\right)\\right)} \\frac{\\partial}{\\partial r}\\nu\\left(r\\right)\\right)} \\cos\\left({\\theta}\\right)^{2} + 12 \\, {\\left(e^{\\left(2 \\, \\lambda\\left(r\\right)\\right)} - e^{\\lambda\\left(r\\right)}\\right)} e^{\\nu\\left(r\\right)} h_2\\left(r\\right) - 6 \\, r e^{\\left(\\lambda\\left(r\\right) + \\nu\\left(r\\right)\\right)} \\frac{\\partial}{\\partial r}h_2\\left(r\\right) - 12 \\, r e^{\\left(\\lambda\\left(r\\right) + \\nu\\left(r\\right)\\right)} \\frac{\\partial}{\\partial r}k_2\\left(r\\right) + 6 \\, r e^{\\left(\\lambda\\left(r\\right) + \\nu\\left(r\\right)\\right)} \\frac{\\partial}{\\partial r}m_2\\left(r\\right) + 4 \\, {\\left({\\Omega^{(1)}}^{2} r^{4} - 2 \\, {\\Omega^{(1)}} r^{4} \\omega\\left(r\\right) + r^{4} \\omega\\left(r\\right)^{2}\\right)} \\frac{\\partial}{\\partial r}\\nu\\left(r\\right)^{2} + {\\left(2 \\, r^{5} \\frac{\\partial}{\\partial r}\\nu\\left(r\\right) - r^{4} e^{\\lambda\\left(r\\right)} + 2 \\, r^{4}\\right)} \\frac{\\partial}{\\partial r}\\omega\\left(r\\right)^{2} + {\\left(4 \\, {\\Omega^{(1)}}^{2} r^{3} - 8 \\, {\\Omega^{(1)}} r^{3} \\omega\\left(r\\right) + 4 \\, r^{3} \\omega\\left(r\\right)^{2} + 3 \\, r^{2} e^{\\left(\\lambda\\left(r\\right) + \\nu\\left(r\\right)\\right)} \\frac{\\partial}{\\partial r}h_2\\left(r\\right) + 3 \\, r^{2} e^{\\left(\\lambda\\left(r\\right) + \\nu\\left(r\\right)\\right)} \\frac{\\partial}{\\partial r}k_2\\left(r\\right)\\right)} \\frac{\\partial}{\\partial r}\\lambda\\left(r\\right) + {\\left(4 \\, {\\Omega^{(1)}}^{2} r^{3} - 8 \\, {\\Omega^{(1)}} r^{3} \\omega\\left(r\\right) + 4 \\, r^{3} \\omega\\left(r\\right)^{2} - 6 \\, r^{2} e^{\\left(\\lambda\\left(r\\right) + \\nu\\left(r\\right)\\right)} \\frac{\\partial}{\\partial r}h_2\\left(r\\right) - 3 \\, r^{2} e^{\\left(\\lambda\\left(r\\right) + \\nu\\left(r\\right)\\right)} \\frac{\\partial}{\\partial r}k_2\\left(r\\right) + 3 \\, r^{2} e^{\\left(\\lambda\\left(r\\right) + \\nu\\left(r\\right)\\right)} \\frac{\\partial}{\\partial r}m_2\\left(r\\right) - 12 \\, r e^{\\left(\\lambda\\left(r\\right) + \\nu\\left(r\\right)\\right)} h_2\\left(r\\right) + 4 \\, {\\left({\\Omega^{(1)}}^{2} r^{4} - 2 \\, {\\Omega^{(1)}} r^{4} \\omega\\left(r\\right) + r^{4} \\omega\\left(r\\right)^{2}\\right)} \\frac{\\partial}{\\partial r}\\lambda\\left(r\\right)\\right)} \\frac{\\partial}{\\partial r}\\nu\\left(r\\right)\\right)} e^{\\left(-2 \\, \\lambda\\left(r\\right) - \\nu\\left(r\\right)\\right)} = 0$$"
      ],
      "text/plain": [
       "1/6*(3*(24*pi*r^2*P22(r)*e^(2*lamb(r) + nu(r)) - 6*r^2*e^(lamb(r) + nu(r))*diff(h2(r), r, r) - 6*r^2*e^(lamb(r) + nu(r))*diff(k2(r), r, r) + 12*(e^(2*lamb(r)) - e^lamb(r))*e^nu(r)*h2(r) - 6*r*e^(lamb(r) + nu(r))*diff(h2(r), r) - 12*r*e^(lamb(r) + nu(r))*diff(k2(r), r) + 6*r*e^(lamb(r) + nu(r))*diff(m2(r), r) + 4*(Omega1^2*r^4 - 2*Omega1*r^4*omega(r) + r^4*omega(r)^2)*diff(nu(r), r)^2 + (2*r^5*diff(nu(r), r) - r^4*e^lamb(r) + 2*r^4)*diff(omega(r), r)^2 + (4*Omega1^2*r^3 - 8*Omega1*r^3*omega(r) + 4*r^3*omega(r)^2 + 3*r^2*e^(lamb(r) + nu(r))*diff(h2(r), r) + 3*r^2*e^(lamb(r) + nu(r))*diff(k2(r), r))*diff(lamb(r), r) + (4*Omega1^2*r^3 - 8*Omega1*r^3*omega(r) + 4*r^3*omega(r)^2 - 6*r^2*e^(lamb(r) + nu(r))*diff(h2(r), r) - 3*r^2*e^(lamb(r) + nu(r))*diff(k2(r), r) + 3*r^2*e^(lamb(r) + nu(r))*diff(m2(r), r) - 12*r*e^(lamb(r) + nu(r))*h2(r) + 4*(Omega1^2*r^4 - 2*Omega1*r^4*omega(r) + r^4*omega(r)^2)*diff(lamb(r), r))*diff(nu(r), r))*cos(th)^4 + 24*pi*r^2*P22(r)*e^(2*lamb(r) + nu(r)) - 6*r^2*e^(lamb(r) + nu(r))*diff(h2(r), r, r) - 6*r^2*e^(lamb(r) + nu(r))*diff(k2(r), r, r) - 4*(24*pi*r^2*P22(r)*e^(2*lamb(r) + nu(r)) - 6*r^2*e^(lamb(r) + nu(r))*diff(h2(r), r, r) - 6*r^2*e^(lamb(r) + nu(r))*diff(k2(r), r, r) + 12*(e^(2*lamb(r)) - e^lamb(r))*e^nu(r)*h2(r) - 6*r*e^(lamb(r) + nu(r))*diff(h2(r), r) - 12*r*e^(lamb(r) + nu(r))*diff(k2(r), r) + 6*r*e^(lamb(r) + nu(r))*diff(m2(r), r) + 4*(Omega1^2*r^4 - 2*Omega1*r^4*omega(r) + r^4*omega(r)^2)*diff(nu(r), r)^2 + (2*r^5*diff(nu(r), r) - r^4*e^lamb(r) + 2*r^4)*diff(omega(r), r)^2 + (4*Omega1^2*r^3 - 8*Omega1*r^3*omega(r) + 4*r^3*omega(r)^2 + 3*r^2*e^(lamb(r) + nu(r))*diff(h2(r), r) + 3*r^2*e^(lamb(r) + nu(r))*diff(k2(r), r))*diff(lamb(r), r) + (4*Omega1^2*r^3 - 8*Omega1*r^3*omega(r) + 4*r^3*omega(r)^2 - 6*r^2*e^(lamb(r) + nu(r))*diff(h2(r), r) - 3*r^2*e^(lamb(r) + nu(r))*diff(k2(r), r) + 3*r^2*e^(lamb(r) + nu(r))*diff(m2(r), r) - 12*r*e^(lamb(r) + nu(r))*h2(r) + 4*(Omega1^2*r^4 - 2*Omega1*r^4*omega(r) + r^4*omega(r)^2)*diff(lamb(r), r))*diff(nu(r), r))*cos(th)^2 + 12*(e^(2*lamb(r)) - e^lamb(r))*e^nu(r)*h2(r) - 6*r*e^(lamb(r) + nu(r))*diff(h2(r), r) - 12*r*e^(lamb(r) + nu(r))*diff(k2(r), r) + 6*r*e^(lamb(r) + nu(r))*diff(m2(r), r) + 4*(Omega1^2*r^4 - 2*Omega1*r^4*omega(r) + r^4*omega(r)^2)*diff(nu(r), r)^2 + (2*r^5*diff(nu(r), r) - r^4*e^lamb(r) + 2*r^4)*diff(omega(r), r)^2 + (4*Omega1^2*r^3 - 8*Omega1*r^3*omega(r) + 4*r^3*omega(r)^2 + 3*r^2*e^(lamb(r) + nu(r))*diff(h2(r), r) + 3*r^2*e^(lamb(r) + nu(r))*diff(k2(r), r))*diff(lamb(r), r) + (4*Omega1^2*r^3 - 8*Omega1*r^3*omega(r) + 4*r^3*omega(r)^2 - 6*r^2*e^(lamb(r) + nu(r))*diff(h2(r), r) - 3*r^2*e^(lamb(r) + nu(r))*diff(k2(r), r) + 3*r^2*e^(lamb(r) + nu(r))*diff(m2(r), r) - 12*r*e^(lamb(r) + nu(r))*h2(r) + 4*(Omega1^2*r^4 - 2*Omega1*r^4*omega(r) + r^4*omega(r)^2)*diff(lamb(r), r))*diff(nu(r), r))*e^(-2*lamb(r) - nu(r)) == 0"
      ]
     },
     "execution_count": 40,
     "metadata": {},
     "output_type": "execute_result"
    }
   ],
   "source": [
    "ddEq00 = ddG[3,3] - kappa*ddT[3,3] == 0\n",
    "ddEq00 = ddEq00.simplify_full(); ddEq00"
   ]
  },
  {
   "cell_type": "code",
   "execution_count": null,
   "metadata": {},
   "outputs": [],
   "source": []
  },
  {
   "cell_type": "code",
   "execution_count": null,
   "metadata": {},
   "outputs": [],
   "source": []
  },
  {
   "cell_type": "code",
   "execution_count": null,
   "metadata": {},
   "outputs": [],
   "source": []
  },
  {
   "cell_type": "code",
   "execution_count": 41,
   "metadata": {},
   "outputs": [],
   "source": [
    "# ECUACION 67\n",
    "## dh2k2value = -diff(nu,r)*h2+(1/r+diff(nu,r)/2)*(-2/3*r^3*jj*diff(jj,r)*(omega-Omega1)^2+1/6*jj^2*r^4*diff(omega,r)^2)\n"
   ]
  }
 ],
 "metadata": {
  "kernelspec": {
   "display_name": "SageMath 9.4",
   "language": "sage",
   "name": "sagemath-9.4"
  },
  "language_info": {
   "codemirror_mode": {
    "name": "ipython",
    "version": 3
   },
   "file_extension": ".py",
   "mimetype": "text/x-python",
   "name": "python",
   "nbconvert_exporter": "python",
   "pygments_lexer": "ipython3",
   "version": "3.9.5"
  }
 },
 "nbformat": 4,
 "nbformat_minor": 4
}
