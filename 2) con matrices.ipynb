{
 "cells": [
  {
   "cell_type": "code",
   "execution_count": 1,
   "metadata": {},
   "outputs": [],
   "source": [
    "%display latex"
   ]
  },
  {
   "cell_type": "code",
   "execution_count": 2,
   "metadata": {},
   "outputs": [],
   "source": [
    "var('eps', latex_name = '\\\\varepsilon')\n",
    "var('t')\n",
    "var('r')\n",
    "var('th', latex_name = '\\\\theta')\n",
    "var('ph', latex_name = '\\\\varphi')\n",
    "coords = (t,r,th,ph)\n",
    "\n",
    "h = function('h')(r,th)\n",
    "k = function('k')(r,th)\n",
    "m = function('m')(r,th)\n",
    "\n",
    "omega = function('omega', latex_name='\\\\omega')(r)\n",
    "\n",
    "nu = function('nu', latex_name='\\\\nu')(r)\n",
    "lamb = function('lamb', latex_name='\\\\lambda')(r)\n",
    "\n",
    "Omegae = function('Omegae', latex_name='\\\\Omega_{\\\\varepsilon}')(eps)\n",
    "Ne = function('Ne', latex_name='N_e')(r,th,eps)"
   ]
  },
  {
   "cell_type": "code",
   "execution_count": 3,
   "metadata": {},
   "outputs": [],
   "source": [
    "gdd = matrix(SR, 4, 4)\n",
    "\n",
    "gdd[0,0] = -exp(nu)\n",
    "gdd[1,1] = exp(lamb)\n",
    "gdd[2,2] = r^2\n",
    "gdd[3,3] = r^2*sin(th)^2\n",
    "\n",
    "guu = 1/gdd\n",
    "\n",
    "K1 = matrix(SR, 4, 4)\n",
    "K1[0,3] = -omega*r^2*sin(th)^2\n",
    "K1[3,0] = -omega*r^2*sin(th)^2\n",
    "\n",
    "K2 = matrix(SR, 4, 4)\n",
    "K2[0,0] = -4*exp(nu)*h + 2*r^2*sin(th)^2*omega^2\n",
    "K2[1,1] = 4*exp(lamb)*m\n",
    "K2[2,2] = 4*k*r^2\n",
    "K2[3,3] = 4*k*r^2*sin(th)^2"
   ]
  },
  {
   "cell_type": "code",
   "execution_count": 4,
   "metadata": {},
   "outputs": [],
   "source": [
    "gedd = matrix(SR, 4, 4)\n",
    "for ii in range(0,4):\n",
    "    for jj in range(0,4):\n",
    "        gedd[ii,jj] = gdd[ii,jj] + eps*K1[ii,jj] + 1/2*eps^2*K2[ii,jj]\n",
    "        \n",
    "geuu = 1/gedd\n",
    "    \n",
    "chris = [[[0 for kk in range(0,4)] for jj in range(0,4)] for ii in range(0,4)]\n",
    "for ii in range(0,4):\n",
    "    for jj in range(0,4):\n",
    "        for kk in range(0,4):\n",
    "            chris[ii][jj][kk] = 0.5*sum(geuu[ii,dd]*(diff(gedd[dd,jj],coords[kk])\n",
    "                                                   + diff(gedd[dd,kk],coords[jj])\n",
    "                                                   - diff(gedd[jj,kk],coords[dd])) for dd in range(0,4))\n",
    "\n",
    "riem = [[[[0 for ll in range(0,4)] for kk in range(0,4)] for jj in range(0,4)] for ii in range(0,4)]\n",
    "for ii in range(0,4):\n",
    "    for jj in range(0,4):\n",
    "        for kk in range(0,4):\n",
    "            for ll in range(0,4):\n",
    "                riem[ii][jj][kk][ll] = (diff(chris[ii][jj][ll],coords[kk])\n",
    "                                      - diff(chris[ii][jj][kk],coords[ll])\n",
    "                                      + sum(chris[ii][kk][dd]*chris[dd][ll][jj]\n",
    "                                      - chris[ii][ll][dd]*chris[dd][kk][jj] for dd in range(0,4)))\n",
    "\n",
    "ricci = matrix(SR, 4, 4)\n",
    "for ii in range(0,4):\n",
    "    for kk in range(0,4):\n",
    "        ricci[ii,kk] = sum(riem[dd][ii][dd][kk] for dd in range(0,4))\n",
    "\n",
    "s_curv = sum(sum(ricci[ii,jj]*geuu[ii,jj] for ii in range(0,4)) for jj in range(0,4))\n",
    "\n",
    "Ge = matrix(SR, 4, 4)\n",
    "Ge = ricci - 0.5*gedd*s_curv\n",
    "\n",
    "dGe = matrix(SR, 4, 4)\n",
    "ddGe = matrix(SR, 4, 4)\n",
    "for ii in range(0,4):\n",
    "    for jj in range(0,4):\n",
    "        dGe[ii,jj] = diff(Ge[ii,jj],eps)\n",
    "        ddGe[ii,jj] = diff(Ge[ii,jj],eps,eps)"
   ]
  },
  {
   "cell_type": "code",
   "execution_count": 5,
   "metadata": {
    "scrolled": false
   },
   "outputs": [
    {
     "data": {
      "text/html": [
       "<html>\\[\\newcommand{\\Bold}[1]{\\mathbf{#1}}\\verb|ge0|\\phantom{\\verb!x!}\\verb|=| \\left(\\begin{array}{rrrr}\n",
       "-e^{\\nu\\left(r\\right)} & 0 & 0 & 0 \\\\\n",
       "0 & e^{\\lambda\\left(r\\right)} & 0 & 0 \\\\\n",
       "0 & 0 & r^{2} & 0 \\\\\n",
       "0 & 0 & 0 & r^{2} \\sin\\left({\\theta}\\right)^{2}\n",
       "\\end{array}\\right)\\]</html>"
      ],
      "text/latex": [
       "$$\\newcommand{\\Bold}[1]{\\mathbf{#1}}\\verb|ge0|\\phantom{\\verb!x!}\\verb|=| \\left(\\begin{array}{rrrr}\n",
       "-e^{\\nu\\left(r\\right)} & 0 & 0 & 0 \\\\\n",
       "0 & e^{\\lambda\\left(r\\right)} & 0 & 0 \\\\\n",
       "0 & 0 & r^{2} & 0 \\\\\n",
       "0 & 0 & 0 & r^{2} \\sin\\left({\\theta}\\right)^{2}\n",
       "\\end{array}\\right)$$"
      ],
      "text/plain": [
       "'ge0 = ' [     -e^nu(r)             0             0             0]\n",
       "[            0     e^lamb(r)             0             0]\n",
       "[            0             0           r^2             0]\n",
       "[            0             0             0 r^2*sin(th)^2]"
      ]
     },
     "metadata": {},
     "output_type": "display_data"
    },
    {
     "data": {
      "text/html": [
       "<html>\\[\\newcommand{\\Bold}[1]{\\mathbf{#1}}\\verb|K1|\\phantom{\\verb!x!}\\verb|=| \\left(\\begin{array}{rrrr}\n",
       "0 & 0 & 0 & -r^{2} \\omega\\left(r\\right) \\sin\\left({\\theta}\\right)^{2} \\\\\n",
       "0 & 0 & 0 & 0 \\\\\n",
       "0 & 0 & 0 & 0 \\\\\n",
       "-r^{2} \\omega\\left(r\\right) \\sin\\left({\\theta}\\right)^{2} & 0 & 0 & 0\n",
       "\\end{array}\\right)\\]</html>"
      ],
      "text/latex": [
       "$$\\newcommand{\\Bold}[1]{\\mathbf{#1}}\\verb|K1|\\phantom{\\verb!x!}\\verb|=| \\left(\\begin{array}{rrrr}\n",
       "0 & 0 & 0 & -r^{2} \\omega\\left(r\\right) \\sin\\left({\\theta}\\right)^{2} \\\\\n",
       "0 & 0 & 0 & 0 \\\\\n",
       "0 & 0 & 0 & 0 \\\\\n",
       "-r^{2} \\omega\\left(r\\right) \\sin\\left({\\theta}\\right)^{2} & 0 & 0 & 0\n",
       "\\end{array}\\right)$$"
      ],
      "text/plain": [
       "'K1 = ' [                      0                       0                       0 -r^2*omega(r)*sin(th)^2]\n",
       "[                      0                       0                       0                       0]\n",
       "[                      0                       0                       0                       0]\n",
       "[-r^2*omega(r)*sin(th)^2                       0                       0                       0]"
      ]
     },
     "metadata": {},
     "output_type": "display_data"
    },
    {
     "data": {
      "text/html": [
       "<html>\\[\\newcommand{\\Bold}[1]{\\mathbf{#1}}\\verb|K2|\\phantom{\\verb!x!}\\verb|=| \\left(\\begin{array}{rrrr}\n",
       "2 \\, r^{2} \\omega\\left(r\\right)^{2} \\sin\\left({\\theta}\\right)^{2} - 4 \\, e^{\\nu\\left(r\\right)} h\\left(r, {\\theta}\\right) & 0 & 0 & 0 \\\\\n",
       "0 & 4 \\, e^{\\lambda\\left(r\\right)} m\\left(r, {\\theta}\\right) & 0 & 0 \\\\\n",
       "0 & 0 & 4 \\, r^{2} k\\left(r, {\\theta}\\right) & 0 \\\\\n",
       "0 & 0 & 0 & 4 \\, r^{2} k\\left(r, {\\theta}\\right) \\sin\\left({\\theta}\\right)^{2}\n",
       "\\end{array}\\right)\\]</html>"
      ],
      "text/latex": [
       "$$\\newcommand{\\Bold}[1]{\\mathbf{#1}}\\verb|K2|\\phantom{\\verb!x!}\\verb|=| \\left(\\begin{array}{rrrr}\n",
       "2 \\, r^{2} \\omega\\left(r\\right)^{2} \\sin\\left({\\theta}\\right)^{2} - 4 \\, e^{\\nu\\left(r\\right)} h\\left(r, {\\theta}\\right) & 0 & 0 & 0 \\\\\n",
       "0 & 4 \\, e^{\\lambda\\left(r\\right)} m\\left(r, {\\theta}\\right) & 0 & 0 \\\\\n",
       "0 & 0 & 4 \\, r^{2} k\\left(r, {\\theta}\\right) & 0 \\\\\n",
       "0 & 0 & 0 & 4 \\, r^{2} k\\left(r, {\\theta}\\right) \\sin\\left({\\theta}\\right)^{2}\n",
       "\\end{array}\\right)$$"
      ],
      "text/plain": [
       "'K2 = ' [2*r^2*omega(r)^2*sin(th)^2 - 4*e^nu(r)*h(r, th)                                               0                                               0                                               0]\n",
       "[                                              0                            4*e^lamb(r)*m(r, th)                                               0                                               0]\n",
       "[                                              0                                               0                                  4*r^2*k(r, th)                                               0]\n",
       "[                                              0                                               0                                               0                        4*r^2*k(r, th)*sin(th)^2]"
      ]
     },
     "metadata": {},
     "output_type": "display_data"
    },
    {
     "data": {
      "text/html": [
       "<html>\\[\\newcommand{\\Bold}[1]{\\mathbf{#1}}\\verb|ge|\\phantom{\\verb!x!}\\verb|=| \\left(\\begin{array}{rrrr}\n",
       "{\\left(r^{2} \\omega\\left(r\\right)^{2} \\sin\\left({\\theta}\\right)^{2} - 2 \\, e^{\\nu\\left(r\\right)} h\\left(r, {\\theta}\\right)\\right)} {\\varepsilon}^{2} - e^{\\nu\\left(r\\right)} & 0 & 0 & -{\\varepsilon} r^{2} \\omega\\left(r\\right) \\sin\\left({\\theta}\\right)^{2} \\\\\n",
       "0 & 2 \\, {\\varepsilon}^{2} e^{\\lambda\\left(r\\right)} m\\left(r, {\\theta}\\right) + e^{\\lambda\\left(r\\right)} & 0 & 0 \\\\\n",
       "0 & 0 & 2 \\, {\\varepsilon}^{2} r^{2} k\\left(r, {\\theta}\\right) + r^{2} & 0 \\\\\n",
       "-{\\varepsilon} r^{2} \\omega\\left(r\\right) \\sin\\left({\\theta}\\right)^{2} & 0 & 0 & 2 \\, {\\varepsilon}^{2} r^{2} k\\left(r, {\\theta}\\right) \\sin\\left({\\theta}\\right)^{2} + r^{2} \\sin\\left({\\theta}\\right)^{2}\n",
       "\\end{array}\\right)\\]</html>"
      ],
      "text/latex": [
       "$$\\newcommand{\\Bold}[1]{\\mathbf{#1}}\\verb|ge|\\phantom{\\verb!x!}\\verb|=| \\left(\\begin{array}{rrrr}\n",
       "{\\left(r^{2} \\omega\\left(r\\right)^{2} \\sin\\left({\\theta}\\right)^{2} - 2 \\, e^{\\nu\\left(r\\right)} h\\left(r, {\\theta}\\right)\\right)} {\\varepsilon}^{2} - e^{\\nu\\left(r\\right)} & 0 & 0 & -{\\varepsilon} r^{2} \\omega\\left(r\\right) \\sin\\left({\\theta}\\right)^{2} \\\\\n",
       "0 & 2 \\, {\\varepsilon}^{2} e^{\\lambda\\left(r\\right)} m\\left(r, {\\theta}\\right) + e^{\\lambda\\left(r\\right)} & 0 & 0 \\\\\n",
       "0 & 0 & 2 \\, {\\varepsilon}^{2} r^{2} k\\left(r, {\\theta}\\right) + r^{2} & 0 \\\\\n",
       "-{\\varepsilon} r^{2} \\omega\\left(r\\right) \\sin\\left({\\theta}\\right)^{2} & 0 & 0 & 2 \\, {\\varepsilon}^{2} r^{2} k\\left(r, {\\theta}\\right) \\sin\\left({\\theta}\\right)^{2} + r^{2} \\sin\\left({\\theta}\\right)^{2}\n",
       "\\end{array}\\right)$$"
      ],
      "text/plain": [
       "'ge = ' [(r^2*omega(r)^2*sin(th)^2 - 2*e^nu(r)*h(r, th))*eps^2 - e^nu(r)                                                               0                                                               0                                     -eps*r^2*omega(r)*sin(th)^2]\n",
       "[                                                              0                          2*eps^2*e^lamb(r)*m(r, th) + e^lamb(r)                                                               0                                                               0]\n",
       "[                                                              0                                                               0                                      2*eps^2*r^2*k(r, th) + r^2                                                               0]\n",
       "[                                    -eps*r^2*omega(r)*sin(th)^2                                                               0                                                               0                  2*eps^2*r^2*k(r, th)*sin(th)^2 + r^2*sin(th)^2]"
      ]
     },
     "metadata": {},
     "output_type": "display_data"
    }
   ],
   "source": [
    "show(\"ge0 = \", gdd[:])\n",
    "show(\"K1 = \", K1[:])\n",
    "show(\"K2 = \", K2[:])\n",
    "show(\"ge = \", gedd[:])"
   ]
  },
  {
   "cell_type": "code",
   "execution_count": 6,
   "metadata": {},
   "outputs": [
    {
     "data": {
      "text/html": [
       "<html>\\[\\newcommand{\\Bold}[1]{\\mathbf{#1}}u^{(1)} =  \\left[0, 0, 0, {\\Omega^{(1)}} e^{\\left(-\\frac{1}{2} \\, \\nu\\left(r\\right)\\right)}\\right] \\rightarrow \\mathrm{True}\\]</html>"
      ],
      "text/latex": [
       "$$\\newcommand{\\Bold}[1]{\\mathbf{#1}}u^{(1)} =  \\left[0, 0, 0, {\\Omega^{(1)}} e^{\\left(-\\frac{1}{2} \\, \\nu\\left(r\\right)\\right)}\\right] \\rightarrow \\mathrm{True}$$"
      ],
      "text/plain": [
       "u^{(1)} =  [0, 0, 0, Omega1*e^(-1/2*nu(r))] \\rightarrow True"
      ]
     },
     "metadata": {},
     "output_type": "display_data"
    },
    {
     "data": {
      "text/html": [
       "<html>\\[\\newcommand{\\Bold}[1]{\\mathbf{#1}}u^{(2)} =  \\left[{\\left({\\left({\\Omega^{(1)}}^{2} r^{2} - 2 \\, {\\Omega^{(1)}} r^{2} \\omega\\left(r\\right) + r^{2} \\omega\\left(r\\right)^{2}\\right)} \\sin\\left({\\theta}\\right)^{2} - 2 \\, e^{\\nu\\left(r\\right)} h\\left(r, {\\theta}\\right)\\right)} e^{\\left(-\\frac{3}{2} \\, \\nu\\left(r\\right)\\right)}, 0, 0, 0\\right] \\rightarrow \\mathrm{True}\\]</html>"
      ],
      "text/latex": [
       "$$\\newcommand{\\Bold}[1]{\\mathbf{#1}}u^{(2)} =  \\left[{\\left({\\left({\\Omega^{(1)}}^{2} r^{2} - 2 \\, {\\Omega^{(1)}} r^{2} \\omega\\left(r\\right) + r^{2} \\omega\\left(r\\right)^{2}\\right)} \\sin\\left({\\theta}\\right)^{2} - 2 \\, e^{\\nu\\left(r\\right)} h\\left(r, {\\theta}\\right)\\right)} e^{\\left(-\\frac{3}{2} \\, \\nu\\left(r\\right)\\right)}, 0, 0, 0\\right] \\rightarrow \\mathrm{True}$$"
      ],
      "text/plain": [
       "u^{(2)} =  [((Omega1^2*r^2 - 2*Omega1*r^2*omega(r) + r^2*omega(r)^2)*sin(th)^2 - 2*e^nu(r)*h(r, th))*e^(-3/2*nu(r)),\n",
       " 0,\n",
       " 0,\n",
       " 0] \\rightarrow True"
      ]
     },
     "metadata": {},
     "output_type": "display_data"
    }
   ],
   "source": [
    "ue = [0,0,0,0]\n",
    "u = [0,0,0,0]\n",
    "\n",
    "ue[0] = Ne;         ue[1] = 0;   ue[2] = 0;   ue[3] = Ne*Omegae\n",
    "u[0] = exp(-nu/2);  u[1] =  0;   u[2] = 0;    u[3] =  0\n",
    "\n",
    "Ne_value = solve(u[0]==ue[0], Ne)[0].rhs()\n",
    "Omegae_value = solve(u[3]==ue[3], Omegae)[0].rhs()\n",
    "\n",
    "u1 = [0,0,0,0]\n",
    "u2 = [0,0,0,0]\n",
    "\n",
    "u10 = function('u10',latex_name=\"u^{(1)0}\")(r,th)\n",
    "u20 = function('u20',latex_name=\"u^{(2)0}\")(r,th)\n",
    "\n",
    "var('Omega1', latex_name=\"\\\\Omega^{(1)}\")\n",
    "\n",
    "sus_func = [eps == 0,\n",
    "            Ne.subs(eps==0) == Ne_value,\n",
    "            Omegae.subs(eps==0) == Omegae_value,\n",
    "            diff(Ne,eps,eps).subs(eps==0) == u20,\n",
    "            diff(Omegae,eps,eps).subs(eps==0) == 0, #En nuestro gauge Omega2=0\n",
    "            diff(Ne,eps).subs(eps==0) == u10,\n",
    "            diff(Omegae,eps).subs(eps==0) == Omega1]\n",
    "\n",
    "for ii in range(0,4):\n",
    "    u1[ii] = diff(ue[ii],eps)\n",
    "    u2[ii] = diff(ue[ii],eps,eps)\n",
    "\n",
    "Ue = [0,0,0,0]\n",
    "for ii in range(0,4):\n",
    "    for jj in range(0,4):\n",
    "        Ue[ii] += ue[jj]*gedd[jj,ii]\n",
    "\n",
    "geUeue = 0\n",
    "for ii in range(0,4):\n",
    "    geUeue += Ue[ii]*ue[ii]\n",
    "\n",
    "ddgeUeue = diff(geUeue, eps, eps).subs(sus_func) == 0\n",
    "u20_value = solve(ddgeUeue, u20)[0].rhs()\n",
    "\n",
    "dgeUeue = diff(geUeue, eps).subs(sus_func) == 0\n",
    "u10_value = solve(dgeUeue, u10)[0].rhs()\n",
    "\n",
    "sus_func.extend([u20 == u20_value,\n",
    "                 u10 == u10_value])\n",
    "\n",
    "for ii in range(0,4):\n",
    "    for jj in range(0,len(sus_func)):\n",
    "        u1[ii] = u1[ii].subs(sus_func[jj])\n",
    "        u2[ii] = u2[ii].subs(sus_func[jj])\n",
    "\n",
    "u1_paper = [0,0,0,0]\n",
    "u1_paper[0] = 1/2*e^(-3*nu/2)*K1[0,0]\n",
    "u1_paper[3] = e^(-nu/2)*Omega1\n",
    "\n",
    "u2_paper = [0,0,0,0]\n",
    "u2_paper[0] = e^(-3*nu/2)*(1/2*K2[0,0]+3/4*e^(-nu)*K1[0,0]+2*Omega1*K1[0,3]+Omega1^2*r^2*sin(th)^2)\n",
    "u2_paper[3] = e^(-nu/2)*(e^(-nu)*K1[0,0]*Omega1)  \n",
    "\n",
    "u1_check = [ii-jj for (ii,jj) in zip(u1, u1_paper)]\n",
    "u2_check = [ii-jj for (ii,jj) in zip(u2, u2_paper)]\n",
    "\n",
    "show(LatexExpr(\"u^{(1)} = \"), u1, LatexExpr(\"\\\\rightarrow\"), u1_check==[0,0,0,0])\n",
    "show(LatexExpr(\"u^{(2)} = \"), u2, LatexExpr(\"\\\\rightarrow\"), u2_check==[0,0,0,0])"
   ]
  },
  {
   "cell_type": "code",
   "execution_count": 7,
   "metadata": {},
   "outputs": [],
   "source": [
    "Ee = function('Ee', latex_name='E_{\\\\varepsilon}')(r,th,eps)\n",
    "Pe = function('Pe', latex_name='P_{\\\\varepsilon}')(r,th,eps)\n",
    "\n",
    "Te = matrix(SR, 4, 4)\n",
    "dTe = matrix(SR, 4, 4)\n",
    "ddTe = matrix(SR, 4, 4)\n",
    "for ii in range(0,4):\n",
    "    for jj in range(0,4):\n",
    "        Te[ii,jj] = (Ee+Pe)*Ue[ii]*Ue[jj]+Pe*gedd[ii,jj]\n",
    "        dTe[ii,jj] = diff(Te[ii,jj],eps)\n",
    "        ddTe[ii,jj] = diff(Te[ii,jj],eps,eps)"
   ]
  },
  {
   "cell_type": "code",
   "execution_count": 8,
   "metadata": {},
   "outputs": [],
   "source": [
    "kappa = 8*pi\n",
    "E = function('E')(r,th)\n",
    "P = function('P')(r,th)\n",
    "\n",
    "sus_func.extend([Ee.subs(eps==0) == E,\n",
    "                 Pe.subs(eps==0) == P])\n",
    "\n",
    "G = copy(Ge)\n",
    "T = copy(Te)\n",
    "for ii in range(0,len(sus_func)):\n",
    "    G = G.subs(sus_func[ii])\n",
    "    T = T.subs(sus_func[ii])"
   ]
  },
  {
   "cell_type": "code",
   "execution_count": 9,
   "metadata": {},
   "outputs": [
    {
     "data": {
      "text/html": [
       "<html>\\[\\newcommand{\\Bold}[1]{\\mathbf{#1}}T_{\\varepsilon}\\lvert_0 = \\left(\\begin{array}{rrrr}\n",
       "{\\left(E\\left(r, {\\theta}\\right) + P\\left(r, {\\theta}\\right)\\right)} e^{\\nu\\left(r\\right)} - P\\left(r, {\\theta}\\right) e^{\\nu\\left(r\\right)} & 0 & 0 & 0 \\\\\n",
       "0 & P\\left(r, {\\theta}\\right) e^{\\lambda\\left(r\\right)} & 0 & 0 \\\\\n",
       "0 & 0 & r^{2} P\\left(r, {\\theta}\\right) & 0 \\\\\n",
       "0 & 0 & 0 & r^{2} P\\left(r, {\\theta}\\right) \\sin\\left({\\theta}\\right)^{2}\n",
       "\\end{array}\\right)\\]</html>"
      ],
      "text/latex": [
       "$$\\newcommand{\\Bold}[1]{\\mathbf{#1}}T_{\\varepsilon}\\lvert_0 = \\left(\\begin{array}{rrrr}\n",
       "{\\left(E\\left(r, {\\theta}\\right) + P\\left(r, {\\theta}\\right)\\right)} e^{\\nu\\left(r\\right)} - P\\left(r, {\\theta}\\right) e^{\\nu\\left(r\\right)} & 0 & 0 & 0 \\\\\n",
       "0 & P\\left(r, {\\theta}\\right) e^{\\lambda\\left(r\\right)} & 0 & 0 \\\\\n",
       "0 & 0 & r^{2} P\\left(r, {\\theta}\\right) & 0 \\\\\n",
       "0 & 0 & 0 & r^{2} P\\left(r, {\\theta}\\right) \\sin\\left({\\theta}\\right)^{2}\n",
       "\\end{array}\\right)$$"
      ],
      "text/plain": [
       "T_{\\varepsilon}\\lvert_0 = [(E(r, th) + P(r, th))*e^nu(r) - P(r, th)*e^nu(r)                                                0                                                0                                                0]\n",
       "[                                               0                               P(r, th)*e^lamb(r)                                                0                                                0]\n",
       "[                                               0                                                0                                     r^2*P(r, th)                                                0]\n",
       "[                                               0                                                0                                                0                           r^2*P(r, th)*sin(th)^2]"
      ]
     },
     "metadata": {},
     "output_type": "display_data"
    }
   ],
   "source": [
    "show(LatexExpr(\"T_{\\\\varepsilon}\\lvert_0 =\"), T)"
   ]
  },
  {
   "cell_type": "code",
   "execution_count": 10,
   "metadata": {},
   "outputs": [
    {
     "data": {
      "text/html": [
       "<html>\\[\\newcommand{\\Bold}[1]{\\mathbf{#1}}E =  \\frac{{\\left(r \\frac{\\partial}{\\partial r}\\lambda\\left(r\\right) + e^{\\lambda\\left(r\\right)} - 1\\right)} e^{\\left(-\\lambda\\left(r\\right)\\right)}}{8 \\, \\pi r^{2}} \\rightarrow \\mathrm{True}\\]</html>"
      ],
      "text/latex": [
       "$$\\newcommand{\\Bold}[1]{\\mathbf{#1}}E =  \\frac{{\\left(r \\frac{\\partial}{\\partial r}\\lambda\\left(r\\right) + e^{\\lambda\\left(r\\right)} - 1\\right)} e^{\\left(-\\lambda\\left(r\\right)\\right)}}{8 \\, \\pi r^{2}} \\rightarrow \\mathrm{True}$$"
      ],
      "text/plain": [
       "E =  1/8*(r*diff(lamb(r), r) + e^lamb(r) - 1)*e^(-lamb(r))/(pi*r^2) \\rightarrow True"
      ]
     },
     "metadata": {},
     "output_type": "display_data"
    },
    {
     "data": {
      "text/html": [
       "<html>\\[\\newcommand{\\Bold}[1]{\\mathbf{#1}}P =  \\frac{{\\left(r \\frac{\\partial}{\\partial r}\\nu\\left(r\\right) - e^{\\lambda\\left(r\\right)} + 1\\right)} e^{\\left(-\\lambda\\left(r\\right)\\right)}}{8 \\, \\pi r^{2}} \\rightarrow \\mathrm{True}\\]</html>"
      ],
      "text/latex": [
       "$$\\newcommand{\\Bold}[1]{\\mathbf{#1}}P =  \\frac{{\\left(r \\frac{\\partial}{\\partial r}\\nu\\left(r\\right) - e^{\\lambda\\left(r\\right)} + 1\\right)} e^{\\left(-\\lambda\\left(r\\right)\\right)}}{8 \\, \\pi r^{2}} \\rightarrow \\mathrm{True}$$"
      ],
      "text/plain": [
       "P =  1/8*(r*diff(nu(r), r) - e^lamb(r) + 1)*e^(-lamb(r))/(pi*r^2) \\rightarrow True"
      ]
     },
     "metadata": {},
     "output_type": "display_data"
    },
    {
     "data": {
      "text/html": [
       "<html>\\[\\newcommand{\\Bold}[1]{\\mathbf{#1}}\\nu'' = -\\frac{r^{2} \\frac{\\partial}{\\partial r}\\nu\\left(r\\right)^{2} - 2 \\, r \\frac{\\partial}{\\partial r}\\lambda\\left(r\\right) - {\\left(r^{2} \\frac{\\partial}{\\partial r}\\lambda\\left(r\\right) + 2 \\, r\\right)} \\frac{\\partial}{\\partial r}\\nu\\left(r\\right) + 4 \\, e^{\\lambda\\left(r\\right)} - 4}{2 \\, r^{2}} \\rightarrow \\mathrm{True}\\]</html>"
      ],
      "text/latex": [
       "$$\\newcommand{\\Bold}[1]{\\mathbf{#1}}\\nu'' = -\\frac{r^{2} \\frac{\\partial}{\\partial r}\\nu\\left(r\\right)^{2} - 2 \\, r \\frac{\\partial}{\\partial r}\\lambda\\left(r\\right) - {\\left(r^{2} \\frac{\\partial}{\\partial r}\\lambda\\left(r\\right) + 2 \\, r\\right)} \\frac{\\partial}{\\partial r}\\nu\\left(r\\right) + 4 \\, e^{\\lambda\\left(r\\right)} - 4}{2 \\, r^{2}} \\rightarrow \\mathrm{True}$$"
      ],
      "text/plain": [
       "\\nu'' = -1/2*(r^2*diff(nu(r), r)^2 - 2*r*diff(lamb(r), r) - (r^2*diff(lamb(r), r) + 2*r)*diff(nu(r), r) + 4*e^lamb(r) - 4)/r^2 \\rightarrow True"
      ]
     },
     "metadata": {},
     "output_type": "display_data"
    }
   ],
   "source": [
    "E_value = solve(G[0,0] == kappa*T[0,0], E)[0].rhs().simplify_full()\n",
    "P_value_11 = solve(G[1,1] == kappa*T[1,1], P)[0].rhs().simplify_full()\n",
    "P_value_22 = solve(G[2,2] == kappa*T[2,2], P)[0].rhs().simplify_full()\n",
    "P_value_33 = solve(G[3,3] == kappa*T[3,3], P)[0].rhs().simplify_full()\n",
    "ddnu_value = solve(P_value_11 == P_value_22, diff(nu,r,r))[0].rhs()\n",
    "\n",
    "sus_func.extend([E == E_value,\n",
    "                 diff(E,r) == diff(E_value,r),\n",
    "                 P == P_value_11,\n",
    "                 diff(P,r) == diff(P_value_11,r),\n",
    "                 diff(nu,r,r) == ddnu_value])\n",
    "\n",
    "E_paper = diff(lamb,r) - 1/r*(1-e^(lamb)) - r*e^(lamb)*8*pi*E == 0\n",
    "E_paper = solve(E_paper, E)[0].rhs()\n",
    "E_check = E_value - E_paper\n",
    "\n",
    "P_paper = diff(nu,r) - 1/r*(-1+e^(lamb)) - r*e^(lamb)*8*pi*P == 0\n",
    "P_paper = solve(P_paper, P)[0].rhs()\n",
    "P_check = P_value_11 - P_paper\n",
    "\n",
    "ddnu_paper = 2*r*diff(nu,r,r) + diff(nu,r)*(r*diff(nu,r)-2)-diff(lamb,r)*(2+r*diff(nu,r))+4/r*(e^(lamb)-1) == 0\n",
    "ddnu_paper = solve(ddnu_paper, diff(nu,r,r))[0].rhs()\n",
    "ddnu_check = ddnu_value - ddnu_paper\n",
    "\n",
    "show(LatexExpr(\"E = \"), E_value, LatexExpr(\"\\\\rightarrow\"), bool(E_check==0))\n",
    "show(LatexExpr(\"P = \"), P_value_11, LatexExpr(\"\\\\rightarrow\"), bool(P_check==0))\n",
    "show(LatexExpr(\"\\\\nu'' =\"), ddnu_value, LatexExpr(\"\\\\rightarrow\"), bool(ddnu_check==0))"
   ]
  },
  {
   "cell_type": "markdown",
   "metadata": {},
   "source": [
    "## Primera derivada"
   ]
  },
  {
   "cell_type": "code",
   "execution_count": 11,
   "metadata": {},
   "outputs": [],
   "source": [
    "E1 = function('E1', latex_name='E^{(1)}')(r,th)\n",
    "P1 = function('P1', latex_name='P^{(1)}')(r,th)\n",
    "\n",
    "sus_func.extend([diff(Ee,eps).subs(eps==0) == E1,\n",
    "                 diff(Pe,eps).subs(eps==0) == P1])\n",
    "\n",
    "dG = copy(dGe)\n",
    "dT = copy(dTe)\n",
    "for ii in range(0,len(sus_func)):\n",
    "    dG = dG.subs(sus_func[ii])\n",
    "    dT = dT.subs(sus_func[ii])"
   ]
  },
  {
   "cell_type": "code",
   "execution_count": 12,
   "metadata": {},
   "outputs": [
    {
     "data": {
      "text/html": [
       "<html>\\[\\newcommand{\\Bold}[1]{\\mathbf{#1}}E^{(1)} =  0 \\rightarrow \\mathrm{True}\\]</html>"
      ],
      "text/latex": [
       "$$\\newcommand{\\Bold}[1]{\\mathbf{#1}}E^{(1)} =  0 \\rightarrow \\mathrm{True}$$"
      ],
      "text/plain": [
       "E^{(1)} =  0 \\rightarrow True"
      ]
     },
     "metadata": {},
     "output_type": "display_data"
    }
   ],
   "source": [
    "dEq_00 = dG[0,0] - kappa*dT[0,0] == 0\n",
    "\n",
    "for ii in range(0,len(sus_func)):\n",
    "    dEq_00 = dEq_00.subs(sus_func[ii])\n",
    "\n",
    "E1_value = solve(dEq_00,E1)[0].rhs().simplify_full()\n",
    "sus_func.extend([E1==E1_value])\n",
    "\n",
    "E1_paper = 0\n",
    "E1_check = E1_value - E1_paper\n",
    "\n",
    "show(LatexExpr(\"E^{(1)} = \"), E1_value, LatexExpr(\"\\\\rightarrow\"), bool(E1_check==0))"
   ]
  },
  {
   "cell_type": "code",
   "execution_count": 13,
   "metadata": {
    "scrolled": true
   },
   "outputs": [
    {
     "data": {
      "text/html": [
       "<html>\\[\\newcommand{\\Bold}[1]{\\mathbf{#1}}P^{(1)} =  0 \\rightarrow \\mathrm{True}\\]</html>"
      ],
      "text/latex": [
       "$$\\newcommand{\\Bold}[1]{\\mathbf{#1}}P^{(1)} =  0 \\rightarrow \\mathrm{True}$$"
      ],
      "text/plain": [
       "P^{(1)} =  0 \\rightarrow True"
      ]
     },
     "metadata": {},
     "output_type": "display_data"
    }
   ],
   "source": [
    "dEq_11 = dG[1,1] - kappa*dT[1,1] == 0\n",
    "dEq_22 = dG[2,2] - kappa*dT[2,2] == 0\n",
    "dEq_33 = dG[3,3] - kappa*dT[3,3] == 0\n",
    "\n",
    "P1_value = solve(dEq_11,P1)[0].rhs().simplify_full()\n",
    "sus_func.extend([P1==P1_value])\n",
    "\n",
    "P1_paper = 0\n",
    "P1_check = P1_value - P1_paper\n",
    "\n",
    "show(LatexExpr(\"P^{(1)} = \"), P1_value, LatexExpr(\"\\\\rightarrow\"), bool(P1_check==0))"
   ]
  },
  {
   "cell_type": "code",
   "execution_count": 14,
   "metadata": {},
   "outputs": [
    {
     "data": {
      "text/html": [
       "<html>\\[\\newcommand{\\Bold}[1]{\\mathbf{#1}}\\omega'' =  -\\frac{4 \\, {\\left({\\Omega^{(1)}} - \\omega\\left(r\\right)\\right)} \\frac{\\partial}{\\partial r}\\lambda\\left(r\\right) + 4 \\, {\\left({\\Omega^{(1)}} - \\omega\\left(r\\right)\\right)} \\frac{\\partial}{\\partial r}\\nu\\left(r\\right) - {\\left(r \\frac{\\partial}{\\partial r}\\lambda\\left(r\\right) + r \\frac{\\partial}{\\partial r}\\nu\\left(r\\right) - 8\\right)} \\frac{\\partial}{\\partial r}\\omega\\left(r\\right)}{2 \\, r} \\rightarrow \\mathrm{True}\\]</html>"
      ],
      "text/latex": [
       "$$\\newcommand{\\Bold}[1]{\\mathbf{#1}}\\omega'' =  -\\frac{4 \\, {\\left({\\Omega^{(1)}} - \\omega\\left(r\\right)\\right)} \\frac{\\partial}{\\partial r}\\lambda\\left(r\\right) + 4 \\, {\\left({\\Omega^{(1)}} - \\omega\\left(r\\right)\\right)} \\frac{\\partial}{\\partial r}\\nu\\left(r\\right) - {\\left(r \\frac{\\partial}{\\partial r}\\lambda\\left(r\\right) + r \\frac{\\partial}{\\partial r}\\nu\\left(r\\right) - 8\\right)} \\frac{\\partial}{\\partial r}\\omega\\left(r\\right)}{2 \\, r} \\rightarrow \\mathrm{True}$$"
      ],
      "text/plain": [
       "\\omega'' =  -1/2*(4*(Omega1 - omega(r))*diff(lamb(r), r) + 4*(Omega1 - omega(r))*diff(nu(r), r) - (r*diff(lamb(r), r) + r*diff(nu(r), r) - 8)*diff(omega(r), r))/r \\rightarrow True"
      ]
     },
     "metadata": {},
     "output_type": "display_data"
    }
   ],
   "source": [
    "dEq_03 = dG[0,3] - kappa*dT[0,3] == 0\n",
    "\n",
    "for ii in range(0,len(sus_func)):\n",
    "    dEq_03 = dEq_03.subs(sus_func[ii])\n",
    "\n",
    "ddomega_value = solve(dEq_03, diff(omega,r,r))[0].rhs().simplify_full()\n",
    "sus_func.extend([diff(omega,r,r) == ddomega_value])\n",
    "\n",
    "j = e^(-(lamb+nu)/2)\n",
    "dEq_03_paper = diff(r^4*j*diff(omega,r),r)\\\n",
    "              + (r^2*j*e^(lamb)/sin(th)^3)*diff(sin(th)^3*diff(omega,th),th)\\\n",
    "              + 4*r^3*diff(j,r)*(omega-Omega1) == 0\n",
    "\n",
    "ddomega_paper = solve(dEq_03_paper, diff(omega,r,r))[0].rhs()\n",
    "ddomega_check = ddomega_value - ddomega_paper\n",
    "show(LatexExpr(\"\\\\omega'' = \"), ddomega_value, LatexExpr(\"\\\\rightarrow\"), bool(ddomega_check==0))"
   ]
  },
  {
   "cell_type": "markdown",
   "metadata": {},
   "source": [
    "## Segunda derivada"
   ]
  },
  {
   "cell_type": "code",
   "execution_count": 15,
   "metadata": {},
   "outputs": [],
   "source": [
    "E2 = function('E2', latex_name='E^{(2)}')(r,th)\n",
    "P2 = function('P2', latex_name='P^{(2)}')(r,th)\n",
    "\n",
    "sus_func.extend([diff(Ee,eps,eps).subs(eps==0) == E2,\n",
    "                 diff(Pe,eps,eps).subs(eps==0) == P2])\n",
    "\n",
    "ddG = copy(ddGe)\n",
    "ddT = copy(ddTe)\n",
    "for ii in range(0,len(sus_func)):\n",
    "    ddG = ddG.subs(sus_func[ii])\n",
    "    ddT = ddT.subs(sus_func[ii])"
   ]
  },
  {
   "cell_type": "markdown",
   "metadata": {},
   "source": [
    "### Descomposición en polinomios de Legendre"
   ]
  },
  {
   "cell_type": "code",
   "execution_count": 16,
   "metadata": {},
   "outputs": [],
   "source": [
    "h0 = function('h0', latex_name='h_0')(r)\n",
    "k0 = function('k0', latex_name='k_0')(r)\n",
    "m0 = function('m0', latex_name='m_0')(r)\n",
    "\n",
    "h2 = function('h2', latex_name='h_2')(r)\n",
    "k2 = function('k2', latex_name='k_2')(r)\n",
    "m2 = function('m2', latex_name='m_2')(r)\n",
    "\n",
    "E20 = function('E20', latex_name='E_{0}^{(2)}')(r)\n",
    "P20 = function('P20', latex_name='P_{0}^{(2)}')(r)\n",
    "\n",
    "E22 = function('E22', latex_name='E_{2}^{(2)}')(r)\n",
    "P22 = function('P22', latex_name='P_{2}^{(2)}')(r)\n",
    "\n",
    "LP1 = function('LP1', latex_name='LP_1')(th)\n",
    "LP2 = function('LP2', latex_name='LP_2')(th)\n",
    "\n",
    "lp2 = (3*cos(th)^2-1)/2"
   ]
  },
  {
   "cell_type": "code",
   "execution_count": 17,
   "metadata": {},
   "outputs": [],
   "source": [
    "sus_descomp = [m==m0+m2*lp2,\n",
    "               diff(m,r)==diff(m0+m2*lp2,r),\n",
    "               diff(m,r,r)==diff(m0+m2*lp2,r,r),\n",
    "               diff(m,th)==diff(m0+m2*lp2,th),\n",
    "               diff(m,th,th)==diff(m0+m2*lp2,th,th),\n",
    "               diff(m,th,r)==diff(m0+m2*lp2,th,r),\n",
    "               diff(m,r,th)==diff(m0+m2*lp2,r,th),\n",
    "               k==k2*lp2,\n",
    "               diff(k,r)==diff(k2*lp2,r),\n",
    "               diff(k,r,r)==diff(k2*lp2,r,r),\n",
    "               diff(k,th)==diff(k2*lp2,th),\n",
    "               diff(k,th,th)==diff(k2*lp2,th,th),\n",
    "               diff(k,th,r)==diff(k2*lp2,th,r),\n",
    "               diff(k,r,th)==diff(k2*lp2,r,th),\n",
    "               h==h0+h2*lp2,\n",
    "               diff(h,r)==diff(h0+h2*lp2,r),\n",
    "               diff(h,r,r)==diff(h0+h2*lp2,r,r),\n",
    "               diff(h,th)==diff(h0+h2*lp2,th),\n",
    "               diff(h,th,th)==diff(h0+h2*lp2,th,th),\n",
    "               diff(h,th,r)==diff(h0+h2*lp2,th,r),\n",
    "               diff(h,r,th)==diff(h0+h2*lp2,r,th),\n",
    "               E2==E20+E22*lp2,\n",
    "               diff(E2,r)==diff(E20+E22*lp2,r),\n",
    "               diff(E2,r,r)==diff(E20+E22*lp2,r,r),\n",
    "               diff(E2,th)==diff(E20+E22*lp2,th),\n",
    "               diff(E2,th,th)==diff(E20+E22*lp2,th,th),\n",
    "               diff(E2,th,r)==diff(E20+E22*lp2,th,r),\n",
    "               diff(E2,r,th)==diff(E20+E22*lp2,r,th),\n",
    "               P2==P20+P22*lp2,\n",
    "               diff(P2,r)==diff(P20+P22*lp2,r),\n",
    "               diff(P2,r,r)==diff(P20+P22*lp2,r,r),\n",
    "               diff(P2,th)==diff(P20+P22*lp2,th),\n",
    "               diff(P2,th,th)==diff(P20+P22*lp2,th,th),\n",
    "               diff(P2,th,r)==diff(P20+P22*lp2,th,r),\n",
    "               diff(P2,r,th)==diff(P20+P22*lp2,r,th)]\n",
    "\n",
    "for ii in range(0,len(sus_descomp)):\n",
    "    ddG = ddG.subs(sus_descomp[ii])\n",
    "    ddT = ddT.subs(sus_descomp[ii])\n",
    "\n",
    "ddG = ddG.simplify_full()\n",
    "ddT = ddT.simplify_full()"
   ]
  },
  {
   "cell_type": "code",
   "execution_count": 18,
   "metadata": {},
   "outputs": [],
   "source": [
    "sus_legendre = [sin(th)^2 == (2/3)*(1-LP2),\n",
    "                cos(th)^2 == (2*LP2+1)/3,\n",
    "                cos(th) == LP1]"
   ]
  },
  {
   "cell_type": "markdown",
   "metadata": {},
   "source": [
    "# l=0"
   ]
  },
  {
   "cell_type": "code",
   "execution_count": 19,
   "metadata": {
    "scrolled": false
   },
   "outputs": [
    {
     "data": {
      "text/html": [
       "<html>\\[\\newcommand{\\Bold}[1]{\\mathbf{#1}}E^{(2)}_0 =  -\\frac{{\\left(r^{4} \\frac{\\partial}{\\partial r}\\omega\\left(r\\right)^{2} - 12 \\, r e^{\\nu\\left(r\\right)} \\frac{\\partial}{\\partial r}m_0\\left(r\\right) - 12 \\, e^{\\nu\\left(r\\right)} m_0\\left(r\\right) + 4 \\, {\\left({\\Omega^{(1)}}^{2} r^{3} - 2 \\, {\\Omega^{(1)}} r^{3} \\omega\\left(r\\right) + r^{3} \\omega\\left(r\\right)^{2} + 3 \\, r e^{\\nu\\left(r\\right)} m_0\\left(r\\right)\\right)} \\frac{\\partial}{\\partial r}\\lambda\\left(r\\right) + 4 \\, {\\left({\\Omega^{(1)}}^{2} r^{3} - 2 \\, {\\Omega^{(1)}} r^{3} \\omega\\left(r\\right) + r^{3} \\omega\\left(r\\right)^{2}\\right)} \\frac{\\partial}{\\partial r}\\nu\\left(r\\right)\\right)} e^{\\left(-\\lambda\\left(r\\right) - \\nu\\left(r\\right)\\right)}}{24 \\, \\pi r^{2}} \\rightarrow \\mathrm{True}\\]</html>"
      ],
      "text/latex": [
       "$$\\newcommand{\\Bold}[1]{\\mathbf{#1}}E^{(2)}_0 =  -\\frac{{\\left(r^{4} \\frac{\\partial}{\\partial r}\\omega\\left(r\\right)^{2} - 12 \\, r e^{\\nu\\left(r\\right)} \\frac{\\partial}{\\partial r}m_0\\left(r\\right) - 12 \\, e^{\\nu\\left(r\\right)} m_0\\left(r\\right) + 4 \\, {\\left({\\Omega^{(1)}}^{2} r^{3} - 2 \\, {\\Omega^{(1)}} r^{3} \\omega\\left(r\\right) + r^{3} \\omega\\left(r\\right)^{2} + 3 \\, r e^{\\nu\\left(r\\right)} m_0\\left(r\\right)\\right)} \\frac{\\partial}{\\partial r}\\lambda\\left(r\\right) + 4 \\, {\\left({\\Omega^{(1)}}^{2} r^{3} - 2 \\, {\\Omega^{(1)}} r^{3} \\omega\\left(r\\right) + r^{3} \\omega\\left(r\\right)^{2}\\right)} \\frac{\\partial}{\\partial r}\\nu\\left(r\\right)\\right)} e^{\\left(-\\lambda\\left(r\\right) - \\nu\\left(r\\right)\\right)}}{24 \\, \\pi r^{2}} \\rightarrow \\mathrm{True}$$"
      ],
      "text/plain": [
       "E^{(2)}_0 =  -1/24*(r^4*diff(omega(r), r)^2 - 12*r*e^nu(r)*diff(m0(r), r) - 12*e^nu(r)*m0(r) + 4*(Omega1^2*r^3 - 2*Omega1*r^3*omega(r) + r^3*omega(r)^2 + 3*r*e^nu(r)*m0(r))*diff(lamb(r), r) + 4*(Omega1^2*r^3 - 2*Omega1*r^3*omega(r) + r^3*omega(r)^2)*diff(nu(r), r))*e^(-lamb(r) - nu(r))/(pi*r^2) \\rightarrow True"
      ]
     },
     "metadata": {},
     "output_type": "display_data"
    }
   ],
   "source": [
    "ddEq_00 = ddG[0,0] - kappa*ddT[0,0] == 0\n",
    "E20_value = solve(ddEq_00,E20)[0].rhs().simplify_full()\n",
    "\n",
    "for ii in range(0,len(sus_legendre)):\n",
    "    E20_value = E20_value.subs(sus_legendre[ii])\n",
    "\n",
    "E20_value = E20_value.subs(LP1==0).subs(LP2==0).simplify_full()\n",
    "\n",
    "ddG = ddG.subs(E20==E20_value)\n",
    "ddT = ddT.subs(E20==E20_value)\n",
    "sus_func.extend([E20==E20_value])\n",
    "    \n",
    "E20_paper = (4/r^2*diff(r*e^(-lamb)*m0,r)\\\n",
    "             +8/3*r*j*diff(j,r)*(omega-Omega1)^2\\\n",
    "             -1/3*j^2*r^2*diff(omega,r)^2)/(8*pi)\n",
    "\n",
    "E20_check = E20_value - E20_paper\n",
    "\n",
    "show(LatexExpr(\"E^{(2)}_0 = \"), E20_value, LatexExpr(\"\\\\rightarrow\"), bool(E20_check==0))"
   ]
  },
  {
   "cell_type": "code",
   "execution_count": 20,
   "metadata": {},
   "outputs": [
    {
     "data": {
      "text/html": [
       "<html>\\[\\newcommand{\\Bold}[1]{\\mathbf{#1}}P^{(2)}_0 =  \\frac{{\\left(r^{4} \\frac{\\partial}{\\partial r}\\omega\\left(r\\right)^{2} - 12 \\, r e^{\\nu\\left(r\\right)} m_0\\left(r\\right) \\frac{\\partial}{\\partial r}\\nu\\left(r\\right) + 12 \\, r e^{\\nu\\left(r\\right)} \\frac{\\partial}{\\partial r}h_0\\left(r\\right) - 12 \\, e^{\\nu\\left(r\\right)} m_0\\left(r\\right)\\right)} e^{\\left(-\\lambda\\left(r\\right) - \\nu\\left(r\\right)\\right)}}{24 \\, \\pi r^{2}} \\rightarrow \\mathrm{True}\\]</html>"
      ],
      "text/latex": [
       "$$\\newcommand{\\Bold}[1]{\\mathbf{#1}}P^{(2)}_0 =  \\frac{{\\left(r^{4} \\frac{\\partial}{\\partial r}\\omega\\left(r\\right)^{2} - 12 \\, r e^{\\nu\\left(r\\right)} m_0\\left(r\\right) \\frac{\\partial}{\\partial r}\\nu\\left(r\\right) + 12 \\, r e^{\\nu\\left(r\\right)} \\frac{\\partial}{\\partial r}h_0\\left(r\\right) - 12 \\, e^{\\nu\\left(r\\right)} m_0\\left(r\\right)\\right)} e^{\\left(-\\lambda\\left(r\\right) - \\nu\\left(r\\right)\\right)}}{24 \\, \\pi r^{2}} \\rightarrow \\mathrm{True}$$"
      ],
      "text/plain": [
       "P^{(2)}_0 =  1/24*(r^4*diff(omega(r), r)^2 - 12*r*e^nu(r)*m0(r)*diff(nu(r), r) + 12*r*e^nu(r)*diff(h0(r), r) - 12*e^nu(r)*m0(r))*e^(-lamb(r) - nu(r))/(pi*r^2) \\rightarrow True"
      ]
     },
     "metadata": {},
     "output_type": "display_data"
    }
   ],
   "source": [
    "ddEq_11 = ddG[1,1] - kappa*ddT[1,1] == 0\n",
    "P20_value = solve(ddEq_11,P20)[0].rhs().simplify_full()\n",
    "\n",
    "for ii in range(0,len(sus_legendre)):\n",
    "    P20_value = P20_value.subs(sus_legendre[ii])\n",
    "    \n",
    "P20_value = P20_value.subs(LP1==0).subs(LP2==0).simplify_full()\n",
    "\n",
    "ddG = ddG.subs(P20==P20_value)\n",
    "ddT = ddT.subs(P20==P20_value)\n",
    "sus_func.extend([P20==P20_value])\n",
    "\n",
    "P20_paper = (4/r^2*(r*e^(-lamb)*diff(h0,r)-m0*(8*pi*r^2*P+1))\\\n",
    "             +1/3*r^2*j^2*diff(omega,r)^2)/(8*pi)\n",
    "\n",
    "for ii in range(0,len(sus_func)):\n",
    "    P20_paper = P20_paper.subs(sus_func[ii])\n",
    "\n",
    "P20_check = P20_value - P20_paper\n",
    "\n",
    "show(LatexExpr(\"P^{(2)}_0 = \"), P20_value, LatexExpr(\"\\\\rightarrow\"), bool(P20_check==0))"
   ]
  },
  {
   "cell_type": "code",
   "execution_count": 21,
   "metadata": {},
   "outputs": [
    {
     "data": {
      "text/html": [
       "<html>\\[\\newcommand{\\Bold}[1]{\\mathbf{#1}}m_2 =  \\frac{1}{6} \\, {\\left(r^{4} \\frac{\\partial}{\\partial r}\\omega\\left(r\\right)^{2} - 6 \\, e^{\\left(\\lambda\\left(r\\right) + \\nu\\left(r\\right)\\right)} h_2\\left(r\\right) + 2 \\, {\\left({\\Omega^{(1)}}^{2} r^{3} - 2 \\, {\\Omega^{(1)}} r^{3} \\omega\\left(r\\right) + r^{3} \\omega\\left(r\\right)^{2}\\right)} \\frac{\\partial}{\\partial r}\\lambda\\left(r\\right) + 2 \\, {\\left({\\Omega^{(1)}}^{2} r^{3} - 2 \\, {\\Omega^{(1)}} r^{3} \\omega\\left(r\\right) + r^{3} \\omega\\left(r\\right)^{2}\\right)} \\frac{\\partial}{\\partial r}\\nu\\left(r\\right)\\right)} e^{\\left(-\\lambda\\left(r\\right) - \\nu\\left(r\\right)\\right)} \\rightarrow \\mathrm{True}\\]</html>"
      ],
      "text/latex": [
       "$$\\newcommand{\\Bold}[1]{\\mathbf{#1}}m_2 =  \\frac{1}{6} \\, {\\left(r^{4} \\frac{\\partial}{\\partial r}\\omega\\left(r\\right)^{2} - 6 \\, e^{\\left(\\lambda\\left(r\\right) + \\nu\\left(r\\right)\\right)} h_2\\left(r\\right) + 2 \\, {\\left({\\Omega^{(1)}}^{2} r^{3} - 2 \\, {\\Omega^{(1)}} r^{3} \\omega\\left(r\\right) + r^{3} \\omega\\left(r\\right)^{2}\\right)} \\frac{\\partial}{\\partial r}\\lambda\\left(r\\right) + 2 \\, {\\left({\\Omega^{(1)}}^{2} r^{3} - 2 \\, {\\Omega^{(1)}} r^{3} \\omega\\left(r\\right) + r^{3} \\omega\\left(r\\right)^{2}\\right)} \\frac{\\partial}{\\partial r}\\nu\\left(r\\right)\\right)} e^{\\left(-\\lambda\\left(r\\right) - \\nu\\left(r\\right)\\right)} \\rightarrow \\mathrm{True}$$"
      ],
      "text/plain": [
       "m_2 =  1/6*(r^4*diff(omega(r), r)^2 - 6*e^(lamb(r) + nu(r))*h2(r) + 2*(Omega1^2*r^3 - 2*Omega1*r^3*omega(r) + r^3*omega(r)^2)*diff(lamb(r), r) + 2*(Omega1^2*r^3 - 2*Omega1*r^3*omega(r) + r^3*omega(r)^2)*diff(nu(r), r))*e^(-lamb(r) - nu(r)) \\rightarrow True"
      ]
     },
     "metadata": {},
     "output_type": "display_data"
    }
   ],
   "source": [
    "ddEq_22 = ddG[2,2] - kappa*ddT[2,2] == 0\n",
    "ddh0_value_22 = solve(ddEq_22,diff(h0,r,r))[0].rhs().simplify_full()\n",
    "\n",
    "ddEq_33 = ddG[3,3] - kappa*ddT[3,3] == 0\n",
    "ddh0_value_33 = solve(ddEq_33,diff(h0,r,r))[0].rhs().simplify_full()\n",
    "\n",
    "for ii in range(0,len(sus_legendre)):\n",
    "    ddh0_value_22 = ddh0_value_22.subs(sus_legendre[ii])\n",
    "    ddh0_value_33 = ddh0_value_33.subs(sus_legendre[ii])\n",
    "\n",
    "ddh0_value_22 = ddh0_value_22.subs(LP1==0).subs(LP2==0).simplify_full()\n",
    "ddh0_value_33 = ddh0_value_33.subs(LP1==0).subs(LP2==0).simplify_full()\n",
    "\n",
    "ddG = ddG.subs(diff(h0,r,r)==ddh0_value_22)\n",
    "ddT = ddT.subs(diff(h0,r,r)==ddh0_value_22)\n",
    "sus_func.extend([diff(h0,r,r)==ddh0_value_22])\n",
    "\n",
    "m2h2 = ddh0_value_22 - ddh0_value_33 == 0\n",
    "m2_value = solve(m2h2,m2)[0].rhs().simplify_full()\n",
    "\n",
    "dm2_value = diff(m2_value,r)\n",
    "for ii in range(0,len(sus_func)):\n",
    "    dm2_value = dm2_value.subs(sus_func[ii])\n",
    "\n",
    "m2_paper = 1/6*r^4*j^2*diff(omega,r)^2\\\n",
    "          -1/3*r^3*diff(j^2,r)*(omega-Omega1)^2\\\n",
    "          -h2\n",
    "\n",
    "for ii in range(0,len(sus_func)):\n",
    "    m2_paper = m2_paper.subs(sus_func[ii])\n",
    "\n",
    "ddG = ddG.subs(diff(m2,r)==dm2_value).subs(m2==m2_value)\n",
    "ddT = ddT.subs(diff(m2,r)==dm2_value).subs(m2==m2_value)\n",
    "sus_func.extend([diff(m2,r)==dm2_value,m2==m2_value])\n",
    "\n",
    "m2_check = m2_value - m2_paper\n",
    "\n",
    "show(LatexExpr(\"m_2 = \"), m2_value, LatexExpr(\"\\\\rightarrow\"), bool(m2_check==0))"
   ]
  },
  {
   "cell_type": "markdown",
   "metadata": {},
   "source": [
    "#### Falta: usando (60), sustituimos en (64), derivamos, despejamos h0', metemos en 59 y sacamos la misma ecuacion de h0''"
   ]
  },
  {
   "cell_type": "code",
   "execution_count": 22,
   "metadata": {},
   "outputs": [],
   "source": [
    "#gamma = var('gamma')\n",
    "#Pt0 = P20/(2*(E+P))\n",
    "#\n",
    "#eq_64 = Pt0 + h0 - 1/3*r^2*e^(-nu)*(omega-Omega1)^2 - gamma == 0\n",
    "#for kk in range(0,len(sus_func)):\n",
    "#    eq_64 = eq_64.subs(sus_func[kk])\n",
    "#\n",
    "#deq_64 = diff(eq_64,r).simplify_full()\n",
    "#ddh0_64 = solve(deq_64, diff(h0,r,r))[0].rhs()\n",
    "#ddh0_64 = ddh0_64.simplify_full()\n",
    "#\n",
    "#for kk in range(0,len(sus_func)):\n",
    "#    ddh0_64 = ddh0_64.subs(sus_func[kk])\n",
    "#    ddh0 = ddh0.subs(sus_func[kk])\n",
    "#    \n",
    "#ddh0_64 = ddh0_64.simplify_full()\n",
    "#ddh0 = ddh0.simplify_full()\n",
    "#\n",
    "#ddh0_check = ddh0 - ddh0_64\n",
    "#ddh0_check = ddh0_check.simplify_full()\n",
    "#\n",
    "#show(ddh0)\n",
    "#show(ddh0_64)"
   ]
  },
  {
   "cell_type": "markdown",
   "metadata": {},
   "source": [
    "#### Falta: Usando barotropic EOS, sacar la (61)"
   ]
  },
  {
   "cell_type": "code",
   "execution_count": 23,
   "metadata": {},
   "outputs": [],
   "source": [
    "#Baro = E2*diff(P,r) - P2*diff(E,r) == 0\n",
    "#for kk in range(0,len(sus_func)):\n",
    "#    Baro = Baro.subs(sus_func[kk])\n",
    "\n",
    "#Baro"
   ]
  },
  {
   "cell_type": "markdown",
   "metadata": {},
   "source": [
    "# l=2"
   ]
  },
  {
   "cell_type": "code",
   "execution_count": 24,
   "metadata": {
    "scrolled": false
   },
   "outputs": [
    {
     "data": {
      "text/html": [
       "<html>\\[\\newcommand{\\Bold}[1]{\\mathbf{#1}}P^{(2)}_2\\lvert_{\\theta\\theta} = P^{(2)}_2\\lvert_{\\phi\\phi}\\rightarrow \\mathrm{True}\\]</html>"
      ],
      "text/latex": [
       "$$\\newcommand{\\Bold}[1]{\\mathbf{#1}}P^{(2)}_2\\lvert_{\\theta\\theta} = P^{(2)}_2\\lvert_{\\phi\\phi}\\rightarrow \\mathrm{True}$$"
      ],
      "text/plain": [
       "P^{(2)}_2\\lvert_{\\theta\\theta} = P^{(2)}_2\\lvert_{\\phi\\phi}\\rightarrow True"
      ]
     },
     "metadata": {},
     "output_type": "display_data"
    }
   ],
   "source": [
    "ddEq_22 = (ddG[2,2]-kappa*ddT[2,2] == 0).simplify_full()\n",
    "ddEq_33 = ((ddG[3,3]-kappa*ddT[3,3] == 0)/sin(th)^2).simplify_full()\n",
    "\n",
    "for ii in range(0,len(sus_legendre)):\n",
    "    ddEq_22 = ddEq_22.subs(sus_legendre[ii])\n",
    "    ddEq_33 = ddEq_33.subs(sus_legendre[ii])\n",
    "\n",
    "ddEq_22 = (ddEq_22.subs(LP1==0) - ddEq_22.subs(LP1==0).subs(LP2==0))/LP2\n",
    "P22_value_22 = solve(ddEq_22, P22)[0].rhs().simplify_full()\n",
    "\n",
    "ddEq_33 = (ddEq_33.subs(LP1==0) - ddEq_33.subs(LP1==0).subs(LP2==0))/LP2\n",
    "P22_value_33 = solve(ddEq_33, P22)[0].rhs().simplify_full()\n",
    "\n",
    "for ii in range(0,len(sus_func)):\n",
    "    P22_value_22 = P22_value_22.subs(sus_func[ii])\n",
    "    P22_value_33 = P22_value_33.subs(sus_func[ii])\n",
    "    \n",
    "P22_value_22 = P22_value_22.simplify_full()\n",
    "P22_value_33 = P22_value_33.simplify_full()\n",
    "\n",
    "P22_check_22_33 = P22_value_22 - P22_value_33\n",
    "\n",
    "show(LatexExpr(\"P^{(2)}_2\\lvert_{\\\\theta\\\\theta} = P^{(2)}_2\\lvert_{\\\\phi\\\\phi}\\\\rightarrow\"), bool(P22_check_22_33==0))"
   ]
  },
  {
   "cell_type": "code",
   "execution_count": 25,
   "metadata": {
    "scrolled": true
   },
   "outputs": [
    {
     "data": {
      "text/html": [
       "<html>\\[\\newcommand{\\Bold}[1]{\\mathbf{#1}}E^{(2)}_2 =  -\\frac{{\\left(8 \\, {\\Omega^{(1)}}^{2} r^{2} e^{\\lambda\\left(r\\right)} - 8 \\, {\\Omega^{(1)}}^{2} r^{2} + 12 \\, r^{2} e^{\\left(\\lambda\\left(r\\right) + \\nu\\left(r\\right)\\right)} \\frac{\\partial^{2}}{(\\partial r)^{2}}k_2\\left(r\\right) + 12 \\, {\\left(3 \\, e^{\\left(2 \\, \\lambda\\left(r\\right)\\right)} + e^{\\lambda\\left(r\\right)}\\right)} e^{\\nu\\left(r\\right)} h_2\\left(r\\right) + 8 \\, {\\left(r^{2} e^{\\lambda\\left(r\\right)} - r^{2}\\right)} \\omega\\left(r\\right)^{2} + 12 \\, r e^{\\left(\\lambda\\left(r\\right) + \\nu\\left(r\\right)\\right)} \\frac{\\partial}{\\partial r}h_2\\left(r\\right) + 36 \\, r e^{\\left(\\lambda\\left(r\\right) + \\nu\\left(r\\right)\\right)} \\frac{\\partial}{\\partial r}k_2\\left(r\\right) + 8 \\, {\\left({\\Omega^{(1)}}^{2} r^{4} - 2 \\, {\\Omega^{(1)}} r^{4} \\omega\\left(r\\right) + r^{4} \\omega\\left(r\\right)^{2}\\right)} \\frac{\\partial}{\\partial r}\\lambda\\left(r\\right)^{2} + 6 \\, {\\left({\\Omega^{(1)}}^{2} r^{4} - 2 \\, {\\Omega^{(1)}} r^{4} \\omega\\left(r\\right) + r^{4} \\omega\\left(r\\right)^{2}\\right)} \\frac{\\partial}{\\partial r}\\nu\\left(r\\right)^{2} + {\\left(2 \\, r^{5} \\frac{\\partial}{\\partial r}\\lambda\\left(r\\right) - 7 \\, r^{4} e^{\\lambda\\left(r\\right)} + 6 \\, r^{4}\\right)} \\frac{\\partial}{\\partial r}\\omega\\left(r\\right)^{2} - 24 \\, e^{\\left(2 \\, \\lambda\\left(r\\right) + \\nu\\left(r\\right)\\right)} k_2\\left(r\\right) - 16 \\, {\\left({\\Omega^{(1)}} r^{2} e^{\\lambda\\left(r\\right)} - {\\Omega^{(1)}} r^{2}\\right)} \\omega\\left(r\\right) - 2 \\, {\\left(8 \\, {\\Omega^{(1)}}^{2} r^{3} e^{\\lambda\\left(r\\right)} + 10 \\, {\\Omega^{(1)}}^{2} r^{3} + 3 \\, r^{2} e^{\\left(\\lambda\\left(r\\right) + \\nu\\left(r\\right)\\right)} \\frac{\\partial}{\\partial r}k_2\\left(r\\right) + 6 \\, r e^{\\left(\\lambda\\left(r\\right) + \\nu\\left(r\\right)\\right)} h_2\\left(r\\right) + 2 \\, {\\left(4 \\, r^{3} e^{\\lambda\\left(r\\right)} + 5 \\, r^{3}\\right)} \\omega\\left(r\\right)^{2} - 4 \\, {\\left(4 \\, {\\Omega^{(1)}} r^{3} e^{\\lambda\\left(r\\right)} + 5 \\, {\\Omega^{(1)}} r^{3}\\right)} \\omega\\left(r\\right)\\right)} \\frac{\\partial}{\\partial r}\\lambda\\left(r\\right) - 4 \\, {\\left({\\Omega^{(1)}}^{2} r^{4} - 2 \\, {\\Omega^{(1)}} r^{4} \\omega\\left(r\\right) + r^{4} \\omega\\left(r\\right)^{2}\\right)} \\frac{\\partial^{2}}{(\\partial r)^{2}}\\lambda\\left(r\\right) - 2 \\, {\\left(8 \\, {\\Omega^{(1)}}^{2} r^{3} e^{\\lambda\\left(r\\right)} + 10 \\, {\\Omega^{(1)}}^{2} r^{3} + 2 \\, {\\left(4 \\, r^{3} e^{\\lambda\\left(r\\right)} + 5 \\, r^{3}\\right)} \\omega\\left(r\\right)^{2} - 4 \\, {\\left(4 \\, {\\Omega^{(1)}} r^{3} e^{\\lambda\\left(r\\right)} + 5 \\, {\\Omega^{(1)}} r^{3}\\right)} \\omega\\left(r\\right) - 5 \\, {\\left({\\Omega^{(1)}}^{2} r^{4} - 2 \\, {\\Omega^{(1)}} r^{4} \\omega\\left(r\\right) + r^{4} \\omega\\left(r\\right)^{2}\\right)} \\frac{\\partial}{\\partial r}\\lambda\\left(r\\right)\\right)} \\frac{\\partial}{\\partial r}\\nu\\left(r\\right) + 16 \\, {\\left({\\left({\\Omega^{(1)}} r^{4} - r^{4} \\omega\\left(r\\right)\\right)} \\frac{\\partial}{\\partial r}\\lambda\\left(r\\right) + {\\left({\\Omega^{(1)}} r^{4} - r^{4} \\omega\\left(r\\right)\\right)} \\frac{\\partial}{\\partial r}\\nu\\left(r\\right)\\right)} \\frac{\\partial}{\\partial r}\\omega\\left(r\\right)\\right)} e^{\\left(-2 \\, \\lambda\\left(r\\right) - \\nu\\left(r\\right)\\right)}}{24 \\, \\pi r^{2}}\\]</html>"
      ],
      "text/latex": [
       "$$\\newcommand{\\Bold}[1]{\\mathbf{#1}}E^{(2)}_2 =  -\\frac{{\\left(8 \\, {\\Omega^{(1)}}^{2} r^{2} e^{\\lambda\\left(r\\right)} - 8 \\, {\\Omega^{(1)}}^{2} r^{2} + 12 \\, r^{2} e^{\\left(\\lambda\\left(r\\right) + \\nu\\left(r\\right)\\right)} \\frac{\\partial^{2}}{(\\partial r)^{2}}k_2\\left(r\\right) + 12 \\, {\\left(3 \\, e^{\\left(2 \\, \\lambda\\left(r\\right)\\right)} + e^{\\lambda\\left(r\\right)}\\right)} e^{\\nu\\left(r\\right)} h_2\\left(r\\right) + 8 \\, {\\left(r^{2} e^{\\lambda\\left(r\\right)} - r^{2}\\right)} \\omega\\left(r\\right)^{2} + 12 \\, r e^{\\left(\\lambda\\left(r\\right) + \\nu\\left(r\\right)\\right)} \\frac{\\partial}{\\partial r}h_2\\left(r\\right) + 36 \\, r e^{\\left(\\lambda\\left(r\\right) + \\nu\\left(r\\right)\\right)} \\frac{\\partial}{\\partial r}k_2\\left(r\\right) + 8 \\, {\\left({\\Omega^{(1)}}^{2} r^{4} - 2 \\, {\\Omega^{(1)}} r^{4} \\omega\\left(r\\right) + r^{4} \\omega\\left(r\\right)^{2}\\right)} \\frac{\\partial}{\\partial r}\\lambda\\left(r\\right)^{2} + 6 \\, {\\left({\\Omega^{(1)}}^{2} r^{4} - 2 \\, {\\Omega^{(1)}} r^{4} \\omega\\left(r\\right) + r^{4} \\omega\\left(r\\right)^{2}\\right)} \\frac{\\partial}{\\partial r}\\nu\\left(r\\right)^{2} + {\\left(2 \\, r^{5} \\frac{\\partial}{\\partial r}\\lambda\\left(r\\right) - 7 \\, r^{4} e^{\\lambda\\left(r\\right)} + 6 \\, r^{4}\\right)} \\frac{\\partial}{\\partial r}\\omega\\left(r\\right)^{2} - 24 \\, e^{\\left(2 \\, \\lambda\\left(r\\right) + \\nu\\left(r\\right)\\right)} k_2\\left(r\\right) - 16 \\, {\\left({\\Omega^{(1)}} r^{2} e^{\\lambda\\left(r\\right)} - {\\Omega^{(1)}} r^{2}\\right)} \\omega\\left(r\\right) - 2 \\, {\\left(8 \\, {\\Omega^{(1)}}^{2} r^{3} e^{\\lambda\\left(r\\right)} + 10 \\, {\\Omega^{(1)}}^{2} r^{3} + 3 \\, r^{2} e^{\\left(\\lambda\\left(r\\right) + \\nu\\left(r\\right)\\right)} \\frac{\\partial}{\\partial r}k_2\\left(r\\right) + 6 \\, r e^{\\left(\\lambda\\left(r\\right) + \\nu\\left(r\\right)\\right)} h_2\\left(r\\right) + 2 \\, {\\left(4 \\, r^{3} e^{\\lambda\\left(r\\right)} + 5 \\, r^{3}\\right)} \\omega\\left(r\\right)^{2} - 4 \\, {\\left(4 \\, {\\Omega^{(1)}} r^{3} e^{\\lambda\\left(r\\right)} + 5 \\, {\\Omega^{(1)}} r^{3}\\right)} \\omega\\left(r\\right)\\right)} \\frac{\\partial}{\\partial r}\\lambda\\left(r\\right) - 4 \\, {\\left({\\Omega^{(1)}}^{2} r^{4} - 2 \\, {\\Omega^{(1)}} r^{4} \\omega\\left(r\\right) + r^{4} \\omega\\left(r\\right)^{2}\\right)} \\frac{\\partial^{2}}{(\\partial r)^{2}}\\lambda\\left(r\\right) - 2 \\, {\\left(8 \\, {\\Omega^{(1)}}^{2} r^{3} e^{\\lambda\\left(r\\right)} + 10 \\, {\\Omega^{(1)}}^{2} r^{3} + 2 \\, {\\left(4 \\, r^{3} e^{\\lambda\\left(r\\right)} + 5 \\, r^{3}\\right)} \\omega\\left(r\\right)^{2} - 4 \\, {\\left(4 \\, {\\Omega^{(1)}} r^{3} e^{\\lambda\\left(r\\right)} + 5 \\, {\\Omega^{(1)}} r^{3}\\right)} \\omega\\left(r\\right) - 5 \\, {\\left({\\Omega^{(1)}}^{2} r^{4} - 2 \\, {\\Omega^{(1)}} r^{4} \\omega\\left(r\\right) + r^{4} \\omega\\left(r\\right)^{2}\\right)} \\frac{\\partial}{\\partial r}\\lambda\\left(r\\right)\\right)} \\frac{\\partial}{\\partial r}\\nu\\left(r\\right) + 16 \\, {\\left({\\left({\\Omega^{(1)}} r^{4} - r^{4} \\omega\\left(r\\right)\\right)} \\frac{\\partial}{\\partial r}\\lambda\\left(r\\right) + {\\left({\\Omega^{(1)}} r^{4} - r^{4} \\omega\\left(r\\right)\\right)} \\frac{\\partial}{\\partial r}\\nu\\left(r\\right)\\right)} \\frac{\\partial}{\\partial r}\\omega\\left(r\\right)\\right)} e^{\\left(-2 \\, \\lambda\\left(r\\right) - \\nu\\left(r\\right)\\right)}}{24 \\, \\pi r^{2}}$$"
      ],
      "text/plain": [
       "E^{(2)}_2 =  -1/24*(8*Omega1^2*r^2*e^lamb(r) - 8*Omega1^2*r^2 + 12*r^2*e^(lamb(r) + nu(r))*diff(k2(r), r, r) + 12*(3*e^(2*lamb(r)) + e^lamb(r))*e^nu(r)*h2(r) + 8*(r^2*e^lamb(r) - r^2)*omega(r)^2 + 12*r*e^(lamb(r) + nu(r))*diff(h2(r), r) + 36*r*e^(lamb(r) + nu(r))*diff(k2(r), r) + 8*(Omega1^2*r^4 - 2*Omega1*r^4*omega(r) + r^4*omega(r)^2)*diff(lamb(r), r)^2 + 6*(Omega1^2*r^4 - 2*Omega1*r^4*omega(r) + r^4*omega(r)^2)*diff(nu(r), r)^2 + (2*r^5*diff(lamb(r), r) - 7*r^4*e^lamb(r) + 6*r^4)*diff(omega(r), r)^2 - 24*e^(2*lamb(r) + nu(r))*k2(r) - 16*(Omega1*r^2*e^lamb(r) - Omega1*r^2)*omega(r) - 2*(8*Omega1^2*r^3*e^lamb(r) + 10*Omega1^2*r^3 + 3*r^2*e^(lamb(r) + nu(r))*diff(k2(r), r) + 6*r*e^(lamb(r) + nu(r))*h2(r) + 2*(4*r^3*e^lamb(r) + 5*r^3)*omega(r)^2 - 4*(4*Omega1*r^3*e^lamb(r) + 5*Omega1*r^3)*omega(r))*diff(lamb(r), r) - 4*(Omega1^2*r^4 - 2*Omega1*r^4*omega(r) + r^4*omega(r)^2)*diff(lamb(r), r, r) - 2*(8*Omega1^2*r^3*e^lamb(r) + 10*Omega1^2*r^3 + 2*(4*r^3*e^lamb(r) + 5*r^3)*omega(r)^2 - 4*(4*Omega1*r^3*e^lamb(r) + 5*Omega1*r^3)*omega(r) - 5*(Omega1^2*r^4 - 2*Omega1*r^4*omega(r) + r^4*omega(r)^2)*diff(lamb(r), r))*diff(nu(r), r) + 16*((Omega1*r^4 - r^4*omega(r))*diff(lamb(r), r) + (Omega1*r^4 - r^4*omega(r))*diff(nu(r), r))*diff(omega(r), r))*e^(-2*lamb(r) - nu(r))/(pi*r^2)"
      ]
     },
     "metadata": {},
     "output_type": "display_data"
    }
   ],
   "source": [
    "ddEq_00 = (ddG[0,0] - kappa*ddT[0,0] == 0).simplify_full()\n",
    "\n",
    "for ii in range(0,len(sus_legendre)):\n",
    "    ddEq_00 = ddEq_00.subs(sus_legendre[ii])\n",
    "\n",
    "ddEq_00 = (ddEq_00.subs(LP1==0) - ddEq_00.subs(LP1==0).subs(LP2==0))/LP2\n",
    "\n",
    "E22_value = solve(ddEq_00,E22)[0].rhs()\n",
    "for ii in range(0,len(sus_func)):\n",
    "    E22_value = E22_value.subs(sus_func[ii])\n",
    "E22_value = E22_value.simplify_full()\n",
    "\n",
    "ddG = ddG.subs(E22==E22_value)\n",
    "ddT = ddT.subs(E22==E22_value)\n",
    "sus_func.extend([E22==E22_value])\n",
    "\n",
    "show(LatexExpr(\"E^{(2)}_2 = \"), E22_value)"
   ]
  },
  {
   "cell_type": "code",
   "execution_count": 26,
   "metadata": {},
   "outputs": [
    {
     "data": {
      "text/html": [
       "<html>\\[\\newcommand{\\Bold}[1]{\\mathbf{#1}}P^{(2)}_2 =  -\\frac{{\\left(12 \\, {\\left(3 \\, e^{\\left(2 \\, \\lambda\\left(r\\right)\\right)} - e^{\\lambda\\left(r\\right)}\\right)} e^{\\nu\\left(r\\right)} h_2\\left(r\\right) - 12 \\, r e^{\\left(\\lambda\\left(r\\right) + \\nu\\left(r\\right)\\right)} \\frac{\\partial}{\\partial r}h_2\\left(r\\right) - 12 \\, r e^{\\left(\\lambda\\left(r\\right) + \\nu\\left(r\\right)\\right)} \\frac{\\partial}{\\partial r}k_2\\left(r\\right) + 4 \\, {\\left({\\Omega^{(1)}}^{2} r^{4} - 2 \\, {\\Omega^{(1)}} r^{4} \\omega\\left(r\\right) + r^{4} \\omega\\left(r\\right)^{2}\\right)} \\frac{\\partial}{\\partial r}\\nu\\left(r\\right)^{2} + {\\left(2 \\, r^{5} \\frac{\\partial}{\\partial r}\\nu\\left(r\\right) + r^{4} e^{\\lambda\\left(r\\right)} + 2 \\, r^{4}\\right)} \\frac{\\partial}{\\partial r}\\omega\\left(r\\right)^{2} + 24 \\, e^{\\left(2 \\, \\lambda\\left(r\\right) + \\nu\\left(r\\right)\\right)} k_2\\left(r\\right) + 4 \\, {\\left({\\Omega^{(1)}}^{2} r^{3} - 2 \\, {\\Omega^{(1)}} r^{3} \\omega\\left(r\\right) + r^{3} \\omega\\left(r\\right)^{2}\\right)} \\frac{\\partial}{\\partial r}\\lambda\\left(r\\right) + 2 \\, {\\left(2 \\, {\\Omega^{(1)}}^{2} r^{3} - 4 \\, {\\Omega^{(1)}} r^{3} \\omega\\left(r\\right) + 2 \\, r^{3} \\omega\\left(r\\right)^{2} - 3 \\, r^{2} e^{\\left(\\lambda\\left(r\\right) + \\nu\\left(r\\right)\\right)} \\frac{\\partial}{\\partial r}k_2\\left(r\\right) - 6 \\, r e^{\\left(\\lambda\\left(r\\right) + \\nu\\left(r\\right)\\right)} h_2\\left(r\\right) + 2 \\, {\\left({\\Omega^{(1)}}^{2} r^{4} - 2 \\, {\\Omega^{(1)}} r^{4} \\omega\\left(r\\right) + r^{4} \\omega\\left(r\\right)^{2}\\right)} \\frac{\\partial}{\\partial r}\\lambda\\left(r\\right)\\right)} \\frac{\\partial}{\\partial r}\\nu\\left(r\\right)\\right)} e^{\\left(-2 \\, \\lambda\\left(r\\right) - \\nu\\left(r\\right)\\right)}}{24 \\, \\pi r^{2}}\\]</html>"
      ],
      "text/latex": [
       "$$\\newcommand{\\Bold}[1]{\\mathbf{#1}}P^{(2)}_2 =  -\\frac{{\\left(12 \\, {\\left(3 \\, e^{\\left(2 \\, \\lambda\\left(r\\right)\\right)} - e^{\\lambda\\left(r\\right)}\\right)} e^{\\nu\\left(r\\right)} h_2\\left(r\\right) - 12 \\, r e^{\\left(\\lambda\\left(r\\right) + \\nu\\left(r\\right)\\right)} \\frac{\\partial}{\\partial r}h_2\\left(r\\right) - 12 \\, r e^{\\left(\\lambda\\left(r\\right) + \\nu\\left(r\\right)\\right)} \\frac{\\partial}{\\partial r}k_2\\left(r\\right) + 4 \\, {\\left({\\Omega^{(1)}}^{2} r^{4} - 2 \\, {\\Omega^{(1)}} r^{4} \\omega\\left(r\\right) + r^{4} \\omega\\left(r\\right)^{2}\\right)} \\frac{\\partial}{\\partial r}\\nu\\left(r\\right)^{2} + {\\left(2 \\, r^{5} \\frac{\\partial}{\\partial r}\\nu\\left(r\\right) + r^{4} e^{\\lambda\\left(r\\right)} + 2 \\, r^{4}\\right)} \\frac{\\partial}{\\partial r}\\omega\\left(r\\right)^{2} + 24 \\, e^{\\left(2 \\, \\lambda\\left(r\\right) + \\nu\\left(r\\right)\\right)} k_2\\left(r\\right) + 4 \\, {\\left({\\Omega^{(1)}}^{2} r^{3} - 2 \\, {\\Omega^{(1)}} r^{3} \\omega\\left(r\\right) + r^{3} \\omega\\left(r\\right)^{2}\\right)} \\frac{\\partial}{\\partial r}\\lambda\\left(r\\right) + 2 \\, {\\left(2 \\, {\\Omega^{(1)}}^{2} r^{3} - 4 \\, {\\Omega^{(1)}} r^{3} \\omega\\left(r\\right) + 2 \\, r^{3} \\omega\\left(r\\right)^{2} - 3 \\, r^{2} e^{\\left(\\lambda\\left(r\\right) + \\nu\\left(r\\right)\\right)} \\frac{\\partial}{\\partial r}k_2\\left(r\\right) - 6 \\, r e^{\\left(\\lambda\\left(r\\right) + \\nu\\left(r\\right)\\right)} h_2\\left(r\\right) + 2 \\, {\\left({\\Omega^{(1)}}^{2} r^{4} - 2 \\, {\\Omega^{(1)}} r^{4} \\omega\\left(r\\right) + r^{4} \\omega\\left(r\\right)^{2}\\right)} \\frac{\\partial}{\\partial r}\\lambda\\left(r\\right)\\right)} \\frac{\\partial}{\\partial r}\\nu\\left(r\\right)\\right)} e^{\\left(-2 \\, \\lambda\\left(r\\right) - \\nu\\left(r\\right)\\right)}}{24 \\, \\pi r^{2}}$$"
      ],
      "text/plain": [
       "P^{(2)}_2 =  -1/24*(12*(3*e^(2*lamb(r)) - e^lamb(r))*e^nu(r)*h2(r) - 12*r*e^(lamb(r) + nu(r))*diff(h2(r), r) - 12*r*e^(lamb(r) + nu(r))*diff(k2(r), r) + 4*(Omega1^2*r^4 - 2*Omega1*r^4*omega(r) + r^4*omega(r)^2)*diff(nu(r), r)^2 + (2*r^5*diff(nu(r), r) + r^4*e^lamb(r) + 2*r^4)*diff(omega(r), r)^2 + 24*e^(2*lamb(r) + nu(r))*k2(r) + 4*(Omega1^2*r^3 - 2*Omega1*r^3*omega(r) + r^3*omega(r)^2)*diff(lamb(r), r) + 2*(2*Omega1^2*r^3 - 4*Omega1*r^3*omega(r) + 2*r^3*omega(r)^2 - 3*r^2*e^(lamb(r) + nu(r))*diff(k2(r), r) - 6*r*e^(lamb(r) + nu(r))*h2(r) + 2*(Omega1^2*r^4 - 2*Omega1*r^4*omega(r) + r^4*omega(r)^2)*diff(lamb(r), r))*diff(nu(r), r))*e^(-2*lamb(r) - nu(r))/(pi*r^2)"
      ]
     },
     "metadata": {},
     "output_type": "display_data"
    }
   ],
   "source": [
    "ddEq11 = (ddG[1,1] - kappa*ddT[1,1] == 0).simplify_full()\n",
    "\n",
    "for ii in range(0,len(sus_legendre)):\n",
    "    ddEq11 = ddEq11.subs(sus_legendre[ii])\n",
    "\n",
    "ddEq_11 = (ddEq11.subs(LP1==0) - ddEq11.subs(LP1==0).subs(LP2==0))/LP2\n",
    "\n",
    "P22_value = solve(ddEq_11,P22)[0].rhs()\n",
    "for ii in range(0,len(sus_func)):\n",
    "    P22_value = P22_value.subs(sus_func[ii])\n",
    "P22_value = P22_value.simplify_full()\n",
    "\n",
    "ddG = ddG.subs(P22==P22_value)\n",
    "ddT = ddT.subs(P22==P22_value)\n",
    "sus_func.extend([P22==P22_value])\n",
    "\n",
    "show(LatexExpr(\"P^{(2)}_2 = \"), P22_value)"
   ]
  },
  {
   "cell_type": "code",
   "execution_count": 27,
   "metadata": {},
   "outputs": [
    {
     "data": {
      "text/html": [
       "<html>\\[\\newcommand{\\Bold}[1]{\\mathbf{#1}}k_2' =  \\frac{1}{12} \\, {\\left(2 \\, {\\left({\\Omega^{(1)}}^{2} r^{3} - 2 \\, {\\Omega^{(1)}} r^{3} \\omega\\left(r\\right) + r^{3} \\omega\\left(r\\right)^{2}\\right)} \\frac{\\partial}{\\partial r}\\nu\\left(r\\right)^{2} + {\\left(r^{4} \\frac{\\partial}{\\partial r}\\nu\\left(r\\right) + 2 \\, r^{3}\\right)} \\frac{\\partial}{\\partial r}\\omega\\left(r\\right)^{2} - 12 \\, e^{\\left(\\lambda\\left(r\\right) + \\nu\\left(r\\right)\\right)} \\frac{\\partial}{\\partial r}h_2\\left(r\\right) + 4 \\, {\\left({\\Omega^{(1)}}^{2} r^{2} - 2 \\, {\\Omega^{(1)}} r^{2} \\omega\\left(r\\right) + r^{2} \\omega\\left(r\\right)^{2}\\right)} \\frac{\\partial}{\\partial r}\\lambda\\left(r\\right) + 2 \\, {\\left(2 \\, {\\Omega^{(1)}}^{2} r^{2} - 4 \\, {\\Omega^{(1)}} r^{2} \\omega\\left(r\\right) + 2 \\, r^{2} \\omega\\left(r\\right)^{2} - 6 \\, e^{\\left(\\lambda\\left(r\\right) + \\nu\\left(r\\right)\\right)} h_2\\left(r\\right) + {\\left({\\Omega^{(1)}}^{2} r^{3} - 2 \\, {\\Omega^{(1)}} r^{3} \\omega\\left(r\\right) + r^{3} \\omega\\left(r\\right)^{2}\\right)} \\frac{\\partial}{\\partial r}\\lambda\\left(r\\right)\\right)} \\frac{\\partial}{\\partial r}\\nu\\left(r\\right)\\right)} e^{\\left(-\\lambda\\left(r\\right) - \\nu\\left(r\\right)\\right)} \\rightarrow \\mathrm{True}\\]</html>"
      ],
      "text/latex": [
       "$$\\newcommand{\\Bold}[1]{\\mathbf{#1}}k_2' =  \\frac{1}{12} \\, {\\left(2 \\, {\\left({\\Omega^{(1)}}^{2} r^{3} - 2 \\, {\\Omega^{(1)}} r^{3} \\omega\\left(r\\right) + r^{3} \\omega\\left(r\\right)^{2}\\right)} \\frac{\\partial}{\\partial r}\\nu\\left(r\\right)^{2} + {\\left(r^{4} \\frac{\\partial}{\\partial r}\\nu\\left(r\\right) + 2 \\, r^{3}\\right)} \\frac{\\partial}{\\partial r}\\omega\\left(r\\right)^{2} - 12 \\, e^{\\left(\\lambda\\left(r\\right) + \\nu\\left(r\\right)\\right)} \\frac{\\partial}{\\partial r}h_2\\left(r\\right) + 4 \\, {\\left({\\Omega^{(1)}}^{2} r^{2} - 2 \\, {\\Omega^{(1)}} r^{2} \\omega\\left(r\\right) + r^{2} \\omega\\left(r\\right)^{2}\\right)} \\frac{\\partial}{\\partial r}\\lambda\\left(r\\right) + 2 \\, {\\left(2 \\, {\\Omega^{(1)}}^{2} r^{2} - 4 \\, {\\Omega^{(1)}} r^{2} \\omega\\left(r\\right) + 2 \\, r^{2} \\omega\\left(r\\right)^{2} - 6 \\, e^{\\left(\\lambda\\left(r\\right) + \\nu\\left(r\\right)\\right)} h_2\\left(r\\right) + {\\left({\\Omega^{(1)}}^{2} r^{3} - 2 \\, {\\Omega^{(1)}} r^{3} \\omega\\left(r\\right) + r^{3} \\omega\\left(r\\right)^{2}\\right)} \\frac{\\partial}{\\partial r}\\lambda\\left(r\\right)\\right)} \\frac{\\partial}{\\partial r}\\nu\\left(r\\right)\\right)} e^{\\left(-\\lambda\\left(r\\right) - \\nu\\left(r\\right)\\right)} \\rightarrow \\mathrm{True}$$"
      ],
      "text/plain": [
       "k_2' =  1/12*(2*(Omega1^2*r^3 - 2*Omega1*r^3*omega(r) + r^3*omega(r)^2)*diff(nu(r), r)^2 + (r^4*diff(nu(r), r) + 2*r^3)*diff(omega(r), r)^2 - 12*e^(lamb(r) + nu(r))*diff(h2(r), r) + 4*(Omega1^2*r^2 - 2*Omega1*r^2*omega(r) + r^2*omega(r)^2)*diff(lamb(r), r) + 2*(2*Omega1^2*r^2 - 4*Omega1*r^2*omega(r) + 2*r^2*omega(r)^2 - 6*e^(lamb(r) + nu(r))*h2(r) + (Omega1^2*r^3 - 2*Omega1*r^3*omega(r) + r^3*omega(r)^2)*diff(lamb(r), r))*diff(nu(r), r))*e^(-lamb(r) - nu(r)) \\rightarrow True"
      ]
     },
     "metadata": {},
     "output_type": "display_data"
    }
   ],
   "source": [
    "ddEq_12 = ddG[1,2]-kappa*ddT[1,2] == 0\n",
    "\n",
    "dk2_value = solve(ddEq_12, diff(k2,r))[0].rhs().simplify_full()\n",
    "\n",
    "dk2_paper = -h2*diff(nu,r)-diff(h2,r)\\\n",
    "            +(1/r+diff(nu,r)/2)*(-2/3*r^3*j*diff(j,r)*(omega-Omega1)^2\\\n",
    "                                 +1/6*j^2*r^4*diff(omega,r)^2)\n",
    "\n",
    "for ii in range(0,len(sus_func)):\n",
    "    dk2_value = dk2_value.subs(sus_func[ii])\n",
    "    dk2_paper = dk2_paper.subs(sus_func[ii])\n",
    "\n",
    "dk2_value = dk2_value.simplify_full()\n",
    "ddk2_value = diff(dk2_value,r)\n",
    "for ii in range(0,len(sus_func)):\n",
    "    ddk2_value = ddk2_value.subs(sus_func[ii])\n",
    "\n",
    "ddG = ddG.subs(diff(k2,r,r)==ddk2_value).subs(diff(k2,r)==dk2_value)\n",
    "ddT = ddT.subs(diff(k2,r,r)==ddk2_value).subs(diff(k2,r)==dk2_value)\n",
    "sus_func.extend([diff(k2,r,r)==ddk2_value, diff(k2,r)==dk2_value])\n",
    "\n",
    "dk2_check = (dk2_value - dk2_paper).simplify_full()\n",
    "\n",
    "show(LatexExpr(\"k_2' = \"), dk2_value, LatexExpr(\"\\\\rightarrow\"), bool(dk2_check==0))"
   ]
  },
  {
   "cell_type": "code",
   "execution_count": 28,
   "metadata": {
    "scrolled": false
   },
   "outputs": [
    {
     "data": {
      "text/html": [
       "<html>\\[\\newcommand{\\Bold}[1]{\\mathbf{#1}}h_{2}' =  \\frac{{\\left(2 \\, {\\left({\\Omega^{(1)}}^{2} r^{5} - 2 \\, {\\Omega^{(1)}} r^{5} \\omega\\left(r\\right) + r^{5} \\omega\\left(r\\right)^{2}\\right)} \\frac{\\partial}{\\partial r}\\nu\\left(r\\right)^{3} - 24 \\, {\\left(3 \\, e^{\\left(2 \\, \\lambda\\left(r\\right)\\right)} - e^{\\lambda\\left(r\\right)}\\right)} e^{\\nu\\left(r\\right)} h_2\\left(r\\right) - 2 \\, {\\left(6 \\, r^{2} e^{\\left(\\lambda\\left(r\\right) + \\nu\\left(r\\right)\\right)} h_2\\left(r\\right) - {\\left({\\Omega^{(1)}}^{2} r^{5} - 2 \\, {\\Omega^{(1)}} r^{5} \\omega\\left(r\\right) + r^{5} \\omega\\left(r\\right)^{2}\\right)} \\frac{\\partial}{\\partial r}\\lambda\\left(r\\right)\\right)} \\frac{\\partial}{\\partial r}\\nu\\left(r\\right)^{2} + {\\left(r^{6} \\frac{\\partial}{\\partial r}\\nu\\left(r\\right)^{2} - 2 \\, r^{4} e^{\\lambda\\left(r\\right)}\\right)} \\frac{\\partial}{\\partial r}\\omega\\left(r\\right)^{2} - 48 \\, e^{\\left(2 \\, \\lambda\\left(r\\right) + \\nu\\left(r\\right)\\right)} k_2\\left(r\\right) + 4 \\, {\\left({\\Omega^{(1)}}^{2} r^{3} e^{\\lambda\\left(r\\right)} - 2 \\, {\\Omega^{(1)}} r^{3} e^{\\lambda\\left(r\\right)} \\omega\\left(r\\right) + r^{3} e^{\\lambda\\left(r\\right)} \\omega\\left(r\\right)^{2} + 3 \\, r e^{\\left(\\lambda\\left(r\\right) + \\nu\\left(r\\right)\\right)} h_2\\left(r\\right)\\right)} \\frac{\\partial}{\\partial r}\\lambda\\left(r\\right) + 4 \\, {\\left({\\Omega^{(1)}}^{2} r^{3} e^{\\lambda\\left(r\\right)} - 2 \\, {\\Omega^{(1)}} r^{3} e^{\\lambda\\left(r\\right)} \\omega\\left(r\\right) + r^{3} e^{\\lambda\\left(r\\right)} \\omega\\left(r\\right)^{2} + 3 \\, r e^{\\left(\\lambda\\left(r\\right) + \\nu\\left(r\\right)\\right)} h_2\\left(r\\right)\\right)} \\frac{\\partial}{\\partial r}\\nu\\left(r\\right)\\right)} e^{\\left(-\\lambda\\left(r\\right) - \\nu\\left(r\\right)\\right)}}{12 \\, r^{2} \\frac{\\partial}{\\partial r}\\nu\\left(r\\right)} \\rightarrow \\mathrm{True}\\]</html>"
      ],
      "text/latex": [
       "$$\\newcommand{\\Bold}[1]{\\mathbf{#1}}h_{2}' =  \\frac{{\\left(2 \\, {\\left({\\Omega^{(1)}}^{2} r^{5} - 2 \\, {\\Omega^{(1)}} r^{5} \\omega\\left(r\\right) + r^{5} \\omega\\left(r\\right)^{2}\\right)} \\frac{\\partial}{\\partial r}\\nu\\left(r\\right)^{3} - 24 \\, {\\left(3 \\, e^{\\left(2 \\, \\lambda\\left(r\\right)\\right)} - e^{\\lambda\\left(r\\right)}\\right)} e^{\\nu\\left(r\\right)} h_2\\left(r\\right) - 2 \\, {\\left(6 \\, r^{2} e^{\\left(\\lambda\\left(r\\right) + \\nu\\left(r\\right)\\right)} h_2\\left(r\\right) - {\\left({\\Omega^{(1)}}^{2} r^{5} - 2 \\, {\\Omega^{(1)}} r^{5} \\omega\\left(r\\right) + r^{5} \\omega\\left(r\\right)^{2}\\right)} \\frac{\\partial}{\\partial r}\\lambda\\left(r\\right)\\right)} \\frac{\\partial}{\\partial r}\\nu\\left(r\\right)^{2} + {\\left(r^{6} \\frac{\\partial}{\\partial r}\\nu\\left(r\\right)^{2} - 2 \\, r^{4} e^{\\lambda\\left(r\\right)}\\right)} \\frac{\\partial}{\\partial r}\\omega\\left(r\\right)^{2} - 48 \\, e^{\\left(2 \\, \\lambda\\left(r\\right) + \\nu\\left(r\\right)\\right)} k_2\\left(r\\right) + 4 \\, {\\left({\\Omega^{(1)}}^{2} r^{3} e^{\\lambda\\left(r\\right)} - 2 \\, {\\Omega^{(1)}} r^{3} e^{\\lambda\\left(r\\right)} \\omega\\left(r\\right) + r^{3} e^{\\lambda\\left(r\\right)} \\omega\\left(r\\right)^{2} + 3 \\, r e^{\\left(\\lambda\\left(r\\right) + \\nu\\left(r\\right)\\right)} h_2\\left(r\\right)\\right)} \\frac{\\partial}{\\partial r}\\lambda\\left(r\\right) + 4 \\, {\\left({\\Omega^{(1)}}^{2} r^{3} e^{\\lambda\\left(r\\right)} - 2 \\, {\\Omega^{(1)}} r^{3} e^{\\lambda\\left(r\\right)} \\omega\\left(r\\right) + r^{3} e^{\\lambda\\left(r\\right)} \\omega\\left(r\\right)^{2} + 3 \\, r e^{\\left(\\lambda\\left(r\\right) + \\nu\\left(r\\right)\\right)} h_2\\left(r\\right)\\right)} \\frac{\\partial}{\\partial r}\\nu\\left(r\\right)\\right)} e^{\\left(-\\lambda\\left(r\\right) - \\nu\\left(r\\right)\\right)}}{12 \\, r^{2} \\frac{\\partial}{\\partial r}\\nu\\left(r\\right)} \\rightarrow \\mathrm{True}$$"
      ],
      "text/plain": [
       "h_{2}' =  1/12*(2*(Omega1^2*r^5 - 2*Omega1*r^5*omega(r) + r^5*omega(r)^2)*diff(nu(r), r)^3 - 24*(3*e^(2*lamb(r)) - e^lamb(r))*e^nu(r)*h2(r) - 2*(6*r^2*e^(lamb(r) + nu(r))*h2(r) - (Omega1^2*r^5 - 2*Omega1*r^5*omega(r) + r^5*omega(r)^2)*diff(lamb(r), r))*diff(nu(r), r)^2 + (r^6*diff(nu(r), r)^2 - 2*r^4*e^lamb(r))*diff(omega(r), r)^2 - 48*e^(2*lamb(r) + nu(r))*k2(r) + 4*(Omega1^2*r^3*e^lamb(r) - 2*Omega1*r^3*e^lamb(r)*omega(r) + r^3*e^lamb(r)*omega(r)^2 + 3*r*e^(lamb(r) + nu(r))*h2(r))*diff(lamb(r), r) + 4*(Omega1^2*r^3*e^lamb(r) - 2*Omega1*r^3*e^lamb(r)*omega(r) + r^3*e^lamb(r)*omega(r)^2 + 3*r*e^(lamb(r) + nu(r))*h2(r))*diff(nu(r), r))*e^(-lamb(r) - nu(r))/(r^2*diff(nu(r), r)) \\rightarrow True"
      ]
     },
     "metadata": {},
     "output_type": "display_data"
    }
   ],
   "source": [
    "ddEq_22 = (ddG[2,2] - kappa*ddT[2,2] == 0).simplify_full()\n",
    "\n",
    "for ii in range(0,len(sus_legendre)):\n",
    "    ddEq_22 = ddEq_22.subs(sus_legendre[ii])\n",
    "\n",
    "ddEq_22 = (ddEq_22.subs(LP1==0) - ddEq_22.subs(LP1==0).subs(LP2==0))/LP2\n",
    "dh2_value = solve(ddEq_22, diff(h2,r))[0].rhs().simplify_full()\n",
    "\n",
    "ddG = ddG.subs(diff(h2,r,r)==diff(dh2_value,r)).subs(diff(h2,r)==dh2_value)\n",
    "ddT = ddT.subs(diff(h2,r,r)==diff(dh2_value,r)).subs(diff(h2,r)==dh2_value)\n",
    "sus_func.extend([diff(h2,r,r)==diff(dh2_value,r), diff(h2,r)==dh2_value])\n",
    "\n",
    "M = r*(1-e^(-lamb))/2\n",
    "dh2_paper = (-diff(nu,r)+r/((r-2*M)*diff(nu,r))*(8*pi*(E+P)-4*M/r^3))*h2\\\n",
    "            -4*(h2+k2)/(r*diff(nu,r)*(r-2*M))\\\n",
    "            +1/6*(1/2*r*diff(nu,r)-1/((r-2*M)*diff(nu,r)))*r^3*j^2*diff(omega,r)^2\\\n",
    "            -1/3*(1/2*r*diff(nu,r)+1/((r-2*M)*diff(nu,r)))*r^2*diff(j^2,r)*(omega-Omega1)^2\n",
    "\n",
    "for ii in range(0,len(sus_func)):\n",
    "    dh2_paper = dh2_paper.subs(sus_func[ii])\n",
    "\n",
    "dh2_value = dh2_value.simplify_full()\n",
    "dh2_check = dh2_value - dh2_paper\n",
    "\n",
    "show(LatexExpr(\"h_{2}' = \"), dh2_value, LatexExpr(\"\\\\rightarrow\"), bool(dh2_check==0))"
   ]
  }
 ],
 "metadata": {
  "kernelspec": {
   "display_name": "SageMath 9.4",
   "language": "sage",
   "name": "sagemath-9.4"
  },
  "language_info": {
   "codemirror_mode": {
    "name": "ipython",
    "version": 3
   },
   "file_extension": ".py",
   "mimetype": "text/x-python",
   "name": "python",
   "nbconvert_exporter": "python",
   "pygments_lexer": "ipython3",
   "version": "3.9.5"
  }
 },
 "nbformat": 4,
 "nbformat_minor": 4
}
