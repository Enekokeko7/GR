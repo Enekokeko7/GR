{
 "cells": [
  {
   "cell_type": "code",
   "execution_count": 1,
   "metadata": {},
   "outputs": [],
   "source": [
    "%display latex"
   ]
  },
  {
   "cell_type": "code",
   "execution_count": 2,
   "metadata": {},
   "outputs": [],
   "source": [
    "import numpy as np\n",
    "import matplotlib.pyplot as plt\n",
    "import time\n",
    "import os"
   ]
  },
  {
   "cell_type": "code",
   "execution_count": 3,
   "metadata": {},
   "outputs": [],
   "source": [
    "eps = var('eps', latex_name = '\\\\varepsilon')\n",
    "t = var('t')\n",
    "r = var('r')\n",
    "th = var('th', latex_name = '\\\\theta')\n",
    "ph = var('ph', latex_name = '\\\\varphi')\n",
    "\n",
    "coords = (t,r,th,ph)\n",
    "\n",
    "h = function('h')(r,th)\n",
    "k = function('k')(r,th)\n",
    "m = function('m')(r,th)\n",
    "omega = function('omega', latex_name='\\\\omega')(r,th)\n",
    "\n",
    "nu = function('nu', latex_name='\\\\nu')(r)\n",
    "lamb = function('lamb', latex_name='\\\\lambda')(r)\n",
    "\n",
    "Omegae = function('Omegaevalue')(eps)\n",
    "Ne = function('Ne', latex_name='N_e')(r,eps)"
   ]
  },
  {
   "cell_type": "code",
   "execution_count": 4,
   "metadata": {},
   "outputs": [],
   "source": [
    "def cosmotensors(gedd):\n",
    "    \n",
    "    geuu = 1/gedd\n",
    "    \n",
    "    chris = [[[0 for k in range(0,4)] for j in range(0,4)] for i in range(0,4)]\n",
    "    for i in range(0,4):\n",
    "        for j in range(0,4):\n",
    "            for k in range(0,4):\n",
    "                chris[i][j][k] = 0.5*sum(geuu[i,dd]*(derivative(gdd[dd,j],coords[k])\n",
    "                                                  + derivative(gdd[dd,k],coords[j])\n",
    "                                                  - derivative(gdd[j,k],coords[dd])) for dd in range(0,4))\n",
    "                \n",
    "    riem = [[[[0 for l in range(0,4)] for k in range(0,4)] for j in range(0,4)] for i in range(0,4)]\n",
    "    for i in range(0,4):\n",
    "        for j in range(0,4):\n",
    "            for k in range(0,4):\n",
    "                for l in range(0,4):\n",
    "                    riem[i][j][k][l] = (derivative(chris[i][j][l],coords[k])\n",
    "                                      - derivative(chris[i][j][k],coords[l])\n",
    "                                      + sum(chris[i][k][dd]*chris[dd][l][j]\n",
    "                                          - chris[i][l][dd]*chris[dd][k][j] for dd in range(0,4)))\n",
    "                    \n",
    "    ricci = matrix(SR, 4, 4)\n",
    "    for i in range(0,4):\n",
    "        for k in range(0,4):\n",
    "            ricci[i,k] = sum(riem[dd][i][dd][k] for dd in range(0,4))\n",
    "            \n",
    "    s_curv = sum(sum(ricci[i,j]*geuu[i,j] for i in range(0,4)) for j in range(0,4))\n",
    "    \n",
    "    eins = matrix(SR, 4, 4)\n",
    "    eins = ricci - 0.5*gedd*s_curv\n",
    "    \n",
    "    deins = matrix(SR, 4, 4)\n",
    "    ddeins = matrix(SR, 4, 4)\n",
    "    for i in range(0,4):\n",
    "        for j in range(0,4):\n",
    "            deins[i,j] = diff(eins[i,j],eps)\n",
    "            ddeins[i,j] = diff(eins[i,j],eps,eps)\n",
    "    \n",
    "    return {'inverse_metric': geuu,\n",
    "            'einstein': eins,\n",
    "            'd_einstein': deins,\n",
    "            'dd_einstein': ddeins}"
   ]
  },
  {
   "cell_type": "code",
   "execution_count": 5,
   "metadata": {},
   "outputs": [
    {
     "name": "stdout",
     "output_type": "stream",
     "text": [
      "--- 5.804556846618652 seconds ---\n"
     ]
    }
   ],
   "source": [
    "start_time = time.time()\n",
    "\n",
    "gdd = matrix(SR, 4, 4)\n",
    "\n",
    "gdd[0,0] = -exp(nu)\n",
    "gdd[1,1] = exp(lamb)\n",
    "gdd[2,2] = r^2\n",
    "gdd[3,3] = r^2*sin(th)^2\n",
    "\n",
    "guu = 1/gdd\n",
    "\n",
    "K1 = matrix(SR, 4, 4)\n",
    "K1[0,3] = -omega*r^2*sin(th)^2\n",
    "K1[3,0] = -omega*r^2*sin(th)^2\n",
    "\n",
    "K2 = matrix(SR, 4, 4)\n",
    "K2[0,0] = -4*exp(nu)*h + 2*r^2*sin(th)^2*omega^2\n",
    "K2[1,1] = 4*exp(lamb)*m\n",
    "K2[2,2] = 4*k*r^2\n",
    "K2[3,3] = 4*k*r^2*sin(th)^2\n",
    "\n",
    "gedd = matrix(SR, 4, 4)\n",
    "for i in range(0,4):\n",
    "    for j in range(0,4):\n",
    "        gedd[i,j] = gdd[i,j] + eps*K1[i,j] + 1/2*eps^2*K2[i,j]\n",
    "\n",
    "tensors = cosmotensors(gedd)\n",
    "\n",
    "geuu = tensors['inverse_metric']\n",
    "eins = tensors['einstein']                                                                               #G_\\mu\\nu e\n",
    "deins = tensors['d_einstein']\n",
    "ddeins = tensors['dd_einstein']\n",
    "\n",
    "print(\"--- %s seconds ---\" % (time.time() - start_time))"
   ]
  },
  {
   "cell_type": "code",
   "execution_count": 6,
   "metadata": {},
   "outputs": [
    {
     "data": {
      "text/html": [
       "<html>\\[\\newcommand{\\Bold}[1]{\\mathbf{#1}}\\verb|ge0|\\phantom{\\verb!x!}\\verb|=| \\left(\\begin{array}{rrrr}\n",
       "-e^{\\nu\\left(r\\right)} & 0 & 0 & 0 \\\\\n",
       "0 & e^{\\lambda\\left(r\\right)} & 0 & 0 \\\\\n",
       "0 & 0 & r^{2} & 0 \\\\\n",
       "0 & 0 & 0 & r^{2} \\sin\\left({\\theta}\\right)^{2}\n",
       "\\end{array}\\right)\\]</html>"
      ],
      "text/latex": [
       "$$\\newcommand{\\Bold}[1]{\\mathbf{#1}}\\verb|ge0|\\phantom{\\verb!x!}\\verb|=| \\left(\\begin{array}{rrrr}\n",
       "-e^{\\nu\\left(r\\right)} & 0 & 0 & 0 \\\\\n",
       "0 & e^{\\lambda\\left(r\\right)} & 0 & 0 \\\\\n",
       "0 & 0 & r^{2} & 0 \\\\\n",
       "0 & 0 & 0 & r^{2} \\sin\\left({\\theta}\\right)^{2}\n",
       "\\end{array}\\right)$$"
      ],
      "text/plain": [
       "'ge0 = ' [     -e^nu(r)             0             0             0]\n",
       "[            0     e^lamb(r)             0             0]\n",
       "[            0             0           r^2             0]\n",
       "[            0             0             0 r^2*sin(th)^2]"
      ]
     },
     "metadata": {},
     "output_type": "display_data"
    },
    {
     "data": {
      "text/html": [
       "<html>\\[\\newcommand{\\Bold}[1]{\\mathbf{#1}}\\verb|K1|\\phantom{\\verb!x!}\\verb|=| \\left(\\begin{array}{rrrr}\n",
       "0 & 0 & 0 & -r^{2} \\omega\\left(r, {\\theta}\\right) \\sin\\left({\\theta}\\right)^{2} \\\\\n",
       "0 & 0 & 0 & 0 \\\\\n",
       "0 & 0 & 0 & 0 \\\\\n",
       "-r^{2} \\omega\\left(r, {\\theta}\\right) \\sin\\left({\\theta}\\right)^{2} & 0 & 0 & 0\n",
       "\\end{array}\\right)\\]</html>"
      ],
      "text/latex": [
       "$$\\newcommand{\\Bold}[1]{\\mathbf{#1}}\\verb|K1|\\phantom{\\verb!x!}\\verb|=| \\left(\\begin{array}{rrrr}\n",
       "0 & 0 & 0 & -r^{2} \\omega\\left(r, {\\theta}\\right) \\sin\\left({\\theta}\\right)^{2} \\\\\n",
       "0 & 0 & 0 & 0 \\\\\n",
       "0 & 0 & 0 & 0 \\\\\n",
       "-r^{2} \\omega\\left(r, {\\theta}\\right) \\sin\\left({\\theta}\\right)^{2} & 0 & 0 & 0\n",
       "\\end{array}\\right)$$"
      ],
      "text/plain": [
       "'K1 = ' [                          0                           0                           0 -r^2*omega(r, th)*sin(th)^2]\n",
       "[                          0                           0                           0                           0]\n",
       "[                          0                           0                           0                           0]\n",
       "[-r^2*omega(r, th)*sin(th)^2                           0                           0                           0]"
      ]
     },
     "metadata": {},
     "output_type": "display_data"
    },
    {
     "data": {
      "text/html": [
       "<html>\\[\\newcommand{\\Bold}[1]{\\mathbf{#1}}\\verb|K2|\\phantom{\\verb!x!}\\verb|=| \\left(\\begin{array}{rrrr}\n",
       "2 \\, r^{2} \\omega\\left(r, {\\theta}\\right)^{2} \\sin\\left({\\theta}\\right)^{2} - 4 \\, e^{\\nu\\left(r\\right)} h\\left(r, {\\theta}\\right) & 0 & 0 & 0 \\\\\n",
       "0 & 4 \\, e^{\\lambda\\left(r\\right)} m\\left(r, {\\theta}\\right) & 0 & 0 \\\\\n",
       "0 & 0 & 4 \\, r^{2} k\\left(r, {\\theta}\\right) & 0 \\\\\n",
       "0 & 0 & 0 & 4 \\, r^{2} k\\left(r, {\\theta}\\right) \\sin\\left({\\theta}\\right)^{2}\n",
       "\\end{array}\\right)\\]</html>"
      ],
      "text/latex": [
       "$$\\newcommand{\\Bold}[1]{\\mathbf{#1}}\\verb|K2|\\phantom{\\verb!x!}\\verb|=| \\left(\\begin{array}{rrrr}\n",
       "2 \\, r^{2} \\omega\\left(r, {\\theta}\\right)^{2} \\sin\\left({\\theta}\\right)^{2} - 4 \\, e^{\\nu\\left(r\\right)} h\\left(r, {\\theta}\\right) & 0 & 0 & 0 \\\\\n",
       "0 & 4 \\, e^{\\lambda\\left(r\\right)} m\\left(r, {\\theta}\\right) & 0 & 0 \\\\\n",
       "0 & 0 & 4 \\, r^{2} k\\left(r, {\\theta}\\right) & 0 \\\\\n",
       "0 & 0 & 0 & 4 \\, r^{2} k\\left(r, {\\theta}\\right) \\sin\\left({\\theta}\\right)^{2}\n",
       "\\end{array}\\right)$$"
      ],
      "text/plain": [
       "'K2 = ' [2*r^2*omega(r, th)^2*sin(th)^2 - 4*e^nu(r)*h(r, th)                                                   0                                                   0                                                   0]\n",
       "[                                                  0                                4*e^lamb(r)*m(r, th)                                                   0                                                   0]\n",
       "[                                                  0                                                   0                                      4*r^2*k(r, th)                                                   0]\n",
       "[                                                  0                                                   0                                                   0                            4*r^2*k(r, th)*sin(th)^2]"
      ]
     },
     "metadata": {},
     "output_type": "display_data"
    },
    {
     "data": {
      "text/html": [
       "<html>\\[\\newcommand{\\Bold}[1]{\\mathbf{#1}}\\verb|ge|\\phantom{\\verb!x!}\\verb|=| \\left(\\begin{array}{rrrr}\n",
       "{\\left(r^{2} \\omega\\left(r, {\\theta}\\right)^{2} \\sin\\left({\\theta}\\right)^{2} - 2 \\, e^{\\nu\\left(r\\right)} h\\left(r, {\\theta}\\right)\\right)} {\\varepsilon}^{2} - e^{\\nu\\left(r\\right)} & 0 & 0 & -{\\varepsilon} r^{2} \\omega\\left(r, {\\theta}\\right) \\sin\\left({\\theta}\\right)^{2} \\\\\n",
       "0 & 2 \\, {\\varepsilon}^{2} e^{\\lambda\\left(r\\right)} m\\left(r, {\\theta}\\right) + e^{\\lambda\\left(r\\right)} & 0 & 0 \\\\\n",
       "0 & 0 & 2 \\, {\\varepsilon}^{2} r^{2} k\\left(r, {\\theta}\\right) + r^{2} & 0 \\\\\n",
       "-{\\varepsilon} r^{2} \\omega\\left(r, {\\theta}\\right) \\sin\\left({\\theta}\\right)^{2} & 0 & 0 & 2 \\, {\\varepsilon}^{2} r^{2} k\\left(r, {\\theta}\\right) \\sin\\left({\\theta}\\right)^{2} + r^{2} \\sin\\left({\\theta}\\right)^{2}\n",
       "\\end{array}\\right)\\]</html>"
      ],
      "text/latex": [
       "$$\\newcommand{\\Bold}[1]{\\mathbf{#1}}\\verb|ge|\\phantom{\\verb!x!}\\verb|=| \\left(\\begin{array}{rrrr}\n",
       "{\\left(r^{2} \\omega\\left(r, {\\theta}\\right)^{2} \\sin\\left({\\theta}\\right)^{2} - 2 \\, e^{\\nu\\left(r\\right)} h\\left(r, {\\theta}\\right)\\right)} {\\varepsilon}^{2} - e^{\\nu\\left(r\\right)} & 0 & 0 & -{\\varepsilon} r^{2} \\omega\\left(r, {\\theta}\\right) \\sin\\left({\\theta}\\right)^{2} \\\\\n",
       "0 & 2 \\, {\\varepsilon}^{2} e^{\\lambda\\left(r\\right)} m\\left(r, {\\theta}\\right) + e^{\\lambda\\left(r\\right)} & 0 & 0 \\\\\n",
       "0 & 0 & 2 \\, {\\varepsilon}^{2} r^{2} k\\left(r, {\\theta}\\right) + r^{2} & 0 \\\\\n",
       "-{\\varepsilon} r^{2} \\omega\\left(r, {\\theta}\\right) \\sin\\left({\\theta}\\right)^{2} & 0 & 0 & 2 \\, {\\varepsilon}^{2} r^{2} k\\left(r, {\\theta}\\right) \\sin\\left({\\theta}\\right)^{2} + r^{2} \\sin\\left({\\theta}\\right)^{2}\n",
       "\\end{array}\\right)$$"
      ],
      "text/plain": [
       "'ge = ' [(r^2*omega(r, th)^2*sin(th)^2 - 2*e^nu(r)*h(r, th))*eps^2 - e^nu(r)                                                                   0                                                                   0                                     -eps*r^2*omega(r, th)*sin(th)^2]\n",
       "[                                                                  0                              2*eps^2*e^lamb(r)*m(r, th) + e^lamb(r)                                                                   0                                                                   0]\n",
       "[                                                                  0                                                                   0                                          2*eps^2*r^2*k(r, th) + r^2                                                                   0]\n",
       "[                                    -eps*r^2*omega(r, th)*sin(th)^2                                                                   0                                                                   0                      2*eps^2*r^2*k(r, th)*sin(th)^2 + r^2*sin(th)^2]"
      ]
     },
     "metadata": {},
     "output_type": "display_data"
    }
   ],
   "source": [
    "# Para imprimir \"más bonito\":\n",
    "\n",
    "show(\"ge0 = \", gdd[:])\n",
    "show(\"K1 = \", K1[:])\n",
    "show(\"K2 = \", K2[:])\n",
    "show(\"ge = \", gedd[:])"
   ]
  },
  {
   "cell_type": "code",
   "execution_count": 7,
   "metadata": {},
   "outputs": [],
   "source": [
    "#4-velocities of the fluid for any epsilon\n",
    "\n",
    "ue = [0,0,0,0]\n",
    "u = [0,0,0,0]\n",
    "\n",
    "ue[0] = Ne;         ue[1] = 0;   ue[2] = 0;   ue[3] = Ne*Omegae\n",
    "u[0] = exp(-nu/2);  u[1] =  0;   u[2] = 0;    u[3] =  0\n",
    "\n",
    "Nevalue = solve(u[0]==ue[0], Ne)[0].rhs()                                                             #Eq 4.20\n",
    "Omegaevalue = solve(u[3]==ue[3], Omegae)[0].rhs()                                                     #Eq 4.20"
   ]
  },
  {
   "cell_type": "code",
   "execution_count": 8,
   "metadata": {},
   "outputs": [
    {
     "data": {
      "text/html": [
       "<html>\\[\\newcommand{\\Bold}[1]{\\mathbf{#1}}N_{\\varepsilon}\\lvert_0 =  e^{\\left(-\\frac{1}{2} \\, \\nu\\left(r\\right)\\right)}\\]</html>"
      ],
      "text/latex": [
       "$$\\newcommand{\\Bold}[1]{\\mathbf{#1}}N_{\\varepsilon}\\lvert_0 =  e^{\\left(-\\frac{1}{2} \\, \\nu\\left(r\\right)\\right)}$$"
      ],
      "text/plain": [
       "N_{\\varepsilon}\\lvert_0 =  e^(-1/2*nu(r))"
      ]
     },
     "metadata": {},
     "output_type": "display_data"
    },
    {
     "data": {
      "text/html": [
       "<html>\\[\\newcommand{\\Bold}[1]{\\mathbf{#1}}\\Omega_{\\varepsilon}\\lvert_0 =  0\\]</html>"
      ],
      "text/latex": [
       "$$\\newcommand{\\Bold}[1]{\\mathbf{#1}}\\Omega_{\\varepsilon}\\lvert_0 =  0$$"
      ],
      "text/plain": [
       "\\Omega_{\\varepsilon}\\lvert_0 =  0"
      ]
     },
     "metadata": {},
     "output_type": "display_data"
    }
   ],
   "source": [
    "show(LatexExpr(\"N_{\\\\varepsilon}\\lvert_0 = \"), Nevalue)\n",
    "show(LatexExpr(\"\\\\Omega_{\\\\varepsilon}\\lvert_0 = \"), Omegaevalue)"
   ]
  },
  {
   "cell_type": "code",
   "execution_count": 13,
   "metadata": {},
   "outputs": [],
   "source": [
    "u1 = [0,0,0,0]\n",
    "u2 = [0,0,0,0]\n",
    "\n",
    "u10 = function('u10',latex_name=\"u^{(1)0}\")(r)\n",
    "u20 = function('u20',latex_name=\"u^{(2)0}\")(r)\n",
    "\n",
    "Omega1 = function('Omega1', latex_name=\"\\\\Omega^{(1)}\")(eps)\n",
    "Omega2 = function('Omega2', latex_name=\"\\\\Omega^{(2)}\")(eps)\n",
    "\n",
    "s0 = eps == 0\n",
    "s1 = Ne.subs(eps==0) == Nevalue\n",
    "s2 = Omegae.subs(eps==0) == Omegaevalue\n",
    "s3 = diff(Ne,eps).subs(eps==0) == u10\n",
    "s4 = diff(Omegae,eps).subs(eps==0) == Omega1\n",
    "s5 = diff(Ne,eps,eps).subs(eps==0) == u20\n",
    "s6 = diff(Omegae,eps,eps).subs(eps==0) == Omega2\n",
    "\n",
    "sustituciones = (s0,s1,s2,s3,s4,s5,s6)\n",
    "\n",
    "for i in range(0,4):\n",
    "    u1[i] = diff(ue[i],eps).subs(sustituciones)\n",
    "    u2[i] = diff(ue[i],eps,eps).subs(sustituciones)\n",
    "\n",
    "Ue = [0,0,0,0]\n",
    "for i in range(0,4):\n",
    "    for j in range(0,4):\n",
    "        Ue[i] += ue[j]*gedd[j,i]\n",
    "\n",
    "geUeue = 0\n",
    "for i in range(0,4):\n",
    "    geUeue += Ue[i]*ue[i]\n",
    "\n",
    "dgeUeue = diff(geUeue, eps).subs(sustituciones) == 0\n",
    "u10value = solve(dgeUeue, u10)[0].rhs()\n",
    "s7 = u10 == u10value\n",
    "for i in range(0,4):\n",
    "    u1[i] = u1[i].subs(s7)                                                                                 #Eq 4.21\n",
    "\n",
    "ddgeUeue = diff(geUeue, eps, eps).subs(sustituciones) == 0\n",
    "u20value = solve(ddgeUeue, u20)[0].rhs()\n",
    "s8 = u20 == u20value\n",
    "for i in range(0,4):\n",
    "    u2[i] = u2[i].subs(u20==u20value).subs(u10==u10value)                                                  #Eq 4.22"
   ]
  },
  {
   "cell_type": "code",
   "execution_count": 14,
   "metadata": {},
   "outputs": [
    {
     "data": {
      "text/html": [
       "<html>\\[\\newcommand{\\Bold}[1]{\\mathbf{#1}}u^{(1)} =  \\left[0, 0, 0, \\Omega^{(1)}\\left({\\varepsilon}\\right) e^{\\left(-\\frac{1}{2} \\, \\nu\\left(r\\right)\\right)}\\right]\\]</html>"
      ],
      "text/latex": [
       "$$\\newcommand{\\Bold}[1]{\\mathbf{#1}}u^{(1)} =  \\left[0, 0, 0, \\Omega^{(1)}\\left({\\varepsilon}\\right) e^{\\left(-\\frac{1}{2} \\, \\nu\\left(r\\right)\\right)}\\right]$$"
      ],
      "text/plain": [
       "u^{(1)} =  [0, 0, 0, Omega1(eps)*e^(-1/2*nu(r))]"
      ]
     },
     "metadata": {},
     "output_type": "display_data"
    },
    {
     "data": {
      "text/html": [
       "<html>\\[\\newcommand{\\Bold}[1]{\\mathbf{#1}}u^{(2)} =  \\left[{\\left({\\left(r^{2} \\Omega^{(1)}\\left({\\varepsilon}\\right)^{2} - 2 \\, r^{2} \\Omega^{(1)}\\left({\\varepsilon}\\right) \\omega\\left(r, {\\theta}\\right) + r^{2} \\omega\\left(r, {\\theta}\\right)^{2}\\right)} \\sin\\left({\\theta}\\right)^{2} - 2 \\, e^{\\nu\\left(r\\right)} h\\left(r, {\\theta}\\right)\\right)} e^{\\left(-\\frac{3}{2} \\, \\nu\\left(r\\right)\\right)}, 0, 0, \\Omega^{(2)}\\left({\\varepsilon}\\right) e^{\\left(-\\frac{1}{2} \\, \\nu\\left(r\\right)\\right)}\\right]\\]</html>"
      ],
      "text/latex": [
       "$$\\newcommand{\\Bold}[1]{\\mathbf{#1}}u^{(2)} =  \\left[{\\left({\\left(r^{2} \\Omega^{(1)}\\left({\\varepsilon}\\right)^{2} - 2 \\, r^{2} \\Omega^{(1)}\\left({\\varepsilon}\\right) \\omega\\left(r, {\\theta}\\right) + r^{2} \\omega\\left(r, {\\theta}\\right)^{2}\\right)} \\sin\\left({\\theta}\\right)^{2} - 2 \\, e^{\\nu\\left(r\\right)} h\\left(r, {\\theta}\\right)\\right)} e^{\\left(-\\frac{3}{2} \\, \\nu\\left(r\\right)\\right)}, 0, 0, \\Omega^{(2)}\\left({\\varepsilon}\\right) e^{\\left(-\\frac{1}{2} \\, \\nu\\left(r\\right)\\right)}\\right]$$"
      ],
      "text/plain": [
       "u^{(2)} =  [((r^2*Omega1(eps)^2 - 2*r^2*Omega1(eps)*omega(r, th) + r^2*omega(r, th)^2)*sin(th)^2 - 2*e^nu(r)*h(r, th))*e^(-3/2*nu(r)),\n",
       " 0,\n",
       " 0,\n",
       " Omega2(eps)*e^(-1/2*nu(r))]"
      ]
     },
     "metadata": {},
     "output_type": "display_data"
    }
   ],
   "source": [
    "show(LatexExpr(\"u^{(1)} = \"), u1)\n",
    "show(LatexExpr(\"u^{(2)} = \"), u2)"
   ]
  },
  {
   "cell_type": "code",
   "execution_count": 15,
   "metadata": {},
   "outputs": [],
   "source": [
    "for i in range(0,4):\n",
    "    for j in range(0,4):\n",
    "        deins[i,j] = deins[i,j].subs(sustituciones)                                             #d/de(G_\\mu\\nu)|e=0\n",
    "        ddeins[i,j] = ddeins[i,j].subs(sustituciones)                                       #d^2/de^2(G_\\mu\\nu)|e=0"
   ]
  },
  {
   "cell_type": "code",
   "execution_count": 16,
   "metadata": {},
   "outputs": [],
   "source": [
    "Ee = function('Ee', latex_name='E_{\\\\varepsilon}')(r,eps)\n",
    "Pe = function('Pe', latex_name='P_{\\\\varepsilon}')(r,eps)\n",
    "\n",
    "eins0 = matrix(SR, 4, 4)\n",
    "Tedd = matrix(SR, 4, 4)\n",
    "Tdd = matrix(SR, 4, 4)\n",
    "for i in range(0,4):\n",
    "    for j in range(0,4):\n",
    "        eins0[i,j] = eins[i,j].subs(sustituciones)                                                         #G_\\mu\\nu\n",
    "        Tedd[i,j] = (Ee + Pe)*Ue[i]*Ue[j] + Pe*gedd[i,j]                                                 #T_\\mu\\nu e\n",
    "        Tdd[i,j] = Tedd[i,j].subs(sustituciones)                                                           #T_\\mu\\nu"
   ]
  },
  {
   "cell_type": "code",
   "execution_count": 17,
   "metadata": {},
   "outputs": [
    {
     "data": {
      "text/html": [
       "<html>\\[\\newcommand{\\Bold}[1]{\\mathbf{#1}}T_{\\varepsilon}\\lvert_0 = \\left(\\begin{array}{rrrr}\n",
       "{\\left(E_{\\varepsilon}\\left(r, 0\\right) + P_{\\varepsilon}\\left(r, 0\\right)\\right)} e^{\\nu\\left(r\\right)} - P_{\\varepsilon}\\left(r, 0\\right) e^{\\nu\\left(r\\right)} & 0 & 0 & 0 \\\\\n",
       "0 & P_{\\varepsilon}\\left(r, 0\\right) e^{\\lambda\\left(r\\right)} & 0 & 0 \\\\\n",
       "0 & 0 & r^{2} P_{\\varepsilon}\\left(r, 0\\right) & 0 \\\\\n",
       "0 & 0 & 0 & r^{2} P_{\\varepsilon}\\left(r, 0\\right) \\sin\\left({\\theta}\\right)^{2}\n",
       "\\end{array}\\right)\\]</html>"
      ],
      "text/latex": [
       "$$\\newcommand{\\Bold}[1]{\\mathbf{#1}}T_{\\varepsilon}\\lvert_0 = \\left(\\begin{array}{rrrr}\n",
       "{\\left(E_{\\varepsilon}\\left(r, 0\\right) + P_{\\varepsilon}\\left(r, 0\\right)\\right)} e^{\\nu\\left(r\\right)} - P_{\\varepsilon}\\left(r, 0\\right) e^{\\nu\\left(r\\right)} & 0 & 0 & 0 \\\\\n",
       "0 & P_{\\varepsilon}\\left(r, 0\\right) e^{\\lambda\\left(r\\right)} & 0 & 0 \\\\\n",
       "0 & 0 & r^{2} P_{\\varepsilon}\\left(r, 0\\right) & 0 \\\\\n",
       "0 & 0 & 0 & r^{2} P_{\\varepsilon}\\left(r, 0\\right) \\sin\\left({\\theta}\\right)^{2}\n",
       "\\end{array}\\right)$$"
      ],
      "text/plain": [
       "T_{\\varepsilon}\\lvert_0 = [(Ee(r, 0) + Pe(r, 0))*e^nu(r) - Pe(r, 0)*e^nu(r)                                                0                                                0                                                0]\n",
       "[                                               0                               Pe(r, 0)*e^lamb(r)                                                0                                                0]\n",
       "[                                               0                                                0                                     r^2*Pe(r, 0)                                                0]\n",
       "[                                               0                                                0                                                0                           r^2*Pe(r, 0)*sin(th)^2]"
      ]
     },
     "metadata": {},
     "output_type": "display_data"
    }
   ],
   "source": [
    "show(LatexExpr(\"T_{\\\\varepsilon}\\lvert_0 =\"), Tdd)"
   ]
  },
  {
   "cell_type": "code",
   "execution_count": 18,
   "metadata": {},
   "outputs": [],
   "source": [
    "kappa = 8*pi\n",
    "E = function('E')(r,th)\n",
    "P = function('P')(r,th)\n",
    "\n",
    "s9 = Ee.subs(eps==0) == E\n",
    "s10 = Pe.subs(eps==0) == P\n",
    "sustituciones = (s1,s2,s3,s4,s5,s6,s7,s8,s9,s10)\n",
    "for i in range(0,4):\n",
    "    for j in range(0,4):\n",
    "        Tdd[i,j] = Tdd[i,j].subs(sustituciones)\n",
    "E_tt = solve(eins0[0,0]==kappa*Tdd[0,0],E)[0].rhs()                                                          #Eq 3.7\n",
    "P_rr = solve(eins0[1,1]==kappa*Tdd[1,1],P)[0].rhs()                                                          #Eq 3.8\n",
    "P_thth = solve(eins0[2,2]==kappa*Tdd[2,2],P)[0].rhs()\n",
    "P_phph = solve(eins0[3,3]==kappa*Tdd[3,3],P)[0].rhs()\n",
    "ddnu = solve(P_rr == P_thth, diff(nu,r,r))[0].rhs()                                                          #Eq 3.9"
   ]
  },
  {
   "cell_type": "code",
   "execution_count": 19,
   "metadata": {},
   "outputs": [
    {
     "data": {
      "text/html": [
       "<html>\\[\\newcommand{\\Bold}[1]{\\mathbf{#1}}E =  \\frac{r e^{\\left(-\\lambda\\left(r\\right)\\right)} \\frac{\\partial}{\\partial r}\\lambda\\left(r\\right) - e^{\\left(-\\lambda\\left(r\\right)\\right)} + 1}{8 \\, \\pi r^{2}}\\]</html>"
      ],
      "text/latex": [
       "$$\\newcommand{\\Bold}[1]{\\mathbf{#1}}E =  \\frac{r e^{\\left(-\\lambda\\left(r\\right)\\right)} \\frac{\\partial}{\\partial r}\\lambda\\left(r\\right) - e^{\\left(-\\lambda\\left(r\\right)\\right)} + 1}{8 \\, \\pi r^{2}}$$"
      ],
      "text/plain": [
       "E =  1/8*(r*e^(-lamb(r))*diff(lamb(r), r) - e^(-lamb(r)) + 1)/(pi*r^2)"
      ]
     },
     "metadata": {},
     "output_type": "display_data"
    },
    {
     "data": {
      "text/html": [
       "<html>\\[\\newcommand{\\Bold}[1]{\\mathbf{#1}}P_{rr} =  \\frac{r e^{\\left(-\\lambda\\left(r\\right)\\right)} \\frac{\\partial}{\\partial r}\\nu\\left(r\\right) + e^{\\left(-\\lambda\\left(r\\right)\\right)} - 1}{8 \\, \\pi r^{2}}\\]</html>"
      ],
      "text/latex": [
       "$$\\newcommand{\\Bold}[1]{\\mathbf{#1}}P_{rr} =  \\frac{r e^{\\left(-\\lambda\\left(r\\right)\\right)} \\frac{\\partial}{\\partial r}\\nu\\left(r\\right) + e^{\\left(-\\lambda\\left(r\\right)\\right)} - 1}{8 \\, \\pi r^{2}}$$"
      ],
      "text/plain": [
       "P_{rr} =  1/8*(r*e^(-lamb(r))*diff(nu(r), r) + e^(-lamb(r)) - 1)/(pi*r^2)"
      ]
     },
     "metadata": {},
     "output_type": "display_data"
    },
    {
     "data": {
      "text/html": [
       "<html>\\[\\newcommand{\\Bold}[1]{\\mathbf{#1}}\\nu'' = -\\frac{r^{2} \\frac{\\partial}{\\partial r}\\nu\\left(r\\right)^{2} - 2 \\, r \\frac{\\partial}{\\partial r}\\lambda\\left(r\\right) - {\\left(r^{2} \\frac{\\partial}{\\partial r}\\lambda\\left(r\\right) + 2 \\, r\\right)} \\frac{\\partial}{\\partial r}\\nu\\left(r\\right) + 4 \\, e^{\\lambda\\left(r\\right)} - 4}{2 \\, r^{2}}\\]</html>"
      ],
      "text/latex": [
       "$$\\newcommand{\\Bold}[1]{\\mathbf{#1}}\\nu'' = -\\frac{r^{2} \\frac{\\partial}{\\partial r}\\nu\\left(r\\right)^{2} - 2 \\, r \\frac{\\partial}{\\partial r}\\lambda\\left(r\\right) - {\\left(r^{2} \\frac{\\partial}{\\partial r}\\lambda\\left(r\\right) + 2 \\, r\\right)} \\frac{\\partial}{\\partial r}\\nu\\left(r\\right) + 4 \\, e^{\\lambda\\left(r\\right)} - 4}{2 \\, r^{2}}$$"
      ],
      "text/plain": [
       "\\nu'' = -1/2*(r^2*diff(nu(r), r)^2 - 2*r*diff(lamb(r), r) - (r^2*diff(lamb(r), r) + 2*r)*diff(nu(r), r) + 4*e^lamb(r) - 4)/r^2"
      ]
     },
     "metadata": {},
     "output_type": "display_data"
    }
   ],
   "source": [
    "show(LatexExpr(\"E = \"), E_tt)\n",
    "show(LatexExpr(\"P_{rr} = \"), P_rr)\n",
    "show(LatexExpr(\"\\\\nu'' =\"), ddnu)"
   ]
  },
  {
   "cell_type": "code",
   "execution_count": 20,
   "metadata": {},
   "outputs": [],
   "source": [
    "dlamb = solve(E-E_tt==0,diff(lamb,r))[0].rhs()                                                              #Eq 3.10\n",
    "dnu = solve(P-P_rr==0,diff(nu,r))[0].rhs()                                                                  #Eq 3.11"
   ]
  },
  {
   "cell_type": "code",
   "execution_count": 21,
   "metadata": {},
   "outputs": [
    {
     "data": {
      "text/html": [
       "<html>\\[\\newcommand{\\Bold}[1]{\\mathbf{#1}}\\lambda' =  \\frac{8 \\, \\pi r^{2} E\\left(r, {\\theta}\\right) e^{\\lambda\\left(r\\right)} - e^{\\lambda\\left(r\\right)} + 1}{r}\\]</html>"
      ],
      "text/latex": [
       "$$\\newcommand{\\Bold}[1]{\\mathbf{#1}}\\lambda' =  \\frac{8 \\, \\pi r^{2} E\\left(r, {\\theta}\\right) e^{\\lambda\\left(r\\right)} - e^{\\lambda\\left(r\\right)} + 1}{r}$$"
      ],
      "text/plain": [
       "\\lambda' =  (8*pi*r^2*E(r, th)*e^lamb(r) - e^lamb(r) + 1)/r"
      ]
     },
     "metadata": {},
     "output_type": "display_data"
    },
    {
     "data": {
      "text/html": [
       "<html>\\[\\newcommand{\\Bold}[1]{\\mathbf{#1}}\\nu' =  \\frac{8 \\, \\pi r^{2} P\\left(r, {\\theta}\\right) e^{\\lambda\\left(r\\right)} + e^{\\lambda\\left(r\\right)} - 1}{r}\\]</html>"
      ],
      "text/latex": [
       "$$\\newcommand{\\Bold}[1]{\\mathbf{#1}}\\nu' =  \\frac{8 \\, \\pi r^{2} P\\left(r, {\\theta}\\right) e^{\\lambda\\left(r\\right)} + e^{\\lambda\\left(r\\right)} - 1}{r}$$"
      ],
      "text/plain": [
       "\\nu' =  (8*pi*r^2*P(r, th)*e^lamb(r) + e^lamb(r) - 1)/r"
      ]
     },
     "metadata": {},
     "output_type": "display_data"
    }
   ],
   "source": [
    "show(LatexExpr(\"\\\\lambda' = \"), dlamb)\n",
    "show(LatexExpr(\"\\\\nu' = \"), dnu)"
   ]
  },
  {
   "cell_type": "code",
   "execution_count": 22,
   "metadata": {},
   "outputs": [],
   "source": [
    "h0 = function('h0', latex_name='h_0')(r,th)\n",
    "k0 = function('k0', latex_name='k_0')(r,th)\n",
    "m0 = function('m0', latex_name='m_0')(r,th)\n",
    "\n",
    "h1 = function('h1', latex_name='h_1')(r,th)\n",
    "k1 = function('k1', latex_name='k_1')(r,th)\n",
    "m1 = function('m1', latex_name='m_1')(r,th)\n",
    "\n",
    "h2 = function('h2', latex_name='h_2')(r,th)\n",
    "k2 = function('k2', latex_name='k_2')(r,th)\n",
    "m2 = function('m2', latex_name='m_2')(r,th)\n",
    "\n",
    "LP1 = function('LP1', latex_name='LP_1')(th)\n",
    "LP2 = function('LP2', latex_name='LP_2')(th)\n",
    "\n",
    "E1 = function('E1', latex_name='E_1')(r)\n",
    "E2 = function('E2', latex_name='E_2')(r)\n",
    "P1 = function('P1', latex_name='P_1')(r)\n",
    "P2 = function('P2', latex_name='P_2')(r)"
   ]
  },
  {
   "cell_type": "code",
   "execution_count": 23,
   "metadata": {},
   "outputs": [],
   "source": [
    "s11 = diff(Ee,eps).subs(eps==0) == E1\n",
    "s12 = diff(Ee,eps,eps).subs(eps==0) == E2\n",
    "s13 = diff(Pe,eps).subs(eps==0) == P1\n",
    "s14 = diff(Pe,eps,eps).subs(eps==0) == P2\n",
    "\n",
    "sustituciones = (s0,s1,s2,s3,s4,s5,s6,s7,s8,s9,s10,s11,s12,s13,s14)"
   ]
  },
  {
   "cell_type": "code",
   "execution_count": 24,
   "metadata": {},
   "outputs": [],
   "source": [
    "dTdd = matrix(SR, 4, 4)\n",
    "ddTdd = matrix(SR, 4, 4)\n",
    "for i in range(0,4):\n",
    "    for j in range(0,4):\n",
    "        dTdd[i,j] = diff(Tedd[i,j],eps)\n",
    "        ddTdd[i,j] = diff(Tedd[i,j],eps,eps)\n",
    "    \n",
    "for i in range(0,4):\n",
    "    for j in range(0,4):\n",
    "        dTdd[i,j] = dTdd[i,j].subs(sustituciones)                                               #d/de(T_\\mu\\nu)|e=0\n",
    "        ddTdd[i,j] = ddTdd[i,j].subs(sustituciones)                                         #d^2/de^2(T_\\mu\\nu)|e=0"
   ]
  },
  {
   "cell_type": "code",
   "execution_count": 25,
   "metadata": {},
   "outputs": [
    {
     "data": {
      "text/html": [
       "<html>\\[\\newcommand{\\Bold}[1]{\\mathbf{#1}}-8 \\, \\pi P_1\\left(r\\right) e^{\\lambda\\left(r\\right)} = 0\\]</html>"
      ],
      "text/latex": [
       "$$\\newcommand{\\Bold}[1]{\\mathbf{#1}}-8 \\, \\pi P_1\\left(r\\right) e^{\\lambda\\left(r\\right)} = 0$$"
      ],
      "text/plain": [
       "-8*pi*P1(r)*e^lamb(r) == 0"
      ]
     },
     "metadata": {},
     "output_type": "display_data"
    },
    {
     "data": {
      "text/html": [
       "<html>\\[\\newcommand{\\Bold}[1]{\\mathbf{#1}}-8 \\, \\pi r^{2} P_1\\left(r\\right) = 0\\]</html>"
      ],
      "text/latex": [
       "$$\\newcommand{\\Bold}[1]{\\mathbf{#1}}-8 \\, \\pi r^{2} P_1\\left(r\\right) = 0$$"
      ],
      "text/plain": [
       "-8*pi*r^2*P1(r) == 0"
      ]
     },
     "metadata": {},
     "output_type": "display_data"
    },
    {
     "data": {
      "text/html": [
       "<html>\\[\\newcommand{\\Bold}[1]{\\mathbf{#1}}-8 \\, \\pi r^{2} P_1\\left(r\\right) \\sin\\left({\\theta}\\right)^{2} = 0\\]</html>"
      ],
      "text/latex": [
       "$$\\newcommand{\\Bold}[1]{\\mathbf{#1}}-8 \\, \\pi r^{2} P_1\\left(r\\right) \\sin\\left({\\theta}\\right)^{2} = 0$$"
      ],
      "text/plain": [
       "-8*pi*r^2*P1(r)*sin(th)^2 == 0"
      ]
     },
     "metadata": {},
     "output_type": "display_data"
    },
    {
     "data": {
      "text/html": [
       "<html>\\[\\newcommand{\\Bold}[1]{\\mathbf{#1}}\\text{De aquí sacamos }P_1(r) \\rightarrow P_1(r) =  0\\]</html>"
      ],
      "text/latex": [
       "$$\\newcommand{\\Bold}[1]{\\mathbf{#1}}\\text{De aquí sacamos }P_1(r) \\rightarrow P_1(r) =  0$$"
      ],
      "text/plain": [
       "\\text{De aquí sacamos }P_1(r) \\rightarrow P_1(r) =  0"
      ]
     },
     "metadata": {},
     "output_type": "display_data"
    }
   ],
   "source": [
    "# Calculamos ahora la primera derivada de la ecuación\n",
    "\n",
    "dEq11 = deins[1,1] - kappa*dTdd[1,1] == 0\n",
    "dEq11 = dEq11.simplify_full()\n",
    "\n",
    "dEq22 = deins[2,2] - kappa*dTdd[2,2] == 0\n",
    "dEq22 = dEq22.simplify_full()\n",
    "\n",
    "dEq33 = deins[3,3] - kappa*dTdd[3,3] == 0\n",
    "dEq33 = dEq33.simplify_full()\n",
    "\n",
    "show(dEq11)\n",
    "show(dEq22)\n",
    "show(dEq33)\n",
    "\n",
    "P1value = solve(dEq11,P1)[0].rhs()\n",
    "\n",
    "show(LatexExpr(\"\\\\text{De aquí sacamos }P_1(r) \\\\rightarrow P_1(r) = \"), P1value)"
   ]
  },
  {
   "cell_type": "code",
   "execution_count": 26,
   "metadata": {},
   "outputs": [
    {
     "data": {
      "text/html": [
       "<html>\\[\\newcommand{\\Bold}[1]{\\mathbf{#1}}-16 \\, \\pi E\\left(r, {\\theta}\\right) e^{\\left(\\frac{3}{2} \\, \\nu\\left(r\\right)\\right)} u^{(1)0}\\left(r\\right) - 16 \\, \\pi P\\left(r, {\\theta}\\right) e^{\\left(\\frac{3}{2} \\, \\nu\\left(r\\right)\\right)} u^{(1)0}\\left(r\\right) - 8 \\, \\pi E_1\\left(r\\right) e^{\\nu\\left(r\\right)} = 0\\]</html>"
      ],
      "text/latex": [
       "$$\\newcommand{\\Bold}[1]{\\mathbf{#1}}-16 \\, \\pi E\\left(r, {\\theta}\\right) e^{\\left(\\frac{3}{2} \\, \\nu\\left(r\\right)\\right)} u^{(1)0}\\left(r\\right) - 16 \\, \\pi P\\left(r, {\\theta}\\right) e^{\\left(\\frac{3}{2} \\, \\nu\\left(r\\right)\\right)} u^{(1)0}\\left(r\\right) - 8 \\, \\pi E_1\\left(r\\right) e^{\\nu\\left(r\\right)} = 0$$"
      ],
      "text/plain": [
       "-16*pi*E(r, th)*e^(3/2*nu(r))*u10(r) - 16*pi*P(r, th)*e^(3/2*nu(r))*u10(r) - 8*pi*E1(r)*e^nu(r) == 0"
      ]
     },
     "metadata": {},
     "output_type": "display_data"
    },
    {
     "data": {
      "text/html": [
       "<html>\\[\\newcommand{\\Bold}[1]{\\mathbf{#1}}\\text{De aquí sacamos }E_1(r,\\theta) \\rightarrow E_1(r,\\theta) =  0\\]</html>"
      ],
      "text/latex": [
       "$$\\newcommand{\\Bold}[1]{\\mathbf{#1}}\\text{De aquí sacamos }E_1(r,\\theta) \\rightarrow E_1(r,\\theta) =  0$$"
      ],
      "text/plain": [
       "\\text{De aquí sacamos }E_1(r,\\theta) \\rightarrow E_1(r,\\theta) =  0"
      ]
     },
     "metadata": {},
     "output_type": "display_data"
    }
   ],
   "source": [
    "dEq00 = deins[0,0] - kappa*dTdd[0,0] == 0\n",
    "dEq00 = dEq00.simplify_full()\n",
    "show(dEq00)\n",
    "\n",
    "E1value = solve(dEq00.subs(sustituciones),E1)[0].rhs()\n",
    "show(LatexExpr(\"\\\\text{De aquí sacamos }E_1(r,\\\\theta) \\\\rightarrow E_1(r,\\\\theta) = \"), E1value)"
   ]
  },
  {
   "cell_type": "code",
   "execution_count": 40,
   "metadata": {},
   "outputs": [
    {
     "data": {
      "text/html": [
       "<html>\\[\\newcommand{\\Bold}[1]{\\mathbf{#1}}{\\left(-1.0 \\, e^{\\lambda\\left(r\\right)} + 1.0\\right)} \\omega\\left(r, {\\theta}\\right) + {\\left(-1.0 \\, r \\Omega^{(1)}\\left({\\varepsilon}\\right) + 0.5 \\, r \\omega\\left(r, {\\theta}\\right)\\right)} \\frac{\\partial}{\\partial r}\\lambda\\left(r\\right) + {\\left(-1.0 \\, r \\Omega^{(1)}\\left({\\varepsilon}\\right) + 0.5 \\, r \\omega\\left(r, {\\theta}\\right)\\right)} \\frac{\\partial}{\\partial r}\\nu\\left(r\\right) = 0\\]</html>"
      ],
      "text/latex": [
       "$$\\newcommand{\\Bold}[1]{\\mathbf{#1}}{\\left(-1.0 \\, e^{\\lambda\\left(r\\right)} + 1.0\\right)} \\omega\\left(r, {\\theta}\\right) + {\\left(-1.0 \\, r \\Omega^{(1)}\\left({\\varepsilon}\\right) + 0.5 \\, r \\omega\\left(r, {\\theta}\\right)\\right)} \\frac{\\partial}{\\partial r}\\lambda\\left(r\\right) + {\\left(-1.0 \\, r \\Omega^{(1)}\\left({\\varepsilon}\\right) + 0.5 \\, r \\omega\\left(r, {\\theta}\\right)\\right)} \\frac{\\partial}{\\partial r}\\nu\\left(r\\right) = 0$$"
      ],
      "text/plain": [
       "(-1.0*e^lamb(r) + 1.0)*omega(r, th) + (-1.0*r*Omega1(eps) + 0.5*r*omega(r, th))*diff(lamb(r), r) + (-1.0*r*Omega1(eps) + 0.5*r*omega(r, th))*diff(nu(r), r) == 0"
      ]
     },
     "execution_count": 40,
     "metadata": {},
     "output_type": "execute_result"
    }
   ],
   "source": [
    "#DEMOSTRAR QUE ESTO ES LA ECUACIÓN 48\n",
    "dEq03 = deins[0,3] - kappa*dTdd[0,3] == 0\n",
    "#show(dEq03.simplify_full())\n",
    "dEq03 = -dEq03\n",
    "Evalue = diff(lamb,r)/(r*e^(lamb)*8*pi)-(1-e^(lamb))/(r^2*e^(lamb)*8*pi)\n",
    "Pvalue = diff(nu,r)/(r*e^(lamb)*8*pi)-(e^(lamb)-1)/(r^2*e^(lamb)*8*pi)\n",
    "dEq03 = dEq03.subs(E==Evalue,P==Pvalue)\n",
    "dEq03 = dEq03*e^(lamb)/(sin(th)^2)\n",
    "dEq03 = dEq03.subs(diff(nu,r,r)==ddnu)\n",
    "dEq03 = dEq03.simplify_full()\n",
    "dEq03                                                                                                        #Eq 48"
   ]
  },
  {
   "cell_type": "code",
   "execution_count": 32,
   "metadata": {},
   "outputs": [
    {
     "data": {
      "text/html": [
       "<html>\\[\\newcommand{\\Bold}[1]{\\mathbf{#1}}\\frac{1}{2} \\, {\\left(4 \\, r^{2} \\cos\\left({\\theta}\\right) e^{\\lambda\\left(r\\right)} \\omega\\left(r, {\\theta}\\right) \\sin\\left({\\theta}\\right)^{5} \\frac{\\partial}{\\partial {\\theta}}\\omega\\left(r, {\\theta}\\right) - {\\left(r^{4} \\omega\\left(r, {\\theta}\\right)^{2} \\frac{\\partial}{\\partial r}\\lambda\\left(r\\right) \\frac{\\partial}{\\partial r}\\nu\\left(r\\right) - r^{4} \\omega\\left(r, {\\theta}\\right)^{2} \\frac{\\partial}{\\partial r}\\nu\\left(r\\right)^{2} - 2 \\, r^{4} \\omega\\left(r, {\\theta}\\right)^{2} \\frac{\\partial^{2}}{(\\partial r)^{2}}\\nu\\left(r\\right) + 6 \\, r^{3} \\omega\\left(r, {\\theta}\\right)^{2} \\frac{\\partial}{\\partial r}\\lambda\\left(r\\right) - 4 \\, r^{3} \\omega\\left(r, {\\theta}\\right) \\frac{\\partial}{\\partial r}\\omega\\left(r, {\\theta}\\right) - 4 \\, {\\left(16 \\, \\pi r^{4} E\\left(r, {\\theta}\\right) e^{\\lambda\\left(r\\right)} + 8 \\, \\pi r^{4} P\\left(r, {\\theta}\\right) e^{\\lambda\\left(r\\right)} - 3 \\, r^{2} e^{\\lambda\\left(r\\right)} + 3 \\, r^{2}\\right)} \\omega\\left(r, {\\theta}\\right)^{2} + 64 \\, {\\left(\\pi r^{4} E\\left(r, {\\theta}\\right) \\Omega^{(1)}\\left({\\varepsilon}\\right) e^{\\lambda\\left(r\\right)} + \\pi r^{4} \\Omega^{(1)}\\left({\\varepsilon}\\right) P\\left(r, {\\theta}\\right) e^{\\lambda\\left(r\\right)}\\right)} \\omega\\left(r, {\\theta}\\right)\\right)} \\sin\\left({\\theta}\\right)^{6} + 8 \\, \\cos\\left({\\theta}\\right) e^{\\left(\\lambda\\left(r\\right) + \\nu\\left(r\\right)\\right)} \\sin\\left({\\theta}\\right)^{3} \\frac{\\partial}{\\partial {\\theta}}k\\left(r, {\\theta}\\right) - 2 \\, {\\left(r^{2} e^{\\nu\\left(r\\right)} m\\left(r, {\\theta}\\right) \\frac{\\partial}{\\partial r}\\lambda\\left(r\\right) \\frac{\\partial}{\\partial r}\\nu\\left(r\\right) - r^{2} e^{\\nu\\left(r\\right)} h\\left(r, {\\theta}\\right) \\frac{\\partial}{\\partial r}\\nu\\left(r\\right)^{2} + 8 \\, \\pi r^{2} E_2\\left(r\\right) e^{\\left(\\lambda\\left(r\\right) + \\nu\\left(r\\right)\\right)} - 2 \\, r^{2} e^{\\lambda\\left(r\\right)} \\omega\\left(r, {\\theta}\\right)^{2} - r^{2} e^{\\nu\\left(r\\right)} \\frac{\\partial}{\\partial r}h\\left(r, {\\theta}\\right) \\frac{\\partial}{\\partial r}\\nu\\left(r\\right) + 8 \\, {\\left(e^{\\lambda\\left(r\\right)} - 1\\right)} e^{\\nu\\left(r\\right)} k\\left(r, {\\theta}\\right) - 4 \\, r e^{\\nu\\left(r\\right)} \\frac{\\partial}{\\partial r}k\\left(r, {\\theta}\\right) + 16 \\, {\\left(\\pi r^{2} e^{\\left(\\lambda\\left(r\\right) + 2 \\, \\nu\\left(r\\right)\\right)} u^{(1)0}\\left(r\\right)^{2} + \\pi r^{2} e^{\\left(\\lambda\\left(r\\right) + \\frac{3}{2} \\, \\nu\\left(r\\right)\\right)} u^{(2)0}\\left(r\\right)\\right)} E\\left(r, {\\theta}\\right) + 16 \\, {\\left(\\pi r^{2} e^{\\left(\\lambda\\left(r\\right) + 2 \\, \\nu\\left(r\\right)\\right)} u^{(1)0}\\left(r\\right)^{2} + \\pi r^{2} e^{\\left(\\lambda\\left(r\\right) + \\frac{3}{2} \\, \\nu\\left(r\\right)\\right)} u^{(2)0}\\left(r\\right)\\right)} P\\left(r, {\\theta}\\right) + 4 \\, {\\left(16 \\, \\pi r^{2} E\\left(r, {\\theta}\\right) e^{\\left(\\lambda\\left(r\\right) + \\nu\\left(r\\right)\\right)} + 8 \\, \\pi r^{2} P\\left(r, {\\theta}\\right) e^{\\left(\\lambda\\left(r\\right) + \\nu\\left(r\\right)\\right)} - {\\left(e^{\\lambda\\left(r\\right)} - 1\\right)} e^{\\nu\\left(r\\right)}\\right)} h\\left(r, {\\theta}\\right) - 4 \\, e^{\\nu\\left(r\\right)} m\\left(r, {\\theta}\\right) + 32 \\, {\\left(\\pi r^{2} E_1\\left(r\\right) e^{\\left(\\lambda\\left(r\\right) + \\frac{3}{2} \\, \\nu\\left(r\\right)\\right)} + \\pi r^{2} P_1\\left(r\\right) e^{\\left(\\lambda\\left(r\\right) + \\frac{3}{2} \\, \\nu\\left(r\\right)\\right)}\\right)} u^{(1)0}\\left(r\\right) - 4 \\, {\\left(r e^{\\nu\\left(r\\right)} h\\left(r, {\\theta}\\right) - r e^{\\nu\\left(r\\right)} k\\left(r, {\\theta}\\right) - r e^{\\nu\\left(r\\right)} m\\left(r, {\\theta}\\right)\\right)} \\frac{\\partial}{\\partial r}\\lambda\\left(r\\right) + {\\left(r^{2} e^{\\nu\\left(r\\right)} \\frac{\\partial}{\\partial r}\\nu\\left(r\\right) - 4 \\, r e^{\\nu\\left(r\\right)}\\right)} \\frac{\\partial}{\\partial r}m\\left(r, {\\theta}\\right)\\right)} \\sin\\left({\\theta}\\right)^{4}\\right)} e^{\\left(-\\lambda\\left(r\\right)\\right)} = 0\\]</html>"
      ],
      "text/latex": [
       "$$\\newcommand{\\Bold}[1]{\\mathbf{#1}}\\frac{1}{2} \\, {\\left(4 \\, r^{2} \\cos\\left({\\theta}\\right) e^{\\lambda\\left(r\\right)} \\omega\\left(r, {\\theta}\\right) \\sin\\left({\\theta}\\right)^{5} \\frac{\\partial}{\\partial {\\theta}}\\omega\\left(r, {\\theta}\\right) - {\\left(r^{4} \\omega\\left(r, {\\theta}\\right)^{2} \\frac{\\partial}{\\partial r}\\lambda\\left(r\\right) \\frac{\\partial}{\\partial r}\\nu\\left(r\\right) - r^{4} \\omega\\left(r, {\\theta}\\right)^{2} \\frac{\\partial}{\\partial r}\\nu\\left(r\\right)^{2} - 2 \\, r^{4} \\omega\\left(r, {\\theta}\\right)^{2} \\frac{\\partial^{2}}{(\\partial r)^{2}}\\nu\\left(r\\right) + 6 \\, r^{3} \\omega\\left(r, {\\theta}\\right)^{2} \\frac{\\partial}{\\partial r}\\lambda\\left(r\\right) - 4 \\, r^{3} \\omega\\left(r, {\\theta}\\right) \\frac{\\partial}{\\partial r}\\omega\\left(r, {\\theta}\\right) - 4 \\, {\\left(16 \\, \\pi r^{4} E\\left(r, {\\theta}\\right) e^{\\lambda\\left(r\\right)} + 8 \\, \\pi r^{4} P\\left(r, {\\theta}\\right) e^{\\lambda\\left(r\\right)} - 3 \\, r^{2} e^{\\lambda\\left(r\\right)} + 3 \\, r^{2}\\right)} \\omega\\left(r, {\\theta}\\right)^{2} + 64 \\, {\\left(\\pi r^{4} E\\left(r, {\\theta}\\right) \\Omega^{(1)}\\left({\\varepsilon}\\right) e^{\\lambda\\left(r\\right)} + \\pi r^{4} \\Omega^{(1)}\\left({\\varepsilon}\\right) P\\left(r, {\\theta}\\right) e^{\\lambda\\left(r\\right)}\\right)} \\omega\\left(r, {\\theta}\\right)\\right)} \\sin\\left({\\theta}\\right)^{6} + 8 \\, \\cos\\left({\\theta}\\right) e^{\\left(\\lambda\\left(r\\right) + \\nu\\left(r\\right)\\right)} \\sin\\left({\\theta}\\right)^{3} \\frac{\\partial}{\\partial {\\theta}}k\\left(r, {\\theta}\\right) - 2 \\, {\\left(r^{2} e^{\\nu\\left(r\\right)} m\\left(r, {\\theta}\\right) \\frac{\\partial}{\\partial r}\\lambda\\left(r\\right) \\frac{\\partial}{\\partial r}\\nu\\left(r\\right) - r^{2} e^{\\nu\\left(r\\right)} h\\left(r, {\\theta}\\right) \\frac{\\partial}{\\partial r}\\nu\\left(r\\right)^{2} + 8 \\, \\pi r^{2} E_2\\left(r\\right) e^{\\left(\\lambda\\left(r\\right) + \\nu\\left(r\\right)\\right)} - 2 \\, r^{2} e^{\\lambda\\left(r\\right)} \\omega\\left(r, {\\theta}\\right)^{2} - r^{2} e^{\\nu\\left(r\\right)} \\frac{\\partial}{\\partial r}h\\left(r, {\\theta}\\right) \\frac{\\partial}{\\partial r}\\nu\\left(r\\right) + 8 \\, {\\left(e^{\\lambda\\left(r\\right)} - 1\\right)} e^{\\nu\\left(r\\right)} k\\left(r, {\\theta}\\right) - 4 \\, r e^{\\nu\\left(r\\right)} \\frac{\\partial}{\\partial r}k\\left(r, {\\theta}\\right) + 16 \\, {\\left(\\pi r^{2} e^{\\left(\\lambda\\left(r\\right) + 2 \\, \\nu\\left(r\\right)\\right)} u^{(1)0}\\left(r\\right)^{2} + \\pi r^{2} e^{\\left(\\lambda\\left(r\\right) + \\frac{3}{2} \\, \\nu\\left(r\\right)\\right)} u^{(2)0}\\left(r\\right)\\right)} E\\left(r, {\\theta}\\right) + 16 \\, {\\left(\\pi r^{2} e^{\\left(\\lambda\\left(r\\right) + 2 \\, \\nu\\left(r\\right)\\right)} u^{(1)0}\\left(r\\right)^{2} + \\pi r^{2} e^{\\left(\\lambda\\left(r\\right) + \\frac{3}{2} \\, \\nu\\left(r\\right)\\right)} u^{(2)0}\\left(r\\right)\\right)} P\\left(r, {\\theta}\\right) + 4 \\, {\\left(16 \\, \\pi r^{2} E\\left(r, {\\theta}\\right) e^{\\left(\\lambda\\left(r\\right) + \\nu\\left(r\\right)\\right)} + 8 \\, \\pi r^{2} P\\left(r, {\\theta}\\right) e^{\\left(\\lambda\\left(r\\right) + \\nu\\left(r\\right)\\right)} - {\\left(e^{\\lambda\\left(r\\right)} - 1\\right)} e^{\\nu\\left(r\\right)}\\right)} h\\left(r, {\\theta}\\right) - 4 \\, e^{\\nu\\left(r\\right)} m\\left(r, {\\theta}\\right) + 32 \\, {\\left(\\pi r^{2} E_1\\left(r\\right) e^{\\left(\\lambda\\left(r\\right) + \\frac{3}{2} \\, \\nu\\left(r\\right)\\right)} + \\pi r^{2} P_1\\left(r\\right) e^{\\left(\\lambda\\left(r\\right) + \\frac{3}{2} \\, \\nu\\left(r\\right)\\right)}\\right)} u^{(1)0}\\left(r\\right) - 4 \\, {\\left(r e^{\\nu\\left(r\\right)} h\\left(r, {\\theta}\\right) - r e^{\\nu\\left(r\\right)} k\\left(r, {\\theta}\\right) - r e^{\\nu\\left(r\\right)} m\\left(r, {\\theta}\\right)\\right)} \\frac{\\partial}{\\partial r}\\lambda\\left(r\\right) + {\\left(r^{2} e^{\\nu\\left(r\\right)} \\frac{\\partial}{\\partial r}\\nu\\left(r\\right) - 4 \\, r e^{\\nu\\left(r\\right)}\\right)} \\frac{\\partial}{\\partial r}m\\left(r, {\\theta}\\right)\\right)} \\sin\\left({\\theta}\\right)^{4}\\right)} e^{\\left(-\\lambda\\left(r\\right)\\right)} = 0$$"
      ],
      "text/plain": [
       "1/2*(4*r^2*cos(th)*e^lamb(r)*omega(r, th)*sin(th)^5*diff(omega(r, th), th) - (r^4*omega(r, th)^2*diff(lamb(r), r)*diff(nu(r), r) - r^4*omega(r, th)^2*diff(nu(r), r)^2 - 2*r^4*omega(r, th)^2*diff(nu(r), r, r) + 6*r^3*omega(r, th)^2*diff(lamb(r), r) - 4*r^3*omega(r, th)*diff(omega(r, th), r) - 4*(16*pi*r^4*E(r, th)*e^lamb(r) + 8*pi*r^4*P(r, th)*e^lamb(r) - 3*r^2*e^lamb(r) + 3*r^2)*omega(r, th)^2 + 64*(pi*r^4*E(r, th)*Omega1(eps)*e^lamb(r) + pi*r^4*Omega1(eps)*P(r, th)*e^lamb(r))*omega(r, th))*sin(th)^6 + 8*cos(th)*e^(lamb(r) + nu(r))*sin(th)^3*diff(k(r, th), th) - 2*(r^2*e^nu(r)*m(r, th)*diff(lamb(r), r)*diff(nu(r), r) - r^2*e^nu(r)*h(r, th)*diff(nu(r), r)^2 + 8*pi*r^2*E2(r)*e^(lamb(r) + nu(r)) - 2*r^2*e^lamb(r)*omega(r, th)^2 - r^2*e^nu(r)*diff(h(r, th), r)*diff(nu(r), r) + 8*(e^lamb(r) - 1)*e^nu(r)*k(r, th) - 4*r*e^nu(r)*diff(k(r, th), r) + 16*(pi*r^2*e^(lamb(r) + 2*nu(r))*u10(r)^2 + pi*r^2*e^(lamb(r) + 3/2*nu(r))*u20(r))*E(r, th) + 16*(pi*r^2*e^(lamb(r) + 2*nu(r))*u10(r)^2 + pi*r^2*e^(lamb(r) + 3/2*nu(r))*u20(r))*P(r, th) + 4*(16*pi*r^2*E(r, th)*e^(lamb(r) + nu(r)) + 8*pi*r^2*P(r, th)*e^(lamb(r) + nu(r)) - (e^lamb(r) - 1)*e^nu(r))*h(r, th) - 4*e^nu(r)*m(r, th) + 32*(pi*r^2*E1(r)*e^(lamb(r) + 3/2*nu(r)) + pi*r^2*P1(r)*e^(lamb(r) + 3/2*nu(r)))*u10(r) - 4*(r*e^nu(r)*h(r, th) - r*e^nu(r)*k(r, th) - r*e^nu(r)*m(r, th))*diff(lamb(r), r) + (r^2*e^nu(r)*diff(nu(r), r) - 4*r*e^nu(r))*diff(m(r, th), r))*sin(th)^4)*e^(-lamb(r)) == 0"
      ]
     },
     "execution_count": 32,
     "metadata": {},
     "output_type": "execute_result"
    }
   ],
   "source": [
    "# Para la segunda derivada tenemos\n",
    "\n",
    "ddEq00 = ddeins[0,0] - kappa*ddTdd[0,0] == 0\n",
    "ddEq00 = ddEq00*(r^2*sin(th)^4)\n",
    "ddEq00 = ddEq00.simplify_full()\n",
    "ddEq00"
   ]
  },
  {
   "cell_type": "code",
   "execution_count": 33,
   "metadata": {},
   "outputs": [
    {
     "data": {
      "text/html": [
       "<html>\\[\\newcommand{\\Bold}[1]{\\mathbf{#1}}\\frac{3 \\, {\\left(2 \\, E_1\\left(r\\right) \\Omega^{(1)}\\left({\\varepsilon}\\right) e^{\\left(\\frac{1}{2} \\, \\nu\\left(r\\right)\\right)} + 2 \\, \\Omega^{(1)}\\left({\\varepsilon}\\right) P_1\\left(r\\right) e^{\\left(\\frac{1}{2} \\, \\nu\\left(r\\right)\\right)} + {\\left(4 \\, \\Omega^{(1)}\\left({\\varepsilon}\\right) e^{\\nu\\left(r\\right)} u^{(1)0}\\left(r\\right) + \\Omega^{(2)}\\left({\\varepsilon}\\right) e^{\\left(\\frac{1}{2} \\, \\nu\\left(r\\right)\\right)}\\right)} E\\left(r, {\\theta}\\right) + {\\left(4 \\, \\Omega^{(1)}\\left({\\varepsilon}\\right) e^{\\nu\\left(r\\right)} u^{(1)0}\\left(r\\right) + \\Omega^{(2)}\\left({\\varepsilon}\\right) e^{\\left(\\frac{1}{2} \\, \\nu\\left(r\\right)\\right)}\\right)} P\\left(r, {\\theta}\\right) - 2 \\, {\\left(2 \\, E\\left(r, {\\theta}\\right) e^{\\nu\\left(r\\right)} u^{(1)0}\\left(r\\right) + 2 \\, P\\left(r, {\\theta}\\right) e^{\\nu\\left(r\\right)} u^{(1)0}\\left(r\\right) + E_1\\left(r\\right) e^{\\left(\\frac{1}{2} \\, \\nu\\left(r\\right)\\right)}\\right)} \\omega\\left(r, {\\theta}\\right)\\right)} e^{\\left(-\\frac{1}{2} \\, \\nu\\left(r\\right)\\right)} \\sin\\left({\\theta}\\right)^{2}}{2 \\, \\Omega^{(2)}\\left({\\varepsilon}\\right)} = 0\\]</html>"
      ],
      "text/latex": [
       "$$\\newcommand{\\Bold}[1]{\\mathbf{#1}}\\frac{3 \\, {\\left(2 \\, E_1\\left(r\\right) \\Omega^{(1)}\\left({\\varepsilon}\\right) e^{\\left(\\frac{1}{2} \\, \\nu\\left(r\\right)\\right)} + 2 \\, \\Omega^{(1)}\\left({\\varepsilon}\\right) P_1\\left(r\\right) e^{\\left(\\frac{1}{2} \\, \\nu\\left(r\\right)\\right)} + {\\left(4 \\, \\Omega^{(1)}\\left({\\varepsilon}\\right) e^{\\nu\\left(r\\right)} u^{(1)0}\\left(r\\right) + \\Omega^{(2)}\\left({\\varepsilon}\\right) e^{\\left(\\frac{1}{2} \\, \\nu\\left(r\\right)\\right)}\\right)} E\\left(r, {\\theta}\\right) + {\\left(4 \\, \\Omega^{(1)}\\left({\\varepsilon}\\right) e^{\\nu\\left(r\\right)} u^{(1)0}\\left(r\\right) + \\Omega^{(2)}\\left({\\varepsilon}\\right) e^{\\left(\\frac{1}{2} \\, \\nu\\left(r\\right)\\right)}\\right)} P\\left(r, {\\theta}\\right) - 2 \\, {\\left(2 \\, E\\left(r, {\\theta}\\right) e^{\\nu\\left(r\\right)} u^{(1)0}\\left(r\\right) + 2 \\, P\\left(r, {\\theta}\\right) e^{\\nu\\left(r\\right)} u^{(1)0}\\left(r\\right) + E_1\\left(r\\right) e^{\\left(\\frac{1}{2} \\, \\nu\\left(r\\right)\\right)}\\right)} \\omega\\left(r, {\\theta}\\right)\\right)} e^{\\left(-\\frac{1}{2} \\, \\nu\\left(r\\right)\\right)} \\sin\\left({\\theta}\\right)^{2}}{2 \\, \\Omega^{(2)}\\left({\\varepsilon}\\right)} = 0$$"
      ],
      "text/plain": [
       "3/2*(2*E1(r)*Omega1(eps)*e^(1/2*nu(r)) + 2*Omega1(eps)*P1(r)*e^(1/2*nu(r)) + (4*Omega1(eps)*e^nu(r)*u10(r) + Omega2(eps)*e^(1/2*nu(r)))*E(r, th) + (4*Omega1(eps)*e^nu(r)*u10(r) + Omega2(eps)*e^(1/2*nu(r)))*P(r, th) - 2*(2*E(r, th)*e^nu(r)*u10(r) + 2*P(r, th)*e^nu(r)*u10(r) + E1(r)*e^(1/2*nu(r)))*omega(r, th))*e^(-1/2*nu(r))*sin(th)^2/Omega2(eps) == 0"
      ]
     },
     "execution_count": 33,
     "metadata": {},
     "output_type": "execute_result"
    }
   ],
   "source": [
    "ddEq03 = ddeins[0,3] - kappa*ddTdd[0,3] == 0\n",
    "ddEq03 = ddEq03*(3/(16*pi*r^2*Omega2))\n",
    "ddEq03 = ddEq03.simplify_full()\n",
    "ddEq03"
   ]
  },
  {
   "cell_type": "code",
   "execution_count": 34,
   "metadata": {},
   "outputs": [
    {
     "data": {
      "text/html": [
       "<html>\\[\\newcommand{\\Bold}[1]{\\mathbf{#1}}4.0 \\, r^{2} \\omega\\left(r, {\\theta}\\right) \\sin\\left({\\theta}\\right)^{2} \\frac{\\partial}{\\partial {\\theta}}\\omega\\left(r, {\\theta}\\right) + 2.0 \\, r e^{\\nu\\left(r\\right)} \\frac{\\partial}{\\partial r}\\lambda\\left(r\\right) \\frac{\\partial}{\\partial {\\theta}}m\\left(r, {\\theta}\\right) + 2.0 \\, r e^{\\nu\\left(r\\right)} \\frac{\\partial}{\\partial {\\theta}}h\\left(r, {\\theta}\\right) \\frac{\\partial}{\\partial r}\\nu\\left(r\\right) + {\\left(1.0 \\, r^{3} \\omega\\left(r, {\\theta}\\right)^{2} \\frac{\\partial}{\\partial r}\\nu\\left(r\\right) + 6.0 \\, r^{2} \\omega\\left(r, {\\theta}\\right)^{2}\\right)} \\cos\\left({\\theta}\\right) \\sin\\left({\\theta}\\right) + 4.0 \\, e^{\\nu\\left(r\\right)} \\frac{\\partial}{\\partial {\\theta}}k\\left(r, {\\theta}\\right) = 0\\]</html>"
      ],
      "text/latex": [
       "$$\\newcommand{\\Bold}[1]{\\mathbf{#1}}4.0 \\, r^{2} \\omega\\left(r, {\\theta}\\right) \\sin\\left({\\theta}\\right)^{2} \\frac{\\partial}{\\partial {\\theta}}\\omega\\left(r, {\\theta}\\right) + 2.0 \\, r e^{\\nu\\left(r\\right)} \\frac{\\partial}{\\partial r}\\lambda\\left(r\\right) \\frac{\\partial}{\\partial {\\theta}}m\\left(r, {\\theta}\\right) + 2.0 \\, r e^{\\nu\\left(r\\right)} \\frac{\\partial}{\\partial {\\theta}}h\\left(r, {\\theta}\\right) \\frac{\\partial}{\\partial r}\\nu\\left(r\\right) + {\\left(1.0 \\, r^{3} \\omega\\left(r, {\\theta}\\right)^{2} \\frac{\\partial}{\\partial r}\\nu\\left(r\\right) + 6.0 \\, r^{2} \\omega\\left(r, {\\theta}\\right)^{2}\\right)} \\cos\\left({\\theta}\\right) \\sin\\left({\\theta}\\right) + 4.0 \\, e^{\\nu\\left(r\\right)} \\frac{\\partial}{\\partial {\\theta}}k\\left(r, {\\theta}\\right) = 0$$"
      ],
      "text/plain": [
       "4.0*r^2*omega(r, th)*sin(th)^2*diff(omega(r, th), th) + 2.0*r*e^nu(r)*diff(lamb(r), r)*diff(m(r, th), th) + 2.0*r*e^nu(r)*diff(h(r, th), th)*diff(nu(r), r) + (1.0*r^3*omega(r, th)^2*diff(nu(r), r) + 6.0*r^2*omega(r, th)^2)*cos(th)*sin(th) + 4.0*e^nu(r)*diff(k(r, th), th) == 0"
      ]
     },
     "execution_count": 34,
     "metadata": {},
     "output_type": "execute_result"
    }
   ],
   "source": [
    "ddEq12 = ddeins[1,2] - kappa*ddTdd[1,2] == 0\n",
    "ddEq12 = ddEq12*(r*e^(nu))\n",
    "ddEq12 = ddEq12.simplify_full()\n",
    "ddEq12"
   ]
  },
  {
   "cell_type": "code",
   "execution_count": 35,
   "metadata": {
    "scrolled": true
   },
   "outputs": [
    {
     "data": {
      "text/html": [
       "<html>\\[\\newcommand{\\Bold}[1]{\\mathbf{#1}}-P_2\\left(r\\right) \\frac{\\partial}{\\partial r}E\\left(r, {\\theta}\\right) + E_2\\left(r\\right) \\frac{\\partial}{\\partial r}P\\left(r, {\\theta}\\right) = 0\\]</html>"
      ],
      "text/latex": [
       "$$\\newcommand{\\Bold}[1]{\\mathbf{#1}}-P_2\\left(r\\right) \\frac{\\partial}{\\partial r}E\\left(r, {\\theta}\\right) + E_2\\left(r\\right) \\frac{\\partial}{\\partial r}P\\left(r, {\\theta}\\right) = 0$$"
      ],
      "text/plain": [
       "-P2(r)*diff(E(r, th), r) + E2(r)*diff(P(r, th), r) == 0"
      ]
     },
     "execution_count": 35,
     "metadata": {},
     "output_type": "execute_result"
    }
   ],
   "source": [
    "# Aplicamos barotropic EoS\n",
    "# Utilizando (6.11) de Reina con P1=0 y E1=0\n",
    "E2*diff(P,r) - P2*diff(E,r) == 0"
   ]
  },
  {
   "cell_type": "code",
   "execution_count": 36,
   "metadata": {},
   "outputs": [],
   "source": [
    "for i in range(0,4):\n",
    "    for j in range(0,4):\n",
    "        ddeins[i,j] = ddeins[i,j].subs(m==m0+m1*LP1+m2*LP2,\n",
    "                                       h==m0+h1*LP1+h2*LP2,\n",
    "                                       k==k0+k1*LP1+k2*LP2)\n",
    "        ddTdd[i,j] = ddTdd[i,j].subs(m==m0+m1*LP1+m2*LP2,\n",
    "                                     h==m0+h1*LP1+h2*LP2,\n",
    "                                     k==k0+k1*LP1+k2*LP2)"
   ]
  },
  {
   "cell_type": "code",
   "execution_count": null,
   "metadata": {},
   "outputs": [],
   "source": [
    "s1 = sin(th)^2 == (2-2*LP2)/3\n",
    "s2 = 1/sin(th)^2 == 3/(2-2*LP2)\n",
    "s3 = cos(th) == LP1\n",
    "s4 = cos(th)^2 == (2*LP2+1)/3\n",
    "s5 = LP1^2 == (2*LP2+1)/3\n",
    "s6 = diff(LP1, th, th) == -LP1\n",
    "s7 = diff(LP2, th) == -3*LP1*sin(th)\n",
    "s8 = diff(LP2, th, th) == (2-2*LP2)-2*LP2-1\n",
    "s9 = E1 == E1value\n",
    "s10 = P1 == P1value\n",
    "s11 = u10 == u10value\n",
    "#s12 = sin(th) == - diff(LP1, th)\n",
    "\n",
    "sustituciones = (s1,s2,s3,s4,s5,s6,s7,s8,s9,s10,s11,s12)"
   ]
  },
  {
   "cell_type": "code",
   "execution_count": null,
   "metadata": {},
   "outputs": [],
   "source": [
    "for i in range(0,4):\n",
    "    for j in range(0,4):\n",
    "        ddeins[i,j] = ddeins[i,j].subs(sustituciones)\n",
    "        ddTdd[i,j] = ddTdd[i,j].subs(sustituciones)"
   ]
  },
  {
   "cell_type": "code",
   "execution_count": null,
   "metadata": {},
   "outputs": [],
   "source": [
    "for i in range(0,4):\n",
    "    for j in range(0,4):\n",
    "        ddeins[i,j] = ddeins[i,j].subs(LP1==0,LP2==0)\n",
    "        ddTdd[i,j] = ddTdd[i,j].subs(LP1==0,LP2==0)"
   ]
  },
  {
   "cell_type": "code",
   "execution_count": null,
   "metadata": {},
   "outputs": [],
   "source": [
    "#Hacer lo que me dijo Raul de: La derivada de LP2 respecto a theta, es coseno por LP2, que es LP1 por P2 y así.\n",
    "#O sea pasar todos los theta a LP y todas las derivadas respecto a theta modificarlas\n",
    "#Y luego sacar las ecuaciones"
   ]
  }
 ],
 "metadata": {
  "kernelspec": {
   "display_name": "SageMath 9.4",
   "language": "sage",
   "name": "sagemath-9.4"
  },
  "language_info": {
   "codemirror_mode": {
    "name": "ipython",
    "version": 3
   },
   "file_extension": ".py",
   "mimetype": "text/x-python",
   "name": "python",
   "nbconvert_exporter": "python",
   "pygments_lexer": "ipython3",
   "version": "3.9.5"
  }
 },
 "nbformat": 4,
 "nbformat_minor": 4
}
