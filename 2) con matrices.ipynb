{
 "cells": [
  {
   "cell_type": "code",
   "execution_count": 1,
   "metadata": {},
   "outputs": [],
   "source": [
    "import numpy as np\n",
    "import matplotlib.pyplot as plt\n",
    "import time\n",
    "import os"
   ]
  },
  {
   "cell_type": "code",
   "execution_count": 2,
   "metadata": {},
   "outputs": [],
   "source": [
    "eps, t, r, th, ph = var('eps','t','r','th','ph')\n",
    "\n",
    "coords = (t,r,th,ph)\n",
    "\n",
    "h = function('h')(r,th)\n",
    "k = function('k')(r,th)\n",
    "m = function('m')(r,th)\n",
    "omega = function('omega')(r,th)\n",
    "\n",
    "nu = function('nu')(r)\n",
    "lamb = function('lamb')(r)\n",
    "\n",
    "Omegae = function('Omegaevalue')(eps)\n",
    "Ne = function('Ne')(r,eps)"
   ]
  },
  {
   "cell_type": "code",
   "execution_count": 3,
   "metadata": {},
   "outputs": [],
   "source": [
    "def cosmotensors(gedd):\n",
    "    \n",
    "    geuu = 1/gedd\n",
    "    \n",
    "    chris = [[[0 for k in range(0,4)] for j in range(0,4)] for i in range(0,4)]\n",
    "    for i in range(0,4):\n",
    "        for j in range(0,4):\n",
    "            for k in range(0,4):\n",
    "                chris[i][j][k] = 0.5*sum(geuu[i,dd]*(derivative(gdd[dd,j],coords[k])\n",
    "                                                  + derivative(gdd[dd,k],coords[j])\n",
    "                                                  - derivative(gdd[j,k],coords[dd])) for dd in range(0,4))\n",
    "                \n",
    "    riem = [[[[0 for l in range(0,4)] for k in range(0,4)] for j in range(0,4)] for i in range(0,4)]\n",
    "    for i in range(0,4):\n",
    "        for j in range(0,4):\n",
    "            for k in range(0,4):\n",
    "                for l in range(0,4):\n",
    "                    riem[i][j][k][l] = (derivative(chris[i][j][l],coords[k])\n",
    "                                      - derivative(chris[i][j][k],coords[l])\n",
    "                                      + sum(chris[i][k][dd]*chris[dd][l][j]\n",
    "                                          - chris[i][l][dd]*chris[dd][k][j] for dd in range(0,4)))\n",
    "                    \n",
    "    ricci = matrix(SR, 4, 4)\n",
    "    for i in range(0,4):\n",
    "        for k in range(0,4):\n",
    "            ricci[i,k] = sum(riem[dd][i][dd][k] for dd in range(0,4))\n",
    "            \n",
    "    s_curv = sum(sum(ricci[i,j]*geuu[i,j] for i in range(0,4)) for j in range(0,4))\n",
    "    \n",
    "    eins = matrix(SR, 4, 4)\n",
    "    eins = ricci - 0.5*gedd*s_curv\n",
    "    \n",
    "    return {'inverse_metric': simplify(geuu),\n",
    "            'christoffel': simplify(chris),\n",
    "            'riemann': simplify(riem),\n",
    "            'ricci': simplify(ricci),\n",
    "            'curvature': simplify(s_curv),\n",
    "            'einstein': simplify(eins)}"
   ]
  },
  {
   "cell_type": "code",
   "execution_count": 4,
   "metadata": {},
   "outputs": [
    {
     "name": "stdout",
     "output_type": "stream",
     "text": [
      "--- 8.214718103408813 seconds ---\n"
     ]
    }
   ],
   "source": [
    "start_time = time.time()\n",
    "\n",
    "gdd = matrix(SR, 4, 4)\n",
    "\n",
    "gdd[0,0] = -exp(nu)\n",
    "gdd[1,1] = exp(lamb)\n",
    "gdd[2,2] = r^2\n",
    "gdd[3,3] = r^2*sin(th)^2\n",
    "\n",
    "K1 = matrix(SR, 4, 4)\n",
    "K1[0,3] = omega*r^2*sin(th)^2\n",
    "K1[3,0] = omega*r^2*sin(th)^2\n",
    "\n",
    "K2 = matrix(SR, 4, 4)\n",
    "K2[0,0] = -4*exp(nu)*h + 2*r^2*sin(th)^2*omega^2\n",
    "K2[1,1] = 4*exp(lamb)*m\n",
    "K2[2,2] = 4*k*r^2\n",
    "K2[3,3] = 4*k*r^2*sin(th)^2\n",
    "\n",
    "gedd = matrix(SR, 4, 4)\n",
    "for i in range(0,4):\n",
    "    for j in range(0,4):\n",
    "        gedd[i,j] = gdd[i,j] + eps*K1[i,j] + 1/2*eps^2*K2[i,j]\n",
    "\n",
    "tensors = cosmotensors(gedd)\n",
    "geuu = tensors['inverse_metric']\n",
    "ricci = tensors['ricci']\n",
    "s_curv = tensors['curvature']\n",
    "eins = tensors['einstein']                                                                               #G_\\mu\\nu e\n",
    "\n",
    "deins = matrix(SR, 4, 4)\n",
    "ddeins = matrix(SR, 4, 4)\n",
    "for i in range(0,4):\n",
    "    for j in range(0,4):\n",
    "        deins[i,j] = diff(eins[i,j],eps)\n",
    "        ddeins[i,j] = diff(eins[i,j],eps,eps)\n",
    "        \n",
    "print(\"--- %s seconds ---\" % (time.time() - start_time))"
   ]
  },
  {
   "cell_type": "code",
   "execution_count": 5,
   "metadata": {},
   "outputs": [
    {
     "name": "stdout",
     "output_type": "stream",
     "text": [
      "ge0 = \n",
      "[     -e^nu(r)             0             0             0]\n",
      "[            0     e^lamb(r)             0             0]\n",
      "[            0             0           r^2             0]\n",
      "[            0             0             0 r^2*sin(th)^2]\n",
      "K1 = \n",
      "[                         0                          0                          0 r^2*omega(r, th)*sin(th)^2]\n",
      "[                         0                          0                          0                          0]\n",
      "[                         0                          0                          0                          0]\n",
      "[r^2*omega(r, th)*sin(th)^2                          0                          0                          0]\n",
      "K2 = \n",
      "[2*r^2*omega(r, th)^2*sin(th)^2 - 4*e^nu(r)*h(r, th)                                                   0                                                   0                                                   0]\n",
      "[                                                  0                                4*e^lamb(r)*m(r, th)                                                   0                                                   0]\n",
      "[                                                  0                                                   0                                      4*r^2*k(r, th)                                                   0]\n",
      "[                                                  0                                                   0                                                   0                            4*r^2*k(r, th)*sin(th)^2]\n",
      "ge = \n",
      "[(r^2*omega(r, th)^2*sin(th)^2 - 2*e^nu(r)*h(r, th))*eps^2 - e^nu(r)                                                                   0                                                                   0                                      eps*r^2*omega(r, th)*sin(th)^2]\n",
      "[                                                                  0                              2*eps^2*e^lamb(r)*m(r, th) + e^lamb(r)                                                                   0                                                                   0]\n",
      "[                                                                  0                                                                   0                                          2*eps^2*r^2*k(r, th) + r^2                                                                   0]\n",
      "[                                     eps*r^2*omega(r, th)*sin(th)^2                                                                   0                                                                   0                      2*eps^2*r^2*k(r, th)*sin(th)^2 + r^2*sin(th)^2]\n"
     ]
    }
   ],
   "source": [
    "print(\"ge0 = \")\n",
    "print(gdd)\n",
    "print(\"K1 = \")\n",
    "print(K1)\n",
    "print(\"K2 = \")\n",
    "print(K2)\n",
    "print(\"ge = \")\n",
    "print(gedd)"
   ]
  },
  {
   "cell_type": "code",
   "execution_count": 6,
   "metadata": {
    "scrolled": true
   },
   "outputs": [
    {
     "data": {
      "text/html": [
       "<html>\\[\\newcommand{\\Bold}[1]{\\mathbf{#1}}\\verb|ge0|\\phantom{\\verb!x!}\\verb|=| \\left(\\begin{array}{rrrr}\n",
       "-e^{\\nu\\left(r\\right)} & 0 & 0 & 0 \\\\\n",
       "0 & e^{\\left({\\rm lamb}\\left(r\\right)\\right)} & 0 & 0 \\\\\n",
       "0 & 0 & r^{2} & 0 \\\\\n",
       "0 & 0 & 0 & r^{2} \\sin\\left(\\mathit{th}\\right)^{2}\n",
       "\\end{array}\\right)\\]</html>"
      ],
      "text/latex": [
       "$$\\newcommand{\\Bold}[1]{\\mathbf{#1}}\\verb|ge0|\\phantom{\\verb!x!}\\verb|=| \\left(\\begin{array}{rrrr}\n",
       "-e^{\\nu\\left(r\\right)} & 0 & 0 & 0 \\\\\n",
       "0 & e^{\\left({\\rm lamb}\\left(r\\right)\\right)} & 0 & 0 \\\\\n",
       "0 & 0 & r^{2} & 0 \\\\\n",
       "0 & 0 & 0 & r^{2} \\sin\\left(\\mathit{th}\\right)^{2}\n",
       "\\end{array}\\right)$$"
      ],
      "text/plain": [
       "'ge0 = ' [     -e^nu(r)             0             0             0]\n",
       "[            0     e^lamb(r)             0             0]\n",
       "[            0             0           r^2             0]\n",
       "[            0             0             0 r^2*sin(th)^2]"
      ]
     },
     "metadata": {},
     "output_type": "display_data"
    },
    {
     "data": {
      "text/html": [
       "<html>\\[\\newcommand{\\Bold}[1]{\\mathbf{#1}}\\verb|K1|\\phantom{\\verb!x!}\\verb|=| \\left(\\begin{array}{rrrr}\n",
       "0 & 0 & 0 & r^{2} \\omega\\left(r, \\mathit{th}\\right) \\sin\\left(\\mathit{th}\\right)^{2} \\\\\n",
       "0 & 0 & 0 & 0 \\\\\n",
       "0 & 0 & 0 & 0 \\\\\n",
       "r^{2} \\omega\\left(r, \\mathit{th}\\right) \\sin\\left(\\mathit{th}\\right)^{2} & 0 & 0 & 0\n",
       "\\end{array}\\right)\\]</html>"
      ],
      "text/latex": [
       "$$\\newcommand{\\Bold}[1]{\\mathbf{#1}}\\verb|K1|\\phantom{\\verb!x!}\\verb|=| \\left(\\begin{array}{rrrr}\n",
       "0 & 0 & 0 & r^{2} \\omega\\left(r, \\mathit{th}\\right) \\sin\\left(\\mathit{th}\\right)^{2} \\\\\n",
       "0 & 0 & 0 & 0 \\\\\n",
       "0 & 0 & 0 & 0 \\\\\n",
       "r^{2} \\omega\\left(r, \\mathit{th}\\right) \\sin\\left(\\mathit{th}\\right)^{2} & 0 & 0 & 0\n",
       "\\end{array}\\right)$$"
      ],
      "text/plain": [
       "'K1 = ' [                         0                          0                          0 r^2*omega(r, th)*sin(th)^2]\n",
       "[                         0                          0                          0                          0]\n",
       "[                         0                          0                          0                          0]\n",
       "[r^2*omega(r, th)*sin(th)^2                          0                          0                          0]"
      ]
     },
     "metadata": {},
     "output_type": "display_data"
    },
    {
     "data": {
      "text/html": [
       "<html>\\[\\newcommand{\\Bold}[1]{\\mathbf{#1}}\\verb|K2|\\phantom{\\verb!x!}\\verb|=| \\left(\\begin{array}{rrrr}\n",
       "2 \\, r^{2} \\omega\\left(r, \\mathit{th}\\right)^{2} \\sin\\left(\\mathit{th}\\right)^{2} - 4 \\, e^{\\nu\\left(r\\right)} h\\left(r, \\mathit{th}\\right) & 0 & 0 & 0 \\\\\n",
       "0 & 4 \\, e^{\\left({\\rm lamb}\\left(r\\right)\\right)} m\\left(r, \\mathit{th}\\right) & 0 & 0 \\\\\n",
       "0 & 0 & 4 \\, r^{2} k\\left(r, \\mathit{th}\\right) & 0 \\\\\n",
       "0 & 0 & 0 & 4 \\, r^{2} k\\left(r, \\mathit{th}\\right) \\sin\\left(\\mathit{th}\\right)^{2}\n",
       "\\end{array}\\right)\\]</html>"
      ],
      "text/latex": [
       "$$\\newcommand{\\Bold}[1]{\\mathbf{#1}}\\verb|K2|\\phantom{\\verb!x!}\\verb|=| \\left(\\begin{array}{rrrr}\n",
       "2 \\, r^{2} \\omega\\left(r, \\mathit{th}\\right)^{2} \\sin\\left(\\mathit{th}\\right)^{2} - 4 \\, e^{\\nu\\left(r\\right)} h\\left(r, \\mathit{th}\\right) & 0 & 0 & 0 \\\\\n",
       "0 & 4 \\, e^{\\left({\\rm lamb}\\left(r\\right)\\right)} m\\left(r, \\mathit{th}\\right) & 0 & 0 \\\\\n",
       "0 & 0 & 4 \\, r^{2} k\\left(r, \\mathit{th}\\right) & 0 \\\\\n",
       "0 & 0 & 0 & 4 \\, r^{2} k\\left(r, \\mathit{th}\\right) \\sin\\left(\\mathit{th}\\right)^{2}\n",
       "\\end{array}\\right)$$"
      ],
      "text/plain": [
       "'K2 = ' [2*r^2*omega(r, th)^2*sin(th)^2 - 4*e^nu(r)*h(r, th)                                                   0                                                   0                                                   0]\n",
       "[                                                  0                                4*e^lamb(r)*m(r, th)                                                   0                                                   0]\n",
       "[                                                  0                                                   0                                      4*r^2*k(r, th)                                                   0]\n",
       "[                                                  0                                                   0                                                   0                            4*r^2*k(r, th)*sin(th)^2]"
      ]
     },
     "metadata": {},
     "output_type": "display_data"
    },
    {
     "data": {
      "text/html": [
       "<html>\\[\\newcommand{\\Bold}[1]{\\mathbf{#1}}\\verb|ge|\\phantom{\\verb!x!}\\verb|=| \\left(\\begin{array}{rrrr}\n",
       "{\\left(r^{2} \\omega\\left(r, \\mathit{th}\\right)^{2} \\sin\\left(\\mathit{th}\\right)^{2} - 2 \\, e^{\\nu\\left(r\\right)} h\\left(r, \\mathit{th}\\right)\\right)} \\mathit{eps}^{2} - e^{\\nu\\left(r\\right)} & 0 & 0 & \\mathit{eps} r^{2} \\omega\\left(r, \\mathit{th}\\right) \\sin\\left(\\mathit{th}\\right)^{2} \\\\\n",
       "0 & 2 \\, \\mathit{eps}^{2} e^{\\left({\\rm lamb}\\left(r\\right)\\right)} m\\left(r, \\mathit{th}\\right) + e^{\\left({\\rm lamb}\\left(r\\right)\\right)} & 0 & 0 \\\\\n",
       "0 & 0 & 2 \\, \\mathit{eps}^{2} r^{2} k\\left(r, \\mathit{th}\\right) + r^{2} & 0 \\\\\n",
       "\\mathit{eps} r^{2} \\omega\\left(r, \\mathit{th}\\right) \\sin\\left(\\mathit{th}\\right)^{2} & 0 & 0 & 2 \\, \\mathit{eps}^{2} r^{2} k\\left(r, \\mathit{th}\\right) \\sin\\left(\\mathit{th}\\right)^{2} + r^{2} \\sin\\left(\\mathit{th}\\right)^{2}\n",
       "\\end{array}\\right)\\]</html>"
      ],
      "text/latex": [
       "$$\\newcommand{\\Bold}[1]{\\mathbf{#1}}\\verb|ge|\\phantom{\\verb!x!}\\verb|=| \\left(\\begin{array}{rrrr}\n",
       "{\\left(r^{2} \\omega\\left(r, \\mathit{th}\\right)^{2} \\sin\\left(\\mathit{th}\\right)^{2} - 2 \\, e^{\\nu\\left(r\\right)} h\\left(r, \\mathit{th}\\right)\\right)} \\mathit{eps}^{2} - e^{\\nu\\left(r\\right)} & 0 & 0 & \\mathit{eps} r^{2} \\omega\\left(r, \\mathit{th}\\right) \\sin\\left(\\mathit{th}\\right)^{2} \\\\\n",
       "0 & 2 \\, \\mathit{eps}^{2} e^{\\left({\\rm lamb}\\left(r\\right)\\right)} m\\left(r, \\mathit{th}\\right) + e^{\\left({\\rm lamb}\\left(r\\right)\\right)} & 0 & 0 \\\\\n",
       "0 & 0 & 2 \\, \\mathit{eps}^{2} r^{2} k\\left(r, \\mathit{th}\\right) + r^{2} & 0 \\\\\n",
       "\\mathit{eps} r^{2} \\omega\\left(r, \\mathit{th}\\right) \\sin\\left(\\mathit{th}\\right)^{2} & 0 & 0 & 2 \\, \\mathit{eps}^{2} r^{2} k\\left(r, \\mathit{th}\\right) \\sin\\left(\\mathit{th}\\right)^{2} + r^{2} \\sin\\left(\\mathit{th}\\right)^{2}\n",
       "\\end{array}\\right)$$"
      ],
      "text/plain": [
       "'ge = ' [(r^2*omega(r, th)^2*sin(th)^2 - 2*e^nu(r)*h(r, th))*eps^2 - e^nu(r)                                                                   0                                                                   0                                      eps*r^2*omega(r, th)*sin(th)^2]\n",
       "[                                                                  0                              2*eps^2*e^lamb(r)*m(r, th) + e^lamb(r)                                                                   0                                                                   0]\n",
       "[                                                                  0                                                                   0                                          2*eps^2*r^2*k(r, th) + r^2                                                                   0]\n",
       "[                                     eps*r^2*omega(r, th)*sin(th)^2                                                                   0                                                                   0                      2*eps^2*r^2*k(r, th)*sin(th)^2 + r^2*sin(th)^2]"
      ]
     },
     "metadata": {},
     "output_type": "display_data"
    }
   ],
   "source": [
    "# Para imprimir \"más bonito\":\n",
    "\n",
    "show(\"ge0 = \", gdd[:])\n",
    "show(\"K1 = \", K1[:])\n",
    "show(\"K2 = \", K2[:])\n",
    "show(\"ge = \", gedd[:])"
   ]
  },
  {
   "cell_type": "code",
   "execution_count": 7,
   "metadata": {},
   "outputs": [],
   "source": [
    "#4-velocities of the fluid for any epsilon\n",
    "\n",
    "ue = [Ne, 0, 0, Ne*Omegae]\n",
    "u = [exp(-nu/2), 0, 0, 0]\n",
    "\n",
    "Nevalue = solve(u[0]==ue[0], Ne)[0].rhs()                                                    #Eq 4.20\n",
    "Omegaevalue = solve(u[3]==ue[3], Omegae)[0].rhs()                                            #Eq 4.20"
   ]
  },
  {
   "cell_type": "code",
   "execution_count": 8,
   "metadata": {},
   "outputs": [
    {
     "data": {
      "text/html": [
       "<html>\\[\\newcommand{\\Bold}[1]{\\mathbf{#1}}\\verb|Ne0|\\phantom{\\verb!x!}\\verb|=| e^{\\left(-\\frac{1}{2} \\, \\nu\\left(r\\right)\\right)}\\]</html>"
      ],
      "text/latex": [
       "$$\\newcommand{\\Bold}[1]{\\mathbf{#1}}\\verb|Ne0|\\phantom{\\verb!x!}\\verb|=| e^{\\left(-\\frac{1}{2} \\, \\nu\\left(r\\right)\\right)}$$"
      ],
      "text/plain": [
       "'Ne0 = ' e^(-1/2*nu(r))"
      ]
     },
     "metadata": {},
     "output_type": "display_data"
    },
    {
     "data": {
      "text/html": [
       "<html>\\[\\newcommand{\\Bold}[1]{\\mathbf{#1}}\\verb|Omegae0|\\phantom{\\verb!x!}\\verb|=| 0\\]</html>"
      ],
      "text/latex": [
       "$$\\newcommand{\\Bold}[1]{\\mathbf{#1}}\\verb|Omegae0|\\phantom{\\verb!x!}\\verb|=| 0$$"
      ],
      "text/plain": [
       "'Omegae0 = ' 0"
      ]
     },
     "metadata": {},
     "output_type": "display_data"
    }
   ],
   "source": [
    "show(\"Ne0 = \", Nevalue)\n",
    "show(\"Omegae0 = \", Omegaevalue)"
   ]
  },
  {
   "cell_type": "code",
   "execution_count": 10,
   "metadata": {},
   "outputs": [
    {
     "name": "stdout",
     "output_type": "stream",
     "text": [
      "r1\n",
      "[u10(r), 0, 0, Omega1(eps)*e^(-1/2*nu(r))]\n"
     ]
    }
   ],
   "source": [
    "u1 = [0,0,0,0]\n",
    "u2 = [0,0,0,0]\n",
    "\n",
    "u10 = function('u10')(r)\n",
    "u20 = function('u20')(r)\n",
    "\n",
    "Omega1 = function('Omega1')(eps)\n",
    "Omega2 = function('Omega2')(eps)\n",
    "\n",
    "s0 = eps == 0\n",
    "s1 = Ne.subs(eps==0) == Nevalue\n",
    "s2 = Omegae.subs(eps==0) == Omegaevalue\n",
    "s3 = diff(Ne,eps).subs(eps==0) == u10\n",
    "s4 = diff(Omegae,eps).subs(eps==0) == Omega1\n",
    "s5 = diff(Ne,eps,eps).subs(eps==0) == u20\n",
    "s6 = diff(Omegae,eps,eps).subs(eps==0) == Omega2\n",
    "\n",
    "sustituciones = (s0,s1,s2,s3,s4,s5,s6)\n",
    "\n",
    "for i in range(0,4):\n",
    "    u1[i] = diff(ue[i],eps).subs(sustituciones)\n",
    "    u2[i] = diff(ue[i],eps,eps).subs(sustituciones)\n",
    "\n",
    "Ue = [0, 0, 0, 0]\n",
    "for i in range(0,4):\n",
    "    for j in range(0,4):\n",
    "        Ue[i] += ue[i]*gedd[i,j]\n",
    "\n",
    "for i in range(0,4):\n",
    "    geUeue = Ue[i]*ue[i]\n",
    "\n",
    "dgeUeue = diff(geUeue, eps).subs(sustituciones) == 0\n",
    "u10value = solve(dgeUeue, u10)[0].rhs()\n",
    "s7 = u10 == u10value\n",
    "print(u10value)\n",
    "for i in range(0,4):\n",
    "    u1[i].subs(u10==u10value)                                                                              #Eq 4.21\n",
    "print(u1)\n",
    "#ddgeUeue = diff(geUeue.expr(), eps, eps).subs(sustituciones) == 0\n",
    "#u20value = solve(ddgeUeue, u20)[0].rhs()\n",
    "#s8 = u20 == u20value\n",
    "#u2.apply_map(lambda cmp: cmp.subs(u20==u20value).subs(u10==u10value))                                      #Eq 4.22"
   ]
  },
  {
   "cell_type": "code",
   "execution_count": 57,
   "metadata": {},
   "outputs": [
    {
     "ename": "AttributeError",
     "evalue": "'list' object has no attribute 'display'",
     "output_type": "error",
     "traceback": [
      "\u001b[0;31m---------------------------------------------------------------------------\u001b[0m",
      "\u001b[0;31mAttributeError\u001b[0m                            Traceback (most recent call last)",
      "\u001b[0;32m<ipython-input-57-e3ccb5f573a8>\u001b[0m in \u001b[0;36m<module>\u001b[0;34m\u001b[0m\n\u001b[0;32m----> 1\u001b[0;31m \u001b[0mshow\u001b[0m\u001b[0;34m(\u001b[0m\u001b[0mu1\u001b[0m\u001b[0;34m.\u001b[0m\u001b[0mdisplay\u001b[0m\u001b[0;34m(\u001b[0m\u001b[0;34m)\u001b[0m\u001b[0;34m)\u001b[0m\u001b[0;34m\u001b[0m\u001b[0;34m\u001b[0m\u001b[0m\n\u001b[0m\u001b[1;32m      2\u001b[0m \u001b[0mshow\u001b[0m\u001b[0;34m(\u001b[0m\u001b[0mu2\u001b[0m\u001b[0;34m.\u001b[0m\u001b[0mdisplay\u001b[0m\u001b[0;34m(\u001b[0m\u001b[0;34m)\u001b[0m\u001b[0;34m)\u001b[0m\u001b[0;34m\u001b[0m\u001b[0;34m\u001b[0m\u001b[0m\n",
      "\u001b[0;31mAttributeError\u001b[0m: 'list' object has no attribute 'display'"
     ]
    }
   ],
   "source": [
    "show(u1.display())\n",
    "show(u2.display())"
   ]
  },
  {
   "cell_type": "code",
   "execution_count": null,
   "metadata": {},
   "outputs": [],
   "source": [
    "deins.apply_map(lambda cmp: cmp.subs(sustituciones))                                             #d/de(G_\\mu\\nu)|e=0\n",
    "ddeins.apply_map(lambda cmp: cmp.subs(sustituciones))                                        #d^2/de^2(G_\\mu\\nu)|e=0"
   ]
  },
  {
   "cell_type": "code",
   "execution_count": null,
   "metadata": {},
   "outputs": [],
   "source": [
    "Ee = function('Ee')(r,eps)\n",
    "Pe = function('Pe')(r,eps)\n",
    "\n",
    "eins0 = M.tensor_field(0,2, 'eins0')\n",
    "Tedd = M.tensor_field(0,2, 'Tedd')\n",
    "Tdd = M.tensor_field(0,2, 'Tdd')\n",
    "for i in range(0,n+1):\n",
    "    for j in range(0,n+1):\n",
    "        eins0[i,j] = eins[i,j]\n",
    "        Tedd[i,j] = (Ee + Pe)*Ue[i]*Ue[j] + Pe*gedd[i,j]                                                 #T_\\mu\\nu e\n",
    "        Tdd[i,j] = Tedd[i,j]\n",
    "\n",
    "eins0.apply_map(lambda cmp: cmp.subs(sustituciones))                                                       #G_\\mu\\nu\n",
    "Tdd.apply_map(lambda cmp: cmp.subs(sustituciones))                                                         #T_\\mu\\nu"
   ]
  },
  {
   "cell_type": "code",
   "execution_count": null,
   "metadata": {},
   "outputs": [],
   "source": [
    "show(\"Te0 =\", Tdd[:])"
   ]
  },
  {
   "cell_type": "code",
   "execution_count": null,
   "metadata": {},
   "outputs": [],
   "source": [
    "kappa = 8*pi\n",
    "E = function('E')(r)\n",
    "P = function('P')(r)\n",
    "\n",
    "s9 = Ee.subs(eps==0) == E\n",
    "s10 = Pe.subs(eps==0) == P\n",
    "sustituciones = (s1,s2,s3,s4,s5,s6,s7,s8,s9,s10)\n",
    "Tdd.apply_map(lambda cmp: cmp.subs(sustituciones))\n",
    "E_tt = solve(eins0[0,0].expr()==kappa*Tdd[0,0].expr(),E)[0].rhs()                                            #Eq 3.7\n",
    "P_rr = solve(eins0[1,1].expr()==kappa*Tdd[1,1].expr(),P)[0].rhs()                                            #Eq 3.8\n",
    "P_thth = solve(eins0[2,2].expr()==kappa*Tdd[2,2].expr(),P)[0].rhs()\n",
    "P_phph = solve(eins0[3,3].expr()==kappa*Tdd[3,3].expr(),P)[0].rhs()\n",
    "ddnu = solve(P_rr == P_thth, diff(nu,r,r))[0].rhs()                                                          #Eq 3.9"
   ]
  },
  {
   "cell_type": "code",
   "execution_count": null,
   "metadata": {},
   "outputs": [],
   "source": [
    "show(\"E = \", E_tt)\n",
    "show(\"Prr = \", P_rr)\n",
    "show(\"ddnu =\", ddnu)"
   ]
  },
  {
   "cell_type": "code",
   "execution_count": null,
   "metadata": {},
   "outputs": [],
   "source": [
    "dlamb = solve(E==E_tt,diff(lamb,r))[0].rhs()                                                                 #Eq 3.10\n",
    "dnu = solve(P==P_rr,diff(nu,r))[0].rhs()                                                                     #Eq 3.11"
   ]
  },
  {
   "cell_type": "code",
   "execution_count": null,
   "metadata": {},
   "outputs": [],
   "source": [
    "show(LatexExpr(\"dlamb = \"), dlamb)\n",
    "show(LatexExpr(\"dnu = \"), dnu)"
   ]
  },
  {
   "cell_type": "code",
   "execution_count": null,
   "metadata": {},
   "outputs": [],
   "source": [
    "h0 = function('h0')(r,th)\n",
    "k0 = function('k0')(r,th)\n",
    "m0 = function('m0')(r,th)\n",
    "\n",
    "h2 = function('h2')(r,th)\n",
    "k2 = function('k2')(r,th)\n",
    "m2 = function('m2')(r,th)\n",
    "\n",
    "m = m0 + m2*(3*cos(th)^2-1)/2\n",
    "k = k0 + k2*(3*cos(th)^2-1)/2\n",
    "h = h0 + h2*(3*cos(th)^2-1)/2"
   ]
  },
  {
   "cell_type": "code",
   "execution_count": null,
   "metadata": {},
   "outputs": [],
   "source": [
    "E1 = function('E1')(r)\n",
    "E2 = function('E2')(r)\n",
    "P1 = function('P1')(r)\n",
    "P2 = function('P2')(r)\n",
    "\n",
    "s11 = diff(Ee,eps).subs(eps==0) == E1\n",
    "s12 = diff(Ee,eps,eps).subs(eps==0) == E2\n",
    "s13 = diff(Pe,eps).subs(eps==0) == P1\n",
    "s14 = diff(Pe,eps,eps).subs(eps==0) == P2\n",
    "\n",
    "s15 = m == m0 + m2*(3*cos(th)^2-1)/2\n",
    "s16 = k == k0 + k2*(3*cos(th)^2-1)/2\n",
    "s17 = h == h0 + h2*(3*cos(th)^2-1)/2\n",
    "\n",
    "sustituciones = (s0,s1,s2,s3,s4,s5,s6,s7,s8,s9,s10,s11,s12,s13,s14,s15,s16,s17)"
   ]
  },
  {
   "cell_type": "code",
   "execution_count": null,
   "metadata": {},
   "outputs": [],
   "source": [
    "dTdd = M.tensor_field(0,2,'dTdd')\n",
    "ddTdd = M.tensor_field(0,2,'ddTdd')\n",
    "for i in range(0,n+1):\n",
    "    for j in range(0,n+1):\n",
    "        dTdd[i,j] = diff(Tedd[i,j].expr(),eps)\n",
    "        ddTdd[i,j] = diff(Tedd[i,j].expr(),eps,eps)\n",
    "dTdd.apply_map(lambda cmp: cmp.subs(sustituciones))                                              #d/de(T_\\mu\\nu)|e=0\n",
    "ddTdd.apply_map(lambda cmp: cmp.subs(sustituciones))                                         #d^2/de^2(T_\\mu\\nu)|e=0"
   ]
  },
  {
   "cell_type": "code",
   "execution_count": null,
   "metadata": {},
   "outputs": [],
   "source": [
    "# Calculamos ahora la primera derivada de la ecuación\n",
    "\n",
    "show(deins[1,1],\" = \", kappa*dTdd[1,1])\n",
    "show(deins[2,2],\" = \", kappa*dTdd[2,2])\n",
    "show(deins[3,3],\" = \", kappa*dTdd[3,3])\n",
    "\n",
    "P1 = solve(deins[1,1].expr() == kappa*dTdd[1,1].expr(),P1)[0].rhs()\n",
    "\n",
    "show(\"De aquí sacamos P1 -> P1(r) = \", P1)"
   ]
  },
  {
   "cell_type": "code",
   "execution_count": null,
   "metadata": {
    "scrolled": true
   },
   "outputs": [],
   "source": [
    "show(deins[0,0],\" = \", kappa*dTdd[0,0])\n",
    "\n",
    "E1 = solve(deins[0,0].expr() == kappa*dTdd[0,0].expr(),E1)[0].rhs()\n",
    "E1 = E1.subs(sustituciones)\n",
    "show(\"De aquí sacamos E1 -> E1(r) = \", E1)"
   ]
  },
  {
   "cell_type": "code",
   "execution_count": null,
   "metadata": {},
   "outputs": [],
   "source": [
    "show(deins[0,3].expr() == kappa*dTdd[0,3].expr())                                                           #Eq 48"
   ]
  },
  {
   "cell_type": "code",
   "execution_count": null,
   "metadata": {},
   "outputs": [],
   "source": [
    "# Para la segunda derivada tenemos\n",
    "\n",
    "show(ddeins[0,0].expr(),\" = \", kappa*ddTdd[0,0].expr())"
   ]
  },
  {
   "cell_type": "code",
   "execution_count": null,
   "metadata": {},
   "outputs": [],
   "source": [
    "show(ddeins[1,1],\" = \", kappa*ddTdd[1,1])"
   ]
  },
  {
   "cell_type": "code",
   "execution_count": null,
   "metadata": {},
   "outputs": [],
   "source": [
    "show(ddeins[2,2],\" = \", kappa*ddTdd[2,2])"
   ]
  },
  {
   "cell_type": "code",
   "execution_count": null,
   "metadata": {},
   "outputs": [],
   "source": [
    "show(ddeins[3,3],\" = \", kappa*ddTdd[3,3])"
   ]
  },
  {
   "cell_type": "code",
   "execution_count": null,
   "metadata": {},
   "outputs": [],
   "source": [
    "show(ddeins[0,3],\" = \", kappa*ddTdd[0,3])"
   ]
  },
  {
   "cell_type": "code",
   "execution_count": null,
   "metadata": {},
   "outputs": [],
   "source": [
    "show(ddeins[1,2],\" = \", kappa*ddTdd[1,2])"
   ]
  },
  {
   "cell_type": "code",
   "execution_count": null,
   "metadata": {},
   "outputs": [],
   "source": [
    "# Aplicamos barotropic EoS\n",
    "# Utilizando (6.11) de Reina con P1=0 y E1=0\n",
    "E2*diff(P,r) - P2*diff(E,r) == 0"
   ]
  },
  {
   "cell_type": "code",
   "execution_count": null,
   "metadata": {},
   "outputs": [],
   "source": [
    "h"
   ]
  },
  {
   "cell_type": "code",
   "execution_count": null,
   "metadata": {},
   "outputs": [],
   "source": [
    "ddeins[0,0]"
   ]
  },
  {
   "cell_type": "code",
   "execution_count": null,
   "metadata": {},
   "outputs": [],
   "source": [
    "h0 = function('h0')(r,th)\n",
    "k0 = function('k0')(r,th)\n",
    "m0 = function('m0')(r,th)\n",
    "\n",
    "h2 = function('h2')(r,th)\n",
    "k2 = function('k2')(r,th)\n",
    "m2 = function('m2')(r,th)\n",
    "\n",
    "m = m0 + m2*(3*cos(th)^2-1)/2\n",
    "k = k0 + k2*(3*cos(th)^2-1)/2\n",
    "h = h0 + h2*(3*cos(th)^2-1)/2"
   ]
  },
  {
   "cell_type": "code",
   "execution_count": null,
   "metadata": {},
   "outputs": [],
   "source": [
    "ddeins.apply_map(lambda cmp: cmp.subs(h==h0+h2*(3*cos(th)^2-1)/2))\n",
    "ddeins.apply_map(lambda cmp: cmp.subs(k==k0+k2*(3*cos(th)^2-1)/2))\n",
    "ddeins.apply_map(lambda cmp: cmp.subs(m==m0+m2*(3*cos(th)^2-1)/2))"
   ]
  },
  {
   "cell_type": "code",
   "execution_count": null,
   "metadata": {},
   "outputs": [],
   "source": [
    "ddeins[0,0].subs(m==m0 + m2*(3*cos(th)^2-1)/2)"
   ]
  },
  {
   "cell_type": "code",
   "execution_count": null,
   "metadata": {},
   "outputs": [],
   "source": []
  },
  {
   "cell_type": "code",
   "execution_count": null,
   "metadata": {},
   "outputs": [],
   "source": []
  }
 ],
 "metadata": {
  "kernelspec": {
   "display_name": "SageMath 9.4",
   "language": "sage",
   "name": "sagemath-9.4"
  },
  "language_info": {
   "codemirror_mode": {
    "name": "ipython",
    "version": 3
   },
   "file_extension": ".py",
   "mimetype": "text/x-python",
   "name": "python",
   "nbconvert_exporter": "python",
   "pygments_lexer": "ipython3",
   "version": "3.9.5"
  }
 },
 "nbformat": 4,
 "nbformat_minor": 4
}
