{
 "cells": [
  {
   "cell_type": "code",
   "execution_count": 1,
   "metadata": {},
   "outputs": [],
   "source": [
    "%display latex\n",
    "\n",
    "eps = var('eps', latex_name = '\\\\varepsilon')\n",
    "t = var('t')\n",
    "r = var('r')\n",
    "th = var('th', latex_name = '\\\\theta')\n",
    "ph = var('ph', latex_name = '\\\\varphi')\n",
    "\n",
    "coords = (t,r,th,ph)\n",
    "\n",
    "h = function('h')(r,th)\n",
    "k = function('k')(r,th)\n",
    "m = function('m')(r,th)\n",
    "omega = function('omega', latex_name='\\\\omega')(r,th)\n",
    "\n",
    "nu = function('nu', latex_name='\\\\nu')(r)\n",
    "lamb = function('lamb', latex_name='\\\\lambda')(r)\n",
    "\n",
    "Omegae = function('Omegaevalue')(eps)\n",
    "Ne = function('Ne', latex_name='N_e')(r,th,eps)"
   ]
  },
  {
   "cell_type": "code",
   "execution_count": 2,
   "metadata": {},
   "outputs": [],
   "source": [
    "def cosmotensors(gedd):\n",
    "    \n",
    "    geuu = 1/gedd\n",
    "    \n",
    "    chris = [[[0 for kk in range(0,4)] for j in range(0,4)] for i in range(0,4)]\n",
    "    for i in range(0,4):\n",
    "        for j in range(0,4):\n",
    "            for kk in range(0,4):\n",
    "                chris[i][j][kk] = 0.5*sum(geuu[i,dd]*(diff(gedd[dd,j],coords[kk])\n",
    "                                                   + diff(gedd[dd,kk],coords[j])\n",
    "                                                   - diff(gedd[j,kk],coords[dd])) for dd in range(0,4))\n",
    "                \n",
    "    riem = [[[[0 for l in range(0,4)] for kk in range(0,4)] for j in range(0,4)] for i in range(0,4)]\n",
    "    for i in range(0,4):\n",
    "        for j in range(0,4):\n",
    "            for kk in range(0,4):\n",
    "                for l in range(0,4):\n",
    "                    riem[i][j][kk][l] = (diff(chris[i][j][l],coords[kk])\n",
    "                                      - diff(chris[i][j][kk],coords[l])\n",
    "                                      + sum(chris[i][kk][dd]*chris[dd][l][j]\n",
    "                                          - chris[i][l][dd]*chris[dd][kk][j] for dd in range(0,4)))\n",
    "                    \n",
    "    ricci = matrix(SR, 4, 4)\n",
    "    for i in range(0,4):\n",
    "        for kk in range(0,4):\n",
    "            ricci[i,kk] = sum(riem[dd][i][dd][kk] for dd in range(0,4))\n",
    "\n",
    "    s_curv = sum(sum(ricci[i,j]*geuu[i,j] for i in range(0,4)) for j in range(0,4))\n",
    "    \n",
    "    Ge = matrix(SR, 4, 4)\n",
    "    Ge = ricci - 0.5*gedd*s_curv\n",
    "    \n",
    "    dGe = matrix(SR, 4, 4)\n",
    "    ddGe = matrix(SR, 4, 4)\n",
    "    for i in range(0,4):\n",
    "        for j in range(0,4):\n",
    "            dGe[i,j] = diff(Ge[i,j],eps)\n",
    "            ddGe[i,j] = diff(Ge[i,j],eps,eps)\n",
    "    \n",
    "    return {'inverse_metric': geuu,\n",
    "            'einstein': Ge,\n",
    "            'd_einstein': dGe,\n",
    "            'dd_einstein': ddGe}"
   ]
  },
  {
   "cell_type": "code",
   "execution_count": 3,
   "metadata": {},
   "outputs": [],
   "source": [
    "gdd = matrix(SR, 4, 4)\n",
    "\n",
    "gdd[0,0] = -exp(nu)\n",
    "gdd[1,1] = exp(lamb)\n",
    "gdd[2,2] = r^2\n",
    "gdd[3,3] = r^2*sin(th)^2\n",
    "\n",
    "guu = 1/gdd\n",
    "\n",
    "K1 = matrix(SR, 4, 4)\n",
    "K1[0,3] = -omega*r^2*sin(th)^2\n",
    "K1[3,0] = -omega*r^2*sin(th)^2\n",
    "\n",
    "K2 = matrix(SR, 4, 4)\n",
    "K2[0,0] = -4*exp(nu)*h + 2*r^2*sin(th)^2*omega^2\n",
    "K2[1,1] = 4*exp(lamb)*m\n",
    "K2[2,2] = 4*k*r^2\n",
    "K2[3,3] = 4*k*r^2*sin(th)^2\n",
    "\n",
    "gedd = matrix(SR, 4, 4)\n",
    "for i in range(0,4):\n",
    "    for j in range(i,4):\n",
    "        gedd[i,j] = gdd[i,j] + eps*K1[i,j] + 1/2*eps^2*K2[i,j]\n",
    "        gedd[j,i] = gedd[i,j]\n",
    "\n",
    "tensors = cosmotensors(gedd)\n",
    "\n",
    "geuu = tensors['inverse_metric']\n",
    "Ge = tensors['einstein']\n",
    "dGe = tensors['d_einstein']\n",
    "ddGe = tensors['dd_einstein']"
   ]
  },
  {
   "cell_type": "code",
   "execution_count": 4,
   "metadata": {
    "scrolled": false
   },
   "outputs": [
    {
     "data": {
      "text/html": [
       "<html>\\[\\newcommand{\\Bold}[1]{\\mathbf{#1}}\\verb|ge0|\\phantom{\\verb!x!}\\verb|=| \\left(\\begin{array}{rrrr}\n",
       "-e^{\\nu\\left(r\\right)} & 0 & 0 & 0 \\\\\n",
       "0 & e^{\\lambda\\left(r\\right)} & 0 & 0 \\\\\n",
       "0 & 0 & r^{2} & 0 \\\\\n",
       "0 & 0 & 0 & r^{2} \\sin\\left({\\theta}\\right)^{2}\n",
       "\\end{array}\\right)\\]</html>"
      ],
      "text/latex": [
       "$$\\newcommand{\\Bold}[1]{\\mathbf{#1}}\\verb|ge0|\\phantom{\\verb!x!}\\verb|=| \\left(\\begin{array}{rrrr}\n",
       "-e^{\\nu\\left(r\\right)} & 0 & 0 & 0 \\\\\n",
       "0 & e^{\\lambda\\left(r\\right)} & 0 & 0 \\\\\n",
       "0 & 0 & r^{2} & 0 \\\\\n",
       "0 & 0 & 0 & r^{2} \\sin\\left({\\theta}\\right)^{2}\n",
       "\\end{array}\\right)$$"
      ],
      "text/plain": [
       "'ge0 = ' [     -e^nu(r)             0             0             0]\n",
       "[            0     e^lamb(r)             0             0]\n",
       "[            0             0           r^2             0]\n",
       "[            0             0             0 r^2*sin(th)^2]"
      ]
     },
     "metadata": {},
     "output_type": "display_data"
    },
    {
     "data": {
      "text/html": [
       "<html>\\[\\newcommand{\\Bold}[1]{\\mathbf{#1}}\\verb|K1|\\phantom{\\verb!x!}\\verb|=| \\left(\\begin{array}{rrrr}\n",
       "0 & 0 & 0 & -r^{2} \\omega\\left(r, {\\theta}\\right) \\sin\\left({\\theta}\\right)^{2} \\\\\n",
       "0 & 0 & 0 & 0 \\\\\n",
       "0 & 0 & 0 & 0 \\\\\n",
       "-r^{2} \\omega\\left(r, {\\theta}\\right) \\sin\\left({\\theta}\\right)^{2} & 0 & 0 & 0\n",
       "\\end{array}\\right)\\]</html>"
      ],
      "text/latex": [
       "$$\\newcommand{\\Bold}[1]{\\mathbf{#1}}\\verb|K1|\\phantom{\\verb!x!}\\verb|=| \\left(\\begin{array}{rrrr}\n",
       "0 & 0 & 0 & -r^{2} \\omega\\left(r, {\\theta}\\right) \\sin\\left({\\theta}\\right)^{2} \\\\\n",
       "0 & 0 & 0 & 0 \\\\\n",
       "0 & 0 & 0 & 0 \\\\\n",
       "-r^{2} \\omega\\left(r, {\\theta}\\right) \\sin\\left({\\theta}\\right)^{2} & 0 & 0 & 0\n",
       "\\end{array}\\right)$$"
      ],
      "text/plain": [
       "'K1 = ' [                          0                           0                           0 -r^2*omega(r, th)*sin(th)^2]\n",
       "[                          0                           0                           0                           0]\n",
       "[                          0                           0                           0                           0]\n",
       "[-r^2*omega(r, th)*sin(th)^2                           0                           0                           0]"
      ]
     },
     "metadata": {},
     "output_type": "display_data"
    },
    {
     "data": {
      "text/html": [
       "<html>\\[\\newcommand{\\Bold}[1]{\\mathbf{#1}}\\verb|K2|\\phantom{\\verb!x!}\\verb|=| \\left(\\begin{array}{rrrr}\n",
       "2 \\, r^{2} \\omega\\left(r, {\\theta}\\right)^{2} \\sin\\left({\\theta}\\right)^{2} - 4 \\, e^{\\nu\\left(r\\right)} h\\left(r, {\\theta}\\right) & 0 & 0 & 0 \\\\\n",
       "0 & 4 \\, e^{\\lambda\\left(r\\right)} m\\left(r, {\\theta}\\right) & 0 & 0 \\\\\n",
       "0 & 0 & 4 \\, r^{2} k\\left(r, {\\theta}\\right) & 0 \\\\\n",
       "0 & 0 & 0 & 4 \\, r^{2} k\\left(r, {\\theta}\\right) \\sin\\left({\\theta}\\right)^{2}\n",
       "\\end{array}\\right)\\]</html>"
      ],
      "text/latex": [
       "$$\\newcommand{\\Bold}[1]{\\mathbf{#1}}\\verb|K2|\\phantom{\\verb!x!}\\verb|=| \\left(\\begin{array}{rrrr}\n",
       "2 \\, r^{2} \\omega\\left(r, {\\theta}\\right)^{2} \\sin\\left({\\theta}\\right)^{2} - 4 \\, e^{\\nu\\left(r\\right)} h\\left(r, {\\theta}\\right) & 0 & 0 & 0 \\\\\n",
       "0 & 4 \\, e^{\\lambda\\left(r\\right)} m\\left(r, {\\theta}\\right) & 0 & 0 \\\\\n",
       "0 & 0 & 4 \\, r^{2} k\\left(r, {\\theta}\\right) & 0 \\\\\n",
       "0 & 0 & 0 & 4 \\, r^{2} k\\left(r, {\\theta}\\right) \\sin\\left({\\theta}\\right)^{2}\n",
       "\\end{array}\\right)$$"
      ],
      "text/plain": [
       "'K2 = ' [2*r^2*omega(r, th)^2*sin(th)^2 - 4*e^nu(r)*h(r, th)                                                   0                                                   0                                                   0]\n",
       "[                                                  0                                4*e^lamb(r)*m(r, th)                                                   0                                                   0]\n",
       "[                                                  0                                                   0                                      4*r^2*k(r, th)                                                   0]\n",
       "[                                                  0                                                   0                                                   0                            4*r^2*k(r, th)*sin(th)^2]"
      ]
     },
     "metadata": {},
     "output_type": "display_data"
    },
    {
     "data": {
      "text/html": [
       "<html>\\[\\newcommand{\\Bold}[1]{\\mathbf{#1}}\\verb|ge|\\phantom{\\verb!x!}\\verb|=| \\left(\\begin{array}{rrrr}\n",
       "{\\left(r^{2} \\omega\\left(r, {\\theta}\\right)^{2} \\sin\\left({\\theta}\\right)^{2} - 2 \\, e^{\\nu\\left(r\\right)} h\\left(r, {\\theta}\\right)\\right)} {\\varepsilon}^{2} - e^{\\nu\\left(r\\right)} & 0 & 0 & -{\\varepsilon} r^{2} \\omega\\left(r, {\\theta}\\right) \\sin\\left({\\theta}\\right)^{2} \\\\\n",
       "0 & 2 \\, {\\varepsilon}^{2} e^{\\lambda\\left(r\\right)} m\\left(r, {\\theta}\\right) + e^{\\lambda\\left(r\\right)} & 0 & 0 \\\\\n",
       "0 & 0 & 2 \\, {\\varepsilon}^{2} r^{2} k\\left(r, {\\theta}\\right) + r^{2} & 0 \\\\\n",
       "-{\\varepsilon} r^{2} \\omega\\left(r, {\\theta}\\right) \\sin\\left({\\theta}\\right)^{2} & 0 & 0 & 2 \\, {\\varepsilon}^{2} r^{2} k\\left(r, {\\theta}\\right) \\sin\\left({\\theta}\\right)^{2} + r^{2} \\sin\\left({\\theta}\\right)^{2}\n",
       "\\end{array}\\right)\\]</html>"
      ],
      "text/latex": [
       "$$\\newcommand{\\Bold}[1]{\\mathbf{#1}}\\verb|ge|\\phantom{\\verb!x!}\\verb|=| \\left(\\begin{array}{rrrr}\n",
       "{\\left(r^{2} \\omega\\left(r, {\\theta}\\right)^{2} \\sin\\left({\\theta}\\right)^{2} - 2 \\, e^{\\nu\\left(r\\right)} h\\left(r, {\\theta}\\right)\\right)} {\\varepsilon}^{2} - e^{\\nu\\left(r\\right)} & 0 & 0 & -{\\varepsilon} r^{2} \\omega\\left(r, {\\theta}\\right) \\sin\\left({\\theta}\\right)^{2} \\\\\n",
       "0 & 2 \\, {\\varepsilon}^{2} e^{\\lambda\\left(r\\right)} m\\left(r, {\\theta}\\right) + e^{\\lambda\\left(r\\right)} & 0 & 0 \\\\\n",
       "0 & 0 & 2 \\, {\\varepsilon}^{2} r^{2} k\\left(r, {\\theta}\\right) + r^{2} & 0 \\\\\n",
       "-{\\varepsilon} r^{2} \\omega\\left(r, {\\theta}\\right) \\sin\\left({\\theta}\\right)^{2} & 0 & 0 & 2 \\, {\\varepsilon}^{2} r^{2} k\\left(r, {\\theta}\\right) \\sin\\left({\\theta}\\right)^{2} + r^{2} \\sin\\left({\\theta}\\right)^{2}\n",
       "\\end{array}\\right)$$"
      ],
      "text/plain": [
       "'ge = ' [(r^2*omega(r, th)^2*sin(th)^2 - 2*e^nu(r)*h(r, th))*eps^2 - e^nu(r)                                                                   0                                                                   0                                     -eps*r^2*omega(r, th)*sin(th)^2]\n",
       "[                                                                  0                              2*eps^2*e^lamb(r)*m(r, th) + e^lamb(r)                                                                   0                                                                   0]\n",
       "[                                                                  0                                                                   0                                          2*eps^2*r^2*k(r, th) + r^2                                                                   0]\n",
       "[                                    -eps*r^2*omega(r, th)*sin(th)^2                                                                   0                                                                   0                      2*eps^2*r^2*k(r, th)*sin(th)^2 + r^2*sin(th)^2]"
      ]
     },
     "metadata": {},
     "output_type": "display_data"
    }
   ],
   "source": [
    "show(\"ge0 = \", gdd[:])\n",
    "show(\"K1 = \", K1[:])\n",
    "show(\"K2 = \", K2[:])\n",
    "show(\"ge = \", gedd[:])"
   ]
  },
  {
   "cell_type": "code",
   "execution_count": 5,
   "metadata": {},
   "outputs": [],
   "source": [
    "#4-velocities of the fluid for any epsilon\n",
    "\n",
    "ue = [0,0,0,0]\n",
    "u = [0,0,0,0]\n",
    "\n",
    "ue[0] = Ne;         ue[1] = 0;   ue[2] = 0;   ue[3] = Ne*Omegae\n",
    "u[0] = exp(-nu/2);  u[1] =  0;   u[2] = 0;    u[3] =  0\n",
    "\n",
    "Nevalue = solve(u[0]==ue[0], Ne)[0].rhs()                                                             #Eq 4.20\n",
    "Omegaevalue = solve(u[3]==ue[3], Omegae)[0].rhs()                                                     #Eq 4.20"
   ]
  },
  {
   "cell_type": "code",
   "execution_count": 6,
   "metadata": {},
   "outputs": [
    {
     "data": {
      "text/html": [
       "<html>\\[\\newcommand{\\Bold}[1]{\\mathbf{#1}}N_{\\varepsilon}\\lvert_0 =  e^{\\left(-\\frac{1}{2} \\, \\nu\\left(r\\right)\\right)}\\]</html>"
      ],
      "text/latex": [
       "$$\\newcommand{\\Bold}[1]{\\mathbf{#1}}N_{\\varepsilon}\\lvert_0 =  e^{\\left(-\\frac{1}{2} \\, \\nu\\left(r\\right)\\right)}$$"
      ],
      "text/plain": [
       "N_{\\varepsilon}\\lvert_0 =  e^(-1/2*nu(r))"
      ]
     },
     "metadata": {},
     "output_type": "display_data"
    },
    {
     "data": {
      "text/html": [
       "<html>\\[\\newcommand{\\Bold}[1]{\\mathbf{#1}}\\Omega_{\\varepsilon}\\lvert_0 =  0\\]</html>"
      ],
      "text/latex": [
       "$$\\newcommand{\\Bold}[1]{\\mathbf{#1}}\\Omega_{\\varepsilon}\\lvert_0 =  0$$"
      ],
      "text/plain": [
       "\\Omega_{\\varepsilon}\\lvert_0 =  0"
      ]
     },
     "metadata": {},
     "output_type": "display_data"
    }
   ],
   "source": [
    "show(LatexExpr(\"N_{\\\\varepsilon}\\lvert_0 = \"), Nevalue)\n",
    "show(LatexExpr(\"\\\\Omega_{\\\\varepsilon}\\lvert_0 = \"), Omegaevalue)"
   ]
  },
  {
   "cell_type": "code",
   "execution_count": 7,
   "metadata": {},
   "outputs": [],
   "source": [
    "u1 = [0,0,0,0]\n",
    "u2 = [0,0,0,0]\n",
    "\n",
    "u10 = function('u10',latex_name=\"u^{(1)0}\")(r,th)\n",
    "u20 = function('u20',latex_name=\"u^{(2)0}\")(r,th)\n",
    "\n",
    "Omega1 = var('Omega1', latex_name=\"\\\\Omega^{(1)}\")\n",
    "Omega2 = var('Omega2', latex_name=\"\\\\Omega^{(2)}\")\n",
    "\n",
    "s0 = eps == 0\n",
    "\n",
    "s1 = Ne.subs(eps==0) == Nevalue\n",
    "s2 = Omegae.subs(eps==0) == Omegaevalue\n",
    "\n",
    "s3 = diff(Ne,eps,eps).subs(eps==0) == u20\n",
    "s4 = diff(Omegae,eps,eps).subs(eps==0) == Omega2\n",
    "\n",
    "s5 = diff(Ne,eps).subs(eps==0) == u10\n",
    "s6 = diff(Omegae,eps).subs(eps==0) == Omega1\n",
    "\n",
    "sus_func = [s0,s1,s2,s3,s4,s5,s6]\n",
    "\n",
    "for i in range(0,4):\n",
    "    u1[i] = diff(ue[i],eps)\n",
    "    u2[i] = diff(ue[i],eps,eps)\n",
    "\n",
    "Ue = [0,0,0,0]\n",
    "for i in range(0,4):\n",
    "    for j in range(0,4):\n",
    "        Ue[i] += ue[j]*gedd[j,i]\n",
    "\n",
    "geUeue = 0\n",
    "for i in range(0,4):\n",
    "    geUeue += Ue[i]*ue[i]\n",
    "\n",
    "ddgeUeue = diff(geUeue, eps, eps).subs(sus_func) == 0\n",
    "u20value = solve(ddgeUeue, u20)[0].rhs()\n",
    "s7 = u20 == u20value\n",
    "\n",
    "dgeUeue = diff(geUeue, eps).subs(sus_func) == 0\n",
    "u10value = solve(dgeUeue, u10)[0].rhs()\n",
    "s8 = u10 == u10value\n",
    "\n",
    "sus_func.extend([s7,s8])\n",
    "for i in range(0,4):\n",
    "    for kk in range(0,len(sus_func)):\n",
    "        u1[i] = u1[i].subs(sus_func[kk])\n",
    "        u2[i] = u2[i].subs(sus_func[kk])"
   ]
  },
  {
   "cell_type": "code",
   "execution_count": 8,
   "metadata": {},
   "outputs": [
    {
     "data": {
      "text/html": [
       "<html>\\[\\newcommand{\\Bold}[1]{\\mathbf{#1}}u^{(1)} =  \\left[0, 0, 0, {\\Omega^{(1)}} e^{\\left(-\\frac{1}{2} \\, \\nu\\left(r\\right)\\right)}\\right]\\]</html>"
      ],
      "text/latex": [
       "$$\\newcommand{\\Bold}[1]{\\mathbf{#1}}u^{(1)} =  \\left[0, 0, 0, {\\Omega^{(1)}} e^{\\left(-\\frac{1}{2} \\, \\nu\\left(r\\right)\\right)}\\right]$$"
      ],
      "text/plain": [
       "u^{(1)} =  [0, 0, 0, Omega1*e^(-1/2*nu(r))]"
      ]
     },
     "metadata": {},
     "output_type": "display_data"
    },
    {
     "data": {
      "text/html": [
       "<html>\\[\\newcommand{\\Bold}[1]{\\mathbf{#1}}u^{(2)} =  \\left[{\\left({\\left({\\Omega^{(1)}}^{2} r^{2} - 2 \\, {\\Omega^{(1)}} r^{2} \\omega\\left(r, {\\theta}\\right) + r^{2} \\omega\\left(r, {\\theta}\\right)^{2}\\right)} \\sin\\left({\\theta}\\right)^{2} - 2 \\, e^{\\nu\\left(r\\right)} h\\left(r, {\\theta}\\right)\\right)} e^{\\left(-\\frac{3}{2} \\, \\nu\\left(r\\right)\\right)}, 0, 0, {\\Omega^{(2)}} e^{\\left(-\\frac{1}{2} \\, \\nu\\left(r\\right)\\right)}\\right]\\]</html>"
      ],
      "text/latex": [
       "$$\\newcommand{\\Bold}[1]{\\mathbf{#1}}u^{(2)} =  \\left[{\\left({\\left({\\Omega^{(1)}}^{2} r^{2} - 2 \\, {\\Omega^{(1)}} r^{2} \\omega\\left(r, {\\theta}\\right) + r^{2} \\omega\\left(r, {\\theta}\\right)^{2}\\right)} \\sin\\left({\\theta}\\right)^{2} - 2 \\, e^{\\nu\\left(r\\right)} h\\left(r, {\\theta}\\right)\\right)} e^{\\left(-\\frac{3}{2} \\, \\nu\\left(r\\right)\\right)}, 0, 0, {\\Omega^{(2)}} e^{\\left(-\\frac{1}{2} \\, \\nu\\left(r\\right)\\right)}\\right]$$"
      ],
      "text/plain": [
       "u^{(2)} =  [((Omega1^2*r^2 - 2*Omega1*r^2*omega(r, th) + r^2*omega(r, th)^2)*sin(th)^2 - 2*e^nu(r)*h(r, th))*e^(-3/2*nu(r)),\n",
       " 0,\n",
       " 0,\n",
       " Omega2*e^(-1/2*nu(r))]"
      ]
     },
     "metadata": {},
     "output_type": "display_data"
    }
   ],
   "source": [
    "show(LatexExpr(\"u^{(1)} = \"), u1)                                                                         #Eq 4.21\n",
    "show(LatexExpr(\"u^{(2)} = \"), u2)                                                                         #Eq 4.22"
   ]
  },
  {
   "cell_type": "code",
   "execution_count": 9,
   "metadata": {},
   "outputs": [
    {
     "data": {
      "text/html": [
       "<html>\\[\\newcommand{\\Bold}[1]{\\mathbf{#1}}0\\]</html>"
      ],
      "text/latex": [
       "$$\\newcommand{\\Bold}[1]{\\mathbf{#1}}0$$"
      ],
      "text/plain": [
       "0"
      ]
     },
     "metadata": {},
     "output_type": "display_data"
    },
    {
     "data": {
      "text/html": [
       "<html>\\[\\newcommand{\\Bold}[1]{\\mathbf{#1}}0\\]</html>"
      ],
      "text/latex": [
       "$$\\newcommand{\\Bold}[1]{\\mathbf{#1}}0$$"
      ],
      "text/plain": [
       "0"
      ]
     },
     "metadata": {},
     "output_type": "display_data"
    }
   ],
   "source": [
    "# CHECK\n",
    "u1_paper = [0,0,0,0]\n",
    "u1_paper[0] = 1/2*e^(-3*nu/2)*K1[0,0]\n",
    "u1_paper[3] = e^(-nu/2)*Omega1\n",
    "\n",
    "u2_paper = [0,0,0,0]\n",
    "u2_paper[0] = e^(-3*nu/2)*(1/2*K2[0,0]+3/4*e^(-nu)*K1[0,0]+2*Omega1*K1[0,3]+Omega1^2*r^2*sin(th)^2)\n",
    "u2_paper[3] = e^(-nu/2)*(e^(-nu)*K1[0,0]*Omega1+Omega2)  \n",
    "\n",
    "u1_sum = 0\n",
    "u2_sum = 0\n",
    "for i in range(0,4):\n",
    "    u1_sum += u1[0] - u1_paper[0]\n",
    "    u2_sum += u2[0] - u2_paper[0]\n",
    "\n",
    "u1_sum = u1_sum.simplify_full()\n",
    "u2_sum = u2_sum.simplify_full()\n",
    "\n",
    "show(u1_sum)\n",
    "show(u2_sum)"
   ]
  },
  {
   "cell_type": "code",
   "execution_count": 10,
   "metadata": {},
   "outputs": [],
   "source": [
    "G = copy(Ge)\n",
    "for kk in range(0,len(sus_func)):\n",
    "    G = G.subs(sus_func[kk])"
   ]
  },
  {
   "cell_type": "code",
   "execution_count": 11,
   "metadata": {},
   "outputs": [],
   "source": [
    "Ee = function('Ee', latex_name='E_{\\\\varepsilon}')(r,th,eps)\n",
    "Pe = function('Pe', latex_name='P_{\\\\varepsilon}')(r,th,eps)\n",
    "\n",
    "Te = matrix(SR, 4, 4)\n",
    "dTe = matrix(SR, 4, 4)\n",
    "ddTe = matrix(SR, 4, 4)\n",
    "for i in range(0,4):\n",
    "    for j in range(0,4):\n",
    "        Te[i,j] = (Ee+Pe)*Ue[i]*Ue[j]+Pe*gedd[i,j]\n",
    "        dTe[i,j] = diff(Te[i,j],eps)\n",
    "        ddTe[i,j] = diff(Te[i,j],eps,eps)\n",
    "\n",
    "T = copy(Te)\n",
    "for kk in range(0,len(sus_func)):\n",
    "    T = T.subs(sus_func[kk])"
   ]
  },
  {
   "cell_type": "code",
   "execution_count": 12,
   "metadata": {},
   "outputs": [
    {
     "data": {
      "text/html": [
       "<html>\\[\\newcommand{\\Bold}[1]{\\mathbf{#1}}T_{\\varepsilon}\\lvert_0 = \\left(\\begin{array}{rrrr}\n",
       "{\\left(E_{\\varepsilon}\\left(r, {\\theta}, 0\\right) + P_{\\varepsilon}\\left(r, {\\theta}, 0\\right)\\right)} e^{\\nu\\left(r\\right)} - P_{\\varepsilon}\\left(r, {\\theta}, 0\\right) e^{\\nu\\left(r\\right)} & 0 & 0 & 0 \\\\\n",
       "0 & P_{\\varepsilon}\\left(r, {\\theta}, 0\\right) e^{\\lambda\\left(r\\right)} & 0 & 0 \\\\\n",
       "0 & 0 & r^{2} P_{\\varepsilon}\\left(r, {\\theta}, 0\\right) & 0 \\\\\n",
       "0 & 0 & 0 & r^{2} P_{\\varepsilon}\\left(r, {\\theta}, 0\\right) \\sin\\left({\\theta}\\right)^{2}\n",
       "\\end{array}\\right)\\]</html>"
      ],
      "text/latex": [
       "$$\\newcommand{\\Bold}[1]{\\mathbf{#1}}T_{\\varepsilon}\\lvert_0 = \\left(\\begin{array}{rrrr}\n",
       "{\\left(E_{\\varepsilon}\\left(r, {\\theta}, 0\\right) + P_{\\varepsilon}\\left(r, {\\theta}, 0\\right)\\right)} e^{\\nu\\left(r\\right)} - P_{\\varepsilon}\\left(r, {\\theta}, 0\\right) e^{\\nu\\left(r\\right)} & 0 & 0 & 0 \\\\\n",
       "0 & P_{\\varepsilon}\\left(r, {\\theta}, 0\\right) e^{\\lambda\\left(r\\right)} & 0 & 0 \\\\\n",
       "0 & 0 & r^{2} P_{\\varepsilon}\\left(r, {\\theta}, 0\\right) & 0 \\\\\n",
       "0 & 0 & 0 & r^{2} P_{\\varepsilon}\\left(r, {\\theta}, 0\\right) \\sin\\left({\\theta}\\right)^{2}\n",
       "\\end{array}\\right)$$"
      ],
      "text/plain": [
       "T_{\\varepsilon}\\lvert_0 = [(Ee(r, th, 0) + Pe(r, th, 0))*e^nu(r) - Pe(r, th, 0)*e^nu(r)                                                            0                                                            0                                                            0]\n",
       "[                                                           0                                       Pe(r, th, 0)*e^lamb(r)                                                            0                                                            0]\n",
       "[                                                           0                                                            0                                             r^2*Pe(r, th, 0)                                                            0]\n",
       "[                                                           0                                                            0                                                            0                                   r^2*Pe(r, th, 0)*sin(th)^2]"
      ]
     },
     "metadata": {},
     "output_type": "display_data"
    }
   ],
   "source": [
    "show(LatexExpr(\"T_{\\\\varepsilon}\\lvert_0 =\"), T)"
   ]
  },
  {
   "cell_type": "code",
   "execution_count": 13,
   "metadata": {},
   "outputs": [],
   "source": [
    "kappa = 8*pi\n",
    "E = function('E')(r,th)\n",
    "P = function('P')(r,th)\n",
    "\n",
    "s9 = Ee.subs(eps==0) == E\n",
    "s10 = Pe.subs(eps==0) == P\n",
    "sus_func.extend([s9,s10])\n",
    "\n",
    "T = T.subs(s9).subs(s10)\n",
    "        \n",
    "Evalue = solve(G[0,0]==kappa*T[0,0],E)[0].rhs()                                                          #Eq 3.7\n",
    "Pvalue = solve(G[1,1]==kappa*T[1,1],P)[0].rhs()                                                          #Eq 3.8\n",
    "Pvalue2 = solve(G[2,2]==kappa*T[2,2],P)[0].rhs()\n",
    "Pvalue3 = solve(G[3,3]==kappa*T[3,3],P)[0].rhs()\n",
    "ddnu = solve(Pvalue == Pvalue2, diff(nu,r,r))[0].rhs()                                                          #Eq 3.9"
   ]
  },
  {
   "cell_type": "code",
   "execution_count": 14,
   "metadata": {},
   "outputs": [
    {
     "data": {
      "text/html": [
       "<html>\\[\\newcommand{\\Bold}[1]{\\mathbf{#1}}E =  \\frac{r e^{\\left(-\\lambda\\left(r\\right)\\right)} \\frac{\\partial}{\\partial r}\\lambda\\left(r\\right) - e^{\\left(-\\lambda\\left(r\\right)\\right)} + 1}{8 \\, \\pi r^{2}}\\]</html>"
      ],
      "text/latex": [
       "$$\\newcommand{\\Bold}[1]{\\mathbf{#1}}E =  \\frac{r e^{\\left(-\\lambda\\left(r\\right)\\right)} \\frac{\\partial}{\\partial r}\\lambda\\left(r\\right) - e^{\\left(-\\lambda\\left(r\\right)\\right)} + 1}{8 \\, \\pi r^{2}}$$"
      ],
      "text/plain": [
       "E =  1/8*(r*e^(-lamb(r))*diff(lamb(r), r) - e^(-lamb(r)) + 1)/(pi*r^2)"
      ]
     },
     "metadata": {},
     "output_type": "display_data"
    },
    {
     "data": {
      "text/html": [
       "<html>\\[\\newcommand{\\Bold}[1]{\\mathbf{#1}}P_{rr} =  \\frac{r e^{\\left(-\\lambda\\left(r\\right)\\right)} \\frac{\\partial}{\\partial r}\\nu\\left(r\\right) + e^{\\left(-\\lambda\\left(r\\right)\\right)} - 1}{8 \\, \\pi r^{2}}\\]</html>"
      ],
      "text/latex": [
       "$$\\newcommand{\\Bold}[1]{\\mathbf{#1}}P_{rr} =  \\frac{r e^{\\left(-\\lambda\\left(r\\right)\\right)} \\frac{\\partial}{\\partial r}\\nu\\left(r\\right) + e^{\\left(-\\lambda\\left(r\\right)\\right)} - 1}{8 \\, \\pi r^{2}}$$"
      ],
      "text/plain": [
       "P_{rr} =  1/8*(r*e^(-lamb(r))*diff(nu(r), r) + e^(-lamb(r)) - 1)/(pi*r^2)"
      ]
     },
     "metadata": {},
     "output_type": "display_data"
    },
    {
     "data": {
      "text/html": [
       "<html>\\[\\newcommand{\\Bold}[1]{\\mathbf{#1}}\\nu'' = -\\frac{r^{2} \\frac{\\partial}{\\partial r}\\nu\\left(r\\right)^{2} - 2 \\, r \\frac{\\partial}{\\partial r}\\lambda\\left(r\\right) - {\\left(r^{2} \\frac{\\partial}{\\partial r}\\lambda\\left(r\\right) + 2 \\, r\\right)} \\frac{\\partial}{\\partial r}\\nu\\left(r\\right) + 4 \\, e^{\\lambda\\left(r\\right)} - 4}{2 \\, r^{2}}\\]</html>"
      ],
      "text/latex": [
       "$$\\newcommand{\\Bold}[1]{\\mathbf{#1}}\\nu'' = -\\frac{r^{2} \\frac{\\partial}{\\partial r}\\nu\\left(r\\right)^{2} - 2 \\, r \\frac{\\partial}{\\partial r}\\lambda\\left(r\\right) - {\\left(r^{2} \\frac{\\partial}{\\partial r}\\lambda\\left(r\\right) + 2 \\, r\\right)} \\frac{\\partial}{\\partial r}\\nu\\left(r\\right) + 4 \\, e^{\\lambda\\left(r\\right)} - 4}{2 \\, r^{2}}$$"
      ],
      "text/plain": [
       "\\nu'' = -1/2*(r^2*diff(nu(r), r)^2 - 2*r*diff(lamb(r), r) - (r^2*diff(lamb(r), r) + 2*r)*diff(nu(r), r) + 4*e^lamb(r) - 4)/r^2"
      ]
     },
     "metadata": {},
     "output_type": "display_data"
    }
   ],
   "source": [
    "show(LatexExpr(\"E = \"), Evalue)\n",
    "show(LatexExpr(\"P_{rr} = \"), Pvalue)\n",
    "show(LatexExpr(\"\\\\nu'' =\"), ddnu)\n",
    "\n",
    "s11 = E == Evalue\n",
    "s12 = P == Pvalue\n",
    "s13 = diff(nu,r,r) == ddnu\n",
    "sus_func.extend([s11,s12,s13])\n",
    "sus_func.extend([diff(E,r)==diff(Evalue,r),diff(P,r)==diff(Pvalue,r)])"
   ]
  },
  {
   "cell_type": "code",
   "execution_count": 15,
   "metadata": {},
   "outputs": [
    {
     "data": {
      "text/html": [
       "<html>\\[\\newcommand{\\Bold}[1]{\\mathbf{#1}}0\\]</html>"
      ],
      "text/latex": [
       "$$\\newcommand{\\Bold}[1]{\\mathbf{#1}}0$$"
      ],
      "text/plain": [
       "0"
      ]
     },
     "metadata": {},
     "output_type": "display_data"
    },
    {
     "data": {
      "text/html": [
       "<html>\\[\\newcommand{\\Bold}[1]{\\mathbf{#1}}0\\]</html>"
      ],
      "text/latex": [
       "$$\\newcommand{\\Bold}[1]{\\mathbf{#1}}0$$"
      ],
      "text/plain": [
       "0"
      ]
     },
     "metadata": {},
     "output_type": "display_data"
    },
    {
     "data": {
      "text/html": [
       "<html>\\[\\newcommand{\\Bold}[1]{\\mathbf{#1}}0\\]</html>"
      ],
      "text/latex": [
       "$$\\newcommand{\\Bold}[1]{\\mathbf{#1}}0$$"
      ],
      "text/plain": [
       "0"
      ]
     },
     "metadata": {},
     "output_type": "display_data"
    }
   ],
   "source": [
    "Evalue_paper = diff(lamb,r) - 1/r*(1-e^(lamb)) - r*e^(lamb)*8*pi*E == 0\n",
    "Evalue_paper = solve(Evalue_paper, E)[0].rhs()\n",
    "\n",
    "Evalue_check = Evalue - Evalue_paper\n",
    "show(Evalue_check.simplify_full())\n",
    "\n",
    "Pvalue_paper = diff(nu,r) - 1/r*(-1+e^(lamb)) - r*e^(lamb)*8*pi*P == 0\n",
    "Pvalue_paper = solve(Pvalue_paper, P)[0].rhs()\n",
    "\n",
    "Pvalue_check = Pvalue - Pvalue_paper\n",
    "show(Pvalue_check.simplify_full())\n",
    "\n",
    "ddnu_paper = 2*r*diff(nu,r,r) + diff(nu,r)*(r*diff(nu,r)-2)-diff(lamb,r)*(2+r*diff(nu,r))+4/r*(e^(lamb)-1) == 0\n",
    "ddnu_paper = solve(ddnu_paper, diff(nu,r,r))[0].rhs()\n",
    "\n",
    "ddnu_check = ddnu - ddnu_paper\n",
    "show(ddnu_check.simplify_full())"
   ]
  },
  {
   "cell_type": "markdown",
   "metadata": {},
   "source": [
    "## Primera derivada"
   ]
  },
  {
   "cell_type": "code",
   "execution_count": 16,
   "metadata": {},
   "outputs": [],
   "source": [
    "E1 = function('E1', latex_name='E^{(1)}')(r,th)\n",
    "P1 = function('P1', latex_name='P^{(1)}')(r,th)"
   ]
  },
  {
   "cell_type": "code",
   "execution_count": 17,
   "metadata": {},
   "outputs": [],
   "source": [
    "s14 = diff(Ee,eps).subs(eps==0) == E1\n",
    "s15 = diff(Pe,eps).subs(eps==0) == P1\n",
    "\n",
    "sus_func.extend([s14,s15])"
   ]
  },
  {
   "cell_type": "code",
   "execution_count": 18,
   "metadata": {},
   "outputs": [],
   "source": [
    "dG = copy(dGe)\n",
    "dT = copy(dTe)\n",
    "for kk in range(0,len(sus_func)):\n",
    "    dG = dG.subs(sus_func[kk])\n",
    "    dT = dT.subs(sus_func[kk])"
   ]
  },
  {
   "cell_type": "code",
   "execution_count": 19,
   "metadata": {
    "scrolled": true
   },
   "outputs": [
    {
     "data": {
      "text/html": [
       "<html>\\[\\newcommand{\\Bold}[1]{\\mathbf{#1}}-8 \\, \\pi P^{(1)}\\left(r, {\\theta}\\right) e^{\\lambda\\left(r\\right)} = 0\\]</html>"
      ],
      "text/latex": [
       "$$\\newcommand{\\Bold}[1]{\\mathbf{#1}}-8 \\, \\pi P^{(1)}\\left(r, {\\theta}\\right) e^{\\lambda\\left(r\\right)} = 0$$"
      ],
      "text/plain": [
       "-8*pi*P1(r, th)*e^lamb(r) == 0"
      ]
     },
     "metadata": {},
     "output_type": "display_data"
    },
    {
     "data": {
      "text/html": [
       "<html>\\[\\newcommand{\\Bold}[1]{\\mathbf{#1}}-8 \\, \\pi r^{2} P^{(1)}\\left(r, {\\theta}\\right) = 0\\]</html>"
      ],
      "text/latex": [
       "$$\\newcommand{\\Bold}[1]{\\mathbf{#1}}-8 \\, \\pi r^{2} P^{(1)}\\left(r, {\\theta}\\right) = 0$$"
      ],
      "text/plain": [
       "-8*pi*r^2*P1(r, th) == 0"
      ]
     },
     "metadata": {},
     "output_type": "display_data"
    },
    {
     "data": {
      "text/html": [
       "<html>\\[\\newcommand{\\Bold}[1]{\\mathbf{#1}}-8 \\, \\pi r^{2} P^{(1)}\\left(r, {\\theta}\\right) \\sin\\left({\\theta}\\right)^{2} = 0\\]</html>"
      ],
      "text/latex": [
       "$$\\newcommand{\\Bold}[1]{\\mathbf{#1}}-8 \\, \\pi r^{2} P^{(1)}\\left(r, {\\theta}\\right) \\sin\\left({\\theta}\\right)^{2} = 0$$"
      ],
      "text/plain": [
       "-8*pi*r^2*P1(r, th)*sin(th)^2 == 0"
      ]
     },
     "metadata": {},
     "output_type": "display_data"
    },
    {
     "data": {
      "text/html": [
       "<html>\\[\\newcommand{\\Bold}[1]{\\mathbf{#1}}\\text{De aquí sacamos }P_1(r) \\rightarrow P_1(r) =  0\\]</html>"
      ],
      "text/latex": [
       "$$\\newcommand{\\Bold}[1]{\\mathbf{#1}}\\text{De aquí sacamos }P_1(r) \\rightarrow P_1(r) =  0$$"
      ],
      "text/plain": [
       "\\text{De aquí sacamos }P_1(r) \\rightarrow P_1(r) =  0"
      ]
     },
     "metadata": {},
     "output_type": "display_data"
    }
   ],
   "source": [
    "dEq11 = dG[1,1] - kappa*dT[1,1] == 0\n",
    "dEq11 = dEq11.simplify_full()\n",
    "\n",
    "dEq22 = dG[2,2] - kappa*dT[2,2] == 0\n",
    "dEq22 = dEq22.simplify_full()\n",
    "\n",
    "dEq33 = dG[3,3] - kappa*dT[3,3] == 0\n",
    "dEq33 = dEq33.simplify_full()\n",
    "\n",
    "show(dEq11)\n",
    "show(dEq22)\n",
    "show(dEq33)\n",
    "\n",
    "P1value = solve(dEq11,P1)[0].rhs()\n",
    "sus_func.extend([P1==P1value])\n",
    "\n",
    "show(LatexExpr(\"\\\\text{De aquí sacamos }P_1(r) \\\\rightarrow P_1(r) = \"), P1value)"
   ]
  },
  {
   "cell_type": "code",
   "execution_count": 20,
   "metadata": {},
   "outputs": [
    {
     "data": {
      "text/html": [
       "<html>\\[\\newcommand{\\Bold}[1]{\\mathbf{#1}}-8 \\, \\pi E^{(1)}\\left(r, {\\theta}\\right) e^{\\nu\\left(r\\right)} = 0\\]</html>"
      ],
      "text/latex": [
       "$$\\newcommand{\\Bold}[1]{\\mathbf{#1}}-8 \\, \\pi E^{(1)}\\left(r, {\\theta}\\right) e^{\\nu\\left(r\\right)} = 0$$"
      ],
      "text/plain": [
       "-8*pi*E1(r, th)*e^nu(r) == 0"
      ]
     },
     "metadata": {},
     "output_type": "display_data"
    },
    {
     "data": {
      "text/html": [
       "<html>\\[\\newcommand{\\Bold}[1]{\\mathbf{#1}}\\text{De aquí sacamos }E_1(r,\\theta) \\rightarrow E_1(r,\\theta) =  0\\]</html>"
      ],
      "text/latex": [
       "$$\\newcommand{\\Bold}[1]{\\mathbf{#1}}\\text{De aquí sacamos }E_1(r,\\theta) \\rightarrow E_1(r,\\theta) =  0$$"
      ],
      "text/plain": [
       "\\text{De aquí sacamos }E_1(r,\\theta) \\rightarrow E_1(r,\\theta) =  0"
      ]
     },
     "metadata": {},
     "output_type": "display_data"
    }
   ],
   "source": [
    "dEq00 = dG[0,0] - kappa*dT[0,0] == 0\n",
    "dEq00 = dEq00.simplify_full()\n",
    "show(dEq00)\n",
    "\n",
    "for kk in range(0,len(sus_func)):\n",
    "    dEq00 = dEq00.subs(sus_func[kk])\n",
    "\n",
    "E1value = solve(dEq00,E1)[0].rhs()\n",
    "sus_func.extend([E1==E1value])\n",
    "\n",
    "show(LatexExpr(\"\\\\text{De aquí sacamos }E_1(r,\\\\theta) \\\\rightarrow E_1(r,\\\\theta) = \"), E1value)"
   ]
  },
  {
   "cell_type": "code",
   "execution_count": 21,
   "metadata": {},
   "outputs": [],
   "source": [
    "dEq03 = dG[0,3] - kappa*dT[0,3]\n",
    "\n",
    "for kk in range(0,len(sus_func)):\n",
    "    dEq03 = dEq03.subs(sus_func[kk])\n",
    "    \n",
    "dEq03 = dEq03.simplify_full()"
   ]
  },
  {
   "cell_type": "code",
   "execution_count": 22,
   "metadata": {},
   "outputs": [
    {
     "data": {
      "text/html": [
       "<html>\\[\\newcommand{\\Bold}[1]{\\mathbf{#1}}0\\]</html>"
      ],
      "text/latex": [
       "$$\\newcommand{\\Bold}[1]{\\mathbf{#1}}0$$"
      ],
      "text/plain": [
       "0"
      ]
     },
     "execution_count": 22,
     "metadata": {},
     "output_type": "execute_result"
    }
   ],
   "source": [
    "# CHECK EQUATION 48\n",
    "jj = e^(-(lamb+nu)/2)\n",
    "dEq03_paper = diff(r^4*jj*diff(omega,r),r)+\\\n",
    "              (r^2*jj*e^(lamb)/sin(th)^3)*diff(sin(th)^3*diff(omega,th),th)+\\\n",
    "              4*r^3*diff(jj,r)*(omega-Omega1)\n",
    "\n",
    "dEq03_paper = dEq03_paper*sin(th)^2/(2*r^2*e^(lamb/2-nu/2))\n",
    "\n",
    "dEq03_check = dEq03_paper - dEq03\n",
    "\n",
    "dEq03_check.simplify_full()"
   ]
  },
  {
   "cell_type": "markdown",
   "metadata": {},
   "source": [
    "## Segunda derivada"
   ]
  },
  {
   "cell_type": "code",
   "execution_count": 23,
   "metadata": {},
   "outputs": [],
   "source": [
    "E2 = function('E2', latex_name='E^{(2)}')(r,th)\n",
    "P2 = function('P2', latex_name='P^{(2)}')(r,th)"
   ]
  },
  {
   "cell_type": "code",
   "execution_count": 24,
   "metadata": {},
   "outputs": [],
   "source": [
    "s16 = diff(Ee,eps,eps).subs(eps==0) == E2\n",
    "s17 = diff(Pe,eps,eps).subs(eps==0) == P2\n",
    "\n",
    "sus_func.extend([s16,s17])"
   ]
  },
  {
   "cell_type": "code",
   "execution_count": 25,
   "metadata": {},
   "outputs": [
    {
     "data": {
      "text/html": [
       "<html>\\[\\newcommand{\\Bold}[1]{\\mathbf{#1}}{\\varepsilon} = 0\\]</html>"
      ],
      "text/latex": [
       "$$\\newcommand{\\Bold}[1]{\\mathbf{#1}}{\\varepsilon} = 0$$"
      ],
      "text/plain": [
       "eps == 0"
      ]
     },
     "metadata": {},
     "output_type": "display_data"
    },
    {
     "data": {
      "text/html": [
       "<html>\\[\\newcommand{\\Bold}[1]{\\mathbf{#1}}N_e\\left(r, {\\theta}, 0\\right) = e^{\\left(-\\frac{1}{2} \\, \\nu\\left(r\\right)\\right)}\\]</html>"
      ],
      "text/latex": [
       "$$\\newcommand{\\Bold}[1]{\\mathbf{#1}}N_e\\left(r, {\\theta}, 0\\right) = e^{\\left(-\\frac{1}{2} \\, \\nu\\left(r\\right)\\right)}$$"
      ],
      "text/plain": [
       "Ne(r, th, 0) == e^(-1/2*nu(r))"
      ]
     },
     "metadata": {},
     "output_type": "display_data"
    },
    {
     "data": {
      "text/html": [
       "<html>\\[\\newcommand{\\Bold}[1]{\\mathbf{#1}}{\\rm Omegaevalue}\\left(0\\right) = 0\\]</html>"
      ],
      "text/latex": [
       "$$\\newcommand{\\Bold}[1]{\\mathbf{#1}}{\\rm Omegaevalue}\\left(0\\right) = 0$$"
      ],
      "text/plain": [
       "Omegaevalue(0) == 0"
      ]
     },
     "metadata": {},
     "output_type": "display_data"
    },
    {
     "data": {
      "text/html": [
       "<html>\\[\\newcommand{\\Bold}[1]{\\mathbf{#1}}\\mathrm{D}_{2, 2}\\left(N_e\\right)\\left(r, {\\theta}, 0\\right) = u^{(2)0}\\left(r, {\\theta}\\right)\\]</html>"
      ],
      "text/latex": [
       "$$\\newcommand{\\Bold}[1]{\\mathbf{#1}}\\mathrm{D}_{2, 2}\\left(N_e\\right)\\left(r, {\\theta}, 0\\right) = u^{(2)0}\\left(r, {\\theta}\\right)$$"
      ],
      "text/plain": [
       "D[2, 2](Ne)(r, th, 0) == u20(r, th)"
      ]
     },
     "metadata": {},
     "output_type": "display_data"
    },
    {
     "data": {
      "text/html": [
       "<html>\\[\\newcommand{\\Bold}[1]{\\mathbf{#1}}\\mathrm{D}_{0, 0}\\left({\\rm Omegaevalue}\\right)\\left(0\\right) = {\\Omega^{(2)}}\\]</html>"
      ],
      "text/latex": [
       "$$\\newcommand{\\Bold}[1]{\\mathbf{#1}}\\mathrm{D}_{0, 0}\\left({\\rm Omegaevalue}\\right)\\left(0\\right) = {\\Omega^{(2)}}$$"
      ],
      "text/plain": [
       "D[0, 0](Omegaevalue)(0) == Omega2"
      ]
     },
     "metadata": {},
     "output_type": "display_data"
    },
    {
     "data": {
      "text/html": [
       "<html>\\[\\newcommand{\\Bold}[1]{\\mathbf{#1}}\\mathrm{D}_{2}\\left(N_e\\right)\\left(r, {\\theta}, 0\\right) = u^{(1)0}\\left(r, {\\theta}\\right)\\]</html>"
      ],
      "text/latex": [
       "$$\\newcommand{\\Bold}[1]{\\mathbf{#1}}\\mathrm{D}_{2}\\left(N_e\\right)\\left(r, {\\theta}, 0\\right) = u^{(1)0}\\left(r, {\\theta}\\right)$$"
      ],
      "text/plain": [
       "D[2](Ne)(r, th, 0) == u10(r, th)"
      ]
     },
     "metadata": {},
     "output_type": "display_data"
    },
    {
     "data": {
      "text/html": [
       "<html>\\[\\newcommand{\\Bold}[1]{\\mathbf{#1}}\\mathrm{D}_{0}\\left({\\rm Omegaevalue}\\right)\\left(0\\right) = {\\Omega^{(1)}}\\]</html>"
      ],
      "text/latex": [
       "$$\\newcommand{\\Bold}[1]{\\mathbf{#1}}\\mathrm{D}_{0}\\left({\\rm Omegaevalue}\\right)\\left(0\\right) = {\\Omega^{(1)}}$$"
      ],
      "text/plain": [
       "D[0](Omegaevalue)(0) == Omega1"
      ]
     },
     "metadata": {},
     "output_type": "display_data"
    },
    {
     "data": {
      "text/html": [
       "<html>\\[\\newcommand{\\Bold}[1]{\\mathbf{#1}}u^{(2)0}\\left(r, {\\theta}\\right) = {\\left({\\left({\\Omega^{(1)}}^{2} r^{2} - 2 \\, {\\Omega^{(1)}} r^{2} \\omega\\left(r, {\\theta}\\right) + r^{2} \\omega\\left(r, {\\theta}\\right)^{2}\\right)} \\sin\\left({\\theta}\\right)^{2} - e^{\\left(2 \\, \\nu\\left(r\\right)\\right)} u^{(1)0}\\left(r, {\\theta}\\right)^{2} - 2 \\, e^{\\nu\\left(r\\right)} h\\left(r, {\\theta}\\right)\\right)} e^{\\left(-\\frac{3}{2} \\, \\nu\\left(r\\right)\\right)}\\]</html>"
      ],
      "text/latex": [
       "$$\\newcommand{\\Bold}[1]{\\mathbf{#1}}u^{(2)0}\\left(r, {\\theta}\\right) = {\\left({\\left({\\Omega^{(1)}}^{2} r^{2} - 2 \\, {\\Omega^{(1)}} r^{2} \\omega\\left(r, {\\theta}\\right) + r^{2} \\omega\\left(r, {\\theta}\\right)^{2}\\right)} \\sin\\left({\\theta}\\right)^{2} - e^{\\left(2 \\, \\nu\\left(r\\right)\\right)} u^{(1)0}\\left(r, {\\theta}\\right)^{2} - 2 \\, e^{\\nu\\left(r\\right)} h\\left(r, {\\theta}\\right)\\right)} e^{\\left(-\\frac{3}{2} \\, \\nu\\left(r\\right)\\right)}$$"
      ],
      "text/plain": [
       "u20(r, th) == ((Omega1^2*r^2 - 2*Omega1*r^2*omega(r, th) + r^2*omega(r, th)^2)*sin(th)^2 - e^(2*nu(r))*u10(r, th)^2 - 2*e^nu(r)*h(r, th))*e^(-3/2*nu(r))"
      ]
     },
     "metadata": {},
     "output_type": "display_data"
    },
    {
     "data": {
      "text/html": [
       "<html>\\[\\newcommand{\\Bold}[1]{\\mathbf{#1}}u^{(1)0}\\left(r, {\\theta}\\right) = 0\\]</html>"
      ],
      "text/latex": [
       "$$\\newcommand{\\Bold}[1]{\\mathbf{#1}}u^{(1)0}\\left(r, {\\theta}\\right) = 0$$"
      ],
      "text/plain": [
       "u10(r, th) == 0"
      ]
     },
     "metadata": {},
     "output_type": "display_data"
    },
    {
     "data": {
      "text/html": [
       "<html>\\[\\newcommand{\\Bold}[1]{\\mathbf{#1}}E_{\\varepsilon}\\left(r, {\\theta}, 0\\right) = E\\left(r, {\\theta}\\right)\\]</html>"
      ],
      "text/latex": [
       "$$\\newcommand{\\Bold}[1]{\\mathbf{#1}}E_{\\varepsilon}\\left(r, {\\theta}, 0\\right) = E\\left(r, {\\theta}\\right)$$"
      ],
      "text/plain": [
       "Ee(r, th, 0) == E(r, th)"
      ]
     },
     "metadata": {},
     "output_type": "display_data"
    },
    {
     "data": {
      "text/html": [
       "<html>\\[\\newcommand{\\Bold}[1]{\\mathbf{#1}}P_{\\varepsilon}\\left(r, {\\theta}, 0\\right) = P\\left(r, {\\theta}\\right)\\]</html>"
      ],
      "text/latex": [
       "$$\\newcommand{\\Bold}[1]{\\mathbf{#1}}P_{\\varepsilon}\\left(r, {\\theta}, 0\\right) = P\\left(r, {\\theta}\\right)$$"
      ],
      "text/plain": [
       "Pe(r, th, 0) == P(r, th)"
      ]
     },
     "metadata": {},
     "output_type": "display_data"
    },
    {
     "data": {
      "text/html": [
       "<html>\\[\\newcommand{\\Bold}[1]{\\mathbf{#1}}E\\left(r, {\\theta}\\right) = \\frac{r e^{\\left(-\\lambda\\left(r\\right)\\right)} \\frac{\\partial}{\\partial r}\\lambda\\left(r\\right) - e^{\\left(-\\lambda\\left(r\\right)\\right)} + 1}{8 \\, \\pi r^{2}}\\]</html>"
      ],
      "text/latex": [
       "$$\\newcommand{\\Bold}[1]{\\mathbf{#1}}E\\left(r, {\\theta}\\right) = \\frac{r e^{\\left(-\\lambda\\left(r\\right)\\right)} \\frac{\\partial}{\\partial r}\\lambda\\left(r\\right) - e^{\\left(-\\lambda\\left(r\\right)\\right)} + 1}{8 \\, \\pi r^{2}}$$"
      ],
      "text/plain": [
       "E(r, th) == 1/8*(r*e^(-lamb(r))*diff(lamb(r), r) - e^(-lamb(r)) + 1)/(pi*r^2)"
      ]
     },
     "metadata": {},
     "output_type": "display_data"
    },
    {
     "data": {
      "text/html": [
       "<html>\\[\\newcommand{\\Bold}[1]{\\mathbf{#1}}P\\left(r, {\\theta}\\right) = \\frac{r e^{\\left(-\\lambda\\left(r\\right)\\right)} \\frac{\\partial}{\\partial r}\\nu\\left(r\\right) + e^{\\left(-\\lambda\\left(r\\right)\\right)} - 1}{8 \\, \\pi r^{2}}\\]</html>"
      ],
      "text/latex": [
       "$$\\newcommand{\\Bold}[1]{\\mathbf{#1}}P\\left(r, {\\theta}\\right) = \\frac{r e^{\\left(-\\lambda\\left(r\\right)\\right)} \\frac{\\partial}{\\partial r}\\nu\\left(r\\right) + e^{\\left(-\\lambda\\left(r\\right)\\right)} - 1}{8 \\, \\pi r^{2}}$$"
      ],
      "text/plain": [
       "P(r, th) == 1/8*(r*e^(-lamb(r))*diff(nu(r), r) + e^(-lamb(r)) - 1)/(pi*r^2)"
      ]
     },
     "metadata": {},
     "output_type": "display_data"
    },
    {
     "data": {
      "text/html": [
       "<html>\\[\\newcommand{\\Bold}[1]{\\mathbf{#1}}\\frac{\\partial^{2}}{(\\partial r)^{2}}\\nu\\left(r\\right) = -\\frac{r^{2} \\frac{\\partial}{\\partial r}\\nu\\left(r\\right)^{2} - 2 \\, r \\frac{\\partial}{\\partial r}\\lambda\\left(r\\right) - {\\left(r^{2} \\frac{\\partial}{\\partial r}\\lambda\\left(r\\right) + 2 \\, r\\right)} \\frac{\\partial}{\\partial r}\\nu\\left(r\\right) + 4 \\, e^{\\lambda\\left(r\\right)} - 4}{2 \\, r^{2}}\\]</html>"
      ],
      "text/latex": [
       "$$\\newcommand{\\Bold}[1]{\\mathbf{#1}}\\frac{\\partial^{2}}{(\\partial r)^{2}}\\nu\\left(r\\right) = -\\frac{r^{2} \\frac{\\partial}{\\partial r}\\nu\\left(r\\right)^{2} - 2 \\, r \\frac{\\partial}{\\partial r}\\lambda\\left(r\\right) - {\\left(r^{2} \\frac{\\partial}{\\partial r}\\lambda\\left(r\\right) + 2 \\, r\\right)} \\frac{\\partial}{\\partial r}\\nu\\left(r\\right) + 4 \\, e^{\\lambda\\left(r\\right)} - 4}{2 \\, r^{2}}$$"
      ],
      "text/plain": [
       "diff(nu(r), r, r) == -1/2*(r^2*diff(nu(r), r)^2 - 2*r*diff(lamb(r), r) - (r^2*diff(lamb(r), r) + 2*r)*diff(nu(r), r) + 4*e^lamb(r) - 4)/r^2"
      ]
     },
     "metadata": {},
     "output_type": "display_data"
    },
    {
     "data": {
      "text/html": [
       "<html>\\[\\newcommand{\\Bold}[1]{\\mathbf{#1}}\\frac{\\partial}{\\partial r}E\\left(r, {\\theta}\\right) = -\\frac{r e^{\\left(-\\lambda\\left(r\\right)\\right)} \\frac{\\partial}{\\partial r}\\lambda\\left(r\\right)^{2} - r e^{\\left(-\\lambda\\left(r\\right)\\right)} \\frac{\\partial^{2}}{(\\partial r)^{2}}\\lambda\\left(r\\right) - 2 \\, e^{\\left(-\\lambda\\left(r\\right)\\right)} \\frac{\\partial}{\\partial r}\\lambda\\left(r\\right)}{8 \\, \\pi r^{2}} - \\frac{r e^{\\left(-\\lambda\\left(r\\right)\\right)} \\frac{\\partial}{\\partial r}\\lambda\\left(r\\right) - e^{\\left(-\\lambda\\left(r\\right)\\right)} + 1}{4 \\, \\pi r^{3}}\\]</html>"
      ],
      "text/latex": [
       "$$\\newcommand{\\Bold}[1]{\\mathbf{#1}}\\frac{\\partial}{\\partial r}E\\left(r, {\\theta}\\right) = -\\frac{r e^{\\left(-\\lambda\\left(r\\right)\\right)} \\frac{\\partial}{\\partial r}\\lambda\\left(r\\right)^{2} - r e^{\\left(-\\lambda\\left(r\\right)\\right)} \\frac{\\partial^{2}}{(\\partial r)^{2}}\\lambda\\left(r\\right) - 2 \\, e^{\\left(-\\lambda\\left(r\\right)\\right)} \\frac{\\partial}{\\partial r}\\lambda\\left(r\\right)}{8 \\, \\pi r^{2}} - \\frac{r e^{\\left(-\\lambda\\left(r\\right)\\right)} \\frac{\\partial}{\\partial r}\\lambda\\left(r\\right) - e^{\\left(-\\lambda\\left(r\\right)\\right)} + 1}{4 \\, \\pi r^{3}}$$"
      ],
      "text/plain": [
       "diff(E(r, th), r) == -1/8*(r*e^(-lamb(r))*diff(lamb(r), r)^2 - r*e^(-lamb(r))*diff(lamb(r), r, r) - 2*e^(-lamb(r))*diff(lamb(r), r))/(pi*r^2) - 1/4*(r*e^(-lamb(r))*diff(lamb(r), r) - e^(-lamb(r)) + 1)/(pi*r^3)"
      ]
     },
     "metadata": {},
     "output_type": "display_data"
    },
    {
     "data": {
      "text/html": [
       "<html>\\[\\newcommand{\\Bold}[1]{\\mathbf{#1}}\\frac{\\partial}{\\partial r}P\\left(r, {\\theta}\\right) = -\\frac{r e^{\\left(-\\lambda\\left(r\\right)\\right)} \\frac{\\partial}{\\partial r}\\lambda\\left(r\\right) \\frac{\\partial}{\\partial r}\\nu\\left(r\\right) - r e^{\\left(-\\lambda\\left(r\\right)\\right)} \\frac{\\partial^{2}}{(\\partial r)^{2}}\\nu\\left(r\\right) + e^{\\left(-\\lambda\\left(r\\right)\\right)} \\frac{\\partial}{\\partial r}\\lambda\\left(r\\right) - e^{\\left(-\\lambda\\left(r\\right)\\right)} \\frac{\\partial}{\\partial r}\\nu\\left(r\\right)}{8 \\, \\pi r^{2}} - \\frac{r e^{\\left(-\\lambda\\left(r\\right)\\right)} \\frac{\\partial}{\\partial r}\\nu\\left(r\\right) + e^{\\left(-\\lambda\\left(r\\right)\\right)} - 1}{4 \\, \\pi r^{3}}\\]</html>"
      ],
      "text/latex": [
       "$$\\newcommand{\\Bold}[1]{\\mathbf{#1}}\\frac{\\partial}{\\partial r}P\\left(r, {\\theta}\\right) = -\\frac{r e^{\\left(-\\lambda\\left(r\\right)\\right)} \\frac{\\partial}{\\partial r}\\lambda\\left(r\\right) \\frac{\\partial}{\\partial r}\\nu\\left(r\\right) - r e^{\\left(-\\lambda\\left(r\\right)\\right)} \\frac{\\partial^{2}}{(\\partial r)^{2}}\\nu\\left(r\\right) + e^{\\left(-\\lambda\\left(r\\right)\\right)} \\frac{\\partial}{\\partial r}\\lambda\\left(r\\right) - e^{\\left(-\\lambda\\left(r\\right)\\right)} \\frac{\\partial}{\\partial r}\\nu\\left(r\\right)}{8 \\, \\pi r^{2}} - \\frac{r e^{\\left(-\\lambda\\left(r\\right)\\right)} \\frac{\\partial}{\\partial r}\\nu\\left(r\\right) + e^{\\left(-\\lambda\\left(r\\right)\\right)} - 1}{4 \\, \\pi r^{3}}$$"
      ],
      "text/plain": [
       "diff(P(r, th), r) == -1/8*(r*e^(-lamb(r))*diff(lamb(r), r)*diff(nu(r), r) - r*e^(-lamb(r))*diff(nu(r), r, r) + e^(-lamb(r))*diff(lamb(r), r) - e^(-lamb(r))*diff(nu(r), r))/(pi*r^2) - 1/4*(r*e^(-lamb(r))*diff(nu(r), r) + e^(-lamb(r)) - 1)/(pi*r^3)"
      ]
     },
     "metadata": {},
     "output_type": "display_data"
    },
    {
     "data": {
      "text/html": [
       "<html>\\[\\newcommand{\\Bold}[1]{\\mathbf{#1}}\\mathrm{D}_{2}\\left(E_{\\varepsilon}\\right)\\left(r, {\\theta}, 0\\right) = E^{(1)}\\left(r, {\\theta}\\right)\\]</html>"
      ],
      "text/latex": [
       "$$\\newcommand{\\Bold}[1]{\\mathbf{#1}}\\mathrm{D}_{2}\\left(E_{\\varepsilon}\\right)\\left(r, {\\theta}, 0\\right) = E^{(1)}\\left(r, {\\theta}\\right)$$"
      ],
      "text/plain": [
       "D[2](Ee)(r, th, 0) == E1(r, th)"
      ]
     },
     "metadata": {},
     "output_type": "display_data"
    },
    {
     "data": {
      "text/html": [
       "<html>\\[\\newcommand{\\Bold}[1]{\\mathbf{#1}}\\mathrm{D}_{2}\\left(P_{\\varepsilon}\\right)\\left(r, {\\theta}, 0\\right) = P^{(1)}\\left(r, {\\theta}\\right)\\]</html>"
      ],
      "text/latex": [
       "$$\\newcommand{\\Bold}[1]{\\mathbf{#1}}\\mathrm{D}_{2}\\left(P_{\\varepsilon}\\right)\\left(r, {\\theta}, 0\\right) = P^{(1)}\\left(r, {\\theta}\\right)$$"
      ],
      "text/plain": [
       "D[2](Pe)(r, th, 0) == P1(r, th)"
      ]
     },
     "metadata": {},
     "output_type": "display_data"
    },
    {
     "data": {
      "text/html": [
       "<html>\\[\\newcommand{\\Bold}[1]{\\mathbf{#1}}P^{(1)}\\left(r, {\\theta}\\right) = 0\\]</html>"
      ],
      "text/latex": [
       "$$\\newcommand{\\Bold}[1]{\\mathbf{#1}}P^{(1)}\\left(r, {\\theta}\\right) = 0$$"
      ],
      "text/plain": [
       "P1(r, th) == 0"
      ]
     },
     "metadata": {},
     "output_type": "display_data"
    },
    {
     "data": {
      "text/html": [
       "<html>\\[\\newcommand{\\Bold}[1]{\\mathbf{#1}}E^{(1)}\\left(r, {\\theta}\\right) = 0\\]</html>"
      ],
      "text/latex": [
       "$$\\newcommand{\\Bold}[1]{\\mathbf{#1}}E^{(1)}\\left(r, {\\theta}\\right) = 0$$"
      ],
      "text/plain": [
       "E1(r, th) == 0"
      ]
     },
     "metadata": {},
     "output_type": "display_data"
    },
    {
     "data": {
      "text/html": [
       "<html>\\[\\newcommand{\\Bold}[1]{\\mathbf{#1}}\\mathrm{D}_{2, 2}\\left(E_{\\varepsilon}\\right)\\left(r, {\\theta}, 0\\right) = E^{(2)}\\left(r, {\\theta}\\right)\\]</html>"
      ],
      "text/latex": [
       "$$\\newcommand{\\Bold}[1]{\\mathbf{#1}}\\mathrm{D}_{2, 2}\\left(E_{\\varepsilon}\\right)\\left(r, {\\theta}, 0\\right) = E^{(2)}\\left(r, {\\theta}\\right)$$"
      ],
      "text/plain": [
       "D[2, 2](Ee)(r, th, 0) == E2(r, th)"
      ]
     },
     "metadata": {},
     "output_type": "display_data"
    },
    {
     "data": {
      "text/html": [
       "<html>\\[\\newcommand{\\Bold}[1]{\\mathbf{#1}}\\mathrm{D}_{2, 2}\\left(P_{\\varepsilon}\\right)\\left(r, {\\theta}, 0\\right) = P^{(2)}\\left(r, {\\theta}\\right)\\]</html>"
      ],
      "text/latex": [
       "$$\\newcommand{\\Bold}[1]{\\mathbf{#1}}\\mathrm{D}_{2, 2}\\left(P_{\\varepsilon}\\right)\\left(r, {\\theta}, 0\\right) = P^{(2)}\\left(r, {\\theta}\\right)$$"
      ],
      "text/plain": [
       "D[2, 2](Pe)(r, th, 0) == P2(r, th)"
      ]
     },
     "metadata": {},
     "output_type": "display_data"
    }
   ],
   "source": [
    "for i in range(0,len(sus_func)):\n",
    "    show(sus_func[i])"
   ]
  },
  {
   "cell_type": "code",
   "execution_count": 26,
   "metadata": {},
   "outputs": [],
   "source": [
    "ddG = copy(ddGe)\n",
    "ddT = copy(ddTe)\n",
    "for kk in range(0,len(sus_func)):\n",
    "    ddG = ddG.subs(sus_func[kk])\n",
    "    ddT = ddT.subs(sus_func[kk])"
   ]
  },
  {
   "cell_type": "markdown",
   "metadata": {},
   "source": [
    "### Descomposición en polinomios de Legendre"
   ]
  },
  {
   "cell_type": "code",
   "execution_count": 27,
   "metadata": {},
   "outputs": [],
   "source": [
    "h0 = function('h0', latex_name='h_0')(r)\n",
    "k0 = function('k0', latex_name='k_0')(r)\n",
    "m0 = function('m0', latex_name='m_0')(r)\n",
    "\n",
    "h1 = function('h1', latex_name='h_1')(r)\n",
    "k1 = function('k1', latex_name='k_1')(r)\n",
    "m1 = function('m1', latex_name='m_1')(r)\n",
    "\n",
    "h2 = function('h2', latex_name='h_2')(r)\n",
    "k2 = function('k2', latex_name='k_2')(r)\n",
    "m2 = function('m2', latex_name='m_2')(r)\n",
    "\n",
    "E20 = function('E20', latex_name='E_{0}^{(2)}')(r)\n",
    "P20 = function('P20', latex_name='P_{0}^{(2)}')(r)\n",
    "\n",
    "E21 = function('E21', latex_name='E_{1}^{(2)}')(r)\n",
    "P21 = function('P21', latex_name='P_{1}^{(2)}')(r)\n",
    "\n",
    "E22 = function('E22', latex_name='E_{2}^{(2)}')(r)\n",
    "P22 = function('P22', latex_name='P_{2}^{(2)}')(r)\n",
    "\n",
    "LP1 = function('LP1', latex_name='LP_1')(th)\n",
    "LP2 = function('LP2', latex_name='LP_2')(th)\n",
    "LP_SUSTITUCION = function('LP_SUSTITUCION', latex_name='LP_SUSTITUCION')(th)"
   ]
  },
  {
   "cell_type": "code",
   "execution_count": 67,
   "metadata": {},
   "outputs": [
    {
     "data": {
      "text/html": [
       "<html>\\[\\newcommand{\\Bold}[1]{\\mathbf{#1}}-\\frac{{\\left(12 \\, r^{2} \\cos\\left({\\theta}\\right) e^{\\lambda\\left(r\\right)} \\omega\\left(r, {\\theta}\\right) \\sin\\left({\\theta}\\right) \\frac{\\partial}{\\partial {\\theta}}\\omega\\left(r, {\\theta}\\right) + 8 \\, r^{2} e^{\\nu\\left(r\\right)} \\frac{\\partial^{2}}{(\\partial r)^{2}}k_2\\left(r\\right) - 8 \\, {\\left(e^{\\lambda\\left(r\\right)} - 1\\right)} e^{\\nu\\left(r\\right)} h_0\\left(r\\right) - 8 \\, {\\left(e^{\\lambda\\left(r\\right)} - 1\\right)} e^{\\nu\\left(r\\right)} h_2\\left(r\\right) - 8 \\, {\\left(3 \\, e^{\\lambda\\left(r\\right)} + 1\\right)} e^{\\nu\\left(r\\right)} m_2\\left(r\\right) - {\\left(r^{4} \\omega\\left(r, {\\theta}\\right)^{2} \\frac{\\partial}{\\partial r}\\nu\\left(r\\right)^{2} + 2 \\, r^{4} \\omega\\left(r, {\\theta}\\right)^{2} \\frac{\\partial^{2}}{(\\partial r)^{2}}\\nu\\left(r\\right) - r^{4} \\frac{\\partial}{\\partial r}\\omega\\left(r, {\\theta}\\right)^{2} - 4 \\, r^{4} \\omega\\left(r, {\\theta}\\right) \\frac{\\partial^{2}}{(\\partial r)^{2}}\\omega\\left(r, {\\theta}\\right) - r^{2} e^{\\lambda\\left(r\\right)} \\frac{\\partial}{\\partial {\\theta}}\\omega\\left(r, {\\theta}\\right)^{2} - 4 \\, r^{2} e^{\\lambda\\left(r\\right)} \\omega\\left(r, {\\theta}\\right) \\frac{\\partial^{2}}{(\\partial {\\theta})^{2}}\\omega\\left(r, {\\theta}\\right) + 12 \\, r^{2} e^{\\nu\\left(r\\right)} \\frac{\\partial^{2}}{(\\partial r)^{2}}k_2\\left(r\\right) - 12 \\, {\\left(e^{\\lambda\\left(r\\right)} - 1\\right)} e^{\\nu\\left(r\\right)} h_2\\left(r\\right) - 12 \\, {\\left(3 \\, e^{\\lambda\\left(r\\right)} + 1\\right)} e^{\\nu\\left(r\\right)} m_2\\left(r\\right) + 36 \\, r e^{\\nu\\left(r\\right)} \\frac{\\partial}{\\partial r}k_2\\left(r\\right) - 12 \\, r e^{\\nu\\left(r\\right)} \\frac{\\partial}{\\partial r}m_2\\left(r\\right) - 24 \\, e^{\\left(\\lambda\\left(r\\right) + \\nu\\left(r\\right)\\right)} k_2\\left(r\\right) - 2 \\, {\\left(r^{3} \\omega\\left(r, {\\theta}\\right)^{2} + 3 \\, r^{2} e^{\\nu\\left(r\\right)} \\frac{\\partial}{\\partial r}k_2\\left(r\\right) + 6 \\, r e^{\\nu\\left(r\\right)} h_2\\left(r\\right) - 6 \\, r e^{\\nu\\left(r\\right)} m_2\\left(r\\right)\\right)} \\frac{\\partial}{\\partial r}\\lambda\\left(r\\right) - {\\left(r^{4} \\omega\\left(r, {\\theta}\\right)^{2} \\frac{\\partial}{\\partial r}\\lambda\\left(r\\right) - 2 \\, r^{3} \\omega\\left(r, {\\theta}\\right)^{2}\\right)} \\frac{\\partial}{\\partial r}\\nu\\left(r\\right) + 2 \\, {\\left(r^{4} \\omega\\left(r, {\\theta}\\right) \\frac{\\partial}{\\partial r}\\lambda\\left(r\\right) + r^{4} \\omega\\left(r, {\\theta}\\right) \\frac{\\partial}{\\partial r}\\nu\\left(r\\right) - 8 \\, r^{3} \\omega\\left(r, {\\theta}\\right)\\right)} \\frac{\\partial}{\\partial r}\\omega\\left(r, {\\theta}\\right)\\right)} \\sin\\left({\\theta}\\right)^{2} + 24 \\, r e^{\\nu\\left(r\\right)} \\frac{\\partial}{\\partial r}k_2\\left(r\\right) - 8 \\, r e^{\\nu\\left(r\\right)} \\frac{\\partial}{\\partial r}m_0\\left(r\\right) - 8 \\, r e^{\\nu\\left(r\\right)} \\frac{\\partial}{\\partial r}m_2\\left(r\\right) + 4 \\, {\\left(2 \\, r^{2} e^{\\nu\\left(r\\right)} \\frac{\\partial^{2}}{(\\partial r)^{2}}k_1\\left(r\\right) - 2 \\, {\\left(e^{\\lambda\\left(r\\right)} - 1\\right)} e^{\\nu\\left(r\\right)} h_1\\left(r\\right) - 2 \\, {\\left(e^{\\lambda\\left(r\\right)} + 1\\right)} e^{\\nu\\left(r\\right)} m_1\\left(r\\right) + 6 \\, r e^{\\nu\\left(r\\right)} \\frac{\\partial}{\\partial r}k_1\\left(r\\right) - 2 \\, r e^{\\nu\\left(r\\right)} \\frac{\\partial}{\\partial r}m_1\\left(r\\right) - {\\left(r^{2} e^{\\nu\\left(r\\right)} \\frac{\\partial}{\\partial r}k_1\\left(r\\right) + 2 \\, r e^{\\nu\\left(r\\right)} h_1\\left(r\\right) - 2 \\, r e^{\\nu\\left(r\\right)} m_1\\left(r\\right)\\right)} \\frac{\\partial}{\\partial r}\\lambda\\left(r\\right)\\right)} \\cos\\left({\\theta}\\right) - 16 \\, e^{\\left(\\lambda\\left(r\\right) + \\nu\\left(r\\right)\\right)} k_2\\left(r\\right) - 8 \\, e^{\\nu\\left(r\\right)} m_0\\left(r\\right) - 4 \\, {\\left(r^{2} e^{\\nu\\left(r\\right)} \\frac{\\partial}{\\partial r}k_2\\left(r\\right) + 2 \\, r e^{\\nu\\left(r\\right)} h_0\\left(r\\right) + 2 \\, r e^{\\nu\\left(r\\right)} h_2\\left(r\\right) - 2 \\, r e^{\\nu\\left(r\\right)} m_0\\left(r\\right) - 2 \\, r e^{\\nu\\left(r\\right)} m_2\\left(r\\right)\\right)} \\frac{\\partial}{\\partial r}\\lambda\\left(r\\right)\\right)} e^{\\left(-\\lambda\\left(r\\right)\\right)}}{2 \\, r^{2}}\\]</html>"
      ],
      "text/latex": [
       "$$\\newcommand{\\Bold}[1]{\\mathbf{#1}}-\\frac{{\\left(12 \\, r^{2} \\cos\\left({\\theta}\\right) e^{\\lambda\\left(r\\right)} \\omega\\left(r, {\\theta}\\right) \\sin\\left({\\theta}\\right) \\frac{\\partial}{\\partial {\\theta}}\\omega\\left(r, {\\theta}\\right) + 8 \\, r^{2} e^{\\nu\\left(r\\right)} \\frac{\\partial^{2}}{(\\partial r)^{2}}k_2\\left(r\\right) - 8 \\, {\\left(e^{\\lambda\\left(r\\right)} - 1\\right)} e^{\\nu\\left(r\\right)} h_0\\left(r\\right) - 8 \\, {\\left(e^{\\lambda\\left(r\\right)} - 1\\right)} e^{\\nu\\left(r\\right)} h_2\\left(r\\right) - 8 \\, {\\left(3 \\, e^{\\lambda\\left(r\\right)} + 1\\right)} e^{\\nu\\left(r\\right)} m_2\\left(r\\right) - {\\left(r^{4} \\omega\\left(r, {\\theta}\\right)^{2} \\frac{\\partial}{\\partial r}\\nu\\left(r\\right)^{2} + 2 \\, r^{4} \\omega\\left(r, {\\theta}\\right)^{2} \\frac{\\partial^{2}}{(\\partial r)^{2}}\\nu\\left(r\\right) - r^{4} \\frac{\\partial}{\\partial r}\\omega\\left(r, {\\theta}\\right)^{2} - 4 \\, r^{4} \\omega\\left(r, {\\theta}\\right) \\frac{\\partial^{2}}{(\\partial r)^{2}}\\omega\\left(r, {\\theta}\\right) - r^{2} e^{\\lambda\\left(r\\right)} \\frac{\\partial}{\\partial {\\theta}}\\omega\\left(r, {\\theta}\\right)^{2} - 4 \\, r^{2} e^{\\lambda\\left(r\\right)} \\omega\\left(r, {\\theta}\\right) \\frac{\\partial^{2}}{(\\partial {\\theta})^{2}}\\omega\\left(r, {\\theta}\\right) + 12 \\, r^{2} e^{\\nu\\left(r\\right)} \\frac{\\partial^{2}}{(\\partial r)^{2}}k_2\\left(r\\right) - 12 \\, {\\left(e^{\\lambda\\left(r\\right)} - 1\\right)} e^{\\nu\\left(r\\right)} h_2\\left(r\\right) - 12 \\, {\\left(3 \\, e^{\\lambda\\left(r\\right)} + 1\\right)} e^{\\nu\\left(r\\right)} m_2\\left(r\\right) + 36 \\, r e^{\\nu\\left(r\\right)} \\frac{\\partial}{\\partial r}k_2\\left(r\\right) - 12 \\, r e^{\\nu\\left(r\\right)} \\frac{\\partial}{\\partial r}m_2\\left(r\\right) - 24 \\, e^{\\left(\\lambda\\left(r\\right) + \\nu\\left(r\\right)\\right)} k_2\\left(r\\right) - 2 \\, {\\left(r^{3} \\omega\\left(r, {\\theta}\\right)^{2} + 3 \\, r^{2} e^{\\nu\\left(r\\right)} \\frac{\\partial}{\\partial r}k_2\\left(r\\right) + 6 \\, r e^{\\nu\\left(r\\right)} h_2\\left(r\\right) - 6 \\, r e^{\\nu\\left(r\\right)} m_2\\left(r\\right)\\right)} \\frac{\\partial}{\\partial r}\\lambda\\left(r\\right) - {\\left(r^{4} \\omega\\left(r, {\\theta}\\right)^{2} \\frac{\\partial}{\\partial r}\\lambda\\left(r\\right) - 2 \\, r^{3} \\omega\\left(r, {\\theta}\\right)^{2}\\right)} \\frac{\\partial}{\\partial r}\\nu\\left(r\\right) + 2 \\, {\\left(r^{4} \\omega\\left(r, {\\theta}\\right) \\frac{\\partial}{\\partial r}\\lambda\\left(r\\right) + r^{4} \\omega\\left(r, {\\theta}\\right) \\frac{\\partial}{\\partial r}\\nu\\left(r\\right) - 8 \\, r^{3} \\omega\\left(r, {\\theta}\\right)\\right)} \\frac{\\partial}{\\partial r}\\omega\\left(r, {\\theta}\\right)\\right)} \\sin\\left({\\theta}\\right)^{2} + 24 \\, r e^{\\nu\\left(r\\right)} \\frac{\\partial}{\\partial r}k_2\\left(r\\right) - 8 \\, r e^{\\nu\\left(r\\right)} \\frac{\\partial}{\\partial r}m_0\\left(r\\right) - 8 \\, r e^{\\nu\\left(r\\right)} \\frac{\\partial}{\\partial r}m_2\\left(r\\right) + 4 \\, {\\left(2 \\, r^{2} e^{\\nu\\left(r\\right)} \\frac{\\partial^{2}}{(\\partial r)^{2}}k_1\\left(r\\right) - 2 \\, {\\left(e^{\\lambda\\left(r\\right)} - 1\\right)} e^{\\nu\\left(r\\right)} h_1\\left(r\\right) - 2 \\, {\\left(e^{\\lambda\\left(r\\right)} + 1\\right)} e^{\\nu\\left(r\\right)} m_1\\left(r\\right) + 6 \\, r e^{\\nu\\left(r\\right)} \\frac{\\partial}{\\partial r}k_1\\left(r\\right) - 2 \\, r e^{\\nu\\left(r\\right)} \\frac{\\partial}{\\partial r}m_1\\left(r\\right) - {\\left(r^{2} e^{\\nu\\left(r\\right)} \\frac{\\partial}{\\partial r}k_1\\left(r\\right) + 2 \\, r e^{\\nu\\left(r\\right)} h_1\\left(r\\right) - 2 \\, r e^{\\nu\\left(r\\right)} m_1\\left(r\\right)\\right)} \\frac{\\partial}{\\partial r}\\lambda\\left(r\\right)\\right)} \\cos\\left({\\theta}\\right) - 16 \\, e^{\\left(\\lambda\\left(r\\right) + \\nu\\left(r\\right)\\right)} k_2\\left(r\\right) - 8 \\, e^{\\nu\\left(r\\right)} m_0\\left(r\\right) - 4 \\, {\\left(r^{2} e^{\\nu\\left(r\\right)} \\frac{\\partial}{\\partial r}k_2\\left(r\\right) + 2 \\, r e^{\\nu\\left(r\\right)} h_0\\left(r\\right) + 2 \\, r e^{\\nu\\left(r\\right)} h_2\\left(r\\right) - 2 \\, r e^{\\nu\\left(r\\right)} m_0\\left(r\\right) - 2 \\, r e^{\\nu\\left(r\\right)} m_2\\left(r\\right)\\right)} \\frac{\\partial}{\\partial r}\\lambda\\left(r\\right)\\right)} e^{\\left(-\\lambda\\left(r\\right)\\right)}}{2 \\, r^{2}}$$"
      ],
      "text/plain": [
       "-1/2*(12*r^2*cos(th)*e^lamb(r)*omega(r, th)*sin(th)*diff(omega(r, th), th) + 8*r^2*e^nu(r)*diff(k2(r), r, r) - 8*(e^lamb(r) - 1)*e^nu(r)*h0(r) - 8*(e^lamb(r) - 1)*e^nu(r)*h2(r) - 8*(3*e^lamb(r) + 1)*e^nu(r)*m2(r) - (r^4*omega(r, th)^2*diff(nu(r), r)^2 + 2*r^4*omega(r, th)^2*diff(nu(r), r, r) - r^4*diff(omega(r, th), r)^2 - 4*r^4*omega(r, th)*diff(omega(r, th), r, r) - r^2*e^lamb(r)*diff(omega(r, th), th)^2 - 4*r^2*e^lamb(r)*omega(r, th)*diff(omega(r, th), th, th) + 12*r^2*e^nu(r)*diff(k2(r), r, r) - 12*(e^lamb(r) - 1)*e^nu(r)*h2(r) - 12*(3*e^lamb(r) + 1)*e^nu(r)*m2(r) + 36*r*e^nu(r)*diff(k2(r), r) - 12*r*e^nu(r)*diff(m2(r), r) - 24*e^(lamb(r) + nu(r))*k2(r) - 2*(r^3*omega(r, th)^2 + 3*r^2*e^nu(r)*diff(k2(r), r) + 6*r*e^nu(r)*h2(r) - 6*r*e^nu(r)*m2(r))*diff(lamb(r), r) - (r^4*omega(r, th)^2*diff(lamb(r), r) - 2*r^3*omega(r, th)^2)*diff(nu(r), r) + 2*(r^4*omega(r, th)*diff(lamb(r), r) + r^4*omega(r, th)*diff(nu(r), r) - 8*r^3*omega(r, th))*diff(omega(r, th), r))*sin(th)^2 + 24*r*e^nu(r)*diff(k2(r), r) - 8*r*e^nu(r)*diff(m0(r), r) - 8*r*e^nu(r)*diff(m2(r), r) + 4*(2*r^2*e^nu(r)*diff(k1(r), r, r) - 2*(e^lamb(r) - 1)*e^nu(r)*h1(r) - 2*(e^lamb(r) + 1)*e^nu(r)*m1(r) + 6*r*e^nu(r)*diff(k1(r), r) - 2*r*e^nu(r)*diff(m1(r), r) - (r^2*e^nu(r)*diff(k1(r), r) + 2*r*e^nu(r)*h1(r) - 2*r*e^nu(r)*m1(r))*diff(lamb(r), r))*cos(th) - 16*e^(lamb(r) + nu(r))*k2(r) - 8*e^nu(r)*m0(r) - 4*(r^2*e^nu(r)*diff(k2(r), r) + 2*r*e^nu(r)*h0(r) + 2*r*e^nu(r)*h2(r) - 2*r*e^nu(r)*m0(r) - 2*r*e^nu(r)*m2(r))*diff(lamb(r), r))*e^(-lamb(r))/r^2"
      ]
     },
     "execution_count": 67,
     "metadata": {},
     "output_type": "execute_result"
    }
   ],
   "source": [
    "sus_descomp = [m==m0+m1*cos(th)+m2*(3*cos(th)^2-1)/2,\n",
    "               diff(m,r)==diff(m0,r)+diff(m1,r)*cos(th)+diff(m2,r)*(3*cos(th)^2-1)/2,\n",
    "               diff(m,r,r)==diff(m0,r,r)+diff(m1,r,r)*cos(th)+diff(m2,r,r)*(3*cos(th)^2-1)/2,\n",
    "               diff(m,th)==-m1*sin(th)-3*m2*cos(th)*sin(th),\n",
    "               diff(m,th,th)==-m1*cos(th)+3*m2*sin(th)^2-3*m2*cos(th)^2,\n",
    "               diff(m,th,r)==-diff(m1,r)*sin(th)-3*diff(m2,r)*cos(th)*sin(th),\n",
    "               diff(m,r,th)==-diff(m1,r)*sin(th)-3*diff(m2,r)*cos(th)*sin(th),\n",
    "               k==k1*cos(th)+k2*(3*cos(th)^2-1)/2,\n",
    "               diff(k,r)==diff(k1,r)*cos(th)+diff(k2,r)*(3*cos(th)^2-1)/2,\n",
    "               diff(k,r,r)==diff(k1,r,r)*cos(th)+diff(k2,r,r)*(3*cos(th)^2-1)/2,\n",
    "               diff(k,th)==-k1*sin(th)-3*k2*cos(th)*sin(th),\n",
    "               diff(k,th,th)==-k1*cos(th)+3*k2*sin(th)^2-3*k2*cos(th)^2,\n",
    "               diff(k,th,r)==-diff(k1,r)*sin(th)-3*diff(k2,r)*cos(th)*sin(th),\n",
    "               diff(k,r,th)==-diff(k1,r)*sin(th)-3*diff(k2,r)*cos(th)*sin(th),\n",
    "               h==h0+h1*cos(th)+h2*(3*cos(th)^2-1)/2,\n",
    "               diff(h,r)==diff(h0,r)+diff(h1,r)*cos(th)+diff(h2,r)*(3*cos(th)^2-1)/2,\n",
    "               diff(h,r,r)==diff(h0,r,r)+diff(h1,r,r)*cos(th)+diff(h2,r,r)*(3*cos(th)^2-1)/2,\n",
    "               diff(h,th)==-h1*sin(th)-3*h2*cos(th)*sin(th),\n",
    "               diff(h,th,th)==-h1*cos(th)+3*h2*sin(th)^2-3*h2*cos(th)^2,\n",
    "               diff(h,th,r)==-diff(h1,r)*sin(th)-3*diff(h2,r)*cos(th)*sin(th),\n",
    "               diff(h,r,th)==-diff(h1,r)*sin(th)-3*diff(h2,r)*cos(th)*sin(th),\n",
    "               E2==E20+E21*cos(th)+E22*(3*cos(th)^2-1)/2,\n",
    "               diff(E2,r)==diff(E20,r)+diff(E21,r)*cos(th)+diff(E22,r)*(3*cos(th)^2-1)/2,\n",
    "               diff(E2,r,r)==diff(E20,r,r)+diff(E21,r,r)*cos(th)+diff(E22,r,r)*(3*cos(th)^2-1)/2,\n",
    "               diff(E2,th)==-E21*sin(th)-3*E22*cos(th)*sin(th),\n",
    "               diff(E2,th,th)==-E21*cos(th)+3*E22*sin(th)^2-3*E22*cos(th)^2,\n",
    "               diff(E2,th,r)==-diff(E21,r)*sin(th)-3*diff(E22,r)*cos(th)*sin(th),\n",
    "               diff(E2,r,th)==-diff(E21,r)*sin(th)-3*diff(E22,r)*cos(th)*sin(th),\n",
    "               P2==P20+P21*cos(th)+P22*(3*cos(th)^2-1)/2,\n",
    "               diff(P2,r)==diff(P20,r)+diff(P21,r)*cos(th)+diff(P22,r)*(3*cos(th)^2-1)/2,\n",
    "               diff(P2,r,r)==diff(P20,r,r)+diff(P21,r,r)*cos(th)+diff(P22,r,r)*(3*cos(th)^2-1)/2,\n",
    "               diff(P2,th)==-P21*sin(th)-3*P22*cos(th)*sin(th),\n",
    "               diff(P2,th,th)==-P21*cos(th)+3*P22*sin(th)^2-3*P22*cos(th)^2,\n",
    "               diff(P2,th,r)==-diff(P21,r)*sin(th)-3*diff(P22,r)*cos(th)*sin(th),\n",
    "               diff(P2,r,th)==-diff(P21,r)*sin(th)-3*diff(P22,r)*cos(th)*sin(th)]\n",
    "\n",
    "for kk in range(0,len(sus_descomp)):\n",
    "    ddG = ddG.subs(sus_descomp[kk])\n",
    "    ddT = ddT.subs(sus_descomp[kk])\n",
    "\n",
    "ddG = ddG.simplify_full()\n",
    "ddT = ddT.simplify_full()\n",
    "\n",
    "\n",
    "ddG2 = copy(ddGe)\n",
    "ddG2 = ddG2.subs(eps==0).simplify_full()\n",
    "\n",
    "for kk in range(0,len(sus_descomp)):\n",
    "    ddG2 = ddG2.subs(sus_descomp[kk])\n",
    "ddG2 = ddG2.simplify_full()\n",
    "ddG2[0,0]"
   ]
  },
  {
   "cell_type": "markdown",
   "metadata": {},
   "source": [
    "# l=0"
   ]
  },
  {
   "cell_type": "code",
   "execution_count": null,
   "metadata": {
    "scrolled": true
   },
   "outputs": [],
   "source": [
    "ddEq03 = ddG[0,3] - kappa*ddT[0,3] == 0\n",
    "ddEq03 = ddEq03.simplify_full()\n",
    "\n",
    "dlamb = solve(ddEq03,diff(lamb,r))[0].rhs()\n",
    "show(LatexExpr(\"\\\\lambda' = \"), dlamb)\n",
    "sus_func.extend([diff(lamb,r)==dlamb])\n",
    "\n",
    "ddG = ddG.subs(diff(lamb,r)==dlamb)\n",
    "ddT = ddT.subs(diff(lamb,r)==dlamb)"
   ]
  },
  {
   "cell_type": "code",
   "execution_count": 65,
   "metadata": {},
   "outputs": [
    {
     "data": {
      "text/html": [
       "<html>\\[\\newcommand{\\Bold}[1]{\\mathbf{#1}}-\\frac{{\\left(6.0 \\, r^{2} \\cos\\left({\\theta}\\right) e^{\\lambda\\left(r\\right)} \\omega\\left(r, {\\theta}\\right) \\sin\\left({\\theta}\\right)^{2} \\frac{\\partial}{\\partial {\\theta}}\\omega\\left(r, {\\theta}\\right) + {\\left(-0.5 \\, r^{4} \\omega\\left(r, {\\theta}\\right)^{2} \\frac{\\partial}{\\partial r}\\nu\\left(r\\right)^{2} - 1.0 \\, r^{4} \\omega\\left(r, {\\theta}\\right)^{2} \\frac{\\partial^{2}}{(\\partial r)^{2}}\\nu\\left(r\\right) + 1.0 \\, r^{3} \\omega\\left(r, {\\theta}\\right)^{2} \\frac{\\partial}{\\partial r}\\lambda\\left(r\\right) + 0.5 \\, r^{4} \\frac{\\partial}{\\partial r}\\omega\\left(r, {\\theta}\\right)^{2} + 2.0 \\, r^{4} \\omega\\left(r, {\\theta}\\right) \\frac{\\partial^{2}}{(\\partial r)^{2}}\\omega\\left(r, {\\theta}\\right) - 12 \\, \\pi r^{2} E_{2}^{(2)}\\left(r\\right) e^{\\left(\\lambda\\left(r\\right) + \\nu\\left(r\\right)\\right)} + 0.5 \\, r^{2} e^{\\lambda\\left(r\\right)} \\frac{\\partial}{\\partial {\\theta}}\\omega\\left(r, {\\theta}\\right)^{2} + 2.0 \\, r^{2} e^{\\lambda\\left(r\\right)} \\omega\\left(r, {\\theta}\\right) \\frac{\\partial^{2}}{(\\partial {\\theta})^{2}}\\omega\\left(r, {\\theta}\\right) - 6 \\, {\\left(e^{\\lambda\\left(r\\right)} - 1\\right)} e^{\\nu\\left(r\\right)} h_2\\left(r\\right) - 2 \\, {\\left(r^{2} e^{\\lambda\\left(r\\right)} - r^{2}\\right)} \\omega\\left(r, {\\theta}\\right)^{2} + {\\left(0.5 \\, r^{4} \\omega\\left(r, {\\theta}\\right)^{2} \\frac{\\partial}{\\partial r}\\lambda\\left(r\\right) + 1.0 \\, r^{3} \\omega\\left(r, {\\theta}\\right)^{2} + 6 \\, r e^{\\nu\\left(r\\right)} h_2\\left(r\\right)\\right)} \\frac{\\partial}{\\partial r}\\nu\\left(r\\right) + {\\left(-1.0 \\, r^{4} \\omega\\left(r, {\\theta}\\right) \\frac{\\partial}{\\partial r}\\lambda\\left(r\\right) - 1.0 \\, r^{4} \\omega\\left(r, {\\theta}\\right) \\frac{\\partial}{\\partial r}\\nu\\left(r\\right) + 8.0 \\, r^{3} \\omega\\left(r, {\\theta}\\right)\\right)} \\frac{\\partial}{\\partial r}\\omega\\left(r, {\\theta}\\right)\\right)} \\sin\\left({\\theta}\\right)^{3} + {\\left(2.0 \\, e^{\\left(\\lambda\\left(r\\right) + \\nu\\left(r\\right)\\right)} \\frac{\\partial}{\\partial {\\theta}}k\\left(r, {\\theta}\\right) + 2.0 \\, e^{\\left(\\lambda\\left(r\\right) + \\nu\\left(r\\right)\\right)} \\frac{\\partial}{\\partial {\\theta}}m\\left(r, {\\theta}\\right)\\right)} \\cos\\left({\\theta}\\right) + {\\left(8 \\, \\pi r^{2} E_{0}^{(2)}\\left(r\\right) e^{\\left(\\lambda\\left(r\\right) + \\nu\\left(r\\right)\\right)} + 8 \\, \\pi r^{2} E_{2}^{(2)}\\left(r\\right) e^{\\left(\\lambda\\left(r\\right) + \\nu\\left(r\\right)\\right)} + 4.0 \\, r^{2} e^{\\nu\\left(r\\right)} \\frac{\\partial^{2}}{(\\partial r)^{2}}k\\left(r, {\\theta}\\right) + {\\left(-4.0 \\, e^{\\lambda\\left(r\\right)} + 4.0\\right)} e^{\\nu\\left(r\\right)} h\\left(r, {\\theta}\\right) + 4 \\, {\\left(e^{\\lambda\\left(r\\right)} - 1\\right)} e^{\\nu\\left(r\\right)} h_0\\left(r\\right) + 4 \\, {\\left(e^{\\lambda\\left(r\\right)} - 1\\right)} e^{\\nu\\left(r\\right)} h_2\\left(r\\right) - 4.0 \\, r e^{\\nu\\left(r\\right)} \\frac{\\partial}{\\partial r}m\\left(r, {\\theta}\\right) + 4 \\, {\\left(2 \\, \\pi r^{2} E_{1}^{(2)}\\left(r\\right) e^{\\left(\\lambda\\left(r\\right) + \\nu\\left(r\\right)\\right)} - r e^{\\nu\\left(r\\right)} h_1\\left(r\\right) \\frac{\\partial}{\\partial r}\\nu\\left(r\\right) + {\\left(e^{\\lambda\\left(r\\right)} - 1\\right)} e^{\\nu\\left(r\\right)} h_1\\left(r\\right)\\right)} \\cos\\left({\\theta}\\right) + 4.0 \\, e^{\\left(\\lambda\\left(r\\right) + \\nu\\left(r\\right)\\right)} k\\left(r, {\\theta}\\right) - 4.0 \\, e^{\\nu\\left(r\\right)} m\\left(r, {\\theta}\\right) + {\\left(-2.0 \\, r^{2} e^{\\nu\\left(r\\right)} \\frac{\\partial}{\\partial r}\\lambda\\left(r\\right) + 12.0 \\, r e^{\\nu\\left(r\\right)}\\right)} \\frac{\\partial}{\\partial r}k\\left(r, {\\theta}\\right) + 2.0 \\, e^{\\left(\\lambda\\left(r\\right) + \\nu\\left(r\\right)\\right)} \\frac{\\partial^{2}}{(\\partial {\\theta})^{2}}k\\left(r, {\\theta}\\right) + {\\left(-4.0 \\, r e^{\\nu\\left(r\\right)} h\\left(r, {\\theta}\\right) + 4.0 \\, r e^{\\nu\\left(r\\right)} m\\left(r, {\\theta}\\right)\\right)} \\frac{\\partial}{\\partial r}\\lambda\\left(r\\right) + 2.0 \\, e^{\\left(\\lambda\\left(r\\right) + \\nu\\left(r\\right)\\right)} \\frac{\\partial^{2}}{(\\partial {\\theta})^{2}}m\\left(r, {\\theta}\\right) - 4 \\, {\\left(r e^{\\nu\\left(r\\right)} h_0\\left(r\\right) + r e^{\\nu\\left(r\\right)} h_2\\left(r\\right)\\right)} \\frac{\\partial}{\\partial r}\\nu\\left(r\\right)\\right)} \\sin\\left({\\theta}\\right)\\right)} e^{\\left(-\\lambda\\left(r\\right)\\right)}}{r^{2} \\sin\\left({\\theta}\\right)} = 0\\]</html>"
      ],
      "text/latex": [
       "$$\\newcommand{\\Bold}[1]{\\mathbf{#1}}-\\frac{{\\left(6.0 \\, r^{2} \\cos\\left({\\theta}\\right) e^{\\lambda\\left(r\\right)} \\omega\\left(r, {\\theta}\\right) \\sin\\left({\\theta}\\right)^{2} \\frac{\\partial}{\\partial {\\theta}}\\omega\\left(r, {\\theta}\\right) + {\\left(-0.5 \\, r^{4} \\omega\\left(r, {\\theta}\\right)^{2} \\frac{\\partial}{\\partial r}\\nu\\left(r\\right)^{2} - 1.0 \\, r^{4} \\omega\\left(r, {\\theta}\\right)^{2} \\frac{\\partial^{2}}{(\\partial r)^{2}}\\nu\\left(r\\right) + 1.0 \\, r^{3} \\omega\\left(r, {\\theta}\\right)^{2} \\frac{\\partial}{\\partial r}\\lambda\\left(r\\right) + 0.5 \\, r^{4} \\frac{\\partial}{\\partial r}\\omega\\left(r, {\\theta}\\right)^{2} + 2.0 \\, r^{4} \\omega\\left(r, {\\theta}\\right) \\frac{\\partial^{2}}{(\\partial r)^{2}}\\omega\\left(r, {\\theta}\\right) - 12 \\, \\pi r^{2} E_{2}^{(2)}\\left(r\\right) e^{\\left(\\lambda\\left(r\\right) + \\nu\\left(r\\right)\\right)} + 0.5 \\, r^{2} e^{\\lambda\\left(r\\right)} \\frac{\\partial}{\\partial {\\theta}}\\omega\\left(r, {\\theta}\\right)^{2} + 2.0 \\, r^{2} e^{\\lambda\\left(r\\right)} \\omega\\left(r, {\\theta}\\right) \\frac{\\partial^{2}}{(\\partial {\\theta})^{2}}\\omega\\left(r, {\\theta}\\right) - 6 \\, {\\left(e^{\\lambda\\left(r\\right)} - 1\\right)} e^{\\nu\\left(r\\right)} h_2\\left(r\\right) - 2 \\, {\\left(r^{2} e^{\\lambda\\left(r\\right)} - r^{2}\\right)} \\omega\\left(r, {\\theta}\\right)^{2} + {\\left(0.5 \\, r^{4} \\omega\\left(r, {\\theta}\\right)^{2} \\frac{\\partial}{\\partial r}\\lambda\\left(r\\right) + 1.0 \\, r^{3} \\omega\\left(r, {\\theta}\\right)^{2} + 6 \\, r e^{\\nu\\left(r\\right)} h_2\\left(r\\right)\\right)} \\frac{\\partial}{\\partial r}\\nu\\left(r\\right) + {\\left(-1.0 \\, r^{4} \\omega\\left(r, {\\theta}\\right) \\frac{\\partial}{\\partial r}\\lambda\\left(r\\right) - 1.0 \\, r^{4} \\omega\\left(r, {\\theta}\\right) \\frac{\\partial}{\\partial r}\\nu\\left(r\\right) + 8.0 \\, r^{3} \\omega\\left(r, {\\theta}\\right)\\right)} \\frac{\\partial}{\\partial r}\\omega\\left(r, {\\theta}\\right)\\right)} \\sin\\left({\\theta}\\right)^{3} + {\\left(2.0 \\, e^{\\left(\\lambda\\left(r\\right) + \\nu\\left(r\\right)\\right)} \\frac{\\partial}{\\partial {\\theta}}k\\left(r, {\\theta}\\right) + 2.0 \\, e^{\\left(\\lambda\\left(r\\right) + \\nu\\left(r\\right)\\right)} \\frac{\\partial}{\\partial {\\theta}}m\\left(r, {\\theta}\\right)\\right)} \\cos\\left({\\theta}\\right) + {\\left(8 \\, \\pi r^{2} E_{0}^{(2)}\\left(r\\right) e^{\\left(\\lambda\\left(r\\right) + \\nu\\left(r\\right)\\right)} + 8 \\, \\pi r^{2} E_{2}^{(2)}\\left(r\\right) e^{\\left(\\lambda\\left(r\\right) + \\nu\\left(r\\right)\\right)} + 4.0 \\, r^{2} e^{\\nu\\left(r\\right)} \\frac{\\partial^{2}}{(\\partial r)^{2}}k\\left(r, {\\theta}\\right) + {\\left(-4.0 \\, e^{\\lambda\\left(r\\right)} + 4.0\\right)} e^{\\nu\\left(r\\right)} h\\left(r, {\\theta}\\right) + 4 \\, {\\left(e^{\\lambda\\left(r\\right)} - 1\\right)} e^{\\nu\\left(r\\right)} h_0\\left(r\\right) + 4 \\, {\\left(e^{\\lambda\\left(r\\right)} - 1\\right)} e^{\\nu\\left(r\\right)} h_2\\left(r\\right) - 4.0 \\, r e^{\\nu\\left(r\\right)} \\frac{\\partial}{\\partial r}m\\left(r, {\\theta}\\right) + 4 \\, {\\left(2 \\, \\pi r^{2} E_{1}^{(2)}\\left(r\\right) e^{\\left(\\lambda\\left(r\\right) + \\nu\\left(r\\right)\\right)} - r e^{\\nu\\left(r\\right)} h_1\\left(r\\right) \\frac{\\partial}{\\partial r}\\nu\\left(r\\right) + {\\left(e^{\\lambda\\left(r\\right)} - 1\\right)} e^{\\nu\\left(r\\right)} h_1\\left(r\\right)\\right)} \\cos\\left({\\theta}\\right) + 4.0 \\, e^{\\left(\\lambda\\left(r\\right) + \\nu\\left(r\\right)\\right)} k\\left(r, {\\theta}\\right) - 4.0 \\, e^{\\nu\\left(r\\right)} m\\left(r, {\\theta}\\right) + {\\left(-2.0 \\, r^{2} e^{\\nu\\left(r\\right)} \\frac{\\partial}{\\partial r}\\lambda\\left(r\\right) + 12.0 \\, r e^{\\nu\\left(r\\right)}\\right)} \\frac{\\partial}{\\partial r}k\\left(r, {\\theta}\\right) + 2.0 \\, e^{\\left(\\lambda\\left(r\\right) + \\nu\\left(r\\right)\\right)} \\frac{\\partial^{2}}{(\\partial {\\theta})^{2}}k\\left(r, {\\theta}\\right) + {\\left(-4.0 \\, r e^{\\nu\\left(r\\right)} h\\left(r, {\\theta}\\right) + 4.0 \\, r e^{\\nu\\left(r\\right)} m\\left(r, {\\theta}\\right)\\right)} \\frac{\\partial}{\\partial r}\\lambda\\left(r\\right) + 2.0 \\, e^{\\left(\\lambda\\left(r\\right) + \\nu\\left(r\\right)\\right)} \\frac{\\partial^{2}}{(\\partial {\\theta})^{2}}m\\left(r, {\\theta}\\right) - 4 \\, {\\left(r e^{\\nu\\left(r\\right)} h_0\\left(r\\right) + r e^{\\nu\\left(r\\right)} h_2\\left(r\\right)\\right)} \\frac{\\partial}{\\partial r}\\nu\\left(r\\right)\\right)} \\sin\\left({\\theta}\\right)\\right)} e^{\\left(-\\lambda\\left(r\\right)\\right)}}{r^{2} \\sin\\left({\\theta}\\right)} = 0$$"
      ],
      "text/plain": [
       "-(6.0*r^2*cos(th)*e^lamb(r)*omega(r, th)*sin(th)^2*diff(omega(r, th), th) + (-0.5*r^4*omega(r, th)^2*diff(nu(r), r)^2 - 1.0*r^4*omega(r, th)^2*diff(nu(r), r, r) + 1.0*r^3*omega(r, th)^2*diff(lamb(r), r) + 0.5*r^4*diff(omega(r, th), r)^2 + 2.0*r^4*omega(r, th)*diff(omega(r, th), r, r) - 12*pi*r^2*E22(r)*e^(lamb(r) + nu(r)) + 0.5*r^2*e^lamb(r)*diff(omega(r, th), th)^2 + 2.0*r^2*e^lamb(r)*omega(r, th)*diff(omega(r, th), th, th) - 6*(e^lamb(r) - 1)*e^nu(r)*h2(r) - 2*(r^2*e^lamb(r) - r^2)*omega(r, th)^2 + (0.5*r^4*omega(r, th)^2*diff(lamb(r), r) + 1.0*r^3*omega(r, th)^2 + 6*r*e^nu(r)*h2(r))*diff(nu(r), r) + (-1.0*r^4*omega(r, th)*diff(lamb(r), r) - 1.0*r^4*omega(r, th)*diff(nu(r), r) + 8.0*r^3*omega(r, th))*diff(omega(r, th), r))*sin(th)^3 + (2.0*e^(lamb(r) + nu(r))*diff(k(r, th), th) + 2.0*e^(lamb(r) + nu(r))*diff(m(r, th), th))*cos(th) + (8*pi*r^2*E20(r)*e^(lamb(r) + nu(r)) + 8*pi*r^2*E22(r)*e^(lamb(r) + nu(r)) + 4.0*r^2*e^nu(r)*diff(k(r, th), r, r) + (-4.0*e^lamb(r) + 4.0)*e^nu(r)*h(r, th) + 4*(e^lamb(r) - 1)*e^nu(r)*h0(r) + 4*(e^lamb(r) - 1)*e^nu(r)*h2(r) - 4.0*r*e^nu(r)*diff(m(r, th), r) + 4*(2*pi*r^2*E21(r)*e^(lamb(r) + nu(r)) - r*e^nu(r)*h1(r)*diff(nu(r), r) + (e^lamb(r) - 1)*e^nu(r)*h1(r))*cos(th) + 4.0*e^(lamb(r) + nu(r))*k(r, th) - 4.0*e^nu(r)*m(r, th) + (-2.0*r^2*e^nu(r)*diff(lamb(r), r) + 12.0*r*e^nu(r))*diff(k(r, th), r) + 2.0*e^(lamb(r) + nu(r))*diff(k(r, th), th, th) + (-4.0*r*e^nu(r)*h(r, th) + 4.0*r*e^nu(r)*m(r, th))*diff(lamb(r), r) + 2.0*e^(lamb(r) + nu(r))*diff(m(r, th), th, th) - 4*(r*e^nu(r)*h0(r) + r*e^nu(r)*h2(r))*diff(nu(r), r))*sin(th))*e^(-lamb(r))/(r^2*sin(th)) == 0"
      ]
     },
     "execution_count": 65,
     "metadata": {},
     "output_type": "execute_result"
    }
   ],
   "source": [
    "equation = ddG2[0,0]-kappa*ddT[0,0] == 0\n",
    "equation = (equation).simplify_full()\n",
    "equation"
   ]
  },
  {
   "cell_type": "code",
   "execution_count": 69,
   "metadata": {
    "scrolled": true
   },
   "outputs": [
    {
     "data": {
      "text/html": [
       "<html>\\[\\newcommand{\\Bold}[1]{\\mathbf{#1}}-\\frac{12 \\, r^{2} \\cos\\left({\\theta}\\right) e^{\\left(-\\nu\\left(r\\right)\\right)} \\omega\\left(r, {\\theta}\\right) \\sin\\left({\\theta}\\right) \\frac{\\partial}{\\partial {\\theta}}\\omega\\left(r, {\\theta}\\right) + 16 \\, \\pi r^{2} E_{2}^{(2)}\\left(r\\right) + 8 \\, r^{2} e^{\\left(-\\lambda\\left(r\\right)\\right)} \\frac{\\partial^{2}}{(\\partial r)^{2}}k_2\\left(r\\right) + {\\left(r^{4} e^{\\left(-\\lambda\\left(r\\right) - \\nu\\left(r\\right)\\right)} \\frac{\\partial}{\\partial r}\\omega\\left(r, {\\theta}\\right)^{2} + 4 \\, r^{4} e^{\\left(-\\lambda\\left(r\\right) - \\nu\\left(r\\right)\\right)} \\omega\\left(r, {\\theta}\\right) \\frac{\\partial^{2}}{(\\partial r)^{2}}\\omega\\left(r, {\\theta}\\right) + 16 \\, r^{3} e^{\\left(-\\lambda\\left(r\\right) - \\nu\\left(r\\right)\\right)} \\omega\\left(r, {\\theta}\\right) \\frac{\\partial}{\\partial r}\\omega\\left(r, {\\theta}\\right) + r^{2} e^{\\left(-\\nu\\left(r\\right)\\right)} \\frac{\\partial}{\\partial {\\theta}}\\omega\\left(r, {\\theta}\\right)^{2} + 4 \\, r^{2} e^{\\left(-\\nu\\left(r\\right)\\right)} \\omega\\left(r, {\\theta}\\right) \\frac{\\partial^{2}}{(\\partial {\\theta})^{2}}\\omega\\left(r, {\\theta}\\right) - 24 \\, \\pi r^{2} E_{2}^{(2)}\\left(r\\right) - 12 \\, r^{2} e^{\\left(-\\lambda\\left(r\\right)\\right)} \\frac{\\partial^{2}}{(\\partial r)^{2}}k_2\\left(r\\right) - 36 \\, r e^{\\left(-\\lambda\\left(r\\right)\\right)} \\frac{\\partial}{\\partial r}k_2\\left(r\\right) + 12 \\, r e^{\\left(-\\lambda\\left(r\\right)\\right)} \\frac{\\partial}{\\partial r}m_2\\left(r\\right) + 12 \\, {\\left(e^{\\left(-\\lambda\\left(r\\right)\\right)} + 3\\right)} m_2\\left(r\\right) - 6 \\, {\\left(r^{2} e^{\\left(-\\lambda\\left(r\\right)\\right)} \\frac{\\partial}{\\partial r}k_2\\left(r\\right) - 2 \\, r e^{\\left(-\\lambda\\left(r\\right)\\right)} m_2\\left(r\\right)\\right)} \\frac{\\partial}{\\partial r}\\nu\\left(r\\right) + 24 \\, k_2\\left(r\\right)\\right)} \\sin\\left({\\theta}\\right)^{2} + 24 \\, r e^{\\left(-\\lambda\\left(r\\right)\\right)} \\frac{\\partial}{\\partial r}k_2\\left(r\\right) - 8 \\, r e^{\\left(-\\lambda\\left(r\\right)\\right)} \\frac{\\partial}{\\partial r}m_0\\left(r\\right) - 8 \\, r e^{\\left(-\\lambda\\left(r\\right)\\right)} \\frac{\\partial}{\\partial r}m_2\\left(r\\right) + 4 \\, {\\left(4 \\, \\pi r^{2} E_{1}^{(2)}\\left(r\\right) + 2 \\, r^{2} e^{\\left(-\\lambda\\left(r\\right)\\right)} \\frac{\\partial^{2}}{(\\partial r)^{2}}k_1\\left(r\\right) + 6 \\, r e^{\\left(-\\lambda\\left(r\\right)\\right)} \\frac{\\partial}{\\partial r}k_1\\left(r\\right) - 2 \\, r e^{\\left(-\\lambda\\left(r\\right)\\right)} \\frac{\\partial}{\\partial r}m_1\\left(r\\right) - 2 \\, {\\left(e^{\\left(-\\lambda\\left(r\\right)\\right)} + 1\\right)} m_1\\left(r\\right) + {\\left(r^{2} e^{\\left(-\\lambda\\left(r\\right)\\right)} \\frac{\\partial}{\\partial r}k_1\\left(r\\right) - 2 \\, r e^{\\left(-\\lambda\\left(r\\right)\\right)} m_1\\left(r\\right)\\right)} \\frac{\\partial}{\\partial r}\\nu\\left(r\\right)\\right)} \\cos\\left({\\theta}\\right) - 8 \\, e^{\\left(-\\lambda\\left(r\\right)\\right)} m_0\\left(r\\right) - 8 \\, {\\left(e^{\\left(-\\lambda\\left(r\\right)\\right)} + 3\\right)} m_2\\left(r\\right) + 4 \\, {\\left(r^{2} e^{\\left(-\\lambda\\left(r\\right)\\right)} \\frac{\\partial}{\\partial r}k_2\\left(r\\right) - 2 \\, r e^{\\left(-\\lambda\\left(r\\right)\\right)} m_0\\left(r\\right) - 2 \\, r e^{\\left(-\\lambda\\left(r\\right)\\right)} m_2\\left(r\\right)\\right)} \\frac{\\partial}{\\partial r}\\nu\\left(r\\right) - 16 \\, k_2\\left(r\\right)}{16 \\, \\pi r^{2}}\\]</html>"
      ],
      "text/latex": [
       "$$\\newcommand{\\Bold}[1]{\\mathbf{#1}}-\\frac{12 \\, r^{2} \\cos\\left({\\theta}\\right) e^{\\left(-\\nu\\left(r\\right)\\right)} \\omega\\left(r, {\\theta}\\right) \\sin\\left({\\theta}\\right) \\frac{\\partial}{\\partial {\\theta}}\\omega\\left(r, {\\theta}\\right) + 16 \\, \\pi r^{2} E_{2}^{(2)}\\left(r\\right) + 8 \\, r^{2} e^{\\left(-\\lambda\\left(r\\right)\\right)} \\frac{\\partial^{2}}{(\\partial r)^{2}}k_2\\left(r\\right) + {\\left(r^{4} e^{\\left(-\\lambda\\left(r\\right) - \\nu\\left(r\\right)\\right)} \\frac{\\partial}{\\partial r}\\omega\\left(r, {\\theta}\\right)^{2} + 4 \\, r^{4} e^{\\left(-\\lambda\\left(r\\right) - \\nu\\left(r\\right)\\right)} \\omega\\left(r, {\\theta}\\right) \\frac{\\partial^{2}}{(\\partial r)^{2}}\\omega\\left(r, {\\theta}\\right) + 16 \\, r^{3} e^{\\left(-\\lambda\\left(r\\right) - \\nu\\left(r\\right)\\right)} \\omega\\left(r, {\\theta}\\right) \\frac{\\partial}{\\partial r}\\omega\\left(r, {\\theta}\\right) + r^{2} e^{\\left(-\\nu\\left(r\\right)\\right)} \\frac{\\partial}{\\partial {\\theta}}\\omega\\left(r, {\\theta}\\right)^{2} + 4 \\, r^{2} e^{\\left(-\\nu\\left(r\\right)\\right)} \\omega\\left(r, {\\theta}\\right) \\frac{\\partial^{2}}{(\\partial {\\theta})^{2}}\\omega\\left(r, {\\theta}\\right) - 24 \\, \\pi r^{2} E_{2}^{(2)}\\left(r\\right) - 12 \\, r^{2} e^{\\left(-\\lambda\\left(r\\right)\\right)} \\frac{\\partial^{2}}{(\\partial r)^{2}}k_2\\left(r\\right) - 36 \\, r e^{\\left(-\\lambda\\left(r\\right)\\right)} \\frac{\\partial}{\\partial r}k_2\\left(r\\right) + 12 \\, r e^{\\left(-\\lambda\\left(r\\right)\\right)} \\frac{\\partial}{\\partial r}m_2\\left(r\\right) + 12 \\, {\\left(e^{\\left(-\\lambda\\left(r\\right)\\right)} + 3\\right)} m_2\\left(r\\right) - 6 \\, {\\left(r^{2} e^{\\left(-\\lambda\\left(r\\right)\\right)} \\frac{\\partial}{\\partial r}k_2\\left(r\\right) - 2 \\, r e^{\\left(-\\lambda\\left(r\\right)\\right)} m_2\\left(r\\right)\\right)} \\frac{\\partial}{\\partial r}\\nu\\left(r\\right) + 24 \\, k_2\\left(r\\right)\\right)} \\sin\\left({\\theta}\\right)^{2} + 24 \\, r e^{\\left(-\\lambda\\left(r\\right)\\right)} \\frac{\\partial}{\\partial r}k_2\\left(r\\right) - 8 \\, r e^{\\left(-\\lambda\\left(r\\right)\\right)} \\frac{\\partial}{\\partial r}m_0\\left(r\\right) - 8 \\, r e^{\\left(-\\lambda\\left(r\\right)\\right)} \\frac{\\partial}{\\partial r}m_2\\left(r\\right) + 4 \\, {\\left(4 \\, \\pi r^{2} E_{1}^{(2)}\\left(r\\right) + 2 \\, r^{2} e^{\\left(-\\lambda\\left(r\\right)\\right)} \\frac{\\partial^{2}}{(\\partial r)^{2}}k_1\\left(r\\right) + 6 \\, r e^{\\left(-\\lambda\\left(r\\right)\\right)} \\frac{\\partial}{\\partial r}k_1\\left(r\\right) - 2 \\, r e^{\\left(-\\lambda\\left(r\\right)\\right)} \\frac{\\partial}{\\partial r}m_1\\left(r\\right) - 2 \\, {\\left(e^{\\left(-\\lambda\\left(r\\right)\\right)} + 1\\right)} m_1\\left(r\\right) + {\\left(r^{2} e^{\\left(-\\lambda\\left(r\\right)\\right)} \\frac{\\partial}{\\partial r}k_1\\left(r\\right) - 2 \\, r e^{\\left(-\\lambda\\left(r\\right)\\right)} m_1\\left(r\\right)\\right)} \\frac{\\partial}{\\partial r}\\nu\\left(r\\right)\\right)} \\cos\\left({\\theta}\\right) - 8 \\, e^{\\left(-\\lambda\\left(r\\right)\\right)} m_0\\left(r\\right) - 8 \\, {\\left(e^{\\left(-\\lambda\\left(r\\right)\\right)} + 3\\right)} m_2\\left(r\\right) + 4 \\, {\\left(r^{2} e^{\\left(-\\lambda\\left(r\\right)\\right)} \\frac{\\partial}{\\partial r}k_2\\left(r\\right) - 2 \\, r e^{\\left(-\\lambda\\left(r\\right)\\right)} m_0\\left(r\\right) - 2 \\, r e^{\\left(-\\lambda\\left(r\\right)\\right)} m_2\\left(r\\right)\\right)} \\frac{\\partial}{\\partial r}\\nu\\left(r\\right) - 16 \\, k_2\\left(r\\right)}{16 \\, \\pi r^{2}}$$"
      ],
      "text/plain": [
       "-1/16*(12*r^2*cos(th)*e^(-nu(r))*omega(r, th)*sin(th)*diff(omega(r, th), th) + 16*pi*r^2*E22(r) + 8*r^2*e^(-lamb(r))*diff(k2(r), r, r) + (r^4*e^(-lamb(r) - nu(r))*diff(omega(r, th), r)^2 + 4*r^4*e^(-lamb(r) - nu(r))*omega(r, th)*diff(omega(r, th), r, r) + 16*r^3*e^(-lamb(r) - nu(r))*omega(r, th)*diff(omega(r, th), r) + r^2*e^(-nu(r))*diff(omega(r, th), th)^2 + 4*r^2*e^(-nu(r))*omega(r, th)*diff(omega(r, th), th, th) - 24*pi*r^2*E22(r) - 12*r^2*e^(-lamb(r))*diff(k2(r), r, r) - 36*r*e^(-lamb(r))*diff(k2(r), r) + 12*r*e^(-lamb(r))*diff(m2(r), r) + 12*(e^(-lamb(r)) + 3)*m2(r) - 6*(r^2*e^(-lamb(r))*diff(k2(r), r) - 2*r*e^(-lamb(r))*m2(r))*diff(nu(r), r) + 24*k2(r))*sin(th)^2 + 24*r*e^(-lamb(r))*diff(k2(r), r) - 8*r*e^(-lamb(r))*diff(m0(r), r) - 8*r*e^(-lamb(r))*diff(m2(r), r) + 4*(4*pi*r^2*E21(r) + 2*r^2*e^(-lamb(r))*diff(k1(r), r, r) + 6*r*e^(-lamb(r))*diff(k1(r), r) - 2*r*e^(-lamb(r))*diff(m1(r), r) - 2*(e^(-lamb(r)) + 1)*m1(r) + (r^2*e^(-lamb(r))*diff(k1(r), r) - 2*r*e^(-lamb(r))*m1(r))*diff(nu(r), r))*cos(th) - 8*e^(-lamb(r))*m0(r) - 8*(e^(-lamb(r)) + 3)*m2(r) + 4*(r^2*e^(-lamb(r))*diff(k2(r), r) - 2*r*e^(-lamb(r))*m0(r) - 2*r*e^(-lamb(r))*m2(r))*diff(nu(r), r) - 16*k2(r))/(pi*r^2)"
      ]
     },
     "metadata": {},
     "output_type": "display_data"
    }
   ],
   "source": [
    "ddEq00 = ddG[0,0] - kappa*ddT[0,0] == 0\n",
    "ddEq00 = ddEq00.simplify_full()\n",
    "E20value = solve(ddEq00,E20)[0].rhs()\n",
    "\n",
    "show(E20value)\n",
    "\n",
    "E20value_paper = (4/r^2*diff(r*e^(-lamb)*m0,r)\\\n",
    "                  +8/3*r*jj*diff(jj,r)*(omega-Omega1)^2\\\n",
    "                  -1/3*jj^2*r^2*diff(omega,r)^2)/(8*pi^2)\n",
    "\n",
    "\n",
    "s1 = sin(th)^2 == 2/3*(1-LP2)\n",
    "s2 = cos(th)*sin(th) == LP_SUSTITUCION\n",
    "s3 = cos(th) == LP1\n",
    "s4 = LP_SUSTITUCION == cos(th)*sin(th)\n",
    "s5 = LP1^2 == cos(th)^2\n",
    "s6 = cos(th)^2 == (2*LP2+1)/3\n",
    "s7 = diff(LP1, th, th) == -LP1\n",
    "s8 = diff(LP2, th) == -3*LP1*sin(th)\n",
    "s9 = diff(LP2, th, th) == 1-4*LP2\n",
    "\n",
    "sus_legendre = [s1,s2,s4,s5,s6,s7,s8,s9]\n",
    "\n",
    "\n",
    "for kk in range(0,len(sus_legendre)):\n",
    "    E20value = E20value.subs(sus_legendre[kk])\n",
    "\n",
    "E20value_paper = E20value_paper.subs(sus_func[len(sus_func)-1])"
   ]
  },
  {
   "cell_type": "code",
   "execution_count": 59,
   "metadata": {},
   "outputs": [
    {
     "data": {
      "text/html": [
       "<html>\\[\\newcommand{\\Bold}[1]{\\mathbf{#1}}-\\frac{r^{2} e^{\\left(-\\lambda\\left(r\\right) - \\nu\\left(r\\right)\\right)} \\frac{\\partial}{\\partial r}\\omega\\left(r, {\\theta}\\right)^{2} - \\frac{12 \\, {\\left(r e^{\\left(-\\lambda\\left(r\\right)\\right)} m_0\\left(r\\right) \\frac{\\partial}{\\partial r}\\nu\\left(r\\right) + r e^{\\left(-\\lambda\\left(r\\right)\\right)} \\frac{\\partial}{\\partial r}m_0\\left(r\\right) + e^{\\left(-\\lambda\\left(r\\right)\\right)} m_0\\left(r\\right)\\right)}}{r^{2}}}{24 \\, \\pi^{2}}\\]</html>"
      ],
      "text/latex": [
       "$$\\newcommand{\\Bold}[1]{\\mathbf{#1}}-\\frac{r^{2} e^{\\left(-\\lambda\\left(r\\right) - \\nu\\left(r\\right)\\right)} \\frac{\\partial}{\\partial r}\\omega\\left(r, {\\theta}\\right)^{2} - \\frac{12 \\, {\\left(r e^{\\left(-\\lambda\\left(r\\right)\\right)} m_0\\left(r\\right) \\frac{\\partial}{\\partial r}\\nu\\left(r\\right) + r e^{\\left(-\\lambda\\left(r\\right)\\right)} \\frac{\\partial}{\\partial r}m_0\\left(r\\right) + e^{\\left(-\\lambda\\left(r\\right)\\right)} m_0\\left(r\\right)\\right)}}{r^{2}}}{24 \\, \\pi^{2}}$$"
      ],
      "text/plain": [
       "-1/24*(r^2*e^(-lamb(r) - nu(r))*diff(omega(r, th), r)^2 - 12*(r*e^(-lamb(r))*m0(r)*diff(nu(r), r) + r*e^(-lamb(r))*diff(m0(r), r) + e^(-lamb(r))*m0(r))/r^2)/pi^2"
      ]
     },
     "execution_count": 59,
     "metadata": {},
     "output_type": "execute_result"
    }
   ],
   "source": [
    "E20value_paper"
   ]
  },
  {
   "cell_type": "code",
   "execution_count": 32,
   "metadata": {},
   "outputs": [],
   "source": [
    "#Baro = E2*diff(P,r) - P2*diff(E,r) == 0\n",
    "#for kk in range(0,len(sus_func)):\n",
    "#    Baro = Baro.subs(sus_func[kk])\n",
    "#    \n",
    "#Baro"
   ]
  }
 ],
 "metadata": {
  "kernelspec": {
   "display_name": "SageMath 9.4",
   "language": "sage",
   "name": "sagemath-9.4"
  },
  "language_info": {
   "codemirror_mode": {
    "name": "ipython",
    "version": 3
   },
   "file_extension": ".py",
   "mimetype": "text/x-python",
   "name": "python",
   "nbconvert_exporter": "python",
   "pygments_lexer": "ipython3",
   "version": "3.9.5"
  }
 },
 "nbformat": 4,
 "nbformat_minor": 4
}
