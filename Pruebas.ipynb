{
 "cells": [
  {
   "cell_type": "code",
   "execution_count": 17,
   "metadata": {},
   "outputs": [],
   "source": [
    "n = 3\n",
    "M = Manifold(1+n, 'M', structure='Lorentzian')\n",
    "X.<t,r,th,ph> = M.chart(r\"t r:(0,+oo) th:(0,pi):\\theta ph:(0,2*pi):\\phi\")\n",
    "\n",
    "prueba1 = M.tensor_field(0,2,'prueba1')\n",
    "prueba1[0,0] = cos(th)\n",
    "prueba1[1,1] = sin(th)\n",
    "prueba1[2,2] = cos(th)^2\n",
    "prueba1[3,3] = 1\n",
    "prueba1[0,3] = P1"
   ]
  },
  {
   "cell_type": "code",
   "execution_count": 18,
   "metadata": {},
   "outputs": [
    {
     "data": {
      "text/plain": [
       "[  cos(th)         0         0     P1(r)]\n",
       "[        0   sin(th)         0         0]\n",
       "[        0         0 cos(th)^2         0]\n",
       "[        0         0         0         1]"
      ]
     },
     "execution_count": 18,
     "metadata": {},
     "output_type": "execute_result"
    }
   ],
   "source": [
    "prueba1[:]"
   ]
  },
  {
   "cell_type": "code",
   "execution_count": 19,
   "metadata": {},
   "outputs": [
    {
     "data": {
      "text/plain": [
       "cos(th)"
      ]
     },
     "execution_count": 19,
     "metadata": {},
     "output_type": "execute_result"
    }
   ],
   "source": [
    "legendre_P(1,cos(th))"
   ]
  },
  {
   "cell_type": "code",
   "execution_count": 20,
   "metadata": {},
   "outputs": [
    {
     "data": {
      "text/plain": [
       "[  cos(th)         0         0     P1(r)]\n",
       "[        0   sin(th)         0         0]\n",
       "[        0         0 cos(th)^2         0]\n",
       "[        0         0         0         1]"
      ]
     },
     "execution_count": 20,
     "metadata": {},
     "output_type": "execute_result"
    }
   ],
   "source": [
    "prueba1[:]"
   ]
  },
  {
   "cell_type": "code",
   "execution_count": 23,
   "metadata": {},
   "outputs": [],
   "source": [
    "P1 = function('P1')(r)\n",
    "P2 = function('P2')(r)\n",
    "s1 = cos(th) == P1\n",
    "s2 = P1^2 == (2*P2+1)/3\n",
    "su = (s1,s2)\n",
    "prueba1.apply_map(lambda cmp: cmp.subs(su))"
   ]
  },
  {
   "cell_type": "code",
   "execution_count": 24,
   "metadata": {},
   "outputs": [
    {
     "data": {
      "text/plain": [
       "[          P1(r)               0               0           P1(r)]\n",
       "[              0         sin(th)               0               0]\n",
       "[              0               0 2/3*P2(r) + 1/3               0]\n",
       "[              0               0               0               1]"
      ]
     },
     "execution_count": 24,
     "metadata": {},
     "output_type": "execute_result"
    }
   ],
   "source": [
    "prueba1[:]"
   ]
  },
  {
   "cell_type": "code",
   "execution_count": 25,
   "metadata": {},
   "outputs": [
    {
     "data": {
      "text/plain": [
       "3/2*th^2 - 1/2"
      ]
     },
     "execution_count": 25,
     "metadata": {},
     "output_type": "execute_result"
    }
   ],
   "source": [
    "legendre_P(2,th)"
   ]
  },
  {
   "cell_type": "code",
   "execution_count": null,
   "metadata": {},
   "outputs": [],
   "source": []
  }
 ],
 "metadata": {
  "kernelspec": {
   "display_name": "SageMath 9.4",
   "language": "sage",
   "name": "sagemath-9.4"
  },
  "language_info": {
   "codemirror_mode": {
    "name": "ipython",
    "version": 3
   },
   "file_extension": ".py",
   "mimetype": "text/x-python",
   "name": "python",
   "nbconvert_exporter": "python",
   "pygments_lexer": "ipython3",
   "version": "3.9.5"
  }
 },
 "nbformat": 4,
 "nbformat_minor": 4
}
