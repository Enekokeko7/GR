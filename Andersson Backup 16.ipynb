{
 "cells": [
  {
   "cell_type": "code",
   "execution_count": 1,
   "metadata": {},
   "outputs": [],
   "source": [
    "import sys\n",
    "\n",
    "def cadena(fun, var):\n",
    "    derivada = diff(fun, n2)*diff(fn2,var)\\\n",
    "             + diff(fun, p2)*diff(fp2,var)\\\n",
    "             + diff(fun, x2)*diff(fx2,var)\n",
    "    \n",
    "    return derivada\n",
    "\n",
    "def cadena2(fun, var):\n",
    "    derivada = diff(fun, n2, n2)*diff(fn2, r)^2 + diff(fun, n2)*diff(fn2, r, r)\\\n",
    "             + diff(fun, p2, p2)*diff(fp2, r)^2 + diff(fun, p2)*diff(fp2, r, r)\\\n",
    "             + diff(fun, x2, x2)*diff(fx2, r)^2 + diff(fun, x2)*diff(fx2, r, r)\n",
    "\n",
    "    return derivada"
   ]
  },
  {
   "cell_type": "code",
   "execution_count": 2,
   "metadata": {},
   "outputs": [],
   "source": [
    "#Definimos variables y funciones\n",
    "var('eps', latex_name = '\\\\varepsilon')\n",
    "var('t')\n",
    "var('r')\n",
    "var('th', latex_name = '\\\\theta')\n",
    "var('ph', latex_name = '\\\\varphi')\n",
    "coords = (t,r,th,ph)\n",
    "\n",
    "h = function('h')(r,th)\n",
    "k = function('k')(r,th)\n",
    "v = function('v')(r,th)\n",
    "omega = function('omega', latex_name='\\\\omega')(r)\n",
    "\n",
    "nu = function('nu', latex_name='\\\\nu')(r)\n",
    "lamb = function('lamb', latex_name='\\\\lambda')(r)\n",
    "\n",
    "#Definimos las funciones N, V, K y Nphi (ecuación 23 AC)\n",
    "Ne = e^(nu/2)*(1+1/2*eps^2*h)\n",
    "Ve = e^(lamb)*(1+eps^2*v)\n",
    "Ke = r^2*(1+eps^2*k)\n",
    "Nphie = eps*omega"
   ]
  },
  {
   "cell_type": "markdown",
   "metadata": {},
   "source": [
    "# <center> Tensor de Einstein </center>"
   ]
  },
  {
   "cell_type": "code",
   "execution_count": 3,
   "metadata": {},
   "outputs": [],
   "source": [
    "gdd = matrix(SR, 4, 4)\n",
    "\n",
    "gdd[0,0] = -exp(nu)\n",
    "gdd[1,1] = exp(lamb)\n",
    "gdd[2,2] = r^2\n",
    "gdd[3,3] = r^2*sin(th)^2\n",
    "\n",
    "guu = 1/gdd\n",
    "\n",
    "K1 = matrix(SR, 4, 4)\n",
    "K1[0,3] = -omega*r^2*sin(th)^2\n",
    "K1[3,0] = -omega*r^2*sin(th)^2\n",
    "\n",
    "K2 = matrix(SR, 4, 4)\n",
    "K2[0,0] = -4*exp(nu)*h + 2*r^2*sin(th)^2*omega^2\n",
    "K2[1,1] = 4*exp(lamb)*v\n",
    "K2[2,2] = 4*k*r^2\n",
    "K2[3,3] = 4*k*r^2*sin(th)^2"
   ]
  },
  {
   "cell_type": "code",
   "execution_count": 4,
   "metadata": {},
   "outputs": [],
   "source": [
    "gedd = matrix(SR, 4, 4)\n",
    "for ii in range(0,4):\n",
    "    for jj in range(0,4):\n",
    "        gedd[ii,jj] = gdd[ii,jj] + eps*K1[ii,jj] + 1/2*eps^2*K2[ii,jj]\n",
    "        \n",
    "geuu = 1/gedd\n",
    "    \n",
    "chris = [[[0 for kk in range(0,4)] for jj in range(0,4)] for ii in range(0,4)]\n",
    "for ii in range(0,4):\n",
    "    for jj in range(0,4):\n",
    "        for kk in range(0,4):\n",
    "            chris[ii][jj][kk] = 0.5*sum(geuu[ii,dd]*(diff(gedd[dd,jj],coords[kk])\n",
    "                                                   + diff(gedd[dd,kk],coords[jj])\n",
    "                                                   - diff(gedd[jj,kk],coords[dd])) for dd in range(0,4))\n",
    "\n",
    "riem = [[[[0 for ll in range(0,4)] for kk in range(0,4)] for jj in range(0,4)] for ii in range(0,4)]\n",
    "for ii in range(0,4):\n",
    "    for jj in range(0,4):\n",
    "        for kk in range(0,4):\n",
    "            for ll in range(0,4):\n",
    "                riem[ii][jj][kk][ll] = (diff(chris[ii][jj][ll],coords[kk])\n",
    "                                      - diff(chris[ii][jj][kk],coords[ll])\n",
    "                                      + sum(chris[ii][kk][dd]*chris[dd][ll][jj]\n",
    "                                      - chris[ii][ll][dd]*chris[dd][kk][jj] for dd in range(0,4)))\n",
    "\n",
    "ricci = matrix(SR, 4, 4)\n",
    "for ii in range(0,4):\n",
    "    for kk in range(0,4):\n",
    "        ricci[ii,kk] = sum(riem[dd][ii][dd][kk] for dd in range(0,4))\n",
    "\n",
    "s_curv = sum(sum(ricci[ii,jj]*geuu[ii,jj] for ii in range(0,4)) for jj in range(0,4))\n",
    "\n",
    "Ge = matrix(SR, 4, 4)\n",
    "Ge = ricci - 0.5*gedd*s_curv\n",
    "\n",
    "dGe = matrix(SR, 4, 4)\n",
    "ddGe = matrix(SR, 4, 4)\n",
    "for ii in range(0,4):\n",
    "    for jj in range(0,4):\n",
    "        dGe[ii,jj] = diff(Ge[ii,jj],eps)\n",
    "        ddGe[ii,jj] = diff(Ge[ii,jj],eps,eps)"
   ]
  },
  {
   "cell_type": "markdown",
   "metadata": {},
   "source": [
    "# <center> Tensor de energía-momento </center>"
   ]
  },
  {
   "cell_type": "code",
   "execution_count": 5,
   "metadata": {},
   "outputs": [],
   "source": [
    "#Funciones dependientes de eps\n",
    "Omegane = function('Omegane', latex_name='\\\\Omega_{n\\\\varepsilon}')(eps)\n",
    "Omegape = function('Omegape', latex_name='\\\\Omega_{p\\\\varepsilon}')(eps)\n",
    "\n",
    "Nne = function('Nne', latex_name='N_{n\\\\varepsilon}')(r,th,eps)\n",
    "Npe = function('Npe', latex_name='N_{p\\\\varepsilon}')(r,th,eps)\n",
    "\n",
    "#Tomando eps=0\n",
    "Nn = function('Nn', latex_name='N_{n}')(r,th)\n",
    "Np = function('Np', latex_name='N_{p}')(r,th)\n",
    "\n",
    "sus_func = [eps==0,\n",
    "            Omegane.subs(eps==0)==0, #Staticity at the background\n",
    "            Nne.subs(eps==0)==Nn,\n",
    "            Omegape.subs(eps==0)==0, #Staticity at the background\n",
    "            Npe.subs(eps==0)==Np]"
   ]
  },
  {
   "cell_type": "markdown",
   "metadata": {},
   "source": [
    "## <center> Campo $u$ de los neutrones </center>"
   ]
  },
  {
   "cell_type": "code",
   "execution_count": 6,
   "metadata": {},
   "outputs": [
    {
     "data": {
      "text/html": [
       "<html>\\[\\newcommand{\\Bold}[1]{\\mathbf{#1}}u \\rightarrow  \\mathrm{True}\\]</html>"
      ],
      "text/latex": [
       "$$\\newcommand{\\Bold}[1]{\\mathbf{#1}}u \\rightarrow  \\mathrm{True}$$"
      ],
      "text/plain": [
       "u \\rightarrow  True"
      ]
     },
     "metadata": {},
     "output_type": "display_data"
    }
   ],
   "source": [
    "uevec = [Nne,0,0,Nne*Omegane]\n",
    "Uevec = [0,0,0,0]\n",
    "\n",
    "for ii in range(0,4):\n",
    "    for jj in range(0,4):\n",
    "        Uevec[ii] += uevec[jj]*gedd[ii,jj]\n",
    "\n",
    "norm = 0\n",
    "for ii in range(0,4):\n",
    "    norm += uevec[ii]*Uevec[ii]\n",
    "\n",
    "Nne_value = sqrt(solve(norm==-1, Nne^2)[0].rhs())\n",
    "\n",
    "for ii in range(4):\n",
    "    uevec[ii] = uevec[ii].subs(Nne==Nne_value)\n",
    "    Uevec[ii] = Uevec[ii].subs(Nne==Nne_value)\n",
    "\n",
    "Nn_value = copy(Nne_value)\n",
    "for ii in range(len(sus_func)):\n",
    "    Nn_value = Nn_value.subs(sus_func[ii])\n",
    "\n",
    "sus_func.extend([Nn==Nn_value])\n",
    "\n",
    "uvec = copy(uevec)\n",
    "for ii in range(4):\n",
    "    for jj in range(len(sus_func)):\n",
    "        uvec[ii] = uvec[ii].subs(sus_func[jj])\n",
    "\n",
    "Nne_paper = 1/sqrt(Ne^2 - sin(th)^2*Ke*(Nphie-Omegane)^2)\n",
    "\n",
    "uvec_paper = [Nne_paper,0,0,Omegane*Nne_paper]\n",
    "for ii in range(4):\n",
    "    for jj in range(len(sus_func)):\n",
    "        uvec_paper[ii] = uvec_paper[ii].subs(sus_func[jj])\n",
    "\n",
    "uvec_check = [x-y for (x,y) in zip(uvec, uvec_paper)]\n",
    "\n",
    "show(LatexExpr(\"u \\\\rightarrow \"), bool(uvec_check==[0,0,0,0]))"
   ]
  },
  {
   "cell_type": "code",
   "execution_count": 7,
   "metadata": {},
   "outputs": [
    {
     "data": {
      "text/html": [
       "<html>\\[\\newcommand{\\Bold}[1]{\\mathbf{#1}}u^{(1)} \\rightarrow \\mathrm{True}\\]</html>"
      ],
      "text/latex": [
       "$$\\newcommand{\\Bold}[1]{\\mathbf{#1}}u^{(1)} \\rightarrow \\mathrm{True}$$"
      ],
      "text/plain": [
       "u^{(1)} \\rightarrow True"
      ]
     },
     "metadata": {},
     "output_type": "display_data"
    },
    {
     "data": {
      "text/html": [
       "<html>\\[\\newcommand{\\Bold}[1]{\\mathbf{#1}}u^{(2)} \\rightarrow \\mathrm{True}\\]</html>"
      ],
      "text/latex": [
       "$$\\newcommand{\\Bold}[1]{\\mathbf{#1}}u^{(2)} \\rightarrow \\mathrm{True}$$"
      ],
      "text/plain": [
       "u^{(2)} \\rightarrow True"
      ]
     },
     "metadata": {},
     "output_type": "display_data"
    }
   ],
   "source": [
    "var('Omegan1', latex_name=\"\\\\Omega^{(1)}_{n}\")\n",
    "\n",
    "sus_func.extend([diff(Omegane,eps,eps).subs(eps==0) == 0, #En nuestro gauge Omega2=0\n",
    "                 diff(Omegane,eps).subs(eps==0) == Omegan1])\n",
    "\n",
    "uvec1 = [0,0,0,0]\n",
    "uvec2 = [0,0,0,0]\n",
    "\n",
    "for ii in range(4):\n",
    "    uvec1[ii] = diff(uevec[ii],eps)\n",
    "    uvec2[ii] = diff(uevec[ii],eps,eps)\n",
    "\n",
    "for ii in range(4):\n",
    "    for jj in range(len(sus_func)):\n",
    "        uvec1[ii] = uvec1[ii].subs(sus_func[jj])\n",
    "        uvec2[ii] = uvec2[ii].subs(sus_func[jj])\n",
    "\n",
    "uvec1_paper = [0,0,0,0]\n",
    "uvec1_paper[0] = 1/2*e^(-3*nu/2)*K1[0,0]\n",
    "uvec1_paper[3] = e^(-nu/2)*Omegan1\n",
    "\n",
    "uvec2_paper = [0,0,0,0]\n",
    "uvec2_paper[0] = e^(-3*nu/2)*(1/2*K2[0,0]+3/4*e^(-nu)*K1[0,0]+2*Omegan1*K1[0,3]+Omegan1^2*r^2*sin(th)^2)\n",
    "uvec2_paper[3] = e^(-nu/2)*(e^(-nu)*K1[0,0]*Omegan1)  \n",
    "\n",
    "uvec1_check = [ii-jj for (ii,jj) in zip(uvec1, uvec1_paper)]\n",
    "uvec2_check = [ii-jj for (ii,jj) in zip(uvec2, uvec2_paper)]\n",
    "\n",
    "show(LatexExpr(\"u^{(1)} \\\\rightarrow\"), uvec1_check==[0,0,0,0])\n",
    "show(LatexExpr(\"u^{(2)} \\\\rightarrow\"), uvec2_check==[0,0,0,0])"
   ]
  },
  {
   "cell_type": "markdown",
   "metadata": {},
   "source": [
    "## <center> Campo $v$ de los protones </center>"
   ]
  },
  {
   "cell_type": "code",
   "execution_count": 9,
   "metadata": {},
   "outputs": [
    {
     "data": {
      "text/html": [
       "<html>\\[\\newcommand{\\Bold}[1]{\\mathbf{#1}}v \\rightarrow  \\mathrm{True}\\]</html>"
      ],
      "text/latex": [
       "$$\\newcommand{\\Bold}[1]{\\mathbf{#1}}v \\rightarrow  \\mathrm{True}$$"
      ],
      "text/plain": [
       "v \\rightarrow  True"
      ]
     },
     "metadata": {},
     "output_type": "display_data"
    }
   ],
   "source": [
    "vevec = [Npe,0,0,Npe*Omegape]\n",
    "Vevec = [0,0,0,0]\n",
    "\n",
    "for ii in range(4):\n",
    "    for jj in range(4):\n",
    "        Vevec[ii] += vevec[jj]*gedd[ii,jj]\n",
    "\n",
    "norm = 0\n",
    "for ii in range(4):\n",
    "    norm += vevec[ii]*Vevec[ii]\n",
    "\n",
    "Npe_value = sqrt(solve(norm==-1, Npe^2)[0].rhs())\n",
    "for ii in range(4):\n",
    "    vevec[ii] = vevec[ii].subs(Npe==Npe_value)\n",
    "    Vevec[ii] = Vevec[ii].subs(Npe==Npe_value)\n",
    "\n",
    "Np_value = copy(Npe_value)\n",
    "for ii in range(len(sus_func)):\n",
    "    Np_value = Np_value.subs(sus_func[ii])\n",
    "\n",
    "sus_func.extend([Np==Np_value])\n",
    "\n",
    "vvec = copy(vevec)\n",
    "for ii in range(4):\n",
    "    for jj in range(len(sus_func)):\n",
    "        vvec[ii] = vvec[ii].subs(sus_func[jj])\n",
    "\n",
    "Npe_paper = 1/sqrt(Ne^2 - sin(th)^2*Ke*(Nphie-Omegape)^2)\n",
    "\n",
    "vvec_paper = [Npe_paper,0,0,Omegape*Npe_paper]\n",
    "\n",
    "for ii in range(4):\n",
    "    for jj in range(len(sus_func)):\n",
    "        vvec_paper[ii] = vvec_paper[ii].subs(sus_func[jj])\n",
    "\n",
    "vvec_check = [x-y for (x,y) in zip(vvec, vvec_paper)]\n",
    "\n",
    "show(LatexExpr(\"v \\\\rightarrow \"), bool(vvec_check==[0,0,0,0]))"
   ]
  },
  {
   "cell_type": "code",
   "execution_count": 10,
   "metadata": {},
   "outputs": [
    {
     "data": {
      "text/html": [
       "<html>\\[\\newcommand{\\Bold}[1]{\\mathbf{#1}}v^{(1)} \\rightarrow \\mathrm{True}\\]</html>"
      ],
      "text/latex": [
       "$$\\newcommand{\\Bold}[1]{\\mathbf{#1}}v^{(1)} \\rightarrow \\mathrm{True}$$"
      ],
      "text/plain": [
       "v^{(1)} \\rightarrow True"
      ]
     },
     "metadata": {},
     "output_type": "display_data"
    },
    {
     "data": {
      "text/html": [
       "<html>\\[\\newcommand{\\Bold}[1]{\\mathbf{#1}}v^{(2)} \\rightarrow \\mathrm{True}\\]</html>"
      ],
      "text/latex": [
       "$$\\newcommand{\\Bold}[1]{\\mathbf{#1}}v^{(2)} \\rightarrow \\mathrm{True}$$"
      ],
      "text/plain": [
       "v^{(2)} \\rightarrow True"
      ]
     },
     "metadata": {},
     "output_type": "display_data"
    }
   ],
   "source": [
    "var('Omegap1', latex_name=\"\\\\Omega^{(1)}_{p}\")\n",
    "\n",
    "sus_func.extend([diff(Omegape,eps,eps).subs(eps==0) == 0, #En nuestro gauge Omega2=0\n",
    "                 diff(Omegape,eps).subs(eps==0) == Omegap1])\n",
    "\n",
    "vvec1 = [0,0,0,0]\n",
    "vvec2 = [0,0,0,0]\n",
    "\n",
    "for ii in range(4):\n",
    "    vvec1[ii] = diff(vevec[ii],eps)\n",
    "    vvec2[ii] = diff(vevec[ii],eps,eps)\n",
    "\n",
    "for ii in range(4):\n",
    "    for jj in range(len(sus_func)):\n",
    "        vvec1[ii] = vvec1[ii].subs(sus_func[jj])\n",
    "        vvec2[ii] = vvec2[ii].subs(sus_func[jj])\n",
    "\n",
    "vvec1_paper = [0,0,0,0]\n",
    "vvec1_paper[0] = 1/2*e^(-3*nu/2)*K1[0,0]\n",
    "vvec1_paper[3] = e^(-nu/2)*Omegap1\n",
    "\n",
    "vvec2_paper = [0,0,0,0]\n",
    "vvec2_paper[0] = e^(-3*nu/2)*(1/2*K2[0,0]+3/4*e^(-nu)*K1[0,0]+2*Omegap1*K1[0,3]+Omegap1^2*r^2*sin(th)^2)\n",
    "vvec2_paper[3] = e^(-nu/2)*(e^(-nu)*K1[0,0]*Omegap1)  \n",
    "\n",
    "vvec1_check = [ii-jj for (ii,jj) in zip(vvec1, vvec1_paper)]\n",
    "vvec2_check = [ii-jj for (ii,jj) in zip(vvec2, vvec2_paper)]\n",
    "\n",
    "show(LatexExpr(\"v^{(1)} \\\\rightarrow\"), vvec1_check==[0,0,0,0])\n",
    "show(LatexExpr(\"v^{(2)} \\\\rightarrow\"), vvec2_check==[0,0,0,0])"
   ]
  },
  {
   "cell_type": "markdown",
   "metadata": {},
   "source": [
    "## <center> Ecuación de Einstein </center>"
   ]
  },
  {
   "cell_type": "code",
   "execution_count": 11,
   "metadata": {},
   "outputs": [],
   "source": [
    "n = function('n')(r,th,eps)\n",
    "p = function('p')(r,th,eps)\n",
    "\n",
    "n0 = function('n0', latex_name=\"n_0\")(r)\n",
    "p0 = function('p0', latex_name=\"p_0\")(r)\n",
    "\n",
    "eta = function('eta', latex_name=\"\\\\eta\")(r,th)\n",
    "Phi = function('Phi', latex_name=\"\\\\Phi\")(r,th)\n",
    "\n",
    "n = n0 + 1/2*eps^2*eta\n",
    "p = p0 + 1/2*eps^2*Phi\n",
    "\n",
    "#Defino esto para poder hacer derivadas \"simbólicas\"\n",
    "var('n2', latex_name=\"n^2\")\n",
    "var('p2', latex_name=\"p^2\")\n",
    "var('x2', latex_name=\"x^2\")\n",
    "\n",
    "Lambdae = function('Lambdae', latex_name='\\\\Lambda_{\\\\varepsilon}')(n2,p2,x2,eps,r)\n",
    "Psie = function('Psie', latex_name='\\\\Psi_{\\\\varepsilon}')(n2,p2,x2,eps,r)\n",
    "\n",
    "nevec = [n*ii for ii in uevec] #eq 13 AC\n",
    "pevec = [p*ii for ii in vevec] #eq 13 AC\n",
    "\n",
    "ned = [0,0,0,0]\n",
    "ped = [0,0,0,0]\n",
    "for ii in range(4):\n",
    "    for jj in range(4):\n",
    "        ned[ii] += nevec[jj]*gedd[ii,jj]\n",
    "        ped[ii] += pevec[jj]*gedd[ii,jj]\n",
    "\n",
    "nd = copy(ned)\n",
    "pd = copy(ped)\n",
    "for ii in range(4):\n",
    "    for jj in range(len(sus_func)):\n",
    "        nd[ii] = nd[ii].subs(sus_func[jj])\n",
    "        pd[ii] = pd[ii].subs(sus_func[jj])\n",
    "\n",
    "#Para poder hacer la regla de la cadena necesitamos una expresión explícita para n2, p2 y x2\n",
    "fn2, fp2, fx2 = 0, 0, 0\n",
    "for ii in range(4):\n",
    "    for jj in range(4):\n",
    "        fn2 += -nevec[ii]*nevec[jj]*gedd[ii,jj]\n",
    "        fp2 += -pevec[ii]*pevec[jj]*gedd[ii,jj]\n",
    "        fx2 += -nevec[ii]*pevec[jj]*gedd[ii,jj]\n",
    "\n",
    "A = -diff(Lambdae, x2)\n",
    "B = -2*diff(Lambdae, n2)\n",
    "C = -2*diff(Lambdae, p2)\n",
    "\n",
    "mued = [B*ii for ii in ned] + [A*jj for jj in ped] #eq 2 C\n",
    "chied = [C*ii for ii in ped] + [A*jj for jj in ned] #eq 2 C\n",
    "\n",
    "muevec = [0,0,0,0]\n",
    "chievec = [0,0,0,0]\n",
    "for ii in range(4):\n",
    "    for jj in range(4):\n",
    "        muevec[ii] += mued[jj]*gedd[ii,jj]\n",
    "        chievec[ii] += chied[jj]*gedd[ii,jj]\n",
    "\n",
    "Psie = Lambdae - sum([ii*jj for (ii,jj) in zip(nevec, mued)]) - sum([ii*jj for (ii,jj) in zip(pevec, chied)])\n",
    "\n",
    "LambdaePsie = Psie - Lambdae"
   ]
  },
  {
   "cell_type": "code",
   "execution_count": 12,
   "metadata": {},
   "outputs": [],
   "source": [
    "dirac = diagonal_matrix([1, 1, 1, 1])\n",
    "\n",
    "Teud = matrix(SR, 4, 4)\n",
    "for ii in range(4):\n",
    "    for jj in range(4):\n",
    "        Teud[ii,jj] = Psie*dirac[ii,jj] + pevec[ii]*chied[jj] + nevec[ii]*mued[jj]\n",
    "\n",
    "Te, dTe, ddTe = matrix(SR, 4, 4), matrix(SR, 4, 4), matrix(SR, 4, 4)\n",
    "for ii in range(4):\n",
    "    for jj in range(4):\n",
    "        for kk in range(4):\n",
    "            Te[ii,jj] += Teud[kk,jj]*gedd[kk,ii]\n",
    "        \n",
    "        dTe[ii,jj] = diff(Te[ii,jj],eps)\n",
    "        ddTe[ii,jj] = diff(Te[ii,jj],eps,eps)\n",
    "\n",
    "kappa = 8*pi"
   ]
  },
  {
   "cell_type": "code",
   "execution_count": 13,
   "metadata": {},
   "outputs": [],
   "source": [
    "dLambdae_dr = cadena(Lambdae, r)\n",
    "ddLambdae_dn2_dr = diff(cadena(Lambdae, r), n2)\n",
    "ddLambdae_dp2_dr = diff(cadena(Lambdae, r), p2)\n",
    "ddLambdae_dx2_dr = diff(cadena(Lambdae, r), x2)\n",
    "for ii in range(len(sus_func)):\n",
    "    dLambdae_dr = dLambdae_dr.subs(sus_func[ii])\n",
    "    ddLambdae_dn2_dr = ddLambdae_dn2_dr.subs(sus_func[ii])\n",
    "    ddLambdae_dp2_dr = ddLambdae_dp2_dr.subs(sus_func[ii])\n",
    "    ddLambdae_dx2_dr = ddLambdae_dx2_dr.subs(sus_func[ii])\n",
    "\n",
    "sus_func.extend([diff(Lambdae, r).subs(eps==0) == dLambdae_dr,\n",
    "                 diff(Lambdae, n2, r).subs(eps==0) == ddLambdae_dn2_dr,\n",
    "                 diff(Lambdae, p2, r).subs(eps==0) == ddLambdae_dp2_dr,\n",
    "                 diff(Lambdae, x2, r).subs(eps==0) == ddLambdae_dx2_dr])"
   ]
  },
  {
   "cell_type": "code",
   "execution_count": 14,
   "metadata": {},
   "outputs": [
    {
     "data": {
      "text/html": [
       "<html>\\[\\newcommand{\\Bold}[1]{\\mathbf{#1}}\\text{Eq 26.1} \\rightarrow \\mathrm{True}\\]</html>"
      ],
      "text/latex": [
       "$$\\newcommand{\\Bold}[1]{\\mathbf{#1}}\\text{Eq 26.1} \\rightarrow \\mathrm{True}$$"
      ],
      "text/plain": [
       "\\text{Eq 26.1} \\rightarrow True"
      ]
     },
     "metadata": {},
     "output_type": "display_data"
    },
    {
     "data": {
      "text/html": [
       "<html>\\[\\newcommand{\\Bold}[1]{\\mathbf{#1}}\\text{Eq 26.2} \\rightarrow \\mathrm{True}\\]</html>"
      ],
      "text/latex": [
       "$$\\newcommand{\\Bold}[1]{\\mathbf{#1}}\\text{Eq 26.2} \\rightarrow \\mathrm{True}$$"
      ],
      "text/plain": [
       "\\text{Eq 26.2} \\rightarrow True"
      ]
     },
     "metadata": {},
     "output_type": "display_data"
    }
   ],
   "source": [
    "mue = B*n + A*p #eq 22 C\n",
    "chie = A*n + C*p #eq 22 C\n",
    "\n",
    "#Volvemos a definir mu_d y chi_d porque los que habíamos definido antes eran de AC y este es de C\n",
    "mued = [mue*ii for ii in Uevec] #eq 17 C\n",
    "chied = [chie*ii for ii in Uevec] #eq 17 C\n",
    "\n",
    "muinf = -mued[0] #eq 20\n",
    "chiinf = -chied[0] #eq 20\n",
    "for ii in range(len(sus_func)):\n",
    "    muinf = muinf.subs(sus_func[ii])\n",
    "    chiinf = chiinf.subs(sus_func[ii])\n",
    "\n",
    "eq_mu = diff(muinf,r)\n",
    "eq_chi = diff(chiinf,r)\n",
    "for ii in range(len(sus_func)):\n",
    "    eq_mu = eq_mu.subs(sus_func[ii])\n",
    "    eq_chi = eq_chi.subs(sus_func[ii])\n",
    "\n",
    "A0, B0, C0 = A, B, C\n",
    "\n",
    "A00 = A + 2*diff(B,p2)*n*p + 2*diff(A,n2)*n^2 + 2*diff(A,p2)*p^2 + diff(A,x2)*p*n\n",
    "B00 = B + 2*diff(B,n2)*n^2 + 4*diff(A,n2)*n*p + diff(A,x2)*p^2\n",
    "C00 = C + 2*diff(C,p2)*p^2 + 4*diff(A,p2)*n*p + diff(A,x2)*n^2\n",
    "\n",
    "A000, B000, C000 = A00, B00, C00\n",
    "for ii in range(len(sus_func)):\n",
    "    A0 = A0.subs(sus_func[ii])\n",
    "    B0 = B0.subs(sus_func[ii])\n",
    "    C0 = C0.subs(sus_func[ii])\n",
    "    A000 = A000.subs(sus_func[ii])\n",
    "    B000 = B000.subs(sus_func[ii])\n",
    "    C000 = C000.subs(sus_func[ii])\n",
    "\n",
    "eq26_1 = A000*diff(p0,r) + B000*diff(n0,r) + 1/2*(B0*n0 + A0*p0)*diff(nu,r)\n",
    "eq26_2 = C000*diff(p0,r) + A000*diff(n0,r) + 1/2*(A0*n0 + C0*p0)*diff(nu,r)\n",
    "for ii in range(len(sus_func)):\n",
    "    eq26_1 = eq26_1.subs(sus_func[ii])\n",
    "    eq26_2 = eq26_2.subs(sus_func[ii])\n",
    "\n",
    "eq_mu = eq_mu*e^(-nu/2)\n",
    "eq_mu_check = eq_mu - eq26_1\n",
    "eq_chi = eq_chi*e^(-nu/2)\n",
    "eq_chi_check = eq_chi - eq26_2\n",
    "\n",
    "show(LatexExpr(\"\\\\text{Eq 26.1} \\\\rightarrow\"), bool(eq_mu_check==0))\n",
    "show(LatexExpr(\"\\\\text{Eq 26.2} \\\\rightarrow\"), bool(eq_chi_check==0))"
   ]
  },
  {
   "cell_type": "code",
   "execution_count": 15,
   "metadata": {},
   "outputs": [],
   "source": [
    "dp0_value = solve(eq26_1, diff(p0,r))[0].rhs()\n",
    "for ii in range(len(sus_func)):\n",
    "    dp0_value = dp0_value.subs(sus_func[ii])\n",
    "sus_func.extend([diff(p,r).subs(eps==0)==dp0_value])\n",
    "\n",
    "dn0_value = solve(eq26_2, diff(n0,r))[0].rhs()\n",
    "for ii in range(len(sus_func)):\n",
    "    dn0_value = dn0_value.subs(sus_func[ii])\n",
    "sus_func.extend([diff(n,r).subs(eps==0)==dn0_value])"
   ]
  },
  {
   "cell_type": "markdown",
   "metadata": {},
   "source": [
    "# <center> $G_{\\mu\\nu} = \\kappa T_{\\mu\\nu}$ </center>"
   ]
  },
  {
   "cell_type": "code",
   "execution_count": 16,
   "metadata": {},
   "outputs": [],
   "source": [
    "Lambda0 = function('Lambda0', latex_name='\\\\Lambda_0')(n2,p2,x2)\n",
    "Psi0 = function('Psi0', latex_name=\"\\\\Psi_0\")(n2,p2,x2)\n",
    "\n",
    "sus_func.extend([Lambdae.subs(eps==0) == Lambda0])\n",
    "\n",
    "Psi0 = copy(Psie)\n",
    "for ii in range(len(sus_func)):\n",
    "    Psi0 = Psi0.subs(sus_func[ii])\n",
    "\n",
    "G = copy(Ge)\n",
    "T = copy(Te)\n",
    "for ii in range(len(sus_func)):\n",
    "    G = G.subs(sus_func[ii])\n",
    "    T = T.subs(sus_func[ii])"
   ]
  },
  {
   "cell_type": "markdown",
   "metadata": {},
   "source": [
    "## <center> $G_{00} = \\kappa T_{00}$ </center>"
   ]
  },
  {
   "cell_type": "code",
   "execution_count": 17,
   "metadata": {},
   "outputs": [
    {
     "data": {
      "text/html": [
       "<html>\\[\\newcommand{\\Bold}[1]{\\mathbf{#1}}\\lambda' \\rightarrow \\mathrm{True}\\]</html>"
      ],
      "text/latex": [
       "$$\\newcommand{\\Bold}[1]{\\mathbf{#1}}\\lambda' \\rightarrow \\mathrm{True}$$"
      ],
      "text/plain": [
       "\\lambda' \\rightarrow True"
      ]
     },
     "metadata": {},
     "output_type": "display_data"
    }
   ],
   "source": [
    "dlamb_value = solve(G[0,0] - kappa*T[0,0] == 0, diff(lamb, r))[0].rhs().simplify_full()\n",
    "dlamb_paper = (1-e^(lamb))/r - 8*pi*r*e^(lamb)*Lambda0\n",
    "dlamb_check = dlamb_value - dlamb_paper\n",
    "show(LatexExpr(\"\\\\lambda' \\\\rightarrow\"), bool(dlamb_check==0))\n",
    "\n",
    "for ii in range(len(sus_func)):\n",
    "    dlamb_value = dlamb_value.subs(sus_func[ii])\n",
    "\n",
    "sus_func.extend([diff(lamb,r)==dlamb_value])"
   ]
  },
  {
   "cell_type": "markdown",
   "metadata": {},
   "source": [
    "## <center> $G_{11} = \\kappa T_{11}$ </center>\n"
   ]
  },
  {
   "cell_type": "code",
   "execution_count": 18,
   "metadata": {},
   "outputs": [
    {
     "data": {
      "text/html": [
       "<html>\\[\\newcommand{\\Bold}[1]{\\mathbf{#1}}\\nu' \\rightarrow \\mathrm{True}\\]</html>"
      ],
      "text/latex": [
       "$$\\newcommand{\\Bold}[1]{\\mathbf{#1}}\\nu' \\rightarrow \\mathrm{True}$$"
      ],
      "text/plain": [
       "\\nu' \\rightarrow True"
      ]
     },
     "metadata": {},
     "output_type": "display_data"
    }
   ],
   "source": [
    "dnu_value_11 = solve(G[1,1] - kappa*T[1,1] == 0, diff(nu, r))[0].rhs().simplify_full()\n",
    "dnu_paper = -(1-e^(lamb))/r + 8*pi*r*e^(lamb)*Psi0\n",
    "dnu_check_11 = dnu_value_11 - dnu_paper\n",
    "show(LatexExpr(\"\\\\nu' \\\\rightarrow\"), bool(dnu_check_11==0))\n",
    "\n",
    "for ii in range(len(sus_func)):\n",
    "    dnu_value_11 = dnu_value_11.subs(sus_func[ii])\n",
    "\n",
    "sus_func.extend([diff(nu,r)==dnu_value_11])"
   ]
  },
  {
   "cell_type": "code",
   "execution_count": 19,
   "metadata": {},
   "outputs": [],
   "source": [
    "#dnu_value_11 = solve(G[1,1] - kappa*T[1,1] == 0, diff(nu, r))[0].rhs().simplify_full()\n",
    "#ddnu_value_11 = diff(dnu_value_11,r).simplify_full()\n",
    "#show(ddnu_value_11)\n",
    "#for ii in range(len(sus_func)):\n",
    "#    ddnu_value_11 = ddnu_value_11.subs(sus_func[ii])\n",
    "#print(ddnu_value_11.simplify_full())\n",
    "#dnu_paper = -(1-e^(lamb))/r + 8*pi*r*e^(lamb)*Psi0\n",
    "#dnu_check_11 = dnu_value_11 - dnu_paper\n",
    "#show(LatexExpr(\"\\\\nu' \\\\rightarrow\"), bool(dnu_check_11==0))\n",
    "#\n",
    "#for ii in range(len(sus_func)):\n",
    "#    dnu_value_11 = dnu_value_11.subs(sus_func[ii])"
   ]
  },
  {
   "cell_type": "markdown",
   "metadata": {},
   "source": [
    "## <center> $G_{11} = \\kappa T_{11}$ y $G_{22} = \\kappa T_{22}$ </center>\n"
   ]
  },
  {
   "cell_type": "code",
   "execution_count": 20,
   "metadata": {
    "scrolled": true
   },
   "outputs": [
    {
     "data": {
      "text/html": [
       "<html>\\[\\newcommand{\\Bold}[1]{\\mathbf{#1}}\\nu'' \\rightarrow \\mathrm{True}\\]</html>"
      ],
      "text/latex": [
       "$$\\newcommand{\\Bold}[1]{\\mathbf{#1}}\\nu'' \\rightarrow \\mathrm{True}$$"
      ],
      "text/plain": [
       "\\nu'' \\rightarrow True"
      ]
     },
     "metadata": {},
     "output_type": "display_data"
    }
   ],
   "source": [
    "dnu_value_22 = solve(G[2,2] - kappa*T[2,2] == 0, diff(nu, r))[0].rhs().simplify_full()\n",
    "\n",
    "#Despejamos la raiz cuadrada de la ecuación\n",
    "dEq_1122 = -(dnu_value_11 - dnu_value_22 == 0)*e^(nu)*2*r\n",
    "dEq_1122 = dEq_1122 + sqrt(-256*pi*r^2*e^(lamb + 2*nu)*n0^2*diff(Lambdae,n2).subs(eps==0)\\\n",
    "                           -256*pi*r^2*e^(lamb + 2*nu)*p0^2*diff(Lambdae,p2).subs(eps==0)\\\n",
    "                           +r^2*e^(2*nu)*diff(lamb, r)^2\\\n",
    "                           -8*r^2*e^(2*nu)*diff(nu, r, r)\\\n",
    "                           +4*r*e^(2*nu)*diff(lamb, r)\\\n",
    "                           +4*(32*pi*r^2*Lambda0*e^lamb + 1)*e^(2*nu))\n",
    "\n",
    "ddnu_value = solve(dEq_1122^2, diff(nu,r,r))[0].rhs()\n",
    "ddnu_paper = 2*r*diff(nu,r,r) + diff(nu,r)*(r*diff(nu,r)-2)-diff(lamb,r)*(2+r*diff(nu,r))+4/r*(e^(lamb)-1) == 0\n",
    "ddnu_paper = solve(ddnu_paper, diff(nu,r,r))[0].rhs()\n",
    "ddnu_check = ddnu_value - ddnu_paper\n",
    "for ii in range(len(sus_func)):\n",
    "    ddnu_value = ddnu_value.subs(sus_func[ii])\n",
    "    ddnu_check = ddnu_check.subs(sus_func[ii])\n",
    "show(LatexExpr(\"\\\\nu'' \\\\rightarrow\"), bool(ddnu_check==0))\n",
    "\n",
    "sus_func.extend([diff(nu,r,r)==ddnu_value])"
   ]
  },
  {
   "cell_type": "markdown",
   "metadata": {},
   "source": [
    "# <center> $G^{\\prime}_{\\mu\\nu} = \\kappa T^{\\prime}_{\\mu\\nu}$ </center>"
   ]
  },
  {
   "cell_type": "code",
   "execution_count": 21,
   "metadata": {},
   "outputs": [],
   "source": [
    "dLambdaePsie = diff(LambdaePsie, eps)\n",
    "for ii in range(len(sus_func)):\n",
    "    dLambdaePsie = dLambdaePsie.subs(sus_func[ii])"
   ]
  },
  {
   "cell_type": "code",
   "execution_count": 22,
   "metadata": {},
   "outputs": [],
   "source": [
    "j = e^(-(lamb+nu)/2)\n",
    "M = r*(1-e^(-lamb))/2\n",
    "\n",
    "Lambda1 = function('Lambda1', latex_name='\\\\Lambda^{(1)}')(n2,p2,x2,r) ##\n",
    "sus_func.extend([diff(Lambdae,eps).subs(eps==0) == Lambda1])\n",
    "sus_func.extend([diff(Lambda1,r).subs(eps==0) == cadena(Lambda1, r)]) ##\n",
    "\n",
    "dG = copy(dGe)\n",
    "dT = copy(dTe)\n",
    "for ii in range(0,len(sus_func)):\n",
    "    dG = dG.subs(sus_func[ii])\n",
    "    dT = dT.subs(sus_func[ii])"
   ]
  },
  {
   "cell_type": "code",
   "execution_count": 23,
   "metadata": {},
   "outputs": [
    {
     "data": {
      "text/html": [
       "<html>\\[\\newcommand{\\Bold}[1]{\\mathbf{#1}}\\Lambda^{(1)} =  0 \\rightarrow \\mathrm{True}\\]</html>"
      ],
      "text/latex": [
       "$$\\newcommand{\\Bold}[1]{\\mathbf{#1}}\\Lambda^{(1)} =  0 \\rightarrow \\mathrm{True}$$"
      ],
      "text/plain": [
       "\\Lambda^{(1)} =  0 \\rightarrow True"
      ]
     },
     "metadata": {},
     "output_type": "display_data"
    }
   ],
   "source": [
    "dEq_00 = dG[0,0] - kappa*dT[0,0] == 0\n",
    "\n",
    "Lambda1_value = solve(dEq_00,Lambda1)[0].rhs().simplify_full()\n",
    "\n",
    "Lambda1_paper = 0\n",
    "Lambda1_check = Lambda1_value - Lambda1_paper\n",
    "\n",
    "show(LatexExpr(\"\\\\Lambda^{(1)} = \"), Lambda1_value, LatexExpr(\"\\\\rightarrow\"), bool(Lambda1_check==0))\n",
    "\n",
    "dG = dG.subs(Lambda1==Lambda1_value)\n",
    "dT = dT.subs(Lambda1==Lambda1_value)\n",
    "sus_func.extend([Lambda1==Lambda1_value])"
   ]
  },
  {
   "cell_type": "code",
   "execution_count": 27,
   "metadata": {},
   "outputs": [
    {
     "data": {
      "text/html": [
       "<html>\\[\\newcommand{\\Bold}[1]{\\mathbf{#1}}\\Psi^{(1)} =  0 \\rightarrow \\mathrm{True}\\]</html>"
      ],
      "text/latex": [
       "$$\\newcommand{\\Bold}[1]{\\mathbf{#1}}\\Psi^{(1)} =  0 \\rightarrow \\mathrm{True}$$"
      ],
      "text/plain": [
       "\\Psi^{(1)} =  0 \\rightarrow True"
      ]
     },
     "metadata": {},
     "output_type": "display_data"
    },
    {
     "data": {
      "text/html": [
       "<html>\\[\\newcommand{\\Bold}[1]{\\mathbf{#1}}-\\frac{p_0\\left(r\\right)^{2} \\mathrm{D}_{1, 3}\\left(\\Lambda_{\\varepsilon}\\right)\\left({n^2}, {p^2}, {x^2}, 0, r\\right)}{n_0\\left(r\\right)^{2}}\\]</html>"
      ],
      "text/latex": [
       "$$\\newcommand{\\Bold}[1]{\\mathbf{#1}}-\\frac{p_0\\left(r\\right)^{2} \\mathrm{D}_{1, 3}\\left(\\Lambda_{\\varepsilon}\\right)\\left({n^2}, {p^2}, {x^2}, 0, r\\right)}{n_0\\left(r\\right)^{2}}$$"
      ],
      "text/plain": [
       "-p0(r)^2*D[1, 3](Lambdae)(n2, p2, x2, 0, r)/n0(r)^2"
      ]
     },
     "metadata": {},
     "output_type": "display_data"
    },
    {
     "data": {
      "text/html": [
       "<html>\\[\\newcommand{\\Bold}[1]{\\mathbf{#1}}\\mathrm{D}_{0, 3}\\left(\\Lambda_{\\varepsilon}\\right)\\left({n^2}, {p^2}, {x^2}, 0, r\\right)\\]</html>"
      ],
      "text/latex": [
       "$$\\newcommand{\\Bold}[1]{\\mathbf{#1}}\\mathrm{D}_{0, 3}\\left(\\Lambda_{\\varepsilon}\\right)\\left({n^2}, {p^2}, {x^2}, 0, r\\right)$$"
      ],
      "text/plain": [
       "D[0, 3](Lambdae)(n2, p2, x2, 0, r)"
      ]
     },
     "metadata": {},
     "output_type": "display_data"
    }
   ],
   "source": [
    "dEq_11 = dG[1,1] - kappa*dT[1,1] == 0\n",
    "\n",
    "D03Lambdae = solve(dEq_11, diff(Lambdae, n2,eps).subs(eps==0))[0].rhs()\n",
    "sus_func.extend([diff(Lambdae, n2,eps).subs(eps==0) == D03Lambdae])\n",
    "\n",
    "Psi1_value = Lambda1 + dLambdaePsie\n",
    "for ii in range(len(sus_func)):\n",
    "    Psi1_value = Psi1_value.subs(sus_func[ii])\n",
    "\n",
    "Psi1_paper = 0\n",
    "Psi1_check = Psi1_value - Psi1_paper\n",
    "\n",
    "show(LatexExpr(\"\\\\Psi^{(1)} = \"), Psi1_value, LatexExpr(\"\\\\rightarrow\"), bool(Psi1_check==0))\n",
    "\n",
    "#Como en nuestras ecuaciones no tenemos Psi1, tenemos que sustituir la diferencia de Psi1 y Lambda1\n",
    "Psi1_subs = dLambdaePsie == 0\n",
    "Psi1_subs = solve(Psi1_subs, diff(Lambdae, n2, eps).subs(eps==0))[0].rhs()\n",
    "\n",
    "dG = dG.subs(diff(Lambdae, n2, eps).subs(eps==0)==Psi1_subs)\n",
    "dT = dT.subs(diff(Lambdae, n2, eps).subs(eps==0)==Psi1_subs)\n",
    "sus_func.extend([diff(Lambdae, n2, eps).subs(eps==0)==Psi1_subs])\n",
    "\n",
    "# ESTO NO ES 0=0?\n",
    "show(Psi1_subs)\n",
    "show(diff(Lambdae, n2, eps).subs(eps==0))"
   ]
  },
  {
   "cell_type": "code",
   "execution_count": 25,
   "metadata": {
    "scrolled": false
   },
   "outputs": [
    {
     "data": {
      "text/html": [
       "<html>\\[\\newcommand{\\Bold}[1]{\\mathbf{#1}}\\frac{4 \\, {\\left(8 \\, \\pi {\\Omega^{(1)}_{n}} r e^{\\lambda\\left(r\\right)} n_0\\left(r\\right)^{2} \\mathrm{D}_{0}\\left(\\Lambda_{\\varepsilon}\\right)\\left({n^2}, {p^2}, {x^2}, 0, r\\right) - 8 \\, \\pi r e^{\\lambda\\left(r\\right)} n_0\\left(r\\right)^{2} \\omega\\left(r\\right) \\mathrm{D}_{0}\\left(\\Lambda_{\\varepsilon}\\right)\\left({n^2}, {p^2}, {x^2}, 0, r\\right) + 8 \\, {\\left(\\pi {\\Omega^{(1)}_{p}} r e^{\\lambda\\left(r\\right)} \\mathrm{D}_{1}\\left(\\Lambda_{\\varepsilon}\\right)\\left({n^2}, {p^2}, {x^2}, 0, r\\right) - \\pi r e^{\\lambda\\left(r\\right)} \\omega\\left(r\\right) \\mathrm{D}_{1}\\left(\\Lambda_{\\varepsilon}\\right)\\left({n^2}, {p^2}, {x^2}, 0, r\\right)\\right)} p_0\\left(r\\right)^{2} - {\\left(2 \\, \\pi r^{2} e^{\\lambda\\left(r\\right)} n_0\\left(r\\right)^{2} \\mathrm{D}_{0}\\left(\\Lambda_{\\varepsilon}\\right)\\left({n^2}, {p^2}, {x^2}, 0, r\\right) + 2 \\, \\pi r^{2} e^{\\lambda\\left(r\\right)} p_0\\left(r\\right)^{2} \\mathrm{D}_{1}\\left(\\Lambda_{\\varepsilon}\\right)\\left({n^2}, {p^2}, {x^2}, 0, r\\right) + 1\\right)} \\frac{\\partial}{\\partial r}\\omega\\left(r\\right)\\right)}}{r}\\]</html>"
      ],
      "text/latex": [
       "$$\\newcommand{\\Bold}[1]{\\mathbf{#1}}\\frac{4 \\, {\\left(8 \\, \\pi {\\Omega^{(1)}_{n}} r e^{\\lambda\\left(r\\right)} n_0\\left(r\\right)^{2} \\mathrm{D}_{0}\\left(\\Lambda_{\\varepsilon}\\right)\\left({n^2}, {p^2}, {x^2}, 0, r\\right) - 8 \\, \\pi r e^{\\lambda\\left(r\\right)} n_0\\left(r\\right)^{2} \\omega\\left(r\\right) \\mathrm{D}_{0}\\left(\\Lambda_{\\varepsilon}\\right)\\left({n^2}, {p^2}, {x^2}, 0, r\\right) + 8 \\, {\\left(\\pi {\\Omega^{(1)}_{p}} r e^{\\lambda\\left(r\\right)} \\mathrm{D}_{1}\\left(\\Lambda_{\\varepsilon}\\right)\\left({n^2}, {p^2}, {x^2}, 0, r\\right) - \\pi r e^{\\lambda\\left(r\\right)} \\omega\\left(r\\right) \\mathrm{D}_{1}\\left(\\Lambda_{\\varepsilon}\\right)\\left({n^2}, {p^2}, {x^2}, 0, r\\right)\\right)} p_0\\left(r\\right)^{2} - {\\left(2 \\, \\pi r^{2} e^{\\lambda\\left(r\\right)} n_0\\left(r\\right)^{2} \\mathrm{D}_{0}\\left(\\Lambda_{\\varepsilon}\\right)\\left({n^2}, {p^2}, {x^2}, 0, r\\right) + 2 \\, \\pi r^{2} e^{\\lambda\\left(r\\right)} p_0\\left(r\\right)^{2} \\mathrm{D}_{1}\\left(\\Lambda_{\\varepsilon}\\right)\\left({n^2}, {p^2}, {x^2}, 0, r\\right) + 1\\right)} \\frac{\\partial}{\\partial r}\\omega\\left(r\\right)\\right)}}{r}$$"
      ],
      "text/plain": [
       "4*(8*pi*Omegan1*r*e^lamb(r)*n0(r)^2*D[0](Lambdae)(n2, p2, x2, 0, r) - 8*pi*r*e^lamb(r)*n0(r)^2*omega(r)*D[0](Lambdae)(n2, p2, x2, 0, r) + 8*(pi*Omegap1*r*e^lamb(r)*D[1](Lambdae)(n2, p2, x2, 0, r) - pi*r*e^lamb(r)*omega(r)*D[1](Lambdae)(n2, p2, x2, 0, r))*p0(r)^2 - (2*pi*r^2*e^lamb(r)*n0(r)^2*D[0](Lambdae)(n2, p2, x2, 0, r) + 2*pi*r^2*e^lamb(r)*p0(r)^2*D[1](Lambdae)(n2, p2, x2, 0, r) + 1)*diff(omega(r), r))/r"
      ]
     },
     "metadata": {},
     "output_type": "display_data"
    },
    {
     "data": {
      "text/html": [
       "<html>\\[\\newcommand{\\Bold}[1]{\\mathbf{#1}}\\frac{4 \\, {\\left(8 \\, \\pi {\\Omega^{(1)}_{n}} r e^{\\lambda\\left(r\\right)} n_0\\left(r\\right)^{2} \\mathrm{D}_{0}\\left(\\Lambda_{\\varepsilon}\\right)\\left({n^2}, {p^2}, {x^2}, 0, r\\right) - 8 \\, \\pi r e^{\\lambda\\left(r\\right)} n_0\\left(r\\right)^{2} \\omega\\left(r\\right) \\mathrm{D}_{0}\\left(\\Lambda_{\\varepsilon}\\right)\\left({n^2}, {p^2}, {x^2}, 0, r\\right) - 4 \\, {\\left(\\pi {\\Omega^{(1)}_{n}} - \\pi {\\Omega^{(1)}_{p}}\\right)} r e^{\\lambda\\left(r\\right)} n_0\\left(r\\right) p_0\\left(r\\right) \\mathrm{D}_{2}\\left(\\Lambda_{\\varepsilon}\\right)\\left({n^2}, {p^2}, {x^2}, 0, r\\right) + 8 \\, {\\left(\\pi {\\Omega^{(1)}_{p}} r e^{\\lambda\\left(r\\right)} \\mathrm{D}_{1}\\left(\\Lambda_{\\varepsilon}\\right)\\left({n^2}, {p^2}, {x^2}, 0, r\\right) - \\pi r e^{\\lambda\\left(r\\right)} \\omega\\left(r\\right) \\mathrm{D}_{1}\\left(\\Lambda_{\\varepsilon}\\right)\\left({n^2}, {p^2}, {x^2}, 0, r\\right)\\right)} p_0\\left(r\\right)^{2} - {\\left(2 \\, \\pi r^{2} e^{\\lambda\\left(r\\right)} n_0\\left(r\\right)^{2} \\mathrm{D}_{0}\\left(\\Lambda_{\\varepsilon}\\right)\\left({n^2}, {p^2}, {x^2}, 0, r\\right) + 2 \\, \\pi r^{2} e^{\\lambda\\left(r\\right)} p_0\\left(r\\right)^{2} \\mathrm{D}_{1}\\left(\\Lambda_{\\varepsilon}\\right)\\left({n^2}, {p^2}, {x^2}, 0, r\\right) + 1\\right)} \\frac{\\partial}{\\partial r}\\omega\\left(r\\right)\\right)}}{r}\\]</html>"
      ],
      "text/latex": [
       "$$\\newcommand{\\Bold}[1]{\\mathbf{#1}}\\frac{4 \\, {\\left(8 \\, \\pi {\\Omega^{(1)}_{n}} r e^{\\lambda\\left(r\\right)} n_0\\left(r\\right)^{2} \\mathrm{D}_{0}\\left(\\Lambda_{\\varepsilon}\\right)\\left({n^2}, {p^2}, {x^2}, 0, r\\right) - 8 \\, \\pi r e^{\\lambda\\left(r\\right)} n_0\\left(r\\right)^{2} \\omega\\left(r\\right) \\mathrm{D}_{0}\\left(\\Lambda_{\\varepsilon}\\right)\\left({n^2}, {p^2}, {x^2}, 0, r\\right) - 4 \\, {\\left(\\pi {\\Omega^{(1)}_{n}} - \\pi {\\Omega^{(1)}_{p}}\\right)} r e^{\\lambda\\left(r\\right)} n_0\\left(r\\right) p_0\\left(r\\right) \\mathrm{D}_{2}\\left(\\Lambda_{\\varepsilon}\\right)\\left({n^2}, {p^2}, {x^2}, 0, r\\right) + 8 \\, {\\left(\\pi {\\Omega^{(1)}_{p}} r e^{\\lambda\\left(r\\right)} \\mathrm{D}_{1}\\left(\\Lambda_{\\varepsilon}\\right)\\left({n^2}, {p^2}, {x^2}, 0, r\\right) - \\pi r e^{\\lambda\\left(r\\right)} \\omega\\left(r\\right) \\mathrm{D}_{1}\\left(\\Lambda_{\\varepsilon}\\right)\\left({n^2}, {p^2}, {x^2}, 0, r\\right)\\right)} p_0\\left(r\\right)^{2} - {\\left(2 \\, \\pi r^{2} e^{\\lambda\\left(r\\right)} n_0\\left(r\\right)^{2} \\mathrm{D}_{0}\\left(\\Lambda_{\\varepsilon}\\right)\\left({n^2}, {p^2}, {x^2}, 0, r\\right) + 2 \\, \\pi r^{2} e^{\\lambda\\left(r\\right)} p_0\\left(r\\right)^{2} \\mathrm{D}_{1}\\left(\\Lambda_{\\varepsilon}\\right)\\left({n^2}, {p^2}, {x^2}, 0, r\\right) + 1\\right)} \\frac{\\partial}{\\partial r}\\omega\\left(r\\right)\\right)}}{r}$$"
      ],
      "text/plain": [
       "4*(8*pi*Omegan1*r*e^lamb(r)*n0(r)^2*D[0](Lambdae)(n2, p2, x2, 0, r) - 8*pi*r*e^lamb(r)*n0(r)^2*omega(r)*D[0](Lambdae)(n2, p2, x2, 0, r) - 4*(pi*Omegan1 - pi*Omegap1)*r*e^lamb(r)*n0(r)*p0(r)*D[2](Lambdae)(n2, p2, x2, 0, r) + 8*(pi*Omegap1*r*e^lamb(r)*D[1](Lambdae)(n2, p2, x2, 0, r) - pi*r*e^lamb(r)*omega(r)*D[1](Lambdae)(n2, p2, x2, 0, r))*p0(r)^2 - (2*pi*r^2*e^lamb(r)*n0(r)^2*D[0](Lambdae)(n2, p2, x2, 0, r) + 2*pi*r^2*e^lamb(r)*p0(r)^2*D[1](Lambdae)(n2, p2, x2, 0, r) + 1)*diff(omega(r), r))/r"
      ]
     },
     "metadata": {},
     "output_type": "display_data"
    },
    {
     "data": {
      "text/html": [
       "<html>\\[\\newcommand{\\Bold}[1]{\\mathbf{#1}}\\mathrm{False}\\]</html>"
      ],
      "text/latex": [
       "$$\\newcommand{\\Bold}[1]{\\mathbf{#1}}\\mathrm{False}$$"
      ],
      "text/plain": [
       "False"
      ]
     },
     "metadata": {},
     "output_type": "display_data"
    },
    {
     "data": {
      "text/html": [
       "<html>\\[\\newcommand{\\Bold}[1]{\\mathbf{#1}}\\omega'' =  16 \\, {\\left(\\pi {\\Omega^{(1)}_{n}} - \\pi {\\Omega^{(1)}_{p}}\\right)} e^{\\lambda\\left(r\\right)} n_0\\left(r\\right) p_0\\left(r\\right) \\mathrm{D}_{2}\\left(\\Lambda_{\\varepsilon}\\right)\\left({n^2}, {p^2}, {x^2}, 0, r\\right)\\]</html>"
      ],
      "text/latex": [
       "$$\\newcommand{\\Bold}[1]{\\mathbf{#1}}\\omega'' =  16 \\, {\\left(\\pi {\\Omega^{(1)}_{n}} - \\pi {\\Omega^{(1)}_{p}}\\right)} e^{\\lambda\\left(r\\right)} n_0\\left(r\\right) p_0\\left(r\\right) \\mathrm{D}_{2}\\left(\\Lambda_{\\varepsilon}\\right)\\left({n^2}, {p^2}, {x^2}, 0, r\\right)$$"
      ],
      "text/plain": [
       "\\omega'' =  16*(pi*Omegan1 - pi*Omegap1)*e^lamb(r)*n0(r)*p0(r)*D[2](Lambdae)(n2, p2, x2, 0, r)"
      ]
     },
     "metadata": {},
     "output_type": "display_data"
    }
   ],
   "source": [
    "dEq_03 = dG[0,3] - kappa*dT[0,3] == 0\n",
    "\n",
    "ddomega_value = solve(dEq_03, diff(omega,r,r))[0].rhs().simplify_full()\n",
    "\n",
    "Ln = (omega - Omegan1)*eps\n",
    "chi0 = C*p + A*n\n",
    "\n",
    "ddomega_paper = 1/r^4*diff(r^4*e^(-(lamb+nu)/2)*diff(Ln,r),r)\\\n",
    "                -16*pi*e^((lamb-nu)/2)*(Psi0-Lambda0)*Ln\\\n",
    "                -16*pi*e^((lamb-nu)/2)*chi0*p0*(Omegan1-Omegap1)*eps == 0\n",
    "\n",
    "ddomega_paper = solve(ddomega_paper, diff(omega,r,r))[0].rhs().simplify_full()\n",
    "\n",
    "for ii in range(len(sus_func)):\n",
    "    ddomega_value = ddomega_value.subs(sus_func[ii])\n",
    "    ddomega_paper = ddomega_paper.subs(sus_func[ii])\n",
    "\n",
    "ddomega_check = ddomega_value - ddomega_paper\n",
    "for ii in range(len(sus_func)):\n",
    "    ddomega_value = ddomega_value.subs(sus_func[ii])\n",
    "    ddomega_paper = ddomega_paper.subs(sus_func[ii])\n",
    "    ddomega_check = ddomega_check.subs(sus_func[ii])\n",
    "\n",
    "show(ddomega_value.simplify_full())\n",
    "show(ddomega_paper.simplify_full())\n",
    "show(bool(ddomega_check==0))\n",
    "\n",
    "show(LatexExpr(\"\\\\omega'' = \"), ddomega_check.simplify_full())\n",
    "\n",
    "#sus_func.extend([diff(omega,r,r)==ddomega_value])"
   ]
  },
  {
   "cell_type": "markdown",
   "metadata": {},
   "source": [
    "# <center> $G^{\\prime\\prime}_{\\mu\\nu} = \\kappa T^{\\prime\\prime}_{\\mu\\nu}$ </center>"
   ]
  },
  {
   "cell_type": "code",
   "execution_count": null,
   "metadata": {},
   "outputs": [],
   "source": [
    "ddLambdaePsie = diff(LambdaePsie, eps, eps)\n",
    "for ii in range(len(sus_func)):\n",
    "    ddLambdaePsie = ddLambdaePsie.subs(sus_func[ii])"
   ]
  },
  {
   "cell_type": "code",
   "execution_count": null,
   "metadata": {},
   "outputs": [],
   "source": [
    "Lambda2 = function('Lambda2', latex_name='\\\\Lambda^{(2)}')(n2,p2,x2)\n",
    "\n",
    "sus_func.extend([diff(Lambdae,eps,eps).subs(eps==0) == Lambda2])\n",
    "\n",
    "ddG = copy(ddGe)\n",
    "ddT = copy(ddTe)\n",
    "for ii in range(len(sus_func)):\n",
    "    ddG = ddG.subs(sus_func[ii])\n",
    "    ddT = ddT.subs(sus_func[ii])"
   ]
  },
  {
   "cell_type": "code",
   "execution_count": null,
   "metadata": {},
   "outputs": [],
   "source": []
  },
  {
   "cell_type": "code",
   "execution_count": null,
   "metadata": {},
   "outputs": [],
   "source": []
  },
  {
   "cell_type": "code",
   "execution_count": null,
   "metadata": {},
   "outputs": [],
   "source": []
  },
  {
   "cell_type": "code",
   "execution_count": null,
   "metadata": {},
   "outputs": [],
   "source": [
    "sys.exit()"
   ]
  },
  {
   "cell_type": "markdown",
   "metadata": {},
   "source": [
    "## <center> Descomposición en $P_l(\\cos(\\theta))$ </center>"
   ]
  },
  {
   "cell_type": "code",
   "execution_count": null,
   "metadata": {},
   "outputs": [],
   "source": [
    "# FALTA ECUACIÓN 31 DE ETA Y PHI"
   ]
  },
  {
   "cell_type": "code",
   "execution_count": null,
   "metadata": {},
   "outputs": [],
   "source": [
    "h0 = function('h0', latex_name='h_0')(r)\n",
    "v0 = function('v0', latex_name='v_0')(r)\n",
    "\n",
    "h2 = function('h2', latex_name='h_2')(r)\n",
    "k2 = function('k2', latex_name='k_2')(r)\n",
    "v2 = function('v2', latex_name='v_2')(r)\n",
    "\n",
    "Lambda20 = function('Lambda20', latex_name='\\\\Lambda_{0}^{(2)}')(n2,p2,x2)\n",
    "Lambda22 = function('Lambda22', latex_name='\\\\Lambda_{2}^{(2)}')(n2,p2,x2)\n",
    "\n",
    "LP1 = function('LP1', latex_name='LP_1')(th)\n",
    "LP2 = function('LP2', latex_name='LP_2')(th)\n",
    "\n",
    "lp2 = (3*cos(th)^2-1)/2"
   ]
  },
  {
   "cell_type": "code",
   "execution_count": null,
   "metadata": {},
   "outputs": [],
   "source": [
    "sus_descomp = [v==v0+v2*lp2,\n",
    "               diff(v,r)==diff(v0+v2*lp2,r),\n",
    "               diff(v,r,r)==diff(v0+v2*lp2,r,r),\n",
    "               diff(v,th)==diff(v0+v2*lp2,th),\n",
    "               diff(v,th,th)==diff(v0+v2*lp2,th,th),\n",
    "               diff(v,th,r)==diff(v0+v2*lp2,th,r),\n",
    "               diff(v,r,th)==diff(v0+v2*lp2,r,th),\n",
    "               k==k2*lp2,\n",
    "               diff(k,r)==diff(k2*lp2,r),\n",
    "               diff(k,r,r)==diff(k2*lp2,r,r),\n",
    "               diff(k,th)==diff(k2*lp2,th),\n",
    "               diff(k,th,th)==diff(k2*lp2,th,th),\n",
    "               diff(k,th,r)==diff(k2*lp2,th,r),\n",
    "               diff(k,r,th)==diff(k2*lp2,r,th),\n",
    "               h==h0+h2*lp2,\n",
    "               diff(h,r)==diff(h0+h2*lp2,r),\n",
    "               diff(h,r,r)==diff(h0+h2*lp2,r,r),\n",
    "               diff(h,th)==diff(h0+h2*lp2,th),\n",
    "               diff(h,th,th)==diff(h0+h2*lp2,th,th),\n",
    "               diff(h,th,r)==diff(h0+h2*lp2,th,r),\n",
    "               diff(h,r,th)==diff(h0+h2*lp2,r,th),\n",
    "               Lambda2==Lambda20+Lambda22*lp2,\n",
    "               diff(Lambda2,r)==diff(Lambda20+Lambda22*lp2,r),\n",
    "               diff(Lambda2,r,r)==diff(Lambda20+Lambda22*lp2,r,r),\n",
    "               diff(Lambda2,th)==diff(Lambda20+Lambda22*lp2,th),\n",
    "               diff(Lambda2,th,th)==diff(Lambda20+Lambda22*lp2,th,th),\n",
    "               diff(Lambda2,th,r)==diff(Lambda20+Lambda22*lp2,th,r),\n",
    "               diff(Lambda2,r,th)==diff(Lambda20+Lambda22*lp2,r,th),\n",
    "               Psi2==Psi20+Psi22*lp2,\n",
    "               diff(Psi2,r)==diff(Psi20+Psi22*lp2,r),\n",
    "               diff(Psi2,r,r)==diff(Psi20+Psi22*lp2,r,r),\n",
    "               diff(Psi2,th)==diff(Psi20+Psi22*lp2,th),\n",
    "               diff(Psi2,th,th)==diff(Psi20+Psi22*lp2,th,th),\n",
    "               diff(Psi2,th,r)==diff(Psi20+Psi22*lp2,th,r),\n",
    "               diff(Psi2,r,th)==diff(Psi20+Psi22*lp2,r,th)]\n",
    "\n",
    "for ii in range(0,len(sus_descomp)):\n",
    "    ddG = ddG.subs(sus_descomp[ii])\n",
    "    ddT = ddT.subs(sus_descomp[ii])\n",
    "\n",
    "ddG = ddG.simplify_full()\n",
    "ddT = ddT.simplify_full()"
   ]
  },
  {
   "cell_type": "code",
   "execution_count": null,
   "metadata": {},
   "outputs": [],
   "source": [
    "sus_legendre = [sin(th)^2 == (2/3)*(1-LP2),\n",
    "                cos(th)^2 == (2*LP2+1)/3,\n",
    "                cos(th) == LP1]"
   ]
  },
  {
   "cell_type": "markdown",
   "metadata": {},
   "source": [
    "### <center> $\\boxed{l=0}$ </center>"
   ]
  },
  {
   "cell_type": "markdown",
   "metadata": {},
   "source": [
    "### <center> $G^{\\prime\\prime}_{00} = \\kappa T^{\\prime\\prime}_{00}$ </center>"
   ]
  },
  {
   "cell_type": "code",
   "execution_count": null,
   "metadata": {},
   "outputs": [],
   "source": [
    "ddEq_00 = ddG[0,0] - kappa*ddT[0,0] == 0\n",
    "show(ddEq_00)\n",
    "Lambda20_value_00 = solve(ddEq_00,Lambda20)[0].rhs().simplify_full()\n",
    "\n",
    "show(Lambda20_value_00)"
   ]
  },
  {
   "cell_type": "code",
   "execution_count": null,
   "metadata": {
    "scrolled": false
   },
   "outputs": [],
   "source": [
    "ddEq_00 = ddG[0,0] - kappa*ddT[0,0] == 0\n",
    "Lambda20_value_00 = solve(ddEq_00,Lambda20)[0].rhs().simplify_full()\n",
    "\n",
    "for ii in range(0,len(sus_legendre)):\n",
    "    E20_value_00 = E20_value_00.subs(sus_legendre[ii])\n",
    "\n",
    "E20_value_00 = E20_value_00.subs(LP1==0).subs(LP2==0).simplify_full()\n",
    "\n",
    "ddG = ddG.subs(E20==E20_value_00)\n",
    "ddT = ddT.subs(E20==E20_value_00)\n",
    "sus_func.extend([E20==E20_value_00])\n",
    "    \n",
    "E20_paper = (4/r^2*diff(r*e^(-lamb)*v0,r)\\\n",
    "             +8/3*r*j*diff(j,r)*(omega-Omega1)^2\\\n",
    "             -1/3*j^2*r^2*diff(omega,r)^2)/(8*pi)\n",
    "\n",
    "E20_check = E20_value_00 - E20_paper\n",
    "\n",
    "show(LatexExpr(\"E^{(2)}_0 \\\\rightarrow\"), bool(E20_check==0))"
   ]
  },
  {
   "cell_type": "markdown",
   "metadata": {},
   "source": [
    "### <center> $G^{\\prime\\prime}_{11} = \\kappa T^{\\prime\\prime}_{11}$ </center>"
   ]
  },
  {
   "cell_type": "code",
   "execution_count": null,
   "metadata": {},
   "outputs": [],
   "source": [
    "ddEq_11 = ddG[1,1] - kappa*ddT[1,1] == 0\n",
    "P20_value = solve(ddEq_11,P20)[0].rhs().simplify_full()\n",
    "\n",
    "for ii in range(0,len(sus_legendre)):\n",
    "    P20_value = P20_value.subs(sus_legendre[ii])\n",
    "    \n",
    "P20_value = P20_value.subs(LP1==0).subs(LP2==0).simplify_full()\n",
    "dP20_value = diff(P20_value,r)\n",
    "for ii in range(0,len(sus_func)):\n",
    "    dP20_value = dP20_value.subs(sus_func[ii])\n",
    "    \n",
    "ddG = ddG.subs(diff(P20,r)==dP20_value).subs(P20==P20_value)\n",
    "ddT = ddT.subs(diff(P20,r)==dP20_value).subs(P20==P20_value)\n",
    "sus_func.extend([diff(P20,r)==dP20_value,\n",
    "                 P20==P20_value])\n",
    "\n",
    "P20_paper = (4/r^2*(r*e^(-lamb)*diff(h0,r)-v0*(8*pi*r^2*P+1))\\\n",
    "             +1/3*r^2*j^2*diff(omega,r)^2)/(8*pi)\n",
    "\n",
    "for ii in range(0,len(sus_func)):\n",
    "    P20_paper = P20_paper.subs(sus_func[ii])\n",
    "\n",
    "P20_check = P20_value - P20_paper\n",
    "\n",
    "show(LatexExpr(\"P^{(2)}_0 \\\\rightarrow\"), bool(P20_check==0))"
   ]
  },
  {
   "cell_type": "markdown",
   "metadata": {},
   "source": [
    "### <center> $G^{\\prime\\prime}_{22} = \\kappa T^{\\prime\\prime}_{22}$    y    $G^{\\prime\\prime}_{33} = \\kappa T^{\\prime\\prime}_{33}$ </center>"
   ]
  },
  {
   "cell_type": "code",
   "execution_count": null,
   "metadata": {},
   "outputs": [],
   "source": [
    "ddEq_22 = ddG[2,2] - kappa*ddT[2,2] == 0\n",
    "ddh0_value_22 = solve(ddEq_22,diff(h0,r,r))[0].rhs().simplify_full()\n",
    "\n",
    "ddEq_33 = ddG[3,3] - kappa*ddT[3,3] == 0\n",
    "ddh0_value_33 = solve(ddEq_33,diff(h0,r,r))[0].rhs().simplify_full()\n",
    "\n",
    "for ii in range(0,len(sus_legendre)):\n",
    "    ddh0_value_22 = ddh0_value_22.subs(sus_legendre[ii])\n",
    "    ddh0_value_33 = ddh0_value_33.subs(sus_legendre[ii])\n",
    "\n",
    "ddh0_value_22 = ddh0_value_22.subs(LP1==0).subs(LP2==0).simplify_full()\n",
    "ddh0_value_33 = ddh0_value_33.subs(LP1==0).subs(LP2==0).simplify_full()\n",
    "\n",
    "ddG = ddG.subs(diff(h0,r,r)==ddh0_value_22)\n",
    "ddT = ddT.subs(diff(h0,r,r)==ddh0_value_22)\n",
    "sus_func.extend([diff(h0,r,r)==ddh0_value_22])\n",
    "\n",
    "v2h2 = ddh0_value_22 - ddh0_value_33 == 0\n",
    "v2_value = solve(v2h2,v2)[0].rhs().simplify_full()\n",
    "\n",
    "v2_paper = 1/6*r^4*j^2*diff(omega,r)^2\\\n",
    "          -1/3*r^3*diff(j^2,r)*(omega-Omega1)^2\\\n",
    "          -h2\n",
    "\n",
    "dv2_value = diff(v2_value,r)\n",
    "ddv2_value = diff(v2_value,r,r)\n",
    "for ii in range(0,len(sus_func)):\n",
    "    dv2_value = dv2_value.subs(sus_func[ii])\n",
    "    ddv2_value = ddv2_value.subs(sus_func[ii])\n",
    "    v2_paper = v2_paper.subs(sus_func[ii])\n",
    "\n",
    "ddG = ddG.subs(diff(v2,r,r)==ddv2_value).subs(diff(v2,r)==dv2_value).subs(v2==v2_value)\n",
    "ddT = ddT.subs(diff(v2,r,r)==ddv2_value).subs(diff(v2,r)==dv2_value).subs(v2==v2_value)\n",
    "sus_func.extend([diff(v2,r,r)==ddv2_value,\n",
    "                 diff(v2,r)==dv2_value,\n",
    "                 v2==v2_value])\n",
    "\n",
    "v2_check = v2_value - v2_paper\n",
    "\n",
    "show(LatexExpr(\"v_2 \\\\rightarrow\"), bool(v2_check==0))"
   ]
  },
  {
   "cell_type": "markdown",
   "metadata": {},
   "source": [
    "### <center> Barotropic equation of state </center>"
   ]
  },
  {
   "cell_type": "code",
   "execution_count": null,
   "metadata": {
    "scrolled": true
   },
   "outputs": [],
   "source": [
    "EOS = E2*diff(P,r) - P2*diff(E,r) == 0\n",
    "\n",
    "for ii in range(0,len(sus_descomp)):\n",
    "    EOS = EOS.subs(sus_descomp[ii])\n",
    "EOS = EOS.simplify_full()\n",
    "\n",
    "for ii in range(0,len(sus_legendre)):\n",
    "    EOS = EOS.subs(sus_legendre[ii])\n",
    "\n",
    "EOS = EOS.subs(LP1==0).subs(LP2==0)\n",
    "\n",
    "PT0 = P20/(2*(E+P))\n",
    "\n",
    "E20_value_EOS = solve(EOS, E20)[0].rhs()\n",
    "\n",
    "dv0_value = E20_value_EOS - E20_value_00 == 0\n",
    "dv0_value = solve(dv0_value, diff(v0,r))[0].rhs()\n",
    "\n",
    "dv0_paper = - diff(r*e^(-lamb)*v0,r)\\\n",
    "            + 4*pi*r^2*diff(E,r)/diff(P,r)*(E+P)*PT0\\\n",
    "            + 1/12*j^2*r^4*diff(omega,r)^2\\\n",
    "            - 2/3*r^3*j*diff(j,r)*(omega-Omega1)^2  == 0\n",
    "\n",
    "dv0_paper = solve(dv0_paper, diff(v0,r))[0].rhs()\n",
    "\n",
    "ddv0_value = diff(dv0_value,r)\n",
    "for ii in range(0,len(sus_func)):\n",
    "    dv0_value = dv0_value.subs(sus_func[ii])\n",
    "    ddv0_value = ddv0_value.subs(sus_func[ii])\n",
    "    dv0_paper = dv0_paper.subs(sus_func[ii])\n",
    "    \n",
    "ddG = ddG.subs(diff(v0,r,r)==diff(dv0_value,r)).subs(diff(v0,r)==dv0_value)\n",
    "ddT = ddT.subs(diff(v0,r,r)==diff(dv0_value,r)).subs(diff(v0,r)==dv0_value)\n",
    "sus_func.extend([diff(v0,r,r)==diff(dv0_value,r),\n",
    "                 diff(v0,r)==dv0_value])\n",
    "\n",
    "dv0_check = dv0_value - dv0_paper\n",
    "show(LatexExpr(\"v_{0}' \\\\rightarrow\"), bool(dv0_check==0))"
   ]
  },
  {
   "cell_type": "markdown",
   "metadata": {},
   "source": [
    "### <center> Ecuación 62 </center>"
   ]
  },
  {
   "cell_type": "code",
   "execution_count": null,
   "metadata": {},
   "outputs": [],
   "source": [
    "eq_62 = diff(PT0, r)\\\n",
    "        + 4*pi*(E+P)*r^2*PT0/(r-2*M)\\\n",
    "        + (r*e^(-lamb)*v0)*r^2/(r-2*M)^2*(8*pi*P+1/r^2)\\\n",
    "        - r^4*j^2/(12*(r-2*M))*diff(omega,r)^2\\\n",
    "        - 1/3*diff((r^3*j^2*(omega-Omega1)^2)/(r-2*M),r)\n",
    "\n",
    "for ii in range(0,len(sus_func)):\n",
    "    eq_62 = eq_62.subs(sus_func[ii])\n",
    "\n",
    "show(LatexExpr(\"\\\\text{Ecuación (62) }\\\\rightarrow\"), bool(eq_62==0))"
   ]
  },
  {
   "cell_type": "markdown",
   "metadata": {},
   "source": [
    "### <center> Ecuación 64 </center>"
   ]
  },
  {
   "cell_type": "code",
   "execution_count": null,
   "metadata": {},
   "outputs": [],
   "source": [
    "eq_64 = PT0+h0-1/3*r^2*e^(-nu)*(omega-Omega1)^2\n",
    "deq_64 = diff(eq_64, r)\n",
    "for ii in range(0,len(sus_func)):\n",
    "    deq_64 = deq_64.subs(sus_func[ii])\n",
    "\n",
    "show(LatexExpr(\"\\\\text{Ecuación (64) }\\\\rightarrow\"), bool(deq_64==0))"
   ]
  },
  {
   "cell_type": "markdown",
   "metadata": {},
   "source": [
    "### <center> $\\boxed{l=2}$ </center>"
   ]
  },
  {
   "cell_type": "markdown",
   "metadata": {},
   "source": [
    "### <center> $G^{\\prime\\prime}_{22} = \\kappa T^{\\prime\\prime}_{22}$    y    $G^{\\prime\\prime}_{33} = \\kappa T^{\\prime\\prime}_{33}$ </center>"
   ]
  },
  {
   "cell_type": "code",
   "execution_count": null,
   "metadata": {},
   "outputs": [],
   "source": [
    "ddEq_22 = (ddG[2,2]-kappa*ddT[2,2] == 0).simplify_full()\n",
    "ddEq_33 = ((ddG[3,3]-kappa*ddT[3,3] == 0)/sin(th)^2).simplify_full()\n",
    "\n",
    "for ii in range(0,len(sus_legendre)):\n",
    "    ddEq_22 = ddEq_22.subs(sus_legendre[ii])\n",
    "    ddEq_33 = ddEq_33.subs(sus_legendre[ii])\n",
    "\n",
    "ddEq_22 = (ddEq_22.subs(LP1==0) - ddEq_22.subs(LP1==0).subs(LP2==0))/LP2\n",
    "P22_value_22 = solve(ddEq_22, P22)[0].rhs().simplify_full()\n",
    "\n",
    "ddEq_33 = (ddEq_33.subs(LP1==0) - ddEq_33.subs(LP1==0).subs(LP2==0))/LP2\n",
    "P22_value_33 = solve(ddEq_33, P22)[0].rhs().simplify_full()\n",
    "\n",
    "for ii in range(0,len(sus_func)):\n",
    "    P22_value_22 = P22_value_22.subs(sus_func[ii])\n",
    "    P22_value_33 = P22_value_33.subs(sus_func[ii])\n",
    "    \n",
    "P22_value_22 = P22_value_22.simplify_full()\n",
    "P22_value_33 = P22_value_33.simplify_full()\n",
    "\n",
    "P22_check_22_33 = P22_value_22 - P22_value_33\n",
    "\n",
    "show(LatexExpr(\"P^{(2)}_2\\lvert_{\\\\theta\\\\theta}=P^{(2)}_2\\lvert_{\\\\phi\\\\phi}\\\\rightarrow\"), bool(P22_check_22_33==0))"
   ]
  },
  {
   "cell_type": "markdown",
   "metadata": {},
   "source": [
    "### <center> $G^{\\prime\\prime}_{00} = \\kappa T^{\\prime\\prime}_{00}$ </center>"
   ]
  },
  {
   "cell_type": "code",
   "execution_count": null,
   "metadata": {
    "scrolled": true
   },
   "outputs": [],
   "source": [
    "ddEq_00 = (ddG[0,0] - kappa*ddT[0,0] == 0).simplify_full()\n",
    "\n",
    "for ii in range(0,len(sus_legendre)):\n",
    "    ddEq_00 = ddEq_00.subs(sus_legendre[ii])\n",
    "\n",
    "ddEq_00 = ddEq_00.simplify_full()\n",
    "ddEq_00 = (ddEq_00.subs(LP1==0) - ddEq_00.subs(LP1==0).subs(LP2==0))/LP2\n",
    "\n",
    "E22_value_00 = solve(ddEq_00,E22)[0].rhs()\n",
    "for ii in range(0,len(sus_func)):\n",
    "    E22_value_00 = E22_value_00.subs(sus_func[ii])\n",
    "E22_value_00 = E22_value_00.simplify_full()\n",
    "\n",
    "ddE22_value_00 = diff(E22_value_00,r,r)\n",
    "dE22_value_00 = diff(E22_value_00,r)\n",
    "for ii in range(0,len(sus_func)):\n",
    "    ddE22_value_00 = ddE22_value_00.subs(sus_func[ii])\n",
    "    dE22_value_00 = dE22_value_00.subs(sus_func[ii])\n",
    "\n",
    "ddG = ddG.subs(diff(E22,r,r)==ddE22_value_00).subs(diff(E22,r)==dE22_value_00).subs(E22==E22_value_00)\n",
    "ddT = ddT.subs(diff(E22,r,r)==ddE22_value_00).subs(diff(E22,r)==dE22_value_00).subs(E22==E22_value_00)\n",
    "sus_func.extend([diff(E22,r,r)==ddE22_value_00,\n",
    "                 diff(E22,r)==dE22_value_00,\n",
    "                 E22==E22_value_00])"
   ]
  },
  {
   "cell_type": "markdown",
   "metadata": {},
   "source": [
    "### <center> $G^{\\prime\\prime}_{11} = \\kappa T^{\\prime\\prime}_{11}$ </center>"
   ]
  },
  {
   "cell_type": "code",
   "execution_count": null,
   "metadata": {},
   "outputs": [],
   "source": [
    "ddEq_11 = (ddG[1,1] - kappa*ddT[1,1] == 0).simplify_full()\n",
    "\n",
    "for ii in range(0,len(sus_legendre)):\n",
    "    ddEq_11 = ddEq_11.subs(sus_legendre[ii])\n",
    "\n",
    "ddEq_11 = (ddEq_11.subs(LP1==0) - ddEq_11.subs(LP1==0).subs(LP2==0))/LP2\n",
    "\n",
    "P22_value_11 = solve(ddEq_11,P22)[0].rhs()\n",
    "for ii in range(0,len(sus_func)):\n",
    "    P22_value_11 = P22_value_11.subs(sus_func[ii])\n",
    "P22_value_11 = P22_value_11.simplify_full()\n",
    "\n",
    "ddP22_value_11 = diff(P22_value_11,r,r)\n",
    "dP22_value_11 = diff(P22_value_11,r)\n",
    "for ii in range(0,len(sus_func)):\n",
    "    ddP22_value_11 = ddP22_value_11.subs(sus_func[ii])\n",
    "    dP22_value_11 = dP22_value_11.subs(sus_func[ii])\n",
    "\n",
    "ddG = ddG.subs(diff(P22,r,r)==ddP22_value_11).subs(diff(P22,r)==dP22_value_11).subs(P22==P22_value_11)\n",
    "ddT = ddT.subs(diff(P22,r,r)==ddP22_value_11).subs(diff(P22,r)==dP22_value_11).subs(P22==P22_value_11)\n",
    "sus_func.extend([diff(P22,r,r)==ddP22_value_11,\n",
    "                 diff(P22,r)==dP22_value_11,\n",
    "                 P22==P22_value_11])"
   ]
  },
  {
   "cell_type": "markdown",
   "metadata": {},
   "source": [
    "### <center> $G^{\\prime\\prime}_{12} = \\kappa T^{\\prime\\prime}_{12}$ </center>"
   ]
  },
  {
   "cell_type": "code",
   "execution_count": null,
   "metadata": {
    "scrolled": true
   },
   "outputs": [],
   "source": [
    "ddEq_12 = ddG[1,2]-kappa*ddT[1,2] == 0\n",
    "\n",
    "dk2_value = solve(ddEq_12, diff(k2,r))[0].rhs().simplify_full()\n",
    "\n",
    "dk2_paper = -h2*diff(nu,r)-diff(h2,r)\\\n",
    "            +(1/r+diff(nu,r)/2)*(-2/3*r^3*j*diff(j,r)*(omega-Omega1)^2\\\n",
    "                                 +1/6*j^2*r^4*diff(omega,r)^2)\n",
    "\n",
    "for ii in range(0,len(sus_func)):\n",
    "    dk2_value = dk2_value.subs(sus_func[ii])\n",
    "    dk2_paper = dk2_paper.subs(sus_func[ii])\n",
    "\n",
    "dk2_value = dk2_value.simplify_full()\n",
    "ddk2_value = diff(dk2_value,r)\n",
    "for ii in range(0,len(sus_func)):\n",
    "    ddk2_value = ddk2_value.subs(sus_func[ii])\n",
    "\n",
    "ddG = ddG.subs(diff(k2,r,r)==ddk2_value).subs(diff(k2,r)==dk2_value)\n",
    "ddT = ddT.subs(diff(k2,r,r)==ddk2_value).subs(diff(k2,r)==dk2_value)\n",
    "sus_func.extend([diff(k2,r,r)==ddk2_value,\n",
    "                 diff(k2,r)==dk2_value])\n",
    "\n",
    "dk2_check = (dk2_value - dk2_paper).simplify_full()\n",
    "\n",
    "show(LatexExpr(\"k_2' \\\\rightarrow\"), bool(dk2_check==0))"
   ]
  },
  {
   "cell_type": "markdown",
   "metadata": {},
   "source": [
    "### <center> $G^{\\prime\\prime}_{22} = \\kappa T^{\\prime\\prime}_{22}$ </center>"
   ]
  },
  {
   "cell_type": "code",
   "execution_count": null,
   "metadata": {
    "scrolled": true
   },
   "outputs": [],
   "source": [
    "ddEq_22_00 = (ddG[2,2] - kappa*ddT[2,2] == 0).simplify_full()\n",
    "\n",
    "for ii in range(0,len(sus_legendre)):\n",
    "    ddEq_22_00 = ddEq_22_00.subs(sus_legendre[ii])\n",
    "\n",
    "ddEq_22_00 = (ddEq_22_00.subs(LP1==0) - ddEq_22_00.subs(LP1==0).subs(LP2==0))/LP2\n",
    "dh2_value = solve(ddEq_22_00, diff(h2,r))[0].rhs().simplify_full()\n",
    "\n",
    "ddh2_value = diff(dh2_value,r)\n",
    "for ii in range(0,len(sus_func)):\n",
    "    ddh2_value = ddh2_value.subs(sus_func[ii])\n",
    "ddh2_value = ddh2_value.simplify_full()\n",
    "\n",
    "ddG = ddG.subs(diff(h2,r,r)==ddh2_value).subs(diff(h2,r)==dh2_value)\n",
    "ddT = ddT.subs(diff(h2,r,r)==ddh2_value).subs(diff(h2,r)==dh2_value)\n",
    "sus_func.extend([diff(h2,r,r)==ddh2_value,\n",
    "                 diff(h2,r)==dh2_value])\n",
    "\n",
    "dh2_paper = (-diff(nu,r)+r/((r-2*M)*diff(nu,r))*(8*pi*(E+P)-4*M/r^3))*h2\\\n",
    "            -4*(h2+k2)/(r*diff(nu,r)*(r-2*M))\\\n",
    "            +1/6*(1/2*r*diff(nu,r)-1/((r-2*M)*diff(nu,r)))*r^3*j^2*diff(omega,r)^2\\\n",
    "            -1/3*(1/2*r*diff(nu,r)+1/((r-2*M)*diff(nu,r)))*r^2*diff(j^2,r)*(omega-Omega1)^2\n",
    "\n",
    "for ii in range(0,len(sus_func)):\n",
    "    dh2_paper = dh2_paper.subs(sus_func[ii])\n",
    "\n",
    "dh2_value = dh2_value.simplify_full()\n",
    "dh2_check = dh2_value - dh2_paper\n",
    "\n",
    "show(LatexExpr(\"h_{2}' \\\\rightarrow\"), bool(dh2_check==0))"
   ]
  },
  {
   "cell_type": "markdown",
   "metadata": {},
   "source": [
    "### <center> Ecuación 70 </center>"
   ]
  },
  {
   "cell_type": "code",
   "execution_count": null,
   "metadata": {},
   "outputs": [],
   "source": [
    "E22_check = E22_value_00 - 4/3*diff(E,r)/diff(nu,r)*(3*h2+e^(-nu)*r^2*(omega-Omega1)^2)\n",
    "for ii in range(0,len(sus_func)):\n",
    "    E22_check = E22_check.subs(sus_func[ii])\n",
    "E22_check = E22_check.simplify_full()\n",
    "\n",
    "show(LatexExpr(\"\\\\text{Ecuación (70) }\\\\rightarrow\"), bool(E22_check==0))"
   ]
  },
  {
   "cell_type": "markdown",
   "metadata": {},
   "source": [
    "### <center> Ecuación 71 </center>"
   ]
  },
  {
   "cell_type": "code",
   "execution_count": null,
   "metadata": {},
   "outputs": [],
   "source": [
    "P22_check = P22_value_11 + 2/3*(E+P)*(3*h2+e^(-nu)*r^2*(omega-Omega1)^2)\n",
    "for ii in range(0,len(sus_func)):\n",
    "    P22_check = P22_check.subs(sus_func[ii])\n",
    "P22_check = P22_check.simplify_full()\n",
    "\n",
    "show(LatexExpr(\"\\\\text{Ecuación (71) }\\\\rightarrow\"), bool(P22_check==0))"
   ]
  },
  {
   "cell_type": "markdown",
   "metadata": {},
   "source": [
    "### <center> Ecuación 73 </center>"
   ]
  },
  {
   "cell_type": "code",
   "execution_count": null,
   "metadata": {},
   "outputs": [],
   "source": [
    "PT2 = P22/(2*(E+P))\n",
    "\n",
    "eq_73 = PT2+h2+1/3*e^(-nu)*r^2*(omega-Omega1)^2\n",
    "for ii in range(0,len(sus_func)):\n",
    "    eq_73 = eq_73.subs(sus_func[ii])\n",
    "\n",
    "show(LatexExpr(\"\\\\text{Ecuación (73) }\\\\rightarrow\"), bool(eq_73==0))"
   ]
  },
  {
   "cell_type": "markdown",
   "metadata": {},
   "source": [
    "## <center> Matching </center>"
   ]
  },
  {
   "cell_type": "code",
   "execution_count": null,
   "metadata": {},
   "outputs": [],
   "source": [
    "var('a')\n",
    "\n",
    "var('H0', latex_name=\"H_0\")\n",
    "\n",
    "var('s_k', latex_name=\"[k]\")\n",
    "var('s_h', latex_name=\"[h]\")\n",
    "var('s_v', latex_name=\"[v]\")\n",
    "var('s_dk', latex_name=\"[k^{\\\\prime}]\")\n",
    "var('s_dh', latex_name=\"[h^{\\\\prime}]\")\n",
    "var('s_dv', latex_name=\"[v^{\\\\prime}]\")\n",
    "\n",
    "\n",
    "var('s_h0', latex_name=\"[h_{0}]\")\n",
    "var('h0_n', latex_name=\"h_{0}^{-}\")\n",
    "\n",
    "var('s_v0', latex_name=\"[v_{0}]\")\n",
    "var('v0_n', latex_name=\"v_{0}^{-}\")\n",
    "\n",
    "var('s_dh0', latex_name=\"[h_{0}^{\\\\prime}]\")\n",
    "var('dh0_n', latex_name=\"h_{0}^{\\\\prime\\, -}\")\n",
    "\n",
    "var('s_dv0', latex_name=\"[v_{0}^{\\\\prime}]\")\n",
    "var('dv0_n', latex_name=\"v_{0}^{\\\\prime\\, -}\")\n",
    "\n",
    "\n",
    "var('s_k2', latex_name=\"[k_{2}]\")\n",
    "var('k2_a', latex_name=\"k_2(a)\")\n",
    "\n",
    "var('s_h2', latex_name=\"[h_{2}]\")\n",
    "var('h2_a', latex_name=\"h_2(a)\")\n",
    "\n",
    "var('s_v2', latex_name=\"[v_{2}]\")\n",
    "var('v2_n', latex_name=\"v_{2}^{-}\")\n",
    "\n",
    "var('s_dk2', latex_name=\"[k_{2}^{\\\\prime}]\")\n",
    "var('dk2_n', latex_name=\"k_{2}^{\\\\prime\\, -}\")\n",
    "\n",
    "var('s_dh2', latex_name=\"[h_{2}^{\\\\prime}]\")\n",
    "var('dh2_n', latex_name=\"h_{2}^{\\\\prime\\, -}\")\n",
    "\n",
    "var('s_dv2', latex_name=\"[v_{2}^{\\\\prime}]\")\n",
    "var('dv2_n', latex_name=\"v_{2}^{\\\\prime\\, -}\")\n",
    "\n",
    "\n",
    "var('nu_a', latex_name=\"\\\\nu(a)\")\n",
    "\n",
    "var('dnu_a', latex_name=\"\\\\nu^{\\\\prime}(a)\")\n",
    "\n",
    "var('s_dlamb', latex_name=\"[\\\\lambda^{\\\\prime}]\")\n",
    "var('dlamb_n', latex_name=\"\\\\lambda^{\\\\prime}_{-}(a)\")\n",
    "\n",
    "var('s_ddnu', latex_name=\"[\\\\nu^{\\\\prime\\\\prime}]\")\n",
    "var('ddnu_n', latex_name=\"\\\\nu^{\\\\prime\\\\prime}_{-}(a)\")\n",
    "\n",
    "var('s_E', latex_name=\"[E]\")\n",
    "var('E_n', latex_name=\"E_{-}\")\n",
    "\n",
    "\n",
    "var('Q2', latex_name=\"\\\\hat{Q}_2\")\n",
    "var('Q20_a', latex_name=\"Q_{2(0)}(a)\")\n",
    "var('Q22_a', latex_name=\"Q_{2(2)}(a)\")\n",
    "\n",
    "var('domega_a', latex_name=\"\\\\omega^{\\\\prime}(a)\")\n",
    "var('omega_a', latex_name=\"\\\\omega(a)\")\n",
    "\n",
    "var('J')\n",
    "\n",
    "var('PT0_a', latex_name=\"\\\\tilde{P}_{0}(a)\")\n",
    "var('P20_a', latex_name=\"P^{(2)}_{0}(a)\")\n",
    "\n",
    "M_a = a*(1-e^(nu_a))/2"
   ]
  },
  {
   "cell_type": "code",
   "execution_count": null,
   "metadata": {},
   "outputs": [],
   "source": [
    "eq_s_k = s_k == 0\n",
    "eq_s_h = s_h == 1/2*H0 + 1/2*a*dnu_a*s_k\n",
    "eq_s_v = s_v == a*s_dk + 1/4*e^(nu_a/2)*s_dlamb*Q2 + 1/2*(a*dlamb_n+2)*s_k\n",
    "eq_s_dh = s_dh == 1/2*a*dnu_a*s_dk + 1/4*e^(nu_a/2)*s_ddnu*Q2 + 1/2*(a*ddnu_n+dnu_a)*s_k\n",
    "\n",
    "sus_s_descomp = [s_v==s_v0+s_v2*LP2,\n",
    "                 s_dv==s_dv0+s_dv2*LP2,\n",
    "                 s_k==s_k2*LP2,\n",
    "                 s_dk==s_dk2*LP2,\n",
    "                 s_h==s_h0+s_h2*LP2,\n",
    "                 s_dh==s_dh0+s_dh2*LP2,\n",
    "                 Q2==Q20_a+Q22_a*LP2]\n",
    "\n",
    "for ii in range(0,len(sus_s_descomp)):\n",
    "    eq_s_k = eq_s_k.subs(sus_s_descomp[ii])\n",
    "    eq_s_h = eq_s_h.subs(sus_s_descomp[ii])\n",
    "    eq_s_v = eq_s_v.subs(sus_s_descomp[ii])\n",
    "    eq_s_dh = eq_s_dh.subs(sus_s_descomp[ii])"
   ]
  },
  {
   "cell_type": "code",
   "execution_count": null,
   "metadata": {},
   "outputs": [],
   "source": [
    "sus_s_p = [M==M_a,\n",
    "           lamb==-nu_a,\n",
    "           diff(nu,r,r)==s_ddnu+ddnu_n,\n",
    "           diff(nu,r)==dnu_a,\n",
    "           nu==nu_a,\n",
    "           diff(lamb,r)==s_dlamb+dlamb_n,\n",
    "           diff(h2,r)==s_dh2+dh2_n,\n",
    "           diff(omega,r)==domega_a,\n",
    "           omega==omega_a,\n",
    "           E==s_E,\n",
    "           P==0]\n",
    "\n",
    "sus_s_n = [M==M_a,\n",
    "           lamb==-nu_a,\n",
    "           diff(nu,r,r)==ddnu_n,\n",
    "           diff(nu,r)==dnu_a,\n",
    "           nu==nu_a,\n",
    "           diff(lamb,r)==dlamb_n,\n",
    "           diff(h2,r)==dh2_n,\n",
    "           diff(omega,r)==domega_a,\n",
    "           omega==omega_a,\n",
    "           E==0,\n",
    "           P==0]\n",
    "\n",
    "sus_s = [s_ddnu==(1+a*dnu_a/2)*e^(-nu_a)*8*pi*s_E,\n",
    "         s_dlamb==8*pi*a*e^(-nu_a)*s_E]\n",
    "\n",
    "sus_s_func = [dnu_a==e^(-nu_a)*2*M_a/a^2,\n",
    "              omega_a==2*J/a^3,\n",
    "              r==a]"
   ]
  },
  {
   "cell_type": "markdown",
   "metadata": {},
   "source": [
    "## <center>$\\boxed{l=0}$</center>"
   ]
  },
  {
   "cell_type": "markdown",
   "metadata": {},
   "source": [
    "## <center>[$h_0$]</center>"
   ]
  },
  {
   "cell_type": "code",
   "execution_count": null,
   "metadata": {},
   "outputs": [],
   "source": [
    "s_h0_value = solve(eq_s_h, s_h0)[0].rhs()\n",
    "s_h0_value = s_h0_value.subs(LP2==0)\n",
    "\n",
    "s_h0_paper = H0/2\n",
    "s_h0_check = s_h0_value - s_h0_paper\n",
    "\n",
    "for ii in range(0,len(sus_s_func)):\n",
    "    s_h0_value = s_h0_value.subs(sus_s_func[ii])\n",
    "    s_h0_check = s_h0_check.subs(sus_s_func[ii])\n",
    "    \n",
    "s_h0_value = s_h0_value.simplify_full()\n",
    "\n",
    "show(LatexExpr(\"[h_{0}]\\\\rightarrow\"),bool(s_h0_check==0))\n",
    "\n",
    "sus_s_p.extend([h0==s_h0+h0_n])\n",
    "sus_s_n.extend([h0==h0_n])\n",
    "sus_s.extend([s_h0==s_h0_value])"
   ]
  },
  {
   "cell_type": "markdown",
   "metadata": {},
   "source": [
    "## <center>[$m_0$]</center>"
   ]
  },
  {
   "cell_type": "code",
   "execution_count": null,
   "metadata": {},
   "outputs": [],
   "source": [
    "s_v0_value = solve(eq_s_v, s_v0)[0].rhs()\n",
    "s_v0_value = s_v0_value.subs(LP2==0)\n",
    "\n",
    "s_v0_paper = 2*pi*s_E*e^(-nu_a/2)*a*Q20_a\n",
    "s_v0_check = s_v0_value - s_v0_paper\n",
    "\n",
    "for ii in range(0,len(sus_s)):\n",
    "    s_v0_value = s_v0_value.subs(sus_s[ii])\n",
    "    s_v0_check = s_v0_check.subs(sus_s[ii])\n",
    "    \n",
    "for ii in range(0,len(sus_s_func)):\n",
    "    s_v0_value = s_v0_value.subs(sus_s_func[ii])\n",
    "    s_v0_check = s_v0_check.subs(sus_s_func[ii])\n",
    "\n",
    "s_v0_value = s_v0_value.simplify_full()\n",
    "\n",
    "show(LatexExpr(\"[v_{0}]\\\\rightarrow\"),bool(s_v0_check==0))\n",
    "\n",
    "sus_s_p.extend([v0==s_v0+v0_n])\n",
    "sus_s_n.extend([v0==v0_n])\n",
    "sus_s.extend([s_v0==s_v0_value])"
   ]
  },
  {
   "cell_type": "markdown",
   "metadata": {},
   "source": [
    "## <center>[$h'_0$]</center>"
   ]
  },
  {
   "cell_type": "code",
   "execution_count": null,
   "metadata": {},
   "outputs": [],
   "source": [
    "s_dh0_value = solve(eq_s_dh, s_dh0)[0].rhs()\n",
    "s_dh0_value = s_dh0_value.subs(LP2==0)\n",
    "\n",
    "s_dh0_paper = (a-M_a)/(a*(a-2*M_a))*s_v0\n",
    "s_dh0_check = s_dh0_value - s_dh0_paper\n",
    "\n",
    "for ii in range(len(sus_s)):\n",
    "    s_dh0_value = s_dh0_value.subs(sus_s[ii])\n",
    "    s_dh0_check = s_dh0_check.subs(sus_s[ii])\n",
    "    \n",
    "for ii in range(len(sus_s_func)):\n",
    "    s_dh0_value = s_dh0_value.subs(sus_s_func[ii])\n",
    "    s_dh0_check = s_dh0_check.subs(sus_s_func[ii])\n",
    "\n",
    "s_dh0_value = s_dh0_value.simplify_full()\n",
    "\n",
    "show(LatexExpr(\"[h'_{0}]\\\\rightarrow\"),bool(s_dh0_check==0))\n",
    "\n",
    "sus_s_p.extend([diff(h0,r)==s_dh0+dh0_n])\n",
    "sus_s_n.extend([diff(h0,r)==dh0_n])\n",
    "sus_s.extend([s_dh0==s_dh0_value])"
   ]
  },
  {
   "cell_type": "markdown",
   "metadata": {},
   "source": [
    "## <center>$\\boxed{l=2}$</center>"
   ]
  },
  {
   "cell_type": "markdown",
   "metadata": {},
   "source": [
    "## <center> $[k_2]$"
   ]
  },
  {
   "cell_type": "code",
   "execution_count": null,
   "metadata": {},
   "outputs": [],
   "source": [
    "s_k2_value = solve(eq_s_k, s_k2)[0].rhs()\n",
    "s_k2_check = s_k2_value - 0\n",
    "\n",
    "for ii in range(len(sus_s)):\n",
    "    s_k2_value = s_k2_value.subs(sus_s[ii])\n",
    "\n",
    "for ii in range(len(sus_s_func)):\n",
    "    s_k2_value = s_k2_value.subs(sus_s_func[ii])\n",
    "\n",
    "show(LatexExpr(\"[k_{2}]\\\\rightarrow\"), bool(s_k2_check==0))\n",
    "\n",
    "sus_s_p.extend([k2==k2_a])\n",
    "sus_s_n.extend([k2==k2_a])\n",
    "sus_s.extend([s_k2==s_k2_value])"
   ]
  },
  {
   "cell_type": "markdown",
   "metadata": {},
   "source": [
    "## <center> $[h_2]$"
   ]
  },
  {
   "cell_type": "code",
   "execution_count": null,
   "metadata": {},
   "outputs": [],
   "source": [
    "eq_s_h = eq_s_h - eq_s_h.subs(LP2==0)\n",
    "\n",
    "s_h2_value = solve(eq_s_h, s_h2)[0].rhs()\n",
    "\n",
    "s_h2_paper = 0\n",
    "s_h2_check = s_h2_value - s_h2_paper\n",
    "\n",
    "for ii in range(0,len(sus_s)):\n",
    "    s_h2_value = s_h2_value.subs(sus_s[ii])\n",
    "    s_h2_check = s_h2_check.subs(sus_s[ii])\n",
    "    \n",
    "for ii in range(0,len(sus_s_func)):\n",
    "    s_h2_value = s_h2_value.subs(sus_s_func[ii])\n",
    "    s_h2_check = s_h2_check.subs(sus_s_func[ii])\n",
    "\n",
    "show(LatexExpr(\"[h_{2}]\\\\rightarrow\"),bool(s_h2_check==0))\n",
    "\n",
    "sus_s_p.extend([h2==h2_a])\n",
    "sus_s_n.extend([h2==h2_a])\n",
    "sus_s.extend([s_h2==s_h2_value])"
   ]
  },
  {
   "cell_type": "markdown",
   "metadata": {},
   "source": [
    "## <center> $[h'_2]$ </center>"
   ]
  },
  {
   "cell_type": "code",
   "execution_count": null,
   "metadata": {
    "scrolled": true
   },
   "outputs": [],
   "source": [
    "dh2_p_value = dh2_value\n",
    "dh2_n_value = dh2_value\n",
    "\n",
    "for ii in range(len(sus_s_p)):\n",
    "    dh2_p_value = dh2_p_value.subs(sus_s_p[ii])\n",
    "    dh2_n_value = dh2_n_value.subs(sus_s_n[ii])\n",
    "\n",
    "s_dh2_value_68 = dh2_p_value - dh2_n_value\n",
    "\n",
    "s_dh2_paper = 4*pi*s_E*a^2/M_a*h2_a\\\n",
    "              +4/3*pi*s_E*a^2/M_a*e^(-2*nu_a)*((a-M_a)^2+M_a^2)*(2*J/a^3-Omega1)^2\n",
    "\n",
    "s_dh2_check = s_dh2_value_68 - s_dh2_paper\n",
    "for ii in range(len(sus_s)):\n",
    "    s_dh2_value_68 = s_dh2_value_68.subs(sus_s[ii])\n",
    "    s_dh2_check = s_dh2_check.subs(sus_s[ii])\n",
    "    \n",
    "for ii in range(len(sus_s_func)):\n",
    "    s_dh2_value_68 = s_dh2_value_68.subs(sus_s_func[ii])\n",
    "    s_dh2_check = s_dh2_check.subs(sus_s_func[ii])\n",
    "\n",
    "show(LatexExpr(\"[h_{2}^{\\\\prime}]\\\\rightarrow\"),bool(s_dh2_check==0))\n",
    "sus_s_p.extend([diff(h2,r)==s_dh2+dh2_n])\n",
    "sus_s_n.extend([diff(h2,r)==dh2_n])\n",
    "sus_s.extend([s_dh2==s_dh2_value_68])"
   ]
  },
  {
   "cell_type": "markdown",
   "metadata": {},
   "source": [
    "## <center> $Q_{2(2)}$ y $[k'_2]$ </center>"
   ]
  },
  {
   "cell_type": "code",
   "execution_count": null,
   "metadata": {},
   "outputs": [],
   "source": [
    "s_dh2_value = (eq_s_dh - eq_s_dh.subs(LP2==0)).simplify_full()/LP2\n",
    "\n",
    "for ii in range(len(sus_s)):\n",
    "    s_dh2_value = s_dh2_value.subs(sus_s[ii])\n",
    "\n",
    "for ii in range(len(sus_s_func)):\n",
    "    s_dh2_value = s_dh2_value.subs(sus_s_func[ii])\n",
    "\n",
    "s_dk2_value = solve(s_dh2_value, s_dk2)[0].rhs().simplify_full()\n",
    "\n",
    "sus_s_p.extend([diff(k2,r)==s_dk2+dk2_n])\n",
    "sus_s_n.extend([diff(k2,r)==dk2_n])\n",
    "sus_s.extend([s_dk2==s_dk2_value])"
   ]
  },
  {
   "cell_type": "code",
   "execution_count": null,
   "metadata": {},
   "outputs": [],
   "source": [
    "dk2_p_value = dk2_value\n",
    "dk2_n_value = dk2_value\n",
    "\n",
    "for ii in range(len(sus_s_p)):\n",
    "    dk2_p_value = dk2_p_value.subs(sus_s_p[ii])\n",
    "    dk2_n_value = dk2_n_value.subs(sus_s_n[ii])\n",
    "    \n",
    "for ii in range(len(sus_s)):\n",
    "    dk2_p_value = dk2_p_value.subs(sus_s[ii])\n",
    "    dk2_n_value = dk2_n_value.subs(sus_s[ii])\n",
    "\n",
    "for ii in range(len(sus_s_func)):\n",
    "    dk2_p_value = dk2_p_value.subs(sus_s_func[ii])\n",
    "    dk2_n_value = dk2_n_value.subs(sus_s_func[ii])\n",
    "\n",
    "s_dk2_value_67 = (dk2_p_value - dk2_n_value).simplify_full()\n",
    "Q22_value_97 = s_dk2_value_67 - s_dk2_value == 0\n",
    "Q22_value_97 = solve(Q22_value_97, Q22_a)[0].rhs()\n",
    "\n",
    "Q22_paper = s_E*(h2_a-1/4*dnu_a*e^(nu_a/2)*Q22_a+1/3*a^2*e^(-nu_a)*(2*J/a^3-Omega1)^2)\n",
    "Q22_paper = solve(Q22_paper, Q22_a)[0].rhs()\n",
    "\n",
    "for ii in range(len(sus_s)):\n",
    "    Q22_paper = Q22_paper.subs(sus_s[ii])\n",
    "    Q22_paper = Q22_paper.subs(sus_s[ii])\n",
    "\n",
    "for ii in range(len(sus_s_func)):\n",
    "    Q22_paper = Q22_paper.subs(sus_s_func[ii])\n",
    "    Q22_paper = Q22_paper.subs(sus_s_func[ii])\n",
    "\n",
    "Q22_check = Q22_value_97 - Q22_paper\n",
    "\n",
    "show(LatexExpr(\"Q_{(2)2}\\\\rightarrow\"),bool(Q22_check ==0))\n",
    "sus_s_func.extend([Q22_a==Q22_value_97])"
   ]
  },
  {
   "cell_type": "code",
   "execution_count": null,
   "metadata": {},
   "outputs": [],
   "source": [
    "s_dk2_paper = -4*pi*s_E*a^2/M_a*h2_a\\\n",
    "              -4/3*pi*s_E*a^3/M_a*e^(-nu_a)*(a-2*M_a)*(2*J/a^3-Omega1)^2\n",
    "\n",
    "s_dk2_check = s_dk2_value_67 - s_dk2_paper\n",
    "for ii in range(len(sus_s)):\n",
    "    s_dk2_value_67 = s_dk2_value_67.subs(sus_s[ii])\n",
    "    s_dk2_check = s_dk2_check.subs(sus_s[ii])\n",
    "\n",
    "for ii in range(len(sus_s_func)):\n",
    "    s_dk2_value_67 = s_dk2_value_67.subs(sus_s_func[ii])\n",
    "    s_dk2_check = s_dk2_check.subs(sus_s_func[ii])\n",
    "\n",
    "show(LatexExpr(\"[k_{2}^{\\\\prime}]\\\\rightarrow\"),bool(s_dk2_check==0))\n",
    "sus_s_p.extend([diff(k2,r)==s_dk2+dk2_n])\n",
    "sus_s_n.extend([diff(k2,r)==dk2_n])\n",
    "sus_s.extend([s_dk2==s_dk2_value_67])"
   ]
  },
  {
   "cell_type": "code",
   "execution_count": null,
   "metadata": {},
   "outputs": [],
   "source": [
    "s_v2_value = (eq_s_v - eq_s_v.subs(LP2==0)).simplify_full()/LP2\n",
    "\n",
    "for ii in range(len(sus_s)):\n",
    "    s_v2_value = s_v2_value.subs(sus_s[ii])\n",
    "\n",
    "for ii in range(len(sus_s_func)):\n",
    "    s_v2_value = s_v2_value.subs(sus_s_func[ii])\n",
    "\n",
    "s_v2_value = solve(s_v2_value, s_v2)[0].rhs().simplify_full()\n",
    "s_v2_paper = 8/3*pi*a^4*s_E*e^(-nu_a)*(2*J/a^3-Omega1)^2\n",
    "s_v2_check = s_v2_value - s_v2_paper\n",
    "\n",
    "show(LatexExpr(\"[v_{2}]\\\\rightarrow\"),bool(s_v2_check==0))"
   ]
  }
 ],
 "metadata": {
  "kernelspec": {
   "display_name": "SageMath 9.4",
   "language": "sage",
   "name": "sagemath-9.4"
  },
  "language_info": {
   "codemirror_mode": {
    "name": "ipython",
    "version": 3
   },
   "file_extension": ".py",
   "mimetype": "text/x-python",
   "name": "python",
   "nbconvert_exporter": "python",
   "pygments_lexer": "ipython3",
   "version": "3.9.5"
  }
 },
 "nbformat": 4,
 "nbformat_minor": 4
}
