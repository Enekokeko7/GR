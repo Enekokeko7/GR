{
 "cells": [
  {
   "cell_type": "code",
   "execution_count": 1,
   "metadata": {},
   "outputs": [],
   "source": [
    "import os\n",
    "from sage.manifolds.utilities import ExpressionNice as EN\n",
    "from sage.libs.ecl import *\n",
    "ecl_eval(\"(ext:get-limit 'ext:heap-size)\")\n",
    "\n",
    "import numpy as np"
   ]
  },
  {
   "cell_type": "code",
   "execution_count": 2,
   "metadata": {},
   "outputs": [],
   "source": [
    "def formal_diff(f, x):\n",
    "    if f!=0:\n",
    "        tempX = SR.temp_var()\n",
    "        return f.subs({x: tempX}).diff(tempX).subs({tempX: x})\n",
    "    if f==0:\n",
    "        return 0"
   ]
  },
  {
   "cell_type": "code",
   "execution_count": 3,
   "metadata": {},
   "outputs": [],
   "source": [
    "#Definimos variables y funciones\n",
    "var('eps', latex_name = '\\\\varepsilon')\n",
    "var('t')\n",
    "var('r')\n",
    "var('th', latex_name = '\\\\theta')\n",
    "var('ph', latex_name = '\\\\varphi')\n",
    "coords = (t,r,th,ph)\n",
    "\n",
    "var('aaa,bbb,ccc') #que nos conocemos\n",
    "\n",
    "h = function('h')(r,th)\n",
    "k = function('k')(r,th)\n",
    "v = function('v')(r,th)\n",
    "omega = function('omega', latex_name='\\\\omega')(r)\n",
    "\n",
    "nu = function('nu', latex_name='\\\\nu')(r)\n",
    "lamb = function('lamb', latex_name='\\\\lambda')(r)\n",
    "\n",
    "Ne = e^(nu/2)*(1+eps^2*h)\n",
    "Ve = e^(lamb)*(1+2*eps^2*v)\n",
    "Ke = r^2*(1+2*eps^2*k)\n",
    "Nphie = eps*omega"
   ]
  },
  {
   "cell_type": "markdown",
   "metadata": {},
   "source": [
    "# <center> Tensor de Einstein </center>"
   ]
  },
  {
   "cell_type": "code",
   "execution_count": 4,
   "metadata": {},
   "outputs": [],
   "source": [
    "gdd = matrix(SR, 4, 4)\n",
    "\n",
    "gdd[0,0] = -exp(nu)\n",
    "gdd[1,1] = exp(lamb)\n",
    "gdd[2,2] = r^2\n",
    "gdd[3,3] = r^2*sin(th)^2\n",
    "\n",
    "guu = 1/gdd\n",
    "\n",
    "K1 = matrix(SR, 4, 4)\n",
    "K1[0,3] = -omega*r^2*sin(th)^2\n",
    "K1[3,0] = -omega*r^2*sin(th)^2\n",
    "\n",
    "K2 = matrix(SR, 4, 4)\n",
    "K2[0,0] = -4*exp(nu)*h + 2*r^2*sin(th)^2*omega^2\n",
    "K2[1,1] = 4*exp(lamb)*v\n",
    "K2[2,2] = 4*k*r^2\n",
    "K2[3,3] = 4*k*r^2*sin(th)^2"
   ]
  },
  {
   "cell_type": "code",
   "execution_count": 5,
   "metadata": {},
   "outputs": [],
   "source": [
    "gedd = matrix(SR, 4, 4)\n",
    "for ii in range(4):\n",
    "    for jj in range(4):\n",
    "        gedd[ii,jj] = gdd[ii,jj] + eps*K1[ii,jj] + 1/2*eps^2*K2[ii,jj]\n",
    "        \n",
    "geuu_long = 1/gedd\n",
    "geuu = matrix(SR, 4, 4)\n",
    "for ii in range(4):\n",
    "    for jj in range(4):\n",
    "        geuu[ii,jj] = geuu_long[ii,jj].subs(eps==0)\\\n",
    "                    + eps*formal_diff(geuu_long[ii,jj],eps).subs(eps==0)\\\n",
    "                    + 1/2*eps^2*formal_diff(formal_diff(geuu_long[ii,jj],eps),eps).subs(eps==0)\n",
    "\n",
    "chris = [[[0 for kk in range(4)] for jj in range(4)] for ii in range(4)]\n",
    "for ii in range(4):\n",
    "    for jj in range(4):\n",
    "        for kk in range(4):\n",
    "            chris[ii][jj][kk] = 1/2*sum(geuu[ii,dd]*(formal_diff(gedd[dd,jj],coords[kk])\n",
    "                                                   + formal_diff(gedd[dd,kk],coords[jj])\n",
    "                                                   - formal_diff(gedd[jj,kk],coords[dd])) for dd in range(4))\n",
    "\n",
    "riem = [[[[0 for ll in range(4)] for kk in range(4)] for jj in range(4)] for ii in range(4)]\n",
    "for ii in range(4):\n",
    "    for jj in range(4):\n",
    "        for kk in range(4):\n",
    "            for ll in range(4):\n",
    "                riem[ii][jj][kk][ll] = (formal_diff(chris[ii][jj][ll],coords[kk])\n",
    "                                      - formal_diff(chris[ii][jj][kk],coords[ll])\n",
    "                                      + sum(chris[ii][kk][dd]*chris[dd][ll][jj]\n",
    "                                          - chris[ii][ll][dd]*chris[dd][kk][jj] for dd in range(4)))\n",
    "\n",
    "ricci = matrix(SR, 4, 4)\n",
    "for ii in range(4):\n",
    "    for kk in range(4):\n",
    "        ricci[ii,kk] = sum(riem[dd][ii][dd][kk] for dd in range(4))\n",
    "\n",
    "s_curv = sum(sum(ricci[ii,jj]*geuu[ii,jj] for ii in range(4)) for jj in range(4))\n",
    "\n",
    "Ge = matrix(SR, 4, 4)\n",
    "Ge = ricci - 1/2*gedd*s_curv\n",
    "\n",
    "dGe = matrix(SR, 4, 4)\n",
    "ddGe = matrix(SR, 4, 4)\n",
    "for ii in range(4):\n",
    "    for jj in range(4):\n",
    "        dGe[ii,jj] = formal_diff(Ge[ii,jj],eps)\n",
    "        ddGe[ii,jj] = formal_diff(formal_diff(Ge[ii,jj],eps),eps)\n",
    "\n",
    "Geud = matrix(SR, 4, 4)\n",
    "for ii in range(4):\n",
    "    for jj in range(4):\n",
    "        for kk in range(4):\n",
    "            Geud[ii,jj] += Ge[jj,kk]*geuu[kk,ii]\n",
    "\n",
    "dGeud = matrix(SR, 4, 4)\n",
    "ddGeud = matrix(SR, 4, 4)\n",
    "for ii in range(4):\n",
    "    for jj in range(4):\n",
    "        dGeud[ii,jj] = formal_diff(Geud[ii,jj],eps)\n",
    "        ddGeud[ii,jj] = formal_diff(formal_diff(Geud[ii,jj],eps),eps)"
   ]
  },
  {
   "cell_type": "markdown",
   "metadata": {},
   "source": [
    "# <center> Tensor de energía-momento </center>"
   ]
  },
  {
   "cell_type": "code",
   "execution_count": 6,
   "metadata": {},
   "outputs": [],
   "source": [
    "#Omegas\n",
    "var('Omegan1', latex_name=\"\\\\Omega^{(1)}_{n}\")\n",
    "var('Omegap1', latex_name=\"\\\\Omega^{(1)}_{p}\")\n",
    "Omegane = eps*Omegan1\n",
    "Omegape = eps*Omegap1\n",
    "\n",
    "Nne = function('Nne', latex_name='N_{n\\\\varepsilon}')(r,th,eps)\n",
    "Npe = function('Npe', latex_name='N_{p\\\\varepsilon}')(r,th,eps)\n",
    "\n",
    "#Tomando eps=0\n",
    "Nn = function('Nn', latex_name='N_{n}')(r,th)\n",
    "Np = function('Np', latex_name='N_{p}')(r,th)\n",
    "\n",
    "sus_func = [eps==0,\n",
    "            Nne.subs(eps==0)==Nn,\n",
    "            Npe.subs(eps==0)==Np]"
   ]
  },
  {
   "cell_type": "markdown",
   "metadata": {},
   "source": [
    "## <center> Campo $u$ de los neutrones </center>"
   ]
  },
  {
   "cell_type": "code",
   "execution_count": 7,
   "metadata": {},
   "outputs": [],
   "source": [
    "Nne_paper = 1/sqrt(Ne^2-sin(th)^2*Ke*(Nphie-Omegane)^2)\n",
    "\n",
    "ueu_paper = [Nne_paper,0,0,Nne_paper*Omegane]"
   ]
  },
  {
   "cell_type": "code",
   "execution_count": 8,
   "metadata": {
    "scrolled": true
   },
   "outputs": [
    {
     "data": {
      "text/html": [
       "<html>\\[\\newcommand{\\Bold}[1]{\\mathbf{#1}}u_{\\varepsilon}\\lvert_{\\varepsilon=0} \\rightarrow  \\mathrm{True}\\]</html>"
      ],
      "text/latex": [
       "$$\\newcommand{\\Bold}[1]{\\mathbf{#1}}u_{\\varepsilon}\\lvert_{\\varepsilon=0} \\rightarrow  \\mathrm{True}$$"
      ],
      "text/plain": [
       "u_{\\varepsilon}\\lvert_{\\varepsilon=0} \\rightarrow  True"
      ]
     },
     "metadata": {},
     "output_type": "display_data"
    }
   ],
   "source": [
    "ueu = [Nne,0,0,Nne*Omegane]\n",
    "ued = [0,0,0,0]\n",
    "\n",
    "for ii in range(4):\n",
    "    for jj in range(4):\n",
    "        ued[ii] += ueu[jj]*gedd[ii,jj]\n",
    "\n",
    "norm = 0\n",
    "for ii in range(4):\n",
    "    norm += ueu[ii]*ued[ii]\n",
    "\n",
    "Nne_value = sqrt(solve(norm==-1, Nne^2)[0].rhs())\n",
    "\n",
    "for ii in range(4):\n",
    "    ueu[ii] = ueu[ii].subs(Nne==Nne_value)\n",
    "    ued[ii] = ued[ii].subs(Nne==Nne_value)\n",
    "\n",
    "Nn_value = copy(Nne_value)\n",
    "for ii in range(len(sus_func)):\n",
    "    Nn_value = Nn_value.subs(sus_func[ii])\n",
    "Nn_value = Nn_value.simplify_full()\n",
    "\n",
    "sus_func.extend([Nn==Nn_value])\n",
    "\n",
    "uu = copy(ueu)\n",
    "for ii in range(4):\n",
    "    for jj in range(len(sus_func)):\n",
    "        uu[ii] = uu[ii].subs(sus_func[jj])\n",
    "\n",
    "Nne_paper = 1/sqrt(Ne^2 - sin(th)^2*Ke*(Nphie-Omegane)^2)\n",
    "\n",
    "uu_paper = [Nne_paper,0,0,Omegane*Nne_paper]\n",
    "for ii in range(4):\n",
    "    for jj in range(len(sus_func)):\n",
    "        uu_paper[ii] = uu_paper[ii].subs(sus_func[jj])\n",
    "\n",
    "uu_check = [x-y for (x,y) in zip(uu, uu_paper)]\n",
    "\n",
    "show(LatexExpr(\"u_{\\\\varepsilon}\\\\lvert_{\\\\varepsilon=0} \\\\rightarrow \"), bool(uu_check==[0,0,0,0]))"
   ]
  },
  {
   "cell_type": "code",
   "execution_count": 9,
   "metadata": {},
   "outputs": [
    {
     "data": {
      "text/html": [
       "<html>\\[\\newcommand{\\Bold}[1]{\\mathbf{#1}}\\frac{d u_{\\varepsilon}}{d \\varepsilon}\\bigg\\lvert_{\\varepsilon=0} \\rightarrow  \\mathrm{True}\\]</html>"
      ],
      "text/latex": [
       "$$\\newcommand{\\Bold}[1]{\\mathbf{#1}}\\frac{d u_{\\varepsilon}}{d \\varepsilon}\\bigg\\lvert_{\\varepsilon=0} \\rightarrow  \\mathrm{True}$$"
      ],
      "text/plain": [
       "\\frac{d u_{\\varepsilon}}{d \\varepsilon}\\bigg\\lvert_{\\varepsilon=0} \\rightarrow  True"
      ]
     },
     "metadata": {},
     "output_type": "display_data"
    }
   ],
   "source": [
    "dueu, dueu_paper, dueu_check = [0,0,0,0], [0,0,0,0], [0,0,0,0]\n",
    "\n",
    "for ii in range(4):\n",
    "    dueu[ii] = formal_diff(ueu[ii], eps)\n",
    "    dueu_paper[ii] = formal_diff(ueu_paper[ii], eps)\n",
    "    dueu_check[ii] = dueu[ii] - dueu_paper[ii]\n",
    "    for jj in range(len(sus_func)):\n",
    "        dueu_check[ii] = dueu_check[ii].subs(sus_func[jj])\n",
    "\n",
    "show(LatexExpr(\"\\\\frac{d u_{\\\\varepsilon}}{d \\\\varepsilon}\\\\bigg\\\\lvert_{\\\\varepsilon=0} \\\\rightarrow \"),\n",
    "     bool(dueu_check==[0,0,0,0]))"
   ]
  },
  {
   "cell_type": "code",
   "execution_count": 10,
   "metadata": {},
   "outputs": [
    {
     "data": {
      "text/html": [
       "<html>\\[\\newcommand{\\Bold}[1]{\\mathbf{#1}}\\frac{d^2 u_{\\varepsilon}}{d \\varepsilon^2}\\bigg\\lvert_{\\varepsilon=0} \\rightarrow  \\mathrm{True}\\]</html>"
      ],
      "text/latex": [
       "$$\\newcommand{\\Bold}[1]{\\mathbf{#1}}\\frac{d^2 u_{\\varepsilon}}{d \\varepsilon^2}\\bigg\\lvert_{\\varepsilon=0} \\rightarrow  \\mathrm{True}$$"
      ],
      "text/plain": [
       "\\frac{d^2 u_{\\varepsilon}}{d \\varepsilon^2}\\bigg\\lvert_{\\varepsilon=0} \\rightarrow  True"
      ]
     },
     "metadata": {},
     "output_type": "display_data"
    }
   ],
   "source": [
    "ddueu, ddueu_paper, ddueu_check = [0,0,0,0], [0,0,0,0], [0,0,0,0]\n",
    "\n",
    "for ii in range(4):\n",
    "    ddueu[ii] = formal_diff(dueu[ii], eps)\n",
    "    ddueu_paper[ii] = formal_diff(dueu_paper[ii], eps)\n",
    "    ddueu_check[ii] = ddueu[ii] - ddueu_paper[ii]\n",
    "    for jj in range(len(sus_func)):\n",
    "        ddueu[ii] = ddueu[ii].subs(sus_func[jj])\n",
    "        ddueu_paper[ii] = ddueu[ii].subs(sus_func[jj])\n",
    "        ddueu_check[ii] = ddueu_check[ii].subs(sus_func[jj])\n",
    "\n",
    "show(LatexExpr(\"\\\\frac{d^2 u_{\\\\varepsilon}}{d \\\\varepsilon^2}\\\\bigg\\\\lvert_{\\\\varepsilon=0} \\\\rightarrow \"),\n",
    "     bool(ddueu_check==[0,0,0,0]))"
   ]
  },
  {
   "cell_type": "code",
   "execution_count": 11,
   "metadata": {},
   "outputs": [
    {
     "data": {
      "text/html": [
       "<html>\\[\\newcommand{\\Bold}[1]{\\mathbf{#1}}u^{(1)} \\rightarrow \\mathrm{True}\\]</html>"
      ],
      "text/latex": [
       "$$\\newcommand{\\Bold}[1]{\\mathbf{#1}}u^{(1)} \\rightarrow \\mathrm{True}$$"
      ],
      "text/plain": [
       "u^{(1)} \\rightarrow True"
      ]
     },
     "metadata": {},
     "output_type": "display_data"
    },
    {
     "data": {
      "text/html": [
       "<html>\\[\\newcommand{\\Bold}[1]{\\mathbf{#1}}u^{(2)} \\rightarrow \\mathrm{True}\\]</html>"
      ],
      "text/latex": [
       "$$\\newcommand{\\Bold}[1]{\\mathbf{#1}}u^{(2)} \\rightarrow \\mathrm{True}$$"
      ],
      "text/plain": [
       "u^{(2)} \\rightarrow True"
      ]
     },
     "metadata": {},
     "output_type": "display_data"
    }
   ],
   "source": [
    "uu1 = [0,0,0,0]\n",
    "uu2 = [0,0,0,0]\n",
    "\n",
    "for ii in range(4):\n",
    "    uu1[ii] = formal_diff(ueu[ii],eps)\n",
    "    uu2[ii] = formal_diff(formal_diff(ueu[ii],eps),eps)\n",
    "\n",
    "for ii in range(4):\n",
    "    for jj in range(len(sus_func)):\n",
    "        uu1[ii] = uu1[ii].subs(sus_func[jj])\n",
    "        uu2[ii] = uu2[ii].subs(sus_func[jj])\n",
    "\n",
    "uu1_paper = [0,0,0,0]\n",
    "uu1_paper[0] = 1/2*e^(-3*nu/2)*K1[0,0]\n",
    "uu1_paper[3] = e^(-nu/2)*Omegan1\n",
    "\n",
    "uu2_paper = [0,0,0,0]\n",
    "uu2_paper[0] = e^(-3*nu/2)*(1/2*K2[0,0]+3/4*e^(-nu)*K1[0,0]+2*Omegan1*K1[0,3]+Omegan1^2*r^2*sin(th)^2)\n",
    "uu2_paper[3] = e^(-nu/2)*(e^(-nu)*K1[0,0]*Omegan1)  \n",
    "\n",
    "uu1_check = [ii-jj for (ii,jj) in zip(uu1, uu1_paper)]\n",
    "uu2_check = [ii-jj for (ii,jj) in zip(uu2, uu2_paper)]\n",
    "\n",
    "show(LatexExpr(\"u^{(1)} \\\\rightarrow\"), uu1_check==[0,0,0,0])\n",
    "show(LatexExpr(\"u^{(2)} \\\\rightarrow\"), uu2_check==[0,0,0,0])"
   ]
  },
  {
   "cell_type": "markdown",
   "metadata": {},
   "source": [
    "## <center> Campo $v$ de los protones </center>"
   ]
  },
  {
   "cell_type": "code",
   "execution_count": 12,
   "metadata": {},
   "outputs": [],
   "source": [
    "Npe_paper = 1/sqrt(Ne^2-sin(th)^2*Ke*(Nphie-Omegape)^2)\n",
    "\n",
    "veu_paper = [Npe_paper,0,0,Npe_paper*Omegape]"
   ]
  },
  {
   "cell_type": "code",
   "execution_count": 13,
   "metadata": {},
   "outputs": [
    {
     "data": {
      "text/html": [
       "<html>\\[\\newcommand{\\Bold}[1]{\\mathbf{#1}}v_{\\varepsilon} \\rightarrow  \\mathrm{True}\\]</html>"
      ],
      "text/latex": [
       "$$\\newcommand{\\Bold}[1]{\\mathbf{#1}}v_{\\varepsilon} \\rightarrow  \\mathrm{True}$$"
      ],
      "text/plain": [
       "v_{\\varepsilon} \\rightarrow  True"
      ]
     },
     "metadata": {},
     "output_type": "display_data"
    }
   ],
   "source": [
    "veu = [Npe,0,0,Npe*Omegape]\n",
    "ved = [0,0,0,0]\n",
    "\n",
    "for ii in range(4):\n",
    "    for jj in range(4):\n",
    "        ved[ii] += veu[jj]*gedd[ii,jj]\n",
    "\n",
    "norm = 0\n",
    "for ii in range(4):\n",
    "    norm += veu[ii]*ved[ii]\n",
    "\n",
    "Npe_value = sqrt(solve(norm==-1, Npe^2)[0].rhs())\n",
    "for ii in range(4):\n",
    "    veu[ii] = veu[ii].subs(Npe==Npe_value)\n",
    "    ved[ii] = ved[ii].subs(Npe==Npe_value)\n",
    "\n",
    "Np_value = copy(Npe_value)\n",
    "for ii in range(len(sus_func)):\n",
    "    Np_value = Np_value.subs(sus_func[ii])\n",
    "Np_value = Np_value.simplify_full()\n",
    "\n",
    "sus_func.extend([Np==Np_value])\n",
    "\n",
    "vu = copy(veu)\n",
    "for ii in range(4):\n",
    "    for jj in range(len(sus_func)):\n",
    "        vu[ii] = vu[ii].subs(sus_func[jj])\n",
    "\n",
    "Npe_paper = 1/sqrt(Ne^2 - sin(th)^2*Ke*(Nphie-Omegape)^2)\n",
    "\n",
    "vu_paper = [Npe_paper,0,0,Omegape*Npe_paper]\n",
    "for ii in range(4):\n",
    "    for jj in range(len(sus_func)):\n",
    "        vu_paper[ii] = vu_paper[ii].subs(sus_func[jj])\n",
    "\n",
    "vu_check = [x-y for (x,y) in zip(vu, vu_paper)]\n",
    "\n",
    "show(LatexExpr(\"v_{\\\\varepsilon} \\\\rightarrow \"), bool(vu_check==[0,0,0,0]))"
   ]
  },
  {
   "cell_type": "code",
   "execution_count": 14,
   "metadata": {},
   "outputs": [
    {
     "data": {
      "text/html": [
       "<html>\\[\\newcommand{\\Bold}[1]{\\mathbf{#1}}\\frac{d v_{\\varepsilon}}{d \\varepsilon}\\bigg\\lvert_{\\varepsilon=0} \\rightarrow  \\mathrm{True}\\]</html>"
      ],
      "text/latex": [
       "$$\\newcommand{\\Bold}[1]{\\mathbf{#1}}\\frac{d v_{\\varepsilon}}{d \\varepsilon}\\bigg\\lvert_{\\varepsilon=0} \\rightarrow  \\mathrm{True}$$"
      ],
      "text/plain": [
       "\\frac{d v_{\\varepsilon}}{d \\varepsilon}\\bigg\\lvert_{\\varepsilon=0} \\rightarrow  True"
      ]
     },
     "metadata": {},
     "output_type": "display_data"
    }
   ],
   "source": [
    "dveu, dveu_paper, dveu_check = [0,0,0,0], [0,0,0,0], [0,0,0,0]\n",
    "\n",
    "for ii in range(4):\n",
    "    dveu[ii] = formal_diff(veu[ii], eps)\n",
    "    dveu_paper[ii] = formal_diff(veu_paper[ii], eps)\n",
    "    dveu_check[ii] = dveu[ii] - dveu_paper[ii]\n",
    "    for jj in range(len(sus_func)):\n",
    "        dveu_check[ii] = dveu_check[ii].subs(sus_func[jj])\n",
    "\n",
    "show(LatexExpr(\"\\\\frac{d v_{\\\\varepsilon}}{d \\\\varepsilon}\\\\bigg\\\\lvert_{\\\\varepsilon=0} \\\\rightarrow \"),\n",
    "     bool(dveu_check==[0,0,0,0]))"
   ]
  },
  {
   "cell_type": "code",
   "execution_count": 15,
   "metadata": {},
   "outputs": [
    {
     "data": {
      "text/html": [
       "<html>\\[\\newcommand{\\Bold}[1]{\\mathbf{#1}}\\frac{d^2 v_{\\varepsilon}}{d \\varepsilon^2}\\bigg\\lvert_{\\varepsilon=0} \\rightarrow  \\mathrm{True}\\]</html>"
      ],
      "text/latex": [
       "$$\\newcommand{\\Bold}[1]{\\mathbf{#1}}\\frac{d^2 v_{\\varepsilon}}{d \\varepsilon^2}\\bigg\\lvert_{\\varepsilon=0} \\rightarrow  \\mathrm{True}$$"
      ],
      "text/plain": [
       "\\frac{d^2 v_{\\varepsilon}}{d \\varepsilon^2}\\bigg\\lvert_{\\varepsilon=0} \\rightarrow  True"
      ]
     },
     "metadata": {},
     "output_type": "display_data"
    }
   ],
   "source": [
    "ddveu, ddveu_paper, ddveu_check = [0,0,0,0], [0,0,0,0], [0,0,0,0]\n",
    "\n",
    "for ii in range(4):\n",
    "    ddveu[ii] = formal_diff(dveu[ii], eps)\n",
    "    ddveu_paper[ii] = formal_diff(dveu_paper[ii], eps)\n",
    "    ddveu_check[ii] = ddveu[ii] - ddveu_paper[ii]\n",
    "    for jj in range(len(sus_func)):\n",
    "        ddveu_check[ii] = ddveu_check[ii].subs(sus_func[jj])\n",
    "\n",
    "show(LatexExpr(\"\\\\frac{d^2 v_{\\\\varepsilon}}{d \\\\varepsilon^2}\\\\bigg\\\\lvert_{\\\\varepsilon=0} \\\\rightarrow \"),\n",
    "     bool(ddveu_check==[0,0,0,0]))"
   ]
  },
  {
   "cell_type": "code",
   "execution_count": 16,
   "metadata": {
    "scrolled": true
   },
   "outputs": [
    {
     "data": {
      "text/html": [
       "<html>\\[\\newcommand{\\Bold}[1]{\\mathbf{#1}}v^{(1)} \\rightarrow \\mathrm{True}\\]</html>"
      ],
      "text/latex": [
       "$$\\newcommand{\\Bold}[1]{\\mathbf{#1}}v^{(1)} \\rightarrow \\mathrm{True}$$"
      ],
      "text/plain": [
       "v^{(1)} \\rightarrow True"
      ]
     },
     "metadata": {},
     "output_type": "display_data"
    },
    {
     "data": {
      "text/html": [
       "<html>\\[\\newcommand{\\Bold}[1]{\\mathbf{#1}}v^{(2)} \\rightarrow \\mathrm{True}\\]</html>"
      ],
      "text/latex": [
       "$$\\newcommand{\\Bold}[1]{\\mathbf{#1}}v^{(2)} \\rightarrow \\mathrm{True}$$"
      ],
      "text/plain": [
       "v^{(2)} \\rightarrow True"
      ]
     },
     "metadata": {},
     "output_type": "display_data"
    }
   ],
   "source": [
    "vu1 = [0,0,0,0]\n",
    "vu2 = [0,0,0,0]\n",
    "\n",
    "for ii in range(4):\n",
    "    vu1[ii] = formal_diff(veu[ii],eps)\n",
    "    vu2[ii] = formal_diff(formal_diff(veu[ii],eps),eps)\n",
    "\n",
    "for ii in range(4):\n",
    "    for jj in range(len(sus_func)):\n",
    "        vu1[ii] = vu1[ii].subs(sus_func[jj])\n",
    "        vu2[ii] = vu2[ii].subs(sus_func[jj])\n",
    "\n",
    "vu1_paper = [0,0,0,0]\n",
    "vu1_paper[0] = 1/2*e^(-3*nu/2)*K1[0,0]\n",
    "vu1_paper[3] = e^(-nu/2)*Omegap1\n",
    "\n",
    "vu2_paper = [0,0,0,0]\n",
    "vu2_paper[0] = e^(-3*nu/2)*(1/2*K2[0,0]+3/4*e^(-nu)*K1[0,0]+2*Omegap1*K1[0,3]+Omegap1^2*r^2*sin(th)^2)\n",
    "vu2_paper[3] = e^(-nu/2)*(e^(-nu)*K1[0,0]*Omegap1)  \n",
    "\n",
    "vu1_check = [ii-jj for (ii,jj) in zip(vu1, vu1_paper)]\n",
    "vu2_check = [ii-jj for (ii,jj) in zip(vu2, vu2_paper)]\n",
    "\n",
    "show(LatexExpr(\"v^{(1)} \\\\rightarrow\"), vu1_check==[0,0,0,0])\n",
    "show(LatexExpr(\"v^{(2)} \\\\rightarrow\"), vu2_check==[0,0,0,0])"
   ]
  },
  {
   "cell_type": "markdown",
   "metadata": {},
   "source": [
    "## <center> Ecuación de Einstein </center>"
   ]
  },
  {
   "cell_type": "code",
   "execution_count": 17,
   "metadata": {},
   "outputs": [],
   "source": [
    "fn = function('n')(r,th,eps)\n",
    "fp = function('p')(r,th,eps)\n",
    "fx = function('x')(r,th,eps)\n",
    "\n",
    "n0 = function('n0', latex_name=\"n_0\")(r)\n",
    "p0 = function('p0', latex_name=\"p_0\")(r)\n",
    "\n",
    "eta = function('eta', latex_name=\"\\\\eta\")(r,th)\n",
    "Phi = function('Phi', latex_name=\"\\\\Phi\")(r,th)\n",
    "\n",
    "fn2 = function('n2')(r,th,eps)\n",
    "fp2 = function('p2')(r,th,eps)\n",
    "fx2 = function('x2')(r,th,eps)\n",
    "\n",
    "neu = [fn*ii for ii in ueu] #eq 13 AC\n",
    "peu = [fp*ii for ii in veu] #eq 13 AC\n",
    "\n",
    "ned = [fn*ii for ii in ued]\n",
    "ped = [fp*ii for ii in ved]\n",
    "\n",
    "nd = copy(ned)\n",
    "pd = copy(ped)\n",
    "for ii in range(4):\n",
    "    for jj in range(len(sus_func)):\n",
    "        nd[ii] = nd[ii].subs(sus_func[jj])\n",
    "        pd[ii] = pd[ii].subs(sus_func[jj])\n",
    "\n",
    "x2_value = 0\n",
    "for ii in range(4):\n",
    "    x2_value -= neu[ii]*ped[ii]"
   ]
  },
  {
   "cell_type": "code",
   "execution_count": 18,
   "metadata": {},
   "outputs": [],
   "source": [
    "s_n(r,th,eps) = n0*(1+eps^2*eta)\n",
    "s_p(r,th,eps) = p0*(1+eps^2*Phi)\n",
    "s_x(r,th,eps) = sqrt(x2_value)\n",
    "\n",
    "s_n2(r,th,eps) = (n0*(1+eps^2*eta))^2\n",
    "s_p2(r,th,eps) = (p0*(1+eps^2*Phi))^2\n",
    "s_x2(r,th,eps) = x2_value\n",
    "\n",
    "sus_cuadrados = [function('n2'), s_n2,\n",
    "                 function('p2'), s_p2,\n",
    "                 function('x2'), s_x2,\n",
    "                 function('n'), s_n,\n",
    "                 function('p'), s_p,\n",
    "                 function('x'), s_x]"
   ]
  },
  {
   "cell_type": "code",
   "execution_count": 19,
   "metadata": {},
   "outputs": [],
   "source": [
    "Lambdae = function('Lambdae', latex_name='\\\\Lambda_{\\\\varepsilon}')(fn2, fp2, fx2)\n",
    "Psie = function('Psie', latex_name='\\\\Psi_{\\\\varepsilon}')(fn2, fp2, fx2)\n",
    "\n",
    "A = -formal_diff(Lambdae, fx2)\n",
    "B = -2*formal_diff(Lambdae, fn2)\n",
    "C = -2*formal_diff(Lambdae, fp2)\n",
    "\n",
    "mued1 = [B*ii for ii in ned]\n",
    "mued2 = [A*ii for ii in ped]\n",
    "chied1 = [C*ii for ii in ped]\n",
    "chied2 = [A*ii for ii in ned]\n",
    "\n",
    "mued = [0,0,0,0]\n",
    "chied = [0,0,0,0]\n",
    "for ii in range(4):\n",
    "    mued[ii] = mued1[ii] + mued2[ii]\n",
    "    chied[ii] = chied1[ii] + chied2[ii]\n",
    "\n",
    "mueu = [0,0,0,0]\n",
    "chieu = [0,0,0,0]\n",
    "for ii in range(4):\n",
    "    for jj in range(4):\n",
    "        mueu[ii] += mued[jj]*geuu[ii,jj]\n",
    "        chieu[ii] += chied[jj]*geuu[ii,jj]\n",
    "\n",
    "A0 = copy(A)\n",
    "B0 = copy(B)\n",
    "C0 = copy(C)\n",
    "for ii in range(0,len(sus_cuadrados),2):\n",
    "    A0 = A0.substitute_function(sus_cuadrados[ii],sus_cuadrados[ii+1])\n",
    "    B0 = B0.substitute_function(sus_cuadrados[ii],sus_cuadrados[ii+1])\n",
    "    C0 = C0.substitute_function(sus_cuadrados[ii],sus_cuadrados[ii+1])\n",
    "\n",
    "for ii in range(len(sus_func)):\n",
    "    A0 = A0.subs(sus_func[ii])\n",
    "    B0 = B0.subs(sus_func[ii])\n",
    "    C0 = C0.subs(sus_func[ii])"
   ]
  },
  {
   "cell_type": "markdown",
   "metadata": {},
   "source": [
    "## <center> $\\mu_c$ $\\&$ $\\chi_c$ </center>"
   ]
  },
  {
   "cell_type": "code",
   "execution_count": 20,
   "metadata": {},
   "outputs": [],
   "source": [
    "omegane = sin(th)*sqrt(Ke)*(Nphie-Omegane)/Ne\n",
    "omegape = sin(th)*sqrt(Ke)*(Nphie-Omegape)/Ne"
   ]
  },
  {
   "cell_type": "code",
   "execution_count": 21,
   "metadata": {},
   "outputs": [],
   "source": [
    "tu = [1,0,0,0]\n",
    "td = [0,0,0,0]\n",
    "for ii in range(4):\n",
    "    for jj in range(4):\n",
    "        td[ii] += tu[jj]*gedd[ii,jj]\n",
    "\n",
    "phiu = [0,0,0,1]\n",
    "phid = [0,0,0,0]\n",
    "for ii in range(4):\n",
    "    for jj in range(4):\n",
    "        phid[ii] += phiu[jj]*gedd[ii,jj]"
   ]
  },
  {
   "cell_type": "code",
   "execution_count": 22,
   "metadata": {
    "scrolled": false
   },
   "outputs": [
    {
     "data": {
      "text/html": [
       "<html>\\[\\newcommand{\\Bold}[1]{\\mathbf{#1}}\\mu_c\\lvert_{\\varepsilon=0} \\rightarrow  \\mathrm{True}\\]</html>"
      ],
      "text/latex": [
       "$$\\newcommand{\\Bold}[1]{\\mathbf{#1}}\\mu_c\\lvert_{\\varepsilon=0} \\rightarrow  \\mathrm{True}$$"
      ],
      "text/plain": [
       "\\mu_c\\lvert_{\\varepsilon=0} \\rightarrow  True"
      ]
     },
     "metadata": {},
     "output_type": "display_data"
    },
    {
     "data": {
      "text/html": [
       "<html>\\[\\newcommand{\\Bold}[1]{\\mathbf{#1}}\\frac{d \\mu_c}{d \\varepsilon}\\bigg\\lvert_{\\varepsilon=0} \\rightarrow  \\mathrm{True}\\]</html>"
      ],
      "text/latex": [
       "$$\\newcommand{\\Bold}[1]{\\mathbf{#1}}\\frac{d \\mu_c}{d \\varepsilon}\\bigg\\lvert_{\\varepsilon=0} \\rightarrow  \\mathrm{True}$$"
      ],
      "text/plain": [
       "\\frac{d \\mu_c}{d \\varepsilon}\\bigg\\lvert_{\\varepsilon=0} \\rightarrow  True"
      ]
     },
     "metadata": {},
     "output_type": "display_data"
    },
    {
     "data": {
      "text/html": [
       "<html>\\[\\newcommand{\\Bold}[1]{\\mathbf{#1}}\\frac{d^2 \\mu_c}{d \\varepsilon^2}\\bigg\\lvert_{\\varepsilon=0} \\rightarrow  \\mathrm{True}\\]</html>"
      ],
      "text/latex": [
       "$$\\newcommand{\\Bold}[1]{\\mathbf{#1}}\\frac{d^2 \\mu_c}{d \\varepsilon^2}\\bigg\\lvert_{\\varepsilon=0} \\rightarrow  \\mathrm{True}$$"
      ],
      "text/plain": [
       "\\frac{d^2 \\mu_c}{d \\varepsilon^2}\\bigg\\lvert_{\\varepsilon=0} \\rightarrow  True"
      ]
     },
     "metadata": {},
     "output_type": "display_data"
    }
   ],
   "source": [
    "muecd = [0,0,0,0]\n",
    "muecd[0] = td[0] + eps*Omegan1*phid[0]\n",
    "muecd[1] = td[1] + eps*Omegan1*phid[1]\n",
    "muecd[2] = td[2] + eps*Omegan1*phid[2]\n",
    "muecd[3] = td[3] + eps*Omegan1*phid[3]\n",
    "\n",
    "muec = 0\n",
    "for ii in range(4):\n",
    "    muec -= muecd[ii]*mueu[ii]\n",
    "\n",
    "muec_paper = Ne*(B*fn*sqrt(1-omegane^2)+A*fp*(1-omegane*omegape)/sqrt(1-omegape^2))\n",
    "muec_check = muec - muec_paper\n",
    "\n",
    "muc = copy(muec)\n",
    "muc_paper = copy(muec_paper)\n",
    "muc_check = copy(muec_check)\n",
    "for ii in range(0,len(sus_cuadrados),2):\n",
    "    muc = muc.substitute_function(sus_cuadrados[ii],sus_cuadrados[ii+1])\n",
    "    muc_paper = muc_paper.substitute_function(sus_cuadrados[ii],sus_cuadrados[ii+1])\n",
    "    muc_check = muc_check.substitute_function(sus_cuadrados[ii],sus_cuadrados[ii+1])\n",
    "for ii in range(len(sus_func)):\n",
    "    muc = muc.subs(sus_func[ii])\n",
    "    muc_paper = muc_paper.subs(sus_func[ii])\n",
    "    muc_check = muc_check.subs(sus_func[ii])\n",
    "show(LatexExpr(\"\\\\mu_c\\\\lvert_{\\\\varepsilon=0} \\\\rightarrow \"), bool(muc_check==0))\n",
    "\n",
    "dmuc = formal_diff(muec,eps)\n",
    "dmuc_paper = formal_diff(muec_paper,eps)\n",
    "dmuc_check = formal_diff(muec_check,eps)\n",
    "for ii in range(0,len(sus_cuadrados),2):\n",
    "    dmuc = dmuc.substitute_function(sus_cuadrados[ii],sus_cuadrados[ii+1])\n",
    "    dmuc_paper = dmuc_paper.substitute_function(sus_cuadrados[ii],sus_cuadrados[ii+1])\n",
    "    dmuc_check = dmuc_check.substitute_function(sus_cuadrados[ii],sus_cuadrados[ii+1])\n",
    "for ii in range(len(sus_func)):\n",
    "    dmuc = dmuc.subs(sus_func[ii])\n",
    "    dmuc_paper = dmuc_paper.subs(sus_func[ii])\n",
    "    dmuc_check = dmuc_check.subs(sus_func[ii])\n",
    "show(LatexExpr(\"\\\\frac{d \\\\mu_c}{d \\\\varepsilon}\\\\bigg\\\\lvert_{\\\\varepsilon=0} \\\\rightarrow \"),\n",
    "     bool(dmuc_check==0))\n",
    "\n",
    "ddmuc = formal_diff(formal_diff(muec,eps),eps)\n",
    "ddmuc_paper = formal_diff(formal_diff(muec_paper,eps),eps)\n",
    "ddmuc_check = formal_diff(formal_diff(muec_check,eps),eps)\n",
    "for ii in range(0,len(sus_cuadrados),2):\n",
    "    ddmuc = ddmuc.substitute_function(sus_cuadrados[ii],sus_cuadrados[ii+1])\n",
    "    ddmuc_paper = ddmuc_paper.substitute_function(sus_cuadrados[ii],sus_cuadrados[ii+1])\n",
    "    ddmuc_check = ddmuc_check.substitute_function(sus_cuadrados[ii],sus_cuadrados[ii+1])\n",
    "for ii in range(len(sus_func)):\n",
    "    ddmuc = ddmuc.subs(sus_func[ii])\n",
    "    ddmuc_paper = ddmuc_paper.subs(sus_func[ii])\n",
    "    ddmuc_check = ddmuc_check.subs(sus_func[ii])\n",
    "ddmuc_check = ddmuc_check.simplify_full()\n",
    "show(LatexExpr(\"\\\\frac{d^2 \\\\mu_c}{d \\\\varepsilon^2}\\\\bigg\\\\lvert_{\\\\varepsilon=0} \\\\rightarrow \"),\n",
    "     bool(ddmuc_check==0))"
   ]
  },
  {
   "cell_type": "code",
   "execution_count": 23,
   "metadata": {},
   "outputs": [
    {
     "data": {
      "text/html": [
       "<html>\\[\\newcommand{\\Bold}[1]{\\mathbf{#1}}\\chi_c\\lvert_{\\varepsilon=0} \\rightarrow  \\mathrm{True}\\]</html>"
      ],
      "text/latex": [
       "$$\\newcommand{\\Bold}[1]{\\mathbf{#1}}\\chi_c\\lvert_{\\varepsilon=0} \\rightarrow  \\mathrm{True}$$"
      ],
      "text/plain": [
       "\\chi_c\\lvert_{\\varepsilon=0} \\rightarrow  True"
      ]
     },
     "metadata": {},
     "output_type": "display_data"
    },
    {
     "data": {
      "text/html": [
       "<html>\\[\\newcommand{\\Bold}[1]{\\mathbf{#1}}\\frac{d \\chi_c}{d \\varepsilon}\\bigg\\lvert_{\\varepsilon=0} \\rightarrow  \\mathrm{True}\\]</html>"
      ],
      "text/latex": [
       "$$\\newcommand{\\Bold}[1]{\\mathbf{#1}}\\frac{d \\chi_c}{d \\varepsilon}\\bigg\\lvert_{\\varepsilon=0} \\rightarrow  \\mathrm{True}$$"
      ],
      "text/plain": [
       "\\frac{d \\chi_c}{d \\varepsilon}\\bigg\\lvert_{\\varepsilon=0} \\rightarrow  True"
      ]
     },
     "metadata": {},
     "output_type": "display_data"
    },
    {
     "data": {
      "text/html": [
       "<html>\\[\\newcommand{\\Bold}[1]{\\mathbf{#1}}\\frac{d^2 \\chi_c}{d \\varepsilon^2}\\bigg\\lvert_{\\varepsilon=0} \\rightarrow  \\mathrm{True}\\]</html>"
      ],
      "text/latex": [
       "$$\\newcommand{\\Bold}[1]{\\mathbf{#1}}\\frac{d^2 \\chi_c}{d \\varepsilon^2}\\bigg\\lvert_{\\varepsilon=0} \\rightarrow  \\mathrm{True}$$"
      ],
      "text/plain": [
       "\\frac{d^2 \\chi_c}{d \\varepsilon^2}\\bigg\\lvert_{\\varepsilon=0} \\rightarrow  True"
      ]
     },
     "metadata": {},
     "output_type": "display_data"
    }
   ],
   "source": [
    "chiecd = [0,0,0,0]\n",
    "chiecd[0] = td[0] + eps*Omegap1*phid[0]\n",
    "chiecd[1] = td[1] + eps*Omegap1*phid[1]\n",
    "chiecd[2] = td[2] + eps*Omegap1*phid[2]\n",
    "chiecd[3] = td[3] + eps*Omegap1*phid[3]\n",
    "\n",
    "chiec = 0\n",
    "for ii in range(4):\n",
    "    chiec -= chiecd[ii]*chieu[ii]\n",
    "\n",
    "chiec_paper = Ne*(C*fp*sqrt(1-omegape^2)+A*fn*(1-omegane*omegape)/sqrt(1-omegane^2))\n",
    "chiec_check = chiec - chiec_paper\n",
    "\n",
    "chic = copy(chiec)\n",
    "chic_paper = copy(chiec_paper)\n",
    "chic_check = copy(chiec_check)\n",
    "for ii in range(0,len(sus_cuadrados),2):\n",
    "    chic = muc.substitute_function(sus_cuadrados[ii],sus_cuadrados[ii+1])\n",
    "    chic_paper = muc_paper.substitute_function(sus_cuadrados[ii],sus_cuadrados[ii+1])\n",
    "    chic_check = muc_check.substitute_function(sus_cuadrados[ii],sus_cuadrados[ii+1])\n",
    "for ii in range(len(sus_func)):\n",
    "    chic = chic.subs(sus_func[ii])\n",
    "    chic_paper = chic_paper.subs(sus_func[ii])\n",
    "    chic_check = chic_check.subs(sus_func[ii])\n",
    "show(LatexExpr(\"\\\\chi_c\\\\lvert_{\\\\varepsilon=0} \\\\rightarrow \"), bool(chic_check==0))\n",
    "\n",
    "dchic = formal_diff(chiec,eps)\n",
    "dchic_paper = formal_diff(chiec_paper,eps)\n",
    "dchic_check = formal_diff(chiec_check,eps)\n",
    "for ii in range(0,len(sus_cuadrados),2):\n",
    "    dchic = dchic.substitute_function(sus_cuadrados[ii],sus_cuadrados[ii+1])\n",
    "    dchic_paper = dchic_paper.substitute_function(sus_cuadrados[ii],sus_cuadrados[ii+1])\n",
    "    dchic_check = dchic_check.substitute_function(sus_cuadrados[ii],sus_cuadrados[ii+1])\n",
    "for ii in range(len(sus_func)):\n",
    "    dchic = dchic.subs(sus_func[ii])\n",
    "    dchic_paper = dchic_paper.subs(sus_func[ii])\n",
    "    dchic_check = dchic_check.subs(sus_func[ii])\n",
    "show(LatexExpr(\"\\\\frac{d \\\\chi_c}{d \\\\varepsilon}\\\\bigg\\\\lvert_{\\\\varepsilon=0} \\\\rightarrow \"),\n",
    "     bool(dmuc_check==0))\n",
    "\n",
    "ddchic = formal_diff(formal_diff(chiec,eps),eps)\n",
    "ddchic_paper = formal_diff(formal_diff(chiec_paper,eps),eps)\n",
    "ddchic_check = formal_diff(formal_diff(chiec_check,eps),eps)\n",
    "for ii in range(0,len(sus_cuadrados),2):\n",
    "    ddchic = ddchic.substitute_function(sus_cuadrados[ii],sus_cuadrados[ii+1])\n",
    "    ddchic_paper = ddchic_paper.substitute_function(sus_cuadrados[ii],sus_cuadrados[ii+1])\n",
    "    ddchic_check = ddchic_check.substitute_function(sus_cuadrados[ii],sus_cuadrados[ii+1])\n",
    "for ii in range(len(sus_func)):\n",
    "    ddchic_check = ddchic_check.subs(sus_func[ii])\n",
    "ddchic_check = ddchic_check.simplify_full()\n",
    "show(LatexExpr(\"\\\\frac{d^2 \\\\chi_c}{d \\\\varepsilon^2}\\\\bigg\\\\lvert_{\\\\varepsilon=0} \\\\rightarrow \"),\n",
    "     bool(ddchic_check==0))"
   ]
  },
  {
   "cell_type": "code",
   "execution_count": 24,
   "metadata": {},
   "outputs": [],
   "source": [
    "Psie = Lambdae - sum([ii*jj for (ii,jj) in zip(neu, mued)]) - sum([ii*jj for (ii,jj) in zip(peu, chied)])\n",
    "\n",
    "LambdaePsie = Psie - Lambdae\n",
    "\n",
    "dirac = diagonal_matrix([1,1,1,1])\n",
    "\n",
    "Teud, dTeud, ddTeud = matrix(SR, 4, 4), matrix(SR, 4, 4), matrix(SR, 4, 4)\n",
    "for ii in range(4):\n",
    "    for jj in range(4):\n",
    "        Teud[ii,jj] = Psie*dirac[ii,jj] + peu[ii]*chied[jj] + neu[ii]*mued[jj]\n",
    "for ii in range(4):\n",
    "    for jj in range(4):\n",
    "        dTeud[ii,jj] = formal_diff(Teud[ii,jj],eps)\n",
    "        ddTeud[ii,jj] = formal_diff(formal_diff(Teud[ii,jj],eps),eps)\n",
    "\n",
    "Te, dTe, ddTe = matrix(SR, 4, 4), matrix(SR, 4, 4), matrix(SR, 4, 4)\n",
    "for ii in range(4):\n",
    "    for jj in range(4):\n",
    "        for kk in range(4):\n",
    "            Te[ii,jj] += Teud[kk,jj]*gedd[kk,ii]\n",
    "\n",
    "        dTe[ii,jj] = formal_diff(Te[ii,jj],eps)\n",
    "        ddTe[ii,jj] = formal_diff(formal_diff(Te[ii,jj],eps),eps)\n",
    "\n",
    "kappa = 8*pi"
   ]
  },
  {
   "cell_type": "code",
   "execution_count": 25,
   "metadata": {},
   "outputs": [],
   "source": [
    "j = e^(-(lamb+nu)/2)\n",
    "M = r*(1-e^(-lamb))/2\n",
    "\n",
    "dG = copy(dGe)\n",
    "dT = copy(dTe)\n",
    "for ii in range(0,len(sus_func)):\n",
    "    dG = dG.subs(sus_func[ii])\n",
    "    dT = dT.subs(sus_func[ii])"
   ]
  },
  {
   "cell_type": "code",
   "execution_count": 26,
   "metadata": {
    "scrolled": true
   },
   "outputs": [
    {
     "data": {
      "text/html": [
       "<html>\\[\\newcommand{\\Bold}[1]{\\mathbf{#1}}\\text{Eq 26.1} \\rightarrow \\mathrm{True}\\]</html>"
      ],
      "text/latex": [
       "$$\\newcommand{\\Bold}[1]{\\mathbf{#1}}\\text{Eq 26.1} \\rightarrow \\mathrm{True}$$"
      ],
      "text/plain": [
       "\\text{Eq 26.1} \\rightarrow True"
      ]
     },
     "metadata": {},
     "output_type": "display_data"
    },
    {
     "data": {
      "text/html": [
       "<html>\\[\\newcommand{\\Bold}[1]{\\mathbf{#1}}\\text{Eq 26.2} \\rightarrow \\mathrm{True}\\]</html>"
      ],
      "text/latex": [
       "$$\\newcommand{\\Bold}[1]{\\mathbf{#1}}\\text{Eq 26.2} \\rightarrow \\mathrm{True}$$"
      ],
      "text/plain": [
       "\\text{Eq 26.2} \\rightarrow True"
      ]
     },
     "metadata": {},
     "output_type": "display_data"
    }
   ],
   "source": [
    "mue = B*fn + A*fp #eq 22 C\n",
    "chie = A*fn + C*fp #eq 22 C\n",
    "\n",
    "muinf = -mued[0] #eq 20\n",
    "chiinf = -chied[0] #eq 20\n",
    "for ii in range(0,len(sus_cuadrados),2):\n",
    "    muinf = muinf.substitute_function(sus_cuadrados[ii],sus_cuadrados[ii+1])\n",
    "    chiinf = chiinf.substitute_function(sus_cuadrados[ii],sus_cuadrados[ii+1])\n",
    "for ii in range(len(sus_func)):\n",
    "    muinf = muinf.subs(sus_func[ii])\n",
    "    chiinf = chiinf.subs(sus_func[ii])\n",
    "\n",
    "eq_mu = formal_diff(muinf,r)\n",
    "eq_chi = formal_diff(chiinf,r)\n",
    "for ii in range(0,len(sus_cuadrados),2):\n",
    "    eq_mu = eq_mu.substitute_function(sus_cuadrados[ii],sus_cuadrados[ii+1])\n",
    "    eq_chi = eq_chi.substitute_function(sus_cuadrados[ii],sus_cuadrados[ii+1])\n",
    "for ii in range(len(sus_func)):\n",
    "    eq_mu = eq_mu.subs(sus_func[ii])\n",
    "    eq_chi = eq_chi.subs(sus_func[ii])\n",
    "\n",
    "A00 = A+2*formal_diff(B,fp2)*fn*fp+2*formal_diff(A,fn2)*fn2  +2*formal_diff(A,fp2)*fp2 + formal_diff(A,fx2)*fn*fp\n",
    "B00 = B+2*formal_diff(B,fn2)*fn2  +4*formal_diff(A,fn2)*fn*fp+formal_diff(A,fx2)*fp2\n",
    "C00 = C+2*formal_diff(C,fp2)*fp2  +4*formal_diff(A,fp2)*fn*fp+formal_diff(A,fx2)*fn2\n",
    "\n",
    "A000 = copy(A00)\n",
    "B000 = copy(B00)\n",
    "C000 = copy(C00)\n",
    "for ii in range(0,len(sus_cuadrados),2):\n",
    "    A000 = A000.substitute_function(sus_cuadrados[ii],sus_cuadrados[ii+1])\n",
    "    B000 = B000.substitute_function(sus_cuadrados[ii],sus_cuadrados[ii+1])\n",
    "    C000 = C000.substitute_function(sus_cuadrados[ii],sus_cuadrados[ii+1])\n",
    "for ii in range(len(sus_func)):\n",
    "    A000 = A000.subs(sus_func[ii])\n",
    "    B000 = B000.subs(sus_func[ii])\n",
    "    C000 = C000.subs(sus_func[ii])\n",
    "\n",
    "eq26_1 = A000*formal_diff(fp,r) + B000*formal_diff(fn,r) + 1/2*(B0*n0 + A0*p0)*formal_diff(nu,r)\n",
    "eq26_2 = C000*formal_diff(fp,r) + A000*formal_diff(fn,r) + 1/2*(A0*n0 + C0*p0)*formal_diff(nu,r)\n",
    "for ii in range(0,len(sus_cuadrados),2):\n",
    "    eq26_1 = eq26_1.substitute_function(sus_cuadrados[ii],sus_cuadrados[ii+1])\n",
    "    eq26_2 = eq26_2.substitute_function(sus_cuadrados[ii],sus_cuadrados[ii+1])\n",
    "for ii in range(len(sus_func)):\n",
    "    eq26_1 = eq26_1.subs(sus_func[ii])\n",
    "    eq26_2 = eq26_2.subs(sus_func[ii])\n",
    "\n",
    "eq_mu = eq_mu*e^(-nu/2)\n",
    "eq_mu_check = eq_mu - eq26_1\n",
    "eq_chi = eq_chi*e^(-nu/2)\n",
    "eq_chi_check = eq_chi - eq26_2\n",
    "\n",
    "show(LatexExpr(\"\\\\text{Eq 26.1} \\\\rightarrow\"), bool(eq_mu_check==0))\n",
    "show(LatexExpr(\"\\\\text{Eq 26.2} \\\\rightarrow\"), bool(eq_chi_check==0))"
   ]
  },
  {
   "cell_type": "code",
   "execution_count": 27,
   "metadata": {
    "scrolled": true
   },
   "outputs": [],
   "source": [
    "dp0_value = solve(eq26_1, formal_diff(p0,r))[0].rhs()\n",
    "for ii in range(0,len(sus_cuadrados),2):\n",
    "    dp0_value = dp0_value.substitute_function(sus_cuadrados[ii],sus_cuadrados[ii+1])\n",
    "for ii in range(len(sus_func)):\n",
    "    dp0_value = dp0_value.subs(sus_func[ii])\n",
    "dp0_value = dp0_value.simplify_full()\n",
    "\n",
    "eq26_2 = eq26_2.subs(formal_diff(fp,r).subs(eps==0)==dp0_value)\n",
    "\n",
    "dn0_value = solve(eq26_2, diff(n0,r))[0].rhs()\n",
    "for ii in range(0,len(sus_cuadrados),2):\n",
    "    dn0_value = dn0_value.substitute_function(sus_cuadrados[ii],sus_cuadrados[ii+1])\n",
    "for ii in range(len(sus_func)):\n",
    "    dn0_value = dn0_value.subs(sus_func[ii])\n",
    "dn0_value = dn0_value.simplify_full()\n",
    "\n",
    "dp0_value = dp0_value.subs(formal_diff(fn,r).subs(eps==0)==dn0_value).simplify_full()\n",
    "\n",
    "sus_func.extend([formal_diff(n0,r)==dn0_value,\n",
    "                 formal_diff(p0,r)==dp0_value])"
   ]
  },
  {
   "cell_type": "markdown",
   "metadata": {},
   "source": [
    "# <center> $G_{\\mu\\nu} = \\kappa T_{\\mu\\nu}$ </center>"
   ]
  },
  {
   "cell_type": "code",
   "execution_count": 28,
   "metadata": {},
   "outputs": [],
   "source": [
    "Lambda0 = copy(Lambdae)\n",
    "Psi0 = copy(Psie)\n",
    "for ii in range(0,len(sus_cuadrados),2):\n",
    "    Lambda0 = Lambda0.substitute_function(sus_cuadrados[ii],sus_cuadrados[ii+1])\n",
    "    Psi0 = Psi0.substitute_function(sus_cuadrados[ii],sus_cuadrados[ii+1])\n",
    "for ii in range(len(sus_func)):\n",
    "    Lambda0 = Lambda0.subs(sus_func[ii])\n",
    "    Psi0 = Psi0.subs(sus_func[ii])\n",
    "\n",
    "G = copy(Ge)\n",
    "T = copy(Te)\n",
    "for ii in range(4):\n",
    "    for jj in range(4):\n",
    "        for kk in range(0, len(sus_cuadrados), 2):\n",
    "            G[ii,jj] = G[ii,jj].substitute_function(sus_cuadrados[kk],sus_cuadrados[kk+1])\n",
    "            T[ii,jj] = T[ii,jj].substitute_function(sus_cuadrados[kk],sus_cuadrados[kk+1])\n",
    "for ii in range(4):\n",
    "    for jj in range(4):\n",
    "        for kk in range(len(sus_func)):\n",
    "            G[ii,jj] = G[ii,jj].subs(sus_func[kk])\n",
    "            T[ii,jj] = T[ii,jj].subs(sus_func[kk])\n",
    "G = G.simplify_full()\n",
    "T = T.simplify_full()"
   ]
  },
  {
   "cell_type": "markdown",
   "metadata": {},
   "source": [
    "## <center> $G_{00} = \\kappa T_{00}$ </center>"
   ]
  },
  {
   "cell_type": "code",
   "execution_count": 29,
   "metadata": {},
   "outputs": [
    {
     "data": {
      "text/html": [
       "<html>\\[\\newcommand{\\Bold}[1]{\\mathbf{#1}}\\lambda' \\rightarrow \\mathrm{True}\\]</html>"
      ],
      "text/latex": [
       "$$\\newcommand{\\Bold}[1]{\\mathbf{#1}}\\lambda' \\rightarrow \\mathrm{True}$$"
      ],
      "text/plain": [
       "\\lambda' \\rightarrow True"
      ]
     },
     "metadata": {},
     "output_type": "display_data"
    }
   ],
   "source": [
    "dlamb_value = solve(G[0,0] - kappa*T[0,0] == 0, formal_diff(lamb, r))[0].rhs().simplify_full()\n",
    "dlamb_paper = (1-e^(lamb))/r - 8*pi*r*e^(lamb)*Lambda0\n",
    "dlamb_check = dlamb_value - dlamb_paper\n",
    "show(LatexExpr(\"\\\\lambda' \\\\rightarrow\"), bool(dlamb_check==0))\n",
    "\n",
    "for ii in range(0, len(sus_cuadrados), 2):\n",
    "    dlamb_value = dlamb_value.substitute_function(sus_cuadrados[ii],sus_cuadrados[ii+1])\n",
    "for ii in range(len(sus_func)):\n",
    "    dlamb_value = dlamb_value.subs(sus_func[ii])\n",
    "dlamb_value = dlamb_value.simplify_full()\n",
    "\n",
    "sus_func.extend([formal_diff(lamb,r)==dlamb_value])"
   ]
  },
  {
   "cell_type": "markdown",
   "metadata": {},
   "source": [
    "## <center> $G_{11} = \\kappa T_{11}$ </center>\n"
   ]
  },
  {
   "cell_type": "code",
   "execution_count": 30,
   "metadata": {
    "scrolled": false
   },
   "outputs": [
    {
     "data": {
      "text/html": [
       "<html>\\[\\newcommand{\\Bold}[1]{\\mathbf{#1}}\\nu' \\rightarrow \\mathrm{True}\\]</html>"
      ],
      "text/latex": [
       "$$\\newcommand{\\Bold}[1]{\\mathbf{#1}}\\nu' \\rightarrow \\mathrm{True}$$"
      ],
      "text/plain": [
       "\\nu' \\rightarrow True"
      ]
     },
     "metadata": {},
     "output_type": "display_data"
    }
   ],
   "source": [
    "dnu_value_11 = solve(G[1,1] - kappa*T[1,1] == 0, formal_diff(nu, r))[0].rhs().simplify_full()\n",
    "dnu_paper = -(1-e^(lamb))/r + 8*pi*r*e^(lamb)*Psi0\n",
    "dnu_check_11 = dnu_value_11 - dnu_paper\n",
    "show(LatexExpr(\"\\\\nu' \\\\rightarrow\"), bool(dnu_check_11==0))\n",
    "\n",
    "for ii in range(0, len(sus_cuadrados), 2):\n",
    "    dnu_value_11 = dnu_value_11.substitute_function(sus_cuadrados[ii],sus_cuadrados[ii+1])\n",
    "for ii in range(len(sus_func)):\n",
    "    dnu_value_11 = dnu_value_11.subs(sus_func[ii])\n",
    "dnu_value_11 = dnu_value_11.simplify_full()\n",
    "\n",
    "sus_func.extend([formal_diff(nu,r)==dnu_value_11])"
   ]
  },
  {
   "cell_type": "code",
   "execution_count": 31,
   "metadata": {
    "scrolled": true
   },
   "outputs": [],
   "source": [
    "#ddnu_value_11 = formal_diff(dnu_value_11,r).simplify_full()\n",
    "#for ii in range(0, len(sus_cuadrados), 2):\n",
    "#    ddnu_value_11 = ddnu_value_11.substitute_function(sus_cuadrados[ii],sus_cuadrados[ii+1])\n",
    "#for ii in range(len(sus_func)):\n",
    "#    ddnu_value_11 = ddnu_value_11.subs(sus_func[ii])\n",
    "#ddnu_value_11 = ddnu_value_11.simplify_full()\n",
    "#\n",
    "#ddnu_paper = 2*r*formal_diff(formal_diff(nu,r),r)\\\n",
    "#           + formal_diff(nu,r)*(r*formal_diff(nu,r)-2)\\\n",
    "#           - formal_diff(lamb,r)*(2+r*formal_diff(nu,r))\\\n",
    "#           + 4/r*(e^(lamb)-1) == 0\n",
    "#\n",
    "#ddnu_paper = solve(ddnu_paper, formal_diff(formal_diff(nu,r),r))[0].rhs().simplify_full()\n",
    "#for ii in range(0, len(sus_cuadrados), 2):\n",
    "#    ddnu_paper = ddnu_paper.substitute_function(sus_cuadrados[ii],sus_cuadrados[ii+1])\n",
    "#for ii in range(len(sus_func)):\n",
    "#    ddnu_paper = ddnu_paper.subs(sus_func[ii])\n",
    "#ddnu_paper = ddnu_paper.simplify_full()\n",
    "#ddnu_check_11 = (ddnu_value_11 - ddnu_paper).simplify_full()\n",
    "#show(LatexExpr(\"\\\\nu'' \\\\rightarrow\"), bool(ddnu_check_11==0))"
   ]
  },
  {
   "cell_type": "markdown",
   "metadata": {},
   "source": [
    "## <center> $G_{11} = \\kappa T_{11}$ y $G_{22} = \\kappa T_{22}$ </center>\n"
   ]
  },
  {
   "cell_type": "code",
   "execution_count": 32,
   "metadata": {},
   "outputs": [
    {
     "data": {
      "text/html": [
       "<html>\\[\\newcommand{\\Bold}[1]{\\mathbf{#1}}\\nu'' \\rightarrow \\mathrm{True}\\]</html>"
      ],
      "text/latex": [
       "$$\\newcommand{\\Bold}[1]{\\mathbf{#1}}\\nu'' \\rightarrow \\mathrm{True}$$"
      ],
      "text/plain": [
       "\\nu'' \\rightarrow True"
      ]
     },
     "metadata": {},
     "output_type": "display_data"
    }
   ],
   "source": [
    "dnu_value_22 = solve(G[2,2] - kappa*T[2,2] == 0, formal_diff(nu, r))[0].rhs().simplify_full()\n",
    "\n",
    "dEq_1122 = (dnu_value_11 - dnu_value_22 == 0)*e^(nu)*2*r\n",
    "dEq_1122 = dEq_1122 + 32*pi*r^2*e^(lamb + nu)*fn^2*formal_diff(Lambdae, fn2)\\\n",
    "                    + 32*pi*r^2*e^(lamb + nu)*fp^2*formal_diff(Lambdae, fp2)\\\n",
    "                    + 32*pi*r^2*e^(lamb + nu)*fx^2*formal_diff(Lambdae, fx2)\\\n",
    "                    - 16*pi*r^2*Lambdae*e^(lamb + nu)\\\n",
    "                    + r*e^(nu)*formal_diff(lamb,r)\\\n",
    "                    - 2*e^(lamb + nu)\n",
    "\n",
    "for ii in range(0, len(sus_cuadrados), 2):\n",
    "    dEq_1122 = dEq_1122.substitute_function(sus_cuadrados[ii],sus_cuadrados[ii+1])\n",
    "for ii in range(len(sus_func)):\n",
    "    dEq_1122 = dEq_1122.subs(sus_func[ii])\n",
    "\n",
    "ddnu_value = solve(dEq_1122^2, formal_diff(formal_diff(nu,r),r))[0].rhs().simplify_full()\n",
    "\n",
    "ddnu_paper = 2*r*formal_diff(formal_diff(nu,r),r)\\\n",
    "           + formal_diff(nu,r)*(r*formal_diff(nu,r)-2)\\\n",
    "           - formal_diff(lamb,r)*(2+r*formal_diff(nu,r))\\\n",
    "           + 4/r*(e^(lamb)-1) == 0\n",
    "\n",
    "ddnu_paper = solve(ddnu_paper, formal_diff(formal_diff(nu,r),r))[0].rhs()\n",
    "for ii in range(0, len(sus_cuadrados), 2):\n",
    "    ddnu_paper = ddnu_paper.substitute_function(sus_cuadrados[ii],sus_cuadrados[ii+1])\n",
    "    ddnu_value = ddnu_value.substitute_function(sus_cuadrados[ii],sus_cuadrados[ii+1])\n",
    "for ii in range(len(sus_func)):\n",
    "    ddnu_paper = ddnu_paper.subs(sus_func[ii])\n",
    "    ddnu_value = ddnu_value.subs(sus_func[ii])\n",
    "\n",
    "ddnu_paper = ddnu_paper.simplify_full()\n",
    "ddnu_value = ddnu_value.simplify_full()\n",
    "\n",
    "ddnu_check = ddnu_value - ddnu_paper\n",
    "show(LatexExpr(\"\\\\nu'' \\\\rightarrow\"), bool(ddnu_check==0))\n",
    "\n",
    "sus_func.extend([formal_diff(formal_diff(nu,r),r)==ddnu_value])"
   ]
  },
  {
   "cell_type": "markdown",
   "metadata": {},
   "source": [
    "# <center> Check $T_{\\mu\\nu}$ </center>"
   ]
  },
  {
   "cell_type": "code",
   "execution_count": 33,
   "metadata": {},
   "outputs": [],
   "source": [
    "Ln = omega - Omegan1\n",
    "Lp = omega - Omegap1\n",
    "\n",
    "mu0 = copy(mue)\n",
    "chi0 = copy(chie)\n",
    "for ii in range(0, len(sus_cuadrados), 2):\n",
    "    mu0 = mu0.substitute_function(sus_cuadrados[ii],sus_cuadrados[ii+1])\n",
    "    chi0 = chi0.substitute_function(sus_cuadrados[ii],sus_cuadrados[ii+1])\n",
    "for ii in range(len(sus_func)):\n",
    "    mu0 = mu0.subs(sus_func[ii])\n",
    "    chi0 = chi0.subs(sus_func[ii])\n",
    "\n",
    "mu0 = mu0.simplify_full()\n",
    "chi0 = chi0.simplify_full()"
   ]
  },
  {
   "cell_type": "code",
   "execution_count": 34,
   "metadata": {
    "scrolled": true
   },
   "outputs": [
    {
     "data": {
      "text/html": [
       "<html>\\[\\newcommand{\\Bold}[1]{\\mathbf{#1}}T_0^0 \\rightarrow \\mathrm{True}\\]</html>"
      ],
      "text/latex": [
       "$$\\newcommand{\\Bold}[1]{\\mathbf{#1}}T_0^0 \\rightarrow \\mathrm{True}$$"
      ],
      "text/plain": [
       "T_0^0 \\rightarrow True"
      ]
     },
     "metadata": {},
     "output_type": "display_data"
    },
    {
     "data": {
      "text/html": [
       "<html>\\[\\newcommand{\\Bold}[1]{\\mathbf{#1}}{T^{(1)}}_0^0 \\rightarrow \\mathrm{True}\\]</html>"
      ],
      "text/latex": [
       "$$\\newcommand{\\Bold}[1]{\\mathbf{#1}}{T^{(1)}}_0^0 \\rightarrow \\mathrm{True}$$"
      ],
      "text/plain": [
       "{T^{(1)}}_0^0 \\rightarrow True"
      ]
     },
     "metadata": {},
     "output_type": "display_data"
    },
    {
     "data": {
      "text/html": [
       "<html>\\[\\newcommand{\\Bold}[1]{\\mathbf{#1}}{T^{(2)}}^0_0 \\rightarrow \\mathrm{True}\\]</html>"
      ],
      "text/latex": [
       "$$\\newcommand{\\Bold}[1]{\\mathbf{#1}}{T^{(2)}}^0_0 \\rightarrow \\mathrm{True}$$"
      ],
      "text/plain": [
       "{T^{(2)}}^0_0 \\rightarrow True"
      ]
     },
     "metadata": {},
     "output_type": "display_data"
    }
   ],
   "source": [
    "Te00_paper = Lambda0\\\n",
    "           - eps^2*mu0*n0*(eta-r^2*sin(th)^2/e^(nu)*Omegan1*Ln)\\\n",
    "           - eps^2*chi0*p0*(Phi-r^2*sin(th)^2/e^(nu)*Omegap1*Lp)\\\n",
    "           + eps^2*r^2*sin(th)^2/(2*e^(nu))*A0*n0*p0*(Omegan1-Omegap1)^2\n",
    "\n",
    "Te00_paper = Te00_paper.simplify_full()\n",
    "dTe00_paper = formal_diff(Te00_paper, eps).simplify_full()\n",
    "ddTe00_paper = formal_diff(dTe00_paper, eps).simplify_full()\n",
    "\n",
    "Te00, dTe00, ddTe00 = Teud[0,0], dTeud[0,0], ddTeud[0,0]\n",
    "\n",
    "# ZERO ORDER\n",
    "Te00_check = Te00 - Te00_paper\n",
    "for ii in range(0, len(sus_cuadrados), 2):\n",
    "    Te00_check = Te00_check.substitute_function(sus_cuadrados[ii],sus_cuadrados[ii+1])\n",
    "for ii in range(len(sus_func)):\n",
    "    Te00_check = Te00_check.subs(sus_func[ii])\n",
    "\n",
    "show(LatexExpr(\"T_0^0 \\\\rightarrow\"), bool(Te00_check==0))\n",
    "\n",
    "# FIRST ORDER\n",
    "dTe00_check = dTe00 - dTe00_paper\n",
    "for ii in range(0, len(sus_cuadrados), 2):\n",
    "    dTe00_check = dTe00_check.substitute_function(sus_cuadrados[ii],sus_cuadrados[ii+1])\n",
    "for ii in range(len(sus_func)):\n",
    "    dTe00_check = dTe00_check.subs(sus_func[ii])\n",
    "\n",
    "show(LatexExpr(\"{T^{(1)}}_0^0 \\\\rightarrow\"), bool(dTe00_check==0))\n",
    "\n",
    "# SECOND ORDER\n",
    "ddTe00_check = ddTe00 - ddTe00_paper\n",
    "for ii in range(0, len(sus_cuadrados), 2):\n",
    "    ddTe00_check = ddTe00_check.substitute_function(sus_cuadrados[ii],sus_cuadrados[ii+1])\n",
    "for ii in range(len(sus_func)):\n",
    "    ddTe00_check = ddTe00_check.subs(sus_func[ii])\n",
    "\n",
    "show(LatexExpr(\"{T^{(2)}}^0_0 \\\\rightarrow\"), bool(ddTe00_check==0))"
   ]
  },
  {
   "cell_type": "code",
   "execution_count": 35,
   "metadata": {},
   "outputs": [
    {
     "data": {
      "text/html": [
       "<html>\\[\\newcommand{\\Bold}[1]{\\mathbf{#1}}T_1^1 \\rightarrow \\mathrm{True}\\]</html>"
      ],
      "text/latex": [
       "$$\\newcommand{\\Bold}[1]{\\mathbf{#1}}T_1^1 \\rightarrow \\mathrm{True}$$"
      ],
      "text/plain": [
       "T_1^1 \\rightarrow True"
      ]
     },
     "metadata": {},
     "output_type": "display_data"
    },
    {
     "data": {
      "text/html": [
       "<html>\\[\\newcommand{\\Bold}[1]{\\mathbf{#1}}{T^{(1)}}_1^1 \\rightarrow \\mathrm{True}\\]</html>"
      ],
      "text/latex": [
       "$$\\newcommand{\\Bold}[1]{\\mathbf{#1}}{T^{(1)}}_1^1 \\rightarrow \\mathrm{True}$$"
      ],
      "text/plain": [
       "{T^{(1)}}_1^1 \\rightarrow True"
      ]
     },
     "metadata": {},
     "output_type": "display_data"
    },
    {
     "data": {
      "text/html": [
       "<html>\\[\\newcommand{\\Bold}[1]{\\mathbf{#1}}{T^{(2)}}^1_1 \\rightarrow \\mathrm{True}\\]</html>"
      ],
      "text/latex": [
       "$$\\newcommand{\\Bold}[1]{\\mathbf{#1}}{T^{(2)}}^1_1 \\rightarrow \\mathrm{True}$$"
      ],
      "text/plain": [
       "{T^{(2)}}^1_1 \\rightarrow True"
      ]
     },
     "metadata": {},
     "output_type": "display_data"
    }
   ],
   "source": [
    "Te11_paper = Psi0\\\n",
    "           + eps^2*n0*(n0*B000+p0*A000)*eta + eps^2*p0*(p0*C000+n0*A000)*Phi\\\n",
    "           + eps^2*r^2*sin(th)^2/(2*e^(nu))*n0*p0*(A0\\\n",
    "                                                   +n0*formal_diff(A,fn2)*2*fn\\\n",
    "                                                   +p0*formal_diff(A,fp2)*2*fp\\\n",
    "                                                   +2*n0*p0*formal_diff(A,fx2))*(Omegan1-Omegap1)^2\n",
    "\n",
    "Te11_paper = Te11_paper.simplify_full()\n",
    "dTe11_paper = formal_diff(Te11_paper, eps).simplify_full()\n",
    "ddTe11_paper = formal_diff(dTe11_paper, eps).simplify_full()\n",
    "\n",
    "Te11, dTe11, ddTe11 = Teud[1,1], dTeud[1,1], ddTeud[1,1]\n",
    "\n",
    "# ZERO ORDER\n",
    "Te11_check = Te11 - Te11_paper\n",
    "for ii in range(0, len(sus_cuadrados), 2):\n",
    "    Te11_check = Te11_check.substitute_function(sus_cuadrados[ii],sus_cuadrados[ii+1])\n",
    "for ii in range(len(sus_func)):\n",
    "    Te11_check = Te11_check.subs(sus_func[ii])\n",
    "\n",
    "show(LatexExpr(\"T_1^1 \\\\rightarrow\"), bool(Te11_check==0))\n",
    "\n",
    "# FIRST ORDER\n",
    "dTe11_check = dTe11 - dTe11_paper\n",
    "for ii in range(0, len(sus_cuadrados), 2):\n",
    "    dTe11_check = dTe11_check.substitute_function(sus_cuadrados[ii],sus_cuadrados[ii+1])\n",
    "for ii in range(len(sus_func)):\n",
    "    dTe11_check = dTe11_check.subs(sus_func[ii])\n",
    "\n",
    "show(LatexExpr(\"{T^{(1)}}_1^1 \\\\rightarrow\"), bool(dTe11_check==0))\n",
    "\n",
    "# SECOND ORDER\n",
    "ddTe11_check = ddTe11 - ddTe11_paper\n",
    "for ii in range(0, len(sus_cuadrados), 2):\n",
    "    ddTe11_check = ddTe11_check.substitute_function(sus_cuadrados[ii],sus_cuadrados[ii+1])\n",
    "for ii in range(len(sus_func)):\n",
    "    ddTe11_check = ddTe11_check.subs(sus_func[ii])\n",
    "\n",
    "show(LatexExpr(\"{T^{(2)}}^1_1 \\\\rightarrow\"), bool(ddTe11_check==0))"
   ]
  },
  {
   "cell_type": "code",
   "execution_count": 36,
   "metadata": {},
   "outputs": [
    {
     "data": {
      "text/html": [
       "<html>\\[\\newcommand{\\Bold}[1]{\\mathbf{#1}}T_{03} \\rightarrow \\mathrm{True}\\]</html>"
      ],
      "text/latex": [
       "$$\\newcommand{\\Bold}[1]{\\mathbf{#1}}T_{03} \\rightarrow \\mathrm{True}$$"
      ],
      "text/plain": [
       "T_{03} \\rightarrow True"
      ]
     },
     "metadata": {},
     "output_type": "display_data"
    },
    {
     "data": {
      "text/html": [
       "<html>\\[\\newcommand{\\Bold}[1]{\\mathbf{#1}}{T^{(1)}}_{03} \\rightarrow \\mathrm{True}\\]</html>"
      ],
      "text/latex": [
       "$$\\newcommand{\\Bold}[1]{\\mathbf{#1}}{T^{(1)}}_{03} \\rightarrow \\mathrm{True}$$"
      ],
      "text/plain": [
       "{T^{(1)}}_{03} \\rightarrow True"
      ]
     },
     "metadata": {},
     "output_type": "display_data"
    },
    {
     "data": {
      "text/html": [
       "<html>\\[\\newcommand{\\Bold}[1]{\\mathbf{#1}}{T^{(2)}}_{03} \\rightarrow \\mathrm{True}\\]</html>"
      ],
      "text/latex": [
       "$$\\newcommand{\\Bold}[1]{\\mathbf{#1}}{T^{(2)}}_{03} \\rightarrow \\mathrm{True}$$"
      ],
      "text/plain": [
       "{T^{(2)}}_{03} \\rightarrow True"
      ]
     },
     "metadata": {},
     "output_type": "display_data"
    }
   ],
   "source": [
    "Te03_paper = 1/2*eps*r^2*sin(th)^2*(3*Psi0-Lambda0)*(Ln+Omegan1)\\\n",
    "           - eps*r^2*sin(th)^2*(mu0*n0*Omegan1 + chi0*p0*Omegap1)\n",
    "\n",
    "Te03_paper = Te03_paper.simplify_full()\n",
    "dTe03_paper = formal_diff(Te03_paper, eps).simplify_full()\n",
    "ddTe03_paper = formal_diff(dTe03_paper, eps).simplify_full()\n",
    "\n",
    "Te_scalar = 0\n",
    "for ii in range(4):\n",
    "    for jj in range(4):\n",
    "        Te_scalar += Te[ii,jj]*geuu[ii,jj]\n",
    "Te03 = Te[0,3] - 1/2*Te_scalar*gedd[0,3]\n",
    "dTe03 = formal_diff(Te03, eps)\n",
    "ddTe03 = formal_diff(dTe03, eps)\n",
    "\n",
    "# ZERO ORDER\n",
    "Te03_check = Te03 - Te03_paper\n",
    "for ii in range(0, len(sus_cuadrados), 2):\n",
    "    Te03_check = Te03_check.substitute_function(sus_cuadrados[ii],sus_cuadrados[ii+1])\n",
    "for ii in range(len(sus_func)):\n",
    "    Te03_check = Te03_check.subs(sus_func[ii])\n",
    "\n",
    "show(LatexExpr(\"T_{03} \\\\rightarrow\"), bool(Te03_check==0))\n",
    "\n",
    "# FIRST ORDER\n",
    "dTe03_check = dTe03 - dTe03_paper\n",
    "for ii in range(0, len(sus_cuadrados), 2):\n",
    "    dTe03_check = dTe03_check.substitute_function(sus_cuadrados[ii],sus_cuadrados[ii+1])\n",
    "for ii in range(len(sus_func)):\n",
    "    dTe03_check = dTe03_check.subs(sus_func[ii])\n",
    "\n",
    "show(LatexExpr(\"{T^{(1)}}_{03} \\\\rightarrow\"), bool(dTe03_check==0))\n",
    "\n",
    "# SECOND ORDER\n",
    "ddTe03_check = ddTe03 - ddTe03_paper\n",
    "for ii in range(0, len(sus_cuadrados), 2):\n",
    "    ddTe03_check = ddTe03_check.substitute_function(sus_cuadrados[ii],sus_cuadrados[ii+1])\n",
    "for ii in range(len(sus_func)):\n",
    "    ddTe03_check = ddTe03_check.subs(sus_func[ii])\n",
    "\n",
    "show(LatexExpr(\"{T^{(2)}}_{03} \\\\rightarrow\"), bool(ddTe03_check==0))"
   ]
  },
  {
   "cell_type": "code",
   "execution_count": 37,
   "metadata": {},
   "outputs": [
    {
     "data": {
      "text/html": [
       "<html>\\[\\newcommand{\\Bold}[1]{\\mathbf{#1}}T_2^2-T_3^3 \\rightarrow \\mathrm{True}\\]</html>"
      ],
      "text/latex": [
       "$$\\newcommand{\\Bold}[1]{\\mathbf{#1}}T_2^2-T_3^3 \\rightarrow \\mathrm{True}$$"
      ],
      "text/plain": [
       "T_2^2-T_3^3 \\rightarrow True"
      ]
     },
     "metadata": {},
     "output_type": "display_data"
    },
    {
     "data": {
      "text/html": [
       "<html>\\[\\newcommand{\\Bold}[1]{\\mathbf{#1}}{T^{(1)}}_2^2-{T^{(1)}}_3^3 \\rightarrow \\mathrm{True}\\]</html>"
      ],
      "text/latex": [
       "$$\\newcommand{\\Bold}[1]{\\mathbf{#1}}{T^{(1)}}_2^2-{T^{(1)}}_3^3 \\rightarrow \\mathrm{True}$$"
      ],
      "text/plain": [
       "{T^{(1)}}_2^2-{T^{(1)}}_3^3 \\rightarrow True"
      ]
     },
     "metadata": {},
     "output_type": "display_data"
    },
    {
     "data": {
      "text/html": [
       "<html>\\[\\newcommand{\\Bold}[1]{\\mathbf{#1}}{T^{(2)}}_2^2-{T^{(2)}}_3^3 \\rightarrow \\mathrm{True}\\]</html>"
      ],
      "text/latex": [
       "$$\\newcommand{\\Bold}[1]{\\mathbf{#1}}{T^{(2)}}_2^2-{T^{(2)}}_3^3 \\rightarrow \\mathrm{True}$$"
      ],
      "text/plain": [
       "{T^{(2)}}_2^2-{T^{(2)}}_3^3 \\rightarrow True"
      ]
     },
     "metadata": {},
     "output_type": "display_data"
    }
   ],
   "source": [
    "Te2233_paper = eps^2*r^2*sin(th)^2/e^(nu)*(n0*(B0*n0*Omegan1 + A0*p0*Omegap1)*Ln\\\n",
    "                                          +p0*(C0*p0*Omegap1 + A0*n0*Omegan1)*Lp)\n",
    "\n",
    "Te2233_paper = Te2233_paper.simplify_full()\n",
    "dTe2233_paper = formal_diff(Te2233_paper, eps).simplify_full()\n",
    "ddTe2233_paper = formal_diff(dTe2233_paper, eps).simplify_full()\n",
    "\n",
    "Te2233 = Teud[2,2] - Teud[3,3]\n",
    "dTe2233 = dTeud[2,2] - dTeud[3,3]\n",
    "ddTe2233 = ddTeud[2,2] - ddTeud[3,3]\n",
    "\n",
    "# ZERO ORDER\n",
    "Te2233_check = Te2233 - Te2233_paper\n",
    "for ii in range(0, len(sus_cuadrados), 2):\n",
    "    Te2233_check = Te2233_check.substitute_function(sus_cuadrados[ii],sus_cuadrados[ii+1])\n",
    "for ii in range(len(sus_func)):\n",
    "    Te2233_check = Te2233_check.subs(sus_func[ii])\n",
    "\n",
    "show(LatexExpr(\"T_2^2-T_3^3 \\\\rightarrow\"), bool(Te2233_check==0))\n",
    "\n",
    "# FIRST ORDER\n",
    "dTe2233_check = dTe2233 - dTe2233_paper\n",
    "for ii in range(0, len(sus_cuadrados), 2):\n",
    "    dTe2233_check = dTe2233_check.substitute_function(sus_cuadrados[ii],sus_cuadrados[ii+1])\n",
    "for ii in range(len(sus_func)):\n",
    "    dTe2233_check = dTe2233_check.subs(sus_func[ii])\n",
    "\n",
    "show(LatexExpr(\"{T^{(1)}}_2^2-{T^{(1)}}_3^3 \\\\rightarrow\"), bool(dTe2233_check==0))\n",
    "\n",
    "# SECOND ORDER\n",
    "ddTe2233_check = ddTe2233 - ddTe2233_paper\n",
    "for ii in range(0, len(sus_cuadrados), 2):\n",
    "    ddTe2233_check = ddTe2233_check.substitute_function(sus_cuadrados[ii],sus_cuadrados[ii+1])\n",
    "for ii in range(len(sus_func)):\n",
    "    ddTe2233_check = ddTe2233_check.subs(sus_func[ii])\n",
    "\n",
    "show(LatexExpr(\"{T^{(2)}}_2^2-{T^{(2)}}_3^3 \\\\rightarrow\"), bool(ddTe2233_check==0))"
   ]
  },
  {
   "cell_type": "markdown",
   "metadata": {},
   "source": [
    "# <center> $G^{\\prime}_{\\mu\\nu} = \\kappa T^{\\prime}_{\\mu\\nu}$ </center>"
   ]
  },
  {
   "cell_type": "code",
   "execution_count": 38,
   "metadata": {},
   "outputs": [],
   "source": [
    "dLambdaePsie = formal_diff(LambdaePsie, eps)\n",
    "for ii in range(len(sus_func)):\n",
    "    dLambdaePsie = dLambdaePsie.subs(sus_func[ii])"
   ]
  },
  {
   "cell_type": "code",
   "execution_count": 39,
   "metadata": {},
   "outputs": [],
   "source": [
    "j = e^(-(lamb+nu)/2)\n",
    "M = r*(1-e^(-lamb))/2\n",
    "\n",
    "dG = copy(dGe)\n",
    "dT = copy(dTe)\n",
    "for ii in range(0,len(sus_func)):\n",
    "    dG = dG.subs(sus_func[ii])\n",
    "    dT = dT.subs(sus_func[ii])\n",
    "\n",
    "dG = dG.simplify_full()\n",
    "dT = dT.simplify_full()"
   ]
  },
  {
   "cell_type": "code",
   "execution_count": 40,
   "metadata": {},
   "outputs": [
    {
     "data": {
      "text/html": [
       "<html>\\[\\newcommand{\\Bold}[1]{\\mathbf{#1}}\\Lambda^{(1)} =  0 \\rightarrow \\mathrm{True}\\]</html>"
      ],
      "text/latex": [
       "$$\\newcommand{\\Bold}[1]{\\mathbf{#1}}\\Lambda^{(1)} =  0 \\rightarrow \\mathrm{True}$$"
      ],
      "text/plain": [
       "\\Lambda^{(1)} =  0 \\rightarrow True"
      ]
     },
     "metadata": {},
     "output_type": "display_data"
    }
   ],
   "source": [
    "Lambda1_value = formal_diff(Lambdae, eps)\n",
    "for ii in range(0, len(sus_cuadrados), 2):\n",
    "    Lambda1_value = Lambda1_value.substitute_function(sus_cuadrados[ii],sus_cuadrados[ii+1])\n",
    "for ii in range(len(sus_func)):\n",
    "    Lambda1_value = Lambda1_value.subs(sus_func[ii])\n",
    "\n",
    "Lambda1_paper = 0\n",
    "Lambda1_check = Lambda1_value - Lambda1_paper\n",
    "\n",
    "show(LatexExpr(\"\\\\Lambda^{(1)} = \"), Lambda1_value, LatexExpr(\"\\\\rightarrow\"), bool(Lambda1_check==0))"
   ]
  },
  {
   "cell_type": "code",
   "execution_count": 41,
   "metadata": {},
   "outputs": [
    {
     "data": {
      "text/html": [
       "<html>\\[\\newcommand{\\Bold}[1]{\\mathbf{#1}}\\Psi^{(1)} =  0 \\rightarrow \\mathrm{True}\\]</html>"
      ],
      "text/latex": [
       "$$\\newcommand{\\Bold}[1]{\\mathbf{#1}}\\Psi^{(1)} =  0 \\rightarrow \\mathrm{True}$$"
      ],
      "text/plain": [
       "\\Psi^{(1)} =  0 \\rightarrow True"
      ]
     },
     "metadata": {},
     "output_type": "display_data"
    }
   ],
   "source": [
    "Psi1_value = formal_diff(Lambdae, eps) + formal_diff(LambdaePsie, eps)\n",
    "for ii in range(0, len(sus_cuadrados), 2):\n",
    "    Psi1_value = Psi1_value.substitute_function(sus_cuadrados[ii],sus_cuadrados[ii+1])\n",
    "for ii in range(len(sus_func)):\n",
    "    Psi1_value = Psi1_value.subs(sus_func[ii])\n",
    "\n",
    "Psi1_paper = 0\n",
    "Psi1_check = Psi1_value - Psi1_paper\n",
    "\n",
    "show(LatexExpr(\"\\\\Psi^{(1)} = \"), Psi1_value, LatexExpr(\"\\\\rightarrow\"), bool(Psi1_check==0))"
   ]
  },
  {
   "cell_type": "code",
   "execution_count": 42,
   "metadata": {
    "scrolled": false
   },
   "outputs": [
    {
     "data": {
      "text/html": [
       "<html>\\[\\newcommand{\\Bold}[1]{\\mathbf{#1}}\\omega'' \\rightarrow  \\mathrm{True}\\]</html>"
      ],
      "text/latex": [
       "$$\\newcommand{\\Bold}[1]{\\mathbf{#1}}\\omega'' \\rightarrow  \\mathrm{True}$$"
      ],
      "text/plain": [
       "\\omega'' \\rightarrow  True"
      ]
     },
     "metadata": {},
     "output_type": "display_data"
    }
   ],
   "source": [
    "#De dEq el único valor que no es idénticamente nulo es 03 (y 30)\n",
    "dEq_03 = dG[0,3] - kappa*dT[0,3] == 0\n",
    "\n",
    "ddomega_value = solve(dEq_03, formal_diff(formal_diff(omega,r),r))[0].rhs().simplify_full()\n",
    "\n",
    "chi0 = C*fp + A*fn\n",
    "for ii in range(0, len(sus_cuadrados), 2):\n",
    "    chi0 = chi0.substitute_function(sus_cuadrados[ii],sus_cuadrados[ii+1])\n",
    "for ii in range(len(sus_func)):\n",
    "    chi0 = chi0.subs(sus_func[ii])\n",
    "\n",
    "ddomega_paper = 1/(r^4)*formal_diff(r^4*e^(-(lamb+nu)/2)*formal_diff(Ln,r),r)\\\n",
    "              - 16*pi*e^((lamb-nu)/2)*(Psi0-Lambda0)*Ln\\\n",
    "              - 16*pi*e^((lamb-nu)/2)*chi0*p0*(Omegan1-Omegap1) == 0\n",
    "ddomega_paper = solve(ddomega_paper, formal_diff(formal_diff(omega,r),r))[0].rhs().simplify_full()\n",
    "\n",
    "for ii in range(0, len(sus_cuadrados), 2):\n",
    "    ddomega_value = ddomega_value.substitute_function(sus_cuadrados[ii],sus_cuadrados[ii+1])\n",
    "    ddomega_paper = ddomega_paper.substitute_function(sus_cuadrados[ii],sus_cuadrados[ii+1])\n",
    "for ii in range(len(sus_func)):\n",
    "    ddomega_value = ddomega_value.subs(sus_func[ii])\n",
    "    ddomega_paper = ddomega_paper.subs(sus_func[ii])\n",
    "\n",
    "ddomega_check = ddomega_value - ddomega_paper\n",
    "for ii in range(0, len(sus_cuadrados), 2):\n",
    "    ddomega_check = ddomega_check.substitute_function(sus_cuadrados[ii],sus_cuadrados[ii+1])\n",
    "for ii in range(len(sus_func)):\n",
    "    ddomega_check = ddomega_check.subs(sus_func[ii])\n",
    "\n",
    "ddomega_check = ddomega_check.simplify_full()\n",
    "\n",
    "show(LatexExpr(\"\\\\omega'' \\\\rightarrow \"), bool(ddomega_check==0))\n",
    "\n",
    "sus_func.extend([formal_diff(formal_diff(omega,r),r)==ddomega_value])"
   ]
  },
  {
   "cell_type": "markdown",
   "metadata": {},
   "source": [
    "# <center> $G^{\\prime\\prime}_{\\mu\\nu} = \\kappa T^{\\prime\\prime}_{\\mu\\nu}$ </center>"
   ]
  },
  {
   "cell_type": "code",
   "execution_count": 43,
   "metadata": {},
   "outputs": [],
   "source": [
    "ddLambdaePsie = diff(LambdaePsie, eps, eps)\n",
    "for ii in range(0,len(sus_cuadrados),2):\n",
    "    ddLambdaePsie = ddLambdaePsie.substitute_function(sus_cuadrados[ii],sus_cuadrados[ii+1])\n",
    "for ii in range(len(sus_func)):\n",
    "    ddLambdaePsie = ddLambdaePsie.subs(sus_func[ii])\n",
    "\n",
    "Lambda2_value = formal_diff(formal_diff(Lambdae, eps),eps)\n",
    "Psi2_value = Lambda2_value + ddLambdaePsie\n",
    "for ii in range(0,len(sus_cuadrados),2):\n",
    "    Lambda2_value = Lambda2_value.substitute_function(sus_cuadrados[ii],sus_cuadrados[ii+1])\n",
    "    Psi2_value = Psi2_value.substitute_function(sus_cuadrados[ii],sus_cuadrados[ii+1])\n",
    "for ii in range(len(sus_func)):\n",
    "    Lambda2_value = Lambda2_value.subs(sus_func[ii])\n",
    "    Psi2_value = Psi2_value.subs(sus_func[ii])"
   ]
  },
  {
   "cell_type": "code",
   "execution_count": 44,
   "metadata": {},
   "outputs": [],
   "source": [
    "ddG = copy(ddGe)\n",
    "ddT = copy(ddTe)\n",
    "for ii in range(4):\n",
    "    for jj in range(4):\n",
    "        for kk in range(0,len(sus_cuadrados),2):\n",
    "            ddG[ii,jj] = ddG[ii,jj].substitute_function(sus_cuadrados[kk],sus_cuadrados[kk+1])\n",
    "            ddT[ii,jj] = ddT[ii,jj].substitute_function(sus_cuadrados[kk],sus_cuadrados[kk+1])\n",
    "for ii in range(len(sus_func)):\n",
    "    ddG = ddG.subs(sus_func[ii])\n",
    "    ddT = ddT.subs(sus_func[ii])\n",
    "ddG = ddG.simplify_full()\n",
    "ddT = ddT.simplify_full()"
   ]
  },
  {
   "cell_type": "markdown",
   "metadata": {},
   "source": [
    "## <center> Descomposición en $P_l(\\cos(\\theta))$ </center>"
   ]
  },
  {
   "cell_type": "code",
   "execution_count": 45,
   "metadata": {},
   "outputs": [],
   "source": [
    "h0 = function('h0', latex_name='h_0')(r)\n",
    "v0 = function('v0', latex_name='v_0')(r)\n",
    "eta0 = function('eta0', latex_name='\\\\eta_0')(r)\n",
    "Phi0 = function('Phi0', latex_name='\\\\Phi_0')(r)\n",
    "\n",
    "h2 = function('h2', latex_name='h_2')(r)\n",
    "k2 = function('k2', latex_name='k_2')(r)\n",
    "v2 = function('v2', latex_name='v_2')(r)\n",
    "eta2 = function('eta2', latex_name='\\\\eta_2')(r)\n",
    "Phi2 = function('Phi2', latex_name='\\\\Phi_2')(r)\n",
    "\n",
    "LP1 = function('LP1', latex_name='LP_1')(th)\n",
    "LP2 = function('LP2', latex_name='LP_2')(th)\n",
    "\n",
    "lp2 = (3*cos(th)^2-1)/2"
   ]
  },
  {
   "cell_type": "code",
   "execution_count": 46,
   "metadata": {},
   "outputs": [],
   "source": [
    "s_v(r,th) = v0+v2*lp2\n",
    "s_k(r,th) = k2*lp2\n",
    "s_h(r,th) = h0+h2*lp2\n",
    "s_eta(r,th) = eta0+eta2*lp2\n",
    "s_Phi(r,th) = Phi0+Phi2*lp2\n",
    "\n",
    "sus_descomp = [function('v'), s_v,\n",
    "               function('k'), s_k,\n",
    "               function('h'), s_h,\n",
    "               function('eta', latex_name=\"\\\\eta\"), s_eta,\n",
    "               function('Phi', latex_name=\"\\\\Phi\"), s_Phi]\n",
    "\n",
    "for ii in range(4):\n",
    "    for jj in range(4):\n",
    "        for kk in range(0, len(sus_descomp), 2):\n",
    "            ddG[ii,jj] = ddG[ii,jj].substitute_function(sus_descomp[kk], sus_descomp[kk+1])\n",
    "            ddT[ii,jj] = ddT[ii,jj].substitute_function(sus_descomp[kk], sus_descomp[kk+1])\n",
    "\n",
    "ddG = ddG.simplify_full()\n",
    "ddT = ddT.simplify_full()\n",
    "\n",
    "ddGud22, ddGud33 = copy(ddGeud[2,2]), copy(ddGeud[3,3])\n",
    "ddTud22, ddTud33 = copy(ddTeud[2,2]), copy(ddTeud[3,3])\n",
    "for ii in range(0, len(sus_descomp), 2):\n",
    "    ddGud22 = ddGud22.substitute_function(sus_descomp[ii], sus_descomp[ii+1])\n",
    "    ddGud33 = ddGud33.substitute_function(sus_descomp[ii], sus_descomp[ii+1])\n",
    "    ddTud22 = ddTud22.substitute_function(sus_descomp[ii], sus_descomp[ii+1])\n",
    "    ddTud33 = ddTud33.substitute_function(sus_descomp[ii], sus_descomp[ii+1])\n",
    "\n",
    "#ddGud22, ddGud33 = ddGud22.simplify_full(), ddGud33.simplify_full()\n",
    "#ddTud22, ddTud33 = ddTud22.simplify_full(), ddTud33.simplify_full()"
   ]
  },
  {
   "cell_type": "code",
   "execution_count": 47,
   "metadata": {},
   "outputs": [],
   "source": [
    "sus_legendre = [sin(th)^2 == (2/3)*(1-LP2),\n",
    "                1/sin(th)^2 == 1/((2/3)*(1-LP2)),\n",
    "                cos(th)^2 == (2*LP2+1)/3,\n",
    "                1/cos(th)^2 == 1/(2*LP2+1)/3,\n",
    "                cos(th) == LP1]"
   ]
  },
  {
   "cell_type": "markdown",
   "metadata": {},
   "source": [
    "### <center> $\\boxed{l=0}$ </center>"
   ]
  },
  {
   "cell_type": "markdown",
   "metadata": {},
   "source": [
    "Ecuación (38)"
   ]
  },
  {
   "cell_type": "code",
   "execution_count": 48,
   "metadata": {
    "scrolled": true
   },
   "outputs": [
    {
     "data": {
      "text/html": [
       "<html>\\[\\newcommand{\\Bold}[1]{\\mathbf{#1}}\\Lambda^{(2)}_0 \\rightarrow \\mathrm{True}\\]</html>"
      ],
      "text/latex": [
       "$$\\newcommand{\\Bold}[1]{\\mathbf{#1}}\\Lambda^{(2)}_0 \\rightarrow \\mathrm{True}$$"
      ],
      "text/plain": [
       "\\Lambda^{(2)}_0 \\rightarrow True"
      ]
     },
     "metadata": {},
     "output_type": "display_data"
    }
   ],
   "source": [
    "var('Lambda20', latex_name = \"\\\\Lambda^{(2)}_0\")\n",
    "\n",
    "Lambda20_value = (formal_diff(formal_diff(Lambdae, eps),eps)/2).simplify_full()\n",
    "\n",
    "for ii in range(0, len(sus_cuadrados), 2):\n",
    "    Lambda20_value = Lambda20_value.substitute_function(sus_cuadrados[ii],sus_cuadrados[ii+1])\n",
    "for ii in range(len(sus_func)):\n",
    "    Lambda20_value = Lambda20_value.subs(sus_func[ii])\n",
    "for ii in range(0, len(sus_descomp), 2):\n",
    "    Lambda20_value = Lambda20_value.substitute_function(sus_descomp[ii], sus_descomp[ii+1])\n",
    "for ii in range(len(sus_legendre)):\n",
    "    Lambda20_value = Lambda20_value.subs(sus_legendre[ii])\n",
    "\n",
    "Lambda20_value = Lambda20_value.subs(LP2==0)\n",
    "\n",
    "Lambda20_paper = mu0*n0*eta0 + chi0*p0*Phi0 + r^2/(3*e^(nu))*A*n0*p0*(Omegan1-Omegap1)^2\n",
    "Lambda20_paper = -Lambda20_paper\n",
    "for ii in range(0, len(sus_cuadrados), 2):\n",
    "    Lambda20_paper = Lambda20_paper.substitute_function(sus_cuadrados[ii],sus_cuadrados[ii+1])\n",
    "for ii in range(len(sus_func)):\n",
    "    Lambda20_paper = Lambda20_paper.subs(sus_func[ii])\n",
    "\n",
    "Lambda20_check = (Lambda20_value - Lambda20_paper).simplify_full()\n",
    "\n",
    "show(LatexExpr(\"\\\\Lambda^{(2)}_0 \\\\rightarrow\"), bool(Lambda20_check==0))\n",
    "\n",
    "sus_func.extend([Lambda20==Lambda20_value])"
   ]
  },
  {
   "cell_type": "markdown",
   "metadata": {},
   "source": [
    "Ecuación (42.1)"
   ]
  },
  {
   "cell_type": "code",
   "execution_count": 49,
   "metadata": {},
   "outputs": [
    {
     "data": {
      "text/html": [
       "<html>\\[\\newcommand{\\Bold}[1]{\\mathbf{#1}}\\gamma_n \\rightarrow \\mathrm{True}\\]</html>"
      ],
      "text/latex": [
       "$$\\newcommand{\\Bold}[1]{\\mathbf{#1}}\\gamma_n \\rightarrow \\mathrm{True}$$"
      ],
      "text/plain": [
       "\\gamma_n \\rightarrow True"
      ]
     },
     "metadata": {},
     "output_type": "display_data"
    }
   ],
   "source": [
    "var('gamman', latex_name = \"\\\\gamma_n\")\n",
    "\n",
    "gamman_value = formal_diff(formal_diff(muec,eps),eps)/(2*muinf)\n",
    "gamman_paper = + B000*n0*eta0/mu0\\\n",
    "               + A000*p0*Phi0/mu0\\\n",
    "               + r^2/(3*e^(nu))*p0/mu0*(A0\\\n",
    "                                        +2*n0*n0*formal_diff(A,fn2).subs(eps==0)\\\n",
    "                                        +n0*p0*formal_diff(A,fx2).subs(eps==0))*(Omegan1-Omegap1)^2\\\n",
    "               - r^2/(3*e^(nu))*Ln^2\\\n",
    "               + h0\n",
    "\n",
    "for ii in range(0, len(sus_cuadrados), 2):\n",
    "    gamman_value = gamman_value.substitute_function(sus_cuadrados[ii],sus_cuadrados[ii+1])\n",
    "    gamman_paper = gamman_paper.substitute_function(sus_cuadrados[ii],sus_cuadrados[ii+1])\n",
    "for ii in range(len(sus_func)):\n",
    "    gamman_value = gamman_value.subs(sus_func[ii])\n",
    "    gamman_paper = gamman_paper.subs(sus_func[ii])\n",
    "gamman_value = gamman_value.simplify_full()\n",
    "gamman_paper = gamman_paper.simplify_full()\n",
    "\n",
    "for ii in range(0,len(sus_descomp),2):\n",
    "    gamman_value = gamman_value.substitute_function(sus_descomp[ii],sus_descomp[ii+1])\n",
    "gamman_value = gamman_value.simplify_full()\n",
    "for ii in range(len(sus_legendre)):\n",
    "    gamman_value = gamman_value.subs(sus_legendre[ii])\n",
    "gamman_value = gamman_value.subs(LP2==0).simplify_full()\n",
    "\n",
    "gamman_check = (gamman_value - gamman_paper).simplify_full()\n",
    "\n",
    "show(LatexExpr(\"\\\\gamma_n \\\\rightarrow\"), bool(gamman_check==0))\n",
    "\n",
    "sus_func.extend([gamman==gamman_value])"
   ]
  },
  {
   "cell_type": "markdown",
   "metadata": {},
   "source": [
    "Ecuación (42.2)"
   ]
  },
  {
   "cell_type": "code",
   "execution_count": 50,
   "metadata": {},
   "outputs": [
    {
     "data": {
      "text/html": [
       "<html>\\[\\newcommand{\\Bold}[1]{\\mathbf{#1}}\\gamma_p \\rightarrow \\mathrm{True}\\]</html>"
      ],
      "text/latex": [
       "$$\\newcommand{\\Bold}[1]{\\mathbf{#1}}\\gamma_p \\rightarrow \\mathrm{True}$$"
      ],
      "text/plain": [
       "\\gamma_p \\rightarrow True"
      ]
     },
     "metadata": {},
     "output_type": "display_data"
    }
   ],
   "source": [
    "var('gammap', latex_name = \"\\\\gamma_p\")\n",
    "\n",
    "gammap_value = formal_diff(formal_diff(chiec,eps),eps)/(2*chiinf)\n",
    "\n",
    "gammap_paper = + C000*p0*Phi0/chi0\\\n",
    "               + A000*n0*eta0/chi0\\\n",
    "               + r^2/(3*e^(nu))*n0/chi0*(A0\\\n",
    "                                         + p0*formal_diff(A,fp2)*2*p0\\\n",
    "                                         + n0*p0*formal_diff(A,fx2))*(Omegan1-Omegap1)^2\\\n",
    "               - r^2/(3*e^nu)*Lp^2 + h0\n",
    "\n",
    "for ii in range(0, len(sus_cuadrados), 2):\n",
    "    gammap_value = gammap_value.substitute_function(sus_cuadrados[ii],sus_cuadrados[ii+1])\n",
    "    gammap_paper = gammap_paper.substitute_function(sus_cuadrados[ii],sus_cuadrados[ii+1])\n",
    "for ii in range(len(sus_func)):\n",
    "    gammap_value = gammap_value.subs(sus_func[ii])\n",
    "    gammap_paper = gammap_paper.subs(sus_func[ii])\n",
    "gammap_value = gammap_value.simplify_full()\n",
    "gammap_paper = gammap_paper.simplify_full()\n",
    "\n",
    "for ii in range(0,len(sus_descomp),2):\n",
    "    gammap_value = gammap_value.substitute_function(sus_descomp[ii],sus_descomp[ii+1])\n",
    "gammap_value = gammap_value.simplify_full()\n",
    "for ii in range(len(sus_legendre)):\n",
    "    gammap_value = gammap_value.subs(sus_legendre[ii])\n",
    "gammap_value = gammap_value.subs(LP2==0).simplify_full()\n",
    "\n",
    "gammap_check = (gammap_value - gammap_paper).simplify_full()\n",
    "\n",
    "show(LatexExpr(\"\\\\gamma_p \\\\rightarrow\"), bool(gammap_check==0))\n",
    "\n",
    "sus_func.extend([gammap==gammap_value])"
   ]
  },
  {
   "cell_type": "markdown",
   "metadata": {},
   "source": [
    "Ecuación (47)"
   ]
  },
  {
   "cell_type": "code",
   "execution_count": 51,
   "metadata": {
    "scrolled": true
   },
   "outputs": [
    {
     "data": {
      "text/html": [
       "<html>\\[\\newcommand{\\Bold}[1]{\\mathbf{#1}}\\text{Ecuación (47) }\\rightarrow \\mathrm{True}\\]</html>"
      ],
      "text/latex": [
       "$$\\newcommand{\\Bold}[1]{\\mathbf{#1}}\\text{Ecuación (47) }\\rightarrow \\mathrm{True}$$"
      ],
      "text/plain": [
       "\\text{Ecuación (47) }\\rightarrow True"
      ]
     },
     "metadata": {},
     "output_type": "display_data"
    }
   ],
   "source": [
    "ddEq_00_value = -(ddG[0,0] - kappa*ddT[0,0])*e^(-nu)/2\n",
    "\n",
    "ddEq_00_paper = 16*pi*r^2/(3*e^(nu))*((Psi0-Lambda0)*Ln^2\\\n",
    "                                      + chi0*p0*(Omegan1-Omegap1)*(Ln+Lp)\\\n",
    "                                      - A0*n0*p0*(Omegan1-Omegap1)^2)\\\n",
    "              + 8*pi*(-Lambda20)\\\n",
    "              - 2/r^2*formal_diff(r/e^(lamb)*v0,r)\\\n",
    "              + r^2/(6*e^(lamb+nu))*(formal_diff(Ln,r))^2\n",
    "\n",
    "for ii in range(0, len(sus_cuadrados), 2):\n",
    "    ddEq_00_value = ddEq_00_value.substitute_function(sus_cuadrados[ii],sus_cuadrados[ii+1])\n",
    "    ddEq_00_paper = ddEq_00_paper.substitute_function(sus_cuadrados[ii],sus_cuadrados[ii+1])\n",
    "for ii in range(len(sus_func)):\n",
    "    ddEq_00_value = ddEq_00_value.subs(sus_func[ii])\n",
    "    ddEq_00_paper = ddEq_00_paper.subs(sus_func[ii])\n",
    "ddEq_00_value = ddEq_00_value.simplify_full()\n",
    "ddEq_00_paper = ddEq_00_paper.simplify_full()\n",
    "\n",
    "for ii in range(0,len(sus_descomp),2):\n",
    "    ddEq_00_value = ddEq_00_value.substitute_function(sus_descomp[ii], sus_descomp[ii+1])\n",
    "    ddEq_00_paper = ddEq_00_paper.substitute_function(sus_descomp[ii], sus_descomp[ii+1])\n",
    "ddEq_00_value = ddEq_00_value.simplify_full()\n",
    "ddEq_00_paper = ddEq_00_paper.simplify_full()\n",
    "\n",
    "for ii in range(len(sus_legendre)):\n",
    "    ddEq_00_value = ddEq_00_value.subs(sus_legendre[ii])\n",
    "    ddEq_00_paper = ddEq_00_paper.subs(sus_legendre[ii])\n",
    "\n",
    "ddEq_00_value = ddEq_00_value.subs(LP2==0).simplify_full()\n",
    "ddEq_00_check = (ddEq_00_value - ddEq_00_paper).simplify_full()\n",
    "\n",
    "show(LatexExpr(\"\\\\text{Ecuación (47) }\\\\rightarrow\"), bool(ddEq_00_check==0))"
   ]
  },
  {
   "cell_type": "markdown",
   "metadata": {},
   "source": [
    "Ecuación (49)"
   ]
  },
  {
   "cell_type": "code",
   "execution_count": 52,
   "metadata": {
    "scrolled": true
   },
   "outputs": [
    {
     "data": {
      "text/html": [
       "<html>\\[\\newcommand{\\Bold}[1]{\\mathbf{#1}}\\text{Ecuación (49) }\\rightarrow \\mathrm{True}\\]</html>"
      ],
      "text/latex": [
       "$$\\newcommand{\\Bold}[1]{\\mathbf{#1}}\\text{Ecuación (49) }\\rightarrow \\mathrm{True}$$"
      ],
      "text/plain": [
       "\\text{Ecuación (49) }\\rightarrow True"
      ]
     },
     "metadata": {},
     "output_type": "display_data"
    }
   ],
   "source": [
    "ddEq_11_value = (ddG[1,1] - kappa*ddT[1,1])*e^(-lamb)/2\n",
    "\n",
    "ddEq_11_paper = 2/(r*e^(lamb))*formal_diff(h0,r)\\\n",
    "              - 2/(r*e^(lamb))*(formal_diff(nu,r)+1/r)*v0\\\n",
    "              + r^2/(6*e^(nu+lamb))*formal_diff(Ln,r)^2\\\n",
    "              - 8*pi*(mu0*n0*gamman + chi0*p0*gammap\\\n",
    "                      - (Psi0 - Lambda0)*h0 + r^2/(3*e^(nu))*(mu0*n0*Ln^2 + chi0*p0*Lp^2)\\\n",
    "                      - r^2/(3*e^(nu))*n0*p0*A0*(Omegan1 - Omegap1)^2)\n",
    "\n",
    "for ii in range(0,len(sus_cuadrados),2):\n",
    "    ddEq_11_value = ddEq_11_value.substitute_function(sus_cuadrados[ii],sus_cuadrados[ii+1])\n",
    "    ddEq_11_paper = ddEq_11_paper.substitute_function(sus_cuadrados[ii],sus_cuadrados[ii+1])\n",
    "for ii in range(len(sus_func)):\n",
    "    ddEq_11_value = ddEq_11_value.subs(sus_func[ii])\n",
    "    ddEq_11_paper = ddEq_11_paper.subs(sus_func[ii])\n",
    "ddEq_11_value = ddEq_11_value.simplify_full()\n",
    "ddEq_11_paper = ddEq_11_paper.simplify_full()\n",
    "\n",
    "for ii in range(0,len(sus_descomp),2):\n",
    "    ddEq_11_value = ddEq_11_value.substitute_function(sus_descomp[ii], sus_descomp[ii+1])\n",
    "ddEq_11_value = ddEq_11_value.simplify_full()\n",
    "for ii in range(len(sus_legendre)):\n",
    "    ddEq_11_value = ddEq_11_value.subs(sus_legendre[ii])\n",
    "ddEq_11_value = ddEq_11_value.subs(LP2==0)\n",
    "ddEq_11_check = (ddEq_11_value - ddEq_11_paper).subs(LP2==0).simplify_full()\n",
    "\n",
    "show(LatexExpr(\"\\\\text{Ecuación (49) }\\\\rightarrow\"), bool(ddEq_11_check==0))"
   ]
  },
  {
   "cell_type": "markdown",
   "metadata": {},
   "source": [
    "### <center> $\\boxed{l=2}$ </center>"
   ]
  },
  {
   "cell_type": "markdown",
   "metadata": {},
   "source": [
    "Ecuación (39)"
   ]
  },
  {
   "cell_type": "code",
   "execution_count": 54,
   "metadata": {},
   "outputs": [
    {
     "data": {
      "text/html": [
       "<html>\\[\\newcommand{\\Bold}[1]{\\mathbf{#1}}\\Lambda^{(2)}_2 \\rightarrow \\mathrm{True}\\]</html>"
      ],
      "text/latex": [
       "$$\\newcommand{\\Bold}[1]{\\mathbf{#1}}\\Lambda^{(2)}_2 \\rightarrow \\mathrm{True}$$"
      ],
      "text/plain": [
       "\\Lambda^{(2)}_2 \\rightarrow True"
      ]
     },
     "metadata": {},
     "output_type": "display_data"
    }
   ],
   "source": [
    "var('Lambda22', latex_name = \"\\\\Lambda^{(2)}_2\")\n",
    "\n",
    "Lambda22_value = (formal_diff(formal_diff(Lambdae, eps),eps)/2).simplify_full()\n",
    "\n",
    "for ii in range(0,len(sus_cuadrados),2):\n",
    "    Lambda22_value = Lambda22_value.substitute_function(sus_cuadrados[ii],sus_cuadrados[ii+1])\n",
    "for ii in range(len(sus_func)):\n",
    "    Lambda22_value = Lambda22_value.subs(sus_func[ii])\n",
    "for ii in range(0, len(sus_descomp), 2):\n",
    "    Lambda22_value = Lambda22_value.substitute_function(sus_descomp[ii], sus_descomp[ii+1])\n",
    "for ii in range(len(sus_legendre)):\n",
    "    Lambda22_value = Lambda22_value.subs(sus_legendre[ii])\n",
    "Lambda22_value = (Lambda22_value - Lambda22_value.subs(LP2==0))/LP2\n",
    "\n",
    "Lambda22_paper = mu0*n0*eta2 + chi0*p0*Phi2 - r^2/(3*e^(nu))*A0*n0*p0*(Omegan1-Omegap1)^2\n",
    "Lambda22_paper = -Lambda22_paper\n",
    "for ii in range(len(sus_func)):\n",
    "    Lambda22_paper = Lambda22_paper.subs(sus_func[ii])\n",
    "\n",
    "Lambda22_check = (Lambda22_value - Lambda22_paper).simplify_full()\n",
    "show(LatexExpr(\"\\\\Lambda^{(2)}_2 \\\\rightarrow\"), bool(Lambda22_check==0))\n",
    "\n",
    "sus_func.extend([Lambda22==Lambda22_value])"
   ]
  },
  {
   "cell_type": "markdown",
   "metadata": {},
   "source": [
    "Ecuación (43.1)"
   ]
  },
  {
   "cell_type": "code",
   "execution_count": 55,
   "metadata": {},
   "outputs": [
    {
     "data": {
      "text/html": [
       "<html>\\[\\newcommand{\\Bold}[1]{\\mathbf{#1}}\\text{Ecuación (43.1) }\\rightarrow \\mathrm{True}\\]</html>"
      ],
      "text/latex": [
       "$$\\newcommand{\\Bold}[1]{\\mathbf{#1}}\\text{Ecuación (43.1) }\\rightarrow \\mathrm{True}$$"
      ],
      "text/plain": [
       "\\text{Ecuación (43.1) }\\rightarrow True"
      ]
     },
     "metadata": {},
     "output_type": "display_data"
    }
   ],
   "source": [
    "Eq_43_1_value = formal_diff(formal_diff(muec,eps),eps)/(2*muinf).simplify_full()\n",
    "Eq_43_1_paper = + B000*n0*eta2/mu0\\\n",
    "                + A000*p0*Phi2/mu0\\\n",
    "                - r^2/(3*e^(nu))*p0/mu0*(A0\\\n",
    "                                         + n0*formal_diff(A,fn2)*2*n0\\\n",
    "                                         + n0*p0*formal_diff(A,fx2))*(Omegan1-Omegap1)^2\\\n",
    "                + r^2/(3*e^nu)*Ln^2 + h2\n",
    "\n",
    "for ii in range(0,len(sus_cuadrados),2):\n",
    "    Eq_43_1_value = Eq_43_1_value.substitute_function(sus_cuadrados[ii],sus_cuadrados[ii+1])\n",
    "    Eq_43_1_paper = Eq_43_1_paper.substitute_function(sus_cuadrados[ii],sus_cuadrados[ii+1])\n",
    "for ii in range(len(sus_func)):\n",
    "    Eq_43_1_value = Eq_43_1_value.subs(sus_func[ii])\n",
    "    Eq_43_1_paper = Eq_43_1_paper.subs(sus_func[ii])\n",
    "Eq_43_1_value = Eq_43_1_value.simplify_full()\n",
    "Eq_43_1_paper = Eq_43_1_paper.simplify_full()\n",
    "\n",
    "for ii in range(0, len(sus_descomp), 2):\n",
    "    Eq_43_1_value = Eq_43_1_value.substitute_function(sus_descomp[ii], sus_descomp[ii+1])\n",
    "for ii in range(len(sus_legendre)):\n",
    "    Eq_43_1_value = Eq_43_1_value.subs(sus_legendre[ii])\n",
    "Eq_43_1_value = Eq_43_1_value.simplify_full()\n",
    "\n",
    "Eq_43_1_value = (Eq_43_1_value - Eq_43_1_value.subs(LP2==0))/LP2\n",
    "Eq_43_1_value = Eq_43_1_value.simplify_full()\n",
    "Eq_43_1_check = (Eq_43_1_value - Eq_43_1_paper).simplify_full()\n",
    "\n",
    "show(LatexExpr(\"\\\\text{Ecuación (43.1) }\\\\rightarrow\"), bool(Eq_43_1_check==0))"
   ]
  },
  {
   "cell_type": "markdown",
   "metadata": {},
   "source": [
    "Ecuación (43.2)"
   ]
  },
  {
   "cell_type": "code",
   "execution_count": 56,
   "metadata": {},
   "outputs": [
    {
     "data": {
      "text/html": [
       "<html>\\[\\newcommand{\\Bold}[1]{\\mathbf{#1}}\\text{Ecuación (43.2) }\\rightarrow \\mathrm{True}\\]</html>"
      ],
      "text/latex": [
       "$$\\newcommand{\\Bold}[1]{\\mathbf{#1}}\\text{Ecuación (43.2) }\\rightarrow \\mathrm{True}$$"
      ],
      "text/plain": [
       "\\text{Ecuación (43.2) }\\rightarrow True"
      ]
     },
     "metadata": {},
     "output_type": "display_data"
    }
   ],
   "source": [
    "Eq_43_2_value = formal_diff(formal_diff(chiec,eps),eps)/(2*chiinf)\n",
    "Eq_43_2_paper = + C000*p0*Phi2/chi0\\\n",
    "                + A000*n0*eta2/chi0\\\n",
    "                - r^2/(3*e^(nu))*n0/chi0*(A0\\\n",
    "                                          +p0*formal_diff(A,fp2)*2*p0\\\n",
    "                                          +n0*p0*formal_diff(A,fx2))*(Omegan1-Omegap1)^2\\\n",
    "                + r^2/(3*e^nu)*Lp^2 + h2\n",
    "\n",
    "for ii in range(0,len(sus_cuadrados),2):\n",
    "    Eq_43_2_value = Eq_43_2_value.substitute_function(sus_cuadrados[ii],sus_cuadrados[ii+1])\n",
    "    Eq_43_2_paper = Eq_43_2_paper.substitute_function(sus_cuadrados[ii],sus_cuadrados[ii+1])\n",
    "for ii in range(len(sus_func)):\n",
    "    Eq_43_2_value = Eq_43_2_value.subs(sus_func[ii])\n",
    "    Eq_43_2_paper = Eq_43_2_paper.subs(sus_func[ii])\n",
    "Eq_43_2_value = Eq_43_2_value.simplify_full()\n",
    "Eq_43_2_paper = Eq_43_2_paper.simplify_full()\n",
    "\n",
    "for ii in range(0, len(sus_descomp), 2):\n",
    "    Eq_43_2_value = Eq_43_2_value.substitute_function(sus_descomp[ii], sus_descomp[ii+1])\n",
    "for ii in range(len(sus_legendre)):\n",
    "    Eq_43_2_value = Eq_43_2_value.subs(sus_legendre[ii])\n",
    "Eq_43_2_value = Eq_43_2_value.simplify_full()\n",
    "\n",
    "Eq_43_2_value = (Eq_43_2_value - Eq_43_2_value.subs(LP2==0))/LP2\n",
    "Eq_43_2_value = Eq_43_2_value.simplify_full()\n",
    "Eq_43_2_check = (Eq_43_2_value - Eq_43_2_paper).simplify_full()\n",
    "\n",
    "show(LatexExpr(\"\\\\text{Ecuación (43.2) }\\\\rightarrow\"), bool(Eq_43_2_check==0))"
   ]
  },
  {
   "cell_type": "markdown",
   "metadata": {},
   "source": [
    "Ecuación (45)"
   ]
  },
  {
   "cell_type": "code",
   "execution_count": null,
   "metadata": {
    "scrolled": true
   },
   "outputs": [],
   "source": [
    "ddEq_2233 = ddGud22 - kappa*ddTud22 - ddGud33 + kappa*ddTud33\n",
    "\n",
    "h2_value = solve(ddEq_2233==0, h2)[0].rhs().simplify_full()\n",
    "h2_paper = r^4/(6*e^(nu+lamb))*formal_diff(Ln,r)^2\\\n",
    "         + 8*pi*r^4/(3*e^(nu))*(Psi0-Lambda0)*Ln^2\\\n",
    "         + 8*pi*r^4/(3*e^(nu))*(chi0*p0*(Omegan1-Omegap1)*(Ln+Lp)\\\n",
    "                                - A0*n0*p0*(Omegan1-Omegap1)^2)\\\n",
    "         - v2\n",
    "\n",
    "for ii in range(0,len(sus_cuadrados),2):\n",
    "    h2_value = h2_value.substitute_function(sus_cuadrados[ii],sus_cuadrados[ii+1])\n",
    "    h2_paper = h2_paper.substitute_function(sus_cuadrados[ii],sus_cuadrados[ii+1])\n",
    "for ii in range(len(sus_func)):\n",
    "    h2_value = h2_value.subs(sus_func[ii]).simplify_full()\n",
    "    h2_paper = h2_paper.subs(sus_func[ii]).simplify_full()\n",
    "h2_value = h2_value.simplify_full()\n",
    "h2_paper = h2_paper.simplify_full()\n",
    "\n",
    "for ii in range(0, len(sus_descomp), 2):\n",
    "    h2_value = h2_value.substitute_function(sus_descomp[ii], sus_descomp[ii+1])\n",
    "for ii in range(len(sus_legendre)):\n",
    "    h2_value = h2_value.subs(sus_legendre[ii])\n",
    "h2_value = h2_value.simplify_full()\n",
    "\n",
    "h2_value = (h2_value - h2_value.subs(LP2==0))/LP2\n",
    "h2_check = (h2_value - h2_paper).simplify_full()\n",
    "\n",
    "show(LatexExpr(\"h_2 \\\\rightarrow\"), bool(h2_check==0))"
   ]
  },
  {
   "cell_type": "markdown",
   "metadata": {},
   "source": [
    "Ecuación (46)"
   ]
  },
  {
   "cell_type": "code",
   "execution_count": null,
   "metadata": {},
   "outputs": [],
   "source": [
    "ddEq_12_value = (ddG[1,2] - kappa*ddT[1,2])*(-r/(3*cos(th)*sin(th)))\n",
    "ddEq_12_paper = (1/r*(v2+h2) - formal_diff(k2+h2,r) - formal_diff(nu,r)/2*(h2-v2))*2*r\n",
    "\n",
    "for ii in range(0,len(sus_cuadrados),2):\n",
    "    ddEq_12_value = ddEq_12_value.substitute_function(sus_cuadrados[ii],sus_cuadrados[ii+1]).simplify_full()\n",
    "    ddEq_12_paper = ddEq_12_paper.substitute_function(sus_cuadrados[ii],sus_cuadrados[ii+1]).simplify_full()\n",
    "for ii in range(len(sus_func)):\n",
    "    ddEq_12_value = ddEq_12_value.subs(sus_func[ii])\n",
    "    ddEq_12_paper = ddEq_12_paper.subs(sus_func[ii])\n",
    "\n",
    "ddEq_12_check = (ddEq_12_value - ddEq_12_paper).simplify_full()\n",
    "\n",
    "show(LatexExpr(\"\\\\text{Ecuación (46) }\\\\rightarrow\"), bool(ddEq_12_check==0))"
   ]
  },
  {
   "cell_type": "markdown",
   "metadata": {},
   "source": [
    "Ecuación (48)"
   ]
  },
  {
   "cell_type": "code",
   "execution_count": null,
   "metadata": {},
   "outputs": [],
   "source": [
    "ddEq_00 = -(ddG[0,0] - kappa*ddT[0,0])*e^(-nu)/2\n",
    "\n",
    "ddEq_00_paper = - 16*pi*r^2/(3*e^(nu))*((Psi0 - Lambda0)*Ln^2\\\n",
    "                                      + chi0*p0*(Omegan1 - Omegap1)*(Ln + Lp)\\\n",
    "                                      - A0*n0*p0*(Omegan1 - Omegap1)^2)\\\n",
    "                + 8*pi*(- Lambda22)\\\n",
    "                - 2/r^2*formal_diff(r/e^(lamb)*v2,r)\\\n",
    "                - r^2/(6*e^(lamb + nu))*(formal_diff(Ln,r))^2\\\n",
    "                + 2/e^(lamb)*(formal_diff(formal_diff(k2,r),r)\\\n",
    "                              +(3/r - formal_diff(lamb,r)/2)*formal_diff(k2,r)\\\n",
    "                              - 2*e^(lamb)/r^2*k2) - 6/r^2*v2\n",
    "\n",
    "for ii in range(0,len(sus_cuadrados),2):\n",
    "    ddEq_00 = ddEq_00.substitute_function(sus_cuadrados[ii],sus_cuadrados[ii+1]).simplify_full()\n",
    "    ddEq_00_paper = ddEq_00_paper.substitute_function(sus_cuadrados[ii],sus_cuadrados[ii+1]).simplify_full()\n",
    "for ii in range(len(sus_func)):\n",
    "    ddEq_00 = ddEq_00.subs(sus_func[ii])\n",
    "    ddEq_00_paper = ddEq_00_paper.subs(sus_func[ii])\n",
    "\n",
    "ddEq_00 = ddEq_00.simplify_full()\n",
    "ddEq_00_paper = ddEq_00_paper.simplify_full()\n",
    "\n",
    "for ii in range(0,len(sus_descomp),2):\n",
    "    ddEq_00 = ddEq_00.substitute_function(sus_descomp[ii], sus_descomp[ii+1])\n",
    "\n",
    "ddEq_00 = ddEq_00.simplify_full()\n",
    "for ii in range(len(sus_legendre)):\n",
    "    ddEq_00 = ddEq_00.subs(sus_legendre[ii])\n",
    "\n",
    "ddEq_00 = ((ddEq_00 - ddEq_00.subs(LP2==0))/LP2).simplify_full()\n",
    "ddEq_00_check = (ddEq_00 - ddEq_00_paper).simplify_full()\n",
    "\n",
    "show(LatexExpr(\"\\\\text{Ecuación (48) }\\\\rightarrow\"), bool(ddEq_00_check==0))"
   ]
  },
  {
   "cell_type": "markdown",
   "metadata": {},
   "source": [
    "Ecuación (50)"
   ]
  },
  {
   "cell_type": "code",
   "execution_count": null,
   "metadata": {},
   "outputs": [],
   "source": [
    "#h2_paper = r^4/(6*e^(nu+lamb))*formal_diff(Ln,r)^2\\\n",
    "#         + 8*pi*r^4/(3*e^(nu))*(Psi0-Lambda0)*Ln^2\\\n",
    "#         + 8*pi*r^4/(3*e^(nu))*(chi0*p0*(Omegan1-Omegap1)*(Ln+Lp)\\\n",
    "#                                - A0*n0*p0*(Omegan1-Omegap1)^2)\\\n",
    "#         - v2\n",
    "#\n",
    "#for ii in range(0,len(sus_cuadrados),2):\n",
    "#    h2_paper = h2_paper.substitute_function(sus_cuadrados[ii],sus_cuadrados[ii+1]).simplify_full()\n",
    "#for ii in range(len(sus_func)):\n",
    "#    h2_paper = h2_paper.subs(sus_func[ii]).simplify_full()\n",
    "#h2_paper = h2_paper.simplify_full()\n",
    "#sus_func.extend([h2==h2_paper.simplify_full()])"
   ]
  },
  {
   "cell_type": "code",
   "execution_count": null,
   "metadata": {},
   "outputs": [],
   "source": [
    "ddEq_11_value = (ddG[1,1] - kappa*ddT[1,1])*e^(-lamb)/2\n",
    "\n",
    "ddEq_11_paper = 2/(r*e^(lamb))*formal_diff(h2,r)\\\n",
    "              - 6/r^2*h2 - 2/(r*e^(lamb))*(formal_diff(nu,r)+1/r)*v2\\\n",
    "              + 1/e^(lamb)*(formal_diff(nu,r)+2/r)*formal_diff(k2,r)\\\n",
    "              - 4/r^2*k2 - r^2/(6*e^(lamb + nu))*formal_diff(Ln,r)^2\\\n",
    "              + 8*pi*((Psi0 - Lambda0)*h2 + r^2/(3*e^(nu))*(mu0*n0*Ln^2 + chi0*p0*Lp^2)\\\n",
    "                      - r^2/(3*e^(nu))*n0*p0*A0*(Omegan1 - Omegap1)^2)\n",
    "\n",
    "for ii in range(0,len(sus_cuadrados),2):\n",
    "    ddEq_11_value = ddEq_11_value.substitute_function(sus_cuadrados[ii],sus_cuadrados[ii+1])\n",
    "    ddEq_11_paper = ddEq_11_paper.substitute_function(sus_cuadrados[ii],sus_cuadrados[ii+1])\n",
    "for ii in range(len(sus_func)):\n",
    "    ddEq_11_value = ddEq_11_value.subs(sus_func[ii])\n",
    "    ddEq_11_paper = ddEq_11_paper.subs(sus_func[ii])\n",
    "for ii in range(0,len(sus_descomp),2):\n",
    "    ddEq_11_value = ddEq_11_value.substitute_function(sus_descomp[ii], sus_descomp[ii+1])\n",
    "    ddEq_11_paper = ddEq_11_paper.substitute_function(sus_descomp[ii], sus_descomp[ii+1])\n",
    "\n",
    "ddEq_11_value = ddEq_11_value.simplify_full()\n",
    "ddEq_11_paper = ddEq_11_paper.simplify_full()\n",
    "for ii in range(len(sus_legendre)):\n",
    "    ddEq_11_value = ddEq_11_value.subs(sus_legendre[ii])\n",
    "    ddEq_11_paper = ddEq_11_paper.subs(sus_legendre[ii])\n",
    "\n",
    "ddEq_11_value = ((ddEq_11_value - ddEq_11_value.subs(LP2==0))/LP2).simplify_full()\n",
    "ddEq_11_check = (ddEq_11_value - ddEq_11_paper).simplify_full()\n",
    "\n",
    "show(LatexExpr(\"\\\\text{Ecuación (50) }\\\\rightarrow\"), bool(ddEq_11_check==0))\n",
    "\n",
    "show(EN(ddEq_11_value))\n",
    "show(EN(ddEq_11_paper))"
   ]
  },
  {
   "cell_type": "code",
   "execution_count": null,
   "metadata": {},
   "outputs": [],
   "source": []
  }
 ],
 "metadata": {
  "kernelspec": {
   "display_name": "SageMath 9.4",
   "language": "sage",
   "name": "sagemath-9.4"
  },
  "language_info": {
   "codemirror_mode": {
    "name": "ipython",
    "version": 3
   },
   "file_extension": ".py",
   "mimetype": "text/x-python",
   "name": "python",
   "nbconvert_exporter": "python",
   "pygments_lexer": "ipython3",
   "version": "3.9.5"
  }
 },
 "nbformat": 4,
 "nbformat_minor": 4
}
