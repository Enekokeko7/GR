{
 "cells": [
  {
   "cell_type": "code",
   "execution_count": 1,
   "metadata": {},
   "outputs": [],
   "source": [
    "import os\n",
    "from sage.manifolds.utilities import ExpressionNice as EN"
   ]
  },
  {
   "cell_type": "code",
   "execution_count": 2,
   "metadata": {},
   "outputs": [],
   "source": [
    "def formal_diff(f, x):\n",
    "    if f!=0:\n",
    "        tempX = SR.temp_var()\n",
    "        return f.subs({x: tempX}).diff(tempX).subs({tempX: x})\n",
    "    if f==0:\n",
    "        return 0"
   ]
  },
  {
   "cell_type": "code",
   "execution_count": 3,
   "metadata": {},
   "outputs": [],
   "source": [
    "#Definimos variables y funciones\n",
    "var('eps', latex_name = '\\\\varepsilon')\n",
    "var('t')\n",
    "var('r')\n",
    "var('th', latex_name = '\\\\theta')\n",
    "var('ph', latex_name = '\\\\varphi')\n",
    "coords = (t,r,th,ph)\n",
    "\n",
    "var('aaa,bbb,ccc') #que nos conocemos\n",
    "\n",
    "h = function('h')(r,th)\n",
    "k = function('k')(r,th)\n",
    "v = function('v')(r,th)\n",
    "omega = function('omega', latex_name='\\\\omega')(r)\n",
    "\n",
    "nu = function('nu', latex_name='\\\\nu')(r)\n",
    "lamb = function('lamb', latex_name='\\\\lambda')(r)\n",
    "\n",
    "Ne = e^(nu/2)*(1+eps^2*h)\n",
    "Ve = e^(lamb)*(1+2*eps^2*v)\n",
    "Ke = r^2*(1+2*eps^2*k)\n",
    "Nphie = eps*omega"
   ]
  },
  {
   "cell_type": "markdown",
   "metadata": {},
   "source": [
    "# <center> Tensor de Einstein </center>"
   ]
  },
  {
   "cell_type": "code",
   "execution_count": 4,
   "metadata": {},
   "outputs": [],
   "source": [
    "gdd = matrix(SR, 4, 4)\n",
    "\n",
    "gdd[0,0] = -exp(nu)\n",
    "gdd[1,1] = exp(lamb)\n",
    "gdd[2,2] = r^2\n",
    "gdd[3,3] = r^2*sin(th)^2\n",
    "\n",
    "guu = 1/gdd\n",
    "\n",
    "K1 = matrix(SR, 4, 4)\n",
    "K1[0,3] = -omega*r^2*sin(th)^2\n",
    "K1[3,0] = -omega*r^2*sin(th)^2\n",
    "\n",
    "K2 = matrix(SR, 4, 4)\n",
    "K2[0,0] = -4*exp(nu)*h + 2*r^2*sin(th)^2*omega^2\n",
    "K2[1,1] = 4*exp(lamb)*v\n",
    "K2[2,2] = 4*k*r^2\n",
    "K2[3,3] = 4*k*r^2*sin(th)^2"
   ]
  },
  {
   "cell_type": "code",
   "execution_count": 5,
   "metadata": {},
   "outputs": [],
   "source": [
    "gedd = matrix(SR, 4, 4)\n",
    "for ii in range(4):\n",
    "    for jj in range(4):\n",
    "        gedd[ii,jj] = gdd[ii,jj] + eps*K1[ii,jj] + 1/2*eps^2*K2[ii,jj]\n",
    "        \n",
    "geuu_long = 1/gedd\n",
    "geuu = matrix(SR, 4, 4)\n",
    "for ii in range(4):\n",
    "    for jj in range(4):\n",
    "        geuu[ii,jj] = geuu_long[ii,jj].subs(eps==0)\\\n",
    "                    + eps*formal_diff(geuu_long[ii,jj],eps).subs(eps==0)\\\n",
    "                    + 1/2*eps^2*formal_diff(formal_diff(geuu_long[ii,jj],eps),eps).subs(eps==0)\n",
    "\n",
    "chris = [[[0 for kk in range(4)] for jj in range(4)] for ii in range(4)]\n",
    "for ii in range(4):\n",
    "    for jj in range(4):\n",
    "        for kk in range(4):\n",
    "            chris[ii][jj][kk] = 1/2*sum(geuu[ii,dd]*(formal_diff(gedd[dd,jj],coords[kk])\n",
    "                                                   + formal_diff(gedd[dd,kk],coords[jj])\n",
    "                                                   - formal_diff(gedd[jj,kk],coords[dd])) for dd in range(4))\n",
    "\n",
    "riem = [[[[0 for ll in range(4)] for kk in range(4)] for jj in range(4)] for ii in range(4)]\n",
    "for ii in range(4):\n",
    "    for jj in range(4):\n",
    "        for kk in range(4):\n",
    "            for ll in range(4):\n",
    "                riem[ii][jj][kk][ll] = (formal_diff(chris[ii][jj][ll],coords[kk])\n",
    "                                      - formal_diff(chris[ii][jj][kk],coords[ll])\n",
    "                                      + sum(chris[ii][kk][dd]*chris[dd][ll][jj]\n",
    "                                          - chris[ii][ll][dd]*chris[dd][kk][jj] for dd in range(4)))\n",
    "\n",
    "ricci = matrix(SR, 4, 4)\n",
    "for ii in range(4):\n",
    "    for kk in range(4):\n",
    "        ricci[ii,kk] = sum(riem[dd][ii][dd][kk] for dd in range(4))\n",
    "\n",
    "s_curv = sum(sum(ricci[ii,jj]*geuu[ii,jj] for ii in range(4)) for jj in range(4))\n",
    "\n",
    "Ge = matrix(SR, 4, 4)\n",
    "Ge = ricci - 1/2*gedd*s_curv\n",
    "\n",
    "dGe = matrix(SR, 4, 4)\n",
    "ddGe = matrix(SR, 4, 4)\n",
    "for ii in range(4):\n",
    "    for jj in range(4):\n",
    "        dGe[ii,jj] = formal_diff(Ge[ii,jj],eps)\n",
    "        ddGe[ii,jj] = formal_diff(formal_diff(Ge[ii,jj],eps),eps)\n",
    "\n",
    "Geud = matrix(SR, 4, 4)\n",
    "for ii in range(4):\n",
    "    for jj in range(4):\n",
    "        for kk in range(4):\n",
    "            Geud[ii,jj] += Ge[jj,kk]*geuu[kk,ii]\n",
    "\n",
    "dGeud = matrix(SR, 4, 4)\n",
    "ddGeud = matrix(SR, 4, 4)\n",
    "for ii in range(4):\n",
    "    for jj in range(4):\n",
    "        dGeud[ii,jj] = formal_diff(Geud[ii,jj],eps)\n",
    "        ddGeud[ii,jj] = formal_diff(formal_diff(Geud[ii,jj],eps),eps)"
   ]
  },
  {
   "cell_type": "markdown",
   "metadata": {},
   "source": [
    "# <center> Tensor de energía-momento </center>"
   ]
  },
  {
   "cell_type": "code",
   "execution_count": 6,
   "metadata": {},
   "outputs": [],
   "source": [
    "#Omegas\n",
    "var('Omegan1', latex_name=\"\\\\Omega^{(1)}_{n}\")\n",
    "var('Omegap1', latex_name=\"\\\\Omega^{(1)}_{p}\")\n",
    "Omegane = eps*Omegan1\n",
    "Omegape = eps*Omegap1\n",
    "\n",
    "Nne = function('Nne', latex_name='N_{n\\\\varepsilon}')(r,th,eps)\n",
    "Npe = function('Npe', latex_name='N_{p\\\\varepsilon}')(r,th,eps)\n",
    "\n",
    "#Tomando eps=0\n",
    "Nn = function('Nn', latex_name='N_{n}')(r,th)\n",
    "Np = function('Np', latex_name='N_{p}')(r,th)\n",
    "\n",
    "sus_func = [eps==0,\n",
    "            Nne.subs(eps==0)==Nn,\n",
    "            Npe.subs(eps==0)==Np]"
   ]
  },
  {
   "cell_type": "markdown",
   "metadata": {},
   "source": [
    "## <center> Campo $u$ de los neutrones </center>"
   ]
  },
  {
   "cell_type": "code",
   "execution_count": 7,
   "metadata": {},
   "outputs": [],
   "source": [
    "Nne_paper = 1/sqrt(Ne^2-sin(th)^2*Ke*(Nphie-Omegane)^2)\n",
    "\n",
    "ueu_paper = [Nne_paper,0,0,Nne_paper*Omegane]"
   ]
  },
  {
   "cell_type": "code",
   "execution_count": 8,
   "metadata": {
    "scrolled": true
   },
   "outputs": [
    {
     "data": {
      "text/html": [
       "<html>\\[\\newcommand{\\Bold}[1]{\\mathbf{#1}}u_{\\varepsilon}\\lvert_{\\varepsilon=0} \\rightarrow  \\mathrm{True}\\]</html>"
      ],
      "text/latex": [
       "$$\\newcommand{\\Bold}[1]{\\mathbf{#1}}u_{\\varepsilon}\\lvert_{\\varepsilon=0} \\rightarrow  \\mathrm{True}$$"
      ],
      "text/plain": [
       "u_{\\varepsilon}\\lvert_{\\varepsilon=0} \\rightarrow  True"
      ]
     },
     "metadata": {},
     "output_type": "display_data"
    }
   ],
   "source": [
    "ueu = [Nne,0,0,Nne*Omegane]\n",
    "ued = [0,0,0,0]\n",
    "\n",
    "for ii in range(4):\n",
    "    for jj in range(4):\n",
    "        ued[ii] += ueu[jj]*gedd[ii,jj]\n",
    "\n",
    "norm = 0\n",
    "for ii in range(4):\n",
    "    norm += ueu[ii]*ued[ii]\n",
    "\n",
    "Nne_value = sqrt(solve(norm==-1, Nne^2)[0].rhs())\n",
    "\n",
    "for ii in range(4):\n",
    "    ueu[ii] = ueu[ii].subs(Nne==Nne_value)\n",
    "    ued[ii] = ued[ii].subs(Nne==Nne_value)\n",
    "\n",
    "Nn_value = copy(Nne_value)\n",
    "for ii in range(len(sus_func)):\n",
    "    Nn_value = Nn_value.subs(sus_func[ii])\n",
    "Nn_value = Nn_value.simplify_full()\n",
    "\n",
    "sus_func.extend([Nn==Nn_value])\n",
    "\n",
    "uu = copy(ueu)\n",
    "for ii in range(4):\n",
    "    for jj in range(len(sus_func)):\n",
    "        uu[ii] = uu[ii].subs(sus_func[jj])\n",
    "\n",
    "Nne_paper = 1/sqrt(Ne^2 - sin(th)^2*Ke*(Nphie-Omegane)^2)\n",
    "\n",
    "uu_paper = [Nne_paper,0,0,Omegane*Nne_paper]\n",
    "for ii in range(4):\n",
    "    for jj in range(len(sus_func)):\n",
    "        uu_paper[ii] = uu_paper[ii].subs(sus_func[jj])\n",
    "\n",
    "uu_check = [x-y for (x,y) in zip(uu, uu_paper)]\n",
    "\n",
    "show(LatexExpr(\"u_{\\\\varepsilon}\\\\lvert_{\\\\varepsilon=0} \\\\rightarrow \"), bool(uu_check==[0,0,0,0]))"
   ]
  },
  {
   "cell_type": "code",
   "execution_count": 9,
   "metadata": {},
   "outputs": [
    {
     "data": {
      "text/html": [
       "<html>\\[\\newcommand{\\Bold}[1]{\\mathbf{#1}}\\frac{d u_{\\varepsilon}}{d \\varepsilon}\\bigg\\lvert_{\\varepsilon=0} \\rightarrow  \\mathrm{True}\\]</html>"
      ],
      "text/latex": [
       "$$\\newcommand{\\Bold}[1]{\\mathbf{#1}}\\frac{d u_{\\varepsilon}}{d \\varepsilon}\\bigg\\lvert_{\\varepsilon=0} \\rightarrow  \\mathrm{True}$$"
      ],
      "text/plain": [
       "\\frac{d u_{\\varepsilon}}{d \\varepsilon}\\bigg\\lvert_{\\varepsilon=0} \\rightarrow  True"
      ]
     },
     "metadata": {},
     "output_type": "display_data"
    }
   ],
   "source": [
    "dueu, dueu_paper, dueu_check = [0,0,0,0], [0,0,0,0], [0,0,0,0]\n",
    "\n",
    "for ii in range(4):\n",
    "    dueu[ii] = formal_diff(ueu[ii], eps)\n",
    "    dueu_paper[ii] = formal_diff(ueu_paper[ii], eps)\n",
    "    dueu_check[ii] = dueu[ii] - dueu_paper[ii]\n",
    "    for jj in range(len(sus_func)):\n",
    "        dueu_check[ii] = dueu_check[ii].subs(sus_func[jj])\n",
    "\n",
    "show(LatexExpr(\"\\\\frac{d u_{\\\\varepsilon}}{d \\\\varepsilon}\\\\bigg\\\\lvert_{\\\\varepsilon=0} \\\\rightarrow \"),\n",
    "     bool(dueu_check==[0,0,0,0]))"
   ]
  },
  {
   "cell_type": "code",
   "execution_count": 10,
   "metadata": {},
   "outputs": [
    {
     "data": {
      "text/html": [
       "<html>\\[\\newcommand{\\Bold}[1]{\\mathbf{#1}}\\frac{d^2 u_{\\varepsilon}}{d \\varepsilon^2}\\bigg\\lvert_{\\varepsilon=0} \\rightarrow  \\mathrm{True}\\]</html>"
      ],
      "text/latex": [
       "$$\\newcommand{\\Bold}[1]{\\mathbf{#1}}\\frac{d^2 u_{\\varepsilon}}{d \\varepsilon^2}\\bigg\\lvert_{\\varepsilon=0} \\rightarrow  \\mathrm{True}$$"
      ],
      "text/plain": [
       "\\frac{d^2 u_{\\varepsilon}}{d \\varepsilon^2}\\bigg\\lvert_{\\varepsilon=0} \\rightarrow  True"
      ]
     },
     "metadata": {},
     "output_type": "display_data"
    }
   ],
   "source": [
    "ddueu, ddueu_paper, ddueu_check = [0,0,0,0], [0,0,0,0], [0,0,0,0]\n",
    "\n",
    "for ii in range(4):\n",
    "    ddueu[ii] = formal_diff(dueu[ii], eps)\n",
    "    ddueu_paper[ii] = formal_diff(dueu_paper[ii], eps)\n",
    "    ddueu_check[ii] = ddueu[ii] - ddueu_paper[ii]\n",
    "    for jj in range(len(sus_func)):\n",
    "        ddueu[ii] = ddueu[ii].subs(sus_func[jj])\n",
    "        ddueu_paper[ii] = ddueu[ii].subs(sus_func[jj])\n",
    "        ddueu_check[ii] = ddueu_check[ii].subs(sus_func[jj])\n",
    "\n",
    "show(LatexExpr(\"\\\\frac{d^2 u_{\\\\varepsilon}}{d \\\\varepsilon^2}\\\\bigg\\\\lvert_{\\\\varepsilon=0} \\\\rightarrow \"),\n",
    "     bool(ddueu_check==[0,0,0,0]))"
   ]
  },
  {
   "cell_type": "code",
   "execution_count": 11,
   "metadata": {},
   "outputs": [
    {
     "data": {
      "text/html": [
       "<html>\\[\\newcommand{\\Bold}[1]{\\mathbf{#1}}u^{(1)} \\rightarrow \\mathrm{True}\\]</html>"
      ],
      "text/latex": [
       "$$\\newcommand{\\Bold}[1]{\\mathbf{#1}}u^{(1)} \\rightarrow \\mathrm{True}$$"
      ],
      "text/plain": [
       "u^{(1)} \\rightarrow True"
      ]
     },
     "metadata": {},
     "output_type": "display_data"
    },
    {
     "data": {
      "text/html": [
       "<html>\\[\\newcommand{\\Bold}[1]{\\mathbf{#1}}u^{(2)} \\rightarrow \\mathrm{True}\\]</html>"
      ],
      "text/latex": [
       "$$\\newcommand{\\Bold}[1]{\\mathbf{#1}}u^{(2)} \\rightarrow \\mathrm{True}$$"
      ],
      "text/plain": [
       "u^{(2)} \\rightarrow True"
      ]
     },
     "metadata": {},
     "output_type": "display_data"
    }
   ],
   "source": [
    "uu1 = [0,0,0,0]\n",
    "uu2 = [0,0,0,0]\n",
    "\n",
    "for ii in range(4):\n",
    "    uu1[ii] = formal_diff(ueu[ii],eps)\n",
    "    uu2[ii] = formal_diff(formal_diff(ueu[ii],eps),eps)\n",
    "\n",
    "for ii in range(4):\n",
    "    for jj in range(len(sus_func)):\n",
    "        uu1[ii] = uu1[ii].subs(sus_func[jj])\n",
    "        uu2[ii] = uu2[ii].subs(sus_func[jj])\n",
    "\n",
    "uu1_paper = [0,0,0,0]\n",
    "uu1_paper[0] = 1/2*e^(-3*nu/2)*K1[0,0]\n",
    "uu1_paper[3] = e^(-nu/2)*Omegan1\n",
    "\n",
    "uu2_paper = [0,0,0,0]\n",
    "uu2_paper[0] = e^(-3*nu/2)*(1/2*K2[0,0]+3/4*e^(-nu)*K1[0,0]+2*Omegan1*K1[0,3]+Omegan1^2*r^2*sin(th)^2)\n",
    "uu2_paper[3] = e^(-nu/2)*(e^(-nu)*K1[0,0]*Omegan1)  \n",
    "\n",
    "uu1_check = [ii-jj for (ii,jj) in zip(uu1, uu1_paper)]\n",
    "uu2_check = [ii-jj for (ii,jj) in zip(uu2, uu2_paper)]\n",
    "\n",
    "show(LatexExpr(\"u^{(1)} \\\\rightarrow\"), uu1_check==[0,0,0,0])\n",
    "show(LatexExpr(\"u^{(2)} \\\\rightarrow\"), uu2_check==[0,0,0,0])"
   ]
  },
  {
   "cell_type": "markdown",
   "metadata": {},
   "source": [
    "## <center> Campo $v$ de los protones </center>"
   ]
  },
  {
   "cell_type": "code",
   "execution_count": 12,
   "metadata": {},
   "outputs": [],
   "source": [
    "Npe_paper = 1/sqrt(Ne^2-sin(th)^2*Ke*(Nphie-Omegape)^2)\n",
    "\n",
    "veu_paper = [Npe_paper,0,0,Npe_paper*Omegape]"
   ]
  },
  {
   "cell_type": "code",
   "execution_count": 13,
   "metadata": {},
   "outputs": [
    {
     "data": {
      "text/html": [
       "<html>\\[\\newcommand{\\Bold}[1]{\\mathbf{#1}}v_{\\varepsilon} \\rightarrow  \\mathrm{True}\\]</html>"
      ],
      "text/latex": [
       "$$\\newcommand{\\Bold}[1]{\\mathbf{#1}}v_{\\varepsilon} \\rightarrow  \\mathrm{True}$$"
      ],
      "text/plain": [
       "v_{\\varepsilon} \\rightarrow  True"
      ]
     },
     "metadata": {},
     "output_type": "display_data"
    }
   ],
   "source": [
    "veu = [Npe,0,0,Npe*Omegape]\n",
    "ved = [0,0,0,0]\n",
    "\n",
    "for ii in range(4):\n",
    "    for jj in range(4):\n",
    "        ved[ii] += veu[jj]*gedd[ii,jj]\n",
    "\n",
    "norm = 0\n",
    "for ii in range(4):\n",
    "    norm += veu[ii]*ved[ii]\n",
    "\n",
    "Npe_value = sqrt(solve(norm==-1, Npe^2)[0].rhs())\n",
    "for ii in range(4):\n",
    "    veu[ii] = veu[ii].subs(Npe==Npe_value)\n",
    "    ved[ii] = ved[ii].subs(Npe==Npe_value)\n",
    "\n",
    "Np_value = copy(Npe_value)\n",
    "for ii in range(len(sus_func)):\n",
    "    Np_value = Np_value.subs(sus_func[ii])\n",
    "Np_value = Np_value.simplify_full()\n",
    "\n",
    "sus_func.extend([Np==Np_value])\n",
    "\n",
    "vu = copy(veu)\n",
    "for ii in range(4):\n",
    "    for jj in range(len(sus_func)):\n",
    "        vu[ii] = vu[ii].subs(sus_func[jj])\n",
    "\n",
    "Npe_paper = 1/sqrt(Ne^2 - sin(th)^2*Ke*(Nphie-Omegape)^2)\n",
    "\n",
    "vu_paper = [Npe_paper,0,0,Omegape*Npe_paper]\n",
    "for ii in range(4):\n",
    "    for jj in range(len(sus_func)):\n",
    "        vu_paper[ii] = vu_paper[ii].subs(sus_func[jj])\n",
    "\n",
    "vu_check = [x-y for (x,y) in zip(vu, vu_paper)]\n",
    "\n",
    "show(LatexExpr(\"v_{\\\\varepsilon} \\\\rightarrow \"), bool(vu_check==[0,0,0,0]))"
   ]
  },
  {
   "cell_type": "code",
   "execution_count": 14,
   "metadata": {},
   "outputs": [
    {
     "data": {
      "text/html": [
       "<html>\\[\\newcommand{\\Bold}[1]{\\mathbf{#1}}\\frac{d v_{\\varepsilon}}{d \\varepsilon}\\bigg\\lvert_{\\varepsilon=0} \\rightarrow  \\mathrm{True}\\]</html>"
      ],
      "text/latex": [
       "$$\\newcommand{\\Bold}[1]{\\mathbf{#1}}\\frac{d v_{\\varepsilon}}{d \\varepsilon}\\bigg\\lvert_{\\varepsilon=0} \\rightarrow  \\mathrm{True}$$"
      ],
      "text/plain": [
       "\\frac{d v_{\\varepsilon}}{d \\varepsilon}\\bigg\\lvert_{\\varepsilon=0} \\rightarrow  True"
      ]
     },
     "metadata": {},
     "output_type": "display_data"
    }
   ],
   "source": [
    "dveu, dveu_paper, dveu_check = [0,0,0,0], [0,0,0,0], [0,0,0,0]\n",
    "\n",
    "for ii in range(4):\n",
    "    dveu[ii] = formal_diff(veu[ii], eps)\n",
    "    dveu_paper[ii] = formal_diff(veu_paper[ii], eps)\n",
    "    dveu_check[ii] = dveu[ii] - dveu_paper[ii]\n",
    "    for jj in range(len(sus_func)):\n",
    "        dveu_check[ii] = dveu_check[ii].subs(sus_func[jj])\n",
    "\n",
    "show(LatexExpr(\"\\\\frac{d v_{\\\\varepsilon}}{d \\\\varepsilon}\\\\bigg\\\\lvert_{\\\\varepsilon=0} \\\\rightarrow \"),\n",
    "     bool(dveu_check==[0,0,0,0]))"
   ]
  },
  {
   "cell_type": "code",
   "execution_count": 15,
   "metadata": {},
   "outputs": [
    {
     "data": {
      "text/html": [
       "<html>\\[\\newcommand{\\Bold}[1]{\\mathbf{#1}}\\frac{d^2 v_{\\varepsilon}}{d \\varepsilon^2}\\bigg\\lvert_{\\varepsilon=0} \\rightarrow  \\mathrm{True}\\]</html>"
      ],
      "text/latex": [
       "$$\\newcommand{\\Bold}[1]{\\mathbf{#1}}\\frac{d^2 v_{\\varepsilon}}{d \\varepsilon^2}\\bigg\\lvert_{\\varepsilon=0} \\rightarrow  \\mathrm{True}$$"
      ],
      "text/plain": [
       "\\frac{d^2 v_{\\varepsilon}}{d \\varepsilon^2}\\bigg\\lvert_{\\varepsilon=0} \\rightarrow  True"
      ]
     },
     "metadata": {},
     "output_type": "display_data"
    }
   ],
   "source": [
    "ddveu, ddveu_paper, ddveu_check = [0,0,0,0], [0,0,0,0], [0,0,0,0]\n",
    "\n",
    "for ii in range(4):\n",
    "    ddveu[ii] = formal_diff(dveu[ii], eps)\n",
    "    ddveu_paper[ii] = formal_diff(dveu_paper[ii], eps)\n",
    "    ddveu_check[ii] = ddveu[ii] - ddveu_paper[ii]\n",
    "    for jj in range(len(sus_func)):\n",
    "        ddveu_check[ii] = ddveu_check[ii].subs(sus_func[jj])\n",
    "\n",
    "show(LatexExpr(\"\\\\frac{d^2 v_{\\\\varepsilon}}{d \\\\varepsilon^2}\\\\bigg\\\\lvert_{\\\\varepsilon=0} \\\\rightarrow \"),\n",
    "     bool(ddveu_check==[0,0,0,0]))"
   ]
  },
  {
   "cell_type": "code",
   "execution_count": 16,
   "metadata": {
    "scrolled": true
   },
   "outputs": [
    {
     "data": {
      "text/html": [
       "<html>\\[\\newcommand{\\Bold}[1]{\\mathbf{#1}}v^{(1)} \\rightarrow \\mathrm{True}\\]</html>"
      ],
      "text/latex": [
       "$$\\newcommand{\\Bold}[1]{\\mathbf{#1}}v^{(1)} \\rightarrow \\mathrm{True}$$"
      ],
      "text/plain": [
       "v^{(1)} \\rightarrow True"
      ]
     },
     "metadata": {},
     "output_type": "display_data"
    },
    {
     "data": {
      "text/html": [
       "<html>\\[\\newcommand{\\Bold}[1]{\\mathbf{#1}}v^{(2)} \\rightarrow \\mathrm{True}\\]</html>"
      ],
      "text/latex": [
       "$$\\newcommand{\\Bold}[1]{\\mathbf{#1}}v^{(2)} \\rightarrow \\mathrm{True}$$"
      ],
      "text/plain": [
       "v^{(2)} \\rightarrow True"
      ]
     },
     "metadata": {},
     "output_type": "display_data"
    }
   ],
   "source": [
    "vu1 = [0,0,0,0]\n",
    "vu2 = [0,0,0,0]\n",
    "\n",
    "for ii in range(4):\n",
    "    vu1[ii] = formal_diff(veu[ii],eps)\n",
    "    vu2[ii] = formal_diff(formal_diff(veu[ii],eps),eps)\n",
    "\n",
    "for ii in range(4):\n",
    "    for jj in range(len(sus_func)):\n",
    "        vu1[ii] = vu1[ii].subs(sus_func[jj])\n",
    "        vu2[ii] = vu2[ii].subs(sus_func[jj])\n",
    "\n",
    "vu1_paper = [0,0,0,0]\n",
    "vu1_paper[0] = 1/2*e^(-3*nu/2)*K1[0,0]\n",
    "vu1_paper[3] = e^(-nu/2)*Omegap1\n",
    "\n",
    "vu2_paper = [0,0,0,0]\n",
    "vu2_paper[0] = e^(-3*nu/2)*(1/2*K2[0,0]+3/4*e^(-nu)*K1[0,0]+2*Omegap1*K1[0,3]+Omegap1^2*r^2*sin(th)^2)\n",
    "vu2_paper[3] = e^(-nu/2)*(e^(-nu)*K1[0,0]*Omegap1)  \n",
    "\n",
    "vu1_check = [ii-jj for (ii,jj) in zip(vu1, vu1_paper)]\n",
    "vu2_check = [ii-jj for (ii,jj) in zip(vu2, vu2_paper)]\n",
    "\n",
    "show(LatexExpr(\"v^{(1)} \\\\rightarrow\"), vu1_check==[0,0,0,0])\n",
    "show(LatexExpr(\"v^{(2)} \\\\rightarrow\"), vu2_check==[0,0,0,0])"
   ]
  },
  {
   "cell_type": "markdown",
   "metadata": {},
   "source": [
    "## <center> Ecuación de Einstein </center>"
   ]
  },
  {
   "cell_type": "code",
   "execution_count": 17,
   "metadata": {},
   "outputs": [],
   "source": [
    "n = function('n')(r,th,eps)\n",
    "p = function('p')(r,th,eps)\n",
    "x = function('x')(r,th,eps)\n",
    "\n",
    "n0 = function('n0', latex_name=\"n_0\")(r)\n",
    "p0 = function('p0', latex_name=\"p_0\")(r)\n",
    "\n",
    "eta = function('eta', latex_name=\"\\\\eta\")(r,th)\n",
    "Phi = function('Phi', latex_name=\"\\\\Phi\")(r,th)\n",
    "\n",
    "n2 = function('n2')(r,th,eps)\n",
    "p2 = function('p2')(r,th,eps)\n",
    "x2 = function('x2')(r,th,eps)\n",
    "\n",
    "neu = [n*ii for ii in ueu] #eq 13 AC\n",
    "peu = [p*ii for ii in veu] #eq 13 AC\n",
    "\n",
    "ned = [n*ii for ii in ued]\n",
    "ped = [p*ii for ii in ved]\n",
    "\n",
    "n2_value = (n0*(1 + eps^2*eta))^2\n",
    "p2_value = (p0*(1 + eps^2*Phi))^2\n",
    "x2_value = 0\n",
    "for ii in range(4):\n",
    "    x2_value -= neu[ii]*ped[ii]\n",
    "\n",
    "sus_func.insert(0,p==p0+n0*eps^2*Phi)\n",
    "sus_func.insert(0,n==n0+n0*eps^2*eta)\n",
    "\n",
    "sus_func.insert(0,formal_diff(x,eps)==formal_diff(sqrt(x2_value),eps))\n",
    "sus_func.insert(0,formal_diff(p,eps)==formal_diff(p0+p0*eps^2*eta,eps))\n",
    "sus_func.insert(0,formal_diff(n,eps)==formal_diff(n0+n0*eps^2*eta,eps))\n",
    "\n",
    "sus_func.insert(0,formal_diff(x,r)==formal_diff(sqrt(x2_value),r))\n",
    "sus_func.insert(0,formal_diff(p,r)==formal_diff(p0+p0*eps^2*eta,r))\n",
    "sus_func.insert(0,formal_diff(n,r)==formal_diff(n0+n0*eps^2*eta,r))\n",
    "\n",
    "sus_func.insert(0,formal_diff(formal_diff(x,eps),eps)==formal_diff(formal_diff(sqrt(x2_value),eps),eps))\n",
    "sus_func.insert(0,formal_diff(formal_diff(p,eps),eps)==formal_diff(formal_diff(p0+p0*eps^2*eta,eps),eps))\n",
    "sus_func.insert(0,formal_diff(formal_diff(n,eps),eps)==formal_diff(formal_diff(n0+n0*eps^2*eta,eps),eps))\n",
    "\n",
    "sus_func.insert(0,formal_diff(x2,eps)==formal_diff(x2_value,eps))\n",
    "sus_func.insert(0,formal_diff(p2,eps)==formal_diff((p0+p0*eps^2*eta)^2,eps))\n",
    "sus_func.insert(0,formal_diff(n2,eps)==formal_diff((n0+n0*eps^2*eta)^2,eps))\n",
    "\n",
    "sus_func.insert(0,formal_diff(formal_diff(x2,eps),eps)==formal_diff(formal_diff(x2_value,eps),eps))\n",
    "sus_func.insert(0,formal_diff(formal_diff(p2,eps),eps)==formal_diff(formal_diff((p0+p0*eps^2*eta)^2,eps),eps))\n",
    "sus_func.insert(0,formal_diff(formal_diff(n2,eps),eps)==formal_diff(formal_diff((n0+n0*eps^2*eta)^2,eps),eps))\n",
    "\n",
    "sus_func.insert(0,x2==x2_value)\n",
    "sus_func.insert(0,p2==p2_value)\n",
    "sus_func.insert(0,n2==n2_value)\n",
    "\n",
    "Lambdae = function('Lambdae', latex_name='\\\\Lambda_{\\\\varepsilon}')(n2, p2, x2)\n",
    "\n",
    "Psie = function('Psie', latex_name='\\\\Psi_{\\\\varepsilon}')(n2, p2, x2)\n",
    "\n",
    "nd = copy(ned)\n",
    "pd = copy(ped)\n",
    "for ii in range(4):\n",
    "    for jj in range(len(sus_func)):\n",
    "        nd[ii] = nd[ii].subs(sus_func[jj])\n",
    "        pd[ii] = pd[ii].subs(sus_func[jj])\n",
    "\n",
    "A = -formal_diff(Lambdae, x2)\n",
    "B = -2*formal_diff(Lambdae, n2)\n",
    "C = -2*formal_diff(Lambdae, p2)\n",
    "\n",
    "mued1 = [B*ii for ii in ned]\n",
    "mued2 = [A*ii for ii in ped]\n",
    "chied1 = [C*ii for ii in ped]\n",
    "chied2 = [A*ii for ii in ned]\n",
    "\n",
    "mued = [0,0,0,0]\n",
    "chied = [0,0,0,0]\n",
    "for ii in range(4):\n",
    "    mued[ii] = mued1[ii] + mued2[ii]\n",
    "    chied[ii] = chied1[ii] + chied2[ii]\n",
    "\n",
    "mueu = [0,0,0,0]\n",
    "chieu = [0,0,0,0]\n",
    "for ii in range(4):\n",
    "    for jj in range(4):\n",
    "        mueu[ii] += mued[jj]*geuu[ii,jj]\n",
    "        chieu[ii] += chied[jj]*geuu[ii,jj]\n",
    "\n",
    "A0 = copy(A)\n",
    "B0 = copy(B)\n",
    "C0 = copy(C)\n",
    "for ii in range(len(sus_func)):\n",
    "    A0 = A0.subs(sus_func[ii])\n",
    "    B0 = B0.subs(sus_func[ii])\n",
    "    C0 = C0.subs(sus_func[ii])"
   ]
  },
  {
   "cell_type": "markdown",
   "metadata": {},
   "source": [
    "## <center> $\\mu_c$ $\\&$ $\\chi_c$ </center>"
   ]
  },
  {
   "cell_type": "code",
   "execution_count": 18,
   "metadata": {},
   "outputs": [],
   "source": [
    "omegane = sin(th)*sqrt(Ke)*(Nphie-Omegane)/Ne\n",
    "omegape = sin(th)*sqrt(Ke)*(Nphie-Omegape)/Ne"
   ]
  },
  {
   "cell_type": "code",
   "execution_count": 19,
   "metadata": {},
   "outputs": [],
   "source": [
    "tu = [1,0,0,0]\n",
    "td = [0,0,0,0]\n",
    "for ii in range(4):\n",
    "    for jj in range(4):\n",
    "        td[ii] += tu[jj]*gedd[ii,jj]\n",
    "\n",
    "phiu = [0,0,0,1]\n",
    "phid = [0,0,0,0]\n",
    "for ii in range(4):\n",
    "    for jj in range(4):\n",
    "        phid[ii] += phiu[jj]*gedd[ii,jj]"
   ]
  },
  {
   "cell_type": "code",
   "execution_count": 20,
   "metadata": {
    "scrolled": false
   },
   "outputs": [
    {
     "data": {
      "text/html": [
       "<html>\\[\\newcommand{\\Bold}[1]{\\mathbf{#1}}\\mu_c\\lvert_{\\varepsilon=0} \\rightarrow  \\mathrm{True}\\]</html>"
      ],
      "text/latex": [
       "$$\\newcommand{\\Bold}[1]{\\mathbf{#1}}\\mu_c\\lvert_{\\varepsilon=0} \\rightarrow  \\mathrm{True}$$"
      ],
      "text/plain": [
       "\\mu_c\\lvert_{\\varepsilon=0} \\rightarrow  True"
      ]
     },
     "metadata": {},
     "output_type": "display_data"
    },
    {
     "data": {
      "text/html": [
       "<html>\\[\\newcommand{\\Bold}[1]{\\mathbf{#1}}\\frac{d \\mu_c}{d \\varepsilon}\\bigg\\lvert_{\\varepsilon=0} \\rightarrow  \\mathrm{True}\\]</html>"
      ],
      "text/latex": [
       "$$\\newcommand{\\Bold}[1]{\\mathbf{#1}}\\frac{d \\mu_c}{d \\varepsilon}\\bigg\\lvert_{\\varepsilon=0} \\rightarrow  \\mathrm{True}$$"
      ],
      "text/plain": [
       "\\frac{d \\mu_c}{d \\varepsilon}\\bigg\\lvert_{\\varepsilon=0} \\rightarrow  True"
      ]
     },
     "metadata": {},
     "output_type": "display_data"
    },
    {
     "data": {
      "text/html": [
       "<html>\\[\\newcommand{\\Bold}[1]{\\mathbf{#1}}\\frac{d^2 \\mu_c}{d \\varepsilon^2}\\bigg\\lvert_{\\varepsilon=0} \\rightarrow  \\mathrm{True}\\]</html>"
      ],
      "text/latex": [
       "$$\\newcommand{\\Bold}[1]{\\mathbf{#1}}\\frac{d^2 \\mu_c}{d \\varepsilon^2}\\bigg\\lvert_{\\varepsilon=0} \\rightarrow  \\mathrm{True}$$"
      ],
      "text/plain": [
       "\\frac{d^2 \\mu_c}{d \\varepsilon^2}\\bigg\\lvert_{\\varepsilon=0} \\rightarrow  True"
      ]
     },
     "metadata": {},
     "output_type": "display_data"
    }
   ],
   "source": [
    "muecd = [0,0,0,0]\n",
    "muecd[0] = td[0] + eps*Omegan1*phid[0]\n",
    "muecd[1] = td[1] + eps*Omegan1*phid[1]\n",
    "muecd[2] = td[2] + eps*Omegan1*phid[2]\n",
    "muecd[3] = td[3] + eps*Omegan1*phid[3]\n",
    "\n",
    "muec = 0\n",
    "for ii in range(4):\n",
    "    muec -= muecd[ii]*mueu[ii]\n",
    "\n",
    "muec_paper = Ne*(B*n*sqrt(1-omegane^2)+A*p*(1-omegane*omegape)/sqrt(1-omegape^2))\n",
    "muec_check = muec - muec_paper\n",
    "\n",
    "muc = copy(muec)\n",
    "muc_paper = copy(muec_paper)\n",
    "muc_check = copy(muec_check)\n",
    "for ii in range(len(sus_func)):\n",
    "    muc = muc.subs(sus_func[ii])\n",
    "    muc_paper = muc_paper.subs(sus_func[ii])\n",
    "    muc_check = muc_check.subs(sus_func[ii])\n",
    "show(LatexExpr(\"\\\\mu_c\\\\lvert_{\\\\varepsilon=0} \\\\rightarrow \"), bool(muc_check==0))\n",
    "\n",
    "dmuc = formal_diff(muec,eps)\n",
    "dmuc_paper = formal_diff(muec_paper,eps)\n",
    "dmuc_check = formal_diff(muec_check,eps)\n",
    "for ii in range(len(sus_func)):\n",
    "    dmuc = dmuc.subs(sus_func[ii])\n",
    "    dmuc_paper = dmuc_paper.subs(sus_func[ii])\n",
    "    dmuc_check = dmuc_check.subs(sus_func[ii])\n",
    "show(LatexExpr(\"\\\\frac{d \\\\mu_c}{d \\\\varepsilon}\\\\bigg\\\\lvert_{\\\\varepsilon=0} \\\\rightarrow \"),\n",
    "     bool(dmuc_check==0))\n",
    "\n",
    "ddmuc = formal_diff(formal_diff(muec,eps),eps)\n",
    "ddmuc_paper = formal_diff(formal_diff(muec_paper,eps),eps)\n",
    "ddmuc_check = formal_diff(formal_diff(muec_check,eps),eps)\n",
    "for ii in range(len(sus_func)):\n",
    "    ddmuc = ddmuc.subs(sus_func[ii])\n",
    "    ddmuc_paper = ddmuc_paper.subs(sus_func[ii])\n",
    "    ddmuc_check = ddmuc_check.subs(sus_func[ii])\n",
    "ddmuc_check = ddmuc_check.simplify_full()\n",
    "show(LatexExpr(\"\\\\frac{d^2 \\\\mu_c}{d \\\\varepsilon^2}\\\\bigg\\\\lvert_{\\\\varepsilon=0} \\\\rightarrow \"),\n",
    "     bool(ddmuc_check==0))"
   ]
  },
  {
   "cell_type": "code",
   "execution_count": 21,
   "metadata": {},
   "outputs": [
    {
     "data": {
      "text/html": [
       "<html>\\[\\newcommand{\\Bold}[1]{\\mathbf{#1}}\\chi_c\\lvert_{\\varepsilon=0} \\rightarrow  \\mathrm{True}\\]</html>"
      ],
      "text/latex": [
       "$$\\newcommand{\\Bold}[1]{\\mathbf{#1}}\\chi_c\\lvert_{\\varepsilon=0} \\rightarrow  \\mathrm{True}$$"
      ],
      "text/plain": [
       "\\chi_c\\lvert_{\\varepsilon=0} \\rightarrow  True"
      ]
     },
     "metadata": {},
     "output_type": "display_data"
    },
    {
     "data": {
      "text/html": [
       "<html>\\[\\newcommand{\\Bold}[1]{\\mathbf{#1}}\\frac{d \\chi_c}{d \\varepsilon}\\bigg\\lvert_{\\varepsilon=0} \\rightarrow  \\mathrm{True}\\]</html>"
      ],
      "text/latex": [
       "$$\\newcommand{\\Bold}[1]{\\mathbf{#1}}\\frac{d \\chi_c}{d \\varepsilon}\\bigg\\lvert_{\\varepsilon=0} \\rightarrow  \\mathrm{True}$$"
      ],
      "text/plain": [
       "\\frac{d \\chi_c}{d \\varepsilon}\\bigg\\lvert_{\\varepsilon=0} \\rightarrow  True"
      ]
     },
     "metadata": {},
     "output_type": "display_data"
    },
    {
     "data": {
      "text/html": [
       "<html>\\[\\newcommand{\\Bold}[1]{\\mathbf{#1}}\\frac{d^2 \\chi_c}{d \\varepsilon^2}\\bigg\\lvert_{\\varepsilon=0} \\rightarrow  \\mathrm{True}\\]</html>"
      ],
      "text/latex": [
       "$$\\newcommand{\\Bold}[1]{\\mathbf{#1}}\\frac{d^2 \\chi_c}{d \\varepsilon^2}\\bigg\\lvert_{\\varepsilon=0} \\rightarrow  \\mathrm{True}$$"
      ],
      "text/plain": [
       "\\frac{d^2 \\chi_c}{d \\varepsilon^2}\\bigg\\lvert_{\\varepsilon=0} \\rightarrow  True"
      ]
     },
     "metadata": {},
     "output_type": "display_data"
    }
   ],
   "source": [
    "chiecd = [0,0,0,0]\n",
    "chiecd[0] = td[0] + eps*Omegap1*phid[0]\n",
    "chiecd[1] = td[1] + eps*Omegap1*phid[1]\n",
    "chiecd[2] = td[2] + eps*Omegap1*phid[2]\n",
    "chiecd[3] = td[3] + eps*Omegap1*phid[3]\n",
    "\n",
    "chiec = 0\n",
    "for ii in range(4):\n",
    "    chiec -= chiecd[ii]*chieu[ii]\n",
    "\n",
    "chiec_paper = Ne*(C*p*sqrt(1-omegape^2)+A*n*(1-omegane*omegape)/sqrt(1-omegane^2))\n",
    "chiec_check = chiec - chiec_paper\n",
    "\n",
    "chic = copy(chiec)\n",
    "chic_paper = copy(chiec_paper)\n",
    "chic_check = copy(chiec_check)\n",
    "for ii in range(len(sus_func)):\n",
    "    chic = chic.subs(sus_func[ii])\n",
    "    chic_paper = chic_paper.subs(sus_func[ii])\n",
    "    chic_check = chic_check.subs(sus_func[ii])\n",
    "show(LatexExpr(\"\\\\chi_c\\\\lvert_{\\\\varepsilon=0} \\\\rightarrow \"), bool(chic_check==0))\n",
    "\n",
    "dchic = formal_diff(chiec,eps)\n",
    "dchic_paper = formal_diff(chiec_paper,eps)\n",
    "dchic_check = formal_diff(chiec_check,eps)\n",
    "for ii in range(len(sus_func)):\n",
    "    dchic = dchic.subs(sus_func[ii])\n",
    "    dchic_paper = dchic_paper.subs(sus_func[ii])\n",
    "    dchic_check = dchic_check.subs(sus_func[ii])\n",
    "show(LatexExpr(\"\\\\frac{d \\\\chi_c}{d \\\\varepsilon}\\\\bigg\\\\lvert_{\\\\varepsilon=0} \\\\rightarrow \"),\n",
    "     bool(dmuc_check==0))\n",
    "\n",
    "ddchic = formal_diff(formal_diff(chiec,eps),eps)\n",
    "ddchic_paper = formal_diff(formal_diff(chiec_paper,eps),eps)\n",
    "ddchic_check = formal_diff(formal_diff(chiec_check,eps),eps)\n",
    "for ii in range(len(sus_func)):\n",
    "    ddchic_check = ddchic_check.subs(sus_func[ii])\n",
    "ddchic_check = ddchic_check.simplify_full()\n",
    "show(LatexExpr(\"\\\\frac{d^2 \\\\chi_c}{d \\\\varepsilon^2}\\\\bigg\\\\lvert_{\\\\varepsilon=0} \\\\rightarrow \"),\n",
    "     bool(ddchic_check==0))"
   ]
  },
  {
   "cell_type": "code",
   "execution_count": 22,
   "metadata": {},
   "outputs": [],
   "source": [
    "Psie = Lambdae - sum([ii*jj for (ii,jj) in zip(neu, mued)]) - sum([ii*jj for (ii,jj) in zip(peu, chied)])\n",
    "\n",
    "LambdaePsie = Psie - Lambdae\n",
    "\n",
    "dirac = diagonal_matrix([1,1,1,1])\n",
    "\n",
    "Teud = matrix(SR, 4, 4)\n",
    "for ii in range(4):\n",
    "    for jj in range(4):\n",
    "        Teud[ii,jj] = Psie*dirac[ii,jj] + peu[ii]*chied[jj] + neu[ii]*mued[jj]\n",
    "\n",
    "Te, dTe, ddTe = matrix(SR, 4, 4), matrix(SR, 4, 4), matrix(SR, 4, 4)\n",
    "for ii in range(4):\n",
    "    for jj in range(4):\n",
    "        for kk in range(4):\n",
    "            Te[ii,jj] += Teud[kk,jj]*gedd[kk,ii]\n",
    "\n",
    "        dTe[ii,jj] = formal_diff(Te[ii,jj],eps)\n",
    "        ddTe[ii,jj] = formal_diff(formal_diff(Te[ii,jj],eps),eps)\n",
    "\n",
    "kappa = 8*pi"
   ]
  },
  {
   "cell_type": "code",
   "execution_count": 23,
   "metadata": {},
   "outputs": [],
   "source": [
    "j = e^(-(lamb+nu)/2)\n",
    "M = r*(1-e^(-lamb))/2\n",
    "\n",
    "dG = copy(dGe)\n",
    "dT = copy(dTe)\n",
    "for ii in range(0,len(sus_func)):\n",
    "    dG = dG.subs(sus_func[ii])\n",
    "    dT = dT.subs(sus_func[ii])"
   ]
  },
  {
   "cell_type": "code",
   "execution_count": 31,
   "metadata": {},
   "outputs": [
    {
     "data": {
      "text/html": [
       "<html>\\[\\newcommand{\\Bold}[1]{\\mathbf{#1}}-2 \\, n_0\\left(r\\right) \\mathrm{D}_{0, 1}\\left(\\Lambda_{\\varepsilon}\\right)\\left(n_0\\left(r\\right)^{2}, p_0\\left(r\\right)^{2}, n_0\\left(r\\right) p_0\\left(r\\right)\\right)\\]</html>"
      ],
      "text/latex": [
       "$$\\newcommand{\\Bold}[1]{\\mathbf{#1}}-2 \\, n_0\\left(r\\right) \\mathrm{D}_{0, 1}\\left(\\Lambda_{\\varepsilon}\\right)\\left(n_0\\left(r\\right)^{2}, p_0\\left(r\\right)^{2}, n_0\\left(r\\right) p_0\\left(r\\right)\\right)$$"
      ],
      "text/plain": [
       "-2*n0(r)*D[0, 1](Lambdae)(n0(r)^2, p0(r)^2, n0(r)*p0(r))"
      ]
     },
     "metadata": {},
     "output_type": "display_data"
    }
   ],
   "source": [
    "cosa = formal_diff(B,p2)*n*p\n",
    "for ii in range(len(sus_func)):\n",
    "    cosa = cosa.subs(sus_func[ii])\n",
    "show(cosa)"
   ]
  },
  {
   "cell_type": "code",
   "execution_count": 32,
   "metadata": {
    "scrolled": true
   },
   "outputs": [
    {
     "data": {
      "text/html": [
       "<html>\\[\\newcommand{\\Bold}[1]{\\mathbf{#1}}\\text{Eq 26.1} \\rightarrow \\mathrm{True}\\]</html>"
      ],
      "text/latex": [
       "$$\\newcommand{\\Bold}[1]{\\mathbf{#1}}\\text{Eq 26.1} \\rightarrow \\mathrm{True}$$"
      ],
      "text/plain": [
       "\\text{Eq 26.1} \\rightarrow True"
      ]
     },
     "metadata": {},
     "output_type": "display_data"
    },
    {
     "data": {
      "text/html": [
       "<html>\\[\\newcommand{\\Bold}[1]{\\mathbf{#1}}\\text{Eq 26.2} \\rightarrow \\mathrm{True}\\]</html>"
      ],
      "text/latex": [
       "$$\\newcommand{\\Bold}[1]{\\mathbf{#1}}\\text{Eq 26.2} \\rightarrow \\mathrm{True}$$"
      ],
      "text/plain": [
       "\\text{Eq 26.2} \\rightarrow True"
      ]
     },
     "metadata": {},
     "output_type": "display_data"
    }
   ],
   "source": [
    "mue = B*n + A*p #eq 22 C\n",
    "chie = A*n + C*p #eq 22 C\n",
    "\n",
    "muinf = -mued[0] #eq 20\n",
    "chiinf = -chied[0] #eq 20\n",
    "for ii in range(len(sus_func)):\n",
    "    muinf = muinf.subs(sus_func[ii])\n",
    "    chiinf = chiinf.subs(sus_func[ii])\n",
    "\n",
    "eq_mu = formal_diff(muinf,r)\n",
    "eq_chi = formal_diff(chiinf,r)\n",
    "for ii in range(len(sus_func)):\n",
    "    eq_mu = eq_mu.subs(sus_func[ii])\n",
    "    eq_chi = eq_chi.subs(sus_func[ii])\n",
    "\n",
    "A00 = A + 2*formal_diff(B,p2)*n*p + 2*formal_diff(A,n2)*n2  + 2*formal_diff(A,p2)*p2 + formal_diff(A,x2)*n*p\n",
    "B00 = B + 2*formal_diff(B,n2)*n2  + 4*formal_diff(A,n2)*n*p + formal_diff(A,x2)*p2\n",
    "C00 = C + 2*formal_diff(C,p2)*p2  + 4*formal_diff(A,p2)*n*p + formal_diff(A,x2)*n2\n",
    "\n",
    "A000 = copy(A00)\n",
    "B000 = copy(B00)\n",
    "C000 = copy(C00)\n",
    "for ii in range(len(sus_func)):\n",
    "    A000 = A000.subs(sus_func[ii])\n",
    "    B000 = B000.subs(sus_func[ii])\n",
    "    C000 = C000.subs(sus_func[ii])\n",
    "\n",
    "eq26_1 = A000*formal_diff(p,r) + B000*formal_diff(n,r) + 1/2*(B0*n0 + A0*p0)*formal_diff(nu,r)\n",
    "eq26_2 = C000*formal_diff(p,r) + A000*formal_diff(n,r) + 1/2*(A0*n0 + C0*p0)*formal_diff(nu,r)\n",
    "for ii in range(len(sus_func)):\n",
    "    eq26_1 = eq26_1.subs(sus_func[ii])\n",
    "    eq26_2 = eq26_2.subs(sus_func[ii])\n",
    "\n",
    "eq_mu = eq_mu*e^(-nu/2)\n",
    "eq_mu_check = eq_mu - eq26_1\n",
    "eq_chi = eq_chi*e^(-nu/2)\n",
    "eq_chi_check = eq_chi - eq26_2\n",
    "\n",
    "show(LatexExpr(\"\\\\text{Eq 26.1} \\\\rightarrow\"), bool(eq_mu_check==0))\n",
    "show(LatexExpr(\"\\\\text{Eq 26.2} \\\\rightarrow\"), bool(eq_chi_check==0))"
   ]
  },
  {
   "cell_type": "code",
   "execution_count": 26,
   "metadata": {},
   "outputs": [
    {
     "ename": "SystemExit",
     "evalue": "",
     "output_type": "error",
     "traceback": [
      "An exception has occurred, use %tb to see the full traceback.\n",
      "\u001b[0;31mSystemExit\u001b[0m\n"
     ]
    }
   ],
   "source": [
    "sys.exit()"
   ]
  },
  {
   "cell_type": "code",
   "execution_count": 33,
   "metadata": {
    "scrolled": true
   },
   "outputs": [],
   "source": [
    "dp0_value = solve(eq26_1, formal_diff(p0,r))[0].rhs()\n",
    "for ii in range(len(sus_func)):\n",
    "    dp0_value = dp0_value.subs(sus_func[ii])\n",
    "dp0_value = dp0_value.simplify_full()\n",
    "\n",
    "eq26_2 = eq26_2.subs(formal_diff(p,r).subs(eps==0)==dp0_value)\n",
    "\n",
    "dn0_value = solve(eq26_2, diff(n0,r))[0].rhs()\n",
    "for ii in range(len(sus_func)):\n",
    "    dn0_value = dn0_value.subs(sus_func[ii])\n",
    "dn0_value = dn0_value.simplify_full()\n",
    "\n",
    "dp0_value = dp0_value.subs(formal_diff(n,r).subs(eps==0)==dn0_value).simplify_full()\n",
    "\n",
    "sus_func.extend([formal_diff(n,r).subs(eps==0)==dn0_value,\n",
    "                 formal_diff(p,r).subs(eps==0)==dp0_value])"
   ]
  },
  {
   "cell_type": "markdown",
   "metadata": {},
   "source": [
    "# <center> $G_{\\mu\\nu} = \\kappa T_{\\mu\\nu}$ </center>"
   ]
  },
  {
   "cell_type": "code",
   "execution_count": 34,
   "metadata": {},
   "outputs": [],
   "source": [
    "Lambda0 = copy(Lambdae)\n",
    "Psi0 = copy(Psie)\n",
    "for ii in range(len(sus_func)):\n",
    "    Lambda0 = Lambda0.subs(sus_func[ii])\n",
    "    Psi0 = Psi0.subs(sus_func[ii])\n",
    "\n",
    "G = copy(Ge)\n",
    "T = copy(Te)\n",
    "for ii in range(len(sus_func)):\n",
    "    G = G.subs(sus_func[ii])\n",
    "    T = T.subs(sus_func[ii])"
   ]
  },
  {
   "cell_type": "markdown",
   "metadata": {},
   "source": [
    "## <center> $G_{00} = \\kappa T_{00}$ </center>"
   ]
  },
  {
   "cell_type": "code",
   "execution_count": 35,
   "metadata": {},
   "outputs": [
    {
     "data": {
      "text/html": [
       "<html>\\[\\newcommand{\\Bold}[1]{\\mathbf{#1}}\\lambda' \\rightarrow \\mathrm{True}\\]</html>"
      ],
      "text/latex": [
       "$$\\newcommand{\\Bold}[1]{\\mathbf{#1}}\\lambda' \\rightarrow \\mathrm{True}$$"
      ],
      "text/plain": [
       "\\lambda' \\rightarrow True"
      ]
     },
     "metadata": {},
     "output_type": "display_data"
    }
   ],
   "source": [
    "dlamb_value = solve(G[0,0] - kappa*T[0,0] == 0, formal_diff(lamb, r))[0].rhs().simplify_full()\n",
    "dlamb_paper = (1-e^(lamb))/r - 8*pi*r*e^(lamb)*Lambda0\n",
    "dlamb_check = dlamb_value - dlamb_paper\n",
    "show(LatexExpr(\"\\\\lambda' \\\\rightarrow\"), bool(dlamb_check==0))\n",
    "\n",
    "for ii in range(len(sus_func)):\n",
    "    dlamb_value = dlamb_value.subs(sus_func[ii])\n",
    "dlamb_value = dlamb_value.simplify_full()\n",
    "\n",
    "sus_func.extend([formal_diff(lamb,r)==dlamb_value])"
   ]
  },
  {
   "cell_type": "markdown",
   "metadata": {},
   "source": [
    "## <center> $G_{11} = \\kappa T_{11}$ </center>\n"
   ]
  },
  {
   "cell_type": "code",
   "execution_count": 36,
   "metadata": {},
   "outputs": [
    {
     "data": {
      "text/html": [
       "<html>\\[\\newcommand{\\Bold}[1]{\\mathbf{#1}}\\nu' \\rightarrow \\mathrm{True}\\]</html>"
      ],
      "text/latex": [
       "$$\\newcommand{\\Bold}[1]{\\mathbf{#1}}\\nu' \\rightarrow \\mathrm{True}$$"
      ],
      "text/plain": [
       "\\nu' \\rightarrow True"
      ]
     },
     "metadata": {},
     "output_type": "display_data"
    }
   ],
   "source": [
    "dnu_value_11 = solve(G[1,1] - kappa*T[1,1] == 0, formal_diff(nu, r))[0].rhs().simplify_full()\n",
    "dnu_paper = -(1-e^(lamb))/r + 8*pi*r*e^(lamb)*Psi0\n",
    "dnu_check_11 = dnu_value_11 - dnu_paper\n",
    "show(LatexExpr(\"\\\\nu' \\\\rightarrow\"), bool(dnu_check_11==0))\n",
    "\n",
    "for ii in range(len(sus_func)):\n",
    "    dnu_value_11 = dnu_value_11.subs(sus_func[ii])\n",
    "dnu_value_11 = dnu_value_11.simplify_full()\n",
    "\n",
    "sus_func.extend([formal_diff(nu,r)==dnu_value_11])"
   ]
  },
  {
   "cell_type": "code",
   "execution_count": 37,
   "metadata": {},
   "outputs": [
    {
     "data": {
      "text/html": [
       "<html>\\[\\newcommand{\\Bold}[1]{\\mathbf{#1}}\\nu'' \\rightarrow \\mathrm{False}\\]</html>"
      ],
      "text/latex": [
       "$$\\newcommand{\\Bold}[1]{\\mathbf{#1}}\\nu'' \\rightarrow \\mathrm{False}$$"
      ],
      "text/plain": [
       "\\nu'' \\rightarrow False"
      ]
     },
     "metadata": {},
     "output_type": "display_data"
    }
   ],
   "source": [
    "ddnu_value_11 = formal_diff(dnu_value_11,r).simplify_full()\n",
    "for ii in range(len(sus_func)):\n",
    "    ddnu_value_11 = ddnu_value_11.subs(sus_func[ii])\n",
    "\n",
    "ddnu_value_11 = ddnu_value_11.simplify_factorial()\n",
    "ddnu_value_11 = ddnu_value_11.simplify_trig()\n",
    "ddnu_value_11 = ddnu_value_11.simplify_rectform()\n",
    "ddnu_value_11 = ddnu_value_11.simplify_rational()\n",
    "ddnu_value_11 = ddnu_value_11.expand_sum()\n",
    "ddnu_value_11 = ddnu_value_11.simplify_full()\n",
    "\n",
    "ddnu_paper = 2*r*formal_diff(formal_diff(nu,r),r)\\\n",
    "           + formal_diff(nu,r)*(r*formal_diff(nu,r)-2)\\\n",
    "           - formal_diff(lamb,r)*(2+r*formal_diff(nu,r))\\\n",
    "           + 4/r*(e^(lamb)-1) == 0\n",
    "\n",
    "ddnu_paper = solve(ddnu_paper, formal_diff(formal_diff(nu,r),r))[0].rhs().simplify_full()\n",
    "for ii in range(len(sus_func)):\n",
    "    ddnu_paper = ddnu_paper.subs(sus_func[ii])\n",
    "\n",
    "ddnu_check_11 = ddnu_value_11 - ddnu_paper\n",
    "show(LatexExpr(\"\\\\nu'' \\\\rightarrow\"), bool(ddnu_check_11==0))"
   ]
  },
  {
   "cell_type": "markdown",
   "metadata": {},
   "source": [
    "## <center> $G_{11} = \\kappa T_{11}$ y $G_{22} = \\kappa T_{22}$ </center>\n"
   ]
  },
  {
   "cell_type": "code",
   "execution_count": 38,
   "metadata": {},
   "outputs": [
    {
     "data": {
      "text/html": [
       "<html>\\[\\newcommand{\\Bold}[1]{\\mathbf{#1}}\\nu'' \\rightarrow \\mathrm{False}\\]</html>"
      ],
      "text/latex": [
       "$$\\newcommand{\\Bold}[1]{\\mathbf{#1}}\\nu'' \\rightarrow \\mathrm{False}$$"
      ],
      "text/plain": [
       "\\nu'' \\rightarrow False"
      ]
     },
     "metadata": {},
     "output_type": "display_data"
    }
   ],
   "source": [
    "dnu_value_22 = solve(G[2,2] - kappa*T[2,2] == 0, formal_diff(nu, r))[0].rhs().simplify_full()\n",
    "\n",
    "dEq_1122 = (dnu_value_11 - dnu_value_22 == 0)*e^(nu)*2*r\n",
    "dEq_1122 = dEq_1122 + 32*pi*r^2*e^(lamb + nu)*n^2*formal_diff(Lambdae, n^2)\\\n",
    "                    + 32*pi*r^2*e^(lamb + nu)*p^2*formal_diff(Lambdae, p^2)\\\n",
    "                    + 32*pi*r^2*e^(lamb + nu)*x^2*formal_diff(Lambdae, x^2)\\\n",
    "                    - 16*pi*r^2*Lambdae*e^(lamb + nu)\\\n",
    "                    + r*e^(nu)*formal_diff(lamb,r)\\\n",
    "                    - 2*e^(lamb + nu)\n",
    "\n",
    "for ii in range(len(sus_func)):\n",
    "    dEq_1122 = dEq_1122.subs(sus_func[ii])\n",
    "\n",
    "ddnu_value = solve(dEq_1122^2, formal_diff(formal_diff(nu,r),r))[0].rhs().simplify_full()\n",
    "\n",
    "ddnu_paper = 2*r*formal_diff(formal_diff(nu,r),r)\\\n",
    "           + formal_diff(nu,r)*(r*formal_diff(nu,r)-2)\\\n",
    "           - formal_diff(lamb,r)*(2+r*formal_diff(nu,r))\\\n",
    "           + 4/r*(e^(lamb)-1) == 0\n",
    "\n",
    "ddnu_paper = solve(ddnu_paper, formal_diff(formal_diff(nu,r),r))[0].rhs()\n",
    "for ii in range(len(sus_func)):\n",
    "    ddnu_paper = ddnu_paper.subs(sus_func[ii])\n",
    "    ddnu_value = ddnu_value.subs(sus_func[ii])\n",
    "\n",
    "ddnu_paper = ddnu_paper.simplify_full()\n",
    "ddnu_value = ddnu_value.simplify_full()\n",
    "\n",
    "ddnu_check = ddnu_value - ddnu_paper\n",
    "show(LatexExpr(\"\\\\nu'' \\\\rightarrow\"), bool(ddnu_check==0))\n",
    "\n",
    "sus_func.extend([formal_diff(formal_diff(nu,r),r)==ddnu_value])"
   ]
  },
  {
   "cell_type": "code",
   "execution_count": 40,
   "metadata": {},
   "outputs": [
    {
     "data": {
      "text/html": [
       "<html>\\[\\newcommand{\\Bold}[1]{\\mathbf{#1}}\\frac{{\\left(128 \\, \\pi^{2} r^{4} e^{\\left(2 \\, \\lambda\\left(r\\right) + \\nu\\left(r\\right)\\right)} n_0\\left(r\\right)^{4} \\left(\\frac{\\partial\\,\\Lambda_{\\varepsilon}}{\\partial \\left( n_0\\left(r\\right)^{2} \\right)}\\right)^{2} + 128 \\, \\pi^{2} r^{4} e^{\\left(2 \\, \\lambda\\left(r\\right) + \\nu\\left(r\\right)\\right)} p_0\\left(r\\right)^{4} \\left(\\frac{\\partial\\,\\Lambda_{\\varepsilon}}{\\partial \\left( p_0\\left(r\\right)^{2} \\right)}\\right)^{2} + 128 \\, \\pi^{2} r^{4} e^{\\left(2 \\, \\lambda\\left(r\\right) + \\nu\\left(r\\right)\\right)} n_0\\left(r\\right)^{2} p_0\\left(r\\right)^{2} \\left(\\frac{\\partial\\,\\Lambda_{\\varepsilon}}{\\partial \\left( n_0\\left(r\\right) p_0\\left(r\\right) \\right)}\\right)^{2} - 64 \\, \\pi^{2} r^{4} \\Lambda_{\\varepsilon}\\left(n_0\\left(r\\right)^{2}, p_0\\left(r\\right)^{2}, n_0\\left(r\\right) p_0\\left(r\\right)\\right)^{2} e^{\\left(2 \\, \\lambda\\left(r\\right) + \\nu\\left(r\\right)\\right)} - 32 \\, \\pi r^{2} e^{\\left(\\lambda\\left(r\\right) + \\nu\\left(r\\right)\\right)} n_0\\left(r\\right)^{2} \\frac{\\partial\\,\\Lambda_{\\varepsilon}}{\\partial \\left( n_0\\left(r\\right)^{2} \\right)} + 32 \\, {\\left(8 \\, \\pi^{2} r^{4} e^{\\left(2 \\, \\lambda\\left(r\\right) + \\nu\\left(r\\right)\\right)} n_0\\left(r\\right)^{2} \\frac{\\partial\\,\\Lambda_{\\varepsilon}}{\\partial \\left( n_0\\left(r\\right)^{2} \\right)} - \\pi r^{2} e^{\\left(\\lambda\\left(r\\right) + \\nu\\left(r\\right)\\right)}\\right)} p_0\\left(r\\right)^{2} \\frac{\\partial\\,\\Lambda_{\\varepsilon}}{\\partial \\left( p_0\\left(r\\right)^{2} \\right)} - 16 \\, {\\left(\\pi r^{2} e^{\\left(2 \\, \\lambda\\left(r\\right)\\right)} - \\pi r^{2} e^{\\lambda\\left(r\\right)}\\right)} \\Lambda_{\\varepsilon}\\left(n_0\\left(r\\right)^{2}, p_0\\left(r\\right)^{2}, n_0\\left(r\\right) p_0\\left(r\\right)\\right) e^{\\nu\\left(r\\right)} - {\\left(e^{\\left(2 \\, \\lambda\\left(r\\right)\\right)} - 1\\right)} e^{\\nu\\left(r\\right)} + 32 \\, {\\left(8 \\, \\pi^{2} r^{4} e^{\\left(2 \\, \\lambda\\left(r\\right) + \\nu\\left(r\\right)\\right)} n_0\\left(r\\right) p_0\\left(r\\right)^{3} \\frac{\\partial\\,\\Lambda_{\\varepsilon}}{\\partial \\left( p_0\\left(r\\right)^{2} \\right)} + {\\left(8 \\, \\pi^{2} r^{4} e^{\\left(2 \\, \\lambda\\left(r\\right) + \\nu\\left(r\\right)\\right)} n_0\\left(r\\right)^{3} \\frac{\\partial\\,\\Lambda_{\\varepsilon}}{\\partial \\left( n_0\\left(r\\right)^{2} \\right)} - \\pi r^{2} e^{\\left(\\lambda\\left(r\\right) + \\nu\\left(r\\right)\\right)} n_0\\left(r\\right)\\right)} p_0\\left(r\\right)\\right)} \\frac{\\partial\\,\\Lambda_{\\varepsilon}}{\\partial \\left( n_0\\left(r\\right) p_0\\left(r\\right) \\right)} - 8 \\, \\sqrt{64 \\, \\pi^{2} r^{4} \\Lambda_{\\varepsilon}\\left(n_0\\left(r\\right)^{2}, p_0\\left(r\\right)^{2}, n_0\\left(r\\right) p_0\\left(r\\right)\\right)^{2} e^{\\left(2 \\, \\lambda\\left(r\\right) + 2 \\, \\nu\\left(r\\right)\\right)} - 256 \\, \\pi r^{2} e^{\\left(\\lambda\\left(r\\right) + 2 \\, \\nu\\left(r\\right)\\right)} n_0\\left(r\\right)^{2} \\frac{\\partial\\,\\Lambda_{\\varepsilon}}{\\partial \\left( n_0\\left(r\\right)^{2} \\right)} - 256 \\, \\pi r^{2} e^{\\left(\\lambda\\left(r\\right) + 2 \\, \\nu\\left(r\\right)\\right)} p_0\\left(r\\right)^{2} \\frac{\\partial\\,\\Lambda_{\\varepsilon}}{\\partial \\left( p_0\\left(r\\right)^{2} \\right)} - 256 \\, \\pi r^{2} e^{\\left(\\lambda\\left(r\\right) + 2 \\, \\nu\\left(r\\right)\\right)} n_0\\left(r\\right) p_0\\left(r\\right) \\frac{\\partial\\,\\Lambda_{\\varepsilon}}{\\partial \\left( n_0\\left(r\\right) p_0\\left(r\\right) \\right)} - 8 \\, r^{2} e^{\\left(2 \\, \\nu\\left(r\\right)\\right)} \\frac{\\partial^2\\,\\nu}{\\partial r ^ 2} + 16 \\, {\\left(\\pi r^{2} e^{\\left(2 \\, \\lambda\\left(r\\right)\\right)} + 5 \\, \\pi r^{2} e^{\\lambda\\left(r\\right)}\\right)} \\Lambda_{\\varepsilon}\\left(n_0\\left(r\\right)^{2}, p_0\\left(r\\right)^{2}, n_0\\left(r\\right) p_0\\left(r\\right)\\right) e^{\\left(2 \\, \\nu\\left(r\\right)\\right)} + {\\left(e^{\\left(2 \\, \\lambda\\left(r\\right)\\right)} - 6 \\, e^{\\lambda\\left(r\\right)} + 9\\right)} e^{\\left(2 \\, \\nu\\left(r\\right)\\right)}} {\\left(\\pi r^{2} e^{\\lambda\\left(r\\right)} n_0\\left(r\\right)^{2} \\frac{\\partial\\,\\Lambda_{\\varepsilon}}{\\partial \\left( n_0\\left(r\\right)^{2} \\right)} + \\pi r^{2} e^{\\lambda\\left(r\\right)} p_0\\left(r\\right)^{2} \\frac{\\partial\\,\\Lambda_{\\varepsilon}}{\\partial \\left( p_0\\left(r\\right)^{2} \\right)} + \\pi r^{2} e^{\\lambda\\left(r\\right)} n_0\\left(r\\right) p_0\\left(r\\right) \\frac{\\partial\\,\\Lambda_{\\varepsilon}}{\\partial \\left( n_0\\left(r\\right) p_0\\left(r\\right) \\right)}\\right)}\\right)} e^{\\left(-\\nu\\left(r\\right)\\right)}}{r^{2}} + \\frac{128 \\, \\pi^{2} r^{4} e^{\\left(2 \\, \\lambda\\left(r\\right)\\right)} n_0\\left(r\\right)^{4} \\left(\\frac{\\partial\\,\\Lambda_{\\varepsilon}}{\\partial \\left( n_0\\left(r\\right)^{2} \\right)}\\right)^{2} + 128 \\, \\pi^{2} r^{4} e^{\\left(2 \\, \\lambda\\left(r\\right)\\right)} p_0\\left(r\\right)^{4} \\left(\\frac{\\partial\\,\\Lambda_{\\varepsilon}}{\\partial \\left( p_0\\left(r\\right)^{2} \\right)}\\right)^{2} + 128 \\, \\pi^{2} r^{4} e^{\\left(2 \\, \\lambda\\left(r\\right)\\right)} n_0\\left(r\\right)^{2} p_0\\left(r\\right)^{2} \\left(\\frac{\\partial\\,\\Lambda_{\\varepsilon}}{\\partial \\left( n_0\\left(r\\right) p_0\\left(r\\right) \\right)}\\right)^{2} + 64 \\, \\pi^{2} r^{4} \\Lambda_{\\varepsilon}\\left(n_0\\left(r\\right)^{2}, p_0\\left(r\\right)^{2}, n_0\\left(r\\right) p_0\\left(r\\right)\\right)^{2} e^{\\left(2 \\, \\lambda\\left(r\\right)\\right)} - 8 \\, {\\left(3 \\, \\pi r^{2} e^{\\left(2 \\, \\lambda\\left(r\\right)\\right)} \\frac{\\partial\\,\\Lambda_{\\varepsilon}}{\\partial \\left( n_0\\left(r\\right)^{2} \\right)} - 5 \\, \\pi r^{2} e^{\\lambda\\left(r\\right)} \\frac{\\partial\\,\\Lambda_{\\varepsilon}}{\\partial \\left( n_0\\left(r\\right)^{2} \\right)}\\right)} n_0\\left(r\\right)^{2} - 16 \\, {\\left(12 \\, \\pi^{2} r^{4} e^{\\left(2 \\, \\lambda\\left(r\\right)\\right)} n_0\\left(r\\right)^{2} \\frac{\\partial\\,\\Lambda_{\\varepsilon}}{\\partial \\left( n_0\\left(r\\right)^{2} \\right)} - \\pi r^{2} e^{\\left(2 \\, \\lambda\\left(r\\right)\\right)} + \\pi r^{2} e^{\\lambda\\left(r\\right)}\\right)} \\Lambda_{\\varepsilon}\\left(n_0\\left(r\\right)^{2}, p_0\\left(r\\right)^{2}, n_0\\left(r\\right) p_0\\left(r\\right)\\right) - 8 \\, {\\left(24 \\, \\pi^{2} r^{4} \\Lambda_{\\varepsilon}\\left(n_0\\left(r\\right)^{2}, p_0\\left(r\\right)^{2}, n_0\\left(r\\right) p_0\\left(r\\right)\\right) e^{\\left(2 \\, \\lambda\\left(r\\right)\\right)} p_0\\left(r\\right)^{2} - {\\left(32 \\, \\pi^{2} r^{4} e^{\\left(2 \\, \\lambda\\left(r\\right)\\right)} n_0\\left(r\\right)^{2} \\frac{\\partial\\,\\Lambda_{\\varepsilon}}{\\partial \\left( n_0\\left(r\\right)^{2} \\right)} - 3 \\, \\pi r^{2} e^{\\left(2 \\, \\lambda\\left(r\\right)\\right)} + 5 \\, \\pi r^{2} e^{\\lambda\\left(r\\right)}\\right)} p_0\\left(r\\right)^{2}\\right)} \\frac{\\partial\\,\\Lambda_{\\varepsilon}}{\\partial \\left( p_0\\left(r\\right)^{2} \\right)} + 8 \\, {\\left(32 \\, \\pi^{2} r^{4} e^{\\left(2 \\, \\lambda\\left(r\\right)\\right)} n_0\\left(r\\right) p_0\\left(r\\right)^{3} \\frac{\\partial\\,\\Lambda_{\\varepsilon}}{\\partial \\left( p_0\\left(r\\right)^{2} \\right)} - 24 \\, \\pi^{2} r^{4} \\Lambda_{\\varepsilon}\\left(n_0\\left(r\\right)^{2}, p_0\\left(r\\right)^{2}, n_0\\left(r\\right) p_0\\left(r\\right)\\right) e^{\\left(2 \\, \\lambda\\left(r\\right)\\right)} n_0\\left(r\\right) p_0\\left(r\\right) + {\\left(32 \\, \\pi^{2} r^{4} e^{\\left(2 \\, \\lambda\\left(r\\right)\\right)} n_0\\left(r\\right)^{3} \\frac{\\partial\\,\\Lambda_{\\varepsilon}}{\\partial \\left( n_0\\left(r\\right)^{2} \\right)} - {\\left(3 \\, \\pi r^{2} e^{\\left(2 \\, \\lambda\\left(r\\right)\\right)} - 5 \\, \\pi r^{2} e^{\\lambda\\left(r\\right)}\\right)} n_0\\left(r\\right)\\right)} p_0\\left(r\\right)\\right)} \\frac{\\partial\\,\\Lambda_{\\varepsilon}}{\\partial \\left( n_0\\left(r\\right) p_0\\left(r\\right) \\right)} + e^{\\left(2 \\, \\lambda\\left(r\\right)\\right)} - 1}{r^{2}}\\]</html>"
      ],
      "text/latex": [
       "$$\\newcommand{\\Bold}[1]{\\mathbf{#1}}\\frac{{\\left(128 \\, \\pi^{2} r^{4} e^{\\left(2 \\, \\lambda\\left(r\\right) + \\nu\\left(r\\right)\\right)} n_0\\left(r\\right)^{4} \\left(\\frac{\\partial\\,\\Lambda_{\\varepsilon}}{\\partial \\left( n_0\\left(r\\right)^{2} \\right)}\\right)^{2} + 128 \\, \\pi^{2} r^{4} e^{\\left(2 \\, \\lambda\\left(r\\right) + \\nu\\left(r\\right)\\right)} p_0\\left(r\\right)^{4} \\left(\\frac{\\partial\\,\\Lambda_{\\varepsilon}}{\\partial \\left( p_0\\left(r\\right)^{2} \\right)}\\right)^{2} + 128 \\, \\pi^{2} r^{4} e^{\\left(2 \\, \\lambda\\left(r\\right) + \\nu\\left(r\\right)\\right)} n_0\\left(r\\right)^{2} p_0\\left(r\\right)^{2} \\left(\\frac{\\partial\\,\\Lambda_{\\varepsilon}}{\\partial \\left( n_0\\left(r\\right) p_0\\left(r\\right) \\right)}\\right)^{2} - 64 \\, \\pi^{2} r^{4} \\Lambda_{\\varepsilon}\\left(n_0\\left(r\\right)^{2}, p_0\\left(r\\right)^{2}, n_0\\left(r\\right) p_0\\left(r\\right)\\right)^{2} e^{\\left(2 \\, \\lambda\\left(r\\right) + \\nu\\left(r\\right)\\right)} - 32 \\, \\pi r^{2} e^{\\left(\\lambda\\left(r\\right) + \\nu\\left(r\\right)\\right)} n_0\\left(r\\right)^{2} \\frac{\\partial\\,\\Lambda_{\\varepsilon}}{\\partial \\left( n_0\\left(r\\right)^{2} \\right)} + 32 \\, {\\left(8 \\, \\pi^{2} r^{4} e^{\\left(2 \\, \\lambda\\left(r\\right) + \\nu\\left(r\\right)\\right)} n_0\\left(r\\right)^{2} \\frac{\\partial\\,\\Lambda_{\\varepsilon}}{\\partial \\left( n_0\\left(r\\right)^{2} \\right)} - \\pi r^{2} e^{\\left(\\lambda\\left(r\\right) + \\nu\\left(r\\right)\\right)}\\right)} p_0\\left(r\\right)^{2} \\frac{\\partial\\,\\Lambda_{\\varepsilon}}{\\partial \\left( p_0\\left(r\\right)^{2} \\right)} - 16 \\, {\\left(\\pi r^{2} e^{\\left(2 \\, \\lambda\\left(r\\right)\\right)} - \\pi r^{2} e^{\\lambda\\left(r\\right)}\\right)} \\Lambda_{\\varepsilon}\\left(n_0\\left(r\\right)^{2}, p_0\\left(r\\right)^{2}, n_0\\left(r\\right) p_0\\left(r\\right)\\right) e^{\\nu\\left(r\\right)} - {\\left(e^{\\left(2 \\, \\lambda\\left(r\\right)\\right)} - 1\\right)} e^{\\nu\\left(r\\right)} + 32 \\, {\\left(8 \\, \\pi^{2} r^{4} e^{\\left(2 \\, \\lambda\\left(r\\right) + \\nu\\left(r\\right)\\right)} n_0\\left(r\\right) p_0\\left(r\\right)^{3} \\frac{\\partial\\,\\Lambda_{\\varepsilon}}{\\partial \\left( p_0\\left(r\\right)^{2} \\right)} + {\\left(8 \\, \\pi^{2} r^{4} e^{\\left(2 \\, \\lambda\\left(r\\right) + \\nu\\left(r\\right)\\right)} n_0\\left(r\\right)^{3} \\frac{\\partial\\,\\Lambda_{\\varepsilon}}{\\partial \\left( n_0\\left(r\\right)^{2} \\right)} - \\pi r^{2} e^{\\left(\\lambda\\left(r\\right) + \\nu\\left(r\\right)\\right)} n_0\\left(r\\right)\\right)} p_0\\left(r\\right)\\right)} \\frac{\\partial\\,\\Lambda_{\\varepsilon}}{\\partial \\left( n_0\\left(r\\right) p_0\\left(r\\right) \\right)} - 8 \\, \\sqrt{64 \\, \\pi^{2} r^{4} \\Lambda_{\\varepsilon}\\left(n_0\\left(r\\right)^{2}, p_0\\left(r\\right)^{2}, n_0\\left(r\\right) p_0\\left(r\\right)\\right)^{2} e^{\\left(2 \\, \\lambda\\left(r\\right) + 2 \\, \\nu\\left(r\\right)\\right)} - 256 \\, \\pi r^{2} e^{\\left(\\lambda\\left(r\\right) + 2 \\, \\nu\\left(r\\right)\\right)} n_0\\left(r\\right)^{2} \\frac{\\partial\\,\\Lambda_{\\varepsilon}}{\\partial \\left( n_0\\left(r\\right)^{2} \\right)} - 256 \\, \\pi r^{2} e^{\\left(\\lambda\\left(r\\right) + 2 \\, \\nu\\left(r\\right)\\right)} p_0\\left(r\\right)^{2} \\frac{\\partial\\,\\Lambda_{\\varepsilon}}{\\partial \\left( p_0\\left(r\\right)^{2} \\right)} - 256 \\, \\pi r^{2} e^{\\left(\\lambda\\left(r\\right) + 2 \\, \\nu\\left(r\\right)\\right)} n_0\\left(r\\right) p_0\\left(r\\right) \\frac{\\partial\\,\\Lambda_{\\varepsilon}}{\\partial \\left( n_0\\left(r\\right) p_0\\left(r\\right) \\right)} - 8 \\, r^{2} e^{\\left(2 \\, \\nu\\left(r\\right)\\right)} \\frac{\\partial^2\\,\\nu}{\\partial r ^ 2} + 16 \\, {\\left(\\pi r^{2} e^{\\left(2 \\, \\lambda\\left(r\\right)\\right)} + 5 \\, \\pi r^{2} e^{\\lambda\\left(r\\right)}\\right)} \\Lambda_{\\varepsilon}\\left(n_0\\left(r\\right)^{2}, p_0\\left(r\\right)^{2}, n_0\\left(r\\right) p_0\\left(r\\right)\\right) e^{\\left(2 \\, \\nu\\left(r\\right)\\right)} + {\\left(e^{\\left(2 \\, \\lambda\\left(r\\right)\\right)} - 6 \\, e^{\\lambda\\left(r\\right)} + 9\\right)} e^{\\left(2 \\, \\nu\\left(r\\right)\\right)}} {\\left(\\pi r^{2} e^{\\lambda\\left(r\\right)} n_0\\left(r\\right)^{2} \\frac{\\partial\\,\\Lambda_{\\varepsilon}}{\\partial \\left( n_0\\left(r\\right)^{2} \\right)} + \\pi r^{2} e^{\\lambda\\left(r\\right)} p_0\\left(r\\right)^{2} \\frac{\\partial\\,\\Lambda_{\\varepsilon}}{\\partial \\left( p_0\\left(r\\right)^{2} \\right)} + \\pi r^{2} e^{\\lambda\\left(r\\right)} n_0\\left(r\\right) p_0\\left(r\\right) \\frac{\\partial\\,\\Lambda_{\\varepsilon}}{\\partial \\left( n_0\\left(r\\right) p_0\\left(r\\right) \\right)}\\right)}\\right)} e^{\\left(-\\nu\\left(r\\right)\\right)}}{r^{2}} + \\frac{128 \\, \\pi^{2} r^{4} e^{\\left(2 \\, \\lambda\\left(r\\right)\\right)} n_0\\left(r\\right)^{4} \\left(\\frac{\\partial\\,\\Lambda_{\\varepsilon}}{\\partial \\left( n_0\\left(r\\right)^{2} \\right)}\\right)^{2} + 128 \\, \\pi^{2} r^{4} e^{\\left(2 \\, \\lambda\\left(r\\right)\\right)} p_0\\left(r\\right)^{4} \\left(\\frac{\\partial\\,\\Lambda_{\\varepsilon}}{\\partial \\left( p_0\\left(r\\right)^{2} \\right)}\\right)^{2} + 128 \\, \\pi^{2} r^{4} e^{\\left(2 \\, \\lambda\\left(r\\right)\\right)} n_0\\left(r\\right)^{2} p_0\\left(r\\right)^{2} \\left(\\frac{\\partial\\,\\Lambda_{\\varepsilon}}{\\partial \\left( n_0\\left(r\\right) p_0\\left(r\\right) \\right)}\\right)^{2} + 64 \\, \\pi^{2} r^{4} \\Lambda_{\\varepsilon}\\left(n_0\\left(r\\right)^{2}, p_0\\left(r\\right)^{2}, n_0\\left(r\\right) p_0\\left(r\\right)\\right)^{2} e^{\\left(2 \\, \\lambda\\left(r\\right)\\right)} - 8 \\, {\\left(3 \\, \\pi r^{2} e^{\\left(2 \\, \\lambda\\left(r\\right)\\right)} \\frac{\\partial\\,\\Lambda_{\\varepsilon}}{\\partial \\left( n_0\\left(r\\right)^{2} \\right)} - 5 \\, \\pi r^{2} e^{\\lambda\\left(r\\right)} \\frac{\\partial\\,\\Lambda_{\\varepsilon}}{\\partial \\left( n_0\\left(r\\right)^{2} \\right)}\\right)} n_0\\left(r\\right)^{2} - 16 \\, {\\left(12 \\, \\pi^{2} r^{4} e^{\\left(2 \\, \\lambda\\left(r\\right)\\right)} n_0\\left(r\\right)^{2} \\frac{\\partial\\,\\Lambda_{\\varepsilon}}{\\partial \\left( n_0\\left(r\\right)^{2} \\right)} - \\pi r^{2} e^{\\left(2 \\, \\lambda\\left(r\\right)\\right)} + \\pi r^{2} e^{\\lambda\\left(r\\right)}\\right)} \\Lambda_{\\varepsilon}\\left(n_0\\left(r\\right)^{2}, p_0\\left(r\\right)^{2}, n_0\\left(r\\right) p_0\\left(r\\right)\\right) - 8 \\, {\\left(24 \\, \\pi^{2} r^{4} \\Lambda_{\\varepsilon}\\left(n_0\\left(r\\right)^{2}, p_0\\left(r\\right)^{2}, n_0\\left(r\\right) p_0\\left(r\\right)\\right) e^{\\left(2 \\, \\lambda\\left(r\\right)\\right)} p_0\\left(r\\right)^{2} - {\\left(32 \\, \\pi^{2} r^{4} e^{\\left(2 \\, \\lambda\\left(r\\right)\\right)} n_0\\left(r\\right)^{2} \\frac{\\partial\\,\\Lambda_{\\varepsilon}}{\\partial \\left( n_0\\left(r\\right)^{2} \\right)} - 3 \\, \\pi r^{2} e^{\\left(2 \\, \\lambda\\left(r\\right)\\right)} + 5 \\, \\pi r^{2} e^{\\lambda\\left(r\\right)}\\right)} p_0\\left(r\\right)^{2}\\right)} \\frac{\\partial\\,\\Lambda_{\\varepsilon}}{\\partial \\left( p_0\\left(r\\right)^{2} \\right)} + 8 \\, {\\left(32 \\, \\pi^{2} r^{4} e^{\\left(2 \\, \\lambda\\left(r\\right)\\right)} n_0\\left(r\\right) p_0\\left(r\\right)^{3} \\frac{\\partial\\,\\Lambda_{\\varepsilon}}{\\partial \\left( p_0\\left(r\\right)^{2} \\right)} - 24 \\, \\pi^{2} r^{4} \\Lambda_{\\varepsilon}\\left(n_0\\left(r\\right)^{2}, p_0\\left(r\\right)^{2}, n_0\\left(r\\right) p_0\\left(r\\right)\\right) e^{\\left(2 \\, \\lambda\\left(r\\right)\\right)} n_0\\left(r\\right) p_0\\left(r\\right) + {\\left(32 \\, \\pi^{2} r^{4} e^{\\left(2 \\, \\lambda\\left(r\\right)\\right)} n_0\\left(r\\right)^{3} \\frac{\\partial\\,\\Lambda_{\\varepsilon}}{\\partial \\left( n_0\\left(r\\right)^{2} \\right)} - {\\left(3 \\, \\pi r^{2} e^{\\left(2 \\, \\lambda\\left(r\\right)\\right)} - 5 \\, \\pi r^{2} e^{\\lambda\\left(r\\right)}\\right)} n_0\\left(r\\right)\\right)} p_0\\left(r\\right)\\right)} \\frac{\\partial\\,\\Lambda_{\\varepsilon}}{\\partial \\left( n_0\\left(r\\right) p_0\\left(r\\right) \\right)} + e^{\\left(2 \\, \\lambda\\left(r\\right)\\right)} - 1}{r^{2}}$$"
      ],
      "text/plain": [
       "(128*pi^2*r^4*e^(2*lamb(r) + nu(r))*n0(r)^4*(d(Lambdae)/d(n0(r)^2))^2 + 128*pi^2*r^4*e^(2*lamb(r) + nu(r))*p0(r)^4*(d(Lambdae)/d(p0(r)^2))^2 + 128*pi^2*r^4*e^(2*lamb(r) + nu(r))*n0(r)^2*p0(r)^2*(d(Lambdae)/d(n0(r)*p0(r)))^2 - 64*pi^2*r^4*Lambdae(n0(r)^2, p0(r)^2, n0(r)*p0(r))^2*e^(2*lamb(r) + nu(r)) - 32*pi*r^2*e^(lamb(r) + nu(r))*n0(r)^2*d(Lambdae)/d(n0(r)^2) + 32*(8*pi^2*r^4*e^(2*lamb(r) + nu(r))*n0(r)^2*d(Lambdae)/d(n0(r)^2) - pi*r^2*e^(lamb(r) + nu(r)))*p0(r)^2*d(Lambdae)/d(p0(r)^2) - 16*(pi*r^2*e^(2*lamb(r)) - pi*r^2*e^lamb(r))*Lambdae(n0(r)^2, p0(r)^2, n0(r)*p0(r))*e^nu(r) - (e^(2*lamb(r)) - 1)*e^nu(r) + 32*(8*pi^2*r^4*e^(2*lamb(r) + nu(r))*n0(r)*p0(r)^3*d(Lambdae)/d(p0(r)^2) + (8*pi^2*r^4*e^(2*lamb(r) + nu(r))*n0(r)^3*d(Lambdae)/d(n0(r)^2) - pi*r^2*e^(lamb(r) + nu(r))*n0(r))*p0(r))*d(Lambdae)/d(n0(r)*p0(r)) - 8*sqrt(64*pi^2*r^4*Lambdae(n0(r)^2, p0(r)^2, n0(r)*p0(r))^2*e^(2*lamb(r) + 2*nu(r)) - 256*pi*r^2*e^(lamb(r) + 2*nu(r))*n0(r)^2*d(Lambdae)/d(n0(r)^2) - 256*pi*r^2*e^(lamb(r) + 2*nu(r))*p0(r)^2*d(Lambdae)/d(p0(r)^2) - 256*pi*r^2*e^(lamb(r) + 2*nu(r))*n0(r)*p0(r)*d(Lambdae)/d(n0(r)*p0(r)) - 8*r^2*e^(2*nu(r))*d^2(nu)/dr^2 + 16*(pi*r^2*e^(2*lamb(r)) + 5*pi*r^2*e^lamb(r))*Lambdae(n0(r)^2, p0(r)^2, n0(r)*p0(r))*e^(2*nu(r)) + (e^(2*lamb(r)) - 6*e^lamb(r) + 9)*e^(2*nu(r)))*(pi*r^2*e^lamb(r)*n0(r)^2*d(Lambdae)/d(n0(r)^2) + pi*r^2*e^lamb(r)*p0(r)^2*d(Lambdae)/d(p0(r)^2) + pi*r^2*e^lamb(r)*n0(r)*p0(r)*d(Lambdae)/d(n0(r)*p0(r))))*e^(-nu(r))/r^2 + (128*pi^2*r^4*e^(2*lamb(r))*n0(r)^4*(d(Lambdae)/d(n0(r)^2))^2 + 128*pi^2*r^4*e^(2*lamb(r))*p0(r)^4*(d(Lambdae)/d(p0(r)^2))^2 + 128*pi^2*r^4*e^(2*lamb(r))*n0(r)^2*p0(r)^2*(d(Lambdae)/d(n0(r)*p0(r)))^2 + 64*pi^2*r^4*Lambdae(n0(r)^2, p0(r)^2, n0(r)*p0(r))^2*e^(2*lamb(r)) - 8*(3*pi*r^2*e^(2*lamb(r))*d(Lambdae)/d(n0(r)^2) - 5*pi*r^2*e^lamb(r)*d(Lambdae)/d(n0(r)^2))*n0(r)^2 - 16*(12*pi^2*r^4*e^(2*lamb(r))*n0(r)^2*d(Lambdae)/d(n0(r)^2) - pi*r^2*e^(2*lamb(r)) + pi*r^2*e^lamb(r))*Lambdae(n0(r)^2, p0(r)^2, n0(r)*p0(r)) - 8*(24*pi^2*r^4*Lambdae(n0(r)^2, p0(r)^2, n0(r)*p0(r))*e^(2*lamb(r))*p0(r)^2 - (32*pi^2*r^4*e^(2*lamb(r))*n0(r)^2*d(Lambdae)/d(n0(r)^2) - 3*pi*r^2*e^(2*lamb(r)) + 5*pi*r^2*e^lamb(r))*p0(r)^2)*d(Lambdae)/d(p0(r)^2) + 8*(32*pi^2*r^4*e^(2*lamb(r))*n0(r)*p0(r)^3*d(Lambdae)/d(p0(r)^2) - 24*pi^2*r^4*Lambdae(n0(r)^2, p0(r)^2, n0(r)*p0(r))*e^(2*lamb(r))*n0(r)*p0(r) + (32*pi^2*r^4*e^(2*lamb(r))*n0(r)^3*d(Lambdae)/d(n0(r)^2) - (3*pi*r^2*e^(2*lamb(r)) - 5*pi*r^2*e^lamb(r))*n0(r))*p0(r))*d(Lambdae)/d(n0(r)*p0(r)) + e^(2*lamb(r)) - 1)/r^2"
      ]
     },
     "metadata": {},
     "output_type": "display_data"
    }
   ],
   "source": [
    "show(EN(ddnu_check))"
   ]
  },
  {
   "cell_type": "markdown",
   "metadata": {},
   "source": [
    "# <center> Check $T_{\\mu\\nu}$ </center>"
   ]
  },
  {
   "cell_type": "code",
   "execution_count": null,
   "metadata": {},
   "outputs": [],
   "source": [
    "Ln = omega - Omegan1\n",
    "Lp = omega - Omegap1\n",
    "\n",
    "mu0 = copy(mue)\n",
    "chi0 = copy(chie)\n",
    "for ii in range(len(sus_func)):\n",
    "    mu0 = mu0.subs(sus_func[ii])\n",
    "    chi0 = chi0.subs(sus_func[ii])\n",
    "\n",
    "mu0 = mu0.simplify_full()\n",
    "chi0 = chi0.simplify_full()\n",
    "\n",
    "A0 = copy(A)\n",
    "B0 = copy(B)\n",
    "C0 = copy(C)\n",
    "for ii in range(len(sus_func)):\n",
    "    A0 = A0.subs(sus_func[ii])\n",
    "    B0 = B0.subs(sus_func[ii])\n",
    "    C0 = C0.subs(sus_func[ii])\n",
    "\n",
    "A000 = copy(A00)\n",
    "B000 = copy(B00)\n",
    "C000 = copy(C00)\n",
    "for ii in range(len(sus_func)):\n",
    "    A000 = A000.subs(sus_func[ii])\n",
    "    B000 = B000.subs(sus_func[ii])\n",
    "    C000 = C000.subs(sus_func[ii])"
   ]
  },
  {
   "cell_type": "code",
   "execution_count": null,
   "metadata": {
    "scrolled": true
   },
   "outputs": [],
   "source": [
    "#Te00_paper = Lambda0\\\n",
    "#           - eps^2*mu0*n0*(eta-r^2*sin(th)^2/e^(nu)*Omegan1*Ln)\\\n",
    "#           - eps^2*chi0*p0*(Phi-r^2*sin(th)^2/e^(nu)*Omegap1*Lp)\\\n",
    "#           + eps^2*r^2*sin(th)^2/(2*e^(nu))*A0*n0*p0*(Omegan1-Omegap1)^2\n",
    "#\n",
    "#Te00_paper = Te00_paper.simplify_full()\n",
    "#dTe00_paper = formal_diff(Te00_paper, eps).simplify_full()\n",
    "#ddTe00_paper = formal_diff(dTe00_paper, eps).simplify_full()\n",
    "#\n",
    "#Te00 = Teud[0,0]\n",
    "#dTe00 = formal_diff(Te00, eps)\n",
    "#ddTe00 = formal_diff(dTe00, eps)\n",
    "#\n",
    "## ZERO ORDER\n",
    "#Te00_check = Te00 - Te00_paper\n",
    "#for ii in range(len(sus_func)):\n",
    "#    Te00_check = Te00_check.subs(sus_func[ii])\n",
    "#\n",
    "#show(LatexExpr(\"T_0^0 \\\\rightarrow\"), bool(Te00_check==0))\n",
    "#\n",
    "## FIRST ORDER\n",
    "#dTe00_check = dTe00 - dTe00_paper\n",
    "#for ii in range(len(sus_func)):\n",
    "#    dTe00_check = dTe00_check.subs(sus_func[ii])\n",
    "#\n",
    "#show(LatexExpr(\"{T^{(1)}}_0^0 \\\\rightarrow\"), bool(dTe00_check==0))\n",
    "#\n",
    "## SECOND ORDER\n",
    "#ddTe00_check = ddTe00 - ddTe00_paper\n",
    "#for ii in range(len(sus_func)):\n",
    "#    ddTe00_check = ddTe00_check.subs(sus_func[ii])\n",
    "#\n",
    "#show(LatexExpr(\"{T^{(2)}}^0_0 \\\\rightarrow\"), bool(ddTe00_check==0))\n",
    "#show(EN(ddTe00_check.simplify_full()))"
   ]
  },
  {
   "cell_type": "code",
   "execution_count": null,
   "metadata": {},
   "outputs": [],
   "source": [
    "#var('aa,bb,cc')\n",
    "#Te11_paper = Psi0\\\n",
    "#           + eps^2*n0*(n0*B000+p0*A000)*eta + eps^2*p0*(p0*C000+n0*A000)*Phi\\\n",
    "#           + eps^2*r^2*sin(th)^2/(2*e^(nu))*n0*p0*(A0\\\n",
    "#                                                   +n0*formal_diff(A,n)\\\n",
    "#                                                   +p0*formal_diff(A,p)\\\n",
    "#                                                   +2*n0*p0*formal_diff(A,x^2))*(Omegan1-Omegap1)^2\n",
    "#Te11 = Teud[1,1]\n",
    "#\n",
    "#Te11_paper = Te11_paper.simplify_full()\n",
    "#dTe11_paper = formal_diff(Te11_paper, eps).simplify_full()\n",
    "#ddTe11_paper = formal_diff(dTe11_paper, eps).simplify_full()\n",
    "#\n",
    "#Te11 = Teud[1,1]\n",
    "#dTe11 = formal_diff(Te11, eps)\n",
    "#ddTe11 = formal_diff(dTe11, eps)\n",
    "#\n",
    "## ZERO ORDER\n",
    "#Te11_check = Te11 - Te11_paper\n",
    "#for ii in range(len(sus_func)):\n",
    "#    Te11_check = Te11_check.subs(sus_func[ii])\n",
    "#\n",
    "#show(LatexExpr(\"T_1^1 \\\\rightarrow\"), bool(Te11_check==0))\n",
    "#\n",
    "## FIRST ORDER\n",
    "#dTe11_check = dTe11 - dTe11_paper\n",
    "#for ii in range(len(sus_func)):\n",
    "#    dTe11_check = dTe11_check.subs(sus_func[ii])\n",
    "#\n",
    "#show(LatexExpr(\"{T^{(1)}}_1^1 \\\\rightarrow\"), bool(dTe11_check==0))\n",
    "#\n",
    "## SECOND ORDER\n",
    "#ddTe11_check = ddTe11 - ddTe11_paper\n",
    "#for ii in range(len(sus_func)):\n",
    "#    ddTe11_check = ddTe11_check.subs(sus_func[ii])\n",
    "#\n",
    "#show(LatexExpr(\"{T^{(2)}}^1_1 \\\\rightarrow\"), bool(ddTe11_check==0))\n",
    "#show(EN(ddTe11_check.simplify_full()))"
   ]
  },
  {
   "cell_type": "code",
   "execution_count": null,
   "metadata": {},
   "outputs": [],
   "source": [
    "#Te03_paper = 1/2*eps*r^2*sin(th)^2*(3*Psi0-Lambda0)*(Ln+Omegan1)\\\n",
    "#           - eps*r^2*sin(th)^2*(mu0*n0*Omegan1 + chi0*p0*Omegap1)\n",
    "#\n",
    "#Te03_paper = Te03_paper.simplify_full()\n",
    "#dTe03_paper = formal_diff(Te03_paper, eps).simplify_full()\n",
    "#ddTe03_paper = formal_diff(dTe03_paper, eps).simplify_full()\n",
    "#\n",
    "#Te_scalar = 0\n",
    "#for ii in range(4):\n",
    "#    for jj in range(4):\n",
    "#        Te_scalar += Te[ii,jj]*geuu[ii,jj]\n",
    "#Te03 = Te[0,3] - 1/2*Te_scalar*gedd[0,3]\n",
    "#dTe03 = formal_diff(Te03, eps)\n",
    "#ddTe03 = formal_diff(dTe03, eps)\n",
    "#\n",
    "## ZERO ORDER\n",
    "#Te03_check = Te03 - Te03_paper\n",
    "#for ii in range(len(sus_func)):\n",
    "#    Te03_check = Te03_check.subs(sus_func[ii])\n",
    "#\n",
    "#show(LatexExpr(\"T_{03} \\\\rightarrow\"), bool(Te03_check==0))\n",
    "#\n",
    "## FIRST ORDER\n",
    "#dTe03_check = dTe03 - dTe03_paper\n",
    "#for ii in range(len(sus_func)):\n",
    "#    dTe03_check = dTe03_check.subs(sus_func[ii])\n",
    "#\n",
    "#show(LatexExpr(\"{T^{(1)}}_{03} \\\\rightarrow\"), bool(dTe03_check==0))\n",
    "#\n",
    "## SECOND ORDER\n",
    "#ddTe03_check = ddTe03 - ddTe03_paper\n",
    "#for ii in range(len(sus_func)):\n",
    "#    ddTe03_check = ddTe03_check.subs(sus_func[ii])\n",
    "#\n",
    "#show(LatexExpr(\"{T^{(2)}}_{03} \\\\rightarrow\"), bool(ddTe03_check==0))"
   ]
  },
  {
   "cell_type": "code",
   "execution_count": null,
   "metadata": {},
   "outputs": [],
   "source": [
    "#Te2233_paper = aa*eps^2*r^2*sin(th)^2/e^(nu)*(n0*(B0*n0*Omegane + A0*p0*Omegape)*Ln\\\n",
    "#                                          +p0*(C0*p0*Omegape + A0*n0*Omegane)*Lp)\n",
    "#\n",
    "#Te2233_paper = Te2233_paper.simplify_full()\n",
    "#dTe2233_paper = formal_diff(Te2233_paper, eps).simplify_full()\n",
    "#ddTe2233_paper = formal_diff(dTe2233_paper, eps).simplify_full()\n",
    "#\n",
    "#Te2233 = Teud[2,2] - Teud[3,3]\n",
    "#dTe2233 = formal_diff(Te2233, eps)\n",
    "#ddTe2233 = formal_diff(dTe2233, eps)\n",
    "#\n",
    "## ZERO ORDER\n",
    "#Te2233_check = Te2233 - Te2233_paper\n",
    "#for ii in range(len(sus_func)):\n",
    "#    Te2233_check = Te2233_check.subs(sus_func[ii])\n",
    "#\n",
    "#show(LatexExpr(\"T_2^2-T_3^3 \\\\rightarrow\"), bool(Te2233_check==0))\n",
    "#\n",
    "## FIRST ORDER\n",
    "#dTe2233_check = dTe2233 - dTe2233_paper\n",
    "#for ii in range(len(sus_func)):\n",
    "#    dTe2233_check = dTe2233_check.subs(sus_func[ii])\n",
    "#\n",
    "#show(LatexExpr(\"{T^{(1)}}_2^2-{T^{(1)}}_3^3 \\\\rightarrow\"), bool(dTe2233_check==0))\n",
    "#\n",
    "## SECOND ORDER\n",
    "#ddTe2233_check = ddTe2233 - ddTe2233_paper\n",
    "#for ii in range(len(sus_func)):\n",
    "#    ddTe2233_check = ddTe2233_check.subs(sus_func[ii])\n",
    "#\n",
    "#show(LatexExpr(\"{T^{(2)}}_2^2-{T^{(2)}}_3^3 \\\\rightarrow\"), bool(ddTe2233_check==0))\n",
    "#show(EN(ddTe2233_check.simplify_full()))"
   ]
  },
  {
   "cell_type": "markdown",
   "metadata": {},
   "source": [
    "# <center> $G^{\\prime}_{\\mu\\nu} = \\kappa T^{\\prime}_{\\mu\\nu}$ </center>"
   ]
  },
  {
   "cell_type": "code",
   "execution_count": null,
   "metadata": {},
   "outputs": [],
   "source": [
    "dLambdaePsie = formal_diff(LambdaePsie, eps)\n",
    "for ii in range(len(sus_func)):\n",
    "    dLambdaePsie = dLambdaePsie.subs(sus_func[ii])"
   ]
  },
  {
   "cell_type": "code",
   "execution_count": null,
   "metadata": {},
   "outputs": [],
   "source": [
    "j = e^(-(lamb+nu)/2)\n",
    "M = r*(1-e^(-lamb))/2\n",
    "\n",
    "dG = copy(dGe)\n",
    "dT = copy(dTe)\n",
    "for ii in range(0,len(sus_func)):\n",
    "    dG = dG.subs(sus_func[ii])\n",
    "    dT = dT.subs(sus_func[ii])"
   ]
  },
  {
   "cell_type": "code",
   "execution_count": null,
   "metadata": {},
   "outputs": [],
   "source": [
    "Lambda1_value = formal_diff(Lambdae, eps)\n",
    "for ii in range(len(sus_func)):\n",
    "    Lambda1_value = Lambda1_value.subs(sus_func[ii])\n",
    "\n",
    "Lambda1_paper = 0\n",
    "Lambda1_check = Lambda1_value - Lambda1_paper\n",
    "\n",
    "show(LatexExpr(\"\\\\Lambda^{(1)} = \"), Lambda1_value, LatexExpr(\"\\\\rightarrow\"), bool(Lambda1_check==0))"
   ]
  },
  {
   "cell_type": "code",
   "execution_count": null,
   "metadata": {},
   "outputs": [],
   "source": [
    "Psi1_value = formal_diff(Lambdae, eps) + formal_diff(LambdaePsie, eps)\n",
    "for ii in range(len(sus_func)):\n",
    "    Psi1_value = Psi1_value.subs(sus_func[ii])\n",
    "\n",
    "Psi1_paper = 0\n",
    "Psi1_check = Psi1_value - Psi1_paper\n",
    "\n",
    "show(LatexExpr(\"\\\\Psi^{(1)} = \"), Psi1_value, LatexExpr(\"\\\\rightarrow\"), bool(Psi1_check==0))"
   ]
  },
  {
   "cell_type": "code",
   "execution_count": null,
   "metadata": {
    "scrolled": false
   },
   "outputs": [],
   "source": [
    "#De dEq el único valor que no es idénticamente nulo es 03 (y 30)\n",
    "dEq_03 = dG[0,3] - kappa*dT[0,3] == 0\n",
    "\n",
    "ddomega_value = solve(dEq_03, formal_diff(formal_diff(omega,r),r))[0].rhs().simplify_full()\n",
    "\n",
    "chi0 = C*p + A*n\n",
    "for ii in range(len(sus_func)):\n",
    "    chi0 = chi0.subs(sus_func[ii])\n",
    "\n",
    "ddomega_paper = 1/(r^4)*formal_diff(r^4*e^(-(lamb+nu)/2)*formal_diff(Ln,r),r)\\\n",
    "              - 16*pi*e^((lamb-nu)/2)*(Psi0-Lambda0)*Ln\\\n",
    "              - 16*pi*e^((lamb-nu)/2)*chi0*p0*(Omegan1-Omegap1) == 0\n",
    "ddomega_paper = solve(ddomega_paper, formal_diff(formal_diff(omega,r),r))[0].rhs().simplify_full()\n",
    "\n",
    "for ii in range(len(sus_func)):\n",
    "    ddomega_value = ddomega_value.subs(sus_func[ii])\n",
    "    ddomega_paper = ddomega_paper.subs(sus_func[ii])\n",
    "\n",
    "ddomega_check = ddomega_value - ddomega_paper\n",
    "for ii in range(len(sus_func)):\n",
    "    ddomega_check = ddomega_check.subs(sus_func[ii])\n",
    "\n",
    "ddomega_check = ddomega_check.simplify_full()\n",
    "\n",
    "show(LatexExpr(\"\\\\Delta\\\\omega'' \\\\rightarrow \"), bool(ddomega_check==0))"
   ]
  },
  {
   "cell_type": "markdown",
   "metadata": {},
   "source": [
    "# <center> $G^{\\prime\\prime}_{\\mu\\nu} = \\kappa T^{\\prime\\prime}_{\\mu\\nu}$ </center>"
   ]
  },
  {
   "cell_type": "code",
   "execution_count": null,
   "metadata": {},
   "outputs": [],
   "source": [
    "ddLambdaePsie = diff(LambdaePsie, eps, eps)\n",
    "for ii in range(len(sus_func)):\n",
    "    ddLambdaePsie = ddLambdaePsie.subs(sus_func[ii])\n",
    "\n",
    "Lambda2_value = formal_diff(formal_diff(Lambdae, eps),eps)\n",
    "Psi2_value = Lambda2_value + ddLambdaePsie\n",
    "for ii in range(len(sus_func)):\n",
    "    Lambda2_value = Lambda2_value.subs(sus_func[ii])\n",
    "    Psi2_value = Psi2_value.subs(sus_func[ii])"
   ]
  },
  {
   "cell_type": "code",
   "execution_count": null,
   "metadata": {},
   "outputs": [],
   "source": [
    "ddG = copy(ddGe)\n",
    "ddT = copy(ddTe)\n",
    "for ii in range(len(sus_func)):\n",
    "    ddG = ddG.subs(sus_func[ii])\n",
    "    ddT = ddT.subs(sus_func[ii])"
   ]
  },
  {
   "cell_type": "markdown",
   "metadata": {},
   "source": [
    "## <center> Descomposición en $P_l(\\cos(\\theta))$ </center>"
   ]
  },
  {
   "cell_type": "code",
   "execution_count": null,
   "metadata": {},
   "outputs": [],
   "source": [
    "h0 = function('h0', latex_name='h_0')(r)\n",
    "v0 = function('v0', latex_name='v_0')(r)\n",
    "eta0 = function('eta0', latex_name='\\\\eta_0')(r)\n",
    "Phi0 = function('Phi0', latex_name='\\\\Phi_0')(r)\n",
    "\n",
    "h2 = function('h2', latex_name='h_2')(r)\n",
    "k2 = function('k2', latex_name='k_2')(r)\n",
    "v2 = function('v2', latex_name='v_2')(r)\n",
    "eta2 = function('eta2', latex_name='\\\\eta_2')(r)\n",
    "Phi2 = function('Phi2', latex_name='\\\\Phi_2')(r)\n",
    "\n",
    "LP1 = function('LP1', latex_name='LP_1')(th)\n",
    "LP2 = function('LP2', latex_name='LP_2')(th)\n",
    "\n",
    "lp2 = (3*cos(th)^2-1)/2"
   ]
  },
  {
   "cell_type": "code",
   "execution_count": null,
   "metadata": {},
   "outputs": [],
   "source": [
    "s_v(r,th) = v0+v2*lp2\n",
    "s_k(r,th) = k2*lp2\n",
    "s_h(r,th) = h0+h2*lp2\n",
    "s_eta(r,th) = eta0+eta2*lp2\n",
    "s_Phi(r,th) = Phi0+Phi2*lp2\n",
    "\n",
    "sus_descomp = [function('v'), s_v,\n",
    "               function('k'), s_k,\n",
    "               function('h'), s_h,\n",
    "               function('eta', latex_name=\"\\\\eta\"), s_eta,\n",
    "               function('Phi', latex_name=\"\\\\Phi\"), s_Phi]\n",
    "\n",
    "for ii in range(4):\n",
    "    for jj in range(4):\n",
    "        for kk in range(0, len(sus_descomp), 2):\n",
    "            ddG[ii,jj] = ddG[ii,jj].substitute_function(sus_descomp[kk], sus_descomp[kk+1])\n",
    "            ddT[ii,jj] = ddT[ii,jj].substitute_function(sus_descomp[kk], sus_descomp[kk+1])\n",
    "\n",
    "ddG = ddG.simplify_full()\n",
    "ddT = ddT.simplify_full()"
   ]
  },
  {
   "cell_type": "code",
   "execution_count": null,
   "metadata": {},
   "outputs": [],
   "source": [
    "sus_legendre = [sin(th)^2 == (2/3)*(1-LP2),\n",
    "                1/sin(th)^2 == 1/((2/3)*(1-LP2)),\n",
    "                cos(th)^2 == (2*LP2+1)/3,\n",
    "                1/cos(th)^2 == 1/(2*LP2+1)/3,\n",
    "                cos(th) == LP1]"
   ]
  },
  {
   "cell_type": "markdown",
   "metadata": {},
   "source": [
    "### <center> $\\boxed{l=0}$ </center>"
   ]
  },
  {
   "cell_type": "markdown",
   "metadata": {},
   "source": [
    "Ecuación (38)"
   ]
  },
  {
   "cell_type": "code",
   "execution_count": null,
   "metadata": {
    "scrolled": true
   },
   "outputs": [],
   "source": [
    "Lambda2 = formal_diff(formal_diff(Lambdae, eps),eps).simplify_full()\n",
    "\n",
    "for ii in range(len(sus_func)):\n",
    "    Lambda2 = Lambda2.subs(sus_func[ii])\n",
    "for ii in range(0, len(sus_descomp), 2):\n",
    "    Lambda2 = Lambda2.substitute_function(sus_descomp[ii], sus_descomp[ii+1])\n",
    "for ii in range(len(sus_legendre)):\n",
    "    Lambda2 = Lambda2.subs(sus_legendre[ii])\n",
    "\n",
    "Lambda20 = Lambda2.subs(LP2==0)\n",
    "\n",
    "Lambda20_paper = mue*n*eta0 + chie*p*Phi0 + eps^2*r^2/(3*e^(nu))*A*n*p*(Omegan1-Omegap1)^2\n",
    "Lambda20_paper = -2*Lambda20_paper\n",
    "for ii in range(len(sus_func)):\n",
    "    Lambda20_paper = Lambda20_paper.subs(sus_func[ii])\n",
    "\n",
    "Lambda20_check = (Lambda20 - Lambda20_paper).simplify_full()\n",
    "\n",
    "show(LatexExpr(\"\\\\Lambda^{(2)}_0 \\\\rightarrow\"), bool(Lambda20_check==0))"
   ]
  },
  {
   "cell_type": "code",
   "execution_count": null,
   "metadata": {},
   "outputs": [],
   "source": [
    "sys.exit()"
   ]
  },
  {
   "cell_type": "markdown",
   "metadata": {},
   "source": [
    "Ecuación (42.1)"
   ]
  },
  {
   "cell_type": "code",
   "execution_count": null,
   "metadata": {},
   "outputs": [],
   "source": [
    "# PROBAR A AISLAR TODO:"
   ]
  },
  {
   "cell_type": "code",
   "execution_count": null,
   "metadata": {},
   "outputs": [],
   "source": [
    "cosa = formal_diff(A,eps)\n",
    "show(EN(cosa))"
   ]
  },
  {
   "cell_type": "code",
   "execution_count": null,
   "metadata": {},
   "outputs": [],
   "source": [
    "show(EN(x^2))"
   ]
  },
  {
   "cell_type": "code",
   "execution_count": null,
   "metadata": {},
   "outputs": [],
   "source": [
    "var('gamman', latex_name = \"\\\\gamma_n\")\n",
    "\n",
    "gamman = formall_diff(formal_diff(muec_paper,eps),eps)/(2*muinf)\n",
    "gamman_paper = + B000*n0*eta0/mu0\\\n",
    "               + A000*p0*Phi0/mu0\\\n",
    "               + r^2/(3*e^(nu))*p0/mu0*(A0\\\n",
    "                                        +2*n0*n0*formal_diff(A,n^2).subs(eps==0)\\\n",
    "                                        +n0*p0*formal_diff(A,x^2).subs(eps==0))*(Omegan1-Omegap1)^2\\\n",
    "               - r^2/(3*e^(nu))*Ln^2\\\n",
    "               + h0\n",
    "\n",
    "for ii in range(len(sus_func)):\n",
    "    gamman = gamman.subs(sus_func[ii])\n",
    "gamman = gamman.simplify_full()\n",
    "\n",
    "for ii in range(0,len(sus_descomp),2):\n",
    "    gamman = gamman.substitute_function(sus_descomp[ii],sus_descomp[ii+1])\n",
    "for ii in range(len(sus_legendre)):\n",
    "    gamman = gamman.subs(sus_legendre[ii])\n",
    "\n",
    "show(EN(gamman.subs(LP2==0).simplify_full()))\n",
    "show(EN(gamman_paper.simplify_full()))\n",
    "##gamman_check = (gamman - gamman_paper).simplify_full()\n",
    "##gamman_check = gamman_check.subs(LP2==0).simplify_full()\n",
    "##\n",
    "##show(LatexExpr(\"\\\\gamma_n \\\\rightarrow\"), bool(gamman_check==0))\n",
    "##show(EN(gamman_check.simplify_full()))\n",
    "#show(EN(gamman.simplify_full()))\n",
    "#show(\"========================================================================================================\")\n",
    "#show(\"========================================================================================================\")\n",
    "#show(EN(gamman_paper.simplify_full()))\n",
    "#show(\"========================================================================================================\")\n",
    "#show(\"========================================================================================================\")\n",
    "#show(LatexExpr(\"\\\\gamma_n \\\\rightarrow\"), bool(gamman_check==0))"
   ]
  },
  {
   "cell_type": "code",
   "execution_count": null,
   "metadata": {
    "scrolled": false
   },
   "outputs": [],
   "source": [
    "gamman = formal_diff(formal_diff(muec,eps),eps)/(2*muinf)\n",
    "for ii in range(len(sus_func)):\n",
    "    gamman = gamman.subs(sus_func[ii])\n",
    "show(EN(gamman.simplify_full()))"
   ]
  },
  {
   "cell_type": "code",
   "execution_count": null,
   "metadata": {
    "scrolled": false
   },
   "outputs": [],
   "source": [
    "var('gamman', latex_name = \"\\\\gamma_n\")\n",
    "\n",
    "gamman = formal_diff(formal_diff(muec,eps),eps)/(2*muinf)\n",
    "gamman_paper = + B000*n0*eta0/mu0\\\n",
    "               + A000*p0*Phi0/mu0\\\n",
    "               + r^2/(3*e^(nu))*p0/mu0*(A0\\\n",
    "                                        +2*n0*n0*formal_diff(A,n^2).subs(eps==0)\\\n",
    "                                        +n0*p0*formal_diff(A,x^2).subs(eps==0))*(Omegan1-Omegap1)^2\\\n",
    "               - r^2/(3*e^(nu))*Ln^2\\\n",
    "               + h0\n",
    "\n",
    "for ii in range(len(sus_func)):\n",
    "    gamman = gamman.subs(sus_func[ii])\n",
    "gamman = gamman.simplify_full()\n",
    "\n",
    "for ii in range(0,len(sus_descomp),2):\n",
    "    gamman = gamman.substitute_function(sus_descomp[ii],sus_descomp[ii+1])\n",
    "for ii in range(len(sus_legendre)):\n",
    "    gamman = gamman.subs(sus_legendre[ii])\n",
    "\n",
    "gamman_check = (gamman - gamman_paper).simplify_full()\n",
    "gamman_check = gamman_check.subs(LP2==0).simplify_full()\n",
    "\n",
    "show(LatexExpr(\"\\\\gamma_n \\\\rightarrow\"), bool(gamman_check==0))\n",
    "show(EN(gamman_check.simplify_full()))\n",
    "#show(EN(gamman.simplify_full()))\n",
    "#show(\"========================================================================================================\")\n",
    "#show(\"========================================================================================================\")\n",
    "show(EN(gamman_paper.simplify_full()))\n",
    "#show(\"========================================================================================================\")\n",
    "#show(\"========================================================================================================\")\n",
    "#show(LatexExpr(\"\\\\gamma_n \\\\rightarrow\"), bool(gamman_check==0))"
   ]
  },
  {
   "cell_type": "code",
   "execution_count": null,
   "metadata": {},
   "outputs": [],
   "source": [
    "sys.exit()"
   ]
  },
  {
   "cell_type": "code",
   "execution_count": null,
   "metadata": {},
   "outputs": [],
   "source": [
    "var('gamman', latex_name = \"\\\\gamma_n\")\n",
    "\n",
    "gamman = formal_diff(formal_diff(muec,eps),eps)/(2*muinf)\n",
    "gamman_paper = + B000*n0*eta0/mu0\\\n",
    "               + A000*p0*Phi0/mu0\\\n",
    "               + r^2/(3*e^(nu))*p0/mu0*(A0\\\n",
    "                                        +2*n0*n0*formal_diff(A,n^2).subs(eps==0)\\\n",
    "                                        +n0*p0*formal_diff(A,x^2).subs(eps==0))*(Omegan1-Omegap1)^2\\\n",
    "               - r^2/(3*e^(nu))*Ln^2\\\n",
    "               + h0\n",
    "\n",
    "for ii in range(len(sus_func)):\n",
    "    gamman = gamman.subs(sus_func[ii])\n",
    "    gamman_paper = gamman_paper.subs(sus_func[ii])\n",
    "\n",
    "gamman = gamman.simplify_full()\n",
    "gamman_paper = gamman_paper.simplify_full()\n",
    "\n",
    "for ii in range(0,len(sus_descomp),2):\n",
    "    gamman = gamman.substitute_function(sus_descomp[ii],sus_descomp[ii+1])\n",
    "for ii in range(len(sus_legendre)):\n",
    "    gamman = gamman.subs(sus_legendre[ii])\n",
    "\n",
    "show(EN(gamman.subs(LP2==0).simplify_full()))\n",
    "\n",
    "gamman_check = (gamman - gamman_paper).simplify_full()\n",
    "gamman_check = gamman_check.subs(LP2==0).simplify_full()\n",
    "\n",
    "show(LatexExpr(\"\\\\gamma_n \\\\rightarrow\"), bool(gamman_check==0))\n",
    "show(EN(gamman_check.simplify_full()))"
   ]
  },
  {
   "cell_type": "code",
   "execution_count": null,
   "metadata": {},
   "outputs": [],
   "source": []
  },
  {
   "cell_type": "code",
   "execution_count": null,
   "metadata": {
    "scrolled": false
   },
   "outputs": [],
   "source": [
    "var('gamman', latex_name = \"\\\\gamma_n\")\n",
    "\n",
    "gamman = formal_diff(formal_diff(muec,eps),eps)/(2*muinf)\n",
    "gamman_paper = + B000*n0*eta0/mu0\\\n",
    "               + A000*p0*Phi0/mu0\\\n",
    "               + r^2/(3*e^(nu))*p0/mu0*(A0\\\n",
    "                                        +2*n0*n0*formal_diff(A,n^2).subs(eps==0)\\\n",
    "                                        +n0*p0*formal_diff(A,x^2).subs(eps==0))*(Omegan1-Omegap1)^2\\\n",
    "               - r^2/(3*e^(nu))*Ln^2\\\n",
    "               + h0\n",
    "\n",
    "for ii in range(len(sus_func)):\n",
    "    gamman = gamman.subs(sus_func[ii])\n",
    "    gamman_paper = gamman_paper.subs(sus_func[ii])\n",
    "\n",
    "gamman = gamman.simplify_full()\n",
    "gamman_paper = gamman_paper.simplify_full()\n",
    "\n",
    "for ii in range(0,len(sus_descomp),2):\n",
    "    gamman = gamman.substitute_function(sus_descomp[ii],sus_descomp[ii+1])\n",
    "for ii in range(len(sus_legendre)):\n",
    "    gamman = gamman.subs(sus_legendre[ii])\n",
    "\n",
    "show(EN(gamman.subs(LP2==0).simplify_full()))\n",
    "\n",
    "gamman_check = (gamman - gamman_paper).simplify_full()\n",
    "gamman_check = gamman_check.subs(LP2==0).simplify_full()\n",
    "\n",
    "show(LatexExpr(\"\\\\gamma_n \\\\rightarrow\"), bool(gamman_check==0))\n",
    "show(EN(gamman_check.simplify_full()))"
   ]
  },
  {
   "cell_type": "code",
   "execution_count": null,
   "metadata": {},
   "outputs": [],
   "source": [
    "gamman = formal_diff(formal_diff(muec,eps),eps)/(2*muinf)\n",
    "for ii in range(len(sus_func)):\n",
    "    gamman = gamman.subs(sus_func[ii])\n",
    "gamman = gamman.simplify_full()\n",
    "\n",
    "for ii in range(0,len(sus_descomp),2):\n",
    "    gamman = gamman.substitute_function(sus_descomp[ii],sus_descomp[ii+1])\n",
    "for ii in range(len(sus_legendre)):\n",
    "    gamman = gamman.subs(sus_legendre[ii])\n",
    "\n",
    "gamman = gamman.simplify_full()\n",
    "gamman = gamman.subs(LP2==0).simplify_full()\n",
    "show(EN(gamman))\n",
    "#gamman_paper = + B000*n0*eta0/mu0\\\n",
    "#               + A000*p0*Phi0/mu0\\\n",
    "#               + r^2/(3*e^(nu))*p0/mu0*(A0\\\n",
    "#                                        +2*n0*n0*formal_diff(A,n^2)\\\n",
    "#                                        +n0*p0*formal_diff(A,x^2))*(Omegan1-Omegap1)^2\\\n",
    "#               - r^2/(3*e^(nu))*Ln^2\\\n",
    "#               + h0\n",
    "#gamman_check = gamman - gamman_paper\n",
    "#show(gamman_check.simplify_full())"
   ]
  },
  {
   "cell_type": "code",
   "execution_count": null,
   "metadata": {},
   "outputs": [],
   "source": [
    "sys.exit()"
   ]
  },
  {
   "cell_type": "markdown",
   "metadata": {},
   "source": [
    "Ecuación (42.2)"
   ]
  },
  {
   "cell_type": "code",
   "execution_count": null,
   "metadata": {},
   "outputs": [],
   "source": [
    "var('gammap', latex_name = \"\\\\gamma_p\")\n",
    "\n",
    "gammap = formal_diff(formal_diff(mue,eps),eps)/muinf\n",
    "\n",
    "gammap_paper = + C00*p*Phi0/chie\\\n",
    "               + A00*n*eta0/chie\\\n",
    "               + r^2/(3*e^(nu))*n/chie*(A+p*formal_diff(A,p) + n*p*formal_diff(A,x^2))*(Omegan1-Omegap1)^2\\\n",
    "               - r^2/(3*e^nu)*Lp^2 + h0\n",
    "gammap_check = gammap - gammap_paper\n",
    "for ii in range(len(sus_func)):\n",
    "    gammap = gammap.subs(sus_func[ii])\n",
    "    gammap_paper = gammap_paper.subs(sus_func[ii])\n",
    "    gammap_check = gammap_check.subs(sus_func[ii])\n",
    "\n",
    "gammap = gammap.simplify_full()\n",
    "\n",
    "for ii in range(0,len(sus_descomp),2):\n",
    "    gammap = gammap.substitute_function(sus_descomp[ii],sus_descomp[ii+1])\n",
    "for ii in range(len(sus_legendre)):\n",
    "    gammap = gammap.subs(sus_legendre[ii])\n",
    "\n",
    "gammap = gammap.simplify_full()\n",
    "gammap = gammap.subs(LP2==0).simplify_full()\n",
    "\n",
    "gammap_paper = gammap_paper.simplify_full()\n",
    "gammap_check = gammap_check.simplify_full()\n",
    "\n",
    "show(LatexExpr(\"\\\\gamma_p \\\\rightarrow\"), bool(gammap_check==0))\n",
    "\n",
    "show(EN(gammap_check))"
   ]
  },
  {
   "cell_type": "markdown",
   "metadata": {},
   "source": [
    "Ecuación (47)"
   ]
  },
  {
   "cell_type": "code",
   "execution_count": null,
   "metadata": {},
   "outputs": [],
   "source": [
    "ddEq_00 = ddG[0,0] - kappa*ddT[0,0]\n",
    "\n",
    "ddEq_00_paper = 16*pi*r^2/(3*e^(nu))*((Psi0-Lambda0)*Ln^2\\\n",
    "                                      + chie*p*(Omegan1-Omegap1)*(Ln+Lp)\\\n",
    "                                      - A*n*p*(Omegan1-Omegap1)^2)\\\n",
    "              + 8*pi*(-Lambda2)\\\n",
    "              - 2/r^2*formal_diff(r/e^(lamb)*v0,r)\\\n",
    "              + r^2/(6*e^(lamb+nu))*(formal_diff(Ln,r))^2\n",
    "\n",
    "for ii in range(len(sus_func)):\n",
    "    ddEq_00 = ddEq_00.subs(sus_func[ii])\n",
    "    ddEq_00_paper = ddEq_00_paper.subs(sus_func[ii])\n",
    "    \n",
    "for ii in range(0,len(sus_descomp),2):\n",
    "    ddEq_00 = ddEq_00.substitute_function(sus_descomp[ii], sus_descomp[ii+1])\n",
    "    ddEq_00_paper = ddEq_00_paper.substitute_function(sus_descomp[ii], sus_descomp[ii+1])\n",
    "\n",
    "ddEq_00 = ddEq_00.simplify_full()\n",
    "ddEq_00_paper = ddEq_00_paper.simplify_full()\n",
    "for ii in range(len(sus_legendre)):\n",
    "    ddEq_00 = ddEq_00.subs(sus_legendre[ii])\n",
    "    ddEq_00_paper = ddEq_00_paper.subs(sus_legendre[ii])\n",
    "\n",
    "ddEq_00 = ddEq_00.subs(LP2==0)\n",
    "ddEq_00_paper = ddEq_00_paper.subs(LP2==0)\n",
    "ddEq_00_check = ddEq_00 - ddEq_00_paper\n",
    "\n",
    "show(LatexExpr(\"\\\\text{Ecuación (47) }\\\\rightarrow\"), bool(ddEq_00_check==0))\n",
    "\n",
    "show(EN(ddEq_00_check))"
   ]
  },
  {
   "cell_type": "markdown",
   "metadata": {},
   "source": [
    "Ecuación (49)"
   ]
  },
  {
   "cell_type": "code",
   "execution_count": null,
   "metadata": {},
   "outputs": [],
   "source": [
    "ddEq_11 = ddG[1,1] - kappa*ddT[1,1]\n",
    "\n",
    "ddEq_11_paper = 2/(r*e^(lamb))*formal_diff(h0,r)\\\n",
    "              - 2/(r*e^(lamb))*(formal_diff(nu,r)+1/r)*v0\\\n",
    "              + r^2/(6*e^(nu+lamb))*formal_diff(Ln,r)^2\\\n",
    "              - 8*pi*(mue*n*gamman + chie*p*gammap\\\n",
    "                      - (Psi0 - Lambda0)*h0 + r^2/(3*e^(nu))*(mue*n*Ln^2 + chie*p*Lp^2)\\\n",
    "                      - r^2/(3*e^(nu))*n*p*A*(Omegan1 - Omegap1)^2)\n",
    "\n",
    "for ii in range(len(sus_func)):\n",
    "    ddEq_11 = ddEq_11.subs(sus_func[ii])\n",
    "    ddEq_11_paper = ddEq_11_paper.subs(sus_func[ii])\n",
    "    \n",
    "for ii in range(0,len(sus_descomp),2):\n",
    "    ddEq_11 = ddEq_11.substitute_function(sus_descomp[ii], sus_descomp[ii+1])\n",
    "    ddEq_11_paper = ddEq_11_paper.substitute_function(sus_descomp[ii], sus_descomp[ii+1])\n",
    "\n",
    "ddEq_11 = ddEq_11.simplify_full()\n",
    "ddEq_11_paper = ddEq_11_paper.simplify_full()\n",
    "for ii in range(len(sus_legendre)):\n",
    "    ddEq_11 = ddEq_11.subs(sus_legendre[ii])\n",
    "    ddEq_11_paper = ddEq_11_paper.subs(sus_legendre[ii])\n",
    "\n",
    "ddEq_11 = ddEq_11.subs(LP2==0)\n",
    "ddEq_11_paper = ddEq_11_paper.subs(LP2==0)\n",
    "ddEq_11_check = ddEq_11 - ddEq_11_paper\n",
    "\n",
    "show(LatexExpr(\"\\\\text{Ecuación (49) }\\\\rightarrow\"), bool(ddEq_11_check==0))\n",
    "\n",
    "show(EN(ddEq_11_check))"
   ]
  },
  {
   "cell_type": "markdown",
   "metadata": {},
   "source": [
    "### <center> $\\boxed{l=2}$ </center>"
   ]
  },
  {
   "cell_type": "markdown",
   "metadata": {},
   "source": [
    "Ecuación (39)"
   ]
  },
  {
   "cell_type": "code",
   "execution_count": null,
   "metadata": {},
   "outputs": [],
   "source": [
    "Lambda2 = formal_diff(formal_diff(Lambdae, eps),eps).simplify_full()\n",
    "\n",
    "for ii in range(len(sus_func)):\n",
    "    Lambda2 = Lambda2.subs(sus_func[ii])\n",
    "for ii in range(0, len(sus_descomp), 2):\n",
    "    Lambda2 = Lambda2.substitute_function(sus_descomp[ii], sus_descomp[ii+1])\n",
    "for ii in range(len(sus_legendre)):\n",
    "    Lambda2 = Lambda2.subs(sus_legendre[ii])\n",
    "Lambda22 = (Lambda2 - Lambda2.subs(LP2==0))/LP2\n",
    "\n",
    "Lambda22_paper = mue*n*eta2 + chie*p*Phi2 - r^2/(3*e^(nu))*A*n*p*(Omegane-Omegape)^2 # OMEGANE-OMEGAPE\n",
    "Lambda22_paper = -Lambda22_paper\n",
    "for ii in range(len(sus_func)):\n",
    "    Lambda22_paper = Lambda22_paper.subs(sus_func[ii])\n",
    "\n",
    "Lambda22_check = (Lambda22 - Lambda22_paper).simplify_full()\n",
    "show(LatexExpr(\"\\\\Lambda^{(2)}_2 \\\\rightarrow\"), bool(Lambda22_check==0))"
   ]
  },
  {
   "cell_type": "markdown",
   "metadata": {},
   "source": [
    "Ecuación (43.1)"
   ]
  },
  {
   "cell_type": "code",
   "execution_count": null,
   "metadata": {},
   "outputs": [],
   "source": [
    "Eq_43_1 = formal_diff(formal_diff(mue,eps),eps)/muinf\n",
    "Eq_43_1_paper = + B00*n*eta2/mu\\\n",
    "                + A00*p*Phi2/mu\\\n",
    "                - r^2/(3*e^(nu))*p/mu*(A+n*formal_diff(A,n) + n*p*formal_diff(A,x^2))*(Omegan1-Omegap1)^2\\\n",
    "                + r^2/(3*e^nu)*Ln^2 + h2\n",
    "Eq_43_1_check = Eq_43_1 - Eq_43_1_paper\n",
    "for ii in range(len(sus_func)):\n",
    "    Eq_43_1 = Eq_43_1.subs(sus_func[ii])\n",
    "    Eq_43_1_paper = Eq_43_1_paper.subs(sus_func[ii])\n",
    "    Eq_43_1_check = Eq_43_1_check.subs(sus_func[ii])\n",
    "\n",
    "Eq_43_1 = Eq_43_1.simplify_full()\n",
    "\n",
    "for ii in range(len(sus_legendre)):\n",
    "    Eq_43_1 = Eq_43_1.subs(sus_legendre[ii])\n",
    "    Eq_43_1_paper = Eq_43_1_paper.subs(sus_legendre[ii])\n",
    "\n",
    "Eq_43_1 = Eq_43_1.simplify_full()\n",
    "Eq_43_1 = (Eq_43_1 - Eq_43_1.subs(LP2==0))/LP2\n",
    "Eq_43_1_paper = (Eq_43_1_paper - Eq_43_1_paper.subs(LP2==0))/LP2\n",
    "Eq_43_1 = Eq_43_1.simplify_full()\n",
    "\n",
    "Eq_43_1_paper = Eq_43_1_paper.simplify_full()\n",
    "Eq_43_1_check = Eq_43_1_check.simplify_full()\n",
    "\n",
    "show(LatexExpr(\"\\\\text{Ecuación (43.1) }\\\\rightarrow\"), bool(Eq_43_1_check==0))\n",
    "\n",
    "show(EN(Eq_43_1_check))"
   ]
  },
  {
   "cell_type": "markdown",
   "metadata": {},
   "source": [
    "Ecuación (43.2)"
   ]
  },
  {
   "cell_type": "code",
   "execution_count": null,
   "metadata": {},
   "outputs": [],
   "source": [
    "var('gamman', latex_name = \"\\\\gamma_n\")\n",
    "\n",
    "Eq_43_2 = formal_diff(formal_diff(mue,eps),eps)/muinf\n",
    "Eq_43_2_paper = + C00*p*Phi2/chie\\\n",
    "                + A00*n*eta2/chie\\\n",
    "                - r^2/(3*e^(nu))*n/chie*(A+p*formal_diff(A,p) + n*p*formal_diff(A,x^2))*(Omegan1-Omegap1)^2\\\n",
    "                + r^2/(3*e^nu)*Lp^2 + h2\n",
    "Eq_43_2_check = Eq_43_2 - Eq_43_2_paper\n",
    "for ii in range(len(sus_func)):\n",
    "    Eq_43_2 = Eq_43_2.subs(sus_func[ii])\n",
    "    Eq_43_2_paper = Eq_43_2_paper.subs(sus_func[ii])\n",
    "    Eq_43_2_check = Eq_43_2_check.subs(sus_func[ii])\n",
    "\n",
    "Eq_43_2 = Eq_43_2.simplify_full()\n",
    "\n",
    "for ii in range(len(sus_legendre)):\n",
    "    Eq_43_2 = Eq_43_2.subs(sus_legendre[ii])\n",
    "\n",
    "Eq_43_2 = Eq_43_2.simplify_full()\n",
    "Eq_43_2 = (Eq_43_2 - Eq_43_2.subs(LP2==0))/LP2\n",
    "Eq_43_2 = Eq_43_2.simplify_full()\n",
    "\n",
    "Eq_43_2_paper = Eq_43_2_paper.simplify_full()\n",
    "Eq_43_2_paper = (Eq_43_2_paper - Eq_43_2_paper.subs(LP2==0))/LP2\n",
    "Eq_43_2_paper = Eq_43_2_paper.simplify_full()\n",
    "\n",
    "Eq_43_2_check = Eq_43_2_check.simplify_full()\n",
    "\n",
    "show(LatexExpr(\"\\\\text{Ecuación (43.2) }\\\\rightarrow\"), bool(Eq_43_2_check==0))\n",
    "\n",
    "show(EN(Eq_43_2_check))"
   ]
  },
  {
   "cell_type": "markdown",
   "metadata": {},
   "source": [
    "Ecuación (45)"
   ]
  },
  {
   "cell_type": "code",
   "execution_count": null,
   "metadata": {
    "scrolled": false
   },
   "outputs": [],
   "source": [
    "ddEq_2233 = ddG[2,2] - kappa*ddT[2,2] - ddG[3,3] + kappa*ddT[3,3] == 0\n",
    "\n",
    "h2_value = solve(ddEq_2233, h2)[0].rhs()\n",
    "h2_paper = r^4/(6*e^(nu+lamb))*formal_diff(Ln,r)^2 + 8*pi*r^4/(3*e^nu)*(Psi0-Lambda0)*Ln^2\\\n",
    "         + 8*pi*r^4/(3*e^(nu))*(chie*p*(Omegan1-Omegap1)*(Ln+Lp) - A*n*p*(Omegan1-Omegap1)^2) - v2\n",
    "\n",
    "for ii in range(len(sus_func)):\n",
    "    h2_value = h2_value.subs(sus_func[ii])\n",
    "    h2_paper = h2_paper.subs(sus_func[ii])\n",
    "\n",
    "h2_value = h2_value.simplify_full()\n",
    "h2_paper = h2_paper.simplify_full()\n",
    "for ii in range(len(sus_legendre)):\n",
    "    h2_value = h2_value.subs(sus_legendre[ii])\n",
    "    h2_paper = h2_paper.subs(sus_legendre[ii])\n",
    "\n",
    "h2_value = (h2_value - h2_value.subs(LP2==0))/LP2\n",
    "h2_paper = (h2_paper - h2_paper.subs(LP2==0))/LP2\n",
    "h2_check = (h2_value - h2_paper).simplify_full()\n",
    "\n",
    "show(LatexExpr(\"h_2 \\\\rightarrow\"), bool(h2_check==0))\n",
    "\n",
    "show(EN(h2_check))"
   ]
  },
  {
   "cell_type": "markdown",
   "metadata": {},
   "source": [
    "Ecuación (46)"
   ]
  },
  {
   "cell_type": "code",
   "execution_count": null,
   "metadata": {},
   "outputs": [],
   "source": [
    "ddEq_12 = (ddG[1,2] - kappa*ddT[1,2])*(-r/(3*cos(th)*sin(th)))\n",
    "ddEq_12_paper = (1/r*(v2+h2) - formal_diff(k2+h2,r) - formal_diff(nu,r)/2*(h2-v2))*2*r\n",
    "for ii in range(len(sus_func)):\n",
    "    ddEq_12 = ddEq_12.subs(sus_func[ii])\n",
    "    ddEq_12_paper = ddEq_12_paper.subs(sus_func[ii])\n",
    "\n",
    "ddEq_12_check = (ddEq_12 - ddEq_12_paper).simplify_full()\n",
    "\n",
    "show(LatexExpr(\"\\\\text{Ecuación (46) }\\\\rightarrow\"), bool(ddEq_12_check==0))\n",
    "\n",
    "show(EN(ddEq_12_check))"
   ]
  },
  {
   "cell_type": "markdown",
   "metadata": {},
   "source": [
    "Ecuación (48)"
   ]
  },
  {
   "cell_type": "code",
   "execution_count": null,
   "metadata": {},
   "outputs": [],
   "source": [
    "ddEq_00 = ddG[0,0] - kappa*ddT[0,0]\n",
    "\n",
    "ddEq_00_paper = - 16*pi*r^2/(3*e^(nu))*((Psi0 - Lambda0)*Ln^2\\\n",
    "                                      + chie*p*(Omegan1 - Omegap1)*(Ln + Lp)\\\n",
    "                                      - A*n*p*(Omegan1 - Omegap1)^2)\\\n",
    "                + 8*pi*(- Lambda2)\\\n",
    "                - 2/r^2*formal_diff(r/e^(lamb)*v2,r)\\\n",
    "                - r^2/(6*e^(lamb + nu))*(formal_diff(Ln,r))^2\\\n",
    "                + 2/e^(lamb)*(formal_diff(formal_diff(k2,r),r)\\\n",
    "                              +(3/r - formal_diff(lamb,r)/2)*formal_diff(k2,r)\\\n",
    "                              - 2*e^(lamb)/r^2*k2) - 6/r^2*v2\n",
    "\n",
    "for ii in range(len(sus_func)):\n",
    "    ddEq_00 = ddEq_00.subs(sus_func[ii])\n",
    "    ddEq_00_paper = ddEq_00_paper.subs(sus_func[ii])\n",
    "    \n",
    "for ii in range(0,len(sus_descomp),2):\n",
    "    ddEq_00 = ddEq_00.substitute_function(sus_descomp[ii], sus_descomp[ii+1])\n",
    "    ddEq_00_paper = ddEq_00_paper.substitute_function(sus_descomp[ii], sus_descomp[ii+1])\n",
    "\n",
    "ddEq_00 = ddEq_00.simplify_full()\n",
    "ddEq_00_paper = ddEq_00_paper.simplify_full()\n",
    "for ii in range(len(sus_legendre)):\n",
    "    ddEq_00 = ddEq_00.subs(sus_legendre[ii])\n",
    "    ddEq_00_paper = ddEq_00_paper.subs(sus_legendre[ii])\n",
    "\n",
    "ddEq_00 = (ddEq_00 - ddEq_00.subs(LP2==0))/LP2\n",
    "ddEq_00 = ddEq_00.simplify_full()\n",
    "ddEq_00_check = (ddEq_00 - ddEq_00_paper).simplify_full()\n",
    "\n",
    "show(LatexExpr(\"\\\\text{Ecuación (48) }\\\\rightarrow\"), bool(ddEq_00_check==0))\n",
    "\n",
    "show(EN(ddEq_00_check))"
   ]
  },
  {
   "cell_type": "markdown",
   "metadata": {},
   "source": [
    "Ecuación (50)"
   ]
  },
  {
   "cell_type": "code",
   "execution_count": null,
   "metadata": {},
   "outputs": [],
   "source": [
    "ddEq_11 = ddG[1,1] - kappa*ddT[1,1]\n",
    "\n",
    "ddEq_11_paper = 2/(r*e^(lamb))*formal_diff(h2,r)\\\n",
    "              - 6/r^2*h2 - 2/(r*e^(lamb))*(formal_diff(nu,r)+1/r)*v2\\\n",
    "              + 1/e^(lamb)*(formal_diff(nu,r)+2/r)*formal_diff(k2,r)\\\n",
    "              - 4/r^2*k2 - r^2/(6*e^(lamb + nu))*formal_diff(Ln,r)^2\\\n",
    "              + 8*pi*((Psi0 - Lambda0)*h2 + r^2/(3*e^(nu))*(mue*n*Ln^2 + chie*p*Lp^2)\\\n",
    "                      - r^2/(3*e^(nu))*n*p*A*(Omegan1 - Omegap1)^2)\n",
    "\n",
    "for ii in range(len(sus_func)):\n",
    "    ddEq_11 = ddEq_11.subs(sus_func[ii])\n",
    "    ddEq_11_paper = ddEq_11_paper.subs(sus_func[ii])\n",
    "\n",
    "for ii in range(0,len(sus_descomp),2):\n",
    "    ddEq_11 = ddEq_11.substitute_function(sus_descomp[ii], sus_descomp[ii+1])\n",
    "    ddEq_11_paper = ddEq_11_paper.substitute_function(sus_descomp[ii], sus_descomp[ii+1])\n",
    "\n",
    "ddEq_11 = ddEq_11.simplify_full()\n",
    "ddEq_11_paper = ddEq_11_paper.simplify_full()\n",
    "for ii in range(len(sus_legendre)):\n",
    "    ddEq_11 = ddEq_11.subs(sus_legendre[ii])\n",
    "    ddEq_11_paper = ddEq_11_paper.subs(sus_legendre[ii])\n",
    "\n",
    "ddEq_11 = (ddEq_11 - ddEq_11.subs(LP2==0))/LP2\n",
    "ddEq_11 = ddEq_11.simplify_full()\n",
    "ddEq_11_paper = (ddEq_11_paper - ddEq_11_paper.subs(LP2==0))/LP2\n",
    "ddEq_11_check = (ddEq_11 - ddEq_11_paper).simplify_full()\n",
    "\n",
    "show(LatexExpr(\"\\\\text{Ecuación (50) }\\\\rightarrow\"), bool(ddEq_11_check==0))\n",
    "\n",
    "show(EN(ddEq_11_check))"
   ]
  }
 ],
 "metadata": {
  "kernelspec": {
   "display_name": "SageMath 9.4",
   "language": "sage",
   "name": "sagemath-9.4"
  },
  "language_info": {
   "codemirror_mode": {
    "name": "ipython",
    "version": 3
   },
   "file_extension": ".py",
   "mimetype": "text/x-python",
   "name": "python",
   "nbconvert_exporter": "python",
   "pygments_lexer": "ipython3",
   "version": "3.9.5"
  }
 },
 "nbformat": 4,
 "nbformat_minor": 4
}
