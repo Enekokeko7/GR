{
 "cells": [
  {
   "cell_type": "code",
   "execution_count": 1,
   "metadata": {},
   "outputs": [],
   "source": [
    "import os\n",
    "from sage.manifolds.utilities import ExpressionNice as EN"
   ]
  },
  {
   "cell_type": "code",
   "execution_count": 2,
   "metadata": {},
   "outputs": [],
   "source": [
    "def formal_diff(f, x):\n",
    "    if f!=0:\n",
    "        tempX = SR.temp_var()\n",
    "        return f.subs({x: tempX}).diff(tempX).subs({tempX: x})\n",
    "    if f==0:\n",
    "        return 0"
   ]
  },
  {
   "cell_type": "code",
   "execution_count": 3,
   "metadata": {},
   "outputs": [],
   "source": [
    "#Definimos variables y funciones\n",
    "var('eps', latex_name = '\\\\varepsilon')\n",
    "var('t')\n",
    "var('r')\n",
    "var('th', latex_name = '\\\\theta')\n",
    "var('ph', latex_name = '\\\\varphi')\n",
    "coords = (t,r,th,ph)\n",
    "\n",
    "h = function('h')(r,th)\n",
    "k = function('k')(r,th)\n",
    "v = function('v')(r,th)\n",
    "omega = function('omega', latex_name='\\\\omega')(r)\n",
    "\n",
    "nu = function('nu', latex_name='\\\\nu')(r)\n",
    "lamb = function('lamb', latex_name='\\\\lambda')(r)\n",
    "\n",
    "#Definimos las funciones N, V, K y Nphi (ecuación 23 AC)\n",
    "Ne = e^(nu/2)*(1+1/2*eps^2*h)\n",
    "Ve = e^(lamb)*(1+eps^2*v)\n",
    "Ke = r^2*(1+eps^2*k)\n",
    "Nphie = eps*omega"
   ]
  },
  {
   "cell_type": "markdown",
   "metadata": {},
   "source": [
    "# <center> Tensor de Einstein </center>"
   ]
  },
  {
   "cell_type": "code",
   "execution_count": 4,
   "metadata": {},
   "outputs": [],
   "source": [
    "gdd = matrix(SR, 4, 4)\n",
    "\n",
    "gdd[0,0] = -exp(nu)\n",
    "gdd[1,1] = exp(lamb)\n",
    "gdd[2,2] = r^2\n",
    "gdd[3,3] = r^2*sin(th)^2\n",
    "\n",
    "guu = 1/gdd\n",
    "\n",
    "K1 = matrix(SR, 4, 4)\n",
    "K1[0,3] = -omega*r^2*sin(th)^2\n",
    "K1[3,0] = -omega*r^2*sin(th)^2\n",
    "\n",
    "K2 = matrix(SR, 4, 4)\n",
    "K2[0,0] = -4*exp(nu)*h + 2*r^2*sin(th)^2*omega^2\n",
    "K2[1,1] = 4*exp(lamb)*v\n",
    "K2[2,2] = 4*k*r^2\n",
    "K2[3,3] = 4*k*r^2*sin(th)^2"
   ]
  },
  {
   "cell_type": "code",
   "execution_count": 5,
   "metadata": {},
   "outputs": [],
   "source": [
    "gedd = matrix(SR, 4, 4)\n",
    "for ii in range(0,4):\n",
    "    for jj in range(0,4):\n",
    "        gedd[ii,jj] = gdd[ii,jj] + eps*K1[ii,jj] + 1/2*eps^2*K2[ii,jj]\n",
    "        \n",
    "geuu = 1/gedd\n",
    "\n",
    "chris = [[[0 for kk in range(0,4)] for jj in range(0,4)] for ii in range(0,4)]\n",
    "for ii in range(0,4):\n",
    "    for jj in range(0,4):\n",
    "        for kk in range(0,4):\n",
    "            chris[ii][jj][kk] = 0.5*sum(geuu[ii,dd]*(formal_diff(gedd[dd,jj],coords[kk])\n",
    "                                                   + formal_diff(gedd[dd,kk],coords[jj])\n",
    "                                                   - formal_diff(gedd[jj,kk],coords[dd])) for dd in range(0,4))\n",
    "\n",
    "riem = [[[[0 for ll in range(0,4)] for kk in range(0,4)] for jj in range(0,4)] for ii in range(0,4)]\n",
    "for ii in range(0,4):\n",
    "    for jj in range(0,4):\n",
    "        for kk in range(0,4):\n",
    "            for ll in range(0,4):\n",
    "                riem[ii][jj][kk][ll] = (formal_diff(chris[ii][jj][ll],coords[kk])\n",
    "                                      - formal_diff(chris[ii][jj][kk],coords[ll])\n",
    "                                      + sum(chris[ii][kk][dd]*chris[dd][ll][jj]\n",
    "                                          - chris[ii][ll][dd]*chris[dd][kk][jj] for dd in range(0,4)))\n",
    "\n",
    "ricci = matrix(SR, 4, 4)\n",
    "for ii in range(0,4):\n",
    "    for kk in range(0,4):\n",
    "        ricci[ii,kk] = sum(riem[dd][ii][dd][kk] for dd in range(0,4))\n",
    "\n",
    "s_curv = sum(sum(ricci[ii,jj]*geuu[ii,jj] for ii in range(0,4)) for jj in range(0,4))\n",
    "\n",
    "Ge = matrix(SR, 4, 4)\n",
    "Ge = ricci - 0.5*gedd*s_curv\n",
    "\n",
    "dGe = matrix(SR, 4, 4)\n",
    "ddGe = matrix(SR, 4, 4)\n",
    "for ii in range(0,4):\n",
    "    for jj in range(0,4):\n",
    "        dGe[ii,jj] = formal_diff(Ge[ii,jj],eps)\n",
    "        ddGe[ii,jj] = formal_diff(formal_diff(Ge[ii,jj],eps),eps)"
   ]
  },
  {
   "cell_type": "markdown",
   "metadata": {},
   "source": [
    "# <center> Tensor de energía-momento </center>"
   ]
  },
  {
   "cell_type": "code",
   "execution_count": 6,
   "metadata": {},
   "outputs": [],
   "source": [
    "#Funciones dependientes de eps\n",
    "Omegane = function('Omegane', latex_name='\\\\Omega_{n\\\\varepsilon}')(eps)\n",
    "Omegape = function('Omegape', latex_name='\\\\Omega_{p\\\\varepsilon}')(eps)\n",
    "\n",
    "Nne = function('Nne', latex_name='N_{n\\\\varepsilon}')(r,th,eps)\n",
    "Npe = function('Npe', latex_name='N_{p\\\\varepsilon}')(r,th,eps)\n",
    "\n",
    "#Tomando eps=0\n",
    "Nn = function('Nn', latex_name='N_{n}')(r,th)\n",
    "Np = function('Np', latex_name='N_{p}')(r,th)\n",
    "\n",
    "sus_func = [eps==0,\n",
    "            Omegane.subs(eps==0)==0, #Staticity at the background\n",
    "            Nne.subs(eps==0)==Nn,\n",
    "            Omegape.subs(eps==0)==0, #Staticity at the background\n",
    "            Npe.subs(eps==0)==Np]"
   ]
  },
  {
   "cell_type": "markdown",
   "metadata": {},
   "source": [
    "## <center> Campo $u$ de los neutrones </center>"
   ]
  },
  {
   "cell_type": "code",
   "execution_count": 7,
   "metadata": {
    "scrolled": true
   },
   "outputs": [
    {
     "data": {
      "text/html": [
       "<html>\\[\\newcommand{\\Bold}[1]{\\mathbf{#1}}u \\rightarrow  \\mathrm{True}\\]</html>"
      ],
      "text/latex": [
       "$$\\newcommand{\\Bold}[1]{\\mathbf{#1}}u \\rightarrow  \\mathrm{True}$$"
      ],
      "text/plain": [
       "u \\rightarrow  True"
      ]
     },
     "metadata": {},
     "output_type": "display_data"
    }
   ],
   "source": [
    "uevec = [Nne,0,0,Nne*Omegane]\n",
    "Uevec = [0,0,0,0]\n",
    "\n",
    "for ii in range(0,4):\n",
    "    for jj in range(0,4):\n",
    "        Uevec[ii] += uevec[jj]*gedd[ii,jj]\n",
    "\n",
    "norm = 0\n",
    "for ii in range(0,4):\n",
    "    norm += uevec[ii]*Uevec[ii]\n",
    "\n",
    "Nne_value = sqrt(solve(norm==-1, Nne^2)[0].rhs())\n",
    "\n",
    "for ii in range(4):\n",
    "    uevec[ii] = uevec[ii].subs(Nne==Nne_value)\n",
    "    Uevec[ii] = Uevec[ii].subs(Nne==Nne_value)\n",
    "\n",
    "Nn_value = copy(Nne_value)\n",
    "for ii in range(len(sus_func)):\n",
    "    Nn_value = Nn_value.subs(sus_func[ii])\n",
    "\n",
    "sus_func.extend([Nn==Nn_value])\n",
    "\n",
    "uvec = copy(uevec)\n",
    "for ii in range(4):\n",
    "    for jj in range(len(sus_func)):\n",
    "        uvec[ii] = uvec[ii].subs(sus_func[jj])\n",
    "\n",
    "Nne_paper = 1/sqrt(Ne^2 - sin(th)^2*Ke*(Nphie-Omegane)^2)\n",
    "\n",
    "uvec_paper = [Nne_paper,0,0,Omegane*Nne_paper]\n",
    "for ii in range(4):\n",
    "    for jj in range(len(sus_func)):\n",
    "        uvec_paper[ii] = uvec_paper[ii].subs(sus_func[jj])\n",
    "\n",
    "uvec_check = [x-y for (x,y) in zip(uvec, uvec_paper)]\n",
    "\n",
    "show(LatexExpr(\"u \\\\rightarrow \"), bool(uvec_check==[0,0,0,0]))"
   ]
  },
  {
   "cell_type": "code",
   "execution_count": 8,
   "metadata": {},
   "outputs": [
    {
     "data": {
      "text/html": [
       "<html>\\[\\newcommand{\\Bold}[1]{\\mathbf{#1}}u^{(1)} \\rightarrow \\mathrm{True}\\]</html>"
      ],
      "text/latex": [
       "$$\\newcommand{\\Bold}[1]{\\mathbf{#1}}u^{(1)} \\rightarrow \\mathrm{True}$$"
      ],
      "text/plain": [
       "u^{(1)} \\rightarrow True"
      ]
     },
     "metadata": {},
     "output_type": "display_data"
    },
    {
     "data": {
      "text/html": [
       "<html>\\[\\newcommand{\\Bold}[1]{\\mathbf{#1}}u^{(2)} \\rightarrow \\mathrm{True}\\]</html>"
      ],
      "text/latex": [
       "$$\\newcommand{\\Bold}[1]{\\mathbf{#1}}u^{(2)} \\rightarrow \\mathrm{True}$$"
      ],
      "text/plain": [
       "u^{(2)} \\rightarrow True"
      ]
     },
     "metadata": {},
     "output_type": "display_data"
    }
   ],
   "source": [
    "var('Omegan1', latex_name=\"\\\\Omega^{(1)}_{n}\")\n",
    "\n",
    "sus_func.extend([formal_diff(formal_diff(Omegane,eps),eps).subs(eps==0) == 0, #En nuestro gauge Omega2=0\n",
    "                 formal_diff(Omegane,eps).subs(eps==0) == Omegan1])\n",
    "\n",
    "uvec1 = [0,0,0,0]\n",
    "uvec2 = [0,0,0,0]\n",
    "\n",
    "for ii in range(4):\n",
    "    uvec1[ii] = formal_diff(uevec[ii],eps)\n",
    "    uvec2[ii] = formal_diff(formal_diff(uevec[ii],eps),eps)\n",
    "\n",
    "for ii in range(4):\n",
    "    for jj in range(len(sus_func)):\n",
    "        uvec1[ii] = uvec1[ii].subs(sus_func[jj])\n",
    "        uvec2[ii] = uvec2[ii].subs(sus_func[jj])\n",
    "\n",
    "uvec1_paper = [0,0,0,0]\n",
    "uvec1_paper[0] = 1/2*e^(-3*nu/2)*K1[0,0]\n",
    "uvec1_paper[3] = e^(-nu/2)*Omegan1\n",
    "\n",
    "uvec2_paper = [0,0,0,0]\n",
    "uvec2_paper[0] = e^(-3*nu/2)*(1/2*K2[0,0]+3/4*e^(-nu)*K1[0,0]+2*Omegan1*K1[0,3]+Omegan1^2*r^2*sin(th)^2)\n",
    "\n",
    "uvec1_check = [ii-jj for (ii,jj) in zip(uvec1, uvec1_paper)]\n",
    "uvec2_check = [ii-jj for (ii,jj) in zip(uvec2, uvec2_paper)]\n",
    "\n",
    "show(LatexExpr(\"u^{(1)} \\\\rightarrow\"), uvec1_check==[0,0,0,0])\n",
    "show(LatexExpr(\"u^{(2)} \\\\rightarrow\"), uvec2_check==[0,0,0,0])"
   ]
  },
  {
   "cell_type": "markdown",
   "metadata": {},
   "source": [
    "## <center> Campo $v$ de los protones </center>"
   ]
  },
  {
   "cell_type": "code",
   "execution_count": 9,
   "metadata": {},
   "outputs": [
    {
     "data": {
      "text/html": [
       "<html>\\[\\newcommand{\\Bold}[1]{\\mathbf{#1}}v \\rightarrow  \\mathrm{True}\\]</html>"
      ],
      "text/latex": [
       "$$\\newcommand{\\Bold}[1]{\\mathbf{#1}}v \\rightarrow  \\mathrm{True}$$"
      ],
      "text/plain": [
       "v \\rightarrow  True"
      ]
     },
     "metadata": {},
     "output_type": "display_data"
    }
   ],
   "source": [
    "vevec = [Npe,0,0,Npe*Omegape]\n",
    "Vevec = [0,0,0,0]\n",
    "\n",
    "for ii in range(4):\n",
    "    for jj in range(4):\n",
    "        Vevec[ii] += vevec[jj]*gedd[ii,jj]\n",
    "\n",
    "norm = 0\n",
    "for ii in range(4):\n",
    "    norm += vevec[ii]*Vevec[ii]\n",
    "\n",
    "Npe_value = sqrt(solve(norm==-1, Npe^2)[0].rhs())\n",
    "for ii in range(4):\n",
    "    vevec[ii] = vevec[ii].subs(Npe==Npe_value)\n",
    "    Vevec[ii] = Vevec[ii].subs(Npe==Npe_value)\n",
    "\n",
    "Np_value = copy(Npe_value)\n",
    "for ii in range(len(sus_func)):\n",
    "    Np_value = Np_value.subs(sus_func[ii])\n",
    "\n",
    "sus_func.extend([Np==Np_value])\n",
    "\n",
    "vvec = copy(vevec)\n",
    "for ii in range(4):\n",
    "    for jj in range(len(sus_func)):\n",
    "        vvec[ii] = vvec[ii].subs(sus_func[jj])\n",
    "\n",
    "Npe_paper = 1/sqrt(Ne^2 - sin(th)^2*Ke*(Nphie-Omegape)^2)\n",
    "\n",
    "vvec_paper = [Npe_paper,0,0,Omegape*Npe_paper]\n",
    "\n",
    "for ii in range(4):\n",
    "    for jj in range(len(sus_func)):\n",
    "        vvec_paper[ii] = vvec_paper[ii].subs(sus_func[jj])\n",
    "\n",
    "vvec_check = [x-y for (x,y) in zip(vvec, vvec_paper)]\n",
    "\n",
    "show(LatexExpr(\"v \\\\rightarrow \"), bool(vvec_check==[0,0,0,0]))"
   ]
  },
  {
   "cell_type": "code",
   "execution_count": 10,
   "metadata": {},
   "outputs": [
    {
     "data": {
      "text/html": [
       "<html>\\[\\newcommand{\\Bold}[1]{\\mathbf{#1}}v^{(1)} \\rightarrow \\mathrm{True}\\]</html>"
      ],
      "text/latex": [
       "$$\\newcommand{\\Bold}[1]{\\mathbf{#1}}v^{(1)} \\rightarrow \\mathrm{True}$$"
      ],
      "text/plain": [
       "v^{(1)} \\rightarrow True"
      ]
     },
     "metadata": {},
     "output_type": "display_data"
    },
    {
     "data": {
      "text/html": [
       "<html>\\[\\newcommand{\\Bold}[1]{\\mathbf{#1}}v^{(2)} \\rightarrow \\mathrm{True}\\]</html>"
      ],
      "text/latex": [
       "$$\\newcommand{\\Bold}[1]{\\mathbf{#1}}v^{(2)} \\rightarrow \\mathrm{True}$$"
      ],
      "text/plain": [
       "v^{(2)} \\rightarrow True"
      ]
     },
     "metadata": {},
     "output_type": "display_data"
    }
   ],
   "source": [
    "var('Omegap1', latex_name=\"\\\\Omega^{(1)}_{p}\")\n",
    "\n",
    "sus_func.extend([formal_diff(formal_diff(Omegape,eps),eps).subs(eps==0) == 0, #En nuestro gauge Omega2=0\n",
    "                 formal_diff(Omegape,eps).subs(eps==0) == Omegap1])\n",
    "\n",
    "vvec1 = [0,0,0,0]\n",
    "vvec2 = [0,0,0,0]\n",
    "\n",
    "for ii in range(4):\n",
    "    vvec1[ii] = formal_diff(vevec[ii],eps)\n",
    "    vvec2[ii] = formal_diff(formal_diff(vevec[ii],eps),eps)\n",
    "\n",
    "for ii in range(4):\n",
    "    for jj in range(len(sus_func)):\n",
    "        vvec1[ii] = vvec1[ii].subs(sus_func[jj])\n",
    "        vvec2[ii] = vvec2[ii].subs(sus_func[jj])\n",
    "\n",
    "vvec1_paper = [0,0,0,0]\n",
    "vvec1_paper[0] = 1/2*e^(-3*nu/2)*K1[0,0]\n",
    "vvec1_paper[3] = e^(-nu/2)*Omegap1\n",
    "\n",
    "vvec2_paper = [0,0,0,0]\n",
    "vvec2_paper[0] = e^(-3*nu/2)*(1/2*K2[0,0]+3/4*e^(-nu)*K1[0,0]+2*Omegap1*K1[0,3]+Omegap1^2*r^2*sin(th)^2)\n",
    "vvec2_paper[3] = e^(-nu/2)*(e^(-nu)*K1[0,0]*Omegap1)  \n",
    "\n",
    "vvec1_check = [ii-jj for (ii,jj) in zip(vvec1, vvec1_paper)]\n",
    "vvec2_check = [ii-jj for (ii,jj) in zip(vvec2, vvec2_paper)]\n",
    "\n",
    "show(LatexExpr(\"v^{(1)} \\\\rightarrow\"), vvec1_check==[0,0,0,0])\n",
    "show(LatexExpr(\"v^{(2)} \\\\rightarrow\"), vvec2_check==[0,0,0,0])"
   ]
  },
  {
   "cell_type": "code",
   "execution_count": 11,
   "metadata": {},
   "outputs": [],
   "source": [
    "cosa = Ne^2 - sin(th)^2*Ke*(Nphie - Omegape)^2\n",
    "vevec_paper = [(1/sqrt(cosa)).simplify_full(), 0, 0, (Omegape/sqrt(cosa)).simplify_full()]\n",
    "\n",
    "cosa = Ne^2 - sin(th)^2*Ke*(Nphie - Omegane)^2\n",
    "uevec_paper = [(1/sqrt(cosa)).simplify_full(), 0, 0, (Omegane/sqrt(cosa)).simplify_full()]\n",
    "\n",
    "vevec_paper[0] = vevec_paper[0].subs(eps^4==0)\n",
    "vevec_paper[3] = vevec_paper[3].subs(eps^4==0)\n",
    "vevec_paper[0] = vevec_paper[0].subs(eps^3==0)\n",
    "vevec_paper[3] = vevec_paper[3].subs(eps^3==0)\n",
    "\n",
    "uevec_paper[0] = uevec_paper[0].subs(eps^4==0)\n",
    "uevec_paper[3] = uevec_paper[3].subs(eps^4==0)\n",
    "uevec_paper[0] = uevec_paper[0].subs(eps^3==0)\n",
    "uevec_paper[3] = uevec_paper[3].subs(eps^3==0)"
   ]
  },
  {
   "cell_type": "markdown",
   "metadata": {},
   "source": [
    "## <center> Ecuación de Einstein </center>"
   ]
  },
  {
   "cell_type": "code",
   "execution_count": 12,
   "metadata": {},
   "outputs": [],
   "source": [
    "n = function('n')(r,th,eps)\n",
    "p = function('p')(r,th,eps)\n",
    "\n",
    "n0 = function('n0', latex_name=\"n_0\")(r)\n",
    "p0 = function('p0', latex_name=\"p_0\")(r)\n",
    "\n",
    "eta = function('eta', latex_name=\"\\\\eta\")(r,th)\n",
    "Phi = function('Phi', latex_name=\"\\\\Phi\")(r,th)\n",
    "\n",
    "n = n0*(1 + 1/2*eps^2*eta)   ###\n",
    "p = p0*(1 + 1/2*eps^2*Phi)   ###\n",
    "x = sqrt(n*p)\n",
    "\n",
    "Lambdae = function('Lambdae', latex_name='\\\\Lambda_{\\\\varepsilon}')(n^2, p^2, x^2)\n",
    "Psie = function('Psie', latex_name='\\\\Psi_{\\\\varepsilon}')(n^2, p^2, x^2)\n",
    "\n",
    "nevec = [n*ii for ii in uevec] #eq 13 AC\n",
    "pevec = [p*ii for ii in vevec] #eq 13 AC\n",
    "\n",
    "ned = [0,0,0,0]\n",
    "ped = [0,0,0,0]\n",
    "for ii in range(4):\n",
    "    for jj in range(4):\n",
    "        ned[ii] += nevec[jj]*gedd[ii,jj]\n",
    "        ped[ii] += pevec[jj]*gedd[ii,jj]\n",
    "\n",
    "nd = copy(ned)\n",
    "pd = copy(ped)\n",
    "for ii in range(4):\n",
    "    for jj in range(len(sus_func)):\n",
    "        nd[ii] = nd[ii].subs(sus_func[jj])\n",
    "        pd[ii] = pd[ii].subs(sus_func[jj])\n",
    "\n",
    "A = -formal_diff(Lambdae, x^2)\n",
    "B = -2*formal_diff(Lambdae, n^2)\n",
    "C = -2*formal_diff(Lambdae, p^2)\n",
    "\n",
    "mued = [B*ii for ii in ned] + [A*jj for jj in ped] #eq 2 C\n",
    "chied = [C*ii for ii in ped] + [A*jj for jj in ned] #eq 2 C\n",
    "\n",
    "muevec = [0,0,0,0]\n",
    "chievec = [0,0,0,0]\n",
    "for ii in range(4):\n",
    "    for jj in range(4):\n",
    "        muevec[ii] += mued[jj]*gedd[ii,jj]\n",
    "        chievec[ii] += chied[jj]*gedd[ii,jj]\n",
    "\n",
    "Psie = Lambdae - sum([ii*jj for (ii,jj) in zip(nevec, mued)]) - sum([ii*jj for (ii,jj) in zip(pevec, chied)])\n",
    "\n",
    "LambdaePsie = Psie - Lambdae"
   ]
  },
  {
   "cell_type": "code",
   "execution_count": 13,
   "metadata": {},
   "outputs": [],
   "source": [
    "dirac = diagonal_matrix([1, 1, 1, 1])\n",
    "\n",
    "Teud = matrix(SR, 4, 4)\n",
    "for ii in range(4):\n",
    "    for jj in range(4):\n",
    "        Teud[ii,jj] = Psie*dirac[ii,jj] + pevec[ii]*chied[jj] + nevec[ii]*mued[jj]\n",
    "\n",
    "Te, dTe, ddTe = matrix(SR, 4, 4), matrix(SR, 4, 4), matrix(SR, 4, 4)\n",
    "for ii in range(4):\n",
    "    for jj in range(4):\n",
    "        for kk in range(4):\n",
    "            Te[ii,jj] += Teud[kk,jj]*gedd[kk,ii]\n",
    "        \n",
    "        dTe[ii,jj] = formal_diff(Te[ii,jj],eps)\n",
    "        ddTe[ii,jj] = formal_diff(formal_diff(Te[ii,jj],eps),eps)\n",
    "\n",
    "kappa = 8*pi"
   ]
  },
  {
   "cell_type": "code",
   "execution_count": 14,
   "metadata": {},
   "outputs": [],
   "source": [
    "mue = B*n + A*p #eq 22 C\n",
    "chie = A*n + C*p #eq 22 C\n",
    "\n",
    "#Volvemos a definir mu_d y chi_d porque los que habíamos definido antes eran de AC y este es de C\n",
    "mued = [mue*ii for ii in Uevec] #eq 17 C\n",
    "chied = [chie*ii for ii in Vevec] #eq 17 C #he cambiado el Uevec por Vevec\n",
    "\n",
    "muinf = -mued[0] #eq 20\n",
    "chiinf = -chied[0] #eq 20\n",
    "for ii in range(len(sus_func)):\n",
    "    muinf = muinf.subs(sus_func[ii])\n",
    "    chiinf = chiinf.subs(sus_func[ii])\n",
    "\n",
    "#eq_mu = formal_diff(muinf,r)\n",
    "#eq_chi = formal_diff(chiinf,r)\n",
    "#for ii in range(len(sus_func)):\n",
    "#    eq_mu = eq_mu.subs(sus_func[ii])\n",
    "#    eq_chi = eq_chi.subs(sus_func[ii])\n",
    "\n",
    "A0, B0, C0 = A, B, C\n",
    "\n",
    "A00 = A + 2*formal_diff(B,p^2)*n*p + 2*formal_diff(A,n^2)*n^2 + 2*formal_diff(A,p^2)*p^2 + formal_diff(A,x^2)*p*n\n",
    "B00 = B + 2*formal_diff(B,n^2)*n^2 + 4*formal_diff(A,n^2)*n*p + formal_diff(A,x^2)*p^2\n",
    "C00 = C + 2*formal_diff(C,p^2)*p^2 + 4*formal_diff(A,p^2)*n*p + formal_diff(A,x^2)*n^2\n",
    "\n",
    "A000, B000, C000 = A00, B00, C00\n",
    "for ii in range(len(sus_func)):\n",
    "    A0 = A0.subs(sus_func[ii])\n",
    "    B0 = B0.subs(sus_func[ii])\n",
    "    C0 = C0.subs(sus_func[ii])\n",
    "    A000 = A000.subs(sus_func[ii])\n",
    "    B000 = B000.subs(sus_func[ii])\n",
    "    C000 = C000.subs(sus_func[ii])\n",
    "\n",
    "#eq26_1 = A000*formal_diff(p0,r) + B000*formal_diff(n0,r) + 1/2*(B0*n0 + A0*p0)*formal_diff(nu,r)\n",
    "#eq26_2 = C000*formal_diff(p0,r) + A000*formal_diff(n0,r) + 1/2*(A0*n0 + C0*p0)*formal_diff(nu,r)\n",
    "#for ii in range(len(sus_func)):\n",
    "#    eq26_1 = eq26_1.subs(sus_func[ii])\n",
    "#    eq26_2 = eq26_2.subs(sus_func[ii])\n",
    "#\n",
    "#eq_mu = eq_mu*e^(-nu/2)\n",
    "#eq_mu_check = eq_mu - eq26_1\n",
    "#eq_chi = eq_chi*e^(-nu/2)\n",
    "#eq_chi_check = eq_chi - eq26_2\n",
    "#\n",
    "#show(LatexExpr(\"\\\\text{Eq 26.1} \\\\rightarrow\"), bool(eq_mu_check==0))\n",
    "#show(LatexExpr(\"\\\\text{Eq 26.2} \\\\rightarrow\"), bool(eq_chi_check==0))"
   ]
  },
  {
   "cell_type": "code",
   "execution_count": 15,
   "metadata": {},
   "outputs": [],
   "source": [
    "#dp0_value = solve(eq26_1, formal_diff(p0,r))[0].rhs()\n",
    "#for ii in range(len(sus_func)):\n",
    "#    dp0_value = dp0_value.subs(sus_func[ii])\n",
    "#sus_func.extend([formal_diff(p,r).subs(eps==0)==dp0_value])\n",
    "#\n",
    "#dn0_value = solve(eq26_2, diff(n0,r))[0].rhs()\n",
    "#for ii in range(len(sus_func)):\n",
    "#    dn0_value = dn0_value.subs(sus_func[ii])\n",
    "#sus_func.extend([formal_diff(n,r).subs(eps==0)==dn0_value])"
   ]
  },
  {
   "cell_type": "markdown",
   "metadata": {},
   "source": [
    "# <center> $G_{\\mu\\nu} = \\kappa T_{\\mu\\nu}$ </center>"
   ]
  },
  {
   "cell_type": "code",
   "execution_count": 16,
   "metadata": {},
   "outputs": [],
   "source": [
    "Lambda0 = Lambdae\n",
    "Psi0 = Psie\n",
    "for ii in range(len(sus_func)):\n",
    "    Lambda0 = Lambda0.subs(sus_func[ii])\n",
    "    Psi0 = Psi0.subs(sus_func[ii])\n",
    "\n",
    "Psi0 = copy(Psie)\n",
    "for ii in range(len(sus_func)):\n",
    "    Psi0 = Psi0.subs(sus_func[ii])\n",
    "\n",
    "G = copy(Ge)\n",
    "T = copy(Te)\n",
    "for ii in range(len(sus_func)):\n",
    "    G = G.subs(sus_func[ii])\n",
    "    T = T.subs(sus_func[ii])"
   ]
  },
  {
   "cell_type": "markdown",
   "metadata": {},
   "source": [
    "## <center> $G_{00} = \\kappa T_{00}$ </center>"
   ]
  },
  {
   "cell_type": "code",
   "execution_count": 17,
   "metadata": {},
   "outputs": [
    {
     "data": {
      "text/html": [
       "<html>\\[\\newcommand{\\Bold}[1]{\\mathbf{#1}}\\lambda' \\rightarrow \\mathrm{True}\\]</html>"
      ],
      "text/latex": [
       "$$\\newcommand{\\Bold}[1]{\\mathbf{#1}}\\lambda' \\rightarrow \\mathrm{True}$$"
      ],
      "text/plain": [
       "\\lambda' \\rightarrow True"
      ]
     },
     "metadata": {},
     "output_type": "display_data"
    }
   ],
   "source": [
    "dlamb_value = solve(G[0,0] - kappa*T[0,0] == 0, formal_diff(lamb, r))[0].rhs().simplify_full()\n",
    "dlamb_paper = (1-e^(lamb))/r - 8*pi*r*e^(lamb)*Lambda0\n",
    "dlamb_check = dlamb_value - dlamb_paper\n",
    "show(LatexExpr(\"\\\\lambda' \\\\rightarrow\"), bool(dlamb_check==0))\n",
    "\n",
    "for ii in range(len(sus_func)):\n",
    "    dlamb_value = dlamb_value.subs(sus_func[ii])\n",
    "\n",
    "sus_func.extend([formal_diff(lamb,r)==dlamb_value])"
   ]
  },
  {
   "cell_type": "markdown",
   "metadata": {},
   "source": [
    "## <center> $G_{11} = \\kappa T_{11}$ </center>\n"
   ]
  },
  {
   "cell_type": "code",
   "execution_count": 18,
   "metadata": {},
   "outputs": [
    {
     "data": {
      "text/html": [
       "<html>\\[\\newcommand{\\Bold}[1]{\\mathbf{#1}}\\nu' \\rightarrow \\mathrm{True}\\]</html>"
      ],
      "text/latex": [
       "$$\\newcommand{\\Bold}[1]{\\mathbf{#1}}\\nu' \\rightarrow \\mathrm{True}$$"
      ],
      "text/plain": [
       "\\nu' \\rightarrow True"
      ]
     },
     "metadata": {},
     "output_type": "display_data"
    }
   ],
   "source": [
    "dnu_value_11 = solve(G[1,1] - kappa*T[1,1] == 0, formal_diff(nu, r))[0].rhs().simplify_full()\n",
    "dnu_paper = -(1-e^(lamb))/r + 8*pi*r*e^(lamb)*Psi0\n",
    "dnu_check_11 = dnu_value_11 - dnu_paper\n",
    "show(LatexExpr(\"\\\\nu' \\\\rightarrow\"), bool(dnu_check_11==0))\n",
    "\n",
    "for ii in range(len(sus_func)):\n",
    "    dnu_value_11 = dnu_value_11.subs(sus_func[ii])\n",
    "\n",
    "sus_func.extend([formal_diff(nu,r)==dnu_value_11])"
   ]
  },
  {
   "cell_type": "code",
   "execution_count": 19,
   "metadata": {},
   "outputs": [],
   "source": [
    "#ddnu_value_11 = formal_diff(dnu_value_11,r).simplify_full()\n",
    "#for ii in range(len(sus_func)):\n",
    "#    ddnu_value_11 = ddnu_value_11.subs(sus_func[ii])\n",
    "#\n",
    "#ddnu_paper = 2*r*formal_diff(formal_diff(nu,r),r)\\\n",
    "#           + formal_diff(nu,r)*(r*formal_diff(nu,r)-2)\\\n",
    "#           - formal_diff(lamb,r)*(2+r*formal_diff(nu,r))\\\n",
    "#           + 4/r*(e^(lamb)-1) == 0\n",
    "#\n",
    "#ddnu_paper = solve(ddnu_paper, formal_diff(formal_diff(nu,r),r))[0].rhs().simplify_full()\n",
    "#for ii in range(len(sus_func)):\n",
    "#    ddnu_value_11 = ddnu_value_11.subs(sus_func[ii])\n",
    "#    ddnu_paper = ddnu_paper.subs(sus_func[ii])\n",
    "#\n",
    "#ddnu_check_11 = ddnu_value_11 - ddnu_paper\n",
    "#show(ddnu_value_11)\n",
    "#show(ddnu_paper)\n",
    "#show(LatexExpr(\"\\\\nu' \\\\rightarrow\"), bool(ddnu_check_11==0))"
   ]
  },
  {
   "cell_type": "markdown",
   "metadata": {},
   "source": [
    "## <center> $G_{11} = \\kappa T_{11}$ y $G_{22} = \\kappa T_{22}$ </center>\n"
   ]
  },
  {
   "cell_type": "code",
   "execution_count": 20,
   "metadata": {
    "scrolled": true
   },
   "outputs": [
    {
     "data": {
      "text/html": [
       "<html>\\[\\newcommand{\\Bold}[1]{\\mathbf{#1}}\\nu'' \\rightarrow \\mathrm{True}\\]</html>"
      ],
      "text/latex": [
       "$$\\newcommand{\\Bold}[1]{\\mathbf{#1}}\\nu'' \\rightarrow \\mathrm{True}$$"
      ],
      "text/plain": [
       "\\nu'' \\rightarrow True"
      ]
     },
     "metadata": {},
     "output_type": "display_data"
    }
   ],
   "source": [
    "dnu_value_22 = solve(G[2,2] - kappa*T[2,2] == 0, formal_diff(nu, r))[0].rhs().simplify_full()\n",
    "\n",
    "#Despejamos la raiz cuadrada de la ecuación\n",
    "dEq_1122 = -(dnu_value_11 - dnu_value_22 == 0)*e^(nu)*2*r\n",
    "dEq_1122 = dEq_1122 + sqrt(-256*pi*r^2*e^(lamb + 2*nu)*n0^2*formal_diff(Lambdae,n^2).subs(eps==0)\\\n",
    "                           -256*pi*r^2*e^(lamb + 2*nu)*p0^2*formal_diff(Lambdae,p^2).subs(eps==0)\\\n",
    "                           +r^2*e^(2*nu)*formal_diff(lamb, r)^2\\\n",
    "                           -8*r^2*e^(2*nu)*formal_diff(formal_diff(nu, r), r)\\\n",
    "                           +4*r*e^(2*nu)*formal_diff(lamb, r)\\\n",
    "                           +4*(32*pi*r^2*Lambda0*e^lamb + 1)*e^(2*nu))\n",
    "\n",
    "for ii in range(len(sus_func)):\n",
    "    dEq_1122 = dEq_1122.subs(sus_func[ii])\n",
    "\n",
    "ddnu_value = solve(dEq_1122^2, formal_diff(formal_diff(nu,r),r))[0].rhs().simplify_full()\n",
    "\n",
    "ddnu_paper = 2*r*formal_diff(formal_diff(nu,r),r)\\\n",
    "           + formal_diff(nu,r)*(r*formal_diff(nu,r)-2)\\\n",
    "           - formal_diff(lamb,r)*(2+r*formal_diff(nu,r))\\\n",
    "           + 4/r*(e^(lamb)-1) == 0\n",
    "ddnu_paper = solve(ddnu_paper, formal_diff(formal_diff(nu,r),r))[0].rhs()\n",
    "for ii in range(len(sus_func)):\n",
    "    ddnu_paper = ddnu_paper.subs(sus_func[ii])\n",
    "    \n",
    "ddnu_check = ddnu_value - ddnu_paper\n",
    "show(LatexExpr(\"\\\\nu'' \\\\rightarrow\"), bool(ddnu_check==0))\n",
    "\n",
    "sus_func.extend([formal_diff(formal_diff(nu,r),r)==ddnu_value])"
   ]
  },
  {
   "cell_type": "markdown",
   "metadata": {},
   "source": [
    "# <center> $G^{\\prime}_{\\mu\\nu} = \\kappa T^{\\prime}_{\\mu\\nu}$ </center>"
   ]
  },
  {
   "cell_type": "code",
   "execution_count": 21,
   "metadata": {},
   "outputs": [],
   "source": [
    "dLambdaePsie = formal_diff(LambdaePsie, eps)\n",
    "for ii in range(len(sus_func)):\n",
    "    dLambdaePsie = dLambdaePsie.subs(sus_func[ii])"
   ]
  },
  {
   "cell_type": "code",
   "execution_count": 22,
   "metadata": {},
   "outputs": [],
   "source": [
    "j = e^(-(lamb+nu)/2)\n",
    "M = r*(1-e^(-lamb))/2\n",
    "\n",
    "dG = copy(dGe)\n",
    "dT = copy(dTe)\n",
    "for ii in range(0,len(sus_func)):\n",
    "    dG = dG.subs(sus_func[ii])\n",
    "    dT = dT.subs(sus_func[ii])"
   ]
  },
  {
   "cell_type": "code",
   "execution_count": 23,
   "metadata": {},
   "outputs": [
    {
     "data": {
      "text/html": [
       "<html>\\[\\newcommand{\\Bold}[1]{\\mathbf{#1}}\\Lambda^{(1)} =  0 \\rightarrow \\mathrm{True}\\]</html>"
      ],
      "text/latex": [
       "$$\\newcommand{\\Bold}[1]{\\mathbf{#1}}\\Lambda^{(1)} =  0 \\rightarrow \\mathrm{True}$$"
      ],
      "text/plain": [
       "\\Lambda^{(1)} =  0 \\rightarrow True"
      ]
     },
     "metadata": {},
     "output_type": "display_data"
    }
   ],
   "source": [
    "Lambda1_value = formal_diff(Lambdae, eps)\n",
    "for ii in range(len(sus_func)):\n",
    "    Lambda1_value = Lambda1_value.subs(sus_func[ii])\n",
    "\n",
    "Lambda1_paper = 0\n",
    "Lambda1_check = Lambda1_value - Lambda1_paper\n",
    "\n",
    "show(LatexExpr(\"\\\\Lambda^{(1)} = \"), Lambda1_value, LatexExpr(\"\\\\rightarrow\"), bool(Lambda1_check==0))"
   ]
  },
  {
   "cell_type": "code",
   "execution_count": 24,
   "metadata": {},
   "outputs": [
    {
     "data": {
      "text/html": [
       "<html>\\[\\newcommand{\\Bold}[1]{\\mathbf{#1}}\\Psi^{(1)} =  0 \\rightarrow \\mathrm{True}\\]</html>"
      ],
      "text/latex": [
       "$$\\newcommand{\\Bold}[1]{\\mathbf{#1}}\\Psi^{(1)} =  0 \\rightarrow \\mathrm{True}$$"
      ],
      "text/plain": [
       "\\Psi^{(1)} =  0 \\rightarrow True"
      ]
     },
     "metadata": {},
     "output_type": "display_data"
    }
   ],
   "source": [
    "Psi1_value = formal_diff(Lambdae, eps) + formal_diff(LambdaePsie, eps)\n",
    "for ii in range(len(sus_func)):\n",
    "    Psi1_value = Psi1_value.subs(sus_func[ii])\n",
    "\n",
    "Psi1_paper = 0\n",
    "Psi1_check = Psi1_value - Psi1_paper\n",
    "\n",
    "show(LatexExpr(\"\\\\Psi^{(1)} = \"), Psi1_value, LatexExpr(\"\\\\rightarrow\"), bool(Psi1_check==0))"
   ]
  },
  {
   "cell_type": "code",
   "execution_count": 52,
   "metadata": {},
   "outputs": [
    {
     "data": {
      "text/html": [
       "<html>\\[\\newcommand{\\Bold}[1]{\\mathbf{#1}}\\Delta\\omega'' \\rightarrow  \\mathrm{False}\\]</html>"
      ],
      "text/latex": [
       "$$\\newcommand{\\Bold}[1]{\\mathbf{#1}}\\Delta\\omega'' \\rightarrow  \\mathrm{False}$$"
      ],
      "text/plain": [
       "\\Delta\\omega'' \\rightarrow  False"
      ]
     },
     "metadata": {},
     "output_type": "display_data"
    },
    {
     "data": {
      "text/html": [
       "<html>\\[\\newcommand{\\Bold}[1]{\\mathbf{#1}}16 \\, {\\left(\\pi {\\Omega^{(1)}_{n}} - \\pi {\\Omega^{(1)}_{p}}\\right)} e^{\\lambda\\left(r\\right)} n_0\\left(r\\right) p_0\\left(r\\right) \\frac{\\partial\\,\\Lambda_{\\varepsilon}}{\\partial \\left( n_0\\left(r\\right) p_0\\left(r\\right) \\right)}\\]</html>"
      ],
      "text/latex": [
       "$$\\newcommand{\\Bold}[1]{\\mathbf{#1}}16 \\, {\\left(\\pi {\\Omega^{(1)}_{n}} - \\pi {\\Omega^{(1)}_{p}}\\right)} e^{\\lambda\\left(r\\right)} n_0\\left(r\\right) p_0\\left(r\\right) \\frac{\\partial\\,\\Lambda_{\\varepsilon}}{\\partial \\left( n_0\\left(r\\right) p_0\\left(r\\right) \\right)}$$"
      ],
      "text/plain": [
       "16*(pi*Omegan1 - pi*Omegap1)*e^lamb(r)*n0(r)*p0(r)*d(Lambdae)/d(n0(r)*p0(r))"
      ]
     },
     "metadata": {},
     "output_type": "display_data"
    }
   ],
   "source": [
    "#De dEq el único valor que no es idénticamente nulo es 03 (y 30)\n",
    "dEq_03 = dG[0,3] - kappa*dT[0,3] == 0\n",
    "    \n",
    "ddomega_value = solve(dEq_03, formal_diff(formal_diff(omega,r),r))[0].rhs().simplify_full()\n",
    "\n",
    "Ln = omega - Omegan1\n",
    "Lp = omega-Omegap1\n",
    "\n",
    "chi0 = C*p + A*n\n",
    "for ii in range(len(sus_func)):\n",
    "    chi0 = chi0.subs(sus_func[ii])\n",
    "\n",
    "ddomega_paper = 1/(r^4)*formal_diff(r^4*e^(-(lamb+nu)/2)*formal_diff(Ln,r),r)\\\n",
    "              - 16*pi*e^((lamb-nu)/2)*(Psi0-Lambda0)*Ln\\\n",
    "              - 16*pi*e^((lamb-nu)/2)*chi0*p0*(Omegan1-Omegap1) == 0\n",
    "ddomega_paper = solve(ddomega_paper, formal_diff(formal_diff(omega,r),r))[0].rhs().simplify_full()\n",
    "\n",
    "for ii in range(len(sus_func)):\n",
    "    ddomega_value = ddomega_value.subs(sus_func[ii])\n",
    "    ddomega_paper = ddomega_paper.subs(sus_func[ii])\n",
    "\n",
    "ddomega_check = ddomega_value - ddomega_paper\n",
    "for ii in range(len(sus_func)):\n",
    "    ddomega_check = ddomega_check.subs(sus_func[ii])\n",
    "\n",
    "ddomega_check = ddomega_check.simplify_full()\n",
    "\n",
    "show(LatexExpr(\"\\\\Delta\\\\omega'' \\\\rightarrow \"), bool(ddomega_check==0))\n",
    "\n",
    "show(EN(ddomega_check))"
   ]
  },
  {
   "cell_type": "markdown",
   "metadata": {},
   "source": [
    "# <center> $G^{\\prime\\prime}_{\\mu\\nu} = \\kappa T^{\\prime\\prime}_{\\mu\\nu}$ </center>"
   ]
  },
  {
   "cell_type": "code",
   "execution_count": 26,
   "metadata": {},
   "outputs": [],
   "source": [
    "ddLambdaePsie = diff(LambdaePsie, eps, eps)\n",
    "for ii in range(len(sus_func)):\n",
    "    ddLambdaePsie = ddLambdaePsie.subs(sus_func[ii])\n",
    "\n",
    "Lambda2_value = formal_diff(formal_diff(Lambdae, eps),eps)\n",
    "Psi2_value = Lambda2_value + ddLambdaePsie\n",
    "for ii in range(len(sus_func)):\n",
    "    Lambda2_value = Lambda2_value.subs(sus_func[ii])\n",
    "    Psi2_value = Psi2_value.subs(sus_func[ii])"
   ]
  },
  {
   "cell_type": "code",
   "execution_count": 27,
   "metadata": {},
   "outputs": [],
   "source": [
    "ddG = copy(ddGe)\n",
    "ddT = copy(ddTe)\n",
    "for ii in range(len(sus_func)):\n",
    "    ddG = ddG.subs(sus_func[ii])\n",
    "    ddT = ddT.subs(sus_func[ii])"
   ]
  },
  {
   "cell_type": "markdown",
   "metadata": {},
   "source": [
    "## <center> Descomposición en $P_l(\\cos(\\theta))$ </center>"
   ]
  },
  {
   "cell_type": "code",
   "execution_count": 28,
   "metadata": {},
   "outputs": [],
   "source": [
    "h0 = function('h0', latex_name='h_0')(r)\n",
    "v0 = function('v0', latex_name='v_0')(r)\n",
    "eta0 = function('eta0', latex_name='\\\\eta_0')(r)\n",
    "Phi0 = function('Phi0', latex_name='\\\\Phi_0')(r)\n",
    "\n",
    "h2 = function('h2', latex_name='h_2')(r)\n",
    "k2 = function('k2', latex_name='k_2')(r)\n",
    "v2 = function('v2', latex_name='v_2')(r)\n",
    "eta2 = function('eta2', latex_name='\\\\eta_2')(r)\n",
    "Phi2 = function('Phi2', latex_name='\\\\Phi_2')(r)\n",
    "\n",
    "LP1 = function('LP1', latex_name='LP_1')(th)\n",
    "LP2 = function('LP2', latex_name='LP_2')(th)\n",
    "\n",
    "lp2 = (3*cos(th)^2-1)/2"
   ]
  },
  {
   "cell_type": "code",
   "execution_count": 29,
   "metadata": {},
   "outputs": [],
   "source": [
    "s_v(r,th) = v0+v2*lp2\n",
    "s_k(r,th) = k2*lp2\n",
    "s_h(r,th) = h0+h2*lp2\n",
    "s_eta(r,th) = eta0+eta2*lp2\n",
    "s_Phi(r,th) = Phi0+Phi2*lp2\n",
    "\n",
    "sus_descomp = [function('v'), s_v,\n",
    "               function('k'), s_k,\n",
    "               function('h'), s_h,\n",
    "               function('eta', latex_name=\"\\\\eta\"), s_eta,\n",
    "               function('Phi', latex_name=\"\\\\Phi\"), s_Phi]\n",
    "\n",
    "for ii in range(4):\n",
    "    for jj in range(4):\n",
    "        for kk in range(0, len(sus_descomp), 2):\n",
    "            ddG[ii,jj] = ddG[ii,jj].substitute_function(sus_descomp[kk], sus_descomp[kk+1])\n",
    "            ddT[ii,jj] = ddT[ii,jj].substitute_function(sus_descomp[kk], sus_descomp[kk+1])\n",
    "\n",
    "ddG = ddG.simplify_full()\n",
    "ddT = ddT.simplify_full()"
   ]
  },
  {
   "cell_type": "code",
   "execution_count": 30,
   "metadata": {},
   "outputs": [],
   "source": [
    "sus_legendre = [sin(th)^2 == (2/3)*(1-LP2),\n",
    "                1/sin(th)^2 == 1/((2/3)*(1-LP2)),\n",
    "                cos(th)^2 == (2*LP2+1)/3,\n",
    "                1/cos(th)^2 == 1/(2*LP2+1)/3,\n",
    "                cos(th) == LP1]"
   ]
  },
  {
   "cell_type": "markdown",
   "metadata": {},
   "source": [
    "### <center> $\\boxed{l=0}$ </center>"
   ]
  },
  {
   "cell_type": "markdown",
   "metadata": {},
   "source": [
    "Ecuación (38)"
   ]
  },
  {
   "cell_type": "code",
   "execution_count": 31,
   "metadata": {},
   "outputs": [
    {
     "data": {
      "text/html": [
       "<html>\\[\\newcommand{\\Bold}[1]{\\mathbf{#1}}\\Lambda^{(2)}_0 \\rightarrow \\mathrm{False}\\]</html>"
      ],
      "text/latex": [
       "$$\\newcommand{\\Bold}[1]{\\mathbf{#1}}\\Lambda^{(2)}_0 \\rightarrow \\mathrm{False}$$"
      ],
      "text/plain": [
       "\\Lambda^{(2)}_0 \\rightarrow False"
      ]
     },
     "metadata": {},
     "output_type": "display_data"
    },
    {
     "data": {
      "text/html": [
       "<html>\\[\\newcommand{\\Bold}[1]{\\mathbf{#1}}-\\frac{1}{3} \\, {\\left({\\Omega^{(1)}_{n}}^{2} - 2 \\, {\\Omega^{(1)}_{n}} {\\Omega^{(1)}_{p}} + {\\Omega^{(1)}_{p}}^{2}\\right)} r^{2} e^{\\left(-\\nu\\left(r\\right)\\right)} n_0\\left(r\\right) p_0\\left(r\\right) \\mathrm{D}_{2}\\left(\\Lambda_{\\varepsilon}\\right)\\left(n_0\\left(r\\right)^{2}, p_0\\left(r\\right)^{2}, n_0\\left(r\\right) p_0\\left(r\\right)\\right)\\]</html>"
      ],
      "text/latex": [
       "$$\\newcommand{\\Bold}[1]{\\mathbf{#1}}-\\frac{1}{3} \\, {\\left({\\Omega^{(1)}_{n}}^{2} - 2 \\, {\\Omega^{(1)}_{n}} {\\Omega^{(1)}_{p}} + {\\Omega^{(1)}_{p}}^{2}\\right)} r^{2} e^{\\left(-\\nu\\left(r\\right)\\right)} n_0\\left(r\\right) p_0\\left(r\\right) \\mathrm{D}_{2}\\left(\\Lambda_{\\varepsilon}\\right)\\left(n_0\\left(r\\right)^{2}, p_0\\left(r\\right)^{2}, n_0\\left(r\\right) p_0\\left(r\\right)\\right)$$"
      ],
      "text/plain": [
       "-1/3*(Omegan1^2 - 2*Omegan1*Omegap1 + Omegap1^2)*r^2*e^(-nu(r))*n0(r)*p0(r)*D[2](Lambdae)(n0(r)^2, p0(r)^2, n0(r)*p0(r))"
      ]
     },
     "metadata": {},
     "output_type": "display_data"
    }
   ],
   "source": [
    "Lambda2 = formal_diff(formal_diff(Lambdae, eps),eps).simplify_full()\n",
    "\n",
    "for ii in range(len(sus_func)):\n",
    "    Lambda2 = Lambda2.subs(sus_func[ii])\n",
    "for ii in range(0, len(sus_descomp), 2):\n",
    "    Lambda2 = Lambda2.substitute_function(sus_descomp[ii], sus_descomp[ii+1])\n",
    "for ii in range(len(sus_legendre)):\n",
    "    Lambda2 = Lambda2.subs(sus_legendre[ii])\n",
    "Lambda20 = Lambda2.subs(LP2==0)\n",
    "\n",
    "mu0 = B0*n0 + A0*p0\n",
    "Omegan2, Omegap2 = 0, 0\n",
    "Lambda20_paper = mu0*n0*eta0 + chi0*p0*Phi0 + r^2/(3*e^(nu))*A0*n0*p0*(Omegan1-Omegap1)^2\n",
    "Lambda20_paper = -Lambda20_paper\n",
    "for ii in range(len(sus_func)):\n",
    "    Lambda20_paper = Lambda20_paper.subs(sus_func[ii])\n",
    "\n",
    "Lambda20_check = (Lambda20 - Lambda20_paper).simplify_full()\n",
    "\n",
    "show(LatexExpr(\"\\\\Lambda^{(2)}_0 \\\\rightarrow\"), bool(Lambda20_check==0))\n",
    "\n",
    "show(EN(Lambda20_check))"
   ]
  },
  {
   "cell_type": "markdown",
   "metadata": {},
   "source": [
    "Ecuación (42.1)"
   ]
  },
  {
   "cell_type": "code",
   "execution_count": 32,
   "metadata": {},
   "outputs": [
    {
     "data": {
      "text/html": [
       "<html>\\[\\newcommand{\\Bold}[1]{\\mathbf{#1}}\\gamma_n \\rightarrow \\mathrm{False}\\]</html>"
      ],
      "text/latex": [
       "$$\\newcommand{\\Bold}[1]{\\mathbf{#1}}\\gamma_n \\rightarrow \\mathrm{False}$$"
      ],
      "text/plain": [
       "\\gamma_n \\rightarrow False"
      ]
     },
     "metadata": {},
     "output_type": "display_data"
    }
   ],
   "source": [
    "var('gamman', latex_name = \"\\\\gamma_n\")\n",
    "\n",
    "gamman = formal_diff(formal_diff(mue,eps),eps)/muinf\n",
    "gamman_paper = + B000*n0*eta0/mu0\\\n",
    "               + A000*p0*Phi0/mu0\\\n",
    "               + r^2/(3*e^(nu))*p0/mu0*(A0+n0*formal_diff(A,n) + n0*p0*formal_diff(A,x^2))*(Omegan1-Omegap1)^2\\\n",
    "               - r^2/(3*e^nu)*Ln^2 + h0\n",
    "gamman_check = gamman - gamman_paper\n",
    "for ii in range(len(sus_func)):\n",
    "    gamman = gamman.subs(sus_func[ii])\n",
    "    gamman_paper = gamman_paper.subs(sus_func[ii])\n",
    "    gamman_check = gamman_check.subs(sus_func[ii])\n",
    "\n",
    "gamman = gamman.simplify_full()\n",
    "\n",
    "for ii in range(0,len(sus_descomp),2):\n",
    "    gamman = gamman.substitute_function(sus_descomp[ii],sus_descomp[ii+1])\n",
    "for ii in range(len(sus_legendre)):\n",
    "    gamman = gamman.subs(sus_legendre[ii])\n",
    "\n",
    "gamman = gamman.simplify_full()\n",
    "gamman = gamman.subs(LP2==0).simplify_full()\n",
    "\n",
    "gamman_paper = gamman_paper.simplify_full()\n",
    "gamman_check = gamman_check.simplify_full()\n",
    "\n",
    "show(LatexExpr(\"\\\\gamma_n \\\\rightarrow\"), bool(gamman_check==0))\n",
    "\n",
    "show(EN(gamman_check))"
   ]
  },
  {
   "cell_type": "markdown",
   "metadata": {},
   "source": [
    "Ecuación (42.2)"
   ]
  },
  {
   "cell_type": "code",
   "execution_count": 33,
   "metadata": {},
   "outputs": [
    {
     "data": {
      "text/html": [
       "<html>\\[\\newcommand{\\Bold}[1]{\\mathbf{#1}}\\gamma_p \\rightarrow \\mathrm{False}\\]</html>"
      ],
      "text/latex": [
       "$$\\newcommand{\\Bold}[1]{\\mathbf{#1}}\\gamma_p \\rightarrow \\mathrm{False}$$"
      ],
      "text/plain": [
       "\\gamma_p \\rightarrow False"
      ]
     },
     "metadata": {},
     "output_type": "display_data"
    }
   ],
   "source": [
    "var('gammap', latex_name = \"\\\\gamma_p\")\n",
    "\n",
    "gammap = formal_diff(formal_diff(mue,eps),eps)/muinf\n",
    "gammap_paper = + C000*p0*Phi0/chi0\\\n",
    "               + A000*n0*eta0/chi0\\\n",
    "               + r^2/(3*e^(nu))*n0/chi0*(A0+p0*formal_diff(A,p) + n0*p0*formal_diff(A,x^2))*(Omegan1-Omegap1)^2\\\n",
    "               - r^2/(3*e^nu)*Lp^2 + h0\n",
    "gammap_check = gammap - gammap_paper\n",
    "for ii in range(len(sus_func)):\n",
    "    gammap = gammap.subs(sus_func[ii])\n",
    "    gammap_paper = gammap_paper.subs(sus_func[ii])\n",
    "    gammap_check = gammap_check.subs(sus_func[ii])\n",
    "\n",
    "gammap = gammap.simplify_full()\n",
    "\n",
    "for ii in range(0,len(sus_descomp),2):\n",
    "    gammap = gammap.substitute_function(sus_descomp[ii],sus_descomp[ii+1])\n",
    "for ii in range(len(sus_legendre)):\n",
    "    gammap = gammap.subs(sus_legendre[ii])\n",
    "\n",
    "gammap = gammap.simplify_full()\n",
    "gammap = gammap.subs(LP2==0).simplify_full()\n",
    "\n",
    "gammap_paper = gammap_paper.simplify_full()\n",
    "gammap_check = gammap_check.simplify_full()\n",
    "\n",
    "show(LatexExpr(\"\\\\gamma_p \\\\rightarrow\"), bool(gammap_check==0))\n",
    "\n",
    "show(EN(gammap_check))"
   ]
  },
  {
   "cell_type": "markdown",
   "metadata": {},
   "source": [
    "Ecuación (47)"
   ]
  },
  {
   "cell_type": "code",
   "execution_count": 34,
   "metadata": {},
   "outputs": [
    {
     "data": {
      "text/html": [
       "<html>\\[\\newcommand{\\Bold}[1]{\\mathbf{#1}}\\text{Ecuación (47) }\\rightarrow \\mathrm{False}\\]</html>"
      ],
      "text/latex": [
       "$$\\newcommand{\\Bold}[1]{\\mathbf{#1}}\\text{Ecuación (47) }\\rightarrow \\mathrm{False}$$"
      ],
      "text/plain": [
       "\\text{Ecuación (47) }\\rightarrow False"
      ]
     },
     "metadata": {},
     "output_type": "display_data"
    }
   ],
   "source": [
    "ddEq_00 = ddG[0,0] - kappa*ddT[0,0]\n",
    "\n",
    "ddEq_00_paper = 16*pi*r^2/(3*e^(nu))*((Psi0-Lambda0)*Ln^2\\\n",
    "                                      + chi0*p0*(Omegan1-Omegap1)*(Ln+Lp)\\\n",
    "                                      - A0*n0*p0*(Omegan1-Omegap1)^2)\\\n",
    "              + 8*pi*(-Lambda2)\\\n",
    "              - 2/r^2*formal_diff(r/e^(lamb)*v0,r)\\\n",
    "              + r^2/(6*e^(lamb+nu))*(formal_diff(Ln,r))^2\n",
    "\n",
    "for ii in range(len(sus_func)):\n",
    "    ddEq_00 = ddEq_00.subs(sus_func[ii])\n",
    "    ddEq_00_paper = ddEq_00_paper.subs(sus_func[ii])\n",
    "    \n",
    "for ii in range(0,len(sus_descomp),2):\n",
    "    ddEq_00 = ddEq_00.substitute_function(sus_descomp[ii], sus_descomp[ii+1])\n",
    "    ddEq_00_paper = ddEq_00_paper.substitute_function(sus_descomp[ii], sus_descomp[ii+1])\n",
    "\n",
    "ddEq_00 = ddEq_00.simplify_full()\n",
    "ddEq_00_paper = ddEq_00_paper.simplify_full()\n",
    "for ii in range(len(sus_legendre)):\n",
    "    ddEq_00 = ddEq_00.subs(sus_legendre[ii])\n",
    "    ddEq_00_paper = ddEq_00_paper.subs(sus_legendre[ii])\n",
    "\n",
    "ddEq_00 = ddEq_00.subs(LP2==0)\n",
    "ddEq_00_paper = ddEq_00_paper.subs(LP2==0)\n",
    "ddEq_00_check = ddEq_00 - ddEq_00_paper\n",
    "\n",
    "show(LatexExpr(\"\\\\text{Ecuación (47) }\\\\rightarrow\"), bool(ddEq_00_check==0))\n",
    "\n",
    "show(EN(ddEq_00_check))"
   ]
  },
  {
   "cell_type": "markdown",
   "metadata": {},
   "source": [
    "Ecuación (49)"
   ]
  },
  {
   "cell_type": "code",
   "execution_count": 35,
   "metadata": {},
   "outputs": [
    {
     "data": {
      "text/html": [
       "<html>\\[\\newcommand{\\Bold}[1]{\\mathbf{#1}}\\text{Ecuación (49) }\\rightarrow \\mathrm{False}\\]</html>"
      ],
      "text/latex": [
       "$$\\newcommand{\\Bold}[1]{\\mathbf{#1}}\\text{Ecuación (49) }\\rightarrow \\mathrm{False}$$"
      ],
      "text/plain": [
       "\\text{Ecuación (49) }\\rightarrow False"
      ]
     },
     "metadata": {},
     "output_type": "display_data"
    }
   ],
   "source": [
    "ddEq_11 = ddG[1,1] - kappa*ddT[1,1]\n",
    "\n",
    "ddEq_11_paper = 2/(r*e^(lamb))*formal_diff(h0,r)\\\n",
    "              - 2/(r*e^(lamb))*(formal_diff(nu,r)+1/r)*v0\\\n",
    "              + r^2/(6*e^(nu+lamb))*formal_diff(Ln,r)^2\\\n",
    "              - 8*pi*(mu0*n0*gamman + chi0*p0*gammap\\\n",
    "                      - (Psi0 - Lambda0)*h0 + r^2/(3*e^(nu))*(mu0*n0*Ln^2 + chi0*p0*Lp^2)\\\n",
    "                      - r^2/(3*e^(nu))*n0*p0*A0*(Omegan1 - Omegap1)^2)\n",
    "\n",
    "for ii in range(len(sus_func)):\n",
    "    ddEq_11 = ddEq_11.subs(sus_func[ii])\n",
    "    ddEq_11_paper = ddEq_11_paper.subs(sus_func[ii])\n",
    "    \n",
    "for ii in range(0,len(sus_descomp),2):\n",
    "    ddEq_11 = ddEq_11.substitute_function(sus_descomp[ii], sus_descomp[ii+1])\n",
    "    ddEq_11_paper = ddEq_11_paper.substitute_function(sus_descomp[ii], sus_descomp[ii+1])\n",
    "\n",
    "ddEq_11 = ddEq_11.simplify_full()\n",
    "ddEq_11_paper = ddEq_11_paper.simplify_full()\n",
    "for ii in range(len(sus_legendre)):\n",
    "    ddEq_11 = ddEq_11.subs(sus_legendre[ii])\n",
    "    ddEq_11_paper = ddEq_11_paper.subs(sus_legendre[ii])\n",
    "\n",
    "ddEq_11 = ddEq_11.subs(LP2==0)\n",
    "ddEq_11_paper = ddEq_11_paper.subs(LP2==0)\n",
    "ddEq_11_check = ddEq_11 - ddEq_11_paper\n",
    "\n",
    "show(LatexExpr(\"\\\\text{Ecuación (49) }\\\\rightarrow\"), bool(ddEq_11_check==0))\n",
    "\n",
    "show(EN(ddEq_11_check))"
   ]
  },
  {
   "cell_type": "markdown",
   "metadata": {},
   "source": [
    "### <center> $\\boxed{l=2}$ </center>"
   ]
  },
  {
   "cell_type": "markdown",
   "metadata": {},
   "source": [
    "Ecuación (39)"
   ]
  },
  {
   "cell_type": "code",
   "execution_count": 36,
   "metadata": {},
   "outputs": [
    {
     "data": {
      "text/html": [
       "<html>\\[\\newcommand{\\Bold}[1]{\\mathbf{#1}}\\Lambda^{(2)}_2 \\rightarrow \\mathrm{True}\\]</html>"
      ],
      "text/latex": [
       "$$\\newcommand{\\Bold}[1]{\\mathbf{#1}}\\Lambda^{(2)}_2 \\rightarrow \\mathrm{True}$$"
      ],
      "text/plain": [
       "\\Lambda^{(2)}_2 \\rightarrow True"
      ]
     },
     "metadata": {},
     "output_type": "display_data"
    }
   ],
   "source": [
    "Lambda2 = formal_diff(formal_diff(Lambdae, eps),eps).simplify_full()\n",
    "\n",
    "for ii in range(len(sus_func)):\n",
    "    Lambda2 = Lambda2.subs(sus_func[ii])\n",
    "for ii in range(0, len(sus_descomp), 2):\n",
    "    Lambda2 = Lambda2.substitute_function(sus_descomp[ii], sus_descomp[ii+1])\n",
    "for ii in range(len(sus_legendre)):\n",
    "    Lambda2 = Lambda2.subs(sus_legendre[ii])\n",
    "Lambda22 = (Lambda2 - Lambda2.subs(LP2==0))/LP2\n",
    "\n",
    "Lambda22_paper = mu0*n0*eta2 + chi0*p0*Phi2 - r^2/(3*e^(nu))*A0*n0*p0*(Omegan1-Omegap1)^2\n",
    "Lambda22_paper = -Lambda22_paper\n",
    "for ii in range(len(sus_func)):\n",
    "    Lambda22_paper = Lambda22_paper.subs(sus_func[ii])\n",
    "\n",
    "Lambda22_check = (Lambda22 - Lambda22_paper).simplify_full()\n",
    "\n",
    "show(LatexExpr(\"\\\\Lambda^{(2)}_2 \\\\rightarrow\"), bool(Lambda22_check==0))\n",
    "\n",
    "show(EN(Lambda22_check))"
   ]
  },
  {
   "cell_type": "markdown",
   "metadata": {},
   "source": [
    "Ecuación (43.1)"
   ]
  },
  {
   "cell_type": "code",
   "execution_count": 37,
   "metadata": {},
   "outputs": [
    {
     "data": {
      "text/html": [
       "<html>\\[\\newcommand{\\Bold}[1]{\\mathbf{#1}}\\text{Ecuación (43.1) }\\rightarrow \\mathrm{False}\\]</html>"
      ],
      "text/latex": [
       "$$\\newcommand{\\Bold}[1]{\\mathbf{#1}}\\text{Ecuación (43.1) }\\rightarrow \\mathrm{False}$$"
      ],
      "text/plain": [
       "\\text{Ecuación (43.1) }\\rightarrow False"
      ]
     },
     "metadata": {},
     "output_type": "display_data"
    }
   ],
   "source": [
    "Eq_43_1 = formal_diff(formal_diff(mue,eps),eps)/muinf\n",
    "Eq_43_1_paper = + B000*n0*eta2/mu0\\\n",
    "                + A000*p0*Phi2/mu0\\\n",
    "                - r^2/(3*e^(nu))*p0/mu0*(A0+n0*formal_diff(A,n) + n0*p0*formal_diff(A,x^2))*(Omegan1-Omegap1)^2\\\n",
    "                + r^2/(3*e^nu)*Ln^2 + h2\n",
    "Eq_43_1_check = Eq_43_1 - Eq_43_1_paper\n",
    "for ii in range(len(sus_func)):\n",
    "    Eq_43_1 = Eq_43_1.subs(sus_func[ii])\n",
    "    Eq_43_1_paper = Eq_43_1_paper.subs(sus_func[ii])\n",
    "    Eq_43_1_check = Eq_43_1_check.subs(sus_func[ii])\n",
    "\n",
    "Eq_43_1 = Eq_43_1.simplify_full()\n",
    "\n",
    "for ii in range(len(sus_legendre)):\n",
    "    Eq_43_1 = Eq_43_1.subs(sus_legendre[ii])\n",
    "    Eq_43_1_paper = Eq_43_1_paper.subs(sus_legendre[ii])\n",
    "\n",
    "Eq_43_1 = Eq_43_1.simplify_full()\n",
    "Eq_43_1 = (Eq_43_1 - Eq_43_1.subs(LP2==0))/LP2\n",
    "Eq_43_1_paper = (Eq_43_1_paper - Eq_43_1_paper.subs(LP2==0))/LP2\n",
    "Eq_43_1 = Eq_43_1.simplify_full()\n",
    "\n",
    "Eq_43_1_paper = Eq_43_1_paper.simplify_full()\n",
    "Eq_43_1_check = Eq_43_1_check.simplify_full()\n",
    "\n",
    "show(LatexExpr(\"\\\\text{Ecuación (43.1) }\\\\rightarrow\"), bool(Eq_43_1_check==0))\n",
    "\n",
    "show(EN(Eq_43_1_check))"
   ]
  },
  {
   "cell_type": "markdown",
   "metadata": {},
   "source": [
    "Ecuación (43.2)"
   ]
  },
  {
   "cell_type": "code",
   "execution_count": 38,
   "metadata": {},
   "outputs": [
    {
     "data": {
      "text/html": [
       "<html>\\[\\newcommand{\\Bold}[1]{\\mathbf{#1}}\\text{Ecuación (43.2) }\\rightarrow \\mathrm{False}\\]</html>"
      ],
      "text/latex": [
       "$$\\newcommand{\\Bold}[1]{\\mathbf{#1}}\\text{Ecuación (43.2) }\\rightarrow \\mathrm{False}$$"
      ],
      "text/plain": [
       "\\text{Ecuación (43.2) }\\rightarrow False"
      ]
     },
     "metadata": {},
     "output_type": "display_data"
    }
   ],
   "source": [
    "var('gamman', latex_name = \"\\\\gamma_n\")\n",
    "\n",
    "Eq_43_2 = formal_diff(formal_diff(mue,eps),eps)/muinf\n",
    "Eq_43_2_paper = + C000*p0*Phi2/chi0\\\n",
    "                + A000*n0*eta2/chi0\\\n",
    "                - r^2/(3*e^(nu))*n0/chi0*(A0+p0*formal_diff(A,p) + n0*p0*formal_diff(A,x^2))*(Omegan1-Omegap1)^2\\\n",
    "                + r^2/(3*e^nu)*Lp^2 + h2\n",
    "Eq_43_2_check = Eq_43_2 - Eq_43_2_paper\n",
    "for ii in range(len(sus_func)):\n",
    "    Eq_43_2 = Eq_43_2.subs(sus_func[ii])\n",
    "    Eq_43_2_paper = Eq_43_2_paper.subs(sus_func[ii])\n",
    "    Eq_43_2_check = Eq_43_2_check.subs(sus_func[ii])\n",
    "\n",
    "Eq_43_2 = Eq_43_2.simplify_full()\n",
    "\n",
    "for ii in range(len(sus_legendre)):\n",
    "    Eq_43_2 = Eq_43_2.subs(sus_legendre[ii])\n",
    "\n",
    "Eq_43_2 = Eq_43_2.simplify_full()\n",
    "Eq_43_2 = (Eq_43_2 - Eq_43_2.subs(LP2==0))/LP2\n",
    "Eq_43_2 = Eq_43_2.simplify_full()\n",
    "\n",
    "Eq_43_2_paper = Eq_43_2_paper.simplify_full()\n",
    "Eq_43_2_paper = (Eq_43_2_paper - Eq_43_2_paper.subs(LP2==0))/LP2\n",
    "Eq_43_2_paper = Eq_43_2_paper.simplify_full()\n",
    "\n",
    "Eq_43_2_check = Eq_43_2_check.simplify_full()\n",
    "\n",
    "show(LatexExpr(\"\\\\text{Ecuación (43.2) }\\\\rightarrow\"), bool(Eq_43_2_check==0))\n",
    "\n",
    "show(EN(Eq_43_2_check))"
   ]
  },
  {
   "cell_type": "markdown",
   "metadata": {},
   "source": [
    "Ecuación (45)"
   ]
  },
  {
   "cell_type": "code",
   "execution_count": 40,
   "metadata": {},
   "outputs": [
    {
     "data": {
      "text/html": [
       "<html>\\[\\newcommand{\\Bold}[1]{\\mathbf{#1}}h_2 \\rightarrow \\mathrm{False}\\]</html>"
      ],
      "text/latex": [
       "$$\\newcommand{\\Bold}[1]{\\mathbf{#1}}h_2 \\rightarrow \\mathrm{False}$$"
      ],
      "text/plain": [
       "h_2 \\rightarrow False"
      ]
     },
     "metadata": {},
     "output_type": "display_data"
    },
    {
     "data": {
      "text/html": [
       "<html>\\[\\newcommand{\\Bold}[1]{\\mathbf{#1}}-\\frac{256 \\, \\pi {\\Omega^{(1)}_{n}} r^{4} e^{\\lambda\\left(r\\right)} n_0\\left(r\\right)^{2} \\omega\\left(r\\right) \\mathrm{D}_{0}\\left(\\Lambda_{\\varepsilon}\\right)\\left(n_0\\left(r\\right)^{2}, p_0\\left(r\\right)^{2}, n_0\\left(r\\right) p_0\\left(r\\right)\\right) - 128 \\, \\pi r^{4} e^{\\lambda\\left(r\\right)} n_0\\left(r\\right)^{2} \\omega\\left(r\\right)^{2} \\mathrm{D}_{0}\\left(\\Lambda_{\\varepsilon}\\right)\\left(n_0\\left(r\\right)^{2}, p_0\\left(r\\right)^{2}, n_0\\left(r\\right) p_0\\left(r\\right)\\right) - 128 \\, \\pi r^{2} e^{\\left(\\lambda\\left(r\\right) + \\nu\\left(r\\right)\\right)} n_0\\left(r\\right)^{2} v_0\\left(r\\right) \\mathrm{D}_{0}\\left(\\Lambda_{\\varepsilon}\\right)\\left(n_0\\left(r\\right)^{2}, p_0\\left(r\\right)^{2}, n_0\\left(r\\right) p_0\\left(r\\right)\\right) - 320 \\, \\pi r^{2} e^{\\left(\\lambda\\left(r\\right) + \\nu\\left(r\\right)\\right)} n_0\\left(r\\right)^{2} v_2\\left(r\\right) \\mathrm{D}_{0}\\left(\\Lambda_{\\varepsilon}\\right)\\left(n_0\\left(r\\right)^{2}, p_0\\left(r\\right)^{2}, n_0\\left(r\\right) p_0\\left(r\\right)\\right) - 32 \\, {\\left(2 \\, \\pi r^{2} \\Phi_0\\left(r\\right) e^{\\left(\\lambda\\left(r\\right) + \\nu\\left(r\\right)\\right)} + 5 \\, \\pi r^{2} \\Phi_2\\left(r\\right) e^{\\left(\\lambda\\left(r\\right) + \\nu\\left(r\\right)\\right)}\\right)} p_0\\left(r\\right)^{4} \\mathrm{D}_{1, 1}\\left(\\Lambda_{\\varepsilon}\\right)\\left(n_0\\left(r\\right)^{2}, p_0\\left(r\\right)^{2}, n_0\\left(r\\right) p_0\\left(r\\right)\\right) - 16 \\, {\\left(2 \\, \\pi r^{2} \\Phi_0\\left(r\\right) e^{\\left(\\lambda\\left(r\\right) + \\nu\\left(r\\right)\\right)} + 5 \\, \\pi r^{2} \\Phi_2\\left(r\\right) e^{\\left(\\lambda\\left(r\\right) + \\nu\\left(r\\right)\\right)} + 2 \\, \\pi r^{2} \\eta_0\\left(r\\right) e^{\\left(\\lambda\\left(r\\right) + \\nu\\left(r\\right)\\right)} + 5 \\, \\pi r^{2} \\eta_2\\left(r\\right) e^{\\left(\\lambda\\left(r\\right) + \\nu\\left(r\\right)\\right)}\\right)} n_0\\left(r\\right) p_0\\left(r\\right)^{3} \\mathrm{D}_{1, 2}\\left(\\Lambda_{\\varepsilon}\\right)\\left(n_0\\left(r\\right)^{2}, p_0\\left(r\\right)^{2}, n_0\\left(r\\right) p_0\\left(r\\right)\\right) + 3 \\, r^{4} \\frac{\\partial}{\\partial r}\\omega\\left(r\\right)^{2} + 3 \\, {\\left(128 \\, \\pi {\\Omega^{(1)}_{n}} r^{4} e^{\\lambda\\left(r\\right)} n_0\\left(r\\right)^{2} \\omega\\left(r\\right) \\mathrm{D}_{0}\\left(\\Lambda_{\\varepsilon}\\right)\\left(n_0\\left(r\\right)^{2}, p_0\\left(r\\right)^{2}, n_0\\left(r\\right) p_0\\left(r\\right)\\right) - 64 \\, \\pi r^{4} e^{\\lambda\\left(r\\right)} n_0\\left(r\\right)^{2} \\omega\\left(r\\right)^{2} \\mathrm{D}_{0}\\left(\\Lambda_{\\varepsilon}\\right)\\left(n_0\\left(r\\right)^{2}, p_0\\left(r\\right)^{2}, n_0\\left(r\\right) p_0\\left(r\\right)\\right) - 96 \\, \\pi r^{2} \\eta_2\\left(r\\right) e^{\\left(\\lambda\\left(r\\right) + \\nu\\left(r\\right)\\right)} n_0\\left(r\\right)^{4} \\mathrm{D}_{0, 0}\\left(\\Lambda_{\\varepsilon}\\right)\\left(n_0\\left(r\\right)^{2}, p_0\\left(r\\right)^{2}, n_0\\left(r\\right) p_0\\left(r\\right)\\right) - 96 \\, \\pi r^{2} \\Phi_2\\left(r\\right) e^{\\left(\\lambda\\left(r\\right) + \\nu\\left(r\\right)\\right)} p_0\\left(r\\right)^{4} \\mathrm{D}_{1, 1}\\left(\\Lambda_{\\varepsilon}\\right)\\left(n_0\\left(r\\right)^{2}, p_0\\left(r\\right)^{2}, n_0\\left(r\\right) p_0\\left(r\\right)\\right) - 192 \\, \\pi r^{2} e^{\\left(\\lambda\\left(r\\right) + \\nu\\left(r\\right)\\right)} n_0\\left(r\\right)^{2} v_2\\left(r\\right) \\mathrm{D}_{0}\\left(\\Lambda_{\\varepsilon}\\right)\\left(n_0\\left(r\\right)^{2}, p_0\\left(r\\right)^{2}, n_0\\left(r\\right) p_0\\left(r\\right)\\right) - 48 \\, {\\left(\\pi r^{2} \\Phi_2\\left(r\\right) e^{\\left(\\lambda\\left(r\\right) + \\nu\\left(r\\right)\\right)} + \\pi r^{2} \\eta_2\\left(r\\right) e^{\\left(\\lambda\\left(r\\right) + \\nu\\left(r\\right)\\right)}\\right)} n_0\\left(r\\right) p_0\\left(r\\right)^{3} \\mathrm{D}_{1, 2}\\left(\\Lambda_{\\varepsilon}\\right)\\left(n_0\\left(r\\right)^{2}, p_0\\left(r\\right)^{2}, n_0\\left(r\\right) p_0\\left(r\\right)\\right) + r^{4} \\frac{\\partial}{\\partial r}\\omega\\left(r\\right)^{2} - 48 \\, {\\left(\\pi r^{2} \\Phi_2\\left(r\\right) e^{\\left(\\lambda\\left(r\\right) + \\nu\\left(r\\right)\\right)} \\mathrm{D}_{0, 2}\\left(\\Lambda_{\\varepsilon}\\right)\\left(n_0\\left(r\\right)^{2}, p_0\\left(r\\right)^{2}, n_0\\left(r\\right) p_0\\left(r\\right)\\right) + \\pi r^{2} \\eta_2\\left(r\\right) e^{\\left(\\lambda\\left(r\\right) + \\nu\\left(r\\right)\\right)} \\mathrm{D}_{0, 2}\\left(\\Lambda_{\\varepsilon}\\right)\\left(n_0\\left(r\\right)^{2}, p_0\\left(r\\right)^{2}, n_0\\left(r\\right) p_0\\left(r\\right)\\right)\\right)} n_0\\left(r\\right)^{3} p_0\\left(r\\right) - 96 \\, {\\left(\\pi r^{2} \\Phi_2\\left(r\\right) e^{\\left(\\lambda\\left(r\\right) + \\nu\\left(r\\right)\\right)} \\mathrm{D}_{0, 1}\\left(\\Lambda_{\\varepsilon}\\right)\\left(n_0\\left(r\\right)^{2}, p_0\\left(r\\right)^{2}, n_0\\left(r\\right) p_0\\left(r\\right)\\right) + \\pi r^{2} \\eta_2\\left(r\\right) e^{\\left(\\lambda\\left(r\\right) + \\nu\\left(r\\right)\\right)} \\mathrm{D}_{0, 1}\\left(\\Lambda_{\\varepsilon}\\right)\\left(n_0\\left(r\\right)^{2}, p_0\\left(r\\right)^{2}, n_0\\left(r\\right) p_0\\left(r\\right)\\right)\\right)} n_0\\left(r\\right)^{2} p_0\\left(r\\right)^{2} - 6 \\, r^{2} e^{\\nu\\left(r\\right)} \\frac{\\partial^{2}}{(\\partial r)^{2}}h_2\\left(r\\right) - 6 \\, r^{2} e^{\\nu\\left(r\\right)} \\frac{\\partial^{2}}{(\\partial r)^{2}}k_2\\left(r\\right) - 16 \\, {\\left(4 \\, \\pi {\\Omega^{(1)}_{n}}^{2} r^{4} e^{\\lambda\\left(r\\right)} \\mathrm{D}_{0}\\left(\\Lambda_{\\varepsilon}\\right)\\left(n_0\\left(r\\right)^{2}, p_0\\left(r\\right)^{2}, n_0\\left(r\\right) p_0\\left(r\\right)\\right) + 3 \\, \\pi r^{2} \\eta_2\\left(r\\right) e^{\\left(\\lambda\\left(r\\right) + \\nu\\left(r\\right)\\right)} \\mathrm{D}_{0}\\left(\\Lambda_{\\varepsilon}\\right)\\left(n_0\\left(r\\right)^{2}, p_0\\left(r\\right)^{2}, n_0\\left(r\\right) p_0\\left(r\\right)\\right)\\right)} n_0\\left(r\\right)^{2} - 8 \\, {\\left(16 \\, {\\left(\\pi {\\Omega^{(1)}_{n}} - \\pi {\\Omega^{(1)}_{p}}\\right)} r^{4} e^{\\lambda\\left(r\\right)} n_0\\left(r\\right) \\omega\\left(r\\right) - {\\left(16 \\, {\\left(\\pi {\\Omega^{(1)}_{n}}^{2} - \\pi {\\Omega^{(1)}_{n}} {\\Omega^{(1)}_{p}}\\right)} r^{4} e^{\\lambda\\left(r\\right)} + 3 \\, \\pi r^{2} \\Phi_2\\left(r\\right) e^{\\left(\\lambda\\left(r\\right) + \\nu\\left(r\\right)\\right)} + 3 \\, \\pi r^{2} \\eta_2\\left(r\\right) e^{\\left(\\lambda\\left(r\\right) + \\nu\\left(r\\right)\\right)}\\right)} n_0\\left(r\\right)\\right)} p_0\\left(r\\right) \\mathrm{D}_{2}\\left(\\Lambda_{\\varepsilon}\\right)\\left(n_0\\left(r\\right)^{2}, p_0\\left(r\\right)^{2}, n_0\\left(r\\right) p_0\\left(r\\right)\\right) - 24 \\, {\\left(3 \\, \\pi r^{3} e^{\\left(\\lambda\\left(r\\right) + \\nu\\left(r\\right)\\right)} \\frac{\\partial}{\\partial r}h_2\\left(r\\right) + 2 \\, \\pi r^{3} e^{\\left(\\lambda\\left(r\\right) + \\nu\\left(r\\right)\\right)} \\frac{\\partial}{\\partial r}k_2\\left(r\\right) - 4 \\, \\pi r^{2} e^{\\left(\\lambda\\left(r\\right) + \\nu\\left(r\\right)\\right)} v_2\\left(r\\right)\\right)} \\Lambda_{\\varepsilon}\\left(n_0\\left(r\\right)^{2}, p_0\\left(r\\right)^{2}, n_0\\left(r\\right) p_0\\left(r\\right)\\right) + 16 \\, {\\left(6 \\, \\pi r^{3} e^{\\left(\\lambda\\left(r\\right) + \\nu\\left(r\\right)\\right)} p_0\\left(r\\right)^{2} \\frac{\\partial}{\\partial r}h_2\\left(r\\right) + 3 \\, \\pi r^{3} e^{\\left(\\lambda\\left(r\\right) + \\nu\\left(r\\right)\\right)} p_0\\left(r\\right)^{2} \\frac{\\partial}{\\partial r}k_2\\left(r\\right) - 3 \\, \\pi r^{3} e^{\\left(\\lambda\\left(r\\right) + \\nu\\left(r\\right)\\right)} p_0\\left(r\\right)^{2} \\frac{\\partial}{\\partial r}v_2\\left(r\\right) - 12 \\, \\pi r^{2} e^{\\left(\\lambda\\left(r\\right) + \\nu\\left(r\\right)\\right)} p_0\\left(r\\right)^{2} v_2\\left(r\\right) - {\\left(4 \\, \\pi {\\Omega^{(1)}_{p}}^{2} r^{4} e^{\\lambda\\left(r\\right)} - 8 \\, \\pi {\\Omega^{(1)}_{p}} r^{4} e^{\\lambda\\left(r\\right)} \\omega\\left(r\\right) + 4 \\, \\pi r^{4} e^{\\lambda\\left(r\\right)} \\omega\\left(r\\right)^{2} + 3 \\, \\pi r^{2} \\Phi_2\\left(r\\right) e^{\\left(\\lambda\\left(r\\right) + \\nu\\left(r\\right)\\right)}\\right)} p_0\\left(r\\right)^{2}\\right)} \\mathrm{D}_{1}\\left(\\Lambda_{\\varepsilon}\\right)\\left(n_0\\left(r\\right)^{2}, p_0\\left(r\\right)^{2}, n_0\\left(r\\right) p_0\\left(r\\right)\\right) + 3 \\, {\\left(32 \\, \\pi r^{3} e^{\\left(\\lambda\\left(r\\right) + \\nu\\left(r\\right)\\right)} n_0\\left(r\\right)^{2} \\mathrm{D}_{0}\\left(\\Lambda_{\\varepsilon}\\right)\\left(n_0\\left(r\\right)^{2}, p_0\\left(r\\right)^{2}, n_0\\left(r\\right) p_0\\left(r\\right)\\right) - {\\left(3 \\, r e^{\\lambda\\left(r\\right)} - r\\right)} e^{\\nu\\left(r\\right)}\\right)} \\frac{\\partial}{\\partial r}h_2\\left(r\\right) + 6 \\, {\\left(8 \\, \\pi r^{3} e^{\\left(\\lambda\\left(r\\right) + \\nu\\left(r\\right)\\right)} n_0\\left(r\\right)^{2} \\mathrm{D}_{0}\\left(\\Lambda_{\\varepsilon}\\right)\\left(n_0\\left(r\\right)^{2}, p_0\\left(r\\right)^{2}, n_0\\left(r\\right) p_0\\left(r\\right)\\right) - {\\left(r e^{\\lambda\\left(r\\right)} + r\\right)} e^{\\nu\\left(r\\right)}\\right)} \\frac{\\partial}{\\partial r}k_2\\left(r\\right) - 3 \\, {\\left(16 \\, \\pi r^{3} e^{\\left(\\lambda\\left(r\\right) + \\nu\\left(r\\right)\\right)} n_0\\left(r\\right)^{2} \\mathrm{D}_{0}\\left(\\Lambda_{\\varepsilon}\\right)\\left(n_0\\left(r\\right)^{2}, p_0\\left(r\\right)^{2}, n_0\\left(r\\right) p_0\\left(r\\right)\\right) - 8 \\, \\pi r^{3} \\Lambda_{\\varepsilon}\\left(n_0\\left(r\\right)^{2}, p_0\\left(r\\right)^{2}, n_0\\left(r\\right) p_0\\left(r\\right)\\right) e^{\\left(\\lambda\\left(r\\right) + \\nu\\left(r\\right)\\right)} - {\\left(r e^{\\lambda\\left(r\\right)} + r\\right)} e^{\\nu\\left(r\\right)}\\right)} \\frac{\\partial}{\\partial r}v_2\\left(r\\right)\\right)} \\cos\\left({\\theta}\\right)^{4} - 32 \\, {\\left(2 \\, \\pi r^{2} \\eta_0\\left(r\\right) e^{\\left(\\lambda\\left(r\\right) + \\nu\\left(r\\right)\\right)} \\mathrm{D}_{0, 0}\\left(\\Lambda_{\\varepsilon}\\right)\\left(n_0\\left(r\\right)^{2}, p_0\\left(r\\right)^{2}, n_0\\left(r\\right) p_0\\left(r\\right)\\right) + 5 \\, \\pi r^{2} \\eta_2\\left(r\\right) e^{\\left(\\lambda\\left(r\\right) + \\nu\\left(r\\right)\\right)} \\mathrm{D}_{0, 0}\\left(\\Lambda_{\\varepsilon}\\right)\\left(n_0\\left(r\\right)^{2}, p_0\\left(r\\right)^{2}, n_0\\left(r\\right) p_0\\left(r\\right)\\right)\\right)} n_0\\left(r\\right)^{4} - 16 \\, {\\left(2 \\, \\pi r^{2} \\Phi_0\\left(r\\right) e^{\\left(\\lambda\\left(r\\right) + \\nu\\left(r\\right)\\right)} \\mathrm{D}_{0, 2}\\left(\\Lambda_{\\varepsilon}\\right)\\left(n_0\\left(r\\right)^{2}, p_0\\left(r\\right)^{2}, n_0\\left(r\\right) p_0\\left(r\\right)\\right) + 5 \\, \\pi r^{2} \\Phi_2\\left(r\\right) e^{\\left(\\lambda\\left(r\\right) + \\nu\\left(r\\right)\\right)} \\mathrm{D}_{0, 2}\\left(\\Lambda_{\\varepsilon}\\right)\\left(n_0\\left(r\\right)^{2}, p_0\\left(r\\right)^{2}, n_0\\left(r\\right) p_0\\left(r\\right)\\right) + 2 \\, \\pi r^{2} \\eta_0\\left(r\\right) e^{\\left(\\lambda\\left(r\\right) + \\nu\\left(r\\right)\\right)} \\mathrm{D}_{0, 2}\\left(\\Lambda_{\\varepsilon}\\right)\\left(n_0\\left(r\\right)^{2}, p_0\\left(r\\right)^{2}, n_0\\left(r\\right) p_0\\left(r\\right)\\right) + 5 \\, \\pi r^{2} \\eta_2\\left(r\\right) e^{\\left(\\lambda\\left(r\\right) + \\nu\\left(r\\right)\\right)} \\mathrm{D}_{0, 2}\\left(\\Lambda_{\\varepsilon}\\right)\\left(n_0\\left(r\\right)^{2}, p_0\\left(r\\right)^{2}, n_0\\left(r\\right) p_0\\left(r\\right)\\right)\\right)} n_0\\left(r\\right)^{3} p_0\\left(r\\right) - 32 \\, {\\left(2 \\, \\pi r^{2} \\Phi_0\\left(r\\right) e^{\\left(\\lambda\\left(r\\right) + \\nu\\left(r\\right)\\right)} \\mathrm{D}_{0, 1}\\left(\\Lambda_{\\varepsilon}\\right)\\left(n_0\\left(r\\right)^{2}, p_0\\left(r\\right)^{2}, n_0\\left(r\\right) p_0\\left(r\\right)\\right) + 5 \\, \\pi r^{2} \\Phi_2\\left(r\\right) e^{\\left(\\lambda\\left(r\\right) + \\nu\\left(r\\right)\\right)} \\mathrm{D}_{0, 1}\\left(\\Lambda_{\\varepsilon}\\right)\\left(n_0\\left(r\\right)^{2}, p_0\\left(r\\right)^{2}, n_0\\left(r\\right) p_0\\left(r\\right)\\right) + 2 \\, \\pi r^{2} \\eta_0\\left(r\\right) e^{\\left(\\lambda\\left(r\\right) + \\nu\\left(r\\right)\\right)} \\mathrm{D}_{0, 1}\\left(\\Lambda_{\\varepsilon}\\right)\\left(n_0\\left(r\\right)^{2}, p_0\\left(r\\right)^{2}, n_0\\left(r\\right) p_0\\left(r\\right)\\right) + 5 \\, \\pi r^{2} \\eta_2\\left(r\\right) e^{\\left(\\lambda\\left(r\\right) + \\nu\\left(r\\right)\\right)} \\mathrm{D}_{0, 1}\\left(\\Lambda_{\\varepsilon}\\right)\\left(n_0\\left(r\\right)^{2}, p_0\\left(r\\right)^{2}, n_0\\left(r\\right) p_0\\left(r\\right)\\right)\\right)} n_0\\left(r\\right)^{2} p_0\\left(r\\right)^{2} - 4 \\, r^{2} e^{\\nu\\left(r\\right)} \\frac{\\partial^{2}}{(\\partial r)^{2}}h_0\\left(r\\right) - 10 \\, r^{2} e^{\\nu\\left(r\\right)} \\frac{\\partial^{2}}{(\\partial r)^{2}}h_2\\left(r\\right) - 10 \\, r^{2} e^{\\nu\\left(r\\right)} \\frac{\\partial^{2}}{(\\partial r)^{2}}k_2\\left(r\\right) - 6 \\, {\\left(128 \\, \\pi {\\Omega^{(1)}_{n}} r^{4} e^{\\lambda\\left(r\\right)} n_0\\left(r\\right)^{2} \\omega\\left(r\\right) \\mathrm{D}_{0}\\left(\\Lambda_{\\varepsilon}\\right)\\left(n_0\\left(r\\right)^{2}, p_0\\left(r\\right)^{2}, n_0\\left(r\\right) p_0\\left(r\\right)\\right) - 64 \\, \\pi r^{4} e^{\\lambda\\left(r\\right)} n_0\\left(r\\right)^{2} \\omega\\left(r\\right)^{2} \\mathrm{D}_{0}\\left(\\Lambda_{\\varepsilon}\\right)\\left(n_0\\left(r\\right)^{2}, p_0\\left(r\\right)^{2}, n_0\\left(r\\right) p_0\\left(r\\right)\\right) - 96 \\, \\pi r^{2} \\eta_2\\left(r\\right) e^{\\left(\\lambda\\left(r\\right) + \\nu\\left(r\\right)\\right)} n_0\\left(r\\right)^{4} \\mathrm{D}_{0, 0}\\left(\\Lambda_{\\varepsilon}\\right)\\left(n_0\\left(r\\right)^{2}, p_0\\left(r\\right)^{2}, n_0\\left(r\\right) p_0\\left(r\\right)\\right) - 96 \\, \\pi r^{2} \\Phi_2\\left(r\\right) e^{\\left(\\lambda\\left(r\\right) + \\nu\\left(r\\right)\\right)} p_0\\left(r\\right)^{4} \\mathrm{D}_{1, 1}\\left(\\Lambda_{\\varepsilon}\\right)\\left(n_0\\left(r\\right)^{2}, p_0\\left(r\\right)^{2}, n_0\\left(r\\right) p_0\\left(r\\right)\\right) - 192 \\, \\pi r^{2} e^{\\left(\\lambda\\left(r\\right) + \\nu\\left(r\\right)\\right)} n_0\\left(r\\right)^{2} v_2\\left(r\\right) \\mathrm{D}_{0}\\left(\\Lambda_{\\varepsilon}\\right)\\left(n_0\\left(r\\right)^{2}, p_0\\left(r\\right)^{2}, n_0\\left(r\\right) p_0\\left(r\\right)\\right) - 48 \\, {\\left(\\pi r^{2} \\Phi_2\\left(r\\right) e^{\\left(\\lambda\\left(r\\right) + \\nu\\left(r\\right)\\right)} + \\pi r^{2} \\eta_2\\left(r\\right) e^{\\left(\\lambda\\left(r\\right) + \\nu\\left(r\\right)\\right)}\\right)} n_0\\left(r\\right) p_0\\left(r\\right)^{3} \\mathrm{D}_{1, 2}\\left(\\Lambda_{\\varepsilon}\\right)\\left(n_0\\left(r\\right)^{2}, p_0\\left(r\\right)^{2}, n_0\\left(r\\right) p_0\\left(r\\right)\\right) + r^{4} \\frac{\\partial}{\\partial r}\\omega\\left(r\\right)^{2} - 48 \\, {\\left(\\pi r^{2} \\Phi_2\\left(r\\right) e^{\\left(\\lambda\\left(r\\right) + \\nu\\left(r\\right)\\right)} \\mathrm{D}_{0, 2}\\left(\\Lambda_{\\varepsilon}\\right)\\left(n_0\\left(r\\right)^{2}, p_0\\left(r\\right)^{2}, n_0\\left(r\\right) p_0\\left(r\\right)\\right) + \\pi r^{2} \\eta_2\\left(r\\right) e^{\\left(\\lambda\\left(r\\right) + \\nu\\left(r\\right)\\right)} \\mathrm{D}_{0, 2}\\left(\\Lambda_{\\varepsilon}\\right)\\left(n_0\\left(r\\right)^{2}, p_0\\left(r\\right)^{2}, n_0\\left(r\\right) p_0\\left(r\\right)\\right)\\right)} n_0\\left(r\\right)^{3} p_0\\left(r\\right) - 96 \\, {\\left(\\pi r^{2} \\Phi_2\\left(r\\right) e^{\\left(\\lambda\\left(r\\right) + \\nu\\left(r\\right)\\right)} \\mathrm{D}_{0, 1}\\left(\\Lambda_{\\varepsilon}\\right)\\left(n_0\\left(r\\right)^{2}, p_0\\left(r\\right)^{2}, n_0\\left(r\\right) p_0\\left(r\\right)\\right) + \\pi r^{2} \\eta_2\\left(r\\right) e^{\\left(\\lambda\\left(r\\right) + \\nu\\left(r\\right)\\right)} \\mathrm{D}_{0, 1}\\left(\\Lambda_{\\varepsilon}\\right)\\left(n_0\\left(r\\right)^{2}, p_0\\left(r\\right)^{2}, n_0\\left(r\\right) p_0\\left(r\\right)\\right)\\right)} n_0\\left(r\\right)^{2} p_0\\left(r\\right)^{2} - 6 \\, r^{2} e^{\\nu\\left(r\\right)} \\frac{\\partial^{2}}{(\\partial r)^{2}}h_2\\left(r\\right) - 6 \\, r^{2} e^{\\nu\\left(r\\right)} \\frac{\\partial^{2}}{(\\partial r)^{2}}k_2\\left(r\\right) - 16 \\, {\\left(4 \\, \\pi {\\Omega^{(1)}_{n}}^{2} r^{4} e^{\\lambda\\left(r\\right)} \\mathrm{D}_{0}\\left(\\Lambda_{\\varepsilon}\\right)\\left(n_0\\left(r\\right)^{2}, p_0\\left(r\\right)^{2}, n_0\\left(r\\right) p_0\\left(r\\right)\\right) + 3 \\, \\pi r^{2} \\eta_2\\left(r\\right) e^{\\left(\\lambda\\left(r\\right) + \\nu\\left(r\\right)\\right)} \\mathrm{D}_{0}\\left(\\Lambda_{\\varepsilon}\\right)\\left(n_0\\left(r\\right)^{2}, p_0\\left(r\\right)^{2}, n_0\\left(r\\right) p_0\\left(r\\right)\\right)\\right)} n_0\\left(r\\right)^{2} - 8 \\, {\\left(16 \\, {\\left(\\pi {\\Omega^{(1)}_{n}} - \\pi {\\Omega^{(1)}_{p}}\\right)} r^{4} e^{\\lambda\\left(r\\right)} n_0\\left(r\\right) \\omega\\left(r\\right) - {\\left(16 \\, {\\left(\\pi {\\Omega^{(1)}_{n}}^{2} - \\pi {\\Omega^{(1)}_{n}} {\\Omega^{(1)}_{p}}\\right)} r^{4} e^{\\lambda\\left(r\\right)} + 3 \\, \\pi r^{2} \\Phi_2\\left(r\\right) e^{\\left(\\lambda\\left(r\\right) + \\nu\\left(r\\right)\\right)} + 3 \\, \\pi r^{2} \\eta_2\\left(r\\right) e^{\\left(\\lambda\\left(r\\right) + \\nu\\left(r\\right)\\right)}\\right)} n_0\\left(r\\right)\\right)} p_0\\left(r\\right) \\mathrm{D}_{2}\\left(\\Lambda_{\\varepsilon}\\right)\\left(n_0\\left(r\\right)^{2}, p_0\\left(r\\right)^{2}, n_0\\left(r\\right) p_0\\left(r\\right)\\right) - 24 \\, {\\left(3 \\, \\pi r^{3} e^{\\left(\\lambda\\left(r\\right) + \\nu\\left(r\\right)\\right)} \\frac{\\partial}{\\partial r}h_2\\left(r\\right) + 2 \\, \\pi r^{3} e^{\\left(\\lambda\\left(r\\right) + \\nu\\left(r\\right)\\right)} \\frac{\\partial}{\\partial r}k_2\\left(r\\right) - 4 \\, \\pi r^{2} e^{\\left(\\lambda\\left(r\\right) + \\nu\\left(r\\right)\\right)} v_2\\left(r\\right)\\right)} \\Lambda_{\\varepsilon}\\left(n_0\\left(r\\right)^{2}, p_0\\left(r\\right)^{2}, n_0\\left(r\\right) p_0\\left(r\\right)\\right) + 16 \\, {\\left(6 \\, \\pi r^{3} e^{\\left(\\lambda\\left(r\\right) + \\nu\\left(r\\right)\\right)} p_0\\left(r\\right)^{2} \\frac{\\partial}{\\partial r}h_2\\left(r\\right) + 3 \\, \\pi r^{3} e^{\\left(\\lambda\\left(r\\right) + \\nu\\left(r\\right)\\right)} p_0\\left(r\\right)^{2} \\frac{\\partial}{\\partial r}k_2\\left(r\\right) - 3 \\, \\pi r^{3} e^{\\left(\\lambda\\left(r\\right) + \\nu\\left(r\\right)\\right)} p_0\\left(r\\right)^{2} \\frac{\\partial}{\\partial r}v_2\\left(r\\right) - 12 \\, \\pi r^{2} e^{\\left(\\lambda\\left(r\\right) + \\nu\\left(r\\right)\\right)} p_0\\left(r\\right)^{2} v_2\\left(r\\right) - {\\left(4 \\, \\pi {\\Omega^{(1)}_{p}}^{2} r^{4} e^{\\lambda\\left(r\\right)} - 8 \\, \\pi {\\Omega^{(1)}_{p}} r^{4} e^{\\lambda\\left(r\\right)} \\omega\\left(r\\right) + 4 \\, \\pi r^{4} e^{\\lambda\\left(r\\right)} \\omega\\left(r\\right)^{2} + 3 \\, \\pi r^{2} \\Phi_2\\left(r\\right) e^{\\left(\\lambda\\left(r\\right) + \\nu\\left(r\\right)\\right)}\\right)} p_0\\left(r\\right)^{2}\\right)} \\mathrm{D}_{1}\\left(\\Lambda_{\\varepsilon}\\right)\\left(n_0\\left(r\\right)^{2}, p_0\\left(r\\right)^{2}, n_0\\left(r\\right) p_0\\left(r\\right)\\right) + 3 \\, {\\left(32 \\, \\pi r^{3} e^{\\left(\\lambda\\left(r\\right) + \\nu\\left(r\\right)\\right)} n_0\\left(r\\right)^{2} \\mathrm{D}_{0}\\left(\\Lambda_{\\varepsilon}\\right)\\left(n_0\\left(r\\right)^{2}, p_0\\left(r\\right)^{2}, n_0\\left(r\\right) p_0\\left(r\\right)\\right) - {\\left(3 \\, r e^{\\lambda\\left(r\\right)} - r\\right)} e^{\\nu\\left(r\\right)}\\right)} \\frac{\\partial}{\\partial r}h_2\\left(r\\right) + 6 \\, {\\left(8 \\, \\pi r^{3} e^{\\left(\\lambda\\left(r\\right) + \\nu\\left(r\\right)\\right)} n_0\\left(r\\right)^{2} \\mathrm{D}_{0}\\left(\\Lambda_{\\varepsilon}\\right)\\left(n_0\\left(r\\right)^{2}, p_0\\left(r\\right)^{2}, n_0\\left(r\\right) p_0\\left(r\\right)\\right) - {\\left(r e^{\\lambda\\left(r\\right)} + r\\right)} e^{\\nu\\left(r\\right)}\\right)} \\frac{\\partial}{\\partial r}k_2\\left(r\\right) - 3 \\, {\\left(16 \\, \\pi r^{3} e^{\\left(\\lambda\\left(r\\right) + \\nu\\left(r\\right)\\right)} n_0\\left(r\\right)^{2} \\mathrm{D}_{0}\\left(\\Lambda_{\\varepsilon}\\right)\\left(n_0\\left(r\\right)^{2}, p_0\\left(r\\right)^{2}, n_0\\left(r\\right) p_0\\left(r\\right)\\right) - 8 \\, \\pi r^{3} \\Lambda_{\\varepsilon}\\left(n_0\\left(r\\right)^{2}, p_0\\left(r\\right)^{2}, n_0\\left(r\\right) p_0\\left(r\\right)\\right) e^{\\left(\\lambda\\left(r\\right) + \\nu\\left(r\\right)\\right)} - {\\left(r e^{\\lambda\\left(r\\right)} + r\\right)} e^{\\nu\\left(r\\right)}\\right)} \\frac{\\partial}{\\partial r}v_2\\left(r\\right)\\right)} \\cos\\left({\\theta}\\right)^{2} - 16 \\, {\\left(8 \\, \\pi {\\Omega^{(1)}_{n}}^{2} r^{4} e^{\\lambda\\left(r\\right)} \\mathrm{D}_{0}\\left(\\Lambda_{\\varepsilon}\\right)\\left(n_0\\left(r\\right)^{2}, p_0\\left(r\\right)^{2}, n_0\\left(r\\right) p_0\\left(r\\right)\\right) + 2 \\, \\pi r^{2} \\eta_0\\left(r\\right) e^{\\left(\\lambda\\left(r\\right) + \\nu\\left(r\\right)\\right)} \\mathrm{D}_{0}\\left(\\Lambda_{\\varepsilon}\\right)\\left(n_0\\left(r\\right)^{2}, p_0\\left(r\\right)^{2}, n_0\\left(r\\right) p_0\\left(r\\right)\\right) + 5 \\, \\pi r^{2} \\eta_2\\left(r\\right) e^{\\left(\\lambda\\left(r\\right) + \\nu\\left(r\\right)\\right)} \\mathrm{D}_{0}\\left(\\Lambda_{\\varepsilon}\\right)\\left(n_0\\left(r\\right)^{2}, p_0\\left(r\\right)^{2}, n_0\\left(r\\right) p_0\\left(r\\right)\\right)\\right)} n_0\\left(r\\right)^{2} - 8 \\, {\\left(40 \\, {\\left(\\pi {\\Omega^{(1)}_{n}} - \\pi {\\Omega^{(1)}_{p}}\\right)} r^{4} e^{\\lambda\\left(r\\right)} n_0\\left(r\\right) \\omega\\left(r\\right) - {\\left(40 \\, {\\left(\\pi {\\Omega^{(1)}_{n}}^{2} - \\pi {\\Omega^{(1)}_{n}} {\\Omega^{(1)}_{p}}\\right)} r^{4} e^{\\lambda\\left(r\\right)} + 2 \\, \\pi r^{2} \\Phi_0\\left(r\\right) e^{\\left(\\lambda\\left(r\\right) + \\nu\\left(r\\right)\\right)} + 5 \\, \\pi r^{2} \\Phi_2\\left(r\\right) e^{\\left(\\lambda\\left(r\\right) + \\nu\\left(r\\right)\\right)} + 2 \\, \\pi r^{2} \\eta_0\\left(r\\right) e^{\\left(\\lambda\\left(r\\right) + \\nu\\left(r\\right)\\right)} + 5 \\, \\pi r^{2} \\eta_2\\left(r\\right) e^{\\left(\\lambda\\left(r\\right) + \\nu\\left(r\\right)\\right)}\\right)} n_0\\left(r\\right)\\right)} p_0\\left(r\\right) \\mathrm{D}_{2}\\left(\\Lambda_{\\varepsilon}\\right)\\left(n_0\\left(r\\right)^{2}, p_0\\left(r\\right)^{2}, n_0\\left(r\\right) p_0\\left(r\\right)\\right) - 8 \\, {\\left(6 \\, \\pi r^{3} e^{\\left(\\lambda\\left(r\\right) + \\nu\\left(r\\right)\\right)} \\frac{\\partial}{\\partial r}h_0\\left(r\\right) + 15 \\, \\pi r^{3} e^{\\left(\\lambda\\left(r\\right) + \\nu\\left(r\\right)\\right)} \\frac{\\partial}{\\partial r}h_2\\left(r\\right) + 10 \\, \\pi r^{3} e^{\\left(\\lambda\\left(r\\right) + \\nu\\left(r\\right)\\right)} \\frac{\\partial}{\\partial r}k_2\\left(r\\right) - 8 \\, \\pi r^{2} e^{\\left(\\lambda\\left(r\\right) + \\nu\\left(r\\right)\\right)} v_0\\left(r\\right) - 20 \\, \\pi r^{2} e^{\\left(\\lambda\\left(r\\right) + \\nu\\left(r\\right)\\right)} v_2\\left(r\\right)\\right)} \\Lambda_{\\varepsilon}\\left(n_0\\left(r\\right)^{2}, p_0\\left(r\\right)^{2}, n_0\\left(r\\right) p_0\\left(r\\right)\\right) + 16 \\, {\\left(4 \\, \\pi r^{3} e^{\\left(\\lambda\\left(r\\right) + \\nu\\left(r\\right)\\right)} p_0\\left(r\\right)^{2} \\frac{\\partial}{\\partial r}h_0\\left(r\\right) + 10 \\, \\pi r^{3} e^{\\left(\\lambda\\left(r\\right) + \\nu\\left(r\\right)\\right)} p_0\\left(r\\right)^{2} \\frac{\\partial}{\\partial r}h_2\\left(r\\right) + 5 \\, \\pi r^{3} e^{\\left(\\lambda\\left(r\\right) + \\nu\\left(r\\right)\\right)} p_0\\left(r\\right)^{2} \\frac{\\partial}{\\partial r}k_2\\left(r\\right) - 2 \\, \\pi r^{3} e^{\\left(\\lambda\\left(r\\right) + \\nu\\left(r\\right)\\right)} p_0\\left(r\\right)^{2} \\frac{\\partial}{\\partial r}v_0\\left(r\\right) - 5 \\, \\pi r^{3} e^{\\left(\\lambda\\left(r\\right) + \\nu\\left(r\\right)\\right)} p_0\\left(r\\right)^{2} \\frac{\\partial}{\\partial r}v_2\\left(r\\right) - 8 \\, \\pi r^{2} e^{\\left(\\lambda\\left(r\\right) + \\nu\\left(r\\right)\\right)} p_0\\left(r\\right)^{2} v_0\\left(r\\right) - 20 \\, \\pi r^{2} e^{\\left(\\lambda\\left(r\\right) + \\nu\\left(r\\right)\\right)} p_0\\left(r\\right)^{2} v_2\\left(r\\right) - {\\left(8 \\, \\pi {\\Omega^{(1)}_{p}}^{2} r^{4} e^{\\lambda\\left(r\\right)} - 16 \\, \\pi {\\Omega^{(1)}_{p}} r^{4} e^{\\lambda\\left(r\\right)} \\omega\\left(r\\right) + 8 \\, \\pi r^{4} e^{\\lambda\\left(r\\right)} \\omega\\left(r\\right)^{2} + 2 \\, \\pi r^{2} \\Phi_0\\left(r\\right) e^{\\left(\\lambda\\left(r\\right) + \\nu\\left(r\\right)\\right)} + 5 \\, \\pi r^{2} \\Phi_2\\left(r\\right) e^{\\left(\\lambda\\left(r\\right) + \\nu\\left(r\\right)\\right)}\\right)} p_0\\left(r\\right)^{2}\\right)} \\mathrm{D}_{1}\\left(\\Lambda_{\\varepsilon}\\right)\\left(n_0\\left(r\\right)^{2}, p_0\\left(r\\right)^{2}, n_0\\left(r\\right) p_0\\left(r\\right)\\right) + 2 \\, {\\left(32 \\, \\pi r^{3} e^{\\left(\\lambda\\left(r\\right) + \\nu\\left(r\\right)\\right)} n_0\\left(r\\right)^{2} \\mathrm{D}_{0}\\left(\\Lambda_{\\varepsilon}\\right)\\left(n_0\\left(r\\right)^{2}, p_0\\left(r\\right)^{2}, n_0\\left(r\\right) p_0\\left(r\\right)\\right) - {\\left(3 \\, r e^{\\lambda\\left(r\\right)} - r\\right)} e^{\\nu\\left(r\\right)}\\right)} \\frac{\\partial}{\\partial r}h_0\\left(r\\right) + 5 \\, {\\left(32 \\, \\pi r^{3} e^{\\left(\\lambda\\left(r\\right) + \\nu\\left(r\\right)\\right)} n_0\\left(r\\right)^{2} \\mathrm{D}_{0}\\left(\\Lambda_{\\varepsilon}\\right)\\left(n_0\\left(r\\right)^{2}, p_0\\left(r\\right)^{2}, n_0\\left(r\\right) p_0\\left(r\\right)\\right) - {\\left(3 \\, r e^{\\lambda\\left(r\\right)} - r\\right)} e^{\\nu\\left(r\\right)}\\right)} \\frac{\\partial}{\\partial r}h_2\\left(r\\right) + 10 \\, {\\left(8 \\, \\pi r^{3} e^{\\left(\\lambda\\left(r\\right) + \\nu\\left(r\\right)\\right)} n_0\\left(r\\right)^{2} \\mathrm{D}_{0}\\left(\\Lambda_{\\varepsilon}\\right)\\left(n_0\\left(r\\right)^{2}, p_0\\left(r\\right)^{2}, n_0\\left(r\\right) p_0\\left(r\\right)\\right) - {\\left(r e^{\\lambda\\left(r\\right)} + r\\right)} e^{\\nu\\left(r\\right)}\\right)} \\frac{\\partial}{\\partial r}k_2\\left(r\\right) - 2 \\, {\\left(16 \\, \\pi r^{3} e^{\\left(\\lambda\\left(r\\right) + \\nu\\left(r\\right)\\right)} n_0\\left(r\\right)^{2} \\mathrm{D}_{0}\\left(\\Lambda_{\\varepsilon}\\right)\\left(n_0\\left(r\\right)^{2}, p_0\\left(r\\right)^{2}, n_0\\left(r\\right) p_0\\left(r\\right)\\right) - 8 \\, \\pi r^{3} \\Lambda_{\\varepsilon}\\left(n_0\\left(r\\right)^{2}, p_0\\left(r\\right)^{2}, n_0\\left(r\\right) p_0\\left(r\\right)\\right) e^{\\left(\\lambda\\left(r\\right) + \\nu\\left(r\\right)\\right)} - {\\left(r e^{\\lambda\\left(r\\right)} + r\\right)} e^{\\nu\\left(r\\right)}\\right)} \\frac{\\partial}{\\partial r}v_0\\left(r\\right) - 5 \\, {\\left(16 \\, \\pi r^{3} e^{\\left(\\lambda\\left(r\\right) + \\nu\\left(r\\right)\\right)} n_0\\left(r\\right)^{2} \\mathrm{D}_{0}\\left(\\Lambda_{\\varepsilon}\\right)\\left(n_0\\left(r\\right)^{2}, p_0\\left(r\\right)^{2}, n_0\\left(r\\right) p_0\\left(r\\right)\\right) - 8 \\, \\pi r^{3} \\Lambda_{\\varepsilon}\\left(n_0\\left(r\\right)^{2}, p_0\\left(r\\right)^{2}, n_0\\left(r\\right) p_0\\left(r\\right)\\right) e^{\\left(\\lambda\\left(r\\right) + \\nu\\left(r\\right)\\right)} - {\\left(r e^{\\lambda\\left(r\\right)} + r\\right)} e^{\\nu\\left(r\\right)}\\right)} \\frac{\\partial}{\\partial r}v_2\\left(r\\right)}{12 \\, {\\left(6 \\, \\cos\\left({\\theta}\\right)^{4} e^{\\left(\\lambda\\left(r\\right) + \\nu\\left(r\\right)\\right)} - 12 \\, \\cos\\left({\\theta}\\right)^{2} e^{\\left(\\lambda\\left(r\\right) + \\nu\\left(r\\right)\\right)} + 5 \\, e^{\\left(\\lambda\\left(r\\right) + \\nu\\left(r\\right)\\right)}\\right)}}\\]</html>"
      ],
      "text/latex": [
       "$$\\newcommand{\\Bold}[1]{\\mathbf{#1}}-\\frac{256 \\, \\pi {\\Omega^{(1)}_{n}} r^{4} e^{\\lambda\\left(r\\right)} n_0\\left(r\\right)^{2} \\omega\\left(r\\right) \\mathrm{D}_{0}\\left(\\Lambda_{\\varepsilon}\\right)\\left(n_0\\left(r\\right)^{2}, p_0\\left(r\\right)^{2}, n_0\\left(r\\right) p_0\\left(r\\right)\\right) - 128 \\, \\pi r^{4} e^{\\lambda\\left(r\\right)} n_0\\left(r\\right)^{2} \\omega\\left(r\\right)^{2} \\mathrm{D}_{0}\\left(\\Lambda_{\\varepsilon}\\right)\\left(n_0\\left(r\\right)^{2}, p_0\\left(r\\right)^{2}, n_0\\left(r\\right) p_0\\left(r\\right)\\right) - 128 \\, \\pi r^{2} e^{\\left(\\lambda\\left(r\\right) + \\nu\\left(r\\right)\\right)} n_0\\left(r\\right)^{2} v_0\\left(r\\right) \\mathrm{D}_{0}\\left(\\Lambda_{\\varepsilon}\\right)\\left(n_0\\left(r\\right)^{2}, p_0\\left(r\\right)^{2}, n_0\\left(r\\right) p_0\\left(r\\right)\\right) - 320 \\, \\pi r^{2} e^{\\left(\\lambda\\left(r\\right) + \\nu\\left(r\\right)\\right)} n_0\\left(r\\right)^{2} v_2\\left(r\\right) \\mathrm{D}_{0}\\left(\\Lambda_{\\varepsilon}\\right)\\left(n_0\\left(r\\right)^{2}, p_0\\left(r\\right)^{2}, n_0\\left(r\\right) p_0\\left(r\\right)\\right) - 32 \\, {\\left(2 \\, \\pi r^{2} \\Phi_0\\left(r\\right) e^{\\left(\\lambda\\left(r\\right) + \\nu\\left(r\\right)\\right)} + 5 \\, \\pi r^{2} \\Phi_2\\left(r\\right) e^{\\left(\\lambda\\left(r\\right) + \\nu\\left(r\\right)\\right)}\\right)} p_0\\left(r\\right)^{4} \\mathrm{D}_{1, 1}\\left(\\Lambda_{\\varepsilon}\\right)\\left(n_0\\left(r\\right)^{2}, p_0\\left(r\\right)^{2}, n_0\\left(r\\right) p_0\\left(r\\right)\\right) - 16 \\, {\\left(2 \\, \\pi r^{2} \\Phi_0\\left(r\\right) e^{\\left(\\lambda\\left(r\\right) + \\nu\\left(r\\right)\\right)} + 5 \\, \\pi r^{2} \\Phi_2\\left(r\\right) e^{\\left(\\lambda\\left(r\\right) + \\nu\\left(r\\right)\\right)} + 2 \\, \\pi r^{2} \\eta_0\\left(r\\right) e^{\\left(\\lambda\\left(r\\right) + \\nu\\left(r\\right)\\right)} + 5 \\, \\pi r^{2} \\eta_2\\left(r\\right) e^{\\left(\\lambda\\left(r\\right) + \\nu\\left(r\\right)\\right)}\\right)} n_0\\left(r\\right) p_0\\left(r\\right)^{3} \\mathrm{D}_{1, 2}\\left(\\Lambda_{\\varepsilon}\\right)\\left(n_0\\left(r\\right)^{2}, p_0\\left(r\\right)^{2}, n_0\\left(r\\right) p_0\\left(r\\right)\\right) + 3 \\, r^{4} \\frac{\\partial}{\\partial r}\\omega\\left(r\\right)^{2} + 3 \\, {\\left(128 \\, \\pi {\\Omega^{(1)}_{n}} r^{4} e^{\\lambda\\left(r\\right)} n_0\\left(r\\right)^{2} \\omega\\left(r\\right) \\mathrm{D}_{0}\\left(\\Lambda_{\\varepsilon}\\right)\\left(n_0\\left(r\\right)^{2}, p_0\\left(r\\right)^{2}, n_0\\left(r\\right) p_0\\left(r\\right)\\right) - 64 \\, \\pi r^{4} e^{\\lambda\\left(r\\right)} n_0\\left(r\\right)^{2} \\omega\\left(r\\right)^{2} \\mathrm{D}_{0}\\left(\\Lambda_{\\varepsilon}\\right)\\left(n_0\\left(r\\right)^{2}, p_0\\left(r\\right)^{2}, n_0\\left(r\\right) p_0\\left(r\\right)\\right) - 96 \\, \\pi r^{2} \\eta_2\\left(r\\right) e^{\\left(\\lambda\\left(r\\right) + \\nu\\left(r\\right)\\right)} n_0\\left(r\\right)^{4} \\mathrm{D}_{0, 0}\\left(\\Lambda_{\\varepsilon}\\right)\\left(n_0\\left(r\\right)^{2}, p_0\\left(r\\right)^{2}, n_0\\left(r\\right) p_0\\left(r\\right)\\right) - 96 \\, \\pi r^{2} \\Phi_2\\left(r\\right) e^{\\left(\\lambda\\left(r\\right) + \\nu\\left(r\\right)\\right)} p_0\\left(r\\right)^{4} \\mathrm{D}_{1, 1}\\left(\\Lambda_{\\varepsilon}\\right)\\left(n_0\\left(r\\right)^{2}, p_0\\left(r\\right)^{2}, n_0\\left(r\\right) p_0\\left(r\\right)\\right) - 192 \\, \\pi r^{2} e^{\\left(\\lambda\\left(r\\right) + \\nu\\left(r\\right)\\right)} n_0\\left(r\\right)^{2} v_2\\left(r\\right) \\mathrm{D}_{0}\\left(\\Lambda_{\\varepsilon}\\right)\\left(n_0\\left(r\\right)^{2}, p_0\\left(r\\right)^{2}, n_0\\left(r\\right) p_0\\left(r\\right)\\right) - 48 \\, {\\left(\\pi r^{2} \\Phi_2\\left(r\\right) e^{\\left(\\lambda\\left(r\\right) + \\nu\\left(r\\right)\\right)} + \\pi r^{2} \\eta_2\\left(r\\right) e^{\\left(\\lambda\\left(r\\right) + \\nu\\left(r\\right)\\right)}\\right)} n_0\\left(r\\right) p_0\\left(r\\right)^{3} \\mathrm{D}_{1, 2}\\left(\\Lambda_{\\varepsilon}\\right)\\left(n_0\\left(r\\right)^{2}, p_0\\left(r\\right)^{2}, n_0\\left(r\\right) p_0\\left(r\\right)\\right) + r^{4} \\frac{\\partial}{\\partial r}\\omega\\left(r\\right)^{2} - 48 \\, {\\left(\\pi r^{2} \\Phi_2\\left(r\\right) e^{\\left(\\lambda\\left(r\\right) + \\nu\\left(r\\right)\\right)} \\mathrm{D}_{0, 2}\\left(\\Lambda_{\\varepsilon}\\right)\\left(n_0\\left(r\\right)^{2}, p_0\\left(r\\right)^{2}, n_0\\left(r\\right) p_0\\left(r\\right)\\right) + \\pi r^{2} \\eta_2\\left(r\\right) e^{\\left(\\lambda\\left(r\\right) + \\nu\\left(r\\right)\\right)} \\mathrm{D}_{0, 2}\\left(\\Lambda_{\\varepsilon}\\right)\\left(n_0\\left(r\\right)^{2}, p_0\\left(r\\right)^{2}, n_0\\left(r\\right) p_0\\left(r\\right)\\right)\\right)} n_0\\left(r\\right)^{3} p_0\\left(r\\right) - 96 \\, {\\left(\\pi r^{2} \\Phi_2\\left(r\\right) e^{\\left(\\lambda\\left(r\\right) + \\nu\\left(r\\right)\\right)} \\mathrm{D}_{0, 1}\\left(\\Lambda_{\\varepsilon}\\right)\\left(n_0\\left(r\\right)^{2}, p_0\\left(r\\right)^{2}, n_0\\left(r\\right) p_0\\left(r\\right)\\right) + \\pi r^{2} \\eta_2\\left(r\\right) e^{\\left(\\lambda\\left(r\\right) + \\nu\\left(r\\right)\\right)} \\mathrm{D}_{0, 1}\\left(\\Lambda_{\\varepsilon}\\right)\\left(n_0\\left(r\\right)^{2}, p_0\\left(r\\right)^{2}, n_0\\left(r\\right) p_0\\left(r\\right)\\right)\\right)} n_0\\left(r\\right)^{2} p_0\\left(r\\right)^{2} - 6 \\, r^{2} e^{\\nu\\left(r\\right)} \\frac{\\partial^{2}}{(\\partial r)^{2}}h_2\\left(r\\right) - 6 \\, r^{2} e^{\\nu\\left(r\\right)} \\frac{\\partial^{2}}{(\\partial r)^{2}}k_2\\left(r\\right) - 16 \\, {\\left(4 \\, \\pi {\\Omega^{(1)}_{n}}^{2} r^{4} e^{\\lambda\\left(r\\right)} \\mathrm{D}_{0}\\left(\\Lambda_{\\varepsilon}\\right)\\left(n_0\\left(r\\right)^{2}, p_0\\left(r\\right)^{2}, n_0\\left(r\\right) p_0\\left(r\\right)\\right) + 3 \\, \\pi r^{2} \\eta_2\\left(r\\right) e^{\\left(\\lambda\\left(r\\right) + \\nu\\left(r\\right)\\right)} \\mathrm{D}_{0}\\left(\\Lambda_{\\varepsilon}\\right)\\left(n_0\\left(r\\right)^{2}, p_0\\left(r\\right)^{2}, n_0\\left(r\\right) p_0\\left(r\\right)\\right)\\right)} n_0\\left(r\\right)^{2} - 8 \\, {\\left(16 \\, {\\left(\\pi {\\Omega^{(1)}_{n}} - \\pi {\\Omega^{(1)}_{p}}\\right)} r^{4} e^{\\lambda\\left(r\\right)} n_0\\left(r\\right) \\omega\\left(r\\right) - {\\left(16 \\, {\\left(\\pi {\\Omega^{(1)}_{n}}^{2} - \\pi {\\Omega^{(1)}_{n}} {\\Omega^{(1)}_{p}}\\right)} r^{4} e^{\\lambda\\left(r\\right)} + 3 \\, \\pi r^{2} \\Phi_2\\left(r\\right) e^{\\left(\\lambda\\left(r\\right) + \\nu\\left(r\\right)\\right)} + 3 \\, \\pi r^{2} \\eta_2\\left(r\\right) e^{\\left(\\lambda\\left(r\\right) + \\nu\\left(r\\right)\\right)}\\right)} n_0\\left(r\\right)\\right)} p_0\\left(r\\right) \\mathrm{D}_{2}\\left(\\Lambda_{\\varepsilon}\\right)\\left(n_0\\left(r\\right)^{2}, p_0\\left(r\\right)^{2}, n_0\\left(r\\right) p_0\\left(r\\right)\\right) - 24 \\, {\\left(3 \\, \\pi r^{3} e^{\\left(\\lambda\\left(r\\right) + \\nu\\left(r\\right)\\right)} \\frac{\\partial}{\\partial r}h_2\\left(r\\right) + 2 \\, \\pi r^{3} e^{\\left(\\lambda\\left(r\\right) + \\nu\\left(r\\right)\\right)} \\frac{\\partial}{\\partial r}k_2\\left(r\\right) - 4 \\, \\pi r^{2} e^{\\left(\\lambda\\left(r\\right) + \\nu\\left(r\\right)\\right)} v_2\\left(r\\right)\\right)} \\Lambda_{\\varepsilon}\\left(n_0\\left(r\\right)^{2}, p_0\\left(r\\right)^{2}, n_0\\left(r\\right) p_0\\left(r\\right)\\right) + 16 \\, {\\left(6 \\, \\pi r^{3} e^{\\left(\\lambda\\left(r\\right) + \\nu\\left(r\\right)\\right)} p_0\\left(r\\right)^{2} \\frac{\\partial}{\\partial r}h_2\\left(r\\right) + 3 \\, \\pi r^{3} e^{\\left(\\lambda\\left(r\\right) + \\nu\\left(r\\right)\\right)} p_0\\left(r\\right)^{2} \\frac{\\partial}{\\partial r}k_2\\left(r\\right) - 3 \\, \\pi r^{3} e^{\\left(\\lambda\\left(r\\right) + \\nu\\left(r\\right)\\right)} p_0\\left(r\\right)^{2} \\frac{\\partial}{\\partial r}v_2\\left(r\\right) - 12 \\, \\pi r^{2} e^{\\left(\\lambda\\left(r\\right) + \\nu\\left(r\\right)\\right)} p_0\\left(r\\right)^{2} v_2\\left(r\\right) - {\\left(4 \\, \\pi {\\Omega^{(1)}_{p}}^{2} r^{4} e^{\\lambda\\left(r\\right)} - 8 \\, \\pi {\\Omega^{(1)}_{p}} r^{4} e^{\\lambda\\left(r\\right)} \\omega\\left(r\\right) + 4 \\, \\pi r^{4} e^{\\lambda\\left(r\\right)} \\omega\\left(r\\right)^{2} + 3 \\, \\pi r^{2} \\Phi_2\\left(r\\right) e^{\\left(\\lambda\\left(r\\right) + \\nu\\left(r\\right)\\right)}\\right)} p_0\\left(r\\right)^{2}\\right)} \\mathrm{D}_{1}\\left(\\Lambda_{\\varepsilon}\\right)\\left(n_0\\left(r\\right)^{2}, p_0\\left(r\\right)^{2}, n_0\\left(r\\right) p_0\\left(r\\right)\\right) + 3 \\, {\\left(32 \\, \\pi r^{3} e^{\\left(\\lambda\\left(r\\right) + \\nu\\left(r\\right)\\right)} n_0\\left(r\\right)^{2} \\mathrm{D}_{0}\\left(\\Lambda_{\\varepsilon}\\right)\\left(n_0\\left(r\\right)^{2}, p_0\\left(r\\right)^{2}, n_0\\left(r\\right) p_0\\left(r\\right)\\right) - {\\left(3 \\, r e^{\\lambda\\left(r\\right)} - r\\right)} e^{\\nu\\left(r\\right)}\\right)} \\frac{\\partial}{\\partial r}h_2\\left(r\\right) + 6 \\, {\\left(8 \\, \\pi r^{3} e^{\\left(\\lambda\\left(r\\right) + \\nu\\left(r\\right)\\right)} n_0\\left(r\\right)^{2} \\mathrm{D}_{0}\\left(\\Lambda_{\\varepsilon}\\right)\\left(n_0\\left(r\\right)^{2}, p_0\\left(r\\right)^{2}, n_0\\left(r\\right) p_0\\left(r\\right)\\right) - {\\left(r e^{\\lambda\\left(r\\right)} + r\\right)} e^{\\nu\\left(r\\right)}\\right)} \\frac{\\partial}{\\partial r}k_2\\left(r\\right) - 3 \\, {\\left(16 \\, \\pi r^{3} e^{\\left(\\lambda\\left(r\\right) + \\nu\\left(r\\right)\\right)} n_0\\left(r\\right)^{2} \\mathrm{D}_{0}\\left(\\Lambda_{\\varepsilon}\\right)\\left(n_0\\left(r\\right)^{2}, p_0\\left(r\\right)^{2}, n_0\\left(r\\right) p_0\\left(r\\right)\\right) - 8 \\, \\pi r^{3} \\Lambda_{\\varepsilon}\\left(n_0\\left(r\\right)^{2}, p_0\\left(r\\right)^{2}, n_0\\left(r\\right) p_0\\left(r\\right)\\right) e^{\\left(\\lambda\\left(r\\right) + \\nu\\left(r\\right)\\right)} - {\\left(r e^{\\lambda\\left(r\\right)} + r\\right)} e^{\\nu\\left(r\\right)}\\right)} \\frac{\\partial}{\\partial r}v_2\\left(r\\right)\\right)} \\cos\\left({\\theta}\\right)^{4} - 32 \\, {\\left(2 \\, \\pi r^{2} \\eta_0\\left(r\\right) e^{\\left(\\lambda\\left(r\\right) + \\nu\\left(r\\right)\\right)} \\mathrm{D}_{0, 0}\\left(\\Lambda_{\\varepsilon}\\right)\\left(n_0\\left(r\\right)^{2}, p_0\\left(r\\right)^{2}, n_0\\left(r\\right) p_0\\left(r\\right)\\right) + 5 \\, \\pi r^{2} \\eta_2\\left(r\\right) e^{\\left(\\lambda\\left(r\\right) + \\nu\\left(r\\right)\\right)} \\mathrm{D}_{0, 0}\\left(\\Lambda_{\\varepsilon}\\right)\\left(n_0\\left(r\\right)^{2}, p_0\\left(r\\right)^{2}, n_0\\left(r\\right) p_0\\left(r\\right)\\right)\\right)} n_0\\left(r\\right)^{4} - 16 \\, {\\left(2 \\, \\pi r^{2} \\Phi_0\\left(r\\right) e^{\\left(\\lambda\\left(r\\right) + \\nu\\left(r\\right)\\right)} \\mathrm{D}_{0, 2}\\left(\\Lambda_{\\varepsilon}\\right)\\left(n_0\\left(r\\right)^{2}, p_0\\left(r\\right)^{2}, n_0\\left(r\\right) p_0\\left(r\\right)\\right) + 5 \\, \\pi r^{2} \\Phi_2\\left(r\\right) e^{\\left(\\lambda\\left(r\\right) + \\nu\\left(r\\right)\\right)} \\mathrm{D}_{0, 2}\\left(\\Lambda_{\\varepsilon}\\right)\\left(n_0\\left(r\\right)^{2}, p_0\\left(r\\right)^{2}, n_0\\left(r\\right) p_0\\left(r\\right)\\right) + 2 \\, \\pi r^{2} \\eta_0\\left(r\\right) e^{\\left(\\lambda\\left(r\\right) + \\nu\\left(r\\right)\\right)} \\mathrm{D}_{0, 2}\\left(\\Lambda_{\\varepsilon}\\right)\\left(n_0\\left(r\\right)^{2}, p_0\\left(r\\right)^{2}, n_0\\left(r\\right) p_0\\left(r\\right)\\right) + 5 \\, \\pi r^{2} \\eta_2\\left(r\\right) e^{\\left(\\lambda\\left(r\\right) + \\nu\\left(r\\right)\\right)} \\mathrm{D}_{0, 2}\\left(\\Lambda_{\\varepsilon}\\right)\\left(n_0\\left(r\\right)^{2}, p_0\\left(r\\right)^{2}, n_0\\left(r\\right) p_0\\left(r\\right)\\right)\\right)} n_0\\left(r\\right)^{3} p_0\\left(r\\right) - 32 \\, {\\left(2 \\, \\pi r^{2} \\Phi_0\\left(r\\right) e^{\\left(\\lambda\\left(r\\right) + \\nu\\left(r\\right)\\right)} \\mathrm{D}_{0, 1}\\left(\\Lambda_{\\varepsilon}\\right)\\left(n_0\\left(r\\right)^{2}, p_0\\left(r\\right)^{2}, n_0\\left(r\\right) p_0\\left(r\\right)\\right) + 5 \\, \\pi r^{2} \\Phi_2\\left(r\\right) e^{\\left(\\lambda\\left(r\\right) + \\nu\\left(r\\right)\\right)} \\mathrm{D}_{0, 1}\\left(\\Lambda_{\\varepsilon}\\right)\\left(n_0\\left(r\\right)^{2}, p_0\\left(r\\right)^{2}, n_0\\left(r\\right) p_0\\left(r\\right)\\right) + 2 \\, \\pi r^{2} \\eta_0\\left(r\\right) e^{\\left(\\lambda\\left(r\\right) + \\nu\\left(r\\right)\\right)} \\mathrm{D}_{0, 1}\\left(\\Lambda_{\\varepsilon}\\right)\\left(n_0\\left(r\\right)^{2}, p_0\\left(r\\right)^{2}, n_0\\left(r\\right) p_0\\left(r\\right)\\right) + 5 \\, \\pi r^{2} \\eta_2\\left(r\\right) e^{\\left(\\lambda\\left(r\\right) + \\nu\\left(r\\right)\\right)} \\mathrm{D}_{0, 1}\\left(\\Lambda_{\\varepsilon}\\right)\\left(n_0\\left(r\\right)^{2}, p_0\\left(r\\right)^{2}, n_0\\left(r\\right) p_0\\left(r\\right)\\right)\\right)} n_0\\left(r\\right)^{2} p_0\\left(r\\right)^{2} - 4 \\, r^{2} e^{\\nu\\left(r\\right)} \\frac{\\partial^{2}}{(\\partial r)^{2}}h_0\\left(r\\right) - 10 \\, r^{2} e^{\\nu\\left(r\\right)} \\frac{\\partial^{2}}{(\\partial r)^{2}}h_2\\left(r\\right) - 10 \\, r^{2} e^{\\nu\\left(r\\right)} \\frac{\\partial^{2}}{(\\partial r)^{2}}k_2\\left(r\\right) - 6 \\, {\\left(128 \\, \\pi {\\Omega^{(1)}_{n}} r^{4} e^{\\lambda\\left(r\\right)} n_0\\left(r\\right)^{2} \\omega\\left(r\\right) \\mathrm{D}_{0}\\left(\\Lambda_{\\varepsilon}\\right)\\left(n_0\\left(r\\right)^{2}, p_0\\left(r\\right)^{2}, n_0\\left(r\\right) p_0\\left(r\\right)\\right) - 64 \\, \\pi r^{4} e^{\\lambda\\left(r\\right)} n_0\\left(r\\right)^{2} \\omega\\left(r\\right)^{2} \\mathrm{D}_{0}\\left(\\Lambda_{\\varepsilon}\\right)\\left(n_0\\left(r\\right)^{2}, p_0\\left(r\\right)^{2}, n_0\\left(r\\right) p_0\\left(r\\right)\\right) - 96 \\, \\pi r^{2} \\eta_2\\left(r\\right) e^{\\left(\\lambda\\left(r\\right) + \\nu\\left(r\\right)\\right)} n_0\\left(r\\right)^{4} \\mathrm{D}_{0, 0}\\left(\\Lambda_{\\varepsilon}\\right)\\left(n_0\\left(r\\right)^{2}, p_0\\left(r\\right)^{2}, n_0\\left(r\\right) p_0\\left(r\\right)\\right) - 96 \\, \\pi r^{2} \\Phi_2\\left(r\\right) e^{\\left(\\lambda\\left(r\\right) + \\nu\\left(r\\right)\\right)} p_0\\left(r\\right)^{4} \\mathrm{D}_{1, 1}\\left(\\Lambda_{\\varepsilon}\\right)\\left(n_0\\left(r\\right)^{2}, p_0\\left(r\\right)^{2}, n_0\\left(r\\right) p_0\\left(r\\right)\\right) - 192 \\, \\pi r^{2} e^{\\left(\\lambda\\left(r\\right) + \\nu\\left(r\\right)\\right)} n_0\\left(r\\right)^{2} v_2\\left(r\\right) \\mathrm{D}_{0}\\left(\\Lambda_{\\varepsilon}\\right)\\left(n_0\\left(r\\right)^{2}, p_0\\left(r\\right)^{2}, n_0\\left(r\\right) p_0\\left(r\\right)\\right) - 48 \\, {\\left(\\pi r^{2} \\Phi_2\\left(r\\right) e^{\\left(\\lambda\\left(r\\right) + \\nu\\left(r\\right)\\right)} + \\pi r^{2} \\eta_2\\left(r\\right) e^{\\left(\\lambda\\left(r\\right) + \\nu\\left(r\\right)\\right)}\\right)} n_0\\left(r\\right) p_0\\left(r\\right)^{3} \\mathrm{D}_{1, 2}\\left(\\Lambda_{\\varepsilon}\\right)\\left(n_0\\left(r\\right)^{2}, p_0\\left(r\\right)^{2}, n_0\\left(r\\right) p_0\\left(r\\right)\\right) + r^{4} \\frac{\\partial}{\\partial r}\\omega\\left(r\\right)^{2} - 48 \\, {\\left(\\pi r^{2} \\Phi_2\\left(r\\right) e^{\\left(\\lambda\\left(r\\right) + \\nu\\left(r\\right)\\right)} \\mathrm{D}_{0, 2}\\left(\\Lambda_{\\varepsilon}\\right)\\left(n_0\\left(r\\right)^{2}, p_0\\left(r\\right)^{2}, n_0\\left(r\\right) p_0\\left(r\\right)\\right) + \\pi r^{2} \\eta_2\\left(r\\right) e^{\\left(\\lambda\\left(r\\right) + \\nu\\left(r\\right)\\right)} \\mathrm{D}_{0, 2}\\left(\\Lambda_{\\varepsilon}\\right)\\left(n_0\\left(r\\right)^{2}, p_0\\left(r\\right)^{2}, n_0\\left(r\\right) p_0\\left(r\\right)\\right)\\right)} n_0\\left(r\\right)^{3} p_0\\left(r\\right) - 96 \\, {\\left(\\pi r^{2} \\Phi_2\\left(r\\right) e^{\\left(\\lambda\\left(r\\right) + \\nu\\left(r\\right)\\right)} \\mathrm{D}_{0, 1}\\left(\\Lambda_{\\varepsilon}\\right)\\left(n_0\\left(r\\right)^{2}, p_0\\left(r\\right)^{2}, n_0\\left(r\\right) p_0\\left(r\\right)\\right) + \\pi r^{2} \\eta_2\\left(r\\right) e^{\\left(\\lambda\\left(r\\right) + \\nu\\left(r\\right)\\right)} \\mathrm{D}_{0, 1}\\left(\\Lambda_{\\varepsilon}\\right)\\left(n_0\\left(r\\right)^{2}, p_0\\left(r\\right)^{2}, n_0\\left(r\\right) p_0\\left(r\\right)\\right)\\right)} n_0\\left(r\\right)^{2} p_0\\left(r\\right)^{2} - 6 \\, r^{2} e^{\\nu\\left(r\\right)} \\frac{\\partial^{2}}{(\\partial r)^{2}}h_2\\left(r\\right) - 6 \\, r^{2} e^{\\nu\\left(r\\right)} \\frac{\\partial^{2}}{(\\partial r)^{2}}k_2\\left(r\\right) - 16 \\, {\\left(4 \\, \\pi {\\Omega^{(1)}_{n}}^{2} r^{4} e^{\\lambda\\left(r\\right)} \\mathrm{D}_{0}\\left(\\Lambda_{\\varepsilon}\\right)\\left(n_0\\left(r\\right)^{2}, p_0\\left(r\\right)^{2}, n_0\\left(r\\right) p_0\\left(r\\right)\\right) + 3 \\, \\pi r^{2} \\eta_2\\left(r\\right) e^{\\left(\\lambda\\left(r\\right) + \\nu\\left(r\\right)\\right)} \\mathrm{D}_{0}\\left(\\Lambda_{\\varepsilon}\\right)\\left(n_0\\left(r\\right)^{2}, p_0\\left(r\\right)^{2}, n_0\\left(r\\right) p_0\\left(r\\right)\\right)\\right)} n_0\\left(r\\right)^{2} - 8 \\, {\\left(16 \\, {\\left(\\pi {\\Omega^{(1)}_{n}} - \\pi {\\Omega^{(1)}_{p}}\\right)} r^{4} e^{\\lambda\\left(r\\right)} n_0\\left(r\\right) \\omega\\left(r\\right) - {\\left(16 \\, {\\left(\\pi {\\Omega^{(1)}_{n}}^{2} - \\pi {\\Omega^{(1)}_{n}} {\\Omega^{(1)}_{p}}\\right)} r^{4} e^{\\lambda\\left(r\\right)} + 3 \\, \\pi r^{2} \\Phi_2\\left(r\\right) e^{\\left(\\lambda\\left(r\\right) + \\nu\\left(r\\right)\\right)} + 3 \\, \\pi r^{2} \\eta_2\\left(r\\right) e^{\\left(\\lambda\\left(r\\right) + \\nu\\left(r\\right)\\right)}\\right)} n_0\\left(r\\right)\\right)} p_0\\left(r\\right) \\mathrm{D}_{2}\\left(\\Lambda_{\\varepsilon}\\right)\\left(n_0\\left(r\\right)^{2}, p_0\\left(r\\right)^{2}, n_0\\left(r\\right) p_0\\left(r\\right)\\right) - 24 \\, {\\left(3 \\, \\pi r^{3} e^{\\left(\\lambda\\left(r\\right) + \\nu\\left(r\\right)\\right)} \\frac{\\partial}{\\partial r}h_2\\left(r\\right) + 2 \\, \\pi r^{3} e^{\\left(\\lambda\\left(r\\right) + \\nu\\left(r\\right)\\right)} \\frac{\\partial}{\\partial r}k_2\\left(r\\right) - 4 \\, \\pi r^{2} e^{\\left(\\lambda\\left(r\\right) + \\nu\\left(r\\right)\\right)} v_2\\left(r\\right)\\right)} \\Lambda_{\\varepsilon}\\left(n_0\\left(r\\right)^{2}, p_0\\left(r\\right)^{2}, n_0\\left(r\\right) p_0\\left(r\\right)\\right) + 16 \\, {\\left(6 \\, \\pi r^{3} e^{\\left(\\lambda\\left(r\\right) + \\nu\\left(r\\right)\\right)} p_0\\left(r\\right)^{2} \\frac{\\partial}{\\partial r}h_2\\left(r\\right) + 3 \\, \\pi r^{3} e^{\\left(\\lambda\\left(r\\right) + \\nu\\left(r\\right)\\right)} p_0\\left(r\\right)^{2} \\frac{\\partial}{\\partial r}k_2\\left(r\\right) - 3 \\, \\pi r^{3} e^{\\left(\\lambda\\left(r\\right) + \\nu\\left(r\\right)\\right)} p_0\\left(r\\right)^{2} \\frac{\\partial}{\\partial r}v_2\\left(r\\right) - 12 \\, \\pi r^{2} e^{\\left(\\lambda\\left(r\\right) + \\nu\\left(r\\right)\\right)} p_0\\left(r\\right)^{2} v_2\\left(r\\right) - {\\left(4 \\, \\pi {\\Omega^{(1)}_{p}}^{2} r^{4} e^{\\lambda\\left(r\\right)} - 8 \\, \\pi {\\Omega^{(1)}_{p}} r^{4} e^{\\lambda\\left(r\\right)} \\omega\\left(r\\right) + 4 \\, \\pi r^{4} e^{\\lambda\\left(r\\right)} \\omega\\left(r\\right)^{2} + 3 \\, \\pi r^{2} \\Phi_2\\left(r\\right) e^{\\left(\\lambda\\left(r\\right) + \\nu\\left(r\\right)\\right)}\\right)} p_0\\left(r\\right)^{2}\\right)} \\mathrm{D}_{1}\\left(\\Lambda_{\\varepsilon}\\right)\\left(n_0\\left(r\\right)^{2}, p_0\\left(r\\right)^{2}, n_0\\left(r\\right) p_0\\left(r\\right)\\right) + 3 \\, {\\left(32 \\, \\pi r^{3} e^{\\left(\\lambda\\left(r\\right) + \\nu\\left(r\\right)\\right)} n_0\\left(r\\right)^{2} \\mathrm{D}_{0}\\left(\\Lambda_{\\varepsilon}\\right)\\left(n_0\\left(r\\right)^{2}, p_0\\left(r\\right)^{2}, n_0\\left(r\\right) p_0\\left(r\\right)\\right) - {\\left(3 \\, r e^{\\lambda\\left(r\\right)} - r\\right)} e^{\\nu\\left(r\\right)}\\right)} \\frac{\\partial}{\\partial r}h_2\\left(r\\right) + 6 \\, {\\left(8 \\, \\pi r^{3} e^{\\left(\\lambda\\left(r\\right) + \\nu\\left(r\\right)\\right)} n_0\\left(r\\right)^{2} \\mathrm{D}_{0}\\left(\\Lambda_{\\varepsilon}\\right)\\left(n_0\\left(r\\right)^{2}, p_0\\left(r\\right)^{2}, n_0\\left(r\\right) p_0\\left(r\\right)\\right) - {\\left(r e^{\\lambda\\left(r\\right)} + r\\right)} e^{\\nu\\left(r\\right)}\\right)} \\frac{\\partial}{\\partial r}k_2\\left(r\\right) - 3 \\, {\\left(16 \\, \\pi r^{3} e^{\\left(\\lambda\\left(r\\right) + \\nu\\left(r\\right)\\right)} n_0\\left(r\\right)^{2} \\mathrm{D}_{0}\\left(\\Lambda_{\\varepsilon}\\right)\\left(n_0\\left(r\\right)^{2}, p_0\\left(r\\right)^{2}, n_0\\left(r\\right) p_0\\left(r\\right)\\right) - 8 \\, \\pi r^{3} \\Lambda_{\\varepsilon}\\left(n_0\\left(r\\right)^{2}, p_0\\left(r\\right)^{2}, n_0\\left(r\\right) p_0\\left(r\\right)\\right) e^{\\left(\\lambda\\left(r\\right) + \\nu\\left(r\\right)\\right)} - {\\left(r e^{\\lambda\\left(r\\right)} + r\\right)} e^{\\nu\\left(r\\right)}\\right)} \\frac{\\partial}{\\partial r}v_2\\left(r\\right)\\right)} \\cos\\left({\\theta}\\right)^{2} - 16 \\, {\\left(8 \\, \\pi {\\Omega^{(1)}_{n}}^{2} r^{4} e^{\\lambda\\left(r\\right)} \\mathrm{D}_{0}\\left(\\Lambda_{\\varepsilon}\\right)\\left(n_0\\left(r\\right)^{2}, p_0\\left(r\\right)^{2}, n_0\\left(r\\right) p_0\\left(r\\right)\\right) + 2 \\, \\pi r^{2} \\eta_0\\left(r\\right) e^{\\left(\\lambda\\left(r\\right) + \\nu\\left(r\\right)\\right)} \\mathrm{D}_{0}\\left(\\Lambda_{\\varepsilon}\\right)\\left(n_0\\left(r\\right)^{2}, p_0\\left(r\\right)^{2}, n_0\\left(r\\right) p_0\\left(r\\right)\\right) + 5 \\, \\pi r^{2} \\eta_2\\left(r\\right) e^{\\left(\\lambda\\left(r\\right) + \\nu\\left(r\\right)\\right)} \\mathrm{D}_{0}\\left(\\Lambda_{\\varepsilon}\\right)\\left(n_0\\left(r\\right)^{2}, p_0\\left(r\\right)^{2}, n_0\\left(r\\right) p_0\\left(r\\right)\\right)\\right)} n_0\\left(r\\right)^{2} - 8 \\, {\\left(40 \\, {\\left(\\pi {\\Omega^{(1)}_{n}} - \\pi {\\Omega^{(1)}_{p}}\\right)} r^{4} e^{\\lambda\\left(r\\right)} n_0\\left(r\\right) \\omega\\left(r\\right) - {\\left(40 \\, {\\left(\\pi {\\Omega^{(1)}_{n}}^{2} - \\pi {\\Omega^{(1)}_{n}} {\\Omega^{(1)}_{p}}\\right)} r^{4} e^{\\lambda\\left(r\\right)} + 2 \\, \\pi r^{2} \\Phi_0\\left(r\\right) e^{\\left(\\lambda\\left(r\\right) + \\nu\\left(r\\right)\\right)} + 5 \\, \\pi r^{2} \\Phi_2\\left(r\\right) e^{\\left(\\lambda\\left(r\\right) + \\nu\\left(r\\right)\\right)} + 2 \\, \\pi r^{2} \\eta_0\\left(r\\right) e^{\\left(\\lambda\\left(r\\right) + \\nu\\left(r\\right)\\right)} + 5 \\, \\pi r^{2} \\eta_2\\left(r\\right) e^{\\left(\\lambda\\left(r\\right) + \\nu\\left(r\\right)\\right)}\\right)} n_0\\left(r\\right)\\right)} p_0\\left(r\\right) \\mathrm{D}_{2}\\left(\\Lambda_{\\varepsilon}\\right)\\left(n_0\\left(r\\right)^{2}, p_0\\left(r\\right)^{2}, n_0\\left(r\\right) p_0\\left(r\\right)\\right) - 8 \\, {\\left(6 \\, \\pi r^{3} e^{\\left(\\lambda\\left(r\\right) + \\nu\\left(r\\right)\\right)} \\frac{\\partial}{\\partial r}h_0\\left(r\\right) + 15 \\, \\pi r^{3} e^{\\left(\\lambda\\left(r\\right) + \\nu\\left(r\\right)\\right)} \\frac{\\partial}{\\partial r}h_2\\left(r\\right) + 10 \\, \\pi r^{3} e^{\\left(\\lambda\\left(r\\right) + \\nu\\left(r\\right)\\right)} \\frac{\\partial}{\\partial r}k_2\\left(r\\right) - 8 \\, \\pi r^{2} e^{\\left(\\lambda\\left(r\\right) + \\nu\\left(r\\right)\\right)} v_0\\left(r\\right) - 20 \\, \\pi r^{2} e^{\\left(\\lambda\\left(r\\right) + \\nu\\left(r\\right)\\right)} v_2\\left(r\\right)\\right)} \\Lambda_{\\varepsilon}\\left(n_0\\left(r\\right)^{2}, p_0\\left(r\\right)^{2}, n_0\\left(r\\right) p_0\\left(r\\right)\\right) + 16 \\, {\\left(4 \\, \\pi r^{3} e^{\\left(\\lambda\\left(r\\right) + \\nu\\left(r\\right)\\right)} p_0\\left(r\\right)^{2} \\frac{\\partial}{\\partial r}h_0\\left(r\\right) + 10 \\, \\pi r^{3} e^{\\left(\\lambda\\left(r\\right) + \\nu\\left(r\\right)\\right)} p_0\\left(r\\right)^{2} \\frac{\\partial}{\\partial r}h_2\\left(r\\right) + 5 \\, \\pi r^{3} e^{\\left(\\lambda\\left(r\\right) + \\nu\\left(r\\right)\\right)} p_0\\left(r\\right)^{2} \\frac{\\partial}{\\partial r}k_2\\left(r\\right) - 2 \\, \\pi r^{3} e^{\\left(\\lambda\\left(r\\right) + \\nu\\left(r\\right)\\right)} p_0\\left(r\\right)^{2} \\frac{\\partial}{\\partial r}v_0\\left(r\\right) - 5 \\, \\pi r^{3} e^{\\left(\\lambda\\left(r\\right) + \\nu\\left(r\\right)\\right)} p_0\\left(r\\right)^{2} \\frac{\\partial}{\\partial r}v_2\\left(r\\right) - 8 \\, \\pi r^{2} e^{\\left(\\lambda\\left(r\\right) + \\nu\\left(r\\right)\\right)} p_0\\left(r\\right)^{2} v_0\\left(r\\right) - 20 \\, \\pi r^{2} e^{\\left(\\lambda\\left(r\\right) + \\nu\\left(r\\right)\\right)} p_0\\left(r\\right)^{2} v_2\\left(r\\right) - {\\left(8 \\, \\pi {\\Omega^{(1)}_{p}}^{2} r^{4} e^{\\lambda\\left(r\\right)} - 16 \\, \\pi {\\Omega^{(1)}_{p}} r^{4} e^{\\lambda\\left(r\\right)} \\omega\\left(r\\right) + 8 \\, \\pi r^{4} e^{\\lambda\\left(r\\right)} \\omega\\left(r\\right)^{2} + 2 \\, \\pi r^{2} \\Phi_0\\left(r\\right) e^{\\left(\\lambda\\left(r\\right) + \\nu\\left(r\\right)\\right)} + 5 \\, \\pi r^{2} \\Phi_2\\left(r\\right) e^{\\left(\\lambda\\left(r\\right) + \\nu\\left(r\\right)\\right)}\\right)} p_0\\left(r\\right)^{2}\\right)} \\mathrm{D}_{1}\\left(\\Lambda_{\\varepsilon}\\right)\\left(n_0\\left(r\\right)^{2}, p_0\\left(r\\right)^{2}, n_0\\left(r\\right) p_0\\left(r\\right)\\right) + 2 \\, {\\left(32 \\, \\pi r^{3} e^{\\left(\\lambda\\left(r\\right) + \\nu\\left(r\\right)\\right)} n_0\\left(r\\right)^{2} \\mathrm{D}_{0}\\left(\\Lambda_{\\varepsilon}\\right)\\left(n_0\\left(r\\right)^{2}, p_0\\left(r\\right)^{2}, n_0\\left(r\\right) p_0\\left(r\\right)\\right) - {\\left(3 \\, r e^{\\lambda\\left(r\\right)} - r\\right)} e^{\\nu\\left(r\\right)}\\right)} \\frac{\\partial}{\\partial r}h_0\\left(r\\right) + 5 \\, {\\left(32 \\, \\pi r^{3} e^{\\left(\\lambda\\left(r\\right) + \\nu\\left(r\\right)\\right)} n_0\\left(r\\right)^{2} \\mathrm{D}_{0}\\left(\\Lambda_{\\varepsilon}\\right)\\left(n_0\\left(r\\right)^{2}, p_0\\left(r\\right)^{2}, n_0\\left(r\\right) p_0\\left(r\\right)\\right) - {\\left(3 \\, r e^{\\lambda\\left(r\\right)} - r\\right)} e^{\\nu\\left(r\\right)}\\right)} \\frac{\\partial}{\\partial r}h_2\\left(r\\right) + 10 \\, {\\left(8 \\, \\pi r^{3} e^{\\left(\\lambda\\left(r\\right) + \\nu\\left(r\\right)\\right)} n_0\\left(r\\right)^{2} \\mathrm{D}_{0}\\left(\\Lambda_{\\varepsilon}\\right)\\left(n_0\\left(r\\right)^{2}, p_0\\left(r\\right)^{2}, n_0\\left(r\\right) p_0\\left(r\\right)\\right) - {\\left(r e^{\\lambda\\left(r\\right)} + r\\right)} e^{\\nu\\left(r\\right)}\\right)} \\frac{\\partial}{\\partial r}k_2\\left(r\\right) - 2 \\, {\\left(16 \\, \\pi r^{3} e^{\\left(\\lambda\\left(r\\right) + \\nu\\left(r\\right)\\right)} n_0\\left(r\\right)^{2} \\mathrm{D}_{0}\\left(\\Lambda_{\\varepsilon}\\right)\\left(n_0\\left(r\\right)^{2}, p_0\\left(r\\right)^{2}, n_0\\left(r\\right) p_0\\left(r\\right)\\right) - 8 \\, \\pi r^{3} \\Lambda_{\\varepsilon}\\left(n_0\\left(r\\right)^{2}, p_0\\left(r\\right)^{2}, n_0\\left(r\\right) p_0\\left(r\\right)\\right) e^{\\left(\\lambda\\left(r\\right) + \\nu\\left(r\\right)\\right)} - {\\left(r e^{\\lambda\\left(r\\right)} + r\\right)} e^{\\nu\\left(r\\right)}\\right)} \\frac{\\partial}{\\partial r}v_0\\left(r\\right) - 5 \\, {\\left(16 \\, \\pi r^{3} e^{\\left(\\lambda\\left(r\\right) + \\nu\\left(r\\right)\\right)} n_0\\left(r\\right)^{2} \\mathrm{D}_{0}\\left(\\Lambda_{\\varepsilon}\\right)\\left(n_0\\left(r\\right)^{2}, p_0\\left(r\\right)^{2}, n_0\\left(r\\right) p_0\\left(r\\right)\\right) - 8 \\, \\pi r^{3} \\Lambda_{\\varepsilon}\\left(n_0\\left(r\\right)^{2}, p_0\\left(r\\right)^{2}, n_0\\left(r\\right) p_0\\left(r\\right)\\right) e^{\\left(\\lambda\\left(r\\right) + \\nu\\left(r\\right)\\right)} - {\\left(r e^{\\lambda\\left(r\\right)} + r\\right)} e^{\\nu\\left(r\\right)}\\right)} \\frac{\\partial}{\\partial r}v_2\\left(r\\right)}{12 \\, {\\left(6 \\, \\cos\\left({\\theta}\\right)^{4} e^{\\left(\\lambda\\left(r\\right) + \\nu\\left(r\\right)\\right)} - 12 \\, \\cos\\left({\\theta}\\right)^{2} e^{\\left(\\lambda\\left(r\\right) + \\nu\\left(r\\right)\\right)} + 5 \\, e^{\\left(\\lambda\\left(r\\right) + \\nu\\left(r\\right)\\right)}\\right)}}$$"
      ],
      "text/plain": [
       "-1/12*(256*pi*Omegan1*r^4*e^lamb(r)*n0(r)^2*omega(r)*D[0](Lambdae)(n0(r)^2, p0(r)^2, n0(r)*p0(r)) - 128*pi*r^4*e^lamb(r)*n0(r)^2*omega(r)^2*D[0](Lambdae)(n0(r)^2, p0(r)^2, n0(r)*p0(r)) - 128*pi*r^2*e^(lamb(r) + nu(r))*n0(r)^2*v0(r)*D[0](Lambdae)(n0(r)^2, p0(r)^2, n0(r)*p0(r)) - 320*pi*r^2*e^(lamb(r) + nu(r))*n0(r)^2*v2(r)*D[0](Lambdae)(n0(r)^2, p0(r)^2, n0(r)*p0(r)) - 32*(2*pi*r^2*Phi0(r)*e^(lamb(r) + nu(r)) + 5*pi*r^2*Phi2(r)*e^(lamb(r) + nu(r)))*p0(r)^4*D[1, 1](Lambdae)(n0(r)^2, p0(r)^2, n0(r)*p0(r)) - 16*(2*pi*r^2*Phi0(r)*e^(lamb(r) + nu(r)) + 5*pi*r^2*Phi2(r)*e^(lamb(r) + nu(r)) + 2*pi*r^2*eta0(r)*e^(lamb(r) + nu(r)) + 5*pi*r^2*eta2(r)*e^(lamb(r) + nu(r)))*n0(r)*p0(r)^3*D[1, 2](Lambdae)(n0(r)^2, p0(r)^2, n0(r)*p0(r)) + 3*r^4*diff(omega(r), r)^2 + 3*(128*pi*Omegan1*r^4*e^lamb(r)*n0(r)^2*omega(r)*D[0](Lambdae)(n0(r)^2, p0(r)^2, n0(r)*p0(r)) - 64*pi*r^4*e^lamb(r)*n0(r)^2*omega(r)^2*D[0](Lambdae)(n0(r)^2, p0(r)^2, n0(r)*p0(r)) - 96*pi*r^2*eta2(r)*e^(lamb(r) + nu(r))*n0(r)^4*D[0, 0](Lambdae)(n0(r)^2, p0(r)^2, n0(r)*p0(r)) - 96*pi*r^2*Phi2(r)*e^(lamb(r) + nu(r))*p0(r)^4*D[1, 1](Lambdae)(n0(r)^2, p0(r)^2, n0(r)*p0(r)) - 192*pi*r^2*e^(lamb(r) + nu(r))*n0(r)^2*v2(r)*D[0](Lambdae)(n0(r)^2, p0(r)^2, n0(r)*p0(r)) - 48*(pi*r^2*Phi2(r)*e^(lamb(r) + nu(r)) + pi*r^2*eta2(r)*e^(lamb(r) + nu(r)))*n0(r)*p0(r)^3*D[1, 2](Lambdae)(n0(r)^2, p0(r)^2, n0(r)*p0(r)) + r^4*diff(omega(r), r)^2 - 48*(pi*r^2*Phi2(r)*e^(lamb(r) + nu(r))*D[0, 2](Lambdae)(n0(r)^2, p0(r)^2, n0(r)*p0(r)) + pi*r^2*eta2(r)*e^(lamb(r) + nu(r))*D[0, 2](Lambdae)(n0(r)^2, p0(r)^2, n0(r)*p0(r)))*n0(r)^3*p0(r) - 96*(pi*r^2*Phi2(r)*e^(lamb(r) + nu(r))*D[0, 1](Lambdae)(n0(r)^2, p0(r)^2, n0(r)*p0(r)) + pi*r^2*eta2(r)*e^(lamb(r) + nu(r))*D[0, 1](Lambdae)(n0(r)^2, p0(r)^2, n0(r)*p0(r)))*n0(r)^2*p0(r)^2 - 6*r^2*e^nu(r)*diff(h2(r), r, r) - 6*r^2*e^nu(r)*diff(k2(r), r, r) - 16*(4*pi*Omegan1^2*r^4*e^lamb(r)*D[0](Lambdae)(n0(r)^2, p0(r)^2, n0(r)*p0(r)) + 3*pi*r^2*eta2(r)*e^(lamb(r) + nu(r))*D[0](Lambdae)(n0(r)^2, p0(r)^2, n0(r)*p0(r)))*n0(r)^2 - 8*(16*(pi*Omegan1 - pi*Omegap1)*r^4*e^lamb(r)*n0(r)*omega(r) - (16*(pi*Omegan1^2 - pi*Omegan1*Omegap1)*r^4*e^lamb(r) + 3*pi*r^2*Phi2(r)*e^(lamb(r) + nu(r)) + 3*pi*r^2*eta2(r)*e^(lamb(r) + nu(r)))*n0(r))*p0(r)*D[2](Lambdae)(n0(r)^2, p0(r)^2, n0(r)*p0(r)) - 24*(3*pi*r^3*e^(lamb(r) + nu(r))*diff(h2(r), r) + 2*pi*r^3*e^(lamb(r) + nu(r))*diff(k2(r), r) - 4*pi*r^2*e^(lamb(r) + nu(r))*v2(r))*Lambdae(n0(r)^2, p0(r)^2, n0(r)*p0(r)) + 16*(6*pi*r^3*e^(lamb(r) + nu(r))*p0(r)^2*diff(h2(r), r) + 3*pi*r^3*e^(lamb(r) + nu(r))*p0(r)^2*diff(k2(r), r) - 3*pi*r^3*e^(lamb(r) + nu(r))*p0(r)^2*diff(v2(r), r) - 12*pi*r^2*e^(lamb(r) + nu(r))*p0(r)^2*v2(r) - (4*pi*Omegap1^2*r^4*e^lamb(r) - 8*pi*Omegap1*r^4*e^lamb(r)*omega(r) + 4*pi*r^4*e^lamb(r)*omega(r)^2 + 3*pi*r^2*Phi2(r)*e^(lamb(r) + nu(r)))*p0(r)^2)*D[1](Lambdae)(n0(r)^2, p0(r)^2, n0(r)*p0(r)) + 3*(32*pi*r^3*e^(lamb(r) + nu(r))*n0(r)^2*D[0](Lambdae)(n0(r)^2, p0(r)^2, n0(r)*p0(r)) - (3*r*e^lamb(r) - r)*e^nu(r))*diff(h2(r), r) + 6*(8*pi*r^3*e^(lamb(r) + nu(r))*n0(r)^2*D[0](Lambdae)(n0(r)^2, p0(r)^2, n0(r)*p0(r)) - (r*e^lamb(r) + r)*e^nu(r))*diff(k2(r), r) - 3*(16*pi*r^3*e^(lamb(r) + nu(r))*n0(r)^2*D[0](Lambdae)(n0(r)^2, p0(r)^2, n0(r)*p0(r)) - 8*pi*r^3*Lambdae(n0(r)^2, p0(r)^2, n0(r)*p0(r))*e^(lamb(r) + nu(r)) - (r*e^lamb(r) + r)*e^nu(r))*diff(v2(r), r))*cos(th)^4 - 32*(2*pi*r^2*eta0(r)*e^(lamb(r) + nu(r))*D[0, 0](Lambdae)(n0(r)^2, p0(r)^2, n0(r)*p0(r)) + 5*pi*r^2*eta2(r)*e^(lamb(r) + nu(r))*D[0, 0](Lambdae)(n0(r)^2, p0(r)^2, n0(r)*p0(r)))*n0(r)^4 - 16*(2*pi*r^2*Phi0(r)*e^(lamb(r) + nu(r))*D[0, 2](Lambdae)(n0(r)^2, p0(r)^2, n0(r)*p0(r)) + 5*pi*r^2*Phi2(r)*e^(lamb(r) + nu(r))*D[0, 2](Lambdae)(n0(r)^2, p0(r)^2, n0(r)*p0(r)) + 2*pi*r^2*eta0(r)*e^(lamb(r) + nu(r))*D[0, 2](Lambdae)(n0(r)^2, p0(r)^2, n0(r)*p0(r)) + 5*pi*r^2*eta2(r)*e^(lamb(r) + nu(r))*D[0, 2](Lambdae)(n0(r)^2, p0(r)^2, n0(r)*p0(r)))*n0(r)^3*p0(r) - 32*(2*pi*r^2*Phi0(r)*e^(lamb(r) + nu(r))*D[0, 1](Lambdae)(n0(r)^2, p0(r)^2, n0(r)*p0(r)) + 5*pi*r^2*Phi2(r)*e^(lamb(r) + nu(r))*D[0, 1](Lambdae)(n0(r)^2, p0(r)^2, n0(r)*p0(r)) + 2*pi*r^2*eta0(r)*e^(lamb(r) + nu(r))*D[0, 1](Lambdae)(n0(r)^2, p0(r)^2, n0(r)*p0(r)) + 5*pi*r^2*eta2(r)*e^(lamb(r) + nu(r))*D[0, 1](Lambdae)(n0(r)^2, p0(r)^2, n0(r)*p0(r)))*n0(r)^2*p0(r)^2 - 4*r^2*e^nu(r)*diff(h0(r), r, r) - 10*r^2*e^nu(r)*diff(h2(r), r, r) - 10*r^2*e^nu(r)*diff(k2(r), r, r) - 6*(128*pi*Omegan1*r^4*e^lamb(r)*n0(r)^2*omega(r)*D[0](Lambdae)(n0(r)^2, p0(r)^2, n0(r)*p0(r)) - 64*pi*r^4*e^lamb(r)*n0(r)^2*omega(r)^2*D[0](Lambdae)(n0(r)^2, p0(r)^2, n0(r)*p0(r)) - 96*pi*r^2*eta2(r)*e^(lamb(r) + nu(r))*n0(r)^4*D[0, 0](Lambdae)(n0(r)^2, p0(r)^2, n0(r)*p0(r)) - 96*pi*r^2*Phi2(r)*e^(lamb(r) + nu(r))*p0(r)^4*D[1, 1](Lambdae)(n0(r)^2, p0(r)^2, n0(r)*p0(r)) - 192*pi*r^2*e^(lamb(r) + nu(r))*n0(r)^2*v2(r)*D[0](Lambdae)(n0(r)^2, p0(r)^2, n0(r)*p0(r)) - 48*(pi*r^2*Phi2(r)*e^(lamb(r) + nu(r)) + pi*r^2*eta2(r)*e^(lamb(r) + nu(r)))*n0(r)*p0(r)^3*D[1, 2](Lambdae)(n0(r)^2, p0(r)^2, n0(r)*p0(r)) + r^4*diff(omega(r), r)^2 - 48*(pi*r^2*Phi2(r)*e^(lamb(r) + nu(r))*D[0, 2](Lambdae)(n0(r)^2, p0(r)^2, n0(r)*p0(r)) + pi*r^2*eta2(r)*e^(lamb(r) + nu(r))*D[0, 2](Lambdae)(n0(r)^2, p0(r)^2, n0(r)*p0(r)))*n0(r)^3*p0(r) - 96*(pi*r^2*Phi2(r)*e^(lamb(r) + nu(r))*D[0, 1](Lambdae)(n0(r)^2, p0(r)^2, n0(r)*p0(r)) + pi*r^2*eta2(r)*e^(lamb(r) + nu(r))*D[0, 1](Lambdae)(n0(r)^2, p0(r)^2, n0(r)*p0(r)))*n0(r)^2*p0(r)^2 - 6*r^2*e^nu(r)*diff(h2(r), r, r) - 6*r^2*e^nu(r)*diff(k2(r), r, r) - 16*(4*pi*Omegan1^2*r^4*e^lamb(r)*D[0](Lambdae)(n0(r)^2, p0(r)^2, n0(r)*p0(r)) + 3*pi*r^2*eta2(r)*e^(lamb(r) + nu(r))*D[0](Lambdae)(n0(r)^2, p0(r)^2, n0(r)*p0(r)))*n0(r)^2 - 8*(16*(pi*Omegan1 - pi*Omegap1)*r^4*e^lamb(r)*n0(r)*omega(r) - (16*(pi*Omegan1^2 - pi*Omegan1*Omegap1)*r^4*e^lamb(r) + 3*pi*r^2*Phi2(r)*e^(lamb(r) + nu(r)) + 3*pi*r^2*eta2(r)*e^(lamb(r) + nu(r)))*n0(r))*p0(r)*D[2](Lambdae)(n0(r)^2, p0(r)^2, n0(r)*p0(r)) - 24*(3*pi*r^3*e^(lamb(r) + nu(r))*diff(h2(r), r) + 2*pi*r^3*e^(lamb(r) + nu(r))*diff(k2(r), r) - 4*pi*r^2*e^(lamb(r) + nu(r))*v2(r))*Lambdae(n0(r)^2, p0(r)^2, n0(r)*p0(r)) + 16*(6*pi*r^3*e^(lamb(r) + nu(r))*p0(r)^2*diff(h2(r), r) + 3*pi*r^3*e^(lamb(r) + nu(r))*p0(r)^2*diff(k2(r), r) - 3*pi*r^3*e^(lamb(r) + nu(r))*p0(r)^2*diff(v2(r), r) - 12*pi*r^2*e^(lamb(r) + nu(r))*p0(r)^2*v2(r) - (4*pi*Omegap1^2*r^4*e^lamb(r) - 8*pi*Omegap1*r^4*e^lamb(r)*omega(r) + 4*pi*r^4*e^lamb(r)*omega(r)^2 + 3*pi*r^2*Phi2(r)*e^(lamb(r) + nu(r)))*p0(r)^2)*D[1](Lambdae)(n0(r)^2, p0(r)^2, n0(r)*p0(r)) + 3*(32*pi*r^3*e^(lamb(r) + nu(r))*n0(r)^2*D[0](Lambdae)(n0(r)^2, p0(r)^2, n0(r)*p0(r)) - (3*r*e^lamb(r) - r)*e^nu(r))*diff(h2(r), r) + 6*(8*pi*r^3*e^(lamb(r) + nu(r))*n0(r)^2*D[0](Lambdae)(n0(r)^2, p0(r)^2, n0(r)*p0(r)) - (r*e^lamb(r) + r)*e^nu(r))*diff(k2(r), r) - 3*(16*pi*r^3*e^(lamb(r) + nu(r))*n0(r)^2*D[0](Lambdae)(n0(r)^2, p0(r)^2, n0(r)*p0(r)) - 8*pi*r^3*Lambdae(n0(r)^2, p0(r)^2, n0(r)*p0(r))*e^(lamb(r) + nu(r)) - (r*e^lamb(r) + r)*e^nu(r))*diff(v2(r), r))*cos(th)^2 - 16*(8*pi*Omegan1^2*r^4*e^lamb(r)*D[0](Lambdae)(n0(r)^2, p0(r)^2, n0(r)*p0(r)) + 2*pi*r^2*eta0(r)*e^(lamb(r) + nu(r))*D[0](Lambdae)(n0(r)^2, p0(r)^2, n0(r)*p0(r)) + 5*pi*r^2*eta2(r)*e^(lamb(r) + nu(r))*D[0](Lambdae)(n0(r)^2, p0(r)^2, n0(r)*p0(r)))*n0(r)^2 - 8*(40*(pi*Omegan1 - pi*Omegap1)*r^4*e^lamb(r)*n0(r)*omega(r) - (40*(pi*Omegan1^2 - pi*Omegan1*Omegap1)*r^4*e^lamb(r) + 2*pi*r^2*Phi0(r)*e^(lamb(r) + nu(r)) + 5*pi*r^2*Phi2(r)*e^(lamb(r) + nu(r)) + 2*pi*r^2*eta0(r)*e^(lamb(r) + nu(r)) + 5*pi*r^2*eta2(r)*e^(lamb(r) + nu(r)))*n0(r))*p0(r)*D[2](Lambdae)(n0(r)^2, p0(r)^2, n0(r)*p0(r)) - 8*(6*pi*r^3*e^(lamb(r) + nu(r))*diff(h0(r), r) + 15*pi*r^3*e^(lamb(r) + nu(r))*diff(h2(r), r) + 10*pi*r^3*e^(lamb(r) + nu(r))*diff(k2(r), r) - 8*pi*r^2*e^(lamb(r) + nu(r))*v0(r) - 20*pi*r^2*e^(lamb(r) + nu(r))*v2(r))*Lambdae(n0(r)^2, p0(r)^2, n0(r)*p0(r)) + 16*(4*pi*r^3*e^(lamb(r) + nu(r))*p0(r)^2*diff(h0(r), r) + 10*pi*r^3*e^(lamb(r) + nu(r))*p0(r)^2*diff(h2(r), r) + 5*pi*r^3*e^(lamb(r) + nu(r))*p0(r)^2*diff(k2(r), r) - 2*pi*r^3*e^(lamb(r) + nu(r))*p0(r)^2*diff(v0(r), r) - 5*pi*r^3*e^(lamb(r) + nu(r))*p0(r)^2*diff(v2(r), r) - 8*pi*r^2*e^(lamb(r) + nu(r))*p0(r)^2*v0(r) - 20*pi*r^2*e^(lamb(r) + nu(r))*p0(r)^2*v2(r) - (8*pi*Omegap1^2*r^4*e^lamb(r) - 16*pi*Omegap1*r^4*e^lamb(r)*omega(r) + 8*pi*r^4*e^lamb(r)*omega(r)^2 + 2*pi*r^2*Phi0(r)*e^(lamb(r) + nu(r)) + 5*pi*r^2*Phi2(r)*e^(lamb(r) + nu(r)))*p0(r)^2)*D[1](Lambdae)(n0(r)^2, p0(r)^2, n0(r)*p0(r)) + 2*(32*pi*r^3*e^(lamb(r) + nu(r))*n0(r)^2*D[0](Lambdae)(n0(r)^2, p0(r)^2, n0(r)*p0(r)) - (3*r*e^lamb(r) - r)*e^nu(r))*diff(h0(r), r) + 5*(32*pi*r^3*e^(lamb(r) + nu(r))*n0(r)^2*D[0](Lambdae)(n0(r)^2, p0(r)^2, n0(r)*p0(r)) - (3*r*e^lamb(r) - r)*e^nu(r))*diff(h2(r), r) + 10*(8*pi*r^3*e^(lamb(r) + nu(r))*n0(r)^2*D[0](Lambdae)(n0(r)^2, p0(r)^2, n0(r)*p0(r)) - (r*e^lamb(r) + r)*e^nu(r))*diff(k2(r), r) - 2*(16*pi*r^3*e^(lamb(r) + nu(r))*n0(r)^2*D[0](Lambdae)(n0(r)^2, p0(r)^2, n0(r)*p0(r)) - 8*pi*r^3*Lambdae(n0(r)^2, p0(r)^2, n0(r)*p0(r))*e^(lamb(r) + nu(r)) - (r*e^lamb(r) + r)*e^nu(r))*diff(v0(r), r) - 5*(16*pi*r^3*e^(lamb(r) + nu(r))*n0(r)^2*D[0](Lambdae)(n0(r)^2, p0(r)^2, n0(r)*p0(r)) - 8*pi*r^3*Lambdae(n0(r)^2, p0(r)^2, n0(r)*p0(r))*e^(lamb(r) + nu(r)) - (r*e^lamb(r) + r)*e^nu(r))*diff(v2(r), r))/(6*cos(th)^4*e^(lamb(r) + nu(r)) - 12*cos(th)^2*e^(lamb(r) + nu(r)) + 5*e^(lamb(r) + nu(r)))"
      ]
     },
     "metadata": {},
     "output_type": "display_data"
    }
   ],
   "source": [
    "ddEq_2233 = ddG[2,2] - kappa*ddT[2,2] - ddG[3,3] + kappa*ddT[3,3] == 0\n",
    "\n",
    "h2_value = solve(ddEq_2233, h2)[0].rhs()\n",
    "h2_paper = r^4/(6*e^(nu+lamb))*formal_diff(Ln,r)^2 + 8*pi*r^4/(3*e^nu)*(Psi0-Lambda0)*Ln^2\\\n",
    "         + 8*pi*r^4/(3*e^(nu))*(chi0*p0*(Omegan1-Omegap1)*(Ln+Lp) - A0*n0*p0*(Omegan1-Omegap1)^2) - v2\n",
    "\n",
    "for ii in range(len(sus_func)):\n",
    "    h2_value = h2_value.subs(sus_func[ii])\n",
    "    h2_paper = h2_paper.subs(sus_func[ii])\n",
    "\n",
    "h2_value = h2_value.simplify_full()\n",
    "h2_paper = h2_paper.simplify_full()\n",
    "for ii in range(len(sus_legendre)):\n",
    "    h2_value = h2_value.subs(sus_legendre[ii])\n",
    "    h2_paper = h2_paper.subs(sus_legendre[ii]\n",
    "\n",
    "h2_value = (h2_value - h2_value.subs(LP2==0))/LP2\n",
    "h2_paper = (h2_paper - h2_paper.subs(LP2==0))/LP2\n",
    "h2_check = (h2_value - h2_paper).simplify_full()\n",
    "\n",
    "show(LatexExpr(\"h_2 \\\\rightarrow\"), bool(h2_check==0))\n",
    "\n",
    "show(EN(h2_check))"
   ]
  },
  {
   "cell_type": "markdown",
   "metadata": {},
   "source": [
    "Ecuación (46)"
   ]
  },
  {
   "cell_type": "code",
   "execution_count": 41,
   "metadata": {},
   "outputs": [
    {
     "data": {
      "text/html": [
       "<html>\\[\\newcommand{\\Bold}[1]{\\mathbf{#1}}\\text{Ecuación (46) }\\rightarrow \\mathrm{True}\\]</html>"
      ],
      "text/latex": [
       "$$\\newcommand{\\Bold}[1]{\\mathbf{#1}}\\text{Ecuación (46) }\\rightarrow \\mathrm{True}$$"
      ],
      "text/plain": [
       "\\text{Ecuación (46) }\\rightarrow True"
      ]
     },
     "metadata": {},
     "output_type": "display_data"
    },
    {
     "data": {
      "text/html": [
       "<html>\\[\\newcommand{\\Bold}[1]{\\mathbf{#1}}16.0 \\, \\pi r^{2} e^{\\lambda\\left(r\\right)} h_2\\left(r\\right) n_0\\left(r\\right)^{2} \\mathrm{D}_{0}\\left(\\Lambda_{\\varepsilon}\\right)\\left(n_0\\left(r\\right)^{2}, p_0\\left(r\\right)^{2}, n_0\\left(r\\right) p_0\\left(r\\right)\\right) - r {\\left(\\frac{{\\left(16 \\, \\pi r^{2} e^{\\lambda\\left(r\\right)} n_0\\left(r\\right)^{2} \\mathrm{D}_{0}\\left(\\Lambda_{\\varepsilon}\\right)\\left(n_0\\left(r\\right)^{2}, p_0\\left(r\\right)^{2}, n_0\\left(r\\right) p_0\\left(r\\right)\\right) + 16 \\, \\pi r^{2} e^{\\lambda\\left(r\\right)} p_0\\left(r\\right)^{2} \\mathrm{D}_{1}\\left(\\Lambda_{\\varepsilon}\\right)\\left(n_0\\left(r\\right)^{2}, p_0\\left(r\\right)^{2}, n_0\\left(r\\right) p_0\\left(r\\right)\\right) - 8 \\, \\pi r^{2} \\Lambda_{\\varepsilon}\\left(n_0\\left(r\\right)^{2}, p_0\\left(r\\right)^{2}, n_0\\left(r\\right) p_0\\left(r\\right)\\right) e^{\\lambda\\left(r\\right)} - e^{\\lambda\\left(r\\right)} + 1\\right)} {\\left(h_2\\left(r\\right) - v_2\\left(r\\right)\\right)}}{r} + \\frac{2 \\, {\\left(h_2\\left(r\\right) + v_2\\left(r\\right)\\right)}}{r} - 2 \\, \\frac{\\partial}{\\partial r}h_2\\left(r\\right) - 2 \\, \\frac{\\partial}{\\partial r}k_2\\left(r\\right)\\right)} - \\frac{1}{3} \\, {\\left(24.0 \\, \\pi r^{2} e^{\\lambda\\left(r\\right)} h_2\\left(r\\right) - 24.0 \\, \\pi r^{2} e^{\\lambda\\left(r\\right)} v_2\\left(r\\right)\\right)} \\Lambda_{\\varepsilon}\\left(n_0\\left(r\\right)^{2}, p_0\\left(r\\right)^{2}, n_0\\left(r\\right) p_0\\left(r\\right)\\right) - \\frac{1}{3} \\, {\\left(3.0 \\, e^{\\lambda\\left(r\\right)} - 9.0\\right)} h_2\\left(r\\right) - \\frac{1}{3} \\, {\\left(48.0 \\, \\pi r^{2} e^{\\lambda\\left(r\\right)} n_0\\left(r\\right)^{2} \\mathrm{D}_{0}\\left(\\Lambda_{\\varepsilon}\\right)\\left(n_0\\left(r\\right)^{2}, p_0\\left(r\\right)^{2}, n_0\\left(r\\right) p_0\\left(r\\right)\\right) - 3.0 \\, e^{\\lambda\\left(r\\right)} - 3.0\\right)} v_2\\left(r\\right) - \\frac{1}{3} \\, {\\left(-48.0 \\, \\pi r^{2} e^{\\lambda\\left(r\\right)} h_2\\left(r\\right) p_0\\left(r\\right)^{2} + 48.0 \\, \\pi r^{2} e^{\\lambda\\left(r\\right)} p_0\\left(r\\right)^{2} v_2\\left(r\\right)\\right)} \\mathrm{D}_{1}\\left(\\Lambda_{\\varepsilon}\\right)\\left(n_0\\left(r\\right)^{2}, p_0\\left(r\\right)^{2}, n_0\\left(r\\right) p_0\\left(r\\right)\\right) - 2.0 \\, r \\frac{\\partial}{\\partial r}h_2\\left(r\\right) - 2.0 \\, r \\frac{\\partial}{\\partial r}k_2\\left(r\\right)\\]</html>"
      ],
      "text/latex": [
       "$$\\newcommand{\\Bold}[1]{\\mathbf{#1}}16.0 \\, \\pi r^{2} e^{\\lambda\\left(r\\right)} h_2\\left(r\\right) n_0\\left(r\\right)^{2} \\mathrm{D}_{0}\\left(\\Lambda_{\\varepsilon}\\right)\\left(n_0\\left(r\\right)^{2}, p_0\\left(r\\right)^{2}, n_0\\left(r\\right) p_0\\left(r\\right)\\right) - r {\\left(\\frac{{\\left(16 \\, \\pi r^{2} e^{\\lambda\\left(r\\right)} n_0\\left(r\\right)^{2} \\mathrm{D}_{0}\\left(\\Lambda_{\\varepsilon}\\right)\\left(n_0\\left(r\\right)^{2}, p_0\\left(r\\right)^{2}, n_0\\left(r\\right) p_0\\left(r\\right)\\right) + 16 \\, \\pi r^{2} e^{\\lambda\\left(r\\right)} p_0\\left(r\\right)^{2} \\mathrm{D}_{1}\\left(\\Lambda_{\\varepsilon}\\right)\\left(n_0\\left(r\\right)^{2}, p_0\\left(r\\right)^{2}, n_0\\left(r\\right) p_0\\left(r\\right)\\right) - 8 \\, \\pi r^{2} \\Lambda_{\\varepsilon}\\left(n_0\\left(r\\right)^{2}, p_0\\left(r\\right)^{2}, n_0\\left(r\\right) p_0\\left(r\\right)\\right) e^{\\lambda\\left(r\\right)} - e^{\\lambda\\left(r\\right)} + 1\\right)} {\\left(h_2\\left(r\\right) - v_2\\left(r\\right)\\right)}}{r} + \\frac{2 \\, {\\left(h_2\\left(r\\right) + v_2\\left(r\\right)\\right)}}{r} - 2 \\, \\frac{\\partial}{\\partial r}h_2\\left(r\\right) - 2 \\, \\frac{\\partial}{\\partial r}k_2\\left(r\\right)\\right)} - \\frac{1}{3} \\, {\\left(24.0 \\, \\pi r^{2} e^{\\lambda\\left(r\\right)} h_2\\left(r\\right) - 24.0 \\, \\pi r^{2} e^{\\lambda\\left(r\\right)} v_2\\left(r\\right)\\right)} \\Lambda_{\\varepsilon}\\left(n_0\\left(r\\right)^{2}, p_0\\left(r\\right)^{2}, n_0\\left(r\\right) p_0\\left(r\\right)\\right) - \\frac{1}{3} \\, {\\left(3.0 \\, e^{\\lambda\\left(r\\right)} - 9.0\\right)} h_2\\left(r\\right) - \\frac{1}{3} \\, {\\left(48.0 \\, \\pi r^{2} e^{\\lambda\\left(r\\right)} n_0\\left(r\\right)^{2} \\mathrm{D}_{0}\\left(\\Lambda_{\\varepsilon}\\right)\\left(n_0\\left(r\\right)^{2}, p_0\\left(r\\right)^{2}, n_0\\left(r\\right) p_0\\left(r\\right)\\right) - 3.0 \\, e^{\\lambda\\left(r\\right)} - 3.0\\right)} v_2\\left(r\\right) - \\frac{1}{3} \\, {\\left(-48.0 \\, \\pi r^{2} e^{\\lambda\\left(r\\right)} h_2\\left(r\\right) p_0\\left(r\\right)^{2} + 48.0 \\, \\pi r^{2} e^{\\lambda\\left(r\\right)} p_0\\left(r\\right)^{2} v_2\\left(r\\right)\\right)} \\mathrm{D}_{1}\\left(\\Lambda_{\\varepsilon}\\right)\\left(n_0\\left(r\\right)^{2}, p_0\\left(r\\right)^{2}, n_0\\left(r\\right) p_0\\left(r\\right)\\right) - 2.0 \\, r \\frac{\\partial}{\\partial r}h_2\\left(r\\right) - 2.0 \\, r \\frac{\\partial}{\\partial r}k_2\\left(r\\right)$$"
      ],
      "text/plain": [
       "16.0*pi*r^2*e^lamb(r)*h2(r)*n0(r)^2*D[0](Lambdae)(n0(r)^2, p0(r)^2, n0(r)*p0(r)) - r*((16*pi*r^2*e^lamb(r)*n0(r)^2*D[0](Lambdae)(n0(r)^2, p0(r)^2, n0(r)*p0(r)) + 16*pi*r^2*e^lamb(r)*p0(r)^2*D[1](Lambdae)(n0(r)^2, p0(r)^2, n0(r)*p0(r)) - 8*pi*r^2*Lambdae(n0(r)^2, p0(r)^2, n0(r)*p0(r))*e^lamb(r) - e^lamb(r) + 1)*(h2(r) - v2(r))/r + 2*(h2(r) + v2(r))/r - 2*diff(h2(r), r) - 2*diff(k2(r), r)) - 1/3*(24.0*pi*r^2*e^lamb(r)*h2(r) - 24.0*pi*r^2*e^lamb(r)*v2(r))*Lambdae(n0(r)^2, p0(r)^2, n0(r)*p0(r)) - 1/3*(3.0*e^lamb(r) - 9.0)*h2(r) - 1/3*(48.0*pi*r^2*e^lamb(r)*n0(r)^2*D[0](Lambdae)(n0(r)^2, p0(r)^2, n0(r)*p0(r)) - 3.0*e^lamb(r) - 3.0)*v2(r) - 1/3*(-48.0*pi*r^2*e^lamb(r)*h2(r)*p0(r)^2 + 48.0*pi*r^2*e^lamb(r)*p0(r)^2*v2(r))*D[1](Lambdae)(n0(r)^2, p0(r)^2, n0(r)*p0(r)) - 2.0*r*diff(h2(r), r) - 2.0*r*diff(k2(r), r)"
      ]
     },
     "metadata": {},
     "output_type": "display_data"
    }
   ],
   "source": [
    "ddEq_12 = (ddG[1,2] - kappa*ddT[1,2])*(-r/(3*cos(th)*sin(th)))\n",
    "ddEq_12_paper = (1/r*(v2+h2) - formal_diff(k2+h2,r) - formal_diff(nu,r)/2*(h2-v2))*2*r\n",
    "for ii in range(len(sus_func)):\n",
    "    ddEq_12 = ddEq_12.subs(sus_func[ii])\n",
    "    ddEq_12_paper = ddEq_12_paper.subs(sus_func[ii])\n",
    "\n",
    "ddEq_12_check = (ddEq_12 - ddEq_12_paper).simplify_full()\n",
    "\n",
    "show(LatexExpr(\"\\\\text{Ecuación (46) }\\\\rightarrow\"), bool(ddEq_12_check==0))\n",
    "\n",
    "show(EN(ddEq_12_check))"
   ]
  },
  {
   "cell_type": "markdown",
   "metadata": {},
   "source": [
    "Ecuación (48)"
   ]
  },
  {
   "cell_type": "code",
   "execution_count": 48,
   "metadata": {},
   "outputs": [
    {
     "data": {
      "text/html": [
       "<html>\\[\\newcommand{\\Bold}[1]{\\mathbf{#1}}\\text{Ecuación (48) }\\rightarrow \\mathrm{False}\\]</html>"
      ],
      "text/latex": [
       "$$\\newcommand{\\Bold}[1]{\\mathbf{#1}}\\text{Ecuación (48) }\\rightarrow \\mathrm{False}$$"
      ],
      "text/plain": [
       "\\text{Ecuación (48) }\\rightarrow False"
      ]
     },
     "metadata": {},
     "output_type": "display_data"
    },
    {
     "data": {
      "text/html": [
       "<html>\\[\\newcommand{\\Bold}[1]{\\mathbf{#1}}\\frac{{\\left(128 \\, \\pi {\\Omega^{(1)}_{n}} r^{4} e^{\\lambda\\left(r\\right)} n_0\\left(r\\right)^{2} \\omega\\left(r\\right) \\mathrm{D}_{0}\\left(\\Lambda_{\\varepsilon}\\right)\\left(n_0\\left(r\\right)^{2}, p_0\\left(r\\right)^{2}, n_0\\left(r\\right) p_0\\left(r\\right)\\right) - 64 \\, \\pi r^{4} e^{\\lambda\\left(r\\right)} n_0\\left(r\\right)^{2} \\omega\\left(r\\right)^{2} \\mathrm{D}_{0}\\left(\\Lambda_{\\varepsilon}\\right)\\left(n_0\\left(r\\right)^{2}, p_0\\left(r\\right)^{2}, n_0\\left(r\\right) p_0\\left(r\\right)\\right) + r^{4} \\frac{\\partial}{\\partial r}\\omega\\left(r\\right)^{2} - 32 \\, {\\left(2 \\, \\pi {\\Omega^{(1)}_{p}}^{2} r^{4} e^{\\lambda\\left(r\\right)} - 4 \\, \\pi {\\Omega^{(1)}_{p}} r^{4} e^{\\lambda\\left(r\\right)} \\omega\\left(r\\right) + 2 \\, \\pi r^{4} e^{\\lambda\\left(r\\right)} \\omega\\left(r\\right)^{2} - 3 \\, \\pi r^{2} \\Phi_0\\left(r\\right) e^{\\left(\\lambda\\left(r\\right) + \\nu\\left(r\\right)\\right)}\\right)} p_0\\left(r\\right)^{2} \\mathrm{D}_{1}\\left(\\Lambda_{\\varepsilon}\\right)\\left(n_0\\left(r\\right)^{2}, p_0\\left(r\\right)^{2}, n_0\\left(r\\right) p_0\\left(r\\right)\\right) - 12 \\, r^{2} e^{\\nu\\left(r\\right)} \\frac{\\partial^{2}}{(\\partial r)^{2}}k_2\\left(r\\right) - 32 \\, {\\left(2 \\, \\pi {\\Omega^{(1)}_{n}}^{2} r^{4} e^{\\lambda\\left(r\\right)} \\mathrm{D}_{0}\\left(\\Lambda_{\\varepsilon}\\right)\\left(n_0\\left(r\\right)^{2}, p_0\\left(r\\right)^{2}, n_0\\left(r\\right) p_0\\left(r\\right)\\right) - 3 \\, \\pi r^{2} \\eta_0\\left(r\\right) e^{\\left(\\lambda\\left(r\\right) + \\nu\\left(r\\right)\\right)} \\mathrm{D}_{0}\\left(\\Lambda_{\\varepsilon}\\right)\\left(n_0\\left(r\\right)^{2}, p_0\\left(r\\right)^{2}, n_0\\left(r\\right) p_0\\left(r\\right)\\right)\\right)} n_0\\left(r\\right)^{2} - 16 \\, {\\left(4 \\, {\\left(\\pi {\\Omega^{(1)}_{n}} - \\pi {\\Omega^{(1)}_{p}}\\right)} r^{4} e^{\\lambda\\left(r\\right)} n_0\\left(r\\right) \\omega\\left(r\\right) - {\\left(4 \\, {\\left(\\pi {\\Omega^{(1)}_{n}}^{2} - \\pi {\\Omega^{(1)}_{n}} {\\Omega^{(1)}_{p}}\\right)} r^{4} e^{\\lambda\\left(r\\right)} + 3 \\, \\pi r^{2} \\Phi_0\\left(r\\right) e^{\\left(\\lambda\\left(r\\right) + \\nu\\left(r\\right)\\right)} + 3 \\, \\pi r^{2} \\eta_0\\left(r\\right) e^{\\left(\\lambda\\left(r\\right) + \\nu\\left(r\\right)\\right)}\\right)} n_0\\left(r\\right)\\right)} p_0\\left(r\\right) \\mathrm{D}_{2}\\left(\\Lambda_{\\varepsilon}\\right)\\left(n_0\\left(r\\right)^{2}, p_0\\left(r\\right)^{2}, n_0\\left(r\\right) p_0\\left(r\\right)\\right) - 6 \\, {\\left(r e^{\\lambda\\left(r\\right)} + 5 \\, r\\right)} e^{\\nu\\left(r\\right)} \\frac{\\partial}{\\partial r}k_2\\left(r\\right) + 12 \\, r e^{\\nu\\left(r\\right)} \\frac{\\partial}{\\partial r}v_2\\left(r\\right) + 48 \\, {\\left(2 \\, \\pi r^{2} \\eta_2\\left(r\\right) e^{\\left(\\lambda\\left(r\\right) + \\nu\\left(r\\right)\\right)} n_0\\left(r\\right)^{2} \\mathrm{D}_{0}\\left(\\Lambda_{\\varepsilon}\\right)\\left(n_0\\left(r\\right)^{2}, p_0\\left(r\\right)^{2}, n_0\\left(r\\right) p_0\\left(r\\right)\\right) + 2 \\, \\pi r^{2} \\Phi_2\\left(r\\right) e^{\\left(\\lambda\\left(r\\right) + \\nu\\left(r\\right)\\right)} p_0\\left(r\\right)^{2} \\mathrm{D}_{1}\\left(\\Lambda_{\\varepsilon}\\right)\\left(n_0\\left(r\\right)^{2}, p_0\\left(r\\right)^{2}, n_0\\left(r\\right) p_0\\left(r\\right)\\right) + {\\left(\\pi r^{2} \\Phi_2\\left(r\\right) e^{\\left(\\lambda\\left(r\\right) + \\nu\\left(r\\right)\\right)} + \\pi r^{2} \\eta_2\\left(r\\right) e^{\\left(\\lambda\\left(r\\right) + \\nu\\left(r\\right)\\right)}\\right)} n_0\\left(r\\right) p_0\\left(r\\right) \\mathrm{D}_{2}\\left(\\Lambda_{\\varepsilon}\\right)\\left(n_0\\left(r\\right)^{2}, p_0\\left(r\\right)^{2}, n_0\\left(r\\right) p_0\\left(r\\right)\\right)\\right)} LP_2\\left({\\theta}\\right) - 48 \\, {\\left(\\pi r^{3} e^{\\left(\\lambda\\left(r\\right) + \\nu\\left(r\\right)\\right)} \\frac{\\partial}{\\partial r}k_2\\left(r\\right) - 2 \\, \\pi r^{2} e^{\\left(\\lambda\\left(r\\right) + \\nu\\left(r\\right)\\right)} v_2\\left(r\\right)\\right)} \\Lambda_{\\varepsilon}\\left(n_0\\left(r\\right)^{2}, p_0\\left(r\\right)^{2}, n_0\\left(r\\right) p_0\\left(r\\right)\\right) + 24 \\, e^{\\left(\\lambda\\left(r\\right) + \\nu\\left(r\\right)\\right)} k_2\\left(r\\right) + 48 \\, e^{\\left(\\lambda\\left(r\\right) + \\nu\\left(r\\right)\\right)} v_2\\left(r\\right)\\right)} e^{\\left(-\\lambda\\left(r\\right) - \\nu\\left(r\\right)\\right)}}{6 \\, r^{2}}\\]</html>"
      ],
      "text/latex": [
       "$$\\newcommand{\\Bold}[1]{\\mathbf{#1}}\\frac{{\\left(128 \\, \\pi {\\Omega^{(1)}_{n}} r^{4} e^{\\lambda\\left(r\\right)} n_0\\left(r\\right)^{2} \\omega\\left(r\\right) \\mathrm{D}_{0}\\left(\\Lambda_{\\varepsilon}\\right)\\left(n_0\\left(r\\right)^{2}, p_0\\left(r\\right)^{2}, n_0\\left(r\\right) p_0\\left(r\\right)\\right) - 64 \\, \\pi r^{4} e^{\\lambda\\left(r\\right)} n_0\\left(r\\right)^{2} \\omega\\left(r\\right)^{2} \\mathrm{D}_{0}\\left(\\Lambda_{\\varepsilon}\\right)\\left(n_0\\left(r\\right)^{2}, p_0\\left(r\\right)^{2}, n_0\\left(r\\right) p_0\\left(r\\right)\\right) + r^{4} \\frac{\\partial}{\\partial r}\\omega\\left(r\\right)^{2} - 32 \\, {\\left(2 \\, \\pi {\\Omega^{(1)}_{p}}^{2} r^{4} e^{\\lambda\\left(r\\right)} - 4 \\, \\pi {\\Omega^{(1)}_{p}} r^{4} e^{\\lambda\\left(r\\right)} \\omega\\left(r\\right) + 2 \\, \\pi r^{4} e^{\\lambda\\left(r\\right)} \\omega\\left(r\\right)^{2} - 3 \\, \\pi r^{2} \\Phi_0\\left(r\\right) e^{\\left(\\lambda\\left(r\\right) + \\nu\\left(r\\right)\\right)}\\right)} p_0\\left(r\\right)^{2} \\mathrm{D}_{1}\\left(\\Lambda_{\\varepsilon}\\right)\\left(n_0\\left(r\\right)^{2}, p_0\\left(r\\right)^{2}, n_0\\left(r\\right) p_0\\left(r\\right)\\right) - 12 \\, r^{2} e^{\\nu\\left(r\\right)} \\frac{\\partial^{2}}{(\\partial r)^{2}}k_2\\left(r\\right) - 32 \\, {\\left(2 \\, \\pi {\\Omega^{(1)}_{n}}^{2} r^{4} e^{\\lambda\\left(r\\right)} \\mathrm{D}_{0}\\left(\\Lambda_{\\varepsilon}\\right)\\left(n_0\\left(r\\right)^{2}, p_0\\left(r\\right)^{2}, n_0\\left(r\\right) p_0\\left(r\\right)\\right) - 3 \\, \\pi r^{2} \\eta_0\\left(r\\right) e^{\\left(\\lambda\\left(r\\right) + \\nu\\left(r\\right)\\right)} \\mathrm{D}_{0}\\left(\\Lambda_{\\varepsilon}\\right)\\left(n_0\\left(r\\right)^{2}, p_0\\left(r\\right)^{2}, n_0\\left(r\\right) p_0\\left(r\\right)\\right)\\right)} n_0\\left(r\\right)^{2} - 16 \\, {\\left(4 \\, {\\left(\\pi {\\Omega^{(1)}_{n}} - \\pi {\\Omega^{(1)}_{p}}\\right)} r^{4} e^{\\lambda\\left(r\\right)} n_0\\left(r\\right) \\omega\\left(r\\right) - {\\left(4 \\, {\\left(\\pi {\\Omega^{(1)}_{n}}^{2} - \\pi {\\Omega^{(1)}_{n}} {\\Omega^{(1)}_{p}}\\right)} r^{4} e^{\\lambda\\left(r\\right)} + 3 \\, \\pi r^{2} \\Phi_0\\left(r\\right) e^{\\left(\\lambda\\left(r\\right) + \\nu\\left(r\\right)\\right)} + 3 \\, \\pi r^{2} \\eta_0\\left(r\\right) e^{\\left(\\lambda\\left(r\\right) + \\nu\\left(r\\right)\\right)}\\right)} n_0\\left(r\\right)\\right)} p_0\\left(r\\right) \\mathrm{D}_{2}\\left(\\Lambda_{\\varepsilon}\\right)\\left(n_0\\left(r\\right)^{2}, p_0\\left(r\\right)^{2}, n_0\\left(r\\right) p_0\\left(r\\right)\\right) - 6 \\, {\\left(r e^{\\lambda\\left(r\\right)} + 5 \\, r\\right)} e^{\\nu\\left(r\\right)} \\frac{\\partial}{\\partial r}k_2\\left(r\\right) + 12 \\, r e^{\\nu\\left(r\\right)} \\frac{\\partial}{\\partial r}v_2\\left(r\\right) + 48 \\, {\\left(2 \\, \\pi r^{2} \\eta_2\\left(r\\right) e^{\\left(\\lambda\\left(r\\right) + \\nu\\left(r\\right)\\right)} n_0\\left(r\\right)^{2} \\mathrm{D}_{0}\\left(\\Lambda_{\\varepsilon}\\right)\\left(n_0\\left(r\\right)^{2}, p_0\\left(r\\right)^{2}, n_0\\left(r\\right) p_0\\left(r\\right)\\right) + 2 \\, \\pi r^{2} \\Phi_2\\left(r\\right) e^{\\left(\\lambda\\left(r\\right) + \\nu\\left(r\\right)\\right)} p_0\\left(r\\right)^{2} \\mathrm{D}_{1}\\left(\\Lambda_{\\varepsilon}\\right)\\left(n_0\\left(r\\right)^{2}, p_0\\left(r\\right)^{2}, n_0\\left(r\\right) p_0\\left(r\\right)\\right) + {\\left(\\pi r^{2} \\Phi_2\\left(r\\right) e^{\\left(\\lambda\\left(r\\right) + \\nu\\left(r\\right)\\right)} + \\pi r^{2} \\eta_2\\left(r\\right) e^{\\left(\\lambda\\left(r\\right) + \\nu\\left(r\\right)\\right)}\\right)} n_0\\left(r\\right) p_0\\left(r\\right) \\mathrm{D}_{2}\\left(\\Lambda_{\\varepsilon}\\right)\\left(n_0\\left(r\\right)^{2}, p_0\\left(r\\right)^{2}, n_0\\left(r\\right) p_0\\left(r\\right)\\right)\\right)} LP_2\\left({\\theta}\\right) - 48 \\, {\\left(\\pi r^{3} e^{\\left(\\lambda\\left(r\\right) + \\nu\\left(r\\right)\\right)} \\frac{\\partial}{\\partial r}k_2\\left(r\\right) - 2 \\, \\pi r^{2} e^{\\left(\\lambda\\left(r\\right) + \\nu\\left(r\\right)\\right)} v_2\\left(r\\right)\\right)} \\Lambda_{\\varepsilon}\\left(n_0\\left(r\\right)^{2}, p_0\\left(r\\right)^{2}, n_0\\left(r\\right) p_0\\left(r\\right)\\right) + 24 \\, e^{\\left(\\lambda\\left(r\\right) + \\nu\\left(r\\right)\\right)} k_2\\left(r\\right) + 48 \\, e^{\\left(\\lambda\\left(r\\right) + \\nu\\left(r\\right)\\right)} v_2\\left(r\\right)\\right)} e^{\\left(-\\lambda\\left(r\\right) - \\nu\\left(r\\right)\\right)}}{6 \\, r^{2}}$$"
      ],
      "text/plain": [
       "1/6*(128*pi*Omegan1*r^4*e^lamb(r)*n0(r)^2*omega(r)*D[0](Lambdae)(n0(r)^2, p0(r)^2, n0(r)*p0(r)) - 64*pi*r^4*e^lamb(r)*n0(r)^2*omega(r)^2*D[0](Lambdae)(n0(r)^2, p0(r)^2, n0(r)*p0(r)) + r^4*diff(omega(r), r)^2 - 32*(2*pi*Omegap1^2*r^4*e^lamb(r) - 4*pi*Omegap1*r^4*e^lamb(r)*omega(r) + 2*pi*r^4*e^lamb(r)*omega(r)^2 - 3*pi*r^2*Phi0(r)*e^(lamb(r) + nu(r)))*p0(r)^2*D[1](Lambdae)(n0(r)^2, p0(r)^2, n0(r)*p0(r)) - 12*r^2*e^nu(r)*diff(k2(r), r, r) - 32*(2*pi*Omegan1^2*r^4*e^lamb(r)*D[0](Lambdae)(n0(r)^2, p0(r)^2, n0(r)*p0(r)) - 3*pi*r^2*eta0(r)*e^(lamb(r) + nu(r))*D[0](Lambdae)(n0(r)^2, p0(r)^2, n0(r)*p0(r)))*n0(r)^2 - 16*(4*(pi*Omegan1 - pi*Omegap1)*r^4*e^lamb(r)*n0(r)*omega(r) - (4*(pi*Omegan1^2 - pi*Omegan1*Omegap1)*r^4*e^lamb(r) + 3*pi*r^2*Phi0(r)*e^(lamb(r) + nu(r)) + 3*pi*r^2*eta0(r)*e^(lamb(r) + nu(r)))*n0(r))*p0(r)*D[2](Lambdae)(n0(r)^2, p0(r)^2, n0(r)*p0(r)) - 6*(r*e^lamb(r) + 5*r)*e^nu(r)*diff(k2(r), r) + 12*r*e^nu(r)*diff(v2(r), r) + 48*(2*pi*r^2*eta2(r)*e^(lamb(r) + nu(r))*n0(r)^2*D[0](Lambdae)(n0(r)^2, p0(r)^2, n0(r)*p0(r)) + 2*pi*r^2*Phi2(r)*e^(lamb(r) + nu(r))*p0(r)^2*D[1](Lambdae)(n0(r)^2, p0(r)^2, n0(r)*p0(r)) + (pi*r^2*Phi2(r)*e^(lamb(r) + nu(r)) + pi*r^2*eta2(r)*e^(lamb(r) + nu(r)))*n0(r)*p0(r)*D[2](Lambdae)(n0(r)^2, p0(r)^2, n0(r)*p0(r)))*LP2(th) - 48*(pi*r^3*e^(lamb(r) + nu(r))*diff(k2(r), r) - 2*pi*r^2*e^(lamb(r) + nu(r))*v2(r))*Lambdae(n0(r)^2, p0(r)^2, n0(r)*p0(r)) + 24*e^(lamb(r) + nu(r))*k2(r) + 48*e^(lamb(r) + nu(r))*v2(r))*e^(-lamb(r) - nu(r))/r^2"
      ]
     },
     "metadata": {},
     "output_type": "display_data"
    }
   ],
   "source": [
    "ddEq_00 = ddG[0,0] - kappa*ddT[0,0]\n",
    "\n",
    "ddEq_00_paper = - 16*pi*r^2/(3*e^(nu))*((Psi0 - Lambda0)*Ln^2\\\n",
    "                                      + chi0*p0*(Omegan1 - Omegap1)*(Ln + Lp)\\\n",
    "                                      - A0*n0*p0*(Omegan1 - Omegap1)^2)\\\n",
    "              + 8*pi*(- Lambda2)\\\n",
    "              - 2/r^2*formal_diff(r/e^(lamb)*v2,r)\\\n",
    "              - r^2/(6*e^(lamb + nu))*(formal_diff(Ln,r))^2\\\n",
    "              + 2/e^(lamb)*(formal_diff(formal_diff(k2,r),r)\\\n",
    "                            +(3/r - formal_diff(lamb,r)/2)*formal_diff(k2,r)\\\n",
    "                            - 2*e^(lamb)/r^2*k2) - 6/r^2*v2\n",
    "\n",
    "for ii in range(len(sus_func)):\n",
    "    ddEq_00 = ddEq_00.subs(sus_func[ii])\n",
    "    ddEq_00_paper = ddEq_00_paper.subs(sus_func[ii])\n",
    "    \n",
    "for ii in range(0,len(sus_descomp),2):\n",
    "    ddEq_00 = ddEq_00.substitute_function(sus_descomp[ii], sus_descomp[ii+1])\n",
    "    ddEq_00_paper = ddEq_00_paper.substitute_function(sus_descomp[ii], sus_descomp[ii+1])\n",
    "\n",
    "ddEq_00 = ddEq_00.simplify_full()\n",
    "ddEq_00_paper = ddEq_00_paper.simplify_full()\n",
    "for ii in range(len(sus_legendre)):\n",
    "    ddEq_00 = ddEq_00.subs(sus_legendre[ii])\n",
    "    ddEq_00_paper = ddEq_00_paper.subs(sus_legendre[ii])\n",
    "\n",
    "ddEq_00 = (ddEq_00 - ddEq_00.subs(LP2==0))/LP2\n",
    "ddEq_00 = ddEq_00.simplify_full()\n",
    "ddEq_00_check = (ddEq_00 - ddEq_00_paper).simplify_full()\n",
    "\n",
    "\n",
    "show(LatexExpr(\"\\\\text{Ecuación (48) }\\\\rightarrow\"), bool(ddEq_00_check==0))\n",
    "\n",
    "show(EN(ddEq_00_check))"
   ]
  },
  {
   "cell_type": "markdown",
   "metadata": {},
   "source": [
    "Ecuación (50)"
   ]
  },
  {
   "cell_type": "code",
   "execution_count": 49,
   "metadata": {},
   "outputs": [
    {
     "data": {
      "text/html": [
       "<html>\\[\\newcommand{\\Bold}[1]{\\mathbf{#1}}\\text{Ecuación (50) }\\rightarrow \\mathrm{False}\\]</html>"
      ],
      "text/latex": [
       "$$\\newcommand{\\Bold}[1]{\\mathbf{#1}}\\text{Ecuación (50) }\\rightarrow \\mathrm{False}$$"
      ],
      "text/plain": [
       "\\text{Ecuación (50) }\\rightarrow False"
      ]
     },
     "metadata": {},
     "output_type": "display_data"
    },
    {
     "data": {
      "text/html": [
       "<html>\\[\\newcommand{\\Bold}[1]{\\mathbf{#1}}\\frac{{\\left(96 \\, \\pi r^{2} \\eta_2\\left(r\\right) e^{\\left(\\lambda\\left(r\\right) + \\nu\\left(r\\right)\\right)} n_0\\left(r\\right)^{4} \\mathrm{D}_{0, 0}\\left(\\Lambda_{\\varepsilon}\\right)\\left(n_0\\left(r\\right)^{2}, p_0\\left(r\\right)^{2}, n_0\\left(r\\right) p_0\\left(r\\right)\\right) + 96 \\, \\pi r^{2} \\Phi_2\\left(r\\right) e^{\\left(\\lambda\\left(r\\right) + \\nu\\left(r\\right)\\right)} p_0\\left(r\\right)^{4} \\mathrm{D}_{1, 1}\\left(\\Lambda_{\\varepsilon}\\right)\\left(n_0\\left(r\\right)^{2}, p_0\\left(r\\right)^{2}, n_0\\left(r\\right) p_0\\left(r\\right)\\right) + 48 \\, \\pi r^{2} \\eta_2\\left(r\\right) e^{\\left(\\lambda\\left(r\\right) + \\nu\\left(r\\right)\\right)} n_0\\left(r\\right)^{2} \\mathrm{D}_{0}\\left(\\Lambda_{\\varepsilon}\\right)\\left(n_0\\left(r\\right)^{2}, p_0\\left(r\\right)^{2}, n_0\\left(r\\right) p_0\\left(r\\right)\\right) + 48 \\, {\\left(\\pi r^{2} \\Phi_2\\left(r\\right) e^{\\left(\\lambda\\left(r\\right) + \\nu\\left(r\\right)\\right)} + \\pi r^{2} \\eta_2\\left(r\\right) e^{\\left(\\lambda\\left(r\\right) + \\nu\\left(r\\right)\\right)}\\right)} n_0\\left(r\\right) p_0\\left(r\\right)^{3} \\mathrm{D}_{1, 2}\\left(\\Lambda_{\\varepsilon}\\right)\\left(n_0\\left(r\\right)^{2}, p_0\\left(r\\right)^{2}, n_0\\left(r\\right) p_0\\left(r\\right)\\right) - r^{4} \\frac{\\partial}{\\partial r}\\omega\\left(r\\right)^{2} + 48 \\, {\\left(\\pi r^{2} \\Phi_2\\left(r\\right) e^{\\left(\\lambda\\left(r\\right) + \\nu\\left(r\\right)\\right)} \\mathrm{D}_{0, 2}\\left(\\Lambda_{\\varepsilon}\\right)\\left(n_0\\left(r\\right)^{2}, p_0\\left(r\\right)^{2}, n_0\\left(r\\right) p_0\\left(r\\right)\\right) + \\pi r^{2} \\eta_2\\left(r\\right) e^{\\left(\\lambda\\left(r\\right) + \\nu\\left(r\\right)\\right)} \\mathrm{D}_{0, 2}\\left(\\Lambda_{\\varepsilon}\\right)\\left(n_0\\left(r\\right)^{2}, p_0\\left(r\\right)^{2}, n_0\\left(r\\right) p_0\\left(r\\right)\\right)\\right)} n_0\\left(r\\right)^{3} p_0\\left(r\\right) + 96 \\, {\\left(\\pi r^{2} \\Phi_2\\left(r\\right) e^{\\left(\\lambda\\left(r\\right) + \\nu\\left(r\\right)\\right)} \\mathrm{D}_{0, 1}\\left(\\Lambda_{\\varepsilon}\\right)\\left(n_0\\left(r\\right)^{2}, p_0\\left(r\\right)^{2}, n_0\\left(r\\right) p_0\\left(r\\right)\\right) + \\pi r^{2} \\eta_2\\left(r\\right) e^{\\left(\\lambda\\left(r\\right) + \\nu\\left(r\\right)\\right)} \\mathrm{D}_{0, 1}\\left(\\Lambda_{\\varepsilon}\\right)\\left(n_0\\left(r\\right)^{2}, p_0\\left(r\\right)^{2}, n_0\\left(r\\right) p_0\\left(r\\right)\\right)\\right)} n_0\\left(r\\right)^{2} p_0\\left(r\\right)^{2} - 24 \\, {\\left(\\pi r^{2} \\Phi_2\\left(r\\right) e^{\\left(\\lambda\\left(r\\right) + \\nu\\left(r\\right)\\right)} + \\pi r^{2} \\eta_2\\left(r\\right) e^{\\left(\\lambda\\left(r\\right) + \\nu\\left(r\\right)\\right)}\\right)} n_0\\left(r\\right) p_0\\left(r\\right) \\mathrm{D}_{2}\\left(\\Lambda_{\\varepsilon}\\right)\\left(n_0\\left(r\\right)^{2}, p_0\\left(r\\right)^{2}, n_0\\left(r\\right) p_0\\left(r\\right)\\right) + 12 \\, r e^{\\nu\\left(r\\right)} \\frac{\\partial}{\\partial r}h_2\\left(r\\right) + 48 \\, {\\left(\\pi r^{3} e^{\\left(\\lambda\\left(r\\right) + \\nu\\left(r\\right)\\right)} \\frac{\\partial}{\\partial r}k_2\\left(r\\right) - 2 \\, \\pi r^{2} e^{\\left(\\lambda\\left(r\\right) + \\nu\\left(r\\right)\\right)} v_2\\left(r\\right)\\right)} \\Lambda_{\\varepsilon}\\left(n_0\\left(r\\right)^{2}, p_0\\left(r\\right)^{2}, n_0\\left(r\\right) p_0\\left(r\\right)\\right) - 36 \\, e^{\\left(\\lambda\\left(r\\right) + \\nu\\left(r\\right)\\right)} h_2\\left(r\\right) - 24 \\, e^{\\left(\\lambda\\left(r\\right) + \\nu\\left(r\\right)\\right)} k_2\\left(r\\right) + 12 \\, {\\left(16 \\, \\pi r^{2} e^{\\left(\\lambda\\left(r\\right) + \\nu\\left(r\\right)\\right)} n_0\\left(r\\right)^{2} \\mathrm{D}_{0}\\left(\\Lambda_{\\varepsilon}\\right)\\left(n_0\\left(r\\right)^{2}, p_0\\left(r\\right)^{2}, n_0\\left(r\\right) p_0\\left(r\\right)\\right) - e^{\\left(\\lambda\\left(r\\right) + \\nu\\left(r\\right)\\right)}\\right)} v_2\\left(r\\right) - 48 \\, {\\left(2 \\, \\pi r^{3} e^{\\left(\\lambda\\left(r\\right) + \\nu\\left(r\\right)\\right)} p_0\\left(r\\right)^{2} \\frac{\\partial}{\\partial r}k_2\\left(r\\right) - \\pi r^{2} \\Phi_2\\left(r\\right) e^{\\left(\\lambda\\left(r\\right) + \\nu\\left(r\\right)\\right)} p_0\\left(r\\right)^{2} - 4 \\, \\pi r^{2} e^{\\left(\\lambda\\left(r\\right) + \\nu\\left(r\\right)\\right)} p_0\\left(r\\right)^{2} v_2\\left(r\\right)\\right)} \\mathrm{D}_{1}\\left(\\Lambda_{\\varepsilon}\\right)\\left(n_0\\left(r\\right)^{2}, p_0\\left(r\\right)^{2}, n_0\\left(r\\right) p_0\\left(r\\right)\\right) - 6 \\, {\\left(16 \\, \\pi r^{3} e^{\\left(\\lambda\\left(r\\right) + \\nu\\left(r\\right)\\right)} n_0\\left(r\\right)^{2} \\mathrm{D}_{0}\\left(\\Lambda_{\\varepsilon}\\right)\\left(n_0\\left(r\\right)^{2}, p_0\\left(r\\right)^{2}, n_0\\left(r\\right) p_0\\left(r\\right)\\right) - {\\left(r e^{\\lambda\\left(r\\right)} + r\\right)} e^{\\nu\\left(r\\right)}\\right)} \\frac{\\partial}{\\partial r}k_2\\left(r\\right)\\right)} LP_2\\left({\\theta}\\right) e^{\\left(-\\nu\\left(r\\right)\\right)}}{3 \\, r^{2}} - \\frac{{\\left(64 \\, \\pi {\\Omega^{(1)}_{n}} r^{4} e^{\\lambda\\left(r\\right)} n_0\\left(r\\right)^{2} \\omega\\left(r\\right) \\mathrm{D}_{0}\\left(\\Lambda_{\\varepsilon}\\right)\\left(n_0\\left(r\\right)^{2}, p_0\\left(r\\right)^{2}, n_0\\left(r\\right) p_0\\left(r\\right)\\right) - 32 \\, \\pi r^{4} e^{\\lambda\\left(r\\right)} n_0\\left(r\\right)^{2} \\omega\\left(r\\right)^{2} \\mathrm{D}_{0}\\left(\\Lambda_{\\varepsilon}\\right)\\left(n_0\\left(r\\right)^{2}, p_0\\left(r\\right)^{2}, n_0\\left(r\\right) p_0\\left(r\\right)\\right) - r^{4} \\frac{\\partial}{\\partial r}\\omega\\left(r\\right)^{2} - 32 \\, {\\left(\\pi {\\Omega^{(1)}_{n}}^{2} r^{4} e^{\\lambda\\left(r\\right)} \\mathrm{D}_{0}\\left(\\Lambda_{\\varepsilon}\\right)\\left(n_0\\left(r\\right)^{2}, p_0\\left(r\\right)^{2}, n_0\\left(r\\right) p_0\\left(r\\right)\\right) + 3 \\, \\pi r^{2} e^{\\left(\\lambda\\left(r\\right) + \\nu\\left(r\\right)\\right)} h_2\\left(r\\right) \\mathrm{D}_{0}\\left(\\Lambda_{\\varepsilon}\\right)\\left(n_0\\left(r\\right)^{2}, p_0\\left(r\\right)^{2}, n_0\\left(r\\right) p_0\\left(r\\right)\\right)\\right)} n_0\\left(r\\right)^{2} - 32 \\, {\\left(\\pi {\\Omega^{(1)}_{n}} {\\Omega^{(1)}_{p}} r^{4} e^{\\lambda\\left(r\\right)} n_0\\left(r\\right) + \\pi r^{4} e^{\\lambda\\left(r\\right)} n_0\\left(r\\right) \\omega\\left(r\\right)^{2} - {\\left(\\pi {\\Omega^{(1)}_{n}} + \\pi {\\Omega^{(1)}_{p}}\\right)} r^{4} e^{\\lambda\\left(r\\right)} n_0\\left(r\\right) \\omega\\left(r\\right)\\right)} p_0\\left(r\\right) \\mathrm{D}_{2}\\left(\\Lambda_{\\varepsilon}\\right)\\left(n_0\\left(r\\right)^{2}, p_0\\left(r\\right)^{2}, n_0\\left(r\\right) p_0\\left(r\\right)\\right) + 12 \\, r e^{\\nu\\left(r\\right)} \\frac{\\partial}{\\partial r}h_2\\left(r\\right) + 48 \\, {\\left(\\pi r^{3} e^{\\left(\\lambda\\left(r\\right) + \\nu\\left(r\\right)\\right)} \\frac{\\partial}{\\partial r}k_2\\left(r\\right) - 2 \\, \\pi r^{2} e^{\\left(\\lambda\\left(r\\right) + \\nu\\left(r\\right)\\right)} v_2\\left(r\\right)\\right)} \\Lambda_{\\varepsilon}\\left(n_0\\left(r\\right)^{2}, p_0\\left(r\\right)^{2}, n_0\\left(r\\right) p_0\\left(r\\right)\\right) - 36 \\, e^{\\left(\\lambda\\left(r\\right) + \\nu\\left(r\\right)\\right)} h_2\\left(r\\right) - 24 \\, e^{\\left(\\lambda\\left(r\\right) + \\nu\\left(r\\right)\\right)} k_2\\left(r\\right) + 12 \\, {\\left(16 \\, \\pi r^{2} e^{\\left(\\lambda\\left(r\\right) + \\nu\\left(r\\right)\\right)} n_0\\left(r\\right)^{2} \\mathrm{D}_{0}\\left(\\Lambda_{\\varepsilon}\\right)\\left(n_0\\left(r\\right)^{2}, p_0\\left(r\\right)^{2}, n_0\\left(r\\right) p_0\\left(r\\right)\\right) - e^{\\left(\\lambda\\left(r\\right) + \\nu\\left(r\\right)\\right)}\\right)} v_2\\left(r\\right) - 32 \\, {\\left(3 \\, \\pi r^{3} e^{\\left(\\lambda\\left(r\\right) + \\nu\\left(r\\right)\\right)} p_0\\left(r\\right)^{2} \\frac{\\partial}{\\partial r}k_2\\left(r\\right) - 6 \\, \\pi r^{2} e^{\\left(\\lambda\\left(r\\right) + \\nu\\left(r\\right)\\right)} p_0\\left(r\\right)^{2} v_2\\left(r\\right) + {\\left(\\pi {\\Omega^{(1)}_{p}}^{2} r^{4} e^{\\lambda\\left(r\\right)} - 2 \\, \\pi {\\Omega^{(1)}_{p}} r^{4} e^{\\lambda\\left(r\\right)} \\omega\\left(r\\right) + \\pi r^{4} e^{\\lambda\\left(r\\right)} \\omega\\left(r\\right)^{2} + 3 \\, \\pi r^{2} e^{\\left(\\lambda\\left(r\\right) + \\nu\\left(r\\right)\\right)} h_2\\left(r\\right)\\right)} p_0\\left(r\\right)^{2}\\right)} \\mathrm{D}_{1}\\left(\\Lambda_{\\varepsilon}\\right)\\left(n_0\\left(r\\right)^{2}, p_0\\left(r\\right)^{2}, n_0\\left(r\\right) p_0\\left(r\\right)\\right) - 6 \\, {\\left(16 \\, \\pi r^{3} e^{\\left(\\lambda\\left(r\\right) + \\nu\\left(r\\right)\\right)} n_0\\left(r\\right)^{2} \\mathrm{D}_{0}\\left(\\Lambda_{\\varepsilon}\\right)\\left(n_0\\left(r\\right)^{2}, p_0\\left(r\\right)^{2}, n_0\\left(r\\right) p_0\\left(r\\right)\\right) - {\\left(r e^{\\lambda\\left(r\\right)} + r\\right)} e^{\\nu\\left(r\\right)}\\right)} \\frac{\\partial}{\\partial r}k_2\\left(r\\right)\\right)} e^{\\left(-\\lambda\\left(r\\right) - \\nu\\left(r\\right)\\right)}}{6 \\, r^{2}}\\]</html>"
      ],
      "text/latex": [
       "$$\\newcommand{\\Bold}[1]{\\mathbf{#1}}\\frac{{\\left(96 \\, \\pi r^{2} \\eta_2\\left(r\\right) e^{\\left(\\lambda\\left(r\\right) + \\nu\\left(r\\right)\\right)} n_0\\left(r\\right)^{4} \\mathrm{D}_{0, 0}\\left(\\Lambda_{\\varepsilon}\\right)\\left(n_0\\left(r\\right)^{2}, p_0\\left(r\\right)^{2}, n_0\\left(r\\right) p_0\\left(r\\right)\\right) + 96 \\, \\pi r^{2} \\Phi_2\\left(r\\right) e^{\\left(\\lambda\\left(r\\right) + \\nu\\left(r\\right)\\right)} p_0\\left(r\\right)^{4} \\mathrm{D}_{1, 1}\\left(\\Lambda_{\\varepsilon}\\right)\\left(n_0\\left(r\\right)^{2}, p_0\\left(r\\right)^{2}, n_0\\left(r\\right) p_0\\left(r\\right)\\right) + 48 \\, \\pi r^{2} \\eta_2\\left(r\\right) e^{\\left(\\lambda\\left(r\\right) + \\nu\\left(r\\right)\\right)} n_0\\left(r\\right)^{2} \\mathrm{D}_{0}\\left(\\Lambda_{\\varepsilon}\\right)\\left(n_0\\left(r\\right)^{2}, p_0\\left(r\\right)^{2}, n_0\\left(r\\right) p_0\\left(r\\right)\\right) + 48 \\, {\\left(\\pi r^{2} \\Phi_2\\left(r\\right) e^{\\left(\\lambda\\left(r\\right) + \\nu\\left(r\\right)\\right)} + \\pi r^{2} \\eta_2\\left(r\\right) e^{\\left(\\lambda\\left(r\\right) + \\nu\\left(r\\right)\\right)}\\right)} n_0\\left(r\\right) p_0\\left(r\\right)^{3} \\mathrm{D}_{1, 2}\\left(\\Lambda_{\\varepsilon}\\right)\\left(n_0\\left(r\\right)^{2}, p_0\\left(r\\right)^{2}, n_0\\left(r\\right) p_0\\left(r\\right)\\right) - r^{4} \\frac{\\partial}{\\partial r}\\omega\\left(r\\right)^{2} + 48 \\, {\\left(\\pi r^{2} \\Phi_2\\left(r\\right) e^{\\left(\\lambda\\left(r\\right) + \\nu\\left(r\\right)\\right)} \\mathrm{D}_{0, 2}\\left(\\Lambda_{\\varepsilon}\\right)\\left(n_0\\left(r\\right)^{2}, p_0\\left(r\\right)^{2}, n_0\\left(r\\right) p_0\\left(r\\right)\\right) + \\pi r^{2} \\eta_2\\left(r\\right) e^{\\left(\\lambda\\left(r\\right) + \\nu\\left(r\\right)\\right)} \\mathrm{D}_{0, 2}\\left(\\Lambda_{\\varepsilon}\\right)\\left(n_0\\left(r\\right)^{2}, p_0\\left(r\\right)^{2}, n_0\\left(r\\right) p_0\\left(r\\right)\\right)\\right)} n_0\\left(r\\right)^{3} p_0\\left(r\\right) + 96 \\, {\\left(\\pi r^{2} \\Phi_2\\left(r\\right) e^{\\left(\\lambda\\left(r\\right) + \\nu\\left(r\\right)\\right)} \\mathrm{D}_{0, 1}\\left(\\Lambda_{\\varepsilon}\\right)\\left(n_0\\left(r\\right)^{2}, p_0\\left(r\\right)^{2}, n_0\\left(r\\right) p_0\\left(r\\right)\\right) + \\pi r^{2} \\eta_2\\left(r\\right) e^{\\left(\\lambda\\left(r\\right) + \\nu\\left(r\\right)\\right)} \\mathrm{D}_{0, 1}\\left(\\Lambda_{\\varepsilon}\\right)\\left(n_0\\left(r\\right)^{2}, p_0\\left(r\\right)^{2}, n_0\\left(r\\right) p_0\\left(r\\right)\\right)\\right)} n_0\\left(r\\right)^{2} p_0\\left(r\\right)^{2} - 24 \\, {\\left(\\pi r^{2} \\Phi_2\\left(r\\right) e^{\\left(\\lambda\\left(r\\right) + \\nu\\left(r\\right)\\right)} + \\pi r^{2} \\eta_2\\left(r\\right) e^{\\left(\\lambda\\left(r\\right) + \\nu\\left(r\\right)\\right)}\\right)} n_0\\left(r\\right) p_0\\left(r\\right) \\mathrm{D}_{2}\\left(\\Lambda_{\\varepsilon}\\right)\\left(n_0\\left(r\\right)^{2}, p_0\\left(r\\right)^{2}, n_0\\left(r\\right) p_0\\left(r\\right)\\right) + 12 \\, r e^{\\nu\\left(r\\right)} \\frac{\\partial}{\\partial r}h_2\\left(r\\right) + 48 \\, {\\left(\\pi r^{3} e^{\\left(\\lambda\\left(r\\right) + \\nu\\left(r\\right)\\right)} \\frac{\\partial}{\\partial r}k_2\\left(r\\right) - 2 \\, \\pi r^{2} e^{\\left(\\lambda\\left(r\\right) + \\nu\\left(r\\right)\\right)} v_2\\left(r\\right)\\right)} \\Lambda_{\\varepsilon}\\left(n_0\\left(r\\right)^{2}, p_0\\left(r\\right)^{2}, n_0\\left(r\\right) p_0\\left(r\\right)\\right) - 36 \\, e^{\\left(\\lambda\\left(r\\right) + \\nu\\left(r\\right)\\right)} h_2\\left(r\\right) - 24 \\, e^{\\left(\\lambda\\left(r\\right) + \\nu\\left(r\\right)\\right)} k_2\\left(r\\right) + 12 \\, {\\left(16 \\, \\pi r^{2} e^{\\left(\\lambda\\left(r\\right) + \\nu\\left(r\\right)\\right)} n_0\\left(r\\right)^{2} \\mathrm{D}_{0}\\left(\\Lambda_{\\varepsilon}\\right)\\left(n_0\\left(r\\right)^{2}, p_0\\left(r\\right)^{2}, n_0\\left(r\\right) p_0\\left(r\\right)\\right) - e^{\\left(\\lambda\\left(r\\right) + \\nu\\left(r\\right)\\right)}\\right)} v_2\\left(r\\right) - 48 \\, {\\left(2 \\, \\pi r^{3} e^{\\left(\\lambda\\left(r\\right) + \\nu\\left(r\\right)\\right)} p_0\\left(r\\right)^{2} \\frac{\\partial}{\\partial r}k_2\\left(r\\right) - \\pi r^{2} \\Phi_2\\left(r\\right) e^{\\left(\\lambda\\left(r\\right) + \\nu\\left(r\\right)\\right)} p_0\\left(r\\right)^{2} - 4 \\, \\pi r^{2} e^{\\left(\\lambda\\left(r\\right) + \\nu\\left(r\\right)\\right)} p_0\\left(r\\right)^{2} v_2\\left(r\\right)\\right)} \\mathrm{D}_{1}\\left(\\Lambda_{\\varepsilon}\\right)\\left(n_0\\left(r\\right)^{2}, p_0\\left(r\\right)^{2}, n_0\\left(r\\right) p_0\\left(r\\right)\\right) - 6 \\, {\\left(16 \\, \\pi r^{3} e^{\\left(\\lambda\\left(r\\right) + \\nu\\left(r\\right)\\right)} n_0\\left(r\\right)^{2} \\mathrm{D}_{0}\\left(\\Lambda_{\\varepsilon}\\right)\\left(n_0\\left(r\\right)^{2}, p_0\\left(r\\right)^{2}, n_0\\left(r\\right) p_0\\left(r\\right)\\right) - {\\left(r e^{\\lambda\\left(r\\right)} + r\\right)} e^{\\nu\\left(r\\right)}\\right)} \\frac{\\partial}{\\partial r}k_2\\left(r\\right)\\right)} LP_2\\left({\\theta}\\right) e^{\\left(-\\nu\\left(r\\right)\\right)}}{3 \\, r^{2}} - \\frac{{\\left(64 \\, \\pi {\\Omega^{(1)}_{n}} r^{4} e^{\\lambda\\left(r\\right)} n_0\\left(r\\right)^{2} \\omega\\left(r\\right) \\mathrm{D}_{0}\\left(\\Lambda_{\\varepsilon}\\right)\\left(n_0\\left(r\\right)^{2}, p_0\\left(r\\right)^{2}, n_0\\left(r\\right) p_0\\left(r\\right)\\right) - 32 \\, \\pi r^{4} e^{\\lambda\\left(r\\right)} n_0\\left(r\\right)^{2} \\omega\\left(r\\right)^{2} \\mathrm{D}_{0}\\left(\\Lambda_{\\varepsilon}\\right)\\left(n_0\\left(r\\right)^{2}, p_0\\left(r\\right)^{2}, n_0\\left(r\\right) p_0\\left(r\\right)\\right) - r^{4} \\frac{\\partial}{\\partial r}\\omega\\left(r\\right)^{2} - 32 \\, {\\left(\\pi {\\Omega^{(1)}_{n}}^{2} r^{4} e^{\\lambda\\left(r\\right)} \\mathrm{D}_{0}\\left(\\Lambda_{\\varepsilon}\\right)\\left(n_0\\left(r\\right)^{2}, p_0\\left(r\\right)^{2}, n_0\\left(r\\right) p_0\\left(r\\right)\\right) + 3 \\, \\pi r^{2} e^{\\left(\\lambda\\left(r\\right) + \\nu\\left(r\\right)\\right)} h_2\\left(r\\right) \\mathrm{D}_{0}\\left(\\Lambda_{\\varepsilon}\\right)\\left(n_0\\left(r\\right)^{2}, p_0\\left(r\\right)^{2}, n_0\\left(r\\right) p_0\\left(r\\right)\\right)\\right)} n_0\\left(r\\right)^{2} - 32 \\, {\\left(\\pi {\\Omega^{(1)}_{n}} {\\Omega^{(1)}_{p}} r^{4} e^{\\lambda\\left(r\\right)} n_0\\left(r\\right) + \\pi r^{4} e^{\\lambda\\left(r\\right)} n_0\\left(r\\right) \\omega\\left(r\\right)^{2} - {\\left(\\pi {\\Omega^{(1)}_{n}} + \\pi {\\Omega^{(1)}_{p}}\\right)} r^{4} e^{\\lambda\\left(r\\right)} n_0\\left(r\\right) \\omega\\left(r\\right)\\right)} p_0\\left(r\\right) \\mathrm{D}_{2}\\left(\\Lambda_{\\varepsilon}\\right)\\left(n_0\\left(r\\right)^{2}, p_0\\left(r\\right)^{2}, n_0\\left(r\\right) p_0\\left(r\\right)\\right) + 12 \\, r e^{\\nu\\left(r\\right)} \\frac{\\partial}{\\partial r}h_2\\left(r\\right) + 48 \\, {\\left(\\pi r^{3} e^{\\left(\\lambda\\left(r\\right) + \\nu\\left(r\\right)\\right)} \\frac{\\partial}{\\partial r}k_2\\left(r\\right) - 2 \\, \\pi r^{2} e^{\\left(\\lambda\\left(r\\right) + \\nu\\left(r\\right)\\right)} v_2\\left(r\\right)\\right)} \\Lambda_{\\varepsilon}\\left(n_0\\left(r\\right)^{2}, p_0\\left(r\\right)^{2}, n_0\\left(r\\right) p_0\\left(r\\right)\\right) - 36 \\, e^{\\left(\\lambda\\left(r\\right) + \\nu\\left(r\\right)\\right)} h_2\\left(r\\right) - 24 \\, e^{\\left(\\lambda\\left(r\\right) + \\nu\\left(r\\right)\\right)} k_2\\left(r\\right) + 12 \\, {\\left(16 \\, \\pi r^{2} e^{\\left(\\lambda\\left(r\\right) + \\nu\\left(r\\right)\\right)} n_0\\left(r\\right)^{2} \\mathrm{D}_{0}\\left(\\Lambda_{\\varepsilon}\\right)\\left(n_0\\left(r\\right)^{2}, p_0\\left(r\\right)^{2}, n_0\\left(r\\right) p_0\\left(r\\right)\\right) - e^{\\left(\\lambda\\left(r\\right) + \\nu\\left(r\\right)\\right)}\\right)} v_2\\left(r\\right) - 32 \\, {\\left(3 \\, \\pi r^{3} e^{\\left(\\lambda\\left(r\\right) + \\nu\\left(r\\right)\\right)} p_0\\left(r\\right)^{2} \\frac{\\partial}{\\partial r}k_2\\left(r\\right) - 6 \\, \\pi r^{2} e^{\\left(\\lambda\\left(r\\right) + \\nu\\left(r\\right)\\right)} p_0\\left(r\\right)^{2} v_2\\left(r\\right) + {\\left(\\pi {\\Omega^{(1)}_{p}}^{2} r^{4} e^{\\lambda\\left(r\\right)} - 2 \\, \\pi {\\Omega^{(1)}_{p}} r^{4} e^{\\lambda\\left(r\\right)} \\omega\\left(r\\right) + \\pi r^{4} e^{\\lambda\\left(r\\right)} \\omega\\left(r\\right)^{2} + 3 \\, \\pi r^{2} e^{\\left(\\lambda\\left(r\\right) + \\nu\\left(r\\right)\\right)} h_2\\left(r\\right)\\right)} p_0\\left(r\\right)^{2}\\right)} \\mathrm{D}_{1}\\left(\\Lambda_{\\varepsilon}\\right)\\left(n_0\\left(r\\right)^{2}, p_0\\left(r\\right)^{2}, n_0\\left(r\\right) p_0\\left(r\\right)\\right) - 6 \\, {\\left(16 \\, \\pi r^{3} e^{\\left(\\lambda\\left(r\\right) + \\nu\\left(r\\right)\\right)} n_0\\left(r\\right)^{2} \\mathrm{D}_{0}\\left(\\Lambda_{\\varepsilon}\\right)\\left(n_0\\left(r\\right)^{2}, p_0\\left(r\\right)^{2}, n_0\\left(r\\right) p_0\\left(r\\right)\\right) - {\\left(r e^{\\lambda\\left(r\\right)} + r\\right)} e^{\\nu\\left(r\\right)}\\right)} \\frac{\\partial}{\\partial r}k_2\\left(r\\right)\\right)} e^{\\left(-\\lambda\\left(r\\right) - \\nu\\left(r\\right)\\right)}}{6 \\, r^{2}}$$"
      ],
      "text/plain": [
       "1/3*(96*pi*r^2*eta2(r)*e^(lamb(r) + nu(r))*n0(r)^4*D[0, 0](Lambdae)(n0(r)^2, p0(r)^2, n0(r)*p0(r)) + 96*pi*r^2*Phi2(r)*e^(lamb(r) + nu(r))*p0(r)^4*D[1, 1](Lambdae)(n0(r)^2, p0(r)^2, n0(r)*p0(r)) + 48*pi*r^2*eta2(r)*e^(lamb(r) + nu(r))*n0(r)^2*D[0](Lambdae)(n0(r)^2, p0(r)^2, n0(r)*p0(r)) + 48*(pi*r^2*Phi2(r)*e^(lamb(r) + nu(r)) + pi*r^2*eta2(r)*e^(lamb(r) + nu(r)))*n0(r)*p0(r)^3*D[1, 2](Lambdae)(n0(r)^2, p0(r)^2, n0(r)*p0(r)) - r^4*diff(omega(r), r)^2 + 48*(pi*r^2*Phi2(r)*e^(lamb(r) + nu(r))*D[0, 2](Lambdae)(n0(r)^2, p0(r)^2, n0(r)*p0(r)) + pi*r^2*eta2(r)*e^(lamb(r) + nu(r))*D[0, 2](Lambdae)(n0(r)^2, p0(r)^2, n0(r)*p0(r)))*n0(r)^3*p0(r) + 96*(pi*r^2*Phi2(r)*e^(lamb(r) + nu(r))*D[0, 1](Lambdae)(n0(r)^2, p0(r)^2, n0(r)*p0(r)) + pi*r^2*eta2(r)*e^(lamb(r) + nu(r))*D[0, 1](Lambdae)(n0(r)^2, p0(r)^2, n0(r)*p0(r)))*n0(r)^2*p0(r)^2 - 24*(pi*r^2*Phi2(r)*e^(lamb(r) + nu(r)) + pi*r^2*eta2(r)*e^(lamb(r) + nu(r)))*n0(r)*p0(r)*D[2](Lambdae)(n0(r)^2, p0(r)^2, n0(r)*p0(r)) + 12*r*e^nu(r)*diff(h2(r), r) + 48*(pi*r^3*e^(lamb(r) + nu(r))*diff(k2(r), r) - 2*pi*r^2*e^(lamb(r) + nu(r))*v2(r))*Lambdae(n0(r)^2, p0(r)^2, n0(r)*p0(r)) - 36*e^(lamb(r) + nu(r))*h2(r) - 24*e^(lamb(r) + nu(r))*k2(r) + 12*(16*pi*r^2*e^(lamb(r) + nu(r))*n0(r)^2*D[0](Lambdae)(n0(r)^2, p0(r)^2, n0(r)*p0(r)) - e^(lamb(r) + nu(r)))*v2(r) - 48*(2*pi*r^3*e^(lamb(r) + nu(r))*p0(r)^2*diff(k2(r), r) - pi*r^2*Phi2(r)*e^(lamb(r) + nu(r))*p0(r)^2 - 4*pi*r^2*e^(lamb(r) + nu(r))*p0(r)^2*v2(r))*D[1](Lambdae)(n0(r)^2, p0(r)^2, n0(r)*p0(r)) - 6*(16*pi*r^3*e^(lamb(r) + nu(r))*n0(r)^2*D[0](Lambdae)(n0(r)^2, p0(r)^2, n0(r)*p0(r)) - (r*e^lamb(r) + r)*e^nu(r))*diff(k2(r), r))*LP2(th)*e^(-nu(r))/r^2 - 1/6*(64*pi*Omegan1*r^4*e^lamb(r)*n0(r)^2*omega(r)*D[0](Lambdae)(n0(r)^2, p0(r)^2, n0(r)*p0(r)) - 32*pi*r^4*e^lamb(r)*n0(r)^2*omega(r)^2*D[0](Lambdae)(n0(r)^2, p0(r)^2, n0(r)*p0(r)) - r^4*diff(omega(r), r)^2 - 32*(pi*Omegan1^2*r^4*e^lamb(r)*D[0](Lambdae)(n0(r)^2, p0(r)^2, n0(r)*p0(r)) + 3*pi*r^2*e^(lamb(r) + nu(r))*h2(r)*D[0](Lambdae)(n0(r)^2, p0(r)^2, n0(r)*p0(r)))*n0(r)^2 - 32*(pi*Omegan1*Omegap1*r^4*e^lamb(r)*n0(r) + pi*r^4*e^lamb(r)*n0(r)*omega(r)^2 - (pi*Omegan1 + pi*Omegap1)*r^4*e^lamb(r)*n0(r)*omega(r))*p0(r)*D[2](Lambdae)(n0(r)^2, p0(r)^2, n0(r)*p0(r)) + 12*r*e^nu(r)*diff(h2(r), r) + 48*(pi*r^3*e^(lamb(r) + nu(r))*diff(k2(r), r) - 2*pi*r^2*e^(lamb(r) + nu(r))*v2(r))*Lambdae(n0(r)^2, p0(r)^2, n0(r)*p0(r)) - 36*e^(lamb(r) + nu(r))*h2(r) - 24*e^(lamb(r) + nu(r))*k2(r) + 12*(16*pi*r^2*e^(lamb(r) + nu(r))*n0(r)^2*D[0](Lambdae)(n0(r)^2, p0(r)^2, n0(r)*p0(r)) - e^(lamb(r) + nu(r)))*v2(r) - 32*(3*pi*r^3*e^(lamb(r) + nu(r))*p0(r)^2*diff(k2(r), r) - 6*pi*r^2*e^(lamb(r) + nu(r))*p0(r)^2*v2(r) + (pi*Omegap1^2*r^4*e^lamb(r) - 2*pi*Omegap1*r^4*e^lamb(r)*omega(r) + pi*r^4*e^lamb(r)*omega(r)^2 + 3*pi*r^2*e^(lamb(r) + nu(r))*h2(r))*p0(r)^2)*D[1](Lambdae)(n0(r)^2, p0(r)^2, n0(r)*p0(r)) - 6*(16*pi*r^3*e^(lamb(r) + nu(r))*n0(r)^2*D[0](Lambdae)(n0(r)^2, p0(r)^2, n0(r)*p0(r)) - (r*e^lamb(r) + r)*e^nu(r))*diff(k2(r), r))*e^(-lamb(r) - nu(r))/r^2"
      ]
     },
     "metadata": {},
     "output_type": "display_data"
    }
   ],
   "source": [
    "ddEq_11 = ddG[1,1] - kappa*ddT[1,1]\n",
    "\n",
    "ddEq_11_paper = 2/(r*e^(lamb))*formal_diff(h2,r)\\\n",
    "              - 6/r^2*h2 - 2/(r*e^(lamb))*(formal_diff(nu,r)+1/r)*v2\\\n",
    "              + 1/e^(lamb)*(formal_diff(nu,r)+2/r)*formal_diff(k2,r)\\\n",
    "              - 4/r^2*k2 - r^2/(6*e^(lamb + nu))*formal_diff(Ln,r)^2\\\n",
    "              + 8*pi*((Psi0 - Lambda0)*h2 + r^2/(3*e^(nu))*(mu0*n0*Ln^2 + chi0*p0*Lp^2)\\\n",
    "                      - r^2/(3*e^(nu))*n0*p0*A0*(Omegan1 - Omegap1)^2)\n",
    "\n",
    "for ii in range(len(sus_func)):\n",
    "    ddEq_11 = ddEq_11.subs(sus_func[ii])\n",
    "    ddEq_11_paper = ddEq_11_paper.subs(sus_func[ii])\n",
    "    \n",
    "for ii in range(0,len(sus_descomp),2):\n",
    "    ddEq_11 = ddEq_11.substitute_function(sus_descomp[ii], sus_descomp[ii+1])\n",
    "    ddEq_11_paper = ddEq_11_paper.substitute_function(sus_descomp[ii], sus_descomp[ii+1])\n",
    "\n",
    "ddEq_11 = ddEq_11.simplify_full()\n",
    "ddEq_11_paper = ddEq_11_paper.simplify_full()\n",
    "for ii in range(len(sus_legendre)):\n",
    "    ddEq_11 = ddEq_11.subs(sus_legendre[ii])\n",
    "    ddEq_11_paper = ddEq_11_paper.subs(sus_legendre[ii])\n",
    "\n",
    "ddEq_11 = (ddEq_11 - ddEq_11.subs(LP2==0))/LP2\n",
    "ddEq_11 = ddEq_11.simplify_full()\n",
    "ddEq_11_paper = (ddEq_11_paper - ddEq_11_paper.subs(LP2==0))/LP2\n",
    "ddEq_11_check = (ddEq_11 - ddEq_11_paper).simplify_full()\n",
    "\n",
    "show(LatexExpr(\"\\\\text{Ecuación (50) }\\\\rightarrow\"), bool(ddEq_11_check==0))\n",
    "\n",
    "show(EN(ddEq_11_check))"
   ]
  }
 ],
 "metadata": {
  "kernelspec": {
   "display_name": "SageMath 9.4",
   "language": "sage",
   "name": "sagemath-9.4"
  },
  "language_info": {
   "codemirror_mode": {
    "name": "ipython",
    "version": 3
   },
   "file_extension": ".py",
   "mimetype": "text/x-python",
   "name": "python",
   "nbconvert_exporter": "python",
   "pygments_lexer": "ipython3",
   "version": "3.9.5"
  }
 },
 "nbformat": 4,
 "nbformat_minor": 4
}
