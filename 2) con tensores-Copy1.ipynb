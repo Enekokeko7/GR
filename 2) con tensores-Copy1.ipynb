{
 "cells": [
  {
   "cell_type": "code",
   "execution_count": 1,
   "metadata": {},
   "outputs": [],
   "source": [
    "%display latex"
   ]
  },
  {
   "cell_type": "code",
   "execution_count": 2,
   "metadata": {},
   "outputs": [],
   "source": [
    "import numpy as np\n",
    "import matplotlib.pyplot as plt\n",
    "import time\n",
    "import os"
   ]
  },
  {
   "cell_type": "code",
   "execution_count": 3,
   "metadata": {},
   "outputs": [],
   "source": [
    "#Define space-time manifold and coordinates\n",
    "\n",
    "n = 3\n",
    "M = Manifold(1+n, 'M', structure='Lorentzian')\n",
    "X.<t,r,th,ph> = M.chart(r\"t r:(0,+oo) th:(0,pi):\\theta ph:(0,2*pi):\\phi\")"
   ]
  },
  {
   "cell_type": "code",
   "execution_count": 4,
   "metadata": {},
   "outputs": [],
   "source": [
    "eps = var('eps', latex_name='\\\\varepsilon')\n",
    "\n",
    "h = function('h')(r,th)\n",
    "k = function('k')(r,th)\n",
    "m = function('m')(r,th)\n",
    "omega = function('omega', latex_name=\"\\\\omega\")(r,th)\n",
    "\n",
    "nu = function('nu', latex_name='\\\\nu')(r)\n",
    "lamb = function('lamb', latex_name='\\\\lambda')(r)\n",
    "\n",
    "Omegae = function('Omegaevalue', latex_name = \"\\\\Omega_e\")(eps)\n",
    "Ne = function('Ne', latex_name = \"N_e\")(r,eps)"
   ]
  },
  {
   "cell_type": "code",
   "execution_count": null,
   "metadata": {},
   "outputs": [],
   "source": [
    "gdd = M.tensor_field(0,2, name='gdd')\n",
    "gdd[0,0] = -exp(nu)\n",
    "gdd[1,1] = exp(lamb)\n",
    "gdd[2,2] = r^2\n",
    "gdd[3,3] = r^2*sin(th)^2\n",
    "\n",
    "K1 = M.tensor_field(0,2, name='K1')\n",
    "K1[0,3] = omega*r^2*sin(th)^2\n",
    "K1[3,0] = omega*r^2*sin(th)^2\n",
    "\n",
    "K2 = M.tensor_field(0,2, name='K2')\n",
    "K2[0,0] = -4*exp(nu)*h + 2*r^2*sin(th)^2*omega^2\n",
    "K2[1,1] = 4*exp(lamb)*m\n",
    "K2[2,2] = 4*k*r^2\n",
    "K2[3,3] = 4*k*r^2*sin(th)^2\n",
    "\n",
    "gedd = M.metric()\n",
    "for i in range(0,n+1):\n",
    "    for j in range(0,n+1):\n",
    "        gedd[i,j] = gdd[i,j] + eps*K1[i,j] + 1/2*eps^2*K2[i,j]\n",
    "\n",
    "geuu = gedd.inverse()\n",
    "ricci = gedd.ricci()\n",
    "s_curv = geuu['^{ab}']*ricci['_ab']\n",
    "eins = ricci - gdd*s_curv/2                                                                             #G_\\mu\\nu e\n",
    "\n",
    "deins = M.tensor_field(0,2,'deins')\n",
    "ddeins = M.tensor_field(0,2,'ddeins')\n",
    "for i in range(0,n+1):\n",
    "    for j in range(0,n+1):\n",
    "        deins[i,j] = diff(eins[i,j].expr(),eps)\n",
    "        ddeins[i,j] = diff(eins[i,j].expr(),eps,eps)"
   ]
  },
  {
   "cell_type": "code",
   "execution_count": null,
   "metadata": {},
   "outputs": [],
   "source": [
    "show(LatexExpr(\"g_{\\\\varepsilon}\\\\rvert_{\\\\varepsilon=0} = \"), gdd[:])\n",
    "show(LatexExpr(\"K_1 = \"), K1[:])\n",
    "show(LatexExpr(\"K_2 = \"), K2[:])\n",
    "show(LatexExpr(\"g_{\\\\varepsilon} = \"), gedd[:])"
   ]
  },
  {
   "cell_type": "code",
   "execution_count": null,
   "metadata": {},
   "outputs": [],
   "source": [
    "#4-velocities of the fluid for any epsilon\n",
    "\n",
    "ue = M.vector_field(name=\"ue\")\n",
    "ue[0] = Ne; ue[1] = 0; ue[2] = 0; ue[3] = Ne*Omegae\n",
    "\n",
    "u = M.vector_field(name=\"u\")\n",
    "u[0] = exp(-nu/2); u[1] =  0; u[2] =  0; u[3] =  0\n",
    "\n",
    "Nevalue = solve(u[0].expr()==ue[0].expr(), Ne)[0].rhs()                                                    #Eq 4.20\n",
    "Omegaevalue = solve(u[3].expr()==ue[3].expr(), Omegae)[0].rhs()                                            #Eq 4.20"
   ]
  },
  {
   "cell_type": "code",
   "execution_count": null,
   "metadata": {},
   "outputs": [],
   "source": [
    "show(LatexExpr(\"N_{\\\\varepsilon}\\\\rvert_{\\\\varepsilon=0} = \"), Nevalue)\n",
    "show(LatexExpr(\"\\\\Omega_{\\\\varepsilon}\\\\rvert_{\\\\varepsilon=0} = \"), Omegaevalue)"
   ]
  },
  {
   "cell_type": "code",
   "execution_count": null,
   "metadata": {},
   "outputs": [],
   "source": [
    "u1 = M.vector_field(name=\"u1\",latex_name=\"u^{(1)}\")\n",
    "u2 = M.vector_field(name=\"u2\",latex_name=\"u^{(2)}\")\n",
    "\n",
    "u10 = function('u10',latex_name=\"u^{(1)0}\")(r)\n",
    "u20 = function('u20',latex_name=\"u^{(2)0}\")(r)\n",
    "\n",
    "Omega1 = function('Omega1', latex_name=\"\\\\Omega^{(1)}\")(eps)\n",
    "Omega2 = function('Omega2', latex_name=\"\\\\Omega^{(2)}\")(eps)\n",
    "\n",
    "s0 = eps == 0\n",
    "s1 = Ne.subs(eps==0) == Nevalue\n",
    "s2 = Omegae.subs(eps==0) == Omegaevalue\n",
    "s3 = diff(Ne,eps).subs(eps==0) == u10\n",
    "s4 = diff(Omegae,eps).subs(eps==0) == Omega1\n",
    "s5 = diff(Ne,eps,eps).subs(eps==0) == u20\n",
    "s6 = diff(Omegae,eps,eps).subs(eps==0) == Omega2\n",
    "\n",
    "sustituciones = (s0,s1,s2,s3,s4,s5,s6)\n",
    "\n",
    "for i in range(0,n+1):\n",
    "    u1[i] = diff(ue[i].expr(),eps).subs(sustituciones)\n",
    "    u2[i] = diff(ue[i].expr(),eps,eps).subs(sustituciones)\n",
    "\n",
    "Ue = ue.down(gedd)\n",
    "geUeue = Ue['_a']*ue['^a']\n",
    "dgeUeue = diff(geUeue.expr(), eps).subs(sustituciones) == 0\n",
    "u10value = solve(dgeUeue, u10)[0].rhs()\n",
    "s7 = u10 == u10value\n",
    "u1.apply_map(lambda cmp: cmp.subs(u10==u10value))                                                          #Eq 4.21\n",
    "\n",
    "ddgeUeue = diff(geUeue.expr(), eps, eps).subs(sustituciones) == 0\n",
    "u20value = solve(ddgeUeue, u20)[0].rhs()\n",
    "s8 = u20 == u20value\n",
    "u2.apply_map(lambda cmp: cmp.subs(u20==u20value).subs(u10==u10value))                                      #Eq 4.22"
   ]
  },
  {
   "cell_type": "code",
   "execution_count": null,
   "metadata": {},
   "outputs": [],
   "source": [
    "show(u1.display())\n",
    "show(u2.display())"
   ]
  },
  {
   "cell_type": "code",
   "execution_count": null,
   "metadata": {},
   "outputs": [],
   "source": [
    "deins.apply_map(lambda cmp: cmp.subs(sustituciones))                                             #d/de(G_\\mu\\nu)|e=0\n",
    "ddeins.apply_map(lambda cmp: cmp.subs(sustituciones))                                        #d^2/de^2(G_\\mu\\nu)|e=0"
   ]
  },
  {
   "cell_type": "code",
   "execution_count": null,
   "metadata": {},
   "outputs": [],
   "source": [
    "Ee = function('Ee', latex_name=\"E_{\\\\varepsilon}\")(r,eps)\n",
    "Pe = function('Pe', latex_name=\"P_{\\\\varepsilon}\")(r,eps)\n",
    "\n",
    "eins0 = M.tensor_field(0,2, 'eins0', latex_name='G_0')\n",
    "Tedd = M.tensor_field(0,2,name='Tedd',latex_name=\"Tdd_{\\\\varepsilon}\")\n",
    "Tdd = M.tensor_field(0,2, 'Tdd')\n",
    "for i in range(0,n+1):\n",
    "    for j in range(0,n+1):\n",
    "        eins0[i,j] = eins[i,j]\n",
    "        Tedd[i,j] = (Ee + Pe)*Ue[i]*Ue[j] + Pe*gedd[i,j]                                                 #T_\\mu\\nu e\n",
    "        Tdd[i,j] = Tedd[i,j]\n",
    "\n",
    "eins0.apply_map(lambda cmp: cmp.subs(sustituciones))                                                       #G_\\mu\\nu\n",
    "Tdd.apply_map(lambda cmp: cmp.subs(sustituciones))                                                         #T_\\mu\\nu"
   ]
  },
  {
   "cell_type": "code",
   "execution_count": null,
   "metadata": {},
   "outputs": [],
   "source": [
    "show(LatexExpr(\"T_{\\\\varepsilon}\\\\rvert_{\\\\varepsilon=0} = \"), Tdd[:])"
   ]
  },
  {
   "cell_type": "code",
   "execution_count": null,
   "metadata": {},
   "outputs": [],
   "source": [
    "kappa = 8*pi\n",
    "E = function('E')(r)\n",
    "P = function('P')(r)\n",
    "\n",
    "s9 = Ee.subs(eps==0) == E\n",
    "s10 = Pe.subs(eps==0) == P\n",
    "sustituciones = (s1,s2,s3,s4,s5,s6,s7,s8,s9,s10)\n",
    "Tdd.apply_map(lambda cmp: cmp.subs(sustituciones))\n",
    "E_tt = solve(eins0[0,0].expr()==kappa*Tdd[0,0].expr(),E)[0].rhs()                                            #Eq 3.7\n",
    "P_rr = solve(eins0[1,1].expr()==kappa*Tdd[1,1].expr(),P)[0].rhs()                                            #Eq 3.8\n",
    "P_thth = solve(eins0[2,2].expr()==kappa*Tdd[2,2].expr(),P)[0].rhs()\n",
    "P_phph = solve(eins0[3,3].expr()==kappa*Tdd[3,3].expr(),P)[0].rhs()\n",
    "ddnu = solve(P_rr == P_thth, diff(nu,r,r))[0].rhs()                                                          #Eq 3.9"
   ]
  },
  {
   "cell_type": "code",
   "execution_count": null,
   "metadata": {},
   "outputs": [],
   "source": [
    "show(LatexExpr(\"E = \"), E_tt)\n",
    "show(LatexExpr(\"P_{rr} = \"), P_rr)\n",
    "show(LatexExpr(\"\\\\nu'' = \"), ddnu)"
   ]
  },
  {
   "cell_type": "code",
   "execution_count": null,
   "metadata": {},
   "outputs": [],
   "source": [
    "dlamb = solve(E==E_tt,diff(lamb,r))[0].rhs()                                                                 #Eq 3.10\n",
    "dnu = solve(P==P_rr,diff(nu,r))[0].rhs()                                                                     #Eq 3.11"
   ]
  },
  {
   "cell_type": "code",
   "execution_count": null,
   "metadata": {},
   "outputs": [],
   "source": [
    "show(LatexExpr(\"\\\\lambda' = \"), dlamb)\n",
    "show(LatexExpr(\"\\\\nu' = \"), dnu)"
   ]
  },
  {
   "cell_type": "code",
   "execution_count": null,
   "metadata": {},
   "outputs": [],
   "source": [
    "h0 = function('h0', latex_name=\"h_0\")(r,th)\n",
    "k0 = function('k0', latex_name=\"k_0\")(r,th)\n",
    "m0 = function('m0', latex_name=\"m_0\")(r,th)\n",
    "\n",
    "h2 = function('h2', latex_name=\"h_2\")(r,th)\n",
    "k2 = function('k2', latex_name=\"k_2\")(r,th)\n",
    "m2 = function('m2', latex_name=\"m_2\")(r,th)\n",
    "\n",
    "m = m0 + m2*(3*cos(th)^2-1)/2\n",
    "k = k0 + k2*(3*cos(th)^2-1)/2\n",
    "h = h0 + h2*(3*cos(th)^2-1)/2"
   ]
  },
  {
   "cell_type": "code",
   "execution_count": null,
   "metadata": {},
   "outputs": [],
   "source": [
    "E1 = function('E1', latex_name='E^{(1)}')(r)\n",
    "E2 = function('E2', latex_name='E^{(2)}')(r)\n",
    "P1 = function('P1', latex_name='P^{(1)}')(r)\n",
    "P2 = function('P2', latex_name='P^{(2)}')(r)\n",
    "\n",
    "s11 = diff(Ee,eps).subs(eps==0) == E1\n",
    "s12 = diff(Ee,eps,eps).subs(eps==0) == E2\n",
    "s13 = diff(Pe,eps).subs(eps==0) == P1\n",
    "s14 = diff(Pe,eps,eps).subs(eps==0) == P2\n",
    "\n",
    "sustituciones = (s0,s1,s2,s3,s4,s5,s6,s7,s8,s9,s10,s11,s12,s13,s14)"
   ]
  },
  {
   "cell_type": "code",
   "execution_count": null,
   "metadata": {},
   "outputs": [],
   "source": [
    "dTdd = M.tensor_field(0,2,'dTdd')\n",
    "ddTdd = M.tensor_field(0,2,'ddTdd')\n",
    "for i in range(0,n+1):\n",
    "    for j in range(0,n+1):\n",
    "        dTdd[i,j] = diff(Tedd[i,j].expr(),eps)\n",
    "        ddTdd[i,j] = diff(Tedd[i,j].expr(),eps,eps)\n",
    "dTdd.apply_map(lambda cmp: cmp.subs(sustituciones))                                              #d/de(T_\\mu\\nu)|e=0\n",
    "ddTdd.apply_map(lambda cmp: cmp.subs(sustituciones))                                         #d^2/de^2(T_\\mu\\nu)|e=0"
   ]
  },
  {
   "cell_type": "code",
   "execution_count": null,
   "metadata": {},
   "outputs": [],
   "source": [
    "# Calculamos ahora la primera derivada de la ecuación\n",
    "\n",
    "show(deins[1,1],LatexExpr(\" = \"), kappa*dTdd[1,1])\n",
    "show(deins[2,2],LatexExpr(\" = \"), kappa*dTdd[2,2])\n",
    "show(deins[3,3],LatexExpr(\" = \"), kappa*dTdd[3,3])\n",
    "\n",
    "P1 = solve(deins[1,1].expr() == kappa*dTdd[1,1].expr(),P1)[0].rhs()\n",
    "\n",
    "show(LatexExpr(\"\\\\text{De aquí sacamos }P^{1}(r)\\\\rightarrow\\\\text{$P^1(r)$ = }\"), P1)"
   ]
  },
  {
   "cell_type": "code",
   "execution_count": null,
   "metadata": {
    "scrolled": true
   },
   "outputs": [],
   "source": [
    "show(deins[0,0],LatexExpr(\" = \"), kappa*dTdd[0,0])\n",
    "\n",
    "E1 = solve(deins[0,0].expr() == kappa*dTdd[0,0].expr(),E1)[0].rhs()\n",
    "E1 = E1.subs(sustituciones)\n",
    "show(LatexExpr(\"\\\\text{De aquí sacamos }E^{1}(r)\\\\rightarrow\\\\text{$E^1(r)$ = }\"), E1)"
   ]
  },
  {
   "cell_type": "code",
   "execution_count": null,
   "metadata": {},
   "outputs": [],
   "source": [
    "show(deins[0,3].expr() == kappa*dTdd[0,3].expr())                                                           #Eq 48"
   ]
  },
  {
   "cell_type": "code",
   "execution_count": null,
   "metadata": {},
   "outputs": [],
   "source": [
    "# Para la segunda derivada tenemos\n",
    "\n",
    "show(ddeins[0,0].expr(),LatexExpr(\" = \"), kappa*ddTdd[0,0].expr())"
   ]
  },
  {
   "cell_type": "code",
   "execution_count": null,
   "metadata": {},
   "outputs": [],
   "source": [
    "show(ddeins[1,1],LatexExpr(\" = \"), kappa*ddTdd[1,1])"
   ]
  },
  {
   "cell_type": "code",
   "execution_count": null,
   "metadata": {},
   "outputs": [],
   "source": [
    "show(ddeins[2,2],LatexExpr(\" = \"), kappa*ddTdd[2,2])"
   ]
  },
  {
   "cell_type": "code",
   "execution_count": null,
   "metadata": {},
   "outputs": [],
   "source": [
    "show(ddeins[3,3],LatexExpr(\" = \"), kappa*ddTdd[3,3])"
   ]
  },
  {
   "cell_type": "code",
   "execution_count": null,
   "metadata": {},
   "outputs": [],
   "source": [
    "show(ddeins[0,3],LatexExpr(\" = \"), kappa*ddTdd[0,3])"
   ]
  },
  {
   "cell_type": "code",
   "execution_count": null,
   "metadata": {},
   "outputs": [],
   "source": [
    "show(ddeins[1,2],LatexExpr(\" = \"), kappa*ddTdd[1,2])"
   ]
  },
  {
   "cell_type": "code",
   "execution_count": null,
   "metadata": {},
   "outputs": [],
   "source": [
    "# Aplicamos barotropic EoS\n",
    "# Utilizando (6.11) de Reina con P1=0 y E1=0\n",
    "E2*diff(P,r) - P2*diff(E,r) == 0"
   ]
  },
  {
   "cell_type": "code",
   "execution_count": null,
   "metadata": {},
   "outputs": [],
   "source": [
    "fm(r) = m0 + m2*(3*cos(th)^2-1)/2\n",
    "fk(r) = k0 + k2*(3*cos(th)^2-1)/2\n",
    "fh(r) = h0 + h2*(3*cos(th)^2-1)/2\n",
    "\n",
    "ddeins.apply_map(lambda cmp: cmp.substitute_function(function('h'), fh))\n",
    "ddeins.apply_map(lambda cmp: cmp.substitute_function(function('m'), fm))\n",
    "ddeins.apply_map(lambda cmp: cmp.substitute_function(function('k'), fk))"
   ]
  }
 ],
 "metadata": {
  "kernelspec": {
   "display_name": "SageMath 9.4",
   "language": "sage",
   "name": "sagemath-9.4"
  },
  "language_info": {
   "codemirror_mode": {
    "name": "ipython",
    "version": 3
   },
   "file_extension": ".py",
   "mimetype": "text/x-python",
   "name": "python",
   "nbconvert_exporter": "python",
   "pygments_lexer": "ipython3",
   "version": "3.9.5"
  }
 },
 "nbformat": 4,
 "nbformat_minor": 4
}
